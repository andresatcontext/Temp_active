{
 "cells": [
  {
   "cell_type": "code",
   "execution_count": null,
   "metadata": {},
   "outputs": [],
   "source": []
  },
  {
   "cell_type": "code",
   "execution_count": null,
   "metadata": {},
   "outputs": [],
   "source": []
  },
  {
   "cell_type": "code",
   "execution_count": 1,
   "metadata": {},
   "outputs": [
    {
     "name": "stderr",
     "output_type": "stream",
     "text": [
      "2020-12-15 12:17:02,822\tINFO worker.py:634 -- Connecting to existing Ray cluster at address: 192.168.8.51:6379\n",
      "/home/reminiz/ReminizML2/python_env/lib/python3.7/site-packages/tensorflow/python/framework/dtypes.py:526: FutureWarning: Passing (type, 1) or '1type' as a synonym of type is deprecated; in a future version of numpy, it will be understood as (type, (1,)) / '(1,)type'.\n",
      "  _np_qint8 = np.dtype([(\"qint8\", np.int8, 1)])\n",
      "/home/reminiz/ReminizML2/python_env/lib/python3.7/site-packages/tensorflow/python/framework/dtypes.py:527: FutureWarning: Passing (type, 1) or '1type' as a synonym of type is deprecated; in a future version of numpy, it will be understood as (type, (1,)) / '(1,)type'.\n",
      "  _np_quint8 = np.dtype([(\"quint8\", np.uint8, 1)])\n",
      "/home/reminiz/ReminizML2/python_env/lib/python3.7/site-packages/tensorflow/python/framework/dtypes.py:528: FutureWarning: Passing (type, 1) or '1type' as a synonym of type is deprecated; in a future version of numpy, it will be understood as (type, (1,)) / '(1,)type'.\n",
      "  _np_qint16 = np.dtype([(\"qint16\", np.int16, 1)])\n",
      "/home/reminiz/ReminizML2/python_env/lib/python3.7/site-packages/tensorflow/python/framework/dtypes.py:529: FutureWarning: Passing (type, 1) or '1type' as a synonym of type is deprecated; in a future version of numpy, it will be understood as (type, (1,)) / '(1,)type'.\n",
      "  _np_quint16 = np.dtype([(\"quint16\", np.uint16, 1)])\n",
      "/home/reminiz/ReminizML2/python_env/lib/python3.7/site-packages/tensorflow/python/framework/dtypes.py:530: FutureWarning: Passing (type, 1) or '1type' as a synonym of type is deprecated; in a future version of numpy, it will be understood as (type, (1,)) / '(1,)type'.\n",
      "  _np_qint32 = np.dtype([(\"qint32\", np.int32, 1)])\n",
      "/home/reminiz/ReminizML2/python_env/lib/python3.7/site-packages/tensorflow/python/framework/dtypes.py:535: FutureWarning: Passing (type, 1) or '1type' as a synonym of type is deprecated; in a future version of numpy, it will be understood as (type, (1,)) / '(1,)type'.\n",
      "  np_resource = np.dtype([(\"resource\", np.ubyte, 1)])\n"
     ]
    },
    {
     "name": "stdout",
     "output_type": "stream",
     "text": [
      "{'ACTIVE_ALGO': {'LOSSLEARNING': 1.0}, 'DATASET': {'height_shift_range': 4, 'horizontal_flip': True, 'width_shift_range': 4}, 'NETWORK': {'CLASSES': ['plane', 'car', 'bird', 'cat', 'deer', 'dog', 'frog', 'horse', 'ship', 'truck'], 'INPUT_SIZE': 32, 'MARGIN': 1.0, 'embedding_size': 128}, 'PROJECT': {'Backbone': 'resnet18', 'dataset_name': 'CIFAR', 'group': 'Classif_all_data_0912', 'group_dir': '/mnt/Ressources/Andres/Temp_active/runs/Classif_all_data_0912', 'project': 'Active_Learning_CIFAR', 'project_dir': '/mnt/Ressources/Andres/Temp_active/runs', 'source': 'CIFAR'}, 'RUNS': {'ADDENDUM': 1000, 'CYCLES': 1, 'SUBSET': -1, 'TRIALS': 1, 'test_each': 1}, 'TEST': {'batch_size': 128}, 'TRAIN': {'Data_augementation': True, 'EPOCH_SLIT': 20, 'EPOCH_WARMUP': 2, 'EPOCH_WHOLE': 40, 'MILESTONES': [25, 35], 'batch_size': 128, 'gamma': 0.1, 'lr': 0.001, 'start_epoch': 0, 'transfer_weight_path': False, 'w_c_loss': 1.0, 'w_l_loss': 0, 'wdecay': 0.998}}\n"
     ]
    }
   ],
   "source": [
    "import ray\n",
    "ray.init(address=\"auto\", ignore_reinit_error=True)\n",
    "\n",
    "# load defaulft config\n",
    "import yaml\n",
    "import os\n",
    "import time\n",
    "import pandas as pd\n",
    "import random\n",
    "\n",
    "config_path = './configs/default_cifar.yml'\n",
    "\n",
    "with open(config_path) as file:\n",
    "    # The FullLoader parameter handles the conversion from YAML\n",
    "    # scalar values to Python the dictionary format\n",
    "    config = yaml.load(file, Loader=yaml.FullLoader)\n",
    "\n",
    "# create base dir and gr\n",
    "if os.path.exists(config[\"PROJECT\"][\"project_dir\"]) is False:\n",
    "    os.mkdir(config[\"PROJECT\"][\"project_dir\"])\n",
    "\n",
    "if os.path.exists(config[\"PROJECT\"][\"group_dir\"]) is False:\n",
    "    os.mkdir(config[\"PROJECT\"][\"group_dir\"])\n",
    "    \n",
    "    \n",
    "# Get the data to annotate\n",
    "\n",
    "#############################################################################################\n",
    "# LOAD DATA\n",
    "#############################################################################################\n",
    "from data_utils import CIFAR10Data\n",
    "# Load data\n",
    "cifar10_data = CIFAR10Data()\n",
    "num_classes = len(cifar10_data.classes)\n",
    "x_train, y_train, x_test, y_test = cifar10_data.get_data(normalize_data=False)\n",
    "\n",
    "indices = list(range(len(x_train)))\n",
    "random.shuffle(indices)\n",
    "labeled_set = indices\n",
    "unlabeled_set = []#indices[config[\"RUNS\"][\"ADDENDUM\"] :]\n",
    "\n",
    "\n",
    "# test with all the images\n",
    "NUM_IMAGES_TEST = len(x_test)\n",
    "# Initialize a labeled dataset by randomly sampling K=ADDENDUM=1,000 data points from the entire dataset.\n",
    "test_set = list(range(NUM_IMAGES_TEST))\n",
    "\n",
    "config[\"NETWORK\"][\"INPUT_SIZE\"] =  x_train[0].shape[0]\n",
    "config[\"NETWORK\"][\"CLASSES\"] = cifar10_data.classes\n",
    "\n",
    "print(config)\n",
    "\n",
    "\n",
    "from train_agent_cifar_keras import Active_Learning_train\n",
    "#from test_agent_cifar_all import Active_Learning_test_all\n",
    "#from test_agent_cifar_stage import Active_Learning_test_stage\n",
    "#from inference_agent_cifar import Active_Learning_inference\n",
    "\n",
    "num_run = 100\n",
    "initial_weight_path = False\n",
    "\n",
    "\n",
    "#NetworkActor =  Active_Learning_test_all.remote(config)\n",
    "#NetworkActor.evaluate.remote()\n",
    "\n"
   ]
  },
  {
   "cell_type": "code",
   "execution_count": 2,
   "metadata": {},
   "outputs": [
    {
     "name": "stderr",
     "output_type": "stream",
     "text": [
      "\u001b[2m\u001b[36m(pid=32657, ip=192.168.8.52)\u001b[0m /home/reminiz/ReminizML2/python_env/lib/python3.7/site-packages/tensorflow/python/framework/dtypes.py:526: FutureWarning: Passing (type, 1) or '1type' as a synonym of type is deprecated; in a future version of numpy, it will be understood as (type, (1,)) / '(1,)type'.\n",
      "\u001b[2m\u001b[36m(pid=32657, ip=192.168.8.52)\u001b[0m   _np_qint8 = np.dtype([(\"qint8\", np.int8, 1)])\n",
      "\u001b[2m\u001b[36m(pid=32657, ip=192.168.8.52)\u001b[0m /home/reminiz/ReminizML2/python_env/lib/python3.7/site-packages/tensorflow/python/framework/dtypes.py:527: FutureWarning: Passing (type, 1) or '1type' as a synonym of type is deprecated; in a future version of numpy, it will be understood as (type, (1,)) / '(1,)type'.\n",
      "\u001b[2m\u001b[36m(pid=32657, ip=192.168.8.52)\u001b[0m   _np_quint8 = np.dtype([(\"quint8\", np.uint8, 1)])\n",
      "\u001b[2m\u001b[36m(pid=32657, ip=192.168.8.52)\u001b[0m /home/reminiz/ReminizML2/python_env/lib/python3.7/site-packages/tensorflow/python/framework/dtypes.py:528: FutureWarning: Passing (type, 1) or '1type' as a synonym of type is deprecated; in a future version of numpy, it will be understood as (type, (1,)) / '(1,)type'.\n",
      "\u001b[2m\u001b[36m(pid=32657, ip=192.168.8.52)\u001b[0m   _np_qint16 = np.dtype([(\"qint16\", np.int16, 1)])\n",
      "\u001b[2m\u001b[36m(pid=32657, ip=192.168.8.52)\u001b[0m /home/reminiz/ReminizML2/python_env/lib/python3.7/site-packages/tensorflow/python/framework/dtypes.py:529: FutureWarning: Passing (type, 1) or '1type' as a synonym of type is deprecated; in a future version of numpy, it will be understood as (type, (1,)) / '(1,)type'.\n",
      "\u001b[2m\u001b[36m(pid=32657, ip=192.168.8.52)\u001b[0m   _np_quint16 = np.dtype([(\"quint16\", np.uint16, 1)])\n",
      "\u001b[2m\u001b[36m(pid=32657, ip=192.168.8.52)\u001b[0m /home/reminiz/ReminizML2/python_env/lib/python3.7/site-packages/tensorflow/python/framework/dtypes.py:530: FutureWarning: Passing (type, 1) or '1type' as a synonym of type is deprecated; in a future version of numpy, it will be understood as (type, (1,)) / '(1,)type'.\n",
      "\u001b[2m\u001b[36m(pid=32657, ip=192.168.8.52)\u001b[0m   _np_qint32 = np.dtype([(\"qint32\", np.int32, 1)])\n",
      "\u001b[2m\u001b[36m(pid=32657, ip=192.168.8.52)\u001b[0m /home/reminiz/ReminizML2/python_env/lib/python3.7/site-packages/tensorflow/python/framework/dtypes.py:535: FutureWarning: Passing (type, 1) or '1type' as a synonym of type is deprecated; in a future version of numpy, it will be understood as (type, (1,)) / '(1,)type'.\n",
      "\u001b[2m\u001b[36m(pid=32657, ip=192.168.8.52)\u001b[0m   np_resource = np.dtype([(\"resource\", np.ubyte, 1)])\n",
      "\u001b[2m\u001b[36m(pid=32657, ip=192.168.8.52)\u001b[0m 2020-12-15 12:17:11.920561: I tensorflow/core/platform/cpu_feature_guard.cc:141] Your CPU supports instructions that this TensorFlow binary was not compiled to use: AVX2 FMA\n",
      "\u001b[2m\u001b[36m(pid=32657, ip=192.168.8.52)\u001b[0m 2020-12-15 12:17:11.948283: I tensorflow/core/platform/profile_utils/cpu_utils.cc:94] CPU Frequency: 3300050000 Hz\n",
      "\u001b[2m\u001b[36m(pid=32657, ip=192.168.8.52)\u001b[0m 2020-12-15 12:17:11.949378: I tensorflow/compiler/xla/service/service.cc:150] XLA service 0x62f04e0 executing computations on platform Host. Devices:\n",
      "\u001b[2m\u001b[36m(pid=32657, ip=192.168.8.52)\u001b[0m 2020-12-15 12:17:11.949425: I tensorflow/compiler/xla/service/service.cc:158]   StreamExecutor device (0): <undefined>, <undefined>\n",
      "\u001b[2m\u001b[36m(pid=32657, ip=192.168.8.52)\u001b[0m 2020-12-15 12:17:12.224796: I tensorflow/compiler/xla/service/service.cc:150] XLA service 0x632c7a0 executing computations on platform CUDA. Devices:\n",
      "\u001b[2m\u001b[36m(pid=32657, ip=192.168.8.52)\u001b[0m 2020-12-15 12:17:12.224853: I tensorflow/compiler/xla/service/service.cc:158]   StreamExecutor device (0): TITAN RTX, Compute Capability 7.5\n",
      "\u001b[2m\u001b[36m(pid=32657, ip=192.168.8.52)\u001b[0m 2020-12-15 12:17:12.225055: I tensorflow/core/common_runtime/gpu/gpu_device.cc:1433] Found device 0 with properties: \n",
      "\u001b[2m\u001b[36m(pid=32657, ip=192.168.8.52)\u001b[0m name: TITAN RTX major: 7 minor: 5 memoryClockRate(GHz): 1.77\n",
      "\u001b[2m\u001b[36m(pid=32657, ip=192.168.8.52)\u001b[0m pciBusID: 0000:04:00.0\n",
      "\u001b[2m\u001b[36m(pid=32657, ip=192.168.8.52)\u001b[0m totalMemory: 23.65GiB freeMemory: 23.48GiB\n",
      "\u001b[2m\u001b[36m(pid=32657, ip=192.168.8.52)\u001b[0m 2020-12-15 12:17:12.225084: I tensorflow/core/common_runtime/gpu/gpu_device.cc:1512] Adding visible gpu devices: 0\n",
      "\u001b[2m\u001b[36m(pid=32657, ip=192.168.8.52)\u001b[0m 2020-12-15 12:17:12.228651: I tensorflow/core/common_runtime/gpu/gpu_device.cc:984] Device interconnect StreamExecutor with strength 1 edge matrix:\n",
      "\u001b[2m\u001b[36m(pid=32657, ip=192.168.8.52)\u001b[0m 2020-12-15 12:17:12.228698: I tensorflow/core/common_runtime/gpu/gpu_device.cc:990]      0 \n",
      "\u001b[2m\u001b[36m(pid=32657, ip=192.168.8.52)\u001b[0m 2020-12-15 12:17:12.228711: I tensorflow/core/common_runtime/gpu/gpu_device.cc:1003] 0:   N \n",
      "\u001b[2m\u001b[36m(pid=32657, ip=192.168.8.52)\u001b[0m 2020-12-15 12:17:12.228859: I tensorflow/core/common_runtime/gpu/gpu_device.cc:1115] Created TensorFlow device (/job:localhost/replica:0/task:0/device:GPU:0 with 22843 MB memory) -> physical GPU (device: 0, name: TITAN RTX, pci bus id: 0000:04:00.0, compute capability: 7.5)\n",
      "\u001b[2m\u001b[36m(pid=32657, ip=192.168.8.52)\u001b[0m /home/reminiz/ReminizML2/python_env/lib/python3.7/site-packages/tensorboard/compat/tensorflow_stub/dtypes.py:541: FutureWarning: Passing (type, 1) or '1type' as a synonym of type is deprecated; in a future version of numpy, it will be understood as (type, (1,)) / '(1,)type'.\n",
      "\u001b[2m\u001b[36m(pid=32657, ip=192.168.8.52)\u001b[0m   _np_qint8 = np.dtype([(\"qint8\", np.int8, 1)])\n",
      "\u001b[2m\u001b[36m(pid=32657, ip=192.168.8.52)\u001b[0m /home/reminiz/ReminizML2/python_env/lib/python3.7/site-packages/tensorboard/compat/tensorflow_stub/dtypes.py:542: FutureWarning: Passing (type, 1) or '1type' as a synonym of type is deprecated; in a future version of numpy, it will be understood as (type, (1,)) / '(1,)type'.\n",
      "\u001b[2m\u001b[36m(pid=32657, ip=192.168.8.52)\u001b[0m   _np_quint8 = np.dtype([(\"quint8\", np.uint8, 1)])\n",
      "\u001b[2m\u001b[36m(pid=32657, ip=192.168.8.52)\u001b[0m /home/reminiz/ReminizML2/python_env/lib/python3.7/site-packages/tensorboard/compat/tensorflow_stub/dtypes.py:543: FutureWarning: Passing (type, 1) or '1type' as a synonym of type is deprecated; in a future version of numpy, it will be understood as (type, (1,)) / '(1,)type'.\n",
      "\u001b[2m\u001b[36m(pid=32657, ip=192.168.8.52)\u001b[0m   _np_qint16 = np.dtype([(\"qint16\", np.int16, 1)])\n",
      "\u001b[2m\u001b[36m(pid=32657, ip=192.168.8.52)\u001b[0m /home/reminiz/ReminizML2/python_env/lib/python3.7/site-packages/tensorboard/compat/tensorflow_stub/dtypes.py:544: FutureWarning: Passing (type, 1) or '1type' as a synonym of type is deprecated; in a future version of numpy, it will be understood as (type, (1,)) / '(1,)type'.\n",
      "\u001b[2m\u001b[36m(pid=32657, ip=192.168.8.52)\u001b[0m   _np_quint16 = np.dtype([(\"quint16\", np.uint16, 1)])\n",
      "\u001b[2m\u001b[36m(pid=32657, ip=192.168.8.52)\u001b[0m /home/reminiz/ReminizML2/python_env/lib/python3.7/site-packages/tensorboard/compat/tensorflow_stub/dtypes.py:545: FutureWarning: Passing (type, 1) or '1type' as a synonym of type is deprecated; in a future version of numpy, it will be understood as (type, (1,)) / '(1,)type'.\n",
      "\u001b[2m\u001b[36m(pid=32657, ip=192.168.8.52)\u001b[0m   _np_qint32 = np.dtype([(\"qint32\", np.int32, 1)])\n",
      "\u001b[2m\u001b[36m(pid=32657, ip=192.168.8.52)\u001b[0m /home/reminiz/ReminizML2/python_env/lib/python3.7/site-packages/tensorboard/compat/tensorflow_stub/dtypes.py:550: FutureWarning: Passing (type, 1) or '1type' as a synonym of type is deprecated; in a future version of numpy, it will be understood as (type, (1,)) / '(1,)type'.\n",
      "\u001b[2m\u001b[36m(pid=32657, ip=192.168.8.52)\u001b[0m   np_resource = np.dtype([(\"resource\", np.ubyte, 1)])\n",
      "\u001b[2m\u001b[36m(pid=32657, ip=192.168.8.52)\u001b[0m wandb: Tracking run with wandb version 0.8.36\n",
      "\u001b[2m\u001b[36m(pid=32657, ip=192.168.8.52)\u001b[0m wandb: Wandb version 0.10.12 is available!  To upgrade, please run:\n",
      "\u001b[2m\u001b[36m(pid=32657, ip=192.168.8.52)\u001b[0m wandb:  $ pip install wandb --upgrade\n",
      "\u001b[2m\u001b[36m(pid=32657, ip=192.168.8.52)\u001b[0m wandb: Run data is saved locally in ../../../Trainings/wandb/wandb/run-20201215_111712-2dapoy7n\n",
      "\u001b[2m\u001b[36m(pid=32657, ip=192.168.8.52)\u001b[0m wandb: Syncing run Train_100\n",
      "\u001b[2m\u001b[36m(pid=32657, ip=192.168.8.52)\u001b[0m wandb: ⭐️ View project at http://192.168.8.51:8080/reminiz/Active_Learning_CIFAR\n",
      "\u001b[2m\u001b[36m(pid=32657, ip=192.168.8.52)\u001b[0m wandb: 🚀 View run at http://192.168.8.51:8080/reminiz/Active_Learning_CIFAR/runs/2dapoy7n\n",
      "\u001b[2m\u001b[36m(pid=32657, ip=192.168.8.52)\u001b[0m wandb: Run `wandb off` to turn off syncing.\n",
      "\u001b[2m\u001b[36m(pid=32657, ip=192.168.8.52)\u001b[0m \n",
      "\u001b[2m\u001b[36m(pid=32657, ip=192.168.8.52)\u001b[0m WARNING:tensorflow:From /home/reminiz/ReminizML2/python_env/lib/python3.7/site-packages/tensorflow/python/ops/resource_variable_ops.py:435: colocate_with (from tensorflow.python.framework.ops) is deprecated and will be removed in a future version.\n",
      "\u001b[2m\u001b[36m(pid=32657, ip=192.168.8.52)\u001b[0m Instructions for updating:\n",
      "\u001b[2m\u001b[36m(pid=32657, ip=192.168.8.52)\u001b[0m Colocations handled automatically by placer.\n",
      "\u001b[2m\u001b[36m(pid=32657, ip=192.168.8.52)\u001b[0m WARNING:tensorflow:Output \"Embedding\" missing from loss dictionary. We assume this was done on purpose. The fit and evaluate APIs will not be expecting any data to be passed to \"Embedding\".\n",
      "\u001b[2m\u001b[36m(pid=32657, ip=192.168.8.52)\u001b[0m WARNING:tensorflow:Output \"Embedding\" missing from loss dictionary. We assume this was done on purpose. The fit and evaluate APIs will not be expecting any data to be passed to \"Embedding\".\n",
      "\u001b[2m\u001b[36m(pid=32657, ip=192.168.8.52)\u001b[0m 2020-12-15 12:17:22,562\tINFO worker.py:634 -- Connecting to existing Ray cluster at address: 192.168.8.51:6379\n",
      "\u001b[2m\u001b[36m(pid=32657, ip=192.168.8.52)\u001b[0m 2020-12-15 12:17:22,563\tERROR worker.py:643 -- Calling ray.init() again after it has already been called.\n"
     ]
    },
    {
     "name": "stdout",
     "output_type": "stream",
     "text": [
      "\u001b[2m\u001b[36m(pid=32657, ip=192.168.8.52)\u001b[0m \u001b[1;36mTrain_Stage_100\u001b[0;0m Init done\n"
     ]
    }
   ],
   "source": [
    "NetworkActor =  Active_Learning_train.remote(config, labeled_set, test_set,  num_run, initial_weight_path, resume=False)"
   ]
  },
  {
   "cell_type": "code",
   "execution_count": null,
   "metadata": {},
   "outputs": [],
   "source": []
  },
  {
   "cell_type": "code",
   "execution_count": 3,
   "metadata": {},
   "outputs": [
    {
     "name": "stdout",
     "output_type": "stream",
     "text": [
      "\u001b[2m\u001b[36m(pid=32657, ip=192.168.8.52)\u001b[0m \u001b[1;36mTrain_Stage_100\u001b[0;0m Start training\n"
     ]
    },
    {
     "name": "stderr",
     "output_type": "stream",
     "text": [
      "\u001b[2m\u001b[36m(pid=32657, ip=192.168.8.52)\u001b[0m WARNING:tensorflow:From /home/reminiz/ReminizML2/python_env/lib/python3.7/site-packages/tensorflow/python/ops/math_ops.py:3066: to_int32 (from tensorflow.python.ops.math_ops) is deprecated and will be removed in a future version.\n",
      "\u001b[2m\u001b[36m(pid=32657, ip=192.168.8.52)\u001b[0m Instructions for updating:\n",
      "\u001b[2m\u001b[36m(pid=32657, ip=192.168.8.52)\u001b[0m Use tf.cast instead.\n"
     ]
    },
    {
     "name": "stdout",
     "output_type": "stream",
     "text": [
      "\u001b[2m\u001b[36m(pid=32657, ip=192.168.8.52)\u001b[0m Epoch 1/60\n"
     ]
    },
    {
     "name": "stderr",
     "output_type": "stream",
     "text": [
      "\u001b[2m\u001b[36m(pid=32657, ip=192.168.8.52)\u001b[0m 2020-12-15 12:19:31.424147: I tensorflow/stream_executor/dso_loader.cc:152] successfully opened CUDA library libcublas.so.10.0 locally\n"
     ]
    },
    {
     "name": "stdout",
     "output_type": "stream",
     "text": [
      "\u001b[2m\u001b[36m(pid=32657, ip=192.168.8.52)\u001b[0m  - 38s - loss: 1.7374 - Classifier_loss: 1.3441 - l_pred_w_loss: 0.3934 - l_pred_s_loss: 0.3934 - Classifier_categorical_accuracy: 0.5214 - l_pred_w_MAE_Lossnet: 2.6369 - l_pred_s_MAE_Lossnet: 2.6369\n",
      "\u001b[2m\u001b[36m(pid=32657, ip=192.168.8.52)\u001b[0m Epoch 2/60\n",
      "\u001b[2m\u001b[36m(pid=32657, ip=192.168.8.52)\u001b[0m  - 33s - loss: 1.1670 - Classifier_loss: 0.8587 - l_pred_w_loss: 0.3084 - l_pred_s_loss: 0.3084 - Classifier_categorical_accuracy: 0.6965 - l_pred_w_MAE_Lossnet: 4.7244 - l_pred_s_MAE_Lossnet: 4.7244\n",
      "\u001b[2m\u001b[36m(pid=32657, ip=192.168.8.52)\u001b[0m Epoch 3/60\n",
      "\u001b[2m\u001b[36m(pid=32657, ip=192.168.8.52)\u001b[0m  - 33s - loss: 0.9620 - Classifier_loss: 0.7006 - l_pred_w_loss: 0.2614 - l_pred_s_loss: 0.2614 - Classifier_categorical_accuracy: 0.7560 - l_pred_w_MAE_Lossnet: 5.6481 - l_pred_s_MAE_Lossnet: 5.6481\n",
      "\u001b[2m\u001b[36m(pid=32657, ip=192.168.8.52)\u001b[0m Epoch 4/60\n",
      "\u001b[2m\u001b[36m(pid=32657, ip=192.168.8.52)\u001b[0m  - 34s - loss: 0.8398 - Classifier_loss: 0.6090 - l_pred_w_loss: 0.2309 - l_pred_s_loss: 0.2309 - Classifier_categorical_accuracy: 0.7894 - l_pred_w_MAE_Lossnet: 5.6954 - l_pred_s_MAE_Lossnet: 5.6954\n",
      "\u001b[2m\u001b[36m(pid=32657, ip=192.168.8.52)\u001b[0m Epoch 5/60\n",
      "\u001b[2m\u001b[36m(pid=32657, ip=192.168.8.52)\u001b[0m  - 34s - loss: 0.7603 - Classifier_loss: 0.5500 - l_pred_w_loss: 0.2104 - l_pred_s_loss: 0.2104 - Classifier_categorical_accuracy: 0.8086 - l_pred_w_MAE_Lossnet: 5.3044 - l_pred_s_MAE_Lossnet: 5.3044\n",
      "\u001b[2m\u001b[36m(pid=32657, ip=192.168.8.52)\u001b[0m Epoch 6/60\n",
      "\u001b[2m\u001b[36m(pid=32657, ip=192.168.8.52)\u001b[0m  - 34s - loss: 0.6895 - Classifier_loss: 0.5039 - l_pred_w_loss: 0.1855 - l_pred_s_loss: 0.1855 - Classifier_categorical_accuracy: 0.8260 - l_pred_w_MAE_Lossnet: 5.2269 - l_pred_s_MAE_Lossnet: 5.2269\n",
      "\u001b[2m\u001b[36m(pid=32657, ip=192.168.8.52)\u001b[0m Epoch 7/60\n",
      "\u001b[2m\u001b[36m(pid=32657, ip=192.168.8.52)\u001b[0m  - 34s - loss: 0.6423 - Classifier_loss: 0.4665 - l_pred_w_loss: 0.1759 - l_pred_s_loss: 0.1759 - Classifier_categorical_accuracy: 0.8395 - l_pred_w_MAE_Lossnet: 4.9515 - l_pred_s_MAE_Lossnet: 4.9515\n",
      "\u001b[2m\u001b[36m(pid=32657, ip=192.168.8.52)\u001b[0m Epoch 8/60\n",
      "\u001b[2m\u001b[36m(pid=32657, ip=192.168.8.52)\u001b[0m  - 34s - loss: 0.5887 - Classifier_loss: 0.4255 - l_pred_w_loss: 0.1632 - l_pred_s_loss: 0.1632 - Classifier_categorical_accuracy: 0.8531 - l_pred_w_MAE_Lossnet: 4.9997 - l_pred_s_MAE_Lossnet: 4.9997\n",
      "\u001b[2m\u001b[36m(pid=32657, ip=192.168.8.52)\u001b[0m Epoch 9/60\n",
      "\u001b[2m\u001b[36m(pid=32657, ip=192.168.8.52)\u001b[0m  - 34s - loss: 0.5669 - Classifier_loss: 0.4055 - l_pred_w_loss: 0.1614 - l_pred_s_loss: 0.1614 - Classifier_categorical_accuracy: 0.8599 - l_pred_w_MAE_Lossnet: 4.4497 - l_pred_s_MAE_Lossnet: 4.4497\n",
      "\u001b[2m\u001b[36m(pid=32657, ip=192.168.8.52)\u001b[0m Epoch 10/60\n",
      "\u001b[2m\u001b[36m(pid=32657, ip=192.168.8.52)\u001b[0m  - 34s - loss: 0.5249 - Classifier_loss: 0.3775 - l_pred_w_loss: 0.1475 - l_pred_s_loss: 0.1475 - Classifier_categorical_accuracy: 0.8697 - l_pred_w_MAE_Lossnet: 4.5406 - l_pred_s_MAE_Lossnet: 4.5406\n",
      "\u001b[2m\u001b[36m(pid=32657, ip=192.168.8.52)\u001b[0m Epoch 11/60\n",
      "\u001b[2m\u001b[36m(pid=32657, ip=192.168.8.52)\u001b[0m  - 34s - loss: 0.5104 - Classifier_loss: 0.3598 - l_pred_w_loss: 0.1507 - l_pred_s_loss: 0.1507 - Classifier_categorical_accuracy: 0.8763 - l_pred_w_MAE_Lossnet: 4.3469 - l_pred_s_MAE_Lossnet: 4.3469\n",
      "\u001b[2m\u001b[36m(pid=32657, ip=192.168.8.52)\u001b[0m Epoch 12/60\n",
      "\u001b[2m\u001b[36m(pid=32657, ip=192.168.8.52)\u001b[0m  - 34s - loss: 0.4839 - Classifier_loss: 0.3428 - l_pred_w_loss: 0.1410 - l_pred_s_loss: 0.1410 - Classifier_categorical_accuracy: 0.8814 - l_pred_w_MAE_Lossnet: 4.5876 - l_pred_s_MAE_Lossnet: 4.5876\n",
      "\u001b[2m\u001b[36m(pid=32657, ip=192.168.8.52)\u001b[0m Epoch 13/60\n",
      "\u001b[2m\u001b[36m(pid=32657, ip=192.168.8.52)\u001b[0m  - 34s - loss: 0.4624 - Classifier_loss: 0.3199 - l_pred_w_loss: 0.1425 - l_pred_s_loss: 0.1425 - Classifier_categorical_accuracy: 0.8892 - l_pred_w_MAE_Lossnet: 4.4342 - l_pred_s_MAE_Lossnet: 4.4342\n",
      "\u001b[2m\u001b[36m(pid=32657, ip=192.168.8.52)\u001b[0m Epoch 14/60\n",
      "\u001b[2m\u001b[36m(pid=32657, ip=192.168.8.52)\u001b[0m  - 34s - loss: 0.4455 - Classifier_loss: 0.3069 - l_pred_w_loss: 0.1387 - l_pred_s_loss: 0.1387 - Classifier_categorical_accuracy: 0.8950 - l_pred_w_MAE_Lossnet: 4.3352 - l_pred_s_MAE_Lossnet: 4.3352\n",
      "\u001b[2m\u001b[36m(pid=32657, ip=192.168.8.52)\u001b[0m Epoch 15/60\n",
      "\u001b[2m\u001b[36m(pid=32657, ip=192.168.8.52)\u001b[0m  - 34s - loss: 0.4249 - Classifier_loss: 0.2934 - l_pred_w_loss: 0.1315 - l_pred_s_loss: 0.1315 - Classifier_categorical_accuracy: 0.8975 - l_pred_w_MAE_Lossnet: 4.4052 - l_pred_s_MAE_Lossnet: 4.4052\n",
      "\u001b[2m\u001b[36m(pid=32657, ip=192.168.8.52)\u001b[0m Epoch 16/60\n",
      "\u001b[2m\u001b[36m(pid=32657, ip=192.168.8.52)\u001b[0m  - 34s - loss: 0.4145 - Classifier_loss: 0.2837 - l_pred_w_loss: 0.1309 - l_pred_s_loss: 0.1309 - Classifier_categorical_accuracy: 0.9011 - l_pred_w_MAE_Lossnet: 4.3559 - l_pred_s_MAE_Lossnet: 4.3559\n",
      "\u001b[2m\u001b[36m(pid=32657, ip=192.168.8.52)\u001b[0m Epoch 17/60\n",
      "\u001b[2m\u001b[36m(pid=32657, ip=192.168.8.52)\u001b[0m  - 34s - loss: 0.3984 - Classifier_loss: 0.2648 - l_pred_w_loss: 0.1334 - l_pred_s_loss: 0.1334 - Classifier_categorical_accuracy: 0.9086 - l_pred_w_MAE_Lossnet: 4.2534 - l_pred_s_MAE_Lossnet: 4.2534\n",
      "\u001b[2m\u001b[36m(pid=32657, ip=192.168.8.52)\u001b[0m Epoch 18/60\n",
      "\u001b[2m\u001b[36m(pid=32657, ip=192.168.8.52)\u001b[0m  - 34s - loss: 0.3649 - Classifier_loss: 0.2484 - l_pred_w_loss: 0.1164 - l_pred_s_loss: 0.1164 - Classifier_categorical_accuracy: 0.9134 - l_pred_w_MAE_Lossnet: 4.3852 - l_pred_s_MAE_Lossnet: 4.3852\n",
      "\u001b[2m\u001b[36m(pid=32657, ip=192.168.8.52)\u001b[0m Epoch 19/60\n",
      "\u001b[2m\u001b[36m(pid=32657, ip=192.168.8.52)\u001b[0m  - 34s - loss: 0.3624 - Classifier_loss: 0.2418 - l_pred_w_loss: 0.1207 - l_pred_s_loss: 0.1207 - Classifier_categorical_accuracy: 0.9163 - l_pred_w_MAE_Lossnet: 4.0708 - l_pred_s_MAE_Lossnet: 4.0708\n",
      "\u001b[2m\u001b[36m(pid=32657, ip=192.168.8.52)\u001b[0m Epoch 20/60\n",
      "\u001b[2m\u001b[36m(pid=32657, ip=192.168.8.52)\u001b[0m  - 34s - loss: 0.3586 - Classifier_loss: 0.2365 - l_pred_w_loss: 0.1223 - l_pred_s_loss: 0.1223 - Classifier_categorical_accuracy: 0.9168 - l_pred_w_MAE_Lossnet: 3.8152 - l_pred_s_MAE_Lossnet: 3.8152\n",
      "\u001b[2m\u001b[36m(pid=32657, ip=192.168.8.52)\u001b[0m Epoch 21/60\n",
      "\u001b[2m\u001b[36m(pid=32657, ip=192.168.8.52)\u001b[0m  - 34s - loss: 0.3437 - Classifier_loss: 0.2242 - l_pred_w_loss: 0.1196 - l_pred_s_loss: 0.1196 - Classifier_categorical_accuracy: 0.9219 - l_pred_w_MAE_Lossnet: 3.9978 - l_pred_s_MAE_Lossnet: 3.9978\n",
      "\u001b[2m\u001b[36m(pid=32657, ip=192.168.8.52)\u001b[0m Epoch 22/60\n",
      "\u001b[2m\u001b[36m(pid=32657, ip=192.168.8.52)\u001b[0m  - 34s - loss: 0.3319 - Classifier_loss: 0.2158 - l_pred_w_loss: 0.1162 - l_pred_s_loss: 0.1162 - Classifier_categorical_accuracy: 0.9235 - l_pred_w_MAE_Lossnet: 3.7506 - l_pred_s_MAE_Lossnet: 3.7506\n",
      "\u001b[2m\u001b[36m(pid=32657, ip=192.168.8.52)\u001b[0m Epoch 23/60\n",
      "\u001b[2m\u001b[36m(pid=12774, ip=192.168.8.52)\u001b[0m Epoch: 40 Time: 2020-12-15 12:32:07 Train loss: 1.47 Count NaN: 0 Saving\n"
     ]
    },
    {
     "name": "stderr",
     "output_type": "stream",
     "text": [
      "\u001b[2m\u001b[36m(pid=15770, ip=192.168.8.53)\u001b[0m /home/reminiz/ReminizML2/python_env/lib/python3.7/site-packages/tensorflow/python/framework/dtypes.py:526: FutureWarning: Passing (type, 1) or '1type' as a synonym of type is deprecated; in a future version of numpy, it will be understood as (type, (1,)) / '(1,)type'.\n",
      "\u001b[2m\u001b[36m(pid=15770, ip=192.168.8.53)\u001b[0m   _np_qint8 = np.dtype([(\"qint8\", np.int8, 1)])\n",
      "\u001b[2m\u001b[36m(pid=15770, ip=192.168.8.53)\u001b[0m /home/reminiz/ReminizML2/python_env/lib/python3.7/site-packages/tensorflow/python/framework/dtypes.py:527: FutureWarning: Passing (type, 1) or '1type' as a synonym of type is deprecated; in a future version of numpy, it will be understood as (type, (1,)) / '(1,)type'.\n",
      "\u001b[2m\u001b[36m(pid=15770, ip=192.168.8.53)\u001b[0m   _np_quint8 = np.dtype([(\"quint8\", np.uint8, 1)])\n",
      "\u001b[2m\u001b[36m(pid=15770, ip=192.168.8.53)\u001b[0m /home/reminiz/ReminizML2/python_env/lib/python3.7/site-packages/tensorflow/python/framework/dtypes.py:528: FutureWarning: Passing (type, 1) or '1type' as a synonym of type is deprecated; in a future version of numpy, it will be understood as (type, (1,)) / '(1,)type'.\n",
      "\u001b[2m\u001b[36m(pid=15770, ip=192.168.8.53)\u001b[0m   _np_qint16 = np.dtype([(\"qint16\", np.int16, 1)])\n",
      "\u001b[2m\u001b[36m(pid=15770, ip=192.168.8.53)\u001b[0m /home/reminiz/ReminizML2/python_env/lib/python3.7/site-packages/tensorflow/python/framework/dtypes.py:529: FutureWarning: Passing (type, 1) or '1type' as a synonym of type is deprecated; in a future version of numpy, it will be understood as (type, (1,)) / '(1,)type'.\n",
      "\u001b[2m\u001b[36m(pid=15770, ip=192.168.8.53)\u001b[0m   _np_quint16 = np.dtype([(\"quint16\", np.uint16, 1)])\n",
      "\u001b[2m\u001b[36m(pid=15770, ip=192.168.8.53)\u001b[0m /home/reminiz/ReminizML2/python_env/lib/python3.7/site-packages/tensorflow/python/framework/dtypes.py:530: FutureWarning: Passing (type, 1) or '1type' as a synonym of type is deprecated; in a future version of numpy, it will be understood as (type, (1,)) / '(1,)type'.\n",
      "\u001b[2m\u001b[36m(pid=15770, ip=192.168.8.53)\u001b[0m   _np_qint32 = np.dtype([(\"qint32\", np.int32, 1)])\n",
      "\u001b[2m\u001b[36m(pid=15770, ip=192.168.8.53)\u001b[0m /home/reminiz/ReminizML2/python_env/lib/python3.7/site-packages/tensorflow/python/framework/dtypes.py:535: FutureWarning: Passing (type, 1) or '1type' as a synonym of type is deprecated; in a future version of numpy, it will be understood as (type, (1,)) / '(1,)type'.\n",
      "\u001b[2m\u001b[36m(pid=15770, ip=192.168.8.53)\u001b[0m   np_resource = np.dtype([(\"resource\", np.ubyte, 1)])\n",
      "\u001b[2m\u001b[36m(pid=15770, ip=192.168.8.53)\u001b[0m wandb: Tracking run with wandb version 0.8.36\n",
      "\u001b[2m\u001b[36m(pid=15770, ip=192.168.8.53)\u001b[0m wandb: Wandb version 0.10.12 is available!  To upgrade, please run:\n",
      "\u001b[2m\u001b[36m(pid=15770, ip=192.168.8.53)\u001b[0m wandb:  $ pip install wandb --upgrade\n",
      "\u001b[2m\u001b[36m(pid=15770, ip=192.168.8.53)\u001b[0m wandb: Run data is saved locally in ../../../Trainings/wandb/wandb/run-20201215_113226-2wfg5hig\n",
      "\u001b[2m\u001b[36m(pid=15770, ip=192.168.8.53)\u001b[0m wandb: Syncing run 2wfg5hig\n",
      "\u001b[2m\u001b[36m(pid=15770, ip=192.168.8.53)\u001b[0m wandb: ⭐️ View project at http://192.168.8.51:8080/reminiz/Violence%20Detection\n",
      "\u001b[2m\u001b[36m(pid=15770, ip=192.168.8.53)\u001b[0m wandb: 🚀 View run at http://192.168.8.51:8080/reminiz/Violence%20Detection/runs/2wfg5hig\n",
      "\u001b[2m\u001b[36m(pid=15770, ip=192.168.8.53)\u001b[0m wandb: Run `wandb off` to turn off syncing.\n",
      "\u001b[2m\u001b[36m(pid=15770, ip=192.168.8.53)\u001b[0m \n",
      "\u001b[2m\u001b[36m(pid=15770, ip=192.168.8.53)\u001b[0m WARNING:tensorflow:From /home/reminiz/ReminizML2/python_env/lib/python3.7/site-packages/tensorflow/python/framework/op_def_library.py:263: colocate_with (from tensorflow.python.framework.ops) is deprecated and will be removed in a future version.\n",
      "\u001b[2m\u001b[36m(pid=15770, ip=192.168.8.53)\u001b[0m Instructions for updating:\n",
      "\u001b[2m\u001b[36m(pid=15770, ip=192.168.8.53)\u001b[0m Colocations handled automatically by placer.\n",
      "\u001b[2m\u001b[36m(pid=15770, ip=192.168.8.53)\u001b[0m WARNING:tensorflow:From /mnt/Ressources/Quentin/Detection/core/common.py:25: batch_normalization (from tensorflow.python.layers.normalization) is deprecated and will be removed in a future version.\n",
      "\u001b[2m\u001b[36m(pid=15770, ip=192.168.8.53)\u001b[0m Instructions for updating:\n",
      "\u001b[2m\u001b[36m(pid=15770, ip=192.168.8.53)\u001b[0m Use keras.layers.batch_normalization instead.\n"
     ]
    },
    {
     "name": "stdout",
     "output_type": "stream",
     "text": [
      "\u001b[2m\u001b[36m(pid=15770, ip=192.168.8.53)\u001b[0m {0: 'FIREARMS', 1: 'COLDARMS'}\n",
      "\u001b[2m\u001b[36m(pid=32657, ip=192.168.8.52)\u001b[0m  - 34s - loss: 0.3145 - Classifier_loss: 0.2035 - l_pred_w_loss: 0.1110 - l_pred_s_loss: 0.1110 - Classifier_categorical_accuracy: 0.9295 - l_pred_w_MAE_Lossnet: 3.8030 - l_pred_s_MAE_Lossnet: 3.8030\n",
      "\u001b[2m\u001b[36m(pid=32657, ip=192.168.8.52)\u001b[0m Epoch 24/60\n"
     ]
    },
    {
     "name": "stderr",
     "output_type": "stream",
     "text": [
      "\u001b[2m\u001b[36m(pid=15770, ip=192.168.8.53)\u001b[0m 2020-12-15 12:32:30.632832: I tensorflow/core/platform/cpu_feature_guard.cc:141] Your CPU supports instructions that this TensorFlow binary was not compiled to use: AVX2 FMA\n",
      "\u001b[2m\u001b[36m(pid=15770, ip=192.168.8.53)\u001b[0m 2020-12-15 12:32:30.657216: I tensorflow/core/platform/profile_utils/cpu_utils.cc:94] CPU Frequency: 3499950000 Hz\n",
      "\u001b[2m\u001b[36m(pid=15770, ip=192.168.8.53)\u001b[0m 2020-12-15 12:32:30.657882: I tensorflow/compiler/xla/service/service.cc:150] XLA service 0x55da93b8db00 executing computations on platform Host. Devices:\n",
      "\u001b[2m\u001b[36m(pid=15770, ip=192.168.8.53)\u001b[0m 2020-12-15 12:32:30.657901: I tensorflow/compiler/xla/service/service.cc:158]   StreamExecutor device (0): <undefined>, <undefined>\n",
      "\u001b[2m\u001b[36m(pid=15770, ip=192.168.8.53)\u001b[0m 2020-12-15 12:32:30.793372: I tensorflow/compiler/xla/service/service.cc:150] XLA service 0x55da90154a40 executing computations on platform CUDA. Devices:\n",
      "\u001b[2m\u001b[36m(pid=15770, ip=192.168.8.53)\u001b[0m 2020-12-15 12:32:30.793410: I tensorflow/compiler/xla/service/service.cc:158]   StreamExecutor device (0): GeForce GTX TITAN X, Compute Capability 5.2\n",
      "\u001b[2m\u001b[36m(pid=15770, ip=192.168.8.53)\u001b[0m 2020-12-15 12:32:30.793568: I tensorflow/core/common_runtime/gpu/gpu_device.cc:1433] Found device 0 with properties: \n",
      "\u001b[2m\u001b[36m(pid=15770, ip=192.168.8.53)\u001b[0m name: GeForce GTX TITAN X major: 5 minor: 2 memoryClockRate(GHz): 1.076\n",
      "\u001b[2m\u001b[36m(pid=15770, ip=192.168.8.53)\u001b[0m pciBusID: 0000:02:00.0\n",
      "\u001b[2m\u001b[36m(pid=15770, ip=192.168.8.53)\u001b[0m totalMemory: 11.93GiB freeMemory: 11.82GiB\n",
      "\u001b[2m\u001b[36m(pid=15770, ip=192.168.8.53)\u001b[0m 2020-12-15 12:32:30.793589: I tensorflow/core/common_runtime/gpu/gpu_device.cc:1512] Adding visible gpu devices: 0\n",
      "\u001b[2m\u001b[36m(pid=15770, ip=192.168.8.53)\u001b[0m 2020-12-15 12:32:30.795395: I tensorflow/core/common_runtime/gpu/gpu_device.cc:984] Device interconnect StreamExecutor with strength 1 edge matrix:\n",
      "\u001b[2m\u001b[36m(pid=15770, ip=192.168.8.53)\u001b[0m 2020-12-15 12:32:30.795414: I tensorflow/core/common_runtime/gpu/gpu_device.cc:990]      0 \n",
      "\u001b[2m\u001b[36m(pid=15770, ip=192.168.8.53)\u001b[0m 2020-12-15 12:32:30.795422: I tensorflow/core/common_runtime/gpu/gpu_device.cc:1003] 0:   N \n",
      "\u001b[2m\u001b[36m(pid=15770, ip=192.168.8.53)\u001b[0m 2020-12-15 12:32:30.795515: I tensorflow/core/common_runtime/gpu/gpu_device.cc:1115] Created TensorFlow device (/job:localhost/replica:0/task:0/device:GPU:0 with 11496 MB memory) -> physical GPU (device: 0, name: GeForce GTX TITAN X, pci bus id: 0000:02:00.0, compute capability: 5.2)\n",
      "\u001b[2m\u001b[36m(pid=15770, ip=192.168.8.53)\u001b[0m WARNING:tensorflow:From /home/reminiz/ReminizML2/python_env/lib/python3.7/site-packages/tensorflow/python/training/saver.py:1266: checkpoint_exists (from tensorflow.python.training.checkpoint_management) is deprecated and will be removed in a future version.\n",
      "\u001b[2m\u001b[36m(pid=15770, ip=192.168.8.53)\u001b[0m Instructions for updating:\n",
      "\u001b[2m\u001b[36m(pid=15770, ip=192.168.8.53)\u001b[0m Use standard file APIs to check for files with this prefix.\n"
     ]
    },
    {
     "name": "stdout",
     "output_type": "stream",
     "text": [
      "\u001b[2m\u001b[36m(pid=15770, ip=192.168.8.53)\u001b[0m Restoring from /mnt/Trainings/models/violence_detection_weapons_0/checkpoint/epoch40.ckpt-40\n"
     ]
    },
    {
     "name": "stderr",
     "output_type": "stream",
     "text": [
      "  0% 0/100 [00:00<?, ?it/s]E1215 12:32:35.176954 15770 15782 task_manager.cc:323] Task failed: IOError: cancelling all pending tasks of dead actor: Type=ACTOR_TASK, Language=PYTHON, Resources: {}, function_descriptor={type=PythonFunctionDescriptor, module_name=AutoML.datanode, class_name=DataNode, function_name=get_image, function_hash=}, task_id=5084ee29a7f71b5f32a7341d01000000, task_name=DataNode.get_image(), job_id=01000000, num_args=6, num_returns=2, actor_task_spec={actor_id=32a7341d01000000, actor_caller_id=ffffffffffffffffe76651fc0c000000, actor_counter=0}\n"
     ]
    },
    {
     "name": "stdout",
     "output_type": "stream",
     "text": [
      "\u001b[2m\u001b[36m(pid=15770, ip=192.168.8.53)\u001b[0m Cache disk full, cleaning.\n"
     ]
    },
    {
     "name": "stderr",
     "output_type": "stream",
     "text": [
      "  1% 1/100 [00:02<03:42,  2.25s/it]3)\u001b[0m \n",
      "  2% 2/100 [00:02<02:37,  1.61s/it]3)\u001b[0m \n"
     ]
    },
    {
     "name": "stdout",
     "output_type": "stream",
     "text": [
      "\u001b[2m\u001b[36m(pid=15770, ip=192.168.8.53)\u001b[0m Cache disk full, cleaning.\n",
      "\u001b[2m\u001b[36m(pid=15770, ip=192.168.8.53)\u001b[0m Cache disk full, cleaning.\n",
      "\u001b[2m\u001b[36m(pid=15770, ip=192.168.8.53)\u001b[0m Cache disk full, cleaning.\n"
     ]
    },
    {
     "name": "stderr",
     "output_type": "stream",
     "text": [
      "  3% 3/100 [00:02<01:55,  1.19s/it]3)\u001b[0m \n",
      "  4% 4/100 [00:02<01:22,  1.16it/s]3)\u001b[0m \n"
     ]
    },
    {
     "name": "stdout",
     "output_type": "stream",
     "text": [
      "\u001b[2m\u001b[36m(pid=15770, ip=192.168.8.53)\u001b[0m Cache disk full, cleaning.\n",
      "\u001b[2m\u001b[36m(pid=15770, ip=192.168.8.53)\u001b[0m Cache disk full, cleaning.\n"
     ]
    },
    {
     "name": "stderr",
     "output_type": "stream",
     "text": [
      "  5% 5/100 [00:02<01:06,  1.43it/s]3)\u001b[0m \n"
     ]
    },
    {
     "name": "stdout",
     "output_type": "stream",
     "text": [
      "\u001b[2m\u001b[36m(pid=15770, ip=192.168.8.53)\u001b[0m Cache disk full, cleaning.\n",
      "\u001b[2m\u001b[36m(pid=15770, ip=192.168.8.53)\u001b[0m Cache disk full, cleaning.\n"
     ]
    },
    {
     "name": "stderr",
     "output_type": "stream",
     "text": [
      "  7% 7/100 [00:03<00:49,  1.89it/s]3)\u001b[0m \n"
     ]
    },
    {
     "name": "stdout",
     "output_type": "stream",
     "text": [
      "\u001b[2m\u001b[36m(pid=15770, ip=192.168.8.53)\u001b[0m Cache disk full, cleaning.\n"
     ]
    },
    {
     "name": "stderr",
     "output_type": "stream",
     "text": [
      "  9% 9/100 [00:03<00:37,  2.44it/s]3)\u001b[0m \n"
     ]
    },
    {
     "name": "stdout",
     "output_type": "stream",
     "text": [
      "\u001b[2m\u001b[36m(pid=15770, ip=192.168.8.53)\u001b[0m Cache disk full, cleaning.\n",
      "\u001b[2m\u001b[36m(pid=15770, ip=192.168.8.53)\u001b[0m Cache disk full, cleaning.\n"
     ]
    },
    {
     "name": "stderr",
     "output_type": "stream",
     "text": [
      " 10% 10/100 [00:03<00:36,  2.44it/s])\u001b[0m \n",
      " 11% 11/100 [00:04<00:30,  2.92it/s])\u001b[0m \n"
     ]
    },
    {
     "name": "stdout",
     "output_type": "stream",
     "text": [
      "\u001b[2m\u001b[36m(pid=15770, ip=192.168.8.53)\u001b[0m Cache disk full, cleaning.\n"
     ]
    },
    {
     "name": "stderr",
     "output_type": "stream",
     "text": [
      " 12% 12/100 [00:05<00:47,  1.86it/s])\u001b[0m \n"
     ]
    },
    {
     "name": "stdout",
     "output_type": "stream",
     "text": [
      "\u001b[2m\u001b[36m(pid=15770, ip=192.168.8.53)\u001b[0m Cache disk full, cleaning.\n",
      "\u001b[2m\u001b[36m(pid=15770, ip=192.168.8.53)\u001b[0m Cache disk full, cleaning.\n",
      "\u001b[2m\u001b[36m(pid=15770, ip=192.168.8.53)\u001b[0m Cache disk full, cleaning.\n"
     ]
    },
    {
     "name": "stderr",
     "output_type": "stream",
     "text": [
      " 13% 13/100 [00:06<00:57,  1.52it/s])\u001b[0m \n",
      " 15% 15/100 [00:06<00:41,  2.06it/s])\u001b[0m \n"
     ]
    },
    {
     "name": "stdout",
     "output_type": "stream",
     "text": [
      "\u001b[2m\u001b[36m(pid=15770, ip=192.168.8.53)\u001b[0m Cache disk full, cleaning.\n",
      "\u001b[2m\u001b[36m(pid=15770, ip=192.168.8.53)\u001b[0m Cache disk full, cleaning.\n"
     ]
    },
    {
     "name": "stderr",
     "output_type": "stream",
     "text": [
      " 16% 16/100 [00:06<00:31,  2.70it/s])\u001b[0m \n",
      " 17% 17/100 [00:06<00:25,  3.26it/s])\u001b[0m \n"
     ]
    },
    {
     "name": "stdout",
     "output_type": "stream",
     "text": [
      "\u001b[2m\u001b[36m(pid=15770, ip=192.168.8.53)\u001b[0m Cache disk full, cleaning.\n"
     ]
    },
    {
     "name": "stderr",
     "output_type": "stream",
     "text": [
      " 18% 18/100 [00:06<00:26,  3.12it/s])\u001b[0m \n"
     ]
    },
    {
     "name": "stdout",
     "output_type": "stream",
     "text": [
      "\u001b[2m\u001b[36m(pid=15770, ip=192.168.8.53)\u001b[0m Cache disk full, cleaning.\n",
      "\u001b[2m\u001b[36m(pid=15770, ip=192.168.8.53)\u001b[0m Cache disk full, cleaning.\n"
     ]
    },
    {
     "name": "stderr",
     "output_type": "stream",
     "text": [
      " 19% 19/100 [00:07<00:25,  3.15it/s])\u001b[0m \n",
      " 20% 20/100 [00:07<00:21,  3.71it/s])\u001b[0m \n"
     ]
    },
    {
     "name": "stdout",
     "output_type": "stream",
     "text": [
      "\u001b[2m\u001b[36m(pid=15770, ip=192.168.8.53)\u001b[0m Cache disk full, cleaning.\n",
      "\u001b[2m\u001b[36m(pid=15770, ip=192.168.8.53)\u001b[0m Cache disk full, cleaning.\n"
     ]
    },
    {
     "name": "stderr",
     "output_type": "stream",
     "text": [
      " 21% 21/100 [00:07<00:18,  4.29it/s])\u001b[0m \n",
      " 22% 22/100 [00:07<00:16,  4.83it/s])\u001b[0m \n"
     ]
    },
    {
     "name": "stdout",
     "output_type": "stream",
     "text": [
      "\u001b[2m\u001b[36m(pid=15770, ip=192.168.8.53)\u001b[0m Cache disk full, cleaning.\n"
     ]
    },
    {
     "name": "stderr",
     "output_type": "stream",
     "text": [
      " 23% 23/100 [00:07<00:14,  5.48it/s])\u001b[0m \n",
      " 24% 24/100 [00:07<00:14,  5.18it/s])\u001b[0m \n"
     ]
    },
    {
     "name": "stdout",
     "output_type": "stream",
     "text": [
      "\u001b[2m\u001b[36m(pid=15770, ip=192.168.8.53)\u001b[0m Cache disk full, cleaning.\n",
      "\u001b[2m\u001b[36m(pid=15770, ip=192.168.8.53)\u001b[0m Cache disk full, cleaning.\n",
      "\u001b[2m\u001b[36m(pid=15770, ip=192.168.8.53)\u001b[0m Cache disk full, cleaning.\n"
     ]
    },
    {
     "name": "stderr",
     "output_type": "stream",
     "text": [
      " 26% 26/100 [00:08<00:11,  6.29it/s])\u001b[0m \n",
      " 27% 27/100 [00:08<00:10,  7.04it/s])\u001b[0m \n"
     ]
    },
    {
     "name": "stdout",
     "output_type": "stream",
     "text": [
      "\u001b[2m\u001b[36m(pid=15770, ip=192.168.8.53)\u001b[0m Cache disk full, cleaning.\n",
      "\u001b[2m\u001b[36m(pid=15770, ip=192.168.8.53)\u001b[0m Cache disk full, cleaning.\n"
     ]
    },
    {
     "name": "stderr",
     "output_type": "stream",
     "text": [
      " 28% 28/100 [00:08<00:09,  7.53it/s])\u001b[0m \n",
      " 29% 29/100 [00:08<00:09,  7.84it/s])\u001b[0m \n",
      " 30% 30/100 [00:08<00:08,  8.36it/s])\u001b[0m \n"
     ]
    },
    {
     "name": "stdout",
     "output_type": "stream",
     "text": [
      "\u001b[2m\u001b[36m(pid=15770, ip=192.168.8.53)\u001b[0m Cache disk full, cleaning.\n",
      "\u001b[2m\u001b[36m(pid=15770, ip=192.168.8.53)\u001b[0m Cache disk full, cleaning.\n",
      "\u001b[2m\u001b[36m(pid=15770, ip=192.168.8.53)\u001b[0m Cache disk full, cleaning.\n",
      "\u001b[2m\u001b[36m(pid=15770, ip=192.168.8.53)\u001b[0m Cache disk full, cleaning.\n",
      "\u001b[2m\u001b[36m(pid=15770, ip=192.168.8.53)\u001b[0m Cache disk full, cleaning.\n"
     ]
    },
    {
     "name": "stderr",
     "output_type": "stream",
     "text": [
      " 32% 32/100 [00:08<00:09,  7.17it/s])\u001b[0m \n",
      " 33% 33/100 [00:09<00:09,  6.73it/s])\u001b[0m \n"
     ]
    },
    {
     "name": "stdout",
     "output_type": "stream",
     "text": [
      "\u001b[2m\u001b[36m(pid=15770, ip=192.168.8.53)\u001b[0m Cache disk full, cleaning.\n"
     ]
    },
    {
     "name": "stderr",
     "output_type": "stream",
     "text": [
      " 34% 34/100 [00:09<00:14,  4.52it/s])\u001b[0m \n"
     ]
    },
    {
     "name": "stdout",
     "output_type": "stream",
     "text": [
      "\u001b[2m\u001b[36m(pid=15770, ip=192.168.8.53)\u001b[0m Cache disk full, cleaning.\n"
     ]
    },
    {
     "name": "stderr",
     "output_type": "stream",
     "text": [
      " 35% 35/100 [00:09<00:13,  4.67it/s])\u001b[0m \n"
     ]
    },
    {
     "name": "stdout",
     "output_type": "stream",
     "text": [
      "\u001b[2m\u001b[36m(pid=15770, ip=192.168.8.53)\u001b[0m Cache disk full, cleaning.\n",
      "\u001b[2m\u001b[36m(pid=15770, ip=192.168.8.53)\u001b[0m Cache disk full, cleaning.\n"
     ]
    },
    {
     "name": "stderr",
     "output_type": "stream",
     "text": [
      " 36% 36/100 [00:09<00:16,  3.98it/s])\u001b[0m \n",
      " 37% 37/100 [00:10<00:13,  4.52it/s])\u001b[0m \n"
     ]
    },
    {
     "name": "stdout",
     "output_type": "stream",
     "text": [
      "\u001b[2m\u001b[36m(pid=15770, ip=192.168.8.53)\u001b[0m Cache disk full, cleaning.\n",
      "\u001b[2m\u001b[36m(pid=15770, ip=192.168.8.53)\u001b[0m Cache disk full, cleaning.\n"
     ]
    },
    {
     "name": "stderr",
     "output_type": "stream",
     "text": [
      " 39% 39/100 [00:10<00:11,  5.26it/s])\u001b[0m \n",
      " 40% 40/100 [00:10<00:11,  5.44it/s])\u001b[0m \n"
     ]
    },
    {
     "name": "stdout",
     "output_type": "stream",
     "text": [
      "\u001b[2m\u001b[36m(pid=15770, ip=192.168.8.53)\u001b[0m Cache disk full, cleaning.\n",
      "\u001b[2m\u001b[36m(pid=15770, ip=192.168.8.53)\u001b[0m Cache disk full, cleaning.\n",
      "\u001b[2m\u001b[36m(pid=15770, ip=192.168.8.53)\u001b[0m Cache disk full, cleaning.\n"
     ]
    },
    {
     "name": "stderr",
     "output_type": "stream",
     "text": [
      " 42% 42/100 [00:10<00:09,  6.39it/s])\u001b[0m \n",
      " 43% 43/100 [00:10<00:09,  6.07it/s])\u001b[0m \n"
     ]
    },
    {
     "name": "stdout",
     "output_type": "stream",
     "text": [
      "\u001b[2m\u001b[36m(pid=15770, ip=192.168.8.53)\u001b[0m Cache disk full, cleaning.\n",
      "\u001b[2m\u001b[36m(pid=15770, ip=192.168.8.53)\u001b[0m Cache disk full, cleaning.\n",
      "\u001b[2m\u001b[36m(pid=15770, ip=192.168.8.53)\u001b[0m Cache disk full, cleaning.\n"
     ]
    },
    {
     "name": "stderr",
     "output_type": "stream",
     "text": [
      " 44% 44/100 [00:11<00:11,  5.07it/s])\u001b[0m \n",
      " 45% 45/100 [00:11<00:09,  5.62it/s])\u001b[0m \n"
     ]
    },
    {
     "name": "stdout",
     "output_type": "stream",
     "text": [
      "\u001b[2m\u001b[36m(pid=15770, ip=192.168.8.53)\u001b[0m Cache disk full, cleaning.\n",
      "\u001b[2m\u001b[36m(pid=15770, ip=192.168.8.53)\u001b[0m Cache disk full, cleaning.\n",
      "\u001b[2m\u001b[36m(pid=15770, ip=192.168.8.53)\u001b[0m Cache disk full, cleaning.\n"
     ]
    },
    {
     "name": "stderr",
     "output_type": "stream",
     "text": [
      " 46% 46/100 [00:11<00:14,  3.64it/s])\u001b[0m \n",
      " 48% 48/100 [00:12<00:11,  4.56it/s])\u001b[0m \n"
     ]
    },
    {
     "name": "stdout",
     "output_type": "stream",
     "text": [
      "\u001b[2m\u001b[36m(pid=15770, ip=192.168.8.53)\u001b[0m Cache disk full, cleaning.\n"
     ]
    },
    {
     "name": "stderr",
     "output_type": "stream",
     "text": [
      " 49% 49/100 [00:12<00:09,  5.33it/s])\u001b[0m \n"
     ]
    },
    {
     "name": "stdout",
     "output_type": "stream",
     "text": [
      "\u001b[2m\u001b[36m(pid=15770, ip=192.168.8.53)\u001b[0m Cache disk full, cleaning.\n",
      "\u001b[2m\u001b[36m(pid=15770, ip=192.168.8.53)\u001b[0m Cache disk full, cleaning.\n"
     ]
    },
    {
     "name": "stderr",
     "output_type": "stream",
     "text": [
      " 50% 50/100 [00:12<00:10,  4.86it/s])\u001b[0m \n",
      " 51% 51/100 [00:12<00:09,  5.07it/s])\u001b[0m \n"
     ]
    },
    {
     "name": "stdout",
     "output_type": "stream",
     "text": [
      "\u001b[2m\u001b[36m(pid=15770, ip=192.168.8.53)\u001b[0m Cache disk full, cleaning.\n",
      "\u001b[2m\u001b[36m(pid=15770, ip=192.168.8.53)\u001b[0m Cache disk full, cleaning.\n"
     ]
    },
    {
     "name": "stderr",
     "output_type": "stream",
     "text": [
      " 53% 53/100 [00:12<00:08,  5.86it/s])\u001b[0m \n"
     ]
    },
    {
     "name": "stdout",
     "output_type": "stream",
     "text": [
      "\u001b[2m\u001b[36m(pid=15770, ip=192.168.8.53)\u001b[0m Cache disk full, cleaning.\n"
     ]
    },
    {
     "name": "stderr",
     "output_type": "stream",
     "text": [
      " 54% 54/100 [00:13<00:09,  5.01it/s])\u001b[0m \n"
     ]
    },
    {
     "name": "stdout",
     "output_type": "stream",
     "text": [
      "\u001b[2m\u001b[36m(pid=15770, ip=192.168.8.53)\u001b[0m Cache disk full, cleaning.\n",
      "\u001b[2m\u001b[36m(pid=15770, ip=192.168.8.53)\u001b[0m Cache disk full, cleaning.\n"
     ]
    },
    {
     "name": "stderr",
     "output_type": "stream",
     "text": [
      " 55% 55/100 [00:13<00:08,  5.15it/s])\u001b[0m \n",
      " 56% 56/100 [00:13<00:08,  5.20it/s])\u001b[0m \n"
     ]
    },
    {
     "name": "stdout",
     "output_type": "stream",
     "text": [
      "\u001b[2m\u001b[36m(pid=15770, ip=192.168.8.53)\u001b[0m Cache disk full, cleaning.\n"
     ]
    },
    {
     "name": "stderr",
     "output_type": "stream",
     "text": [
      " 57% 57/100 [00:13<00:07,  5.73it/s])\u001b[0m \n"
     ]
    },
    {
     "name": "stdout",
     "output_type": "stream",
     "text": [
      "\u001b[2m\u001b[36m(pid=15770, ip=192.168.8.53)\u001b[0m Cache disk full, cleaning.\n",
      "\u001b[2m\u001b[36m(pid=15770, ip=192.168.8.53)\u001b[0m Cache disk full, cleaning.\n",
      "\u001b[2m\u001b[36m(pid=15770, ip=192.168.8.53)\u001b[0m Cache disk full, cleaning.\n"
     ]
    },
    {
     "name": "stderr",
     "output_type": "stream",
     "text": [
      " 58% 58/100 [00:14<00:11,  3.57it/s])\u001b[0m \n",
      " 60% 60/100 [00:14<00:08,  4.53it/s])\u001b[0m \n"
     ]
    },
    {
     "name": "stdout",
     "output_type": "stream",
     "text": [
      "\u001b[2m\u001b[36m(pid=15770, ip=192.168.8.53)\u001b[0m Cache disk full, cleaning.\n"
     ]
    },
    {
     "name": "stderr",
     "output_type": "stream",
     "text": [
      " 61% 61/100 [00:14<00:07,  4.99it/s])\u001b[0m \n"
     ]
    },
    {
     "name": "stdout",
     "output_type": "stream",
     "text": [
      "\u001b[2m\u001b[36m(pid=15770, ip=192.168.8.53)\u001b[0m Cache disk full, cleaning.\n",
      "\u001b[2m\u001b[36m(pid=15770, ip=192.168.8.53)\u001b[0m Cache disk full, cleaning.\n"
     ]
    },
    {
     "name": "stderr",
     "output_type": "stream",
     "text": [
      " 62% 62/100 [00:14<00:08,  4.71it/s])\u001b[0m \n"
     ]
    },
    {
     "name": "stdout",
     "output_type": "stream",
     "text": [
      "\u001b[2m\u001b[36m(pid=15770, ip=192.168.8.53)\u001b[0m Cache disk full, cleaning.\n",
      "\u001b[2m\u001b[36m(pid=15770, ip=192.168.8.53)\u001b[0m Cache disk full, cleaning.\n",
      "\u001b[2m\u001b[36m(pid=15770, ip=192.168.8.53)\u001b[0m Cache disk full, cleaning.\n"
     ]
    },
    {
     "name": "stderr",
     "output_type": "stream",
     "text": [
      " 64% 64/100 [00:14<00:06,  5.47it/s])\u001b[0m \n",
      " 66% 66/100 [00:14<00:05,  6.70it/s])\u001b[0m \n"
     ]
    },
    {
     "name": "stdout",
     "output_type": "stream",
     "text": [
      "\u001b[2m\u001b[36m(pid=15770, ip=192.168.8.53)\u001b[0m Cache disk full, cleaning.\n",
      "\u001b[2m\u001b[36m(pid=15770, ip=192.168.8.53)\u001b[0m Cache disk full, cleaning.\n"
     ]
    },
    {
     "name": "stderr",
     "output_type": "stream",
     "text": [
      " 67% 67/100 [00:15<00:05,  5.97it/s])\u001b[0m \n",
      " 68% 68/100 [00:15<00:04,  6.70it/s])\u001b[0m \n"
     ]
    },
    {
     "name": "stdout",
     "output_type": "stream",
     "text": [
      "\u001b[2m\u001b[36m(pid=15770, ip=192.168.8.53)\u001b[0m Cache disk full, cleaning.\n",
      "\u001b[2m\u001b[36m(pid=15770, ip=192.168.8.53)\u001b[0m Cache disk full, cleaning.\n"
     ]
    },
    {
     "name": "stderr",
     "output_type": "stream",
     "text": [
      " 69% 69/100 [00:15<00:04,  6.48it/s])\u001b[0m \n",
      " 70% 70/100 [00:15<00:04,  7.19it/s])\u001b[0m \n"
     ]
    },
    {
     "name": "stdout",
     "output_type": "stream",
     "text": [
      "\u001b[2m\u001b[36m(pid=15770, ip=192.168.8.53)\u001b[0m Cache disk full, cleaning.\n",
      "\u001b[2m\u001b[36m(pid=15770, ip=192.168.8.53)\u001b[0m Cache disk full, cleaning.\n"
     ]
    },
    {
     "name": "stderr",
     "output_type": "stream",
     "text": [
      " 71% 71/100 [00:15<00:03,  7.27it/s])\u001b[0m \n",
      " 72% 72/100 [00:15<00:03,  7.05it/s])\u001b[0m \n"
     ]
    },
    {
     "name": "stdout",
     "output_type": "stream",
     "text": [
      "\u001b[2m\u001b[36m(pid=15770, ip=192.168.8.53)\u001b[0m Cache disk full, cleaning.\n",
      "\u001b[2m\u001b[36m(pid=15770, ip=192.168.8.53)\u001b[0m Cache disk full, cleaning.\n",
      "\u001b[2m\u001b[36m(pid=15770, ip=192.168.8.53)\u001b[0m Cache disk full, cleaning.\n"
     ]
    },
    {
     "name": "stderr",
     "output_type": "stream",
     "text": [
      " 73% 73/100 [00:16<00:05,  5.26it/s])\u001b[0m \n",
      " 75% 75/100 [00:16<00:03,  6.30it/s])\u001b[0m \n"
     ]
    },
    {
     "name": "stdout",
     "output_type": "stream",
     "text": [
      "\u001b[2m\u001b[36m(pid=15770, ip=192.168.8.53)\u001b[0m Cache disk full, cleaning.\n",
      "\u001b[2m\u001b[36m(pid=15770, ip=192.168.8.53)\u001b[0m Cache disk full, cleaning.\n"
     ]
    },
    {
     "name": "stderr",
     "output_type": "stream",
     "text": [
      " 77% 77/100 [00:16<00:03,  7.23it/s])\u001b[0m \n",
      " 78% 78/100 [00:16<00:02,  7.47it/s])\u001b[0m \n"
     ]
    },
    {
     "name": "stdout",
     "output_type": "stream",
     "text": [
      "\u001b[2m\u001b[36m(pid=15770, ip=192.168.8.53)\u001b[0m Cache disk full, cleaning.\n",
      "\u001b[2m\u001b[36m(pid=15770, ip=192.168.8.53)\u001b[0m Cache disk full, cleaning.\n",
      "\u001b[2m\u001b[36m(pid=15770, ip=192.168.8.53)\u001b[0m Cache disk full, cleaning.\n",
      "\u001b[2m\u001b[36m(pid=15770, ip=192.168.8.53)\u001b[0m Cache disk full, cleaning.\n"
     ]
    },
    {
     "name": "stderr",
     "output_type": "stream",
     "text": [
      " 80% 80/100 [00:16<00:02,  7.47it/s])\u001b[0m \n",
      " 81% 81/100 [00:17<00:03,  6.28it/s])\u001b[0m \n"
     ]
    },
    {
     "name": "stdout",
     "output_type": "stream",
     "text": [
      "\u001b[2m\u001b[36m(pid=15770, ip=192.168.8.53)\u001b[0m Cache disk full, cleaning.\n",
      "\u001b[2m\u001b[36m(pid=15770, ip=192.168.8.53)\u001b[0m Cache disk full, cleaning.\n",
      "\u001b[2m\u001b[36m(pid=15770, ip=192.168.8.53)\u001b[0m Cache disk full, cleaning.\n"
     ]
    },
    {
     "name": "stderr",
     "output_type": "stream",
     "text": [
      " 83% 83/100 [00:17<00:02,  7.49it/s])\u001b[0m \n",
      " 84% 84/100 [00:17<00:02,  7.35it/s])\u001b[0m \n"
     ]
    },
    {
     "name": "stdout",
     "output_type": "stream",
     "text": [
      "\u001b[2m\u001b[36m(pid=15770, ip=192.168.8.53)\u001b[0m Cache disk full, cleaning.\n",
      "\u001b[2m\u001b[36m(pid=15770, ip=192.168.8.53)\u001b[0m Cache disk full, cleaning.\n",
      "\u001b[2m\u001b[36m(pid=15770, ip=192.168.8.53)\u001b[0m Cache disk full, cleaning.\n"
     ]
    },
    {
     "name": "stderr",
     "output_type": "stream",
     "text": [
      " 86% 86/100 [00:17<00:01,  8.69it/s])\u001b[0m \n"
     ]
    },
    {
     "name": "stdout",
     "output_type": "stream",
     "text": [
      "\u001b[2m\u001b[36m(pid=15770, ip=192.168.8.53)\u001b[0m Cache disk full, cleaning.\n",
      "\u001b[2m\u001b[36m(pid=15770, ip=192.168.8.53)\u001b[0m Cache disk full, cleaning.\n"
     ]
    },
    {
     "name": "stderr",
     "output_type": "stream",
     "text": [
      " 88% 88/100 [00:17<00:01,  8.78it/s])\u001b[0m \n"
     ]
    },
    {
     "name": "stdout",
     "output_type": "stream",
     "text": [
      "\u001b[2m\u001b[36m(pid=15770, ip=192.168.8.53)\u001b[0m Cache disk full, cleaning.\n"
     ]
    },
    {
     "name": "stderr",
     "output_type": "stream",
     "text": [
      " 90% 90/100 [00:17<00:01,  8.96it/s])\u001b[0m \n"
     ]
    },
    {
     "name": "stdout",
     "output_type": "stream",
     "text": [
      "\u001b[2m\u001b[36m(pid=15770, ip=192.168.8.53)\u001b[0m Cache disk full, cleaning.\n",
      "\u001b[2m\u001b[36m(pid=15770, ip=192.168.8.53)\u001b[0m Cache disk full, cleaning.\n"
     ]
    },
    {
     "name": "stderr",
     "output_type": "stream",
     "text": [
      " 91% 91/100 [00:18<00:02,  4.29it/s])\u001b[0m \n"
     ]
    },
    {
     "name": "stdout",
     "output_type": "stream",
     "text": [
      "\u001b[2m\u001b[36m(pid=15770, ip=192.168.8.53)\u001b[0m Cache disk full, cleaning.\n",
      "\u001b[2m\u001b[36m(pid=15770, ip=192.168.8.53)\u001b[0m Cache disk full, cleaning.\n",
      "\u001b[2m\u001b[36m(pid=15770, ip=192.168.8.53)\u001b[0m Cache disk full, cleaning.\n"
     ]
    },
    {
     "name": "stderr",
     "output_type": "stream",
     "text": [
      " 93% 93/100 [00:18<00:01,  5.19it/s])\u001b[0m \n",
      " 95% 95/100 [00:18<00:00,  6.15it/s])\u001b[0m \n"
     ]
    },
    {
     "name": "stdout",
     "output_type": "stream",
     "text": [
      "\u001b[2m\u001b[36m(pid=15770, ip=192.168.8.53)\u001b[0m Cache disk full, cleaning.\n",
      "\u001b[2m\u001b[36m(pid=15770, ip=192.168.8.53)\u001b[0m Cache disk full, cleaning.\n",
      "\u001b[2m\u001b[36m(pid=15770, ip=192.168.8.53)\u001b[0m Cache disk full, cleaning.\n"
     ]
    },
    {
     "name": "stderr",
     "output_type": "stream",
     "text": [
      " 97% 97/100 [00:22<00:01,  1.51it/s])\u001b[0m \n",
      " 98% 98/100 [00:22<00:00,  2.01it/s])\u001b[0m \n"
     ]
    },
    {
     "name": "stdout",
     "output_type": "stream",
     "text": [
      "\u001b[2m\u001b[36m(pid=15770, ip=192.168.8.53)\u001b[0m Cache disk full, cleaning.\n",
      "\u001b[2m\u001b[36m(pid=15770, ip=192.168.8.53)\u001b[0m Cache disk full, cleaning.\n"
     ]
    },
    {
     "name": "stderr",
     "output_type": "stream",
     "text": [
      " 99% 99/100 [00:23<00:00,  1.70it/s])\u001b[0m \n",
      " 99% 99/100 [00:25<00:00,  3.88it/s])\u001b[0m \n",
      "\u001b[2m\u001b[36m(pid=15770, ip=192.168.8.53)\u001b[0m \n",
      "\u001b[2m\u001b[36m(pid=15770, ip=192.168.8.53)\u001b[0m wandb: Waiting for W&B process to finish, PID 18483\n",
      "\u001b[2m\u001b[36m(pid=15770, ip=192.168.8.53)\u001b[0m wandb: Program ended successfully.\n",
      "\u001b[2m\u001b[36m(pid=15770, ip=192.168.8.53)\u001b[0m wandb: Run summary:\n",
      "\u001b[2m\u001b[36m(pid=15770, ip=192.168.8.53)\u001b[0m wandb:               _step 96080\n",
      "\u001b[2m\u001b[36m(pid=15770, ip=192.168.8.53)\u001b[0m wandb:            _runtime 792.3132078647614\n",
      "\u001b[2m\u001b[36m(pid=15770, ip=192.168.8.53)\u001b[0m wandb:          _timestamp 1608031980.6421895\n",
      "\u001b[2m\u001b[36m(pid=15770, ip=192.168.8.53)\u001b[0m wandb:     mAP all classes 58.573197972766756\n",
      "\u001b[2m\u001b[36m(pid=15770, ip=192.168.8.53)\u001b[0m wandb: Syncing files in ../../../Trainings/wandb/wandb/run-20201215_113226-2wfg5hig:\n",
      "\u001b[2m\u001b[36m(pid=15770, ip=192.168.8.53)\u001b[0m wandb:   code/default_worker.py\n",
      "\u001b[2m\u001b[36m(pid=15770, ip=192.168.8.53)\u001b[0m wandb: plus 8 W&B file(s) and 6 media file(s)\n",
      "\u001b[2m\u001b[36m(pid=15770, ip=192.168.8.53)\u001b[0m wandb: - 0.04MB of 0.04MB uploaded\n",
      "\u001b[2m\u001b[36m(pid=15770, ip=192.168.8.53)\u001b[0m wandb: \\ 0.04MB of 0.04MB uploaded\n",
      "\u001b[2m\u001b[36m(pid=15770, ip=192.168.8.53)\u001b[0m wandb: | 0.04MB of 0.04MB uploaded\n",
      "\u001b[2m\u001b[36m(pid=15770, ip=192.168.8.53)\u001b[0m wandb: / 0.04MB of 0.04MB uploaded\n",
      "wandb:                                                                                \n",
      "\u001b[2m\u001b[36m(pid=15770, ip=192.168.8.53)\u001b[0m wandb: Synced: http://192.168.8.51:8080/reminiz/Violence%20Detection/runs/2wfg5hig\n"
     ]
    },
    {
     "name": "stdout",
     "output_type": "stream",
     "text": [
      "\u001b[2m\u001b[36m(pid=32657, ip=192.168.8.52)\u001b[0m  - 33s - loss: 0.3087 - Classifier_loss: 0.1939 - l_pred_w_loss: 0.1148 - l_pred_s_loss: 0.1148 - Classifier_categorical_accuracy: 0.9311 - l_pred_w_MAE_Lossnet: 3.5979 - l_pred_s_MAE_Lossnet: 3.5979\n",
      "\u001b[2m\u001b[36m(pid=32657, ip=192.168.8.52)\u001b[0m Epoch 25/60\n",
      "\u001b[2m\u001b[36m(pid=32657, ip=192.168.8.52)\u001b[0m  - 33s - loss: 0.3113 - Classifier_loss: 0.1919 - l_pred_w_loss: 0.1195 - l_pred_s_loss: 0.1195 - Classifier_categorical_accuracy: 0.9322 - l_pred_w_MAE_Lossnet: 3.6086 - l_pred_s_MAE_Lossnet: 3.6086\n",
      "\u001b[2m\u001b[36m(pid=32657, ip=192.168.8.52)\u001b[0m Epoch 26/60\n",
      "\u001b[2m\u001b[36m(pid=32657, ip=192.168.8.52)\u001b[0m  - 33s - loss: 0.2922 - Classifier_loss: 0.1835 - l_pred_w_loss: 0.1087 - l_pred_s_loss: 0.1087 - Classifier_categorical_accuracy: 0.9362 - l_pred_w_MAE_Lossnet: 3.3407 - l_pred_s_MAE_Lossnet: 3.3407\n",
      "\u001b[2m\u001b[36m(pid=32657, ip=192.168.8.52)\u001b[0m Epoch 27/60\n",
      "\u001b[2m\u001b[36m(pid=32657, ip=192.168.8.52)\u001b[0m  - 33s - loss: 0.1942 - Classifier_loss: 0.1172 - l_pred_w_loss: 0.0771 - l_pred_s_loss: 0.0771 - Classifier_categorical_accuracy: 0.9595 - l_pred_w_MAE_Lossnet: 3.6301 - l_pred_s_MAE_Lossnet: 3.6301\n",
      "\u001b[2m\u001b[36m(pid=32657, ip=192.168.8.52)\u001b[0m Epoch 28/60\n",
      "\u001b[2m\u001b[36m(pid=32657, ip=192.168.8.52)\u001b[0m  - 34s - loss: 0.1614 - Classifier_loss: 0.0943 - l_pred_w_loss: 0.0672 - l_pred_s_loss: 0.0672 - Classifier_categorical_accuracy: 0.9677 - l_pred_w_MAE_Lossnet: 4.1252 - l_pred_s_MAE_Lossnet: 4.1252\n",
      "\u001b[2m\u001b[36m(pid=32657, ip=192.168.8.52)\u001b[0m Epoch 29/60\n",
      "\u001b[2m\u001b[36m(pid=32657, ip=192.168.8.52)\u001b[0m  - 34s - loss: 0.1537 - Classifier_loss: 0.0868 - l_pred_w_loss: 0.0669 - l_pred_s_loss: 0.0669 - Classifier_categorical_accuracy: 0.9705 - l_pred_w_MAE_Lossnet: 4.5221 - l_pred_s_MAE_Lossnet: 4.5221\n",
      "\u001b[2m\u001b[36m(pid=32657, ip=192.168.8.52)\u001b[0m Epoch 30/60\n",
      "\u001b[2m\u001b[36m(pid=32657, ip=192.168.8.52)\u001b[0m  - 34s - loss: 0.1474 - Classifier_loss: 0.0796 - l_pred_w_loss: 0.0678 - l_pred_s_loss: 0.0678 - Classifier_categorical_accuracy: 0.9728 - l_pred_w_MAE_Lossnet: 4.6899 - l_pred_s_MAE_Lossnet: 4.6899\n",
      "\u001b[2m\u001b[36m(pid=32657, ip=192.168.8.52)\u001b[0m Epoch 31/60\n",
      "\u001b[2m\u001b[36m(pid=32657, ip=192.168.8.52)\u001b[0m  - 34s - loss: 0.1443 - Classifier_loss: 0.0750 - l_pred_w_loss: 0.0694 - l_pred_s_loss: 0.0694 - Classifier_categorical_accuracy: 0.9744 - l_pred_w_MAE_Lossnet: 4.7911 - l_pred_s_MAE_Lossnet: 4.7911\n",
      "\u001b[2m\u001b[36m(pid=32657, ip=192.168.8.52)\u001b[0m Epoch 32/60\n",
      "\u001b[2m\u001b[36m(pid=32657, ip=192.168.8.52)\u001b[0m  - 34s - loss: 0.1425 - Classifier_loss: 0.0717 - l_pred_w_loss: 0.0708 - l_pred_s_loss: 0.0708 - Classifier_categorical_accuracy: 0.9752 - l_pred_w_MAE_Lossnet: 4.8069 - l_pred_s_MAE_Lossnet: 4.8069\n",
      "\u001b[2m\u001b[36m(pid=32657, ip=192.168.8.52)\u001b[0m Epoch 33/60\n",
      "\u001b[2m\u001b[36m(pid=32657, ip=192.168.8.52)\u001b[0m  - 34s - loss: 0.1409 - Classifier_loss: 0.0665 - l_pred_w_loss: 0.0744 - l_pred_s_loss: 0.0744 - Classifier_categorical_accuracy: 0.9770 - l_pred_w_MAE_Lossnet: 4.7750 - l_pred_s_MAE_Lossnet: 4.7750\n",
      "\u001b[2m\u001b[36m(pid=32657, ip=192.168.8.52)\u001b[0m Epoch 34/60\n",
      "\u001b[2m\u001b[36m(pid=32657, ip=192.168.8.52)\u001b[0m  - 34s - loss: 0.1388 - Classifier_loss: 0.0649 - l_pred_w_loss: 0.0740 - l_pred_s_loss: 0.0740 - Classifier_categorical_accuracy: 0.9776 - l_pred_w_MAE_Lossnet: 4.7278 - l_pred_s_MAE_Lossnet: 4.7278\n",
      "\u001b[2m\u001b[36m(pid=32657, ip=192.168.8.52)\u001b[0m Epoch 35/60\n",
      "\u001b[2m\u001b[36m(pid=32657, ip=192.168.8.52)\u001b[0m  - 34s - loss: 0.1345 - Classifier_loss: 0.0616 - l_pred_w_loss: 0.0729 - l_pred_s_loss: 0.0729 - Classifier_categorical_accuracy: 0.9788 - l_pred_w_MAE_Lossnet: 4.6609 - l_pred_s_MAE_Lossnet: 4.6609\n",
      "\u001b[2m\u001b[36m(pid=32657, ip=192.168.8.52)\u001b[0m Epoch 36/60\n",
      "\u001b[2m\u001b[36m(pid=32657, ip=192.168.8.52)\u001b[0m  - 34s - loss: 0.1342 - Classifier_loss: 0.0586 - l_pred_w_loss: 0.0756 - l_pred_s_loss: 0.0756 - Classifier_categorical_accuracy: 0.9803 - l_pred_w_MAE_Lossnet: 4.6183 - l_pred_s_MAE_Lossnet: 4.6183\n",
      "\u001b[2m\u001b[36m(pid=32657, ip=192.168.8.52)\u001b[0m Epoch 37/60\n",
      "\u001b[2m\u001b[36m(pid=32657, ip=192.168.8.52)\u001b[0m  - 34s - loss: 0.1323 - Classifier_loss: 0.0563 - l_pred_w_loss: 0.0760 - l_pred_s_loss: 0.0760 - Classifier_categorical_accuracy: 0.9800 - l_pred_w_MAE_Lossnet: 4.5843 - l_pred_s_MAE_Lossnet: 4.5843\n",
      "\u001b[2m\u001b[36m(pid=32657, ip=192.168.8.52)\u001b[0m Epoch 38/60\n",
      "\u001b[2m\u001b[36m(pid=32657, ip=192.168.8.52)\u001b[0m  - 34s - loss: 0.1280 - Classifier_loss: 0.0538 - l_pred_w_loss: 0.0742 - l_pred_s_loss: 0.0742 - Classifier_categorical_accuracy: 0.9816 - l_pred_w_MAE_Lossnet: 4.5825 - l_pred_s_MAE_Lossnet: 4.5825\n",
      "\u001b[2m\u001b[36m(pid=32657, ip=192.168.8.52)\u001b[0m Epoch 39/60\n",
      "\u001b[2m\u001b[36m(pid=32657, ip=192.168.8.52)\u001b[0m  - 34s - loss: 0.1272 - Classifier_loss: 0.0510 - l_pred_w_loss: 0.0762 - l_pred_s_loss: 0.0762 - Classifier_categorical_accuracy: 0.9824 - l_pred_w_MAE_Lossnet: 4.5870 - l_pred_s_MAE_Lossnet: 4.5870\n",
      "\u001b[2m\u001b[36m(pid=32657, ip=192.168.8.52)\u001b[0m Epoch 40/60\n",
      "\u001b[2m\u001b[36m(pid=32657, ip=192.168.8.52)\u001b[0m In 1 0\n",
      "\u001b[2m\u001b[36m(pid=32657, ip=192.168.8.52)\u001b[0m Out 0 1\n",
      "\u001b[2m\u001b[36m(pid=32657, ip=192.168.8.52)\u001b[0m  - 34s - loss: 0.1270 - Classifier_loss: 0.0524 - l_pred_w_loss: 0.0746 - l_pred_s_loss: 0.0746 - Classifier_categorical_accuracy: 0.9820 - l_pred_w_MAE_Lossnet: 4.5863 - l_pred_s_MAE_Lossnet: 4.5863\n",
      "\u001b[2m\u001b[36m(pid=32657, ip=192.168.8.52)\u001b[0m Epoch 41/60\n",
      "\u001b[2m\u001b[36m(pid=32657, ip=192.168.8.52)\u001b[0m  - 34s - loss: 0.1256 - Classifier_loss: 0.0500 - l_pred_w_loss: 0.0756 - l_pred_s_loss: 0.0756 - Classifier_categorical_accuracy: 0.9818 - l_pred_w_MAE_Lossnet: 4.5951 - l_pred_s_MAE_Lossnet: 4.5951\n",
      "\u001b[2m\u001b[36m(pid=32657, ip=192.168.8.52)\u001b[0m Epoch 42/60\n",
      "\u001b[2m\u001b[36m(pid=32657, ip=192.168.8.52)\u001b[0m  - 34s - loss: 0.1260 - Classifier_loss: 0.0494 - l_pred_w_loss: 0.0766 - l_pred_s_loss: 0.0766 - Classifier_categorical_accuracy: 0.9828 - l_pred_w_MAE_Lossnet: 4.5989 - l_pred_s_MAE_Lossnet: 4.5989\n",
      "\u001b[2m\u001b[36m(pid=32657, ip=192.168.8.52)\u001b[0m Epoch 43/60\n",
      "\u001b[2m\u001b[36m(pid=32657, ip=192.168.8.52)\u001b[0m  - 34s - loss: 0.1226 - Classifier_loss: 0.0481 - l_pred_w_loss: 0.0745 - l_pred_s_loss: 0.0745 - Classifier_categorical_accuracy: 0.9835 - l_pred_w_MAE_Lossnet: 4.5960 - l_pred_s_MAE_Lossnet: 4.5960\n",
      "\u001b[2m\u001b[36m(pid=32657, ip=192.168.8.52)\u001b[0m Epoch 44/60\n",
      "\u001b[2m\u001b[36m(pid=32657, ip=192.168.8.52)\u001b[0m  - 34s - loss: 0.1245 - Classifier_loss: 0.0486 - l_pred_w_loss: 0.0760 - l_pred_s_loss: 0.0760 - Classifier_categorical_accuracy: 0.9836 - l_pred_w_MAE_Lossnet: 4.5947 - l_pred_s_MAE_Lossnet: 4.5947\n",
      "\u001b[2m\u001b[36m(pid=32657, ip=192.168.8.52)\u001b[0m Epoch 45/60\n",
      "\u001b[2m\u001b[36m(pid=32657, ip=192.168.8.52)\u001b[0m  - 34s - loss: 0.1255 - Classifier_loss: 0.0495 - l_pred_w_loss: 0.0760 - l_pred_s_loss: 0.0760 - Classifier_categorical_accuracy: 0.9834 - l_pred_w_MAE_Lossnet: 4.6005 - l_pred_s_MAE_Lossnet: 4.6005\n",
      "\u001b[2m\u001b[36m(pid=32657, ip=192.168.8.52)\u001b[0m Epoch 46/60\n",
      "\u001b[2m\u001b[36m(pid=32657, ip=192.168.8.52)\u001b[0m  - 34s - loss: 0.1254 - Classifier_loss: 0.0477 - l_pred_w_loss: 0.0777 - l_pred_s_loss: 0.0777 - Classifier_categorical_accuracy: 0.9837 - l_pred_w_MAE_Lossnet: 4.5917 - l_pred_s_MAE_Lossnet: 4.5917\n",
      "\u001b[2m\u001b[36m(pid=32657, ip=192.168.8.52)\u001b[0m Epoch 47/60\n",
      "\u001b[2m\u001b[36m(pid=32657, ip=192.168.8.52)\u001b[0m  - 34s - loss: 0.1245 - Classifier_loss: 0.0483 - l_pred_w_loss: 0.0762 - l_pred_s_loss: 0.0762 - Classifier_categorical_accuracy: 0.9833 - l_pred_w_MAE_Lossnet: 4.5830 - l_pred_s_MAE_Lossnet: 4.5830\n",
      "\u001b[2m\u001b[36m(pid=32657, ip=192.168.8.52)\u001b[0m Epoch 48/60\n",
      "\u001b[2m\u001b[36m(pid=32657, ip=192.168.8.52)\u001b[0m  - 34s - loss: 0.1246 - Classifier_loss: 0.0471 - l_pred_w_loss: 0.0776 - l_pred_s_loss: 0.0776 - Classifier_categorical_accuracy: 0.9840 - l_pred_w_MAE_Lossnet: 4.5853 - l_pred_s_MAE_Lossnet: 4.5853\n",
      "\u001b[2m\u001b[36m(pid=32657, ip=192.168.8.52)\u001b[0m Epoch 49/60\n",
      "\u001b[2m\u001b[36m(pid=32657, ip=192.168.8.52)\u001b[0m  - 34s - loss: 0.1253 - Classifier_loss: 0.0479 - l_pred_w_loss: 0.0774 - l_pred_s_loss: 0.0774 - Classifier_categorical_accuracy: 0.9835 - l_pred_w_MAE_Lossnet: 4.5920 - l_pred_s_MAE_Lossnet: 4.5920\n",
      "\u001b[2m\u001b[36m(pid=32657, ip=192.168.8.52)\u001b[0m Epoch 50/60\n",
      "\u001b[2m\u001b[36m(pid=32657, ip=192.168.8.52)\u001b[0m  - 34s - loss: 0.1241 - Classifier_loss: 0.0470 - l_pred_w_loss: 0.0771 - l_pred_s_loss: 0.0771 - Classifier_categorical_accuracy: 0.9842 - l_pred_w_MAE_Lossnet: 4.5870 - l_pred_s_MAE_Lossnet: 4.5870\n",
      "\u001b[2m\u001b[36m(pid=32657, ip=192.168.8.52)\u001b[0m Epoch 51/60\n",
      "\u001b[2m\u001b[36m(pid=32657, ip=192.168.8.52)\u001b[0m  - 34s - loss: 0.1261 - Classifier_loss: 0.0468 - l_pred_w_loss: 0.0793 - l_pred_s_loss: 0.0793 - Classifier_categorical_accuracy: 0.9839 - l_pred_w_MAE_Lossnet: 4.5810 - l_pred_s_MAE_Lossnet: 4.5810\n",
      "\u001b[2m\u001b[36m(pid=32657, ip=192.168.8.52)\u001b[0m Epoch 52/60\n",
      "\u001b[2m\u001b[36m(pid=32657, ip=192.168.8.52)\u001b[0m  - 34s - loss: 0.1244 - Classifier_loss: 0.0463 - l_pred_w_loss: 0.0782 - l_pred_s_loss: 0.0782 - Classifier_categorical_accuracy: 0.9841 - l_pred_w_MAE_Lossnet: 4.5844 - l_pred_s_MAE_Lossnet: 4.5844\n",
      "\u001b[2m\u001b[36m(pid=32657, ip=192.168.8.52)\u001b[0m Epoch 53/60\n",
      "\u001b[2m\u001b[36m(pid=32657, ip=192.168.8.52)\u001b[0m  - 35s - loss: 0.1243 - Classifier_loss: 0.0479 - l_pred_w_loss: 0.0765 - l_pred_s_loss: 0.0765 - Classifier_categorical_accuracy: 0.9833 - l_pred_w_MAE_Lossnet: 4.5761 - l_pred_s_MAE_Lossnet: 4.5761\n",
      "\u001b[2m\u001b[36m(pid=32657, ip=192.168.8.52)\u001b[0m Epoch 54/60\n",
      "\u001b[2m\u001b[36m(pid=32657, ip=192.168.8.52)\u001b[0m  - 34s - loss: 0.1245 - Classifier_loss: 0.0446 - l_pred_w_loss: 0.0800 - l_pred_s_loss: 0.0800 - Classifier_categorical_accuracy: 0.9849 - l_pred_w_MAE_Lossnet: 4.5792 - l_pred_s_MAE_Lossnet: 4.5792\n",
      "\u001b[2m\u001b[36m(pid=32657, ip=192.168.8.52)\u001b[0m Epoch 55/60\n",
      "\u001b[2m\u001b[36m(pid=32657, ip=192.168.8.52)\u001b[0m  - 34s - loss: 0.1233 - Classifier_loss: 0.0449 - l_pred_w_loss: 0.0784 - l_pred_s_loss: 0.0784 - Classifier_categorical_accuracy: 0.9841 - l_pred_w_MAE_Lossnet: 4.5615 - l_pred_s_MAE_Lossnet: 4.5615\n",
      "\u001b[2m\u001b[36m(pid=32657, ip=192.168.8.52)\u001b[0m Epoch 56/60\n",
      "\u001b[2m\u001b[36m(pid=32657, ip=192.168.8.52)\u001b[0m  - 34s - loss: 0.1250 - Classifier_loss: 0.0445 - l_pred_w_loss: 0.0805 - l_pred_s_loss: 0.0805 - Classifier_categorical_accuracy: 0.9845 - l_pred_w_MAE_Lossnet: 4.5572 - l_pred_s_MAE_Lossnet: 4.5572\n",
      "\u001b[2m\u001b[36m(pid=32657, ip=192.168.8.52)\u001b[0m Epoch 57/60\n",
      "\u001b[2m\u001b[36m(pid=32657, ip=192.168.8.52)\u001b[0m  - 34s - loss: 0.1231 - Classifier_loss: 0.0447 - l_pred_w_loss: 0.0784 - l_pred_s_loss: 0.0784 - Classifier_categorical_accuracy: 0.9845 - l_pred_w_MAE_Lossnet: 4.5581 - l_pred_s_MAE_Lossnet: 4.5581\n",
      "\u001b[2m\u001b[36m(pid=32657, ip=192.168.8.52)\u001b[0m Epoch 58/60\n",
      "\u001b[2m\u001b[36m(pid=32657, ip=192.168.8.52)\u001b[0m  - 34s - loss: 0.1220 - Classifier_loss: 0.0431 - l_pred_w_loss: 0.0789 - l_pred_s_loss: 0.0789 - Classifier_categorical_accuracy: 0.9859 - l_pred_w_MAE_Lossnet: 4.5466 - l_pred_s_MAE_Lossnet: 4.5466\n",
      "\u001b[2m\u001b[36m(pid=32657, ip=192.168.8.52)\u001b[0m Epoch 59/60\n",
      "\u001b[2m\u001b[36m(pid=32657, ip=192.168.8.52)\u001b[0m  - 34s - loss: 0.1249 - Classifier_loss: 0.0456 - l_pred_w_loss: 0.0793 - l_pred_s_loss: 0.0793 - Classifier_categorical_accuracy: 0.9842 - l_pred_w_MAE_Lossnet: 4.5480 - l_pred_s_MAE_Lossnet: 4.5480\n",
      "\u001b[2m\u001b[36m(pid=32657, ip=192.168.8.52)\u001b[0m Epoch 60/60\n",
      "\u001b[2m\u001b[36m(pid=32657, ip=192.168.8.52)\u001b[0m  - 34s - loss: 0.1255 - Classifier_loss: 0.0442 - l_pred_w_loss: 0.0813 - l_pred_s_loss: 0.0813 - Classifier_categorical_accuracy: 0.9848 - l_pred_w_MAE_Lossnet: 4.5462 - l_pred_s_MAE_Lossnet: 4.5462\n",
      "\u001b[2m\u001b[36m(pid=12774, ip=192.168.8.52)\u001b[0m Epoch: 41 Time: 2020-12-15 13:02:20 Train loss: 1.44 Count NaN: 0 Saving\n"
     ]
    },
    {
     "name": "stderr",
     "output_type": "stream",
     "text": [
      "\u001b[2m\u001b[36m(pid=4612, ip=192.168.8.54)\u001b[0m /home/reminiz/ReminizML2/python_env/lib/python3.7/site-packages/tensorflow/python/framework/dtypes.py:526: FutureWarning: Passing (type, 1) or '1type' as a synonym of type is deprecated; in a future version of numpy, it will be understood as (type, (1,)) / '(1,)type'.\n",
      "\u001b[2m\u001b[36m(pid=4612, ip=192.168.8.54)\u001b[0m   _np_qint8 = np.dtype([(\"qint8\", np.int8, 1)])\n",
      "\u001b[2m\u001b[36m(pid=4612, ip=192.168.8.54)\u001b[0m /home/reminiz/ReminizML2/python_env/lib/python3.7/site-packages/tensorflow/python/framework/dtypes.py:527: FutureWarning: Passing (type, 1) or '1type' as a synonym of type is deprecated; in a future version of numpy, it will be understood as (type, (1,)) / '(1,)type'.\n",
      "\u001b[2m\u001b[36m(pid=4612, ip=192.168.8.54)\u001b[0m   _np_quint8 = np.dtype([(\"quint8\", np.uint8, 1)])\n",
      "\u001b[2m\u001b[36m(pid=4612, ip=192.168.8.54)\u001b[0m /home/reminiz/ReminizML2/python_env/lib/python3.7/site-packages/tensorflow/python/framework/dtypes.py:528: FutureWarning: Passing (type, 1) or '1type' as a synonym of type is deprecated; in a future version of numpy, it will be understood as (type, (1,)) / '(1,)type'.\n",
      "\u001b[2m\u001b[36m(pid=4612, ip=192.168.8.54)\u001b[0m   _np_qint16 = np.dtype([(\"qint16\", np.int16, 1)])\n",
      "\u001b[2m\u001b[36m(pid=4612, ip=192.168.8.54)\u001b[0m /home/reminiz/ReminizML2/python_env/lib/python3.7/site-packages/tensorflow/python/framework/dtypes.py:529: FutureWarning: Passing (type, 1) or '1type' as a synonym of type is deprecated; in a future version of numpy, it will be understood as (type, (1,)) / '(1,)type'.\n",
      "\u001b[2m\u001b[36m(pid=4612, ip=192.168.8.54)\u001b[0m   _np_quint16 = np.dtype([(\"quint16\", np.uint16, 1)])\n",
      "\u001b[2m\u001b[36m(pid=4612, ip=192.168.8.54)\u001b[0m /home/reminiz/ReminizML2/python_env/lib/python3.7/site-packages/tensorflow/python/framework/dtypes.py:530: FutureWarning: Passing (type, 1) or '1type' as a synonym of type is deprecated; in a future version of numpy, it will be understood as (type, (1,)) / '(1,)type'.\n",
      "\u001b[2m\u001b[36m(pid=4612, ip=192.168.8.54)\u001b[0m   _np_qint32 = np.dtype([(\"qint32\", np.int32, 1)])\n",
      "\u001b[2m\u001b[36m(pid=4612, ip=192.168.8.54)\u001b[0m /home/reminiz/ReminizML2/python_env/lib/python3.7/site-packages/tensorflow/python/framework/dtypes.py:535: FutureWarning: Passing (type, 1) or '1type' as a synonym of type is deprecated; in a future version of numpy, it will be understood as (type, (1,)) / '(1,)type'.\n",
      "\u001b[2m\u001b[36m(pid=4612, ip=192.168.8.54)\u001b[0m   np_resource = np.dtype([(\"resource\", np.ubyte, 1)])\n",
      "\u001b[2m\u001b[36m(pid=4612, ip=192.168.8.54)\u001b[0m wandb: Tracking run with wandb version 0.8.36\n",
      "\u001b[2m\u001b[36m(pid=4612, ip=192.168.8.54)\u001b[0m wandb: Wandb version 0.10.12 is available!  To upgrade, please run:\n",
      "\u001b[2m\u001b[36m(pid=4612, ip=192.168.8.54)\u001b[0m wandb:  $ pip install wandb --upgrade\n",
      "\u001b[2m\u001b[36m(pid=4612, ip=192.168.8.54)\u001b[0m wandb: Run data is saved locally in ../../../Trainings/wandb/wandb/run-20201215_120239-2wfg5hig\n",
      "\u001b[2m\u001b[36m(pid=4612, ip=192.168.8.54)\u001b[0m wandb: Syncing run 2wfg5hig\n",
      "\u001b[2m\u001b[36m(pid=4612, ip=192.168.8.54)\u001b[0m wandb: ⭐️ View project at http://192.168.8.51:8080/reminiz/Violence%20Detection\n",
      "\u001b[2m\u001b[36m(pid=4612, ip=192.168.8.54)\u001b[0m wandb: 🚀 View run at http://192.168.8.51:8080/reminiz/Violence%20Detection/runs/2wfg5hig\n",
      "\u001b[2m\u001b[36m(pid=4612, ip=192.168.8.54)\u001b[0m wandb: Run `wandb off` to turn off syncing.\n",
      "\u001b[2m\u001b[36m(pid=4612, ip=192.168.8.54)\u001b[0m \n",
      "\u001b[2m\u001b[36m(pid=4612, ip=192.168.8.54)\u001b[0m WARNING:tensorflow:From /home/reminiz/ReminizML2/python_env/lib/python3.7/site-packages/tensorflow/python/framework/op_def_library.py:263: colocate_with (from tensorflow.python.framework.ops) is deprecated and will be removed in a future version.\n",
      "\u001b[2m\u001b[36m(pid=4612, ip=192.168.8.54)\u001b[0m Instructions for updating:\n",
      "\u001b[2m\u001b[36m(pid=4612, ip=192.168.8.54)\u001b[0m Colocations handled automatically by placer.\n",
      "\u001b[2m\u001b[36m(pid=4612, ip=192.168.8.54)\u001b[0m WARNING:tensorflow:From /mnt/Ressources/Quentin/Detection/core/common.py:25: batch_normalization (from tensorflow.python.layers.normalization) is deprecated and will be removed in a future version.\n",
      "\u001b[2m\u001b[36m(pid=4612, ip=192.168.8.54)\u001b[0m Instructions for updating:\n",
      "\u001b[2m\u001b[36m(pid=4612, ip=192.168.8.54)\u001b[0m Use keras.layers.batch_normalization instead.\n"
     ]
    },
    {
     "name": "stdout",
     "output_type": "stream",
     "text": [
      "\u001b[2m\u001b[36m(pid=4612, ip=192.168.8.54)\u001b[0m {0: 'FIREARMS', 1: 'COLDARMS'}\n"
     ]
    },
    {
     "name": "stderr",
     "output_type": "stream",
     "text": [
      "\u001b[2m\u001b[36m(pid=4612, ip=192.168.8.54)\u001b[0m 2020-12-15 13:02:43.269520: I tensorflow/core/platform/cpu_feature_guard.cc:141] Your CPU supports instructions that this TensorFlow binary was not compiled to use: AVX2 FMA\n",
      "\u001b[2m\u001b[36m(pid=4612, ip=192.168.8.54)\u001b[0m 2020-12-15 13:02:43.294477: I tensorflow/core/platform/profile_utils/cpu_utils.cc:94] CPU Frequency: 3300095000 Hz\n",
      "\u001b[2m\u001b[36m(pid=4612, ip=192.168.8.54)\u001b[0m 2020-12-15 13:02:43.295285: I tensorflow/compiler/xla/service/service.cc:150] XLA service 0x6d98a30 executing computations on platform Host. Devices:\n",
      "\u001b[2m\u001b[36m(pid=4612, ip=192.168.8.54)\u001b[0m 2020-12-15 13:02:43.295327: I tensorflow/compiler/xla/service/service.cc:158]   StreamExecutor device (0): <undefined>, <undefined>\n",
      "\u001b[2m\u001b[36m(pid=4612, ip=192.168.8.54)\u001b[0m 2020-12-15 13:02:43.369577: I tensorflow/compiler/xla/service/service.cc:150] XLA service 0x6dd4cf0 executing computations on platform CUDA. Devices:\n",
      "\u001b[2m\u001b[36m(pid=4612, ip=192.168.8.54)\u001b[0m 2020-12-15 13:02:43.369620: I tensorflow/compiler/xla/service/service.cc:158]   StreamExecutor device (0): GeForce GTX TITAN X, Compute Capability 5.2\n",
      "\u001b[2m\u001b[36m(pid=4612, ip=192.168.8.54)\u001b[0m 2020-12-15 13:02:43.369818: I tensorflow/core/common_runtime/gpu/gpu_device.cc:1433] Found device 0 with properties: \n",
      "\u001b[2m\u001b[36m(pid=4612, ip=192.168.8.54)\u001b[0m name: GeForce GTX TITAN X major: 5 minor: 2 memoryClockRate(GHz): 1.076\n",
      "\u001b[2m\u001b[36m(pid=4612, ip=192.168.8.54)\u001b[0m pciBusID: 0000:4c:00.0\n",
      "\u001b[2m\u001b[36m(pid=4612, ip=192.168.8.54)\u001b[0m totalMemory: 11.92GiB freeMemory: 11.82GiB\n",
      "\u001b[2m\u001b[36m(pid=4612, ip=192.168.8.54)\u001b[0m 2020-12-15 13:02:43.369849: I tensorflow/core/common_runtime/gpu/gpu_device.cc:1512] Adding visible gpu devices: 0\n",
      "\u001b[2m\u001b[36m(pid=4612, ip=192.168.8.54)\u001b[0m 2020-12-15 13:02:43.372494: I tensorflow/core/common_runtime/gpu/gpu_device.cc:984] Device interconnect StreamExecutor with strength 1 edge matrix:\n",
      "\u001b[2m\u001b[36m(pid=4612, ip=192.168.8.54)\u001b[0m 2020-12-15 13:02:43.372523: I tensorflow/core/common_runtime/gpu/gpu_device.cc:990]      0 \n",
      "\u001b[2m\u001b[36m(pid=4612, ip=192.168.8.54)\u001b[0m 2020-12-15 13:02:43.372535: I tensorflow/core/common_runtime/gpu/gpu_device.cc:1003] 0:   N \n",
      "\u001b[2m\u001b[36m(pid=4612, ip=192.168.8.54)\u001b[0m 2020-12-15 13:02:43.372648: I tensorflow/core/common_runtime/gpu/gpu_device.cc:1115] Created TensorFlow device (/job:localhost/replica:0/task:0/device:GPU:0 with 11496 MB memory) -> physical GPU (device: 0, name: GeForce GTX TITAN X, pci bus id: 0000:4c:00.0, compute capability: 5.2)\n",
      "\u001b[2m\u001b[36m(pid=4612, ip=192.168.8.54)\u001b[0m WARNING:tensorflow:From /home/reminiz/ReminizML2/python_env/lib/python3.7/site-packages/tensorflow/python/training/saver.py:1266: checkpoint_exists (from tensorflow.python.training.checkpoint_management) is deprecated and will be removed in a future version.\n",
      "\u001b[2m\u001b[36m(pid=4612, ip=192.168.8.54)\u001b[0m Instructions for updating:\n",
      "\u001b[2m\u001b[36m(pid=4612, ip=192.168.8.54)\u001b[0m Use standard file APIs to check for files with this prefix.\n"
     ]
    },
    {
     "name": "stdout",
     "output_type": "stream",
     "text": [
      "\u001b[2m\u001b[36m(pid=4612, ip=192.168.8.54)\u001b[0m Restoring from /mnt/Trainings/models/violence_detection_weapons_0/checkpoint/epoch41.ckpt-41\n"
     ]
    },
    {
     "name": "stderr",
     "output_type": "stream",
     "text": [
      "  0% 0/100 [00:00<?, ?it/s]E1215 13:02:49.431644  4612  4621 task_manager.cc:323] Task failed: IOError: cancelling all pending tasks of dead actor: Type=ACTOR_TASK, Language=PYTHON, Resources: {}, function_descriptor={type=PythonFunctionDescriptor, module_name=AutoML.datanode, class_name=DataNode, function_name=get_image, function_hash=}, task_id=c23cc26351ee766e02fe305401000000, task_name=DataNode.get_image(), job_id=01000000, num_args=6, num_returns=2, actor_task_spec={actor_id=02fe305401000000, actor_caller_id=ffffffffffffffff72c6cc170c000000, actor_counter=0}\n",
      "  1% 1/100 [00:02<03:34,  2.16s/it])\u001b[0m \n",
      "  3% 3/100 [00:02<02:28,  1.53s/it])\u001b[0m \n",
      "  5% 5/100 [00:02<01:44,  1.10s/it])\u001b[0m \n",
      "  7% 7/100 [00:02<01:13,  1.27it/s])\u001b[0m \n",
      "  9% 9/100 [00:02<00:51,  1.75it/s])\u001b[0m \n",
      " 11% 11/100 [00:02<00:37,  2.37it/s]\u001b[0m \n",
      " 13% 13/100 [00:03<00:30,  2.83it/s]\u001b[0m \n",
      " 15% 15/100 [00:03<00:23,  3.65it/s]\u001b[0m \n",
      " 17% 17/100 [00:03<00:17,  4.76it/s]\u001b[0m \n",
      " 19% 19/100 [00:04<00:22,  3.65it/s]\u001b[0m \n",
      " 21% 21/100 [00:04<00:18,  4.16it/s]\u001b[0m \n",
      " 23% 23/100 [00:04<00:14,  5.30it/s]\u001b[0m \n",
      " 25% 25/100 [00:04<00:11,  6.71it/s]\u001b[0m \n",
      " 27% 27/100 [00:05<00:09,  8.03it/s]\u001b[0m \n",
      " 29% 29/100 [00:05<00:08,  8.12it/s]\u001b[0m \n",
      " 31% 31/100 [00:05<00:12,  5.52it/s]\u001b[0m \n",
      " 33% 33/100 [00:06<00:09,  6.89it/s]\u001b[0m \n",
      " 35% 35/100 [00:06<00:11,  5.63it/s]\u001b[0m \n",
      " 37% 37/100 [00:06<00:09,  6.66it/s]\u001b[0m \n",
      " 39% 39/100 [00:06<00:08,  7.59it/s]\u001b[0m \n",
      " 41% 41/100 [00:07<00:06,  8.95it/s]\u001b[0m \n",
      " 43% 43/100 [00:07<00:09,  6.15it/s]\u001b[0m \n",
      " 45% 45/100 [00:07<00:07,  7.55it/s]\u001b[0m \n",
      " 47% 47/100 [00:08<00:06,  7.76it/s]\u001b[0m \n",
      " 49% 49/100 [00:08<00:06,  7.68it/s]\u001b[0m \n",
      " 50% 50/100 [00:08<00:06,  7.81it/s]\u001b[0m \n",
      " 52% 52/100 [00:08<00:05,  8.19it/s]\u001b[0m \n",
      " 54% 54/100 [00:08<00:05,  9.20it/s]\u001b[0m \n",
      " 56% 56/100 [00:08<00:04,  9.99it/s]\u001b[0m \n",
      " 58% 58/100 [00:09<00:07,  5.70it/s]\u001b[0m \n",
      " 59% 59/100 [00:09<00:07,  5.38it/s]\u001b[0m \n",
      " 60% 60/100 [00:09<00:06,  5.87it/s]\u001b[0m \n",
      " 62% 62/100 [00:10<00:05,  7.17it/s]\u001b[0m \n",
      " 64% 64/100 [00:10<00:04,  8.55it/s]\u001b[0m \n",
      " 66% 66/100 [00:10<00:03,  9.07it/s]\u001b[0m \n",
      " 68% 68/100 [00:10<00:03,  9.43it/s]\u001b[0m \n",
      " 70% 70/100 [00:10<00:02, 10.78it/s]\u001b[0m \n",
      " 72% 72/100 [00:11<00:04,  6.95it/s]\u001b[0m \n",
      " 74% 74/100 [00:11<00:03,  7.26it/s]\u001b[0m \n",
      " 75% 75/100 [00:11<00:04,  5.74it/s]\u001b[0m \n",
      " 76% 76/100 [00:11<00:03,  6.53it/s]\u001b[0m \n",
      " 78% 78/100 [00:12<00:02,  7.43it/s]\u001b[0m \n",
      " 80% 80/100 [00:12<00:02,  8.99it/s]\u001b[0m \n",
      " 82% 82/100 [00:12<00:01,  9.91it/s]\u001b[0m \n",
      " 84% 84/100 [00:12<00:02,  7.57it/s]\u001b[0m \n",
      " 85% 85/100 [00:12<00:01,  7.71it/s]\u001b[0m \n",
      " 86% 86/100 [00:13<00:03,  4.34it/s]\u001b[0m \n",
      " 88% 88/100 [00:13<00:02,  5.44it/s]\u001b[0m \n",
      " 90% 90/100 [00:13<00:01,  5.43it/s]\u001b[0m \n",
      " 92% 92/100 [00:14<00:01,  6.42it/s]\u001b[0m \n",
      " 94% 94/100 [00:14<00:00,  7.69it/s]\u001b[0m \n",
      " 96% 96/100 [00:14<00:00,  9.14it/s]\u001b[0m \n",
      " 98% 98/100 [00:14<00:00, 10.31it/s]\u001b[0m \n",
      "100% 100/100 [00:14<00:00, 11.45it/s][0m \n",
      "100% 100/100 [00:17<00:00,  5.75it/s][0m \n",
      "\u001b[2m\u001b[36m(pid=4612, ip=192.168.8.54)\u001b[0m \n",
      "\u001b[2m\u001b[36m(pid=4612, ip=192.168.8.54)\u001b[0m wandb: Waiting for W&B process to finish, PID 4747\n",
      "\u001b[2m\u001b[36m(pid=4612, ip=192.168.8.54)\u001b[0m wandb: Program ended successfully.\n",
      "\u001b[2m\u001b[36m(pid=4612, ip=192.168.8.54)\u001b[0m wandb: Run summary:\n",
      "\u001b[2m\u001b[36m(pid=4612, ip=192.168.8.54)\u001b[0m wandb:               _step 98482\n",
      "\u001b[2m\u001b[36m(pid=4612, ip=192.168.8.54)\u001b[0m wandb:            _runtime 823.1241433620453\n",
      "\u001b[2m\u001b[36m(pid=4612, ip=192.168.8.54)\u001b[0m wandb:          _timestamp 1608033786.7231383\n",
      "\u001b[2m\u001b[36m(pid=4612, ip=192.168.8.54)\u001b[0m wandb:     mAP all classes 49.64201907129594\n",
      "\u001b[2m\u001b[36m(pid=4612, ip=192.168.8.54)\u001b[0m wandb: Syncing files in ../../../Trainings/wandb/wandb/run-20201215_120239-2wfg5hig:\n",
      "\u001b[2m\u001b[36m(pid=4612, ip=192.168.8.54)\u001b[0m wandb:   code/default_worker.py\n",
      "\u001b[2m\u001b[36m(pid=4612, ip=192.168.8.54)\u001b[0m wandb: plus 8 W&B file(s) and 6 media file(s)\n",
      "\u001b[2m\u001b[36m(pid=4612, ip=192.168.8.54)\u001b[0m wandb: - 1.16MB of 1.16MB uploaded\n",
      "\u001b[2m\u001b[36m(pid=4612, ip=192.168.8.54)\u001b[0m wandb: \\ 1.16MB of 1.16MB uploaded\n",
      "\u001b[2m\u001b[36m(pid=4612, ip=192.168.8.54)\u001b[0m wandb: | 1.16MB of 1.16MB uploaded\n",
      "\u001b[2m\u001b[36m(pid=4612, ip=192.168.8.54)\u001b[0m wandb: / 1.16MB of 1.16MB uploaded\n",
      "\u001b[2m\u001b[36m(pid=4612, ip=192.168.8.54)\u001b[0m wandb: - 1.16MB of 1.16MB uploaded\n",
      "wandb:                                                                                \n",
      "\u001b[2m\u001b[36m(pid=4612, ip=192.168.8.54)\u001b[0m wandb: Synced: http://192.168.8.51:8080/reminiz/Violence%20Detection/runs/2wfg5hig\n",
      "\u001b[2m\u001b[36m(pid=1870, ip=192.168.8.55)\u001b[0m /home/reminiz/ReminizML2/python_env/lib/python3.7/site-packages/tensorflow/python/framework/dtypes.py:526: FutureWarning: Passing (type, 1) or '1type' as a synonym of type is deprecated; in a future version of numpy, it will be understood as (type, (1,)) / '(1,)type'.\n",
      "\u001b[2m\u001b[36m(pid=1870, ip=192.168.8.55)\u001b[0m   _np_qint8 = np.dtype([(\"qint8\", np.int8, 1)])\n",
      "\u001b[2m\u001b[36m(pid=1870, ip=192.168.8.55)\u001b[0m /home/reminiz/ReminizML2/python_env/lib/python3.7/site-packages/tensorflow/python/framework/dtypes.py:527: FutureWarning: Passing (type, 1) or '1type' as a synonym of type is deprecated; in a future version of numpy, it will be understood as (type, (1,)) / '(1,)type'.\n",
      "\u001b[2m\u001b[36m(pid=1870, ip=192.168.8.55)\u001b[0m   _np_quint8 = np.dtype([(\"quint8\", np.uint8, 1)])\n",
      "\u001b[2m\u001b[36m(pid=1870, ip=192.168.8.55)\u001b[0m /home/reminiz/ReminizML2/python_env/lib/python3.7/site-packages/tensorflow/python/framework/dtypes.py:528: FutureWarning: Passing (type, 1) or '1type' as a synonym of type is deprecated; in a future version of numpy, it will be understood as (type, (1,)) / '(1,)type'.\n",
      "\u001b[2m\u001b[36m(pid=1870, ip=192.168.8.55)\u001b[0m   _np_qint16 = np.dtype([(\"qint16\", np.int16, 1)])\n",
      "\u001b[2m\u001b[36m(pid=1870, ip=192.168.8.55)\u001b[0m /home/reminiz/ReminizML2/python_env/lib/python3.7/site-packages/tensorflow/python/framework/dtypes.py:529: FutureWarning: Passing (type, 1) or '1type' as a synonym of type is deprecated; in a future version of numpy, it will be understood as (type, (1,)) / '(1,)type'.\n",
      "\u001b[2m\u001b[36m(pid=1870, ip=192.168.8.55)\u001b[0m   _np_quint16 = np.dtype([(\"quint16\", np.uint16, 1)])\n",
      "\u001b[2m\u001b[36m(pid=1870, ip=192.168.8.55)\u001b[0m /home/reminiz/ReminizML2/python_env/lib/python3.7/site-packages/tensorflow/python/framework/dtypes.py:530: FutureWarning: Passing (type, 1) or '1type' as a synonym of type is deprecated; in a future version of numpy, it will be understood as (type, (1,)) / '(1,)type'.\n",
      "\u001b[2m\u001b[36m(pid=1870, ip=192.168.8.55)\u001b[0m   _np_qint32 = np.dtype([(\"qint32\", np.int32, 1)])\n",
      "\u001b[2m\u001b[36m(pid=1870, ip=192.168.8.55)\u001b[0m /home/reminiz/ReminizML2/python_env/lib/python3.7/site-packages/tensorflow/python/framework/dtypes.py:535: FutureWarning: Passing (type, 1) or '1type' as a synonym of type is deprecated; in a future version of numpy, it will be understood as (type, (1,)) / '(1,)type'.\n",
      "\u001b[2m\u001b[36m(pid=1870, ip=192.168.8.55)\u001b[0m   np_resource = np.dtype([(\"resource\", np.ubyte, 1)])\n"
     ]
    },
    {
     "name": "stdout",
     "output_type": "stream",
     "text": [
      "\u001b[2m\u001b[36m(pid=1870, ip=192.168.8.55)\u001b[0m \n",
      "\u001b[2m\u001b[36m(pid=1870, ip=192.168.8.55)\u001b[0m \n",
      "\u001b[2m\u001b[36m(pid=1870, ip=192.168.8.55)\u001b[0m ---------------------------------------------------------------------------\n",
      "\u001b[2m\u001b[36m(pid=1870, ip=192.168.8.55)\u001b[0m \tRun : AudioSet_SB_CNN_res3_74 \n",
      "\u001b[2m\u001b[36m(pid=1870, ip=192.168.8.55)\u001b[0m \tProject : AudioSet \n",
      "\u001b[2m\u001b[36m(pid=1870, ip=192.168.8.55)\u001b[0m \tUser : Arnaud\n",
      "\u001b[2m\u001b[36m(pid=1870, ip=192.168.8.55)\u001b[0m ---------------------------------------------------------------------------\n"
     ]
    },
    {
     "name": "stderr",
     "output_type": "stream",
     "text": [
      "\u001b[2m\u001b[36m(pid=1870, ip=192.168.8.55)\u001b[0m wandb: Tracking run with wandb version 0.8.36\n",
      "\u001b[2m\u001b[36m(pid=1870, ip=192.168.8.55)\u001b[0m wandb: Wandb version 0.10.12 is available!  To upgrade, please run:\n",
      "\u001b[2m\u001b[36m(pid=1870, ip=192.168.8.55)\u001b[0m wandb:  $ pip install wandb --upgrade\n",
      "\u001b[2m\u001b[36m(pid=1870, ip=192.168.8.55)\u001b[0m wandb: Run data is saved locally in ../../../Trainings/wandb/wandb/run-20201215_122508-2518txj2\n",
      "\u001b[2m\u001b[36m(pid=1870, ip=192.168.8.55)\u001b[0m wandb: Syncing run 2518txj2\n",
      "\u001b[2m\u001b[36m(pid=1870, ip=192.168.8.55)\u001b[0m wandb: ⭐️ View project at http://192.168.8.51:8080/reminiz/AudioSet\n",
      "\u001b[2m\u001b[36m(pid=1870, ip=192.168.8.55)\u001b[0m wandb: 🚀 View run at http://192.168.8.51:8080/reminiz/AudioSet/runs/2518txj2\n",
      "\u001b[2m\u001b[36m(pid=1870, ip=192.168.8.55)\u001b[0m wandb: Run `wandb off` to turn off syncing.\n",
      "\u001b[2m\u001b[36m(pid=1870, ip=192.168.8.55)\u001b[0m \n",
      "\u001b[2m\u001b[36m(pid=1870, ip=192.168.8.55)\u001b[0m 2020-12-15 13:25:10.781527: I tensorflow/core/platform/cpu_feature_guard.cc:141] Your CPU supports instructions that this TensorFlow binary was not compiled to use: AVX2 FMA\n",
      "\u001b[2m\u001b[36m(pid=1870, ip=192.168.8.55)\u001b[0m 2020-12-15 13:25:10.844816: I tensorflow/core/platform/profile_utils/cpu_utils.cc:94] CPU Frequency: 3599935000 Hz\n",
      "\u001b[2m\u001b[36m(pid=1870, ip=192.168.8.55)\u001b[0m 2020-12-15 13:25:10.846586: I tensorflow/compiler/xla/service/service.cc:150] XLA service 0x100de690 executing computations on platform Host. Devices:\n",
      "\u001b[2m\u001b[36m(pid=1870, ip=192.168.8.55)\u001b[0m 2020-12-15 13:25:10.846608: I tensorflow/compiler/xla/service/service.cc:158]   StreamExecutor device (0): <undefined>, <undefined>\n",
      "\u001b[2m\u001b[36m(pid=1870, ip=192.168.8.55)\u001b[0m 2020-12-15 13:25:11.019196: I tensorflow/compiler/xla/service/service.cc:150] XLA service 0x1011a930 executing computations on platform CUDA. Devices:\n",
      "\u001b[2m\u001b[36m(pid=1870, ip=192.168.8.55)\u001b[0m 2020-12-15 13:25:11.019239: I tensorflow/compiler/xla/service/service.cc:158]   StreamExecutor device (0): GeForce GTX 1080 Ti, Compute Capability 6.1\n",
      "\u001b[2m\u001b[36m(pid=1870, ip=192.168.8.55)\u001b[0m 2020-12-15 13:25:11.019405: I tensorflow/core/common_runtime/gpu/gpu_device.cc:1433] Found device 0 with properties: \n",
      "\u001b[2m\u001b[36m(pid=1870, ip=192.168.8.55)\u001b[0m name: GeForce GTX 1080 Ti major: 6 minor: 1 memoryClockRate(GHz): 1.62\n",
      "\u001b[2m\u001b[36m(pid=1870, ip=192.168.8.55)\u001b[0m pciBusID: 0000:4c:00.0\n",
      "\u001b[2m\u001b[36m(pid=1870, ip=192.168.8.55)\u001b[0m totalMemory: 10.91GiB freeMemory: 6.97GiB\n",
      "\u001b[2m\u001b[36m(pid=1870, ip=192.168.8.55)\u001b[0m 2020-12-15 13:25:11.019427: I tensorflow/core/common_runtime/gpu/gpu_device.cc:1512] Adding visible gpu devices: 0\n",
      "\u001b[2m\u001b[36m(pid=1870, ip=192.168.8.55)\u001b[0m 2020-12-15 13:25:11.020583: I tensorflow/core/common_runtime/gpu/gpu_device.cc:984] Device interconnect StreamExecutor with strength 1 edge matrix:\n",
      "\u001b[2m\u001b[36m(pid=1870, ip=192.168.8.55)\u001b[0m 2020-12-15 13:25:11.020606: I tensorflow/core/common_runtime/gpu/gpu_device.cc:990]      0 \n",
      "\u001b[2m\u001b[36m(pid=1870, ip=192.168.8.55)\u001b[0m 2020-12-15 13:25:11.020616: I tensorflow/core/common_runtime/gpu/gpu_device.cc:1003] 0:   N \n",
      "\u001b[2m\u001b[36m(pid=1870, ip=192.168.8.55)\u001b[0m 2020-12-15 13:25:11.021065: I tensorflow/core/common_runtime/gpu/gpu_device.cc:1115] Created TensorFlow device (/job:localhost/replica:0/task:0/device:GPU:0 with 2235 MB memory) -> physical GPU (device: 0, name: GeForce GTX 1080 Ti, pci bus id: 0000:4c:00.0, compute capability: 6.1)\n"
     ]
    },
    {
     "name": "stdout",
     "output_type": "stream",
     "text": [
      "\u001b[2m\u001b[36m(pid=1870, ip=192.168.8.55)\u001b[0m Subset set to : test\n"
     ]
    },
    {
     "name": "stderr",
     "output_type": "stream",
     "text": [
      "\u001b[2m\u001b[36m(pid=1870, ip=192.168.8.55)\u001b[0m WARNING:tensorflow:From /home/reminiz/ReminizML2/python_env/lib/python3.7/site-packages/tensorflow/python/data/ops/dataset_ops.py:429: py_func (from tensorflow.python.ops.script_ops) is deprecated and will be removed in a future version.\n",
      "\u001b[2m\u001b[36m(pid=1870, ip=192.168.8.55)\u001b[0m Instructions for updating:\n",
      "\u001b[2m\u001b[36m(pid=1870, ip=192.168.8.55)\u001b[0m tf.py_func is deprecated in TF V2. Instead, use\n",
      "\u001b[2m\u001b[36m(pid=1870, ip=192.168.8.55)\u001b[0m     tf.py_function, which takes a python function which manipulates tf eager\n",
      "\u001b[2m\u001b[36m(pid=1870, ip=192.168.8.55)\u001b[0m     tensors instead of numpy arrays. It's easy to convert a tf eager tensor to\n",
      "\u001b[2m\u001b[36m(pid=1870, ip=192.168.8.55)\u001b[0m     an ndarray (just call tensor.numpy()) but having access to eager tensors\n",
      "\u001b[2m\u001b[36m(pid=1870, ip=192.168.8.55)\u001b[0m     means `tf.py_function`s can use accelerators such as GPUs as well as\n",
      "\u001b[2m\u001b[36m(pid=1870, ip=192.168.8.55)\u001b[0m     being differentiable using a gradient tape.\n",
      "\u001b[2m\u001b[36m(pid=1870, ip=192.168.8.55)\u001b[0m     \n",
      "\u001b[2m\u001b[36m(pid=1870, ip=192.168.8.55)\u001b[0m WARNING:tensorflow:From /home/reminiz/ReminizML2/python_env/lib/python3.7/site-packages/tensorflow/python/ops/tensor_array_ops.py:162: colocate_with (from tensorflow.python.framework.ops) is deprecated and will be removed in a future version.\n",
      "\u001b[2m\u001b[36m(pid=1870, ip=192.168.8.55)\u001b[0m Instructions for updating:\n",
      "\u001b[2m\u001b[36m(pid=1870, ip=192.168.8.55)\u001b[0m Colocations handled automatically by placer.\n"
     ]
    },
    {
     "name": "stdout",
     "output_type": "stream",
     "text": [
      "\u001b[2m\u001b[36m(pid=1870, ip=192.168.8.55)\u001b[0m [320, 64, 64, 2]\n"
     ]
    },
    {
     "name": "stderr",
     "output_type": "stream",
     "text": [
      "\u001b[2m\u001b[36m(pid=1870, ip=192.168.8.55)\u001b[0m WARNING:tensorflow:From /home/reminiz/ReminizML2/python_env/lib/python3.7/site-packages/tensorflow/python/ops/image_ops_impl.py:1241: div (from tensorflow.python.ops.math_ops) is deprecated and will be removed in a future version.\n",
      "\u001b[2m\u001b[36m(pid=1870, ip=192.168.8.55)\u001b[0m Instructions for updating:\n",
      "\u001b[2m\u001b[36m(pid=1870, ip=192.168.8.55)\u001b[0m Deprecated in favor of operator or tf.math.divide.\n",
      "\u001b[2m\u001b[36m(pid=1870, ip=192.168.8.55)\u001b[0m WARNING:tensorflow:From /home/reminiz/ReminizML2/python_env/lib/python3.7/site-packages/tensorflow/python/training/saver.py:1266: checkpoint_exists (from tensorflow.python.training.checkpoint_management) is deprecated and will be removed in a future version.\n",
      "\u001b[2m\u001b[36m(pid=1870, ip=192.168.8.55)\u001b[0m Instructions for updating:\n",
      "\u001b[2m\u001b[36m(pid=1870, ip=192.168.8.55)\u001b[0m Use standard file APIs to check for files with this prefix.\n",
      "\u001b[2m\u001b[36m(pid=1870, ip=192.168.8.55)\u001b[0m 2020-12-15 13:25:17.110279: I tensorflow/stream_executor/dso_loader.cc:152] successfully opened CUDA library libcublas.so.10.0 locally\n",
      "\u001b[2m\u001b[36m(pid=1870, ip=192.168.8.55)\u001b[0m 2020-12-15 13:25:18.277351: W tensorflow/core/framework/allocator.cc:124] Allocation of 56448000 exceeds 10% of system memory.\n",
      "\u001b[2m\u001b[36m(pid=1870, ip=192.168.8.55)\u001b[0m 2020-12-15 13:25:18.288141: W tensorflow/core/framework/allocator.cc:124] Allocation of 56448000 exceeds 10% of system memory.\n",
      "\u001b[2m\u001b[36m(pid=1870, ip=192.168.8.55)\u001b[0m 2020-12-15 13:25:18.323274: W tensorflow/core/framework/allocator.cc:124] Allocation of 56448000 exceeds 10% of system memory.\n",
      "\u001b[2m\u001b[36m(pid=1870, ip=192.168.8.55)\u001b[0m 2020-12-15 13:25:18.330940: W tensorflow/core/framework/allocator.cc:124] Allocation of 56448000 exceeds 10% of system memory.\n",
      "\u001b[2m\u001b[36m(pid=1870, ip=192.168.8.55)\u001b[0m 2020-12-15 13:25:18.395676: W tensorflow/core/framework/allocator.cc:124] Allocation of 56448000 exceeds 10% of system memory.\n",
      "\u001b[2m\u001b[36m(pid=1870, ip=192.168.8.55)\u001b[0m 2020-12-15 13:25:18.405873: I tensorflow/stream_executor/dso_loader.cc:152] successfully opened CUDA library libcufft.so.10.0 locally\n"
     ]
    },
    {
     "name": "stdout",
     "output_type": "stream",
     "text": [
      "\u001b[2m\u001b[36m(pid=1870, ip=192.168.8.55)\u001b[0m Calculating tag metrics...\n",
      "\u001b[2m\u001b[36m(pid=1870, ip=192.168.8.55)\u001b[0m Formating results\n",
      "\u001b[2m\u001b[36m(pid=1870, ip=192.168.8.55)\u001b[0m Calculating roc curve\n"
     ]
    },
    {
     "name": "stderr",
     "output_type": "stream",
     "text": [
      "\u001b[2m\u001b[36m(pid=1870, ip=192.168.8.55)\u001b[0m /home/reminiz/ReminizML2/python_env/lib/python3.7/site-packages/sklearn/metrics/classification.py:1143: UndefinedMetricWarning:\n",
      "\u001b[2m\u001b[36m(pid=1870, ip=192.168.8.55)\u001b[0m \n",
      "\u001b[2m\u001b[36m(pid=1870, ip=192.168.8.55)\u001b[0m Precision is ill-defined and being set to 0.0 due to no predicted samples.\n",
      "\u001b[2m\u001b[36m(pid=1870, ip=192.168.8.55)\u001b[0m \n"
     ]
    },
    {
     "name": "stdout",
     "output_type": "stream",
     "text": [
      "\u001b[2m\u001b[36m(pid=1870, ip=192.168.8.55)\u001b[0m Roc curve to plotly\n",
      "\u001b[2m\u001b[36m(pid=1870, ip=192.168.8.55)\u001b[0m logging to wandb\n",
      "\u001b[2m\u001b[36m(pid=1870, ip=192.168.8.55)\u001b[0m calculating accuracy\n",
      "\u001b[2m\u001b[36m(pid=1870, ip=192.168.8.55)\u001b[0m 0.5807756470985947\n"
     ]
    },
    {
     "name": "stderr",
     "output_type": "stream",
     "text": [
      "\u001b[2m\u001b[36m(pid=1870, ip=192.168.8.55)\u001b[0m \n",
      "\u001b[2m\u001b[36m(pid=1870, ip=192.168.8.55)\u001b[0m wandb: Waiting for W&B process to finish, PID 1989\n",
      "\u001b[2m\u001b[36m(pid=1870, ip=192.168.8.55)\u001b[0m wandb: Program ended successfully.\n",
      "\u001b[2m\u001b[36m(pid=1870, ip=192.168.8.55)\u001b[0m wandb: Run summary:\n",
      "\u001b[2m\u001b[36m(pid=1870, ip=192.168.8.55)\u001b[0m wandb:                 AUC 0.9380013353477509\n",
      "\u001b[2m\u001b[36m(pid=1870, ip=192.168.8.55)\u001b[0m wandb:               _step 2001\n",
      "\u001b[2m\u001b[36m(pid=1870, ip=192.168.8.55)\u001b[0m wandb:            _runtime 732.4428281784058\n",
      "\u001b[2m\u001b[36m(pid=1870, ip=192.168.8.55)\u001b[0m wandb:            accuracy 0.5807756470985947\n",
      "\u001b[2m\u001b[36m(pid=1870, ip=192.168.8.55)\u001b[0m wandb:            f1_score 0.2655033408802253\n",
      "\u001b[2m\u001b[36m(pid=1870, ip=192.168.8.55)\u001b[0m wandb:          _timestamp 1608035360.4468231\n",
      "\u001b[2m\u001b[36m(pid=1870, ip=192.168.8.55)\u001b[0m wandb:   average_precision 0.3756856333837494\n",
      "\u001b[2m\u001b[36m(pid=1870, ip=192.168.8.55)\u001b[0m wandb: Syncing files in ../../../Trainings/wandb/wandb/run-20201215_122508-2518txj2:\n",
      "\u001b[2m\u001b[36m(pid=1870, ip=192.168.8.55)\u001b[0m wandb:   code/default_worker.py\n",
      "\u001b[2m\u001b[36m(pid=1870, ip=192.168.8.55)\u001b[0m wandb: plus 8 W&B file(s) and 5 media file(s)\n",
      "\u001b[2m\u001b[36m(pid=1870, ip=192.168.8.55)\u001b[0m wandb: - 16.20MB of 16.20MB uploaded\n",
      "\u001b[2m\u001b[36m(pid=1870, ip=192.168.8.55)\u001b[0m wandb: \\ 16.20MB of 16.20MB uploaded\n",
      "\u001b[2m\u001b[36m(pid=1870, ip=192.168.8.55)\u001b[0m wandb: | 16.20MB of 16.20MB uploaded\n",
      "\u001b[2m\u001b[36m(pid=1870, ip=192.168.8.55)\u001b[0m wandb: / 16.20MB of 16.20MB uploaded\n",
      "wandb:                                                                                \n",
      "\u001b[2m\u001b[36m(pid=1870, ip=192.168.8.55)\u001b[0m wandb: Synced: http://192.168.8.51:8080/reminiz/AudioSet/runs/2518txj2\n"
     ]
    },
    {
     "name": "stdout",
     "output_type": "stream",
     "text": [
      "\u001b[2m\u001b[36m(pid=1870, ip=192.168.8.55)\u001b[0m done\n",
      "\u001b[2m\u001b[36m(pid=12774, ip=192.168.8.52)\u001b[0m Epoch: 42 Time: 2020-12-15 13:34:31 Train loss: 1.40 Count NaN: 0 Saving\n"
     ]
    },
    {
     "name": "stderr",
     "output_type": "stream",
     "text": [
      "\u001b[2m\u001b[36m(pid=5132, ip=192.168.8.54)\u001b[0m /home/reminiz/ReminizML2/python_env/lib/python3.7/site-packages/tensorflow/python/framework/dtypes.py:526: FutureWarning: Passing (type, 1) or '1type' as a synonym of type is deprecated; in a future version of numpy, it will be understood as (type, (1,)) / '(1,)type'.\n",
      "\u001b[2m\u001b[36m(pid=5132, ip=192.168.8.54)\u001b[0m   _np_qint8 = np.dtype([(\"qint8\", np.int8, 1)])\n",
      "\u001b[2m\u001b[36m(pid=5132, ip=192.168.8.54)\u001b[0m /home/reminiz/ReminizML2/python_env/lib/python3.7/site-packages/tensorflow/python/framework/dtypes.py:527: FutureWarning: Passing (type, 1) or '1type' as a synonym of type is deprecated; in a future version of numpy, it will be understood as (type, (1,)) / '(1,)type'.\n",
      "\u001b[2m\u001b[36m(pid=5132, ip=192.168.8.54)\u001b[0m   _np_quint8 = np.dtype([(\"quint8\", np.uint8, 1)])\n",
      "\u001b[2m\u001b[36m(pid=5132, ip=192.168.8.54)\u001b[0m /home/reminiz/ReminizML2/python_env/lib/python3.7/site-packages/tensorflow/python/framework/dtypes.py:528: FutureWarning: Passing (type, 1) or '1type' as a synonym of type is deprecated; in a future version of numpy, it will be understood as (type, (1,)) / '(1,)type'.\n",
      "\u001b[2m\u001b[36m(pid=5132, ip=192.168.8.54)\u001b[0m   _np_qint16 = np.dtype([(\"qint16\", np.int16, 1)])\n",
      "\u001b[2m\u001b[36m(pid=5132, ip=192.168.8.54)\u001b[0m /home/reminiz/ReminizML2/python_env/lib/python3.7/site-packages/tensorflow/python/framework/dtypes.py:529: FutureWarning: Passing (type, 1) or '1type' as a synonym of type is deprecated; in a future version of numpy, it will be understood as (type, (1,)) / '(1,)type'.\n",
      "\u001b[2m\u001b[36m(pid=5132, ip=192.168.8.54)\u001b[0m   _np_quint16 = np.dtype([(\"quint16\", np.uint16, 1)])\n",
      "\u001b[2m\u001b[36m(pid=5132, ip=192.168.8.54)\u001b[0m /home/reminiz/ReminizML2/python_env/lib/python3.7/site-packages/tensorflow/python/framework/dtypes.py:530: FutureWarning: Passing (type, 1) or '1type' as a synonym of type is deprecated; in a future version of numpy, it will be understood as (type, (1,)) / '(1,)type'.\n",
      "\u001b[2m\u001b[36m(pid=5132, ip=192.168.8.54)\u001b[0m   _np_qint32 = np.dtype([(\"qint32\", np.int32, 1)])\n",
      "\u001b[2m\u001b[36m(pid=5132, ip=192.168.8.54)\u001b[0m /home/reminiz/ReminizML2/python_env/lib/python3.7/site-packages/tensorflow/python/framework/dtypes.py:535: FutureWarning: Passing (type, 1) or '1type' as a synonym of type is deprecated; in a future version of numpy, it will be understood as (type, (1,)) / '(1,)type'.\n",
      "\u001b[2m\u001b[36m(pid=5132, ip=192.168.8.54)\u001b[0m   np_resource = np.dtype([(\"resource\", np.ubyte, 1)])\n",
      "\u001b[2m\u001b[36m(pid=5132, ip=192.168.8.54)\u001b[0m wandb: Tracking run with wandb version 0.8.36\n",
      "\u001b[2m\u001b[36m(pid=5132, ip=192.168.8.54)\u001b[0m wandb: Wandb version 0.10.12 is available!  To upgrade, please run:\n",
      "\u001b[2m\u001b[36m(pid=5132, ip=192.168.8.54)\u001b[0m wandb:  $ pip install wandb --upgrade\n",
      "\u001b[2m\u001b[36m(pid=5132, ip=192.168.8.54)\u001b[0m wandb: Run data is saved locally in ../../../Trainings/wandb/wandb/run-20201215_123450-2wfg5hig\n",
      "\u001b[2m\u001b[36m(pid=5132, ip=192.168.8.54)\u001b[0m wandb: Syncing run 2wfg5hig\n",
      "\u001b[2m\u001b[36m(pid=5132, ip=192.168.8.54)\u001b[0m wandb: ⭐️ View project at http://192.168.8.51:8080/reminiz/Violence%20Detection\n",
      "\u001b[2m\u001b[36m(pid=5132, ip=192.168.8.54)\u001b[0m wandb: 🚀 View run at http://192.168.8.51:8080/reminiz/Violence%20Detection/runs/2wfg5hig\n",
      "\u001b[2m\u001b[36m(pid=5132, ip=192.168.8.54)\u001b[0m wandb: Run `wandb off` to turn off syncing.\n",
      "\u001b[2m\u001b[36m(pid=5132, ip=192.168.8.54)\u001b[0m \n",
      "\u001b[2m\u001b[36m(pid=5132, ip=192.168.8.54)\u001b[0m WARNING:tensorflow:From /home/reminiz/ReminizML2/python_env/lib/python3.7/site-packages/tensorflow/python/framework/op_def_library.py:263: colocate_with (from tensorflow.python.framework.ops) is deprecated and will be removed in a future version.\n",
      "\u001b[2m\u001b[36m(pid=5132, ip=192.168.8.54)\u001b[0m Instructions for updating:\n",
      "\u001b[2m\u001b[36m(pid=5132, ip=192.168.8.54)\u001b[0m Colocations handled automatically by placer.\n",
      "\u001b[2m\u001b[36m(pid=5132, ip=192.168.8.54)\u001b[0m WARNING:tensorflow:From /mnt/Ressources/Quentin/Detection/core/common.py:25: batch_normalization (from tensorflow.python.layers.normalization) is deprecated and will be removed in a future version.\n",
      "\u001b[2m\u001b[36m(pid=5132, ip=192.168.8.54)\u001b[0m Instructions for updating:\n",
      "\u001b[2m\u001b[36m(pid=5132, ip=192.168.8.54)\u001b[0m Use keras.layers.batch_normalization instead.\n"
     ]
    },
    {
     "name": "stdout",
     "output_type": "stream",
     "text": [
      "\u001b[2m\u001b[36m(pid=5132, ip=192.168.8.54)\u001b[0m {0: 'FIREARMS', 1: 'COLDARMS'}\n"
     ]
    },
    {
     "name": "stderr",
     "output_type": "stream",
     "text": [
      "\u001b[2m\u001b[36m(pid=5132, ip=192.168.8.54)\u001b[0m 2020-12-15 13:34:54.233337: I tensorflow/core/platform/cpu_feature_guard.cc:141] Your CPU supports instructions that this TensorFlow binary was not compiled to use: AVX2 FMA\n",
      "\u001b[2m\u001b[36m(pid=5132, ip=192.168.8.54)\u001b[0m 2020-12-15 13:34:54.258444: I tensorflow/core/platform/profile_utils/cpu_utils.cc:94] CPU Frequency: 3300095000 Hz\n",
      "\u001b[2m\u001b[36m(pid=5132, ip=192.168.8.54)\u001b[0m 2020-12-15 13:34:54.259488: I tensorflow/compiler/xla/service/service.cc:150] XLA service 0x83270e0 executing computations on platform Host. Devices:\n",
      "\u001b[2m\u001b[36m(pid=5132, ip=192.168.8.54)\u001b[0m 2020-12-15 13:34:54.259527: I tensorflow/compiler/xla/service/service.cc:158]   StreamExecutor device (0): <undefined>, <undefined>\n",
      "\u001b[2m\u001b[36m(pid=5132, ip=192.168.8.54)\u001b[0m 2020-12-15 13:34:54.338274: I tensorflow/compiler/xla/service/service.cc:150] XLA service 0x83633a0 executing computations on platform CUDA. Devices:\n",
      "\u001b[2m\u001b[36m(pid=5132, ip=192.168.8.54)\u001b[0m 2020-12-15 13:34:54.338310: I tensorflow/compiler/xla/service/service.cc:158]   StreamExecutor device (0): GeForce GTX TITAN X, Compute Capability 5.2\n",
      "\u001b[2m\u001b[36m(pid=5132, ip=192.168.8.54)\u001b[0m 2020-12-15 13:34:54.338464: I tensorflow/core/common_runtime/gpu/gpu_device.cc:1433] Found device 0 with properties: \n",
      "\u001b[2m\u001b[36m(pid=5132, ip=192.168.8.54)\u001b[0m name: GeForce GTX TITAN X major: 5 minor: 2 memoryClockRate(GHz): 1.076\n",
      "\u001b[2m\u001b[36m(pid=5132, ip=192.168.8.54)\u001b[0m pciBusID: 0000:4c:00.0\n",
      "\u001b[2m\u001b[36m(pid=5132, ip=192.168.8.54)\u001b[0m totalMemory: 11.92GiB freeMemory: 11.82GiB\n",
      "\u001b[2m\u001b[36m(pid=5132, ip=192.168.8.54)\u001b[0m 2020-12-15 13:34:54.338492: I tensorflow/core/common_runtime/gpu/gpu_device.cc:1512] Adding visible gpu devices: 0\n",
      "\u001b[2m\u001b[36m(pid=5132, ip=192.168.8.54)\u001b[0m 2020-12-15 13:34:54.340385: I tensorflow/core/common_runtime/gpu/gpu_device.cc:984] Device interconnect StreamExecutor with strength 1 edge matrix:\n",
      "\u001b[2m\u001b[36m(pid=5132, ip=192.168.8.54)\u001b[0m 2020-12-15 13:34:54.340407: I tensorflow/core/common_runtime/gpu/gpu_device.cc:990]      0 \n",
      "\u001b[2m\u001b[36m(pid=5132, ip=192.168.8.54)\u001b[0m 2020-12-15 13:34:54.340416: I tensorflow/core/common_runtime/gpu/gpu_device.cc:1003] 0:   N \n",
      "\u001b[2m\u001b[36m(pid=5132, ip=192.168.8.54)\u001b[0m 2020-12-15 13:34:54.340507: I tensorflow/core/common_runtime/gpu/gpu_device.cc:1115] Created TensorFlow device (/job:localhost/replica:0/task:0/device:GPU:0 with 11496 MB memory) -> physical GPU (device: 0, name: GeForce GTX TITAN X, pci bus id: 0000:4c:00.0, compute capability: 5.2)\n"
     ]
    },
    {
     "name": "stdout",
     "output_type": "stream",
     "text": [
      "\u001b[2m\u001b[36m(pid=5132, ip=192.168.8.54)\u001b[0m Restoring from /mnt/Trainings/models/violence_detection_weapons_0/checkpoint/epoch42.ckpt-42\n"
     ]
    },
    {
     "name": "stderr",
     "output_type": "stream",
     "text": [
      "\u001b[2m\u001b[36m(pid=5132, ip=192.168.8.54)\u001b[0m WARNING:tensorflow:From /home/reminiz/ReminizML2/python_env/lib/python3.7/site-packages/tensorflow/python/training/saver.py:1266: checkpoint_exists (from tensorflow.python.training.checkpoint_management) is deprecated and will be removed in a future version.\n",
      "\u001b[2m\u001b[36m(pid=5132, ip=192.168.8.54)\u001b[0m Instructions for updating:\n",
      "\u001b[2m\u001b[36m(pid=5132, ip=192.168.8.54)\u001b[0m Use standard file APIs to check for files with this prefix.\n",
      "  0% 0/100 [00:00<?, ?it/s]168.8.54)\u001b[0m \n",
      "\u001b[2m\u001b[36m(pid=5132, ip=192.168.8.54)\u001b[0m E1215 13:35:00.408407  5132  5141 task_manager.cc:323] Task failed: IOError: cancelling all pending tasks of dead actor: Type=ACTOR_TASK, Language=PYTHON, Resources: {}, function_descriptor={type=PythonFunctionDescriptor, module_name=AutoML.datanode, class_name=DataNode, function_name=get_data, function_hash=}, task_id=bd46e92d3c57be94036e28fa01000000, task_name=DataNode.get_data(), job_id=01000000, num_args=8, num_returns=2, actor_task_spec={actor_id=036e28fa01000000, actor_caller_id=ffffffffffffffff7978879d0c000000, actor_counter=0}\n",
      "  1% 1/100 [00:02<03:40,  2.23s/it])\u001b[0m \n",
      "  3% 3/100 [00:02<02:41,  1.66s/it])\u001b[0m \n",
      "  5% 5/100 [00:03<01:53,  1.20s/it])\u001b[0m \n",
      "  7% 7/100 [00:07<02:16,  1.46s/it])\u001b[0m \n",
      "  8% 8/100 [00:07<01:47,  1.17s/it])\u001b[0m \n",
      " 10% 10/100 [00:08<01:17,  1.16it/s]\u001b[0m \n",
      " 11% 11/100 [00:08<00:58,  1.53it/s]\u001b[0m \n",
      " 12% 12/100 [00:08<00:43,  2.04it/s]\u001b[0m \n",
      " 14% 14/100 [00:08<00:32,  2.66it/s]\u001b[0m \n",
      " 15% 15/100 [00:08<00:26,  3.22it/s]\u001b[0m \n",
      " 16% 16/100 [00:08<00:23,  3.61it/s]\u001b[0m \n",
      " 17% 17/100 [00:09<00:28,  2.91it/s]\u001b[0m \n",
      " 18% 18/100 [00:09<00:23,  3.52it/s]\u001b[0m \n",
      " 19% 19/100 [00:09<00:19,  4.15it/s]\u001b[0m \n",
      " 20% 20/100 [00:09<00:18,  4.42it/s]\u001b[0m \n",
      " 21% 21/100 [00:10<00:15,  4.98it/s]\u001b[0m \n",
      " 23% 23/100 [00:10<00:13,  5.67it/s]\u001b[0m \n",
      " 24% 24/100 [00:10<00:14,  5.23it/s]\u001b[0m \n",
      " 25% 25/100 [00:11<00:25,  2.96it/s]\u001b[0m \n",
      " 26% 26/100 [00:11<00:23,  3.10it/s]\u001b[0m \n",
      " 28% 28/100 [00:11<00:18,  3.94it/s]\u001b[0m \n",
      " 30% 30/100 [00:12<00:15,  4.38it/s]\u001b[0m \n",
      " 31% 31/100 [00:12<00:19,  3.45it/s]\u001b[0m \n",
      " 33% 33/100 [00:12<00:14,  4.54it/s]\u001b[0m \n",
      " 35% 35/100 [00:12<00:11,  5.79it/s]\u001b[0m \n",
      " 37% 37/100 [00:13<00:12,  4.85it/s]\u001b[0m \n",
      " 38% 38/100 [00:13<00:11,  5.40it/s]\u001b[0m \n",
      " 39% 39/100 [00:13<00:10,  5.97it/s]\u001b[0m \n",
      " 41% 41/100 [00:13<00:08,  7.23it/s]\u001b[0m \n",
      " 43% 43/100 [00:13<00:06,  8.76it/s]\u001b[0m \n",
      " 45% 45/100 [00:14<00:07,  7.42it/s]\u001b[0m \n",
      " 47% 47/100 [00:14<00:06,  8.61it/s]\u001b[0m \n",
      " 49% 49/100 [00:14<00:05,  9.54it/s]\u001b[0m \n",
      " 51% 51/100 [00:14<00:05,  9.16it/s]\u001b[0m \n",
      " 53% 53/100 [00:14<00:04, 10.13it/s]\u001b[0m \n",
      " 55% 55/100 [00:15<00:05,  8.72it/s]\u001b[0m \n",
      " 57% 57/100 [00:15<00:04,  9.94it/s]\u001b[0m \n",
      " 59% 59/100 [00:15<00:03, 11.14it/s]\u001b[0m \n",
      " 61% 61/100 [00:15<00:03, 11.03it/s]\u001b[0m \n",
      " 63% 63/100 [00:15<00:03, 12.19it/s]\u001b[0m \n",
      " 65% 65/100 [00:16<00:04,  7.33it/s]\u001b[0m \n",
      " 67% 67/100 [00:16<00:04,  7.01it/s]\u001b[0m \n",
      " 69% 69/100 [00:16<00:04,  6.93it/s]\u001b[0m \n",
      " 70% 70/100 [00:17<00:04,  6.12it/s]\u001b[0m \n",
      " 72% 72/100 [00:17<00:03,  7.36it/s]\u001b[0m \n",
      " 73% 73/100 [00:17<00:04,  6.57it/s]\u001b[0m \n",
      " 75% 75/100 [00:17<00:04,  6.22it/s]\u001b[0m \n",
      " 76% 76/100 [00:17<00:03,  6.12it/s]\u001b[0m \n",
      " 78% 78/100 [00:18<00:03,  7.03it/s]\u001b[0m \n",
      " 80% 80/100 [00:18<00:02,  8.30it/s]\u001b[0m \n",
      " 81% 81/100 [00:18<00:02,  8.63it/s]\u001b[0m \n",
      " 83% 83/100 [00:18<00:01,  9.79it/s]\u001b[0m \n",
      " 85% 85/100 [00:18<00:01,  9.27it/s]\u001b[0m \n",
      " 87% 87/100 [00:18<00:01,  8.86it/s]\u001b[0m \n",
      " 89% 89/100 [00:19<00:01,  8.85it/s]\u001b[0m \n",
      " 91% 91/100 [00:19<00:00, 10.18it/s]\u001b[0m \n",
      " 93% 93/100 [00:19<00:00, 10.02it/s]\u001b[0m \n",
      " 95% 95/100 [00:19<00:00, 11.00it/s]\u001b[0m \n",
      " 97% 97/100 [00:20<00:00,  5.34it/s]\u001b[0m \n",
      " 99% 99/100 [00:20<00:00,  6.66it/s]\u001b[0m \n",
      " 99% 99/100 [00:22<00:00,  4.33it/s]\u001b[0m \n",
      "\u001b[2m\u001b[36m(pid=5132, ip=192.168.8.54)\u001b[0m \n",
      "\u001b[2m\u001b[36m(pid=5132, ip=192.168.8.54)\u001b[0m wandb: Waiting for W&B process to finish, PID 5184\n",
      "\u001b[2m\u001b[36m(pid=5132, ip=192.168.8.54)\u001b[0m wandb: Program ended successfully.\n",
      "\u001b[2m\u001b[36m(pid=5132, ip=192.168.8.54)\u001b[0m wandb: Run summary:\n",
      "\u001b[2m\u001b[36m(pid=5132, ip=192.168.8.54)\u001b[0m wandb:               _step 100884\n",
      "\u001b[2m\u001b[36m(pid=5132, ip=192.168.8.54)\u001b[0m wandb:            _runtime 859.4446842670441\n",
      "\u001b[2m\u001b[36m(pid=5132, ip=192.168.8.54)\u001b[0m wandb:          _timestamp 1608035723.2015948\n",
      "\u001b[2m\u001b[36m(pid=5132, ip=192.168.8.54)\u001b[0m wandb:     mAP all classes 62.30115289230827\n",
      "\u001b[2m\u001b[36m(pid=5132, ip=192.168.8.54)\u001b[0m wandb: Syncing files in ../../../Trainings/wandb/wandb/run-20201215_123450-2wfg5hig:\n",
      "\u001b[2m\u001b[36m(pid=5132, ip=192.168.8.54)\u001b[0m wandb:   code/default_worker.py\n",
      "\u001b[2m\u001b[36m(pid=5132, ip=192.168.8.54)\u001b[0m wandb: plus 8 W&B file(s) and 6 media file(s)\n",
      "\u001b[2m\u001b[36m(pid=5132, ip=192.168.8.54)\u001b[0m wandb: - 0.08MB of 0.08MB uploaded\n",
      "\u001b[2m\u001b[36m(pid=5132, ip=192.168.8.54)\u001b[0m wandb: \\ 0.08MB of 0.08MB uploaded\n",
      "\u001b[2m\u001b[36m(pid=5132, ip=192.168.8.54)\u001b[0m wandb: | 0.08MB of 0.08MB uploaded\n",
      "\u001b[2m\u001b[36m(pid=5132, ip=192.168.8.54)\u001b[0m wandb: / 0.08MB of 0.08MB uploaded\n",
      "\u001b[2m\u001b[36m(pid=5132, ip=192.168.8.54)\u001b[0m wandb: - 0.08MB of 0.08MB uploaded\n",
      "wandb:                                                                                \n",
      "\u001b[2m\u001b[36m(pid=5132, ip=192.168.8.54)\u001b[0m wandb: Synced: http://192.168.8.51:8080/reminiz/Violence%20Detection/runs/2wfg5hig\n",
      "\u001b[2m\u001b[36m(pid=5660)\u001b[0m /home/reminiz/ReminizML2/python_env/lib/python3.7/site-packages/tensorflow/python/framework/dtypes.py:526: FutureWarning: Passing (type, 1) or '1type' as a synonym of type is deprecated; in a future version of numpy, it will be understood as (type, (1,)) / '(1,)type'.\n",
      "\u001b[2m\u001b[36m(pid=5660)\u001b[0m   _np_qint8 = np.dtype([(\"qint8\", np.int8, 1)])\n",
      "\u001b[2m\u001b[36m(pid=5660)\u001b[0m /home/reminiz/ReminizML2/python_env/lib/python3.7/site-packages/tensorflow/python/framework/dtypes.py:527: FutureWarning: Passing (type, 1) or '1type' as a synonym of type is deprecated; in a future version of numpy, it will be understood as (type, (1,)) / '(1,)type'.\n",
      "\u001b[2m\u001b[36m(pid=5660)\u001b[0m   _np_quint8 = np.dtype([(\"quint8\", np.uint8, 1)])\n",
      "\u001b[2m\u001b[36m(pid=5660)\u001b[0m /home/reminiz/ReminizML2/python_env/lib/python3.7/site-packages/tensorflow/python/framework/dtypes.py:528: FutureWarning: Passing (type, 1) or '1type' as a synonym of type is deprecated; in a future version of numpy, it will be understood as (type, (1,)) / '(1,)type'.\n",
      "\u001b[2m\u001b[36m(pid=5660)\u001b[0m   _np_qint16 = np.dtype([(\"qint16\", np.int16, 1)])\n",
      "\u001b[2m\u001b[36m(pid=5660)\u001b[0m /home/reminiz/ReminizML2/python_env/lib/python3.7/site-packages/tensorflow/python/framework/dtypes.py:529: FutureWarning: Passing (type, 1) or '1type' as a synonym of type is deprecated; in a future version of numpy, it will be understood as (type, (1,)) / '(1,)type'.\n",
      "\u001b[2m\u001b[36m(pid=5660)\u001b[0m   _np_quint16 = np.dtype([(\"quint16\", np.uint16, 1)])\n",
      "\u001b[2m\u001b[36m(pid=5660)\u001b[0m /home/reminiz/ReminizML2/python_env/lib/python3.7/site-packages/tensorflow/python/framework/dtypes.py:530: FutureWarning: Passing (type, 1) or '1type' as a synonym of type is deprecated; in a future version of numpy, it will be understood as (type, (1,)) / '(1,)type'.\n",
      "\u001b[2m\u001b[36m(pid=5660)\u001b[0m   _np_qint32 = np.dtype([(\"qint32\", np.int32, 1)])\n",
      "\u001b[2m\u001b[36m(pid=5660)\u001b[0m /home/reminiz/ReminizML2/python_env/lib/python3.7/site-packages/tensorflow/python/framework/dtypes.py:535: FutureWarning: Passing (type, 1) or '1type' as a synonym of type is deprecated; in a future version of numpy, it will be understood as (type, (1,)) / '(1,)type'.\n",
      "\u001b[2m\u001b[36m(pid=5660)\u001b[0m   np_resource = np.dtype([(\"resource\", np.ubyte, 1)])\n",
      "\u001b[2m\u001b[36m(pid=5537, ip=192.168.8.54)\u001b[0m /home/reminiz/ReminizML2/python_env/lib/python3.7/site-packages/tensorflow/python/framework/dtypes.py:526: FutureWarning: Passing (type, 1) or '1type' as a synonym of type is deprecated; in a future version of numpy, it will be understood as (type, (1,)) / '(1,)type'.\n",
      "\u001b[2m\u001b[36m(pid=5537, ip=192.168.8.54)\u001b[0m   _np_qint8 = np.dtype([(\"qint8\", np.int8, 1)])\n",
      "\u001b[2m\u001b[36m(pid=5537, ip=192.168.8.54)\u001b[0m /home/reminiz/ReminizML2/python_env/lib/python3.7/site-packages/tensorflow/python/framework/dtypes.py:527: FutureWarning: Passing (type, 1) or '1type' as a synonym of type is deprecated; in a future version of numpy, it will be understood as (type, (1,)) / '(1,)type'.\n",
      "\u001b[2m\u001b[36m(pid=5537, ip=192.168.8.54)\u001b[0m   _np_quint8 = np.dtype([(\"quint8\", np.uint8, 1)])\n",
      "\u001b[2m\u001b[36m(pid=5537, ip=192.168.8.54)\u001b[0m /home/reminiz/ReminizML2/python_env/lib/python3.7/site-packages/tensorflow/python/framework/dtypes.py:528: FutureWarning: Passing (type, 1) or '1type' as a synonym of type is deprecated; in a future version of numpy, it will be understood as (type, (1,)) / '(1,)type'.\n",
      "\u001b[2m\u001b[36m(pid=5537, ip=192.168.8.54)\u001b[0m   _np_qint16 = np.dtype([(\"qint16\", np.int16, 1)])\n",
      "\u001b[2m\u001b[36m(pid=5537, ip=192.168.8.54)\u001b[0m /home/reminiz/ReminizML2/python_env/lib/python3.7/site-packages/tensorflow/python/framework/dtypes.py:529: FutureWarning: Passing (type, 1) or '1type' as a synonym of type is deprecated; in a future version of numpy, it will be understood as (type, (1,)) / '(1,)type'.\n",
      "\u001b[2m\u001b[36m(pid=5537, ip=192.168.8.54)\u001b[0m   _np_quint16 = np.dtype([(\"quint16\", np.uint16, 1)])\n",
      "\u001b[2m\u001b[36m(pid=5537, ip=192.168.8.54)\u001b[0m /home/reminiz/ReminizML2/python_env/lib/python3.7/site-packages/tensorflow/python/framework/dtypes.py:530: FutureWarning: Passing (type, 1) or '1type' as a synonym of type is deprecated; in a future version of numpy, it will be understood as (type, (1,)) / '(1,)type'.\n",
      "\u001b[2m\u001b[36m(pid=5537, ip=192.168.8.54)\u001b[0m   _np_qint32 = np.dtype([(\"qint32\", np.int32, 1)])\n",
      "\u001b[2m\u001b[36m(pid=5537, ip=192.168.8.54)\u001b[0m /home/reminiz/ReminizML2/python_env/lib/python3.7/site-packages/tensorflow/python/framework/dtypes.py:535: FutureWarning: Passing (type, 1) or '1type' as a synonym of type is deprecated; in a future version of numpy, it will be understood as (type, (1,)) / '(1,)type'.\n",
      "\u001b[2m\u001b[36m(pid=5537, ip=192.168.8.54)\u001b[0m   np_resource = np.dtype([(\"resource\", np.ubyte, 1)])\n",
      "\u001b[2m\u001b[36m(pid=6238, ip=192.168.8.52)\u001b[0m /home/reminiz/ReminizML2/python_env/lib/python3.7/site-packages/tensorflow/python/framework/dtypes.py:526: FutureWarning: Passing (type, 1) or '1type' as a synonym of type is deprecated; in a future version of numpy, it will be understood as (type, (1,)) / '(1,)type'.\n",
      "\u001b[2m\u001b[36m(pid=6238, ip=192.168.8.52)\u001b[0m   _np_qint8 = np.dtype([(\"qint8\", np.int8, 1)])\n",
      "\u001b[2m\u001b[36m(pid=6238, ip=192.168.8.52)\u001b[0m /home/reminiz/ReminizML2/python_env/lib/python3.7/site-packages/tensorflow/python/framework/dtypes.py:527: FutureWarning: Passing (type, 1) or '1type' as a synonym of type is deprecated; in a future version of numpy, it will be understood as (type, (1,)) / '(1,)type'.\n",
      "\u001b[2m\u001b[36m(pid=6238, ip=192.168.8.52)\u001b[0m   _np_quint8 = np.dtype([(\"quint8\", np.uint8, 1)])\n",
      "\u001b[2m\u001b[36m(pid=6238, ip=192.168.8.52)\u001b[0m /home/reminiz/ReminizML2/python_env/lib/python3.7/site-packages/tensorflow/python/framework/dtypes.py:528: FutureWarning: Passing (type, 1) or '1type' as a synonym of type is deprecated; in a future version of numpy, it will be understood as (type, (1,)) / '(1,)type'.\n",
      "\u001b[2m\u001b[36m(pid=6238, ip=192.168.8.52)\u001b[0m   _np_qint16 = np.dtype([(\"qint16\", np.int16, 1)])\n",
      "\u001b[2m\u001b[36m(pid=6238, ip=192.168.8.52)\u001b[0m /home/reminiz/ReminizML2/python_env/lib/python3.7/site-packages/tensorflow/python/framework/dtypes.py:529: FutureWarning: Passing (type, 1) or '1type' as a synonym of type is deprecated; in a future version of numpy, it will be understood as (type, (1,)) / '(1,)type'.\n",
      "\u001b[2m\u001b[36m(pid=6238, ip=192.168.8.52)\u001b[0m   _np_quint16 = np.dtype([(\"quint16\", np.uint16, 1)])\n",
      "\u001b[2m\u001b[36m(pid=6238, ip=192.168.8.52)\u001b[0m /home/reminiz/ReminizML2/python_env/lib/python3.7/site-packages/tensorflow/python/framework/dtypes.py:530: FutureWarning: Passing (type, 1) or '1type' as a synonym of type is deprecated; in a future version of numpy, it will be understood as (type, (1,)) / '(1,)type'.\n",
      "\u001b[2m\u001b[36m(pid=6238, ip=192.168.8.52)\u001b[0m   _np_qint32 = np.dtype([(\"qint32\", np.int32, 1)])\n",
      "\u001b[2m\u001b[36m(pid=6238, ip=192.168.8.52)\u001b[0m /home/reminiz/ReminizML2/python_env/lib/python3.7/site-packages/tensorflow/python/framework/dtypes.py:535: FutureWarning: Passing (type, 1) or '1type' as a synonym of type is deprecated; in a future version of numpy, it will be understood as (type, (1,)) / '(1,)type'.\n",
      "\u001b[2m\u001b[36m(pid=6238, ip=192.168.8.52)\u001b[0m   np_resource = np.dtype([(\"resource\", np.ubyte, 1)])\n",
      "\u001b[2m\u001b[36m(pid=19555, ip=192.168.8.53)\u001b[0m /home/reminiz/ReminizML2/python_env/lib/python3.7/site-packages/tensorflow/python/framework/dtypes.py:526: FutureWarning: Passing (type, 1) or '1type' as a synonym of type is deprecated; in a future version of numpy, it will be understood as (type, (1,)) / '(1,)type'.\n",
      "\u001b[2m\u001b[36m(pid=19555, ip=192.168.8.53)\u001b[0m   _np_qint8 = np.dtype([(\"qint8\", np.int8, 1)])\n",
      "\u001b[2m\u001b[36m(pid=19555, ip=192.168.8.53)\u001b[0m /home/reminiz/ReminizML2/python_env/lib/python3.7/site-packages/tensorflow/python/framework/dtypes.py:527: FutureWarning: Passing (type, 1) or '1type' as a synonym of type is deprecated; in a future version of numpy, it will be understood as (type, (1,)) / '(1,)type'.\n",
      "\u001b[2m\u001b[36m(pid=19555, ip=192.168.8.53)\u001b[0m   _np_quint8 = np.dtype([(\"quint8\", np.uint8, 1)])\n",
      "\u001b[2m\u001b[36m(pid=19555, ip=192.168.8.53)\u001b[0m /home/reminiz/ReminizML2/python_env/lib/python3.7/site-packages/tensorflow/python/framework/dtypes.py:528: FutureWarning: Passing (type, 1) or '1type' as a synonym of type is deprecated; in a future version of numpy, it will be understood as (type, (1,)) / '(1,)type'.\n",
      "\u001b[2m\u001b[36m(pid=19555, ip=192.168.8.53)\u001b[0m   _np_qint16 = np.dtype([(\"qint16\", np.int16, 1)])\n",
      "\u001b[2m\u001b[36m(pid=19555, ip=192.168.8.53)\u001b[0m /home/reminiz/ReminizML2/python_env/lib/python3.7/site-packages/tensorflow/python/framework/dtypes.py:529: FutureWarning: Passing (type, 1) or '1type' as a synonym of type is deprecated; in a future version of numpy, it will be understood as (type, (1,)) / '(1,)type'.\n",
      "\u001b[2m\u001b[36m(pid=19555, ip=192.168.8.53)\u001b[0m   _np_quint16 = np.dtype([(\"quint16\", np.uint16, 1)])\n",
      "\u001b[2m\u001b[36m(pid=19555, ip=192.168.8.53)\u001b[0m /home/reminiz/ReminizML2/python_env/lib/python3.7/site-packages/tensorflow/python/framework/dtypes.py:530: FutureWarning: Passing (type, 1) or '1type' as a synonym of type is deprecated; in a future version of numpy, it will be understood as (type, (1,)) / '(1,)type'.\n",
      "\u001b[2m\u001b[36m(pid=19555, ip=192.168.8.53)\u001b[0m   _np_qint32 = np.dtype([(\"qint32\", np.int32, 1)])\n",
      "\u001b[2m\u001b[36m(pid=19555, ip=192.168.8.53)\u001b[0m /home/reminiz/ReminizML2/python_env/lib/python3.7/site-packages/tensorflow/python/framework/dtypes.py:535: FutureWarning: Passing (type, 1) or '1type' as a synonym of type is deprecated; in a future version of numpy, it will be understood as (type, (1,)) / '(1,)type'.\n",
      "\u001b[2m\u001b[36m(pid=19555, ip=192.168.8.53)\u001b[0m   np_resource = np.dtype([(\"resource\", np.ubyte, 1)])\n",
      "\u001b[2m\u001b[36m(pid=10071)\u001b[0m /home/reminiz/ReminizML2/python_env/lib/python3.7/site-packages/tensorflow/python/framework/dtypes.py:526: FutureWarning: Passing (type, 1) or '1type' as a synonym of type is deprecated; in a future version of numpy, it will be understood as (type, (1,)) / '(1,)type'.\n",
      "\u001b[2m\u001b[36m(pid=10071)\u001b[0m   _np_qint8 = np.dtype([(\"qint8\", np.int8, 1)])\n",
      "\u001b[2m\u001b[36m(pid=10071)\u001b[0m /home/reminiz/ReminizML2/python_env/lib/python3.7/site-packages/tensorflow/python/framework/dtypes.py:527: FutureWarning: Passing (type, 1) or '1type' as a synonym of type is deprecated; in a future version of numpy, it will be understood as (type, (1,)) / '(1,)type'.\n",
      "\u001b[2m\u001b[36m(pid=10071)\u001b[0m   _np_quint8 = np.dtype([(\"quint8\", np.uint8, 1)])\n",
      "\u001b[2m\u001b[36m(pid=10071)\u001b[0m /home/reminiz/ReminizML2/python_env/lib/python3.7/site-packages/tensorflow/python/framework/dtypes.py:528: FutureWarning: Passing (type, 1) or '1type' as a synonym of type is deprecated; in a future version of numpy, it will be understood as (type, (1,)) / '(1,)type'.\n",
      "\u001b[2m\u001b[36m(pid=10071)\u001b[0m   _np_qint16 = np.dtype([(\"qint16\", np.int16, 1)])\n",
      "\u001b[2m\u001b[36m(pid=10071)\u001b[0m /home/reminiz/ReminizML2/python_env/lib/python3.7/site-packages/tensorflow/python/framework/dtypes.py:529: FutureWarning: Passing (type, 1) or '1type' as a synonym of type is deprecated; in a future version of numpy, it will be understood as (type, (1,)) / '(1,)type'.\n",
      "\u001b[2m\u001b[36m(pid=10071)\u001b[0m   _np_quint16 = np.dtype([(\"quint16\", np.uint16, 1)])\n",
      "\u001b[2m\u001b[36m(pid=10071)\u001b[0m /home/reminiz/ReminizML2/python_env/lib/python3.7/site-packages/tensorflow/python/framework/dtypes.py:530: FutureWarning: Passing (type, 1) or '1type' as a synonym of type is deprecated; in a future version of numpy, it will be understood as (type, (1,)) / '(1,)type'.\n",
      "\u001b[2m\u001b[36m(pid=10071)\u001b[0m   _np_qint32 = np.dtype([(\"qint32\", np.int32, 1)])\n",
      "\u001b[2m\u001b[36m(pid=10071)\u001b[0m /home/reminiz/ReminizML2/python_env/lib/python3.7/site-packages/tensorflow/python/framework/dtypes.py:535: FutureWarning: Passing (type, 1) or '1type' as a synonym of type is deprecated; in a future version of numpy, it will be understood as (type, (1,)) / '(1,)type'.\n",
      "\u001b[2m\u001b[36m(pid=10071)\u001b[0m   np_resource = np.dtype([(\"resource\", np.ubyte, 1)])\n",
      "\u001b[2m\u001b[36m(pid=14064, ip=192.168.8.52)\u001b[0m /home/reminiz/ReminizML2/python_env/lib/python3.7/site-packages/tensorflow/python/framework/dtypes.py:526: FutureWarning: Passing (type, 1) or '1type' as a synonym of type is deprecated; in a future version of numpy, it will be understood as (type, (1,)) / '(1,)type'.\n",
      "\u001b[2m\u001b[36m(pid=14064, ip=192.168.8.52)\u001b[0m   _np_qint8 = np.dtype([(\"qint8\", np.int8, 1)])\n",
      "\u001b[2m\u001b[36m(pid=14064, ip=192.168.8.52)\u001b[0m /home/reminiz/ReminizML2/python_env/lib/python3.7/site-packages/tensorflow/python/framework/dtypes.py:527: FutureWarning: Passing (type, 1) or '1type' as a synonym of type is deprecated; in a future version of numpy, it will be understood as (type, (1,)) / '(1,)type'.\n",
      "\u001b[2m\u001b[36m(pid=14064, ip=192.168.8.52)\u001b[0m   _np_quint8 = np.dtype([(\"quint8\", np.uint8, 1)])\n",
      "\u001b[2m\u001b[36m(pid=14064, ip=192.168.8.52)\u001b[0m /home/reminiz/ReminizML2/python_env/lib/python3.7/site-packages/tensorflow/python/framework/dtypes.py:528: FutureWarning: Passing (type, 1) or '1type' as a synonym of type is deprecated; in a future version of numpy, it will be understood as (type, (1,)) / '(1,)type'.\n",
      "\u001b[2m\u001b[36m(pid=14064, ip=192.168.8.52)\u001b[0m   _np_qint16 = np.dtype([(\"qint16\", np.int16, 1)])\n",
      "\u001b[2m\u001b[36m(pid=14064, ip=192.168.8.52)\u001b[0m /home/reminiz/ReminizML2/python_env/lib/python3.7/site-packages/tensorflow/python/framework/dtypes.py:529: FutureWarning: Passing (type, 1) or '1type' as a synonym of type is deprecated; in a future version of numpy, it will be understood as (type, (1,)) / '(1,)type'.\n",
      "\u001b[2m\u001b[36m(pid=14064, ip=192.168.8.52)\u001b[0m   _np_quint16 = np.dtype([(\"quint16\", np.uint16, 1)])\n",
      "\u001b[2m\u001b[36m(pid=14064, ip=192.168.8.52)\u001b[0m /home/reminiz/ReminizML2/python_env/lib/python3.7/site-packages/tensorflow/python/framework/dtypes.py:530: FutureWarning: Passing (type, 1) or '1type' as a synonym of type is deprecated; in a future version of numpy, it will be understood as (type, (1,)) / '(1,)type'.\n",
      "\u001b[2m\u001b[36m(pid=14064, ip=192.168.8.52)\u001b[0m   _np_qint32 = np.dtype([(\"qint32\", np.int32, 1)])\n",
      "\u001b[2m\u001b[36m(pid=14064, ip=192.168.8.52)\u001b[0m /home/reminiz/ReminizML2/python_env/lib/python3.7/site-packages/tensorflow/python/framework/dtypes.py:535: FutureWarning: Passing (type, 1) or '1type' as a synonym of type is deprecated; in a future version of numpy, it will be understood as (type, (1,)) / '(1,)type'.\n",
      "\u001b[2m\u001b[36m(pid=14064, ip=192.168.8.52)\u001b[0m   np_resource = np.dtype([(\"resource\", np.ubyte, 1)])\n",
      "\u001b[2m\u001b[36m(pid=10284)\u001b[0m 2020-12-15 13:46:10,098\tINFO (unknown file):0 -- gc.collect() freed 5 refs in 0.028414677130058408 seconds\n",
      "\u001b[2m\u001b[36m(pid=10285)\u001b[0m 2020-12-15 13:46:10,089\tINFO (unknown file):0 -- gc.collect() freed 8 refs in 0.019562192959710956 seconds\n",
      "\u001b[2m\u001b[36m(pid=14163, ip=192.168.8.52)\u001b[0m 2020-12-15 13:46:10,227\tINFO (unknown file):0 -- gc.collect() freed 7 refs in 0.019727272912859917 seconds\n",
      "2020-12-15 13:46:10,264\tINFO (unknown file):0 -- gc.collect() freed 137 refs in 0.19439536589197814 seconds\n",
      "\u001b[2m\u001b[36m(pid=20590, ip=192.168.8.53)\u001b[0m 2020-12-15 13:46:10,266\tINFO (unknown file):0 -- gc.collect() freed 5 refs in 0.028809634037315845 seconds\n",
      "\u001b[2m\u001b[36m(pid=2135, ip=192.168.8.55)\u001b[0m 2020-12-15 13:46:10,304\tINFO (unknown file):0 -- gc.collect() freed 8 refs in 0.053320531034842134 seconds\n",
      "\u001b[2m\u001b[36m(pid=32657, ip=192.168.8.52)\u001b[0m 2020-12-15 13:46:10,409\tINFO (unknown file):0 -- gc.collect() freed 12 refs in 0.20380569715052843 seconds\n",
      "\u001b[2m\u001b[36m(pid=20590, ip=192.168.8.53)\u001b[0m /home/reminiz/ReminizML2/python_env/lib/python3.7/site-packages/tensorflow/python/framework/dtypes.py:526: FutureWarning: Passing (type, 1) or '1type' as a synonym of type is deprecated; in a future version of numpy, it will be understood as (type, (1,)) / '(1,)type'.\n",
      "\u001b[2m\u001b[36m(pid=20590, ip=192.168.8.53)\u001b[0m   _np_qint8 = np.dtype([(\"qint8\", np.int8, 1)])\n",
      "\u001b[2m\u001b[36m(pid=20590, ip=192.168.8.53)\u001b[0m /home/reminiz/ReminizML2/python_env/lib/python3.7/site-packages/tensorflow/python/framework/dtypes.py:527: FutureWarning: Passing (type, 1) or '1type' as a synonym of type is deprecated; in a future version of numpy, it will be understood as (type, (1,)) / '(1,)type'.\n",
      "\u001b[2m\u001b[36m(pid=20590, ip=192.168.8.53)\u001b[0m   _np_quint8 = np.dtype([(\"quint8\", np.uint8, 1)])\n",
      "\u001b[2m\u001b[36m(pid=20590, ip=192.168.8.53)\u001b[0m /home/reminiz/ReminizML2/python_env/lib/python3.7/site-packages/tensorflow/python/framework/dtypes.py:528: FutureWarning: Passing (type, 1) or '1type' as a synonym of type is deprecated; in a future version of numpy, it will be understood as (type, (1,)) / '(1,)type'.\n",
      "\u001b[2m\u001b[36m(pid=20590, ip=192.168.8.53)\u001b[0m   _np_qint16 = np.dtype([(\"qint16\", np.int16, 1)])\n",
      "\u001b[2m\u001b[36m(pid=20590, ip=192.168.8.53)\u001b[0m /home/reminiz/ReminizML2/python_env/lib/python3.7/site-packages/tensorflow/python/framework/dtypes.py:529: FutureWarning: Passing (type, 1) or '1type' as a synonym of type is deprecated; in a future version of numpy, it will be understood as (type, (1,)) / '(1,)type'.\n",
      "\u001b[2m\u001b[36m(pid=20590, ip=192.168.8.53)\u001b[0m   _np_quint16 = np.dtype([(\"quint16\", np.uint16, 1)])\n",
      "\u001b[2m\u001b[36m(pid=20590, ip=192.168.8.53)\u001b[0m /home/reminiz/ReminizML2/python_env/lib/python3.7/site-packages/tensorflow/python/framework/dtypes.py:530: FutureWarning: Passing (type, 1) or '1type' as a synonym of type is deprecated; in a future version of numpy, it will be understood as (type, (1,)) / '(1,)type'.\n",
      "\u001b[2m\u001b[36m(pid=20590, ip=192.168.8.53)\u001b[0m   _np_qint32 = np.dtype([(\"qint32\", np.int32, 1)])\n",
      "\u001b[2m\u001b[36m(pid=20590, ip=192.168.8.53)\u001b[0m /home/reminiz/ReminizML2/python_env/lib/python3.7/site-packages/tensorflow/python/framework/dtypes.py:535: FutureWarning: Passing (type, 1) or '1type' as a synonym of type is deprecated; in a future version of numpy, it will be understood as (type, (1,)) / '(1,)type'.\n",
      "\u001b[2m\u001b[36m(pid=20590, ip=192.168.8.53)\u001b[0m   np_resource = np.dtype([(\"resource\", np.ubyte, 1)])\n",
      "\u001b[2m\u001b[36m(pid=5705, ip=192.168.8.54)\u001b[0m /home/reminiz/ReminizML2/python_env/lib/python3.7/site-packages/tensorflow/python/framework/dtypes.py:526: FutureWarning: Passing (type, 1) or '1type' as a synonym of type is deprecated; in a future version of numpy, it will be understood as (type, (1,)) / '(1,)type'.\n",
      "\u001b[2m\u001b[36m(pid=5705, ip=192.168.8.54)\u001b[0m   _np_qint8 = np.dtype([(\"qint8\", np.int8, 1)])\n",
      "\u001b[2m\u001b[36m(pid=5705, ip=192.168.8.54)\u001b[0m /home/reminiz/ReminizML2/python_env/lib/python3.7/site-packages/tensorflow/python/framework/dtypes.py:527: FutureWarning: Passing (type, 1) or '1type' as a synonym of type is deprecated; in a future version of numpy, it will be understood as (type, (1,)) / '(1,)type'.\n",
      "\u001b[2m\u001b[36m(pid=5705, ip=192.168.8.54)\u001b[0m   _np_quint8 = np.dtype([(\"quint8\", np.uint8, 1)])\n",
      "\u001b[2m\u001b[36m(pid=5705, ip=192.168.8.54)\u001b[0m /home/reminiz/ReminizML2/python_env/lib/python3.7/site-packages/tensorflow/python/framework/dtypes.py:528: FutureWarning: Passing (type, 1) or '1type' as a synonym of type is deprecated; in a future version of numpy, it will be understood as (type, (1,)) / '(1,)type'.\n",
      "\u001b[2m\u001b[36m(pid=5705, ip=192.168.8.54)\u001b[0m   _np_qint16 = np.dtype([(\"qint16\", np.int16, 1)])\n",
      "\u001b[2m\u001b[36m(pid=5705, ip=192.168.8.54)\u001b[0m /home/reminiz/ReminizML2/python_env/lib/python3.7/site-packages/tensorflow/python/framework/dtypes.py:529: FutureWarning: Passing (type, 1) or '1type' as a synonym of type is deprecated; in a future version of numpy, it will be understood as (type, (1,)) / '(1,)type'.\n",
      "\u001b[2m\u001b[36m(pid=5705, ip=192.168.8.54)\u001b[0m   _np_quint16 = np.dtype([(\"quint16\", np.uint16, 1)])\n",
      "\u001b[2m\u001b[36m(pid=5705, ip=192.168.8.54)\u001b[0m /home/reminiz/ReminizML2/python_env/lib/python3.7/site-packages/tensorflow/python/framework/dtypes.py:530: FutureWarning: Passing (type, 1) or '1type' as a synonym of type is deprecated; in a future version of numpy, it will be understood as (type, (1,)) / '(1,)type'.\n",
      "\u001b[2m\u001b[36m(pid=5705, ip=192.168.8.54)\u001b[0m   _np_qint32 = np.dtype([(\"qint32\", np.int32, 1)])\n",
      "\u001b[2m\u001b[36m(pid=5705, ip=192.168.8.54)\u001b[0m /home/reminiz/ReminizML2/python_env/lib/python3.7/site-packages/tensorflow/python/framework/dtypes.py:535: FutureWarning: Passing (type, 1) or '1type' as a synonym of type is deprecated; in a future version of numpy, it will be understood as (type, (1,)) / '(1,)type'.\n",
      "\u001b[2m\u001b[36m(pid=5705, ip=192.168.8.54)\u001b[0m   np_resource = np.dtype([(\"resource\", np.ubyte, 1)])\n",
      "\u001b[2m\u001b[36m(pid=14163, ip=192.168.8.52)\u001b[0m /home/reminiz/ReminizML2/python_env/lib/python3.7/site-packages/tensorflow/python/framework/dtypes.py:526: FutureWarning: Passing (type, 1) or '1type' as a synonym of type is deprecated; in a future version of numpy, it will be understood as (type, (1,)) / '(1,)type'.\n",
      "\u001b[2m\u001b[36m(pid=14163, ip=192.168.8.52)\u001b[0m   _np_qint8 = np.dtype([(\"qint8\", np.int8, 1)])\n",
      "\u001b[2m\u001b[36m(pid=14163, ip=192.168.8.52)\u001b[0m /home/reminiz/ReminizML2/python_env/lib/python3.7/site-packages/tensorflow/python/framework/dtypes.py:527: FutureWarning: Passing (type, 1) or '1type' as a synonym of type is deprecated; in a future version of numpy, it will be understood as (type, (1,)) / '(1,)type'.\n",
      "\u001b[2m\u001b[36m(pid=14163, ip=192.168.8.52)\u001b[0m   _np_quint8 = np.dtype([(\"quint8\", np.uint8, 1)])\n",
      "\u001b[2m\u001b[36m(pid=14163, ip=192.168.8.52)\u001b[0m /home/reminiz/ReminizML2/python_env/lib/python3.7/site-packages/tensorflow/python/framework/dtypes.py:528: FutureWarning: Passing (type, 1) or '1type' as a synonym of type is deprecated; in a future version of numpy, it will be understood as (type, (1,)) / '(1,)type'.\n",
      "\u001b[2m\u001b[36m(pid=14163, ip=192.168.8.52)\u001b[0m   _np_qint16 = np.dtype([(\"qint16\", np.int16, 1)])\n",
      "\u001b[2m\u001b[36m(pid=14163, ip=192.168.8.52)\u001b[0m /home/reminiz/ReminizML2/python_env/lib/python3.7/site-packages/tensorflow/python/framework/dtypes.py:529: FutureWarning: Passing (type, 1) or '1type' as a synonym of type is deprecated; in a future version of numpy, it will be understood as (type, (1,)) / '(1,)type'.\n",
      "\u001b[2m\u001b[36m(pid=14163, ip=192.168.8.52)\u001b[0m   _np_quint16 = np.dtype([(\"quint16\", np.uint16, 1)])\n",
      "\u001b[2m\u001b[36m(pid=14163, ip=192.168.8.52)\u001b[0m /home/reminiz/ReminizML2/python_env/lib/python3.7/site-packages/tensorflow/python/framework/dtypes.py:530: FutureWarning: Passing (type, 1) or '1type' as a synonym of type is deprecated; in a future version of numpy, it will be understood as (type, (1,)) / '(1,)type'.\n",
      "\u001b[2m\u001b[36m(pid=14163, ip=192.168.8.52)\u001b[0m   _np_qint32 = np.dtype([(\"qint32\", np.int32, 1)])\n",
      "\u001b[2m\u001b[36m(pid=14163, ip=192.168.8.52)\u001b[0m /home/reminiz/ReminizML2/python_env/lib/python3.7/site-packages/tensorflow/python/framework/dtypes.py:535: FutureWarning: Passing (type, 1) or '1type' as a synonym of type is deprecated; in a future version of numpy, it will be understood as (type, (1,)) / '(1,)type'.\n",
      "\u001b[2m\u001b[36m(pid=14163, ip=192.168.8.52)\u001b[0m   np_resource = np.dtype([(\"resource\", np.ubyte, 1)])\n",
      "\u001b[2m\u001b[36m(pid=14164, ip=192.168.8.52)\u001b[0m /home/reminiz/ReminizML2/python_env/lib/python3.7/site-packages/tensorflow/python/framework/dtypes.py:526: FutureWarning: Passing (type, 1) or '1type' as a synonym of type is deprecated; in a future version of numpy, it will be understood as (type, (1,)) / '(1,)type'.\n",
      "\u001b[2m\u001b[36m(pid=14164, ip=192.168.8.52)\u001b[0m   _np_qint8 = np.dtype([(\"qint8\", np.int8, 1)])\n",
      "\u001b[2m\u001b[36m(pid=14164, ip=192.168.8.52)\u001b[0m /home/reminiz/ReminizML2/python_env/lib/python3.7/site-packages/tensorflow/python/framework/dtypes.py:527: FutureWarning: Passing (type, 1) or '1type' as a synonym of type is deprecated; in a future version of numpy, it will be understood as (type, (1,)) / '(1,)type'.\n",
      "\u001b[2m\u001b[36m(pid=14164, ip=192.168.8.52)\u001b[0m   _np_quint8 = np.dtype([(\"quint8\", np.uint8, 1)])\n",
      "\u001b[2m\u001b[36m(pid=14164, ip=192.168.8.52)\u001b[0m /home/reminiz/ReminizML2/python_env/lib/python3.7/site-packages/tensorflow/python/framework/dtypes.py:528: FutureWarning: Passing (type, 1) or '1type' as a synonym of type is deprecated; in a future version of numpy, it will be understood as (type, (1,)) / '(1,)type'.\n",
      "\u001b[2m\u001b[36m(pid=14164, ip=192.168.8.52)\u001b[0m   _np_qint16 = np.dtype([(\"qint16\", np.int16, 1)])\n",
      "\u001b[2m\u001b[36m(pid=14164, ip=192.168.8.52)\u001b[0m /home/reminiz/ReminizML2/python_env/lib/python3.7/site-packages/tensorflow/python/framework/dtypes.py:529: FutureWarning: Passing (type, 1) or '1type' as a synonym of type is deprecated; in a future version of numpy, it will be understood as (type, (1,)) / '(1,)type'.\n",
      "\u001b[2m\u001b[36m(pid=14164, ip=192.168.8.52)\u001b[0m   _np_quint16 = np.dtype([(\"quint16\", np.uint16, 1)])\n",
      "\u001b[2m\u001b[36m(pid=14164, ip=192.168.8.52)\u001b[0m /home/reminiz/ReminizML2/python_env/lib/python3.7/site-packages/tensorflow/python/framework/dtypes.py:530: FutureWarning: Passing (type, 1) or '1type' as a synonym of type is deprecated; in a future version of numpy, it will be understood as (type, (1,)) / '(1,)type'.\n",
      "\u001b[2m\u001b[36m(pid=14164, ip=192.168.8.52)\u001b[0m   _np_qint32 = np.dtype([(\"qint32\", np.int32, 1)])\n",
      "\u001b[2m\u001b[36m(pid=14164, ip=192.168.8.52)\u001b[0m /home/reminiz/ReminizML2/python_env/lib/python3.7/site-packages/tensorflow/python/framework/dtypes.py:535: FutureWarning: Passing (type, 1) or '1type' as a synonym of type is deprecated; in a future version of numpy, it will be understood as (type, (1,)) / '(1,)type'.\n",
      "\u001b[2m\u001b[36m(pid=14164, ip=192.168.8.52)\u001b[0m   np_resource = np.dtype([(\"resource\", np.ubyte, 1)])\n",
      "\u001b[2m\u001b[36m(pid=10284)\u001b[0m /home/reminiz/ReminizML2/python_env/lib/python3.7/site-packages/tensorflow/python/framework/dtypes.py:526: FutureWarning: Passing (type, 1) or '1type' as a synonym of type is deprecated; in a future version of numpy, it will be understood as (type, (1,)) / '(1,)type'.\n",
      "\u001b[2m\u001b[36m(pid=10284)\u001b[0m   _np_qint8 = np.dtype([(\"qint8\", np.int8, 1)])\n",
      "\u001b[2m\u001b[36m(pid=10284)\u001b[0m /home/reminiz/ReminizML2/python_env/lib/python3.7/site-packages/tensorflow/python/framework/dtypes.py:527: FutureWarning: Passing (type, 1) or '1type' as a synonym of type is deprecated; in a future version of numpy, it will be understood as (type, (1,)) / '(1,)type'.\n",
      "\u001b[2m\u001b[36m(pid=10284)\u001b[0m   _np_quint8 = np.dtype([(\"quint8\", np.uint8, 1)])\n",
      "\u001b[2m\u001b[36m(pid=10284)\u001b[0m /home/reminiz/ReminizML2/python_env/lib/python3.7/site-packages/tensorflow/python/framework/dtypes.py:528: FutureWarning: Passing (type, 1) or '1type' as a synonym of type is deprecated; in a future version of numpy, it will be understood as (type, (1,)) / '(1,)type'.\n",
      "\u001b[2m\u001b[36m(pid=10284)\u001b[0m   _np_qint16 = np.dtype([(\"qint16\", np.int16, 1)])\n",
      "\u001b[2m\u001b[36m(pid=10284)\u001b[0m /home/reminiz/ReminizML2/python_env/lib/python3.7/site-packages/tensorflow/python/framework/dtypes.py:529: FutureWarning: Passing (type, 1) or '1type' as a synonym of type is deprecated; in a future version of numpy, it will be understood as (type, (1,)) / '(1,)type'.\n",
      "\u001b[2m\u001b[36m(pid=10284)\u001b[0m   _np_quint16 = np.dtype([(\"quint16\", np.uint16, 1)])\n",
      "\u001b[2m\u001b[36m(pid=10284)\u001b[0m /home/reminiz/ReminizML2/python_env/lib/python3.7/site-packages/tensorflow/python/framework/dtypes.py:530: FutureWarning: Passing (type, 1) or '1type' as a synonym of type is deprecated; in a future version of numpy, it will be understood as (type, (1,)) / '(1,)type'.\n",
      "\u001b[2m\u001b[36m(pid=10284)\u001b[0m   _np_qint32 = np.dtype([(\"qint32\", np.int32, 1)])\n",
      "\u001b[2m\u001b[36m(pid=10284)\u001b[0m /home/reminiz/ReminizML2/python_env/lib/python3.7/site-packages/tensorflow/python/framework/dtypes.py:535: FutureWarning: Passing (type, 1) or '1type' as a synonym of type is deprecated; in a future version of numpy, it will be understood as (type, (1,)) / '(1,)type'.\n",
      "\u001b[2m\u001b[36m(pid=10284)\u001b[0m   np_resource = np.dtype([(\"resource\", np.ubyte, 1)])\n",
      "\u001b[2m\u001b[36m(pid=10285)\u001b[0m /home/reminiz/ReminizML2/python_env/lib/python3.7/site-packages/tensorflow/python/framework/dtypes.py:526: FutureWarning: Passing (type, 1) or '1type' as a synonym of type is deprecated; in a future version of numpy, it will be understood as (type, (1,)) / '(1,)type'.\n",
      "\u001b[2m\u001b[36m(pid=10285)\u001b[0m   _np_qint8 = np.dtype([(\"qint8\", np.int8, 1)])\n",
      "\u001b[2m\u001b[36m(pid=10285)\u001b[0m /home/reminiz/ReminizML2/python_env/lib/python3.7/site-packages/tensorflow/python/framework/dtypes.py:527: FutureWarning: Passing (type, 1) or '1type' as a synonym of type is deprecated; in a future version of numpy, it will be understood as (type, (1,)) / '(1,)type'.\n",
      "\u001b[2m\u001b[36m(pid=10285)\u001b[0m   _np_quint8 = np.dtype([(\"quint8\", np.uint8, 1)])\n",
      "\u001b[2m\u001b[36m(pid=10285)\u001b[0m /home/reminiz/ReminizML2/python_env/lib/python3.7/site-packages/tensorflow/python/framework/dtypes.py:528: FutureWarning: Passing (type, 1) or '1type' as a synonym of type is deprecated; in a future version of numpy, it will be understood as (type, (1,)) / '(1,)type'.\n",
      "\u001b[2m\u001b[36m(pid=10285)\u001b[0m   _np_qint16 = np.dtype([(\"qint16\", np.int16, 1)])\n",
      "\u001b[2m\u001b[36m(pid=10285)\u001b[0m /home/reminiz/ReminizML2/python_env/lib/python3.7/site-packages/tensorflow/python/framework/dtypes.py:529: FutureWarning: Passing (type, 1) or '1type' as a synonym of type is deprecated; in a future version of numpy, it will be understood as (type, (1,)) / '(1,)type'.\n",
      "\u001b[2m\u001b[36m(pid=10285)\u001b[0m   _np_quint16 = np.dtype([(\"quint16\", np.uint16, 1)])\n",
      "\u001b[2m\u001b[36m(pid=10285)\u001b[0m /home/reminiz/ReminizML2/python_env/lib/python3.7/site-packages/tensorflow/python/framework/dtypes.py:530: FutureWarning: Passing (type, 1) or '1type' as a synonym of type is deprecated; in a future version of numpy, it will be understood as (type, (1,)) / '(1,)type'.\n",
      "\u001b[2m\u001b[36m(pid=10285)\u001b[0m   _np_qint32 = np.dtype([(\"qint32\", np.int32, 1)])\n",
      "\u001b[2m\u001b[36m(pid=10285)\u001b[0m /home/reminiz/ReminizML2/python_env/lib/python3.7/site-packages/tensorflow/python/framework/dtypes.py:535: FutureWarning: Passing (type, 1) or '1type' as a synonym of type is deprecated; in a future version of numpy, it will be understood as (type, (1,)) / '(1,)type'.\n",
      "\u001b[2m\u001b[36m(pid=10285)\u001b[0m   np_resource = np.dtype([(\"resource\", np.ubyte, 1)])\n",
      "\u001b[2m\u001b[36m(pid=1557, ip=192.168.8.55)\u001b[0m 2020-12-15 13:46:10,885\tINFO (unknown file):0 -- gc.collect() freed 366630 refs in 0.6398243820294738 seconds\n",
      "\u001b[2m\u001b[36m(pid=1870, ip=192.168.8.55)\u001b[0m 2020-12-15 13:46:10,880\tINFO (unknown file):0 -- gc.collect() freed 366630 refs in 0.6346900139469653 seconds\n",
      "\u001b[2m\u001b[36m(pid=2135, ip=192.168.8.55)\u001b[0m /home/reminiz/ReminizML2/python_env/lib/python3.7/site-packages/tensorflow/python/framework/dtypes.py:526: FutureWarning: Passing (type, 1) or '1type' as a synonym of type is deprecated; in a future version of numpy, it will be understood as (type, (1,)) / '(1,)type'.\n",
      "\u001b[2m\u001b[36m(pid=2135, ip=192.168.8.55)\u001b[0m   _np_qint8 = np.dtype([(\"qint8\", np.int8, 1)])\n",
      "\u001b[2m\u001b[36m(pid=2135, ip=192.168.8.55)\u001b[0m /home/reminiz/ReminizML2/python_env/lib/python3.7/site-packages/tensorflow/python/framework/dtypes.py:527: FutureWarning: Passing (type, 1) or '1type' as a synonym of type is deprecated; in a future version of numpy, it will be understood as (type, (1,)) / '(1,)type'.\n",
      "\u001b[2m\u001b[36m(pid=2135, ip=192.168.8.55)\u001b[0m   _np_quint8 = np.dtype([(\"quint8\", np.uint8, 1)])\n",
      "\u001b[2m\u001b[36m(pid=2135, ip=192.168.8.55)\u001b[0m /home/reminiz/ReminizML2/python_env/lib/python3.7/site-packages/tensorflow/python/framework/dtypes.py:528: FutureWarning: Passing (type, 1) or '1type' as a synonym of type is deprecated; in a future version of numpy, it will be understood as (type, (1,)) / '(1,)type'.\n",
      "\u001b[2m\u001b[36m(pid=2135, ip=192.168.8.55)\u001b[0m   _np_qint16 = np.dtype([(\"qint16\", np.int16, 1)])\n",
      "\u001b[2m\u001b[36m(pid=2135, ip=192.168.8.55)\u001b[0m /home/reminiz/ReminizML2/python_env/lib/python3.7/site-packages/tensorflow/python/framework/dtypes.py:529: FutureWarning: Passing (type, 1) or '1type' as a synonym of type is deprecated; in a future version of numpy, it will be understood as (type, (1,)) / '(1,)type'.\n",
      "\u001b[2m\u001b[36m(pid=2135, ip=192.168.8.55)\u001b[0m   _np_quint16 = np.dtype([(\"quint16\", np.uint16, 1)])\n",
      "\u001b[2m\u001b[36m(pid=2135, ip=192.168.8.55)\u001b[0m /home/reminiz/ReminizML2/python_env/lib/python3.7/site-packages/tensorflow/python/framework/dtypes.py:530: FutureWarning: Passing (type, 1) or '1type' as a synonym of type is deprecated; in a future version of numpy, it will be understood as (type, (1,)) / '(1,)type'.\n",
      "\u001b[2m\u001b[36m(pid=2135, ip=192.168.8.55)\u001b[0m   _np_qint32 = np.dtype([(\"qint32\", np.int32, 1)])\n",
      "\u001b[2m\u001b[36m(pid=2135, ip=192.168.8.55)\u001b[0m /home/reminiz/ReminizML2/python_env/lib/python3.7/site-packages/tensorflow/python/framework/dtypes.py:535: FutureWarning: Passing (type, 1) or '1type' as a synonym of type is deprecated; in a future version of numpy, it will be understood as (type, (1,)) / '(1,)type'.\n",
      "\u001b[2m\u001b[36m(pid=2135, ip=192.168.8.55)\u001b[0m   np_resource = np.dtype([(\"resource\", np.ubyte, 1)])\n",
      "\u001b[2m\u001b[36m(pid=1166, ip=192.168.8.55)\u001b[0m 2020-12-15 13:46:24,478\tINFO (unknown file):0 -- gc.collect() freed 32 refs in 14.231726680183783 seconds\n"
     ]
    }
   ],
   "source": [
    "NetworkActor.start_training.remote()"
   ]
  },
  {
   "cell_type": "code",
   "execution_count": null,
   "metadata": {},
   "outputs": [],
   "source": [
    "NetworkActor"
   ]
  },
  {
   "cell_type": "code",
   "execution_count": null,
   "metadata": {},
   "outputs": [],
   "source": []
  },
  {
   "cell_type": "code",
   "execution_count": null,
   "metadata": {},
   "outputs": [],
   "source": []
  }
 ],
 "metadata": {
  "kernelspec": {
   "display_name": "Python 3",
   "language": "python",
   "name": "python3"
  },
  "language_info": {
   "codemirror_mode": {
    "name": "ipython",
    "version": 3
   },
   "file_extension": ".py",
   "mimetype": "text/x-python",
   "name": "python",
   "nbconvert_exporter": "python",
   "pygments_lexer": "ipython3",
   "version": "3.7.7"
  }
 },
 "nbformat": 4,
 "nbformat_minor": 4
}
