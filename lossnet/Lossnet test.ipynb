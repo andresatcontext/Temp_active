{
 "cells": [
  {
   "cell_type": "code",
   "execution_count": 1,
   "metadata": {},
   "outputs": [
    {
     "name": "stderr",
     "output_type": "stream",
     "text": [
      "/home/reminiz/ReminizML2/python_env/lib/python3.7/site-packages/tensorflow/python/framework/dtypes.py:526: FutureWarning: Passing (type, 1) or '1type' as a synonym of type is deprecated; in a future version of numpy, it will be understood as (type, (1,)) / '(1,)type'.\n",
      "  _np_qint8 = np.dtype([(\"qint8\", np.int8, 1)])\n",
      "/home/reminiz/ReminizML2/python_env/lib/python3.7/site-packages/tensorflow/python/framework/dtypes.py:527: FutureWarning: Passing (type, 1) or '1type' as a synonym of type is deprecated; in a future version of numpy, it will be understood as (type, (1,)) / '(1,)type'.\n",
      "  _np_quint8 = np.dtype([(\"quint8\", np.uint8, 1)])\n",
      "/home/reminiz/ReminizML2/python_env/lib/python3.7/site-packages/tensorflow/python/framework/dtypes.py:528: FutureWarning: Passing (type, 1) or '1type' as a synonym of type is deprecated; in a future version of numpy, it will be understood as (type, (1,)) / '(1,)type'.\n",
      "  _np_qint16 = np.dtype([(\"qint16\", np.int16, 1)])\n",
      "/home/reminiz/ReminizML2/python_env/lib/python3.7/site-packages/tensorflow/python/framework/dtypes.py:529: FutureWarning: Passing (type, 1) or '1type' as a synonym of type is deprecated; in a future version of numpy, it will be understood as (type, (1,)) / '(1,)type'.\n",
      "  _np_quint16 = np.dtype([(\"quint16\", np.uint16, 1)])\n",
      "/home/reminiz/ReminizML2/python_env/lib/python3.7/site-packages/tensorflow/python/framework/dtypes.py:530: FutureWarning: Passing (type, 1) or '1type' as a synonym of type is deprecated; in a future version of numpy, it will be understood as (type, (1,)) / '(1,)type'.\n",
      "  _np_qint32 = np.dtype([(\"qint32\", np.int32, 1)])\n",
      "/home/reminiz/ReminizML2/python_env/lib/python3.7/site-packages/tensorflow/python/framework/dtypes.py:535: FutureWarning: Passing (type, 1) or '1type' as a synonym of type is deprecated; in a future version of numpy, it will be understood as (type, (1,)) / '(1,)type'.\n",
      "  np_resource = np.dtype([(\"resource\", np.ubyte, 1)])\n"
     ]
    }
   ],
   "source": [
    "import tensorflow as tf\n",
    "import numpy as np"
   ]
  },
  {
   "cell_type": "code",
   "execution_count": 2,
   "metadata": {},
   "outputs": [],
   "source": [
    "\n",
    "l_pred = tf.placeholder(tf.float32, shape=[16,], name = \"l_pred\")\n",
    "l_true = tf.placeholder(tf.float32, shape=[16,], name = \"l_true\")"
   ]
  },
  {
   "cell_type": "code",
   "execution_count": 3,
   "metadata": {},
   "outputs": [],
   "source": [
    "x = np.array([0.5023, 0.5100, 0.9195, 0.9535, 0.6252, 0.8706, 0.6801, 0.4186, 0.9509,0.3584, 0.5273, 0.9775, 0.4921, 0.4515, 0.7213, 0.8194])\n",
    "y = np.array([0.0736, 0.0751, 0.8538, 0.7110, 0.9743, 0.7315, 0.1218, 0.6964, 0.4264, 0.4585, 0.3606, 0.0911, 0.9101, 0.0578, 0.1127, 0.6333])\n"
   ]
  },
  {
   "cell_type": "code",
   "execution_count": 4,
   "metadata": {},
   "outputs": [],
   "source": [
    "get_batch_size = tf.shape(l_pred)[0]\n",
    "\n",
    "l_pred2 = (l_pred - l_pred[::-1])[:get_batch_size//2]\n",
    "\n",
    "#print('l_pred',l_pred.shape)\n",
    "#\n",
    "l_true2 = (l_true - l_true[::-1] )[:get_batch_size//2]\n",
    "\n",
    "#print('l_true',l_true.shape)\n",
    "# value used in the lossnet loss\n",
    "one = (2 * tf.math.sign( tf.clip_by_value( l_true2, 0, 1))) - 1\n",
    "#print('one',one.shape)\n",
    "\n",
    "temp = 1.0 - one * l_pred2\n",
    "\n",
    "l_loss = tf.reduce_sum(tf.clip_by_value(temp, 0,10000))\n",
    "#print('l_loss',l_loss.shape)\n",
    "l_loss = tf.math.divide(l_loss , tf.cast(tf.shape(l_pred2)[0], l_loss.dtype)) # Note that the size of l_pred is already halved\n",
    "#print('l_loss',l_loss.shape)\"\"\""
   ]
  },
  {
   "cell_type": "code",
   "execution_count": 5,
   "metadata": {},
   "outputs": [
    {
     "name": "stdout",
     "output_type": "stream",
     "text": [
      "1.041\n"
     ]
    }
   ],
   "source": [
    "with tf.Session() as session:\n",
    "    result = session.run(l_loss, feed_dict={l_true:y, l_pred:x})\n",
    "    print(result)"
   ]
  },
  {
   "cell_type": "code",
   "execution_count": 6,
   "metadata": {},
   "outputs": [],
   "source": [
    "y_tru = [[0, 1, 0], [0, 0, 1],[0, 1, 0], [0, 0, 1],[0, 1, 0], [0, 0, 1]]\n",
    "y_pre = [[0.05, 0.95, 0], [0.1, 0.8, 0.1],[0.05, 0.95, 0], [0.1, 0.8, 0.1],[0.05, 0.95, 0], [0.1, 0.8, 0.1]]\n",
    "\n",
    "y_true = tf.placeholder(tf.float32, shape=[None,3], name = \"y_true\")\n",
    "y_pred = tf.placeholder(tf.float32, shape=[None,3], name = \"y_pred\")"
   ]
  },
  {
   "cell_type": "code",
   "execution_count": 7,
   "metadata": {},
   "outputs": [],
   "source": [
    "l_true = tf.nn.softmax_cross_entropy_with_logits_v2(labels=y_true, logits=y_pred)\n",
    "\n",
    "\n",
    "l_true_2 =  tf.keras.losses.categorical_crossentropy(y_true, y_pred)"
   ]
  },
  {
   "cell_type": "code",
   "execution_count": 8,
   "metadata": {},
   "outputs": [
    {
     "name": "stdout",
     "output_type": "stream",
     "text": [
      "[0.05129331 2.3025851  0.05129331 2.3025851  0.05129331 2.3025851 ]\n"
     ]
    }
   ],
   "source": [
    "with tf.Session() as session:\n",
    "    result = session.run(l_true_2, feed_dict={y_true:y_tru, y_pred:y_pre})\n",
    "    print(result)"
   ]
  },
  {
   "cell_type": "code",
   "execution_count": 9,
   "metadata": {},
   "outputs": [
    {
     "data": {
      "text/plain": [
       "array([0.05129331, 2.3025851 , 0.05129331, 2.3025851 , 0.05129331,\n",
       "       2.3025851 ], dtype=float32)"
      ]
     },
     "execution_count": 9,
     "metadata": {},
     "output_type": "execute_result"
    }
   ],
   "source": [
    "result\n"
   ]
  },
  {
   "cell_type": "code",
   "execution_count": null,
   "metadata": {},
   "outputs": [],
   "source": []
  }
 ],
 "metadata": {
  "kernelspec": {
   "display_name": "Python 3",
   "language": "python",
   "name": "python3"
  },
  "language_info": {
   "codemirror_mode": {
    "name": "ipython",
    "version": 3
   },
   "file_extension": ".py",
   "mimetype": "text/x-python",
   "name": "python",
   "nbconvert_exporter": "python",
   "pygments_lexer": "ipython3",
   "version": "3.7.7"
  }
 },
 "nbformat": 4,
 "nbformat_minor": 4
}
