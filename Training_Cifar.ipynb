{
 "cells": [
  {
   "cell_type": "markdown",
   "metadata": {},
   "source": [
    "### Init ray"
   ]
  },
  {
   "cell_type": "code",
   "execution_count": 1,
   "metadata": {},
   "outputs": [
    {
     "name": "stderr",
     "output_type": "stream",
     "text": [
      "2020-12-06 18:44:09,912\tINFO worker.py:634 -- Connecting to existing Ray cluster at address: 192.168.8.51:6379\n"
     ]
    },
    {
     "data": {
      "text/plain": [
       "{'node_ip_address': '192.168.8.51',\n",
       " 'raylet_ip_address': '192.168.8.51',\n",
       " 'redis_address': '192.168.8.51:6379',\n",
       " 'object_store_address': '/tmp/ray/session_2020-12-04_17-50-59_110223_23718/sockets/plasma_store',\n",
       " 'raylet_socket_name': '/tmp/ray/session_2020-12-04_17-50-59_110223_23718/sockets/raylet',\n",
       " 'webui_url': '192.168.8.51:8265',\n",
       " 'session_dir': '/tmp/ray/session_2020-12-04_17-50-59_110223_23718',\n",
       " 'metrics_export_port': 57837}"
      ]
     },
     "execution_count": 1,
     "metadata": {},
     "output_type": "execute_result"
    }
   ],
   "source": [
    "import ray\n",
    "ray.init(address=\"auto\", ignore_reinit_error=True)"
   ]
  },
  {
   "cell_type": "markdown",
   "metadata": {},
   "source": [
    "### Load default config"
   ]
  },
  {
   "cell_type": "code",
   "execution_count": 2,
   "metadata": {},
   "outputs": [],
   "source": [
    "# load defaulft config\n",
    "import yaml\n",
    "import os\n",
    "import time\n",
    "import pandas as pd\n",
    "import random\n",
    "\n",
    "config_path = './configs/Active_v0.yml'\n",
    "\n",
    "with open(config_path) as file:\n",
    "    # The FullLoader parameter handles the conversion from YAML\n",
    "    # scalar values to Python the dictionary format\n",
    "    config = yaml.load(file, Loader=yaml.FullLoader)\n",
    "\n",
    "# create base dir and gr\n",
    "if os.path.exists(config[\"PROJECT\"][\"project_dir\"]) is False:\n",
    "    os.mkdir(config[\"PROJECT\"][\"project_dir\"])\n",
    "\n",
    "if os.path.exists(config[\"PROJECT\"][\"group_dir\"]) is False:\n",
    "    os.mkdir(config[\"PROJECT\"][\"group_dir\"])"
   ]
  },
  {
   "cell_type": "code",
   "execution_count": 3,
   "metadata": {},
   "outputs": [
    {
     "data": {
      "text/plain": [
       "{'ACTIVE_ALGO': {'LOSSLEARNING': 1.0},\n",
       " 'DATASET': {'height_shift_range': 4,\n",
       "  'horizontal_flip': True,\n",
       "  'width_shift_range': 4},\n",
       " 'NETWORK': {'CLASSES': None,\n",
       "  'INPUT_SIZE': None,\n",
       "  'MARGIN': 1.0,\n",
       "  'embedding_size': 128},\n",
       " 'PROJECT': {'Backbone': 'resnet18',\n",
       "  'dataset_name': 'CIFAR',\n",
       "  'group': 'Active_Learning_v1',\n",
       "  'group_dir': '/disk3/Active_Learning_test/Active_Learning_v1',\n",
       "  'project': 'Active_Learning_CIFAR',\n",
       "  'project_dir': '/disk3/Active_Learning_test',\n",
       "  'source': 'CIFAR'},\n",
       " 'RUNS': {'ADDENDUM': 1000,\n",
       "  'CYCLES': 10,\n",
       "  'SUBSET': -1,\n",
       "  'TRIALS': 1,\n",
       "  'test_each': 5},\n",
       " 'TEST': {'batch_size': 128},\n",
       " 'TRAIN': {'Data_augementation': True,\n",
       "  'EPOCH_SLIT': 80,\n",
       "  'EPOCH_WARMUP': 2,\n",
       "  'EPOCH_WHOLE': 120,\n",
       "  'MILESTONES': [160],\n",
       "  'batch_size': 128,\n",
       "  'gamma': 0.1,\n",
       "  'lr': 0.001,\n",
       "  'start_epoch': 0,\n",
       "  'transfer_weight_path': False,\n",
       "  'w_c_loss': 1.0,\n",
       "  'w_l_loss': 1.0,\n",
       "  'wdecay': 0.9995}}"
      ]
     },
     "execution_count": 3,
     "metadata": {},
     "output_type": "execute_result"
    }
   ],
   "source": [
    "config"
   ]
  },
  {
   "cell_type": "markdown",
   "metadata": {},
   "source": [
    "### Get the data to annotate\n",
    "\n",
    "For DataNet we should pass the list of the annotated images"
   ]
  },
  {
   "cell_type": "code",
   "execution_count": 4,
   "metadata": {},
   "outputs": [
    {
     "name": "stderr",
     "output_type": "stream",
     "text": [
      "/home/reminiz/ReminizML2/python_env/lib/python3.7/site-packages/tensorflow/python/framework/dtypes.py:526: FutureWarning: Passing (type, 1) or '1type' as a synonym of type is deprecated; in a future version of numpy, it will be understood as (type, (1,)) / '(1,)type'.\n",
      "  _np_qint8 = np.dtype([(\"qint8\", np.int8, 1)])\n",
      "/home/reminiz/ReminizML2/python_env/lib/python3.7/site-packages/tensorflow/python/framework/dtypes.py:527: FutureWarning: Passing (type, 1) or '1type' as a synonym of type is deprecated; in a future version of numpy, it will be understood as (type, (1,)) / '(1,)type'.\n",
      "  _np_quint8 = np.dtype([(\"quint8\", np.uint8, 1)])\n",
      "/home/reminiz/ReminizML2/python_env/lib/python3.7/site-packages/tensorflow/python/framework/dtypes.py:528: FutureWarning: Passing (type, 1) or '1type' as a synonym of type is deprecated; in a future version of numpy, it will be understood as (type, (1,)) / '(1,)type'.\n",
      "  _np_qint16 = np.dtype([(\"qint16\", np.int16, 1)])\n",
      "/home/reminiz/ReminizML2/python_env/lib/python3.7/site-packages/tensorflow/python/framework/dtypes.py:529: FutureWarning: Passing (type, 1) or '1type' as a synonym of type is deprecated; in a future version of numpy, it will be understood as (type, (1,)) / '(1,)type'.\n",
      "  _np_quint16 = np.dtype([(\"quint16\", np.uint16, 1)])\n",
      "/home/reminiz/ReminizML2/python_env/lib/python3.7/site-packages/tensorflow/python/framework/dtypes.py:530: FutureWarning: Passing (type, 1) or '1type' as a synonym of type is deprecated; in a future version of numpy, it will be understood as (type, (1,)) / '(1,)type'.\n",
      "  _np_qint32 = np.dtype([(\"qint32\", np.int32, 1)])\n",
      "/home/reminiz/ReminizML2/python_env/lib/python3.7/site-packages/tensorflow/python/framework/dtypes.py:535: FutureWarning: Passing (type, 1) or '1type' as a synonym of type is deprecated; in a future version of numpy, it will be understood as (type, (1,)) / '(1,)type'.\n",
      "  np_resource = np.dtype([(\"resource\", np.ubyte, 1)])\n"
     ]
    },
    {
     "name": "stdout",
     "output_type": "stream",
     "text": [
      "CIFAR10 Training data shape: (50000, 32, 32, 3)\n",
      "CIFAR10 Training label shape (50000, 1)\n",
      "CIFAR10 Test data shape (10000, 32, 32, 3)\n",
      "CIFAR10 Test label shape (10000, 1)\n"
     ]
    }
   ],
   "source": [
    "# Get the data to annotate\n",
    "\n",
    "#############################################################################################\n",
    "# LOAD DATA\n",
    "#############################################################################################\n",
    "from data_utils import CIFAR10Data\n",
    "# Load data\n",
    "cifar10_data = CIFAR10Data()\n",
    "num_classes = len(cifar10_data.classes)\n",
    "x_train, y_train, x_test, y_test = cifar10_data.get_data(subtract_mean=True)"
   ]
  },
  {
   "cell_type": "code",
   "execution_count": 5,
   "metadata": {},
   "outputs": [],
   "source": [
    "indices = list(range(len(x_train)))\n",
    "random.shuffle(indices)\n",
    "labeled_set = indices[:config[\"RUNS\"][\"ADDENDUM\"] ]\n",
    "unlabeled_set = indices[config[\"RUNS\"][\"ADDENDUM\"] :]"
   ]
  },
  {
   "cell_type": "code",
   "execution_count": 6,
   "metadata": {},
   "outputs": [],
   "source": [
    "# test with all the images\n",
    "NUM_IMAGES_TEST = len(x_test)\n",
    "# Initialize a labeled dataset by randomly sampling K=ADDENDUM=1,000 data points from the entire dataset.\n",
    "test_set = list(range(NUM_IMAGES_TEST))"
   ]
  },
  {
   "cell_type": "code",
   "execution_count": 7,
   "metadata": {},
   "outputs": [],
   "source": [
    "config[\"NETWORK\"][\"INPUT_SIZE\"] =  x_train[0].shape[0]\n",
    "config[\"NETWORK\"][\"CLASSES\"] = cifar10_data.classes"
   ]
  },
  {
   "cell_type": "code",
   "execution_count": 8,
   "metadata": {},
   "outputs": [
    {
     "data": {
      "text/plain": [
       "{'ACTIVE_ALGO': {'LOSSLEARNING': 1.0},\n",
       " 'DATASET': {'height_shift_range': 4,\n",
       "  'horizontal_flip': True,\n",
       "  'width_shift_range': 4},\n",
       " 'NETWORK': {'CLASSES': ['plane',\n",
       "   'car',\n",
       "   'bird',\n",
       "   'cat',\n",
       "   'deer',\n",
       "   'dog',\n",
       "   'frog',\n",
       "   'horse',\n",
       "   'ship',\n",
       "   'truck'],\n",
       "  'INPUT_SIZE': 32,\n",
       "  'MARGIN': 1.0,\n",
       "  'embedding_size': 128},\n",
       " 'PROJECT': {'Backbone': 'resnet18',\n",
       "  'dataset_name': 'CIFAR',\n",
       "  'group': 'Active_Learning_v1',\n",
       "  'group_dir': '/disk3/Active_Learning_test/Active_Learning_v1',\n",
       "  'project': 'Active_Learning_CIFAR',\n",
       "  'project_dir': '/disk3/Active_Learning_test',\n",
       "  'source': 'CIFAR'},\n",
       " 'RUNS': {'ADDENDUM': 1000,\n",
       "  'CYCLES': 10,\n",
       "  'SUBSET': -1,\n",
       "  'TRIALS': 1,\n",
       "  'test_each': 5},\n",
       " 'TEST': {'batch_size': 128},\n",
       " 'TRAIN': {'Data_augementation': True,\n",
       "  'EPOCH_SLIT': 80,\n",
       "  'EPOCH_WARMUP': 2,\n",
       "  'EPOCH_WHOLE': 120,\n",
       "  'MILESTONES': [160],\n",
       "  'batch_size': 128,\n",
       "  'gamma': 0.1,\n",
       "  'lr': 0.001,\n",
       "  'start_epoch': 0,\n",
       "  'transfer_weight_path': False,\n",
       "  'w_c_loss': 1.0,\n",
       "  'w_l_loss': 1.0,\n",
       "  'wdecay': 0.9995}}"
      ]
     },
     "execution_count": 8,
     "metadata": {},
     "output_type": "execute_result"
    }
   ],
   "source": [
    "config"
   ]
  },
  {
   "cell_type": "code",
   "execution_count": 9,
   "metadata": {},
   "outputs": [],
   "source": [
    "from train_agent_cifar_keras import Active_Learning_train"
   ]
  },
  {
   "cell_type": "code",
   "execution_count": null,
   "metadata": {},
   "outputs": [],
   "source": []
  },
  {
   "cell_type": "code",
   "execution_count": 10,
   "metadata": {},
   "outputs": [
    {
     "name": "stderr",
     "output_type": "stream",
     "text": [
      "\u001b[2m\u001b[36m(pid=17741)\u001b[0m /home/reminiz/ReminizML2/python_env/lib/python3.7/site-packages/tensorflow/python/framework/dtypes.py:526: FutureWarning: Passing (type, 1) or '1type' as a synonym of type is deprecated; in a future version of numpy, it will be understood as (type, (1,)) / '(1,)type'.\n",
      "\u001b[2m\u001b[36m(pid=17741)\u001b[0m   _np_qint8 = np.dtype([(\"qint8\", np.int8, 1)])\n",
      "\u001b[2m\u001b[36m(pid=17741)\u001b[0m /home/reminiz/ReminizML2/python_env/lib/python3.7/site-packages/tensorflow/python/framework/dtypes.py:527: FutureWarning: Passing (type, 1) or '1type' as a synonym of type is deprecated; in a future version of numpy, it will be understood as (type, (1,)) / '(1,)type'.\n",
      "\u001b[2m\u001b[36m(pid=17741)\u001b[0m   _np_quint8 = np.dtype([(\"quint8\", np.uint8, 1)])\n",
      "\u001b[2m\u001b[36m(pid=17741)\u001b[0m /home/reminiz/ReminizML2/python_env/lib/python3.7/site-packages/tensorflow/python/framework/dtypes.py:528: FutureWarning: Passing (type, 1) or '1type' as a synonym of type is deprecated; in a future version of numpy, it will be understood as (type, (1,)) / '(1,)type'.\n",
      "\u001b[2m\u001b[36m(pid=17741)\u001b[0m   _np_qint16 = np.dtype([(\"qint16\", np.int16, 1)])\n",
      "\u001b[2m\u001b[36m(pid=17741)\u001b[0m /home/reminiz/ReminizML2/python_env/lib/python3.7/site-packages/tensorflow/python/framework/dtypes.py:529: FutureWarning: Passing (type, 1) or '1type' as a synonym of type is deprecated; in a future version of numpy, it will be understood as (type, (1,)) / '(1,)type'.\n",
      "\u001b[2m\u001b[36m(pid=17741)\u001b[0m   _np_quint16 = np.dtype([(\"quint16\", np.uint16, 1)])\n",
      "\u001b[2m\u001b[36m(pid=17741)\u001b[0m /home/reminiz/ReminizML2/python_env/lib/python3.7/site-packages/tensorflow/python/framework/dtypes.py:530: FutureWarning: Passing (type, 1) or '1type' as a synonym of type is deprecated; in a future version of numpy, it will be understood as (type, (1,)) / '(1,)type'.\n",
      "\u001b[2m\u001b[36m(pid=17741)\u001b[0m   _np_qint32 = np.dtype([(\"qint32\", np.int32, 1)])\n",
      "\u001b[2m\u001b[36m(pid=17741)\u001b[0m /home/reminiz/ReminizML2/python_env/lib/python3.7/site-packages/tensorflow/python/framework/dtypes.py:535: FutureWarning: Passing (type, 1) or '1type' as a synonym of type is deprecated; in a future version of numpy, it will be understood as (type, (1,)) / '(1,)type'.\n",
      "\u001b[2m\u001b[36m(pid=17741)\u001b[0m   np_resource = np.dtype([(\"resource\", np.ubyte, 1)])\n",
      "\u001b[2m\u001b[36m(pid=17741)\u001b[0m /home/reminiz/ReminizML2/python_env/lib/python3.7/site-packages/tensorboard/compat/tensorflow_stub/dtypes.py:541: FutureWarning: Passing (type, 1) or '1type' as a synonym of type is deprecated; in a future version of numpy, it will be understood as (type, (1,)) / '(1,)type'.\n",
      "\u001b[2m\u001b[36m(pid=17741)\u001b[0m   _np_qint8 = np.dtype([(\"qint8\", np.int8, 1)])\n",
      "\u001b[2m\u001b[36m(pid=17741)\u001b[0m /home/reminiz/ReminizML2/python_env/lib/python3.7/site-packages/tensorboard/compat/tensorflow_stub/dtypes.py:542: FutureWarning: Passing (type, 1) or '1type' as a synonym of type is deprecated; in a future version of numpy, it will be understood as (type, (1,)) / '(1,)type'.\n",
      "\u001b[2m\u001b[36m(pid=17741)\u001b[0m   _np_quint8 = np.dtype([(\"quint8\", np.uint8, 1)])\n",
      "\u001b[2m\u001b[36m(pid=17741)\u001b[0m /home/reminiz/ReminizML2/python_env/lib/python3.7/site-packages/tensorboard/compat/tensorflow_stub/dtypes.py:543: FutureWarning: Passing (type, 1) or '1type' as a synonym of type is deprecated; in a future version of numpy, it will be understood as (type, (1,)) / '(1,)type'.\n",
      "\u001b[2m\u001b[36m(pid=17741)\u001b[0m   _np_qint16 = np.dtype([(\"qint16\", np.int16, 1)])\n",
      "\u001b[2m\u001b[36m(pid=17741)\u001b[0m /home/reminiz/ReminizML2/python_env/lib/python3.7/site-packages/tensorboard/compat/tensorflow_stub/dtypes.py:544: FutureWarning: Passing (type, 1) or '1type' as a synonym of type is deprecated; in a future version of numpy, it will be understood as (type, (1,)) / '(1,)type'.\n",
      "\u001b[2m\u001b[36m(pid=17741)\u001b[0m   _np_quint16 = np.dtype([(\"quint16\", np.uint16, 1)])\n",
      "\u001b[2m\u001b[36m(pid=17741)\u001b[0m /home/reminiz/ReminizML2/python_env/lib/python3.7/site-packages/tensorboard/compat/tensorflow_stub/dtypes.py:545: FutureWarning: Passing (type, 1) or '1type' as a synonym of type is deprecated; in a future version of numpy, it will be understood as (type, (1,)) / '(1,)type'.\n",
      "\u001b[2m\u001b[36m(pid=17741)\u001b[0m   _np_qint32 = np.dtype([(\"qint32\", np.int32, 1)])\n",
      "\u001b[2m\u001b[36m(pid=17741)\u001b[0m /home/reminiz/ReminizML2/python_env/lib/python3.7/site-packages/tensorboard/compat/tensorflow_stub/dtypes.py:550: FutureWarning: Passing (type, 1) or '1type' as a synonym of type is deprecated; in a future version of numpy, it will be understood as (type, (1,)) / '(1,)type'.\n",
      "\u001b[2m\u001b[36m(pid=17741)\u001b[0m   np_resource = np.dtype([(\"resource\", np.ubyte, 1)])\n",
      "\u001b[2m\u001b[36m(pid=17741)\u001b[0m wandb: Tracking run with wandb version 0.8.36\n",
      "\u001b[2m\u001b[36m(pid=17741)\u001b[0m wandb: Wandb version 0.10.12 is available!  To upgrade, please run:\n",
      "\u001b[2m\u001b[36m(pid=17741)\u001b[0m wandb:  $ pip install wandb --upgrade\n",
      "\u001b[2m\u001b[36m(pid=17741)\u001b[0m wandb: Run data is saved locally in ../../../Trainings/wandb/wandb/run-20201206_174421-1s6mjwcs\n",
      "\u001b[2m\u001b[36m(pid=17741)\u001b[0m wandb: Syncing run Train_0\n",
      "\u001b[2m\u001b[36m(pid=17741)\u001b[0m wandb: ⭐️ View project at http://192.168.8.51:8080/reminiz/Active_Learning_CIFAR\n",
      "\u001b[2m\u001b[36m(pid=17741)\u001b[0m wandb: 🚀 View run at http://192.168.8.51:8080/reminiz/Active_Learning_CIFAR/runs/1s6mjwcs\n",
      "\u001b[2m\u001b[36m(pid=17741)\u001b[0m wandb: Run `wandb off` to turn off syncing.\n",
      "\u001b[2m\u001b[36m(pid=17741)\u001b[0m \n",
      "2020-12-06 18:44:23,840\tINFO (unknown file):0 -- gc.collect() freed 140 refs in 0.1952594870235771 seconds\n",
      "\u001b[2m\u001b[36m(pid=17741)\u001b[0m 2020-12-06 18:44:23,802\tINFO (unknown file):0 -- gc.collect() freed 110 refs in 0.16382267593871802 seconds\n"
     ]
    },
    {
     "name": "stdout",
     "output_type": "stream",
     "text": [
      "\u001b[2m\u001b[36m(pid=17741)\u001b[0m CIFAR10 Training data shape: (50000, 32, 32, 3)\n",
      "\u001b[2m\u001b[36m(pid=17741)\u001b[0m CIFAR10 Training label shape (50000, 1)\n",
      "\u001b[2m\u001b[36m(pid=17741)\u001b[0m CIFAR10 Test data shape (10000, 32, 32, 3)\n",
      "\u001b[2m\u001b[36m(pid=17741)\u001b[0m CIFAR10 Test label shape (10000, 1)\n"
     ]
    },
    {
     "name": "stderr",
     "output_type": "stream",
     "text": [
      "\u001b[2m\u001b[36m(pid=17741)\u001b[0m WARNING:tensorflow:From /home/reminiz/ReminizML2/python_env/lib/python3.7/site-packages/tensorflow/python/data/ops/dataset_ops.py:429: py_func (from tensorflow.python.ops.script_ops) is deprecated and will be removed in a future version.\n",
      "\u001b[2m\u001b[36m(pid=17741)\u001b[0m Instructions for updating:\n",
      "\u001b[2m\u001b[36m(pid=17741)\u001b[0m tf.py_func is deprecated in TF V2. Instead, use\n",
      "\u001b[2m\u001b[36m(pid=17741)\u001b[0m     tf.py_function, which takes a python function which manipulates tf eager\n",
      "\u001b[2m\u001b[36m(pid=17741)\u001b[0m     tensors instead of numpy arrays. It's easy to convert a tf eager tensor to\n",
      "\u001b[2m\u001b[36m(pid=17741)\u001b[0m     an ndarray (just call tensor.numpy()) but having access to eager tensors\n",
      "\u001b[2m\u001b[36m(pid=17741)\u001b[0m     means `tf.py_function`s can use accelerators such as GPUs as well as\n",
      "\u001b[2m\u001b[36m(pid=17741)\u001b[0m     being differentiable using a gradient tape.\n",
      "\u001b[2m\u001b[36m(pid=17741)\u001b[0m     \n",
      "\u001b[2m\u001b[36m(pid=17741)\u001b[0m WARNING:tensorflow:From /mnt/Ressources/Andres/Temp_active/backbones/resnet18.py:22: conv2d (from tensorflow.python.layers.convolutional) is deprecated and will be removed in a future version.\n",
      "\u001b[2m\u001b[36m(pid=17741)\u001b[0m Instructions for updating:\n",
      "\u001b[2m\u001b[36m(pid=17741)\u001b[0m Use keras.layers.conv2d instead.\n",
      "\u001b[2m\u001b[36m(pid=17741)\u001b[0m WARNING:tensorflow:From /home/reminiz/ReminizML2/python_env/lib/python3.7/site-packages/tensorflow/python/framework/op_def_library.py:263: colocate_with (from tensorflow.python.framework.ops) is deprecated and will be removed in a future version.\n",
      "\u001b[2m\u001b[36m(pid=17741)\u001b[0m Instructions for updating:\n",
      "\u001b[2m\u001b[36m(pid=17741)\u001b[0m Colocations handled automatically by placer.\n",
      "\u001b[2m\u001b[36m(pid=17741)\u001b[0m WARNING:tensorflow:From /mnt/Ressources/Andres/Temp_active/backbones/resnet18.py:58: flatten (from tensorflow.python.layers.core) is deprecated and will be removed in a future version.\n",
      "\u001b[2m\u001b[36m(pid=17741)\u001b[0m Instructions for updating:\n",
      "\u001b[2m\u001b[36m(pid=17741)\u001b[0m Use keras.layers.flatten instead.\n",
      "\u001b[2m\u001b[36m(pid=17741)\u001b[0m WARNING:tensorflow:From /mnt/Ressources/Andres/Temp_active/backbones/resnet18.py:29: dense (from tensorflow.python.layers.core) is deprecated and will be removed in a future version.\n",
      "\u001b[2m\u001b[36m(pid=17741)\u001b[0m Instructions for updating:\n",
      "\u001b[2m\u001b[36m(pid=17741)\u001b[0m Use keras.layers.dense instead.\n",
      "2020-12-06 18:44:32,476\tERROR worker.py:1018 -- Possible unhandled error from worker: \u001b[36mray::Active_Learning_train.__init__()\u001b[39m (pid=17741, ip=192.168.8.51)\n",
      "  File \"python/ray/_raylet.pyx\", line 484, in ray._raylet.execute_task\n",
      "  File \"python/ray/_raylet.pyx\", line 438, in ray._raylet.execute_task.function_executor\n",
      "  File \"/mnt/Ressources/Andres/Temp_active/train_agent_cifar_keras.py\", line 160, in __init__\n",
      "    model = tf.keras.Model(inputs=inputs, outputs=[self.l_pred_w, self.l_pred_s, self.embedding_whole, self.embedding_split])\n",
      "  File \"/home/reminiz/ReminizML2/python_env/lib/python3.7/site-packages/tensorflow/python/keras/engine/training.py\", line 121, in __init__\n",
      "    super(Model, self).__init__(*args, **kwargs)\n",
      "  File \"/home/reminiz/ReminizML2/python_env/lib/python3.7/site-packages/tensorflow/python/keras/engine/network.py\", line 81, in __init__\n",
      "    self._init_graph_network(*args, **kwargs)\n",
      "  File \"/home/reminiz/ReminizML2/python_env/lib/python3.7/site-packages/tensorflow/python/training/checkpointable/base.py\", line 442, in _method_wrapper\n",
      "    method(self, *args, **kwargs)\n",
      "  File \"/home/reminiz/ReminizML2/python_env/lib/python3.7/site-packages/tensorflow/python/keras/engine/network.py\", line 177, in _init_graph_network\n",
      "    self._validate_graph_inputs_and_outputs()\n",
      "  File \"/home/reminiz/ReminizML2/python_env/lib/python3.7/site-packages/tensorflow/python/keras/engine/network.py\", line 1673, in _validate_graph_inputs_and_outputs\n",
      "    '(thus holding past layer metadata). Found: ' + str(x))\n",
      "ValueError: Output tensors to a Model must be the output of a TensorFlow `Layer` (thus holding past layer metadata). Found: Tensor(\"LossNet/Squeeze:0\", dtype=float32)\n",
      "\u001b[2m\u001b[36m(pid=22622, ip=192.168.8.52)\u001b[0m 2020-12-06 19:02:39.708304: W tensorflow/core/framework/op_kernel.cc:1389] Unknown: IndexError: index 54 is out of bounds for axis 0 with size 52\n",
      "\u001b[2m\u001b[36m(pid=22622, ip=192.168.8.52)\u001b[0m Traceback (most recent call last):\n",
      "\u001b[2m\u001b[36m(pid=22622, ip=192.168.8.52)\u001b[0m \n",
      "\u001b[2m\u001b[36m(pid=22622, ip=192.168.8.52)\u001b[0m   File \"/home/reminiz/ReminizML2/python_env/lib/python3.7/site-packages/tensorflow/python/ops/script_ops.py\", line 207, in __call__\n",
      "\u001b[2m\u001b[36m(pid=22622, ip=192.168.8.52)\u001b[0m     ret = func(*args)\n",
      "\u001b[2m\u001b[36m(pid=22622, ip=192.168.8.52)\u001b[0m \n",
      "\u001b[2m\u001b[36m(pid=22622, ip=192.168.8.52)\u001b[0m   File \"/mnt/Ressources/Quentin/Detection/core/dataset.py\", line 91, in get_image_bbox\n",
      "\u001b[2m\u001b[36m(pid=22622, ip=192.168.8.52)\u001b[0m     label_sbbox, label_mbbox, label_lbbox, sbboxes, mbboxes, lbboxes = self.preprocess_true_boxes(bboxes)\n",
      "\u001b[2m\u001b[36m(pid=22622, ip=192.168.8.52)\u001b[0m \n",
      "\u001b[2m\u001b[36m(pid=22622, ip=192.168.8.52)\u001b[0m   File \"/mnt/Ressources/Quentin/Detection/core/dataset.py\", line 370, in preprocess_true_boxes\n",
      "\u001b[2m\u001b[36m(pid=22622, ip=192.168.8.52)\u001b[0m     label[best_detect][yind, xind, best_anchor, :] = 0\n",
      "\u001b[2m\u001b[36m(pid=22622, ip=192.168.8.52)\u001b[0m \n",
      "\u001b[2m\u001b[36m(pid=22622, ip=192.168.8.52)\u001b[0m IndexError: index 54 is out of bounds for axis 0 with size 52\n",
      "\u001b[2m\u001b[36m(pid=22622, ip=192.168.8.52)\u001b[0m \n",
      "\u001b[2m\u001b[36m(pid=22622, ip=192.168.8.52)\u001b[0m \n"
     ]
    },
    {
     "name": "stdout",
     "output_type": "stream",
     "text": [
      "\u001b[2m\u001b[36m(pid=22622, ip=192.168.8.52)\u001b[0m Epoch: 15 Time: 2020-12-06 19:04:30 Train loss: 2.31 Count NaN: 0 Saving\n"
     ]
    },
    {
     "name": "stderr",
     "output_type": "stream",
     "text": [
      "\u001b[2m\u001b[36m(pid=30463, ip=192.168.8.52)\u001b[0m /home/reminiz/ReminizML2/python_env/lib/python3.7/site-packages/tensorflow/python/framework/dtypes.py:526: FutureWarning: Passing (type, 1) or '1type' as a synonym of type is deprecated; in a future version of numpy, it will be understood as (type, (1,)) / '(1,)type'.\n",
      "\u001b[2m\u001b[36m(pid=30463, ip=192.168.8.52)\u001b[0m   _np_qint8 = np.dtype([(\"qint8\", np.int8, 1)])\n",
      "\u001b[2m\u001b[36m(pid=30463, ip=192.168.8.52)\u001b[0m /home/reminiz/ReminizML2/python_env/lib/python3.7/site-packages/tensorflow/python/framework/dtypes.py:527: FutureWarning: Passing (type, 1) or '1type' as a synonym of type is deprecated; in a future version of numpy, it will be understood as (type, (1,)) / '(1,)type'.\n",
      "\u001b[2m\u001b[36m(pid=30463, ip=192.168.8.52)\u001b[0m   _np_quint8 = np.dtype([(\"quint8\", np.uint8, 1)])\n",
      "\u001b[2m\u001b[36m(pid=30463, ip=192.168.8.52)\u001b[0m /home/reminiz/ReminizML2/python_env/lib/python3.7/site-packages/tensorflow/python/framework/dtypes.py:528: FutureWarning: Passing (type, 1) or '1type' as a synonym of type is deprecated; in a future version of numpy, it will be understood as (type, (1,)) / '(1,)type'.\n",
      "\u001b[2m\u001b[36m(pid=30463, ip=192.168.8.52)\u001b[0m   _np_qint16 = np.dtype([(\"qint16\", np.int16, 1)])\n",
      "\u001b[2m\u001b[36m(pid=30463, ip=192.168.8.52)\u001b[0m /home/reminiz/ReminizML2/python_env/lib/python3.7/site-packages/tensorflow/python/framework/dtypes.py:529: FutureWarning: Passing (type, 1) or '1type' as a synonym of type is deprecated; in a future version of numpy, it will be understood as (type, (1,)) / '(1,)type'.\n",
      "\u001b[2m\u001b[36m(pid=30463, ip=192.168.8.52)\u001b[0m   _np_quint16 = np.dtype([(\"quint16\", np.uint16, 1)])\n",
      "\u001b[2m\u001b[36m(pid=30463, ip=192.168.8.52)\u001b[0m /home/reminiz/ReminizML2/python_env/lib/python3.7/site-packages/tensorflow/python/framework/dtypes.py:530: FutureWarning: Passing (type, 1) or '1type' as a synonym of type is deprecated; in a future version of numpy, it will be understood as (type, (1,)) / '(1,)type'.\n",
      "\u001b[2m\u001b[36m(pid=30463, ip=192.168.8.52)\u001b[0m   _np_qint32 = np.dtype([(\"qint32\", np.int32, 1)])\n",
      "\u001b[2m\u001b[36m(pid=30463, ip=192.168.8.52)\u001b[0m /home/reminiz/ReminizML2/python_env/lib/python3.7/site-packages/tensorflow/python/framework/dtypes.py:535: FutureWarning: Passing (type, 1) or '1type' as a synonym of type is deprecated; in a future version of numpy, it will be understood as (type, (1,)) / '(1,)type'.\n",
      "\u001b[2m\u001b[36m(pid=30463, ip=192.168.8.52)\u001b[0m   np_resource = np.dtype([(\"resource\", np.ubyte, 1)])\n"
     ]
    },
    {
     "name": "stdout",
     "output_type": "stream",
     "text": [
      "\u001b[2m\u001b[36m(pid=30463, ip=192.168.8.52)\u001b[0m CIFAR10 Training data shape: (50000, 32, 32, 3)\n",
      "\u001b[2m\u001b[36m(pid=30463, ip=192.168.8.52)\u001b[0m CIFAR10 Training label shape (50000, 1)\n",
      "\u001b[2m\u001b[36m(pid=30463, ip=192.168.8.52)\u001b[0m CIFAR10 Test data shape (10000, 32, 32, 3)\n",
      "\u001b[2m\u001b[36m(pid=30463, ip=192.168.8.52)\u001b[0m CIFAR10 Test label shape (10000, 1)\n"
     ]
    },
    {
     "name": "stderr",
     "output_type": "stream",
     "text": [
      "\u001b[2m\u001b[36m(pid=30463, ip=192.168.8.52)\u001b[0m WARNING:tensorflow:From /home/reminiz/ReminizML2/python_env/lib/python3.7/site-packages/tensorflow/python/data/ops/dataset_ops.py:429: py_func (from tensorflow.python.ops.script_ops) is deprecated and will be removed in a future version.\n",
      "\u001b[2m\u001b[36m(pid=30463, ip=192.168.8.52)\u001b[0m Instructions for updating:\n",
      "\u001b[2m\u001b[36m(pid=30463, ip=192.168.8.52)\u001b[0m tf.py_func is deprecated in TF V2. Instead, use\n",
      "\u001b[2m\u001b[36m(pid=30463, ip=192.168.8.52)\u001b[0m     tf.py_function, which takes a python function which manipulates tf eager\n",
      "\u001b[2m\u001b[36m(pid=30463, ip=192.168.8.52)\u001b[0m     tensors instead of numpy arrays. It's easy to convert a tf eager tensor to\n",
      "\u001b[2m\u001b[36m(pid=30463, ip=192.168.8.52)\u001b[0m     an ndarray (just call tensor.numpy()) but having access to eager tensors\n",
      "\u001b[2m\u001b[36m(pid=30463, ip=192.168.8.52)\u001b[0m     means `tf.py_function`s can use accelerators such as GPUs as well as\n",
      "\u001b[2m\u001b[36m(pid=30463, ip=192.168.8.52)\u001b[0m     being differentiable using a gradient tape.\n",
      "\u001b[2m\u001b[36m(pid=30463, ip=192.168.8.52)\u001b[0m     \n",
      "\u001b[2m\u001b[36m(pid=30463, ip=192.168.8.52)\u001b[0m 2020-12-06 19:08:12,127\tINFO (unknown file):0 -- gc.collect() freed 494 refs in 0.08699117507785559 seconds\n",
      "\u001b[2m\u001b[36m(pid=22410)\u001b[0m /home/reminiz/ReminizML2/python_env/lib/python3.7/site-packages/tensorflow/python/framework/dtypes.py:526: FutureWarning: Passing (type, 1) or '1type' as a synonym of type is deprecated; in a future version of numpy, it will be understood as (type, (1,)) / '(1,)type'.\n",
      "\u001b[2m\u001b[36m(pid=22410)\u001b[0m   _np_qint8 = np.dtype([(\"qint8\", np.int8, 1)])\n",
      "\u001b[2m\u001b[36m(pid=22410)\u001b[0m /home/reminiz/ReminizML2/python_env/lib/python3.7/site-packages/tensorflow/python/framework/dtypes.py:527: FutureWarning: Passing (type, 1) or '1type' as a synonym of type is deprecated; in a future version of numpy, it will be understood as (type, (1,)) / '(1,)type'.\n",
      "\u001b[2m\u001b[36m(pid=22410)\u001b[0m   _np_quint8 = np.dtype([(\"quint8\", np.uint8, 1)])\n",
      "\u001b[2m\u001b[36m(pid=22410)\u001b[0m /home/reminiz/ReminizML2/python_env/lib/python3.7/site-packages/tensorflow/python/framework/dtypes.py:528: FutureWarning: Passing (type, 1) or '1type' as a synonym of type is deprecated; in a future version of numpy, it will be understood as (type, (1,)) / '(1,)type'.\n",
      "\u001b[2m\u001b[36m(pid=22410)\u001b[0m   _np_qint16 = np.dtype([(\"qint16\", np.int16, 1)])\n",
      "\u001b[2m\u001b[36m(pid=22410)\u001b[0m /home/reminiz/ReminizML2/python_env/lib/python3.7/site-packages/tensorflow/python/framework/dtypes.py:529: FutureWarning: Passing (type, 1) or '1type' as a synonym of type is deprecated; in a future version of numpy, it will be understood as (type, (1,)) / '(1,)type'.\n",
      "\u001b[2m\u001b[36m(pid=22410)\u001b[0m   _np_quint16 = np.dtype([(\"quint16\", np.uint16, 1)])\n",
      "\u001b[2m\u001b[36m(pid=22410)\u001b[0m /home/reminiz/ReminizML2/python_env/lib/python3.7/site-packages/tensorflow/python/framework/dtypes.py:530: FutureWarning: Passing (type, 1) or '1type' as a synonym of type is deprecated; in a future version of numpy, it will be understood as (type, (1,)) / '(1,)type'.\n",
      "\u001b[2m\u001b[36m(pid=22410)\u001b[0m   _np_qint32 = np.dtype([(\"qint32\", np.int32, 1)])\n",
      "\u001b[2m\u001b[36m(pid=22410)\u001b[0m /home/reminiz/ReminizML2/python_env/lib/python3.7/site-packages/tensorflow/python/framework/dtypes.py:535: FutureWarning: Passing (type, 1) or '1type' as a synonym of type is deprecated; in a future version of numpy, it will be understood as (type, (1,)) / '(1,)type'.\n",
      "\u001b[2m\u001b[36m(pid=22410)\u001b[0m   np_resource = np.dtype([(\"resource\", np.ubyte, 1)])\n"
     ]
    },
    {
     "name": "stdout",
     "output_type": "stream",
     "text": [
      "\u001b[2m\u001b[36m(pid=22410)\u001b[0m CIFAR10 Training data shape: (50000, 32, 32, 3)\n",
      "\u001b[2m\u001b[36m(pid=22410)\u001b[0m CIFAR10 Training label shape (50000, 1)\n",
      "\u001b[2m\u001b[36m(pid=22410)\u001b[0m CIFAR10 Test data shape (10000, 32, 32, 3)\n",
      "\u001b[2m\u001b[36m(pid=22410)\u001b[0m CIFAR10 Test label shape (10000, 1)\n"
     ]
    },
    {
     "name": "stderr",
     "output_type": "stream",
     "text": [
      "\u001b[2m\u001b[36m(pid=22410)\u001b[0m WARNING:tensorflow:From /home/reminiz/ReminizML2/python_env/lib/python3.7/site-packages/tensorflow/python/data/ops/dataset_ops.py:429: py_func (from tensorflow.python.ops.script_ops) is deprecated and will be removed in a future version.\n",
      "\u001b[2m\u001b[36m(pid=22410)\u001b[0m Instructions for updating:\n",
      "\u001b[2m\u001b[36m(pid=22410)\u001b[0m tf.py_func is deprecated in TF V2. Instead, use\n",
      "\u001b[2m\u001b[36m(pid=22410)\u001b[0m     tf.py_function, which takes a python function which manipulates tf eager\n",
      "\u001b[2m\u001b[36m(pid=22410)\u001b[0m     tensors instead of numpy arrays. It's easy to convert a tf eager tensor to\n",
      "\u001b[2m\u001b[36m(pid=22410)\u001b[0m     an ndarray (just call tensor.numpy()) but having access to eager tensors\n",
      "\u001b[2m\u001b[36m(pid=22410)\u001b[0m     means `tf.py_function`s can use accelerators such as GPUs as well as\n",
      "\u001b[2m\u001b[36m(pid=22410)\u001b[0m     being differentiable using a gradient tape.\n",
      "\u001b[2m\u001b[36m(pid=22410)\u001b[0m     \n",
      "\u001b[2m\u001b[36m(pid=22410)\u001b[0m 2020-12-06 19:09:32,657\tINFO (unknown file):0 -- gc.collect() freed 494 refs in 0.13237675500568002 seconds\n",
      "\u001b[2m\u001b[36m(pid=31013, ip=192.168.8.52)\u001b[0m /home/reminiz/ReminizML2/python_env/lib/python3.7/site-packages/tensorflow/python/framework/dtypes.py:526: FutureWarning: Passing (type, 1) or '1type' as a synonym of type is deprecated; in a future version of numpy, it will be understood as (type, (1,)) / '(1,)type'.\n",
      "\u001b[2m\u001b[36m(pid=31013, ip=192.168.8.52)\u001b[0m   _np_qint8 = np.dtype([(\"qint8\", np.int8, 1)])\n",
      "\u001b[2m\u001b[36m(pid=31013, ip=192.168.8.52)\u001b[0m /home/reminiz/ReminizML2/python_env/lib/python3.7/site-packages/tensorflow/python/framework/dtypes.py:527: FutureWarning: Passing (type, 1) or '1type' as a synonym of type is deprecated; in a future version of numpy, it will be understood as (type, (1,)) / '(1,)type'.\n",
      "\u001b[2m\u001b[36m(pid=31013, ip=192.168.8.52)\u001b[0m   _np_quint8 = np.dtype([(\"quint8\", np.uint8, 1)])\n",
      "\u001b[2m\u001b[36m(pid=31013, ip=192.168.8.52)\u001b[0m /home/reminiz/ReminizML2/python_env/lib/python3.7/site-packages/tensorflow/python/framework/dtypes.py:528: FutureWarning: Passing (type, 1) or '1type' as a synonym of type is deprecated; in a future version of numpy, it will be understood as (type, (1,)) / '(1,)type'.\n",
      "\u001b[2m\u001b[36m(pid=31013, ip=192.168.8.52)\u001b[0m   _np_qint16 = np.dtype([(\"qint16\", np.int16, 1)])\n",
      "\u001b[2m\u001b[36m(pid=31013, ip=192.168.8.52)\u001b[0m /home/reminiz/ReminizML2/python_env/lib/python3.7/site-packages/tensorflow/python/framework/dtypes.py:529: FutureWarning: Passing (type, 1) or '1type' as a synonym of type is deprecated; in a future version of numpy, it will be understood as (type, (1,)) / '(1,)type'.\n",
      "\u001b[2m\u001b[36m(pid=31013, ip=192.168.8.52)\u001b[0m   _np_quint16 = np.dtype([(\"quint16\", np.uint16, 1)])\n",
      "\u001b[2m\u001b[36m(pid=31013, ip=192.168.8.52)\u001b[0m /home/reminiz/ReminizML2/python_env/lib/python3.7/site-packages/tensorflow/python/framework/dtypes.py:530: FutureWarning: Passing (type, 1) or '1type' as a synonym of type is deprecated; in a future version of numpy, it will be understood as (type, (1,)) / '(1,)type'.\n",
      "\u001b[2m\u001b[36m(pid=31013, ip=192.168.8.52)\u001b[0m   _np_qint32 = np.dtype([(\"qint32\", np.int32, 1)])\n",
      "\u001b[2m\u001b[36m(pid=31013, ip=192.168.8.52)\u001b[0m /home/reminiz/ReminizML2/python_env/lib/python3.7/site-packages/tensorflow/python/framework/dtypes.py:535: FutureWarning: Passing (type, 1) or '1type' as a synonym of type is deprecated; in a future version of numpy, it will be understood as (type, (1,)) / '(1,)type'.\n",
      "\u001b[2m\u001b[36m(pid=31013, ip=192.168.8.52)\u001b[0m   np_resource = np.dtype([(\"resource\", np.ubyte, 1)])\n"
     ]
    },
    {
     "name": "stdout",
     "output_type": "stream",
     "text": [
      "\u001b[2m\u001b[36m(pid=31013, ip=192.168.8.52)\u001b[0m CIFAR10 Training data shape: (50000, 32, 32, 3)\n",
      "\u001b[2m\u001b[36m(pid=31013, ip=192.168.8.52)\u001b[0m CIFAR10 Training label shape (50000, 1)\n",
      "\u001b[2m\u001b[36m(pid=31013, ip=192.168.8.52)\u001b[0m CIFAR10 Test data shape (10000, 32, 32, 3)\n",
      "\u001b[2m\u001b[36m(pid=31013, ip=192.168.8.52)\u001b[0m CIFAR10 Test label shape (10000, 1)\n"
     ]
    },
    {
     "name": "stderr",
     "output_type": "stream",
     "text": [
      "\u001b[2m\u001b[36m(pid=31013, ip=192.168.8.52)\u001b[0m WARNING:tensorflow:From /home/reminiz/ReminizML2/python_env/lib/python3.7/site-packages/tensorflow/python/data/ops/dataset_ops.py:429: py_func (from tensorflow.python.ops.script_ops) is deprecated and will be removed in a future version.\n",
      "\u001b[2m\u001b[36m(pid=31013, ip=192.168.8.52)\u001b[0m Instructions for updating:\n",
      "\u001b[2m\u001b[36m(pid=31013, ip=192.168.8.52)\u001b[0m tf.py_func is deprecated in TF V2. Instead, use\n",
      "\u001b[2m\u001b[36m(pid=31013, ip=192.168.8.52)\u001b[0m     tf.py_function, which takes a python function which manipulates tf eager\n",
      "\u001b[2m\u001b[36m(pid=31013, ip=192.168.8.52)\u001b[0m     tensors instead of numpy arrays. It's easy to convert a tf eager tensor to\n",
      "\u001b[2m\u001b[36m(pid=31013, ip=192.168.8.52)\u001b[0m     an ndarray (just call tensor.numpy()) but having access to eager tensors\n",
      "\u001b[2m\u001b[36m(pid=31013, ip=192.168.8.52)\u001b[0m     means `tf.py_function`s can use accelerators such as GPUs as well as\n",
      "\u001b[2m\u001b[36m(pid=31013, ip=192.168.8.52)\u001b[0m     being differentiable using a gradient tape.\n",
      "\u001b[2m\u001b[36m(pid=31013, ip=192.168.8.52)\u001b[0m     \n",
      "\u001b[2m\u001b[36m(pid=31013, ip=192.168.8.52)\u001b[0m WARNING:tensorflow:From /mnt/Ressources/Andres/Temp_active/backbones/resnet18.py:22: conv2d (from tensorflow.python.layers.convolutional) is deprecated and will be removed in a future version.\n",
      "\u001b[2m\u001b[36m(pid=31013, ip=192.168.8.52)\u001b[0m Instructions for updating:\n",
      "\u001b[2m\u001b[36m(pid=31013, ip=192.168.8.52)\u001b[0m Use keras.layers.conv2d instead.\n",
      "\u001b[2m\u001b[36m(pid=31013, ip=192.168.8.52)\u001b[0m WARNING:tensorflow:From /home/reminiz/ReminizML2/python_env/lib/python3.7/site-packages/tensorflow/python/framework/op_def_library.py:263: colocate_with (from tensorflow.python.framework.ops) is deprecated and will be removed in a future version.\n",
      "\u001b[2m\u001b[36m(pid=31013, ip=192.168.8.52)\u001b[0m Instructions for updating:\n",
      "\u001b[2m\u001b[36m(pid=31013, ip=192.168.8.52)\u001b[0m Colocations handled automatically by placer.\n",
      "\u001b[2m\u001b[36m(pid=31013, ip=192.168.8.52)\u001b[0m WARNING:tensorflow:From /mnt/Ressources/Andres/Temp_active/backbones/resnet18.py:58: flatten (from tensorflow.python.layers.core) is deprecated and will be removed in a future version.\n",
      "\u001b[2m\u001b[36m(pid=31013, ip=192.168.8.52)\u001b[0m Instructions for updating:\n",
      "\u001b[2m\u001b[36m(pid=31013, ip=192.168.8.52)\u001b[0m Use keras.layers.flatten instead.\n",
      "\u001b[2m\u001b[36m(pid=31013, ip=192.168.8.52)\u001b[0m WARNING:tensorflow:From /mnt/Ressources/Andres/Temp_active/backbones/resnet18.py:29: dense (from tensorflow.python.layers.core) is deprecated and will be removed in a future version.\n",
      "\u001b[2m\u001b[36m(pid=31013, ip=192.168.8.52)\u001b[0m Instructions for updating:\n",
      "\u001b[2m\u001b[36m(pid=31013, ip=192.168.8.52)\u001b[0m Use keras.layers.dense instead.\n",
      "\u001b[2m\u001b[36m(pid=22622, ip=192.168.8.52)\u001b[0m 2020-12-06 19:18:33.866871: W tensorflow/core/framework/op_kernel.cc:1389] Unknown: IndexError: index 52 is out of bounds for axis 0 with size 52\n",
      "\u001b[2m\u001b[36m(pid=22622, ip=192.168.8.52)\u001b[0m Traceback (most recent call last):\n",
      "\u001b[2m\u001b[36m(pid=22622, ip=192.168.8.52)\u001b[0m \n",
      "\u001b[2m\u001b[36m(pid=22622, ip=192.168.8.52)\u001b[0m   File \"/home/reminiz/ReminizML2/python_env/lib/python3.7/site-packages/tensorflow/python/ops/script_ops.py\", line 207, in __call__\n",
      "\u001b[2m\u001b[36m(pid=22622, ip=192.168.8.52)\u001b[0m     ret = func(*args)\n",
      "\u001b[2m\u001b[36m(pid=22622, ip=192.168.8.52)\u001b[0m \n",
      "\u001b[2m\u001b[36m(pid=22622, ip=192.168.8.52)\u001b[0m   File \"/mnt/Ressources/Quentin/Detection/core/dataset.py\", line 91, in get_image_bbox\n",
      "\u001b[2m\u001b[36m(pid=22622, ip=192.168.8.52)\u001b[0m     label_sbbox, label_mbbox, label_lbbox, sbboxes, mbboxes, lbboxes = self.preprocess_true_boxes(bboxes)\n",
      "\u001b[2m\u001b[36m(pid=22622, ip=192.168.8.52)\u001b[0m \n",
      "\u001b[2m\u001b[36m(pid=22622, ip=192.168.8.52)\u001b[0m   File \"/mnt/Ressources/Quentin/Detection/core/dataset.py\", line 370, in preprocess_true_boxes\n",
      "\u001b[2m\u001b[36m(pid=22622, ip=192.168.8.52)\u001b[0m     label[best_detect][yind, xind, best_anchor, :] = 0\n",
      "\u001b[2m\u001b[36m(pid=22622, ip=192.168.8.52)\u001b[0m \n",
      "\u001b[2m\u001b[36m(pid=22622, ip=192.168.8.52)\u001b[0m IndexError: index 52 is out of bounds for axis 0 with size 52\n",
      "\u001b[2m\u001b[36m(pid=22622, ip=192.168.8.52)\u001b[0m \n",
      "\u001b[2m\u001b[36m(pid=22622, ip=192.168.8.52)\u001b[0m \n"
     ]
    },
    {
     "name": "stdout",
     "output_type": "stream",
     "text": [
      "\u001b[2m\u001b[36m(pid=22622, ip=192.168.8.52)\u001b[0m Epoch: 16 Time: 2020-12-06 19:27:55 Train loss: 2.25 Count NaN: 0 Saving\n"
     ]
    },
    {
     "name": "stderr",
     "output_type": "stream",
     "text": [
      "\u001b[2m\u001b[36m(pid=22913)\u001b[0m /home/reminiz/ReminizML2/python_env/lib/python3.7/site-packages/tensorflow/python/framework/dtypes.py:526: FutureWarning: Passing (type, 1) or '1type' as a synonym of type is deprecated; in a future version of numpy, it will be understood as (type, (1,)) / '(1,)type'.\n",
      "\u001b[2m\u001b[36m(pid=22913)\u001b[0m   _np_qint8 = np.dtype([(\"qint8\", np.int8, 1)])\n",
      "\u001b[2m\u001b[36m(pid=22913)\u001b[0m /home/reminiz/ReminizML2/python_env/lib/python3.7/site-packages/tensorflow/python/framework/dtypes.py:527: FutureWarning: Passing (type, 1) or '1type' as a synonym of type is deprecated; in a future version of numpy, it will be understood as (type, (1,)) / '(1,)type'.\n",
      "\u001b[2m\u001b[36m(pid=22913)\u001b[0m   _np_quint8 = np.dtype([(\"quint8\", np.uint8, 1)])\n",
      "\u001b[2m\u001b[36m(pid=22913)\u001b[0m /home/reminiz/ReminizML2/python_env/lib/python3.7/site-packages/tensorflow/python/framework/dtypes.py:528: FutureWarning: Passing (type, 1) or '1type' as a synonym of type is deprecated; in a future version of numpy, it will be understood as (type, (1,)) / '(1,)type'.\n",
      "\u001b[2m\u001b[36m(pid=22913)\u001b[0m   _np_qint16 = np.dtype([(\"qint16\", np.int16, 1)])\n",
      "\u001b[2m\u001b[36m(pid=22913)\u001b[0m /home/reminiz/ReminizML2/python_env/lib/python3.7/site-packages/tensorflow/python/framework/dtypes.py:529: FutureWarning: Passing (type, 1) or '1type' as a synonym of type is deprecated; in a future version of numpy, it will be understood as (type, (1,)) / '(1,)type'.\n",
      "\u001b[2m\u001b[36m(pid=22913)\u001b[0m   _np_quint16 = np.dtype([(\"quint16\", np.uint16, 1)])\n",
      "\u001b[2m\u001b[36m(pid=22913)\u001b[0m /home/reminiz/ReminizML2/python_env/lib/python3.7/site-packages/tensorflow/python/framework/dtypes.py:530: FutureWarning: Passing (type, 1) or '1type' as a synonym of type is deprecated; in a future version of numpy, it will be understood as (type, (1,)) / '(1,)type'.\n",
      "\u001b[2m\u001b[36m(pid=22913)\u001b[0m   _np_qint32 = np.dtype([(\"qint32\", np.int32, 1)])\n",
      "\u001b[2m\u001b[36m(pid=22913)\u001b[0m /home/reminiz/ReminizML2/python_env/lib/python3.7/site-packages/tensorflow/python/framework/dtypes.py:535: FutureWarning: Passing (type, 1) or '1type' as a synonym of type is deprecated; in a future version of numpy, it will be understood as (type, (1,)) / '(1,)type'.\n",
      "\u001b[2m\u001b[36m(pid=22913)\u001b[0m   np_resource = np.dtype([(\"resource\", np.ubyte, 1)])\n"
     ]
    },
    {
     "name": "stdout",
     "output_type": "stream",
     "text": [
      "\u001b[2m\u001b[36m(pid=22913)\u001b[0m CIFAR10 Training data shape: (50000, 32, 32, 3)\n",
      "\u001b[2m\u001b[36m(pid=22913)\u001b[0m CIFAR10 Training label shape (50000, 1)\n",
      "\u001b[2m\u001b[36m(pid=22913)\u001b[0m CIFAR10 Test data shape (10000, 32, 32, 3)\n",
      "\u001b[2m\u001b[36m(pid=22913)\u001b[0m CIFAR10 Test label shape (10000, 1)\n"
     ]
    },
    {
     "name": "stderr",
     "output_type": "stream",
     "text": [
      "\u001b[2m\u001b[36m(pid=22913)\u001b[0m WARNING:tensorflow:From /home/reminiz/ReminizML2/python_env/lib/python3.7/site-packages/tensorflow/python/data/ops/dataset_ops.py:429: py_func (from tensorflow.python.ops.script_ops) is deprecated and will be removed in a future version.\n",
      "\u001b[2m\u001b[36m(pid=22913)\u001b[0m Instructions for updating:\n",
      "\u001b[2m\u001b[36m(pid=22913)\u001b[0m tf.py_func is deprecated in TF V2. Instead, use\n",
      "\u001b[2m\u001b[36m(pid=22913)\u001b[0m     tf.py_function, which takes a python function which manipulates tf eager\n",
      "\u001b[2m\u001b[36m(pid=22913)\u001b[0m     tensors instead of numpy arrays. It's easy to convert a tf eager tensor to\n",
      "\u001b[2m\u001b[36m(pid=22913)\u001b[0m     an ndarray (just call tensor.numpy()) but having access to eager tensors\n",
      "\u001b[2m\u001b[36m(pid=22913)\u001b[0m     means `tf.py_function`s can use accelerators such as GPUs as well as\n",
      "\u001b[2m\u001b[36m(pid=22913)\u001b[0m     being differentiable using a gradient tape.\n",
      "\u001b[2m\u001b[36m(pid=22913)\u001b[0m     \n",
      "\u001b[2m\u001b[36m(pid=22913)\u001b[0m WARNING:tensorflow:From /mnt/Ressources/Andres/Temp_active/backbones/resnet18.py:22: conv2d (from tensorflow.python.layers.convolutional) is deprecated and will be removed in a future version.\n",
      "\u001b[2m\u001b[36m(pid=22913)\u001b[0m Instructions for updating:\n",
      "\u001b[2m\u001b[36m(pid=22913)\u001b[0m Use keras.layers.conv2d instead.\n",
      "\u001b[2m\u001b[36m(pid=22913)\u001b[0m WARNING:tensorflow:From /home/reminiz/ReminizML2/python_env/lib/python3.7/site-packages/tensorflow/python/framework/op_def_library.py:263: colocate_with (from tensorflow.python.framework.ops) is deprecated and will be removed in a future version.\n",
      "\u001b[2m\u001b[36m(pid=22913)\u001b[0m Instructions for updating:\n",
      "\u001b[2m\u001b[36m(pid=22913)\u001b[0m Colocations handled automatically by placer.\n",
      "\u001b[2m\u001b[36m(pid=22913)\u001b[0m WARNING:tensorflow:From /mnt/Ressources/Andres/Temp_active/backbones/resnet18.py:58: flatten (from tensorflow.python.layers.core) is deprecated and will be removed in a future version.\n",
      "\u001b[2m\u001b[36m(pid=22913)\u001b[0m Instructions for updating:\n",
      "\u001b[2m\u001b[36m(pid=22913)\u001b[0m Use keras.layers.flatten instead.\n",
      "\u001b[2m\u001b[36m(pid=22913)\u001b[0m WARNING:tensorflow:From /mnt/Ressources/Andres/Temp_active/backbones/resnet18.py:29: dense (from tensorflow.python.layers.core) is deprecated and will be removed in a future version.\n",
      "\u001b[2m\u001b[36m(pid=22913)\u001b[0m Instructions for updating:\n",
      "\u001b[2m\u001b[36m(pid=22913)\u001b[0m Use keras.layers.dense instead.\n",
      "\u001b[2m\u001b[36m(pid=22910)\u001b[0m /home/reminiz/ReminizML2/python_env/lib/python3.7/site-packages/tensorflow/python/framework/dtypes.py:526: FutureWarning: Passing (type, 1) or '1type' as a synonym of type is deprecated; in a future version of numpy, it will be understood as (type, (1,)) / '(1,)type'.\n",
      "\u001b[2m\u001b[36m(pid=22910)\u001b[0m   _np_qint8 = np.dtype([(\"qint8\", np.int8, 1)])\n",
      "\u001b[2m\u001b[36m(pid=22910)\u001b[0m /home/reminiz/ReminizML2/python_env/lib/python3.7/site-packages/tensorflow/python/framework/dtypes.py:527: FutureWarning: Passing (type, 1) or '1type' as a synonym of type is deprecated; in a future version of numpy, it will be understood as (type, (1,)) / '(1,)type'.\n",
      "\u001b[2m\u001b[36m(pid=22910)\u001b[0m   _np_quint8 = np.dtype([(\"quint8\", np.uint8, 1)])\n",
      "\u001b[2m\u001b[36m(pid=22910)\u001b[0m /home/reminiz/ReminizML2/python_env/lib/python3.7/site-packages/tensorflow/python/framework/dtypes.py:528: FutureWarning: Passing (type, 1) or '1type' as a synonym of type is deprecated; in a future version of numpy, it will be understood as (type, (1,)) / '(1,)type'.\n",
      "\u001b[2m\u001b[36m(pid=22910)\u001b[0m   _np_qint16 = np.dtype([(\"qint16\", np.int16, 1)])\n",
      "\u001b[2m\u001b[36m(pid=22910)\u001b[0m /home/reminiz/ReminizML2/python_env/lib/python3.7/site-packages/tensorflow/python/framework/dtypes.py:529: FutureWarning: Passing (type, 1) or '1type' as a synonym of type is deprecated; in a future version of numpy, it will be understood as (type, (1,)) / '(1,)type'.\n",
      "\u001b[2m\u001b[36m(pid=22910)\u001b[0m   _np_quint16 = np.dtype([(\"quint16\", np.uint16, 1)])\n",
      "\u001b[2m\u001b[36m(pid=22910)\u001b[0m /home/reminiz/ReminizML2/python_env/lib/python3.7/site-packages/tensorflow/python/framework/dtypes.py:530: FutureWarning: Passing (type, 1) or '1type' as a synonym of type is deprecated; in a future version of numpy, it will be understood as (type, (1,)) / '(1,)type'.\n",
      "\u001b[2m\u001b[36m(pid=22910)\u001b[0m   _np_qint32 = np.dtype([(\"qint32\", np.int32, 1)])\n",
      "\u001b[2m\u001b[36m(pid=22910)\u001b[0m /home/reminiz/ReminizML2/python_env/lib/python3.7/site-packages/tensorflow/python/framework/dtypes.py:535: FutureWarning: Passing (type, 1) or '1type' as a synonym of type is deprecated; in a future version of numpy, it will be understood as (type, (1,)) / '(1,)type'.\n",
      "\u001b[2m\u001b[36m(pid=22910)\u001b[0m   np_resource = np.dtype([(\"resource\", np.ubyte, 1)])\n"
     ]
    },
    {
     "name": "stdout",
     "output_type": "stream",
     "text": [
      "\u001b[2m\u001b[36m(pid=22910)\u001b[0m CIFAR10 Training data shape: (50000, 32, 32, 3)\n",
      "\u001b[2m\u001b[36m(pid=22910)\u001b[0m CIFAR10 Training label shape (50000, 1)\n",
      "\u001b[2m\u001b[36m(pid=22910)\u001b[0m CIFAR10 Test data shape (10000, 32, 32, 3)\n",
      "\u001b[2m\u001b[36m(pid=22910)\u001b[0m CIFAR10 Test label shape (10000, 1)\n"
     ]
    },
    {
     "name": "stderr",
     "output_type": "stream",
     "text": [
      "\u001b[2m\u001b[36m(pid=22910)\u001b[0m WARNING:tensorflow:From /home/reminiz/ReminizML2/python_env/lib/python3.7/site-packages/tensorflow/python/data/ops/dataset_ops.py:429: py_func (from tensorflow.python.ops.script_ops) is deprecated and will be removed in a future version.\n",
      "\u001b[2m\u001b[36m(pid=22910)\u001b[0m Instructions for updating:\n",
      "\u001b[2m\u001b[36m(pid=22910)\u001b[0m tf.py_func is deprecated in TF V2. Instead, use\n",
      "\u001b[2m\u001b[36m(pid=22910)\u001b[0m     tf.py_function, which takes a python function which manipulates tf eager\n",
      "\u001b[2m\u001b[36m(pid=22910)\u001b[0m     tensors instead of numpy arrays. It's easy to convert a tf eager tensor to\n",
      "\u001b[2m\u001b[36m(pid=22910)\u001b[0m     an ndarray (just call tensor.numpy()) but having access to eager tensors\n",
      "\u001b[2m\u001b[36m(pid=22910)\u001b[0m     means `tf.py_function`s can use accelerators such as GPUs as well as\n",
      "\u001b[2m\u001b[36m(pid=22910)\u001b[0m     being differentiable using a gradient tape.\n",
      "\u001b[2m\u001b[36m(pid=22910)\u001b[0m     \n",
      "\u001b[2m\u001b[36m(pid=22910)\u001b[0m WARNING:tensorflow:From /mnt/Ressources/Andres/Temp_active/backbones/resnet18.py:22: conv2d (from tensorflow.python.layers.convolutional) is deprecated and will be removed in a future version.\n",
      "\u001b[2m\u001b[36m(pid=22910)\u001b[0m Instructions for updating:\n",
      "\u001b[2m\u001b[36m(pid=22910)\u001b[0m Use keras.layers.conv2d instead.\n",
      "\u001b[2m\u001b[36m(pid=22910)\u001b[0m WARNING:tensorflow:From /home/reminiz/ReminizML2/python_env/lib/python3.7/site-packages/tensorflow/python/framework/op_def_library.py:263: colocate_with (from tensorflow.python.framework.ops) is deprecated and will be removed in a future version.\n",
      "\u001b[2m\u001b[36m(pid=22910)\u001b[0m Instructions for updating:\n",
      "\u001b[2m\u001b[36m(pid=22910)\u001b[0m Colocations handled automatically by placer.\n",
      "\u001b[2m\u001b[36m(pid=22910)\u001b[0m WARNING:tensorflow:From /mnt/Ressources/Andres/Temp_active/backbones/resnet18.py:58: flatten (from tensorflow.python.layers.core) is deprecated and will be removed in a future version.\n",
      "\u001b[2m\u001b[36m(pid=22910)\u001b[0m Instructions for updating:\n",
      "\u001b[2m\u001b[36m(pid=22910)\u001b[0m Use keras.layers.flatten instead.\n",
      "\u001b[2m\u001b[36m(pid=22910)\u001b[0m WARNING:tensorflow:From /mnt/Ressources/Andres/Temp_active/backbones/resnet18.py:29: dense (from tensorflow.python.layers.core) is deprecated and will be removed in a future version.\n",
      "\u001b[2m\u001b[36m(pid=22910)\u001b[0m Instructions for updating:\n",
      "\u001b[2m\u001b[36m(pid=22910)\u001b[0m Use keras.layers.dense instead.\n",
      "\u001b[2m\u001b[36m(pid=22910)\u001b[0m 2020-12-06 19:39:53.645769: I tensorflow/core/platform/cpu_feature_guard.cc:141] Your CPU supports instructions that this TensorFlow binary was not compiled to use: AVX2 FMA\n",
      "\u001b[2m\u001b[36m(pid=22910)\u001b[0m 2020-12-06 19:39:53.668860: I tensorflow/core/platform/profile_utils/cpu_utils.cc:94] CPU Frequency: 3300280000 Hz\n",
      "\u001b[2m\u001b[36m(pid=22910)\u001b[0m 2020-12-06 19:39:53.669708: I tensorflow/compiler/xla/service/service.cc:150] XLA service 0x67755a0 executing computations on platform Host. Devices:\n",
      "\u001b[2m\u001b[36m(pid=22910)\u001b[0m 2020-12-06 19:39:53.669786: I tensorflow/compiler/xla/service/service.cc:158]   StreamExecutor device (0): <undefined>, <undefined>\n",
      "\u001b[2m\u001b[36m(pid=22910)\u001b[0m 2020-12-06 19:39:53.937932: I tensorflow/compiler/xla/service/service.cc:150] XLA service 0x677a8d0 executing computations on platform CUDA. Devices:\n",
      "\u001b[2m\u001b[36m(pid=22910)\u001b[0m 2020-12-06 19:39:53.937979: I tensorflow/compiler/xla/service/service.cc:158]   StreamExecutor device (0): TITAN RTX, Compute Capability 7.5\n",
      "\u001b[2m\u001b[36m(pid=22910)\u001b[0m 2020-12-06 19:39:53.938175: I tensorflow/core/common_runtime/gpu/gpu_device.cc:1433] Found device 0 with properties: \n",
      "\u001b[2m\u001b[36m(pid=22910)\u001b[0m name: TITAN RTX major: 7 minor: 5 memoryClockRate(GHz): 1.77\n",
      "\u001b[2m\u001b[36m(pid=22910)\u001b[0m pciBusID: 0000:06:00.0\n",
      "\u001b[2m\u001b[36m(pid=22910)\u001b[0m totalMemory: 23.65GiB freeMemory: 23.48GiB\n",
      "\u001b[2m\u001b[36m(pid=22910)\u001b[0m 2020-12-06 19:39:53.938205: I tensorflow/core/common_runtime/gpu/gpu_device.cc:1512] Adding visible gpu devices: 0\n",
      "\u001b[2m\u001b[36m(pid=22910)\u001b[0m 2020-12-06 19:39:53.941962: I tensorflow/core/common_runtime/gpu/gpu_device.cc:984] Device interconnect StreamExecutor with strength 1 edge matrix:\n",
      "\u001b[2m\u001b[36m(pid=22910)\u001b[0m 2020-12-06 19:39:53.941996: I tensorflow/core/common_runtime/gpu/gpu_device.cc:990]      0 \n",
      "\u001b[2m\u001b[36m(pid=22910)\u001b[0m 2020-12-06 19:39:53.942010: I tensorflow/core/common_runtime/gpu/gpu_device.cc:1003] 0:   N \n",
      "\u001b[2m\u001b[36m(pid=22910)\u001b[0m 2020-12-06 19:39:53.942124: I tensorflow/core/common_runtime/gpu/gpu_device.cc:1115] Created TensorFlow device (/job:localhost/replica:0/task:0/device:GPU:0 with 22844 MB memory) -> physical GPU (device: 0, name: TITAN RTX, pci bus id: 0000:06:00.0, compute capability: 7.5)\n",
      "\u001b[2m\u001b[36m(pid=22910)\u001b[0m wandb: Tracking run with wandb version 0.8.36\n",
      "\u001b[2m\u001b[36m(pid=22910)\u001b[0m wandb: Wandb version 0.10.12 is available!  To upgrade, please run:\n",
      "\u001b[2m\u001b[36m(pid=22910)\u001b[0m wandb:  $ pip install wandb --upgrade\n",
      "\u001b[2m\u001b[36m(pid=22910)\u001b[0m wandb: Run data is saved locally in ../../../Trainings/wandb/wandb/run-20201206_183954-3epyj0yu\n",
      "\u001b[2m\u001b[36m(pid=22910)\u001b[0m wandb: Syncing run Test_0\n",
      "\u001b[2m\u001b[36m(pid=22910)\u001b[0m wandb: ⭐️ View project at http://192.168.8.51:8080/reminiz/Active_Learning_CIFAR\n",
      "\u001b[2m\u001b[36m(pid=22910)\u001b[0m wandb: 🚀 View run at http://192.168.8.51:8080/reminiz/Active_Learning_CIFAR/runs/3epyj0yu\n",
      "\u001b[2m\u001b[36m(pid=22910)\u001b[0m wandb: Run `wandb off` to turn off syncing.\n",
      "\u001b[2m\u001b[36m(pid=22910)\u001b[0m \n",
      "\u001b[2m\u001b[36m(pid=22910)\u001b[0m WARNING:tensorflow:From /home/reminiz/ReminizML2/python_env/lib/python3.7/site-packages/tensorflow/python/training/saver.py:1266: checkpoint_exists (from tensorflow.python.training.checkpoint_management) is deprecated and will be removed in a future version.\n",
      "\u001b[2m\u001b[36m(pid=22910)\u001b[0m Instructions for updating:\n",
      "\u001b[2m\u001b[36m(pid=22910)\u001b[0m Use standard file APIs to check for files with this prefix.\n"
     ]
    },
    {
     "name": "stdout",
     "output_type": "stream",
     "text": [
      "\u001b[2m\u001b[36m(pid=22910)\u001b[0m \u001b[6;30;42mTest_Stage_0\u001b[0m Restoring from /mnt/Ressources/Andres/Temp_active/runs/Classif_all_data_wl/Stage_0/checkpoint/epoch11.ckpt-11\n"
     ]
    },
    {
     "name": "stderr",
     "output_type": "stream",
     "text": [
      "\u001b[2m\u001b[36m(pid=22910)\u001b[0m \n",
      "\u001b[2m\u001b[36m(pid=22910)\u001b[0m wandb: Waiting for W&B process to finish, PID 29216\n",
      "\u001b[2m\u001b[36m(pid=22910)\u001b[0m wandb: Program failed with code 1. Press ctrl-c to abort syncing.\n",
      "\u001b[2m\u001b[36m(pid=22910)\u001b[0m wandb: Process crashed early, not syncing files\n",
      "\u001b[2m\u001b[36m(pid=22910)\u001b[0m 2020-12-06 19:40:03,617\tINFO (unknown file):0 -- gc.collect() freed 95 refs in 0.18037369404919446 seconds\n",
      "\u001b[2m\u001b[36m(pid=31019, ip=192.168.8.52)\u001b[0m /home/reminiz/ReminizML2/python_env/lib/python3.7/site-packages/tensorflow/python/framework/dtypes.py:526: FutureWarning: Passing (type, 1) or '1type' as a synonym of type is deprecated; in a future version of numpy, it will be understood as (type, (1,)) / '(1,)type'.\n",
      "\u001b[2m\u001b[36m(pid=31019, ip=192.168.8.52)\u001b[0m   _np_qint8 = np.dtype([(\"qint8\", np.int8, 1)])\n",
      "\u001b[2m\u001b[36m(pid=31019, ip=192.168.8.52)\u001b[0m /home/reminiz/ReminizML2/python_env/lib/python3.7/site-packages/tensorflow/python/framework/dtypes.py:527: FutureWarning: Passing (type, 1) or '1type' as a synonym of type is deprecated; in a future version of numpy, it will be understood as (type, (1,)) / '(1,)type'.\n",
      "\u001b[2m\u001b[36m(pid=31019, ip=192.168.8.52)\u001b[0m   _np_quint8 = np.dtype([(\"quint8\", np.uint8, 1)])\n",
      "\u001b[2m\u001b[36m(pid=31019, ip=192.168.8.52)\u001b[0m /home/reminiz/ReminizML2/python_env/lib/python3.7/site-packages/tensorflow/python/framework/dtypes.py:528: FutureWarning: Passing (type, 1) or '1type' as a synonym of type is deprecated; in a future version of numpy, it will be understood as (type, (1,)) / '(1,)type'.\n",
      "\u001b[2m\u001b[36m(pid=31019, ip=192.168.8.52)\u001b[0m   _np_qint16 = np.dtype([(\"qint16\", np.int16, 1)])\n",
      "\u001b[2m\u001b[36m(pid=31019, ip=192.168.8.52)\u001b[0m /home/reminiz/ReminizML2/python_env/lib/python3.7/site-packages/tensorflow/python/framework/dtypes.py:529: FutureWarning: Passing (type, 1) or '1type' as a synonym of type is deprecated; in a future version of numpy, it will be understood as (type, (1,)) / '(1,)type'.\n",
      "\u001b[2m\u001b[36m(pid=31019, ip=192.168.8.52)\u001b[0m   _np_quint16 = np.dtype([(\"quint16\", np.uint16, 1)])\n",
      "\u001b[2m\u001b[36m(pid=31019, ip=192.168.8.52)\u001b[0m /home/reminiz/ReminizML2/python_env/lib/python3.7/site-packages/tensorflow/python/framework/dtypes.py:530: FutureWarning: Passing (type, 1) or '1type' as a synonym of type is deprecated; in a future version of numpy, it will be understood as (type, (1,)) / '(1,)type'.\n",
      "\u001b[2m\u001b[36m(pid=31019, ip=192.168.8.52)\u001b[0m   _np_qint32 = np.dtype([(\"qint32\", np.int32, 1)])\n",
      "\u001b[2m\u001b[36m(pid=31019, ip=192.168.8.52)\u001b[0m /home/reminiz/ReminizML2/python_env/lib/python3.7/site-packages/tensorflow/python/framework/dtypes.py:535: FutureWarning: Passing (type, 1) or '1type' as a synonym of type is deprecated; in a future version of numpy, it will be understood as (type, (1,)) / '(1,)type'.\n",
      "\u001b[2m\u001b[36m(pid=31019, ip=192.168.8.52)\u001b[0m   np_resource = np.dtype([(\"resource\", np.ubyte, 1)])\n"
     ]
    },
    {
     "name": "stdout",
     "output_type": "stream",
     "text": [
      "\u001b[2m\u001b[36m(pid=31019, ip=192.168.8.52)\u001b[0m CIFAR10 Training data shape: (50000, 32, 32, 3)\n",
      "\u001b[2m\u001b[36m(pid=31019, ip=192.168.8.52)\u001b[0m CIFAR10 Training label shape (50000, 1)\n",
      "\u001b[2m\u001b[36m(pid=31019, ip=192.168.8.52)\u001b[0m CIFAR10 Test data shape (10000, 32, 32, 3)\n",
      "\u001b[2m\u001b[36m(pid=31019, ip=192.168.8.52)\u001b[0m CIFAR10 Test label shape (10000, 1)\n"
     ]
    },
    {
     "name": "stderr",
     "output_type": "stream",
     "text": [
      "\u001b[2m\u001b[36m(pid=31019, ip=192.168.8.52)\u001b[0m WARNING:tensorflow:From /home/reminiz/ReminizML2/python_env/lib/python3.7/site-packages/tensorflow/python/data/ops/dataset_ops.py:429: py_func (from tensorflow.python.ops.script_ops) is deprecated and will be removed in a future version.\n",
      "\u001b[2m\u001b[36m(pid=31019, ip=192.168.8.52)\u001b[0m Instructions for updating:\n",
      "\u001b[2m\u001b[36m(pid=31019, ip=192.168.8.52)\u001b[0m tf.py_func is deprecated in TF V2. Instead, use\n",
      "\u001b[2m\u001b[36m(pid=31019, ip=192.168.8.52)\u001b[0m     tf.py_function, which takes a python function which manipulates tf eager\n",
      "\u001b[2m\u001b[36m(pid=31019, ip=192.168.8.52)\u001b[0m     tensors instead of numpy arrays. It's easy to convert a tf eager tensor to\n",
      "\u001b[2m\u001b[36m(pid=31019, ip=192.168.8.52)\u001b[0m     an ndarray (just call tensor.numpy()) but having access to eager tensors\n",
      "\u001b[2m\u001b[36m(pid=31019, ip=192.168.8.52)\u001b[0m     means `tf.py_function`s can use accelerators such as GPUs as well as\n",
      "\u001b[2m\u001b[36m(pid=31019, ip=192.168.8.52)\u001b[0m     being differentiable using a gradient tape.\n",
      "\u001b[2m\u001b[36m(pid=31019, ip=192.168.8.52)\u001b[0m     \n",
      "\u001b[2m\u001b[36m(pid=31019, ip=192.168.8.52)\u001b[0m WARNING:tensorflow:From /mnt/Ressources/Andres/Temp_active/backbones/resnet18.py:22: conv2d (from tensorflow.python.layers.convolutional) is deprecated and will be removed in a future version.\n",
      "\u001b[2m\u001b[36m(pid=31019, ip=192.168.8.52)\u001b[0m Instructions for updating:\n",
      "\u001b[2m\u001b[36m(pid=31019, ip=192.168.8.52)\u001b[0m Use keras.layers.conv2d instead.\n",
      "\u001b[2m\u001b[36m(pid=31019, ip=192.168.8.52)\u001b[0m WARNING:tensorflow:From /home/reminiz/ReminizML2/python_env/lib/python3.7/site-packages/tensorflow/python/framework/op_def_library.py:263: colocate_with (from tensorflow.python.framework.ops) is deprecated and will be removed in a future version.\n",
      "\u001b[2m\u001b[36m(pid=31019, ip=192.168.8.52)\u001b[0m Instructions for updating:\n",
      "\u001b[2m\u001b[36m(pid=31019, ip=192.168.8.52)\u001b[0m Colocations handled automatically by placer.\n",
      "\u001b[2m\u001b[36m(pid=31019, ip=192.168.8.52)\u001b[0m WARNING:tensorflow:From /mnt/Ressources/Andres/Temp_active/backbones/resnet18.py:58: flatten (from tensorflow.python.layers.core) is deprecated and will be removed in a future version.\n",
      "\u001b[2m\u001b[36m(pid=31019, ip=192.168.8.52)\u001b[0m Instructions for updating:\n",
      "\u001b[2m\u001b[36m(pid=31019, ip=192.168.8.52)\u001b[0m Use keras.layers.flatten instead.\n",
      "\u001b[2m\u001b[36m(pid=31019, ip=192.168.8.52)\u001b[0m WARNING:tensorflow:From /mnt/Ressources/Andres/Temp_active/backbones/resnet18.py:29: dense (from tensorflow.python.layers.core) is deprecated and will be removed in a future version.\n",
      "\u001b[2m\u001b[36m(pid=31019, ip=192.168.8.52)\u001b[0m Instructions for updating:\n",
      "\u001b[2m\u001b[36m(pid=31019, ip=192.168.8.52)\u001b[0m Use keras.layers.dense instead.\n",
      "\u001b[2m\u001b[36m(pid=31019, ip=192.168.8.52)\u001b[0m 2020-12-06 19:47:54.340781: I tensorflow/core/platform/cpu_feature_guard.cc:141] Your CPU supports instructions that this TensorFlow binary was not compiled to use: AVX2 FMA\n",
      "\u001b[2m\u001b[36m(pid=31019, ip=192.168.8.52)\u001b[0m 2020-12-06 19:47:54.364317: I tensorflow/core/platform/profile_utils/cpu_utils.cc:94] CPU Frequency: 3300050000 Hz\n",
      "\u001b[2m\u001b[36m(pid=31019, ip=192.168.8.52)\u001b[0m 2020-12-06 19:47:54.365057: I tensorflow/compiler/xla/service/service.cc:150] XLA service 0x6fa5890 executing computations on platform Host. Devices:\n",
      "\u001b[2m\u001b[36m(pid=31019, ip=192.168.8.52)\u001b[0m 2020-12-06 19:47:54.365112: I tensorflow/compiler/xla/service/service.cc:158]   StreamExecutor device (0): <undefined>, <undefined>\n",
      "\u001b[2m\u001b[36m(pid=31019, ip=192.168.8.52)\u001b[0m 2020-12-06 19:47:54.494634: I tensorflow/compiler/xla/service/service.cc:150] XLA service 0x6faabc0 executing computations on platform CUDA. Devices:\n",
      "\u001b[2m\u001b[36m(pid=31019, ip=192.168.8.52)\u001b[0m 2020-12-06 19:47:54.494689: I tensorflow/compiler/xla/service/service.cc:158]   StreamExecutor device (0): TITAN RTX, Compute Capability 7.5\n",
      "\u001b[2m\u001b[36m(pid=31019, ip=192.168.8.52)\u001b[0m 2020-12-06 19:47:54.494907: I tensorflow/core/common_runtime/gpu/gpu_device.cc:1433] Found device 0 with properties: \n",
      "\u001b[2m\u001b[36m(pid=31019, ip=192.168.8.52)\u001b[0m name: TITAN RTX major: 7 minor: 5 memoryClockRate(GHz): 1.77\n",
      "\u001b[2m\u001b[36m(pid=31019, ip=192.168.8.52)\u001b[0m pciBusID: 0000:03:00.0\n",
      "\u001b[2m\u001b[36m(pid=31019, ip=192.168.8.52)\u001b[0m totalMemory: 23.65GiB freeMemory: 23.48GiB\n",
      "\u001b[2m\u001b[36m(pid=31019, ip=192.168.8.52)\u001b[0m 2020-12-06 19:47:54.494939: I tensorflow/core/common_runtime/gpu/gpu_device.cc:1512] Adding visible gpu devices: 0\n",
      "\u001b[2m\u001b[36m(pid=31019, ip=192.168.8.52)\u001b[0m 2020-12-06 19:47:54.498922: I tensorflow/core/common_runtime/gpu/gpu_device.cc:984] Device interconnect StreamExecutor with strength 1 edge matrix:\n",
      "\u001b[2m\u001b[36m(pid=31019, ip=192.168.8.52)\u001b[0m 2020-12-06 19:47:54.498958: I tensorflow/core/common_runtime/gpu/gpu_device.cc:990]      0 \n",
      "\u001b[2m\u001b[36m(pid=31019, ip=192.168.8.52)\u001b[0m 2020-12-06 19:47:54.498973: I tensorflow/core/common_runtime/gpu/gpu_device.cc:1003] 0:   N \n",
      "\u001b[2m\u001b[36m(pid=31019, ip=192.168.8.52)\u001b[0m 2020-12-06 19:47:54.499097: I tensorflow/core/common_runtime/gpu/gpu_device.cc:1115] Created TensorFlow device (/job:localhost/replica:0/task:0/device:GPU:0 with 22845 MB memory) -> physical GPU (device: 0, name: TITAN RTX, pci bus id: 0000:03:00.0, compute capability: 7.5)\n",
      "\u001b[2m\u001b[36m(pid=31019, ip=192.168.8.52)\u001b[0m wandb: Tracking run with wandb version 0.8.36\n",
      "\u001b[2m\u001b[36m(pid=31019, ip=192.168.8.52)\u001b[0m wandb: Wandb version 0.10.12 is available!  To upgrade, please run:\n",
      "\u001b[2m\u001b[36m(pid=31019, ip=192.168.8.52)\u001b[0m wandb:  $ pip install wandb --upgrade\n",
      "\u001b[2m\u001b[36m(pid=31019, ip=192.168.8.52)\u001b[0m wandb: Run data is saved locally in ../../../Trainings/wandb/wandb/run-20201206_184755-37dpr9lo\n",
      "\u001b[2m\u001b[36m(pid=31019, ip=192.168.8.52)\u001b[0m wandb: Syncing run Test_0\n",
      "\u001b[2m\u001b[36m(pid=31019, ip=192.168.8.52)\u001b[0m wandb: ⭐️ View project at http://192.168.8.51:8080/reminiz/Active_Learning_CIFAR\n",
      "\u001b[2m\u001b[36m(pid=31019, ip=192.168.8.52)\u001b[0m wandb: 🚀 View run at http://192.168.8.51:8080/reminiz/Active_Learning_CIFAR/runs/37dpr9lo\n",
      "\u001b[2m\u001b[36m(pid=31019, ip=192.168.8.52)\u001b[0m wandb: Run `wandb off` to turn off syncing.\n",
      "\u001b[2m\u001b[36m(pid=31019, ip=192.168.8.52)\u001b[0m \n",
      "\u001b[2m\u001b[36m(pid=31019, ip=192.168.8.52)\u001b[0m WARNING:tensorflow:From /home/reminiz/ReminizML2/python_env/lib/python3.7/site-packages/tensorflow/python/training/saver.py:1266: checkpoint_exists (from tensorflow.python.training.checkpoint_management) is deprecated and will be removed in a future version.\n",
      "\u001b[2m\u001b[36m(pid=31019, ip=192.168.8.52)\u001b[0m Instructions for updating:\n",
      "\u001b[2m\u001b[36m(pid=31019, ip=192.168.8.52)\u001b[0m Use standard file APIs to check for files with this prefix.\n"
     ]
    },
    {
     "name": "stdout",
     "output_type": "stream",
     "text": [
      "\u001b[2m\u001b[36m(pid=31019, ip=192.168.8.52)\u001b[0m \u001b[6;30;42mTest_Stage_0\u001b[0m Restoring from /mnt/Ressources/Andres/Temp_active/runs/Classif_all_data_wl/Stage_0/checkpoint/epoch11.ckpt-11\n"
     ]
    },
    {
     "name": "stderr",
     "output_type": "stream",
     "text": [
      "\u001b[2m\u001b[36m(pid=31019, ip=192.168.8.52)\u001b[0m 2020-12-06 19:47:58.411044: I tensorflow/stream_executor/dso_loader.cc:152] successfully opened CUDA library libcublas.so.10.0 locally\n"
     ]
    },
    {
     "name": "stdout",
     "output_type": "stream",
     "text": [
      "\u001b[2m\u001b[36m(pid=31019, ip=192.168.8.52)\u001b[0m \u001b[6;30;42mTest_Stage_0\u001b[0m Length of the test:  10000\n",
      "\u001b[2m\u001b[36m(pid=31019, ip=192.168.8.52)\u001b[0m \u001b[6;30;42mTest_Stage_0\u001b[0m Test || Epoch: 11 || Accuracy: 77.31 || \n",
      "\u001b[2m\u001b[36m(pid=31019, ip=192.168.8.52)\u001b[0m \u001b[6;30;42mTest_Stage_0\u001b[0m Restoring from /mnt/Ressources/Andres/Temp_active/runs/Classif_all_data_wl/Stage_0/checkpoint/epoch12.ckpt-12\n",
      "\u001b[2m\u001b[36m(pid=31019, ip=192.168.8.52)\u001b[0m \u001b[6;30;42mTest_Stage_0\u001b[0m Length of the test:  10000\n",
      "\u001b[2m\u001b[36m(pid=31019, ip=192.168.8.52)\u001b[0m \u001b[6;30;42mTest_Stage_0\u001b[0m Test || Epoch: 12 || Accuracy: 77.91 || \n",
      "\u001b[2m\u001b[36m(pid=31019, ip=192.168.8.52)\u001b[0m \u001b[6;30;42mTest_Stage_0\u001b[0m Restoring from /mnt/Ressources/Andres/Temp_active/runs/Classif_all_data_wl/Stage_0/checkpoint/epoch13.ckpt-13\n"
     ]
    },
    {
     "name": "stderr",
     "output_type": "stream",
     "text": [
      "\u001b[2m\u001b[36m(pid=31019, ip=192.168.8.52)\u001b[0m 2020-12-06 19:48:06,469\tINFO (unknown file):0 -- gc.collect() freed 30134 refs in 0.14937138557434082 seconds\n"
     ]
    },
    {
     "name": "stdout",
     "output_type": "stream",
     "text": [
      "\u001b[2m\u001b[36m(pid=31019, ip=192.168.8.52)\u001b[0m \u001b[6;30;42mTest_Stage_0\u001b[0m Length of the test:  10000\n",
      "\u001b[2m\u001b[36m(pid=31019, ip=192.168.8.52)\u001b[0m \u001b[6;30;42mTest_Stage_0\u001b[0m Test || Epoch: 13 || Accuracy: 77.14 || \n",
      "\u001b[2m\u001b[36m(pid=31019, ip=192.168.8.52)\u001b[0m \u001b[6;30;42mTest_Stage_0\u001b[0m Restoring from /mnt/Ressources/Andres/Temp_active/runs/Classif_all_data_wl/Stage_0/checkpoint/epoch14.ckpt-14\n",
      "\u001b[2m\u001b[36m(pid=31019, ip=192.168.8.52)\u001b[0m \u001b[6;30;42mTest_Stage_0\u001b[0m Length of the test:  10000\n",
      "\u001b[2m\u001b[36m(pid=31019, ip=192.168.8.52)\u001b[0m \u001b[6;30;42mTest_Stage_0\u001b[0m Test || Epoch: 14 || Accuracy: 77.38 || \n",
      "\u001b[2m\u001b[36m(pid=31019, ip=192.168.8.52)\u001b[0m \u001b[6;30;42mTest_Stage_0\u001b[0m Restoring from /mnt/Ressources/Andres/Temp_active/runs/Classif_all_data_wl/Stage_0/checkpoint/epoch15.ckpt-15\n",
      "\u001b[2m\u001b[36m(pid=31019, ip=192.168.8.52)\u001b[0m \u001b[6;30;42mTest_Stage_0\u001b[0m Length of the test:  10000\n",
      "\u001b[2m\u001b[36m(pid=31019, ip=192.168.8.52)\u001b[0m \u001b[6;30;42mTest_Stage_0\u001b[0m Test || Epoch: 15 || Accuracy: 82.36 || \n",
      "\u001b[2m\u001b[36m(pid=31019, ip=192.168.8.52)\u001b[0m \u001b[6;30;42mTest_Stage_0\u001b[0m Restoring from /mnt/Ressources/Andres/Temp_active/runs/Classif_all_data_wl/Stage_0/checkpoint/epoch16.ckpt-16\n"
     ]
    },
    {
     "name": "stderr",
     "output_type": "stream",
     "text": [
      "\u001b[2m\u001b[36m(pid=31019, ip=192.168.8.52)\u001b[0m 2020-12-06 19:48:16,684\tINFO (unknown file):0 -- gc.collect() freed 90507 refs in 0.2113139145076275 seconds\n"
     ]
    },
    {
     "name": "stdout",
     "output_type": "stream",
     "text": [
      "\u001b[2m\u001b[36m(pid=31019, ip=192.168.8.52)\u001b[0m \u001b[6;30;42mTest_Stage_0\u001b[0m Length of the test:  10000\n",
      "\u001b[2m\u001b[36m(pid=31019, ip=192.168.8.52)\u001b[0m \u001b[6;30;42mTest_Stage_0\u001b[0m Test || Epoch: 16 || Accuracy: 79.74 || \n",
      "\u001b[2m\u001b[36m(pid=31019, ip=192.168.8.52)\u001b[0m \u001b[6;30;42mTest_Stage_0\u001b[0m Restoring from /mnt/Ressources/Andres/Temp_active/runs/Classif_all_data_wl/Stage_0/checkpoint/epoch17.ckpt-17\n",
      "\u001b[2m\u001b[36m(pid=31019, ip=192.168.8.52)\u001b[0m \u001b[6;30;42mTest_Stage_0\u001b[0m Length of the test:  10000\n",
      "\u001b[2m\u001b[36m(pid=31019, ip=192.168.8.52)\u001b[0m \u001b[6;30;42mTest_Stage_0\u001b[0m Test || Epoch: 17 || Accuracy: 78.14 || \n",
      "\u001b[2m\u001b[36m(pid=31019, ip=192.168.8.52)\u001b[0m \u001b[6;30;42mTest_Stage_0\u001b[0m Restoring from /mnt/Ressources/Andres/Temp_active/runs/Classif_all_data_wl/Stage_0/checkpoint/epoch18.ckpt-18\n",
      "\u001b[2m\u001b[36m(pid=31019, ip=192.168.8.52)\u001b[0m \u001b[6;30;42mTest_Stage_0\u001b[0m Length of the test:  10000\n",
      "\u001b[2m\u001b[36m(pid=31019, ip=192.168.8.52)\u001b[0m \u001b[6;30;42mTest_Stage_0\u001b[0m Test || Epoch: 18 || Accuracy: 79.44 || \n",
      "\u001b[2m\u001b[36m(pid=31019, ip=192.168.8.52)\u001b[0m \u001b[6;30;42mTest_Stage_0\u001b[0m Restoring from /mnt/Ressources/Andres/Temp_active/runs/Classif_all_data_wl/Stage_0/checkpoint/epoch19.ckpt-19\n"
     ]
    },
    {
     "name": "stderr",
     "output_type": "stream",
     "text": [
      "\u001b[2m\u001b[36m(pid=31019, ip=192.168.8.52)\u001b[0m 2020-12-06 19:48:26,623\tINFO (unknown file):0 -- gc.collect() freed 90507 refs in 0.1945618987083435 seconds\n"
     ]
    },
    {
     "name": "stdout",
     "output_type": "stream",
     "text": [
      "\u001b[2m\u001b[36m(pid=31019, ip=192.168.8.52)\u001b[0m \u001b[6;30;42mTest_Stage_0\u001b[0m Length of the test:  10000\n",
      "\u001b[2m\u001b[36m(pid=31019, ip=192.168.8.52)\u001b[0m \u001b[6;30;42mTest_Stage_0\u001b[0m Test || Epoch: 19 || Accuracy: 81.93 || \n",
      "\u001b[2m\u001b[36m(pid=31019, ip=192.168.8.52)\u001b[0m \u001b[6;30;42mTest_Stage_0\u001b[0m Restoring from /mnt/Ressources/Andres/Temp_active/runs/Classif_all_data_wl/Stage_0/checkpoint/epoch20.ckpt-20\n",
      "\u001b[2m\u001b[36m(pid=31019, ip=192.168.8.52)\u001b[0m \u001b[6;30;42mTest_Stage_0\u001b[0m Length of the test:  10000\n",
      "\u001b[2m\u001b[36m(pid=31019, ip=192.168.8.52)\u001b[0m \u001b[6;30;42mTest_Stage_0\u001b[0m Test || Epoch: 20 || Accuracy: 79.28 || \n",
      "\u001b[2m\u001b[36m(pid=31019, ip=192.168.8.52)\u001b[0m \u001b[6;30;42mTest_Stage_0\u001b[0m Restoring from /mnt/Ressources/Andres/Temp_active/runs/Classif_all_data_wl/Stage_0/checkpoint/epoch21.ckpt-21\n",
      "\u001b[2m\u001b[36m(pid=31019, ip=192.168.8.52)\u001b[0m \u001b[6;30;42mTest_Stage_0\u001b[0m Length of the test:  10000\n",
      "\u001b[2m\u001b[36m(pid=31019, ip=192.168.8.52)\u001b[0m \u001b[6;30;42mTest_Stage_0\u001b[0m Test || Epoch: 21 || Accuracy: 79.82 || \n",
      "\u001b[2m\u001b[36m(pid=31019, ip=192.168.8.52)\u001b[0m \u001b[6;30;42mTest_Stage_0\u001b[0m Restoring from /mnt/Ressources/Andres/Temp_active/runs/Classif_all_data_wl/Stage_0/checkpoint/epoch22.ckpt-22\n"
     ]
    },
    {
     "name": "stderr",
     "output_type": "stream",
     "text": [
      "\u001b[2m\u001b[36m(pid=31019, ip=192.168.8.52)\u001b[0m 2020-12-06 19:48:36,676\tINFO (unknown file):0 -- gc.collect() freed 90507 refs in 0.192078678868711 seconds\n"
     ]
    },
    {
     "name": "stdout",
     "output_type": "stream",
     "text": [
      "\u001b[2m\u001b[36m(pid=31019, ip=192.168.8.52)\u001b[0m \u001b[6;30;42mTest_Stage_0\u001b[0m Length of the test:  10000\n",
      "\u001b[2m\u001b[36m(pid=31019, ip=192.168.8.52)\u001b[0m \u001b[6;30;42mTest_Stage_0\u001b[0m Test || Epoch: 22 || Accuracy: 81.26 || \n",
      "\u001b[2m\u001b[36m(pid=31019, ip=192.168.8.52)\u001b[0m \u001b[6;30;42mTest_Stage_0\u001b[0m Restoring from /mnt/Ressources/Andres/Temp_active/runs/Classif_all_data_wl/Stage_0/checkpoint/epoch23.ckpt-23\n",
      "\u001b[2m\u001b[36m(pid=31019, ip=192.168.8.52)\u001b[0m \u001b[6;30;42mTest_Stage_0\u001b[0m Length of the test:  10000\n",
      "\u001b[2m\u001b[36m(pid=31019, ip=192.168.8.52)\u001b[0m \u001b[6;30;42mTest_Stage_0\u001b[0m Test || Epoch: 23 || Accuracy: 82.51 || \n",
      "\u001b[2m\u001b[36m(pid=31019, ip=192.168.8.52)\u001b[0m \u001b[6;30;42mTest_Stage_0\u001b[0m Restoring from /mnt/Ressources/Andres/Temp_active/runs/Classif_all_data_wl/Stage_0/checkpoint/epoch24.ckpt-24\n",
      "\u001b[2m\u001b[36m(pid=31019, ip=192.168.8.52)\u001b[0m \u001b[6;30;42mTest_Stage_0\u001b[0m Length of the test:  10000\n",
      "\u001b[2m\u001b[36m(pid=31019, ip=192.168.8.52)\u001b[0m \u001b[6;30;42mTest_Stage_0\u001b[0m Test || Epoch: 24 || Accuracy: 83.75 || \n",
      "\u001b[2m\u001b[36m(pid=31019, ip=192.168.8.52)\u001b[0m \u001b[6;30;42mTest_Stage_0\u001b[0m Restoring from /mnt/Ressources/Andres/Temp_active/runs/Classif_all_data_wl/Stage_0/checkpoint/epoch25.ckpt-25\n"
     ]
    },
    {
     "name": "stderr",
     "output_type": "stream",
     "text": [
      "\u001b[2m\u001b[36m(pid=31019, ip=192.168.8.52)\u001b[0m 2020-12-06 19:48:46,838\tINFO (unknown file):0 -- gc.collect() freed 90507 refs in 0.19703148677945137 seconds\n"
     ]
    },
    {
     "name": "stdout",
     "output_type": "stream",
     "text": [
      "\u001b[2m\u001b[36m(pid=31019, ip=192.168.8.52)\u001b[0m \u001b[6;30;42mTest_Stage_0\u001b[0m Length of the test:  10000\n",
      "\u001b[2m\u001b[36m(pid=31019, ip=192.168.8.52)\u001b[0m \u001b[6;30;42mTest_Stage_0\u001b[0m Test || Epoch: 25 || Accuracy: 88.95 || \n",
      "\u001b[2m\u001b[36m(pid=31019, ip=192.168.8.52)\u001b[0m \u001b[6;30;42mTest_Stage_0\u001b[0m Restoring from /mnt/Ressources/Andres/Temp_active/runs/Classif_all_data_wl/Stage_0/checkpoint/epoch26.ckpt-26\n",
      "\u001b[2m\u001b[36m(pid=31019, ip=192.168.8.52)\u001b[0m \u001b[6;30;42mTest_Stage_0\u001b[0m Length of the test:  10000\n",
      "\u001b[2m\u001b[36m(pid=31019, ip=192.168.8.52)\u001b[0m \u001b[6;30;42mTest_Stage_0\u001b[0m Test || Epoch: 26 || Accuracy: 89.31 || \n",
      "\u001b[2m\u001b[36m(pid=31019, ip=192.168.8.52)\u001b[0m \u001b[6;30;42mTest_Stage_0\u001b[0m Restoring from /mnt/Ressources/Andres/Temp_active/runs/Classif_all_data_wl/Stage_0/checkpoint/epoch27.ckpt-27\n",
      "\u001b[2m\u001b[36m(pid=31019, ip=192.168.8.52)\u001b[0m \u001b[6;30;42mTest_Stage_0\u001b[0m Length of the test:  10000\n",
      "\u001b[2m\u001b[36m(pid=31019, ip=192.168.8.52)\u001b[0m \u001b[6;30;42mTest_Stage_0\u001b[0m Test || Epoch: 27 || Accuracy: 89.43 || \n",
      "\u001b[2m\u001b[36m(pid=31019, ip=192.168.8.52)\u001b[0m \u001b[6;30;42mTest_Stage_0\u001b[0m Restoring from /mnt/Ressources/Andres/Temp_active/runs/Classif_all_data_wl/Stage_0/checkpoint/epoch28.ckpt-28\n"
     ]
    },
    {
     "name": "stderr",
     "output_type": "stream",
     "text": [
      "\u001b[2m\u001b[36m(pid=31019, ip=192.168.8.52)\u001b[0m 2020-12-06 19:48:56,808\tINFO (unknown file):0 -- gc.collect() freed 90507 refs in 0.20969806052744389 seconds\n"
     ]
    },
    {
     "name": "stdout",
     "output_type": "stream",
     "text": [
      "\u001b[2m\u001b[36m(pid=31019, ip=192.168.8.52)\u001b[0m \u001b[6;30;42mTest_Stage_0\u001b[0m Length of the test:  10000\n",
      "\u001b[2m\u001b[36m(pid=31019, ip=192.168.8.52)\u001b[0m \u001b[6;30;42mTest_Stage_0\u001b[0m Test || Epoch: 28 || Accuracy: 89.27 || \n",
      "\u001b[2m\u001b[36m(pid=31019, ip=192.168.8.52)\u001b[0m \u001b[6;30;42mTest_Stage_0\u001b[0m Restoring from /mnt/Ressources/Andres/Temp_active/runs/Classif_all_data_wl/Stage_0/checkpoint/epoch29.ckpt-29\n",
      "\u001b[2m\u001b[36m(pid=31019, ip=192.168.8.52)\u001b[0m \u001b[6;30;42mTest_Stage_0\u001b[0m Length of the test:  10000\n",
      "\u001b[2m\u001b[36m(pid=31019, ip=192.168.8.52)\u001b[0m \u001b[6;30;42mTest_Stage_0\u001b[0m Test || Epoch: 29 || Accuracy: 89.66 || \n",
      "\u001b[2m\u001b[36m(pid=31019, ip=192.168.8.52)\u001b[0m \u001b[6;30;42mTest_Stage_0\u001b[0m Restoring from /mnt/Ressources/Andres/Temp_active/runs/Classif_all_data_wl/Stage_0/checkpoint/epoch30.ckpt-30\n",
      "\u001b[2m\u001b[36m(pid=31019, ip=192.168.8.52)\u001b[0m \u001b[6;30;42mTest_Stage_0\u001b[0m Length of the test:  10000\n",
      "\u001b[2m\u001b[36m(pid=31019, ip=192.168.8.52)\u001b[0m \u001b[6;30;42mTest_Stage_0\u001b[0m Test || Epoch: 30 || Accuracy: 89.66 || \n",
      "\u001b[2m\u001b[36m(pid=31019, ip=192.168.8.52)\u001b[0m \u001b[6;30;42mTest_Stage_0\u001b[0m Restoring from /mnt/Ressources/Andres/Temp_active/runs/Classif_all_data_wl/Stage_0/checkpoint/epoch31.ckpt-31\n"
     ]
    },
    {
     "name": "stderr",
     "output_type": "stream",
     "text": [
      "\u001b[2m\u001b[36m(pid=31019, ip=192.168.8.52)\u001b[0m 2020-12-06 19:49:06,986\tINFO (unknown file):0 -- gc.collect() freed 90507 refs in 0.22788570821285248 seconds\n"
     ]
    },
    {
     "name": "stdout",
     "output_type": "stream",
     "text": [
      "\u001b[2m\u001b[36m(pid=31019, ip=192.168.8.52)\u001b[0m \u001b[6;30;42mTest_Stage_0\u001b[0m Length of the test:  10000\n",
      "\u001b[2m\u001b[36m(pid=31019, ip=192.168.8.52)\u001b[0m \u001b[6;30;42mTest_Stage_0\u001b[0m Test || Epoch: 31 || Accuracy: 89.82 || \n",
      "\u001b[2m\u001b[36m(pid=31019, ip=192.168.8.52)\u001b[0m \u001b[6;30;42mTest_Stage_0\u001b[0m Restoring from /mnt/Ressources/Andres/Temp_active/runs/Classif_all_data_wl/Stage_0/checkpoint/epoch32.ckpt-32\n",
      "\u001b[2m\u001b[36m(pid=31019, ip=192.168.8.52)\u001b[0m \u001b[6;30;42mTest_Stage_0\u001b[0m Length of the test:  10000\n",
      "\u001b[2m\u001b[36m(pid=31019, ip=192.168.8.52)\u001b[0m \u001b[6;30;42mTest_Stage_0\u001b[0m Test || Epoch: 32 || Accuracy: 89.93 || \n",
      "\u001b[2m\u001b[36m(pid=31019, ip=192.168.8.52)\u001b[0m \u001b[6;30;42mTest_Stage_0\u001b[0m Restoring from /mnt/Ressources/Andres/Temp_active/runs/Classif_all_data_wl/Stage_0/checkpoint/epoch33.ckpt-33\n",
      "\u001b[2m\u001b[36m(pid=31019, ip=192.168.8.52)\u001b[0m \u001b[6;30;42mTest_Stage_0\u001b[0m Length of the test:  10000\n",
      "\u001b[2m\u001b[36m(pid=31019, ip=192.168.8.52)\u001b[0m \u001b[6;30;42mTest_Stage_0\u001b[0m Test || Epoch: 33 || Accuracy: 89.68 || \n",
      "\u001b[2m\u001b[36m(pid=31019, ip=192.168.8.52)\u001b[0m \u001b[6;30;42mTest_Stage_0\u001b[0m Restoring from /mnt/Ressources/Andres/Temp_active/runs/Classif_all_data_wl/Stage_0/checkpoint/epoch34.ckpt-34\n"
     ]
    },
    {
     "name": "stderr",
     "output_type": "stream",
     "text": [
      "\u001b[2m\u001b[36m(pid=31019, ip=192.168.8.52)\u001b[0m 2020-12-06 19:49:16,939\tINFO (unknown file):0 -- gc.collect() freed 90507 refs in 0.22079841513186693 seconds\n"
     ]
    },
    {
     "name": "stdout",
     "output_type": "stream",
     "text": [
      "\u001b[2m\u001b[36m(pid=31019, ip=192.168.8.52)\u001b[0m \u001b[6;30;42mTest_Stage_0\u001b[0m Length of the test:  10000\n",
      "\u001b[2m\u001b[36m(pid=31019, ip=192.168.8.52)\u001b[0m \u001b[6;30;42mTest_Stage_0\u001b[0m Test || Epoch: 34 || Accuracy: 89.58 || \n",
      "\u001b[2m\u001b[36m(pid=31019, ip=192.168.8.52)\u001b[0m \u001b[6;30;42mTest_Stage_0\u001b[0m Restoring from /mnt/Ressources/Andres/Temp_active/runs/Classif_all_data_wl/Stage_0/checkpoint/epoch35.ckpt-35\n",
      "\u001b[2m\u001b[36m(pid=31019, ip=192.168.8.52)\u001b[0m \u001b[6;30;42mTest_Stage_0\u001b[0m Length of the test:  10000\n",
      "\u001b[2m\u001b[36m(pid=31019, ip=192.168.8.52)\u001b[0m \u001b[6;30;42mTest_Stage_0\u001b[0m Test || Epoch: 35 || Accuracy: 90.03 || \n",
      "\u001b[2m\u001b[36m(pid=31019, ip=192.168.8.52)\u001b[0m \u001b[6;30;42mTest_Stage_0\u001b[0m Restoring from /mnt/Ressources/Andres/Temp_active/runs/Classif_all_data_wl/Stage_0/checkpoint/epoch36.ckpt-36\n",
      "\u001b[2m\u001b[36m(pid=31019, ip=192.168.8.52)\u001b[0m \u001b[6;30;42mTest_Stage_0\u001b[0m Length of the test:  10000\n",
      "\u001b[2m\u001b[36m(pid=31019, ip=192.168.8.52)\u001b[0m \u001b[6;30;42mTest_Stage_0\u001b[0m Test || Epoch: 36 || Accuracy: 90.00 || \n",
      "\u001b[2m\u001b[36m(pid=31019, ip=192.168.8.52)\u001b[0m \u001b[6;30;42mTest_Stage_0\u001b[0m Restoring from /mnt/Ressources/Andres/Temp_active/runs/Classif_all_data_wl/Stage_0/checkpoint/epoch37.ckpt-37\n"
     ]
    },
    {
     "name": "stderr",
     "output_type": "stream",
     "text": [
      "\u001b[2m\u001b[36m(pid=31019, ip=192.168.8.52)\u001b[0m 2020-12-06 19:49:27,002\tINFO (unknown file):0 -- gc.collect() freed 90507 refs in 0.2288946658372879 seconds\n"
     ]
    },
    {
     "name": "stdout",
     "output_type": "stream",
     "text": [
      "\u001b[2m\u001b[36m(pid=31019, ip=192.168.8.52)\u001b[0m \u001b[6;30;42mTest_Stage_0\u001b[0m Length of the test:  10000\n",
      "\u001b[2m\u001b[36m(pid=31019, ip=192.168.8.52)\u001b[0m \u001b[6;30;42mTest_Stage_0\u001b[0m Test || Epoch: 37 || Accuracy: 90.22 || \n",
      "\u001b[2m\u001b[36m(pid=31019, ip=192.168.8.52)\u001b[0m \u001b[6;30;42mTest_Stage_0\u001b[0m Restoring from /mnt/Ressources/Andres/Temp_active/runs/Classif_all_data_wl/Stage_0/checkpoint/epoch38.ckpt-38\n",
      "\u001b[2m\u001b[36m(pid=31019, ip=192.168.8.52)\u001b[0m \u001b[6;30;42mTest_Stage_0\u001b[0m Length of the test:  10000\n",
      "\u001b[2m\u001b[36m(pid=31019, ip=192.168.8.52)\u001b[0m \u001b[6;30;42mTest_Stage_0\u001b[0m Test || Epoch: 38 || Accuracy: 90.23 || \n",
      "\u001b[2m\u001b[36m(pid=31019, ip=192.168.8.52)\u001b[0m \u001b[6;30;42mTest_Stage_0\u001b[0m Restoring from /mnt/Ressources/Andres/Temp_active/runs/Classif_all_data_wl/Stage_0/checkpoint/epoch39.ckpt-39\n",
      "\u001b[2m\u001b[36m(pid=31019, ip=192.168.8.52)\u001b[0m \u001b[6;30;42mTest_Stage_0\u001b[0m Length of the test:  10000\n",
      "\u001b[2m\u001b[36m(pid=31019, ip=192.168.8.52)\u001b[0m \u001b[6;30;42mTest_Stage_0\u001b[0m Test || Epoch: 39 || Accuracy: 90.30 || \n",
      "\u001b[2m\u001b[36m(pid=31019, ip=192.168.8.52)\u001b[0m \u001b[6;30;42mTest_Stage_0\u001b[0m Restoring from /mnt/Ressources/Andres/Temp_active/runs/Classif_all_data_wl/Stage_0/checkpoint/epoch40.ckpt-40\n"
     ]
    },
    {
     "name": "stderr",
     "output_type": "stream",
     "text": [
      "\u001b[2m\u001b[36m(pid=31019, ip=192.168.8.52)\u001b[0m 2020-12-06 19:49:37,139\tINFO (unknown file):0 -- gc.collect() freed 90507 refs in 0.20509191881865263 seconds\n"
     ]
    },
    {
     "name": "stdout",
     "output_type": "stream",
     "text": [
      "\u001b[2m\u001b[36m(pid=31019, ip=192.168.8.52)\u001b[0m \u001b[6;30;42mTest_Stage_0\u001b[0m Length of the test:  10000\n",
      "\u001b[2m\u001b[36m(pid=31019, ip=192.168.8.52)\u001b[0m \u001b[6;30;42mTest_Stage_0\u001b[0m Test || Epoch: 40 || Accuracy: 90.28 || \n",
      "\u001b[2m\u001b[36m(pid=31019, ip=192.168.8.52)\u001b[0m \u001b[6;30;42mTest_Stage_0\u001b[0m Restoring from /mnt/Ressources/Andres/Temp_active/runs/Classif_all_data_wl/Stage_0/checkpoint/epoch41.ckpt-41\n",
      "\u001b[2m\u001b[36m(pid=31019, ip=192.168.8.52)\u001b[0m \u001b[6;30;42mTest_Stage_0\u001b[0m Length of the test:  10000\n",
      "\u001b[2m\u001b[36m(pid=31019, ip=192.168.8.52)\u001b[0m \u001b[6;30;42mTest_Stage_0\u001b[0m Test || Epoch: 41 || Accuracy: 90.49 || \n",
      "\u001b[2m\u001b[36m(pid=31019, ip=192.168.8.52)\u001b[0m \u001b[6;30;42mTest_Stage_0\u001b[0m Restoring from /mnt/Ressources/Andres/Temp_active/runs/Classif_all_data_wl/Stage_0/checkpoint/epoch42.ckpt-42\n",
      "\u001b[2m\u001b[36m(pid=31019, ip=192.168.8.52)\u001b[0m \u001b[6;30;42mTest_Stage_0\u001b[0m Length of the test:  10000\n",
      "\u001b[2m\u001b[36m(pid=31019, ip=192.168.8.52)\u001b[0m \u001b[6;30;42mTest_Stage_0\u001b[0m Test || Epoch: 42 || Accuracy: 90.49 || \n",
      "\u001b[2m\u001b[36m(pid=31019, ip=192.168.8.52)\u001b[0m \u001b[6;30;42mTest_Stage_0\u001b[0m Restoring from /mnt/Ressources/Andres/Temp_active/runs/Classif_all_data_wl/Stage_0/checkpoint/epoch43.ckpt-43\n",
      "\u001b[2m\u001b[36m(pid=31019, ip=192.168.8.52)\u001b[0m \u001b[6;30;42mTest_Stage_0\u001b[0m Length of the test:  10000\n"
     ]
    },
    {
     "name": "stderr",
     "output_type": "stream",
     "text": [
      "\u001b[2m\u001b[36m(pid=31019, ip=192.168.8.52)\u001b[0m 2020-12-06 19:49:47,093\tINFO (unknown file):0 -- gc.collect() freed 90573 refs in 0.2007801402360201 seconds\n"
     ]
    },
    {
     "name": "stdout",
     "output_type": "stream",
     "text": [
      "\u001b[2m\u001b[36m(pid=31019, ip=192.168.8.52)\u001b[0m \u001b[6;30;42mTest_Stage_0\u001b[0m Test || Epoch: 43 || Accuracy: 90.59 || \n",
      "\u001b[2m\u001b[36m(pid=31019, ip=192.168.8.52)\u001b[0m \u001b[6;30;42mTest_Stage_0\u001b[0m Restoring from /mnt/Ressources/Andres/Temp_active/runs/Classif_all_data_wl/Stage_0/checkpoint/epoch44.ckpt-44\n",
      "\u001b[2m\u001b[36m(pid=31019, ip=192.168.8.52)\u001b[0m \u001b[6;30;42mTest_Stage_0\u001b[0m Length of the test:  10000\n",
      "\u001b[2m\u001b[36m(pid=31019, ip=192.168.8.52)\u001b[0m \u001b[6;30;42mTest_Stage_0\u001b[0m Test || Epoch: 44 || Accuracy: 90.46 || \n",
      "\u001b[2m\u001b[36m(pid=31019, ip=192.168.8.52)\u001b[0m \u001b[6;30;42mTest_Stage_0\u001b[0m Restoring from /mnt/Ressources/Andres/Temp_active/runs/Classif_all_data_wl/Stage_0/checkpoint/epoch45.ckpt-45\n",
      "\u001b[2m\u001b[36m(pid=31019, ip=192.168.8.52)\u001b[0m \u001b[6;30;42mTest_Stage_0\u001b[0m Length of the test:  10000\n",
      "\u001b[2m\u001b[36m(pid=31019, ip=192.168.8.52)\u001b[0m \u001b[6;30;42mTest_Stage_0\u001b[0m Test || Epoch: 45 || Accuracy: 90.49 || \n",
      "\u001b[2m\u001b[36m(pid=31019, ip=192.168.8.52)\u001b[0m \u001b[6;30;42mTest_Stage_0\u001b[0m Restoring from /mnt/Ressources/Andres/Temp_active/runs/Classif_all_data_wl/Stage_0/checkpoint/epoch46.ckpt-46\n",
      "\u001b[2m\u001b[36m(pid=31019, ip=192.168.8.52)\u001b[0m \u001b[6;30;42mTest_Stage_0\u001b[0m Length of the test:  10000\n",
      "\u001b[2m\u001b[36m(pid=31019, ip=192.168.8.52)\u001b[0m \u001b[6;30;42mTest_Stage_0\u001b[0m Test || Epoch: 46 || Accuracy: 90.45 || \n",
      "\u001b[2m\u001b[36m(pid=31019, ip=192.168.8.52)\u001b[0m \u001b[6;30;42mTest_Stage_0\u001b[0m Restoring from /mnt/Ressources/Andres/Temp_active/runs/Classif_all_data_wl/Stage_0/checkpoint/epoch47.ckpt-47\n"
     ]
    },
    {
     "name": "stderr",
     "output_type": "stream",
     "text": [
      "\u001b[2m\u001b[36m(pid=31019, ip=192.168.8.52)\u001b[0m 2020-12-06 19:49:57,245\tINFO (unknown file):0 -- gc.collect() freed 30097 refs in 0.2009770693257451 seconds\n"
     ]
    },
    {
     "name": "stdout",
     "output_type": "stream",
     "text": [
      "\u001b[2m\u001b[36m(pid=31019, ip=192.168.8.52)\u001b[0m \u001b[6;30;42mTest_Stage_0\u001b[0m Length of the test:  10000\n",
      "\u001b[2m\u001b[36m(pid=31019, ip=192.168.8.52)\u001b[0m \u001b[6;30;42mTest_Stage_0\u001b[0m Test || Epoch: 47 || Accuracy: 90.44 || \n",
      "\u001b[2m\u001b[36m(pid=31019, ip=192.168.8.52)\u001b[0m \u001b[6;30;42mTest_Stage_0\u001b[0m Restoring from /mnt/Ressources/Andres/Temp_active/runs/Classif_all_data_wl/Stage_0/checkpoint/epoch48.ckpt-48\n",
      "\u001b[2m\u001b[36m(pid=31019, ip=192.168.8.52)\u001b[0m \u001b[6;30;42mTest_Stage_0\u001b[0m Length of the test:  10000\n",
      "\u001b[2m\u001b[36m(pid=31019, ip=192.168.8.52)\u001b[0m \u001b[6;30;42mTest_Stage_0\u001b[0m Test || Epoch: 48 || Accuracy: 90.52 || \n",
      "\u001b[2m\u001b[36m(pid=31019, ip=192.168.8.52)\u001b[0m \u001b[6;30;42mTest_Stage_0\u001b[0m Restoring from /mnt/Ressources/Andres/Temp_active/runs/Classif_all_data_wl/Stage_0/checkpoint/epoch49.ckpt-49\n",
      "\u001b[2m\u001b[36m(pid=31019, ip=192.168.8.52)\u001b[0m \u001b[6;30;42mTest_Stage_0\u001b[0m Length of the test:  10000\n",
      "\u001b[2m\u001b[36m(pid=31019, ip=192.168.8.52)\u001b[0m \u001b[6;30;42mTest_Stage_0\u001b[0m Test || Epoch: 49 || Accuracy: 90.54 || \n",
      "\u001b[2m\u001b[36m(pid=31019, ip=192.168.8.52)\u001b[0m \u001b[6;30;42mTest_Stage_0\u001b[0m Restoring from /mnt/Ressources/Andres/Temp_active/runs/Classif_all_data_wl/Stage_0/checkpoint/epoch50.ckpt-50\n"
     ]
    },
    {
     "name": "stderr",
     "output_type": "stream",
     "text": [
      "\u001b[2m\u001b[36m(pid=31019, ip=192.168.8.52)\u001b[0m 2020-12-06 19:50:07,296\tINFO (unknown file):0 -- gc.collect() freed 90507 refs in 0.1895050099119544 seconds\n"
     ]
    },
    {
     "name": "stdout",
     "output_type": "stream",
     "text": [
      "\u001b[2m\u001b[36m(pid=31019, ip=192.168.8.52)\u001b[0m \u001b[6;30;42mTest_Stage_0\u001b[0m Length of the test:  10000\n",
      "\u001b[2m\u001b[36m(pid=31019, ip=192.168.8.52)\u001b[0m \u001b[6;30;42mTest_Stage_0\u001b[0m Test || Epoch: 50 || Accuracy: 90.59 || \n"
     ]
    },
    {
     "name": "stderr",
     "output_type": "stream",
     "text": [
      "\u001b[2m\u001b[36m(pid=31019, ip=192.168.8.52)\u001b[0m \n",
      "\u001b[2m\u001b[36m(pid=31019, ip=192.168.8.52)\u001b[0m wandb: Waiting for W&B process to finish, PID 31173\n",
      "\u001b[2m\u001b[36m(pid=31019, ip=192.168.8.52)\u001b[0m wandb: Program ended successfully.\n",
      "\u001b[2m\u001b[36m(pid=31019, ip=192.168.8.52)\u001b[0m wandb: Run summary:\n",
      "\u001b[2m\u001b[36m(pid=31019, ip=192.168.8.52)\u001b[0m wandb:                                  F1 score 0.9055788718261306\n",
      "\u001b[2m\u001b[36m(pid=31019, ip=192.168.8.52)\u001b[0m wandb:                                _timestamp 1607280607.676609\n",
      "\u001b[2m\u001b[36m(pid=31019, ip=192.168.8.52)\u001b[0m wandb:                        Mean squared error 83.93081665039062\n",
      "\u001b[2m\u001b[36m(pid=31019, ip=192.168.8.52)\u001b[0m wandb:             Test: Classification Accuracy 0.9059\n",
      "\u001b[2m\u001b[36m(pid=31019, ip=192.168.8.52)\u001b[0m wandb:                                     _step 50\n",
      "\u001b[2m\u001b[36m(pid=31019, ip=192.168.8.52)\u001b[0m wandb:                        Explained variance -20.862411499023438\n",
      "\u001b[2m\u001b[36m(pid=31019, ip=192.168.8.52)\u001b[0m wandb:                Area Under the Curve (AUC) 0.8717754045712138\n",
      "\u001b[2m\u001b[36m(pid=31019, ip=192.168.8.52)\u001b[0m wandb:                       Mean absolute error 7.7820892333984375\n",
      "\u001b[2m\u001b[36m(pid=31019, ip=192.168.8.52)\u001b[0m wandb:                                  _runtime 132.35371708869934\n",
      "\u001b[2m\u001b[36m(pid=31019, ip=192.168.8.52)\u001b[0m wandb: Syncing files in ../../../Trainings/wandb/wandb/run-20201206_184755-37dpr9lo:\n",
      "\u001b[2m\u001b[36m(pid=31019, ip=192.168.8.52)\u001b[0m wandb:   code/default_worker.py\n",
      "\u001b[2m\u001b[36m(pid=31019, ip=192.168.8.52)\u001b[0m wandb: plus 8 W&B file(s) and 80 media file(s)\n",
      "\u001b[2m\u001b[36m(pid=31019, ip=192.168.8.52)\u001b[0m wandb: - 3.93MB of 3.93MB uploaded\n",
      "\u001b[2m\u001b[36m(pid=31019, ip=192.168.8.52)\u001b[0m wandb: \\ 3.93MB of 3.93MB uploaded\n",
      "\u001b[2m\u001b[36m(pid=31019, ip=192.168.8.52)\u001b[0m wandb: | 3.93MB of 3.93MB uploaded\n",
      "\u001b[2m\u001b[36m(pid=31019, ip=192.168.8.52)\u001b[0m wandb: / 3.93MB of 3.93MB uploaded\n",
      "\u001b[2m\u001b[36m(pid=31019, ip=192.168.8.52)\u001b[0m wandb: - 3.93MB of 3.93MB uploaded\n",
      "wandb:                                                                                \n",
      "\u001b[2m\u001b[36m(pid=31019, ip=192.168.8.52)\u001b[0m wandb: Synced Test_0: http://192.168.8.51:8080/reminiz/Active_Learning_CIFAR/runs/37dpr9lo\n",
      "\u001b[2m\u001b[36m(pid=31019, ip=192.168.8.52)\u001b[0m 2020-12-06 19:50:17,216\tINFO (unknown file):0 -- gc.collect() freed 60376 refs in 0.1582900332286954 seconds\n"
     ]
    },
    {
     "name": "stdout",
     "output_type": "stream",
     "text": [
      "\u001b[2m\u001b[36m(pid=22622, ip=192.168.8.52)\u001b[0m Epoch: 17 Time: 2020-12-06 19:51:08 Train loss: 2.21 Count NaN: 0 Saving\n"
     ]
    },
    {
     "name": "stderr",
     "output_type": "stream",
     "text": [
      "\u001b[2m\u001b[36m(pid=30936)\u001b[0m /home/reminiz/ReminizML2/python_env/lib/python3.7/site-packages/tensorflow/python/framework/dtypes.py:526: FutureWarning: Passing (type, 1) or '1type' as a synonym of type is deprecated; in a future version of numpy, it will be understood as (type, (1,)) / '(1,)type'.\n",
      "\u001b[2m\u001b[36m(pid=30936)\u001b[0m   _np_qint8 = np.dtype([(\"qint8\", np.int8, 1)])\n",
      "\u001b[2m\u001b[36m(pid=30936)\u001b[0m /home/reminiz/ReminizML2/python_env/lib/python3.7/site-packages/tensorflow/python/framework/dtypes.py:527: FutureWarning: Passing (type, 1) or '1type' as a synonym of type is deprecated; in a future version of numpy, it will be understood as (type, (1,)) / '(1,)type'.\n",
      "\u001b[2m\u001b[36m(pid=30936)\u001b[0m   _np_quint8 = np.dtype([(\"quint8\", np.uint8, 1)])\n",
      "\u001b[2m\u001b[36m(pid=30936)\u001b[0m /home/reminiz/ReminizML2/python_env/lib/python3.7/site-packages/tensorflow/python/framework/dtypes.py:528: FutureWarning: Passing (type, 1) or '1type' as a synonym of type is deprecated; in a future version of numpy, it will be understood as (type, (1,)) / '(1,)type'.\n",
      "\u001b[2m\u001b[36m(pid=30936)\u001b[0m   _np_qint16 = np.dtype([(\"qint16\", np.int16, 1)])\n",
      "\u001b[2m\u001b[36m(pid=30936)\u001b[0m /home/reminiz/ReminizML2/python_env/lib/python3.7/site-packages/tensorflow/python/framework/dtypes.py:529: FutureWarning: Passing (type, 1) or '1type' as a synonym of type is deprecated; in a future version of numpy, it will be understood as (type, (1,)) / '(1,)type'.\n",
      "\u001b[2m\u001b[36m(pid=30936)\u001b[0m   _np_quint16 = np.dtype([(\"quint16\", np.uint16, 1)])\n",
      "\u001b[2m\u001b[36m(pid=30936)\u001b[0m /home/reminiz/ReminizML2/python_env/lib/python3.7/site-packages/tensorflow/python/framework/dtypes.py:530: FutureWarning: Passing (type, 1) or '1type' as a synonym of type is deprecated; in a future version of numpy, it will be understood as (type, (1,)) / '(1,)type'.\n",
      "\u001b[2m\u001b[36m(pid=30936)\u001b[0m   _np_qint32 = np.dtype([(\"qint32\", np.int32, 1)])\n",
      "\u001b[2m\u001b[36m(pid=30936)\u001b[0m /home/reminiz/ReminizML2/python_env/lib/python3.7/site-packages/tensorflow/python/framework/dtypes.py:535: FutureWarning: Passing (type, 1) or '1type' as a synonym of type is deprecated; in a future version of numpy, it will be understood as (type, (1,)) / '(1,)type'.\n",
      "\u001b[2m\u001b[36m(pid=30936)\u001b[0m   np_resource = np.dtype([(\"resource\", np.ubyte, 1)])\n"
     ]
    },
    {
     "name": "stdout",
     "output_type": "stream",
     "text": [
      "\u001b[2m\u001b[36m(pid=30936)\u001b[0m CIFAR10 Training data shape: (50000, 32, 32, 3)\n",
      "\u001b[2m\u001b[36m(pid=30936)\u001b[0m CIFAR10 Training label shape (50000, 1)\n",
      "\u001b[2m\u001b[36m(pid=30936)\u001b[0m CIFAR10 Test data shape (10000, 32, 32, 3)\n",
      "\u001b[2m\u001b[36m(pid=30936)\u001b[0m CIFAR10 Test label shape (10000, 1)\n"
     ]
    },
    {
     "name": "stderr",
     "output_type": "stream",
     "text": [
      "\u001b[2m\u001b[36m(pid=30936)\u001b[0m WARNING:tensorflow:From /home/reminiz/ReminizML2/python_env/lib/python3.7/site-packages/tensorflow/python/data/ops/dataset_ops.py:429: py_func (from tensorflow.python.ops.script_ops) is deprecated and will be removed in a future version.\n",
      "\u001b[2m\u001b[36m(pid=30936)\u001b[0m Instructions for updating:\n",
      "\u001b[2m\u001b[36m(pid=30936)\u001b[0m tf.py_func is deprecated in TF V2. Instead, use\n",
      "\u001b[2m\u001b[36m(pid=30936)\u001b[0m     tf.py_function, which takes a python function which manipulates tf eager\n",
      "\u001b[2m\u001b[36m(pid=30936)\u001b[0m     tensors instead of numpy arrays. It's easy to convert a tf eager tensor to\n",
      "\u001b[2m\u001b[36m(pid=30936)\u001b[0m     an ndarray (just call tensor.numpy()) but having access to eager tensors\n",
      "\u001b[2m\u001b[36m(pid=30936)\u001b[0m     means `tf.py_function`s can use accelerators such as GPUs as well as\n",
      "\u001b[2m\u001b[36m(pid=30936)\u001b[0m     being differentiable using a gradient tape.\n",
      "\u001b[2m\u001b[36m(pid=30936)\u001b[0m     \n",
      "\u001b[2m\u001b[36m(pid=30936)\u001b[0m WARNING:tensorflow:From /mnt/Ressources/Andres/Temp_active/backbones/resnet18.py:22: conv2d (from tensorflow.python.layers.convolutional) is deprecated and will be removed in a future version.\n",
      "\u001b[2m\u001b[36m(pid=30936)\u001b[0m Instructions for updating:\n",
      "\u001b[2m\u001b[36m(pid=30936)\u001b[0m Use keras.layers.conv2d instead.\n",
      "\u001b[2m\u001b[36m(pid=30936)\u001b[0m WARNING:tensorflow:From /home/reminiz/ReminizML2/python_env/lib/python3.7/site-packages/tensorflow/python/framework/op_def_library.py:263: colocate_with (from tensorflow.python.framework.ops) is deprecated and will be removed in a future version.\n",
      "\u001b[2m\u001b[36m(pid=30936)\u001b[0m Instructions for updating:\n",
      "\u001b[2m\u001b[36m(pid=30936)\u001b[0m Colocations handled automatically by placer.\n",
      "\u001b[2m\u001b[36m(pid=30936)\u001b[0m WARNING:tensorflow:From /mnt/Ressources/Andres/Temp_active/backbones/resnet18.py:58: flatten (from tensorflow.python.layers.core) is deprecated and will be removed in a future version.\n",
      "\u001b[2m\u001b[36m(pid=30936)\u001b[0m Instructions for updating:\n",
      "\u001b[2m\u001b[36m(pid=30936)\u001b[0m Use keras.layers.flatten instead.\n",
      "\u001b[2m\u001b[36m(pid=30936)\u001b[0m WARNING:tensorflow:From /mnt/Ressources/Andres/Temp_active/backbones/resnet18.py:29: dense (from tensorflow.python.layers.core) is deprecated and will be removed in a future version.\n",
      "\u001b[2m\u001b[36m(pid=30936)\u001b[0m Instructions for updating:\n",
      "\u001b[2m\u001b[36m(pid=30936)\u001b[0m Use keras.layers.dense instead.\n",
      "\u001b[2m\u001b[36m(pid=30936)\u001b[0m 2020-12-06 19:51:26.367770: I tensorflow/core/platform/cpu_feature_guard.cc:141] Your CPU supports instructions that this TensorFlow binary was not compiled to use: AVX2 FMA\n",
      "\u001b[2m\u001b[36m(pid=30936)\u001b[0m 2020-12-06 19:51:26.388855: I tensorflow/core/platform/profile_utils/cpu_utils.cc:94] CPU Frequency: 3300280000 Hz\n",
      "\u001b[2m\u001b[36m(pid=30936)\u001b[0m 2020-12-06 19:51:26.389451: I tensorflow/compiler/xla/service/service.cc:150] XLA service 0x65a9e80 executing computations on platform Host. Devices:\n",
      "\u001b[2m\u001b[36m(pid=30936)\u001b[0m 2020-12-06 19:51:26.389503: I tensorflow/compiler/xla/service/service.cc:158]   StreamExecutor device (0): <undefined>, <undefined>\n",
      "\u001b[2m\u001b[36m(pid=30936)\u001b[0m 2020-12-06 19:51:26.668630: I tensorflow/compiler/xla/service/service.cc:150] XLA service 0x65af1b0 executing computations on platform CUDA. Devices:\n",
      "\u001b[2m\u001b[36m(pid=30936)\u001b[0m 2020-12-06 19:51:26.668683: I tensorflow/compiler/xla/service/service.cc:158]   StreamExecutor device (0): TITAN RTX, Compute Capability 7.5\n",
      "\u001b[2m\u001b[36m(pid=30936)\u001b[0m 2020-12-06 19:51:26.668902: I tensorflow/core/common_runtime/gpu/gpu_device.cc:1433] Found device 0 with properties: \n",
      "\u001b[2m\u001b[36m(pid=30936)\u001b[0m name: TITAN RTX major: 7 minor: 5 memoryClockRate(GHz): 1.77\n",
      "\u001b[2m\u001b[36m(pid=30936)\u001b[0m pciBusID: 0000:06:00.0\n",
      "\u001b[2m\u001b[36m(pid=30936)\u001b[0m totalMemory: 23.65GiB freeMemory: 23.48GiB\n",
      "\u001b[2m\u001b[36m(pid=30936)\u001b[0m 2020-12-06 19:51:26.668938: I tensorflow/core/common_runtime/gpu/gpu_device.cc:1512] Adding visible gpu devices: 0\n",
      "\u001b[2m\u001b[36m(pid=30936)\u001b[0m 2020-12-06 19:51:26.673105: I tensorflow/core/common_runtime/gpu/gpu_device.cc:984] Device interconnect StreamExecutor with strength 1 edge matrix:\n",
      "\u001b[2m\u001b[36m(pid=30936)\u001b[0m 2020-12-06 19:51:26.673134: I tensorflow/core/common_runtime/gpu/gpu_device.cc:990]      0 \n",
      "\u001b[2m\u001b[36m(pid=30936)\u001b[0m 2020-12-06 19:51:26.673146: I tensorflow/core/common_runtime/gpu/gpu_device.cc:1003] 0:   N \n",
      "\u001b[2m\u001b[36m(pid=30936)\u001b[0m 2020-12-06 19:51:26.673245: I tensorflow/core/common_runtime/gpu/gpu_device.cc:1115] Created TensorFlow device (/job:localhost/replica:0/task:0/device:GPU:0 with 22844 MB memory) -> physical GPU (device: 0, name: TITAN RTX, pci bus id: 0000:06:00.0, compute capability: 7.5)\n",
      "\u001b[2m\u001b[36m(pid=30936)\u001b[0m wandb: Tracking run with wandb version 0.8.36\n",
      "\u001b[2m\u001b[36m(pid=30936)\u001b[0m wandb: Wandb version 0.10.12 is available!  To upgrade, please run:\n",
      "\u001b[2m\u001b[36m(pid=30936)\u001b[0m wandb:  $ pip install wandb --upgrade\n",
      "\u001b[2m\u001b[36m(pid=30936)\u001b[0m wandb: Run data is saved locally in ../../../Trainings/wandb/wandb/run-20201206_185127-32ilbigi\n",
      "\u001b[2m\u001b[36m(pid=30936)\u001b[0m wandb: Syncing run Test_0\n",
      "\u001b[2m\u001b[36m(pid=30936)\u001b[0m wandb: ⭐️ View project at http://192.168.8.51:8080/reminiz/Active_Learning_CIFAR\n",
      "\u001b[2m\u001b[36m(pid=30936)\u001b[0m wandb: 🚀 View run at http://192.168.8.51:8080/reminiz/Active_Learning_CIFAR/runs/32ilbigi\n",
      "\u001b[2m\u001b[36m(pid=30936)\u001b[0m wandb: Run `wandb off` to turn off syncing.\n",
      "\u001b[2m\u001b[36m(pid=30936)\u001b[0m \n",
      "\u001b[2m\u001b[36m(pid=30936)\u001b[0m WARNING:tensorflow:From /home/reminiz/ReminizML2/python_env/lib/python3.7/site-packages/tensorflow/python/training/saver.py:1266: checkpoint_exists (from tensorflow.python.training.checkpoint_management) is deprecated and will be removed in a future version.\n",
      "\u001b[2m\u001b[36m(pid=30936)\u001b[0m Instructions for updating:\n",
      "\u001b[2m\u001b[36m(pid=30936)\u001b[0m Use standard file APIs to check for files with this prefix.\n"
     ]
    },
    {
     "name": "stdout",
     "output_type": "stream",
     "text": [
      "\u001b[2m\u001b[36m(pid=30936)\u001b[0m \u001b[6;30;42mTest_Stage_0\u001b[0m Restoring from /mnt/Ressources/Andres/Temp_active/runs/Classif_all_data/Stage_0/checkpoint/epoch11.ckpt-11\n"
     ]
    },
    {
     "name": "stderr",
     "output_type": "stream",
     "text": [
      "\u001b[2m\u001b[36m(pid=30936)\u001b[0m 2020-12-06 19:51:29.223538: I tensorflow/stream_executor/dso_loader.cc:152] successfully opened CUDA library libcublas.so.10.0 locally\n"
     ]
    },
    {
     "name": "stdout",
     "output_type": "stream",
     "text": [
      "\u001b[2m\u001b[36m(pid=30936)\u001b[0m \u001b[6;30;42mTest_Stage_0\u001b[0m Length of the test:  10000\n",
      "\u001b[2m\u001b[36m(pid=30936)\u001b[0m \u001b[6;30;42mTest_Stage_0\u001b[0m Test || Epoch: 11 || Accuracy: 83.38 || \n",
      "\u001b[2m\u001b[36m(pid=30936)\u001b[0m \u001b[6;30;42mTest_Stage_0\u001b[0m Restoring from /mnt/Ressources/Andres/Temp_active/runs/Classif_all_data/Stage_0/checkpoint/epoch12.ckpt-12\n",
      "\u001b[2m\u001b[36m(pid=30936)\u001b[0m \u001b[6;30;42mTest_Stage_0\u001b[0m Length of the test:  10000\n",
      "\u001b[2m\u001b[36m(pid=30936)\u001b[0m \u001b[6;30;42mTest_Stage_0\u001b[0m Test || Epoch: 12 || Accuracy: 83.14 || \n",
      "\u001b[2m\u001b[36m(pid=30936)\u001b[0m \u001b[6;30;42mTest_Stage_0\u001b[0m Restoring from /mnt/Ressources/Andres/Temp_active/runs/Classif_all_data/Stage_0/checkpoint/epoch13.ckpt-13\n",
      "\u001b[2m\u001b[36m(pid=30936)\u001b[0m \u001b[6;30;42mTest_Stage_0\u001b[0m Length of the test:  10000\n",
      "\u001b[2m\u001b[36m(pid=30936)\u001b[0m \u001b[6;30;42mTest_Stage_0\u001b[0m Test || Epoch: 13 || Accuracy: 81.68 || \n",
      "\u001b[2m\u001b[36m(pid=30936)\u001b[0m \u001b[6;30;42mTest_Stage_0\u001b[0m Restoring from /mnt/Ressources/Andres/Temp_active/runs/Classif_all_data/Stage_0/checkpoint/epoch14.ckpt-14\n"
     ]
    },
    {
     "name": "stderr",
     "output_type": "stream",
     "text": [
      "\u001b[2m\u001b[36m(pid=30936)\u001b[0m 2020-12-06 19:51:37,733\tINFO (unknown file):0 -- gc.collect() freed 822 refs in 0.17106962203979492 seconds\n"
     ]
    },
    {
     "name": "stdout",
     "output_type": "stream",
     "text": [
      "\u001b[2m\u001b[36m(pid=30936)\u001b[0m \u001b[6;30;42mTest_Stage_0\u001b[0m Length of the test:  10000\n",
      "\u001b[2m\u001b[36m(pid=30936)\u001b[0m \u001b[6;30;42mTest_Stage_0\u001b[0m Test || Epoch: 14 || Accuracy: 84.07 || \n",
      "\u001b[2m\u001b[36m(pid=30936)\u001b[0m \u001b[6;30;42mTest_Stage_0\u001b[0m Restoring from /mnt/Ressources/Andres/Temp_active/runs/Classif_all_data/Stage_0/checkpoint/epoch15.ckpt-15\n",
      "\u001b[2m\u001b[36m(pid=30936)\u001b[0m \u001b[6;30;42mTest_Stage_0\u001b[0m Length of the test:  10000\n",
      "\u001b[2m\u001b[36m(pid=30936)\u001b[0m \u001b[6;30;42mTest_Stage_0\u001b[0m Test || Epoch: 15 || Accuracy: 85.64 || \n",
      "\u001b[2m\u001b[36m(pid=30936)\u001b[0m \u001b[6;30;42mTest_Stage_0\u001b[0m Restoring from /mnt/Ressources/Andres/Temp_active/runs/Classif_all_data/Stage_0/checkpoint/epoch16.ckpt-16\n",
      "\u001b[2m\u001b[36m(pid=30936)\u001b[0m \u001b[6;30;42mTest_Stage_0\u001b[0m Length of the test:  10000\n",
      "\u001b[2m\u001b[36m(pid=30936)\u001b[0m \u001b[6;30;42mTest_Stage_0\u001b[0m Test || Epoch: 16 || Accuracy: 84.05 || \n",
      "\u001b[2m\u001b[36m(pid=30936)\u001b[0m \u001b[6;30;42mTest_Stage_0\u001b[0m Restoring from /mnt/Ressources/Andres/Temp_active/runs/Classif_all_data/Stage_0/checkpoint/epoch17.ckpt-17\n"
     ]
    },
    {
     "name": "stderr",
     "output_type": "stream",
     "text": [
      "\u001b[2m\u001b[36m(pid=30936)\u001b[0m 2020-12-06 19:51:47,894\tINFO (unknown file):0 -- gc.collect() freed 1404 refs in 0.1725368209881708 seconds\n"
     ]
    },
    {
     "name": "stdout",
     "output_type": "stream",
     "text": [
      "\u001b[2m\u001b[36m(pid=30936)\u001b[0m \u001b[6;30;42mTest_Stage_0\u001b[0m Length of the test:  10000\n",
      "\u001b[2m\u001b[36m(pid=30936)\u001b[0m \u001b[6;30;42mTest_Stage_0\u001b[0m Test || Epoch: 17 || Accuracy: 86.34 || \n",
      "\u001b[2m\u001b[36m(pid=30936)\u001b[0m \u001b[6;30;42mTest_Stage_0\u001b[0m Restoring from /mnt/Ressources/Andres/Temp_active/runs/Classif_all_data/Stage_0/checkpoint/epoch18.ckpt-18\n",
      "\u001b[2m\u001b[36m(pid=30936)\u001b[0m \u001b[6;30;42mTest_Stage_0\u001b[0m Length of the test:  10000\n",
      "\u001b[2m\u001b[36m(pid=30936)\u001b[0m \u001b[6;30;42mTest_Stage_0\u001b[0m Test || Epoch: 18 || Accuracy: 88.55 || \n",
      "\u001b[2m\u001b[36m(pid=30936)\u001b[0m \u001b[6;30;42mTest_Stage_0\u001b[0m Restoring from /mnt/Ressources/Andres/Temp_active/runs/Classif_all_data/Stage_0/checkpoint/epoch19.ckpt-19\n",
      "\u001b[2m\u001b[36m(pid=30936)\u001b[0m \u001b[6;30;42mTest_Stage_0\u001b[0m Length of the test:  10000\n",
      "\u001b[2m\u001b[36m(pid=30936)\u001b[0m \u001b[6;30;42mTest_Stage_0\u001b[0m Test || Epoch: 19 || Accuracy: 86.00 || \n",
      "\u001b[2m\u001b[36m(pid=30936)\u001b[0m \u001b[6;30;42mTest_Stage_0\u001b[0m Restoring from /mnt/Ressources/Andres/Temp_active/runs/Classif_all_data/Stage_0/checkpoint/epoch20.ckpt-20\n"
     ]
    },
    {
     "name": "stderr",
     "output_type": "stream",
     "text": [
      "\u001b[2m\u001b[36m(pid=30936)\u001b[0m 2020-12-06 19:51:57,959\tINFO (unknown file):0 -- gc.collect() freed 1404 refs in 0.18128453998360783 seconds\n"
     ]
    },
    {
     "name": "stdout",
     "output_type": "stream",
     "text": [
      "\u001b[2m\u001b[36m(pid=30936)\u001b[0m \u001b[6;30;42mTest_Stage_0\u001b[0m Length of the test:  10000\n",
      "\u001b[2m\u001b[36m(pid=30936)\u001b[0m \u001b[6;30;42mTest_Stage_0\u001b[0m Test || Epoch: 20 || Accuracy: 88.00 || \n",
      "\u001b[2m\u001b[36m(pid=30936)\u001b[0m \u001b[6;30;42mTest_Stage_0\u001b[0m Restoring from /mnt/Ressources/Andres/Temp_active/runs/Classif_all_data/Stage_0/checkpoint/epoch21.ckpt-21\n",
      "\u001b[2m\u001b[36m(pid=30936)\u001b[0m \u001b[6;30;42mTest_Stage_0\u001b[0m Length of the test:  10000\n",
      "\u001b[2m\u001b[36m(pid=30936)\u001b[0m \u001b[6;30;42mTest_Stage_0\u001b[0m Test || Epoch: 21 || Accuracy: 87.49 || \n",
      "\u001b[2m\u001b[36m(pid=30936)\u001b[0m \u001b[6;30;42mTest_Stage_0\u001b[0m Restoring from /mnt/Ressources/Andres/Temp_active/runs/Classif_all_data/Stage_0/checkpoint/epoch22.ckpt-22\n",
      "\u001b[2m\u001b[36m(pid=30936)\u001b[0m \u001b[6;30;42mTest_Stage_0\u001b[0m Length of the test:  10000\n",
      "\u001b[2m\u001b[36m(pid=30936)\u001b[0m \u001b[6;30;42mTest_Stage_0\u001b[0m Test || Epoch: 22 || Accuracy: 87.85 || \n",
      "\u001b[2m\u001b[36m(pid=30936)\u001b[0m \u001b[6;30;42mTest_Stage_0\u001b[0m Restoring from /mnt/Ressources/Andres/Temp_active/runs/Classif_all_data/Stage_0/checkpoint/epoch23.ckpt-23\n",
      "\u001b[2m\u001b[36m(pid=30936)\u001b[0m \u001b[6;30;42mTest_Stage_0\u001b[0m Length of the test:  10000\n",
      "\u001b[2m\u001b[36m(pid=30936)\u001b[0m \u001b[6;30;42mTest_Stage_0\u001b[0m \n",
      "\u001b[2m\u001b[36m(pid=30936)\u001b[0m Test || Epoch: 23 || Accuracy: 87.33 || \n",
      "\u001b[2m\u001b[36m(pid=30936)\u001b[0m \u001b[6;30;42mTest_Stage_0\u001b[0m Restoring from /mnt/Ressources/Andres/Temp_active/runs/Classif_all_data/Stage_0/checkpoint/epoch24.ckpt-24\n",
      "\u001b[2m\u001b[36m(pid=30936)\u001b[0m \u001b[6;30;42mTest_Stage_0\u001b[0m Length of the test:  10000\n",
      "\u001b[2m\u001b[36m(pid=30936)\u001b[0m \u001b[6;30;42mTest_Stage_0\u001b[0m Test || Epoch: 24 || Accuracy: 89.21 || \n",
      "\u001b[2m\u001b[36m(pid=30936)\u001b[0m \u001b[6;30;42mTest_Stage_0\u001b[0m Restoring from /mnt/Ressources/Andres/Temp_active/runs/Classif_all_data/Stage_0/checkpoint/epoch25.ckpt-25\n"
     ]
    },
    {
     "name": "stderr",
     "output_type": "stream",
     "text": [
      "\u001b[2m\u001b[36m(pid=30936)\u001b[0m 2020-12-06 19:52:08,006\tINFO (unknown file):0 -- gc.collect() freed 2344 refs in 0.17592123500071466 seconds\n"
     ]
    },
    {
     "name": "stdout",
     "output_type": "stream",
     "text": [
      "\u001b[2m\u001b[36m(pid=30936)\u001b[0m \u001b[6;30;42mTest_Stage_0\u001b[0m Length of the test:  10000\n",
      "\u001b[2m\u001b[36m(pid=30936)\u001b[0m \u001b[6;30;42mTest_Stage_0\u001b[0m Test || Epoch: 25 || Accuracy: 91.81 || \n",
      "\u001b[2m\u001b[36m(pid=30936)\u001b[0m \u001b[6;30;42mTest_Stage_0\u001b[0m Restoring from /mnt/Ressources/Andres/Temp_active/runs/Classif_all_data/Stage_0/checkpoint/epoch26.ckpt-26\n",
      "\u001b[2m\u001b[36m(pid=30936)\u001b[0m \u001b[6;30;42mTest_Stage_0\u001b[0m Length of the test:  10000\n",
      "\u001b[2m\u001b[36m(pid=30936)\u001b[0m \u001b[6;30;42mTest_Stage_0\u001b[0m Test || Epoch: 26 || Accuracy: 92.17 || \n",
      "\u001b[2m\u001b[36m(pid=30936)\u001b[0m \u001b[6;30;42mTest_Stage_0\u001b[0m Restoring from /mnt/Ressources/Andres/Temp_active/runs/Classif_all_data/Stage_0/checkpoint/epoch27.ckpt-27\n",
      "\u001b[2m\u001b[36m(pid=30936)\u001b[0m \u001b[6;30;42mTest_Stage_0\u001b[0m Length of the test:  10000\n",
      "\u001b[2m\u001b[36m(pid=30936)\u001b[0m \u001b[6;30;42mTest_Stage_0\u001b[0m Test || Epoch: 27 || Accuracy: 92.08 || \n",
      "\u001b[2m\u001b[36m(pid=30936)\u001b[0m \u001b[6;30;42mTest_Stage_0\u001b[0m Restoring from /mnt/Ressources/Andres/Temp_active/runs/Classif_all_data/Stage_0/checkpoint/epoch28.ckpt-28\n",
      "\u001b[2m\u001b[36m(pid=30936)\u001b[0m \u001b[6;30;42mTest_Stage_0\u001b[0m Length of the test:  10000\n",
      "\u001b[2m\u001b[36m(pid=30936)\u001b[0m \u001b[6;30;42mTest_Stage_0\u001b[0m Test || Epoch: 28 || Accuracy: 92.14 || \n",
      "\u001b[2m\u001b[36m(pid=30936)\u001b[0m \u001b[6;30;42mTest_Stage_0\u001b[0m Restoring from /mnt/Ressources/Andres/Temp_active/runs/Classif_all_data/Stage_0/checkpoint/epoch29.ckpt-29\n",
      "\u001b[2m\u001b[36m(pid=30936)\u001b[0m \u001b[6;30;42mTest_Stage_0\u001b[0m Length of the test:  10000\n",
      "\u001b[2m\u001b[36m(pid=30936)\u001b[0m \u001b[6;30;42mTest_Stage_0\u001b[0m Test || Epoch: 29 || Accuracy: 92.31 || \n",
      "\u001b[2m\u001b[36m(pid=30936)\u001b[0m \u001b[6;30;42mTest_Stage_0\u001b[0m Restoring from /mnt/Ressources/Andres/Temp_active/runs/Classif_all_data/Stage_0/checkpoint/epoch30.ckpt-30\n"
     ]
    },
    {
     "name": "stderr",
     "output_type": "stream",
     "text": [
      "\u001b[2m\u001b[36m(pid=30936)\u001b[0m 2020-12-06 19:52:18,090\tINFO (unknown file):0 -- gc.collect() freed 2344 refs in 0.19978913001250476 seconds\n"
     ]
    },
    {
     "name": "stdout",
     "output_type": "stream",
     "text": [
      "\u001b[2m\u001b[36m(pid=30936)\u001b[0m \u001b[6;30;42mTest_Stage_0\u001b[0m Length of the test:  10000\n",
      "\u001b[2m\u001b[36m(pid=30936)\u001b[0m \u001b[6;30;42mTest_Stage_0\u001b[0m Test || Epoch: 30 || Accuracy: 92.24 || \n",
      "\u001b[2m\u001b[36m(pid=30936)\u001b[0m \u001b[6;30;42mTest_Stage_0\u001b[0m Restoring from /mnt/Ressources/Andres/Temp_active/runs/Classif_all_data/Stage_0/checkpoint/epoch31.ckpt-31\n",
      "\u001b[2m\u001b[36m(pid=30936)\u001b[0m \u001b[6;30;42mTest_Stage_0\u001b[0m Length of the test:  10000\n",
      "\u001b[2m\u001b[36m(pid=30936)\u001b[0m \u001b[6;30;42mTest_Stage_0\u001b[0m Test || Epoch: 31 || Accuracy: 92.42 || \n",
      "\u001b[2m\u001b[36m(pid=30936)\u001b[0m \u001b[6;30;42mTest_Stage_0\u001b[0m Restoring from /mnt/Ressources/Andres/Temp_active/runs/Classif_all_data/Stage_0/checkpoint/epoch32.ckpt-32\n",
      "\u001b[2m\u001b[36m(pid=30936)\u001b[0m \u001b[6;30;42mTest_Stage_0\u001b[0m Length of the test:  10000\n",
      "\u001b[2m\u001b[36m(pid=30936)\u001b[0m \u001b[6;30;42mTest_Stage_0\u001b[0m Test || Epoch: 32 || Accuracy: 92.22 || \n",
      "\u001b[2m\u001b[36m(pid=30936)\u001b[0m \u001b[6;30;42mTest_Stage_0\u001b[0m Restoring from /mnt/Ressources/Andres/Temp_active/runs/Classif_all_data/Stage_0/checkpoint/epoch33.ckpt-33\n",
      "\u001b[2m\u001b[36m(pid=30936)\u001b[0m \u001b[6;30;42mTest_Stage_0\u001b[0m Length of the test:  10000\n",
      "\u001b[2m\u001b[36m(pid=30936)\u001b[0m \u001b[6;30;42mTest_Stage_0\u001b[0m Test || Epoch: 33 || Accuracy: 92.23 || \n",
      "\u001b[2m\u001b[36m(pid=30936)\u001b[0m \u001b[6;30;42mTest_Stage_0\u001b[0m Restoring from /mnt/Ressources/Andres/Temp_active/runs/Classif_all_data/Stage_0/checkpoint/epoch34.ckpt-34\n",
      "\u001b[2m\u001b[36m(pid=30936)\u001b[0m \u001b[6;30;42mTest_Stage_0\u001b[0m Length of the test:  10000\n",
      "\u001b[2m\u001b[36m(pid=30936)\u001b[0m \u001b[6;30;42mTest_Stage_0\u001b[0m Test || Epoch: 34 || Accuracy: 92.44 || \n",
      "\u001b[2m\u001b[36m(pid=30936)\u001b[0m \u001b[6;30;42mTest_Stage_0\u001b[0m Restoring from /mnt/Ressources/Andres/Temp_active/runs/Classif_all_data/Stage_0/checkpoint/epoch35.ckpt-35\n"
     ]
    },
    {
     "name": "stderr",
     "output_type": "stream",
     "text": [
      "\u001b[2m\u001b[36m(pid=30936)\u001b[0m 2020-12-06 19:52:28,033\tINFO (unknown file):0 -- gc.collect() freed 2344 refs in 0.1870054310420528 seconds\n"
     ]
    },
    {
     "name": "stdout",
     "output_type": "stream",
     "text": [
      "\u001b[2m\u001b[36m(pid=30936)\u001b[0m \u001b[6;30;42mTest_Stage_0\u001b[0m Length of the test:  10000\n",
      "\u001b[2m\u001b[36m(pid=30936)\u001b[0m \u001b[6;30;42mTest_Stage_0\u001b[0m Test || Epoch: 35 || Accuracy: 92.54 || \n",
      "\u001b[2m\u001b[36m(pid=30936)\u001b[0m \u001b[6;30;42mTest_Stage_0\u001b[0m Restoring from /mnt/Ressources/Andres/Temp_active/runs/Classif_all_data/Stage_0/checkpoint/epoch36.ckpt-36\n",
      "\u001b[2m\u001b[36m(pid=30936)\u001b[0m \u001b[6;30;42mTest_Stage_0\u001b[0m Length of the test:  10000\n",
      "\u001b[2m\u001b[36m(pid=30936)\u001b[0m \u001b[6;30;42mTest_Stage_0\u001b[0m Test || Epoch: 36 || Accuracy: 92.45 || \n",
      "\u001b[2m\u001b[36m(pid=30936)\u001b[0m \u001b[6;30;42mTest_Stage_0\u001b[0m Restoring from /mnt/Ressources/Andres/Temp_active/runs/Classif_all_data/Stage_0/checkpoint/epoch37.ckpt-37\n",
      "\u001b[2m\u001b[36m(pid=30936)\u001b[0m \u001b[6;30;42mTest_Stage_0\u001b[0m Length of the test:  10000\n",
      "\u001b[2m\u001b[36m(pid=30936)\u001b[0m \u001b[6;30;42mTest_Stage_0\u001b[0m Test || Epoch: 37 || Accuracy: 92.57 || \n",
      "\u001b[2m\u001b[36m(pid=30936)\u001b[0m \u001b[6;30;42mTest_Stage_0\u001b[0m Restoring from /mnt/Ressources/Andres/Temp_active/runs/Classif_all_data/Stage_0/checkpoint/epoch38.ckpt-38\n",
      "\u001b[2m\u001b[36m(pid=30936)\u001b[0m \u001b[6;30;42mTest_Stage_0\u001b[0m Length of the test:  10000\n",
      "\u001b[2m\u001b[36m(pid=30936)\u001b[0m \u001b[6;30;42mTest_Stage_0\u001b[0m Test || Epoch: 38 || Accuracy: 92.61 || \n",
      "\u001b[2m\u001b[36m(pid=30936)\u001b[0m \u001b[6;30;42mTest_Stage_0\u001b[0m Restoring from /mnt/Ressources/Andres/Temp_active/runs/Classif_all_data/Stage_0/checkpoint/epoch39.ckpt-39\n",
      "\u001b[2m\u001b[36m(pid=30936)\u001b[0m \u001b[6;30;42mTest_Stage_0\u001b[0m Length of the test:  10000\n",
      "\u001b[2m\u001b[36m(pid=30936)\u001b[0m \u001b[6;30;42mTest_Stage_0\u001b[0m Test || Epoch: 39 || Accuracy: 92.69 || \n",
      "\u001b[2m\u001b[36m(pid=30936)\u001b[0m \u001b[6;30;42mTest_Stage_0\u001b[0m Restoring from /mnt/Ressources/Andres/Temp_active/runs/Classif_all_data/Stage_0/checkpoint/epoch40.ckpt-40\n"
     ]
    },
    {
     "name": "stderr",
     "output_type": "stream",
     "text": [
      "\u001b[2m\u001b[36m(pid=30936)\u001b[0m 2020-12-06 19:52:38,174\tINFO (unknown file):0 -- gc.collect() freed 2344 refs in 0.16965565597638488 seconds\n"
     ]
    },
    {
     "name": "stdout",
     "output_type": "stream",
     "text": [
      "\u001b[2m\u001b[36m(pid=30936)\u001b[0m \u001b[6;30;42mTest_Stage_0\u001b[0m Length of the test:  10000\n",
      "\u001b[2m\u001b[36m(pid=30936)\u001b[0m \u001b[6;30;42mTest_Stage_0\u001b[0m Test || Epoch: 40 || Accuracy: 92.58 || \n",
      "\u001b[2m\u001b[36m(pid=30936)\u001b[0m \u001b[6;30;42mTest_Stage_0\u001b[0m Restoring from /mnt/Ressources/Andres/Temp_active/runs/Classif_all_data/Stage_0/checkpoint/epoch41.ckpt-41\n",
      "\u001b[2m\u001b[36m(pid=30936)\u001b[0m \u001b[6;30;42mTest_Stage_0\u001b[0m Length of the test:  10000\n",
      "\u001b[2m\u001b[36m(pid=30936)\u001b[0m \u001b[6;30;42mTest_Stage_0\u001b[0m Test || Epoch: 41 || Accuracy: 92.63 || \n",
      "\u001b[2m\u001b[36m(pid=30936)\u001b[0m \u001b[6;30;42mTest_Stage_0\u001b[0m Restoring from /mnt/Ressources/Andres/Temp_active/runs/Classif_all_data/Stage_0/checkpoint/epoch42.ckpt-42\n",
      "\u001b[2m\u001b[36m(pid=30936)\u001b[0m \u001b[6;30;42mTest_Stage_0\u001b[0m Length of the test:  10000\n",
      "\u001b[2m\u001b[36m(pid=30936)\u001b[0m \u001b[6;30;42mTest_Stage_0\u001b[0m Test || Epoch: 42 || Accuracy: 92.62 || \n",
      "\u001b[2m\u001b[36m(pid=30936)\u001b[0m \u001b[6;30;42mTest_Stage_0\u001b[0m Restoring from /mnt/Ressources/Andres/Temp_active/runs/Classif_all_data/Stage_0/checkpoint/epoch43.ckpt-43\n",
      "\u001b[2m\u001b[36m(pid=30936)\u001b[0m \u001b[6;30;42mTest_Stage_0\u001b[0m Length of the test:  10000\n",
      "\u001b[2m\u001b[36m(pid=30936)\u001b[0m \u001b[6;30;42mTest_Stage_0\u001b[0m Test || Epoch: 43 || Accuracy: 92.62 || \n",
      "\u001b[2m\u001b[36m(pid=30936)\u001b[0m \u001b[6;30;42mTest_Stage_0\u001b[0m Restoring from /mnt/Ressources/Andres/Temp_active/runs/Classif_all_data/Stage_0/checkpoint/epoch44.ckpt-44\n",
      "\u001b[2m\u001b[36m(pid=30936)\u001b[0m \u001b[6;30;42mTest_Stage_0\u001b[0m Length of the test:  10000\n",
      "\u001b[2m\u001b[36m(pid=30936)\u001b[0m \u001b[6;30;42mTest_Stage_0\u001b[0m Test || Epoch: 44 || Accuracy: 92.71 || \n",
      "\u001b[2m\u001b[36m(pid=30936)\u001b[0m \u001b[6;30;42mTest_Stage_0\u001b[0m Restoring from /mnt/Ressources/Andres/Temp_active/runs/Classif_all_data/Stage_0/checkpoint/epoch45.ckpt-45\n",
      "\u001b[2m\u001b[36m(pid=30936)\u001b[0m \u001b[6;30;42mTest_Stage_0\u001b[0m Length of the test:  10000\n",
      "\u001b[2m\u001b[36m(pid=30936)\u001b[0m \u001b[6;30;42mTest_Stage_0\u001b[0m Test || Epoch: 45 || Accuracy: 92.78 || \n",
      "\u001b[2m\u001b[36m(pid=30936)\u001b[0m \u001b[6;30;42mTest_Stage_0\u001b[0m Restoring from /mnt/Ressources/Andres/Temp_active/runs/Classif_all_data/Stage_0/checkpoint/epoch46.ckpt-46\n"
     ]
    },
    {
     "name": "stderr",
     "output_type": "stream",
     "text": [
      "\u001b[2m\u001b[36m(pid=30936)\u001b[0m 2020-12-06 19:52:48,232\tINFO (unknown file):0 -- gc.collect() freed 2814 refs in 0.17209687700960785 seconds\n"
     ]
    },
    {
     "name": "stdout",
     "output_type": "stream",
     "text": [
      "\u001b[2m\u001b[36m(pid=30936)\u001b[0m \u001b[6;30;42mTest_Stage_0\u001b[0m Length of the test:  10000\n",
      "\u001b[2m\u001b[36m(pid=30936)\u001b[0m \u001b[6;30;42mTest_Stage_0\u001b[0m Test || Epoch: 46 || Accuracy: 92.74 || \n",
      "\u001b[2m\u001b[36m(pid=30936)\u001b[0m \u001b[6;30;42mTest_Stage_0\u001b[0m Restoring from /mnt/Ressources/Andres/Temp_active/runs/Classif_all_data/Stage_0/checkpoint/epoch47.ckpt-47\n",
      "\u001b[2m\u001b[36m(pid=30936)\u001b[0m \u001b[6;30;42mTest_Stage_0\u001b[0m Length of the test:  10000\n",
      "\u001b[2m\u001b[36m(pid=30936)\u001b[0m \u001b[6;30;42mTest_Stage_0\u001b[0m Test || Epoch: 47 || Accuracy: 92.64 || \n",
      "\u001b[2m\u001b[36m(pid=30936)\u001b[0m \u001b[6;30;42mTest_Stage_0\u001b[0m Restoring from /mnt/Ressources/Andres/Temp_active/runs/Classif_all_data/Stage_0/checkpoint/epoch48.ckpt-48\n",
      "\u001b[2m\u001b[36m(pid=30936)\u001b[0m \u001b[6;30;42mTest_Stage_0\u001b[0m Length of the test:  10000\n",
      "\u001b[2m\u001b[36m(pid=30936)\u001b[0m \u001b[6;30;42mTest_Stage_0\u001b[0m Test || Epoch: 48 || Accuracy: 92.64 || \n",
      "\u001b[2m\u001b[36m(pid=30936)\u001b[0m \u001b[6;30;42mTest_Stage_0\u001b[0m Restoring from /mnt/Ressources/Andres/Temp_active/runs/Classif_all_data/Stage_0/checkpoint/epoch49.ckpt-49\n",
      "\u001b[2m\u001b[36m(pid=30936)\u001b[0m \u001b[6;30;42mTest_Stage_0\u001b[0m Length of the test:  10000\n",
      "\u001b[2m\u001b[36m(pid=30936)\u001b[0m \u001b[6;30;42mTest_Stage_0\u001b[0m Test || Epoch: 49 || Accuracy: 92.75 || \n",
      "\u001b[2m\u001b[36m(pid=30936)\u001b[0m \u001b[6;30;42mTest_Stage_0\u001b[0m Restoring from /mnt/Ressources/Andres/Temp_active/runs/Classif_all_data/Stage_0/checkpoint/epoch50.ckpt-50\n",
      "\u001b[2m\u001b[36m(pid=30936)\u001b[0m \u001b[6;30;42mTest_Stage_0\u001b[0m Length of the test:  10000\n",
      "\u001b[2m\u001b[36m(pid=30936)\u001b[0m \u001b[6;30;42mTest_Stage_0\u001b[0m Test || Epoch: 50 || Accuracy: 92.52 || \n"
     ]
    },
    {
     "name": "stderr",
     "output_type": "stream",
     "text": [
      "\u001b[2m\u001b[36m(pid=30936)\u001b[0m \n",
      "\u001b[2m\u001b[36m(pid=30936)\u001b[0m wandb: Waiting for W&B process to finish, PID 31703\n",
      "\u001b[2m\u001b[36m(pid=30936)\u001b[0m wandb: Program ended successfully.\n",
      "\u001b[2m\u001b[36m(pid=30936)\u001b[0m 2020-12-06 19:52:58,193\tINFO (unknown file):0 -- gc.collect() freed 2410 refs in 0.17630663805175573 seconds\n",
      "\u001b[2m\u001b[36m(pid=30936)\u001b[0m wandb: Run summary:\n",
      "\u001b[2m\u001b[36m(pid=30936)\u001b[0m wandb:                                  _runtime 89.19425129890442\n",
      "\u001b[2m\u001b[36m(pid=30936)\u001b[0m wandb:                                     _step 50\n",
      "\u001b[2m\u001b[36m(pid=30936)\u001b[0m wandb:             Test: Classification Accuracy 0.9252\n",
      "\u001b[2m\u001b[36m(pid=30936)\u001b[0m wandb:                Area Under the Curve (AUC) 0.8746549380275633\n",
      "\u001b[2m\u001b[36m(pid=30936)\u001b[0m wandb:                                  F1 score 0.9251102307104562\n",
      "\u001b[2m\u001b[36m(pid=30936)\u001b[0m wandb:                       Mean absolute error 1.8281238079071045\n",
      "\u001b[2m\u001b[36m(pid=30936)\u001b[0m wandb:                        Explained variance -1.0009875297546387\n",
      "\u001b[2m\u001b[36m(pid=30936)\u001b[0m wandb:                                _timestamp 1607280775.9952326\n",
      "\u001b[2m\u001b[36m(pid=30936)\u001b[0m wandb:                        Mean squared error 7.580774307250977\n",
      "\u001b[2m\u001b[36m(pid=30936)\u001b[0m wandb: Syncing files in ../../../Trainings/wandb/wandb/run-20201206_185127-32ilbigi:\n",
      "\u001b[2m\u001b[36m(pid=30936)\u001b[0m wandb:   code/default_worker.py\n",
      "\u001b[2m\u001b[36m(pid=30936)\u001b[0m wandb: plus 8 W&B file(s) and 80 media file(s)\n",
      "\u001b[2m\u001b[36m(pid=30936)\u001b[0m wandb: - 1.71MB of 1.71MB uploaded\n",
      "\u001b[2m\u001b[36m(pid=30936)\u001b[0m wandb: \\ 1.71MB of 1.71MB uploaded\n",
      "\u001b[2m\u001b[36m(pid=30936)\u001b[0m wandb: | 1.71MB of 1.71MB uploaded\n",
      "\u001b[2m\u001b[36m(pid=30936)\u001b[0m wandb: / 1.71MB of 1.71MB uploaded\n",
      "\u001b[2m\u001b[36m(pid=30936)\u001b[0m wandb: - 1.71MB of 1.71MB uploaded\n",
      "wandb:                                                                                \n",
      "\u001b[2m\u001b[36m(pid=30936)\u001b[0m wandb: Synced Test_0: http://192.168.8.51:8080/reminiz/Active_Learning_CIFAR/runs/32ilbigi\n",
      "\u001b[2m\u001b[36m(pid=30936)\u001b[0m 2020-12-06 19:53:08,339\tINFO (unknown file):0 -- gc.collect() freed 464 refs in 0.1672554169781506 seconds\n",
      "\u001b[2m\u001b[36m(pid=22622, ip=192.168.8.52)\u001b[0m 2020-12-06 19:58:31.372868: W tensorflow/core/framework/op_kernel.cc:1389] Unknown: IndexError: index 66 is out of bounds for axis 1 with size 52\n",
      "\u001b[2m\u001b[36m(pid=22622, ip=192.168.8.52)\u001b[0m Traceback (most recent call last):\n",
      "\u001b[2m\u001b[36m(pid=22622, ip=192.168.8.52)\u001b[0m \n",
      "\u001b[2m\u001b[36m(pid=22622, ip=192.168.8.52)\u001b[0m   File \"/home/reminiz/ReminizML2/python_env/lib/python3.7/site-packages/tensorflow/python/ops/script_ops.py\", line 207, in __call__\n",
      "\u001b[2m\u001b[36m(pid=22622, ip=192.168.8.52)\u001b[0m     ret = func(*args)\n",
      "\u001b[2m\u001b[36m(pid=22622, ip=192.168.8.52)\u001b[0m \n",
      "\u001b[2m\u001b[36m(pid=22622, ip=192.168.8.52)\u001b[0m   File \"/mnt/Ressources/Quentin/Detection/core/dataset.py\", line 91, in get_image_bbox\n",
      "\u001b[2m\u001b[36m(pid=22622, ip=192.168.8.52)\u001b[0m     label_sbbox, label_mbbox, label_lbbox, sbboxes, mbboxes, lbboxes = self.preprocess_true_boxes(bboxes)\n",
      "\u001b[2m\u001b[36m(pid=22622, ip=192.168.8.52)\u001b[0m \n",
      "\u001b[2m\u001b[36m(pid=22622, ip=192.168.8.52)\u001b[0m   File \"/mnt/Ressources/Quentin/Detection/core/dataset.py\", line 370, in preprocess_true_boxes\n",
      "\u001b[2m\u001b[36m(pid=22622, ip=192.168.8.52)\u001b[0m     label[best_detect][yind, xind, best_anchor, :] = 0\n",
      "\u001b[2m\u001b[36m(pid=22622, ip=192.168.8.52)\u001b[0m \n",
      "\u001b[2m\u001b[36m(pid=22622, ip=192.168.8.52)\u001b[0m IndexError: index 66 is out of bounds for axis 1 with size 52\n",
      "\u001b[2m\u001b[36m(pid=22622, ip=192.168.8.52)\u001b[0m \n",
      "\u001b[2m\u001b[36m(pid=22622, ip=192.168.8.52)\u001b[0m \n",
      "\u001b[2m\u001b[36m(pid=31016, ip=192.168.8.52)\u001b[0m /home/reminiz/ReminizML2/python_env/lib/python3.7/site-packages/tensorflow/python/framework/dtypes.py:526: FutureWarning: Passing (type, 1) or '1type' as a synonym of type is deprecated; in a future version of numpy, it will be understood as (type, (1,)) / '(1,)type'.\n",
      "\u001b[2m\u001b[36m(pid=31016, ip=192.168.8.52)\u001b[0m   _np_qint8 = np.dtype([(\"qint8\", np.int8, 1)])\n",
      "\u001b[2m\u001b[36m(pid=31016, ip=192.168.8.52)\u001b[0m /home/reminiz/ReminizML2/python_env/lib/python3.7/site-packages/tensorflow/python/framework/dtypes.py:527: FutureWarning: Passing (type, 1) or '1type' as a synonym of type is deprecated; in a future version of numpy, it will be understood as (type, (1,)) / '(1,)type'.\n",
      "\u001b[2m\u001b[36m(pid=31016, ip=192.168.8.52)\u001b[0m   _np_quint8 = np.dtype([(\"quint8\", np.uint8, 1)])\n",
      "\u001b[2m\u001b[36m(pid=31016, ip=192.168.8.52)\u001b[0m /home/reminiz/ReminizML2/python_env/lib/python3.7/site-packages/tensorflow/python/framework/dtypes.py:528: FutureWarning: Passing (type, 1) or '1type' as a synonym of type is deprecated; in a future version of numpy, it will be understood as (type, (1,)) / '(1,)type'.\n",
      "\u001b[2m\u001b[36m(pid=31016, ip=192.168.8.52)\u001b[0m   _np_qint16 = np.dtype([(\"qint16\", np.int16, 1)])\n",
      "\u001b[2m\u001b[36m(pid=31016, ip=192.168.8.52)\u001b[0m /home/reminiz/ReminizML2/python_env/lib/python3.7/site-packages/tensorflow/python/framework/dtypes.py:529: FutureWarning: Passing (type, 1) or '1type' as a synonym of type is deprecated; in a future version of numpy, it will be understood as (type, (1,)) / '(1,)type'.\n",
      "\u001b[2m\u001b[36m(pid=31016, ip=192.168.8.52)\u001b[0m   _np_quint16 = np.dtype([(\"quint16\", np.uint16, 1)])\n",
      "\u001b[2m\u001b[36m(pid=31016, ip=192.168.8.52)\u001b[0m /home/reminiz/ReminizML2/python_env/lib/python3.7/site-packages/tensorflow/python/framework/dtypes.py:530: FutureWarning: Passing (type, 1) or '1type' as a synonym of type is deprecated; in a future version of numpy, it will be understood as (type, (1,)) / '(1,)type'.\n",
      "\u001b[2m\u001b[36m(pid=31016, ip=192.168.8.52)\u001b[0m   _np_qint32 = np.dtype([(\"qint32\", np.int32, 1)])\n",
      "\u001b[2m\u001b[36m(pid=31016, ip=192.168.8.52)\u001b[0m /home/reminiz/ReminizML2/python_env/lib/python3.7/site-packages/tensorflow/python/framework/dtypes.py:535: FutureWarning: Passing (type, 1) or '1type' as a synonym of type is deprecated; in a future version of numpy, it will be understood as (type, (1,)) / '(1,)type'.\n",
      "\u001b[2m\u001b[36m(pid=31016, ip=192.168.8.52)\u001b[0m   np_resource = np.dtype([(\"resource\", np.ubyte, 1)])\n",
      "\u001b[2m\u001b[36m(pid=3590)\u001b[0m /home/reminiz/ReminizML2/python_env/lib/python3.7/site-packages/tensorflow/python/framework/dtypes.py:526: FutureWarning: Passing (type, 1) or '1type' as a synonym of type is deprecated; in a future version of numpy, it will be understood as (type, (1,)) / '(1,)type'.\n",
      "\u001b[2m\u001b[36m(pid=3590)\u001b[0m   _np_qint8 = np.dtype([(\"qint8\", np.int8, 1)])\n",
      "\u001b[2m\u001b[36m(pid=3590)\u001b[0m /home/reminiz/ReminizML2/python_env/lib/python3.7/site-packages/tensorflow/python/framework/dtypes.py:527: FutureWarning: Passing (type, 1) or '1type' as a synonym of type is deprecated; in a future version of numpy, it will be understood as (type, (1,)) / '(1,)type'.\n",
      "\u001b[2m\u001b[36m(pid=3590)\u001b[0m   _np_quint8 = np.dtype([(\"quint8\", np.uint8, 1)])\n",
      "\u001b[2m\u001b[36m(pid=3590)\u001b[0m /home/reminiz/ReminizML2/python_env/lib/python3.7/site-packages/tensorflow/python/framework/dtypes.py:528: FutureWarning: Passing (type, 1) or '1type' as a synonym of type is deprecated; in a future version of numpy, it will be understood as (type, (1,)) / '(1,)type'.\n",
      "\u001b[2m\u001b[36m(pid=3590)\u001b[0m   _np_qint16 = np.dtype([(\"qint16\", np.int16, 1)])\n",
      "\u001b[2m\u001b[36m(pid=3590)\u001b[0m /home/reminiz/ReminizML2/python_env/lib/python3.7/site-packages/tensorflow/python/framework/dtypes.py:529: FutureWarning: Passing (type, 1) or '1type' as a synonym of type is deprecated; in a future version of numpy, it will be understood as (type, (1,)) / '(1,)type'.\n",
      "\u001b[2m\u001b[36m(pid=3590)\u001b[0m   _np_quint16 = np.dtype([(\"quint16\", np.uint16, 1)])\n",
      "\u001b[2m\u001b[36m(pid=3590)\u001b[0m /home/reminiz/ReminizML2/python_env/lib/python3.7/site-packages/tensorflow/python/framework/dtypes.py:530: FutureWarning: Passing (type, 1) or '1type' as a synonym of type is deprecated; in a future version of numpy, it will be understood as (type, (1,)) / '(1,)type'.\n",
      "\u001b[2m\u001b[36m(pid=3590)\u001b[0m   _np_qint32 = np.dtype([(\"qint32\", np.int32, 1)])\n",
      "\u001b[2m\u001b[36m(pid=3590)\u001b[0m /home/reminiz/ReminizML2/python_env/lib/python3.7/site-packages/tensorflow/python/framework/dtypes.py:535: FutureWarning: Passing (type, 1) or '1type' as a synonym of type is deprecated; in a future version of numpy, it will be understood as (type, (1,)) / '(1,)type'.\n",
      "\u001b[2m\u001b[36m(pid=3590)\u001b[0m   np_resource = np.dtype([(\"resource\", np.ubyte, 1)])\n",
      "\u001b[2m\u001b[36m(pid=3590)\u001b[0m /home/reminiz/ReminizML2/python_env/lib/python3.7/site-packages/tensorboard/compat/tensorflow_stub/dtypes.py:541: FutureWarning: Passing (type, 1) or '1type' as a synonym of type is deprecated; in a future version of numpy, it will be understood as (type, (1,)) / '(1,)type'.\n",
      "\u001b[2m\u001b[36m(pid=3590)\u001b[0m   _np_qint8 = np.dtype([(\"qint8\", np.int8, 1)])\n",
      "\u001b[2m\u001b[36m(pid=3590)\u001b[0m /home/reminiz/ReminizML2/python_env/lib/python3.7/site-packages/tensorboard/compat/tensorflow_stub/dtypes.py:542: FutureWarning: Passing (type, 1) or '1type' as a synonym of type is deprecated; in a future version of numpy, it will be understood as (type, (1,)) / '(1,)type'.\n",
      "\u001b[2m\u001b[36m(pid=3590)\u001b[0m   _np_quint8 = np.dtype([(\"quint8\", np.uint8, 1)])\n",
      "\u001b[2m\u001b[36m(pid=3590)\u001b[0m /home/reminiz/ReminizML2/python_env/lib/python3.7/site-packages/tensorboard/compat/tensorflow_stub/dtypes.py:543: FutureWarning: Passing (type, 1) or '1type' as a synonym of type is deprecated; in a future version of numpy, it will be understood as (type, (1,)) / '(1,)type'.\n",
      "\u001b[2m\u001b[36m(pid=3590)\u001b[0m   _np_qint16 = np.dtype([(\"qint16\", np.int16, 1)])\n",
      "\u001b[2m\u001b[36m(pid=3590)\u001b[0m /home/reminiz/ReminizML2/python_env/lib/python3.7/site-packages/tensorboard/compat/tensorflow_stub/dtypes.py:544: FutureWarning: Passing (type, 1) or '1type' as a synonym of type is deprecated; in a future version of numpy, it will be understood as (type, (1,)) / '(1,)type'.\n",
      "\u001b[2m\u001b[36m(pid=3590)\u001b[0m   _np_quint16 = np.dtype([(\"quint16\", np.uint16, 1)])\n",
      "\u001b[2m\u001b[36m(pid=3590)\u001b[0m /home/reminiz/ReminizML2/python_env/lib/python3.7/site-packages/tensorboard/compat/tensorflow_stub/dtypes.py:545: FutureWarning: Passing (type, 1) or '1type' as a synonym of type is deprecated; in a future version of numpy, it will be understood as (type, (1,)) / '(1,)type'.\n",
      "\u001b[2m\u001b[36m(pid=3590)\u001b[0m   _np_qint32 = np.dtype([(\"qint32\", np.int32, 1)])\n",
      "\u001b[2m\u001b[36m(pid=3590)\u001b[0m /home/reminiz/ReminizML2/python_env/lib/python3.7/site-packages/tensorboard/compat/tensorflow_stub/dtypes.py:550: FutureWarning: Passing (type, 1) or '1type' as a synonym of type is deprecated; in a future version of numpy, it will be understood as (type, (1,)) / '(1,)type'.\n",
      "\u001b[2m\u001b[36m(pid=3590)\u001b[0m   np_resource = np.dtype([(\"resource\", np.ubyte, 1)])\n",
      "\u001b[2m\u001b[36m(pid=3590)\u001b[0m wandb: Tracking run with wandb version 0.8.36\n",
      "\u001b[2m\u001b[36m(pid=3590)\u001b[0m wandb: Wandb version 0.10.12 is available!  To upgrade, please run:\n",
      "\u001b[2m\u001b[36m(pid=3590)\u001b[0m wandb:  $ pip install wandb --upgrade\n",
      "\u001b[2m\u001b[36m(pid=3590)\u001b[0m wandb: Run data is saved locally in ../../../Trainings/wandb/wandb/run-20201206_191021-19mwfyh3\n",
      "\u001b[2m\u001b[36m(pid=3590)\u001b[0m wandb: Syncing run Train_0\n",
      "\u001b[2m\u001b[36m(pid=3590)\u001b[0m wandb: ⭐️ View project at http://192.168.8.51:8080/reminiz/Active_Learning_CIFAR\n",
      "\u001b[2m\u001b[36m(pid=3590)\u001b[0m wandb: 🚀 View run at http://192.168.8.51:8080/reminiz/Active_Learning_CIFAR/runs/19mwfyh3\n",
      "\u001b[2m\u001b[36m(pid=3590)\u001b[0m wandb: Run `wandb off` to turn off syncing.\n",
      "\u001b[2m\u001b[36m(pid=3590)\u001b[0m \n"
     ]
    },
    {
     "name": "stdout",
     "output_type": "stream",
     "text": [
      "\u001b[2m\u001b[36m(pid=3590)\u001b[0m CIFAR10 Training data shape: (50000, 32, 32, 3)\n",
      "\u001b[2m\u001b[36m(pid=3590)\u001b[0m CIFAR10 Training label shape (50000, 1)\n",
      "\u001b[2m\u001b[36m(pid=3590)\u001b[0m CIFAR10 Test data shape (10000, 32, 32, 3)\n",
      "\u001b[2m\u001b[36m(pid=3590)\u001b[0m CIFAR10 Test label shape (10000, 1)\n"
     ]
    },
    {
     "name": "stderr",
     "output_type": "stream",
     "text": [
      "\u001b[2m\u001b[36m(pid=3590)\u001b[0m 2020-12-06 20:10:24,533\tINFO (unknown file):0 -- gc.collect() freed 110 refs in 0.17554669897072017 seconds\n",
      "\u001b[2m\u001b[36m(pid=3590)\u001b[0m WARNING:tensorflow:From /home/reminiz/ReminizML2/python_env/lib/python3.7/site-packages/tensorflow/python/data/ops/dataset_ops.py:429: py_func (from tensorflow.python.ops.script_ops) is deprecated and will be removed in a future version.\n",
      "\u001b[2m\u001b[36m(pid=3590)\u001b[0m Instructions for updating:\n",
      "\u001b[2m\u001b[36m(pid=3590)\u001b[0m tf.py_func is deprecated in TF V2. Instead, use\n",
      "\u001b[2m\u001b[36m(pid=3590)\u001b[0m     tf.py_function, which takes a python function which manipulates tf eager\n",
      "\u001b[2m\u001b[36m(pid=3590)\u001b[0m     tensors instead of numpy arrays. It's easy to convert a tf eager tensor to\n",
      "\u001b[2m\u001b[36m(pid=3590)\u001b[0m     an ndarray (just call tensor.numpy()) but having access to eager tensors\n",
      "\u001b[2m\u001b[36m(pid=3590)\u001b[0m     means `tf.py_function`s can use accelerators such as GPUs as well as\n",
      "\u001b[2m\u001b[36m(pid=3590)\u001b[0m     being differentiable using a gradient tape.\n",
      "\u001b[2m\u001b[36m(pid=3590)\u001b[0m     \n",
      "\u001b[2m\u001b[36m(pid=3590)\u001b[0m WARNING:tensorflow:From /mnt/Ressources/Andres/Temp_active/backbones/resnet18.py:22: conv2d (from tensorflow.python.layers.convolutional) is deprecated and will be removed in a future version.\n",
      "\u001b[2m\u001b[36m(pid=3590)\u001b[0m Instructions for updating:\n",
      "\u001b[2m\u001b[36m(pid=3590)\u001b[0m Use keras.layers.conv2d instead.\n",
      "\u001b[2m\u001b[36m(pid=3590)\u001b[0m WARNING:tensorflow:From /home/reminiz/ReminizML2/python_env/lib/python3.7/site-packages/tensorflow/python/framework/op_def_library.py:263: colocate_with (from tensorflow.python.framework.ops) is deprecated and will be removed in a future version.\n",
      "\u001b[2m\u001b[36m(pid=3590)\u001b[0m Instructions for updating:\n",
      "\u001b[2m\u001b[36m(pid=3590)\u001b[0m Colocations handled automatically by placer.\n",
      "\u001b[2m\u001b[36m(pid=3590)\u001b[0m WARNING:tensorflow:From /mnt/Ressources/Andres/Temp_active/backbones/resnet18.py:58: flatten (from tensorflow.python.layers.core) is deprecated and will be removed in a future version.\n",
      "\u001b[2m\u001b[36m(pid=3590)\u001b[0m Instructions for updating:\n",
      "\u001b[2m\u001b[36m(pid=3590)\u001b[0m Use keras.layers.flatten instead.\n",
      "\u001b[2m\u001b[36m(pid=3590)\u001b[0m WARNING:tensorflow:From /mnt/Ressources/Andres/Temp_active/backbones/resnet18.py:29: dense (from tensorflow.python.layers.core) is deprecated and will be removed in a future version.\n",
      "\u001b[2m\u001b[36m(pid=3590)\u001b[0m Instructions for updating:\n",
      "\u001b[2m\u001b[36m(pid=3590)\u001b[0m Use keras.layers.dense instead.\n",
      "\u001b[2m\u001b[36m(pid=3590)\u001b[0m WARNING:tensorflow:From /home/reminiz/ReminizML2/python_env/lib/python3.7/site-packages/tensorflow/python/ops/math_ops.py:3066: to_int32 (from tensorflow.python.ops.math_ops) is deprecated and will be removed in a future version.\n",
      "\u001b[2m\u001b[36m(pid=3590)\u001b[0m Instructions for updating:\n",
      "\u001b[2m\u001b[36m(pid=3590)\u001b[0m Use tf.cast instead.\n",
      "\u001b[2m\u001b[36m(pid=3590)\u001b[0m 2020-12-06 20:10:33.439350: I tensorflow/core/platform/cpu_feature_guard.cc:141] Your CPU supports instructions that this TensorFlow binary was not compiled to use: AVX2 FMA\n",
      "\u001b[2m\u001b[36m(pid=3590)\u001b[0m 2020-12-06 20:10:33.460942: I tensorflow/core/platform/profile_utils/cpu_utils.cc:94] CPU Frequency: 3300280000 Hz\n",
      "\u001b[2m\u001b[36m(pid=3590)\u001b[0m 2020-12-06 20:10:33.461890: I tensorflow/compiler/xla/service/service.cc:150] XLA service 0xab4afa0 executing computations on platform Host. Devices:\n",
      "\u001b[2m\u001b[36m(pid=3590)\u001b[0m 2020-12-06 20:10:33.461929: I tensorflow/compiler/xla/service/service.cc:158]   StreamExecutor device (0): <undefined>, <undefined>\n",
      "\u001b[2m\u001b[36m(pid=3590)\u001b[0m 2020-12-06 20:10:33.733004: I tensorflow/compiler/xla/service/service.cc:150] XLA service 0xab87240 executing computations on platform CUDA. Devices:\n",
      "\u001b[2m\u001b[36m(pid=3590)\u001b[0m 2020-12-06 20:10:33.733052: I tensorflow/compiler/xla/service/service.cc:158]   StreamExecutor device (0): TITAN RTX, Compute Capability 7.5\n",
      "\u001b[2m\u001b[36m(pid=3590)\u001b[0m 2020-12-06 20:10:33.733269: I tensorflow/core/common_runtime/gpu/gpu_device.cc:1433] Found device 0 with properties: \n",
      "\u001b[2m\u001b[36m(pid=3590)\u001b[0m name: TITAN RTX major: 7 minor: 5 memoryClockRate(GHz): 1.77\n",
      "\u001b[2m\u001b[36m(pid=3590)\u001b[0m pciBusID: 0000:06:00.0\n",
      "\u001b[2m\u001b[36m(pid=3590)\u001b[0m totalMemory: 23.65GiB freeMemory: 23.48GiB\n",
      "\u001b[2m\u001b[36m(pid=3590)\u001b[0m 2020-12-06 20:10:33.733301: I tensorflow/core/common_runtime/gpu/gpu_device.cc:1512] Adding visible gpu devices: 0\n",
      "\u001b[2m\u001b[36m(pid=3590)\u001b[0m 2020-12-06 20:10:33.737466: I tensorflow/core/common_runtime/gpu/gpu_device.cc:984] Device interconnect StreamExecutor with strength 1 edge matrix:\n",
      "\u001b[2m\u001b[36m(pid=3590)\u001b[0m 2020-12-06 20:10:33.737502: I tensorflow/core/common_runtime/gpu/gpu_device.cc:990]      0 \n",
      "\u001b[2m\u001b[36m(pid=3590)\u001b[0m 2020-12-06 20:10:33.737521: I tensorflow/core/common_runtime/gpu/gpu_device.cc:1003] 0:   N \n",
      "\u001b[2m\u001b[36m(pid=3590)\u001b[0m 2020-12-06 20:10:33.737673: I tensorflow/core/common_runtime/gpu/gpu_device.cc:1115] Created TensorFlow device (/job:localhost/replica:0/task:0/device:GPU:0 with 22844 MB memory) -> physical GPU (device: 0, name: TITAN RTX, pci bus id: 0000:06:00.0, compute capability: 7.5)\n",
      "\u001b[2m\u001b[36m(pid=3590)\u001b[0m 2020-12-06 20:10:35,664\tINFO worker.py:634 -- Connecting to existing Ray cluster at address: 192.168.8.51:6379\n",
      "\u001b[2m\u001b[36m(pid=3590)\u001b[0m 2020-12-06 20:10:35,664\tERROR worker.py:643 -- Calling ray.init() again after it has already been called.\n"
     ]
    },
    {
     "name": "stdout",
     "output_type": "stream",
     "text": [
      "\u001b[2m\u001b[36m(pid=3590)\u001b[0m \u001b[6;30;42mTrain_Stage_0\u001b[0m => Starts to train from scratch \n",
      "\u001b[2m\u001b[36m(pid=3590)\u001b[0m \u001b[6;30;42mTrain_Stage_0\u001b[0m self.steps_per_epoch 8\n"
     ]
    },
    {
     "name": "stderr",
     "output_type": "stream",
     "text": [
      "\u001b[2m\u001b[36m(pid=3590)\u001b[0m 2020-12-06 20:10:36.645472: I tensorflow/stream_executor/dso_loader.cc:152] successfully opened CUDA library libcublas.so.10.0 locally\n"
     ]
    },
    {
     "name": "stdout",
     "output_type": "stream",
     "text": [
      "\u001b[2m\u001b[36m(pid=3590)\u001b[0m \u001b[6;30;42mTrain_Stage_0\u001b[0m Epoch:  0 / 201 || Time: 2020-12-06 20:10:39 || Accuracy: 13.03 || MAE LossNet: 8.07 || \n",
      "\u001b[2m\u001b[36m(pid=3590)\u001b[0m \u001b[6;30;42mTrain_Stage_0\u001b[0m Epoch:  1 / 201 || Time: 2020-12-06 20:10:41 || Accuracy: 17.27 || MAE LossNet: 11.56 || \n",
      "\u001b[2m\u001b[36m(pid=3590)\u001b[0m \u001b[6;30;42mTrain_Stage_0\u001b[0m Epoch:  2 / 201 || Time: 2020-12-06 20:10:42 || Accuracy: 20.14 || MAE LossNet: 7.36 || \n",
      "\u001b[2m\u001b[36m(pid=3590)\u001b[0m \u001b[6;30;42mTrain_Stage_0\u001b[0m Epoch:  3 / 201 || Time: 2020-12-06 20:10:43 || Accuracy: 27.00 || MAE LossNet: 4.46 || \n",
      "\u001b[2m\u001b[36m(pid=3590)\u001b[0m \u001b[6;30;42mTrain_Stage_0\u001b[0m Epoch:  4 / 201 || Time: 2020-12-06 20:10:44 || Accuracy: 27.10 || MAE LossNet: 2.50 || \n",
      "\u001b[2m\u001b[36m(pid=3590)\u001b[0m \u001b[6;30;42mTrain_Stage_0\u001b[0m Epoch:  5 / 201 || Time: 2020-12-06 20:10:45 || Accuracy: 28.06 || MAE LossNet: 2.86 || \n",
      "\u001b[2m\u001b[36m(pid=3590)\u001b[0m \u001b[6;30;42mTrain_Stage_0\u001b[0m Epoch:  6 / 201 || Time: 2020-12-06 20:10:46 || Accuracy: 31.81 || MAE LossNet: 2.75 || \n",
      "\u001b[2m\u001b[36m(pid=3590)\u001b[0m \u001b[6;30;42mTrain_Stage_0\u001b[0m Epoch:  7 / 201 || Time: 2020-12-06 20:10:47 || Accuracy: 36.31 || MAE LossNet: 2.14 || \n",
      "\u001b[2m\u001b[36m(pid=3590)\u001b[0m \u001b[6;30;42mTrain_Stage_0\u001b[0m Epoch:  8 / 201 || Time: 2020-12-06 20:10:47 || Accuracy: 38.44 || MAE LossNet: 1.72 || \n",
      "\u001b[2m\u001b[36m(pid=3590)\u001b[0m \u001b[6;30;42mTrain_Stage_0\u001b[0m Epoch:  9 / 201 || Time: 2020-12-06 20:10:48 || Accuracy: 40.74 || MAE LossNet: 1.65 || \n",
      "\u001b[2m\u001b[36m(pid=3590)\u001b[0m \u001b[6;30;42mTrain_Stage_0\u001b[0m Epoch: 10 / 201 || Time: 2020-12-06 20:10:49 || Accuracy: 40.45 || MAE LossNet: 1.95 || \n",
      "\u001b[2m\u001b[36m(pid=3590)\u001b[0m \u001b[6;30;42mTrain_Stage_0\u001b[0m Epoch: 11 / 201 || Time: 2020-12-06 20:10:51 || Accuracy: 42.40 || MAE LossNet: 1.95 || \n",
      "\u001b[2m\u001b[36m(pid=3590)\u001b[0m \u001b[6;30;42mTrain_Stage_0\u001b[0m Epoch: 12 / 201 || Time: 2020-12-06 20:10:52 || Accuracy: 39.54 || MAE LossNet: 2.29 || \n",
      "\u001b[2m\u001b[36m(pid=3590)\u001b[0m \u001b[6;30;42mTrain_Stage_0\u001b[0m Epoch: 13 / 201 || Time: 2020-12-06 20:10:52 || Accuracy: 41.00 || MAE LossNet: 2.37 || \n",
      "\u001b[2m\u001b[36m(pid=3590)\u001b[0m \u001b[6;30;42mTrain_Stage_0\u001b[0m Epoch: 14 / 201 || Time: 2020-12-06 20:10:53 || Accuracy: 46.87 || MAE LossNet: 1.81 || \n",
      "\u001b[2m\u001b[36m(pid=3590)\u001b[0m \u001b[6;30;42mTrain_Stage_0\u001b[0m Epoch: 15 / 201 || Time: 2020-12-06 20:10:54 || Accuracy: 47.52 || MAE LossNet: 1.59 || \n",
      "\u001b[2m\u001b[36m(pid=3590)\u001b[0m \u001b[6;30;42mTrain_Stage_0\u001b[0m Epoch: 16 / 201 || Time: 2020-12-06 20:10:55 || Accuracy: 52.02 || MAE LossNet: 1.45 || \n",
      "\u001b[2m\u001b[36m(pid=3590)\u001b[0m \u001b[6;30;42mTrain_Stage_0\u001b[0m Epoch: 17 / 201 || Time: 2020-12-06 20:10:56 || Accuracy: 54.84 || MAE LossNet: 1.27 || \n",
      "\u001b[2m\u001b[36m(pid=3590)\u001b[0m \u001b[6;30;42mTrain_Stage_0\u001b[0m Epoch: 18 / 201 || Time: 2020-12-06 20:10:57 || Accuracy: 57.37 || MAE LossNet: 1.08 || \n",
      "\u001b[2m\u001b[36m(pid=3590)\u001b[0m \u001b[6;30;42mTrain_Stage_0\u001b[0m Epoch: 19 / 201 || Time: 2020-12-06 20:10:58 || Accuracy: 61.70 || MAE LossNet: 1.02 || \n",
      "\u001b[2m\u001b[36m(pid=3590)\u001b[0m \u001b[6;30;42mTrain_Stage_0\u001b[0m Epoch: 20 / 201 || Time: 2020-12-06 20:10:59 || Accuracy: 61.96 || MAE LossNet: 1.02 || \n",
      "\u001b[2m\u001b[36m(pid=3590)\u001b[0m \u001b[6;30;42mTrain_Stage_0\u001b[0m Epoch: 21 / 201 || Time: 2020-12-06 20:11:00 || Accuracy: 61.05 || MAE LossNet: 1.22 || \n",
      "\u001b[2m\u001b[36m(pid=3590)\u001b[0m \u001b[6;30;42mTrain_Stage_0\u001b[0m Epoch: 22 / 201 || Time: 2020-12-06 20:11:01 || Accuracy: 61.57 || MAE LossNet: 1.24 || \n",
      "\u001b[2m\u001b[36m(pid=3590)\u001b[0m \u001b[6;30;42mTrain_Stage_0\u001b[0m Epoch: 23 / 201 || Time: 2020-12-06 20:11:02 || Accuracy: 62.11 || MAE LossNet: 1.14 || \n",
      "\u001b[2m\u001b[36m(pid=3590)\u001b[0m \u001b[6;30;42mTrain_Stage_0\u001b[0m Epoch: 24 / 201 || Time: 2020-12-06 20:11:03 || Accuracy: 61.20 || MAE LossNet: 1.20 || \n",
      "\u001b[2m\u001b[36m(pid=3590)\u001b[0m \u001b[6;30;42mTrain_Stage_0\u001b[0m Epoch: 25 / 201 || Time: 2020-12-06 20:11:04 || Accuracy: 63.58 || MAE LossNet: 1.15 || \n",
      "\u001b[2m\u001b[36m(pid=3590)\u001b[0m \u001b[6;30;42mTrain_Stage_0\u001b[0m Epoch: 26 / 201 || Time: 2020-12-06 20:11:05 || Accuracy: 68.81 || MAE LossNet: 1.13 || \n",
      "\u001b[2m\u001b[36m(pid=3590)\u001b[0m \u001b[6;30;42mTrain_Stage_0\u001b[0m Epoch: 27 / 201 || Time: 2020-12-06 20:11:06 || Accuracy: 71.85 || MAE LossNet: 0.97 || \n",
      "\u001b[2m\u001b[36m(pid=3590)\u001b[0m \u001b[6;30;42mTrain_Stage_0\u001b[0m Epoch: 28 / 201 || Time: 2020-12-06 20:11:07 || Accuracy: 71.01 || MAE LossNet: 0.97 || \n",
      "\u001b[2m\u001b[36m(pid=3590)\u001b[0m \u001b[6;30;42mTrain_Stage_0\u001b[0m Epoch: 29 / 201 || Time: 2020-12-06 20:11:07 || Accuracy: 73.44 || MAE LossNet: 1.10 || \n",
      "\u001b[2m\u001b[36m(pid=3590)\u001b[0m \u001b[6;30;42mTrain_Stage_0\u001b[0m Epoch: 30 / 201 || Time: 2020-12-06 20:11:08 || Accuracy: 72.23 || MAE LossNet: 1.05 || \n",
      "\u001b[2m\u001b[36m(pid=3590)\u001b[0m \u001b[6;30;42mTrain_Stage_0\u001b[0m Epoch: 31 / 201 || Time: 2020-12-06 20:11:10 || Accuracy: 75.60 || MAE LossNet: 1.01 || \n",
      "\u001b[2m\u001b[36m(pid=3590)\u001b[0m \u001b[6;30;42mTrain_Stage_0\u001b[0m Epoch: 32 / 201 || Time: 2020-12-06 20:11:11 || Accuracy: 74.80 || MAE LossNet: 1.00 || \n",
      "\u001b[2m\u001b[36m(pid=3590)\u001b[0m \u001b[6;30;42mTrain_Stage_0\u001b[0m Epoch: 33 / 201 || Time: 2020-12-06 20:11:12 || Accuracy: 75.49 || MAE LossNet: 1.14 || \n",
      "\u001b[2m\u001b[36m(pid=3590)\u001b[0m \u001b[6;30;42mTrain_Stage_0\u001b[0m Epoch: 34 / 201 || Time: 2020-12-06 20:11:12 || Accuracy: 78.34 || MAE LossNet: 1.00 || \n",
      "\u001b[2m\u001b[36m(pid=3590)\u001b[0m \u001b[6;30;42mTrain_Stage_0\u001b[0m Epoch: 35 / 201 || Time: 2020-12-06 20:11:13 || Accuracy: 77.54 || MAE LossNet: 1.01 || \n",
      "\u001b[2m\u001b[36m(pid=3590)\u001b[0m \u001b[6;30;42mTrain_Stage_0\u001b[0m Epoch: 36 / 201 || Time: 2020-12-06 20:11:14 || Accuracy: 75.29 || MAE LossNet: 1.14 || \n",
      "\u001b[2m\u001b[36m(pid=3590)\u001b[0m \u001b[6;30;42mTrain_Stage_0\u001b[0m Epoch: 37 / 201 || Time: 2020-12-06 20:11:15 || Accuracy: 71.06 || MAE LossNet: 1.29 || \n",
      "\u001b[2m\u001b[36m(pid=3590)\u001b[0m \u001b[6;30;42mTrain_Stage_0\u001b[0m Epoch: 38 / 201 || Time: 2020-12-06 20:11:16 || Accuracy: 77.20 || MAE LossNet: 1.10 || \n",
      "\u001b[2m\u001b[36m(pid=3590)\u001b[0m \u001b[6;30;42mTrain_Stage_0\u001b[0m \n",
      "\u001b[2m\u001b[36m(pid=3590)\u001b[0m Epoch: 39 / 201 || Time: 2020-12-06 20:11:17 || Accuracy: 76.21 || MAE LossNet: 1.16 || \n",
      "\u001b[2m\u001b[36m(pid=3590)\u001b[0m \u001b[6;30;42mTrain_Stage_0\u001b[0m Epoch: 40 / 201 || Time: 2020-12-06 20:11:18 || Accuracy: 75.64 || MAE LossNet: 1.09 || \n",
      "\u001b[2m\u001b[36m(pid=3590)\u001b[0m \u001b[6;30;42mTrain_Stage_0\u001b[0m Epoch: 41 / 201 || Time: 2020-12-06 20:11:19 || Accuracy: 77.44 || MAE LossNet: 1.20 || \n",
      "\u001b[2m\u001b[36m(pid=3590)\u001b[0m \u001b[6;30;42mTrain_Stage_0\u001b[0m Epoch: 42 / 201 || Time: 2020-12-06 20:11:20 || Accuracy: 77.49 || MAE LossNet: 1.21 || \n",
      "\u001b[2m\u001b[36m(pid=3590)\u001b[0m \u001b[6;30;42mTrain_Stage_0\u001b[0m Epoch: 43 / 201 || Time: 2020-12-06 20:11:21 || Accuracy: 83.53 || MAE LossNet: 1.14 || \n",
      "\u001b[2m\u001b[36m(pid=3590)\u001b[0m \u001b[6;30;42mTrain_Stage_0\u001b[0m Epoch: 44 / 201 || Time: 2020-12-06 20:11:22 || Accuracy: 85.24 || MAE LossNet: 1.07 || \n",
      "\u001b[2m\u001b[36m(pid=3590)\u001b[0m \u001b[6;30;42mTrain_Stage_0\u001b[0m Epoch: 45 / 201 || Time: 2020-12-06 20:11:23 || Accuracy: 82.29 || MAE LossNet: 1.16 || \n",
      "\u001b[2m\u001b[36m(pid=3590)\u001b[0m \u001b[6;30;42mTrain_Stage_0\u001b[0m Epoch: 46 / 201 || Time: 2020-12-06 20:11:24 || Accuracy: 82.77 || MAE LossNet: 1.16 || \n",
      "\u001b[2m\u001b[36m(pid=3590)\u001b[0m \u001b[6;30;42mTrain_Stage_0\u001b[0m Epoch: 47 / 201 || Time: 2020-12-06 20:11:25 || Accuracy: 85.09 || MAE LossNet: 1.15 || \n",
      "\u001b[2m\u001b[36m(pid=3590)\u001b[0m \u001b[6;30;42mTrain_Stage_0\u001b[0m Epoch: 48 / 201 || Time: 2020-12-06 20:11:26 || Accuracy: 83.01 || MAE LossNet: 1.11 || \n",
      "\u001b[2m\u001b[36m(pid=3590)\u001b[0m \u001b[6;30;42mTrain_Stage_0\u001b[0m Epoch: 49 / 201 || Time: 2020-12-06 20:11:26 || Accuracy: 85.06 || MAE LossNet: 1.13 || \n",
      "\u001b[2m\u001b[36m(pid=3590)\u001b[0m \u001b[6;30;42mTrain_Stage_0\u001b[0m Epoch: 50 / 201 || Time: 2020-12-06 20:11:27 || Accuracy: 87.42 || MAE LossNet: 1.10 || \n"
     ]
    },
    {
     "name": "stderr",
     "output_type": "stream",
     "text": [
      "\u001b[2m\u001b[36m(pid=3590)\u001b[0m WARNING:tensorflow:From /home/reminiz/ReminizML2/python_env/lib/python3.7/site-packages/tensorflow/python/training/saver.py:966: remove_checkpoint (from tensorflow.python.training.checkpoint_management) is deprecated and will be removed in a future version.\n",
      "\u001b[2m\u001b[36m(pid=3590)\u001b[0m Instructions for updating:\n",
      "\u001b[2m\u001b[36m(pid=3590)\u001b[0m Use standard file APIs to delete files with this prefix.\n"
     ]
    },
    {
     "name": "stdout",
     "output_type": "stream",
     "text": [
      "\u001b[2m\u001b[36m(pid=3590)\u001b[0m \u001b[6;30;42mTrain_Stage_0\u001b[0m Epoch: 51 / 201 || Time: 2020-12-06 20:11:29 || Accuracy: 86.70 || MAE LossNet: 1.19 || \n",
      "\u001b[2m\u001b[36m(pid=3590)\u001b[0m \u001b[6;30;42mTrain_Stage_0\u001b[0m Epoch: 52 / 201 || Time: 2020-12-06 20:11:30 || Accuracy: 85.74 || MAE LossNet: 1.14 || \n",
      "\u001b[2m\u001b[36m(pid=3590)\u001b[0m \u001b[6;30;42mTrain_Stage_0\u001b[0m Epoch: 53 / 201 || Time: 2020-12-06 20:11:31 || Accuracy: 85.70 || MAE LossNet: 1.22 || \n",
      "\u001b[2m\u001b[36m(pid=3590)\u001b[0m \u001b[6;30;42mTrain_Stage_0\u001b[0m Epoch: 54 / 201 || Time: 2020-12-06 20:11:32 || Accuracy: 86.52 || MAE LossNet: 1.14 || \n",
      "\u001b[2m\u001b[36m(pid=3590)\u001b[0m \u001b[6;30;42mTrain_Stage_0\u001b[0m Epoch: 55 / 201 || Time: 2020-12-06 20:11:32 || Accuracy: 88.28 || MAE LossNet: 1.12 || \n",
      "\u001b[2m\u001b[36m(pid=3590)\u001b[0m \u001b[6;30;42mTrain_Stage_0\u001b[0m Epoch: 56 / 201 || Time: 2020-12-06 20:11:33 || Accuracy: 88.48 || MAE LossNet: 1.23 || \n",
      "\u001b[2m\u001b[36m(pid=3590)\u001b[0m \u001b[6;30;42mTrain_Stage_0\u001b[0m Epoch: 57 / 201 || Time: 2020-12-06 20:11:34 || Accuracy: 90.05 || MAE LossNet: 1.24 || \n",
      "\u001b[2m\u001b[36m(pid=3590)\u001b[0m \u001b[6;30;42mTrain_Stage_0\u001b[0m Epoch: 58 / 201 || Time: 2020-12-06 20:11:35 || Accuracy: 91.01 || MAE LossNet: 1.11 || \n",
      "\u001b[2m\u001b[36m(pid=3590)\u001b[0m \u001b[6;30;42mTrain_Stage_0\u001b[0m Epoch: 59 / 201 || Time: 2020-12-06 20:11:36 || Accuracy: 88.41 || MAE LossNet: 1.11 || \n",
      "\u001b[2m\u001b[36m(pid=3590)\u001b[0m \u001b[6;30;42mTrain_Stage_0\u001b[0m Epoch: 60 / 201 || Time: 2020-12-06 20:11:37 || Accuracy: 87.67 || MAE LossNet: 1.16 || \n",
      "\u001b[2m\u001b[36m(pid=3590)\u001b[0m \u001b[6;30;42mTrain_Stage_0\u001b[0m Epoch: 61 / 201 || Time: 2020-12-06 20:11:39 || Accuracy: 86.77 || MAE LossNet: 1.03 || \n",
      "\u001b[2m\u001b[36m(pid=3590)\u001b[0m \u001b[6;30;42mTrain_Stage_0\u001b[0m Epoch: 62 / 201 || Time: 2020-12-06 20:11:39 || Accuracy: 87.15 || MAE LossNet: 1.01 || \n",
      "\u001b[2m\u001b[36m(pid=3590)\u001b[0m \u001b[6;30;42mTrain_Stage_0\u001b[0m Epoch: 63 / 201 || Time: 2020-12-06 20:11:40 || Accuracy: 86.43 || MAE LossNet: 1.12 || \n",
      "\u001b[2m\u001b[36m(pid=3590)\u001b[0m \u001b[6;30;42mTrain_Stage_0\u001b[0m Epoch: 64 / 201 || Time: 2020-12-06 20:11:41 || Accuracy: 88.76 || MAE LossNet: 1.14 || \n",
      "\u001b[2m\u001b[36m(pid=3590)\u001b[0m \u001b[6;30;42mTrain_Stage_0\u001b[0m Epoch: 65 / 201 || Time: 2020-12-06 20:11:42 || Accuracy: 85.35 || MAE LossNet: 1.22 || \n",
      "\u001b[2m\u001b[36m(pid=3590)\u001b[0m \u001b[6;30;42mTrain_Stage_0\u001b[0m Epoch: 66 / 201 || Time: 2020-12-06 20:11:43 || Accuracy: 85.70 || MAE LossNet: 1.29 || \n",
      "\u001b[2m\u001b[36m(pid=3590)\u001b[0m \u001b[6;30;42mTrain_Stage_0\u001b[0m Epoch: 67 / 201 || Time: 2020-12-06 20:11:44 || Accuracy: 86.71 || MAE LossNet: 1.26 || \n",
      "\u001b[2m\u001b[36m(pid=3590)\u001b[0m \u001b[6;30;42mTrain_Stage_0\u001b[0m Epoch: 68 / 201 || Time: 2020-12-06 20:11:45 || Accuracy: 86.39 || MAE LossNet: 1.16 || \n",
      "\u001b[2m\u001b[36m(pid=3590)\u001b[0m \u001b[6;30;42mTrain_Stage_0\u001b[0m Epoch: 69 / 201 || Time: 2020-12-06 20:11:46 || Accuracy: 86.82 || MAE LossNet: 1.28 || \n",
      "\u001b[2m\u001b[36m(pid=3590)\u001b[0m \u001b[6;30;42mTrain_Stage_0\u001b[0m Epoch: 70 / 201 || Time: 2020-12-06 20:11:47 || Accuracy: 83.87 || MAE LossNet: 1.17 || \n",
      "\u001b[2m\u001b[36m(pid=3590)\u001b[0m \u001b[6;30;42mTrain_Stage_0\u001b[0m Epoch: 71 / 201 || Time: 2020-12-06 20:11:48 || Accuracy: 89.96 || MAE LossNet: 1.10 || \n",
      "\u001b[2m\u001b[36m(pid=3590)\u001b[0m \u001b[6;30;42mTrain_Stage_0\u001b[0m Epoch: 72 / 201 || Time: 2020-12-06 20:11:49 || Accuracy: 88.72 || MAE LossNet: 1.46 || \n",
      "\u001b[2m\u001b[36m(pid=3590)\u001b[0m \u001b[6;30;42mTrain_Stage_0\u001b[0m Epoch: 73 / 201 || Time: 2020-12-06 20:11:50 || Accuracy: 89.93 || MAE LossNet: 1.24 || \n",
      "\u001b[2m\u001b[36m(pid=3590)\u001b[0m \u001b[6;30;42mTrain_Stage_0\u001b[0m Epoch: 74 / 201 || Time: 2020-12-06 20:11:51 || Accuracy: 89.79 || MAE LossNet: 1.21 || \n",
      "\u001b[2m\u001b[36m(pid=3590)\u001b[0m \u001b[6;30;42mTrain_Stage_0\u001b[0m Epoch: 75 / 201 || Time: 2020-12-06 20:11:52 || Accuracy: 90.74 || MAE LossNet: 1.26 || \n",
      "\u001b[2m\u001b[36m(pid=3590)\u001b[0m \u001b[6;30;42mTrain_Stage_0\u001b[0m Epoch: 76 / 201 || Time: 2020-12-06 20:11:53 || Accuracy: 91.33 || MAE LossNet: 1.16 || \n",
      "\u001b[2m\u001b[36m(pid=3590)\u001b[0m \u001b[6;30;42mTrain_Stage_0\u001b[0m Epoch: 77 / 201 || Time: 2020-12-06 20:11:53 || Accuracy: 92.96 || MAE LossNet: 1.14 || \n",
      "\u001b[2m\u001b[36m(pid=3590)\u001b[0m \u001b[6;30;42mTrain_Stage_0\u001b[0m Epoch: 78 / 201 || Time: 2020-12-06 20:11:54 || Accuracy: 92.13 || MAE LossNet: 1.27 || \n",
      "\u001b[2m\u001b[36m(pid=3590)\u001b[0m \u001b[6;30;42mTrain_Stage_0\u001b[0m Epoch: 79 / 201 || Time: 2020-12-06 20:11:55 || Accuracy: 94.10 || MAE LossNet: 1.17 || \n",
      "\u001b[2m\u001b[36m(pid=3590)\u001b[0m \u001b[6;30;42mTrain_Stage_0\u001b[0m Epoch: 80 / 201 || Time: 2020-12-06 20:11:56 || Accuracy: 93.93 || MAE LossNet: 1.21 || \n",
      "\u001b[2m\u001b[36m(pid=3590)\u001b[0m \u001b[6;30;42mTrain_Stage_0\u001b[0m Epoch: 81 / 201 || Time: 2020-12-06 20:11:58 || Accuracy: 94.20 || MAE LossNet: 1.17 || \n",
      "\u001b[2m\u001b[36m(pid=3590)\u001b[0m \u001b[6;30;42mTrain_Stage_0\u001b[0m Epoch: 82 / 201 || Time: 2020-12-06 20:11:59 || Accuracy: 94.59 || MAE LossNet: 1.22 || \n",
      "\u001b[2m\u001b[36m(pid=3590)\u001b[0m \u001b[6;30;42mTrain_Stage_0\u001b[0m Epoch: 83 / 201 || Time: 2020-12-06 20:12:00 || Accuracy: 95.30 || MAE LossNet: 1.10 || \n",
      "\u001b[2m\u001b[36m(pid=3590)\u001b[0m \u001b[6;30;42mTrain_Stage_0\u001b[0m Epoch: 84 / 201 || Time: 2020-12-06 20:12:00 || Accuracy: 95.24 || MAE LossNet: 1.23 || \n",
      "\u001b[2m\u001b[36m(pid=3590)\u001b[0m \u001b[6;30;42mTrain_Stage_0\u001b[0m Epoch: 85 / 201 || Time: 2020-12-06 20:12:01 || Accuracy: 94.76 || MAE LossNet: 1.32 || \n",
      "\u001b[2m\u001b[36m(pid=3590)\u001b[0m \u001b[6;30;42mTrain_Stage_0\u001b[0m Epoch: 86 / 201 || Time: 2020-12-06 20:12:02 || Accuracy: 95.52 || MAE LossNet: 1.25 || \n",
      "\u001b[2m\u001b[36m(pid=3590)\u001b[0m \u001b[6;30;42mTrain_Stage_0\u001b[0m Epoch: 87 / 201 || Time: 2020-12-06 20:12:03 || Accuracy: 95.64 || MAE LossNet: 1.19 || \n",
      "\u001b[2m\u001b[36m(pid=3590)\u001b[0m \u001b[6;30;42mTrain_Stage_0\u001b[0m Epoch: 88 / 201 || Time: 2020-12-06 20:12:04 || Accuracy: 95.40 || MAE LossNet: 1.10 || \n",
      "\u001b[2m\u001b[36m(pid=3590)\u001b[0m \u001b[6;30;42mTrain_Stage_0\u001b[0m Epoch: 89 / 201 || Time: 2020-12-06 20:12:05 || Accuracy: 95.61 || MAE LossNet: 1.23 || \n",
      "\u001b[2m\u001b[36m(pid=3590)\u001b[0m \u001b[6;30;42mTrain_Stage_0\u001b[0m Epoch: 90 / 201 || Time: 2020-12-06 20:12:06 || Accuracy: 94.95 || MAE LossNet: 1.21 || \n",
      "\u001b[2m\u001b[36m(pid=3590)\u001b[0m \u001b[6;30;42mTrain_Stage_0\u001b[0m Epoch: 91 / 201 || Time: 2020-12-06 20:12:07 || Accuracy: 96.25 || MAE LossNet: 1.24 || \n",
      "\u001b[2m\u001b[36m(pid=3590)\u001b[0m \u001b[6;30;42mTrain_Stage_0\u001b[0m Epoch: 92 / 201 || Time: 2020-12-06 20:12:08 || Accuracy: 96.00 || MAE LossNet: 1.25 || \n",
      "\u001b[2m\u001b[36m(pid=3590)\u001b[0m \u001b[6;30;42mTrain_Stage_0\u001b[0m Epoch: 93 / 201 || Time: 2020-12-06 20:12:09 || Accuracy: 95.54 || MAE LossNet: 1.28 || \n",
      "\u001b[2m\u001b[36m(pid=3590)\u001b[0m \u001b[6;30;42mTrain_Stage_0\u001b[0m Epoch: 94 / 201 || Time: 2020-12-06 20:12:10 || Accuracy: 95.91 || MAE LossNet: 1.31 || \n",
      "\u001b[2m\u001b[36m(pid=3590)\u001b[0m \u001b[6;30;42mTrain_Stage_0\u001b[0m Epoch: 95 / 201 || Time: 2020-12-06 20:12:11 || Accuracy: 94.91 || MAE LossNet: 1.27 || \n",
      "\u001b[2m\u001b[36m(pid=3590)\u001b[0m \u001b[6;30;42mTrain_Stage_0\u001b[0m Epoch: 96 / 201 || Time: 2020-12-06 20:12:12 || Accuracy: 94.91 || MAE LossNet: 1.22 || \n",
      "\u001b[2m\u001b[36m(pid=3590)\u001b[0m \u001b[6;30;42mTrain_Stage_0\u001b[0m Epoch: 97 / 201 || Time: 2020-12-06 20:12:13 || Accuracy: 93.98 || MAE LossNet: 1.11 || \n",
      "\u001b[2m\u001b[36m(pid=3590)\u001b[0m \u001b[6;30;42mTrain_Stage_0\u001b[0m Epoch: 98 / 201 || Time: 2020-12-06 20:12:14 || Accuracy: 94.01 || MAE LossNet: 1.31 || \n",
      "\u001b[2m\u001b[36m(pid=3590)\u001b[0m \u001b[6;30;42mTrain_Stage_0\u001b[0m Epoch: 99 / 201 || Time: 2020-12-06 20:12:14 || Accuracy: 93.74 || MAE LossNet: 1.27 || \n",
      "\u001b[2m\u001b[36m(pid=3590)\u001b[0m \u001b[6;30;42mTrain_Stage_0\u001b[0m Epoch: 100 / 201 || Time: 2020-12-06 20:12:16 || Accuracy: 93.10 || MAE LossNet: 1.33 || \n",
      "\u001b[2m\u001b[36m(pid=3590)\u001b[0m \u001b[6;30;42mTrain_Stage_0\u001b[0m Epoch: 101 / 201 || Time: 2020-12-06 20:12:17 || Accuracy: 91.40 || MAE LossNet: 1.46 || \n",
      "\u001b[2m\u001b[36m(pid=3590)\u001b[0m \u001b[6;30;42mTrain_Stage_0\u001b[0m Epoch: 102 / 201 || Time: 2020-12-06 20:12:18 || Accuracy: 91.84 || MAE LossNet: 1.28 || \n",
      "\u001b[2m\u001b[36m(pid=3590)\u001b[0m \u001b[6;30;42mTrain_Stage_0\u001b[0m Epoch: 103 / 201 || Time: 2020-12-06 20:12:19 || Accuracy: 91.86 || MAE LossNet: 1.44 || \n",
      "\u001b[2m\u001b[36m(pid=3590)\u001b[0m \u001b[6;30;42mTrain_Stage_0\u001b[0m Epoch: 104 / 201 || Time: 2020-12-06 20:12:20 || Accuracy: 90.50 || MAE LossNet: 1.47 || \n",
      "\u001b[2m\u001b[36m(pid=3590)\u001b[0m \u001b[6;30;42mTrain_Stage_0\u001b[0m Epoch: 105 / 201 || Time: 2020-12-06 20:12:21 || Accuracy: 92.15 || MAE LossNet: 1.33 || \n",
      "\u001b[2m\u001b[36m(pid=3590)\u001b[0m \u001b[6;30;42mTrain_Stage_0\u001b[0m Epoch: 106 / 201 || Time: 2020-12-06 20:12:22 || Accuracy: 92.16 || MAE LossNet: 1.37 || \n",
      "\u001b[2m\u001b[36m(pid=3590)\u001b[0m \u001b[6;30;42mTrain_Stage_0\u001b[0m Epoch: 107 / 201 || Time: 2020-12-06 20:12:22 || Accuracy: 93.88 || MAE LossNet: 1.35 || \n",
      "\u001b[2m\u001b[36m(pid=3590)\u001b[0m \u001b[6;30;42mTrain_Stage_0\u001b[0m Epoch: 108 / 201 || Time: 2020-12-06 20:12:23 || Accuracy: 92.86 || MAE LossNet: 1.38 || \n",
      "\u001b[2m\u001b[36m(pid=3590)\u001b[0m \u001b[6;30;42mTrain_Stage_0\u001b[0m Epoch: 109 / 201 || Time: 2020-12-06 20:12:24 || Accuracy: 94.13 || MAE LossNet: 1.31 || \n",
      "\u001b[2m\u001b[36m(pid=3590)\u001b[0m \u001b[6;30;42mTrain_Stage_0\u001b[0m Epoch: 110 / 201 || Time: 2020-12-06 20:12:25 || Accuracy: 94.79 || MAE LossNet: 1.25 || \n",
      "\u001b[2m\u001b[36m(pid=3590)\u001b[0m \u001b[6;30;42mTrain_Stage_0\u001b[0m Epoch: 111 / 201 || Time: 2020-12-06 20:12:27 || Accuracy: 96.25 || MAE LossNet: 1.32 || \n",
      "\u001b[2m\u001b[36m(pid=3590)\u001b[0m \u001b[6;30;42mTrain_Stage_0\u001b[0m Epoch: 112 / 201 || Time: 2020-12-06 20:12:28 || Accuracy: 96.47 || MAE LossNet: 1.10 || \n",
      "\u001b[2m\u001b[36m(pid=3590)\u001b[0m \u001b[6;30;42mTrain_Stage_0\u001b[0m Epoch: 113 / 201 || Time: 2020-12-06 20:12:29 || Accuracy: 95.82 || MAE LossNet: 1.35 || \n",
      "\u001b[2m\u001b[36m(pid=3590)\u001b[0m \u001b[6;30;42mTrain_Stage_0\u001b[0m Epoch: 114 / 201 || Time: 2020-12-06 20:12:29 || Accuracy: 96.24 || MAE LossNet: 1.26 || \n",
      "\u001b[2m\u001b[36m(pid=3590)\u001b[0m \u001b[6;30;42mTrain_Stage_0\u001b[0m Epoch: 115 / 201 || Time: 2020-12-06 20:12:30 || Accuracy: 96.24 || MAE LossNet: 1.25 || \n",
      "\u001b[2m\u001b[36m(pid=3590)\u001b[0m \u001b[6;30;42mTrain_Stage_0\u001b[0m Epoch: 116 / 201 || Time: 2020-12-06 20:12:31 || Accuracy: 97.93 || MAE LossNet: 1.18 || \n",
      "\u001b[2m\u001b[36m(pid=3590)\u001b[0m \u001b[6;30;42mTrain_Stage_0\u001b[0m Epoch: 117 / 201 || Time: 2020-12-06 20:12:32 || Accuracy: 97.56 || MAE LossNet: 1.30 || \n",
      "\u001b[2m\u001b[36m(pid=3590)\u001b[0m \u001b[6;30;42mTrain_Stage_0\u001b[0m Epoch: 118 / 201 || Time: 2020-12-06 20:12:33 || Accuracy: 97.40 || MAE LossNet: 1.07 || \n",
      "\u001b[2m\u001b[36m(pid=3590)\u001b[0m \u001b[6;30;42mTrain_Stage_0\u001b[0m Epoch: 119 / 201 || Time: 2020-12-06 20:12:34 || Accuracy: 98.00 || MAE LossNet: 1.28 || \n",
      "\u001b[2m\u001b[36m(pid=3590)\u001b[0m \u001b[6;30;42mTrain_Stage_0\u001b[0m Epoch: 120 / 201 || Time: 2020-12-06 20:12:35 || Accuracy: 96.71 || MAE LossNet: 1.26 || \n",
      "\u001b[2m\u001b[36m(pid=3590)\u001b[0m \u001b[6;30;42mTrain_Stage_0\u001b[0m Epoch: 121 / 201 || Time: 2020-12-06 20:12:37 || Accuracy: 63.90 || MAE LossNet: 5.32 || \n",
      "\u001b[2m\u001b[36m(pid=3590)\u001b[0m \u001b[6;30;42mTrain_Stage_0\u001b[0m Epoch: 122 / 201 || Time: 2020-12-06 20:12:38 || Accuracy: 75.95 || MAE LossNet: 2.56 || \n",
      "\u001b[2m\u001b[36m(pid=3590)\u001b[0m \u001b[6;30;42mTrain_Stage_0\u001b[0m Epoch: 123 / 201 || Time: 2020-12-06 20:12:39 || Accuracy: 80.00 || MAE LossNet: 2.22 || \n",
      "\u001b[2m\u001b[36m(pid=3590)\u001b[0m \u001b[6;30;42mTrain_Stage_0\u001b[0m Epoch: 124 / 201 || Time: 2020-12-06 20:12:40 || Accuracy: 84.60 || MAE LossNet: 1.80 || \n",
      "\u001b[2m\u001b[36m(pid=3590)\u001b[0m \u001b[6;30;42mTrain_Stage_0\u001b[0m Epoch: 125 / 201 || Time: 2020-12-06 20:12:41 || Accuracy: 85.17 || MAE LossNet: 1.76 || \n",
      "\u001b[2m\u001b[36m(pid=3590)\u001b[0m \u001b[6;30;42mTrain_Stage_0\u001b[0m Epoch: 126 / 201 || Time: 2020-12-06 20:12:42 || Accuracy: 87.27 || MAE LossNet: 1.68 || \n",
      "\u001b[2m\u001b[36m(pid=3590)\u001b[0m \u001b[6;30;42mTrain_Stage_0\u001b[0m Epoch: 127 / 201 || Time: 2020-12-06 20:12:42 || Accuracy: 91.05 || MAE LossNet: 1.54 || \n",
      "\u001b[2m\u001b[36m(pid=3590)\u001b[0m \u001b[6;30;42mTrain_Stage_0\u001b[0m Epoch: 128 / 201 || Time: 2020-12-06 20:12:43 || Accuracy: 91.45 || MAE LossNet: 1.50 || \n",
      "\u001b[2m\u001b[36m(pid=3590)\u001b[0m \u001b[6;30;42mTrain_Stage_0\u001b[0m Epoch: 129 / 201 || Time: 2020-12-06 20:12:44 || Accuracy: 93.35 || MAE LossNet: 1.37 || \n",
      "\u001b[2m\u001b[36m(pid=3590)\u001b[0m \u001b[6;30;42mTrain_Stage_0\u001b[0m Epoch: 130 / 201 || Time: 2020-12-06 20:12:45 || Accuracy: 92.65 || MAE LossNet: 1.35 || \n",
      "\u001b[2m\u001b[36m(pid=3590)\u001b[0m \u001b[6;30;42mTrain_Stage_0\u001b[0m Epoch: 131 / 201 || Time: 2020-12-06 20:12:47 || Accuracy: 91.26 || MAE LossNet: 1.61 || \n",
      "\u001b[2m\u001b[36m(pid=3590)\u001b[0m \u001b[6;30;42mTrain_Stage_0\u001b[0m Epoch: 132 / 201 || Time: 2020-12-06 20:12:48 || Accuracy: 90.49 || MAE LossNet: 1.58 || \n",
      "\u001b[2m\u001b[36m(pid=3590)\u001b[0m \u001b[6;30;42mTrain_Stage_0\u001b[0m Epoch: 133 / 201 || Time: 2020-12-06 20:12:48 || Accuracy: 91.35 || MAE LossNet: 1.56 || \n",
      "\u001b[2m\u001b[36m(pid=3590)\u001b[0m \u001b[6;30;42mTrain_Stage_0\u001b[0m Epoch: 134 / 201 || Time: 2020-12-06 20:12:49 || Accuracy: 91.81 || MAE LossNet: 1.57 || \n",
      "\u001b[2m\u001b[36m(pid=3590)\u001b[0m \u001b[6;30;42mTrain_Stage_0\u001b[0m Epoch: 135 / 201 || Time: 2020-12-06 20:12:50 || Accuracy: 92.32 || MAE LossNet: 1.62 || \n",
      "\u001b[2m\u001b[36m(pid=3590)\u001b[0m \u001b[6;30;42mTrain_Stage_0\u001b[0m Epoch: 136 / 201 || Time: 2020-12-06 20:12:51 || Accuracy: 86.71 || MAE LossNet: 2.07 || \n",
      "\u001b[2m\u001b[36m(pid=3590)\u001b[0m \u001b[6;30;42mTrain_Stage_0\u001b[0m Epoch: 137 / 201 || Time: 2020-12-06 20:12:52 || Accuracy: 89.44 || MAE LossNet: 1.79 || \n",
      "\u001b[2m\u001b[36m(pid=3590)\u001b[0m \u001b[6;30;42mTrain_Stage_0\u001b[0m Epoch: 138 / 201 || Time: 2020-12-06 20:12:53 || Accuracy: 86.13 || MAE LossNet: 1.79 || \n",
      "\u001b[2m\u001b[36m(pid=3590)\u001b[0m \u001b[6;30;42mTrain_Stage_0\u001b[0m Epoch: 139 / 201 || Time: 2020-12-06 20:12:53 || Accuracy: 89.10 || MAE LossNet: 1.72 || \n",
      "\u001b[2m\u001b[36m(pid=3590)\u001b[0m \u001b[6;30;42mTrain_Stage_0\u001b[0m Epoch: 140 / 201 || Time: 2020-12-06 20:12:54 || Accuracy: 91.26 || MAE LossNet: 1.48 || \n",
      "\u001b[2m\u001b[36m(pid=3590)\u001b[0m \u001b[6;30;42mTrain_Stage_0\u001b[0m Epoch: 141 / 201 || Time: 2020-12-06 20:12:56 || Accuracy: 93.16 || MAE LossNet: 1.46 || \n",
      "\u001b[2m\u001b[36m(pid=3590)\u001b[0m \u001b[6;30;42mTrain_Stage_0\u001b[0m Epoch: 142 / 201 || Time: 2020-12-06 20:12:57 || Accuracy: 90.79 || MAE LossNet: 1.46 || \n",
      "\u001b[2m\u001b[36m(pid=3590)\u001b[0m \u001b[6;30;42mTrain_Stage_0\u001b[0m Epoch: 143 / 201 || Time: 2020-12-06 20:12:58 || Accuracy: 92.65 || MAE LossNet: 1.63 || \n",
      "\u001b[2m\u001b[36m(pid=3590)\u001b[0m \u001b[6;30;42mTrain_Stage_0\u001b[0m Epoch: 144 / 201 || Time: 2020-12-06 20:12:59 || Accuracy: 94.93 || MAE LossNet: 1.42 || \n",
      "\u001b[2m\u001b[36m(pid=3590)\u001b[0m \u001b[6;30;42mTrain_Stage_0\u001b[0m Epoch: 145 / 201 || Time: 2020-12-06 20:13:00 || Accuracy: 95.71 || MAE LossNet: 1.39 || \n",
      "\u001b[2m\u001b[36m(pid=3590)\u001b[0m \u001b[6;30;42mTrain_Stage_0\u001b[0m Epoch: 146 / 201 || Time: 2020-12-06 20:13:01 || Accuracy: 95.59 || MAE LossNet: 1.63 || \n",
      "\u001b[2m\u001b[36m(pid=3590)\u001b[0m \u001b[6;30;42mTrain_Stage_0\u001b[0m Epoch: 147 / 201 || Time: 2020-12-06 20:13:01 || Accuracy: 95.69 || MAE LossNet: 1.43 || \n",
      "\u001b[2m\u001b[36m(pid=3590)\u001b[0m \u001b[6;30;42mTrain_Stage_0\u001b[0m Epoch: 148 / 201 || Time: 2020-12-06 20:13:02 || Accuracy: 95.08 || MAE LossNet: 1.51 || \n",
      "\u001b[2m\u001b[36m(pid=3590)\u001b[0m \u001b[6;30;42mTrain_Stage_0\u001b[0m Epoch: 149 / 201 || Time: 2020-12-06 20:13:03 || Accuracy: 92.23 || MAE LossNet: 1.77 || \n",
      "\u001b[2m\u001b[36m(pid=3590)\u001b[0m \u001b[6;30;42mTrain_Stage_0\u001b[0m Epoch: 150 / 201 || Time: 2020-12-06 20:13:04 || Accuracy: 94.64 || MAE LossNet: 1.71 || \n",
      "\u001b[2m\u001b[36m(pid=3590)\u001b[0m \u001b[6;30;42mTrain_Stage_0\u001b[0m Epoch: 151 / 201 || Time: 2020-12-06 20:13:06 || Accuracy: 94.85 || MAE LossNet: 1.78 || \n",
      "\u001b[2m\u001b[36m(pid=3590)\u001b[0m \u001b[6;30;42mTrain_Stage_0\u001b[0m Epoch: 152 / 201 || Time: 2020-12-06 20:13:07 || Accuracy: 94.31 || MAE LossNet: 1.53 || \n",
      "\u001b[2m\u001b[36m(pid=3590)\u001b[0m \u001b[6;30;42mTrain_Stage_0\u001b[0m Epoch: 153 / 201 || Time: 2020-12-06 20:13:08 || Accuracy: 92.61 || MAE LossNet: 1.47 || \n",
      "\u001b[2m\u001b[36m(pid=3590)\u001b[0m \u001b[6;30;42mTrain_Stage_0\u001b[0m Epoch: 154 / 201 || Time: 2020-12-06 20:13:08 || Accuracy: 92.43 || MAE LossNet: 1.57 || \n",
      "\u001b[2m\u001b[36m(pid=3590)\u001b[0m \u001b[6;30;42mTrain_Stage_0\u001b[0m Epoch: 155 / 201 || Time: 2020-12-06 20:13:09 || Accuracy: 88.44 || MAE LossNet: 1.95 || \n",
      "\u001b[2m\u001b[36m(pid=3590)\u001b[0m \u001b[6;30;42mTrain_Stage_0\u001b[0m Epoch: 156 / 201 || Time: 2020-12-06 20:13:10 || Accuracy: 88.21 || MAE LossNet: 1.80 || \n",
      "\u001b[2m\u001b[36m(pid=3590)\u001b[0m \u001b[6;30;42mTrain_Stage_0\u001b[0m Epoch: 157 / 201 || Time: 2020-12-06 20:13:11 || Accuracy: 89.91 || MAE LossNet: 1.73 || \n",
      "\u001b[2m\u001b[36m(pid=3590)\u001b[0m \u001b[6;30;42mTrain_Stage_0\u001b[0m Epoch: 158 / 201 || Time: 2020-12-06 20:13:12 || Accuracy: 87.27 || MAE LossNet: 1.68 || \n",
      "\u001b[2m\u001b[36m(pid=3590)\u001b[0m \u001b[6;30;42mTrain_Stage_0\u001b[0m Epoch: 159 / 201 || Time: 2020-12-06 20:13:13 || Accuracy: 88.62 || MAE LossNet: 1.88 || \n",
      "\u001b[2m\u001b[36m(pid=3590)\u001b[0m \u001b[6;30;42mTrain_Stage_0\u001b[0m Epoch: 160 / 201 || Time: 2020-12-06 20:13:13 || Accuracy: 92.88 || MAE LossNet: 1.61 || \n",
      "\u001b[2m\u001b[36m(pid=3590)\u001b[0m \u001b[6;30;42mTrain_Stage_0\u001b[0m Epoch: 161 / 201 || Time: 2020-12-06 20:13:15 || Accuracy: 96.93 || MAE LossNet: 1.51 || \n",
      "\u001b[2m\u001b[36m(pid=3590)\u001b[0m \u001b[6;30;42mTrain_Stage_0\u001b[0m Epoch: 162 / 201 || Time: 2020-12-06 20:13:16 || Accuracy: 97.35 || MAE LossNet: 1.68 || \n",
      "\u001b[2m\u001b[36m(pid=3590)\u001b[0m \u001b[6;30;42mTrain_Stage_0\u001b[0m Epoch: 163 / 201 || Time: 2020-12-06 20:13:17 || Accuracy: 98.22 || MAE LossNet: 1.61 || \n",
      "\u001b[2m\u001b[36m(pid=3590)\u001b[0m \u001b[6;30;42mTrain_Stage_0\u001b[0m Epoch: 164 / 201 || Time: 2020-12-06 20:13:18 || Accuracy: 98.83 || MAE LossNet: 1.64 || \n",
      "\u001b[2m\u001b[36m(pid=3590)\u001b[0m \u001b[6;30;42mTrain_Stage_0\u001b[0m Epoch: 165 / 201 || Time: 2020-12-06 20:13:19 || Accuracy: 99.00 || MAE LossNet: 1.57 || \n",
      "\u001b[2m\u001b[36m(pid=3590)\u001b[0m \u001b[6;30;42mTrain_Stage_0\u001b[0m Epoch: 166 / 201 || Time: 2020-12-06 20:13:20 || Accuracy: 99.20 || MAE LossNet: 1.53 || \n",
      "\u001b[2m\u001b[36m(pid=3590)\u001b[0m \u001b[6;30;42mTrain_Stage_0\u001b[0m Epoch: 167 / 201 || Time: 2020-12-06 20:13:20 || Accuracy: 99.39 || MAE LossNet: 1.54 || \n",
      "\u001b[2m\u001b[36m(pid=3590)\u001b[0m \u001b[6;30;42mTrain_Stage_0\u001b[0m Epoch: 168 / 201 || Time: 2020-12-06 20:13:21 || Accuracy: 99.61 || MAE LossNet: 1.55 || \n",
      "\u001b[2m\u001b[36m(pid=3590)\u001b[0m \u001b[6;30;42mTrain_Stage_0\u001b[0m Epoch: 169 / 201 || Time: 2020-12-06 20:13:22 || Accuracy: 99.29 || MAE LossNet: 1.53 || \n",
      "\u001b[2m\u001b[36m(pid=3590)\u001b[0m \u001b[6;30;42mTrain_Stage_0\u001b[0m Epoch: 170 / 201 || Time: 2020-12-06 20:13:23 || Accuracy: 99.71 || MAE LossNet: 1.60 || \n",
      "\u001b[2m\u001b[36m(pid=3590)\u001b[0m \u001b[6;30;42mTrain_Stage_0\u001b[0m Epoch: 171 / 201 || Time: 2020-12-06 20:13:25 || Accuracy: 99.59 || MAE LossNet: 1.46 || \n",
      "\u001b[2m\u001b[36m(pid=3590)\u001b[0m \u001b[6;30;42mTrain_Stage_0\u001b[0m Epoch: 172 / 201 || Time: 2020-12-06 20:13:26 || Accuracy: 99.51 || MAE LossNet: 1.70 || \n",
      "\u001b[2m\u001b[36m(pid=3590)\u001b[0m \u001b[6;30;42mTrain_Stage_0\u001b[0m Epoch: 173 / 201 || Time: 2020-12-06 20:13:27 || Accuracy: 99.66 || MAE LossNet: 1.61 || \n",
      "\u001b[2m\u001b[36m(pid=3590)\u001b[0m \u001b[6;30;42mTrain_Stage_0\u001b[0m Epoch: 174 / 201 || Time: 2020-12-06 20:13:27 || Accuracy: 99.61 || MAE LossNet: 1.60 || \n",
      "\u001b[2m\u001b[36m(pid=3590)\u001b[0m \u001b[6;30;42mTrain_Stage_0\u001b[0m Epoch: 175 / 201 || Time: 2020-12-06 20:13:28 || Accuracy: 99.61 || MAE LossNet: 1.57 || \n",
      "\u001b[2m\u001b[36m(pid=3590)\u001b[0m \u001b[6;30;42mTrain_Stage_0\u001b[0m Epoch: 176 / 201 || Time: 2020-12-06 20:13:29 || Accuracy: 100.00 || MAE LossNet: 1.51 || \n",
      "\u001b[2m\u001b[36m(pid=3590)\u001b[0m \u001b[6;30;42mTrain_Stage_0\u001b[0m Epoch: 177 / 201 || Time: 2020-12-06 20:13:30 || Accuracy: 99.61 || MAE LossNet: 1.52 || \n",
      "\u001b[2m\u001b[36m(pid=3590)\u001b[0m \u001b[6;30;42mTrain_Stage_0\u001b[0m Epoch: 178 / 201 || Time: 2020-12-06 20:13:31 || Accuracy: 100.00 || MAE LossNet: 1.61 || \n",
      "\u001b[2m\u001b[36m(pid=3590)\u001b[0m \u001b[6;30;42mTrain_Stage_0\u001b[0m Epoch: 179 / 201 || Time: 2020-12-06 20:13:32 || Accuracy: 99.68 || MAE LossNet: 1.63 || \n",
      "\u001b[2m\u001b[36m(pid=3590)\u001b[0m \u001b[6;30;42mTrain_Stage_0\u001b[0m Epoch: 180 / 201 || Time: 2020-12-06 20:13:32 || Accuracy: 99.90 || MAE LossNet: 1.65 || \n",
      "\u001b[2m\u001b[36m(pid=3590)\u001b[0m \u001b[6;30;42mTrain_Stage_0\u001b[0m Epoch: 181 / 201 || Time: 2020-12-06 20:13:34 || Accuracy: 99.90 || MAE LossNet: 1.48 || \n",
      "\u001b[2m\u001b[36m(pid=3590)\u001b[0m \u001b[6;30;42mTrain_Stage_0\u001b[0m Epoch: 182 / 201 || Time: 2020-12-06 20:13:35 || Accuracy: 99.71 || MAE LossNet: 1.59 || \n",
      "\u001b[2m\u001b[36m(pid=3590)\u001b[0m \u001b[6;30;42mTrain_Stage_0\u001b[0m Epoch: 183 / 201 || Time: 2020-12-06 20:13:36 || Accuracy: 99.80 || MAE LossNet: 1.42 || \n",
      "\u001b[2m\u001b[36m(pid=3590)\u001b[0m \u001b[6;30;42mTrain_Stage_0\u001b[0m Epoch: 184 / 201 || Time: 2020-12-06 20:13:37 || Accuracy: 100.00 || MAE LossNet: 1.57 || \n",
      "\u001b[2m\u001b[36m(pid=3590)\u001b[0m \u001b[6;30;42mTrain_Stage_0\u001b[0m Epoch: 185 / 201 || Time: 2020-12-06 20:13:38 || Accuracy: 99.68 || MAE LossNet: 1.54 || \n",
      "\u001b[2m\u001b[36m(pid=3590)\u001b[0m \u001b[6;30;42mTrain_Stage_0\u001b[0m Epoch: 186 / 201 || Time: 2020-12-06 20:13:39 || Accuracy: 99.80 || MAE LossNet: 1.62 || \n",
      "\u001b[2m\u001b[36m(pid=3590)\u001b[0m \u001b[6;30;42mTrain_Stage_0\u001b[0m Epoch: 187 / 201 || Time: 2020-12-06 20:13:39 || Accuracy: 99.80 || MAE LossNet: 1.58 || \n",
      "\u001b[2m\u001b[36m(pid=3590)\u001b[0m \u001b[6;30;42mTrain_Stage_0\u001b[0m Epoch: 188 / 201 || Time: 2020-12-06 20:13:40 || Accuracy: 99.49 || MAE LossNet: 1.48 || \n",
      "\u001b[2m\u001b[36m(pid=3590)\u001b[0m \u001b[6;30;42mTrain_Stage_0\u001b[0m Epoch: 189 / 201 || Time: 2020-12-06 20:13:41 || Accuracy: 99.56 || MAE LossNet: 1.60 || \n"
     ]
    }
   ],
   "source": [
    "NetworkActor =  Active_Learning_train.remote(config, labeled_set, test_set,  0, False)"
   ]
  },
  {
   "cell_type": "code",
   "execution_count": null,
   "metadata": {},
   "outputs": [],
   "source": []
  },
  {
   "cell_type": "code",
   "execution_count": null,
   "metadata": {},
   "outputs": [],
   "source": []
  },
  {
   "cell_type": "code",
   "execution_count": null,
   "metadata": {},
   "outputs": [],
   "source": []
  },
  {
   "cell_type": "markdown",
   "metadata": {},
   "source": [
    "### Set Configuration from the data"
   ]
  },
  {
   "cell_type": "code",
   "execution_count": null,
   "metadata": {},
   "outputs": [],
   "source": [
    "from train_agent_cifar import Active_Learning_train\n",
    "from inference_agent_cifar import Active_Learning_inference"
   ]
  },
  {
   "cell_type": "code",
   "execution_count": null,
   "metadata": {},
   "outputs": [],
   "source": [
    "num_run =0"
   ]
  },
  {
   "cell_type": "code",
   "execution_count": null,
   "metadata": {},
   "outputs": [],
   "source": [
    "initial_weight_path = os.path.join(config['PROJECT']['group_dir'],'Stage_'+str(num_run-1),'checkpoint','epoch200.ckpt-200')"
   ]
  },
  {
   "cell_type": "code",
   "execution_count": null,
   "metadata": {},
   "outputs": [],
   "source": [
    "initial_weight_path"
   ]
  },
  {
   "cell_type": "code",
   "execution_count": null,
   "metadata": {},
   "outputs": [],
   "source": [
    "num_run = 0\n",
    "for num_run in range(6,10):\n",
    "    if num_run==0:\n",
    "        initial_weight_path = False\n",
    "    else:\n",
    "        initial_weight_path = os.path.join(config['PROJECT']['group_dir'],'Stage_'+str(num_run-1),'checkpoint','epoch200.ckpt-200')\n",
    "        \n",
    "        \n",
    "    NetworkActor =  Active_Learning_train.remote(config, labeled_set, test_set,  num_run, initial_weight_path)\n",
    "    NetworkActor.start_training.remote()\n",
    "    \n",
    "    # Wait util the model is training\n",
    "    while True:\n",
    "        time.sleep(10)\n",
    "        try:\n",
    "            progress_id = NetworkActor.isTraining.remote()\n",
    "            response = ray.get(progress_id)\n",
    "            break\n",
    "        except:\n",
    "            pass\n",
    "        \n",
    "    # wait until the model finish training\n",
    "    while True:\n",
    "        time.sleep(10)\n",
    "        progress_id = NetworkActor.isTraining.remote()\n",
    "        response = ray.get(progress_id)\n",
    "        if not response:\n",
    "            break\n",
    "    \n",
    "    NetworkActor.__ray_terminate__.remote()\n",
    "    \n",
    "    del NetworkActor\n",
    "    \n",
    "    if config[\"TRAIN\"][\"w_l_loss\"] > 0:\n",
    "        \n",
    "        weight_file = os.path.join(config['PROJECT']['group_dir'],'Stage_'+str(num_run),'checkpoint','epoch200.ckpt-200')\n",
    "        \n",
    "        AL_inference = Active_Learning_inference.remote( config, unlabeled_set, num_run, weight_file)\n",
    "        AL_inference.evaluate.remote()\n",
    "\n",
    "        run_dir   = os.path.join(config[\"PROJECT\"][\"group_dir\"],\"Stage_\"+str(num_run))\n",
    "        ordered_indexes   = os.path.join(run_dir, \"ordered_indexes.csv\")\n",
    "\n",
    "        # wait the file qith the scores is generated\n",
    "        while True:\n",
    "            time.sleep(10)\n",
    "            if os.path.isfile(ordered_indexes):\n",
    "                break\n",
    "\n",
    "        # read the scores file and create the new labeled set and unlabeled set to repeat the trainig\n",
    "        pd_ordered_indexes = pd.read_csv(ordered_indexes)\n",
    "        new_annotated_data = list(pd_ordered_indexes.iloc[:config[\"RUNS\"][\"ADDENDUM\"]]['indexes'].to_numpy())\n",
    "        labeled_set += new_annotated_data\n",
    "        unlabeled_set =  list(pd_ordered_indexes.iloc[config[\"RUNS\"][\"ADDENDUM\"]:]['indexes'].to_numpy())\n",
    "    else :\n",
    "        num_images = (num_run+2)*config[\"RUNS\"][\"ADDENDUM\"]\n",
    "        labeled_set = indices[: num_images]\n",
    "        unlabeled_set = indices[num_images :]"
   ]
  },
  {
   "cell_type": "code",
   "execution_count": null,
   "metadata": {},
   "outputs": [],
   "source": []
  }
 ],
 "metadata": {
  "kernelspec": {
   "display_name": "Python 3",
   "language": "python",
   "name": "python3"
  },
  "language_info": {
   "codemirror_mode": {
    "name": "ipython",
    "version": 3
   },
   "file_extension": ".py",
   "mimetype": "text/x-python",
   "name": "python",
   "nbconvert_exporter": "python",
   "pygments_lexer": "ipython3",
   "version": "3.7.7"
  }
 },
 "nbformat": 4,
 "nbformat_minor": 4
}
