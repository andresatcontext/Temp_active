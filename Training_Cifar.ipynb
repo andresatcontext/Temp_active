{
 "cells": [
  {
   "cell_type": "markdown",
   "metadata": {},
   "source": [
    "### Init ray"
   ]
  },
  {
   "cell_type": "code",
   "execution_count": 1,
   "metadata": {},
   "outputs": [
    {
     "name": "stderr",
     "output_type": "stream",
     "text": [
      "2020-12-04 15:05:02,654\tINFO worker.py:634 -- Connecting to existing Ray cluster at address: 192.168.8.51:6379\n"
     ]
    },
    {
     "data": {
      "text/plain": [
       "{'node_ip_address': '192.168.8.51',\n",
       " 'raylet_ip_address': '192.168.8.51',\n",
       " 'redis_address': '192.168.8.51:6379',\n",
       " 'object_store_address': '/tmp/ray/session_2020-12-04_15-00-53_639169_14044/sockets/plasma_store',\n",
       " 'raylet_socket_name': '/tmp/ray/session_2020-12-04_15-00-53_639169_14044/sockets/raylet',\n",
       " 'webui_url': '192.168.8.51:8265',\n",
       " 'session_dir': '/tmp/ray/session_2020-12-04_15-00-53_639169_14044',\n",
       " 'metrics_export_port': 51342}"
      ]
     },
     "execution_count": 1,
     "metadata": {},
     "output_type": "execute_result"
    }
   ],
   "source": [
    "import ray\n",
    "ray.init(address=\"auto\", ignore_reinit_error=True)"
   ]
  },
  {
   "cell_type": "markdown",
   "metadata": {},
   "source": [
    "### Load default config"
   ]
  },
  {
   "cell_type": "code",
   "execution_count": 2,
   "metadata": {},
   "outputs": [],
   "source": [
    "# load defaulft config\n",
    "import yaml\n",
    "import os\n",
    "import time\n",
    "import pandas as pd\n",
    "import random\n",
    "\n",
    "config_path = './configs/Active_v0.yml'\n",
    "\n",
    "with open(config_path) as file:\n",
    "    # The FullLoader parameter handles the conversion from YAML\n",
    "    # scalar values to Python the dictionary format\n",
    "    config = yaml.load(file, Loader=yaml.FullLoader)\n",
    "\n",
    "# create base dir and gr\n",
    "if os.path.exists(config[\"PROJECT\"][\"project_dir\"]) is False:\n",
    "    os.mkdir(config[\"PROJECT\"][\"project_dir\"])\n",
    "\n",
    "if os.path.exists(config[\"PROJECT\"][\"group_dir\"]) is False:\n",
    "    os.mkdir(config[\"PROJECT\"][\"group_dir\"])"
   ]
  },
  {
   "cell_type": "markdown",
   "metadata": {},
   "source": [
    "### Get the data to annotate\n",
    "\n",
    "For DataNet we should pass the list of the annotated images"
   ]
  },
  {
   "cell_type": "code",
   "execution_count": 3,
   "metadata": {},
   "outputs": [
    {
     "name": "stderr",
     "output_type": "stream",
     "text": [
      "/home/reminiz/ReminizML2/python_env/lib/python3.7/site-packages/tensorflow/python/framework/dtypes.py:526: FutureWarning: Passing (type, 1) or '1type' as a synonym of type is deprecated; in a future version of numpy, it will be understood as (type, (1,)) / '(1,)type'.\n",
      "  _np_qint8 = np.dtype([(\"qint8\", np.int8, 1)])\n",
      "/home/reminiz/ReminizML2/python_env/lib/python3.7/site-packages/tensorflow/python/framework/dtypes.py:527: FutureWarning: Passing (type, 1) or '1type' as a synonym of type is deprecated; in a future version of numpy, it will be understood as (type, (1,)) / '(1,)type'.\n",
      "  _np_quint8 = np.dtype([(\"quint8\", np.uint8, 1)])\n",
      "/home/reminiz/ReminizML2/python_env/lib/python3.7/site-packages/tensorflow/python/framework/dtypes.py:528: FutureWarning: Passing (type, 1) or '1type' as a synonym of type is deprecated; in a future version of numpy, it will be understood as (type, (1,)) / '(1,)type'.\n",
      "  _np_qint16 = np.dtype([(\"qint16\", np.int16, 1)])\n",
      "/home/reminiz/ReminizML2/python_env/lib/python3.7/site-packages/tensorflow/python/framework/dtypes.py:529: FutureWarning: Passing (type, 1) or '1type' as a synonym of type is deprecated; in a future version of numpy, it will be understood as (type, (1,)) / '(1,)type'.\n",
      "  _np_quint16 = np.dtype([(\"quint16\", np.uint16, 1)])\n",
      "/home/reminiz/ReminizML2/python_env/lib/python3.7/site-packages/tensorflow/python/framework/dtypes.py:530: FutureWarning: Passing (type, 1) or '1type' as a synonym of type is deprecated; in a future version of numpy, it will be understood as (type, (1,)) / '(1,)type'.\n",
      "  _np_qint32 = np.dtype([(\"qint32\", np.int32, 1)])\n",
      "/home/reminiz/ReminizML2/python_env/lib/python3.7/site-packages/tensorflow/python/framework/dtypes.py:535: FutureWarning: Passing (type, 1) or '1type' as a synonym of type is deprecated; in a future version of numpy, it will be understood as (type, (1,)) / '(1,)type'.\n",
      "  np_resource = np.dtype([(\"resource\", np.ubyte, 1)])\n"
     ]
    },
    {
     "name": "stdout",
     "output_type": "stream",
     "text": [
      "CIFAR10 Training data shape: (50000, 32, 32, 3)\n",
      "CIFAR10 Training label shape (50000, 1)\n",
      "CIFAR10 Test data shape (10000, 32, 32, 3)\n",
      "CIFAR10 Test label shape (10000, 1)\n"
     ]
    }
   ],
   "source": [
    "# Get the data to annotate\n",
    "\n",
    "#############################################################################################\n",
    "# LOAD DATA\n",
    "#############################################################################################\n",
    "from data_utils import CIFAR10Data\n",
    "# Load data\n",
    "cifar10_data = CIFAR10Data()\n",
    "num_classes = len(cifar10_data.classes)\n",
    "x_train, y_train, x_test, y_test = cifar10_data.get_data(subtract_mean=True)"
   ]
  },
  {
   "cell_type": "code",
   "execution_count": 4,
   "metadata": {},
   "outputs": [],
   "source": [
    "indices = list(range(len(x_train)))\n",
    "random.shuffle(indices)\n",
    "labeled_set = indices[:config[\"RUNS\"][\"ADDENDUM\"] ]\n",
    "unlabeled_set = indices[config[\"RUNS\"][\"ADDENDUM\"] :]"
   ]
  },
  {
   "cell_type": "code",
   "execution_count": 5,
   "metadata": {},
   "outputs": [],
   "source": [
    "# test with all the images\n",
    "NUM_IMAGES_TEST = len(x_test)\n",
    "# Initialize a labeled dataset by randomly sampling K=ADDENDUM=1,000 data points from the entire dataset.\n",
    "test_set = list(range(NUM_IMAGES_TEST))"
   ]
  },
  {
   "cell_type": "code",
   "execution_count": 6,
   "metadata": {},
   "outputs": [],
   "source": [
    "config[\"NETWORK\"][\"INPUT_SIZE\"] =  x_train[0].shape[0]\n",
    "config[\"NETWORK\"][\"CLASSES\"] = cifar10_data.classes"
   ]
  },
  {
   "cell_type": "code",
   "execution_count": 7,
   "metadata": {},
   "outputs": [
    {
     "data": {
      "text/plain": [
       "{'ACTIVE_ALGO': {'LOSSLEARNING': 1.0},\n",
       " 'DATASET': {'height_shift_range': 4,\n",
       "  'horizontal_flip': True,\n",
       "  'width_shift_range': 4},\n",
       " 'NETWORK': {'CLASSES': ['plane',\n",
       "   'car',\n",
       "   'bird',\n",
       "   'cat',\n",
       "   'deer',\n",
       "   'dog',\n",
       "   'frog',\n",
       "   'horse',\n",
       "   'ship',\n",
       "   'truck'],\n",
       "  'INPUT_SIZE': 32,\n",
       "  'MARGIN': 1.0,\n",
       "  'embedding_size': 128},\n",
       " 'PROJECT': {'Backbone': 'resnet18',\n",
       "  'dataset_name': 'CIFAR',\n",
       "  'group': 'Active_Learning_v0',\n",
       "  'group_dir': '/mnt/Ressources/Andres/Temp_active/runs/Active_Learning_v0',\n",
       "  'project': 'Active_Learning_CIFAR',\n",
       "  'project_dir': '/mnt/Ressources/Andres/Temp_active/runs',\n",
       "  'source': 'CIFAR'},\n",
       " 'RUNS': {'ADDENDUM': 1000,\n",
       "  'CYCLES': 10,\n",
       "  'SUBSET': -1,\n",
       "  'TRIALS': 1,\n",
       "  'test_each': 5},\n",
       " 'TEST': {'batch_size': 128},\n",
       " 'TRAIN': {'Data_augementation': True,\n",
       "  'EPOCH_SLIT': 80,\n",
       "  'EPOCH_WARMUP': 2,\n",
       "  'EPOCH_WHOLE': 120,\n",
       "  'MILESTONES': [160],\n",
       "  'batch_size': 128,\n",
       "  'gamma': 0.1,\n",
       "  'lr': 0.001,\n",
       "  'start_epoch': 0,\n",
       "  'transfer_weight_path': False,\n",
       "  'w_c_loss': 1.0,\n",
       "  'w_l_loss': 1.0,\n",
       "  'wdecay': 0.9995}}"
      ]
     },
     "execution_count": 7,
     "metadata": {},
     "output_type": "execute_result"
    }
   ],
   "source": [
    "config"
   ]
  },
  {
   "cell_type": "markdown",
   "metadata": {},
   "source": [
    "### Set Configuration from the data"
   ]
  },
  {
   "cell_type": "code",
   "execution_count": 8,
   "metadata": {},
   "outputs": [],
   "source": [
    "from train_agent_cifar import Active_Learning_train\n",
    "from inference_agent_cifar import Active_Learning_inference"
   ]
  },
  {
   "cell_type": "code",
   "execution_count": 9,
   "metadata": {},
   "outputs": [],
   "source": [
    "import os\n"
   ]
  },
  {
   "cell_type": "code",
   "execution_count": null,
   "metadata": {},
   "outputs": [],
   "source": []
  },
  {
   "cell_type": "code",
   "execution_count": null,
   "metadata": {},
   "outputs": [],
   "source": []
  },
  {
   "cell_type": "code",
   "execution_count": null,
   "metadata": {},
   "outputs": [
    {
     "name": "stderr",
     "output_type": "stream",
     "text": [
      "\u001b[2m\u001b[36m(pid=13443, ip=192.168.8.54)\u001b[0m /home/reminiz/ReminizML2/python_env/lib/python3.7/site-packages/tensorflow/python/framework/dtypes.py:526: FutureWarning: Passing (type, 1) or '1type' as a synonym of type is deprecated; in a future version of numpy, it will be understood as (type, (1,)) / '(1,)type'.\n",
      "\u001b[2m\u001b[36m(pid=13443, ip=192.168.8.54)\u001b[0m   _np_qint8 = np.dtype([(\"qint8\", np.int8, 1)])\n",
      "\u001b[2m\u001b[36m(pid=13443, ip=192.168.8.54)\u001b[0m /home/reminiz/ReminizML2/python_env/lib/python3.7/site-packages/tensorflow/python/framework/dtypes.py:527: FutureWarning: Passing (type, 1) or '1type' as a synonym of type is deprecated; in a future version of numpy, it will be understood as (type, (1,)) / '(1,)type'.\n",
      "\u001b[2m\u001b[36m(pid=13443, ip=192.168.8.54)\u001b[0m   _np_quint8 = np.dtype([(\"quint8\", np.uint8, 1)])\n",
      "\u001b[2m\u001b[36m(pid=13443, ip=192.168.8.54)\u001b[0m /home/reminiz/ReminizML2/python_env/lib/python3.7/site-packages/tensorflow/python/framework/dtypes.py:528: FutureWarning: Passing (type, 1) or '1type' as a synonym of type is deprecated; in a future version of numpy, it will be understood as (type, (1,)) / '(1,)type'.\n",
      "\u001b[2m\u001b[36m(pid=13443, ip=192.168.8.54)\u001b[0m   _np_qint16 = np.dtype([(\"qint16\", np.int16, 1)])\n",
      "\u001b[2m\u001b[36m(pid=13443, ip=192.168.8.54)\u001b[0m /home/reminiz/ReminizML2/python_env/lib/python3.7/site-packages/tensorflow/python/framework/dtypes.py:529: FutureWarning: Passing (type, 1) or '1type' as a synonym of type is deprecated; in a future version of numpy, it will be understood as (type, (1,)) / '(1,)type'.\n",
      "\u001b[2m\u001b[36m(pid=13443, ip=192.168.8.54)\u001b[0m   _np_quint16 = np.dtype([(\"quint16\", np.uint16, 1)])\n",
      "\u001b[2m\u001b[36m(pid=13443, ip=192.168.8.54)\u001b[0m /home/reminiz/ReminizML2/python_env/lib/python3.7/site-packages/tensorflow/python/framework/dtypes.py:530: FutureWarning: Passing (type, 1) or '1type' as a synonym of type is deprecated; in a future version of numpy, it will be understood as (type, (1,)) / '(1,)type'.\n",
      "\u001b[2m\u001b[36m(pid=13443, ip=192.168.8.54)\u001b[0m   _np_qint32 = np.dtype([(\"qint32\", np.int32, 1)])\n",
      "\u001b[2m\u001b[36m(pid=13443, ip=192.168.8.54)\u001b[0m /home/reminiz/ReminizML2/python_env/lib/python3.7/site-packages/tensorflow/python/framework/dtypes.py:535: FutureWarning: Passing (type, 1) or '1type' as a synonym of type is deprecated; in a future version of numpy, it will be understood as (type, (1,)) / '(1,)type'.\n",
      "\u001b[2m\u001b[36m(pid=13443, ip=192.168.8.54)\u001b[0m   np_resource = np.dtype([(\"resource\", np.ubyte, 1)])\n",
      "\u001b[2m\u001b[36m(pid=13443, ip=192.168.8.54)\u001b[0m /home/reminiz/ReminizML2/python_env/lib/python3.7/site-packages/tensorboard/compat/tensorflow_stub/dtypes.py:541: FutureWarning: Passing (type, 1) or '1type' as a synonym of type is deprecated; in a future version of numpy, it will be understood as (type, (1,)) / '(1,)type'.\n",
      "\u001b[2m\u001b[36m(pid=13443, ip=192.168.8.54)\u001b[0m   _np_qint8 = np.dtype([(\"qint8\", np.int8, 1)])\n",
      "\u001b[2m\u001b[36m(pid=13443, ip=192.168.8.54)\u001b[0m /home/reminiz/ReminizML2/python_env/lib/python3.7/site-packages/tensorboard/compat/tensorflow_stub/dtypes.py:542: FutureWarning: Passing (type, 1) or '1type' as a synonym of type is deprecated; in a future version of numpy, it will be understood as (type, (1,)) / '(1,)type'.\n",
      "\u001b[2m\u001b[36m(pid=13443, ip=192.168.8.54)\u001b[0m   _np_quint8 = np.dtype([(\"quint8\", np.uint8, 1)])\n",
      "\u001b[2m\u001b[36m(pid=13443, ip=192.168.8.54)\u001b[0m /home/reminiz/ReminizML2/python_env/lib/python3.7/site-packages/tensorboard/compat/tensorflow_stub/dtypes.py:543: FutureWarning: Passing (type, 1) or '1type' as a synonym of type is deprecated; in a future version of numpy, it will be understood as (type, (1,)) / '(1,)type'.\n",
      "\u001b[2m\u001b[36m(pid=13443, ip=192.168.8.54)\u001b[0m   _np_qint16 = np.dtype([(\"qint16\", np.int16, 1)])\n",
      "\u001b[2m\u001b[36m(pid=13443, ip=192.168.8.54)\u001b[0m /home/reminiz/ReminizML2/python_env/lib/python3.7/site-packages/tensorboard/compat/tensorflow_stub/dtypes.py:544: FutureWarning: Passing (type, 1) or '1type' as a synonym of type is deprecated; in a future version of numpy, it will be understood as (type, (1,)) / '(1,)type'.\n",
      "\u001b[2m\u001b[36m(pid=13443, ip=192.168.8.54)\u001b[0m   _np_quint16 = np.dtype([(\"quint16\", np.uint16, 1)])\n",
      "\u001b[2m\u001b[36m(pid=13443, ip=192.168.8.54)\u001b[0m /home/reminiz/ReminizML2/python_env/lib/python3.7/site-packages/tensorboard/compat/tensorflow_stub/dtypes.py:545: FutureWarning: Passing (type, 1) or '1type' as a synonym of type is deprecated; in a future version of numpy, it will be understood as (type, (1,)) / '(1,)type'.\n",
      "\u001b[2m\u001b[36m(pid=13443, ip=192.168.8.54)\u001b[0m   _np_qint32 = np.dtype([(\"qint32\", np.int32, 1)])\n",
      "\u001b[2m\u001b[36m(pid=13443, ip=192.168.8.54)\u001b[0m /home/reminiz/ReminizML2/python_env/lib/python3.7/site-packages/tensorboard/compat/tensorflow_stub/dtypes.py:550: FutureWarning: Passing (type, 1) or '1type' as a synonym of type is deprecated; in a future version of numpy, it will be understood as (type, (1,)) / '(1,)type'.\n",
      "\u001b[2m\u001b[36m(pid=13443, ip=192.168.8.54)\u001b[0m   np_resource = np.dtype([(\"resource\", np.ubyte, 1)])\n",
      "\u001b[2m\u001b[36m(pid=13443, ip=192.168.8.54)\u001b[0m wandb: Tracking run with wandb version 0.8.36\n",
      "\u001b[2m\u001b[36m(pid=13443, ip=192.168.8.54)\u001b[0m wandb: Wandb version 0.10.12 is available!  To upgrade, please run:\n",
      "\u001b[2m\u001b[36m(pid=13443, ip=192.168.8.54)\u001b[0m wandb:  $ pip install wandb --upgrade\n",
      "\u001b[2m\u001b[36m(pid=13443, ip=192.168.8.54)\u001b[0m wandb: Run data is saved locally in ../../../Trainings/wandb/wandb/run-20201204_140513-3dbmtbok\n",
      "\u001b[2m\u001b[36m(pid=13443, ip=192.168.8.54)\u001b[0m wandb: Syncing run AL_Train_6\n",
      "\u001b[2m\u001b[36m(pid=13443, ip=192.168.8.54)\u001b[0m wandb: ⭐️ View project at http://192.168.8.51:8080/reminiz/Active_Learning_CIFAR\n",
      "\u001b[2m\u001b[36m(pid=13443, ip=192.168.8.54)\u001b[0m wandb: 🚀 View run at http://192.168.8.51:8080/reminiz/Active_Learning_CIFAR/runs/3dbmtbok\n",
      "\u001b[2m\u001b[36m(pid=13443, ip=192.168.8.54)\u001b[0m wandb: Run `wandb off` to turn off syncing.\n",
      "\u001b[2m\u001b[36m(pid=13443, ip=192.168.8.54)\u001b[0m \n"
     ]
    },
    {
     "name": "stdout",
     "output_type": "stream",
     "text": [
      "\u001b[2m\u001b[36m(pid=13443, ip=192.168.8.54)\u001b[0m CIFAR10 Training data shape: (50000, 32, 32, 3)\n",
      "\u001b[2m\u001b[36m(pid=13443, ip=192.168.8.54)\u001b[0m CIFAR10 Training label shape (50000, 1)\n",
      "\u001b[2m\u001b[36m(pid=13443, ip=192.168.8.54)\u001b[0m CIFAR10 Test data shape (10000, 32, 32, 3)\n",
      "\u001b[2m\u001b[36m(pid=13443, ip=192.168.8.54)\u001b[0m CIFAR10 Test label shape (10000, 1)\n"
     ]
    },
    {
     "name": "stderr",
     "output_type": "stream",
     "text": [
      "\u001b[2m\u001b[36m(pid=13443, ip=192.168.8.54)\u001b[0m WARNING:tensorflow:From /home/reminiz/ReminizML2/python_env/lib/python3.7/site-packages/tensorflow/python/data/ops/dataset_ops.py:429: py_func (from tensorflow.python.ops.script_ops) is deprecated and will be removed in a future version.\n",
      "\u001b[2m\u001b[36m(pid=13443, ip=192.168.8.54)\u001b[0m Instructions for updating:\n",
      "\u001b[2m\u001b[36m(pid=13443, ip=192.168.8.54)\u001b[0m tf.py_func is deprecated in TF V2. Instead, use\n",
      "\u001b[2m\u001b[36m(pid=13443, ip=192.168.8.54)\u001b[0m     tf.py_function, which takes a python function which manipulates tf eager\n",
      "\u001b[2m\u001b[36m(pid=13443, ip=192.168.8.54)\u001b[0m     tensors instead of numpy arrays. It's easy to convert a tf eager tensor to\n",
      "\u001b[2m\u001b[36m(pid=13443, ip=192.168.8.54)\u001b[0m     an ndarray (just call tensor.numpy()) but having access to eager tensors\n",
      "\u001b[2m\u001b[36m(pid=13443, ip=192.168.8.54)\u001b[0m     means `tf.py_function`s can use accelerators such as GPUs as well as\n",
      "\u001b[2m\u001b[36m(pid=13443, ip=192.168.8.54)\u001b[0m     being differentiable using a gradient tape.\n",
      "\u001b[2m\u001b[36m(pid=13443, ip=192.168.8.54)\u001b[0m     \n",
      "\u001b[2m\u001b[36m(pid=13443, ip=192.168.8.54)\u001b[0m WARNING:tensorflow:From /home/reminiz/ReminizML2/python_env/lib/python3.7/site-packages/tensorflow/python/ops/resource_variable_ops.py:435: colocate_with (from tensorflow.python.framework.ops) is deprecated and will be removed in a future version.\n",
      "\u001b[2m\u001b[36m(pid=13443, ip=192.168.8.54)\u001b[0m Instructions for updating:\n",
      "\u001b[2m\u001b[36m(pid=13443, ip=192.168.8.54)\u001b[0m Colocations handled automatically by placer.\n",
      "\u001b[2m\u001b[36m(pid=13443, ip=192.168.8.54)\u001b[0m WARNING:tensorflow:From /home/reminiz/ReminizML2/python_env/lib/python3.7/site-packages/tensorflow/python/ops/math_ops.py:3066: to_int32 (from tensorflow.python.ops.math_ops) is deprecated and will be removed in a future version.\n",
      "\u001b[2m\u001b[36m(pid=13443, ip=192.168.8.54)\u001b[0m Instructions for updating:\n",
      "\u001b[2m\u001b[36m(pid=13443, ip=192.168.8.54)\u001b[0m Use tf.cast instead.\n",
      "\u001b[2m\u001b[36m(pid=13443, ip=192.168.8.54)\u001b[0m 2020-12-04 15:05:27.571475: I tensorflow/core/platform/cpu_feature_guard.cc:141] Your CPU supports instructions that this TensorFlow binary was not compiled to use: AVX2 FMA\n",
      "\u001b[2m\u001b[36m(pid=13443, ip=192.168.8.54)\u001b[0m 2020-12-04 15:05:27.610258: I tensorflow/core/platform/profile_utils/cpu_utils.cc:94] CPU Frequency: 3300095000 Hz\n",
      "\u001b[2m\u001b[36m(pid=13443, ip=192.168.8.54)\u001b[0m 2020-12-04 15:05:27.610735: I tensorflow/compiler/xla/service/service.cc:150] XLA service 0xb7b2ce0 executing computations on platform Host. Devices:\n",
      "\u001b[2m\u001b[36m(pid=13443, ip=192.168.8.54)\u001b[0m 2020-12-04 15:05:27.610758: I tensorflow/compiler/xla/service/service.cc:158]   StreamExecutor device (0): <undefined>, <undefined>\n",
      "\u001b[2m\u001b[36m(pid=13443, ip=192.168.8.54)\u001b[0m 2020-12-04 15:05:27.711017: I tensorflow/compiler/xla/service/service.cc:150] XLA service 0xb7eef80 executing computations on platform CUDA. Devices:\n",
      "\u001b[2m\u001b[36m(pid=13443, ip=192.168.8.54)\u001b[0m 2020-12-04 15:05:27.711050: I tensorflow/compiler/xla/service/service.cc:158]   StreamExecutor device (0): GeForce GTX TITAN X, Compute Capability 5.2\n",
      "\u001b[2m\u001b[36m(pid=13443, ip=192.168.8.54)\u001b[0m 2020-12-04 15:05:27.711189: I tensorflow/core/common_runtime/gpu/gpu_device.cc:1433] Found device 0 with properties: \n",
      "\u001b[2m\u001b[36m(pid=13443, ip=192.168.8.54)\u001b[0m name: GeForce GTX TITAN X major: 5 minor: 2 memoryClockRate(GHz): 1.076\n",
      "\u001b[2m\u001b[36m(pid=13443, ip=192.168.8.54)\u001b[0m pciBusID: 0000:4b:00.0\n",
      "\u001b[2m\u001b[36m(pid=13443, ip=192.168.8.54)\u001b[0m totalMemory: 11.93GiB freeMemory: 11.82GiB\n",
      "\u001b[2m\u001b[36m(pid=13443, ip=192.168.8.54)\u001b[0m 2020-12-04 15:05:27.711215: I tensorflow/core/common_runtime/gpu/gpu_device.cc:1512] Adding visible gpu devices: 0\n",
      "\u001b[2m\u001b[36m(pid=13443, ip=192.168.8.54)\u001b[0m 2020-12-04 15:05:27.712520: I tensorflow/core/common_runtime/gpu/gpu_device.cc:984] Device interconnect StreamExecutor with strength 1 edge matrix:\n",
      "\u001b[2m\u001b[36m(pid=13443, ip=192.168.8.54)\u001b[0m 2020-12-04 15:05:27.712535: I tensorflow/core/common_runtime/gpu/gpu_device.cc:990]      0 \n",
      "\u001b[2m\u001b[36m(pid=13443, ip=192.168.8.54)\u001b[0m 2020-12-04 15:05:27.712542: I tensorflow/core/common_runtime/gpu/gpu_device.cc:1003] 0:   N \n",
      "\u001b[2m\u001b[36m(pid=13443, ip=192.168.8.54)\u001b[0m 2020-12-04 15:05:27.712612: I tensorflow/core/common_runtime/gpu/gpu_device.cc:1115] Created TensorFlow device (/job:localhost/replica:0/task:0/device:GPU:0 with 11498 MB memory) -> physical GPU (device: 0, name: GeForce GTX TITAN X, pci bus id: 0000:4b:00.0, compute capability: 5.2)\n",
      "\u001b[2m\u001b[36m(pid=13443, ip=192.168.8.54)\u001b[0m 2020-12-04 15:05:30,050\tINFO worker.py:634 -- Connecting to existing Ray cluster at address: 192.168.8.51:6379\n",
      "\u001b[2m\u001b[36m(pid=13443, ip=192.168.8.54)\u001b[0m 2020-12-04 15:05:30,050\tERROR worker.py:643 -- Calling ray.init() again after it has already been called.\n",
      "\u001b[2m\u001b[36m(pid=13443, ip=192.168.8.54)\u001b[0m WARNING:tensorflow:From /home/reminiz/ReminizML2/python_env/lib/python3.7/site-packages/tensorflow/python/training/saver.py:1266: checkpoint_exists (from tensorflow.python.training.checkpoint_management) is deprecated and will be removed in a future version.\n",
      "\u001b[2m\u001b[36m(pid=13443, ip=192.168.8.54)\u001b[0m Instructions for updating:\n",
      "\u001b[2m\u001b[36m(pid=13443, ip=192.168.8.54)\u001b[0m Use standard file APIs to check for files with this prefix.\n"
     ]
    },
    {
     "name": "stdout",
     "output_type": "stream",
     "text": [
      "\u001b[2m\u001b[36m(pid=13443, ip=192.168.8.54)\u001b[0m \u001b[6;30;42mAL_Train_6\u001b[0m Path /mnt/Ressources/Andres/Temp_active/runs/Active_Learning_v0/Stage_5/checkpoint/epoch200.ckpt-200\n",
      "\u001b[2m\u001b[36m(pid=13443, ip=192.168.8.54)\u001b[0m \u001b[6;30;42mAL_Train_6\u001b[0m => Restoring weights from: /mnt/Ressources/Andres/Temp_active/runs/Active_Learning_v0/Stage_5/checkpoint/epoch200.ckpt-200 ... \n",
      "\u001b[2m\u001b[36m(pid=13443, ip=192.168.8.54)\u001b[0m \u001b[6;30;42mAL_Train_6\u001b[0m self.steps_per_epoch 8\n"
     ]
    },
    {
     "name": "stderr",
     "output_type": "stream",
     "text": [
      "\u001b[2m\u001b[36m(pid=13443, ip=192.168.8.54)\u001b[0m 2020-12-04 15:05:36.900248: I tensorflow/stream_executor/dso_loader.cc:152] successfully opened CUDA library libcublas.so.10.0 locally\n"
     ]
    },
    {
     "name": "stdout",
     "output_type": "stream",
     "text": [
      "\u001b[2m\u001b[36m(pid=13443, ip=192.168.8.54)\u001b[0m \u001b[6;30;42mAL_Train_6\u001b[0m Epoch:  0 / 201 || Time: 2020-12-04 15:05:40 || Accuracy: 67.44 || MAE LossNet: 2.81 || \n"
     ]
    },
    {
     "name": "stderr",
     "output_type": "stream",
     "text": [
      "\u001b[2m\u001b[36m(pid=5313, ip=192.168.8.53)\u001b[0m /home/reminiz/ReminizML2/python_env/lib/python3.7/site-packages/tensorflow/python/framework/dtypes.py:526: FutureWarning: Passing (type, 1) or '1type' as a synonym of type is deprecated; in a future version of numpy, it will be understood as (type, (1,)) / '(1,)type'.\n",
      "\u001b[2m\u001b[36m(pid=5313, ip=192.168.8.53)\u001b[0m   _np_qint8 = np.dtype([(\"qint8\", np.int8, 1)])\n",
      "\u001b[2m\u001b[36m(pid=5313, ip=192.168.8.53)\u001b[0m /home/reminiz/ReminizML2/python_env/lib/python3.7/site-packages/tensorflow/python/framework/dtypes.py:527: FutureWarning: Passing (type, 1) or '1type' as a synonym of type is deprecated; in a future version of numpy, it will be understood as (type, (1,)) / '(1,)type'.\n",
      "\u001b[2m\u001b[36m(pid=5313, ip=192.168.8.53)\u001b[0m   _np_quint8 = np.dtype([(\"quint8\", np.uint8, 1)])\n",
      "\u001b[2m\u001b[36m(pid=5313, ip=192.168.8.53)\u001b[0m /home/reminiz/ReminizML2/python_env/lib/python3.7/site-packages/tensorflow/python/framework/dtypes.py:528: FutureWarning: Passing (type, 1) or '1type' as a synonym of type is deprecated; in a future version of numpy, it will be understood as (type, (1,)) / '(1,)type'.\n",
      "\u001b[2m\u001b[36m(pid=5313, ip=192.168.8.53)\u001b[0m   _np_qint16 = np.dtype([(\"qint16\", np.int16, 1)])\n",
      "\u001b[2m\u001b[36m(pid=5313, ip=192.168.8.53)\u001b[0m /home/reminiz/ReminizML2/python_env/lib/python3.7/site-packages/tensorflow/python/framework/dtypes.py:529: FutureWarning: Passing (type, 1) or '1type' as a synonym of type is deprecated; in a future version of numpy, it will be understood as (type, (1,)) / '(1,)type'.\n",
      "\u001b[2m\u001b[36m(pid=5313, ip=192.168.8.53)\u001b[0m   _np_quint16 = np.dtype([(\"quint16\", np.uint16, 1)])\n",
      "\u001b[2m\u001b[36m(pid=5313, ip=192.168.8.53)\u001b[0m /home/reminiz/ReminizML2/python_env/lib/python3.7/site-packages/tensorflow/python/framework/dtypes.py:530: FutureWarning: Passing (type, 1) or '1type' as a synonym of type is deprecated; in a future version of numpy, it will be understood as (type, (1,)) / '(1,)type'.\n",
      "\u001b[2m\u001b[36m(pid=5313, ip=192.168.8.53)\u001b[0m   _np_qint32 = np.dtype([(\"qint32\", np.int32, 1)])\n",
      "\u001b[2m\u001b[36m(pid=5313, ip=192.168.8.53)\u001b[0m /home/reminiz/ReminizML2/python_env/lib/python3.7/site-packages/tensorflow/python/framework/dtypes.py:535: FutureWarning: Passing (type, 1) or '1type' as a synonym of type is deprecated; in a future version of numpy, it will be understood as (type, (1,)) / '(1,)type'.\n",
      "\u001b[2m\u001b[36m(pid=5313, ip=192.168.8.53)\u001b[0m   np_resource = np.dtype([(\"resource\", np.ubyte, 1)])\n",
      "\u001b[2m\u001b[36m(pid=5313, ip=192.168.8.53)\u001b[0m wandb: Tracking run with wandb version 0.8.36\n",
      "\u001b[2m\u001b[36m(pid=5313, ip=192.168.8.53)\u001b[0m wandb: Wandb version 0.10.12 is available!  To upgrade, please run:\n",
      "\u001b[2m\u001b[36m(pid=5313, ip=192.168.8.53)\u001b[0m wandb:  $ pip install wandb --upgrade\n",
      "\u001b[2m\u001b[36m(pid=5313, ip=192.168.8.53)\u001b[0m wandb: Run data is saved locally in ../../../Trainings/wandb/wandb/run-20201204_140549-32tlp2kp\n",
      "\u001b[2m\u001b[36m(pid=5313, ip=192.168.8.53)\u001b[0m wandb: Syncing run AL_Test_6\n",
      "\u001b[2m\u001b[36m(pid=5313, ip=192.168.8.53)\u001b[0m wandb: ⭐️ View project at http://192.168.8.51:8080/reminiz/Active_Learning_CIFAR\n",
      "\u001b[2m\u001b[36m(pid=5313, ip=192.168.8.53)\u001b[0m wandb: 🚀 View run at http://192.168.8.51:8080/reminiz/Active_Learning_CIFAR/runs/32tlp2kp\n",
      "\u001b[2m\u001b[36m(pid=5313, ip=192.168.8.53)\u001b[0m wandb: Run `wandb off` to turn off syncing.\n",
      "\u001b[2m\u001b[36m(pid=5313, ip=192.168.8.53)\u001b[0m \n"
     ]
    },
    {
     "name": "stdout",
     "output_type": "stream",
     "text": [
      "\u001b[2m\u001b[36m(pid=5313, ip=192.168.8.53)\u001b[0m CIFAR10 Training data shape: (50000, 32, 32, 3)\n",
      "\u001b[2m\u001b[36m(pid=5313, ip=192.168.8.53)\u001b[0m CIFAR10 Training label shape (50000, 1)\n",
      "\u001b[2m\u001b[36m(pid=5313, ip=192.168.8.53)\u001b[0m CIFAR10 Test data shape (10000, 32, 32, 3)\n",
      "\u001b[2m\u001b[36m(pid=5313, ip=192.168.8.53)\u001b[0m CIFAR10 Test label shape (10000, 1)\n"
     ]
    },
    {
     "name": "stderr",
     "output_type": "stream",
     "text": [
      "\u001b[2m\u001b[36m(pid=5313, ip=192.168.8.53)\u001b[0m WARNING:tensorflow:From /home/reminiz/ReminizML2/python_env/lib/python3.7/site-packages/tensorflow/python/data/ops/dataset_ops.py:429: py_func (from tensorflow.python.ops.script_ops) is deprecated and will be removed in a future version.\n",
      "\u001b[2m\u001b[36m(pid=5313, ip=192.168.8.53)\u001b[0m Instructions for updating:\n",
      "\u001b[2m\u001b[36m(pid=5313, ip=192.168.8.53)\u001b[0m tf.py_func is deprecated in TF V2. Instead, use\n",
      "\u001b[2m\u001b[36m(pid=5313, ip=192.168.8.53)\u001b[0m     tf.py_function, which takes a python function which manipulates tf eager\n",
      "\u001b[2m\u001b[36m(pid=5313, ip=192.168.8.53)\u001b[0m     tensors instead of numpy arrays. It's easy to convert a tf eager tensor to\n",
      "\u001b[2m\u001b[36m(pid=5313, ip=192.168.8.53)\u001b[0m     an ndarray (just call tensor.numpy()) but having access to eager tensors\n",
      "\u001b[2m\u001b[36m(pid=5313, ip=192.168.8.53)\u001b[0m     means `tf.py_function`s can use accelerators such as GPUs as well as\n",
      "\u001b[2m\u001b[36m(pid=5313, ip=192.168.8.53)\u001b[0m     being differentiable using a gradient tape.\n",
      "\u001b[2m\u001b[36m(pid=5313, ip=192.168.8.53)\u001b[0m     \n",
      "\u001b[2m\u001b[36m(pid=5313, ip=192.168.8.53)\u001b[0m WARNING:tensorflow:From /home/reminiz/ReminizML2/python_env/lib/python3.7/site-packages/tensorflow/python/ops/resource_variable_ops.py:435: colocate_with (from tensorflow.python.framework.ops) is deprecated and will be removed in a future version.\n",
      "\u001b[2m\u001b[36m(pid=5313, ip=192.168.8.53)\u001b[0m Instructions for updating:\n",
      "\u001b[2m\u001b[36m(pid=5313, ip=192.168.8.53)\u001b[0m Colocations handled automatically by placer.\n",
      "\u001b[2m\u001b[36m(pid=5313, ip=192.168.8.53)\u001b[0m 2020-12-04 15:05:53.097733: I tensorflow/core/platform/cpu_feature_guard.cc:141] Your CPU supports instructions that this TensorFlow binary was not compiled to use: AVX2 FMA\n",
      "\u001b[2m\u001b[36m(pid=5313, ip=192.168.8.53)\u001b[0m 2020-12-04 15:05:53.121129: I tensorflow/core/platform/profile_utils/cpu_utils.cc:94] CPU Frequency: 3499950000 Hz\n",
      "\u001b[2m\u001b[36m(pid=5313, ip=192.168.8.53)\u001b[0m 2020-12-04 15:05:53.121649: I tensorflow/compiler/xla/service/service.cc:150] XLA service 0x5586da05bbd0 executing computations on platform Host. Devices:\n",
      "\u001b[2m\u001b[36m(pid=5313, ip=192.168.8.53)\u001b[0m 2020-12-04 15:05:53.121669: I tensorflow/compiler/xla/service/service.cc:158]   StreamExecutor device (0): <undefined>, <undefined>\n",
      "\u001b[2m\u001b[36m(pid=5313, ip=192.168.8.53)\u001b[0m 2020-12-04 15:05:53.251757: I tensorflow/compiler/xla/service/service.cc:150] XLA service 0x5586da02a840 executing computations on platform CUDA. Devices:\n",
      "\u001b[2m\u001b[36m(pid=5313, ip=192.168.8.53)\u001b[0m 2020-12-04 15:05:53.251799: I tensorflow/compiler/xla/service/service.cc:158]   StreamExecutor device (0): GeForce GTX TITAN X, Compute Capability 5.2\n",
      "\u001b[2m\u001b[36m(pid=5313, ip=192.168.8.53)\u001b[0m 2020-12-04 15:05:53.251971: I tensorflow/core/common_runtime/gpu/gpu_device.cc:1433] Found device 0 with properties: \n",
      "\u001b[2m\u001b[36m(pid=5313, ip=192.168.8.53)\u001b[0m name: GeForce GTX TITAN X major: 5 minor: 2 memoryClockRate(GHz): 1.266\n",
      "\u001b[2m\u001b[36m(pid=5313, ip=192.168.8.53)\u001b[0m pciBusID: 0000:03:00.0\n",
      "\u001b[2m\u001b[36m(pid=5313, ip=192.168.8.53)\u001b[0m totalMemory: 11.92GiB freeMemory: 11.78GiB\n",
      "\u001b[2m\u001b[36m(pid=5313, ip=192.168.8.53)\u001b[0m 2020-12-04 15:05:53.251999: I tensorflow/core/common_runtime/gpu/gpu_device.cc:1512] Adding visible gpu devices: 0\n",
      "\u001b[2m\u001b[36m(pid=5313, ip=192.168.8.53)\u001b[0m 2020-12-04 15:05:53.254334: I tensorflow/core/common_runtime/gpu/gpu_device.cc:984] Device interconnect StreamExecutor with strength 1 edge matrix:\n",
      "\u001b[2m\u001b[36m(pid=5313, ip=192.168.8.53)\u001b[0m 2020-12-04 15:05:53.254361: I tensorflow/core/common_runtime/gpu/gpu_device.cc:990]      0 \n",
      "\u001b[2m\u001b[36m(pid=5313, ip=192.168.8.53)\u001b[0m 2020-12-04 15:05:53.254371: I tensorflow/core/common_runtime/gpu/gpu_device.cc:1003] 0:   N \n",
      "\u001b[2m\u001b[36m(pid=5313, ip=192.168.8.53)\u001b[0m 2020-12-04 15:05:53.254465: I tensorflow/core/common_runtime/gpu/gpu_device.cc:1115] Created TensorFlow device (/job:localhost/replica:0/task:0/device:GPU:0 with 11462 MB memory) -> physical GPU (device: 0, name: GeForce GTX TITAN X, pci bus id: 0000:03:00.0, compute capability: 5.2)\n",
      "\u001b[2m\u001b[36m(pid=5313, ip=192.168.8.53)\u001b[0m WARNING:tensorflow:From /home/reminiz/ReminizML2/python_env/lib/python3.7/site-packages/tensorflow/python/training/saver.py:1266: checkpoint_exists (from tensorflow.python.training.checkpoint_management) is deprecated and will be removed in a future version.\n",
      "\u001b[2m\u001b[36m(pid=5313, ip=192.168.8.53)\u001b[0m Instructions for updating:\n",
      "\u001b[2m\u001b[36m(pid=5313, ip=192.168.8.53)\u001b[0m Use standard file APIs to check for files with this prefix.\n"
     ]
    },
    {
     "name": "stdout",
     "output_type": "stream",
     "text": [
      "\u001b[2m\u001b[36m(pid=5313, ip=192.168.8.53)\u001b[0m \u001b[6;30;42mAL_Test_6\u001b[0m Restoring from /mnt/Ressources/Andres/Temp_active/runs/Active_Learning_v0/Stage_6/checkpoint/epoch0.ckpt-0\n"
     ]
    },
    {
     "name": "stderr",
     "output_type": "stream",
     "text": [
      "\u001b[2m\u001b[36m(pid=5313, ip=192.168.8.53)\u001b[0m 2020-12-04 15:05:54.739276: I tensorflow/stream_executor/dso_loader.cc:152] successfully opened CUDA library libcublas.so.10.0 locally\n"
     ]
    },
    {
     "name": "stdout",
     "output_type": "stream",
     "text": [
      "\u001b[2m\u001b[36m(pid=13443, ip=192.168.8.54)\u001b[0m \u001b[6;30;42mAL_Train_6\u001b[0m Epoch:  1 / 201 || Time: 2020-12-04 15:05:55 || Accuracy: 72.96 || MAE LossNet: 1.75 || \n",
      "\u001b[2m\u001b[36m(pid=13443, ip=192.168.8.54)\u001b[0m \u001b[6;30;42mAL_Train_6\u001b[0m Epoch:  2 / 201 || Time: 2020-12-04 15:05:57 || Accuracy: 73.81 || MAE LossNet: 1.18 || \n",
      "\u001b[2m\u001b[36m(pid=13443, ip=192.168.8.54)\u001b[0m \u001b[6;30;42mAL_Train_6\u001b[0m Epoch:  3 / 201 || Time: 2020-12-04 15:05:58 || Accuracy: 78.39 || MAE LossNet: 0.91 || \n",
      "\u001b[2m\u001b[36m(pid=5313, ip=192.168.8.53)\u001b[0m \u001b[6;30;42mAL_Test_6\u001b[0m Test || Epoch:  0 || Accuracy: 65.54 || \n"
     ]
    },
    {
     "name": "stderr",
     "output_type": "stream",
     "text": [
      "\u001b[2m\u001b[36m(pid=5313, ip=192.168.8.53)\u001b[0m \n",
      "\u001b[2m\u001b[36m(pid=5313, ip=192.168.8.53)\u001b[0m wandb: Waiting for W&B process to finish, PID 11861\n",
      "\u001b[2m\u001b[36m(pid=5313, ip=192.168.8.53)\u001b[0m wandb: Program ended successfully.\n"
     ]
    },
    {
     "name": "stdout",
     "output_type": "stream",
     "text": [
      "\u001b[2m\u001b[36m(pid=13443, ip=192.168.8.54)\u001b[0m \u001b[6;30;42mAL_Train_6\u001b[0m Epoch:  4 / 201 || Time: 2020-12-04 15:06:00 || Accuracy: 81.36 || MAE LossNet: 0.76 || \n",
      "\u001b[2m\u001b[36m(pid=13443, ip=192.168.8.54)\u001b[0m \u001b[6;30;42mAL_Train_6\u001b[0m Epoch:  5 / 201 || Time: 2020-12-04 15:06:01 || Accuracy: 86.09 || MAE LossNet: 0.70 || \n"
     ]
    },
    {
     "name": "stderr",
     "output_type": "stream",
     "text": [
      "\u001b[2m\u001b[36m(pid=5313, ip=192.168.8.53)\u001b[0m wandb: Run summary:\n",
      "\u001b[2m\u001b[36m(pid=5313, ip=192.168.8.53)\u001b[0m wandb:                                  F1 score 0.6524888265362071\n",
      "\u001b[2m\u001b[36m(pid=5313, ip=192.168.8.53)\u001b[0m wandb:             Test: Classification Accuracy 0.6554\n",
      "\u001b[2m\u001b[36m(pid=5313, ip=192.168.8.53)\u001b[0m wandb:                                     _step 0\n",
      "\u001b[2m\u001b[36m(pid=5313, ip=192.168.8.53)\u001b[0m wandb:                     Mean squared error v2 42.377113342285156\n",
      "\u001b[2m\u001b[36m(pid=5313, ip=192.168.8.53)\u001b[0m wandb:                Area Under the Curve (AUC) 0.7787617039635539\n",
      "\u001b[2m\u001b[36m(pid=5313, ip=192.168.8.53)\u001b[0m wandb:                    Mean absolute error v2 4.587334156036377\n",
      "\u001b[2m\u001b[36m(pid=5313, ip=192.168.8.53)\u001b[0m wandb:                     Explained variance v2 -0.10511350631713867\n",
      "\u001b[2m\u001b[36m(pid=5313, ip=192.168.8.53)\u001b[0m wandb:                                _timestamp 1607090759.3677466\n",
      "\u001b[2m\u001b[36m(pid=5313, ip=192.168.8.53)\u001b[0m wandb:                                  _runtime 10.546250581741333\n",
      "\u001b[2m\u001b[36m(pid=5313, ip=192.168.8.53)\u001b[0m wandb:                    Mean absolute error v1 3.6196930408477783\n",
      "\u001b[2m\u001b[36m(pid=5313, ip=192.168.8.53)\u001b[0m wandb:                     Explained variance v1 -0.1942373514175415\n",
      "\u001b[2m\u001b[36m(pid=5313, ip=192.168.8.53)\u001b[0m wandb:                     Mean squared error v1 31.220067977905273\n",
      "\u001b[2m\u001b[36m(pid=5313, ip=192.168.8.53)\u001b[0m wandb: Syncing files in ../../../Trainings/wandb/wandb/run-20201204_140549-32tlp2kp:\n",
      "\u001b[2m\u001b[36m(pid=5313, ip=192.168.8.53)\u001b[0m wandb:   code/default_worker.py\n",
      "\u001b[2m\u001b[36m(pid=5313, ip=192.168.8.53)\u001b[0m wandb: plus 8 W&B file(s) and 2 media file(s)\n",
      "\u001b[2m\u001b[36m(pid=5313, ip=192.168.8.53)\u001b[0m wandb: - 1.86MB of 1.86MB uploaded\n",
      "\u001b[2m\u001b[36m(pid=5313, ip=192.168.8.53)\u001b[0m wandb: \\ 1.86MB of 1.86MB uploaded\n",
      "\u001b[2m\u001b[36m(pid=5313, ip=192.168.8.53)\u001b[0m wandb: | 1.86MB of 1.86MB uploaded\n",
      "\u001b[2m\u001b[36m(pid=5313, ip=192.168.8.53)\u001b[0m wandb: / 1.86MB of 1.86MB uploaded\n",
      "\u001b[2m\u001b[36m(pid=5313, ip=192.168.8.53)\u001b[0m wandb: - 1.86MB of 1.86MB uploaded\n",
      "wandb:                                                                                \n",
      "\u001b[2m\u001b[36m(pid=5313, ip=192.168.8.53)\u001b[0m wandb: Synced AL_Test_6: http://192.168.8.51:8080/reminiz/Active_Learning_CIFAR/runs/32tlp2kp\n",
      "\u001b[2m\u001b[36m(pid=5306, ip=192.168.8.53)\u001b[0m /home/reminiz/ReminizML2/python_env/lib/python3.7/site-packages/tensorflow/python/framework/dtypes.py:526: FutureWarning: Passing (type, 1) or '1type' as a synonym of type is deprecated; in a future version of numpy, it will be understood as (type, (1,)) / '(1,)type'.\n",
      "\u001b[2m\u001b[36m(pid=5306, ip=192.168.8.53)\u001b[0m   _np_qint8 = np.dtype([(\"qint8\", np.int8, 1)])\n",
      "\u001b[2m\u001b[36m(pid=5306, ip=192.168.8.53)\u001b[0m /home/reminiz/ReminizML2/python_env/lib/python3.7/site-packages/tensorflow/python/framework/dtypes.py:527: FutureWarning: Passing (type, 1) or '1type' as a synonym of type is deprecated; in a future version of numpy, it will be understood as (type, (1,)) / '(1,)type'.\n",
      "\u001b[2m\u001b[36m(pid=5306, ip=192.168.8.53)\u001b[0m   _np_quint8 = np.dtype([(\"quint8\", np.uint8, 1)])\n",
      "\u001b[2m\u001b[36m(pid=5306, ip=192.168.8.53)\u001b[0m /home/reminiz/ReminizML2/python_env/lib/python3.7/site-packages/tensorflow/python/framework/dtypes.py:528: FutureWarning: Passing (type, 1) or '1type' as a synonym of type is deprecated; in a future version of numpy, it will be understood as (type, (1,)) / '(1,)type'.\n",
      "\u001b[2m\u001b[36m(pid=5306, ip=192.168.8.53)\u001b[0m   _np_qint16 = np.dtype([(\"qint16\", np.int16, 1)])\n",
      "\u001b[2m\u001b[36m(pid=5306, ip=192.168.8.53)\u001b[0m /home/reminiz/ReminizML2/python_env/lib/python3.7/site-packages/tensorflow/python/framework/dtypes.py:529: FutureWarning: Passing (type, 1) or '1type' as a synonym of type is deprecated; in a future version of numpy, it will be understood as (type, (1,)) / '(1,)type'.\n",
      "\u001b[2m\u001b[36m(pid=5306, ip=192.168.8.53)\u001b[0m   _np_quint16 = np.dtype([(\"quint16\", np.uint16, 1)])\n",
      "\u001b[2m\u001b[36m(pid=5306, ip=192.168.8.53)\u001b[0m /home/reminiz/ReminizML2/python_env/lib/python3.7/site-packages/tensorflow/python/framework/dtypes.py:530: FutureWarning: Passing (type, 1) or '1type' as a synonym of type is deprecated; in a future version of numpy, it will be understood as (type, (1,)) / '(1,)type'.\n",
      "\u001b[2m\u001b[36m(pid=5306, ip=192.168.8.53)\u001b[0m   _np_qint32 = np.dtype([(\"qint32\", np.int32, 1)])\n",
      "\u001b[2m\u001b[36m(pid=5306, ip=192.168.8.53)\u001b[0m /home/reminiz/ReminizML2/python_env/lib/python3.7/site-packages/tensorflow/python/framework/dtypes.py:535: FutureWarning: Passing (type, 1) or '1type' as a synonym of type is deprecated; in a future version of numpy, it will be understood as (type, (1,)) / '(1,)type'.\n",
      "\u001b[2m\u001b[36m(pid=5306, ip=192.168.8.53)\u001b[0m   np_resource = np.dtype([(\"resource\", np.ubyte, 1)])\n"
     ]
    },
    {
     "name": "stdout",
     "output_type": "stream",
     "text": [
      "\u001b[2m\u001b[36m(pid=13443, ip=192.168.8.54)\u001b[0m \u001b[6;30;42mAL_Train_6\u001b[0m Epoch:  6 / 201 || Time: 2020-12-04 15:06:08 || Accuracy: 86.55 || MAE LossNet: 0.70 || \n"
     ]
    },
    {
     "name": "stderr",
     "output_type": "stream",
     "text": [
      "\u001b[2m\u001b[36m(pid=5306, ip=192.168.8.53)\u001b[0m wandb: Tracking run with wandb version 0.8.36\n",
      "\u001b[2m\u001b[36m(pid=5306, ip=192.168.8.53)\u001b[0m wandb: Wandb version 0.10.12 is available!  To upgrade, please run:\n",
      "\u001b[2m\u001b[36m(pid=5306, ip=192.168.8.53)\u001b[0m wandb:  $ pip install wandb --upgrade\n",
      "\u001b[2m\u001b[36m(pid=5306, ip=192.168.8.53)\u001b[0m wandb: Run data is saved locally in ../../../Trainings/wandb/wandb/run-20201204_140608-32tlp2kp\n",
      "\u001b[2m\u001b[36m(pid=5306, ip=192.168.8.53)\u001b[0m wandb: Syncing run AL_Test_6\n",
      "\u001b[2m\u001b[36m(pid=5306, ip=192.168.8.53)\u001b[0m wandb: ⭐️ View project at http://192.168.8.51:8080/reminiz/Active_Learning_CIFAR\n",
      "\u001b[2m\u001b[36m(pid=5306, ip=192.168.8.53)\u001b[0m wandb: 🚀 View run at http://192.168.8.51:8080/reminiz/Active_Learning_CIFAR/runs/32tlp2kp\n",
      "\u001b[2m\u001b[36m(pid=5306, ip=192.168.8.53)\u001b[0m wandb: Run `wandb off` to turn off syncing.\n",
      "\u001b[2m\u001b[36m(pid=5306, ip=192.168.8.53)\u001b[0m \n"
     ]
    },
    {
     "name": "stdout",
     "output_type": "stream",
     "text": [
      "\u001b[2m\u001b[36m(pid=13443, ip=192.168.8.54)\u001b[0m \u001b[6;30;42mAL_Train_6\u001b[0m Epoch:  7 / 201 || Time: 2020-12-04 15:06:09 || Accuracy: 87.99 || MAE LossNet: 0.64 || \n",
      "\u001b[2m\u001b[36m(pid=5306, ip=192.168.8.53)\u001b[0m CIFAR10 Training data shape: (50000, 32, 32, 3)\n",
      "\u001b[2m\u001b[36m(pid=5306, ip=192.168.8.53)\u001b[0m CIFAR10 Training label shape (50000, 1)\n",
      "\u001b[2m\u001b[36m(pid=5306, ip=192.168.8.53)\u001b[0m CIFAR10 Test data shape (10000, 32, 32, 3)\n",
      "\u001b[2m\u001b[36m(pid=5306, ip=192.168.8.53)\u001b[0m CIFAR10 Test label shape (10000, 1)\n"
     ]
    },
    {
     "name": "stderr",
     "output_type": "stream",
     "text": [
      "\u001b[2m\u001b[36m(pid=5306, ip=192.168.8.53)\u001b[0m WARNING:tensorflow:From /home/reminiz/ReminizML2/python_env/lib/python3.7/site-packages/tensorflow/python/data/ops/dataset_ops.py:429: py_func (from tensorflow.python.ops.script_ops) is deprecated and will be removed in a future version.\n",
      "\u001b[2m\u001b[36m(pid=5306, ip=192.168.8.53)\u001b[0m Instructions for updating:\n",
      "\u001b[2m\u001b[36m(pid=5306, ip=192.168.8.53)\u001b[0m tf.py_func is deprecated in TF V2. Instead, use\n",
      "\u001b[2m\u001b[36m(pid=5306, ip=192.168.8.53)\u001b[0m     tf.py_function, which takes a python function which manipulates tf eager\n",
      "\u001b[2m\u001b[36m(pid=5306, ip=192.168.8.53)\u001b[0m     tensors instead of numpy arrays. It's easy to convert a tf eager tensor to\n",
      "\u001b[2m\u001b[36m(pid=5306, ip=192.168.8.53)\u001b[0m     an ndarray (just call tensor.numpy()) but having access to eager tensors\n",
      "\u001b[2m\u001b[36m(pid=5306, ip=192.168.8.53)\u001b[0m     means `tf.py_function`s can use accelerators such as GPUs as well as\n",
      "\u001b[2m\u001b[36m(pid=5306, ip=192.168.8.53)\u001b[0m     being differentiable using a gradient tape.\n",
      "\u001b[2m\u001b[36m(pid=5306, ip=192.168.8.53)\u001b[0m     \n",
      "\u001b[2m\u001b[36m(pid=5306, ip=192.168.8.53)\u001b[0m WARNING:tensorflow:From /home/reminiz/ReminizML2/python_env/lib/python3.7/site-packages/tensorflow/python/ops/resource_variable_ops.py:435: colocate_with (from tensorflow.python.framework.ops) is deprecated and will be removed in a future version.\n",
      "\u001b[2m\u001b[36m(pid=5306, ip=192.168.8.53)\u001b[0m Instructions for updating:\n",
      "\u001b[2m\u001b[36m(pid=5306, ip=192.168.8.53)\u001b[0m Colocations handled automatically by placer.\n"
     ]
    },
    {
     "name": "stdout",
     "output_type": "stream",
     "text": [
      "\u001b[2m\u001b[36m(pid=13443, ip=192.168.8.54)\u001b[0m \u001b[6;30;42mAL_Train_6\u001b[0m Epoch:  8 / 201 || Time: 2020-12-04 15:06:11 || Accuracy: 88.62 || MAE LossNet: 0.66 || \n"
     ]
    },
    {
     "name": "stderr",
     "output_type": "stream",
     "text": [
      "\u001b[2m\u001b[36m(pid=5306, ip=192.168.8.53)\u001b[0m 2020-12-04 15:06:12.308186: I tensorflow/core/platform/cpu_feature_guard.cc:141] Your CPU supports instructions that this TensorFlow binary was not compiled to use: AVX2 FMA\n",
      "\u001b[2m\u001b[36m(pid=5306, ip=192.168.8.53)\u001b[0m 2020-12-04 15:06:12.329149: I tensorflow/core/platform/profile_utils/cpu_utils.cc:94] CPU Frequency: 3499950000 Hz\n",
      "\u001b[2m\u001b[36m(pid=5306, ip=192.168.8.53)\u001b[0m 2020-12-04 15:06:12.329700: I tensorflow/compiler/xla/service/service.cc:150] XLA service 0x560374f93930 executing computations on platform Host. Devices:\n",
      "\u001b[2m\u001b[36m(pid=5306, ip=192.168.8.53)\u001b[0m 2020-12-04 15:06:12.329729: I tensorflow/compiler/xla/service/service.cc:158]   StreamExecutor device (0): <undefined>, <undefined>\n",
      "\u001b[2m\u001b[36m(pid=5306, ip=192.168.8.53)\u001b[0m 2020-12-04 15:06:12.443299: I tensorflow/compiler/xla/service/service.cc:150] XLA service 0x560371f46a50 executing computations on platform CUDA. Devices:\n",
      "\u001b[2m\u001b[36m(pid=5306, ip=192.168.8.53)\u001b[0m 2020-12-04 15:06:12.443339: I tensorflow/compiler/xla/service/service.cc:158]   StreamExecutor device (0): GeForce GTX TITAN X, Compute Capability 5.2\n",
      "\u001b[2m\u001b[36m(pid=5306, ip=192.168.8.53)\u001b[0m 2020-12-04 15:06:12.443505: I tensorflow/core/common_runtime/gpu/gpu_device.cc:1433] Found device 0 with properties: \n",
      "\u001b[2m\u001b[36m(pid=5306, ip=192.168.8.53)\u001b[0m name: GeForce GTX TITAN X major: 5 minor: 2 memoryClockRate(GHz): 1.266\n",
      "\u001b[2m\u001b[36m(pid=5306, ip=192.168.8.53)\u001b[0m pciBusID: 0000:03:00.0\n",
      "\u001b[2m\u001b[36m(pid=5306, ip=192.168.8.53)\u001b[0m totalMemory: 11.92GiB freeMemory: 11.78GiB\n",
      "\u001b[2m\u001b[36m(pid=5306, ip=192.168.8.53)\u001b[0m 2020-12-04 15:06:12.443544: I tensorflow/core/common_runtime/gpu/gpu_device.cc:1512] Adding visible gpu devices: 0\n",
      "\u001b[2m\u001b[36m(pid=5306, ip=192.168.8.53)\u001b[0m 2020-12-04 15:06:12.445742: I tensorflow/core/common_runtime/gpu/gpu_device.cc:984] Device interconnect StreamExecutor with strength 1 edge matrix:\n",
      "\u001b[2m\u001b[36m(pid=5306, ip=192.168.8.53)\u001b[0m 2020-12-04 15:06:12.445765: I tensorflow/core/common_runtime/gpu/gpu_device.cc:990]      0 \n",
      "\u001b[2m\u001b[36m(pid=5306, ip=192.168.8.53)\u001b[0m 2020-12-04 15:06:12.445775: I tensorflow/core/common_runtime/gpu/gpu_device.cc:1003] 0:   N \n",
      "\u001b[2m\u001b[36m(pid=5306, ip=192.168.8.53)\u001b[0m 2020-12-04 15:06:12.445864: I tensorflow/core/common_runtime/gpu/gpu_device.cc:1115] Created TensorFlow device (/job:localhost/replica:0/task:0/device:GPU:0 with 11462 MB memory) -> physical GPU (device: 0, name: GeForce GTX TITAN X, pci bus id: 0000:03:00.0, compute capability: 5.2)\n"
     ]
    },
    {
     "name": "stdout",
     "output_type": "stream",
     "text": [
      "\u001b[2m\u001b[36m(pid=5306, ip=192.168.8.53)\u001b[0m \u001b[6;30;42mAL_Test_6\u001b[0m Restoring from /mnt/Ressources/Andres/Temp_active/runs/Active_Learning_v0/Stage_6/checkpoint/epoch5.ckpt-5\n"
     ]
    },
    {
     "name": "stderr",
     "output_type": "stream",
     "text": [
      "\u001b[2m\u001b[36m(pid=5306, ip=192.168.8.53)\u001b[0m WARNING:tensorflow:From /home/reminiz/ReminizML2/python_env/lib/python3.7/site-packages/tensorflow/python/training/saver.py:1266: checkpoint_exists (from tensorflow.python.training.checkpoint_management) is deprecated and will be removed in a future version.\n",
      "\u001b[2m\u001b[36m(pid=5306, ip=192.168.8.53)\u001b[0m Instructions for updating:\n",
      "\u001b[2m\u001b[36m(pid=5306, ip=192.168.8.53)\u001b[0m Use standard file APIs to check for files with this prefix.\n"
     ]
    },
    {
     "name": "stdout",
     "output_type": "stream",
     "text": [
      "\u001b[2m\u001b[36m(pid=13443, ip=192.168.8.54)\u001b[0m \u001b[6;30;42mAL_Train_6\u001b[0m Epoch:  9 / 201 || Time: 2020-12-04 15:06:12 || Accuracy: 90.83 || MAE LossNet: 0.63 || \n"
     ]
    },
    {
     "name": "stderr",
     "output_type": "stream",
     "text": [
      "\u001b[2m\u001b[36m(pid=5306, ip=192.168.8.53)\u001b[0m 2020-12-04 15:06:13.884616: I tensorflow/stream_executor/dso_loader.cc:152] successfully opened CUDA library libcublas.so.10.0 locally\n"
     ]
    },
    {
     "name": "stdout",
     "output_type": "stream",
     "text": [
      "\u001b[2m\u001b[36m(pid=13443, ip=192.168.8.54)\u001b[0m \u001b[6;30;42mAL_Train_6\u001b[0m Epoch: 10 / 201 || Time: 2020-12-04 15:06:14 || Accuracy: 88.99 || MAE LossNet: 0.65 || \n",
      "\u001b[2m\u001b[36m(pid=5306, ip=192.168.8.53)\u001b[0m \u001b[6;30;42mAL_Test_6\u001b[0m Test || Epoch:  5 || Accuracy: 64.97 || \n"
     ]
    },
    {
     "name": "stderr",
     "output_type": "stream",
     "text": [
      "\u001b[2m\u001b[36m(pid=5316, ip=192.168.8.53)\u001b[0m /home/reminiz/ReminizML2/python_env/lib/python3.7/site-packages/tensorflow/python/framework/dtypes.py:526: FutureWarning: Passing (type, 1) or '1type' as a synonym of type is deprecated; in a future version of numpy, it will be understood as (type, (1,)) / '(1,)type'.\n",
      "\u001b[2m\u001b[36m(pid=5316, ip=192.168.8.53)\u001b[0m   _np_qint8 = np.dtype([(\"qint8\", np.int8, 1)])\n",
      "\u001b[2m\u001b[36m(pid=5316, ip=192.168.8.53)\u001b[0m /home/reminiz/ReminizML2/python_env/lib/python3.7/site-packages/tensorflow/python/framework/dtypes.py:527: FutureWarning: Passing (type, 1) or '1type' as a synonym of type is deprecated; in a future version of numpy, it will be understood as (type, (1,)) / '(1,)type'.\n",
      "\u001b[2m\u001b[36m(pid=5316, ip=192.168.8.53)\u001b[0m   _np_quint8 = np.dtype([(\"quint8\", np.uint8, 1)])\n",
      "\u001b[2m\u001b[36m(pid=5316, ip=192.168.8.53)\u001b[0m /home/reminiz/ReminizML2/python_env/lib/python3.7/site-packages/tensorflow/python/framework/dtypes.py:528: FutureWarning: Passing (type, 1) or '1type' as a synonym of type is deprecated; in a future version of numpy, it will be understood as (type, (1,)) / '(1,)type'.\n",
      "\u001b[2m\u001b[36m(pid=5316, ip=192.168.8.53)\u001b[0m   _np_qint16 = np.dtype([(\"qint16\", np.int16, 1)])\n",
      "\u001b[2m\u001b[36m(pid=5316, ip=192.168.8.53)\u001b[0m /home/reminiz/ReminizML2/python_env/lib/python3.7/site-packages/tensorflow/python/framework/dtypes.py:529: FutureWarning: Passing (type, 1) or '1type' as a synonym of type is deprecated; in a future version of numpy, it will be understood as (type, (1,)) / '(1,)type'.\n",
      "\u001b[2m\u001b[36m(pid=5316, ip=192.168.8.53)\u001b[0m   _np_quint16 = np.dtype([(\"quint16\", np.uint16, 1)])\n",
      "\u001b[2m\u001b[36m(pid=5316, ip=192.168.8.53)\u001b[0m /home/reminiz/ReminizML2/python_env/lib/python3.7/site-packages/tensorflow/python/framework/dtypes.py:530: FutureWarning: Passing (type, 1) or '1type' as a synonym of type is deprecated; in a future version of numpy, it will be understood as (type, (1,)) / '(1,)type'.\n",
      "\u001b[2m\u001b[36m(pid=5316, ip=192.168.8.53)\u001b[0m   _np_qint32 = np.dtype([(\"qint32\", np.int32, 1)])\n",
      "\u001b[2m\u001b[36m(pid=5316, ip=192.168.8.53)\u001b[0m /home/reminiz/ReminizML2/python_env/lib/python3.7/site-packages/tensorflow/python/framework/dtypes.py:535: FutureWarning: Passing (type, 1) or '1type' as a synonym of type is deprecated; in a future version of numpy, it will be understood as (type, (1,)) / '(1,)type'.\n",
      "\u001b[2m\u001b[36m(pid=5316, ip=192.168.8.53)\u001b[0m   np_resource = np.dtype([(\"resource\", np.ubyte, 1)])\n",
      "\u001b[2m\u001b[36m(pid=5306, ip=192.168.8.53)\u001b[0m \n",
      "\u001b[2m\u001b[36m(pid=5306, ip=192.168.8.53)\u001b[0m wandb: Waiting for W&B process to finish, PID 12480\n",
      "\u001b[2m\u001b[36m(pid=5306, ip=192.168.8.53)\u001b[0m wandb: Program ended successfully.\n"
     ]
    },
    {
     "name": "stdout",
     "output_type": "stream",
     "text": [
      "\u001b[2m\u001b[36m(pid=13443, ip=192.168.8.54)\u001b[0m \u001b[6;30;42mAL_Train_6\u001b[0m Epoch: 11 / 201 || Time: 2020-12-04 15:06:19 || Accuracy: 92.08 || MAE LossNet: 0.59 || \n"
     ]
    },
    {
     "name": "stderr",
     "output_type": "stream",
     "text": [
      "\u001b[2m\u001b[36m(pid=5306, ip=192.168.8.53)\u001b[0m wandb: Run summary:\n",
      "\u001b[2m\u001b[36m(pid=5306, ip=192.168.8.53)\u001b[0m wandb:                                     _step 5\n",
      "\u001b[2m\u001b[36m(pid=5306, ip=192.168.8.53)\u001b[0m wandb:                                  F1 score 0.6487884535397531\n",
      "\u001b[2m\u001b[36m(pid=5306, ip=192.168.8.53)\u001b[0m wandb:                                  _runtime 19.86496591567993\n",
      "\u001b[2m\u001b[36m(pid=5306, ip=192.168.8.53)\u001b[0m wandb:                                _timestamp 1607090778.1551538\n",
      "\u001b[2m\u001b[36m(pid=5306, ip=192.168.8.53)\u001b[0m wandb:                     Explained variance v1 -0.282922625541687\n",
      "\u001b[2m\u001b[36m(pid=5306, ip=192.168.8.53)\u001b[0m wandb:                     Explained variance v2 -0.1460973024368286\n",
      "\u001b[2m\u001b[36m(pid=5306, ip=192.168.8.53)\u001b[0m wandb:                     Mean squared error v1 8.262641906738281\n",
      "\u001b[2m\u001b[36m(pid=5306, ip=192.168.8.53)\u001b[0m wandb:                     Mean squared error v2 11.874051094055176\n",
      "\u001b[2m\u001b[36m(pid=5306, ip=192.168.8.53)\u001b[0m wandb:                    Mean absolute error v1 1.7588086128234863\n",
      "\u001b[2m\u001b[36m(pid=5306, ip=192.168.8.53)\u001b[0m wandb:                    Mean absolute error v2 2.3271946907043457\n",
      "\u001b[2m\u001b[36m(pid=5306, ip=192.168.8.53)\u001b[0m wandb:                Area Under the Curve (AUC) 0.7853734816275466\n",
      "\u001b[2m\u001b[36m(pid=5306, ip=192.168.8.53)\u001b[0m wandb:             Test: Classification Accuracy 0.6497\n",
      "\u001b[2m\u001b[36m(pid=5306, ip=192.168.8.53)\u001b[0m wandb: Syncing files in ../../../Trainings/wandb/wandb/run-20201204_140608-32tlp2kp:\n",
      "\u001b[2m\u001b[36m(pid=5306, ip=192.168.8.53)\u001b[0m wandb:   code/default_worker.py\n",
      "\u001b[2m\u001b[36m(pid=5306, ip=192.168.8.53)\u001b[0m wandb: plus 8 W&B file(s) and 2 media file(s)\n",
      "\u001b[2m\u001b[36m(pid=5306, ip=192.168.8.53)\u001b[0m wandb: - 1.88MB of 1.88MB uploaded\n",
      "\u001b[2m\u001b[36m(pid=5316, ip=192.168.8.53)\u001b[0m wandb: Tracking run with wandb version 0.8.36\n",
      "\u001b[2m\u001b[36m(pid=5306, ip=192.168.8.53)\u001b[0m wandb: \\ 1.88MB of 1.88MB uploaded\n",
      "\u001b[2m\u001b[36m(pid=5306, ip=192.168.8.53)\u001b[0m wandb: | 1.88MB of 1.88MB uploaded\n",
      "\u001b[2m\u001b[36m(pid=5316, ip=192.168.8.53)\u001b[0m wandb: Wandb version 0.10.12 is available!  To upgrade, please run:\n",
      "\u001b[2m\u001b[36m(pid=5316, ip=192.168.8.53)\u001b[0m wandb:  $ pip install wandb --upgrade\n",
      "\u001b[2m\u001b[36m(pid=5316, ip=192.168.8.53)\u001b[0m wandb: Run data is saved locally in ../../../Trainings/wandb/wandb/run-20201204_140619-32tlp2kp\n",
      "\u001b[2m\u001b[36m(pid=5316, ip=192.168.8.53)\u001b[0m wandb: Syncing run AL_Test_6\n",
      "\u001b[2m\u001b[36m(pid=5316, ip=192.168.8.53)\u001b[0m wandb: ⭐️ View project at http://192.168.8.51:8080/reminiz/Active_Learning_CIFAR\n",
      "\u001b[2m\u001b[36m(pid=5316, ip=192.168.8.53)\u001b[0m wandb: 🚀 View run at http://192.168.8.51:8080/reminiz/Active_Learning_CIFAR/runs/32tlp2kp\n",
      "\u001b[2m\u001b[36m(pid=5316, ip=192.168.8.53)\u001b[0m wandb: Run `wandb off` to turn off syncing.\n",
      "\u001b[2m\u001b[36m(pid=5306, ip=192.168.8.53)\u001b[0m wandb: / 1.88MB of 1.88MB uploaded\n",
      "\u001b[2m\u001b[36m(pid=5316, ip=192.168.8.53)\u001b[0m \n",
      "\u001b[2m\u001b[36m(pid=5306, ip=192.168.8.53)\u001b[0m wandb: - 1.88MB of 1.88MB uploaded\n"
     ]
    },
    {
     "name": "stdout",
     "output_type": "stream",
     "text": [
      "\u001b[2m\u001b[36m(pid=5316, ip=192.168.8.53)\u001b[0m CIFAR10 Training data shape: (50000, 32, 32, 3)\n",
      "\u001b[2m\u001b[36m(pid=5316, ip=192.168.8.53)\u001b[0m CIFAR10 Training label shape (50000, 1)\n",
      "\u001b[2m\u001b[36m(pid=5316, ip=192.168.8.53)\u001b[0m CIFAR10 Test data shape (10000, 32, 32, 3)\n",
      "\u001b[2m\u001b[36m(pid=5316, ip=192.168.8.53)\u001b[0m CIFAR10 Test label shape (10000, 1)\n",
      "\u001b[2m\u001b[36m(pid=13443, ip=192.168.8.54)\u001b[0m \u001b[6;30;42mAL_Train_6\u001b[0m Epoch: 12 / 201 || Time: 2020-12-04 15:06:20 || Accuracy: 92.74 || MAE LossNet: 0.60 || \n"
     ]
    },
    {
     "name": "stderr",
     "output_type": "stream",
     "text": [
      "wandb:                                                                                \n",
      "\u001b[2m\u001b[36m(pid=5306, ip=192.168.8.53)\u001b[0m wandb: Synced AL_Test_6: http://192.168.8.51:8080/reminiz/Active_Learning_CIFAR/runs/32tlp2kp\n",
      "\u001b[2m\u001b[36m(pid=5316, ip=192.168.8.53)\u001b[0m WARNING:tensorflow:From /home/reminiz/ReminizML2/python_env/lib/python3.7/site-packages/tensorflow/python/data/ops/dataset_ops.py:429: py_func (from tensorflow.python.ops.script_ops) is deprecated and will be removed in a future version.\n",
      "\u001b[2m\u001b[36m(pid=5316, ip=192.168.8.53)\u001b[0m Instructions for updating:\n",
      "\u001b[2m\u001b[36m(pid=5316, ip=192.168.8.53)\u001b[0m tf.py_func is deprecated in TF V2. Instead, use\n",
      "\u001b[2m\u001b[36m(pid=5316, ip=192.168.8.53)\u001b[0m     tf.py_function, which takes a python function which manipulates tf eager\n",
      "\u001b[2m\u001b[36m(pid=5316, ip=192.168.8.53)\u001b[0m     tensors instead of numpy arrays. It's easy to convert a tf eager tensor to\n",
      "\u001b[2m\u001b[36m(pid=5316, ip=192.168.8.53)\u001b[0m     an ndarray (just call tensor.numpy()) but having access to eager tensors\n",
      "\u001b[2m\u001b[36m(pid=5316, ip=192.168.8.53)\u001b[0m     means `tf.py_function`s can use accelerators such as GPUs as well as\n",
      "\u001b[2m\u001b[36m(pid=5316, ip=192.168.8.53)\u001b[0m     being differentiable using a gradient tape.\n",
      "\u001b[2m\u001b[36m(pid=5316, ip=192.168.8.53)\u001b[0m     \n",
      "\u001b[2m\u001b[36m(pid=5316, ip=192.168.8.53)\u001b[0m WARNING:tensorflow:From /home/reminiz/ReminizML2/python_env/lib/python3.7/site-packages/tensorflow/python/ops/resource_variable_ops.py:435: colocate_with (from tensorflow.python.framework.ops) is deprecated and will be removed in a future version.\n",
      "\u001b[2m\u001b[36m(pid=5316, ip=192.168.8.53)\u001b[0m Instructions for updating:\n",
      "\u001b[2m\u001b[36m(pid=5316, ip=192.168.8.53)\u001b[0m Colocations handled automatically by placer.\n"
     ]
    },
    {
     "name": "stdout",
     "output_type": "stream",
     "text": [
      "\u001b[2m\u001b[36m(pid=13443, ip=192.168.8.54)\u001b[0m \u001b[6;30;42mAL_Train_6\u001b[0m Epoch: 13 / 201 || Time: 2020-12-04 15:06:22 || Accuracy: 92.79 || MAE LossNet: 0.58 || \n"
     ]
    },
    {
     "name": "stderr",
     "output_type": "stream",
     "text": [
      "\u001b[2m\u001b[36m(pid=5316, ip=192.168.8.53)\u001b[0m 2020-12-04 15:06:23.154998: I tensorflow/core/platform/cpu_feature_guard.cc:141] Your CPU supports instructions that this TensorFlow binary was not compiled to use: AVX2 FMA\n",
      "\u001b[2m\u001b[36m(pid=5316, ip=192.168.8.53)\u001b[0m 2020-12-04 15:06:23.177141: I tensorflow/core/platform/profile_utils/cpu_utils.cc:94] CPU Frequency: 3499950000 Hz\n",
      "\u001b[2m\u001b[36m(pid=5316, ip=192.168.8.53)\u001b[0m 2020-12-04 15:06:23.177757: I tensorflow/compiler/xla/service/service.cc:150] XLA service 0x5575d6bb09a0 executing computations on platform Host. Devices:\n",
      "\u001b[2m\u001b[36m(pid=5316, ip=192.168.8.53)\u001b[0m 2020-12-04 15:06:23.177781: I tensorflow/compiler/xla/service/service.cc:158]   StreamExecutor device (0): <undefined>, <undefined>\n",
      "\u001b[2m\u001b[36m(pid=5316, ip=192.168.8.53)\u001b[0m 2020-12-04 15:06:23.302520: I tensorflow/compiler/xla/service/service.cc:150] XLA service 0x5575d3c858e0 executing computations on platform CUDA. Devices:\n",
      "\u001b[2m\u001b[36m(pid=5316, ip=192.168.8.53)\u001b[0m 2020-12-04 15:06:23.302568: I tensorflow/compiler/xla/service/service.cc:158]   StreamExecutor device (0): GeForce GTX TITAN X, Compute Capability 5.2\n",
      "\u001b[2m\u001b[36m(pid=5316, ip=192.168.8.53)\u001b[0m 2020-12-04 15:06:23.302724: I tensorflow/core/common_runtime/gpu/gpu_device.cc:1433] Found device 0 with properties: \n",
      "\u001b[2m\u001b[36m(pid=5316, ip=192.168.8.53)\u001b[0m name: GeForce GTX TITAN X major: 5 minor: 2 memoryClockRate(GHz): 1.076\n",
      "\u001b[2m\u001b[36m(pid=5316, ip=192.168.8.53)\u001b[0m pciBusID: 0000:02:00.0\n",
      "\u001b[2m\u001b[36m(pid=5316, ip=192.168.8.53)\u001b[0m totalMemory: 11.93GiB freeMemory: 11.82GiB\n",
      "\u001b[2m\u001b[36m(pid=5316, ip=192.168.8.53)\u001b[0m 2020-12-04 15:06:23.302752: I tensorflow/core/common_runtime/gpu/gpu_device.cc:1512] Adding visible gpu devices: 0\n",
      "\u001b[2m\u001b[36m(pid=5316, ip=192.168.8.53)\u001b[0m 2020-12-04 15:06:23.305005: I tensorflow/core/common_runtime/gpu/gpu_device.cc:984] Device interconnect StreamExecutor with strength 1 edge matrix:\n",
      "\u001b[2m\u001b[36m(pid=5316, ip=192.168.8.53)\u001b[0m 2020-12-04 15:06:23.305032: I tensorflow/core/common_runtime/gpu/gpu_device.cc:990]      0 \n",
      "\u001b[2m\u001b[36m(pid=5316, ip=192.168.8.53)\u001b[0m 2020-12-04 15:06:23.305047: I tensorflow/core/common_runtime/gpu/gpu_device.cc:1003] 0:   N \n",
      "\u001b[2m\u001b[36m(pid=5316, ip=192.168.8.53)\u001b[0m 2020-12-04 15:06:23.305153: I tensorflow/core/common_runtime/gpu/gpu_device.cc:1115] Created TensorFlow device (/job:localhost/replica:0/task:0/device:GPU:0 with 11496 MB memory) -> physical GPU (device: 0, name: GeForce GTX TITAN X, pci bus id: 0000:02:00.0, compute capability: 5.2)\n",
      "\u001b[2m\u001b[36m(pid=5316, ip=192.168.8.53)\u001b[0m WARNING:tensorflow:From /home/reminiz/ReminizML2/python_env/lib/python3.7/site-packages/tensorflow/python/training/saver.py:1266: checkpoint_exists (from tensorflow.python.training.checkpoint_management) is deprecated and will be removed in a future version.\n",
      "\u001b[2m\u001b[36m(pid=5316, ip=192.168.8.53)\u001b[0m Instructions for updating:\n",
      "\u001b[2m\u001b[36m(pid=5316, ip=192.168.8.53)\u001b[0m Use standard file APIs to check for files with this prefix.\n"
     ]
    },
    {
     "name": "stdout",
     "output_type": "stream",
     "text": [
      "\u001b[2m\u001b[36m(pid=5316, ip=192.168.8.53)\u001b[0m \u001b[6;30;42mAL_Test_6\u001b[0m Restoring from /mnt/Ressources/Andres/Temp_active/runs/Active_Learning_v0/Stage_6/checkpoint/epoch10.ckpt-10\n",
      "\u001b[2m\u001b[36m(pid=13443, ip=192.168.8.54)\u001b[0m \u001b[6;30;42mAL_Train_6\u001b[0m Epoch: 14 / 201 || Time: 2020-12-04 15:06:23 || Accuracy: 93.77 || MAE LossNet: 0.58 || \n"
     ]
    },
    {
     "name": "stderr",
     "output_type": "stream",
     "text": [
      "\u001b[2m\u001b[36m(pid=5316, ip=192.168.8.53)\u001b[0m 2020-12-04 15:06:24.753372: I tensorflow/stream_executor/dso_loader.cc:152] successfully opened CUDA library libcublas.so.10.0 locally\n"
     ]
    },
    {
     "name": "stdout",
     "output_type": "stream",
     "text": [
      "\u001b[2m\u001b[36m(pid=13443, ip=192.168.8.54)\u001b[0m \u001b[6;30;42mAL_Train_6\u001b[0m Epoch: 15 / 201 || Time: 2020-12-04 15:06:25 || Accuracy: 94.45 || MAE LossNet: 0.57 || \n",
      "\u001b[2m\u001b[36m(pid=5316, ip=192.168.8.53)\u001b[0m \u001b[6;30;42mAL_Test_6\u001b[0m Test || Epoch: 10 || Accuracy: 66.11 || \n"
     ]
    },
    {
     "name": "stderr",
     "output_type": "stream",
     "text": [
      "\u001b[2m\u001b[36m(pid=5316, ip=192.168.8.53)\u001b[0m \n",
      "\u001b[2m\u001b[36m(pid=5316, ip=192.168.8.53)\u001b[0m wandb: Waiting for W&B process to finish, PID 12855\n",
      "\u001b[2m\u001b[36m(pid=5316, ip=192.168.8.53)\u001b[0m wandb: Program ended successfully.\n",
      "\u001b[2m\u001b[36m(pid=11251, ip=192.168.8.55)\u001b[0m /home/reminiz/ReminizML2/python_env/lib/python3.7/site-packages/tensorflow/python/framework/dtypes.py:526: FutureWarning: Passing (type, 1) or '1type' as a synonym of type is deprecated; in a future version of numpy, it will be understood as (type, (1,)) / '(1,)type'.\n",
      "\u001b[2m\u001b[36m(pid=11251, ip=192.168.8.55)\u001b[0m   _np_qint8 = np.dtype([(\"qint8\", np.int8, 1)])\n",
      "\u001b[2m\u001b[36m(pid=11251, ip=192.168.8.55)\u001b[0m /home/reminiz/ReminizML2/python_env/lib/python3.7/site-packages/tensorflow/python/framework/dtypes.py:527: FutureWarning: Passing (type, 1) or '1type' as a synonym of type is deprecated; in a future version of numpy, it will be understood as (type, (1,)) / '(1,)type'.\n",
      "\u001b[2m\u001b[36m(pid=11251, ip=192.168.8.55)\u001b[0m   _np_quint8 = np.dtype([(\"quint8\", np.uint8, 1)])\n",
      "\u001b[2m\u001b[36m(pid=11251, ip=192.168.8.55)\u001b[0m /home/reminiz/ReminizML2/python_env/lib/python3.7/site-packages/tensorflow/python/framework/dtypes.py:528: FutureWarning: Passing (type, 1) or '1type' as a synonym of type is deprecated; in a future version of numpy, it will be understood as (type, (1,)) / '(1,)type'.\n",
      "\u001b[2m\u001b[36m(pid=11251, ip=192.168.8.55)\u001b[0m   _np_qint16 = np.dtype([(\"qint16\", np.int16, 1)])\n",
      "\u001b[2m\u001b[36m(pid=11251, ip=192.168.8.55)\u001b[0m /home/reminiz/ReminizML2/python_env/lib/python3.7/site-packages/tensorflow/python/framework/dtypes.py:529: FutureWarning: Passing (type, 1) or '1type' as a synonym of type is deprecated; in a future version of numpy, it will be understood as (type, (1,)) / '(1,)type'.\n",
      "\u001b[2m\u001b[36m(pid=11251, ip=192.168.8.55)\u001b[0m   _np_quint16 = np.dtype([(\"quint16\", np.uint16, 1)])\n",
      "\u001b[2m\u001b[36m(pid=11251, ip=192.168.8.55)\u001b[0m /home/reminiz/ReminizML2/python_env/lib/python3.7/site-packages/tensorflow/python/framework/dtypes.py:530: FutureWarning: Passing (type, 1) or '1type' as a synonym of type is deprecated; in a future version of numpy, it will be understood as (type, (1,)) / '(1,)type'.\n",
      "\u001b[2m\u001b[36m(pid=11251, ip=192.168.8.55)\u001b[0m   _np_qint32 = np.dtype([(\"qint32\", np.int32, 1)])\n",
      "\u001b[2m\u001b[36m(pid=11251, ip=192.168.8.55)\u001b[0m /home/reminiz/ReminizML2/python_env/lib/python3.7/site-packages/tensorflow/python/framework/dtypes.py:535: FutureWarning: Passing (type, 1) or '1type' as a synonym of type is deprecated; in a future version of numpy, it will be understood as (type, (1,)) / '(1,)type'.\n",
      "\u001b[2m\u001b[36m(pid=11251, ip=192.168.8.55)\u001b[0m   np_resource = np.dtype([(\"resource\", np.ubyte, 1)])\n"
     ]
    },
    {
     "name": "stdout",
     "output_type": "stream",
     "text": [
      "\u001b[2m\u001b[36m(pid=13443, ip=192.168.8.54)\u001b[0m \u001b[6;30;42mAL_Train_6\u001b[0m Epoch: 16 / 201 || Time: 2020-12-04 15:06:30 || Accuracy: 95.57 || MAE LossNet: 0.56 || \n"
     ]
    },
    {
     "name": "stderr",
     "output_type": "stream",
     "text": [
      "\u001b[2m\u001b[36m(pid=11251, ip=192.168.8.55)\u001b[0m wandb: Tracking run with wandb version 0.8.36\n",
      "\u001b[2m\u001b[36m(pid=11251, ip=192.168.8.55)\u001b[0m wandb: Wandb version 0.10.12 is available!  To upgrade, please run:\n",
      "\u001b[2m\u001b[36m(pid=11251, ip=192.168.8.55)\u001b[0m wandb:  $ pip install wandb --upgrade\n",
      "\u001b[2m\u001b[36m(pid=11251, ip=192.168.8.55)\u001b[0m wandb: Run data is saved locally in ../../../Trainings/wandb/wandb/run-20201204_140630-32tlp2kp\n",
      "\u001b[2m\u001b[36m(pid=11251, ip=192.168.8.55)\u001b[0m wandb: Syncing run AL_Test_6\n",
      "\u001b[2m\u001b[36m(pid=11251, ip=192.168.8.55)\u001b[0m wandb: ⭐️ View project at http://192.168.8.51:8080/reminiz/Active_Learning_CIFAR\n",
      "\u001b[2m\u001b[36m(pid=11251, ip=192.168.8.55)\u001b[0m wandb: 🚀 View run at http://192.168.8.51:8080/reminiz/Active_Learning_CIFAR/runs/32tlp2kp\n",
      "\u001b[2m\u001b[36m(pid=11251, ip=192.168.8.55)\u001b[0m wandb: Run `wandb off` to turn off syncing.\n",
      "\u001b[2m\u001b[36m(pid=5316, ip=192.168.8.53)\u001b[0m wandb: Run summary:\n",
      "\u001b[2m\u001b[36m(pid=5316, ip=192.168.8.53)\u001b[0m wandb:                                     _step 10\n",
      "\u001b[2m\u001b[36m(pid=5316, ip=192.168.8.53)\u001b[0m wandb:                                  F1 score 0.6614858217029146\n",
      "\u001b[2m\u001b[36m(pid=5316, ip=192.168.8.53)\u001b[0m wandb:                                  _runtime 29.477076530456543\n",
      "\u001b[2m\u001b[36m(pid=5316, ip=192.168.8.53)\u001b[0m wandb:                                _timestamp 1607090789.1753387\n",
      "\u001b[2m\u001b[36m(pid=5316, ip=192.168.8.53)\u001b[0m wandb:                     Explained variance v1 -0.34686481952667236\n",
      "\u001b[2m\u001b[36m(pid=5316, ip=192.168.8.53)\u001b[0m wandb:                     Explained variance v2 -0.17843866348266602\n",
      "\u001b[2m\u001b[36m(pid=5316, ip=192.168.8.53)\u001b[0m wandb:                     Mean squared error v1 11.049415588378906\n",
      "\u001b[2m\u001b[36m(pid=5316, ip=192.168.8.53)\u001b[0m wandb:                     Mean squared error v2 15.12839412689209\n",
      "\u001b[2m\u001b[36m(pid=5316, ip=192.168.8.53)\u001b[0m wandb:                    Mean absolute error v1 2.051377296447754\n",
      "\u001b[2m\u001b[36m(pid=5316, ip=192.168.8.53)\u001b[0m wandb:                    Mean absolute error v2 2.633174419403076\n",
      "\u001b[2m\u001b[36m(pid=5316, ip=192.168.8.53)\u001b[0m wandb:                Area Under the Curve (AUC) 0.7748641477969846\n",
      "\u001b[2m\u001b[36m(pid=5316, ip=192.168.8.53)\u001b[0m wandb:             Test: Classification Accuracy 0.6611\n",
      "\u001b[2m\u001b[36m(pid=5316, ip=192.168.8.53)\u001b[0m wandb: Syncing files in ../../../Trainings/wandb/wandb/run-20201204_140619-32tlp2kp:\n",
      "\u001b[2m\u001b[36m(pid=5316, ip=192.168.8.53)\u001b[0m wandb:   code/default_worker.py\n",
      "\u001b[2m\u001b[36m(pid=5316, ip=192.168.8.53)\u001b[0m wandb: plus 8 W&B file(s) and 2 media file(s)\n",
      "\u001b[2m\u001b[36m(pid=5316, ip=192.168.8.53)\u001b[0m wandb: - 1.84MB of 1.88MB uploaded\n",
      "\u001b[2m\u001b[36m(pid=11251, ip=192.168.8.55)\u001b[0m \n",
      "\u001b[2m\u001b[36m(pid=5316, ip=192.168.8.53)\u001b[0m wandb: \\ 1.88MB of 1.88MB uploaded\n"
     ]
    },
    {
     "name": "stdout",
     "output_type": "stream",
     "text": [
      "\u001b[2m\u001b[36m(pid=13443, ip=192.168.8.54)\u001b[0m \u001b[6;30;42mAL_Train_6\u001b[0m Epoch: 17 / 201 || Time: 2020-12-04 15:06:31 || Accuracy: 95.57 || MAE LossNet: 0.56 || \n",
      "\u001b[2m\u001b[36m(pid=11251, ip=192.168.8.55)\u001b[0m CIFAR10 Training data shape: (50000, 32, 32, 3)\n",
      "\u001b[2m\u001b[36m(pid=11251, ip=192.168.8.55)\u001b[0m CIFAR10 Training label shape (50000, 1)\n",
      "\u001b[2m\u001b[36m(pid=11251, ip=192.168.8.55)\u001b[0m CIFAR10 Test data shape (10000, 32, 32, 3)\n",
      "\u001b[2m\u001b[36m(pid=11251, ip=192.168.8.55)\u001b[0m CIFAR10 Test label shape (10000, 1)\n"
     ]
    },
    {
     "name": "stderr",
     "output_type": "stream",
     "text": [
      "\u001b[2m\u001b[36m(pid=5316, ip=192.168.8.53)\u001b[0m wandb: | 1.88MB of 1.88MB uploaded\n",
      "\u001b[2m\u001b[36m(pid=5316, ip=192.168.8.53)\u001b[0m wandb: / 1.88MB of 1.88MB uploaded\n",
      "\u001b[2m\u001b[36m(pid=5316, ip=192.168.8.53)\u001b[0m wandb: - 1.88MB of 1.88MB uploaded\n",
      "wandb:                                                                                \n",
      "\u001b[2m\u001b[36m(pid=5316, ip=192.168.8.53)\u001b[0m wandb: Synced AL_Test_6: http://192.168.8.51:8080/reminiz/Active_Learning_CIFAR/runs/32tlp2kp\n",
      "\u001b[2m\u001b[36m(pid=11251, ip=192.168.8.55)\u001b[0m WARNING:tensorflow:From /home/reminiz/ReminizML2/python_env/lib/python3.7/site-packages/tensorflow/python/data/ops/dataset_ops.py:429: py_func (from tensorflow.python.ops.script_ops) is deprecated and will be removed in a future version.\n",
      "\u001b[2m\u001b[36m(pid=11251, ip=192.168.8.55)\u001b[0m Instructions for updating:\n",
      "\u001b[2m\u001b[36m(pid=11251, ip=192.168.8.55)\u001b[0m tf.py_func is deprecated in TF V2. Instead, use\n",
      "\u001b[2m\u001b[36m(pid=11251, ip=192.168.8.55)\u001b[0m     tf.py_function, which takes a python function which manipulates tf eager\n",
      "\u001b[2m\u001b[36m(pid=11251, ip=192.168.8.55)\u001b[0m     tensors instead of numpy arrays. It's easy to convert a tf eager tensor to\n",
      "\u001b[2m\u001b[36m(pid=11251, ip=192.168.8.55)\u001b[0m     an ndarray (just call tensor.numpy()) but having access to eager tensors\n",
      "\u001b[2m\u001b[36m(pid=11251, ip=192.168.8.55)\u001b[0m     means `tf.py_function`s can use accelerators such as GPUs as well as\n",
      "\u001b[2m\u001b[36m(pid=11251, ip=192.168.8.55)\u001b[0m     being differentiable using a gradient tape.\n",
      "\u001b[2m\u001b[36m(pid=11251, ip=192.168.8.55)\u001b[0m     \n",
      "\u001b[2m\u001b[36m(pid=11251, ip=192.168.8.55)\u001b[0m WARNING:tensorflow:From /home/reminiz/ReminizML2/python_env/lib/python3.7/site-packages/tensorflow/python/ops/resource_variable_ops.py:435: colocate_with (from tensorflow.python.framework.ops) is deprecated and will be removed in a future version.\n",
      "\u001b[2m\u001b[36m(pid=11251, ip=192.168.8.55)\u001b[0m Instructions for updating:\n",
      "\u001b[2m\u001b[36m(pid=11251, ip=192.168.8.55)\u001b[0m Colocations handled automatically by placer.\n"
     ]
    },
    {
     "name": "stdout",
     "output_type": "stream",
     "text": [
      "\u001b[2m\u001b[36m(pid=13443, ip=192.168.8.54)\u001b[0m \u001b[6;30;42mAL_Train_6\u001b[0m Epoch: 18 / 201 || Time: 2020-12-04 15:06:33 || Accuracy: 96.44 || MAE LossNet: 0.53 || \n"
     ]
    },
    {
     "name": "stderr",
     "output_type": "stream",
     "text": [
      "\u001b[2m\u001b[36m(pid=11251, ip=192.168.8.55)\u001b[0m 2020-12-04 15:06:33.976150: I tensorflow/core/platform/cpu_feature_guard.cc:141] Your CPU supports instructions that this TensorFlow binary was not compiled to use: AVX2 FMA\n",
      "\u001b[2m\u001b[36m(pid=11251, ip=192.168.8.55)\u001b[0m 2020-12-04 15:06:34.000305: I tensorflow/core/platform/profile_utils/cpu_utils.cc:94] CPU Frequency: 3599935000 Hz\n",
      "\u001b[2m\u001b[36m(pid=11251, ip=192.168.8.55)\u001b[0m 2020-12-04 15:06:34.001159: I tensorflow/compiler/xla/service/service.cc:150] XLA service 0x6d3c510 executing computations on platform Host. Devices:\n",
      "\u001b[2m\u001b[36m(pid=11251, ip=192.168.8.55)\u001b[0m 2020-12-04 15:06:34.001201: I tensorflow/compiler/xla/service/service.cc:158]   StreamExecutor device (0): <undefined>, <undefined>\n",
      "\u001b[2m\u001b[36m(pid=11251, ip=192.168.8.55)\u001b[0m 2020-12-04 15:06:34.121349: I tensorflow/compiler/xla/service/service.cc:150] XLA service 0x6d41b90 executing computations on platform CUDA. Devices:\n",
      "\u001b[2m\u001b[36m(pid=11251, ip=192.168.8.55)\u001b[0m 2020-12-04 15:06:34.121409: I tensorflow/compiler/xla/service/service.cc:158]   StreamExecutor device (0): GeForce GTX 1080 Ti, Compute Capability 6.1\n",
      "\u001b[2m\u001b[36m(pid=11251, ip=192.168.8.55)\u001b[0m 2020-12-04 15:06:34.121621: I tensorflow/core/common_runtime/gpu/gpu_device.cc:1433] Found device 0 with properties: \n",
      "\u001b[2m\u001b[36m(pid=11251, ip=192.168.8.55)\u001b[0m name: GeForce GTX 1080 Ti major: 6 minor: 1 memoryClockRate(GHz): 1.62\n",
      "\u001b[2m\u001b[36m(pid=11251, ip=192.168.8.55)\u001b[0m pciBusID: 0000:4c:00.0\n",
      "\u001b[2m\u001b[36m(pid=11251, ip=192.168.8.55)\u001b[0m totalMemory: 10.91GiB freeMemory: 10.77GiB\n",
      "\u001b[2m\u001b[36m(pid=11251, ip=192.168.8.55)\u001b[0m 2020-12-04 15:06:34.121652: I tensorflow/core/common_runtime/gpu/gpu_device.cc:1512] Adding visible gpu devices: 0\n",
      "\u001b[2m\u001b[36m(pid=11251, ip=192.168.8.55)\u001b[0m 2020-12-04 15:06:34.125904: I tensorflow/core/common_runtime/gpu/gpu_device.cc:984] Device interconnect StreamExecutor with strength 1 edge matrix:\n",
      "\u001b[2m\u001b[36m(pid=11251, ip=192.168.8.55)\u001b[0m 2020-12-04 15:06:34.125943: I tensorflow/core/common_runtime/gpu/gpu_device.cc:990]      0 \n",
      "\u001b[2m\u001b[36m(pid=11251, ip=192.168.8.55)\u001b[0m 2020-12-04 15:06:34.125958: I tensorflow/core/common_runtime/gpu/gpu_device.cc:1003] 0:   N \n",
      "\u001b[2m\u001b[36m(pid=11251, ip=192.168.8.55)\u001b[0m 2020-12-04 15:06:34.126078: I tensorflow/core/common_runtime/gpu/gpu_device.cc:1115] Created TensorFlow device (/job:localhost/replica:0/task:0/device:GPU:0 with 10479 MB memory) -> physical GPU (device: 0, name: GeForce GTX 1080 Ti, pci bus id: 0000:4c:00.0, compute capability: 6.1)\n",
      "\u001b[2m\u001b[36m(pid=11251, ip=192.168.8.55)\u001b[0m WARNING:tensorflow:From /home/reminiz/ReminizML2/python_env/lib/python3.7/site-packages/tensorflow/python/training/saver.py:1266: checkpoint_exists (from tensorflow.python.training.checkpoint_management) is deprecated and will be removed in a future version.\n",
      "\u001b[2m\u001b[36m(pid=11251, ip=192.168.8.55)\u001b[0m Instructions for updating:\n",
      "\u001b[2m\u001b[36m(pid=11251, ip=192.168.8.55)\u001b[0m Use standard file APIs to check for files with this prefix.\n"
     ]
    },
    {
     "name": "stdout",
     "output_type": "stream",
     "text": [
      "\u001b[2m\u001b[36m(pid=11251, ip=192.168.8.55)\u001b[0m \u001b[6;30;42mAL_Test_6\u001b[0m Restoring from /mnt/Ressources/Andres/Temp_active/runs/Active_Learning_v0/Stage_6/checkpoint/epoch15.ckpt-15\n",
      "\u001b[2m\u001b[36m(pid=13443, ip=192.168.8.54)\u001b[0m \u001b[6;30;42mAL_Train_6\u001b[0m Epoch: 19 / 201 || Time: 2020-12-04 15:06:34 || Accuracy: 96.83 || MAE LossNet: 0.54 || \n"
     ]
    },
    {
     "name": "stderr",
     "output_type": "stream",
     "text": [
      "\u001b[2m\u001b[36m(pid=11251, ip=192.168.8.55)\u001b[0m 2020-12-04 15:06:35.580214: I tensorflow/stream_executor/dso_loader.cc:152] successfully opened CUDA library libcublas.so.10.0 locally\n"
     ]
    },
    {
     "name": "stdout",
     "output_type": "stream",
     "text": [
      "\u001b[2m\u001b[36m(pid=13443, ip=192.168.8.54)\u001b[0m \u001b[6;30;42mAL_Train_6\u001b[0m Epoch: 20 / 201 || Time: 2020-12-04 15:06:36 || Accuracy: 95.96 || MAE LossNet: 0.60 || \n",
      "\u001b[2m\u001b[36m(pid=11251, ip=192.168.8.55)\u001b[0m \u001b[6;30;42mAL_Test_6\u001b[0m Test || Epoch: 15 || Accuracy: 65.78 || \n"
     ]
    },
    {
     "name": "stderr",
     "output_type": "stream",
     "text": [
      "\u001b[2m\u001b[36m(pid=11251, ip=192.168.8.55)\u001b[0m \n",
      "\u001b[2m\u001b[36m(pid=11251, ip=192.168.8.55)\u001b[0m wandb: Waiting for W&B process to finish, PID 11647\n",
      "\u001b[2m\u001b[36m(pid=11251, ip=192.168.8.55)\u001b[0m wandb: Program ended successfully.\n",
      "\u001b[2m\u001b[36m(pid=11260, ip=192.168.8.55)\u001b[0m /home/reminiz/ReminizML2/python_env/lib/python3.7/site-packages/tensorflow/python/framework/dtypes.py:526: FutureWarning: Passing (type, 1) or '1type' as a synonym of type is deprecated; in a future version of numpy, it will be understood as (type, (1,)) / '(1,)type'.\n",
      "\u001b[2m\u001b[36m(pid=11260, ip=192.168.8.55)\u001b[0m   _np_qint8 = np.dtype([(\"qint8\", np.int8, 1)])\n",
      "\u001b[2m\u001b[36m(pid=11260, ip=192.168.8.55)\u001b[0m /home/reminiz/ReminizML2/python_env/lib/python3.7/site-packages/tensorflow/python/framework/dtypes.py:527: FutureWarning: Passing (type, 1) or '1type' as a synonym of type is deprecated; in a future version of numpy, it will be understood as (type, (1,)) / '(1,)type'.\n",
      "\u001b[2m\u001b[36m(pid=11260, ip=192.168.8.55)\u001b[0m   _np_quint8 = np.dtype([(\"quint8\", np.uint8, 1)])\n",
      "\u001b[2m\u001b[36m(pid=11260, ip=192.168.8.55)\u001b[0m /home/reminiz/ReminizML2/python_env/lib/python3.7/site-packages/tensorflow/python/framework/dtypes.py:528: FutureWarning: Passing (type, 1) or '1type' as a synonym of type is deprecated; in a future version of numpy, it will be understood as (type, (1,)) / '(1,)type'.\n",
      "\u001b[2m\u001b[36m(pid=11260, ip=192.168.8.55)\u001b[0m   _np_qint16 = np.dtype([(\"qint16\", np.int16, 1)])\n",
      "\u001b[2m\u001b[36m(pid=11260, ip=192.168.8.55)\u001b[0m /home/reminiz/ReminizML2/python_env/lib/python3.7/site-packages/tensorflow/python/framework/dtypes.py:529: FutureWarning: Passing (type, 1) or '1type' as a synonym of type is deprecated; in a future version of numpy, it will be understood as (type, (1,)) / '(1,)type'.\n",
      "\u001b[2m\u001b[36m(pid=11260, ip=192.168.8.55)\u001b[0m   _np_quint16 = np.dtype([(\"quint16\", np.uint16, 1)])\n",
      "\u001b[2m\u001b[36m(pid=11260, ip=192.168.8.55)\u001b[0m /home/reminiz/ReminizML2/python_env/lib/python3.7/site-packages/tensorflow/python/framework/dtypes.py:530: FutureWarning: Passing (type, 1) or '1type' as a synonym of type is deprecated; in a future version of numpy, it will be understood as (type, (1,)) / '(1,)type'.\n",
      "\u001b[2m\u001b[36m(pid=11260, ip=192.168.8.55)\u001b[0m   _np_qint32 = np.dtype([(\"qint32\", np.int32, 1)])\n",
      "\u001b[2m\u001b[36m(pid=11260, ip=192.168.8.55)\u001b[0m /home/reminiz/ReminizML2/python_env/lib/python3.7/site-packages/tensorflow/python/framework/dtypes.py:535: FutureWarning: Passing (type, 1) or '1type' as a synonym of type is deprecated; in a future version of numpy, it will be understood as (type, (1,)) / '(1,)type'.\n",
      "\u001b[2m\u001b[36m(pid=11260, ip=192.168.8.55)\u001b[0m   np_resource = np.dtype([(\"resource\", np.ubyte, 1)])\n"
     ]
    },
    {
     "name": "stdout",
     "output_type": "stream",
     "text": [
      "\u001b[2m\u001b[36m(pid=13443, ip=192.168.8.54)\u001b[0m \u001b[6;30;42mAL_Train_6\u001b[0m Epoch: 21 / 201 || Time: 2020-12-04 15:06:41 || Accuracy: 96.49 || MAE LossNet: 0.58 || \n"
     ]
    },
    {
     "name": "stderr",
     "output_type": "stream",
     "text": [
      "\u001b[2m\u001b[36m(pid=11251, ip=192.168.8.55)\u001b[0m wandb: Run summary:\n",
      "\u001b[2m\u001b[36m(pid=11251, ip=192.168.8.55)\u001b[0m wandb:                                     _step 15\n",
      "\u001b[2m\u001b[36m(pid=11251, ip=192.168.8.55)\u001b[0m wandb:                                  F1 score 0.6580236563423646\n",
      "\u001b[2m\u001b[36m(pid=11251, ip=192.168.8.55)\u001b[0m wandb:                                  _runtime 28.5038959980011\n",
      "\u001b[2m\u001b[36m(pid=11251, ip=192.168.8.55)\u001b[0m wandb:                                _timestamp 1607090799.2527568\n",
      "\u001b[2m\u001b[36m(pid=11251, ip=192.168.8.55)\u001b[0m wandb:                     Explained variance v1 -0.21923387050628662\n",
      "\u001b[2m\u001b[36m(pid=11251, ip=192.168.8.55)\u001b[0m wandb:                     Explained variance v2 -0.11151325702667236\n",
      "\u001b[2m\u001b[36m(pid=11251, ip=192.168.8.55)\u001b[0m wandb:                     Mean squared error v1 10.996604919433594\n",
      "\u001b[2m\u001b[36m(pid=11251, ip=192.168.8.55)\u001b[0m wandb:                     Mean squared error v2 15.971405029296875\n",
      "\u001b[2m\u001b[36m(pid=11251, ip=192.168.8.55)\u001b[0m wandb:                    Mean absolute error v1 2.0377490520477295\n",
      "\u001b[2m\u001b[36m(pid=11251, ip=192.168.8.55)\u001b[0m wandb:                    Mean absolute error v2 2.69870924949646\n",
      "\u001b[2m\u001b[36m(pid=11251, ip=192.168.8.55)\u001b[0m wandb:                Area Under the Curve (AUC) 0.776678975612348\n",
      "\u001b[2m\u001b[36m(pid=11251, ip=192.168.8.55)\u001b[0m wandb:             Test: Classification Accuracy 0.6578\n",
      "\u001b[2m\u001b[36m(pid=11251, ip=192.168.8.55)\u001b[0m wandb: Syncing files in ../../../Trainings/wandb/wandb/run-20201204_140630-32tlp2kp:\n",
      "\u001b[2m\u001b[36m(pid=11251, ip=192.168.8.55)\u001b[0m wandb:   code/default_worker.py\n",
      "\u001b[2m\u001b[36m(pid=11251, ip=192.168.8.55)\u001b[0m wandb: plus 8 W&B file(s) and 2 media file(s)\n",
      "\u001b[2m\u001b[36m(pid=11251, ip=192.168.8.55)\u001b[0m wandb: - 1.84MB of 1.84MB uploaded\n",
      "\u001b[2m\u001b[36m(pid=11260, ip=192.168.8.55)\u001b[0m wandb: Tracking run with wandb version 0.8.36\n",
      "\u001b[2m\u001b[36m(pid=11251, ip=192.168.8.55)\u001b[0m wandb: \\ 1.88MB of 1.88MB uploaded\n",
      "\u001b[2m\u001b[36m(pid=11251, ip=192.168.8.55)\u001b[0m wandb: | 1.88MB of 1.88MB uploaded\n",
      "\u001b[2m\u001b[36m(pid=11260, ip=192.168.8.55)\u001b[0m wandb: Wandb version 0.10.12 is available!  To upgrade, please run:\n",
      "\u001b[2m\u001b[36m(pid=11260, ip=192.168.8.55)\u001b[0m wandb:  $ pip install wandb --upgrade\n",
      "\u001b[2m\u001b[36m(pid=11260, ip=192.168.8.55)\u001b[0m wandb: Run data is saved locally in ../../../Trainings/wandb/wandb/run-20201204_140641-32tlp2kp\n",
      "\u001b[2m\u001b[36m(pid=11260, ip=192.168.8.55)\u001b[0m wandb: Syncing run AL_Test_6\n",
      "\u001b[2m\u001b[36m(pid=11251, ip=192.168.8.55)\u001b[0m wandb: / 1.88MB of 1.88MB uploaded\n",
      "\u001b[2m\u001b[36m(pid=11260, ip=192.168.8.55)\u001b[0m wandb: ⭐️ View project at http://192.168.8.51:8080/reminiz/Active_Learning_CIFAR\n",
      "\u001b[2m\u001b[36m(pid=11260, ip=192.168.8.55)\u001b[0m wandb: 🚀 View run at http://192.168.8.51:8080/reminiz/Active_Learning_CIFAR/runs/32tlp2kp\n",
      "\u001b[2m\u001b[36m(pid=11260, ip=192.168.8.55)\u001b[0m wandb: Run `wandb off` to turn off syncing.\n",
      "\u001b[2m\u001b[36m(pid=11260, ip=192.168.8.55)\u001b[0m \n",
      "\u001b[2m\u001b[36m(pid=11251, ip=192.168.8.55)\u001b[0m wandb: - 1.88MB of 1.88MB uploaded\n"
     ]
    },
    {
     "name": "stdout",
     "output_type": "stream",
     "text": [
      "\u001b[2m\u001b[36m(pid=11260, ip=192.168.8.55)\u001b[0m CIFAR10 Training data shape: (50000, 32, 32, 3)\n",
      "\u001b[2m\u001b[36m(pid=11260, ip=192.168.8.55)\u001b[0m CIFAR10 Training label shape (50000, 1)\n",
      "\u001b[2m\u001b[36m(pid=11260, ip=192.168.8.55)\u001b[0m CIFAR10 Test data shape (10000, 32, 32, 3)\n",
      "\u001b[2m\u001b[36m(pid=11260, ip=192.168.8.55)\u001b[0m CIFAR10 Test label shape (10000, 1)\n",
      "\u001b[2m\u001b[36m(pid=13443, ip=192.168.8.54)\u001b[0m \u001b[6;30;42mAL_Train_6\u001b[0m Epoch: 22 / 201 || Time: 2020-12-04 15:06:42 || Accuracy: 96.69 || MAE LossNet: 0.55 || \n"
     ]
    },
    {
     "name": "stderr",
     "output_type": "stream",
     "text": [
      "wandb:                                                                                \n",
      "\u001b[2m\u001b[36m(pid=11251, ip=192.168.8.55)\u001b[0m wandb: Synced AL_Test_6: http://192.168.8.51:8080/reminiz/Active_Learning_CIFAR/runs/32tlp2kp\n",
      "\u001b[2m\u001b[36m(pid=11260, ip=192.168.8.55)\u001b[0m WARNING:tensorflow:From /home/reminiz/ReminizML2/python_env/lib/python3.7/site-packages/tensorflow/python/data/ops/dataset_ops.py:429: py_func (from tensorflow.python.ops.script_ops) is deprecated and will be removed in a future version.\n",
      "\u001b[2m\u001b[36m(pid=11260, ip=192.168.8.55)\u001b[0m Instructions for updating:\n",
      "\u001b[2m\u001b[36m(pid=11260, ip=192.168.8.55)\u001b[0m tf.py_func is deprecated in TF V2. Instead, use\n",
      "\u001b[2m\u001b[36m(pid=11260, ip=192.168.8.55)\u001b[0m     tf.py_function, which takes a python function which manipulates tf eager\n",
      "\u001b[2m\u001b[36m(pid=11260, ip=192.168.8.55)\u001b[0m     tensors instead of numpy arrays. It's easy to convert a tf eager tensor to\n",
      "\u001b[2m\u001b[36m(pid=11260, ip=192.168.8.55)\u001b[0m     an ndarray (just call tensor.numpy()) but having access to eager tensors\n",
      "\u001b[2m\u001b[36m(pid=11260, ip=192.168.8.55)\u001b[0m     means `tf.py_function`s can use accelerators such as GPUs as well as\n",
      "\u001b[2m\u001b[36m(pid=11260, ip=192.168.8.55)\u001b[0m     being differentiable using a gradient tape.\n",
      "\u001b[2m\u001b[36m(pid=11260, ip=192.168.8.55)\u001b[0m     \n",
      "\u001b[2m\u001b[36m(pid=11260, ip=192.168.8.55)\u001b[0m WARNING:tensorflow:From /home/reminiz/ReminizML2/python_env/lib/python3.7/site-packages/tensorflow/python/ops/resource_variable_ops.py:435: colocate_with (from tensorflow.python.framework.ops) is deprecated and will be removed in a future version.\n",
      "\u001b[2m\u001b[36m(pid=11260, ip=192.168.8.55)\u001b[0m Instructions for updating:\n",
      "\u001b[2m\u001b[36m(pid=11260, ip=192.168.8.55)\u001b[0m Colocations handled automatically by placer.\n"
     ]
    },
    {
     "name": "stdout",
     "output_type": "stream",
     "text": [
      "\u001b[2m\u001b[36m(pid=13443, ip=192.168.8.54)\u001b[0m \u001b[6;30;42mAL_Train_6\u001b[0m Epoch: 23 / 201 || Time: 2020-12-04 15:06:44 || Accuracy: 97.73 || MAE LossNet: 0.53 || \n"
     ]
    },
    {
     "name": "stderr",
     "output_type": "stream",
     "text": [
      "\u001b[2m\u001b[36m(pid=11260, ip=192.168.8.55)\u001b[0m 2020-12-04 15:06:44.735422: I tensorflow/core/platform/cpu_feature_guard.cc:141] Your CPU supports instructions that this TensorFlow binary was not compiled to use: AVX2 FMA\n",
      "\u001b[2m\u001b[36m(pid=11260, ip=192.168.8.55)\u001b[0m 2020-12-04 15:06:44.764312: I tensorflow/core/platform/profile_utils/cpu_utils.cc:94] CPU Frequency: 3599935000 Hz\n",
      "\u001b[2m\u001b[36m(pid=11260, ip=192.168.8.55)\u001b[0m 2020-12-04 15:06:44.765203: I tensorflow/compiler/xla/service/service.cc:150] XLA service 0x69c7710 executing computations on platform Host. Devices:\n",
      "\u001b[2m\u001b[36m(pid=11260, ip=192.168.8.55)\u001b[0m 2020-12-04 15:06:44.765245: I tensorflow/compiler/xla/service/service.cc:158]   StreamExecutor device (0): <undefined>, <undefined>\n",
      "\u001b[2m\u001b[36m(pid=11260, ip=192.168.8.55)\u001b[0m 2020-12-04 15:06:44.852755: I tensorflow/compiler/xla/service/service.cc:150] XLA service 0x69ccd90 executing computations on platform CUDA. Devices:\n",
      "\u001b[2m\u001b[36m(pid=11260, ip=192.168.8.55)\u001b[0m 2020-12-04 15:06:44.852810: I tensorflow/compiler/xla/service/service.cc:158]   StreamExecutor device (0): GeForce GTX 1080 Ti, Compute Capability 6.1\n",
      "\u001b[2m\u001b[36m(pid=11260, ip=192.168.8.55)\u001b[0m 2020-12-04 15:06:44.852992: I tensorflow/core/common_runtime/gpu/gpu_device.cc:1433] Found device 0 with properties: \n",
      "\u001b[2m\u001b[36m(pid=11260, ip=192.168.8.55)\u001b[0m name: GeForce GTX 1080 Ti major: 6 minor: 1 memoryClockRate(GHz): 1.62\n",
      "\u001b[2m\u001b[36m(pid=11260, ip=192.168.8.55)\u001b[0m pciBusID: 0000:4c:00.0\n",
      "\u001b[2m\u001b[36m(pid=11260, ip=192.168.8.55)\u001b[0m totalMemory: 10.91GiB freeMemory: 10.77GiB\n",
      "\u001b[2m\u001b[36m(pid=11260, ip=192.168.8.55)\u001b[0m 2020-12-04 15:06:44.853019: I tensorflow/core/common_runtime/gpu/gpu_device.cc:1512] Adding visible gpu devices: 0\n",
      "\u001b[2m\u001b[36m(pid=11260, ip=192.168.8.55)\u001b[0m 2020-12-04 15:06:44.855351: I tensorflow/core/common_runtime/gpu/gpu_device.cc:984] Device interconnect StreamExecutor with strength 1 edge matrix:\n",
      "\u001b[2m\u001b[36m(pid=11260, ip=192.168.8.55)\u001b[0m 2020-12-04 15:06:44.855391: I tensorflow/core/common_runtime/gpu/gpu_device.cc:990]      0 \n",
      "\u001b[2m\u001b[36m(pid=11260, ip=192.168.8.55)\u001b[0m 2020-12-04 15:06:44.855403: I tensorflow/core/common_runtime/gpu/gpu_device.cc:1003] 0:   N \n",
      "\u001b[2m\u001b[36m(pid=11260, ip=192.168.8.55)\u001b[0m 2020-12-04 15:06:44.855506: I tensorflow/core/common_runtime/gpu/gpu_device.cc:1115] Created TensorFlow device (/job:localhost/replica:0/task:0/device:GPU:0 with 10479 MB memory) -> physical GPU (device: 0, name: GeForce GTX 1080 Ti, pci bus id: 0000:4c:00.0, compute capability: 6.1)\n",
      "\u001b[2m\u001b[36m(pid=11260, ip=192.168.8.55)\u001b[0m WARNING:tensorflow:From /home/reminiz/ReminizML2/python_env/lib/python3.7/site-packages/tensorflow/python/training/saver.py:1266: checkpoint_exists (from tensorflow.python.training.checkpoint_management) is deprecated and will be removed in a future version.\n",
      "\u001b[2m\u001b[36m(pid=11260, ip=192.168.8.55)\u001b[0m Instructions for updating:\n",
      "\u001b[2m\u001b[36m(pid=11260, ip=192.168.8.55)\u001b[0m Use standard file APIs to check for files with this prefix.\n"
     ]
    },
    {
     "name": "stdout",
     "output_type": "stream",
     "text": [
      "\u001b[2m\u001b[36m(pid=11260, ip=192.168.8.55)\u001b[0m \u001b[6;30;42mAL_Test_6\u001b[0m Restoring from /mnt/Ressources/Andres/Temp_active/runs/Active_Learning_v0/Stage_6/checkpoint/epoch20.ckpt-20\n",
      "\u001b[2m\u001b[36m(pid=13443, ip=192.168.8.54)\u001b[0m \u001b[6;30;42mAL_Train_6\u001b[0m Epoch: 24 / 201 || Time: 2020-12-04 15:06:45 || Accuracy: 96.96 || MAE LossNet: 0.55 || \n"
     ]
    },
    {
     "name": "stderr",
     "output_type": "stream",
     "text": [
      "\u001b[2m\u001b[36m(pid=11260, ip=192.168.8.55)\u001b[0m 2020-12-04 15:06:46.243133: I tensorflow/stream_executor/dso_loader.cc:152] successfully opened CUDA library libcublas.so.10.0 locally\n"
     ]
    },
    {
     "name": "stdout",
     "output_type": "stream",
     "text": [
      "\u001b[2m\u001b[36m(pid=13443, ip=192.168.8.54)\u001b[0m \u001b[6;30;42mAL_Train_6\u001b[0m Epoch: 25 / 201 || Time: 2020-12-04 15:06:47 || Accuracy: 97.49 || MAE LossNet: 0.58 || \n",
      "\u001b[2m\u001b[36m(pid=11260, ip=192.168.8.55)\u001b[0m \u001b[6;30;42mAL_Test_6\u001b[0m Test || Epoch: 20 || Accuracy: 65.62 || \n"
     ]
    },
    {
     "name": "stderr",
     "output_type": "stream",
     "text": [
      "\u001b[2m\u001b[36m(pid=11260, ip=192.168.8.55)\u001b[0m \n",
      "\u001b[2m\u001b[36m(pid=11260, ip=192.168.8.55)\u001b[0m wandb: Waiting for W&B process to finish, PID 11786\n",
      "\u001b[2m\u001b[36m(pid=11260, ip=192.168.8.55)\u001b[0m wandb: Program ended successfully.\n",
      "\u001b[2m\u001b[36m(pid=11252, ip=192.168.8.55)\u001b[0m /home/reminiz/ReminizML2/python_env/lib/python3.7/site-packages/tensorflow/python/framework/dtypes.py:526: FutureWarning: Passing (type, 1) or '1type' as a synonym of type is deprecated; in a future version of numpy, it will be understood as (type, (1,)) / '(1,)type'.\n",
      "\u001b[2m\u001b[36m(pid=11252, ip=192.168.8.55)\u001b[0m   _np_qint8 = np.dtype([(\"qint8\", np.int8, 1)])\n",
      "\u001b[2m\u001b[36m(pid=11252, ip=192.168.8.55)\u001b[0m /home/reminiz/ReminizML2/python_env/lib/python3.7/site-packages/tensorflow/python/framework/dtypes.py:527: FutureWarning: Passing (type, 1) or '1type' as a synonym of type is deprecated; in a future version of numpy, it will be understood as (type, (1,)) / '(1,)type'.\n",
      "\u001b[2m\u001b[36m(pid=11252, ip=192.168.8.55)\u001b[0m   _np_quint8 = np.dtype([(\"quint8\", np.uint8, 1)])\n",
      "\u001b[2m\u001b[36m(pid=11252, ip=192.168.8.55)\u001b[0m /home/reminiz/ReminizML2/python_env/lib/python3.7/site-packages/tensorflow/python/framework/dtypes.py:528: FutureWarning: Passing (type, 1) or '1type' as a synonym of type is deprecated; in a future version of numpy, it will be understood as (type, (1,)) / '(1,)type'.\n",
      "\u001b[2m\u001b[36m(pid=11252, ip=192.168.8.55)\u001b[0m   _np_qint16 = np.dtype([(\"qint16\", np.int16, 1)])\n",
      "\u001b[2m\u001b[36m(pid=11252, ip=192.168.8.55)\u001b[0m /home/reminiz/ReminizML2/python_env/lib/python3.7/site-packages/tensorflow/python/framework/dtypes.py:529: FutureWarning: Passing (type, 1) or '1type' as a synonym of type is deprecated; in a future version of numpy, it will be understood as (type, (1,)) / '(1,)type'.\n",
      "\u001b[2m\u001b[36m(pid=11252, ip=192.168.8.55)\u001b[0m   _np_quint16 = np.dtype([(\"quint16\", np.uint16, 1)])\n",
      "\u001b[2m\u001b[36m(pid=11252, ip=192.168.8.55)\u001b[0m /home/reminiz/ReminizML2/python_env/lib/python3.7/site-packages/tensorflow/python/framework/dtypes.py:530: FutureWarning: Passing (type, 1) or '1type' as a synonym of type is deprecated; in a future version of numpy, it will be understood as (type, (1,)) / '(1,)type'.\n",
      "\u001b[2m\u001b[36m(pid=11252, ip=192.168.8.55)\u001b[0m   _np_qint32 = np.dtype([(\"qint32\", np.int32, 1)])\n",
      "\u001b[2m\u001b[36m(pid=11252, ip=192.168.8.55)\u001b[0m /home/reminiz/ReminizML2/python_env/lib/python3.7/site-packages/tensorflow/python/framework/dtypes.py:535: FutureWarning: Passing (type, 1) or '1type' as a synonym of type is deprecated; in a future version of numpy, it will be understood as (type, (1,)) / '(1,)type'.\n",
      "\u001b[2m\u001b[36m(pid=11252, ip=192.168.8.55)\u001b[0m   np_resource = np.dtype([(\"resource\", np.ubyte, 1)])\n"
     ]
    },
    {
     "name": "stdout",
     "output_type": "stream",
     "text": [
      "\u001b[2m\u001b[36m(pid=13443, ip=192.168.8.54)\u001b[0m \u001b[6;30;42mAL_Train_6\u001b[0m Epoch: 26 / 201 || Time: 2020-12-04 15:06:52 || Accuracy: 97.63 || MAE LossNet: 0.59 || \n"
     ]
    },
    {
     "name": "stderr",
     "output_type": "stream",
     "text": [
      "\u001b[2m\u001b[36m(pid=11260, ip=192.168.8.55)\u001b[0m wandb: Run summary:\n",
      "\u001b[2m\u001b[36m(pid=11260, ip=192.168.8.55)\u001b[0m wandb:                                     _step 20\n",
      "\u001b[2m\u001b[36m(pid=11260, ip=192.168.8.55)\u001b[0m wandb:                                  F1 score 0.6579740214199435\n",
      "\u001b[2m\u001b[36m(pid=11260, ip=192.168.8.55)\u001b[0m wandb:                                  _runtime 36.969330072402954\n",
      "\u001b[2m\u001b[36m(pid=11260, ip=192.168.8.55)\u001b[0m wandb:                                _timestamp 1607090809.886973\n",
      "\u001b[2m\u001b[36m(pid=11260, ip=192.168.8.55)\u001b[0m wandb:                     Explained variance v1 -0.19700229167938232\n",
      "\u001b[2m\u001b[36m(pid=11260, ip=192.168.8.55)\u001b[0m wandb:                     Explained variance v2 -0.10172164440155029\n",
      "\u001b[2m\u001b[36m(pid=11260, ip=192.168.8.55)\u001b[0m wandb:                     Mean squared error v1 12.96072006225586\n",
      "\u001b[2m\u001b[36m(pid=11260, ip=192.168.8.55)\u001b[0m wandb:                     Mean squared error v2 19.17689323425293\n",
      "\u001b[2m\u001b[36m(pid=11260, ip=192.168.8.55)\u001b[0m wandb:                    Mean absolute error v1 2.217257022857666\n",
      "\u001b[2m\u001b[36m(pid=11260, ip=192.168.8.55)\u001b[0m wandb:                    Mean absolute error v2 2.9630608558654785\n",
      "\u001b[2m\u001b[36m(pid=11260, ip=192.168.8.55)\u001b[0m wandb:                Area Under the Curve (AUC) 0.778222588531746\n",
      "\u001b[2m\u001b[36m(pid=11260, ip=192.168.8.55)\u001b[0m wandb:             Test: Classification Accuracy 0.6562\n",
      "\u001b[2m\u001b[36m(pid=11260, ip=192.168.8.55)\u001b[0m wandb: Syncing files in ../../../Trainings/wandb/wandb/run-20201204_140641-32tlp2kp:\n",
      "\u001b[2m\u001b[36m(pid=11260, ip=192.168.8.55)\u001b[0m wandb:   code/default_worker.py\n",
      "\u001b[2m\u001b[36m(pid=11260, ip=192.168.8.55)\u001b[0m wandb: plus 8 W&B file(s) and 2 media file(s)\n",
      "\u001b[2m\u001b[36m(pid=11260, ip=192.168.8.55)\u001b[0m wandb: - 1.84MB of 1.84MB uploaded\n",
      "\u001b[2m\u001b[36m(pid=11260, ip=192.168.8.55)\u001b[0m wandb: \\ 1.88MB of 1.88MB uploaded\n",
      "\u001b[2m\u001b[36m(pid=11252, ip=192.168.8.55)\u001b[0m wandb: Tracking run with wandb version 0.8.36\n",
      "\u001b[2m\u001b[36m(pid=11260, ip=192.168.8.55)\u001b[0m wandb: | 1.88MB of 1.88MB uploaded\n",
      "\u001b[2m\u001b[36m(pid=11260, ip=192.168.8.55)\u001b[0m wandb: / 1.88MB of 1.88MB uploaded\n",
      "\u001b[2m\u001b[36m(pid=11252, ip=192.168.8.55)\u001b[0m wandb: Wandb version 0.10.12 is available!  To upgrade, please run:\n",
      "\u001b[2m\u001b[36m(pid=11252, ip=192.168.8.55)\u001b[0m wandb:  $ pip install wandb --upgrade\n",
      "\u001b[2m\u001b[36m(pid=11252, ip=192.168.8.55)\u001b[0m wandb: Run data is saved locally in ../../../Trainings/wandb/wandb/run-20201204_140652-32tlp2kp\n",
      "\u001b[2m\u001b[36m(pid=11252, ip=192.168.8.55)\u001b[0m wandb: Syncing run AL_Test_6\n",
      "\u001b[2m\u001b[36m(pid=11252, ip=192.168.8.55)\u001b[0m wandb: ⭐️ View project at http://192.168.8.51:8080/reminiz/Active_Learning_CIFAR\n",
      "\u001b[2m\u001b[36m(pid=11252, ip=192.168.8.55)\u001b[0m wandb: 🚀 View run at http://192.168.8.51:8080/reminiz/Active_Learning_CIFAR/runs/32tlp2kp\n",
      "\u001b[2m\u001b[36m(pid=11252, ip=192.168.8.55)\u001b[0m wandb: Run `wandb off` to turn off syncing.\n",
      "\u001b[2m\u001b[36m(pid=11260, ip=192.168.8.55)\u001b[0m wandb: - 1.88MB of 1.88MB uploaded\n",
      "\u001b[2m\u001b[36m(pid=11252, ip=192.168.8.55)\u001b[0m \n",
      "wandb:                                                                                \n",
      "\u001b[2m\u001b[36m(pid=11260, ip=192.168.8.55)\u001b[0m wandb: Synced AL_Test_6: http://192.168.8.51:8080/reminiz/Active_Learning_CIFAR/runs/32tlp2kp\n"
     ]
    },
    {
     "name": "stdout",
     "output_type": "stream",
     "text": [
      "\u001b[2m\u001b[36m(pid=11252, ip=192.168.8.55)\u001b[0m CIFAR10 Training data shape: (50000, 32, 32, 3)\n",
      "\u001b[2m\u001b[36m(pid=11252, ip=192.168.8.55)\u001b[0m CIFAR10 Training label shape (50000, 1)\n",
      "\u001b[2m\u001b[36m(pid=11252, ip=192.168.8.55)\u001b[0m CIFAR10 Test data shape (10000, 32, 32, 3)\n",
      "\u001b[2m\u001b[36m(pid=11252, ip=192.168.8.55)\u001b[0m CIFAR10 Test label shape (10000, 1)\n",
      "\u001b[2m\u001b[36m(pid=13443, ip=192.168.8.54)\u001b[0m \u001b[6;30;42mAL_Train_6\u001b[0m Epoch: 27 / 201 || Time: 2020-12-04 15:06:53 || Accuracy: 97.59 || MAE LossNet: 0.58 || \n"
     ]
    },
    {
     "name": "stderr",
     "output_type": "stream",
     "text": [
      "\u001b[2m\u001b[36m(pid=11252, ip=192.168.8.55)\u001b[0m WARNING:tensorflow:From /home/reminiz/ReminizML2/python_env/lib/python3.7/site-packages/tensorflow/python/data/ops/dataset_ops.py:429: py_func (from tensorflow.python.ops.script_ops) is deprecated and will be removed in a future version.\n",
      "\u001b[2m\u001b[36m(pid=11252, ip=192.168.8.55)\u001b[0m Instructions for updating:\n",
      "\u001b[2m\u001b[36m(pid=11252, ip=192.168.8.55)\u001b[0m tf.py_func is deprecated in TF V2. Instead, use\n",
      "\u001b[2m\u001b[36m(pid=11252, ip=192.168.8.55)\u001b[0m     tf.py_function, which takes a python function which manipulates tf eager\n",
      "\u001b[2m\u001b[36m(pid=11252, ip=192.168.8.55)\u001b[0m     tensors instead of numpy arrays. It's easy to convert a tf eager tensor to\n",
      "\u001b[2m\u001b[36m(pid=11252, ip=192.168.8.55)\u001b[0m     an ndarray (just call tensor.numpy()) but having access to eager tensors\n",
      "\u001b[2m\u001b[36m(pid=11252, ip=192.168.8.55)\u001b[0m     means `tf.py_function`s can use accelerators such as GPUs as well as\n",
      "\u001b[2m\u001b[36m(pid=11252, ip=192.168.8.55)\u001b[0m     being differentiable using a gradient tape.\n",
      "\u001b[2m\u001b[36m(pid=11252, ip=192.168.8.55)\u001b[0m     \n",
      "\u001b[2m\u001b[36m(pid=11252, ip=192.168.8.55)\u001b[0m WARNING:tensorflow:From /home/reminiz/ReminizML2/python_env/lib/python3.7/site-packages/tensorflow/python/ops/resource_variable_ops.py:435: colocate_with (from tensorflow.python.framework.ops) is deprecated and will be removed in a future version.\n",
      "\u001b[2m\u001b[36m(pid=11252, ip=192.168.8.55)\u001b[0m Instructions for updating:\n",
      "\u001b[2m\u001b[36m(pid=11252, ip=192.168.8.55)\u001b[0m Colocations handled automatically by placer.\n"
     ]
    },
    {
     "name": "stdout",
     "output_type": "stream",
     "text": [
      "\u001b[2m\u001b[36m(pid=13443, ip=192.168.8.54)\u001b[0m \u001b[6;30;42mAL_Train_6\u001b[0m Epoch: 28 / 201 || Time: 2020-12-04 15:06:55 || Accuracy: 96.49 || MAE LossNet: 0.59 || \n"
     ]
    },
    {
     "name": "stderr",
     "output_type": "stream",
     "text": [
      "\u001b[2m\u001b[36m(pid=11252, ip=192.168.8.55)\u001b[0m 2020-12-04 15:06:55.662745: I tensorflow/core/platform/cpu_feature_guard.cc:141] Your CPU supports instructions that this TensorFlow binary was not compiled to use: AVX2 FMA\n",
      "\u001b[2m\u001b[36m(pid=11252, ip=192.168.8.55)\u001b[0m 2020-12-04 15:06:55.684332: I tensorflow/core/platform/profile_utils/cpu_utils.cc:94] CPU Frequency: 3599935000 Hz\n",
      "\u001b[2m\u001b[36m(pid=11252, ip=192.168.8.55)\u001b[0m 2020-12-04 15:06:55.685171: I tensorflow/compiler/xla/service/service.cc:150] XLA service 0x77b8d90 executing computations on platform Host. Devices:\n",
      "\u001b[2m\u001b[36m(pid=11252, ip=192.168.8.55)\u001b[0m 2020-12-04 15:06:55.685208: I tensorflow/compiler/xla/service/service.cc:158]   StreamExecutor device (0): <undefined>, <undefined>\n",
      "\u001b[2m\u001b[36m(pid=11252, ip=192.168.8.55)\u001b[0m 2020-12-04 15:06:55.772560: I tensorflow/compiler/xla/service/service.cc:150] XLA service 0x77be410 executing computations on platform CUDA. Devices:\n",
      "\u001b[2m\u001b[36m(pid=11252, ip=192.168.8.55)\u001b[0m 2020-12-04 15:06:55.772608: I tensorflow/compiler/xla/service/service.cc:158]   StreamExecutor device (0): GeForce GTX 1080 Ti, Compute Capability 6.1\n",
      "\u001b[2m\u001b[36m(pid=11252, ip=192.168.8.55)\u001b[0m 2020-12-04 15:06:55.772762: I tensorflow/core/common_runtime/gpu/gpu_device.cc:1433] Found device 0 with properties: \n",
      "\u001b[2m\u001b[36m(pid=11252, ip=192.168.8.55)\u001b[0m name: GeForce GTX 1080 Ti major: 6 minor: 1 memoryClockRate(GHz): 1.62\n",
      "\u001b[2m\u001b[36m(pid=11252, ip=192.168.8.55)\u001b[0m pciBusID: 0000:4c:00.0\n",
      "\u001b[2m\u001b[36m(pid=11252, ip=192.168.8.55)\u001b[0m totalMemory: 10.91GiB freeMemory: 10.77GiB\n",
      "\u001b[2m\u001b[36m(pid=11252, ip=192.168.8.55)\u001b[0m 2020-12-04 15:06:55.772784: I tensorflow/core/common_runtime/gpu/gpu_device.cc:1512] Adding visible gpu devices: 0\n",
      "\u001b[2m\u001b[36m(pid=11252, ip=192.168.8.55)\u001b[0m 2020-12-04 15:06:55.774539: I tensorflow/core/common_runtime/gpu/gpu_device.cc:984] Device interconnect StreamExecutor with strength 1 edge matrix:\n",
      "\u001b[2m\u001b[36m(pid=11252, ip=192.168.8.55)\u001b[0m 2020-12-04 15:06:55.774558: I tensorflow/core/common_runtime/gpu/gpu_device.cc:990]      0 \n",
      "\u001b[2m\u001b[36m(pid=11252, ip=192.168.8.55)\u001b[0m 2020-12-04 15:06:55.774566: I tensorflow/core/common_runtime/gpu/gpu_device.cc:1003] 0:   N \n",
      "\u001b[2m\u001b[36m(pid=11252, ip=192.168.8.55)\u001b[0m 2020-12-04 15:06:55.774648: I tensorflow/core/common_runtime/gpu/gpu_device.cc:1115] Created TensorFlow device (/job:localhost/replica:0/task:0/device:GPU:0 with 10479 MB memory) -> physical GPU (device: 0, name: GeForce GTX 1080 Ti, pci bus id: 0000:4c:00.0, compute capability: 6.1)\n",
      "\u001b[2m\u001b[36m(pid=11252, ip=192.168.8.55)\u001b[0m WARNING:tensorflow:From /home/reminiz/ReminizML2/python_env/lib/python3.7/site-packages/tensorflow/python/training/saver.py:1266: checkpoint_exists (from tensorflow.python.training.checkpoint_management) is deprecated and will be removed in a future version.\n",
      "\u001b[2m\u001b[36m(pid=11252, ip=192.168.8.55)\u001b[0m Instructions for updating:\n",
      "\u001b[2m\u001b[36m(pid=11252, ip=192.168.8.55)\u001b[0m Use standard file APIs to check for files with this prefix.\n"
     ]
    },
    {
     "name": "stdout",
     "output_type": "stream",
     "text": [
      "\u001b[2m\u001b[36m(pid=11252, ip=192.168.8.55)\u001b[0m \u001b[6;30;42mAL_Test_6\u001b[0m Restoring from /mnt/Ressources/Andres/Temp_active/runs/Active_Learning_v0/Stage_6/checkpoint/epoch25.ckpt-25\n",
      "\u001b[2m\u001b[36m(pid=13443, ip=192.168.8.54)\u001b[0m \u001b[6;30;42mAL_Train_6\u001b[0m Epoch: 29 / 201 || Time: 2020-12-04 15:06:56 || Accuracy: 97.10 || MAE LossNet: 0.54 || \n"
     ]
    },
    {
     "name": "stderr",
     "output_type": "stream",
     "text": [
      "\u001b[2m\u001b[36m(pid=11252, ip=192.168.8.55)\u001b[0m 2020-12-04 15:06:57.166764: I tensorflow/stream_executor/dso_loader.cc:152] successfully opened CUDA library libcublas.so.10.0 locally\n"
     ]
    },
    {
     "name": "stdout",
     "output_type": "stream",
     "text": [
      "\u001b[2m\u001b[36m(pid=13443, ip=192.168.8.54)\u001b[0m \u001b[6;30;42mAL_Train_6\u001b[0m Epoch: 30 / 201 || Time: 2020-12-04 15:06:58 || Accuracy: 97.64 || MAE LossNet: 0.53 || \n",
      "\u001b[2m\u001b[36m(pid=11252, ip=192.168.8.55)\u001b[0m \u001b[6;30;42mAL_Test_6\u001b[0m Test || Epoch: 25 || Accuracy: 65.70 || \n"
     ]
    },
    {
     "name": "stderr",
     "output_type": "stream",
     "text": [
      "\u001b[2m\u001b[33m(pid=raylet, ip=192.168.8.55)\u001b[0m E1204 15:07:00.771524 11230 11230 node_manager.cc:3307] Failed to send get core worker stats request: IOError: 2: HandleServiceClosed\n",
      "\u001b[2m\u001b[36m(pid=11252, ip=192.168.8.55)\u001b[0m \n",
      "\u001b[2m\u001b[36m(pid=11252, ip=192.168.8.55)\u001b[0m wandb: Waiting for W&B process to finish, PID 11928\n",
      "\u001b[2m\u001b[36m(pid=11252, ip=192.168.8.55)\u001b[0m wandb: Program ended successfully.\n",
      "\u001b[2m\u001b[36m(pid=11258, ip=192.168.8.55)\u001b[0m /home/reminiz/ReminizML2/python_env/lib/python3.7/site-packages/tensorflow/python/framework/dtypes.py:526: FutureWarning: Passing (type, 1) or '1type' as a synonym of type is deprecated; in a future version of numpy, it will be understood as (type, (1,)) / '(1,)type'.\n",
      "\u001b[2m\u001b[36m(pid=11258, ip=192.168.8.55)\u001b[0m   _np_qint8 = np.dtype([(\"qint8\", np.int8, 1)])\n",
      "\u001b[2m\u001b[36m(pid=11258, ip=192.168.8.55)\u001b[0m /home/reminiz/ReminizML2/python_env/lib/python3.7/site-packages/tensorflow/python/framework/dtypes.py:527: FutureWarning: Passing (type, 1) or '1type' as a synonym of type is deprecated; in a future version of numpy, it will be understood as (type, (1,)) / '(1,)type'.\n",
      "\u001b[2m\u001b[36m(pid=11258, ip=192.168.8.55)\u001b[0m   _np_quint8 = np.dtype([(\"quint8\", np.uint8, 1)])\n",
      "\u001b[2m\u001b[36m(pid=11258, ip=192.168.8.55)\u001b[0m /home/reminiz/ReminizML2/python_env/lib/python3.7/site-packages/tensorflow/python/framework/dtypes.py:528: FutureWarning: Passing (type, 1) or '1type' as a synonym of type is deprecated; in a future version of numpy, it will be understood as (type, (1,)) / '(1,)type'.\n",
      "\u001b[2m\u001b[36m(pid=11258, ip=192.168.8.55)\u001b[0m   _np_qint16 = np.dtype([(\"qint16\", np.int16, 1)])\n",
      "\u001b[2m\u001b[36m(pid=11258, ip=192.168.8.55)\u001b[0m /home/reminiz/ReminizML2/python_env/lib/python3.7/site-packages/tensorflow/python/framework/dtypes.py:529: FutureWarning: Passing (type, 1) or '1type' as a synonym of type is deprecated; in a future version of numpy, it will be understood as (type, (1,)) / '(1,)type'.\n",
      "\u001b[2m\u001b[36m(pid=11258, ip=192.168.8.55)\u001b[0m   _np_quint16 = np.dtype([(\"quint16\", np.uint16, 1)])\n",
      "\u001b[2m\u001b[36m(pid=11258, ip=192.168.8.55)\u001b[0m /home/reminiz/ReminizML2/python_env/lib/python3.7/site-packages/tensorflow/python/framework/dtypes.py:530: FutureWarning: Passing (type, 1) or '1type' as a synonym of type is deprecated; in a future version of numpy, it will be understood as (type, (1,)) / '(1,)type'.\n",
      "\u001b[2m\u001b[36m(pid=11258, ip=192.168.8.55)\u001b[0m   _np_qint32 = np.dtype([(\"qint32\", np.int32, 1)])\n",
      "\u001b[2m\u001b[36m(pid=11258, ip=192.168.8.55)\u001b[0m /home/reminiz/ReminizML2/python_env/lib/python3.7/site-packages/tensorflow/python/framework/dtypes.py:535: FutureWarning: Passing (type, 1) or '1type' as a synonym of type is deprecated; in a future version of numpy, it will be understood as (type, (1,)) / '(1,)type'.\n",
      "\u001b[2m\u001b[36m(pid=11258, ip=192.168.8.55)\u001b[0m   np_resource = np.dtype([(\"resource\", np.ubyte, 1)])\n",
      "\u001b[2m\u001b[36m(pid=11252, ip=192.168.8.55)\u001b[0m wandb: Run summary:\n",
      "\u001b[2m\u001b[36m(pid=11252, ip=192.168.8.55)\u001b[0m wandb:                                     _step 25\n",
      "\u001b[2m\u001b[36m(pid=11252, ip=192.168.8.55)\u001b[0m wandb:                                  F1 score 0.6570794433857571\n",
      "\u001b[2m\u001b[36m(pid=11252, ip=192.168.8.55)\u001b[0m wandb:                                  _runtime 45.33813142776489\n",
      "\u001b[2m\u001b[36m(pid=11252, ip=192.168.8.55)\u001b[0m wandb:                                _timestamp 1607090820.765882\n",
      "\u001b[2m\u001b[36m(pid=11252, ip=192.168.8.55)\u001b[0m wandb:                     Explained variance v1 -0.15230894088745117\n",
      "\u001b[2m\u001b[36m(pid=11252, ip=192.168.8.55)\u001b[0m wandb:                     Explained variance v2 -0.08415782451629639\n",
      "\u001b[2m\u001b[36m(pid=11252, ip=192.168.8.55)\u001b[0m wandb:                     Mean squared error v1 13.892898559570312\n",
      "\u001b[2m\u001b[36m(pid=11252, ip=192.168.8.55)\u001b[0m wandb:                     Mean squared error v2 21.219221115112305\n",
      "\u001b[2m\u001b[36m(pid=11252, ip=192.168.8.55)\u001b[0m wandb:                    Mean absolute error v1 2.2713050842285156\n",
      "\u001b[2m\u001b[36m(pid=11252, ip=192.168.8.55)\u001b[0m wandb:                    Mean absolute error v2 3.097513198852539\n",
      "\u001b[2m\u001b[36m(pid=11252, ip=192.168.8.55)\u001b[0m wandb:                Area Under the Curve (AUC) 0.7798105621896507\n",
      "\u001b[2m\u001b[36m(pid=11252, ip=192.168.8.55)\u001b[0m wandb:             Test: Classification Accuracy 0.657\n",
      "\u001b[2m\u001b[36m(pid=11252, ip=192.168.8.55)\u001b[0m wandb: Syncing files in ../../../Trainings/wandb/wandb/run-20201204_140652-32tlp2kp:\n",
      "\u001b[2m\u001b[36m(pid=11252, ip=192.168.8.55)\u001b[0m wandb:   code/default_worker.py\n",
      "\u001b[2m\u001b[36m(pid=11252, ip=192.168.8.55)\u001b[0m wandb: plus 8 W&B file(s) and 2 media file(s)\n",
      "\u001b[2m\u001b[36m(pid=11252, ip=192.168.8.55)\u001b[0m wandb: - 2.05MB of 2.05MB uploaded\n"
     ]
    },
    {
     "name": "stdout",
     "output_type": "stream",
     "text": [
      "\u001b[2m\u001b[36m(pid=13443, ip=192.168.8.54)\u001b[0m \u001b[6;30;42mAL_Train_6\u001b[0m Epoch: 31 / 201 || Time: 2020-12-04 15:07:03 || Accuracy: 97.22 || MAE LossNet: 0.54 || \n"
     ]
    },
    {
     "name": "stderr",
     "output_type": "stream",
     "text": [
      "\u001b[2m\u001b[36m(pid=11252, ip=192.168.8.55)\u001b[0m wandb: \\ 2.05MB of 2.05MB uploaded\n",
      "\u001b[2m\u001b[36m(pid=11258, ip=192.168.8.55)\u001b[0m wandb: Tracking run with wandb version 0.8.36\n",
      "\u001b[2m\u001b[36m(pid=11252, ip=192.168.8.55)\u001b[0m wandb: | 2.05MB of 2.05MB uploaded\n",
      "\u001b[2m\u001b[36m(pid=11252, ip=192.168.8.55)\u001b[0m wandb: / 2.05MB of 2.05MB uploaded\n",
      "wandb:                                                                                \n",
      "\u001b[2m\u001b[36m(pid=11252, ip=192.168.8.55)\u001b[0m wandb: Synced AL_Test_6: http://192.168.8.51:8080/reminiz/Active_Learning_CIFAR/runs/32tlp2kp\n",
      "\u001b[2m\u001b[36m(pid=11258, ip=192.168.8.55)\u001b[0m wandb: Wandb version 0.10.12 is available!  To upgrade, please run:\n",
      "\u001b[2m\u001b[36m(pid=11258, ip=192.168.8.55)\u001b[0m wandb:  $ pip install wandb --upgrade\n",
      "\u001b[2m\u001b[36m(pid=11258, ip=192.168.8.55)\u001b[0m wandb: Run data is saved locally in ../../../Trainings/wandb/wandb/run-20201204_140703-32tlp2kp\n",
      "\u001b[2m\u001b[36m(pid=11258, ip=192.168.8.55)\u001b[0m wandb: Syncing run AL_Test_6\n",
      "\u001b[2m\u001b[36m(pid=11258, ip=192.168.8.55)\u001b[0m wandb: ⭐️ View project at http://192.168.8.51:8080/reminiz/Active_Learning_CIFAR\n",
      "\u001b[2m\u001b[36m(pid=11258, ip=192.168.8.55)\u001b[0m wandb: 🚀 View run at http://192.168.8.51:8080/reminiz/Active_Learning_CIFAR/runs/32tlp2kp\n",
      "\u001b[2m\u001b[36m(pid=11258, ip=192.168.8.55)\u001b[0m wandb: Run `wandb off` to turn off syncing.\n",
      "\u001b[2m\u001b[36m(pid=11258, ip=192.168.8.55)\u001b[0m \n"
     ]
    },
    {
     "name": "stdout",
     "output_type": "stream",
     "text": [
      "\u001b[2m\u001b[36m(pid=11258, ip=192.168.8.55)\u001b[0m CIFAR10 Training data shape: (50000, 32, 32, 3)\n",
      "\u001b[2m\u001b[36m(pid=11258, ip=192.168.8.55)\u001b[0m CIFAR10 Training label shape (50000, 1)\n",
      "\u001b[2m\u001b[36m(pid=11258, ip=192.168.8.55)\u001b[0m CIFAR10 Test data shape (10000, 32, 32, 3)\n",
      "\u001b[2m\u001b[36m(pid=11258, ip=192.168.8.55)\u001b[0m CIFAR10 Test label shape (10000, 1)\n",
      "\u001b[2m\u001b[36m(pid=13443, ip=192.168.8.54)\u001b[0m \u001b[6;30;42mAL_Train_6\u001b[0m Epoch: 32 / 201 || Time: 2020-12-04 15:07:04 || Accuracy: 97.57 || MAE LossNet: 0.57 || \n"
     ]
    },
    {
     "name": "stderr",
     "output_type": "stream",
     "text": [
      "\u001b[2m\u001b[36m(pid=11258, ip=192.168.8.55)\u001b[0m WARNING:tensorflow:From /home/reminiz/ReminizML2/python_env/lib/python3.7/site-packages/tensorflow/python/data/ops/dataset_ops.py:429: py_func (from tensorflow.python.ops.script_ops) is deprecated and will be removed in a future version.\n",
      "\u001b[2m\u001b[36m(pid=11258, ip=192.168.8.55)\u001b[0m Instructions for updating:\n",
      "\u001b[2m\u001b[36m(pid=11258, ip=192.168.8.55)\u001b[0m tf.py_func is deprecated in TF V2. Instead, use\n",
      "\u001b[2m\u001b[36m(pid=11258, ip=192.168.8.55)\u001b[0m     tf.py_function, which takes a python function which manipulates tf eager\n",
      "\u001b[2m\u001b[36m(pid=11258, ip=192.168.8.55)\u001b[0m     tensors instead of numpy arrays. It's easy to convert a tf eager tensor to\n",
      "\u001b[2m\u001b[36m(pid=11258, ip=192.168.8.55)\u001b[0m     an ndarray (just call tensor.numpy()) but having access to eager tensors\n",
      "\u001b[2m\u001b[36m(pid=11258, ip=192.168.8.55)\u001b[0m     means `tf.py_function`s can use accelerators such as GPUs as well as\n",
      "\u001b[2m\u001b[36m(pid=11258, ip=192.168.8.55)\u001b[0m     being differentiable using a gradient tape.\n",
      "\u001b[2m\u001b[36m(pid=11258, ip=192.168.8.55)\u001b[0m     \n",
      "\u001b[2m\u001b[36m(pid=11258, ip=192.168.8.55)\u001b[0m WARNING:tensorflow:From /home/reminiz/ReminizML2/python_env/lib/python3.7/site-packages/tensorflow/python/ops/resource_variable_ops.py:435: colocate_with (from tensorflow.python.framework.ops) is deprecated and will be removed in a future version.\n",
      "\u001b[2m\u001b[36m(pid=11258, ip=192.168.8.55)\u001b[0m Instructions for updating:\n",
      "\u001b[2m\u001b[36m(pid=11258, ip=192.168.8.55)\u001b[0m Colocations handled automatically by placer.\n"
     ]
    },
    {
     "name": "stdout",
     "output_type": "stream",
     "text": [
      "\u001b[2m\u001b[36m(pid=13443, ip=192.168.8.54)\u001b[0m \u001b[6;30;42mAL_Train_6\u001b[0m Epoch: 33 / 201 || Time: 2020-12-04 15:07:06 || Accuracy: 97.22 || MAE LossNet: 0.58 || \n"
     ]
    },
    {
     "name": "stderr",
     "output_type": "stream",
     "text": [
      "\u001b[2m\u001b[36m(pid=11258, ip=192.168.8.55)\u001b[0m 2020-12-04 15:07:06.724828: I tensorflow/core/platform/cpu_feature_guard.cc:141] Your CPU supports instructions that this TensorFlow binary was not compiled to use: AVX2 FMA\n",
      "\u001b[2m\u001b[36m(pid=11258, ip=192.168.8.55)\u001b[0m 2020-12-04 15:07:06.748213: I tensorflow/core/platform/profile_utils/cpu_utils.cc:94] CPU Frequency: 3599935000 Hz\n",
      "\u001b[2m\u001b[36m(pid=11258, ip=192.168.8.55)\u001b[0m 2020-12-04 15:07:06.748809: I tensorflow/compiler/xla/service/service.cc:150] XLA service 0x619c880 executing computations on platform Host. Devices:\n",
      "\u001b[2m\u001b[36m(pid=11258, ip=192.168.8.55)\u001b[0m 2020-12-04 15:07:06.748829: I tensorflow/compiler/xla/service/service.cc:158]   StreamExecutor device (0): <undefined>, <undefined>\n",
      "\u001b[2m\u001b[36m(pid=11258, ip=192.168.8.55)\u001b[0m 2020-12-04 15:07:06.824233: I tensorflow/compiler/xla/service/service.cc:150] XLA service 0x61a1f00 executing computations on platform CUDA. Devices:\n",
      "\u001b[2m\u001b[36m(pid=11258, ip=192.168.8.55)\u001b[0m 2020-12-04 15:07:06.824272: I tensorflow/compiler/xla/service/service.cc:158]   StreamExecutor device (0): GeForce GTX 1080 Ti, Compute Capability 6.1\n",
      "\u001b[2m\u001b[36m(pid=11258, ip=192.168.8.55)\u001b[0m 2020-12-04 15:07:06.824430: I tensorflow/core/common_runtime/gpu/gpu_device.cc:1433] Found device 0 with properties: \n",
      "\u001b[2m\u001b[36m(pid=11258, ip=192.168.8.55)\u001b[0m name: GeForce GTX 1080 Ti major: 6 minor: 1 memoryClockRate(GHz): 1.62\n",
      "\u001b[2m\u001b[36m(pid=11258, ip=192.168.8.55)\u001b[0m pciBusID: 0000:4c:00.0\n",
      "\u001b[2m\u001b[36m(pid=11258, ip=192.168.8.55)\u001b[0m totalMemory: 10.91GiB freeMemory: 10.77GiB\n",
      "\u001b[2m\u001b[36m(pid=11258, ip=192.168.8.55)\u001b[0m 2020-12-04 15:07:06.824462: I tensorflow/core/common_runtime/gpu/gpu_device.cc:1512] Adding visible gpu devices: 0\n",
      "\u001b[2m\u001b[36m(pid=11258, ip=192.168.8.55)\u001b[0m 2020-12-04 15:07:06.826388: I tensorflow/core/common_runtime/gpu/gpu_device.cc:984] Device interconnect StreamExecutor with strength 1 edge matrix:\n",
      "\u001b[2m\u001b[36m(pid=11258, ip=192.168.8.55)\u001b[0m 2020-12-04 15:07:06.826411: I tensorflow/core/common_runtime/gpu/gpu_device.cc:990]      0 \n",
      "\u001b[2m\u001b[36m(pid=11258, ip=192.168.8.55)\u001b[0m 2020-12-04 15:07:06.826422: I tensorflow/core/common_runtime/gpu/gpu_device.cc:1003] 0:   N \n",
      "\u001b[2m\u001b[36m(pid=11258, ip=192.168.8.55)\u001b[0m 2020-12-04 15:07:06.826516: I tensorflow/core/common_runtime/gpu/gpu_device.cc:1115] Created TensorFlow device (/job:localhost/replica:0/task:0/device:GPU:0 with 10479 MB memory) -> physical GPU (device: 0, name: GeForce GTX 1080 Ti, pci bus id: 0000:4c:00.0, compute capability: 6.1)\n",
      "\u001b[2m\u001b[36m(pid=11258, ip=192.168.8.55)\u001b[0m WARNING:tensorflow:From /home/reminiz/ReminizML2/python_env/lib/python3.7/site-packages/tensorflow/python/training/saver.py:1266: checkpoint_exists (from tensorflow.python.training.checkpoint_management) is deprecated and will be removed in a future version.\n",
      "\u001b[2m\u001b[36m(pid=11258, ip=192.168.8.55)\u001b[0m Instructions for updating:\n",
      "\u001b[2m\u001b[36m(pid=11258, ip=192.168.8.55)\u001b[0m Use standard file APIs to check for files with this prefix.\n"
     ]
    },
    {
     "name": "stdout",
     "output_type": "stream",
     "text": [
      "\u001b[2m\u001b[36m(pid=11258, ip=192.168.8.55)\u001b[0m \u001b[6;30;42mAL_Test_6\u001b[0m Restoring from /mnt/Ressources/Andres/Temp_active/runs/Active_Learning_v0/Stage_6/checkpoint/epoch30.ckpt-30\n",
      "\u001b[2m\u001b[36m(pid=13443, ip=192.168.8.54)\u001b[0m \u001b[6;30;42mAL_Train_6\u001b[0m Epoch: 34 / 201 || Time: 2020-12-04 15:07:07 || Accuracy: 99.32 || MAE LossNet: 0.51 || \n"
     ]
    },
    {
     "name": "stderr",
     "output_type": "stream",
     "text": [
      "\u001b[2m\u001b[36m(pid=11258, ip=192.168.8.55)\u001b[0m 2020-12-04 15:07:08.204767: I tensorflow/stream_executor/dso_loader.cc:152] successfully opened CUDA library libcublas.so.10.0 locally\n"
     ]
    },
    {
     "name": "stdout",
     "output_type": "stream",
     "text": [
      "\u001b[2m\u001b[36m(pid=13443, ip=192.168.8.54)\u001b[0m \u001b[6;30;42mAL_Train_6\u001b[0m Epoch: 35 / 201 || Time: 2020-12-04 15:07:09 || Accuracy: 97.08 || MAE LossNet: 0.55 || \n",
      "\u001b[2m\u001b[36m(pid=11258, ip=192.168.8.55)\u001b[0m \u001b[6;30;42mAL_Test_6\u001b[0m Test || Epoch: 30 || Accuracy: 65.42 || \n"
     ]
    },
    {
     "name": "stderr",
     "output_type": "stream",
     "text": [
      "\u001b[2m\u001b[36m(pid=11258, ip=192.168.8.55)\u001b[0m \n",
      "\u001b[2m\u001b[36m(pid=11258, ip=192.168.8.55)\u001b[0m wandb: Waiting for W&B process to finish, PID 12073\n",
      "\u001b[2m\u001b[36m(pid=11258, ip=192.168.8.55)\u001b[0m wandb: Program ended successfully.\n",
      "\u001b[2m\u001b[36m(pid=11254, ip=192.168.8.55)\u001b[0m /home/reminiz/ReminizML2/python_env/lib/python3.7/site-packages/tensorflow/python/framework/dtypes.py:526: FutureWarning: Passing (type, 1) or '1type' as a synonym of type is deprecated; in a future version of numpy, it will be understood as (type, (1,)) / '(1,)type'.\n",
      "\u001b[2m\u001b[36m(pid=11254, ip=192.168.8.55)\u001b[0m   _np_qint8 = np.dtype([(\"qint8\", np.int8, 1)])\n",
      "\u001b[2m\u001b[36m(pid=11254, ip=192.168.8.55)\u001b[0m /home/reminiz/ReminizML2/python_env/lib/python3.7/site-packages/tensorflow/python/framework/dtypes.py:527: FutureWarning: Passing (type, 1) or '1type' as a synonym of type is deprecated; in a future version of numpy, it will be understood as (type, (1,)) / '(1,)type'.\n",
      "\u001b[2m\u001b[36m(pid=11254, ip=192.168.8.55)\u001b[0m   _np_quint8 = np.dtype([(\"quint8\", np.uint8, 1)])\n",
      "\u001b[2m\u001b[36m(pid=11254, ip=192.168.8.55)\u001b[0m /home/reminiz/ReminizML2/python_env/lib/python3.7/site-packages/tensorflow/python/framework/dtypes.py:528: FutureWarning: Passing (type, 1) or '1type' as a synonym of type is deprecated; in a future version of numpy, it will be understood as (type, (1,)) / '(1,)type'.\n",
      "\u001b[2m\u001b[36m(pid=11254, ip=192.168.8.55)\u001b[0m   _np_qint16 = np.dtype([(\"qint16\", np.int16, 1)])\n",
      "\u001b[2m\u001b[36m(pid=11254, ip=192.168.8.55)\u001b[0m /home/reminiz/ReminizML2/python_env/lib/python3.7/site-packages/tensorflow/python/framework/dtypes.py:529: FutureWarning: Passing (type, 1) or '1type' as a synonym of type is deprecated; in a future version of numpy, it will be understood as (type, (1,)) / '(1,)type'.\n",
      "\u001b[2m\u001b[36m(pid=11254, ip=192.168.8.55)\u001b[0m   _np_quint16 = np.dtype([(\"quint16\", np.uint16, 1)])\n",
      "\u001b[2m\u001b[36m(pid=11254, ip=192.168.8.55)\u001b[0m /home/reminiz/ReminizML2/python_env/lib/python3.7/site-packages/tensorflow/python/framework/dtypes.py:530: FutureWarning: Passing (type, 1) or '1type' as a synonym of type is deprecated; in a future version of numpy, it will be understood as (type, (1,)) / '(1,)type'.\n",
      "\u001b[2m\u001b[36m(pid=11254, ip=192.168.8.55)\u001b[0m   _np_qint32 = np.dtype([(\"qint32\", np.int32, 1)])\n",
      "\u001b[2m\u001b[36m(pid=11254, ip=192.168.8.55)\u001b[0m /home/reminiz/ReminizML2/python_env/lib/python3.7/site-packages/tensorflow/python/framework/dtypes.py:535: FutureWarning: Passing (type, 1) or '1type' as a synonym of type is deprecated; in a future version of numpy, it will be understood as (type, (1,)) / '(1,)type'.\n",
      "\u001b[2m\u001b[36m(pid=11254, ip=192.168.8.55)\u001b[0m   np_resource = np.dtype([(\"resource\", np.ubyte, 1)])\n",
      "\u001b[2m\u001b[36m(pid=11258, ip=192.168.8.55)\u001b[0m wandb: Run summary:\n",
      "\u001b[2m\u001b[36m(pid=11258, ip=192.168.8.55)\u001b[0m wandb:                                     _step 30\n",
      "\u001b[2m\u001b[36m(pid=11258, ip=192.168.8.55)\u001b[0m wandb:                                  F1 score 0.6521770445342925\n",
      "\u001b[2m\u001b[36m(pid=11258, ip=192.168.8.55)\u001b[0m wandb:                                  _runtime 53.65576934814453\n",
      "\u001b[2m\u001b[36m(pid=11258, ip=192.168.8.55)\u001b[0m wandb:                                _timestamp 1607090831.7612898\n",
      "\u001b[2m\u001b[36m(pid=11258, ip=192.168.8.55)\u001b[0m wandb:                     Explained variance v1 -0.1612074375152588\n",
      "\u001b[2m\u001b[36m(pid=11258, ip=192.168.8.55)\u001b[0m wandb:                     Explained variance v2 -0.08965575695037842\n",
      "\u001b[2m\u001b[36m(pid=11258, ip=192.168.8.55)\u001b[0m wandb:                     Mean squared error v1 15.007007598876953\n",
      "\u001b[2m\u001b[36m(pid=11258, ip=192.168.8.55)\u001b[0m wandb:                     Mean squared error v2 22.538593292236328\n",
      "\u001b[2m\u001b[36m(pid=11258, ip=192.168.8.55)\u001b[0m wandb:                    Mean absolute error v1 2.375152349472046\n",
      "\u001b[2m\u001b[36m(pid=11258, ip=192.168.8.55)\u001b[0m wandb:                    Mean absolute error v2 3.217384099960327\n",
      "\u001b[2m\u001b[36m(pid=11258, ip=192.168.8.55)\u001b[0m wandb:                Area Under the Curve (AUC) 0.7741837721081151\n",
      "\u001b[2m\u001b[36m(pid=11258, ip=192.168.8.55)\u001b[0m wandb:             Test: Classification Accuracy 0.6542\n",
      "\u001b[2m\u001b[36m(pid=11258, ip=192.168.8.55)\u001b[0m wandb: Syncing files in ../../../Trainings/wandb/wandb/run-20201204_140703-32tlp2kp:\n",
      "\u001b[2m\u001b[36m(pid=11258, ip=192.168.8.55)\u001b[0m wandb:   code/default_worker.py\n",
      "\u001b[2m\u001b[36m(pid=11258, ip=192.168.8.55)\u001b[0m wandb: plus 8 W&B file(s) and 2 media file(s)\n",
      "\u001b[2m\u001b[36m(pid=11258, ip=192.168.8.55)\u001b[0m wandb: - 0.28MB of 0.28MB uploaded\n",
      "\u001b[2m\u001b[36m(pid=11258, ip=192.168.8.55)\u001b[0m wandb: \\ 0.28MB of 0.28MB uploaded\n",
      "\u001b[2m\u001b[36m(pid=11258, ip=192.168.8.55)\u001b[0m wandb: | 0.28MB of 0.28MB uploaded\n",
      "\u001b[2m\u001b[36m(pid=11258, ip=192.168.8.55)\u001b[0m wandb: / 0.28MB of 0.28MB uploaded\n"
     ]
    },
    {
     "name": "stdout",
     "output_type": "stream",
     "text": [
      "\u001b[2m\u001b[36m(pid=13443, ip=192.168.8.54)\u001b[0m \u001b[6;30;42mAL_Train_6\u001b[0m Epoch: 36 / 201 || Time: 2020-12-04 15:07:14 || Accuracy: 98.12 || MAE LossNet: 0.58 || \n"
     ]
    },
    {
     "name": "stderr",
     "output_type": "stream",
     "text": [
      "\u001b[2m\u001b[36m(pid=11258, ip=192.168.8.55)\u001b[0m wandb: - 0.28MB of 0.28MB uploaded\n",
      "\u001b[2m\u001b[36m(pid=11254, ip=192.168.8.55)\u001b[0m wandb: Tracking run with wandb version 0.8.36\n",
      "wandb:                                                                                \n",
      "\u001b[2m\u001b[36m(pid=11258, ip=192.168.8.55)\u001b[0m wandb: Synced AL_Test_6: http://192.168.8.51:8080/reminiz/Active_Learning_CIFAR/runs/32tlp2kp\n",
      "\u001b[2m\u001b[36m(pid=11254, ip=192.168.8.55)\u001b[0m wandb: Wandb version 0.10.12 is available!  To upgrade, please run:\n",
      "\u001b[2m\u001b[36m(pid=11254, ip=192.168.8.55)\u001b[0m wandb:  $ pip install wandb --upgrade\n",
      "\u001b[2m\u001b[36m(pid=11254, ip=192.168.8.55)\u001b[0m wandb: Run data is saved locally in ../../../Trainings/wandb/wandb/run-20201204_140714-32tlp2kp\n",
      "\u001b[2m\u001b[36m(pid=11254, ip=192.168.8.55)\u001b[0m wandb: Syncing run AL_Test_6\n",
      "\u001b[2m\u001b[36m(pid=11254, ip=192.168.8.55)\u001b[0m wandb: ⭐️ View project at http://192.168.8.51:8080/reminiz/Active_Learning_CIFAR\n",
      "\u001b[2m\u001b[36m(pid=11254, ip=192.168.8.55)\u001b[0m wandb: 🚀 View run at http://192.168.8.51:8080/reminiz/Active_Learning_CIFAR/runs/32tlp2kp\n",
      "\u001b[2m\u001b[36m(pid=11254, ip=192.168.8.55)\u001b[0m wandb: Run `wandb off` to turn off syncing.\n",
      "\u001b[2m\u001b[36m(pid=11254, ip=192.168.8.55)\u001b[0m \n"
     ]
    },
    {
     "name": "stdout",
     "output_type": "stream",
     "text": [
      "\u001b[2m\u001b[36m(pid=11254, ip=192.168.8.55)\u001b[0m CIFAR10 Training data shape: (50000, 32, 32, 3)\n",
      "\u001b[2m\u001b[36m(pid=11254, ip=192.168.8.55)\u001b[0m CIFAR10 Training label shape (50000, 1)\n",
      "\u001b[2m\u001b[36m(pid=11254, ip=192.168.8.55)\u001b[0m CIFAR10 Test data shape (10000, 32, 32, 3)\n",
      "\u001b[2m\u001b[36m(pid=11254, ip=192.168.8.55)\u001b[0m CIFAR10 Test label shape (10000, 1)\n",
      "\u001b[2m\u001b[36m(pid=13443, ip=192.168.8.54)\u001b[0m \u001b[6;30;42mAL_Train_6\u001b[0m Epoch: 37 / 201 || Time: 2020-12-04 15:07:15 || Accuracy: 97.20 || MAE LossNet: 0.54 || \n"
     ]
    },
    {
     "name": "stderr",
     "output_type": "stream",
     "text": [
      "\u001b[2m\u001b[36m(pid=11254, ip=192.168.8.55)\u001b[0m WARNING:tensorflow:From /home/reminiz/ReminizML2/python_env/lib/python3.7/site-packages/tensorflow/python/data/ops/dataset_ops.py:429: py_func (from tensorflow.python.ops.script_ops) is deprecated and will be removed in a future version.\n",
      "\u001b[2m\u001b[36m(pid=11254, ip=192.168.8.55)\u001b[0m Instructions for updating:\n",
      "\u001b[2m\u001b[36m(pid=11254, ip=192.168.8.55)\u001b[0m tf.py_func is deprecated in TF V2. Instead, use\n",
      "\u001b[2m\u001b[36m(pid=11254, ip=192.168.8.55)\u001b[0m     tf.py_function, which takes a python function which manipulates tf eager\n",
      "\u001b[2m\u001b[36m(pid=11254, ip=192.168.8.55)\u001b[0m     tensors instead of numpy arrays. It's easy to convert a tf eager tensor to\n",
      "\u001b[2m\u001b[36m(pid=11254, ip=192.168.8.55)\u001b[0m     an ndarray (just call tensor.numpy()) but having access to eager tensors\n",
      "\u001b[2m\u001b[36m(pid=11254, ip=192.168.8.55)\u001b[0m     means `tf.py_function`s can use accelerators such as GPUs as well as\n",
      "\u001b[2m\u001b[36m(pid=11254, ip=192.168.8.55)\u001b[0m     being differentiable using a gradient tape.\n",
      "\u001b[2m\u001b[36m(pid=11254, ip=192.168.8.55)\u001b[0m     \n",
      "\u001b[2m\u001b[36m(pid=11254, ip=192.168.8.55)\u001b[0m WARNING:tensorflow:From /home/reminiz/ReminizML2/python_env/lib/python3.7/site-packages/tensorflow/python/ops/resource_variable_ops.py:435: colocate_with (from tensorflow.python.framework.ops) is deprecated and will be removed in a future version.\n",
      "\u001b[2m\u001b[36m(pid=11254, ip=192.168.8.55)\u001b[0m Instructions for updating:\n",
      "\u001b[2m\u001b[36m(pid=11254, ip=192.168.8.55)\u001b[0m Colocations handled automatically by placer.\n"
     ]
    },
    {
     "name": "stdout",
     "output_type": "stream",
     "text": [
      "\u001b[2m\u001b[36m(pid=13443, ip=192.168.8.54)\u001b[0m \u001b[6;30;42mAL_Train_6\u001b[0m Epoch: 38 / 201 || Time: 2020-12-04 15:07:17 || Accuracy: 98.51 || MAE LossNet: 0.51 || \n"
     ]
    },
    {
     "name": "stderr",
     "output_type": "stream",
     "text": [
      "\u001b[2m\u001b[36m(pid=11254, ip=192.168.8.55)\u001b[0m 2020-12-04 15:07:17.632443: I tensorflow/core/platform/cpu_feature_guard.cc:141] Your CPU supports instructions that this TensorFlow binary was not compiled to use: AVX2 FMA\n",
      "\u001b[2m\u001b[36m(pid=11254, ip=192.168.8.55)\u001b[0m 2020-12-04 15:07:17.660318: I tensorflow/core/platform/profile_utils/cpu_utils.cc:94] CPU Frequency: 3599935000 Hz\n",
      "\u001b[2m\u001b[36m(pid=11254, ip=192.168.8.55)\u001b[0m 2020-12-04 15:07:17.661294: I tensorflow/compiler/xla/service/service.cc:150] XLA service 0x74895f0 executing computations on platform Host. Devices:\n",
      "\u001b[2m\u001b[36m(pid=11254, ip=192.168.8.55)\u001b[0m 2020-12-04 15:07:17.661316: I tensorflow/compiler/xla/service/service.cc:158]   StreamExecutor device (0): <undefined>, <undefined>\n",
      "\u001b[2m\u001b[36m(pid=11254, ip=192.168.8.55)\u001b[0m 2020-12-04 15:07:17.760620: I tensorflow/compiler/xla/service/service.cc:150] XLA service 0x748ec70 executing computations on platform CUDA. Devices:\n",
      "\u001b[2m\u001b[36m(pid=11254, ip=192.168.8.55)\u001b[0m 2020-12-04 15:07:17.760663: I tensorflow/compiler/xla/service/service.cc:158]   StreamExecutor device (0): GeForce GTX 1080 Ti, Compute Capability 6.1\n",
      "\u001b[2m\u001b[36m(pid=11254, ip=192.168.8.55)\u001b[0m 2020-12-04 15:07:17.760866: I tensorflow/core/common_runtime/gpu/gpu_device.cc:1433] Found device 0 with properties: \n",
      "\u001b[2m\u001b[36m(pid=11254, ip=192.168.8.55)\u001b[0m name: GeForce GTX 1080 Ti major: 6 minor: 1 memoryClockRate(GHz): 1.62\n",
      "\u001b[2m\u001b[36m(pid=11254, ip=192.168.8.55)\u001b[0m pciBusID: 0000:4c:00.0\n",
      "\u001b[2m\u001b[36m(pid=11254, ip=192.168.8.55)\u001b[0m totalMemory: 10.91GiB freeMemory: 10.77GiB\n",
      "\u001b[2m\u001b[36m(pid=11254, ip=192.168.8.55)\u001b[0m 2020-12-04 15:07:17.760896: I tensorflow/core/common_runtime/gpu/gpu_device.cc:1512] Adding visible gpu devices: 0\n",
      "\u001b[2m\u001b[36m(pid=11254, ip=192.168.8.55)\u001b[0m 2020-12-04 15:07:17.763464: I tensorflow/core/common_runtime/gpu/gpu_device.cc:984] Device interconnect StreamExecutor with strength 1 edge matrix:\n",
      "\u001b[2m\u001b[36m(pid=11254, ip=192.168.8.55)\u001b[0m 2020-12-04 15:07:17.763494: I tensorflow/core/common_runtime/gpu/gpu_device.cc:990]      0 \n",
      "\u001b[2m\u001b[36m(pid=11254, ip=192.168.8.55)\u001b[0m 2020-12-04 15:07:17.763507: I tensorflow/core/common_runtime/gpu/gpu_device.cc:1003] 0:   N \n",
      "\u001b[2m\u001b[36m(pid=11254, ip=192.168.8.55)\u001b[0m 2020-12-04 15:07:17.763621: I tensorflow/core/common_runtime/gpu/gpu_device.cc:1115] Created TensorFlow device (/job:localhost/replica:0/task:0/device:GPU:0 with 10479 MB memory) -> physical GPU (device: 0, name: GeForce GTX 1080 Ti, pci bus id: 0000:4c:00.0, compute capability: 6.1)\n",
      "\u001b[2m\u001b[36m(pid=11254, ip=192.168.8.55)\u001b[0m WARNING:tensorflow:From /home/reminiz/ReminizML2/python_env/lib/python3.7/site-packages/tensorflow/python/training/saver.py:1266: checkpoint_exists (from tensorflow.python.training.checkpoint_management) is deprecated and will be removed in a future version.\n",
      "\u001b[2m\u001b[36m(pid=11254, ip=192.168.8.55)\u001b[0m Instructions for updating:\n",
      "\u001b[2m\u001b[36m(pid=11254, ip=192.168.8.55)\u001b[0m Use standard file APIs to check for files with this prefix.\n"
     ]
    },
    {
     "name": "stdout",
     "output_type": "stream",
     "text": [
      "\u001b[2m\u001b[36m(pid=11254, ip=192.168.8.55)\u001b[0m \u001b[6;30;42mAL_Test_6\u001b[0m Restoring from /mnt/Ressources/Andres/Temp_active/runs/Active_Learning_v0/Stage_6/checkpoint/epoch35.ckpt-35\n",
      "\u001b[2m\u001b[36m(pid=13443, ip=192.168.8.54)\u001b[0m \u001b[6;30;42mAL_Train_6\u001b[0m Epoch: 39 / 201 || Time: 2020-12-04 15:07:18 || Accuracy: 97.47 || MAE LossNet: 0.54 || \n"
     ]
    },
    {
     "name": "stderr",
     "output_type": "stream",
     "text": [
      "\u001b[2m\u001b[36m(pid=11254, ip=192.168.8.55)\u001b[0m 2020-12-04 15:07:19.199287: I tensorflow/stream_executor/dso_loader.cc:152] successfully opened CUDA library libcublas.so.10.0 locally\n"
     ]
    },
    {
     "name": "stdout",
     "output_type": "stream",
     "text": [
      "\u001b[2m\u001b[36m(pid=13443, ip=192.168.8.54)\u001b[0m \u001b[6;30;42mAL_Train_6\u001b[0m Epoch: 40 / 201 || Time: 2020-12-04 15:07:20 || Accuracy: 98.49 || MAE LossNet: 0.57 || \n",
      "\u001b[2m\u001b[36m(pid=11254, ip=192.168.8.55)\u001b[0m \u001b[6;30;42mAL_Test_6\u001b[0m Test || Epoch: 35 || Accuracy: 65.09 || \n"
     ]
    },
    {
     "name": "stderr",
     "output_type": "stream",
     "text": [
      "\u001b[2m\u001b[36m(pid=11254, ip=192.168.8.55)\u001b[0m \n",
      "\u001b[2m\u001b[36m(pid=11254, ip=192.168.8.55)\u001b[0m wandb: Waiting for W&B process to finish, PID 12216\n",
      "\u001b[2m\u001b[36m(pid=11254, ip=192.168.8.55)\u001b[0m wandb: Program ended successfully.\n",
      "\u001b[2m\u001b[36m(pid=5307, ip=192.168.8.53)\u001b[0m /home/reminiz/ReminizML2/python_env/lib/python3.7/site-packages/tensorflow/python/framework/dtypes.py:526: FutureWarning: Passing (type, 1) or '1type' as a synonym of type is deprecated; in a future version of numpy, it will be understood as (type, (1,)) / '(1,)type'.\n",
      "\u001b[2m\u001b[36m(pid=5307, ip=192.168.8.53)\u001b[0m   _np_qint8 = np.dtype([(\"qint8\", np.int8, 1)])\n",
      "\u001b[2m\u001b[36m(pid=5307, ip=192.168.8.53)\u001b[0m /home/reminiz/ReminizML2/python_env/lib/python3.7/site-packages/tensorflow/python/framework/dtypes.py:527: FutureWarning: Passing (type, 1) or '1type' as a synonym of type is deprecated; in a future version of numpy, it will be understood as (type, (1,)) / '(1,)type'.\n",
      "\u001b[2m\u001b[36m(pid=5307, ip=192.168.8.53)\u001b[0m   _np_quint8 = np.dtype([(\"quint8\", np.uint8, 1)])\n",
      "\u001b[2m\u001b[36m(pid=5307, ip=192.168.8.53)\u001b[0m /home/reminiz/ReminizML2/python_env/lib/python3.7/site-packages/tensorflow/python/framework/dtypes.py:528: FutureWarning: Passing (type, 1) or '1type' as a synonym of type is deprecated; in a future version of numpy, it will be understood as (type, (1,)) / '(1,)type'.\n",
      "\u001b[2m\u001b[36m(pid=5307, ip=192.168.8.53)\u001b[0m   _np_qint16 = np.dtype([(\"qint16\", np.int16, 1)])\n",
      "\u001b[2m\u001b[36m(pid=5307, ip=192.168.8.53)\u001b[0m /home/reminiz/ReminizML2/python_env/lib/python3.7/site-packages/tensorflow/python/framework/dtypes.py:529: FutureWarning: Passing (type, 1) or '1type' as a synonym of type is deprecated; in a future version of numpy, it will be understood as (type, (1,)) / '(1,)type'.\n",
      "\u001b[2m\u001b[36m(pid=5307, ip=192.168.8.53)\u001b[0m   _np_quint16 = np.dtype([(\"quint16\", np.uint16, 1)])\n",
      "\u001b[2m\u001b[36m(pid=5307, ip=192.168.8.53)\u001b[0m /home/reminiz/ReminizML2/python_env/lib/python3.7/site-packages/tensorflow/python/framework/dtypes.py:530: FutureWarning: Passing (type, 1) or '1type' as a synonym of type is deprecated; in a future version of numpy, it will be understood as (type, (1,)) / '(1,)type'.\n",
      "\u001b[2m\u001b[36m(pid=5307, ip=192.168.8.53)\u001b[0m   _np_qint32 = np.dtype([(\"qint32\", np.int32, 1)])\n",
      "\u001b[2m\u001b[36m(pid=5307, ip=192.168.8.53)\u001b[0m /home/reminiz/ReminizML2/python_env/lib/python3.7/site-packages/tensorflow/python/framework/dtypes.py:535: FutureWarning: Passing (type, 1) or '1type' as a synonym of type is deprecated; in a future version of numpy, it will be understood as (type, (1,)) / '(1,)type'.\n",
      "\u001b[2m\u001b[36m(pid=5307, ip=192.168.8.53)\u001b[0m   np_resource = np.dtype([(\"resource\", np.ubyte, 1)])\n",
      "\u001b[2m\u001b[36m(pid=11254, ip=192.168.8.55)\u001b[0m wandb: Run summary:\n",
      "\u001b[2m\u001b[36m(pid=11254, ip=192.168.8.55)\u001b[0m wandb:                                     _step 35\n",
      "\u001b[2m\u001b[36m(pid=11254, ip=192.168.8.55)\u001b[0m wandb:                                  F1 score 0.6500588052222536\n",
      "\u001b[2m\u001b[36m(pid=11254, ip=192.168.8.55)\u001b[0m wandb:                                  _runtime 62.06799125671387\n",
      "\u001b[2m\u001b[36m(pid=11254, ip=192.168.8.55)\u001b[0m wandb:                                _timestamp 1607090842.79179\n",
      "\u001b[2m\u001b[36m(pid=11254, ip=192.168.8.55)\u001b[0m wandb:                     Explained variance v1 -0.12156951427459717\n",
      "\u001b[2m\u001b[36m(pid=11254, ip=192.168.8.55)\u001b[0m wandb:                     Explained variance v2 -0.0690990686416626\n",
      "\u001b[2m\u001b[36m(pid=11254, ip=192.168.8.55)\u001b[0m wandb:                     Mean squared error v1 13.416821479797363\n",
      "\u001b[2m\u001b[36m(pid=11254, ip=192.168.8.55)\u001b[0m wandb:                     Mean squared error v2 21.223098754882812\n",
      "\u001b[2m\u001b[36m(pid=11254, ip=192.168.8.55)\u001b[0m wandb:                    Mean absolute error v1 2.2545127868652344\n",
      "\u001b[2m\u001b[36m(pid=11254, ip=192.168.8.55)\u001b[0m wandb:                    Mean absolute error v2 3.123286485671997\n",
      "\u001b[2m\u001b[36m(pid=11254, ip=192.168.8.55)\u001b[0m wandb:                Area Under the Curve (AUC) 0.779438724399801\n",
      "\u001b[2m\u001b[36m(pid=11254, ip=192.168.8.55)\u001b[0m wandb:             Test: Classification Accuracy 0.6509\n",
      "\u001b[2m\u001b[36m(pid=11254, ip=192.168.8.55)\u001b[0m wandb: Syncing files in ../../../Trainings/wandb/wandb/run-20201204_140714-32tlp2kp:\n",
      "\u001b[2m\u001b[36m(pid=11254, ip=192.168.8.55)\u001b[0m wandb:   code/default_worker.py\n",
      "\u001b[2m\u001b[36m(pid=11254, ip=192.168.8.55)\u001b[0m wandb: plus 8 W&B file(s) and 2 media file(s)\n",
      "\u001b[2m\u001b[36m(pid=11254, ip=192.168.8.55)\u001b[0m wandb: - 0.29MB of 0.29MB uploaded\n"
     ]
    },
    {
     "name": "stdout",
     "output_type": "stream",
     "text": [
      "\u001b[2m\u001b[36m(pid=13443, ip=192.168.8.54)\u001b[0m \u001b[6;30;42mAL_Train_6\u001b[0m Epoch: 41 / 201 || Time: 2020-12-04 15:07:25 || Accuracy: 98.73 || MAE LossNet: 0.54 || \n"
     ]
    },
    {
     "name": "stderr",
     "output_type": "stream",
     "text": [
      "\u001b[2m\u001b[36m(pid=11254, ip=192.168.8.55)\u001b[0m wandb: \\ 0.29MB of 0.29MB uploaded\n",
      "\u001b[2m\u001b[36m(pid=11254, ip=192.168.8.55)\u001b[0m wandb: | 0.29MB of 0.29MB uploaded\n",
      "\u001b[2m\u001b[36m(pid=11254, ip=192.168.8.55)\u001b[0m wandb: / 0.29MB of 0.29MB uploaded\n",
      "\u001b[2m\u001b[36m(pid=5307, ip=192.168.8.53)\u001b[0m wandb: Tracking run with wandb version 0.8.36\n",
      "\u001b[2m\u001b[36m(pid=11254, ip=192.168.8.55)\u001b[0m wandb: - 0.29MB of 0.29MB uploaded\n",
      "wandb:                                                                                \n",
      "\u001b[2m\u001b[36m(pid=11254, ip=192.168.8.55)\u001b[0m wandb: Synced AL_Test_6: http://192.168.8.51:8080/reminiz/Active_Learning_CIFAR/runs/32tlp2kp\n",
      "\u001b[2m\u001b[36m(pid=5307, ip=192.168.8.53)\u001b[0m wandb: Wandb version 0.10.12 is available!  To upgrade, please run:\n",
      "\u001b[2m\u001b[36m(pid=5307, ip=192.168.8.53)\u001b[0m wandb:  $ pip install wandb --upgrade\n",
      "\u001b[2m\u001b[36m(pid=5307, ip=192.168.8.53)\u001b[0m wandb: Run data is saved locally in ../../../Trainings/wandb/wandb/run-20201204_140725-32tlp2kp\n",
      "\u001b[2m\u001b[36m(pid=5307, ip=192.168.8.53)\u001b[0m wandb: Syncing run AL_Test_6\n",
      "\u001b[2m\u001b[36m(pid=5307, ip=192.168.8.53)\u001b[0m wandb: ⭐️ View project at http://192.168.8.51:8080/reminiz/Active_Learning_CIFAR\n",
      "\u001b[2m\u001b[36m(pid=5307, ip=192.168.8.53)\u001b[0m wandb: 🚀 View run at http://192.168.8.51:8080/reminiz/Active_Learning_CIFAR/runs/32tlp2kp\n",
      "\u001b[2m\u001b[36m(pid=5307, ip=192.168.8.53)\u001b[0m wandb: Run `wandb off` to turn off syncing.\n",
      "\u001b[2m\u001b[36m(pid=5307, ip=192.168.8.53)\u001b[0m \n"
     ]
    },
    {
     "name": "stdout",
     "output_type": "stream",
     "text": [
      "\u001b[2m\u001b[36m(pid=13443, ip=192.168.8.54)\u001b[0m \u001b[6;30;42mAL_Train_6\u001b[0m Epoch: 42 / 201 || Time: 2020-12-04 15:07:26 || Accuracy: 98.90 || MAE LossNet: 0.50 || \n",
      "\u001b[2m\u001b[36m(pid=5307, ip=192.168.8.53)\u001b[0m CIFAR10 Training data shape: (50000, 32, 32, 3)\n",
      "\u001b[2m\u001b[36m(pid=5307, ip=192.168.8.53)\u001b[0m CIFAR10 Training label shape (50000, 1)\n",
      "\u001b[2m\u001b[36m(pid=5307, ip=192.168.8.53)\u001b[0m CIFAR10 Test data shape (10000, 32, 32, 3)\n",
      "\u001b[2m\u001b[36m(pid=5307, ip=192.168.8.53)\u001b[0m CIFAR10 Test label shape (10000, 1)\n"
     ]
    },
    {
     "name": "stderr",
     "output_type": "stream",
     "text": [
      "\u001b[2m\u001b[36m(pid=5307, ip=192.168.8.53)\u001b[0m WARNING:tensorflow:From /home/reminiz/ReminizML2/python_env/lib/python3.7/site-packages/tensorflow/python/data/ops/dataset_ops.py:429: py_func (from tensorflow.python.ops.script_ops) is deprecated and will be removed in a future version.\n",
      "\u001b[2m\u001b[36m(pid=5307, ip=192.168.8.53)\u001b[0m Instructions for updating:\n",
      "\u001b[2m\u001b[36m(pid=5307, ip=192.168.8.53)\u001b[0m tf.py_func is deprecated in TF V2. Instead, use\n",
      "\u001b[2m\u001b[36m(pid=5307, ip=192.168.8.53)\u001b[0m     tf.py_function, which takes a python function which manipulates tf eager\n",
      "\u001b[2m\u001b[36m(pid=5307, ip=192.168.8.53)\u001b[0m     tensors instead of numpy arrays. It's easy to convert a tf eager tensor to\n",
      "\u001b[2m\u001b[36m(pid=5307, ip=192.168.8.53)\u001b[0m     an ndarray (just call tensor.numpy()) but having access to eager tensors\n",
      "\u001b[2m\u001b[36m(pid=5307, ip=192.168.8.53)\u001b[0m     means `tf.py_function`s can use accelerators such as GPUs as well as\n",
      "\u001b[2m\u001b[36m(pid=5307, ip=192.168.8.53)\u001b[0m     being differentiable using a gradient tape.\n",
      "\u001b[2m\u001b[36m(pid=5307, ip=192.168.8.53)\u001b[0m     \n",
      "\u001b[2m\u001b[36m(pid=5307, ip=192.168.8.53)\u001b[0m WARNING:tensorflow:From /home/reminiz/ReminizML2/python_env/lib/python3.7/site-packages/tensorflow/python/ops/resource_variable_ops.py:435: colocate_with (from tensorflow.python.framework.ops) is deprecated and will be removed in a future version.\n",
      "\u001b[2m\u001b[36m(pid=5307, ip=192.168.8.53)\u001b[0m Instructions for updating:\n",
      "\u001b[2m\u001b[36m(pid=5307, ip=192.168.8.53)\u001b[0m Colocations handled automatically by placer.\n"
     ]
    },
    {
     "name": "stdout",
     "output_type": "stream",
     "text": [
      "\u001b[2m\u001b[36m(pid=13443, ip=192.168.8.54)\u001b[0m \u001b[6;30;42mAL_Train_6\u001b[0m Epoch: 43 / 201 || Time: 2020-12-04 15:07:28 || Accuracy: 98.90 || MAE LossNet: 0.54 || \n"
     ]
    },
    {
     "name": "stderr",
     "output_type": "stream",
     "text": [
      "\u001b[2m\u001b[36m(pid=5307, ip=192.168.8.53)\u001b[0m 2020-12-04 15:07:29.194326: I tensorflow/core/platform/cpu_feature_guard.cc:141] Your CPU supports instructions that this TensorFlow binary was not compiled to use: AVX2 FMA\n",
      "\u001b[2m\u001b[36m(pid=5307, ip=192.168.8.53)\u001b[0m 2020-12-04 15:07:29.217028: I tensorflow/core/platform/profile_utils/cpu_utils.cc:94] CPU Frequency: 3499950000 Hz\n",
      "\u001b[2m\u001b[36m(pid=5307, ip=192.168.8.53)\u001b[0m 2020-12-04 15:07:29.217545: I tensorflow/compiler/xla/service/service.cc:150] XLA service 0x561e74378e80 executing computations on platform Host. Devices:\n",
      "\u001b[2m\u001b[36m(pid=5307, ip=192.168.8.53)\u001b[0m 2020-12-04 15:07:29.217570: I tensorflow/compiler/xla/service/service.cc:158]   StreamExecutor device (0): <undefined>, <undefined>\n",
      "\u001b[2m\u001b[36m(pid=5307, ip=192.168.8.53)\u001b[0m 2020-12-04 15:07:29.342856: I tensorflow/compiler/xla/service/service.cc:150] XLA service 0x561e715e4230 executing computations on platform CUDA. Devices:\n",
      "\u001b[2m\u001b[36m(pid=5307, ip=192.168.8.53)\u001b[0m 2020-12-04 15:07:29.342898: I tensorflow/compiler/xla/service/service.cc:158]   StreamExecutor device (0): GeForce GTX TITAN X, Compute Capability 5.2\n",
      "\u001b[2m\u001b[36m(pid=5307, ip=192.168.8.53)\u001b[0m 2020-12-04 15:07:29.343076: I tensorflow/core/common_runtime/gpu/gpu_device.cc:1433] Found device 0 with properties: \n",
      "\u001b[2m\u001b[36m(pid=5307, ip=192.168.8.53)\u001b[0m name: GeForce GTX TITAN X major: 5 minor: 2 memoryClockRate(GHz): 1.076\n",
      "\u001b[2m\u001b[36m(pid=5307, ip=192.168.8.53)\u001b[0m pciBusID: 0000:02:00.0\n",
      "\u001b[2m\u001b[36m(pid=5307, ip=192.168.8.53)\u001b[0m totalMemory: 11.93GiB freeMemory: 11.82GiB\n",
      "\u001b[2m\u001b[36m(pid=5307, ip=192.168.8.53)\u001b[0m 2020-12-04 15:07:29.343106: I tensorflow/core/common_runtime/gpu/gpu_device.cc:1512] Adding visible gpu devices: 0\n",
      "\u001b[2m\u001b[36m(pid=5307, ip=192.168.8.53)\u001b[0m 2020-12-04 15:07:29.345411: I tensorflow/core/common_runtime/gpu/gpu_device.cc:984] Device interconnect StreamExecutor with strength 1 edge matrix:\n",
      "\u001b[2m\u001b[36m(pid=5307, ip=192.168.8.53)\u001b[0m 2020-12-04 15:07:29.345439: I tensorflow/core/common_runtime/gpu/gpu_device.cc:990]      0 \n",
      "\u001b[2m\u001b[36m(pid=5307, ip=192.168.8.53)\u001b[0m 2020-12-04 15:07:29.345457: I tensorflow/core/common_runtime/gpu/gpu_device.cc:1003] 0:   N \n",
      "\u001b[2m\u001b[36m(pid=5307, ip=192.168.8.53)\u001b[0m 2020-12-04 15:07:29.345564: I tensorflow/core/common_runtime/gpu/gpu_device.cc:1115] Created TensorFlow device (/job:localhost/replica:0/task:0/device:GPU:0 with 11496 MB memory) -> physical GPU (device: 0, name: GeForce GTX TITAN X, pci bus id: 0000:02:00.0, compute capability: 5.2)\n",
      "\u001b[2m\u001b[36m(pid=5307, ip=192.168.8.53)\u001b[0m WARNING:tensorflow:From /home/reminiz/ReminizML2/python_env/lib/python3.7/site-packages/tensorflow/python/training/saver.py:1266: checkpoint_exists (from tensorflow.python.training.checkpoint_management) is deprecated and will be removed in a future version.\n",
      "\u001b[2m\u001b[36m(pid=5307, ip=192.168.8.53)\u001b[0m Instructions for updating:\n",
      "\u001b[2m\u001b[36m(pid=5307, ip=192.168.8.53)\u001b[0m Use standard file APIs to check for files with this prefix.\n"
     ]
    },
    {
     "name": "stdout",
     "output_type": "stream",
     "text": [
      "\u001b[2m\u001b[36m(pid=5307, ip=192.168.8.53)\u001b[0m \u001b[6;30;42mAL_Test_6\u001b[0m Restoring from /mnt/Ressources/Andres/Temp_active/runs/Active_Learning_v0/Stage_6/checkpoint/epoch40.ckpt-40\n",
      "\u001b[2m\u001b[36m(pid=13443, ip=192.168.8.54)\u001b[0m \u001b[6;30;42mAL_Train_6\u001b[0m Epoch: 44 / 201 || Time: 2020-12-04 15:07:29 || Accuracy: 98.51 || MAE LossNet: 0.54 || \n"
     ]
    },
    {
     "name": "stderr",
     "output_type": "stream",
     "text": [
      "\u001b[2m\u001b[36m(pid=5307, ip=192.168.8.53)\u001b[0m 2020-12-04 15:07:30.813456: I tensorflow/stream_executor/dso_loader.cc:152] successfully opened CUDA library libcublas.so.10.0 locally\n"
     ]
    },
    {
     "name": "stdout",
     "output_type": "stream",
     "text": [
      "\u001b[2m\u001b[36m(pid=13443, ip=192.168.8.54)\u001b[0m \u001b[6;30;42mAL_Train_6\u001b[0m Epoch: 45 / 201 || Time: 2020-12-04 15:07:31 || Accuracy: 98.20 || MAE LossNet: 0.55 || \n"
     ]
    },
    {
     "name": "stderr",
     "output_type": "stream",
     "text": [
      "\u001b[2m\u001b[36m(pid=11257, ip=192.168.8.55)\u001b[0m /home/reminiz/ReminizML2/python_env/lib/python3.7/site-packages/tensorflow/python/framework/dtypes.py:526: FutureWarning: Passing (type, 1) or '1type' as a synonym of type is deprecated; in a future version of numpy, it will be understood as (type, (1,)) / '(1,)type'.\n",
      "\u001b[2m\u001b[36m(pid=11257, ip=192.168.8.55)\u001b[0m   _np_qint8 = np.dtype([(\"qint8\", np.int8, 1)])\n",
      "\u001b[2m\u001b[36m(pid=11257, ip=192.168.8.55)\u001b[0m /home/reminiz/ReminizML2/python_env/lib/python3.7/site-packages/tensorflow/python/framework/dtypes.py:527: FutureWarning: Passing (type, 1) or '1type' as a synonym of type is deprecated; in a future version of numpy, it will be understood as (type, (1,)) / '(1,)type'.\n",
      "\u001b[2m\u001b[36m(pid=11257, ip=192.168.8.55)\u001b[0m   _np_quint8 = np.dtype([(\"quint8\", np.uint8, 1)])\n",
      "\u001b[2m\u001b[36m(pid=11257, ip=192.168.8.55)\u001b[0m /home/reminiz/ReminizML2/python_env/lib/python3.7/site-packages/tensorflow/python/framework/dtypes.py:528: FutureWarning: Passing (type, 1) or '1type' as a synonym of type is deprecated; in a future version of numpy, it will be understood as (type, (1,)) / '(1,)type'.\n",
      "\u001b[2m\u001b[36m(pid=11257, ip=192.168.8.55)\u001b[0m   _np_qint16 = np.dtype([(\"qint16\", np.int16, 1)])\n",
      "\u001b[2m\u001b[36m(pid=11257, ip=192.168.8.55)\u001b[0m /home/reminiz/ReminizML2/python_env/lib/python3.7/site-packages/tensorflow/python/framework/dtypes.py:529: FutureWarning: Passing (type, 1) or '1type' as a synonym of type is deprecated; in a future version of numpy, it will be understood as (type, (1,)) / '(1,)type'.\n",
      "\u001b[2m\u001b[36m(pid=11257, ip=192.168.8.55)\u001b[0m   _np_quint16 = np.dtype([(\"quint16\", np.uint16, 1)])\n",
      "\u001b[2m\u001b[36m(pid=11257, ip=192.168.8.55)\u001b[0m /home/reminiz/ReminizML2/python_env/lib/python3.7/site-packages/tensorflow/python/framework/dtypes.py:530: FutureWarning: Passing (type, 1) or '1type' as a synonym of type is deprecated; in a future version of numpy, it will be understood as (type, (1,)) / '(1,)type'.\n",
      "\u001b[2m\u001b[36m(pid=11257, ip=192.168.8.55)\u001b[0m   _np_qint32 = np.dtype([(\"qint32\", np.int32, 1)])\n",
      "\u001b[2m\u001b[36m(pid=11257, ip=192.168.8.55)\u001b[0m /home/reminiz/ReminizML2/python_env/lib/python3.7/site-packages/tensorflow/python/framework/dtypes.py:535: FutureWarning: Passing (type, 1) or '1type' as a synonym of type is deprecated; in a future version of numpy, it will be understood as (type, (1,)) / '(1,)type'.\n",
      "\u001b[2m\u001b[36m(pid=11257, ip=192.168.8.55)\u001b[0m   np_resource = np.dtype([(\"resource\", np.ubyte, 1)])\n"
     ]
    },
    {
     "name": "stdout",
     "output_type": "stream",
     "text": [
      "\u001b[2m\u001b[36m(pid=5307, ip=192.168.8.53)\u001b[0m \u001b[6;30;42mAL_Test_6\u001b[0m Test || Epoch: 40 || Accuracy: 64.99 || \n"
     ]
    },
    {
     "name": "stderr",
     "output_type": "stream",
     "text": [
      "\u001b[2m\u001b[36m(pid=5307, ip=192.168.8.53)\u001b[0m \n",
      "\u001b[2m\u001b[36m(pid=5307, ip=192.168.8.53)\u001b[0m wandb: Waiting for W&B process to finish, PID 14295\n",
      "\u001b[2m\u001b[36m(pid=5307, ip=192.168.8.53)\u001b[0m wandb: Program ended successfully.\n"
     ]
    },
    {
     "name": "stdout",
     "output_type": "stream",
     "text": [
      "\u001b[2m\u001b[36m(pid=13443, ip=192.168.8.54)\u001b[0m \u001b[6;30;42mAL_Train_6\u001b[0m Epoch: 46 / 201 || Time: 2020-12-04 15:07:36 || Accuracy: 98.69 || MAE LossNet: 0.53 || \n"
     ]
    },
    {
     "name": "stderr",
     "output_type": "stream",
     "text": [
      "\u001b[2m\u001b[36m(pid=11257, ip=192.168.8.55)\u001b[0m wandb: Tracking run with wandb version 0.8.36\n",
      "\u001b[2m\u001b[36m(pid=5307, ip=192.168.8.53)\u001b[0m wandb: Run summary:\n",
      "\u001b[2m\u001b[36m(pid=5307, ip=192.168.8.53)\u001b[0m wandb:                                     _step 40\n",
      "\u001b[2m\u001b[36m(pid=5307, ip=192.168.8.53)\u001b[0m wandb:                                  F1 score 0.6494652182262526\n",
      "\u001b[2m\u001b[36m(pid=5307, ip=192.168.8.53)\u001b[0m wandb:                                  _runtime 71.48439431190491\n",
      "\u001b[2m\u001b[36m(pid=5307, ip=192.168.8.53)\u001b[0m wandb:                                _timestamp 1607090855.2036312\n",
      "\u001b[2m\u001b[36m(pid=5307, ip=192.168.8.53)\u001b[0m wandb:                     Explained variance v1 -0.09351515769958496\n",
      "\u001b[2m\u001b[36m(pid=5307, ip=192.168.8.53)\u001b[0m wandb:                     Explained variance v2 -0.052675843238830566\n",
      "\u001b[2m\u001b[36m(pid=5307, ip=192.168.8.53)\u001b[0m wandb:                     Mean squared error v1 15.182781219482422\n",
      "\u001b[2m\u001b[36m(pid=5307, ip=192.168.8.53)\u001b[0m wandb:                     Mean squared error v2 24.315866470336914\n",
      "\u001b[2m\u001b[36m(pid=5307, ip=192.168.8.53)\u001b[0m wandb:                    Mean absolute error v1 2.3953917026519775\n",
      "\u001b[2m\u001b[36m(pid=5307, ip=192.168.8.53)\u001b[0m wandb:                    Mean absolute error v2 3.3540186882019043\n",
      "\u001b[2m\u001b[36m(pid=5307, ip=192.168.8.53)\u001b[0m wandb:                Area Under the Curve (AUC) 0.7752113468646484\n",
      "\u001b[2m\u001b[36m(pid=5307, ip=192.168.8.53)\u001b[0m wandb:             Test: Classification Accuracy 0.6499\n",
      "\u001b[2m\u001b[36m(pid=5307, ip=192.168.8.53)\u001b[0m wandb: Syncing files in ../../../Trainings/wandb/wandb/run-20201204_140725-32tlp2kp:\n",
      "\u001b[2m\u001b[36m(pid=5307, ip=192.168.8.53)\u001b[0m wandb:   code/default_worker.py\n",
      "\u001b[2m\u001b[36m(pid=5307, ip=192.168.8.53)\u001b[0m wandb: plus 8 W&B file(s) and 2 media file(s)\n",
      "\u001b[2m\u001b[36m(pid=5307, ip=192.168.8.53)\u001b[0m wandb: - 0.07MB of 0.12MB uploaded\n",
      "\u001b[2m\u001b[36m(pid=5307, ip=192.168.8.53)\u001b[0m wandb: \\ 0.12MB of 0.12MB uploaded\n",
      "\u001b[2m\u001b[36m(pid=11257, ip=192.168.8.55)\u001b[0m wandb: Wandb version 0.10.12 is available!  To upgrade, please run:\n",
      "\u001b[2m\u001b[36m(pid=11257, ip=192.168.8.55)\u001b[0m wandb:  $ pip install wandb --upgrade\n",
      "\u001b[2m\u001b[36m(pid=11257, ip=192.168.8.55)\u001b[0m wandb: Run data is saved locally in ../../../Trainings/wandb/wandb/run-20201204_140736-32tlp2kp\n",
      "\u001b[2m\u001b[36m(pid=11257, ip=192.168.8.55)\u001b[0m wandb: Syncing run AL_Test_6\n",
      "\u001b[2m\u001b[36m(pid=11257, ip=192.168.8.55)\u001b[0m wandb: ⭐️ View project at http://192.168.8.51:8080/reminiz/Active_Learning_CIFAR\n",
      "\u001b[2m\u001b[36m(pid=11257, ip=192.168.8.55)\u001b[0m wandb: 🚀 View run at http://192.168.8.51:8080/reminiz/Active_Learning_CIFAR/runs/32tlp2kp\n",
      "\u001b[2m\u001b[36m(pid=11257, ip=192.168.8.55)\u001b[0m wandb: Run `wandb off` to turn off syncing.\n",
      "\u001b[2m\u001b[36m(pid=5307, ip=192.168.8.53)\u001b[0m wandb: | 0.12MB of 0.12MB uploaded\n",
      "\u001b[2m\u001b[36m(pid=11257, ip=192.168.8.55)\u001b[0m \n",
      "\u001b[2m\u001b[36m(pid=5307, ip=192.168.8.53)\u001b[0m wandb: / 0.12MB of 0.12MB uploaded\n"
     ]
    },
    {
     "name": "stdout",
     "output_type": "stream",
     "text": [
      "\u001b[2m\u001b[36m(pid=11257, ip=192.168.8.55)\u001b[0m CIFAR10 Training data shape: (50000, 32, 32, 3)\n",
      "\u001b[2m\u001b[36m(pid=11257, ip=192.168.8.55)\u001b[0m CIFAR10 Training label shape (50000, 1)\n",
      "\u001b[2m\u001b[36m(pid=11257, ip=192.168.8.55)\u001b[0m CIFAR10 Test data shape (10000, 32, 32, 3)\n",
      "\u001b[2m\u001b[36m(pid=11257, ip=192.168.8.55)\u001b[0m CIFAR10 Test label shape (10000, 1)\n",
      "\u001b[2m\u001b[36m(pid=13443, ip=192.168.8.54)\u001b[0m \u001b[6;30;42mAL_Train_6\u001b[0m Epoch: 47 / 201 || Time: 2020-12-04 15:07:37 || Accuracy: 98.29 || MAE LossNet: 0.55 || \n"
     ]
    },
    {
     "name": "stderr",
     "output_type": "stream",
     "text": [
      "\u001b[2m\u001b[36m(pid=5307, ip=192.168.8.53)\u001b[0m wandb: - 0.12MB of 0.12MB uploaded\n",
      "wandb:                                                                                \n",
      "\u001b[2m\u001b[36m(pid=5307, ip=192.168.8.53)\u001b[0m wandb: Synced AL_Test_6: http://192.168.8.51:8080/reminiz/Active_Learning_CIFAR/runs/32tlp2kp\n",
      "\u001b[2m\u001b[36m(pid=11257, ip=192.168.8.55)\u001b[0m WARNING:tensorflow:From /home/reminiz/ReminizML2/python_env/lib/python3.7/site-packages/tensorflow/python/data/ops/dataset_ops.py:429: py_func (from tensorflow.python.ops.script_ops) is deprecated and will be removed in a future version.\n",
      "\u001b[2m\u001b[36m(pid=11257, ip=192.168.8.55)\u001b[0m Instructions for updating:\n",
      "\u001b[2m\u001b[36m(pid=11257, ip=192.168.8.55)\u001b[0m tf.py_func is deprecated in TF V2. Instead, use\n",
      "\u001b[2m\u001b[36m(pid=11257, ip=192.168.8.55)\u001b[0m     tf.py_function, which takes a python function which manipulates tf eager\n",
      "\u001b[2m\u001b[36m(pid=11257, ip=192.168.8.55)\u001b[0m     tensors instead of numpy arrays. It's easy to convert a tf eager tensor to\n",
      "\u001b[2m\u001b[36m(pid=11257, ip=192.168.8.55)\u001b[0m     an ndarray (just call tensor.numpy()) but having access to eager tensors\n",
      "\u001b[2m\u001b[36m(pid=11257, ip=192.168.8.55)\u001b[0m     means `tf.py_function`s can use accelerators such as GPUs as well as\n",
      "\u001b[2m\u001b[36m(pid=11257, ip=192.168.8.55)\u001b[0m     being differentiable using a gradient tape.\n",
      "\u001b[2m\u001b[36m(pid=11257, ip=192.168.8.55)\u001b[0m     \n",
      "\u001b[2m\u001b[36m(pid=11257, ip=192.168.8.55)\u001b[0m WARNING:tensorflow:From /home/reminiz/ReminizML2/python_env/lib/python3.7/site-packages/tensorflow/python/ops/resource_variable_ops.py:435: colocate_with (from tensorflow.python.framework.ops) is deprecated and will be removed in a future version.\n",
      "\u001b[2m\u001b[36m(pid=11257, ip=192.168.8.55)\u001b[0m Instructions for updating:\n",
      "\u001b[2m\u001b[36m(pid=11257, ip=192.168.8.55)\u001b[0m Colocations handled automatically by placer.\n"
     ]
    },
    {
     "name": "stdout",
     "output_type": "stream",
     "text": [
      "\u001b[2m\u001b[36m(pid=13443, ip=192.168.8.54)\u001b[0m \u001b[6;30;42mAL_Train_6\u001b[0m Epoch: 48 / 201 || Time: 2020-12-04 15:07:39 || Accuracy: 98.63 || MAE LossNet: 0.57 || \n"
     ]
    },
    {
     "name": "stderr",
     "output_type": "stream",
     "text": [
      "\u001b[2m\u001b[36m(pid=11257, ip=192.168.8.55)\u001b[0m 2020-12-04 15:07:39.580108: I tensorflow/core/platform/cpu_feature_guard.cc:141] Your CPU supports instructions that this TensorFlow binary was not compiled to use: AVX2 FMA\n",
      "\u001b[2m\u001b[36m(pid=11257, ip=192.168.8.55)\u001b[0m 2020-12-04 15:07:39.608290: I tensorflow/core/platform/profile_utils/cpu_utils.cc:94] CPU Frequency: 3599935000 Hz\n",
      "\u001b[2m\u001b[36m(pid=11257, ip=192.168.8.55)\u001b[0m 2020-12-04 15:07:39.608833: I tensorflow/compiler/xla/service/service.cc:150] XLA service 0x73b8c10 executing computations on platform Host. Devices:\n",
      "\u001b[2m\u001b[36m(pid=11257, ip=192.168.8.55)\u001b[0m 2020-12-04 15:07:39.608872: I tensorflow/compiler/xla/service/service.cc:158]   StreamExecutor device (0): <undefined>, <undefined>\n",
      "\u001b[2m\u001b[36m(pid=11257, ip=192.168.8.55)\u001b[0m 2020-12-04 15:07:39.724470: I tensorflow/compiler/xla/service/service.cc:150] XLA service 0x73be290 executing computations on platform CUDA. Devices:\n",
      "\u001b[2m\u001b[36m(pid=11257, ip=192.168.8.55)\u001b[0m 2020-12-04 15:07:39.724511: I tensorflow/compiler/xla/service/service.cc:158]   StreamExecutor device (0): GeForce GTX 1080 Ti, Compute Capability 6.1\n",
      "\u001b[2m\u001b[36m(pid=11257, ip=192.168.8.55)\u001b[0m 2020-12-04 15:07:39.724701: I tensorflow/core/common_runtime/gpu/gpu_device.cc:1433] Found device 0 with properties: \n",
      "\u001b[2m\u001b[36m(pid=11257, ip=192.168.8.55)\u001b[0m name: GeForce GTX 1080 Ti major: 6 minor: 1 memoryClockRate(GHz): 1.62\n",
      "\u001b[2m\u001b[36m(pid=11257, ip=192.168.8.55)\u001b[0m pciBusID: 0000:4c:00.0\n",
      "\u001b[2m\u001b[36m(pid=11257, ip=192.168.8.55)\u001b[0m totalMemory: 10.91GiB freeMemory: 10.77GiB\n",
      "\u001b[2m\u001b[36m(pid=11257, ip=192.168.8.55)\u001b[0m 2020-12-04 15:07:39.724737: I tensorflow/core/common_runtime/gpu/gpu_device.cc:1512] Adding visible gpu devices: 0\n",
      "\u001b[2m\u001b[36m(pid=11257, ip=192.168.8.55)\u001b[0m 2020-12-04 15:07:39.726970: I tensorflow/core/common_runtime/gpu/gpu_device.cc:984] Device interconnect StreamExecutor with strength 1 edge matrix:\n",
      "\u001b[2m\u001b[36m(pid=11257, ip=192.168.8.55)\u001b[0m 2020-12-04 15:07:39.726998: I tensorflow/core/common_runtime/gpu/gpu_device.cc:990]      0 \n",
      "\u001b[2m\u001b[36m(pid=11257, ip=192.168.8.55)\u001b[0m 2020-12-04 15:07:39.727009: I tensorflow/core/common_runtime/gpu/gpu_device.cc:1003] 0:   N \n",
      "\u001b[2m\u001b[36m(pid=11257, ip=192.168.8.55)\u001b[0m 2020-12-04 15:07:39.727111: I tensorflow/core/common_runtime/gpu/gpu_device.cc:1115] Created TensorFlow device (/job:localhost/replica:0/task:0/device:GPU:0 with 10479 MB memory) -> physical GPU (device: 0, name: GeForce GTX 1080 Ti, pci bus id: 0000:4c:00.0, compute capability: 6.1)\n"
     ]
    },
    {
     "name": "stdout",
     "output_type": "stream",
     "text": [
      "\u001b[2m\u001b[36m(pid=11257, ip=192.168.8.55)\u001b[0m \u001b[6;30;42mAL_Test_6\u001b[0m Restoring from /mnt/Ressources/Andres/Temp_active/runs/Active_Learning_v0/Stage_6/checkpoint/epoch45.ckpt-45\n"
     ]
    },
    {
     "name": "stderr",
     "output_type": "stream",
     "text": [
      "\u001b[2m\u001b[36m(pid=11257, ip=192.168.8.55)\u001b[0m WARNING:tensorflow:From /home/reminiz/ReminizML2/python_env/lib/python3.7/site-packages/tensorflow/python/training/saver.py:1266: checkpoint_exists (from tensorflow.python.training.checkpoint_management) is deprecated and will be removed in a future version.\n",
      "\u001b[2m\u001b[36m(pid=11257, ip=192.168.8.55)\u001b[0m Instructions for updating:\n",
      "\u001b[2m\u001b[36m(pid=11257, ip=192.168.8.55)\u001b[0m Use standard file APIs to check for files with this prefix.\n"
     ]
    },
    {
     "name": "stdout",
     "output_type": "stream",
     "text": [
      "\u001b[2m\u001b[36m(pid=13443, ip=192.168.8.54)\u001b[0m \u001b[6;30;42mAL_Train_6\u001b[0m Epoch: 49 / 201 || Time: 2020-12-04 15:07:40 || Accuracy: 99.39 || MAE LossNet: 0.54 || \n"
     ]
    },
    {
     "name": "stderr",
     "output_type": "stream",
     "text": [
      "\u001b[2m\u001b[36m(pid=11257, ip=192.168.8.55)\u001b[0m 2020-12-04 15:07:41.139143: I tensorflow/stream_executor/dso_loader.cc:152] successfully opened CUDA library libcublas.so.10.0 locally\n"
     ]
    },
    {
     "name": "stdout",
     "output_type": "stream",
     "text": [
      "\u001b[2m\u001b[36m(pid=13443, ip=192.168.8.54)\u001b[0m \u001b[6;30;42mAL_Train_6\u001b[0m Epoch: 50 / 201 || Time: 2020-12-04 15:07:42 || Accuracy: 98.44 || MAE LossNet: 0.53 || \n",
      "\u001b[2m\u001b[36m(pid=11257, ip=192.168.8.55)\u001b[0m \u001b[6;30;42mAL_Test_6\u001b[0m Test || Epoch: 45 || Accuracy: 64.36 || \n"
     ]
    },
    {
     "name": "stderr",
     "output_type": "stream",
     "text": [
      "\u001b[2m\u001b[36m(pid=11257, ip=192.168.8.55)\u001b[0m \n",
      "\u001b[2m\u001b[36m(pid=11257, ip=192.168.8.55)\u001b[0m wandb: Waiting for W&B process to finish, PID 12364\n",
      "\u001b[2m\u001b[36m(pid=11257, ip=192.168.8.55)\u001b[0m wandb: Program ended successfully.\n",
      "\u001b[2m\u001b[36m(pid=11261, ip=192.168.8.55)\u001b[0m /home/reminiz/ReminizML2/python_env/lib/python3.7/site-packages/tensorflow/python/framework/dtypes.py:526: FutureWarning: Passing (type, 1) or '1type' as a synonym of type is deprecated; in a future version of numpy, it will be understood as (type, (1,)) / '(1,)type'.\n",
      "\u001b[2m\u001b[36m(pid=11261, ip=192.168.8.55)\u001b[0m   _np_qint8 = np.dtype([(\"qint8\", np.int8, 1)])\n",
      "\u001b[2m\u001b[36m(pid=11261, ip=192.168.8.55)\u001b[0m /home/reminiz/ReminizML2/python_env/lib/python3.7/site-packages/tensorflow/python/framework/dtypes.py:527: FutureWarning: Passing (type, 1) or '1type' as a synonym of type is deprecated; in a future version of numpy, it will be understood as (type, (1,)) / '(1,)type'.\n",
      "\u001b[2m\u001b[36m(pid=11261, ip=192.168.8.55)\u001b[0m   _np_quint8 = np.dtype([(\"quint8\", np.uint8, 1)])\n",
      "\u001b[2m\u001b[36m(pid=11261, ip=192.168.8.55)\u001b[0m /home/reminiz/ReminizML2/python_env/lib/python3.7/site-packages/tensorflow/python/framework/dtypes.py:528: FutureWarning: Passing (type, 1) or '1type' as a synonym of type is deprecated; in a future version of numpy, it will be understood as (type, (1,)) / '(1,)type'.\n",
      "\u001b[2m\u001b[36m(pid=11261, ip=192.168.8.55)\u001b[0m   _np_qint16 = np.dtype([(\"qint16\", np.int16, 1)])\n",
      "\u001b[2m\u001b[36m(pid=11261, ip=192.168.8.55)\u001b[0m /home/reminiz/ReminizML2/python_env/lib/python3.7/site-packages/tensorflow/python/framework/dtypes.py:529: FutureWarning: Passing (type, 1) or '1type' as a synonym of type is deprecated; in a future version of numpy, it will be understood as (type, (1,)) / '(1,)type'.\n",
      "\u001b[2m\u001b[36m(pid=11261, ip=192.168.8.55)\u001b[0m   _np_quint16 = np.dtype([(\"quint16\", np.uint16, 1)])\n",
      "\u001b[2m\u001b[36m(pid=11261, ip=192.168.8.55)\u001b[0m /home/reminiz/ReminizML2/python_env/lib/python3.7/site-packages/tensorflow/python/framework/dtypes.py:530: FutureWarning: Passing (type, 1) or '1type' as a synonym of type is deprecated; in a future version of numpy, it will be understood as (type, (1,)) / '(1,)type'.\n",
      "\u001b[2m\u001b[36m(pid=11261, ip=192.168.8.55)\u001b[0m   _np_qint32 = np.dtype([(\"qint32\", np.int32, 1)])\n",
      "\u001b[2m\u001b[36m(pid=11261, ip=192.168.8.55)\u001b[0m /home/reminiz/ReminizML2/python_env/lib/python3.7/site-packages/tensorflow/python/framework/dtypes.py:535: FutureWarning: Passing (type, 1) or '1type' as a synonym of type is deprecated; in a future version of numpy, it will be understood as (type, (1,)) / '(1,)type'.\n",
      "\u001b[2m\u001b[36m(pid=11261, ip=192.168.8.55)\u001b[0m   np_resource = np.dtype([(\"resource\", np.ubyte, 1)])\n"
     ]
    },
    {
     "name": "stdout",
     "output_type": "stream",
     "text": [
      "\u001b[2m\u001b[36m(pid=13443, ip=192.168.8.54)\u001b[0m \u001b[6;30;42mAL_Train_6\u001b[0m Epoch: 51 / 201 || Time: 2020-12-04 15:07:46 || Accuracy: 98.44 || MAE LossNet: 0.50 || \n"
     ]
    },
    {
     "name": "stderr",
     "output_type": "stream",
     "text": [
      "\u001b[2m\u001b[36m(pid=11257, ip=192.168.8.55)\u001b[0m wandb: Run summary:\n",
      "\u001b[2m\u001b[36m(pid=11257, ip=192.168.8.55)\u001b[0m wandb:                                     _step 45\n",
      "\u001b[2m\u001b[36m(pid=11257, ip=192.168.8.55)\u001b[0m wandb:                                  F1 score 0.6456167003136482\n",
      "\u001b[2m\u001b[36m(pid=11257, ip=192.168.8.55)\u001b[0m wandb:                                  _runtime 79.93955612182617\n",
      "\u001b[2m\u001b[36m(pid=11257, ip=192.168.8.55)\u001b[0m wandb:                                _timestamp 1607090864.8004637\n",
      "\u001b[2m\u001b[36m(pid=11257, ip=192.168.8.55)\u001b[0m wandb:                     Explained variance v1 -0.0796663761138916\n",
      "\u001b[2m\u001b[36m(pid=11257, ip=192.168.8.55)\u001b[0m wandb:                     Explained variance v2 -0.04577207565307617\n",
      "\u001b[2m\u001b[36m(pid=11257, ip=192.168.8.55)\u001b[0m wandb:                     Mean squared error v1 16.1934757232666\n",
      "\u001b[2m\u001b[36m(pid=11257, ip=192.168.8.55)\u001b[0m wandb:                     Mean squared error v2 25.219745635986328\n",
      "\u001b[2m\u001b[36m(pid=11257, ip=192.168.8.55)\u001b[0m wandb:                    Mean absolute error v1 2.458717107772827\n",
      "\u001b[2m\u001b[36m(pid=11257, ip=192.168.8.55)\u001b[0m wandb:                    Mean absolute error v2 3.4285945892333984\n",
      "\u001b[2m\u001b[36m(pid=11257, ip=192.168.8.55)\u001b[0m wandb:                Area Under the Curve (AUC) 0.7699888359459521\n",
      "\u001b[2m\u001b[36m(pid=11257, ip=192.168.8.55)\u001b[0m wandb:             Test: Classification Accuracy 0.6436\n",
      "\u001b[2m\u001b[36m(pid=11257, ip=192.168.8.55)\u001b[0m wandb: Syncing files in ../../../Trainings/wandb/wandb/run-20201204_140736-32tlp2kp:\n",
      "\u001b[2m\u001b[36m(pid=11257, ip=192.168.8.55)\u001b[0m wandb:   code/default_worker.py\n",
      "\u001b[2m\u001b[36m(pid=11257, ip=192.168.8.55)\u001b[0m wandb: plus 8 W&B file(s) and 2 media file(s)\n",
      "\u001b[2m\u001b[36m(pid=11257, ip=192.168.8.55)\u001b[0m wandb: - 0.07MB of 0.07MB uploaded\n",
      "\u001b[2m\u001b[36m(pid=11261, ip=192.168.8.55)\u001b[0m wandb: Tracking run with wandb version 0.8.36\n",
      "\u001b[2m\u001b[36m(pid=11257, ip=192.168.8.55)\u001b[0m wandb: \\ 0.11MB of 0.11MB uploaded\n",
      "\u001b[2m\u001b[36m(pid=11257, ip=192.168.8.55)\u001b[0m wandb: | 0.11MB of 0.11MB uploaded\n",
      "\u001b[2m\u001b[36m(pid=11261, ip=192.168.8.55)\u001b[0m wandb: Wandb version 0.10.12 is available!  To upgrade, please run:\n",
      "\u001b[2m\u001b[36m(pid=11261, ip=192.168.8.55)\u001b[0m wandb:  $ pip install wandb --upgrade\n",
      "\u001b[2m\u001b[36m(pid=11261, ip=192.168.8.55)\u001b[0m wandb: Run data is saved locally in ../../../Trainings/wandb/wandb/run-20201204_140747-32tlp2kp\n",
      "\u001b[2m\u001b[36m(pid=11257, ip=192.168.8.55)\u001b[0m wandb: / 0.11MB of 0.11MB uploaded\n",
      "\u001b[2m\u001b[36m(pid=11261, ip=192.168.8.55)\u001b[0m wandb: Syncing run AL_Test_6\n",
      "\u001b[2m\u001b[36m(pid=11261, ip=192.168.8.55)\u001b[0m wandb: ⭐️ View project at http://192.168.8.51:8080/reminiz/Active_Learning_CIFAR\n",
      "\u001b[2m\u001b[36m(pid=11261, ip=192.168.8.55)\u001b[0m wandb: 🚀 View run at http://192.168.8.51:8080/reminiz/Active_Learning_CIFAR/runs/32tlp2kp\n",
      "\u001b[2m\u001b[36m(pid=11261, ip=192.168.8.55)\u001b[0m wandb: Run `wandb off` to turn off syncing.\n",
      "\u001b[2m\u001b[36m(pid=11261, ip=192.168.8.55)\u001b[0m \n",
      "\u001b[2m\u001b[36m(pid=11257, ip=192.168.8.55)\u001b[0m wandb: - 0.11MB of 0.11MB uploaded\n"
     ]
    },
    {
     "name": "stdout",
     "output_type": "stream",
     "text": [
      "\u001b[2m\u001b[36m(pid=11261, ip=192.168.8.55)\u001b[0m CIFAR10 Training data shape: (50000, 32, 32, 3)\n",
      "\u001b[2m\u001b[36m(pid=11261, ip=192.168.8.55)\u001b[0m CIFAR10 Training label shape (50000, 1)\n",
      "\u001b[2m\u001b[36m(pid=11261, ip=192.168.8.55)\u001b[0m CIFAR10 Test data shape (10000, 32, 32, 3)\n",
      "\u001b[2m\u001b[36m(pid=11261, ip=192.168.8.55)\u001b[0m CIFAR10 Test label shape (10000, 1)\n",
      "\u001b[2m\u001b[36m(pid=13443, ip=192.168.8.54)\u001b[0m \u001b[6;30;42mAL_Train_6\u001b[0m Epoch: 52 / 201 || Time: 2020-12-04 15:07:48 || Accuracy: 97.93 || MAE LossNet: 0.57 || \n"
     ]
    },
    {
     "name": "stderr",
     "output_type": "stream",
     "text": [
      "wandb:                                                                                \n",
      "\u001b[2m\u001b[36m(pid=11257, ip=192.168.8.55)\u001b[0m wandb: Synced AL_Test_6: http://192.168.8.51:8080/reminiz/Active_Learning_CIFAR/runs/32tlp2kp\n",
      "\u001b[2m\u001b[36m(pid=11261, ip=192.168.8.55)\u001b[0m WARNING:tensorflow:From /home/reminiz/ReminizML2/python_env/lib/python3.7/site-packages/tensorflow/python/data/ops/dataset_ops.py:429: py_func (from tensorflow.python.ops.script_ops) is deprecated and will be removed in a future version.\n",
      "\u001b[2m\u001b[36m(pid=11261, ip=192.168.8.55)\u001b[0m Instructions for updating:\n",
      "\u001b[2m\u001b[36m(pid=11261, ip=192.168.8.55)\u001b[0m tf.py_func is deprecated in TF V2. Instead, use\n",
      "\u001b[2m\u001b[36m(pid=11261, ip=192.168.8.55)\u001b[0m     tf.py_function, which takes a python function which manipulates tf eager\n",
      "\u001b[2m\u001b[36m(pid=11261, ip=192.168.8.55)\u001b[0m     tensors instead of numpy arrays. It's easy to convert a tf eager tensor to\n",
      "\u001b[2m\u001b[36m(pid=11261, ip=192.168.8.55)\u001b[0m     an ndarray (just call tensor.numpy()) but having access to eager tensors\n",
      "\u001b[2m\u001b[36m(pid=11261, ip=192.168.8.55)\u001b[0m     means `tf.py_function`s can use accelerators such as GPUs as well as\n",
      "\u001b[2m\u001b[36m(pid=11261, ip=192.168.8.55)\u001b[0m     being differentiable using a gradient tape.\n",
      "\u001b[2m\u001b[36m(pid=11261, ip=192.168.8.55)\u001b[0m     \n",
      "\u001b[2m\u001b[36m(pid=11261, ip=192.168.8.55)\u001b[0m WARNING:tensorflow:From /home/reminiz/ReminizML2/python_env/lib/python3.7/site-packages/tensorflow/python/ops/resource_variable_ops.py:435: colocate_with (from tensorflow.python.framework.ops) is deprecated and will be removed in a future version.\n",
      "\u001b[2m\u001b[36m(pid=11261, ip=192.168.8.55)\u001b[0m Instructions for updating:\n",
      "\u001b[2m\u001b[36m(pid=11261, ip=192.168.8.55)\u001b[0m Colocations handled automatically by placer.\n"
     ]
    },
    {
     "name": "stdout",
     "output_type": "stream",
     "text": [
      "\u001b[2m\u001b[36m(pid=13443, ip=192.168.8.54)\u001b[0m \u001b[6;30;42mAL_Train_6\u001b[0m Epoch: 53 / 201 || Time: 2020-12-04 15:07:49 || Accuracy: 99.00 || MAE LossNet: 0.50 || \n"
     ]
    },
    {
     "name": "stderr",
     "output_type": "stream",
     "text": [
      "\u001b[2m\u001b[36m(pid=11261, ip=192.168.8.55)\u001b[0m 2020-12-04 15:07:50.372091: I tensorflow/core/platform/cpu_feature_guard.cc:141] Your CPU supports instructions that this TensorFlow binary was not compiled to use: AVX2 FMA\n",
      "\u001b[2m\u001b[36m(pid=11261, ip=192.168.8.55)\u001b[0m 2020-12-04 15:07:50.396308: I tensorflow/core/platform/profile_utils/cpu_utils.cc:94] CPU Frequency: 3599935000 Hz\n",
      "\u001b[2m\u001b[36m(pid=11261, ip=192.168.8.55)\u001b[0m 2020-12-04 15:07:50.397003: I tensorflow/compiler/xla/service/service.cc:150] XLA service 0x5ff8c80 executing computations on platform Host. Devices:\n",
      "\u001b[2m\u001b[36m(pid=11261, ip=192.168.8.55)\u001b[0m 2020-12-04 15:07:50.397042: I tensorflow/compiler/xla/service/service.cc:158]   StreamExecutor device (0): <undefined>, <undefined>\n",
      "\u001b[2m\u001b[36m(pid=11261, ip=192.168.8.55)\u001b[0m 2020-12-04 15:07:50.485289: I tensorflow/compiler/xla/service/service.cc:150] XLA service 0x5ffe300 executing computations on platform CUDA. Devices:\n",
      "\u001b[2m\u001b[36m(pid=11261, ip=192.168.8.55)\u001b[0m 2020-12-04 15:07:50.485334: I tensorflow/compiler/xla/service/service.cc:158]   StreamExecutor device (0): GeForce GTX 1080 Ti, Compute Capability 6.1\n",
      "\u001b[2m\u001b[36m(pid=11261, ip=192.168.8.55)\u001b[0m 2020-12-04 15:07:50.485520: I tensorflow/core/common_runtime/gpu/gpu_device.cc:1433] Found device 0 with properties: \n",
      "\u001b[2m\u001b[36m(pid=11261, ip=192.168.8.55)\u001b[0m name: GeForce GTX 1080 Ti major: 6 minor: 1 memoryClockRate(GHz): 1.62\n",
      "\u001b[2m\u001b[36m(pid=11261, ip=192.168.8.55)\u001b[0m pciBusID: 0000:4c:00.0\n",
      "\u001b[2m\u001b[36m(pid=11261, ip=192.168.8.55)\u001b[0m totalMemory: 10.91GiB freeMemory: 10.77GiB\n",
      "\u001b[2m\u001b[36m(pid=11261, ip=192.168.8.55)\u001b[0m 2020-12-04 15:07:50.485548: I tensorflow/core/common_runtime/gpu/gpu_device.cc:1512] Adding visible gpu devices: 0\n",
      "\u001b[2m\u001b[36m(pid=11261, ip=192.168.8.55)\u001b[0m 2020-12-04 15:07:50.487874: I tensorflow/core/common_runtime/gpu/gpu_device.cc:984] Device interconnect StreamExecutor with strength 1 edge matrix:\n",
      "\u001b[2m\u001b[36m(pid=11261, ip=192.168.8.55)\u001b[0m 2020-12-04 15:07:50.487903: I tensorflow/core/common_runtime/gpu/gpu_device.cc:990]      0 \n",
      "\u001b[2m\u001b[36m(pid=11261, ip=192.168.8.55)\u001b[0m 2020-12-04 15:07:50.487914: I tensorflow/core/common_runtime/gpu/gpu_device.cc:1003] 0:   N \n",
      "\u001b[2m\u001b[36m(pid=11261, ip=192.168.8.55)\u001b[0m 2020-12-04 15:07:50.488015: I tensorflow/core/common_runtime/gpu/gpu_device.cc:1115] Created TensorFlow device (/job:localhost/replica:0/task:0/device:GPU:0 with 10479 MB memory) -> physical GPU (device: 0, name: GeForce GTX 1080 Ti, pci bus id: 0000:4c:00.0, compute capability: 6.1)\n"
     ]
    },
    {
     "name": "stdout",
     "output_type": "stream",
     "text": [
      "\u001b[2m\u001b[36m(pid=11261, ip=192.168.8.55)\u001b[0m \u001b[6;30;42mAL_Test_6\u001b[0m Restoring from /mnt/Ressources/Andres/Temp_active/runs/Active_Learning_v0/Stage_6/checkpoint/epoch50.ckpt-50\n"
     ]
    },
    {
     "name": "stderr",
     "output_type": "stream",
     "text": [
      "\u001b[2m\u001b[36m(pid=11261, ip=192.168.8.55)\u001b[0m WARNING:tensorflow:From /home/reminiz/ReminizML2/python_env/lib/python3.7/site-packages/tensorflow/python/training/saver.py:1266: checkpoint_exists (from tensorflow.python.training.checkpoint_management) is deprecated and will be removed in a future version.\n",
      "\u001b[2m\u001b[36m(pid=11261, ip=192.168.8.55)\u001b[0m Instructions for updating:\n",
      "\u001b[2m\u001b[36m(pid=11261, ip=192.168.8.55)\u001b[0m Use standard file APIs to check for files with this prefix.\n"
     ]
    },
    {
     "name": "stdout",
     "output_type": "stream",
     "text": [
      "\u001b[2m\u001b[36m(pid=13443, ip=192.168.8.54)\u001b[0m \u001b[6;30;42mAL_Train_6\u001b[0m Epoch: 54 / 201 || Time: 2020-12-04 15:07:51 || Accuracy: 98.69 || MAE LossNet: 0.53 || \n"
     ]
    },
    {
     "name": "stderr",
     "output_type": "stream",
     "text": [
      "\u001b[2m\u001b[36m(pid=11261, ip=192.168.8.55)\u001b[0m 2020-12-04 15:07:51.911905: I tensorflow/stream_executor/dso_loader.cc:152] successfully opened CUDA library libcublas.so.10.0 locally\n"
     ]
    },
    {
     "name": "stdout",
     "output_type": "stream",
     "text": [
      "\u001b[2m\u001b[36m(pid=13443, ip=192.168.8.54)\u001b[0m \u001b[6;30;42mAL_Train_6\u001b[0m Epoch: 55 / 201 || Time: 2020-12-04 15:07:53 || Accuracy: 97.93 || MAE LossNet: 0.53 || \n",
      "\u001b[2m\u001b[36m(pid=11261, ip=192.168.8.55)\u001b[0m \u001b[6;30;42mAL_Test_6\u001b[0m Test || Epoch: 50 || Accuracy: 64.80 || \n"
     ]
    },
    {
     "name": "stderr",
     "output_type": "stream",
     "text": [
      "\u001b[2m\u001b[36m(pid=11261, ip=192.168.8.55)\u001b[0m \n",
      "\u001b[2m\u001b[36m(pid=11261, ip=192.168.8.55)\u001b[0m wandb: Waiting for W&B process to finish, PID 12502\n",
      "\u001b[2m\u001b[36m(pid=11261, ip=192.168.8.55)\u001b[0m wandb: Program ended successfully.\n",
      "\u001b[2m\u001b[36m(pid=11261, ip=192.168.8.55)\u001b[0m wandb: Run summary:\n",
      "\u001b[2m\u001b[36m(pid=11261, ip=192.168.8.55)\u001b[0m wandb:                                     _step 50\n",
      "\u001b[2m\u001b[36m(pid=11261, ip=192.168.8.55)\u001b[0m wandb:                                  F1 score 0.648146324681435\n",
      "\u001b[2m\u001b[36m(pid=11261, ip=192.168.8.55)\u001b[0m wandb:                                  _runtime 88.2481575012207\n",
      "\u001b[2m\u001b[36m(pid=11261, ip=192.168.8.55)\u001b[0m wandb:                                _timestamp 1607090875.460854\n",
      "\u001b[2m\u001b[36m(pid=11261, ip=192.168.8.55)\u001b[0m wandb:                     Explained variance v1 -0.10039329528808594\n",
      "\u001b[2m\u001b[36m(pid=11261, ip=192.168.8.55)\u001b[0m wandb:                     Explained variance v2 -0.05341184139251709\n",
      "\u001b[2m\u001b[36m(pid=11261, ip=192.168.8.55)\u001b[0m wandb:                     Mean squared error v1 15.475916862487793\n",
      "\u001b[2m\u001b[36m(pid=11261, ip=192.168.8.55)\u001b[0m wandb:                     Mean squared error v2 24.868898391723633\n",
      "\u001b[2m\u001b[36m(pid=11261, ip=192.168.8.55)\u001b[0m wandb:                    Mean absolute error v1 2.386134147644043\n",
      "\u001b[2m\u001b[36m(pid=11261, ip=192.168.8.55)\u001b[0m wandb:                    Mean absolute error v2 3.3858022689819336\n",
      "\u001b[2m\u001b[36m(pid=11261, ip=192.168.8.55)\u001b[0m wandb:                Area Under the Curve (AUC) 0.7741904285914702\n",
      "\u001b[2m\u001b[36m(pid=11261, ip=192.168.8.55)\u001b[0m wandb:             Test: Classification Accuracy 0.648\n",
      "\u001b[2m\u001b[36m(pid=11261, ip=192.168.8.55)\u001b[0m wandb: Syncing files in ../../../Trainings/wandb/wandb/run-20201204_140747-32tlp2kp:\n",
      "\u001b[2m\u001b[36m(pid=11261, ip=192.168.8.55)\u001b[0m wandb:   code/default_worker.py\n",
      "\u001b[2m\u001b[36m(pid=11261, ip=192.168.8.55)\u001b[0m wandb: plus 8 W&B file(s) and 2 media file(s)\n",
      "\u001b[2m\u001b[36m(pid=11261, ip=192.168.8.55)\u001b[0m wandb: - 0.28MB of 0.28MB uploaded\n",
      "\u001b[2m\u001b[36m(pid=5308, ip=192.168.8.53)\u001b[0m /home/reminiz/ReminizML2/python_env/lib/python3.7/site-packages/tensorflow/python/framework/dtypes.py:526: FutureWarning: Passing (type, 1) or '1type' as a synonym of type is deprecated; in a future version of numpy, it will be understood as (type, (1,)) / '(1,)type'.\n",
      "\u001b[2m\u001b[36m(pid=5308, ip=192.168.8.53)\u001b[0m   _np_qint8 = np.dtype([(\"qint8\", np.int8, 1)])\n",
      "\u001b[2m\u001b[36m(pid=5308, ip=192.168.8.53)\u001b[0m /home/reminiz/ReminizML2/python_env/lib/python3.7/site-packages/tensorflow/python/framework/dtypes.py:527: FutureWarning: Passing (type, 1) or '1type' as a synonym of type is deprecated; in a future version of numpy, it will be understood as (type, (1,)) / '(1,)type'.\n",
      "\u001b[2m\u001b[36m(pid=5308, ip=192.168.8.53)\u001b[0m   _np_quint8 = np.dtype([(\"quint8\", np.uint8, 1)])\n",
      "\u001b[2m\u001b[36m(pid=5308, ip=192.168.8.53)\u001b[0m /home/reminiz/ReminizML2/python_env/lib/python3.7/site-packages/tensorflow/python/framework/dtypes.py:528: FutureWarning: Passing (type, 1) or '1type' as a synonym of type is deprecated; in a future version of numpy, it will be understood as (type, (1,)) / '(1,)type'.\n",
      "\u001b[2m\u001b[36m(pid=5308, ip=192.168.8.53)\u001b[0m   _np_qint16 = np.dtype([(\"qint16\", np.int16, 1)])\n",
      "\u001b[2m\u001b[36m(pid=5308, ip=192.168.8.53)\u001b[0m /home/reminiz/ReminizML2/python_env/lib/python3.7/site-packages/tensorflow/python/framework/dtypes.py:529: FutureWarning: Passing (type, 1) or '1type' as a synonym of type is deprecated; in a future version of numpy, it will be understood as (type, (1,)) / '(1,)type'.\n",
      "\u001b[2m\u001b[36m(pid=5308, ip=192.168.8.53)\u001b[0m   _np_quint16 = np.dtype([(\"quint16\", np.uint16, 1)])\n",
      "\u001b[2m\u001b[36m(pid=5308, ip=192.168.8.53)\u001b[0m /home/reminiz/ReminizML2/python_env/lib/python3.7/site-packages/tensorflow/python/framework/dtypes.py:530: FutureWarning: Passing (type, 1) or '1type' as a synonym of type is deprecated; in a future version of numpy, it will be understood as (type, (1,)) / '(1,)type'.\n",
      "\u001b[2m\u001b[36m(pid=5308, ip=192.168.8.53)\u001b[0m   _np_qint32 = np.dtype([(\"qint32\", np.int32, 1)])\n",
      "\u001b[2m\u001b[36m(pid=5308, ip=192.168.8.53)\u001b[0m /home/reminiz/ReminizML2/python_env/lib/python3.7/site-packages/tensorflow/python/framework/dtypes.py:535: FutureWarning: Passing (type, 1) or '1type' as a synonym of type is deprecated; in a future version of numpy, it will be understood as (type, (1,)) / '(1,)type'.\n",
      "\u001b[2m\u001b[36m(pid=5308, ip=192.168.8.53)\u001b[0m   np_resource = np.dtype([(\"resource\", np.ubyte, 1)])\n",
      "\u001b[2m\u001b[36m(pid=11261, ip=192.168.8.55)\u001b[0m wandb: \\ 0.28MB of 0.28MB uploaded\n",
      "\u001b[2m\u001b[36m(pid=11261, ip=192.168.8.55)\u001b[0m wandb: | 0.28MB of 0.28MB uploaded\n",
      "\u001b[2m\u001b[36m(pid=11261, ip=192.168.8.55)\u001b[0m wandb: / 0.28MB of 0.28MB uploaded\n",
      "wandb:                                                                                \n",
      "\u001b[2m\u001b[36m(pid=11261, ip=192.168.8.55)\u001b[0m wandb: Synced AL_Test_6: http://192.168.8.51:8080/reminiz/Active_Learning_CIFAR/runs/32tlp2kp\n"
     ]
    },
    {
     "name": "stdout",
     "output_type": "stream",
     "text": [
      "\u001b[2m\u001b[36m(pid=13443, ip=192.168.8.54)\u001b[0m \u001b[6;30;42mAL_Train_6\u001b[0m Epoch: 56 / 201 || Time: 2020-12-04 15:07:58 || Accuracy: 98.63 || MAE LossNet: 0.51 || \n"
     ]
    },
    {
     "name": "stderr",
     "output_type": "stream",
     "text": [
      "\u001b[2m\u001b[36m(pid=5308, ip=192.168.8.53)\u001b[0m wandb: Tracking run with wandb version 0.8.36\n",
      "\u001b[2m\u001b[36m(pid=5308, ip=192.168.8.53)\u001b[0m wandb: Wandb version 0.10.12 is available!  To upgrade, please run:\n",
      "\u001b[2m\u001b[36m(pid=5308, ip=192.168.8.53)\u001b[0m wandb:  $ pip install wandb --upgrade\n",
      "\u001b[2m\u001b[36m(pid=5308, ip=192.168.8.53)\u001b[0m wandb: Run data is saved locally in ../../../Trainings/wandb/wandb/run-20201204_140758-32tlp2kp\n",
      "\u001b[2m\u001b[36m(pid=5308, ip=192.168.8.53)\u001b[0m wandb: Syncing run AL_Test_6\n",
      "\u001b[2m\u001b[36m(pid=5308, ip=192.168.8.53)\u001b[0m wandb: ⭐️ View project at http://192.168.8.51:8080/reminiz/Active_Learning_CIFAR\n",
      "\u001b[2m\u001b[36m(pid=5308, ip=192.168.8.53)\u001b[0m wandb: 🚀 View run at http://192.168.8.51:8080/reminiz/Active_Learning_CIFAR/runs/32tlp2kp\n",
      "\u001b[2m\u001b[36m(pid=5308, ip=192.168.8.53)\u001b[0m wandb: Run `wandb off` to turn off syncing.\n",
      "\u001b[2m\u001b[36m(pid=5308, ip=192.168.8.53)\u001b[0m \n"
     ]
    },
    {
     "name": "stdout",
     "output_type": "stream",
     "text": [
      "\u001b[2m\u001b[36m(pid=13443, ip=192.168.8.54)\u001b[0m \u001b[6;30;42mAL_Train_6\u001b[0m Epoch: 57 / 201 || Time: 2020-12-04 15:07:59 || Accuracy: 98.98 || MAE LossNet: 0.51 || \n",
      "\u001b[2m\u001b[36m(pid=5308, ip=192.168.8.53)\u001b[0m CIFAR10 Training data shape: (50000, 32, 32, 3)\n",
      "\u001b[2m\u001b[36m(pid=5308, ip=192.168.8.53)\u001b[0m CIFAR10 Training label shape (50000, 1)\n",
      "\u001b[2m\u001b[36m(pid=5308, ip=192.168.8.53)\u001b[0m CIFAR10 Test data shape (10000, 32, 32, 3)\n",
      "\u001b[2m\u001b[36m(pid=5308, ip=192.168.8.53)\u001b[0m CIFAR10 Test label shape (10000, 1)\n"
     ]
    },
    {
     "name": "stderr",
     "output_type": "stream",
     "text": [
      "\u001b[2m\u001b[36m(pid=5308, ip=192.168.8.53)\u001b[0m WARNING:tensorflow:From /home/reminiz/ReminizML2/python_env/lib/python3.7/site-packages/tensorflow/python/data/ops/dataset_ops.py:429: py_func (from tensorflow.python.ops.script_ops) is deprecated and will be removed in a future version.\n",
      "\u001b[2m\u001b[36m(pid=5308, ip=192.168.8.53)\u001b[0m Instructions for updating:\n",
      "\u001b[2m\u001b[36m(pid=5308, ip=192.168.8.53)\u001b[0m tf.py_func is deprecated in TF V2. Instead, use\n",
      "\u001b[2m\u001b[36m(pid=5308, ip=192.168.8.53)\u001b[0m     tf.py_function, which takes a python function which manipulates tf eager\n",
      "\u001b[2m\u001b[36m(pid=5308, ip=192.168.8.53)\u001b[0m     tensors instead of numpy arrays. It's easy to convert a tf eager tensor to\n",
      "\u001b[2m\u001b[36m(pid=5308, ip=192.168.8.53)\u001b[0m     an ndarray (just call tensor.numpy()) but having access to eager tensors\n",
      "\u001b[2m\u001b[36m(pid=5308, ip=192.168.8.53)\u001b[0m     means `tf.py_function`s can use accelerators such as GPUs as well as\n",
      "\u001b[2m\u001b[36m(pid=5308, ip=192.168.8.53)\u001b[0m     being differentiable using a gradient tape.\n",
      "\u001b[2m\u001b[36m(pid=5308, ip=192.168.8.53)\u001b[0m     \n",
      "\u001b[2m\u001b[36m(pid=5308, ip=192.168.8.53)\u001b[0m WARNING:tensorflow:From /home/reminiz/ReminizML2/python_env/lib/python3.7/site-packages/tensorflow/python/ops/resource_variable_ops.py:435: colocate_with (from tensorflow.python.framework.ops) is deprecated and will be removed in a future version.\n",
      "\u001b[2m\u001b[36m(pid=5308, ip=192.168.8.53)\u001b[0m Instructions for updating:\n",
      "\u001b[2m\u001b[36m(pid=5308, ip=192.168.8.53)\u001b[0m Colocations handled automatically by placer.\n"
     ]
    },
    {
     "name": "stdout",
     "output_type": "stream",
     "text": [
      "\u001b[2m\u001b[36m(pid=13443, ip=192.168.8.54)\u001b[0m \u001b[6;30;42mAL_Train_6\u001b[0m Epoch: 58 / 201 || Time: 2020-12-04 15:08:01 || Accuracy: 98.49 || MAE LossNet: 0.54 || \n"
     ]
    },
    {
     "name": "stderr",
     "output_type": "stream",
     "text": [
      "\u001b[2m\u001b[36m(pid=5308, ip=192.168.8.53)\u001b[0m 2020-12-04 15:08:01.917105: I tensorflow/core/platform/cpu_feature_guard.cc:141] Your CPU supports instructions that this TensorFlow binary was not compiled to use: AVX2 FMA\n",
      "\u001b[2m\u001b[36m(pid=5308, ip=192.168.8.53)\u001b[0m 2020-12-04 15:08:01.921632: I tensorflow/core/platform/profile_utils/cpu_utils.cc:94] CPU Frequency: 3499950000 Hz\n",
      "\u001b[2m\u001b[36m(pid=5308, ip=192.168.8.53)\u001b[0m 2020-12-04 15:08:01.922122: I tensorflow/compiler/xla/service/service.cc:150] XLA service 0x563b9c4b4c70 executing computations on platform Host. Devices:\n",
      "\u001b[2m\u001b[36m(pid=5308, ip=192.168.8.53)\u001b[0m 2020-12-04 15:08:01.922138: I tensorflow/compiler/xla/service/service.cc:158]   StreamExecutor device (0): <undefined>, <undefined>\n",
      "\u001b[2m\u001b[36m(pid=5308, ip=192.168.8.53)\u001b[0m 2020-12-04 15:08:02.030791: I tensorflow/compiler/xla/service/service.cc:150] XLA service 0x563b9b179cf0 executing computations on platform CUDA. Devices:\n",
      "\u001b[2m\u001b[36m(pid=5308, ip=192.168.8.53)\u001b[0m 2020-12-04 15:08:02.030831: I tensorflow/compiler/xla/service/service.cc:158]   StreamExecutor device (0): GeForce GTX TITAN X, Compute Capability 5.2\n",
      "\u001b[2m\u001b[36m(pid=5308, ip=192.168.8.53)\u001b[0m 2020-12-04 15:08:02.031028: I tensorflow/core/common_runtime/gpu/gpu_device.cc:1433] Found device 0 with properties: \n",
      "\u001b[2m\u001b[36m(pid=5308, ip=192.168.8.53)\u001b[0m name: GeForce GTX TITAN X major: 5 minor: 2 memoryClockRate(GHz): 1.076\n",
      "\u001b[2m\u001b[36m(pid=5308, ip=192.168.8.53)\u001b[0m pciBusID: 0000:02:00.0\n",
      "\u001b[2m\u001b[36m(pid=5308, ip=192.168.8.53)\u001b[0m totalMemory: 11.93GiB freeMemory: 11.82GiB\n",
      "\u001b[2m\u001b[36m(pid=5308, ip=192.168.8.53)\u001b[0m 2020-12-04 15:08:02.031063: I tensorflow/core/common_runtime/gpu/gpu_device.cc:1512] Adding visible gpu devices: 0\n",
      "\u001b[2m\u001b[36m(pid=5308, ip=192.168.8.53)\u001b[0m 2020-12-04 15:08:02.033338: I tensorflow/core/common_runtime/gpu/gpu_device.cc:984] Device interconnect StreamExecutor with strength 1 edge matrix:\n",
      "\u001b[2m\u001b[36m(pid=5308, ip=192.168.8.53)\u001b[0m 2020-12-04 15:08:02.033365: I tensorflow/core/common_runtime/gpu/gpu_device.cc:990]      0 \n",
      "\u001b[2m\u001b[36m(pid=5308, ip=192.168.8.53)\u001b[0m 2020-12-04 15:08:02.033375: I tensorflow/core/common_runtime/gpu/gpu_device.cc:1003] 0:   N \n",
      "\u001b[2m\u001b[36m(pid=5308, ip=192.168.8.53)\u001b[0m 2020-12-04 15:08:02.033495: I tensorflow/core/common_runtime/gpu/gpu_device.cc:1115] Created TensorFlow device (/job:localhost/replica:0/task:0/device:GPU:0 with 11496 MB memory) -> physical GPU (device: 0, name: GeForce GTX TITAN X, pci bus id: 0000:02:00.0, compute capability: 5.2)\n",
      "\u001b[2m\u001b[36m(pid=5308, ip=192.168.8.53)\u001b[0m WARNING:tensorflow:From /home/reminiz/ReminizML2/python_env/lib/python3.7/site-packages/tensorflow/python/training/saver.py:1266: checkpoint_exists (from tensorflow.python.training.checkpoint_management) is deprecated and will be removed in a future version.\n",
      "\u001b[2m\u001b[36m(pid=5308, ip=192.168.8.53)\u001b[0m Instructions for updating:\n",
      "\u001b[2m\u001b[36m(pid=5308, ip=192.168.8.53)\u001b[0m Use standard file APIs to check for files with this prefix.\n"
     ]
    },
    {
     "name": "stdout",
     "output_type": "stream",
     "text": [
      "\u001b[2m\u001b[36m(pid=5308, ip=192.168.8.53)\u001b[0m \u001b[6;30;42mAL_Test_6\u001b[0m Restoring from /mnt/Ressources/Andres/Temp_active/runs/Active_Learning_v0/Stage_6/checkpoint/epoch55.ckpt-55\n",
      "\u001b[2m\u001b[36m(pid=13443, ip=192.168.8.54)\u001b[0m \u001b[6;30;42mAL_Train_6\u001b[0m Epoch: 59 / 201 || Time: 2020-12-04 15:08:02 || Accuracy: 98.73 || MAE LossNet: 0.51 || \n"
     ]
    },
    {
     "name": "stderr",
     "output_type": "stream",
     "text": [
      "\u001b[2m\u001b[36m(pid=5308, ip=192.168.8.53)\u001b[0m 2020-12-04 15:08:03.491648: I tensorflow/stream_executor/dso_loader.cc:152] successfully opened CUDA library libcublas.so.10.0 locally\n"
     ]
    },
    {
     "name": "stdout",
     "output_type": "stream",
     "text": [
      "\u001b[2m\u001b[36m(pid=13443, ip=192.168.8.54)\u001b[0m \u001b[6;30;42mAL_Train_6\u001b[0m Epoch: 60 / 201 || Time: 2020-12-04 15:08:04 || Accuracy: 98.90 || MAE LossNet: 0.53 || \n",
      "\u001b[2m\u001b[36m(pid=5308, ip=192.168.8.53)\u001b[0m \u001b[6;30;42mAL_Test_6\u001b[0m Test || Epoch: 55 || Accuracy: 65.31 || \n"
     ]
    },
    {
     "name": "stderr",
     "output_type": "stream",
     "text": [
      "\u001b[2m\u001b[36m(pid=5314, ip=192.168.8.53)\u001b[0m /home/reminiz/ReminizML2/python_env/lib/python3.7/site-packages/tensorflow/python/framework/dtypes.py:526: FutureWarning: Passing (type, 1) or '1type' as a synonym of type is deprecated; in a future version of numpy, it will be understood as (type, (1,)) / '(1,)type'.\n",
      "\u001b[2m\u001b[36m(pid=5314, ip=192.168.8.53)\u001b[0m   _np_qint8 = np.dtype([(\"qint8\", np.int8, 1)])\n",
      "\u001b[2m\u001b[36m(pid=5314, ip=192.168.8.53)\u001b[0m /home/reminiz/ReminizML2/python_env/lib/python3.7/site-packages/tensorflow/python/framework/dtypes.py:527: FutureWarning: Passing (type, 1) or '1type' as a synonym of type is deprecated; in a future version of numpy, it will be understood as (type, (1,)) / '(1,)type'.\n",
      "\u001b[2m\u001b[36m(pid=5314, ip=192.168.8.53)\u001b[0m   _np_quint8 = np.dtype([(\"quint8\", np.uint8, 1)])\n",
      "\u001b[2m\u001b[36m(pid=5314, ip=192.168.8.53)\u001b[0m /home/reminiz/ReminizML2/python_env/lib/python3.7/site-packages/tensorflow/python/framework/dtypes.py:528: FutureWarning: Passing (type, 1) or '1type' as a synonym of type is deprecated; in a future version of numpy, it will be understood as (type, (1,)) / '(1,)type'.\n",
      "\u001b[2m\u001b[36m(pid=5314, ip=192.168.8.53)\u001b[0m   _np_qint16 = np.dtype([(\"qint16\", np.int16, 1)])\n",
      "\u001b[2m\u001b[36m(pid=5314, ip=192.168.8.53)\u001b[0m /home/reminiz/ReminizML2/python_env/lib/python3.7/site-packages/tensorflow/python/framework/dtypes.py:529: FutureWarning: Passing (type, 1) or '1type' as a synonym of type is deprecated; in a future version of numpy, it will be understood as (type, (1,)) / '(1,)type'.\n",
      "\u001b[2m\u001b[36m(pid=5314, ip=192.168.8.53)\u001b[0m   _np_quint16 = np.dtype([(\"quint16\", np.uint16, 1)])\n",
      "\u001b[2m\u001b[36m(pid=5314, ip=192.168.8.53)\u001b[0m /home/reminiz/ReminizML2/python_env/lib/python3.7/site-packages/tensorflow/python/framework/dtypes.py:530: FutureWarning: Passing (type, 1) or '1type' as a synonym of type is deprecated; in a future version of numpy, it will be understood as (type, (1,)) / '(1,)type'.\n",
      "\u001b[2m\u001b[36m(pid=5314, ip=192.168.8.53)\u001b[0m   _np_qint32 = np.dtype([(\"qint32\", np.int32, 1)])\n",
      "\u001b[2m\u001b[36m(pid=5314, ip=192.168.8.53)\u001b[0m /home/reminiz/ReminizML2/python_env/lib/python3.7/site-packages/tensorflow/python/framework/dtypes.py:535: FutureWarning: Passing (type, 1) or '1type' as a synonym of type is deprecated; in a future version of numpy, it will be understood as (type, (1,)) / '(1,)type'.\n",
      "\u001b[2m\u001b[36m(pid=5314, ip=192.168.8.53)\u001b[0m   np_resource = np.dtype([(\"resource\", np.ubyte, 1)])\n",
      "\u001b[2m\u001b[36m(pid=5308, ip=192.168.8.53)\u001b[0m \n",
      "\u001b[2m\u001b[36m(pid=5308, ip=192.168.8.53)\u001b[0m wandb: Waiting for W&B process to finish, PID 15159\n",
      "\u001b[2m\u001b[36m(pid=5308, ip=192.168.8.53)\u001b[0m wandb: Program ended successfully.\n"
     ]
    },
    {
     "name": "stdout",
     "output_type": "stream",
     "text": [
      "\u001b[2m\u001b[36m(pid=13443, ip=192.168.8.54)\u001b[0m \u001b[6;30;42mAL_Train_6\u001b[0m Epoch: 61 / 201 || Time: 2020-12-04 15:08:09 || Accuracy: 99.59 || MAE LossNet: 0.53 || \n"
     ]
    },
    {
     "name": "stderr",
     "output_type": "stream",
     "text": [
      "\u001b[2m\u001b[36m(pid=5314, ip=192.168.8.53)\u001b[0m wandb: Tracking run with wandb version 0.8.36\n",
      "\u001b[2m\u001b[36m(pid=5314, ip=192.168.8.53)\u001b[0m wandb: Wandb version 0.10.12 is available!  To upgrade, please run:\n",
      "\u001b[2m\u001b[36m(pid=5314, ip=192.168.8.53)\u001b[0m wandb:  $ pip install wandb --upgrade\n",
      "\u001b[2m\u001b[36m(pid=5314, ip=192.168.8.53)\u001b[0m wandb: Run data is saved locally in ../../../Trainings/wandb/wandb/run-20201204_140809-32tlp2kp\n",
      "\u001b[2m\u001b[36m(pid=5314, ip=192.168.8.53)\u001b[0m wandb: Syncing run AL_Test_6\n",
      "\u001b[2m\u001b[36m(pid=5314, ip=192.168.8.53)\u001b[0m wandb: ⭐️ View project at http://192.168.8.51:8080/reminiz/Active_Learning_CIFAR\n",
      "\u001b[2m\u001b[36m(pid=5314, ip=192.168.8.53)\u001b[0m wandb: 🚀 View run at http://192.168.8.51:8080/reminiz/Active_Learning_CIFAR/runs/32tlp2kp\n",
      "\u001b[2m\u001b[36m(pid=5314, ip=192.168.8.53)\u001b[0m wandb: Run `wandb off` to turn off syncing.\n",
      "\u001b[2m\u001b[36m(pid=5314, ip=192.168.8.53)\u001b[0m \n",
      "\u001b[2m\u001b[36m(pid=5308, ip=192.168.8.53)\u001b[0m wandb: Run summary:\n",
      "\u001b[2m\u001b[36m(pid=5308, ip=192.168.8.53)\u001b[0m wandb:                                     _step 55\n",
      "\u001b[2m\u001b[36m(pid=5308, ip=192.168.8.53)\u001b[0m wandb:                                  F1 score 0.6514643009406351\n",
      "\u001b[2m\u001b[36m(pid=5308, ip=192.168.8.53)\u001b[0m wandb:                                  _runtime 97.8198094367981\n",
      "\u001b[2m\u001b[36m(pid=5308, ip=192.168.8.53)\u001b[0m wandb:                                _timestamp 1607090887.9311616\n",
      "\u001b[2m\u001b[36m(pid=5308, ip=192.168.8.53)\u001b[0m wandb:                     Explained variance v1 -0.07128322124481201\n",
      "\u001b[2m\u001b[36m(pid=5308, ip=192.168.8.53)\u001b[0m wandb:                     Explained variance v2 -0.04274916648864746\n",
      "\u001b[2m\u001b[36m(pid=5308, ip=192.168.8.53)\u001b[0m wandb:                     Mean squared error v1 14.33102798461914\n",
      "\u001b[2m\u001b[36m(pid=5308, ip=192.168.8.53)\u001b[0m wandb:                     Mean squared error v2 23.72394371032715\n",
      "\u001b[2m\u001b[36m(pid=5308, ip=192.168.8.53)\u001b[0m wandb:                    Mean absolute error v1 2.2991771697998047\n",
      "\u001b[2m\u001b[36m(pid=5308, ip=192.168.8.53)\u001b[0m wandb:                    Mean absolute error v2 3.2872085571289062\n",
      "\u001b[2m\u001b[36m(pid=5308, ip=192.168.8.53)\u001b[0m wandb:                Area Under the Curve (AUC) 0.7769230976341451\n",
      "\u001b[2m\u001b[36m(pid=5308, ip=192.168.8.53)\u001b[0m wandb:             Test: Classification Accuracy 0.6531\n",
      "\u001b[2m\u001b[36m(pid=5308, ip=192.168.8.53)\u001b[0m wandb: Syncing files in ../../../Trainings/wandb/wandb/run-20201204_140758-32tlp2kp:\n",
      "\u001b[2m\u001b[36m(pid=5308, ip=192.168.8.53)\u001b[0m wandb:   code/default_worker.py\n",
      "\u001b[2m\u001b[36m(pid=5308, ip=192.168.8.53)\u001b[0m wandb: plus 8 W&B file(s) and 2 media file(s)\n",
      "\u001b[2m\u001b[36m(pid=5308, ip=192.168.8.53)\u001b[0m wandb: - 0.07MB of 0.12MB uploaded\n"
     ]
    },
    {
     "name": "stdout",
     "output_type": "stream",
     "text": [
      "\u001b[2m\u001b[36m(pid=5314, ip=192.168.8.53)\u001b[0m CIFAR10 Training data shape: (50000, 32, 32, 3)\n",
      "\u001b[2m\u001b[36m(pid=5314, ip=192.168.8.53)\u001b[0m CIFAR10 Training label shape (50000, 1)\n",
      "\u001b[2m\u001b[36m(pid=5314, ip=192.168.8.53)\u001b[0m CIFAR10 Test data shape (10000, 32, 32, 3)\n",
      "\u001b[2m\u001b[36m(pid=5314, ip=192.168.8.53)\u001b[0m CIFAR10 Test label shape (10000, 1)\n",
      "\u001b[2m\u001b[36m(pid=13443, ip=192.168.8.54)\u001b[0m \u001b[6;30;42mAL_Train_6\u001b[0m Epoch: 62 / 201 || Time: 2020-12-04 15:08:10 || Accuracy: 99.29 || MAE LossNet: 0.50 || \n"
     ]
    },
    {
     "name": "stderr",
     "output_type": "stream",
     "text": [
      "\u001b[2m\u001b[36m(pid=5308, ip=192.168.8.53)\u001b[0m wandb: \\ 0.12MB of 0.12MB uploaded\n",
      "\u001b[2m\u001b[36m(pid=5308, ip=192.168.8.53)\u001b[0m wandb: | 0.12MB of 0.12MB uploaded\n",
      "\u001b[2m\u001b[36m(pid=5308, ip=192.168.8.53)\u001b[0m wandb: / 0.12MB of 0.12MB uploaded\n",
      "\u001b[2m\u001b[36m(pid=5308, ip=192.168.8.53)\u001b[0m wandb: - 0.12MB of 0.12MB uploaded\n",
      "wandb:                                                                                \n",
      "\u001b[2m\u001b[36m(pid=5308, ip=192.168.8.53)\u001b[0m wandb: Synced AL_Test_6: http://192.168.8.51:8080/reminiz/Active_Learning_CIFAR/runs/32tlp2kp\n",
      "\u001b[2m\u001b[36m(pid=5314, ip=192.168.8.53)\u001b[0m WARNING:tensorflow:From /home/reminiz/ReminizML2/python_env/lib/python3.7/site-packages/tensorflow/python/data/ops/dataset_ops.py:429: py_func (from tensorflow.python.ops.script_ops) is deprecated and will be removed in a future version.\n",
      "\u001b[2m\u001b[36m(pid=5314, ip=192.168.8.53)\u001b[0m Instructions for updating:\n",
      "\u001b[2m\u001b[36m(pid=5314, ip=192.168.8.53)\u001b[0m tf.py_func is deprecated in TF V2. Instead, use\n",
      "\u001b[2m\u001b[36m(pid=5314, ip=192.168.8.53)\u001b[0m     tf.py_function, which takes a python function which manipulates tf eager\n",
      "\u001b[2m\u001b[36m(pid=5314, ip=192.168.8.53)\u001b[0m     tensors instead of numpy arrays. It's easy to convert a tf eager tensor to\n",
      "\u001b[2m\u001b[36m(pid=5314, ip=192.168.8.53)\u001b[0m     an ndarray (just call tensor.numpy()) but having access to eager tensors\n",
      "\u001b[2m\u001b[36m(pid=5314, ip=192.168.8.53)\u001b[0m     means `tf.py_function`s can use accelerators such as GPUs as well as\n",
      "\u001b[2m\u001b[36m(pid=5314, ip=192.168.8.53)\u001b[0m     being differentiable using a gradient tape.\n",
      "\u001b[2m\u001b[36m(pid=5314, ip=192.168.8.53)\u001b[0m     \n",
      "\u001b[2m\u001b[36m(pid=5314, ip=192.168.8.53)\u001b[0m WARNING:tensorflow:From /home/reminiz/ReminizML2/python_env/lib/python3.7/site-packages/tensorflow/python/ops/resource_variable_ops.py:435: colocate_with (from tensorflow.python.framework.ops) is deprecated and will be removed in a future version.\n",
      "\u001b[2m\u001b[36m(pid=5314, ip=192.168.8.53)\u001b[0m Instructions for updating:\n",
      "\u001b[2m\u001b[36m(pid=5314, ip=192.168.8.53)\u001b[0m Colocations handled automatically by placer.\n"
     ]
    },
    {
     "name": "stdout",
     "output_type": "stream",
     "text": [
      "\u001b[2m\u001b[36m(pid=13443, ip=192.168.8.54)\u001b[0m \u001b[6;30;42mAL_Train_6\u001b[0m Epoch: 63 / 201 || Time: 2020-12-04 15:08:12 || Accuracy: 99.20 || MAE LossNet: 0.52 || \n"
     ]
    },
    {
     "name": "stderr",
     "output_type": "stream",
     "text": [
      "\u001b[2m\u001b[36m(pid=5314, ip=192.168.8.53)\u001b[0m 2020-12-04 15:08:12.761125: I tensorflow/core/platform/cpu_feature_guard.cc:141] Your CPU supports instructions that this TensorFlow binary was not compiled to use: AVX2 FMA\n",
      "\u001b[2m\u001b[36m(pid=5314, ip=192.168.8.53)\u001b[0m 2020-12-04 15:08:12.765206: I tensorflow/core/platform/profile_utils/cpu_utils.cc:94] CPU Frequency: 3499950000 Hz\n",
      "\u001b[2m\u001b[36m(pid=5314, ip=192.168.8.53)\u001b[0m 2020-12-04 15:08:12.765848: I tensorflow/compiler/xla/service/service.cc:150] XLA service 0x55c19e3ad4d0 executing computations on platform Host. Devices:\n",
      "\u001b[2m\u001b[36m(pid=5314, ip=192.168.8.53)\u001b[0m 2020-12-04 15:08:12.765870: I tensorflow/compiler/xla/service/service.cc:158]   StreamExecutor device (0): <undefined>, <undefined>\n",
      "\u001b[2m\u001b[36m(pid=5314, ip=192.168.8.53)\u001b[0m 2020-12-04 15:08:12.885430: I tensorflow/compiler/xla/service/service.cc:150] XLA service 0x55c19ad7d0d0 executing computations on platform CUDA. Devices:\n",
      "\u001b[2m\u001b[36m(pid=5314, ip=192.168.8.53)\u001b[0m 2020-12-04 15:08:12.885461: I tensorflow/compiler/xla/service/service.cc:158]   StreamExecutor device (0): GeForce GTX TITAN X, Compute Capability 5.2\n",
      "\u001b[2m\u001b[36m(pid=5314, ip=192.168.8.53)\u001b[0m 2020-12-04 15:08:12.885612: I tensorflow/core/common_runtime/gpu/gpu_device.cc:1433] Found device 0 with properties: \n",
      "\u001b[2m\u001b[36m(pid=5314, ip=192.168.8.53)\u001b[0m name: GeForce GTX TITAN X major: 5 minor: 2 memoryClockRate(GHz): 1.266\n",
      "\u001b[2m\u001b[36m(pid=5314, ip=192.168.8.53)\u001b[0m pciBusID: 0000:03:00.0\n",
      "\u001b[2m\u001b[36m(pid=5314, ip=192.168.8.53)\u001b[0m totalMemory: 11.92GiB freeMemory: 11.78GiB\n",
      "\u001b[2m\u001b[36m(pid=5314, ip=192.168.8.53)\u001b[0m 2020-12-04 15:08:12.885635: I tensorflow/core/common_runtime/gpu/gpu_device.cc:1512] Adding visible gpu devices: 0\n",
      "\u001b[2m\u001b[36m(pid=5314, ip=192.168.8.53)\u001b[0m 2020-12-04 15:08:12.887472: I tensorflow/core/common_runtime/gpu/gpu_device.cc:984] Device interconnect StreamExecutor with strength 1 edge matrix:\n",
      "\u001b[2m\u001b[36m(pid=5314, ip=192.168.8.53)\u001b[0m 2020-12-04 15:08:12.887492: I tensorflow/core/common_runtime/gpu/gpu_device.cc:990]      0 \n",
      "\u001b[2m\u001b[36m(pid=5314, ip=192.168.8.53)\u001b[0m 2020-12-04 15:08:12.887502: I tensorflow/core/common_runtime/gpu/gpu_device.cc:1003] 0:   N \n",
      "\u001b[2m\u001b[36m(pid=5314, ip=192.168.8.53)\u001b[0m 2020-12-04 15:08:12.887579: I tensorflow/core/common_runtime/gpu/gpu_device.cc:1115] Created TensorFlow device (/job:localhost/replica:0/task:0/device:GPU:0 with 11462 MB memory) -> physical GPU (device: 0, name: GeForce GTX TITAN X, pci bus id: 0000:03:00.0, compute capability: 5.2)\n",
      "\u001b[2m\u001b[36m(pid=5314, ip=192.168.8.53)\u001b[0m WARNING:tensorflow:From /home/reminiz/ReminizML2/python_env/lib/python3.7/site-packages/tensorflow/python/training/saver.py:1266: checkpoint_exists (from tensorflow.python.training.checkpoint_management) is deprecated and will be removed in a future version.\n",
      "\u001b[2m\u001b[36m(pid=5314, ip=192.168.8.53)\u001b[0m Instructions for updating:\n",
      "\u001b[2m\u001b[36m(pid=5314, ip=192.168.8.53)\u001b[0m Use standard file APIs to check for files with this prefix.\n"
     ]
    },
    {
     "name": "stdout",
     "output_type": "stream",
     "text": [
      "\u001b[2m\u001b[36m(pid=5314, ip=192.168.8.53)\u001b[0m \u001b[6;30;42mAL_Test_6\u001b[0m Restoring from /mnt/Ressources/Andres/Temp_active/runs/Active_Learning_v0/Stage_6/checkpoint/epoch60.ckpt-60\n",
      "\u001b[2m\u001b[36m(pid=13443, ip=192.168.8.54)\u001b[0m \u001b[6;30;42mAL_Train_6\u001b[0m Epoch: 64 / 201 || Time: 2020-12-04 15:08:13 || Accuracy: 98.63 || MAE LossNet: 0.52 || \n"
     ]
    },
    {
     "name": "stderr",
     "output_type": "stream",
     "text": [
      "\u001b[2m\u001b[36m(pid=5314, ip=192.168.8.53)\u001b[0m 2020-12-04 15:08:14.373385: I tensorflow/stream_executor/dso_loader.cc:152] successfully opened CUDA library libcublas.so.10.0 locally\n"
     ]
    },
    {
     "name": "stdout",
     "output_type": "stream",
     "text": [
      "\u001b[2m\u001b[36m(pid=13443, ip=192.168.8.54)\u001b[0m \u001b[6;30;42mAL_Train_6\u001b[0m Epoch: 65 / 201 || Time: 2020-12-04 15:08:15 || Accuracy: 98.90 || MAE LossNet: 0.52 || \n",
      "\u001b[2m\u001b[36m(pid=5314, ip=192.168.8.53)\u001b[0m \u001b[6;30;42mAL_Test_6\u001b[0m Test || Epoch: 60 || Accuracy: 65.59 || \n"
     ]
    },
    {
     "name": "stderr",
     "output_type": "stream",
     "text": [
      "\u001b[2m\u001b[36m(pid=5314, ip=192.168.8.53)\u001b[0m \n",
      "\u001b[2m\u001b[36m(pid=5314, ip=192.168.8.53)\u001b[0m wandb: Waiting for W&B process to finish, PID 15544\n",
      "\u001b[2m\u001b[36m(pid=5314, ip=192.168.8.53)\u001b[0m wandb: Program ended successfully.\n",
      "\u001b[2m\u001b[36m(pid=11262, ip=192.168.8.55)\u001b[0m /home/reminiz/ReminizML2/python_env/lib/python3.7/site-packages/tensorflow/python/framework/dtypes.py:526: FutureWarning: Passing (type, 1) or '1type' as a synonym of type is deprecated; in a future version of numpy, it will be understood as (type, (1,)) / '(1,)type'.\n",
      "\u001b[2m\u001b[36m(pid=11262, ip=192.168.8.55)\u001b[0m   _np_qint8 = np.dtype([(\"qint8\", np.int8, 1)])\n",
      "\u001b[2m\u001b[36m(pid=11262, ip=192.168.8.55)\u001b[0m /home/reminiz/ReminizML2/python_env/lib/python3.7/site-packages/tensorflow/python/framework/dtypes.py:527: FutureWarning: Passing (type, 1) or '1type' as a synonym of type is deprecated; in a future version of numpy, it will be understood as (type, (1,)) / '(1,)type'.\n",
      "\u001b[2m\u001b[36m(pid=11262, ip=192.168.8.55)\u001b[0m   _np_quint8 = np.dtype([(\"quint8\", np.uint8, 1)])\n",
      "\u001b[2m\u001b[36m(pid=11262, ip=192.168.8.55)\u001b[0m /home/reminiz/ReminizML2/python_env/lib/python3.7/site-packages/tensorflow/python/framework/dtypes.py:528: FutureWarning: Passing (type, 1) or '1type' as a synonym of type is deprecated; in a future version of numpy, it will be understood as (type, (1,)) / '(1,)type'.\n",
      "\u001b[2m\u001b[36m(pid=11262, ip=192.168.8.55)\u001b[0m   _np_qint16 = np.dtype([(\"qint16\", np.int16, 1)])\n",
      "\u001b[2m\u001b[36m(pid=11262, ip=192.168.8.55)\u001b[0m /home/reminiz/ReminizML2/python_env/lib/python3.7/site-packages/tensorflow/python/framework/dtypes.py:529: FutureWarning: Passing (type, 1) or '1type' as a synonym of type is deprecated; in a future version of numpy, it will be understood as (type, (1,)) / '(1,)type'.\n",
      "\u001b[2m\u001b[36m(pid=11262, ip=192.168.8.55)\u001b[0m   _np_quint16 = np.dtype([(\"quint16\", np.uint16, 1)])\n",
      "\u001b[2m\u001b[36m(pid=11262, ip=192.168.8.55)\u001b[0m /home/reminiz/ReminizML2/python_env/lib/python3.7/site-packages/tensorflow/python/framework/dtypes.py:530: FutureWarning: Passing (type, 1) or '1type' as a synonym of type is deprecated; in a future version of numpy, it will be understood as (type, (1,)) / '(1,)type'.\n",
      "\u001b[2m\u001b[36m(pid=11262, ip=192.168.8.55)\u001b[0m   _np_qint32 = np.dtype([(\"qint32\", np.int32, 1)])\n",
      "\u001b[2m\u001b[36m(pid=11262, ip=192.168.8.55)\u001b[0m /home/reminiz/ReminizML2/python_env/lib/python3.7/site-packages/tensorflow/python/framework/dtypes.py:535: FutureWarning: Passing (type, 1) or '1type' as a synonym of type is deprecated; in a future version of numpy, it will be understood as (type, (1,)) / '(1,)type'.\n",
      "\u001b[2m\u001b[36m(pid=11262, ip=192.168.8.55)\u001b[0m   np_resource = np.dtype([(\"resource\", np.ubyte, 1)])\n"
     ]
    },
    {
     "name": "stdout",
     "output_type": "stream",
     "text": [
      "\u001b[2m\u001b[36m(pid=13443, ip=192.168.8.54)\u001b[0m \u001b[6;30;42mAL_Train_6\u001b[0m Epoch: 66 / 201 || Time: 2020-12-04 15:08:20 || Accuracy: 98.73 || MAE LossNet: 0.53 || \n"
     ]
    },
    {
     "name": "stderr",
     "output_type": "stream",
     "text": [
      "\u001b[2m\u001b[36m(pid=5314, ip=192.168.8.53)\u001b[0m wandb: Run summary:\n",
      "\u001b[2m\u001b[36m(pid=5314, ip=192.168.8.53)\u001b[0m wandb:                                     _step 60\n",
      "\u001b[2m\u001b[36m(pid=5314, ip=192.168.8.53)\u001b[0m wandb:                                  F1 score 0.6537980641316863\n",
      "\u001b[2m\u001b[36m(pid=5314, ip=192.168.8.53)\u001b[0m wandb:                                  _runtime 97.67214035987854\n",
      "\u001b[2m\u001b[36m(pid=5314, ip=192.168.8.53)\u001b[0m wandb:                                _timestamp 1607090898.6699688\n",
      "\u001b[2m\u001b[36m(pid=5314, ip=192.168.8.53)\u001b[0m wandb:                     Explained variance v1 -0.07794559001922607\n",
      "\u001b[2m\u001b[36m(pid=5314, ip=192.168.8.53)\u001b[0m wandb:                     Explained variance v2 -0.048323750495910645\n",
      "\u001b[2m\u001b[36m(pid=5314, ip=192.168.8.53)\u001b[0m wandb:                     Mean squared error v1 14.320721626281738\n",
      "\u001b[2m\u001b[36m(pid=5314, ip=192.168.8.53)\u001b[0m wandb:                     Mean squared error v2 23.36504554748535\n",
      "\u001b[2m\u001b[36m(pid=5314, ip=192.168.8.53)\u001b[0m wandb:                    Mean absolute error v1 2.323914051055908\n",
      "\u001b[2m\u001b[36m(pid=5314, ip=192.168.8.53)\u001b[0m wandb:                    Mean absolute error v2 3.2801003456115723\n",
      "\u001b[2m\u001b[36m(pid=5314, ip=192.168.8.53)\u001b[0m wandb:                Area Under the Curve (AUC) 0.7809710078446953\n",
      "\u001b[2m\u001b[36m(pid=5314, ip=192.168.8.53)\u001b[0m wandb:             Test: Classification Accuracy 0.6559\n",
      "\u001b[2m\u001b[36m(pid=5314, ip=192.168.8.53)\u001b[0m wandb: Syncing files in ../../../Trainings/wandb/wandb/run-20201204_140809-32tlp2kp:\n",
      "\u001b[2m\u001b[36m(pid=5314, ip=192.168.8.53)\u001b[0m wandb:   code/default_worker.py\n",
      "\u001b[2m\u001b[36m(pid=5314, ip=192.168.8.53)\u001b[0m wandb: plus 8 W&B file(s) and 2 media file(s)\n",
      "\u001b[2m\u001b[36m(pid=5314, ip=192.168.8.53)\u001b[0m wandb: - 0.12MB of 0.12MB uploaded\n",
      "\u001b[2m\u001b[36m(pid=11262, ip=192.168.8.55)\u001b[0m wandb: Tracking run with wandb version 0.8.36\n",
      "\u001b[2m\u001b[36m(pid=5314, ip=192.168.8.53)\u001b[0m wandb: \\ 0.12MB of 0.12MB uploaded\n",
      "\u001b[2m\u001b[36m(pid=5314, ip=192.168.8.53)\u001b[0m wandb: | 0.12MB of 0.12MB uploaded\n",
      "\u001b[2m\u001b[36m(pid=5314, ip=192.168.8.53)\u001b[0m wandb: / 0.12MB of 0.12MB uploaded\n",
      "\u001b[2m\u001b[36m(pid=11262, ip=192.168.8.55)\u001b[0m wandb: Wandb version 0.10.12 is available!  To upgrade, please run:\n",
      "\u001b[2m\u001b[36m(pid=11262, ip=192.168.8.55)\u001b[0m wandb:  $ pip install wandb --upgrade\n",
      "\u001b[2m\u001b[36m(pid=11262, ip=192.168.8.55)\u001b[0m wandb: Run data is saved locally in ../../../Trainings/wandb/wandb/run-20201204_140820-32tlp2kp\n",
      "\u001b[2m\u001b[36m(pid=11262, ip=192.168.8.55)\u001b[0m wandb: Syncing run AL_Test_6\n",
      "\u001b[2m\u001b[36m(pid=11262, ip=192.168.8.55)\u001b[0m wandb: ⭐️ View project at http://192.168.8.51:8080/reminiz/Active_Learning_CIFAR\n",
      "\u001b[2m\u001b[36m(pid=11262, ip=192.168.8.55)\u001b[0m wandb: 🚀 View run at http://192.168.8.51:8080/reminiz/Active_Learning_CIFAR/runs/32tlp2kp\n",
      "\u001b[2m\u001b[36m(pid=11262, ip=192.168.8.55)\u001b[0m wandb: Run `wandb off` to turn off syncing.\n",
      "\u001b[2m\u001b[36m(pid=11262, ip=192.168.8.55)\u001b[0m \n",
      "\u001b[2m\u001b[36m(pid=5314, ip=192.168.8.53)\u001b[0m wandb: - 0.12MB of 0.12MB uploaded\n"
     ]
    },
    {
     "name": "stdout",
     "output_type": "stream",
     "text": [
      "\u001b[2m\u001b[36m(pid=11262, ip=192.168.8.55)\u001b[0m CIFAR10 Training data shape: (50000, 32, 32, 3)\n",
      "\u001b[2m\u001b[36m(pid=11262, ip=192.168.8.55)\u001b[0m CIFAR10 Training label shape (50000, 1)\n",
      "\u001b[2m\u001b[36m(pid=11262, ip=192.168.8.55)\u001b[0m CIFAR10 Test data shape (10000, 32, 32, 3)\n",
      "\u001b[2m\u001b[36m(pid=11262, ip=192.168.8.55)\u001b[0m CIFAR10 Test label shape (10000, 1)\n",
      "\u001b[2m\u001b[36m(pid=13443, ip=192.168.8.54)\u001b[0m \u001b[6;30;42mAL_Train_6\u001b[0m Epoch: 67 / 201 || Time: 2020-12-04 15:08:21 || Accuracy: 98.59 || MAE LossNet: 0.50 || \n"
     ]
    },
    {
     "name": "stderr",
     "output_type": "stream",
     "text": [
      "wandb:                                                                                \n",
      "\u001b[2m\u001b[36m(pid=5314, ip=192.168.8.53)\u001b[0m wandb: Synced AL_Test_6: http://192.168.8.51:8080/reminiz/Active_Learning_CIFAR/runs/32tlp2kp\n",
      "\u001b[2m\u001b[36m(pid=11262, ip=192.168.8.55)\u001b[0m WARNING:tensorflow:From /home/reminiz/ReminizML2/python_env/lib/python3.7/site-packages/tensorflow/python/data/ops/dataset_ops.py:429: py_func (from tensorflow.python.ops.script_ops) is deprecated and will be removed in a future version.\n",
      "\u001b[2m\u001b[36m(pid=11262, ip=192.168.8.55)\u001b[0m Instructions for updating:\n",
      "\u001b[2m\u001b[36m(pid=11262, ip=192.168.8.55)\u001b[0m tf.py_func is deprecated in TF V2. Instead, use\n",
      "\u001b[2m\u001b[36m(pid=11262, ip=192.168.8.55)\u001b[0m     tf.py_function, which takes a python function which manipulates tf eager\n",
      "\u001b[2m\u001b[36m(pid=11262, ip=192.168.8.55)\u001b[0m     tensors instead of numpy arrays. It's easy to convert a tf eager tensor to\n",
      "\u001b[2m\u001b[36m(pid=11262, ip=192.168.8.55)\u001b[0m     an ndarray (just call tensor.numpy()) but having access to eager tensors\n",
      "\u001b[2m\u001b[36m(pid=11262, ip=192.168.8.55)\u001b[0m     means `tf.py_function`s can use accelerators such as GPUs as well as\n",
      "\u001b[2m\u001b[36m(pid=11262, ip=192.168.8.55)\u001b[0m     being differentiable using a gradient tape.\n",
      "\u001b[2m\u001b[36m(pid=11262, ip=192.168.8.55)\u001b[0m     \n",
      "\u001b[2m\u001b[36m(pid=11262, ip=192.168.8.55)\u001b[0m WARNING:tensorflow:From /home/reminiz/ReminizML2/python_env/lib/python3.7/site-packages/tensorflow/python/ops/resource_variable_ops.py:435: colocate_with (from tensorflow.python.framework.ops) is deprecated and will be removed in a future version.\n",
      "\u001b[2m\u001b[36m(pid=11262, ip=192.168.8.55)\u001b[0m Instructions for updating:\n",
      "\u001b[2m\u001b[36m(pid=11262, ip=192.168.8.55)\u001b[0m Colocations handled automatically by placer.\n"
     ]
    },
    {
     "name": "stdout",
     "output_type": "stream",
     "text": [
      "\u001b[2m\u001b[36m(pid=13443, ip=192.168.8.54)\u001b[0m \u001b[6;30;42mAL_Train_6\u001b[0m Epoch: 68 / 201 || Time: 2020-12-04 15:08:23 || Accuracy: 99.41 || MAE LossNet: 0.51 || \n"
     ]
    },
    {
     "name": "stderr",
     "output_type": "stream",
     "text": [
      "\u001b[2m\u001b[36m(pid=11262, ip=192.168.8.55)\u001b[0m 2020-12-04 15:08:23.429878: I tensorflow/core/platform/cpu_feature_guard.cc:141] Your CPU supports instructions that this TensorFlow binary was not compiled to use: AVX2 FMA\n",
      "\u001b[2m\u001b[36m(pid=11262, ip=192.168.8.55)\u001b[0m 2020-12-04 15:08:23.452364: I tensorflow/core/platform/profile_utils/cpu_utils.cc:94] CPU Frequency: 3599935000 Hz\n",
      "\u001b[2m\u001b[36m(pid=11262, ip=192.168.8.55)\u001b[0m 2020-12-04 15:08:23.453119: I tensorflow/compiler/xla/service/service.cc:150] XLA service 0x5bd99f0 executing computations on platform Host. Devices:\n",
      "\u001b[2m\u001b[36m(pid=11262, ip=192.168.8.55)\u001b[0m 2020-12-04 15:08:23.453142: I tensorflow/compiler/xla/service/service.cc:158]   StreamExecutor device (0): <undefined>, <undefined>\n",
      "\u001b[2m\u001b[36m(pid=11262, ip=192.168.8.55)\u001b[0m 2020-12-04 15:08:23.552381: I tensorflow/compiler/xla/service/service.cc:150] XLA service 0x5bdf070 executing computations on platform CUDA. Devices:\n",
      "\u001b[2m\u001b[36m(pid=11262, ip=192.168.8.55)\u001b[0m 2020-12-04 15:08:23.552422: I tensorflow/compiler/xla/service/service.cc:158]   StreamExecutor device (0): GeForce GTX 1080 Ti, Compute Capability 6.1\n",
      "\u001b[2m\u001b[36m(pid=11262, ip=192.168.8.55)\u001b[0m 2020-12-04 15:08:23.552592: I tensorflow/core/common_runtime/gpu/gpu_device.cc:1433] Found device 0 with properties: \n",
      "\u001b[2m\u001b[36m(pid=11262, ip=192.168.8.55)\u001b[0m name: GeForce GTX 1080 Ti major: 6 minor: 1 memoryClockRate(GHz): 1.62\n",
      "\u001b[2m\u001b[36m(pid=11262, ip=192.168.8.55)\u001b[0m pciBusID: 0000:4c:00.0\n",
      "\u001b[2m\u001b[36m(pid=11262, ip=192.168.8.55)\u001b[0m totalMemory: 10.91GiB freeMemory: 10.77GiB\n",
      "\u001b[2m\u001b[36m(pid=11262, ip=192.168.8.55)\u001b[0m 2020-12-04 15:08:23.552617: I tensorflow/core/common_runtime/gpu/gpu_device.cc:1512] Adding visible gpu devices: 0\n",
      "\u001b[2m\u001b[36m(pid=11262, ip=192.168.8.55)\u001b[0m 2020-12-04 15:08:23.554555: I tensorflow/core/common_runtime/gpu/gpu_device.cc:984] Device interconnect StreamExecutor with strength 1 edge matrix:\n",
      "\u001b[2m\u001b[36m(pid=11262, ip=192.168.8.55)\u001b[0m 2020-12-04 15:08:23.554577: I tensorflow/core/common_runtime/gpu/gpu_device.cc:990]      0 \n",
      "\u001b[2m\u001b[36m(pid=11262, ip=192.168.8.55)\u001b[0m 2020-12-04 15:08:23.554586: I tensorflow/core/common_runtime/gpu/gpu_device.cc:1003] 0:   N \n",
      "\u001b[2m\u001b[36m(pid=11262, ip=192.168.8.55)\u001b[0m 2020-12-04 15:08:23.554677: I tensorflow/core/common_runtime/gpu/gpu_device.cc:1115] Created TensorFlow device (/job:localhost/replica:0/task:0/device:GPU:0 with 10479 MB memory) -> physical GPU (device: 0, name: GeForce GTX 1080 Ti, pci bus id: 0000:4c:00.0, compute capability: 6.1)\n"
     ]
    },
    {
     "name": "stdout",
     "output_type": "stream",
     "text": [
      "\u001b[2m\u001b[36m(pid=11262, ip=192.168.8.55)\u001b[0m \u001b[6;30;42mAL_Test_6\u001b[0m Restoring from /mnt/Ressources/Andres/Temp_active/runs/Active_Learning_v0/Stage_6/checkpoint/epoch65.ckpt-65\n"
     ]
    },
    {
     "name": "stderr",
     "output_type": "stream",
     "text": [
      "\u001b[2m\u001b[36m(pid=11262, ip=192.168.8.55)\u001b[0m WARNING:tensorflow:From /home/reminiz/ReminizML2/python_env/lib/python3.7/site-packages/tensorflow/python/training/saver.py:1266: checkpoint_exists (from tensorflow.python.training.checkpoint_management) is deprecated and will be removed in a future version.\n",
      "\u001b[2m\u001b[36m(pid=11262, ip=192.168.8.55)\u001b[0m Instructions for updating:\n",
      "\u001b[2m\u001b[36m(pid=11262, ip=192.168.8.55)\u001b[0m Use standard file APIs to check for files with this prefix.\n"
     ]
    },
    {
     "name": "stdout",
     "output_type": "stream",
     "text": [
      "\u001b[2m\u001b[36m(pid=13443, ip=192.168.8.54)\u001b[0m \u001b[6;30;42mAL_Train_6\u001b[0m Epoch: 69 / 201 || Time: 2020-12-04 15:08:24 || Accuracy: 99.29 || MAE LossNet: 0.51 || \n"
     ]
    },
    {
     "name": "stderr",
     "output_type": "stream",
     "text": [
      "\u001b[2m\u001b[36m(pid=11262, ip=192.168.8.55)\u001b[0m 2020-12-04 15:08:24.982554: I tensorflow/stream_executor/dso_loader.cc:152] successfully opened CUDA library libcublas.so.10.0 locally\n"
     ]
    },
    {
     "name": "stdout",
     "output_type": "stream",
     "text": [
      "\u001b[2m\u001b[36m(pid=13443, ip=192.168.8.54)\u001b[0m \u001b[6;30;42mAL_Train_6\u001b[0m Epoch: 70 / 201 || Time: 2020-12-04 15:08:25 || Accuracy: 98.57 || MAE LossNet: 0.49 || \n",
      "\u001b[2m\u001b[36m(pid=11262, ip=192.168.8.55)\u001b[0m \u001b[6;30;42mAL_Test_6\u001b[0m Test || Epoch: 65 || Accuracy: 64.60 || \n"
     ]
    },
    {
     "name": "stderr",
     "output_type": "stream",
     "text": [
      "\u001b[2m\u001b[36m(pid=11262, ip=192.168.8.55)\u001b[0m \n",
      "\u001b[2m\u001b[36m(pid=11262, ip=192.168.8.55)\u001b[0m wandb: Waiting for W&B process to finish, PID 12650\n",
      "\u001b[2m\u001b[36m(pid=11262, ip=192.168.8.55)\u001b[0m wandb: Program ended successfully.\n",
      "\u001b[2m\u001b[36m(pid=11253, ip=192.168.8.55)\u001b[0m /home/reminiz/ReminizML2/python_env/lib/python3.7/site-packages/tensorflow/python/framework/dtypes.py:526: FutureWarning: Passing (type, 1) or '1type' as a synonym of type is deprecated; in a future version of numpy, it will be understood as (type, (1,)) / '(1,)type'.\n",
      "\u001b[2m\u001b[36m(pid=11253, ip=192.168.8.55)\u001b[0m   _np_qint8 = np.dtype([(\"qint8\", np.int8, 1)])\n",
      "\u001b[2m\u001b[36m(pid=11253, ip=192.168.8.55)\u001b[0m /home/reminiz/ReminizML2/python_env/lib/python3.7/site-packages/tensorflow/python/framework/dtypes.py:527: FutureWarning: Passing (type, 1) or '1type' as a synonym of type is deprecated; in a future version of numpy, it will be understood as (type, (1,)) / '(1,)type'.\n",
      "\u001b[2m\u001b[36m(pid=11253, ip=192.168.8.55)\u001b[0m   _np_quint8 = np.dtype([(\"quint8\", np.uint8, 1)])\n",
      "\u001b[2m\u001b[36m(pid=11253, ip=192.168.8.55)\u001b[0m /home/reminiz/ReminizML2/python_env/lib/python3.7/site-packages/tensorflow/python/framework/dtypes.py:528: FutureWarning: Passing (type, 1) or '1type' as a synonym of type is deprecated; in a future version of numpy, it will be understood as (type, (1,)) / '(1,)type'.\n",
      "\u001b[2m\u001b[36m(pid=11253, ip=192.168.8.55)\u001b[0m   _np_qint16 = np.dtype([(\"qint16\", np.int16, 1)])\n",
      "\u001b[2m\u001b[36m(pid=11253, ip=192.168.8.55)\u001b[0m /home/reminiz/ReminizML2/python_env/lib/python3.7/site-packages/tensorflow/python/framework/dtypes.py:529: FutureWarning: Passing (type, 1) or '1type' as a synonym of type is deprecated; in a future version of numpy, it will be understood as (type, (1,)) / '(1,)type'.\n",
      "\u001b[2m\u001b[36m(pid=11253, ip=192.168.8.55)\u001b[0m   _np_quint16 = np.dtype([(\"quint16\", np.uint16, 1)])\n",
      "\u001b[2m\u001b[36m(pid=11253, ip=192.168.8.55)\u001b[0m /home/reminiz/ReminizML2/python_env/lib/python3.7/site-packages/tensorflow/python/framework/dtypes.py:530: FutureWarning: Passing (type, 1) or '1type' as a synonym of type is deprecated; in a future version of numpy, it will be understood as (type, (1,)) / '(1,)type'.\n",
      "\u001b[2m\u001b[36m(pid=11253, ip=192.168.8.55)\u001b[0m   _np_qint32 = np.dtype([(\"qint32\", np.int32, 1)])\n",
      "\u001b[2m\u001b[36m(pid=11253, ip=192.168.8.55)\u001b[0m /home/reminiz/ReminizML2/python_env/lib/python3.7/site-packages/tensorflow/python/framework/dtypes.py:535: FutureWarning: Passing (type, 1) or '1type' as a synonym of type is deprecated; in a future version of numpy, it will be understood as (type, (1,)) / '(1,)type'.\n",
      "\u001b[2m\u001b[36m(pid=11253, ip=192.168.8.55)\u001b[0m   np_resource = np.dtype([(\"resource\", np.ubyte, 1)])\n"
     ]
    },
    {
     "name": "stdout",
     "output_type": "stream",
     "text": [
      "\u001b[2m\u001b[36m(pid=13443, ip=192.168.8.54)\u001b[0m \u001b[6;30;42mAL_Train_6\u001b[0m Epoch: 71 / 201 || Time: 2020-12-04 15:08:30 || Accuracy: 99.39 || MAE LossNet: 0.50 || \n"
     ]
    },
    {
     "name": "stderr",
     "output_type": "stream",
     "text": [
      "\u001b[2m\u001b[36m(pid=11262, ip=192.168.8.55)\u001b[0m wandb: Run summary:\n",
      "\u001b[2m\u001b[36m(pid=11262, ip=192.168.8.55)\u001b[0m wandb:                                     _step 65\n",
      "\u001b[2m\u001b[36m(pid=11262, ip=192.168.8.55)\u001b[0m wandb:                                  F1 score 0.6463178392026565\n",
      "\u001b[2m\u001b[36m(pid=11262, ip=192.168.8.55)\u001b[0m wandb:                                  _runtime 106.05521726608276\n",
      "\u001b[2m\u001b[36m(pid=11262, ip=192.168.8.55)\u001b[0m wandb:                                _timestamp 1607090908.5815444\n",
      "\u001b[2m\u001b[36m(pid=11262, ip=192.168.8.55)\u001b[0m wandb:                     Explained variance v1 -0.07264244556427002\n",
      "\u001b[2m\u001b[36m(pid=11262, ip=192.168.8.55)\u001b[0m wandb:                     Explained variance v2 -0.040656328201293945\n",
      "\u001b[2m\u001b[36m(pid=11262, ip=192.168.8.55)\u001b[0m wandb:                     Mean squared error v1 15.095025062561035\n",
      "\u001b[2m\u001b[36m(pid=11262, ip=192.168.8.55)\u001b[0m wandb:                     Mean squared error v2 24.509750366210938\n",
      "\u001b[2m\u001b[36m(pid=11262, ip=192.168.8.55)\u001b[0m wandb:                    Mean absolute error v1 2.3948171138763428\n",
      "\u001b[2m\u001b[36m(pid=11262, ip=192.168.8.55)\u001b[0m wandb:                    Mean absolute error v2 3.3810312747955322\n",
      "\u001b[2m\u001b[36m(pid=11262, ip=192.168.8.55)\u001b[0m wandb:                Area Under the Curve (AUC) 0.7777723846005842\n",
      "\u001b[2m\u001b[36m(pid=11262, ip=192.168.8.55)\u001b[0m wandb:             Test: Classification Accuracy 0.646\n",
      "\u001b[2m\u001b[36m(pid=11262, ip=192.168.8.55)\u001b[0m wandb: Syncing files in ../../../Trainings/wandb/wandb/run-20201204_140820-32tlp2kp:\n",
      "\u001b[2m\u001b[36m(pid=11262, ip=192.168.8.55)\u001b[0m wandb:   code/default_worker.py\n",
      "\u001b[2m\u001b[36m(pid=11262, ip=192.168.8.55)\u001b[0m wandb: plus 8 W&B file(s) and 2 media file(s)\n",
      "\u001b[2m\u001b[36m(pid=11262, ip=192.168.8.55)\u001b[0m wandb: - 0.29MB of 0.29MB uploaded\n",
      "\u001b[2m\u001b[36m(pid=11253, ip=192.168.8.55)\u001b[0m wandb: Tracking run with wandb version 0.8.36\n",
      "\u001b[2m\u001b[36m(pid=11262, ip=192.168.8.55)\u001b[0m wandb: \\ 0.29MB of 0.29MB uploaded\n",
      "\u001b[2m\u001b[36m(pid=11262, ip=192.168.8.55)\u001b[0m wandb: | 0.29MB of 0.29MB uploaded\n",
      "\u001b[2m\u001b[36m(pid=11253, ip=192.168.8.55)\u001b[0m wandb: Wandb version 0.10.12 is available!  To upgrade, please run:\n",
      "\u001b[2m\u001b[36m(pid=11253, ip=192.168.8.55)\u001b[0m wandb:  $ pip install wandb --upgrade\n",
      "\u001b[2m\u001b[36m(pid=11253, ip=192.168.8.55)\u001b[0m wandb: Run data is saved locally in ../../../Trainings/wandb/wandb/run-20201204_140831-32tlp2kp\n",
      "\u001b[2m\u001b[36m(pid=11262, ip=192.168.8.55)\u001b[0m wandb: / 0.29MB of 0.29MB uploaded\n",
      "\u001b[2m\u001b[36m(pid=11253, ip=192.168.8.55)\u001b[0m wandb: Syncing run AL_Test_6\n",
      "\u001b[2m\u001b[36m(pid=11253, ip=192.168.8.55)\u001b[0m wandb: ⭐️ View project at http://192.168.8.51:8080/reminiz/Active_Learning_CIFAR\n",
      "\u001b[2m\u001b[36m(pid=11253, ip=192.168.8.55)\u001b[0m wandb: 🚀 View run at http://192.168.8.51:8080/reminiz/Active_Learning_CIFAR/runs/32tlp2kp\n",
      "\u001b[2m\u001b[36m(pid=11253, ip=192.168.8.55)\u001b[0m wandb: Run `wandb off` to turn off syncing.\n",
      "\u001b[2m\u001b[36m(pid=11253, ip=192.168.8.55)\u001b[0m \n",
      "wandb:                                                                                \n",
      "\u001b[2m\u001b[36m(pid=11262, ip=192.168.8.55)\u001b[0m wandb: Synced AL_Test_6: http://192.168.8.51:8080/reminiz/Active_Learning_CIFAR/runs/32tlp2kp\n"
     ]
    },
    {
     "name": "stdout",
     "output_type": "stream",
     "text": [
      "\u001b[2m\u001b[36m(pid=11253, ip=192.168.8.55)\u001b[0m CIFAR10 Training data shape: (50000, 32, 32, 3)\n",
      "\u001b[2m\u001b[36m(pid=11253, ip=192.168.8.55)\u001b[0m CIFAR10 Training label shape (50000, 1)\n",
      "\u001b[2m\u001b[36m(pid=11253, ip=192.168.8.55)\u001b[0m CIFAR10 Test data shape (10000, 32, 32, 3)\n",
      "\u001b[2m\u001b[36m(pid=11253, ip=192.168.8.55)\u001b[0m CIFAR10 Test label shape (10000, 1)\n",
      "\u001b[2m\u001b[36m(pid=13443, ip=192.168.8.54)\u001b[0m \u001b[6;30;42mAL_Train_6\u001b[0m Epoch: 72 / 201 || Time: 2020-12-04 15:08:32 || Accuracy: 98.90 || MAE LossNet: 0.50 || \n"
     ]
    },
    {
     "name": "stderr",
     "output_type": "stream",
     "text": [
      "\u001b[2m\u001b[36m(pid=11253, ip=192.168.8.55)\u001b[0m WARNING:tensorflow:From /home/reminiz/ReminizML2/python_env/lib/python3.7/site-packages/tensorflow/python/data/ops/dataset_ops.py:429: py_func (from tensorflow.python.ops.script_ops) is deprecated and will be removed in a future version.\n",
      "\u001b[2m\u001b[36m(pid=11253, ip=192.168.8.55)\u001b[0m Instructions for updating:\n",
      "\u001b[2m\u001b[36m(pid=11253, ip=192.168.8.55)\u001b[0m tf.py_func is deprecated in TF V2. Instead, use\n",
      "\u001b[2m\u001b[36m(pid=11253, ip=192.168.8.55)\u001b[0m     tf.py_function, which takes a python function which manipulates tf eager\n",
      "\u001b[2m\u001b[36m(pid=11253, ip=192.168.8.55)\u001b[0m     tensors instead of numpy arrays. It's easy to convert a tf eager tensor to\n",
      "\u001b[2m\u001b[36m(pid=11253, ip=192.168.8.55)\u001b[0m     an ndarray (just call tensor.numpy()) but having access to eager tensors\n",
      "\u001b[2m\u001b[36m(pid=11253, ip=192.168.8.55)\u001b[0m     means `tf.py_function`s can use accelerators such as GPUs as well as\n",
      "\u001b[2m\u001b[36m(pid=11253, ip=192.168.8.55)\u001b[0m     being differentiable using a gradient tape.\n",
      "\u001b[2m\u001b[36m(pid=11253, ip=192.168.8.55)\u001b[0m     \n",
      "\u001b[2m\u001b[36m(pid=11253, ip=192.168.8.55)\u001b[0m WARNING:tensorflow:From /home/reminiz/ReminizML2/python_env/lib/python3.7/site-packages/tensorflow/python/ops/resource_variable_ops.py:435: colocate_with (from tensorflow.python.framework.ops) is deprecated and will be removed in a future version.\n",
      "\u001b[2m\u001b[36m(pid=11253, ip=192.168.8.55)\u001b[0m Instructions for updating:\n",
      "\u001b[2m\u001b[36m(pid=11253, ip=192.168.8.55)\u001b[0m Colocations handled automatically by placer.\n"
     ]
    },
    {
     "name": "stdout",
     "output_type": "stream",
     "text": [
      "\u001b[2m\u001b[36m(pid=13443, ip=192.168.8.54)\u001b[0m \u001b[6;30;42mAL_Train_6\u001b[0m Epoch: 73 / 201 || Time: 2020-12-04 15:08:33 || Accuracy: 99.20 || MAE LossNet: 0.46 || \n"
     ]
    },
    {
     "name": "stderr",
     "output_type": "stream",
     "text": [
      "\u001b[2m\u001b[36m(pid=11253, ip=192.168.8.55)\u001b[0m 2020-12-04 15:08:34.249494: I tensorflow/core/platform/cpu_feature_guard.cc:141] Your CPU supports instructions that this TensorFlow binary was not compiled to use: AVX2 FMA\n",
      "\u001b[2m\u001b[36m(pid=11253, ip=192.168.8.55)\u001b[0m 2020-12-04 15:08:34.272321: I tensorflow/core/platform/profile_utils/cpu_utils.cc:94] CPU Frequency: 3599935000 Hz\n",
      "\u001b[2m\u001b[36m(pid=11253, ip=192.168.8.55)\u001b[0m 2020-12-04 15:08:34.273035: I tensorflow/compiler/xla/service/service.cc:150] XLA service 0x7390280 executing computations on platform Host. Devices:\n",
      "\u001b[2m\u001b[36m(pid=11253, ip=192.168.8.55)\u001b[0m 2020-12-04 15:08:34.273056: I tensorflow/compiler/xla/service/service.cc:158]   StreamExecutor device (0): <undefined>, <undefined>\n",
      "\u001b[2m\u001b[36m(pid=11253, ip=192.168.8.55)\u001b[0m 2020-12-04 15:08:34.359959: I tensorflow/compiler/xla/service/service.cc:150] XLA service 0x7395900 executing computations on platform CUDA. Devices:\n",
      "\u001b[2m\u001b[36m(pid=11253, ip=192.168.8.55)\u001b[0m 2020-12-04 15:08:34.359995: I tensorflow/compiler/xla/service/service.cc:158]   StreamExecutor device (0): GeForce GTX 1080 Ti, Compute Capability 6.1\n",
      "\u001b[2m\u001b[36m(pid=11253, ip=192.168.8.55)\u001b[0m 2020-12-04 15:08:34.360161: I tensorflow/core/common_runtime/gpu/gpu_device.cc:1433] Found device 0 with properties: \n",
      "\u001b[2m\u001b[36m(pid=11253, ip=192.168.8.55)\u001b[0m name: GeForce GTX 1080 Ti major: 6 minor: 1 memoryClockRate(GHz): 1.62\n",
      "\u001b[2m\u001b[36m(pid=11253, ip=192.168.8.55)\u001b[0m pciBusID: 0000:4c:00.0\n",
      "\u001b[2m\u001b[36m(pid=11253, ip=192.168.8.55)\u001b[0m totalMemory: 10.91GiB freeMemory: 10.77GiB\n",
      "\u001b[2m\u001b[36m(pid=11253, ip=192.168.8.55)\u001b[0m 2020-12-04 15:08:34.360183: I tensorflow/core/common_runtime/gpu/gpu_device.cc:1512] Adding visible gpu devices: 0\n",
      "\u001b[2m\u001b[36m(pid=11253, ip=192.168.8.55)\u001b[0m 2020-12-04 15:08:34.361864: I tensorflow/core/common_runtime/gpu/gpu_device.cc:984] Device interconnect StreamExecutor with strength 1 edge matrix:\n",
      "\u001b[2m\u001b[36m(pid=11253, ip=192.168.8.55)\u001b[0m 2020-12-04 15:08:34.361883: I tensorflow/core/common_runtime/gpu/gpu_device.cc:990]      0 \n",
      "\u001b[2m\u001b[36m(pid=11253, ip=192.168.8.55)\u001b[0m 2020-12-04 15:08:34.361892: I tensorflow/core/common_runtime/gpu/gpu_device.cc:1003] 0:   N \n",
      "\u001b[2m\u001b[36m(pid=11253, ip=192.168.8.55)\u001b[0m 2020-12-04 15:08:34.361971: I tensorflow/core/common_runtime/gpu/gpu_device.cc:1115] Created TensorFlow device (/job:localhost/replica:0/task:0/device:GPU:0 with 10479 MB memory) -> physical GPU (device: 0, name: GeForce GTX 1080 Ti, pci bus id: 0000:4c:00.0, compute capability: 6.1)\n"
     ]
    },
    {
     "name": "stdout",
     "output_type": "stream",
     "text": [
      "\u001b[2m\u001b[36m(pid=11253, ip=192.168.8.55)\u001b[0m \u001b[6;30;42mAL_Test_6\u001b[0m Restoring from /mnt/Ressources/Andres/Temp_active/runs/Active_Learning_v0/Stage_6/checkpoint/epoch70.ckpt-70\n"
     ]
    },
    {
     "name": "stderr",
     "output_type": "stream",
     "text": [
      "\u001b[2m\u001b[36m(pid=11253, ip=192.168.8.55)\u001b[0m WARNING:tensorflow:From /home/reminiz/ReminizML2/python_env/lib/python3.7/site-packages/tensorflow/python/training/saver.py:1266: checkpoint_exists (from tensorflow.python.training.checkpoint_management) is deprecated and will be removed in a future version.\n",
      "\u001b[2m\u001b[36m(pid=11253, ip=192.168.8.55)\u001b[0m Instructions for updating:\n",
      "\u001b[2m\u001b[36m(pid=11253, ip=192.168.8.55)\u001b[0m Use standard file APIs to check for files with this prefix.\n"
     ]
    },
    {
     "name": "stdout",
     "output_type": "stream",
     "text": [
      "\u001b[2m\u001b[36m(pid=13443, ip=192.168.8.54)\u001b[0m \u001b[6;30;42mAL_Train_6\u001b[0m Epoch: 74 / 201 || Time: 2020-12-04 15:08:35 || Accuracy: 99.51 || MAE LossNet: 0.45 || \n"
     ]
    },
    {
     "name": "stderr",
     "output_type": "stream",
     "text": [
      "\u001b[2m\u001b[36m(pid=11253, ip=192.168.8.55)\u001b[0m 2020-12-04 15:08:35.771894: I tensorflow/stream_executor/dso_loader.cc:152] successfully opened CUDA library libcublas.so.10.0 locally\n"
     ]
    },
    {
     "name": "stdout",
     "output_type": "stream",
     "text": [
      "\u001b[2m\u001b[36m(pid=13443, ip=192.168.8.54)\u001b[0m \u001b[6;30;42mAL_Train_6\u001b[0m Epoch: 75 / 201 || Time: 2020-12-04 15:08:36 || Accuracy: 99.25 || MAE LossNet: 0.45 || \n",
      "\u001b[2m\u001b[36m(pid=11253, ip=192.168.8.55)\u001b[0m \u001b[6;30;42mAL_Test_6\u001b[0m Test || Epoch: 70 || Accuracy: 65.04 || \n"
     ]
    },
    {
     "name": "stderr",
     "output_type": "stream",
     "text": [
      "\u001b[2m\u001b[36m(pid=11253, ip=192.168.8.55)\u001b[0m \n",
      "\u001b[2m\u001b[36m(pid=11253, ip=192.168.8.55)\u001b[0m wandb: Waiting for W&B process to finish, PID 12790\n",
      "\u001b[2m\u001b[36m(pid=11253, ip=192.168.8.55)\u001b[0m wandb: Program ended successfully.\n",
      "2020-12-04 15:08:40,559\tWARNING worker.py:1072 -- The actor or task with ID ffffffffffffffff1dadeb8606000000 is pending and cannot currently be scheduled. It requires {CPU: 1.000000}, {GPU: 1.000000}, {gpu_lvl_1: 1.000000} for execution and {CPU: 1.000000}, {GPU: 1.000000}, {gpu_lvl_1: 1.000000} for placement, but this node only has remaining {accelerator_type:GTX: 1.000000}, {gpu_lvl_1: 2.000000}, {GPU: 2.000000}, {node:192.168.8.55: 1.000000}, {CPU: 11.000000}, {memory: 21.337891 GiB}, {object_store_memory: 6.298828 GiB}. In total there are 0 pending tasks and 1 pending actors on this node. This is likely due to all cluster resources being claimed by actors. To resolve the issue, consider creating fewer actors or increase the resources available to this Ray cluster. You can ignore this message if this Ray cluster is expected to auto-scale.\n",
      "\u001b[2m\u001b[36m(pid=14098)\u001b[0m 2020-12-04 15:08:40,727\tINFO (unknown file):0 -- gc.collect() freed 105 refs in 0.024481851956807077 seconds\n",
      "\u001b[2m\u001b[36m(pid=14102)\u001b[0m 2020-12-04 15:08:40,728\tINFO (unknown file):0 -- gc.collect() freed 105 refs in 0.025207070983015 seconds\n",
      "\u001b[2m\u001b[36m(pid=14103)\u001b[0m 2020-12-04 15:08:40,740\tINFO (unknown file):0 -- gc.collect() freed 105 refs in 0.03741426207125187 seconds\n",
      "\u001b[2m\u001b[36m(pid=14100)\u001b[0m 2020-12-04 15:08:40,723\tINFO (unknown file):0 -- gc.collect() freed 105 refs in 0.020040430943481624 seconds\n",
      "\u001b[2m\u001b[36m(pid=14111)\u001b[0m 2020-12-04 15:08:40,727\tINFO (unknown file):0 -- gc.collect() freed 105 refs in 0.024424111004918814 seconds\n",
      "\u001b[2m\u001b[36m(pid=14109)\u001b[0m 2020-12-04 15:08:40,738\tINFO (unknown file):0 -- gc.collect() freed 105 refs in 0.03476233105175197 seconds\n",
      "\u001b[2m\u001b[36m(pid=14104)\u001b[0m 2020-12-04 15:08:40,737\tINFO (unknown file):0 -- gc.collect() freed 105 refs in 0.033573169028386474 seconds\n",
      "\u001b[2m\u001b[36m(pid=14106)\u001b[0m 2020-12-04 15:08:40,736\tINFO (unknown file):0 -- gc.collect() freed 105 refs in 0.0241582659073174 seconds\n",
      "\u001b[2m\u001b[36m(pid=5311, ip=192.168.8.53)\u001b[0m 2020-12-04 15:08:40,754\tINFO (unknown file):0 -- gc.collect() freed 44 refs in 0.019468470476567745 seconds\n",
      "\u001b[2m\u001b[36m(pid=5310, ip=192.168.8.53)\u001b[0m 2020-12-04 15:08:40,759\tINFO (unknown file):0 -- gc.collect() freed 44 refs in 0.023092644289135933 seconds\n",
      "\u001b[2m\u001b[36m(pid=5317, ip=192.168.8.53)\u001b[0m 2020-12-04 15:08:40,754\tINFO (unknown file):0 -- gc.collect() freed 44 refs in 0.019472883082926273 seconds\n",
      "\u001b[2m\u001b[36m(pid=12925, ip=192.168.8.55)\u001b[0m /home/reminiz/ReminizML2/python_env/lib/python3.7/site-packages/tensorflow/python/framework/dtypes.py:526: FutureWarning: Passing (type, 1) or '1type' as a synonym of type is deprecated; in a future version of numpy, it will be understood as (type, (1,)) / '(1,)type'.\n",
      "\u001b[2m\u001b[36m(pid=12925, ip=192.168.8.55)\u001b[0m   _np_qint8 = np.dtype([(\"qint8\", np.int8, 1)])\n",
      "\u001b[2m\u001b[36m(pid=12925, ip=192.168.8.55)\u001b[0m /home/reminiz/ReminizML2/python_env/lib/python3.7/site-packages/tensorflow/python/framework/dtypes.py:527: FutureWarning: Passing (type, 1) or '1type' as a synonym of type is deprecated; in a future version of numpy, it will be understood as (type, (1,)) / '(1,)type'.\n",
      "\u001b[2m\u001b[36m(pid=12925, ip=192.168.8.55)\u001b[0m   _np_quint8 = np.dtype([(\"quint8\", np.uint8, 1)])\n",
      "\u001b[2m\u001b[36m(pid=12925, ip=192.168.8.55)\u001b[0m /home/reminiz/ReminizML2/python_env/lib/python3.7/site-packages/tensorflow/python/framework/dtypes.py:528: FutureWarning: Passing (type, 1) or '1type' as a synonym of type is deprecated; in a future version of numpy, it will be understood as (type, (1,)) / '(1,)type'.\n",
      "\u001b[2m\u001b[36m(pid=12925, ip=192.168.8.55)\u001b[0m   _np_qint16 = np.dtype([(\"qint16\", np.int16, 1)])\n",
      "\u001b[2m\u001b[36m(pid=12925, ip=192.168.8.55)\u001b[0m /home/reminiz/ReminizML2/python_env/lib/python3.7/site-packages/tensorflow/python/framework/dtypes.py:529: FutureWarning: Passing (type, 1) or '1type' as a synonym of type is deprecated; in a future version of numpy, it will be understood as (type, (1,)) / '(1,)type'.\n",
      "\u001b[2m\u001b[36m(pid=12925, ip=192.168.8.55)\u001b[0m   _np_quint16 = np.dtype([(\"quint16\", np.uint16, 1)])\n",
      "\u001b[2m\u001b[36m(pid=12925, ip=192.168.8.55)\u001b[0m /home/reminiz/ReminizML2/python_env/lib/python3.7/site-packages/tensorflow/python/framework/dtypes.py:530: FutureWarning: Passing (type, 1) or '1type' as a synonym of type is deprecated; in a future version of numpy, it will be understood as (type, (1,)) / '(1,)type'.\n",
      "\u001b[2m\u001b[36m(pid=12925, ip=192.168.8.55)\u001b[0m   _np_qint32 = np.dtype([(\"qint32\", np.int32, 1)])\n",
      "\u001b[2m\u001b[36m(pid=12925, ip=192.168.8.55)\u001b[0m /home/reminiz/ReminizML2/python_env/lib/python3.7/site-packages/tensorflow/python/framework/dtypes.py:535: FutureWarning: Passing (type, 1) or '1type' as a synonym of type is deprecated; in a future version of numpy, it will be understood as (type, (1,)) / '(1,)type'.\n",
      "\u001b[2m\u001b[36m(pid=12925, ip=192.168.8.55)\u001b[0m   np_resource = np.dtype([(\"resource\", np.ubyte, 1)])\n",
      "\u001b[2m\u001b[36m(pid=11253, ip=192.168.8.55)\u001b[0m wandb: Run summary:\n",
      "\u001b[2m\u001b[36m(pid=11253, ip=192.168.8.55)\u001b[0m wandb:                                     _step 70\n",
      "\u001b[2m\u001b[36m(pid=11253, ip=192.168.8.55)\u001b[0m wandb:                                  F1 score 0.6520314768479144\n",
      "\u001b[2m\u001b[36m(pid=11253, ip=192.168.8.55)\u001b[0m wandb:                                  _runtime 114.39134526252747\n",
      "\u001b[2m\u001b[36m(pid=11253, ip=192.168.8.55)\u001b[0m wandb:                                _timestamp 1607090919.3593826\n",
      "\u001b[2m\u001b[36m(pid=11253, ip=192.168.8.55)\u001b[0m wandb:                     Explained variance v1 -0.05981266498565674\n",
      "\u001b[2m\u001b[36m(pid=11253, ip=192.168.8.55)\u001b[0m wandb:                     Explained variance v2 -0.03668975830078125\n",
      "\u001b[2m\u001b[36m(pid=11253, ip=192.168.8.55)\u001b[0m wandb:                     Mean squared error v1 16.901765823364258\n",
      "\u001b[2m\u001b[36m(pid=11253, ip=192.168.8.55)\u001b[0m wandb:                     Mean squared error v2 26.92538070678711\n",
      "\u001b[2m\u001b[36m(pid=11253, ip=192.168.8.55)\u001b[0m wandb:                    Mean absolute error v1 2.546332359313965\n",
      "\u001b[2m\u001b[36m(pid=11253, ip=192.168.8.55)\u001b[0m wandb:                    Mean absolute error v2 3.5497539043426514\n",
      "\u001b[2m\u001b[36m(pid=11253, ip=192.168.8.55)\u001b[0m wandb:                Area Under the Curve (AUC) 0.7796818310717432\n",
      "\u001b[2m\u001b[36m(pid=11253, ip=192.168.8.55)\u001b[0m wandb:             Test: Classification Accuracy 0.6504\n",
      "\u001b[2m\u001b[36m(pid=11253, ip=192.168.8.55)\u001b[0m wandb: Syncing files in ../../../Trainings/wandb/wandb/run-20201204_140831-32tlp2kp:\n",
      "\u001b[2m\u001b[36m(pid=11253, ip=192.168.8.55)\u001b[0m wandb:   code/default_worker.py\n",
      "\u001b[2m\u001b[36m(pid=11253, ip=192.168.8.55)\u001b[0m wandb: plus 8 W&B file(s) and 2 media file(s)\n",
      "\u001b[2m\u001b[36m(pid=11253, ip=192.168.8.55)\u001b[0m wandb: - 0.28MB of 0.28MB uploaded\n"
     ]
    },
    {
     "name": "stdout",
     "output_type": "stream",
     "text": [
      "\u001b[2m\u001b[36m(pid=13443, ip=192.168.8.54)\u001b[0m \u001b[6;30;42mAL_Train_6\u001b[0m Epoch: 76 / 201 || Time: 2020-12-04 15:08:42 || Accuracy: 99.12 || MAE LossNet: 0.51 || \n"
     ]
    },
    {
     "name": "stderr",
     "output_type": "stream",
     "text": [
      "\u001b[2m\u001b[36m(pid=11253, ip=192.168.8.55)\u001b[0m wandb: \\ 0.28MB of 0.28MB uploaded\n",
      "\u001b[2m\u001b[36m(pid=11253, ip=192.168.8.55)\u001b[0m wandb: | 0.28MB of 0.28MB uploaded\n",
      "\u001b[2m\u001b[36m(pid=11253, ip=192.168.8.55)\u001b[0m wandb: / 0.28MB of 0.28MB uploaded\n",
      "\u001b[2m\u001b[36m(pid=12925, ip=192.168.8.55)\u001b[0m wandb: Tracking run with wandb version 0.8.36\n",
      "wandb:                                                                                \n",
      "\u001b[2m\u001b[36m(pid=11253, ip=192.168.8.55)\u001b[0m wandb: Synced AL_Test_6: http://192.168.8.51:8080/reminiz/Active_Learning_CIFAR/runs/32tlp2kp\n",
      "\u001b[2m\u001b[36m(pid=12925, ip=192.168.8.55)\u001b[0m wandb: Wandb version 0.10.12 is available!  To upgrade, please run:\n",
      "\u001b[2m\u001b[36m(pid=12925, ip=192.168.8.55)\u001b[0m wandb:  $ pip install wandb --upgrade\n",
      "\u001b[2m\u001b[36m(pid=12925, ip=192.168.8.55)\u001b[0m wandb: Run data is saved locally in ../../../Trainings/wandb/wandb/run-20201204_140842-32tlp2kp\n",
      "\u001b[2m\u001b[36m(pid=12925, ip=192.168.8.55)\u001b[0m wandb: Syncing run AL_Test_6\n",
      "\u001b[2m\u001b[36m(pid=12925, ip=192.168.8.55)\u001b[0m wandb: ⭐️ View project at http://192.168.8.51:8080/reminiz/Active_Learning_CIFAR\n",
      "\u001b[2m\u001b[36m(pid=12925, ip=192.168.8.55)\u001b[0m wandb: 🚀 View run at http://192.168.8.51:8080/reminiz/Active_Learning_CIFAR/runs/32tlp2kp\n",
      "\u001b[2m\u001b[36m(pid=12925, ip=192.168.8.55)\u001b[0m wandb: Run `wandb off` to turn off syncing.\n",
      "\u001b[2m\u001b[36m(pid=12925, ip=192.168.8.55)\u001b[0m \n"
     ]
    },
    {
     "name": "stdout",
     "output_type": "stream",
     "text": [
      "\u001b[2m\u001b[36m(pid=13443, ip=192.168.8.54)\u001b[0m \u001b[6;30;42mAL_Train_6\u001b[0m Epoch: 77 / 201 || Time: 2020-12-04 15:08:43 || Accuracy: 98.90 || MAE LossNet: 0.48 || \n",
      "\u001b[2m\u001b[36m(pid=12925, ip=192.168.8.55)\u001b[0m CIFAR10 Training data shape: (50000, 32, 32, 3)\n",
      "\u001b[2m\u001b[36m(pid=12925, ip=192.168.8.55)\u001b[0m CIFAR10 Training label shape (50000, 1)\n",
      "\u001b[2m\u001b[36m(pid=12925, ip=192.168.8.55)\u001b[0m CIFAR10 Test data shape (10000, 32, 32, 3)\n",
      "\u001b[2m\u001b[36m(pid=12925, ip=192.168.8.55)\u001b[0m CIFAR10 Test label shape (10000, 1)\n"
     ]
    },
    {
     "name": "stderr",
     "output_type": "stream",
     "text": [
      "\u001b[2m\u001b[36m(pid=12925, ip=192.168.8.55)\u001b[0m WARNING:tensorflow:From /home/reminiz/ReminizML2/python_env/lib/python3.7/site-packages/tensorflow/python/data/ops/dataset_ops.py:429: py_func (from tensorflow.python.ops.script_ops) is deprecated and will be removed in a future version.\n",
      "\u001b[2m\u001b[36m(pid=12925, ip=192.168.8.55)\u001b[0m Instructions for updating:\n",
      "\u001b[2m\u001b[36m(pid=12925, ip=192.168.8.55)\u001b[0m tf.py_func is deprecated in TF V2. Instead, use\n",
      "\u001b[2m\u001b[36m(pid=12925, ip=192.168.8.55)\u001b[0m     tf.py_function, which takes a python function which manipulates tf eager\n",
      "\u001b[2m\u001b[36m(pid=12925, ip=192.168.8.55)\u001b[0m     tensors instead of numpy arrays. It's easy to convert a tf eager tensor to\n",
      "\u001b[2m\u001b[36m(pid=12925, ip=192.168.8.55)\u001b[0m     an ndarray (just call tensor.numpy()) but having access to eager tensors\n",
      "\u001b[2m\u001b[36m(pid=12925, ip=192.168.8.55)\u001b[0m     means `tf.py_function`s can use accelerators such as GPUs as well as\n",
      "\u001b[2m\u001b[36m(pid=12925, ip=192.168.8.55)\u001b[0m     being differentiable using a gradient tape.\n",
      "\u001b[2m\u001b[36m(pid=12925, ip=192.168.8.55)\u001b[0m     \n",
      "\u001b[2m\u001b[36m(pid=12925, ip=192.168.8.55)\u001b[0m WARNING:tensorflow:From /home/reminiz/ReminizML2/python_env/lib/python3.7/site-packages/tensorflow/python/ops/resource_variable_ops.py:435: colocate_with (from tensorflow.python.framework.ops) is deprecated and will be removed in a future version.\n",
      "\u001b[2m\u001b[36m(pid=12925, ip=192.168.8.55)\u001b[0m Instructions for updating:\n",
      "\u001b[2m\u001b[36m(pid=12925, ip=192.168.8.55)\u001b[0m Colocations handled automatically by placer.\n"
     ]
    },
    {
     "name": "stdout",
     "output_type": "stream",
     "text": [
      "\u001b[2m\u001b[36m(pid=13443, ip=192.168.8.54)\u001b[0m \u001b[6;30;42mAL_Train_6\u001b[0m Epoch: 78 / 201 || Time: 2020-12-04 15:08:45 || Accuracy: 98.98 || MAE LossNet: 0.53 || \n"
     ]
    },
    {
     "name": "stderr",
     "output_type": "stream",
     "text": [
      "\u001b[2m\u001b[36m(pid=12925, ip=192.168.8.55)\u001b[0m 2020-12-04 15:08:45.621987: I tensorflow/core/platform/cpu_feature_guard.cc:141] Your CPU supports instructions that this TensorFlow binary was not compiled to use: AVX2 FMA\n",
      "\u001b[2m\u001b[36m(pid=12925, ip=192.168.8.55)\u001b[0m 2020-12-04 15:08:45.644273: I tensorflow/core/platform/profile_utils/cpu_utils.cc:94] CPU Frequency: 3599935000 Hz\n",
      "\u001b[2m\u001b[36m(pid=12925, ip=192.168.8.55)\u001b[0m 2020-12-04 15:08:45.644959: I tensorflow/compiler/xla/service/service.cc:150] XLA service 0x6ae2000 executing computations on platform Host. Devices:\n",
      "\u001b[2m\u001b[36m(pid=12925, ip=192.168.8.55)\u001b[0m 2020-12-04 15:08:45.644999: I tensorflow/compiler/xla/service/service.cc:158]   StreamExecutor device (0): <undefined>, <undefined>\n",
      "\u001b[2m\u001b[36m(pid=12925, ip=192.168.8.55)\u001b[0m 2020-12-04 15:08:45.736612: I tensorflow/compiler/xla/service/service.cc:150] XLA service 0x6ae7680 executing computations on platform CUDA. Devices:\n",
      "\u001b[2m\u001b[36m(pid=12925, ip=192.168.8.55)\u001b[0m 2020-12-04 15:08:45.736651: I tensorflow/compiler/xla/service/service.cc:158]   StreamExecutor device (0): GeForce GTX 1080 Ti, Compute Capability 6.1\n",
      "\u001b[2m\u001b[36m(pid=12925, ip=192.168.8.55)\u001b[0m 2020-12-04 15:08:45.736802: I tensorflow/core/common_runtime/gpu/gpu_device.cc:1433] Found device 0 with properties: \n",
      "\u001b[2m\u001b[36m(pid=12925, ip=192.168.8.55)\u001b[0m name: GeForce GTX 1080 Ti major: 6 minor: 1 memoryClockRate(GHz): 1.62\n",
      "\u001b[2m\u001b[36m(pid=12925, ip=192.168.8.55)\u001b[0m pciBusID: 0000:4c:00.0\n",
      "\u001b[2m\u001b[36m(pid=12925, ip=192.168.8.55)\u001b[0m totalMemory: 10.91GiB freeMemory: 10.77GiB\n",
      "\u001b[2m\u001b[36m(pid=12925, ip=192.168.8.55)\u001b[0m 2020-12-04 15:08:45.736821: I tensorflow/core/common_runtime/gpu/gpu_device.cc:1512] Adding visible gpu devices: 0\n",
      "\u001b[2m\u001b[36m(pid=12925, ip=192.168.8.55)\u001b[0m 2020-12-04 15:08:45.738313: I tensorflow/core/common_runtime/gpu/gpu_device.cc:984] Device interconnect StreamExecutor with strength 1 edge matrix:\n",
      "\u001b[2m\u001b[36m(pid=12925, ip=192.168.8.55)\u001b[0m 2020-12-04 15:08:45.738329: I tensorflow/core/common_runtime/gpu/gpu_device.cc:990]      0 \n",
      "\u001b[2m\u001b[36m(pid=12925, ip=192.168.8.55)\u001b[0m 2020-12-04 15:08:45.738336: I tensorflow/core/common_runtime/gpu/gpu_device.cc:1003] 0:   N \n",
      "\u001b[2m\u001b[36m(pid=12925, ip=192.168.8.55)\u001b[0m 2020-12-04 15:08:45.738410: I tensorflow/core/common_runtime/gpu/gpu_device.cc:1115] Created TensorFlow device (/job:localhost/replica:0/task:0/device:GPU:0 with 10479 MB memory) -> physical GPU (device: 0, name: GeForce GTX 1080 Ti, pci bus id: 0000:4c:00.0, compute capability: 6.1)\n",
      "\u001b[2m\u001b[36m(pid=12925, ip=192.168.8.55)\u001b[0m WARNING:tensorflow:From /home/reminiz/ReminizML2/python_env/lib/python3.7/site-packages/tensorflow/python/training/saver.py:1266: checkpoint_exists (from tensorflow.python.training.checkpoint_management) is deprecated and will be removed in a future version.\n",
      "\u001b[2m\u001b[36m(pid=12925, ip=192.168.8.55)\u001b[0m Instructions for updating:\n",
      "\u001b[2m\u001b[36m(pid=12925, ip=192.168.8.55)\u001b[0m Use standard file APIs to check for files with this prefix.\n"
     ]
    },
    {
     "name": "stdout",
     "output_type": "stream",
     "text": [
      "\u001b[2m\u001b[36m(pid=12925, ip=192.168.8.55)\u001b[0m \u001b[6;30;42mAL_Test_6\u001b[0m Restoring from /mnt/Ressources/Andres/Temp_active/runs/Active_Learning_v0/Stage_6/checkpoint/epoch75.ckpt-75\n",
      "\u001b[2m\u001b[36m(pid=13443, ip=192.168.8.54)\u001b[0m \u001b[6;30;42mAL_Train_6\u001b[0m Epoch: 79 / 201 || Time: 2020-12-04 15:08:46 || Accuracy: 99.49 || MAE LossNet: 0.48 || \n"
     ]
    },
    {
     "name": "stderr",
     "output_type": "stream",
     "text": [
      "\u001b[2m\u001b[36m(pid=12925, ip=192.168.8.55)\u001b[0m 2020-12-04 15:08:47.143496: I tensorflow/stream_executor/dso_loader.cc:152] successfully opened CUDA library libcublas.so.10.0 locally\n"
     ]
    },
    {
     "name": "stdout",
     "output_type": "stream",
     "text": [
      "\u001b[2m\u001b[36m(pid=13443, ip=192.168.8.54)\u001b[0m \u001b[6;30;42mAL_Train_6\u001b[0m Epoch: 80 / 201 || Time: 2020-12-04 15:08:48 || Accuracy: 99.49 || MAE LossNet: 0.48 || \n",
      "\u001b[2m\u001b[36m(pid=12925, ip=192.168.8.55)\u001b[0m \u001b[6;30;42mAL_Test_6\u001b[0m Test || Epoch: 75 || Accuracy: 65.62 || \n"
     ]
    },
    {
     "name": "stderr",
     "output_type": "stream",
     "text": [
      "\u001b[2m\u001b[36m(pid=12925, ip=192.168.8.55)\u001b[0m \n",
      "\u001b[2m\u001b[36m(pid=12925, ip=192.168.8.55)\u001b[0m wandb: Waiting for W&B process to finish, PID 12951\n",
      "\u001b[2m\u001b[36m(pid=12925, ip=192.168.8.55)\u001b[0m wandb: Program ended successfully.\n",
      "\u001b[2m\u001b[36m(pid=5317, ip=192.168.8.53)\u001b[0m /home/reminiz/ReminizML2/python_env/lib/python3.7/site-packages/tensorflow/python/framework/dtypes.py:526: FutureWarning: Passing (type, 1) or '1type' as a synonym of type is deprecated; in a future version of numpy, it will be understood as (type, (1,)) / '(1,)type'.\n",
      "\u001b[2m\u001b[36m(pid=5317, ip=192.168.8.53)\u001b[0m   _np_qint8 = np.dtype([(\"qint8\", np.int8, 1)])\n",
      "\u001b[2m\u001b[36m(pid=5317, ip=192.168.8.53)\u001b[0m /home/reminiz/ReminizML2/python_env/lib/python3.7/site-packages/tensorflow/python/framework/dtypes.py:527: FutureWarning: Passing (type, 1) or '1type' as a synonym of type is deprecated; in a future version of numpy, it will be understood as (type, (1,)) / '(1,)type'.\n",
      "\u001b[2m\u001b[36m(pid=5317, ip=192.168.8.53)\u001b[0m   _np_quint8 = np.dtype([(\"quint8\", np.uint8, 1)])\n",
      "\u001b[2m\u001b[36m(pid=5317, ip=192.168.8.53)\u001b[0m /home/reminiz/ReminizML2/python_env/lib/python3.7/site-packages/tensorflow/python/framework/dtypes.py:528: FutureWarning: Passing (type, 1) or '1type' as a synonym of type is deprecated; in a future version of numpy, it will be understood as (type, (1,)) / '(1,)type'.\n",
      "\u001b[2m\u001b[36m(pid=5317, ip=192.168.8.53)\u001b[0m   _np_qint16 = np.dtype([(\"qint16\", np.int16, 1)])\n",
      "\u001b[2m\u001b[36m(pid=5317, ip=192.168.8.53)\u001b[0m /home/reminiz/ReminizML2/python_env/lib/python3.7/site-packages/tensorflow/python/framework/dtypes.py:529: FutureWarning: Passing (type, 1) or '1type' as a synonym of type is deprecated; in a future version of numpy, it will be understood as (type, (1,)) / '(1,)type'.\n",
      "\u001b[2m\u001b[36m(pid=5317, ip=192.168.8.53)\u001b[0m   _np_quint16 = np.dtype([(\"quint16\", np.uint16, 1)])\n",
      "\u001b[2m\u001b[36m(pid=5317, ip=192.168.8.53)\u001b[0m /home/reminiz/ReminizML2/python_env/lib/python3.7/site-packages/tensorflow/python/framework/dtypes.py:530: FutureWarning: Passing (type, 1) or '1type' as a synonym of type is deprecated; in a future version of numpy, it will be understood as (type, (1,)) / '(1,)type'.\n",
      "\u001b[2m\u001b[36m(pid=5317, ip=192.168.8.53)\u001b[0m   _np_qint32 = np.dtype([(\"qint32\", np.int32, 1)])\n",
      "\u001b[2m\u001b[36m(pid=5317, ip=192.168.8.53)\u001b[0m /home/reminiz/ReminizML2/python_env/lib/python3.7/site-packages/tensorflow/python/framework/dtypes.py:535: FutureWarning: Passing (type, 1) or '1type' as a synonym of type is deprecated; in a future version of numpy, it will be understood as (type, (1,)) / '(1,)type'.\n",
      "\u001b[2m\u001b[36m(pid=5317, ip=192.168.8.53)\u001b[0m   np_resource = np.dtype([(\"resource\", np.ubyte, 1)])\n",
      "\u001b[2m\u001b[36m(pid=12925, ip=192.168.8.55)\u001b[0m wandb: Run summary:\n",
      "\u001b[2m\u001b[36m(pid=12925, ip=192.168.8.55)\u001b[0m wandb:                                     _step 75\n",
      "\u001b[2m\u001b[36m(pid=12925, ip=192.168.8.55)\u001b[0m wandb:                                  F1 score 0.6552414142644796\n",
      "\u001b[2m\u001b[36m(pid=12925, ip=192.168.8.55)\u001b[0m wandb:                                  _runtime 122.63270401954651\n",
      "\u001b[2m\u001b[36m(pid=12925, ip=192.168.8.55)\u001b[0m wandb:                                _timestamp 1607090930.6931043\n",
      "\u001b[2m\u001b[36m(pid=12925, ip=192.168.8.55)\u001b[0m wandb:                     Explained variance v1 -0.07064604759216309\n",
      "\u001b[2m\u001b[36m(pid=12925, ip=192.168.8.55)\u001b[0m wandb:                     Explained variance v2 -0.041733622550964355\n",
      "\u001b[2m\u001b[36m(pid=12925, ip=192.168.8.55)\u001b[0m wandb:                     Mean squared error v1 16.04521942138672\n",
      "\u001b[2m\u001b[36m(pid=12925, ip=192.168.8.55)\u001b[0m wandb:                     Mean squared error v2 26.63824462890625\n",
      "\u001b[2m\u001b[36m(pid=12925, ip=192.168.8.55)\u001b[0m wandb:                    Mean absolute error v1 2.481905460357666\n",
      "\u001b[2m\u001b[36m(pid=12925, ip=192.168.8.55)\u001b[0m wandb:                    Mean absolute error v2 3.527606248855591\n",
      "\u001b[2m\u001b[36m(pid=12925, ip=192.168.8.55)\u001b[0m wandb:                Area Under the Curve (AUC) 0.7796114973673054\n",
      "\u001b[2m\u001b[36m(pid=12925, ip=192.168.8.55)\u001b[0m wandb:             Test: Classification Accuracy 0.6562\n",
      "\u001b[2m\u001b[36m(pid=12925, ip=192.168.8.55)\u001b[0m wandb: Syncing files in ../../../Trainings/wandb/wandb/run-20201204_140842-32tlp2kp:\n",
      "\u001b[2m\u001b[36m(pid=12925, ip=192.168.8.55)\u001b[0m wandb:   code/default_worker.py\n",
      "\u001b[2m\u001b[36m(pid=12925, ip=192.168.8.55)\u001b[0m wandb: plus 8 W&B file(s) and 2 media file(s)\n",
      "\u001b[2m\u001b[36m(pid=12925, ip=192.168.8.55)\u001b[0m wandb: - 0.09MB of 0.09MB uploaded\n",
      "\u001b[2m\u001b[36m(pid=12925, ip=192.168.8.55)\u001b[0m wandb: \\ 0.09MB of 0.09MB uploaded\n",
      "\u001b[2m\u001b[36m(pid=12925, ip=192.168.8.55)\u001b[0m wandb: | 0.09MB of 0.09MB uploaded\n",
      "\u001b[2m\u001b[36m(pid=12925, ip=192.168.8.55)\u001b[0m wandb: / 0.09MB of 0.09MB uploaded\n",
      "wandb:                                                                                \n",
      "\u001b[2m\u001b[36m(pid=12925, ip=192.168.8.55)\u001b[0m wandb: Synced AL_Test_6: http://192.168.8.51:8080/reminiz/Active_Learning_CIFAR/runs/32tlp2kp\n"
     ]
    },
    {
     "name": "stdout",
     "output_type": "stream",
     "text": [
      "\u001b[2m\u001b[36m(pid=13443, ip=192.168.8.54)\u001b[0m \u001b[6;30;42mAL_Train_6\u001b[0m Epoch: 81 / 201 || Time: 2020-12-04 15:08:53 || Accuracy: 98.88 || MAE LossNet: 0.48 || \n"
     ]
    },
    {
     "name": "stderr",
     "output_type": "stream",
     "text": [
      "\u001b[2m\u001b[36m(pid=5317, ip=192.168.8.53)\u001b[0m wandb: Tracking run with wandb version 0.8.36\n",
      "\u001b[2m\u001b[36m(pid=5317, ip=192.168.8.53)\u001b[0m wandb: Wandb version 0.10.12 is available!  To upgrade, please run:\n",
      "\u001b[2m\u001b[36m(pid=5317, ip=192.168.8.53)\u001b[0m wandb:  $ pip install wandb --upgrade\n",
      "\u001b[2m\u001b[36m(pid=5317, ip=192.168.8.53)\u001b[0m wandb: Run data is saved locally in ../../../Trainings/wandb/wandb/run-20201204_140853-32tlp2kp\n",
      "\u001b[2m\u001b[36m(pid=5317, ip=192.168.8.53)\u001b[0m wandb: Syncing run AL_Test_6\n",
      "\u001b[2m\u001b[36m(pid=5317, ip=192.168.8.53)\u001b[0m wandb: ⭐️ View project at http://192.168.8.51:8080/reminiz/Active_Learning_CIFAR\n",
      "\u001b[2m\u001b[36m(pid=5317, ip=192.168.8.53)\u001b[0m wandb: 🚀 View run at http://192.168.8.51:8080/reminiz/Active_Learning_CIFAR/runs/32tlp2kp\n",
      "\u001b[2m\u001b[36m(pid=5317, ip=192.168.8.53)\u001b[0m wandb: Run `wandb off` to turn off syncing.\n",
      "\u001b[2m\u001b[36m(pid=5317, ip=192.168.8.53)\u001b[0m \n"
     ]
    },
    {
     "name": "stdout",
     "output_type": "stream",
     "text": [
      "\u001b[2m\u001b[36m(pid=5317, ip=192.168.8.53)\u001b[0m CIFAR10 Training data shape: (50000, 32, 32, 3)\n",
      "\u001b[2m\u001b[36m(pid=5317, ip=192.168.8.53)\u001b[0m CIFAR10 Training label shape (50000, 1)\n",
      "\u001b[2m\u001b[36m(pid=5317, ip=192.168.8.53)\u001b[0m CIFAR10 Test data shape (10000, 32, 32, 3)\n",
      "\u001b[2m\u001b[36m(pid=5317, ip=192.168.8.53)\u001b[0m CIFAR10 Test label shape (10000, 1)\n",
      "\u001b[2m\u001b[36m(pid=13443, ip=192.168.8.54)\u001b[0m \u001b[6;30;42mAL_Train_6\u001b[0m Epoch: 82 / 201 || Time: 2020-12-04 15:08:54 || Accuracy: 99.17 || MAE LossNet: 0.47 || \n"
     ]
    },
    {
     "name": "stderr",
     "output_type": "stream",
     "text": [
      "\u001b[2m\u001b[36m(pid=5317, ip=192.168.8.53)\u001b[0m WARNING:tensorflow:From /home/reminiz/ReminizML2/python_env/lib/python3.7/site-packages/tensorflow/python/data/ops/dataset_ops.py:429: py_func (from tensorflow.python.ops.script_ops) is deprecated and will be removed in a future version.\n",
      "\u001b[2m\u001b[36m(pid=5317, ip=192.168.8.53)\u001b[0m Instructions for updating:\n",
      "\u001b[2m\u001b[36m(pid=5317, ip=192.168.8.53)\u001b[0m tf.py_func is deprecated in TF V2. Instead, use\n",
      "\u001b[2m\u001b[36m(pid=5317, ip=192.168.8.53)\u001b[0m     tf.py_function, which takes a python function which manipulates tf eager\n",
      "\u001b[2m\u001b[36m(pid=5317, ip=192.168.8.53)\u001b[0m     tensors instead of numpy arrays. It's easy to convert a tf eager tensor to\n",
      "\u001b[2m\u001b[36m(pid=5317, ip=192.168.8.53)\u001b[0m     an ndarray (just call tensor.numpy()) but having access to eager tensors\n",
      "\u001b[2m\u001b[36m(pid=5317, ip=192.168.8.53)\u001b[0m     means `tf.py_function`s can use accelerators such as GPUs as well as\n",
      "\u001b[2m\u001b[36m(pid=5317, ip=192.168.8.53)\u001b[0m     being differentiable using a gradient tape.\n",
      "\u001b[2m\u001b[36m(pid=5317, ip=192.168.8.53)\u001b[0m     \n",
      "\u001b[2m\u001b[36m(pid=5317, ip=192.168.8.53)\u001b[0m WARNING:tensorflow:From /home/reminiz/ReminizML2/python_env/lib/python3.7/site-packages/tensorflow/python/ops/resource_variable_ops.py:435: colocate_with (from tensorflow.python.framework.ops) is deprecated and will be removed in a future version.\n",
      "\u001b[2m\u001b[36m(pid=5317, ip=192.168.8.53)\u001b[0m Instructions for updating:\n",
      "\u001b[2m\u001b[36m(pid=5317, ip=192.168.8.53)\u001b[0m Colocations handled automatically by placer.\n"
     ]
    },
    {
     "name": "stdout",
     "output_type": "stream",
     "text": [
      "\u001b[2m\u001b[36m(pid=13443, ip=192.168.8.54)\u001b[0m \u001b[6;30;42mAL_Train_6\u001b[0m Epoch: 83 / 201 || Time: 2020-12-04 15:08:56 || Accuracy: 99.20 || MAE LossNet: 0.48 || \n"
     ]
    },
    {
     "name": "stderr",
     "output_type": "stream",
     "text": [
      "\u001b[2m\u001b[36m(pid=5317, ip=192.168.8.53)\u001b[0m 2020-12-04 15:08:56.814723: I tensorflow/core/platform/cpu_feature_guard.cc:141] Your CPU supports instructions that this TensorFlow binary was not compiled to use: AVX2 FMA\n",
      "\u001b[2m\u001b[36m(pid=5317, ip=192.168.8.53)\u001b[0m 2020-12-04 15:08:56.837144: I tensorflow/core/platform/profile_utils/cpu_utils.cc:94] CPU Frequency: 3499950000 Hz\n",
      "\u001b[2m\u001b[36m(pid=5317, ip=192.168.8.53)\u001b[0m 2020-12-04 15:08:56.837765: I tensorflow/compiler/xla/service/service.cc:150] XLA service 0x55601c73b150 executing computations on platform Host. Devices:\n",
      "\u001b[2m\u001b[36m(pid=5317, ip=192.168.8.53)\u001b[0m 2020-12-04 15:08:56.837793: I tensorflow/compiler/xla/service/service.cc:158]   StreamExecutor device (0): <undefined>, <undefined>\n",
      "\u001b[2m\u001b[36m(pid=5317, ip=192.168.8.53)\u001b[0m 2020-12-04 15:08:56.951132: I tensorflow/compiler/xla/service/service.cc:150] XLA service 0x55601c6921a0 executing computations on platform CUDA. Devices:\n",
      "\u001b[2m\u001b[36m(pid=5317, ip=192.168.8.53)\u001b[0m 2020-12-04 15:08:56.951172: I tensorflow/compiler/xla/service/service.cc:158]   StreamExecutor device (0): GeForce GTX TITAN X, Compute Capability 5.2\n",
      "\u001b[2m\u001b[36m(pid=5317, ip=192.168.8.53)\u001b[0m 2020-12-04 15:08:56.951360: I tensorflow/core/common_runtime/gpu/gpu_device.cc:1433] Found device 0 with properties: \n",
      "\u001b[2m\u001b[36m(pid=5317, ip=192.168.8.53)\u001b[0m name: GeForce GTX TITAN X major: 5 minor: 2 memoryClockRate(GHz): 1.266\n",
      "\u001b[2m\u001b[36m(pid=5317, ip=192.168.8.53)\u001b[0m pciBusID: 0000:03:00.0\n",
      "\u001b[2m\u001b[36m(pid=5317, ip=192.168.8.53)\u001b[0m totalMemory: 11.92GiB freeMemory: 11.78GiB\n",
      "\u001b[2m\u001b[36m(pid=5317, ip=192.168.8.53)\u001b[0m 2020-12-04 15:08:56.951387: I tensorflow/core/common_runtime/gpu/gpu_device.cc:1512] Adding visible gpu devices: 0\n",
      "\u001b[2m\u001b[36m(pid=5317, ip=192.168.8.53)\u001b[0m 2020-12-04 15:08:56.953404: I tensorflow/core/common_runtime/gpu/gpu_device.cc:984] Device interconnect StreamExecutor with strength 1 edge matrix:\n",
      "\u001b[2m\u001b[36m(pid=5317, ip=192.168.8.53)\u001b[0m 2020-12-04 15:08:56.953430: I tensorflow/core/common_runtime/gpu/gpu_device.cc:990]      0 \n",
      "\u001b[2m\u001b[36m(pid=5317, ip=192.168.8.53)\u001b[0m 2020-12-04 15:08:56.953440: I tensorflow/core/common_runtime/gpu/gpu_device.cc:1003] 0:   N \n",
      "\u001b[2m\u001b[36m(pid=5317, ip=192.168.8.53)\u001b[0m 2020-12-04 15:08:56.953567: I tensorflow/core/common_runtime/gpu/gpu_device.cc:1115] Created TensorFlow device (/job:localhost/replica:0/task:0/device:GPU:0 with 11462 MB memory) -> physical GPU (device: 0, name: GeForce GTX TITAN X, pci bus id: 0000:03:00.0, compute capability: 5.2)\n",
      "\u001b[2m\u001b[36m(pid=5317, ip=192.168.8.53)\u001b[0m WARNING:tensorflow:From /home/reminiz/ReminizML2/python_env/lib/python3.7/site-packages/tensorflow/python/training/saver.py:1266: checkpoint_exists (from tensorflow.python.training.checkpoint_management) is deprecated and will be removed in a future version.\n",
      "\u001b[2m\u001b[36m(pid=5317, ip=192.168.8.53)\u001b[0m Instructions for updating:\n",
      "\u001b[2m\u001b[36m(pid=5317, ip=192.168.8.53)\u001b[0m Use standard file APIs to check for files with this prefix.\n"
     ]
    },
    {
     "name": "stdout",
     "output_type": "stream",
     "text": [
      "\u001b[2m\u001b[36m(pid=5317, ip=192.168.8.53)\u001b[0m \u001b[6;30;42mAL_Test_6\u001b[0m Restoring from /mnt/Ressources/Andres/Temp_active/runs/Active_Learning_v0/Stage_6/checkpoint/epoch80.ckpt-80\n",
      "\u001b[2m\u001b[36m(pid=13443, ip=192.168.8.54)\u001b[0m \u001b[6;30;42mAL_Train_6\u001b[0m Epoch: 84 / 201 || Time: 2020-12-04 15:08:58 || Accuracy: 99.49 || MAE LossNet: 0.50 || \n"
     ]
    },
    {
     "name": "stderr",
     "output_type": "stream",
     "text": [
      "\u001b[2m\u001b[36m(pid=5317, ip=192.168.8.53)\u001b[0m 2020-12-04 15:08:58.399424: I tensorflow/stream_executor/dso_loader.cc:152] successfully opened CUDA library libcublas.so.10.0 locally\n"
     ]
    },
    {
     "name": "stdout",
     "output_type": "stream",
     "text": [
      "\u001b[2m\u001b[36m(pid=13443, ip=192.168.8.54)\u001b[0m \u001b[6;30;42mAL_Train_6\u001b[0m Epoch: 85 / 201 || Time: 2020-12-04 15:08:59 || Accuracy: 99.22 || MAE LossNet: 0.48 || \n",
      "\u001b[2m\u001b[36m(pid=5317, ip=192.168.8.53)\u001b[0m \u001b[6;30;42mAL_Test_6\u001b[0m Test || Epoch: 80 || Accuracy: 65.89 || \n"
     ]
    },
    {
     "name": "stderr",
     "output_type": "stream",
     "text": [
      "\u001b[2m\u001b[36m(pid=5317, ip=192.168.8.53)\u001b[0m \n",
      "\u001b[2m\u001b[36m(pid=5317, ip=192.168.8.53)\u001b[0m wandb: Waiting for W&B process to finish, PID 16695\n",
      "\u001b[2m\u001b[36m(pid=5317, ip=192.168.8.53)\u001b[0m wandb: Program ended successfully.\n",
      "\u001b[2m\u001b[36m(pid=13094, ip=192.168.8.55)\u001b[0m /home/reminiz/ReminizML2/python_env/lib/python3.7/site-packages/tensorflow/python/framework/dtypes.py:526: FutureWarning: Passing (type, 1) or '1type' as a synonym of type is deprecated; in a future version of numpy, it will be understood as (type, (1,)) / '(1,)type'.\n",
      "\u001b[2m\u001b[36m(pid=13094, ip=192.168.8.55)\u001b[0m   _np_qint8 = np.dtype([(\"qint8\", np.int8, 1)])\n",
      "\u001b[2m\u001b[36m(pid=13094, ip=192.168.8.55)\u001b[0m /home/reminiz/ReminizML2/python_env/lib/python3.7/site-packages/tensorflow/python/framework/dtypes.py:527: FutureWarning: Passing (type, 1) or '1type' as a synonym of type is deprecated; in a future version of numpy, it will be understood as (type, (1,)) / '(1,)type'.\n",
      "\u001b[2m\u001b[36m(pid=13094, ip=192.168.8.55)\u001b[0m   _np_quint8 = np.dtype([(\"quint8\", np.uint8, 1)])\n",
      "\u001b[2m\u001b[36m(pid=13094, ip=192.168.8.55)\u001b[0m /home/reminiz/ReminizML2/python_env/lib/python3.7/site-packages/tensorflow/python/framework/dtypes.py:528: FutureWarning: Passing (type, 1) or '1type' as a synonym of type is deprecated; in a future version of numpy, it will be understood as (type, (1,)) / '(1,)type'.\n",
      "\u001b[2m\u001b[36m(pid=13094, ip=192.168.8.55)\u001b[0m   _np_qint16 = np.dtype([(\"qint16\", np.int16, 1)])\n",
      "\u001b[2m\u001b[36m(pid=13094, ip=192.168.8.55)\u001b[0m /home/reminiz/ReminizML2/python_env/lib/python3.7/site-packages/tensorflow/python/framework/dtypes.py:529: FutureWarning: Passing (type, 1) or '1type' as a synonym of type is deprecated; in a future version of numpy, it will be understood as (type, (1,)) / '(1,)type'.\n",
      "\u001b[2m\u001b[36m(pid=13094, ip=192.168.8.55)\u001b[0m   _np_quint16 = np.dtype([(\"quint16\", np.uint16, 1)])\n",
      "\u001b[2m\u001b[36m(pid=13094, ip=192.168.8.55)\u001b[0m /home/reminiz/ReminizML2/python_env/lib/python3.7/site-packages/tensorflow/python/framework/dtypes.py:530: FutureWarning: Passing (type, 1) or '1type' as a synonym of type is deprecated; in a future version of numpy, it will be understood as (type, (1,)) / '(1,)type'.\n",
      "\u001b[2m\u001b[36m(pid=13094, ip=192.168.8.55)\u001b[0m   _np_qint32 = np.dtype([(\"qint32\", np.int32, 1)])\n",
      "\u001b[2m\u001b[36m(pid=13094, ip=192.168.8.55)\u001b[0m /home/reminiz/ReminizML2/python_env/lib/python3.7/site-packages/tensorflow/python/framework/dtypes.py:535: FutureWarning: Passing (type, 1) or '1type' as a synonym of type is deprecated; in a future version of numpy, it will be understood as (type, (1,)) / '(1,)type'.\n",
      "\u001b[2m\u001b[36m(pid=13094, ip=192.168.8.55)\u001b[0m   np_resource = np.dtype([(\"resource\", np.ubyte, 1)])\n",
      "\u001b[2m\u001b[36m(pid=5317, ip=192.168.8.53)\u001b[0m wandb: Run summary:\n",
      "\u001b[2m\u001b[36m(pid=5317, ip=192.168.8.53)\u001b[0m wandb:                                     _step 80\n",
      "\u001b[2m\u001b[36m(pid=5317, ip=192.168.8.53)\u001b[0m wandb:                                  F1 score 0.6579212121731934\n",
      "\u001b[2m\u001b[36m(pid=5317, ip=192.168.8.53)\u001b[0m wandb:                                  _runtime 131.88847494125366\n",
      "\u001b[2m\u001b[36m(pid=5317, ip=192.168.8.53)\u001b[0m wandb:                                _timestamp 1607090942.693335\n",
      "\u001b[2m\u001b[36m(pid=5317, ip=192.168.8.53)\u001b[0m wandb:                     Explained variance v1 -0.061286091804504395\n",
      "\u001b[2m\u001b[36m(pid=5317, ip=192.168.8.53)\u001b[0m wandb:                     Explained variance v2 -0.03392815589904785\n",
      "\u001b[2m\u001b[36m(pid=5317, ip=192.168.8.53)\u001b[0m wandb:                     Mean squared error v1 16.56503677368164\n",
      "\u001b[2m\u001b[36m(pid=5317, ip=192.168.8.53)\u001b[0m wandb:                     Mean squared error v2 26.734159469604492\n",
      "\u001b[2m\u001b[36m(pid=5317, ip=192.168.8.53)\u001b[0m wandb:                    Mean absolute error v1 2.4849090576171875\n",
      "\u001b[2m\u001b[36m(pid=5317, ip=192.168.8.53)\u001b[0m wandb:                    Mean absolute error v2 3.497981548309326\n",
      "\u001b[2m\u001b[36m(pid=5317, ip=192.168.8.53)\u001b[0m wandb:                Area Under the Curve (AUC) 0.7791167942057067\n",
      "\u001b[2m\u001b[36m(pid=5317, ip=192.168.8.53)\u001b[0m wandb:             Test: Classification Accuracy 0.6589\n",
      "\u001b[2m\u001b[36m(pid=5317, ip=192.168.8.53)\u001b[0m wandb: Syncing files in ../../../Trainings/wandb/wandb/run-20201204_140853-32tlp2kp:\n",
      "\u001b[2m\u001b[36m(pid=5317, ip=192.168.8.53)\u001b[0m wandb:   code/default_worker.py\n",
      "\u001b[2m\u001b[36m(pid=5317, ip=192.168.8.53)\u001b[0m wandb: plus 8 W&B file(s) and 2 media file(s)\n",
      "\u001b[2m\u001b[36m(pid=5317, ip=192.168.8.53)\u001b[0m wandb: - 0.07MB of 0.12MB uploaded\n",
      "\u001b[2m\u001b[36m(pid=5317, ip=192.168.8.53)\u001b[0m wandb: \\ 0.12MB of 0.12MB uploaded\n"
     ]
    },
    {
     "name": "stdout",
     "output_type": "stream",
     "text": [
      "\u001b[2m\u001b[36m(pid=13443, ip=192.168.8.54)\u001b[0m \u001b[6;30;42mAL_Train_6\u001b[0m Epoch: 86 / 201 || Time: 2020-12-04 15:09:04 || Accuracy: 99.22 || MAE LossNet: 0.47 || \n"
     ]
    },
    {
     "name": "stderr",
     "output_type": "stream",
     "text": [
      "\u001b[2m\u001b[36m(pid=5317, ip=192.168.8.53)\u001b[0m wandb: | 0.12MB of 0.12MB uploaded\n",
      "\u001b[2m\u001b[36m(pid=5317, ip=192.168.8.53)\u001b[0m wandb: / 0.12MB of 0.12MB uploaded\n",
      "\u001b[2m\u001b[36m(pid=5317, ip=192.168.8.53)\u001b[0m wandb: - 0.12MB of 0.12MB uploaded\n",
      "\u001b[2m\u001b[36m(pid=13094, ip=192.168.8.55)\u001b[0m wandb: Tracking run with wandb version 0.8.36\n",
      "wandb:                                                                                \n",
      "\u001b[2m\u001b[36m(pid=5317, ip=192.168.8.53)\u001b[0m wandb: Synced AL_Test_6: http://192.168.8.51:8080/reminiz/Active_Learning_CIFAR/runs/32tlp2kp\n",
      "\u001b[2m\u001b[36m(pid=13094, ip=192.168.8.55)\u001b[0m wandb: Wandb version 0.10.12 is available!  To upgrade, please run:\n",
      "\u001b[2m\u001b[36m(pid=13094, ip=192.168.8.55)\u001b[0m wandb:  $ pip install wandb --upgrade\n",
      "\u001b[2m\u001b[36m(pid=13094, ip=192.168.8.55)\u001b[0m wandb: Run data is saved locally in ../../../Trainings/wandb/wandb/run-20201204_140905-32tlp2kp\n",
      "\u001b[2m\u001b[36m(pid=13094, ip=192.168.8.55)\u001b[0m wandb: Syncing run AL_Test_6\n",
      "\u001b[2m\u001b[36m(pid=13094, ip=192.168.8.55)\u001b[0m wandb: ⭐️ View project at http://192.168.8.51:8080/reminiz/Active_Learning_CIFAR\n",
      "\u001b[2m\u001b[36m(pid=13094, ip=192.168.8.55)\u001b[0m wandb: 🚀 View run at http://192.168.8.51:8080/reminiz/Active_Learning_CIFAR/runs/32tlp2kp\n",
      "\u001b[2m\u001b[36m(pid=13094, ip=192.168.8.55)\u001b[0m wandb: Run `wandb off` to turn off syncing.\n"
     ]
    },
    {
     "name": "stdout",
     "output_type": "stream",
     "text": [
      "\u001b[2m\u001b[36m(pid=13443, ip=192.168.8.54)\u001b[0m \u001b[6;30;42mAL_Train_6\u001b[0m Epoch: 87 / 201 || Time: 2020-12-04 15:09:06 || Accuracy: 99.12 || MAE LossNet: 0.52 || \n"
     ]
    },
    {
     "name": "stderr",
     "output_type": "stream",
     "text": [
      "\u001b[2m\u001b[36m(pid=13094, ip=192.168.8.55)\u001b[0m \n"
     ]
    },
    {
     "name": "stdout",
     "output_type": "stream",
     "text": [
      "\u001b[2m\u001b[36m(pid=13094, ip=192.168.8.55)\u001b[0m CIFAR10 Training data shape: (50000, 32, 32, 3)\n",
      "\u001b[2m\u001b[36m(pid=13094, ip=192.168.8.55)\u001b[0m CIFAR10 Training label shape (50000, 1)\n",
      "\u001b[2m\u001b[36m(pid=13094, ip=192.168.8.55)\u001b[0m CIFAR10 Test data shape (10000, 32, 32, 3)\n",
      "\u001b[2m\u001b[36m(pid=13094, ip=192.168.8.55)\u001b[0m CIFAR10 Test label shape (10000, 1)\n"
     ]
    },
    {
     "name": "stderr",
     "output_type": "stream",
     "text": [
      "\u001b[2m\u001b[36m(pid=13094, ip=192.168.8.55)\u001b[0m WARNING:tensorflow:From /home/reminiz/ReminizML2/python_env/lib/python3.7/site-packages/tensorflow/python/data/ops/dataset_ops.py:429: py_func (from tensorflow.python.ops.script_ops) is deprecated and will be removed in a future version.\n",
      "\u001b[2m\u001b[36m(pid=13094, ip=192.168.8.55)\u001b[0m Instructions for updating:\n",
      "\u001b[2m\u001b[36m(pid=13094, ip=192.168.8.55)\u001b[0m tf.py_func is deprecated in TF V2. Instead, use\n",
      "\u001b[2m\u001b[36m(pid=13094, ip=192.168.8.55)\u001b[0m     tf.py_function, which takes a python function which manipulates tf eager\n",
      "\u001b[2m\u001b[36m(pid=13094, ip=192.168.8.55)\u001b[0m     tensors instead of numpy arrays. It's easy to convert a tf eager tensor to\n",
      "\u001b[2m\u001b[36m(pid=13094, ip=192.168.8.55)\u001b[0m     an ndarray (just call tensor.numpy()) but having access to eager tensors\n",
      "\u001b[2m\u001b[36m(pid=13094, ip=192.168.8.55)\u001b[0m     means `tf.py_function`s can use accelerators such as GPUs as well as\n",
      "\u001b[2m\u001b[36m(pid=13094, ip=192.168.8.55)\u001b[0m     being differentiable using a gradient tape.\n",
      "\u001b[2m\u001b[36m(pid=13094, ip=192.168.8.55)\u001b[0m     \n",
      "\u001b[2m\u001b[36m(pid=13094, ip=192.168.8.55)\u001b[0m WARNING:tensorflow:From /home/reminiz/ReminizML2/python_env/lib/python3.7/site-packages/tensorflow/python/ops/resource_variable_ops.py:435: colocate_with (from tensorflow.python.framework.ops) is deprecated and will be removed in a future version.\n",
      "\u001b[2m\u001b[36m(pid=13094, ip=192.168.8.55)\u001b[0m Instructions for updating:\n",
      "\u001b[2m\u001b[36m(pid=13094, ip=192.168.8.55)\u001b[0m Colocations handled automatically by placer.\n"
     ]
    },
    {
     "name": "stdout",
     "output_type": "stream",
     "text": [
      "\u001b[2m\u001b[36m(pid=13443, ip=192.168.8.54)\u001b[0m \u001b[6;30;42mAL_Train_6\u001b[0m Epoch: 88 / 201 || Time: 2020-12-04 15:09:07 || Accuracy: 99.29 || MAE LossNet: 0.50 || \n"
     ]
    },
    {
     "name": "stderr",
     "output_type": "stream",
     "text": [
      "\u001b[2m\u001b[36m(pid=13094, ip=192.168.8.55)\u001b[0m 2020-12-04 15:09:08.468937: I tensorflow/core/platform/cpu_feature_guard.cc:141] Your CPU supports instructions that this TensorFlow binary was not compiled to use: AVX2 FMA\n",
      "\u001b[2m\u001b[36m(pid=13094, ip=192.168.8.55)\u001b[0m 2020-12-04 15:09:08.492400: I tensorflow/core/platform/profile_utils/cpu_utils.cc:94] CPU Frequency: 3599935000 Hz\n",
      "\u001b[2m\u001b[36m(pid=13094, ip=192.168.8.55)\u001b[0m 2020-12-04 15:09:08.493141: I tensorflow/compiler/xla/service/service.cc:150] XLA service 0x73a6b70 executing computations on platform Host. Devices:\n",
      "\u001b[2m\u001b[36m(pid=13094, ip=192.168.8.55)\u001b[0m 2020-12-04 15:09:08.493167: I tensorflow/compiler/xla/service/service.cc:158]   StreamExecutor device (0): <undefined>, <undefined>\n",
      "\u001b[2m\u001b[36m(pid=13094, ip=192.168.8.55)\u001b[0m 2020-12-04 15:09:08.581119: I tensorflow/compiler/xla/service/service.cc:150] XLA service 0x73ac1f0 executing computations on platform CUDA. Devices:\n",
      "\u001b[2m\u001b[36m(pid=13094, ip=192.168.8.55)\u001b[0m 2020-12-04 15:09:08.581156: I tensorflow/compiler/xla/service/service.cc:158]   StreamExecutor device (0): GeForce GTX 1080 Ti, Compute Capability 6.1\n",
      "\u001b[2m\u001b[36m(pid=13094, ip=192.168.8.55)\u001b[0m 2020-12-04 15:09:08.581309: I tensorflow/core/common_runtime/gpu/gpu_device.cc:1433] Found device 0 with properties: \n",
      "\u001b[2m\u001b[36m(pid=13094, ip=192.168.8.55)\u001b[0m name: GeForce GTX 1080 Ti major: 6 minor: 1 memoryClockRate(GHz): 1.62\n",
      "\u001b[2m\u001b[36m(pid=13094, ip=192.168.8.55)\u001b[0m pciBusID: 0000:4c:00.0\n",
      "\u001b[2m\u001b[36m(pid=13094, ip=192.168.8.55)\u001b[0m totalMemory: 10.91GiB freeMemory: 10.77GiB\n",
      "\u001b[2m\u001b[36m(pid=13094, ip=192.168.8.55)\u001b[0m 2020-12-04 15:09:08.581335: I tensorflow/core/common_runtime/gpu/gpu_device.cc:1512] Adding visible gpu devices: 0\n",
      "\u001b[2m\u001b[36m(pid=13094, ip=192.168.8.55)\u001b[0m 2020-12-04 15:09:08.583261: I tensorflow/core/common_runtime/gpu/gpu_device.cc:984] Device interconnect StreamExecutor with strength 1 edge matrix:\n",
      "\u001b[2m\u001b[36m(pid=13094, ip=192.168.8.55)\u001b[0m 2020-12-04 15:09:08.583294: I tensorflow/core/common_runtime/gpu/gpu_device.cc:990]      0 \n",
      "\u001b[2m\u001b[36m(pid=13094, ip=192.168.8.55)\u001b[0m 2020-12-04 15:09:08.583311: I tensorflow/core/common_runtime/gpu/gpu_device.cc:1003] 0:   N \n",
      "\u001b[2m\u001b[36m(pid=13094, ip=192.168.8.55)\u001b[0m 2020-12-04 15:09:08.583416: I tensorflow/core/common_runtime/gpu/gpu_device.cc:1115] Created TensorFlow device (/job:localhost/replica:0/task:0/device:GPU:0 with 10479 MB memory) -> physical GPU (device: 0, name: GeForce GTX 1080 Ti, pci bus id: 0000:4c:00.0, compute capability: 6.1)\n",
      "\u001b[2m\u001b[36m(pid=13094, ip=192.168.8.55)\u001b[0m WARNING:tensorflow:From /home/reminiz/ReminizML2/python_env/lib/python3.7/site-packages/tensorflow/python/training/saver.py:1266: checkpoint_exists (from tensorflow.python.training.checkpoint_management) is deprecated and will be removed in a future version.\n",
      "\u001b[2m\u001b[36m(pid=13094, ip=192.168.8.55)\u001b[0m Instructions for updating:\n",
      "\u001b[2m\u001b[36m(pid=13094, ip=192.168.8.55)\u001b[0m Use standard file APIs to check for files with this prefix.\n"
     ]
    },
    {
     "name": "stdout",
     "output_type": "stream",
     "text": [
      "\u001b[2m\u001b[36m(pid=13094, ip=192.168.8.55)\u001b[0m \u001b[6;30;42mAL_Test_6\u001b[0m Restoring from /mnt/Ressources/Andres/Temp_active/runs/Active_Learning_v0/Stage_6/checkpoint/epoch85.ckpt-85\n",
      "\u001b[2m\u001b[36m(pid=13443, ip=192.168.8.54)\u001b[0m \u001b[6;30;42mAL_Train_6\u001b[0m Epoch: 89 / 201 || Time: 2020-12-04 15:09:09 || Accuracy: 99.22 || MAE LossNet: 0.46 || \n"
     ]
    },
    {
     "name": "stderr",
     "output_type": "stream",
     "text": [
      "\u001b[2m\u001b[36m(pid=13094, ip=192.168.8.55)\u001b[0m 2020-12-04 15:09:09.937709: I tensorflow/stream_executor/dso_loader.cc:152] successfully opened CUDA library libcublas.so.10.0 locally\n"
     ]
    },
    {
     "name": "stdout",
     "output_type": "stream",
     "text": [
      "\u001b[2m\u001b[36m(pid=13443, ip=192.168.8.54)\u001b[0m \u001b[6;30;42mAL_Train_6\u001b[0m Epoch: 90 / 201 || Time: 2020-12-04 15:09:10 || Accuracy: 99.59 || MAE LossNet: 0.48 || \n",
      "\u001b[2m\u001b[36m(pid=13094, ip=192.168.8.55)\u001b[0m \u001b[6;30;42mAL_Test_6\u001b[0m Test || Epoch: 85 || Accuracy: 64.43 || \n"
     ]
    },
    {
     "name": "stderr",
     "output_type": "stream",
     "text": [
      "\u001b[2m\u001b[36m(pid=13094, ip=192.168.8.55)\u001b[0m \n",
      "\u001b[2m\u001b[36m(pid=13094, ip=192.168.8.55)\u001b[0m wandb: Waiting for W&B process to finish, PID 13117\n",
      "\u001b[2m\u001b[36m(pid=13094, ip=192.168.8.55)\u001b[0m wandb: Program ended successfully.\n",
      "\u001b[2m\u001b[36m(pid=13249, ip=192.168.8.55)\u001b[0m /home/reminiz/ReminizML2/python_env/lib/python3.7/site-packages/tensorflow/python/framework/dtypes.py:526: FutureWarning: Passing (type, 1) or '1type' as a synonym of type is deprecated; in a future version of numpy, it will be understood as (type, (1,)) / '(1,)type'.\n",
      "\u001b[2m\u001b[36m(pid=13249, ip=192.168.8.55)\u001b[0m   _np_qint8 = np.dtype([(\"qint8\", np.int8, 1)])\n",
      "\u001b[2m\u001b[36m(pid=13249, ip=192.168.8.55)\u001b[0m /home/reminiz/ReminizML2/python_env/lib/python3.7/site-packages/tensorflow/python/framework/dtypes.py:527: FutureWarning: Passing (type, 1) or '1type' as a synonym of type is deprecated; in a future version of numpy, it will be understood as (type, (1,)) / '(1,)type'.\n",
      "\u001b[2m\u001b[36m(pid=13249, ip=192.168.8.55)\u001b[0m   _np_quint8 = np.dtype([(\"quint8\", np.uint8, 1)])\n",
      "\u001b[2m\u001b[36m(pid=13249, ip=192.168.8.55)\u001b[0m /home/reminiz/ReminizML2/python_env/lib/python3.7/site-packages/tensorflow/python/framework/dtypes.py:528: FutureWarning: Passing (type, 1) or '1type' as a synonym of type is deprecated; in a future version of numpy, it will be understood as (type, (1,)) / '(1,)type'.\n",
      "\u001b[2m\u001b[36m(pid=13249, ip=192.168.8.55)\u001b[0m   _np_qint16 = np.dtype([(\"qint16\", np.int16, 1)])\n",
      "\u001b[2m\u001b[36m(pid=13249, ip=192.168.8.55)\u001b[0m /home/reminiz/ReminizML2/python_env/lib/python3.7/site-packages/tensorflow/python/framework/dtypes.py:529: FutureWarning: Passing (type, 1) or '1type' as a synonym of type is deprecated; in a future version of numpy, it will be understood as (type, (1,)) / '(1,)type'.\n",
      "\u001b[2m\u001b[36m(pid=13249, ip=192.168.8.55)\u001b[0m   _np_quint16 = np.dtype([(\"quint16\", np.uint16, 1)])\n",
      "\u001b[2m\u001b[36m(pid=13249, ip=192.168.8.55)\u001b[0m /home/reminiz/ReminizML2/python_env/lib/python3.7/site-packages/tensorflow/python/framework/dtypes.py:530: FutureWarning: Passing (type, 1) or '1type' as a synonym of type is deprecated; in a future version of numpy, it will be understood as (type, (1,)) / '(1,)type'.\n",
      "\u001b[2m\u001b[36m(pid=13249, ip=192.168.8.55)\u001b[0m   _np_qint32 = np.dtype([(\"qint32\", np.int32, 1)])\n",
      "\u001b[2m\u001b[36m(pid=13249, ip=192.168.8.55)\u001b[0m /home/reminiz/ReminizML2/python_env/lib/python3.7/site-packages/tensorflow/python/framework/dtypes.py:535: FutureWarning: Passing (type, 1) or '1type' as a synonym of type is deprecated; in a future version of numpy, it will be understood as (type, (1,)) / '(1,)type'.\n",
      "\u001b[2m\u001b[36m(pid=13249, ip=192.168.8.55)\u001b[0m   np_resource = np.dtype([(\"resource\", np.ubyte, 1)])\n"
     ]
    },
    {
     "name": "stdout",
     "output_type": "stream",
     "text": [
      "\u001b[2m\u001b[36m(pid=13443, ip=192.168.8.54)\u001b[0m \u001b[6;30;42mAL_Train_6\u001b[0m Epoch: 91 / 201 || Time: 2020-12-04 15:09:15 || Accuracy: 99.20 || MAE LossNet: 0.50 || \n"
     ]
    },
    {
     "name": "stderr",
     "output_type": "stream",
     "text": [
      "\u001b[2m\u001b[36m(pid=13094, ip=192.168.8.55)\u001b[0m wandb: Run summary:\n",
      "\u001b[2m\u001b[36m(pid=13094, ip=192.168.8.55)\u001b[0m wandb:                                     _step 85\n",
      "\u001b[2m\u001b[36m(pid=13094, ip=192.168.8.55)\u001b[0m wandb:                                  F1 score 0.6455361112242162\n",
      "\u001b[2m\u001b[36m(pid=13094, ip=192.168.8.55)\u001b[0m wandb:                                  _runtime 140.15897369384766\n",
      "\u001b[2m\u001b[36m(pid=13094, ip=192.168.8.55)\u001b[0m wandb:                                _timestamp 1607090953.535249\n",
      "\u001b[2m\u001b[36m(pid=13094, ip=192.168.8.55)\u001b[0m wandb:                     Explained variance v1 -0.05763697624206543\n",
      "\u001b[2m\u001b[36m(pid=13094, ip=192.168.8.55)\u001b[0m wandb:                     Explained variance v2 -0.03182971477508545\n",
      "\u001b[2m\u001b[36m(pid=13094, ip=192.168.8.55)\u001b[0m wandb:                     Mean squared error v1 17.371068954467773\n",
      "\u001b[2m\u001b[36m(pid=13094, ip=192.168.8.55)\u001b[0m wandb:                     Mean squared error v2 27.666019439697266\n",
      "\u001b[2m\u001b[36m(pid=13094, ip=192.168.8.55)\u001b[0m wandb:                    Mean absolute error v1 2.5214555263519287\n",
      "\u001b[2m\u001b[36m(pid=13094, ip=192.168.8.55)\u001b[0m wandb:                    Mean absolute error v2 3.5682590007781982\n",
      "\u001b[2m\u001b[36m(pid=13094, ip=192.168.8.55)\u001b[0m wandb:                Area Under the Curve (AUC) 0.7753332122336087\n",
      "\u001b[2m\u001b[36m(pid=13094, ip=192.168.8.55)\u001b[0m wandb:             Test: Classification Accuracy 0.6443\n",
      "\u001b[2m\u001b[36m(pid=13094, ip=192.168.8.55)\u001b[0m wandb: Syncing files in ../../../Trainings/wandb/wandb/run-20201204_140905-32tlp2kp:\n",
      "\u001b[2m\u001b[36m(pid=13094, ip=192.168.8.55)\u001b[0m wandb:   code/default_worker.py\n",
      "\u001b[2m\u001b[36m(pid=13094, ip=192.168.8.55)\u001b[0m wandb: plus 8 W&B file(s) and 2 media file(s)\n",
      "\u001b[2m\u001b[36m(pid=13094, ip=192.168.8.55)\u001b[0m wandb: - 1.01MB of 1.01MB uploaded\n",
      "\u001b[2m\u001b[36m(pid=13249, ip=192.168.8.55)\u001b[0m wandb: Tracking run with wandb version 0.8.36\n",
      "\u001b[2m\u001b[36m(pid=13094, ip=192.168.8.55)\u001b[0m wandb: \\ 1.01MB of 1.01MB uploaded\n",
      "\u001b[2m\u001b[36m(pid=13094, ip=192.168.8.55)\u001b[0m wandb: | 1.01MB of 1.01MB uploaded\n",
      "\u001b[2m\u001b[36m(pid=13249, ip=192.168.8.55)\u001b[0m wandb: Wandb version 0.10.12 is available!  To upgrade, please run:\n",
      "\u001b[2m\u001b[36m(pid=13249, ip=192.168.8.55)\u001b[0m wandb:  $ pip install wandb --upgrade\n",
      "\u001b[2m\u001b[36m(pid=13249, ip=192.168.8.55)\u001b[0m wandb: Run data is saved locally in ../../../Trainings/wandb/wandb/run-20201204_140916-32tlp2kp\n",
      "\u001b[2m\u001b[36m(pid=13094, ip=192.168.8.55)\u001b[0m wandb: / 1.01MB of 1.01MB uploaded\n",
      "\u001b[2m\u001b[36m(pid=13249, ip=192.168.8.55)\u001b[0m wandb: Syncing run AL_Test_6\n",
      "\u001b[2m\u001b[36m(pid=13249, ip=192.168.8.55)\u001b[0m wandb: ⭐️ View project at http://192.168.8.51:8080/reminiz/Active_Learning_CIFAR\n",
      "\u001b[2m\u001b[36m(pid=13249, ip=192.168.8.55)\u001b[0m wandb: 🚀 View run at http://192.168.8.51:8080/reminiz/Active_Learning_CIFAR/runs/32tlp2kp\n",
      "\u001b[2m\u001b[36m(pid=13249, ip=192.168.8.55)\u001b[0m wandb: Run `wandb off` to turn off syncing.\n",
      "\u001b[2m\u001b[36m(pid=13249, ip=192.168.8.55)\u001b[0m \n",
      "wandb:                                                                                \n",
      "\u001b[2m\u001b[36m(pid=13094, ip=192.168.8.55)\u001b[0m wandb: Synced AL_Test_6: http://192.168.8.51:8080/reminiz/Active_Learning_CIFAR/runs/32tlp2kp\n"
     ]
    },
    {
     "name": "stdout",
     "output_type": "stream",
     "text": [
      "\u001b[2m\u001b[36m(pid=13443, ip=192.168.8.54)\u001b[0m \u001b[6;30;42mAL_Train_6\u001b[0m Epoch: 92 / 201 || Time: 2020-12-04 15:09:17 || Accuracy: 98.59 || MAE LossNet: 0.50 || \n",
      "\u001b[2m\u001b[36m(pid=13249, ip=192.168.8.55)\u001b[0m CIFAR10 Training data shape: (50000, 32, 32, 3)\n",
      "\u001b[2m\u001b[36m(pid=13249, ip=192.168.8.55)\u001b[0m CIFAR10 Training label shape (50000, 1)\n",
      "\u001b[2m\u001b[36m(pid=13249, ip=192.168.8.55)\u001b[0m CIFAR10 Test data shape (10000, 32, 32, 3)\n",
      "\u001b[2m\u001b[36m(pid=13249, ip=192.168.8.55)\u001b[0m CIFAR10 Test label shape (10000, 1)\n"
     ]
    },
    {
     "name": "stderr",
     "output_type": "stream",
     "text": [
      "\u001b[2m\u001b[36m(pid=13249, ip=192.168.8.55)\u001b[0m WARNING:tensorflow:From /home/reminiz/ReminizML2/python_env/lib/python3.7/site-packages/tensorflow/python/data/ops/dataset_ops.py:429: py_func (from tensorflow.python.ops.script_ops) is deprecated and will be removed in a future version.\n",
      "\u001b[2m\u001b[36m(pid=13249, ip=192.168.8.55)\u001b[0m Instructions for updating:\n",
      "\u001b[2m\u001b[36m(pid=13249, ip=192.168.8.55)\u001b[0m tf.py_func is deprecated in TF V2. Instead, use\n",
      "\u001b[2m\u001b[36m(pid=13249, ip=192.168.8.55)\u001b[0m     tf.py_function, which takes a python function which manipulates tf eager\n",
      "\u001b[2m\u001b[36m(pid=13249, ip=192.168.8.55)\u001b[0m     tensors instead of numpy arrays. It's easy to convert a tf eager tensor to\n",
      "\u001b[2m\u001b[36m(pid=13249, ip=192.168.8.55)\u001b[0m     an ndarray (just call tensor.numpy()) but having access to eager tensors\n",
      "\u001b[2m\u001b[36m(pid=13249, ip=192.168.8.55)\u001b[0m     means `tf.py_function`s can use accelerators such as GPUs as well as\n",
      "\u001b[2m\u001b[36m(pid=13249, ip=192.168.8.55)\u001b[0m     being differentiable using a gradient tape.\n",
      "\u001b[2m\u001b[36m(pid=13249, ip=192.168.8.55)\u001b[0m     \n",
      "\u001b[2m\u001b[36m(pid=13249, ip=192.168.8.55)\u001b[0m WARNING:tensorflow:From /home/reminiz/ReminizML2/python_env/lib/python3.7/site-packages/tensorflow/python/ops/resource_variable_ops.py:435: colocate_with (from tensorflow.python.framework.ops) is deprecated and will be removed in a future version.\n",
      "\u001b[2m\u001b[36m(pid=13249, ip=192.168.8.55)\u001b[0m Instructions for updating:\n",
      "\u001b[2m\u001b[36m(pid=13249, ip=192.168.8.55)\u001b[0m Colocations handled automatically by placer.\n"
     ]
    },
    {
     "name": "stdout",
     "output_type": "stream",
     "text": [
      "\u001b[2m\u001b[36m(pid=13443, ip=192.168.8.54)\u001b[0m \u001b[6;30;42mAL_Train_6\u001b[0m Epoch: 93 / 201 || Time: 2020-12-04 15:09:18 || Accuracy: 98.51 || MAE LossNet: 0.48 || \n"
     ]
    },
    {
     "name": "stderr",
     "output_type": "stream",
     "text": [
      "\u001b[2m\u001b[36m(pid=13249, ip=192.168.8.55)\u001b[0m 2020-12-04 15:09:19.335148: I tensorflow/core/platform/cpu_feature_guard.cc:141] Your CPU supports instructions that this TensorFlow binary was not compiled to use: AVX2 FMA\n",
      "\u001b[2m\u001b[36m(pid=13249, ip=192.168.8.55)\u001b[0m 2020-12-04 15:09:19.356348: I tensorflow/core/platform/profile_utils/cpu_utils.cc:94] CPU Frequency: 3599935000 Hz\n",
      "\u001b[2m\u001b[36m(pid=13249, ip=192.168.8.55)\u001b[0m 2020-12-04 15:09:19.357121: I tensorflow/compiler/xla/service/service.cc:150] XLA service 0x79e3fc0 executing computations on platform Host. Devices:\n",
      "\u001b[2m\u001b[36m(pid=13249, ip=192.168.8.55)\u001b[0m 2020-12-04 15:09:19.357160: I tensorflow/compiler/xla/service/service.cc:158]   StreamExecutor device (0): <undefined>, <undefined>\n",
      "\u001b[2m\u001b[36m(pid=13249, ip=192.168.8.55)\u001b[0m 2020-12-04 15:09:19.439957: I tensorflow/compiler/xla/service/service.cc:150] XLA service 0x79e9640 executing computations on platform CUDA. Devices:\n",
      "\u001b[2m\u001b[36m(pid=13249, ip=192.168.8.55)\u001b[0m 2020-12-04 15:09:19.439996: I tensorflow/compiler/xla/service/service.cc:158]   StreamExecutor device (0): GeForce GTX 1080 Ti, Compute Capability 6.1\n",
      "\u001b[2m\u001b[36m(pid=13249, ip=192.168.8.55)\u001b[0m 2020-12-04 15:09:19.440158: I tensorflow/core/common_runtime/gpu/gpu_device.cc:1433] Found device 0 with properties: \n",
      "\u001b[2m\u001b[36m(pid=13249, ip=192.168.8.55)\u001b[0m name: GeForce GTX 1080 Ti major: 6 minor: 1 memoryClockRate(GHz): 1.62\n",
      "\u001b[2m\u001b[36m(pid=13249, ip=192.168.8.55)\u001b[0m pciBusID: 0000:4c:00.0\n",
      "\u001b[2m\u001b[36m(pid=13249, ip=192.168.8.55)\u001b[0m totalMemory: 10.91GiB freeMemory: 10.77GiB\n",
      "\u001b[2m\u001b[36m(pid=13249, ip=192.168.8.55)\u001b[0m 2020-12-04 15:09:19.440185: I tensorflow/core/common_runtime/gpu/gpu_device.cc:1512] Adding visible gpu devices: 0\n",
      "\u001b[2m\u001b[36m(pid=13249, ip=192.168.8.55)\u001b[0m 2020-12-04 15:09:19.441965: I tensorflow/core/common_runtime/gpu/gpu_device.cc:984] Device interconnect StreamExecutor with strength 1 edge matrix:\n",
      "\u001b[2m\u001b[36m(pid=13249, ip=192.168.8.55)\u001b[0m 2020-12-04 15:09:19.441984: I tensorflow/core/common_runtime/gpu/gpu_device.cc:990]      0 \n",
      "\u001b[2m\u001b[36m(pid=13249, ip=192.168.8.55)\u001b[0m 2020-12-04 15:09:19.441995: I tensorflow/core/common_runtime/gpu/gpu_device.cc:1003] 0:   N \n",
      "\u001b[2m\u001b[36m(pid=13249, ip=192.168.8.55)\u001b[0m 2020-12-04 15:09:19.442078: I tensorflow/core/common_runtime/gpu/gpu_device.cc:1115] Created TensorFlow device (/job:localhost/replica:0/task:0/device:GPU:0 with 10479 MB memory) -> physical GPU (device: 0, name: GeForce GTX 1080 Ti, pci bus id: 0000:4c:00.0, compute capability: 6.1)\n"
     ]
    },
    {
     "name": "stdout",
     "output_type": "stream",
     "text": [
      "\u001b[2m\u001b[36m(pid=13249, ip=192.168.8.55)\u001b[0m \u001b[6;30;42mAL_Test_6\u001b[0m Restoring from /mnt/Ressources/Andres/Temp_active/runs/Active_Learning_v0/Stage_6/checkpoint/epoch90.ckpt-90\n"
     ]
    },
    {
     "name": "stderr",
     "output_type": "stream",
     "text": [
      "\u001b[2m\u001b[36m(pid=13249, ip=192.168.8.55)\u001b[0m WARNING:tensorflow:From /home/reminiz/ReminizML2/python_env/lib/python3.7/site-packages/tensorflow/python/training/saver.py:1266: checkpoint_exists (from tensorflow.python.training.checkpoint_management) is deprecated and will be removed in a future version.\n",
      "\u001b[2m\u001b[36m(pid=13249, ip=192.168.8.55)\u001b[0m Instructions for updating:\n",
      "\u001b[2m\u001b[36m(pid=13249, ip=192.168.8.55)\u001b[0m Use standard file APIs to check for files with this prefix.\n"
     ]
    },
    {
     "name": "stdout",
     "output_type": "stream",
     "text": [
      "\u001b[2m\u001b[36m(pid=13443, ip=192.168.8.54)\u001b[0m \u001b[6;30;42mAL_Train_6\u001b[0m Epoch: 94 / 201 || Time: 2020-12-04 15:09:20 || Accuracy: 99.51 || MAE LossNet: 0.48 || \n"
     ]
    },
    {
     "name": "stderr",
     "output_type": "stream",
     "text": [
      "\u001b[2m\u001b[36m(pid=13249, ip=192.168.8.55)\u001b[0m 2020-12-04 15:09:20.873905: I tensorflow/stream_executor/dso_loader.cc:152] successfully opened CUDA library libcublas.so.10.0 locally\n"
     ]
    },
    {
     "name": "stdout",
     "output_type": "stream",
     "text": [
      "\u001b[2m\u001b[36m(pid=13443, ip=192.168.8.54)\u001b[0m \u001b[6;30;42mAL_Train_6\u001b[0m Epoch: 95 / 201 || Time: 2020-12-04 15:09:21 || Accuracy: 99.61 || MAE LossNet: 0.46 || \n",
      "\u001b[2m\u001b[36m(pid=13249, ip=192.168.8.55)\u001b[0m \u001b[6;30;42mAL_Test_6\u001b[0m Test || Epoch: 90 || Accuracy: 64.48 || \n"
     ]
    },
    {
     "name": "stderr",
     "output_type": "stream",
     "text": [
      "\u001b[2m\u001b[36m(pid=13249, ip=192.168.8.55)\u001b[0m \n",
      "\u001b[2m\u001b[36m(pid=13249, ip=192.168.8.55)\u001b[0m wandb: Waiting for W&B process to finish, PID 13275\n",
      "\u001b[2m\u001b[36m(pid=13249, ip=192.168.8.55)\u001b[0m wandb: Program ended successfully.\n",
      "\u001b[2m\u001b[36m(pid=13411, ip=192.168.8.55)\u001b[0m /home/reminiz/ReminizML2/python_env/lib/python3.7/site-packages/tensorflow/python/framework/dtypes.py:526: FutureWarning: Passing (type, 1) or '1type' as a synonym of type is deprecated; in a future version of numpy, it will be understood as (type, (1,)) / '(1,)type'.\n",
      "\u001b[2m\u001b[36m(pid=13411, ip=192.168.8.55)\u001b[0m   _np_qint8 = np.dtype([(\"qint8\", np.int8, 1)])\n",
      "\u001b[2m\u001b[36m(pid=13411, ip=192.168.8.55)\u001b[0m /home/reminiz/ReminizML2/python_env/lib/python3.7/site-packages/tensorflow/python/framework/dtypes.py:527: FutureWarning: Passing (type, 1) or '1type' as a synonym of type is deprecated; in a future version of numpy, it will be understood as (type, (1,)) / '(1,)type'.\n",
      "\u001b[2m\u001b[36m(pid=13411, ip=192.168.8.55)\u001b[0m   _np_quint8 = np.dtype([(\"quint8\", np.uint8, 1)])\n",
      "\u001b[2m\u001b[36m(pid=13411, ip=192.168.8.55)\u001b[0m /home/reminiz/ReminizML2/python_env/lib/python3.7/site-packages/tensorflow/python/framework/dtypes.py:528: FutureWarning: Passing (type, 1) or '1type' as a synonym of type is deprecated; in a future version of numpy, it will be understood as (type, (1,)) / '(1,)type'.\n",
      "\u001b[2m\u001b[36m(pid=13411, ip=192.168.8.55)\u001b[0m   _np_qint16 = np.dtype([(\"qint16\", np.int16, 1)])\n",
      "\u001b[2m\u001b[36m(pid=13411, ip=192.168.8.55)\u001b[0m /home/reminiz/ReminizML2/python_env/lib/python3.7/site-packages/tensorflow/python/framework/dtypes.py:529: FutureWarning: Passing (type, 1) or '1type' as a synonym of type is deprecated; in a future version of numpy, it will be understood as (type, (1,)) / '(1,)type'.\n",
      "\u001b[2m\u001b[36m(pid=13411, ip=192.168.8.55)\u001b[0m   _np_quint16 = np.dtype([(\"quint16\", np.uint16, 1)])\n",
      "\u001b[2m\u001b[36m(pid=13411, ip=192.168.8.55)\u001b[0m /home/reminiz/ReminizML2/python_env/lib/python3.7/site-packages/tensorflow/python/framework/dtypes.py:530: FutureWarning: Passing (type, 1) or '1type' as a synonym of type is deprecated; in a future version of numpy, it will be understood as (type, (1,)) / '(1,)type'.\n",
      "\u001b[2m\u001b[36m(pid=13411, ip=192.168.8.55)\u001b[0m   _np_qint32 = np.dtype([(\"qint32\", np.int32, 1)])\n",
      "\u001b[2m\u001b[36m(pid=13411, ip=192.168.8.55)\u001b[0m /home/reminiz/ReminizML2/python_env/lib/python3.7/site-packages/tensorflow/python/framework/dtypes.py:535: FutureWarning: Passing (type, 1) or '1type' as a synonym of type is deprecated; in a future version of numpy, it will be understood as (type, (1,)) / '(1,)type'.\n",
      "\u001b[2m\u001b[36m(pid=13411, ip=192.168.8.55)\u001b[0m   np_resource = np.dtype([(\"resource\", np.ubyte, 1)])\n"
     ]
    },
    {
     "name": "stdout",
     "output_type": "stream",
     "text": [
      "\u001b[2m\u001b[36m(pid=13443, ip=192.168.8.54)\u001b[0m \u001b[6;30;42mAL_Train_6\u001b[0m Epoch: 96 / 201 || Time: 2020-12-04 15:09:26 || Accuracy: 99.17 || MAE LossNet: 0.51 || \n"
     ]
    },
    {
     "name": "stderr",
     "output_type": "stream",
     "text": [
      "\u001b[2m\u001b[36m(pid=13249, ip=192.168.8.55)\u001b[0m wandb: Run summary:\n",
      "\u001b[2m\u001b[36m(pid=13249, ip=192.168.8.55)\u001b[0m wandb:                                     _step 90\n",
      "\u001b[2m\u001b[36m(pid=13249, ip=192.168.8.55)\u001b[0m wandb:                                  F1 score 0.6469326560788986\n",
      "\u001b[2m\u001b[36m(pid=13249, ip=192.168.8.55)\u001b[0m wandb:                                  _runtime 148.51432919502258\n",
      "\u001b[2m\u001b[36m(pid=13249, ip=192.168.8.55)\u001b[0m wandb:                                _timestamp 1607090964.4665048\n",
      "\u001b[2m\u001b[36m(pid=13249, ip=192.168.8.55)\u001b[0m wandb:                     Explained variance v1 -0.05025374889373779\n",
      "\u001b[2m\u001b[36m(pid=13249, ip=192.168.8.55)\u001b[0m wandb:                     Explained variance v2 -0.028311610221862793\n",
      "\u001b[2m\u001b[36m(pid=13249, ip=192.168.8.55)\u001b[0m wandb:                     Mean squared error v1 17.646595001220703\n",
      "\u001b[2m\u001b[36m(pid=13249, ip=192.168.8.55)\u001b[0m wandb:                     Mean squared error v2 28.81118392944336\n",
      "\u001b[2m\u001b[36m(pid=13249, ip=192.168.8.55)\u001b[0m wandb:                    Mean absolute error v1 2.5655581951141357\n",
      "\u001b[2m\u001b[36m(pid=13249, ip=192.168.8.55)\u001b[0m wandb:                    Mean absolute error v2 3.6502835750579834\n",
      "\u001b[2m\u001b[36m(pid=13249, ip=192.168.8.55)\u001b[0m wandb:                Area Under the Curve (AUC) 0.774641715323419\n",
      "\u001b[2m\u001b[36m(pid=13249, ip=192.168.8.55)\u001b[0m wandb:             Test: Classification Accuracy 0.6448\n",
      "\u001b[2m\u001b[36m(pid=13249, ip=192.168.8.55)\u001b[0m wandb: Syncing files in ../../../Trainings/wandb/wandb/run-20201204_140916-32tlp2kp:\n",
      "\u001b[2m\u001b[36m(pid=13249, ip=192.168.8.55)\u001b[0m wandb:   code/default_worker.py\n",
      "\u001b[2m\u001b[36m(pid=13249, ip=192.168.8.55)\u001b[0m wandb: plus 8 W&B file(s) and 2 media file(s)\n",
      "\u001b[2m\u001b[36m(pid=13249, ip=192.168.8.55)\u001b[0m wandb: - 1.01MB of 1.01MB uploaded\n",
      "\u001b[2m\u001b[36m(pid=13249, ip=192.168.8.55)\u001b[0m wandb: \\ 1.01MB of 1.01MB uploaded\n",
      "\u001b[2m\u001b[36m(pid=13411, ip=192.168.8.55)\u001b[0m wandb: Tracking run with wandb version 0.8.36\n",
      "\u001b[2m\u001b[36m(pid=13249, ip=192.168.8.55)\u001b[0m wandb: | 1.01MB of 1.01MB uploaded\n",
      "\u001b[2m\u001b[36m(pid=13249, ip=192.168.8.55)\u001b[0m wandb: / 1.01MB of 1.01MB uploaded\n",
      "wandb:                                                                                \n",
      "\u001b[2m\u001b[36m(pid=13249, ip=192.168.8.55)\u001b[0m wandb: Synced AL_Test_6: http://192.168.8.51:8080/reminiz/Active_Learning_CIFAR/runs/32tlp2kp\n",
      "\u001b[2m\u001b[36m(pid=13411, ip=192.168.8.55)\u001b[0m wandb: Wandb version 0.10.12 is available!  To upgrade, please run:\n",
      "\u001b[2m\u001b[36m(pid=13411, ip=192.168.8.55)\u001b[0m wandb:  $ pip install wandb --upgrade\n",
      "\u001b[2m\u001b[36m(pid=13411, ip=192.168.8.55)\u001b[0m wandb: Run data is saved locally in ../../../Trainings/wandb/wandb/run-20201204_140927-32tlp2kp\n",
      "\u001b[2m\u001b[36m(pid=13411, ip=192.168.8.55)\u001b[0m wandb: Syncing run AL_Test_6\n",
      "\u001b[2m\u001b[36m(pid=13411, ip=192.168.8.55)\u001b[0m wandb: ⭐️ View project at http://192.168.8.51:8080/reminiz/Active_Learning_CIFAR\n",
      "\u001b[2m\u001b[36m(pid=13411, ip=192.168.8.55)\u001b[0m wandb: 🚀 View run at http://192.168.8.51:8080/reminiz/Active_Learning_CIFAR/runs/32tlp2kp\n",
      "\u001b[2m\u001b[36m(pid=13411, ip=192.168.8.55)\u001b[0m wandb: Run `wandb off` to turn off syncing.\n",
      "\u001b[2m\u001b[36m(pid=13411, ip=192.168.8.55)\u001b[0m \n"
     ]
    },
    {
     "name": "stdout",
     "output_type": "stream",
     "text": [
      "\u001b[2m\u001b[36m(pid=13443, ip=192.168.8.54)\u001b[0m \u001b[6;30;42mAL_Train_6\u001b[0m Epoch: 97 / 201 || Time: 2020-12-04 15:09:28 || Accuracy: 99.41 || MAE LossNet: 0.50 || \n",
      "\u001b[2m\u001b[36m(pid=13411, ip=192.168.8.55)\u001b[0m CIFAR10 Training data shape: (50000, 32, 32, 3)\n",
      "\u001b[2m\u001b[36m(pid=13411, ip=192.168.8.55)\u001b[0m CIFAR10 Training label shape (50000, 1)\n",
      "\u001b[2m\u001b[36m(pid=13411, ip=192.168.8.55)\u001b[0m CIFAR10 Test data shape (10000, 32, 32, 3)\n",
      "\u001b[2m\u001b[36m(pid=13411, ip=192.168.8.55)\u001b[0m CIFAR10 Test label shape (10000, 1)\n"
     ]
    },
    {
     "name": "stderr",
     "output_type": "stream",
     "text": [
      "\u001b[2m\u001b[36m(pid=13411, ip=192.168.8.55)\u001b[0m WARNING:tensorflow:From /home/reminiz/ReminizML2/python_env/lib/python3.7/site-packages/tensorflow/python/data/ops/dataset_ops.py:429: py_func (from tensorflow.python.ops.script_ops) is deprecated and will be removed in a future version.\n",
      "\u001b[2m\u001b[36m(pid=13411, ip=192.168.8.55)\u001b[0m Instructions for updating:\n",
      "\u001b[2m\u001b[36m(pid=13411, ip=192.168.8.55)\u001b[0m tf.py_func is deprecated in TF V2. Instead, use\n",
      "\u001b[2m\u001b[36m(pid=13411, ip=192.168.8.55)\u001b[0m     tf.py_function, which takes a python function which manipulates tf eager\n",
      "\u001b[2m\u001b[36m(pid=13411, ip=192.168.8.55)\u001b[0m     tensors instead of numpy arrays. It's easy to convert a tf eager tensor to\n",
      "\u001b[2m\u001b[36m(pid=13411, ip=192.168.8.55)\u001b[0m     an ndarray (just call tensor.numpy()) but having access to eager tensors\n",
      "\u001b[2m\u001b[36m(pid=13411, ip=192.168.8.55)\u001b[0m     means `tf.py_function`s can use accelerators such as GPUs as well as\n",
      "\u001b[2m\u001b[36m(pid=13411, ip=192.168.8.55)\u001b[0m     being differentiable using a gradient tape.\n",
      "\u001b[2m\u001b[36m(pid=13411, ip=192.168.8.55)\u001b[0m     \n",
      "\u001b[2m\u001b[36m(pid=13411, ip=192.168.8.55)\u001b[0m WARNING:tensorflow:From /home/reminiz/ReminizML2/python_env/lib/python3.7/site-packages/tensorflow/python/ops/resource_variable_ops.py:435: colocate_with (from tensorflow.python.framework.ops) is deprecated and will be removed in a future version.\n",
      "\u001b[2m\u001b[36m(pid=13411, ip=192.168.8.55)\u001b[0m Instructions for updating:\n",
      "\u001b[2m\u001b[36m(pid=13411, ip=192.168.8.55)\u001b[0m Colocations handled automatically by placer.\n"
     ]
    },
    {
     "name": "stdout",
     "output_type": "stream",
     "text": [
      "\u001b[2m\u001b[36m(pid=13443, ip=192.168.8.54)\u001b[0m \u001b[6;30;42mAL_Train_6\u001b[0m Epoch: 98 / 201 || Time: 2020-12-04 15:09:30 || Accuracy: 99.71 || MAE LossNet: 0.47 || \n"
     ]
    },
    {
     "name": "stderr",
     "output_type": "stream",
     "text": [
      "\u001b[2m\u001b[36m(pid=13411, ip=192.168.8.55)\u001b[0m 2020-12-04 15:09:30.518005: I tensorflow/core/platform/cpu_feature_guard.cc:141] Your CPU supports instructions that this TensorFlow binary was not compiled to use: AVX2 FMA\n",
      "\u001b[2m\u001b[36m(pid=13411, ip=192.168.8.55)\u001b[0m 2020-12-04 15:09:30.540386: I tensorflow/core/platform/profile_utils/cpu_utils.cc:94] CPU Frequency: 3599935000 Hz\n",
      "\u001b[2m\u001b[36m(pid=13411, ip=192.168.8.55)\u001b[0m 2020-12-04 15:09:30.541244: I tensorflow/compiler/xla/service/service.cc:150] XLA service 0x695a310 executing computations on platform Host. Devices:\n",
      "\u001b[2m\u001b[36m(pid=13411, ip=192.168.8.55)\u001b[0m 2020-12-04 15:09:30.541279: I tensorflow/compiler/xla/service/service.cc:158]   StreamExecutor device (0): <undefined>, <undefined>\n",
      "\u001b[2m\u001b[36m(pid=13411, ip=192.168.8.55)\u001b[0m 2020-12-04 15:09:30.642434: I tensorflow/compiler/xla/service/service.cc:150] XLA service 0x695f990 executing computations on platform CUDA. Devices:\n",
      "\u001b[2m\u001b[36m(pid=13411, ip=192.168.8.55)\u001b[0m 2020-12-04 15:09:30.642477: I tensorflow/compiler/xla/service/service.cc:158]   StreamExecutor device (0): GeForce GTX 1080 Ti, Compute Capability 6.1\n",
      "\u001b[2m\u001b[36m(pid=13411, ip=192.168.8.55)\u001b[0m 2020-12-04 15:09:30.642649: I tensorflow/core/common_runtime/gpu/gpu_device.cc:1433] Found device 0 with properties: \n",
      "\u001b[2m\u001b[36m(pid=13411, ip=192.168.8.55)\u001b[0m name: GeForce GTX 1080 Ti major: 6 minor: 1 memoryClockRate(GHz): 1.62\n",
      "\u001b[2m\u001b[36m(pid=13411, ip=192.168.8.55)\u001b[0m pciBusID: 0000:4c:00.0\n",
      "\u001b[2m\u001b[36m(pid=13411, ip=192.168.8.55)\u001b[0m totalMemory: 10.91GiB freeMemory: 10.77GiB\n",
      "\u001b[2m\u001b[36m(pid=13411, ip=192.168.8.55)\u001b[0m 2020-12-04 15:09:30.642674: I tensorflow/core/common_runtime/gpu/gpu_device.cc:1512] Adding visible gpu devices: 0\n",
      "\u001b[2m\u001b[36m(pid=13411, ip=192.168.8.55)\u001b[0m 2020-12-04 15:09:30.645002: I tensorflow/core/common_runtime/gpu/gpu_device.cc:984] Device interconnect StreamExecutor with strength 1 edge matrix:\n",
      "\u001b[2m\u001b[36m(pid=13411, ip=192.168.8.55)\u001b[0m 2020-12-04 15:09:30.645032: I tensorflow/core/common_runtime/gpu/gpu_device.cc:990]      0 \n",
      "\u001b[2m\u001b[36m(pid=13411, ip=192.168.8.55)\u001b[0m 2020-12-04 15:09:30.645045: I tensorflow/core/common_runtime/gpu/gpu_device.cc:1003] 0:   N \n",
      "\u001b[2m\u001b[36m(pid=13411, ip=192.168.8.55)\u001b[0m 2020-12-04 15:09:30.645144: I tensorflow/core/common_runtime/gpu/gpu_device.cc:1115] Created TensorFlow device (/job:localhost/replica:0/task:0/device:GPU:0 with 10479 MB memory) -> physical GPU (device: 0, name: GeForce GTX 1080 Ti, pci bus id: 0000:4c:00.0, compute capability: 6.1)\n"
     ]
    },
    {
     "name": "stdout",
     "output_type": "stream",
     "text": [
      "\u001b[2m\u001b[36m(pid=13411, ip=192.168.8.55)\u001b[0m \u001b[6;30;42mAL_Test_6\u001b[0m Restoring from /mnt/Ressources/Andres/Temp_active/runs/Active_Learning_v0/Stage_6/checkpoint/epoch95.ckpt-95\n"
     ]
    },
    {
     "name": "stderr",
     "output_type": "stream",
     "text": [
      "\u001b[2m\u001b[36m(pid=13411, ip=192.168.8.55)\u001b[0m WARNING:tensorflow:From /home/reminiz/ReminizML2/python_env/lib/python3.7/site-packages/tensorflow/python/training/saver.py:1266: checkpoint_exists (from tensorflow.python.training.checkpoint_management) is deprecated and will be removed in a future version.\n",
      "\u001b[2m\u001b[36m(pid=13411, ip=192.168.8.55)\u001b[0m Instructions for updating:\n",
      "\u001b[2m\u001b[36m(pid=13411, ip=192.168.8.55)\u001b[0m Use standard file APIs to check for files with this prefix.\n"
     ]
    },
    {
     "name": "stdout",
     "output_type": "stream",
     "text": [
      "\u001b[2m\u001b[36m(pid=13443, ip=192.168.8.54)\u001b[0m \u001b[6;30;42mAL_Train_6\u001b[0m Epoch: 99 / 201 || Time: 2020-12-04 15:09:31 || Accuracy: 99.47 || MAE LossNet: 0.49 || \n"
     ]
    },
    {
     "name": "stderr",
     "output_type": "stream",
     "text": [
      "\u001b[2m\u001b[36m(pid=13411, ip=192.168.8.55)\u001b[0m 2020-12-04 15:09:32.045290: I tensorflow/stream_executor/dso_loader.cc:152] successfully opened CUDA library libcublas.so.10.0 locally\n"
     ]
    },
    {
     "name": "stdout",
     "output_type": "stream",
     "text": [
      "\u001b[2m\u001b[36m(pid=13443, ip=192.168.8.54)\u001b[0m \u001b[6;30;42mAL_Train_6\u001b[0m Epoch: 100 / 201 || Time: 2020-12-04 15:09:33 || Accuracy: 99.25 || MAE LossNet: 0.49 || \n",
      "\u001b[2m\u001b[36m(pid=13411, ip=192.168.8.55)\u001b[0m \u001b[6;30;42mAL_Test_6\u001b[0m Test || Epoch: 95 || Accuracy: 65.12 || \n"
     ]
    },
    {
     "name": "stderr",
     "output_type": "stream",
     "text": [
      "\u001b[2m\u001b[36m(pid=13411, ip=192.168.8.55)\u001b[0m \n",
      "\u001b[2m\u001b[36m(pid=13411, ip=192.168.8.55)\u001b[0m wandb: Waiting for W&B process to finish, PID 13437\n",
      "\u001b[2m\u001b[36m(pid=13411, ip=192.168.8.55)\u001b[0m wandb: Program ended successfully.\n",
      "\u001b[2m\u001b[36m(pid=5311, ip=192.168.8.53)\u001b[0m /home/reminiz/ReminizML2/python_env/lib/python3.7/site-packages/tensorflow/python/framework/dtypes.py:526: FutureWarning: Passing (type, 1) or '1type' as a synonym of type is deprecated; in a future version of numpy, it will be understood as (type, (1,)) / '(1,)type'.\n",
      "\u001b[2m\u001b[36m(pid=5311, ip=192.168.8.53)\u001b[0m   _np_qint8 = np.dtype([(\"qint8\", np.int8, 1)])\n",
      "\u001b[2m\u001b[36m(pid=5311, ip=192.168.8.53)\u001b[0m /home/reminiz/ReminizML2/python_env/lib/python3.7/site-packages/tensorflow/python/framework/dtypes.py:527: FutureWarning: Passing (type, 1) or '1type' as a synonym of type is deprecated; in a future version of numpy, it will be understood as (type, (1,)) / '(1,)type'.\n",
      "\u001b[2m\u001b[36m(pid=5311, ip=192.168.8.53)\u001b[0m   _np_quint8 = np.dtype([(\"quint8\", np.uint8, 1)])\n",
      "\u001b[2m\u001b[36m(pid=5311, ip=192.168.8.53)\u001b[0m /home/reminiz/ReminizML2/python_env/lib/python3.7/site-packages/tensorflow/python/framework/dtypes.py:528: FutureWarning: Passing (type, 1) or '1type' as a synonym of type is deprecated; in a future version of numpy, it will be understood as (type, (1,)) / '(1,)type'.\n",
      "\u001b[2m\u001b[36m(pid=5311, ip=192.168.8.53)\u001b[0m   _np_qint16 = np.dtype([(\"qint16\", np.int16, 1)])\n",
      "\u001b[2m\u001b[36m(pid=5311, ip=192.168.8.53)\u001b[0m /home/reminiz/ReminizML2/python_env/lib/python3.7/site-packages/tensorflow/python/framework/dtypes.py:529: FutureWarning: Passing (type, 1) or '1type' as a synonym of type is deprecated; in a future version of numpy, it will be understood as (type, (1,)) / '(1,)type'.\n",
      "\u001b[2m\u001b[36m(pid=5311, ip=192.168.8.53)\u001b[0m   _np_quint16 = np.dtype([(\"quint16\", np.uint16, 1)])\n",
      "\u001b[2m\u001b[36m(pid=5311, ip=192.168.8.53)\u001b[0m /home/reminiz/ReminizML2/python_env/lib/python3.7/site-packages/tensorflow/python/framework/dtypes.py:530: FutureWarning: Passing (type, 1) or '1type' as a synonym of type is deprecated; in a future version of numpy, it will be understood as (type, (1,)) / '(1,)type'.\n",
      "\u001b[2m\u001b[36m(pid=5311, ip=192.168.8.53)\u001b[0m   _np_qint32 = np.dtype([(\"qint32\", np.int32, 1)])\n",
      "\u001b[2m\u001b[36m(pid=5311, ip=192.168.8.53)\u001b[0m /home/reminiz/ReminizML2/python_env/lib/python3.7/site-packages/tensorflow/python/framework/dtypes.py:535: FutureWarning: Passing (type, 1) or '1type' as a synonym of type is deprecated; in a future version of numpy, it will be understood as (type, (1,)) / '(1,)type'.\n",
      "\u001b[2m\u001b[36m(pid=5311, ip=192.168.8.53)\u001b[0m   np_resource = np.dtype([(\"resource\", np.ubyte, 1)])\n"
     ]
    },
    {
     "name": "stdout",
     "output_type": "stream",
     "text": [
      "\u001b[2m\u001b[36m(pid=13443, ip=192.168.8.54)\u001b[0m \u001b[6;30;42mAL_Train_6\u001b[0m Epoch: 101 / 201 || Time: 2020-12-04 15:09:37 || Accuracy: 99.29 || MAE LossNet: 0.47 || \n"
     ]
    },
    {
     "name": "stderr",
     "output_type": "stream",
     "text": [
      "\u001b[2m\u001b[36m(pid=13411, ip=192.168.8.55)\u001b[0m wandb: Run summary:\n",
      "\u001b[2m\u001b[36m(pid=13411, ip=192.168.8.55)\u001b[0m wandb:                                     _step 95\n",
      "\u001b[2m\u001b[36m(pid=13411, ip=192.168.8.55)\u001b[0m wandb:                                  F1 score 0.650759996443146\n",
      "\u001b[2m\u001b[36m(pid=13411, ip=192.168.8.55)\u001b[0m wandb:                                  _runtime 156.96155333518982\n",
      "\u001b[2m\u001b[36m(pid=13411, ip=192.168.8.55)\u001b[0m wandb:                                _timestamp 1607090975.6859393\n",
      "\u001b[2m\u001b[36m(pid=13411, ip=192.168.8.55)\u001b[0m wandb:                     Explained variance v1 -0.06756711006164551\n",
      "\u001b[2m\u001b[36m(pid=13411, ip=192.168.8.55)\u001b[0m wandb:                     Explained variance v2 -0.04101860523223877\n",
      "\u001b[2m\u001b[36m(pid=13411, ip=192.168.8.55)\u001b[0m wandb:                     Mean squared error v1 16.631986618041992\n",
      "\u001b[2m\u001b[36m(pid=13411, ip=192.168.8.55)\u001b[0m wandb:                     Mean squared error v2 26.9083194732666\n",
      "\u001b[2m\u001b[36m(pid=13411, ip=192.168.8.55)\u001b[0m wandb:                    Mean absolute error v1 2.5021302700042725\n",
      "\u001b[2m\u001b[36m(pid=13411, ip=192.168.8.55)\u001b[0m wandb:                    Mean absolute error v2 3.5308148860931396\n",
      "\u001b[2m\u001b[36m(pid=13411, ip=192.168.8.55)\u001b[0m wandb:                Area Under the Curve (AUC) 0.7791826055426256\n",
      "\u001b[2m\u001b[36m(pid=13411, ip=192.168.8.55)\u001b[0m wandb:             Test: Classification Accuracy 0.6512\n",
      "\u001b[2m\u001b[36m(pid=13411, ip=192.168.8.55)\u001b[0m wandb: Syncing files in ../../../Trainings/wandb/wandb/run-20201204_140927-32tlp2kp:\n",
      "\u001b[2m\u001b[36m(pid=13411, ip=192.168.8.55)\u001b[0m wandb:   code/default_worker.py\n",
      "\u001b[2m\u001b[36m(pid=13411, ip=192.168.8.55)\u001b[0m wandb: plus 8 W&B file(s) and 2 media file(s)\n",
      "\u001b[2m\u001b[36m(pid=13411, ip=192.168.8.55)\u001b[0m wandb: - 1.20MB of 1.20MB uploaded\n",
      "\u001b[2m\u001b[36m(pid=13411, ip=192.168.8.55)\u001b[0m wandb: \\ 1.20MB of 1.20MB uploaded\n",
      "\u001b[2m\u001b[36m(pid=5311, ip=192.168.8.53)\u001b[0m wandb: Tracking run with wandb version 0.8.36\n",
      "\u001b[2m\u001b[36m(pid=13411, ip=192.168.8.55)\u001b[0m wandb: | 1.20MB of 1.20MB uploaded\n",
      "\u001b[2m\u001b[36m(pid=13411, ip=192.168.8.55)\u001b[0m wandb: / 1.20MB of 1.20MB uploaded\n",
      "\u001b[2m\u001b[36m(pid=5311, ip=192.168.8.53)\u001b[0m wandb: Wandb version 0.10.12 is available!  To upgrade, please run:\n",
      "\u001b[2m\u001b[36m(pid=5311, ip=192.168.8.53)\u001b[0m wandb:  $ pip install wandb --upgrade\n",
      "\u001b[2m\u001b[36m(pid=5311, ip=192.168.8.53)\u001b[0m wandb: Run data is saved locally in ../../../Trainings/wandb/wandb/run-20201204_140938-32tlp2kp\n",
      "wandb:                                                                                \n",
      "\u001b[2m\u001b[36m(pid=13411, ip=192.168.8.55)\u001b[0m wandb: Synced AL_Test_6: http://192.168.8.51:8080/reminiz/Active_Learning_CIFAR/runs/32tlp2kp\n",
      "\u001b[2m\u001b[36m(pid=5311, ip=192.168.8.53)\u001b[0m wandb: Syncing run AL_Test_6\n",
      "\u001b[2m\u001b[36m(pid=5311, ip=192.168.8.53)\u001b[0m wandb: ⭐️ View project at http://192.168.8.51:8080/reminiz/Active_Learning_CIFAR\n",
      "\u001b[2m\u001b[36m(pid=5311, ip=192.168.8.53)\u001b[0m wandb: 🚀 View run at http://192.168.8.51:8080/reminiz/Active_Learning_CIFAR/runs/32tlp2kp\n",
      "\u001b[2m\u001b[36m(pid=5311, ip=192.168.8.53)\u001b[0m wandb: Run `wandb off` to turn off syncing.\n",
      "\u001b[2m\u001b[36m(pid=5311, ip=192.168.8.53)\u001b[0m \n"
     ]
    },
    {
     "name": "stdout",
     "output_type": "stream",
     "text": [
      "\u001b[2m\u001b[36m(pid=13443, ip=192.168.8.54)\u001b[0m \u001b[6;30;42mAL_Train_6\u001b[0m \n",
      "\u001b[2m\u001b[36m(pid=13443, ip=192.168.8.54)\u001b[0m Epoch: 102 / 201 || Time: 2020-12-04 15:09:39 || Accuracy: 98.93 || MAE LossNet: 0.51 || \n",
      "\u001b[2m\u001b[36m(pid=5311, ip=192.168.8.53)\u001b[0m CIFAR10 Training data shape: (50000, 32, 32, 3)\n",
      "\u001b[2m\u001b[36m(pid=5311, ip=192.168.8.53)\u001b[0m CIFAR10 Training label shape (50000, 1)\n",
      "\u001b[2m\u001b[36m(pid=5311, ip=192.168.8.53)\u001b[0m CIFAR10 Test data shape (10000, 32, 32, 3)\n",
      "\u001b[2m\u001b[36m(pid=5311, ip=192.168.8.53)\u001b[0m CIFAR10 Test label shape (10000, 1)\n"
     ]
    },
    {
     "name": "stderr",
     "output_type": "stream",
     "text": [
      "\u001b[2m\u001b[36m(pid=5311, ip=192.168.8.53)\u001b[0m WARNING:tensorflow:From /home/reminiz/ReminizML2/python_env/lib/python3.7/site-packages/tensorflow/python/data/ops/dataset_ops.py:429: py_func (from tensorflow.python.ops.script_ops) is deprecated and will be removed in a future version.\n",
      "\u001b[2m\u001b[36m(pid=5311, ip=192.168.8.53)\u001b[0m Instructions for updating:\n",
      "\u001b[2m\u001b[36m(pid=5311, ip=192.168.8.53)\u001b[0m tf.py_func is deprecated in TF V2. Instead, use\n",
      "\u001b[2m\u001b[36m(pid=5311, ip=192.168.8.53)\u001b[0m     tf.py_function, which takes a python function which manipulates tf eager\n",
      "\u001b[2m\u001b[36m(pid=5311, ip=192.168.8.53)\u001b[0m     tensors instead of numpy arrays. It's easy to convert a tf eager tensor to\n",
      "\u001b[2m\u001b[36m(pid=5311, ip=192.168.8.53)\u001b[0m     an ndarray (just call tensor.numpy()) but having access to eager tensors\n",
      "\u001b[2m\u001b[36m(pid=5311, ip=192.168.8.53)\u001b[0m     means `tf.py_function`s can use accelerators such as GPUs as well as\n",
      "\u001b[2m\u001b[36m(pid=5311, ip=192.168.8.53)\u001b[0m     being differentiable using a gradient tape.\n",
      "\u001b[2m\u001b[36m(pid=5311, ip=192.168.8.53)\u001b[0m     \n",
      "\u001b[2m\u001b[36m(pid=5311, ip=192.168.8.53)\u001b[0m WARNING:tensorflow:From /home/reminiz/ReminizML2/python_env/lib/python3.7/site-packages/tensorflow/python/ops/resource_variable_ops.py:435: colocate_with (from tensorflow.python.framework.ops) is deprecated and will be removed in a future version.\n",
      "\u001b[2m\u001b[36m(pid=5311, ip=192.168.8.53)\u001b[0m Instructions for updating:\n",
      "\u001b[2m\u001b[36m(pid=5311, ip=192.168.8.53)\u001b[0m Colocations handled automatically by placer.\n"
     ]
    },
    {
     "name": "stdout",
     "output_type": "stream",
     "text": [
      "\u001b[2m\u001b[36m(pid=13443, ip=192.168.8.54)\u001b[0m \u001b[6;30;42mAL_Train_6\u001b[0m Epoch: 103 / 201 || Time: 2020-12-04 15:09:41 || Accuracy: 99.41 || MAE LossNet: 0.48 || \n"
     ]
    },
    {
     "name": "stderr",
     "output_type": "stream",
     "text": [
      "\u001b[2m\u001b[36m(pid=5311, ip=192.168.8.53)\u001b[0m 2020-12-04 15:09:41.740414: I tensorflow/core/platform/cpu_feature_guard.cc:141] Your CPU supports instructions that this TensorFlow binary was not compiled to use: AVX2 FMA\n",
      "\u001b[2m\u001b[36m(pid=5311, ip=192.168.8.53)\u001b[0m 2020-12-04 15:09:41.761163: I tensorflow/core/platform/profile_utils/cpu_utils.cc:94] CPU Frequency: 3499950000 Hz\n",
      "\u001b[2m\u001b[36m(pid=5311, ip=192.168.8.53)\u001b[0m 2020-12-04 15:09:41.761761: I tensorflow/compiler/xla/service/service.cc:150] XLA service 0x560b1ed6f5a0 executing computations on platform Host. Devices:\n",
      "\u001b[2m\u001b[36m(pid=5311, ip=192.168.8.53)\u001b[0m 2020-12-04 15:09:41.761783: I tensorflow/compiler/xla/service/service.cc:158]   StreamExecutor device (0): <undefined>, <undefined>\n",
      "\u001b[2m\u001b[36m(pid=5311, ip=192.168.8.53)\u001b[0m 2020-12-04 15:09:41.886780: I tensorflow/compiler/xla/service/service.cc:150] XLA service 0x560b1f4443d0 executing computations on platform CUDA. Devices:\n",
      "\u001b[2m\u001b[36m(pid=5311, ip=192.168.8.53)\u001b[0m 2020-12-04 15:09:41.886823: I tensorflow/compiler/xla/service/service.cc:158]   StreamExecutor device (0): GeForce GTX TITAN X, Compute Capability 5.2\n",
      "\u001b[2m\u001b[36m(pid=5311, ip=192.168.8.53)\u001b[0m 2020-12-04 15:09:41.887048: I tensorflow/core/common_runtime/gpu/gpu_device.cc:1433] Found device 0 with properties: \n",
      "\u001b[2m\u001b[36m(pid=5311, ip=192.168.8.53)\u001b[0m name: GeForce GTX TITAN X major: 5 minor: 2 memoryClockRate(GHz): 1.266\n",
      "\u001b[2m\u001b[36m(pid=5311, ip=192.168.8.53)\u001b[0m pciBusID: 0000:03:00.0\n",
      "\u001b[2m\u001b[36m(pid=5311, ip=192.168.8.53)\u001b[0m totalMemory: 11.92GiB freeMemory: 11.78GiB\n",
      "\u001b[2m\u001b[36m(pid=5311, ip=192.168.8.53)\u001b[0m 2020-12-04 15:09:41.887080: I tensorflow/core/common_runtime/gpu/gpu_device.cc:1512] Adding visible gpu devices: 0\n",
      "\u001b[2m\u001b[36m(pid=5311, ip=192.168.8.53)\u001b[0m 2020-12-04 15:09:41.889333: I tensorflow/core/common_runtime/gpu/gpu_device.cc:984] Device interconnect StreamExecutor with strength 1 edge matrix:\n",
      "\u001b[2m\u001b[36m(pid=5311, ip=192.168.8.53)\u001b[0m 2020-12-04 15:09:41.889359: I tensorflow/core/common_runtime/gpu/gpu_device.cc:990]      0 \n",
      "\u001b[2m\u001b[36m(pid=5311, ip=192.168.8.53)\u001b[0m 2020-12-04 15:09:41.889376: I tensorflow/core/common_runtime/gpu/gpu_device.cc:1003] 0:   N \n",
      "\u001b[2m\u001b[36m(pid=5311, ip=192.168.8.53)\u001b[0m 2020-12-04 15:09:41.889511: I tensorflow/core/common_runtime/gpu/gpu_device.cc:1115] Created TensorFlow device (/job:localhost/replica:0/task:0/device:GPU:0 with 11462 MB memory) -> physical GPU (device: 0, name: GeForce GTX TITAN X, pci bus id: 0000:03:00.0, compute capability: 5.2)\n"
     ]
    },
    {
     "name": "stdout",
     "output_type": "stream",
     "text": [
      "\u001b[2m\u001b[36m(pid=5311, ip=192.168.8.53)\u001b[0m \u001b[6;30;42mAL_Test_6\u001b[0m Restoring from /mnt/Ressources/Andres/Temp_active/runs/Active_Learning_v0/Stage_6/checkpoint/epoch100.ckpt-100\n"
     ]
    },
    {
     "name": "stderr",
     "output_type": "stream",
     "text": [
      "\u001b[2m\u001b[36m(pid=5311, ip=192.168.8.53)\u001b[0m WARNING:tensorflow:From /home/reminiz/ReminizML2/python_env/lib/python3.7/site-packages/tensorflow/python/training/saver.py:1266: checkpoint_exists (from tensorflow.python.training.checkpoint_management) is deprecated and will be removed in a future version.\n",
      "\u001b[2m\u001b[36m(pid=5311, ip=192.168.8.53)\u001b[0m Instructions for updating:\n",
      "\u001b[2m\u001b[36m(pid=5311, ip=192.168.8.53)\u001b[0m Use standard file APIs to check for files with this prefix.\n"
     ]
    },
    {
     "name": "stdout",
     "output_type": "stream",
     "text": [
      "\u001b[2m\u001b[36m(pid=13443, ip=192.168.8.54)\u001b[0m \u001b[6;30;42mAL_Train_6\u001b[0m Epoch: 104 / 201 || Time: 2020-12-04 15:09:42 || Accuracy: 98.86 || MAE LossNet: 0.53 || \n"
     ]
    },
    {
     "name": "stderr",
     "output_type": "stream",
     "text": [
      "\u001b[2m\u001b[36m(pid=5311, ip=192.168.8.53)\u001b[0m 2020-12-04 15:09:43.338527: I tensorflow/stream_executor/dso_loader.cc:152] successfully opened CUDA library libcublas.so.10.0 locally\n"
     ]
    },
    {
     "name": "stdout",
     "output_type": "stream",
     "text": [
      "\u001b[2m\u001b[36m(pid=13443, ip=192.168.8.54)\u001b[0m \u001b[6;30;42mAL_Train_6\u001b[0m Epoch: 105 / 201 || Time: 2020-12-04 15:09:44 || Accuracy: 99.39 || MAE LossNet: 0.49 || \n",
      "\u001b[2m\u001b[36m(pid=5311, ip=192.168.8.53)\u001b[0m \u001b[6;30;42mAL_Test_6\u001b[0m Test || Epoch: 100 || Accuracy: 65.51 || \n"
     ]
    },
    {
     "name": "stderr",
     "output_type": "stream",
     "text": [
      "\u001b[2m\u001b[36m(pid=5311, ip=192.168.8.53)\u001b[0m \n",
      "\u001b[2m\u001b[36m(pid=5311, ip=192.168.8.53)\u001b[0m wandb: Waiting for W&B process to finish, PID 17814\n",
      "\u001b[2m\u001b[36m(pid=5311, ip=192.168.8.53)\u001b[0m wandb: Program ended successfully.\n",
      "\u001b[2m\u001b[36m(pid=5310, ip=192.168.8.53)\u001b[0m /home/reminiz/ReminizML2/python_env/lib/python3.7/site-packages/tensorflow/python/framework/dtypes.py:526: FutureWarning: Passing (type, 1) or '1type' as a synonym of type is deprecated; in a future version of numpy, it will be understood as (type, (1,)) / '(1,)type'.\n",
      "\u001b[2m\u001b[36m(pid=5310, ip=192.168.8.53)\u001b[0m   _np_qint8 = np.dtype([(\"qint8\", np.int8, 1)])\n",
      "\u001b[2m\u001b[36m(pid=5310, ip=192.168.8.53)\u001b[0m /home/reminiz/ReminizML2/python_env/lib/python3.7/site-packages/tensorflow/python/framework/dtypes.py:527: FutureWarning: Passing (type, 1) or '1type' as a synonym of type is deprecated; in a future version of numpy, it will be understood as (type, (1,)) / '(1,)type'.\n",
      "\u001b[2m\u001b[36m(pid=5310, ip=192.168.8.53)\u001b[0m   _np_quint8 = np.dtype([(\"quint8\", np.uint8, 1)])\n",
      "\u001b[2m\u001b[36m(pid=5310, ip=192.168.8.53)\u001b[0m /home/reminiz/ReminizML2/python_env/lib/python3.7/site-packages/tensorflow/python/framework/dtypes.py:528: FutureWarning: Passing (type, 1) or '1type' as a synonym of type is deprecated; in a future version of numpy, it will be understood as (type, (1,)) / '(1,)type'.\n",
      "\u001b[2m\u001b[36m(pid=5310, ip=192.168.8.53)\u001b[0m   _np_qint16 = np.dtype([(\"qint16\", np.int16, 1)])\n",
      "\u001b[2m\u001b[36m(pid=5310, ip=192.168.8.53)\u001b[0m /home/reminiz/ReminizML2/python_env/lib/python3.7/site-packages/tensorflow/python/framework/dtypes.py:529: FutureWarning: Passing (type, 1) or '1type' as a synonym of type is deprecated; in a future version of numpy, it will be understood as (type, (1,)) / '(1,)type'.\n",
      "\u001b[2m\u001b[36m(pid=5310, ip=192.168.8.53)\u001b[0m   _np_quint16 = np.dtype([(\"quint16\", np.uint16, 1)])\n",
      "\u001b[2m\u001b[36m(pid=5310, ip=192.168.8.53)\u001b[0m /home/reminiz/ReminizML2/python_env/lib/python3.7/site-packages/tensorflow/python/framework/dtypes.py:530: FutureWarning: Passing (type, 1) or '1type' as a synonym of type is deprecated; in a future version of numpy, it will be understood as (type, (1,)) / '(1,)type'.\n",
      "\u001b[2m\u001b[36m(pid=5310, ip=192.168.8.53)\u001b[0m   _np_qint32 = np.dtype([(\"qint32\", np.int32, 1)])\n",
      "\u001b[2m\u001b[36m(pid=5310, ip=192.168.8.53)\u001b[0m /home/reminiz/ReminizML2/python_env/lib/python3.7/site-packages/tensorflow/python/framework/dtypes.py:535: FutureWarning: Passing (type, 1) or '1type' as a synonym of type is deprecated; in a future version of numpy, it will be understood as (type, (1,)) / '(1,)type'.\n",
      "\u001b[2m\u001b[36m(pid=5310, ip=192.168.8.53)\u001b[0m   np_resource = np.dtype([(\"resource\", np.ubyte, 1)])\n"
     ]
    },
    {
     "name": "stdout",
     "output_type": "stream",
     "text": [
      "\u001b[2m\u001b[36m(pid=13443, ip=192.168.8.54)\u001b[0m \u001b[6;30;42mAL_Train_6\u001b[0m Epoch: 106 / 201 || Time: 2020-12-04 15:09:49 || Accuracy: 99.22 || MAE LossNet: 0.46 || \n"
     ]
    },
    {
     "name": "stderr",
     "output_type": "stream",
     "text": [
      "\u001b[2m\u001b[36m(pid=5311, ip=192.168.8.53)\u001b[0m wandb: Run summary:\n",
      "\u001b[2m\u001b[36m(pid=5311, ip=192.168.8.53)\u001b[0m wandb:                                     _step 100\n",
      "\u001b[2m\u001b[36m(pid=5311, ip=192.168.8.53)\u001b[0m wandb:                                  F1 score 0.6547179778387158\n",
      "\u001b[2m\u001b[36m(pid=5311, ip=192.168.8.53)\u001b[0m wandb:                                  _runtime 166.28802013397217\n",
      "\u001b[2m\u001b[36m(pid=5311, ip=192.168.8.53)\u001b[0m wandb:                                _timestamp 1607090987.6092265\n",
      "\u001b[2m\u001b[36m(pid=5311, ip=192.168.8.53)\u001b[0m wandb:                     Explained variance v1 -0.04802107810974121\n",
      "\u001b[2m\u001b[36m(pid=5311, ip=192.168.8.53)\u001b[0m wandb:                     Explained variance v2 -0.029524564743041992\n",
      "\u001b[2m\u001b[36m(pid=5311, ip=192.168.8.53)\u001b[0m wandb:                     Mean squared error v1 14.853198051452637\n",
      "\u001b[2m\u001b[36m(pid=5311, ip=192.168.8.53)\u001b[0m wandb:                     Mean squared error v2 24.79730224609375\n",
      "\u001b[2m\u001b[36m(pid=5311, ip=192.168.8.53)\u001b[0m wandb:                    Mean absolute error v1 2.3551855087280273\n",
      "\u001b[2m\u001b[36m(pid=5311, ip=192.168.8.53)\u001b[0m wandb:                    Mean absolute error v2 3.3843929767608643\n",
      "\u001b[2m\u001b[36m(pid=5311, ip=192.168.8.53)\u001b[0m wandb:                Area Under the Curve (AUC) 0.7811218390894134\n",
      "\u001b[2m\u001b[36m(pid=5311, ip=192.168.8.53)\u001b[0m wandb:             Test: Classification Accuracy 0.6551\n",
      "\u001b[2m\u001b[36m(pid=5311, ip=192.168.8.53)\u001b[0m wandb: Syncing files in ../../../Trainings/wandb/wandb/run-20201204_140938-32tlp2kp:\n",
      "\u001b[2m\u001b[36m(pid=5311, ip=192.168.8.53)\u001b[0m wandb:   code/default_worker.py\n",
      "\u001b[2m\u001b[36m(pid=5311, ip=192.168.8.53)\u001b[0m wandb: plus 8 W&B file(s) and 2 media file(s)\n",
      "\u001b[2m\u001b[36m(pid=5311, ip=192.168.8.53)\u001b[0m wandb: - 0.99MB of 1.04MB uploaded\n",
      "\u001b[2m\u001b[36m(pid=5310, ip=192.168.8.53)\u001b[0m wandb: Tracking run with wandb version 0.8.36\n",
      "\u001b[2m\u001b[36m(pid=5311, ip=192.168.8.53)\u001b[0m wandb: \\ 1.04MB of 1.04MB uploaded\n",
      "\u001b[2m\u001b[36m(pid=5311, ip=192.168.8.53)\u001b[0m wandb: | 1.04MB of 1.04MB uploaded\n",
      "\u001b[2m\u001b[36m(pid=5310, ip=192.168.8.53)\u001b[0m wandb: Wandb version 0.10.12 is available!  To upgrade, please run:\n",
      "\u001b[2m\u001b[36m(pid=5310, ip=192.168.8.53)\u001b[0m wandb:  $ pip install wandb --upgrade\n",
      "\u001b[2m\u001b[36m(pid=5310, ip=192.168.8.53)\u001b[0m wandb: Run data is saved locally in ../../../Trainings/wandb/wandb/run-20201204_140949-32tlp2kp\n",
      "\u001b[2m\u001b[36m(pid=5311, ip=192.168.8.53)\u001b[0m wandb: / 1.04MB of 1.04MB uploaded\n",
      "\u001b[2m\u001b[36m(pid=5310, ip=192.168.8.53)\u001b[0m wandb: Syncing run AL_Test_6\n",
      "\u001b[2m\u001b[36m(pid=5310, ip=192.168.8.53)\u001b[0m wandb: ⭐️ View project at http://192.168.8.51:8080/reminiz/Active_Learning_CIFAR\n",
      "\u001b[2m\u001b[36m(pid=5310, ip=192.168.8.53)\u001b[0m wandb: 🚀 View run at http://192.168.8.51:8080/reminiz/Active_Learning_CIFAR/runs/32tlp2kp\n",
      "\u001b[2m\u001b[36m(pid=5310, ip=192.168.8.53)\u001b[0m wandb: Run `wandb off` to turn off syncing.\n",
      "\u001b[2m\u001b[36m(pid=5310, ip=192.168.8.53)\u001b[0m \n",
      "\u001b[2m\u001b[36m(pid=5311, ip=192.168.8.53)\u001b[0m wandb: - 1.04MB of 1.04MB uploaded\n"
     ]
    },
    {
     "name": "stdout",
     "output_type": "stream",
     "text": [
      "\u001b[2m\u001b[36m(pid=5310, ip=192.168.8.53)\u001b[0m CIFAR10 Training data shape: (50000, 32, 32, 3)\n",
      "\u001b[2m\u001b[36m(pid=5310, ip=192.168.8.53)\u001b[0m CIFAR10 Training label shape (50000, 1)\n",
      "\u001b[2m\u001b[36m(pid=5310, ip=192.168.8.53)\u001b[0m CIFAR10 Test data shape (10000, 32, 32, 3)\n",
      "\u001b[2m\u001b[36m(pid=5310, ip=192.168.8.53)\u001b[0m CIFAR10 Test label shape (10000, 1)\n"
     ]
    },
    {
     "name": "stderr",
     "output_type": "stream",
     "text": [
      "wandb:                                                                                \n",
      "\u001b[2m\u001b[36m(pid=5311, ip=192.168.8.53)\u001b[0m wandb: Synced AL_Test_6: http://192.168.8.51:8080/reminiz/Active_Learning_CIFAR/runs/32tlp2kp\n"
     ]
    },
    {
     "name": "stdout",
     "output_type": "stream",
     "text": [
      "\u001b[2m\u001b[36m(pid=13443, ip=192.168.8.54)\u001b[0m \u001b[6;30;42mAL_Train_6\u001b[0m Epoch: 107 / 201 || Time: 2020-12-04 15:09:50 || Accuracy: 99.17 || MAE LossNet: 0.46 || \n"
     ]
    },
    {
     "name": "stderr",
     "output_type": "stream",
     "text": [
      "\u001b[2m\u001b[36m(pid=5310, ip=192.168.8.53)\u001b[0m WARNING:tensorflow:From /home/reminiz/ReminizML2/python_env/lib/python3.7/site-packages/tensorflow/python/data/ops/dataset_ops.py:429: py_func (from tensorflow.python.ops.script_ops) is deprecated and will be removed in a future version.\n",
      "\u001b[2m\u001b[36m(pid=5310, ip=192.168.8.53)\u001b[0m Instructions for updating:\n",
      "\u001b[2m\u001b[36m(pid=5310, ip=192.168.8.53)\u001b[0m tf.py_func is deprecated in TF V2. Instead, use\n",
      "\u001b[2m\u001b[36m(pid=5310, ip=192.168.8.53)\u001b[0m     tf.py_function, which takes a python function which manipulates tf eager\n",
      "\u001b[2m\u001b[36m(pid=5310, ip=192.168.8.53)\u001b[0m     tensors instead of numpy arrays. It's easy to convert a tf eager tensor to\n",
      "\u001b[2m\u001b[36m(pid=5310, ip=192.168.8.53)\u001b[0m     an ndarray (just call tensor.numpy()) but having access to eager tensors\n",
      "\u001b[2m\u001b[36m(pid=5310, ip=192.168.8.53)\u001b[0m     means `tf.py_function`s can use accelerators such as GPUs as well as\n",
      "\u001b[2m\u001b[36m(pid=5310, ip=192.168.8.53)\u001b[0m     being differentiable using a gradient tape.\n",
      "\u001b[2m\u001b[36m(pid=5310, ip=192.168.8.53)\u001b[0m     \n",
      "\u001b[2m\u001b[36m(pid=5310, ip=192.168.8.53)\u001b[0m WARNING:tensorflow:From /home/reminiz/ReminizML2/python_env/lib/python3.7/site-packages/tensorflow/python/ops/resource_variable_ops.py:435: colocate_with (from tensorflow.python.framework.ops) is deprecated and will be removed in a future version.\n",
      "\u001b[2m\u001b[36m(pid=5310, ip=192.168.8.53)\u001b[0m Instructions for updating:\n",
      "\u001b[2m\u001b[36m(pid=5310, ip=192.168.8.53)\u001b[0m Colocations handled automatically by placer.\n"
     ]
    },
    {
     "name": "stdout",
     "output_type": "stream",
     "text": [
      "\u001b[2m\u001b[36m(pid=13443, ip=192.168.8.54)\u001b[0m \u001b[6;30;42mAL_Train_6\u001b[0m Epoch: 108 / 201 || Time: 2020-12-04 15:09:52 || Accuracy: 99.17 || MAE LossNet: 0.45 || \n"
     ]
    },
    {
     "name": "stderr",
     "output_type": "stream",
     "text": [
      "\u001b[2m\u001b[36m(pid=5310, ip=192.168.8.53)\u001b[0m 2020-12-04 15:09:52.572368: I tensorflow/core/platform/cpu_feature_guard.cc:141] Your CPU supports instructions that this TensorFlow binary was not compiled to use: AVX2 FMA\n",
      "\u001b[2m\u001b[36m(pid=5310, ip=192.168.8.53)\u001b[0m 2020-12-04 15:09:52.593166: I tensorflow/core/platform/profile_utils/cpu_utils.cc:94] CPU Frequency: 3499950000 Hz\n",
      "\u001b[2m\u001b[36m(pid=5310, ip=192.168.8.53)\u001b[0m 2020-12-04 15:09:52.593729: I tensorflow/compiler/xla/service/service.cc:150] XLA service 0x55b6cc3f0ef0 executing computations on platform Host. Devices:\n",
      "\u001b[2m\u001b[36m(pid=5310, ip=192.168.8.53)\u001b[0m 2020-12-04 15:09:52.593760: I tensorflow/compiler/xla/service/service.cc:158]   StreamExecutor device (0): <undefined>, <undefined>\n",
      "\u001b[2m\u001b[36m(pid=5310, ip=192.168.8.53)\u001b[0m 2020-12-04 15:09:52.713780: I tensorflow/compiler/xla/service/service.cc:150] XLA service 0x55b6ccc31c70 executing computations on platform CUDA. Devices:\n",
      "\u001b[2m\u001b[36m(pid=5310, ip=192.168.8.53)\u001b[0m 2020-12-04 15:09:52.713810: I tensorflow/compiler/xla/service/service.cc:158]   StreamExecutor device (0): GeForce GTX TITAN X, Compute Capability 5.2\n",
      "\u001b[2m\u001b[36m(pid=5310, ip=192.168.8.53)\u001b[0m 2020-12-04 15:09:52.713937: I tensorflow/core/common_runtime/gpu/gpu_device.cc:1433] Found device 0 with properties: \n",
      "\u001b[2m\u001b[36m(pid=5310, ip=192.168.8.53)\u001b[0m name: GeForce GTX TITAN X major: 5 minor: 2 memoryClockRate(GHz): 1.076\n",
      "\u001b[2m\u001b[36m(pid=5310, ip=192.168.8.53)\u001b[0m pciBusID: 0000:02:00.0\n",
      "\u001b[2m\u001b[36m(pid=5310, ip=192.168.8.53)\u001b[0m totalMemory: 11.93GiB freeMemory: 11.82GiB\n",
      "\u001b[2m\u001b[36m(pid=5310, ip=192.168.8.53)\u001b[0m 2020-12-04 15:09:52.713955: I tensorflow/core/common_runtime/gpu/gpu_device.cc:1512] Adding visible gpu devices: 0\n",
      "\u001b[2m\u001b[36m(pid=5310, ip=192.168.8.53)\u001b[0m 2020-12-04 15:09:52.715263: I tensorflow/core/common_runtime/gpu/gpu_device.cc:984] Device interconnect StreamExecutor with strength 1 edge matrix:\n",
      "\u001b[2m\u001b[36m(pid=5310, ip=192.168.8.53)\u001b[0m 2020-12-04 15:09:52.715278: I tensorflow/core/common_runtime/gpu/gpu_device.cc:990]      0 \n",
      "\u001b[2m\u001b[36m(pid=5310, ip=192.168.8.53)\u001b[0m 2020-12-04 15:09:52.715286: I tensorflow/core/common_runtime/gpu/gpu_device.cc:1003] 0:   N \n",
      "\u001b[2m\u001b[36m(pid=5310, ip=192.168.8.53)\u001b[0m 2020-12-04 15:09:52.715352: I tensorflow/core/common_runtime/gpu/gpu_device.cc:1115] Created TensorFlow device (/job:localhost/replica:0/task:0/device:GPU:0 with 11496 MB memory) -> physical GPU (device: 0, name: GeForce GTX TITAN X, pci bus id: 0000:02:00.0, compute capability: 5.2)\n"
     ]
    },
    {
     "name": "stdout",
     "output_type": "stream",
     "text": [
      "\u001b[2m\u001b[36m(pid=5310, ip=192.168.8.53)\u001b[0m \u001b[6;30;42mAL_Test_6\u001b[0m Restoring from /mnt/Ressources/Andres/Temp_active/runs/Active_Learning_v0/Stage_6/checkpoint/epoch105.ckpt-105\n"
     ]
    },
    {
     "name": "stderr",
     "output_type": "stream",
     "text": [
      "\u001b[2m\u001b[36m(pid=5310, ip=192.168.8.53)\u001b[0m WARNING:tensorflow:From /home/reminiz/ReminizML2/python_env/lib/python3.7/site-packages/tensorflow/python/training/saver.py:1266: checkpoint_exists (from tensorflow.python.training.checkpoint_management) is deprecated and will be removed in a future version.\n",
      "\u001b[2m\u001b[36m(pid=5310, ip=192.168.8.53)\u001b[0m Instructions for updating:\n",
      "\u001b[2m\u001b[36m(pid=5310, ip=192.168.8.53)\u001b[0m Use standard file APIs to check for files with this prefix.\n"
     ]
    },
    {
     "name": "stdout",
     "output_type": "stream",
     "text": [
      "\u001b[2m\u001b[36m(pid=13443, ip=192.168.8.54)\u001b[0m \u001b[6;30;42mAL_Train_6\u001b[0m Epoch: 109 / 201 || Time: 2020-12-04 15:09:53 || Accuracy: 98.63 || MAE LossNet: 0.46 || \n"
     ]
    },
    {
     "name": "stderr",
     "output_type": "stream",
     "text": [
      "\u001b[2m\u001b[36m(pid=5310, ip=192.168.8.53)\u001b[0m 2020-12-04 15:09:54.162561: I tensorflow/stream_executor/dso_loader.cc:152] successfully opened CUDA library libcublas.so.10.0 locally\n"
     ]
    },
    {
     "name": "stdout",
     "output_type": "stream",
     "text": [
      "\u001b[2m\u001b[36m(pid=13443, ip=192.168.8.54)\u001b[0m \u001b[6;30;42mAL_Train_6\u001b[0m Epoch: 110 / 201 || Time: 2020-12-04 15:09:55 || Accuracy: 99.20 || MAE LossNet: 0.48 || \n",
      "\u001b[2m\u001b[36m(pid=5310, ip=192.168.8.53)\u001b[0m \u001b[6;30;42mAL_Test_6\u001b[0m Test || Epoch: 105 || Accuracy: 65.02 || \n"
     ]
    },
    {
     "name": "stderr",
     "output_type": "stream",
     "text": [
      "\u001b[2m\u001b[36m(pid=5310, ip=192.168.8.53)\u001b[0m \n",
      "\u001b[2m\u001b[36m(pid=5310, ip=192.168.8.53)\u001b[0m wandb: Waiting for W&B process to finish, PID 18195\n",
      "\u001b[2m\u001b[36m(pid=5310, ip=192.168.8.53)\u001b[0m wandb: Program ended successfully.\n",
      "\u001b[2m\u001b[36m(pid=18565, ip=192.168.8.53)\u001b[0m /home/reminiz/ReminizML2/python_env/lib/python3.7/site-packages/tensorflow/python/framework/dtypes.py:526: FutureWarning: Passing (type, 1) or '1type' as a synonym of type is deprecated; in a future version of numpy, it will be understood as (type, (1,)) / '(1,)type'.\n",
      "\u001b[2m\u001b[36m(pid=18565, ip=192.168.8.53)\u001b[0m   _np_qint8 = np.dtype([(\"qint8\", np.int8, 1)])\n",
      "\u001b[2m\u001b[36m(pid=18565, ip=192.168.8.53)\u001b[0m /home/reminiz/ReminizML2/python_env/lib/python3.7/site-packages/tensorflow/python/framework/dtypes.py:527: FutureWarning: Passing (type, 1) or '1type' as a synonym of type is deprecated; in a future version of numpy, it will be understood as (type, (1,)) / '(1,)type'.\n",
      "\u001b[2m\u001b[36m(pid=18565, ip=192.168.8.53)\u001b[0m   _np_quint8 = np.dtype([(\"quint8\", np.uint8, 1)])\n",
      "\u001b[2m\u001b[36m(pid=18565, ip=192.168.8.53)\u001b[0m /home/reminiz/ReminizML2/python_env/lib/python3.7/site-packages/tensorflow/python/framework/dtypes.py:528: FutureWarning: Passing (type, 1) or '1type' as a synonym of type is deprecated; in a future version of numpy, it will be understood as (type, (1,)) / '(1,)type'.\n",
      "\u001b[2m\u001b[36m(pid=18565, ip=192.168.8.53)\u001b[0m   _np_qint16 = np.dtype([(\"qint16\", np.int16, 1)])\n",
      "\u001b[2m\u001b[36m(pid=18565, ip=192.168.8.53)\u001b[0m /home/reminiz/ReminizML2/python_env/lib/python3.7/site-packages/tensorflow/python/framework/dtypes.py:529: FutureWarning: Passing (type, 1) or '1type' as a synonym of type is deprecated; in a future version of numpy, it will be understood as (type, (1,)) / '(1,)type'.\n",
      "\u001b[2m\u001b[36m(pid=18565, ip=192.168.8.53)\u001b[0m   _np_quint16 = np.dtype([(\"quint16\", np.uint16, 1)])\n",
      "\u001b[2m\u001b[36m(pid=18565, ip=192.168.8.53)\u001b[0m /home/reminiz/ReminizML2/python_env/lib/python3.7/site-packages/tensorflow/python/framework/dtypes.py:530: FutureWarning: Passing (type, 1) or '1type' as a synonym of type is deprecated; in a future version of numpy, it will be understood as (type, (1,)) / '(1,)type'.\n",
      "\u001b[2m\u001b[36m(pid=18565, ip=192.168.8.53)\u001b[0m   _np_qint32 = np.dtype([(\"qint32\", np.int32, 1)])\n",
      "\u001b[2m\u001b[36m(pid=18565, ip=192.168.8.53)\u001b[0m /home/reminiz/ReminizML2/python_env/lib/python3.7/site-packages/tensorflow/python/framework/dtypes.py:535: FutureWarning: Passing (type, 1) or '1type' as a synonym of type is deprecated; in a future version of numpy, it will be understood as (type, (1,)) / '(1,)type'.\n",
      "\u001b[2m\u001b[36m(pid=18565, ip=192.168.8.53)\u001b[0m   np_resource = np.dtype([(\"resource\", np.ubyte, 1)])\n",
      "\u001b[2m\u001b[36m(pid=5310, ip=192.168.8.53)\u001b[0m wandb: Run summary:\n",
      "\u001b[2m\u001b[36m(pid=5310, ip=192.168.8.53)\u001b[0m wandb:                                     _step 105\n",
      "\u001b[2m\u001b[36m(pid=5310, ip=192.168.8.53)\u001b[0m wandb:                                  F1 score 0.6490902274222358\n",
      "\u001b[2m\u001b[36m(pid=5310, ip=192.168.8.53)\u001b[0m wandb:                                  _runtime 175.61479139328003\n",
      "\u001b[2m\u001b[36m(pid=5310, ip=192.168.8.53)\u001b[0m wandb:                                _timestamp 1607090998.5409467\n",
      "\u001b[2m\u001b[36m(pid=5310, ip=192.168.8.53)\u001b[0m wandb:                     Explained variance v1 -0.06424534320831299\n",
      "\u001b[2m\u001b[36m(pid=5310, ip=192.168.8.53)\u001b[0m wandb:                     Explained variance v2 -0.03518056869506836\n",
      "\u001b[2m\u001b[36m(pid=5310, ip=192.168.8.53)\u001b[0m wandb:                     Mean squared error v1 18.055227279663086\n",
      "\u001b[2m\u001b[36m(pid=5310, ip=192.168.8.53)\u001b[0m wandb:                     Mean squared error v2 28.73268699645996\n",
      "\u001b[2m\u001b[36m(pid=5310, ip=192.168.8.53)\u001b[0m wandb:                    Mean absolute error v1 2.5776891708374023\n",
      "\u001b[2m\u001b[36m(pid=5310, ip=192.168.8.53)\u001b[0m wandb:                    Mean absolute error v2 3.6479833126068115\n",
      "\u001b[2m\u001b[36m(pid=5310, ip=192.168.8.53)\u001b[0m wandb:                Area Under the Curve (AUC) 0.7703207035386394\n",
      "\u001b[2m\u001b[36m(pid=5310, ip=192.168.8.53)\u001b[0m wandb:             Test: Classification Accuracy 0.6502\n",
      "\u001b[2m\u001b[36m(pid=5310, ip=192.168.8.53)\u001b[0m wandb: Syncing files in ../../../Trainings/wandb/wandb/run-20201204_140949-32tlp2kp:\n",
      "\u001b[2m\u001b[36m(pid=5310, ip=192.168.8.53)\u001b[0m wandb:   code/default_worker.py\n",
      "\u001b[2m\u001b[36m(pid=5310, ip=192.168.8.53)\u001b[0m wandb: plus 8 W&B file(s) and 2 media file(s)\n",
      "\u001b[2m\u001b[36m(pid=5310, ip=192.168.8.53)\u001b[0m wandb: - 1.00MB of 1.00MB uploaded\n"
     ]
    },
    {
     "name": "stdout",
     "output_type": "stream",
     "text": [
      "\u001b[2m\u001b[36m(pid=13443, ip=192.168.8.54)\u001b[0m \u001b[6;30;42mAL_Train_6\u001b[0m Epoch: 111 / 201 || Time: 2020-12-04 15:10:00 || Accuracy: 99.27 || MAE LossNet: 0.48 || \n"
     ]
    },
    {
     "name": "stderr",
     "output_type": "stream",
     "text": [
      "\u001b[2m\u001b[36m(pid=5310, ip=192.168.8.53)\u001b[0m wandb: \\ 1.00MB of 1.00MB uploaded\n",
      "\u001b[2m\u001b[36m(pid=5310, ip=192.168.8.53)\u001b[0m wandb: | 1.00MB of 1.00MB uploaded\n",
      "\u001b[2m\u001b[36m(pid=5310, ip=192.168.8.53)\u001b[0m wandb: / 1.00MB of 1.00MB uploaded\n",
      "\u001b[2m\u001b[36m(pid=18565, ip=192.168.8.53)\u001b[0m wandb: Tracking run with wandb version 0.8.36\n",
      "wandb:                                                                                \n",
      "\u001b[2m\u001b[36m(pid=5310, ip=192.168.8.53)\u001b[0m wandb: Synced AL_Test_6: http://192.168.8.51:8080/reminiz/Active_Learning_CIFAR/runs/32tlp2kp\n",
      "\u001b[2m\u001b[36m(pid=18565, ip=192.168.8.53)\u001b[0m wandb: Wandb version 0.10.12 is available!  To upgrade, please run:\n",
      "\u001b[2m\u001b[36m(pid=18565, ip=192.168.8.53)\u001b[0m wandb:  $ pip install wandb --upgrade\n",
      "\u001b[2m\u001b[36m(pid=18565, ip=192.168.8.53)\u001b[0m wandb: Run data is saved locally in ../../../Trainings/wandb/wandb/run-20201204_141000-32tlp2kp\n",
      "\u001b[2m\u001b[36m(pid=18565, ip=192.168.8.53)\u001b[0m wandb: Syncing run AL_Test_6\n",
      "\u001b[2m\u001b[36m(pid=18565, ip=192.168.8.53)\u001b[0m wandb: ⭐️ View project at http://192.168.8.51:8080/reminiz/Active_Learning_CIFAR\n",
      "\u001b[2m\u001b[36m(pid=18565, ip=192.168.8.53)\u001b[0m wandb: 🚀 View run at http://192.168.8.51:8080/reminiz/Active_Learning_CIFAR/runs/32tlp2kp\n",
      "\u001b[2m\u001b[36m(pid=18565, ip=192.168.8.53)\u001b[0m wandb: Run `wandb off` to turn off syncing.\n",
      "\u001b[2m\u001b[36m(pid=18565, ip=192.168.8.53)\u001b[0m \n"
     ]
    },
    {
     "name": "stdout",
     "output_type": "stream",
     "text": [
      "\u001b[2m\u001b[36m(pid=13443, ip=192.168.8.54)\u001b[0m \u001b[6;30;42mAL_Train_6\u001b[0m Epoch: 112 / 201 || Time: 2020-12-04 15:10:01 || Accuracy: 99.80 || MAE LossNet: 0.46 || \n",
      "\u001b[2m\u001b[36m(pid=18565, ip=192.168.8.53)\u001b[0m CIFAR10 Training data shape: (50000, 32, 32, 3)\n",
      "\u001b[2m\u001b[36m(pid=18565, ip=192.168.8.53)\u001b[0m CIFAR10 Training label shape (50000, 1)\n",
      "\u001b[2m\u001b[36m(pid=18565, ip=192.168.8.53)\u001b[0m CIFAR10 Test data shape (10000, 32, 32, 3)\n",
      "\u001b[2m\u001b[36m(pid=18565, ip=192.168.8.53)\u001b[0m CIFAR10 Test label shape (10000, 1)\n"
     ]
    },
    {
     "name": "stderr",
     "output_type": "stream",
     "text": [
      "\u001b[2m\u001b[36m(pid=18565, ip=192.168.8.53)\u001b[0m WARNING:tensorflow:From /home/reminiz/ReminizML2/python_env/lib/python3.7/site-packages/tensorflow/python/data/ops/dataset_ops.py:429: py_func (from tensorflow.python.ops.script_ops) is deprecated and will be removed in a future version.\n",
      "\u001b[2m\u001b[36m(pid=18565, ip=192.168.8.53)\u001b[0m Instructions for updating:\n",
      "\u001b[2m\u001b[36m(pid=18565, ip=192.168.8.53)\u001b[0m tf.py_func is deprecated in TF V2. Instead, use\n",
      "\u001b[2m\u001b[36m(pid=18565, ip=192.168.8.53)\u001b[0m     tf.py_function, which takes a python function which manipulates tf eager\n",
      "\u001b[2m\u001b[36m(pid=18565, ip=192.168.8.53)\u001b[0m     tensors instead of numpy arrays. It's easy to convert a tf eager tensor to\n",
      "\u001b[2m\u001b[36m(pid=18565, ip=192.168.8.53)\u001b[0m     an ndarray (just call tensor.numpy()) but having access to eager tensors\n",
      "\u001b[2m\u001b[36m(pid=18565, ip=192.168.8.53)\u001b[0m     means `tf.py_function`s can use accelerators such as GPUs as well as\n",
      "\u001b[2m\u001b[36m(pid=18565, ip=192.168.8.53)\u001b[0m     being differentiable using a gradient tape.\n",
      "\u001b[2m\u001b[36m(pid=18565, ip=192.168.8.53)\u001b[0m     \n",
      "\u001b[2m\u001b[36m(pid=18565, ip=192.168.8.53)\u001b[0m WARNING:tensorflow:From /home/reminiz/ReminizML2/python_env/lib/python3.7/site-packages/tensorflow/python/ops/resource_variable_ops.py:435: colocate_with (from tensorflow.python.framework.ops) is deprecated and will be removed in a future version.\n",
      "\u001b[2m\u001b[36m(pid=18565, ip=192.168.8.53)\u001b[0m Instructions for updating:\n",
      "\u001b[2m\u001b[36m(pid=18565, ip=192.168.8.53)\u001b[0m Colocations handled automatically by placer.\n"
     ]
    },
    {
     "name": "stdout",
     "output_type": "stream",
     "text": [
      "\u001b[2m\u001b[36m(pid=13443, ip=192.168.8.54)\u001b[0m \u001b[6;30;42mAL_Train_6\u001b[0m Epoch: 113 / 201 || Time: 2020-12-04 15:10:03 || Accuracy: 99.22 || MAE LossNet: 0.47 || \n"
     ]
    },
    {
     "name": "stderr",
     "output_type": "stream",
     "text": [
      "\u001b[2m\u001b[36m(pid=18565, ip=192.168.8.53)\u001b[0m 2020-12-04 15:10:04.065160: I tensorflow/core/platform/cpu_feature_guard.cc:141] Your CPU supports instructions that this TensorFlow binary was not compiled to use: AVX2 FMA\n",
      "\u001b[2m\u001b[36m(pid=18565, ip=192.168.8.53)\u001b[0m 2020-12-04 15:10:04.089139: I tensorflow/core/platform/profile_utils/cpu_utils.cc:94] CPU Frequency: 3499950000 Hz\n",
      "\u001b[2m\u001b[36m(pid=18565, ip=192.168.8.53)\u001b[0m 2020-12-04 15:10:04.089945: I tensorflow/compiler/xla/service/service.cc:150] XLA service 0x56518b12f5e0 executing computations on platform Host. Devices:\n",
      "\u001b[2m\u001b[36m(pid=18565, ip=192.168.8.53)\u001b[0m 2020-12-04 15:10:04.089996: I tensorflow/compiler/xla/service/service.cc:158]   StreamExecutor device (0): <undefined>, <undefined>\n",
      "\u001b[2m\u001b[36m(pid=18565, ip=192.168.8.53)\u001b[0m 2020-12-04 15:10:04.204345: I tensorflow/compiler/xla/service/service.cc:150] XLA service 0x565187c26010 executing computations on platform CUDA. Devices:\n",
      "\u001b[2m\u001b[36m(pid=18565, ip=192.168.8.53)\u001b[0m 2020-12-04 15:10:04.204375: I tensorflow/compiler/xla/service/service.cc:158]   StreamExecutor device (0): GeForce GTX TITAN X, Compute Capability 5.2\n",
      "\u001b[2m\u001b[36m(pid=18565, ip=192.168.8.53)\u001b[0m 2020-12-04 15:10:04.204490: I tensorflow/core/common_runtime/gpu/gpu_device.cc:1433] Found device 0 with properties: \n",
      "\u001b[2m\u001b[36m(pid=18565, ip=192.168.8.53)\u001b[0m name: GeForce GTX TITAN X major: 5 minor: 2 memoryClockRate(GHz): 1.076\n",
      "\u001b[2m\u001b[36m(pid=18565, ip=192.168.8.53)\u001b[0m pciBusID: 0000:02:00.0\n",
      "\u001b[2m\u001b[36m(pid=18565, ip=192.168.8.53)\u001b[0m totalMemory: 11.93GiB freeMemory: 11.82GiB\n",
      "\u001b[2m\u001b[36m(pid=18565, ip=192.168.8.53)\u001b[0m 2020-12-04 15:10:04.204507: I tensorflow/core/common_runtime/gpu/gpu_device.cc:1512] Adding visible gpu devices: 0\n",
      "\u001b[2m\u001b[36m(pid=18565, ip=192.168.8.53)\u001b[0m 2020-12-04 15:10:04.205915: I tensorflow/core/common_runtime/gpu/gpu_device.cc:984] Device interconnect StreamExecutor with strength 1 edge matrix:\n",
      "\u001b[2m\u001b[36m(pid=18565, ip=192.168.8.53)\u001b[0m 2020-12-04 15:10:04.205933: I tensorflow/core/common_runtime/gpu/gpu_device.cc:990]      0 \n",
      "\u001b[2m\u001b[36m(pid=18565, ip=192.168.8.53)\u001b[0m 2020-12-04 15:10:04.205939: I tensorflow/core/common_runtime/gpu/gpu_device.cc:1003] 0:   N \n",
      "\u001b[2m\u001b[36m(pid=18565, ip=192.168.8.53)\u001b[0m 2020-12-04 15:10:04.206006: I tensorflow/core/common_runtime/gpu/gpu_device.cc:1115] Created TensorFlow device (/job:localhost/replica:0/task:0/device:GPU:0 with 11496 MB memory) -> physical GPU (device: 0, name: GeForce GTX TITAN X, pci bus id: 0000:02:00.0, compute capability: 5.2)\n"
     ]
    },
    {
     "name": "stdout",
     "output_type": "stream",
     "text": [
      "\u001b[2m\u001b[36m(pid=18565, ip=192.168.8.53)\u001b[0m \u001b[6;30;42mAL_Test_6\u001b[0m Restoring from /mnt/Ressources/Andres/Temp_active/runs/Active_Learning_v0/Stage_6/checkpoint/epoch110.ckpt-110\n"
     ]
    },
    {
     "name": "stderr",
     "output_type": "stream",
     "text": [
      "\u001b[2m\u001b[36m(pid=18565, ip=192.168.8.53)\u001b[0m WARNING:tensorflow:From /home/reminiz/ReminizML2/python_env/lib/python3.7/site-packages/tensorflow/python/training/saver.py:1266: checkpoint_exists (from tensorflow.python.training.checkpoint_management) is deprecated and will be removed in a future version.\n",
      "\u001b[2m\u001b[36m(pid=18565, ip=192.168.8.53)\u001b[0m Instructions for updating:\n",
      "\u001b[2m\u001b[36m(pid=18565, ip=192.168.8.53)\u001b[0m Use standard file APIs to check for files with this prefix.\n"
     ]
    },
    {
     "name": "stdout",
     "output_type": "stream",
     "text": [
      "\u001b[2m\u001b[36m(pid=13443, ip=192.168.8.54)\u001b[0m \u001b[6;30;42mAL_Train_6\u001b[0m Epoch: 114 / 201 || Time: 2020-12-04 15:10:05 || Accuracy: 99.20 || MAE LossNet: 0.43 || \n"
     ]
    },
    {
     "name": "stderr",
     "output_type": "stream",
     "text": [
      "\u001b[2m\u001b[36m(pid=18565, ip=192.168.8.53)\u001b[0m 2020-12-04 15:10:05.641346: I tensorflow/stream_executor/dso_loader.cc:152] successfully opened CUDA library libcublas.so.10.0 locally\n"
     ]
    },
    {
     "name": "stdout",
     "output_type": "stream",
     "text": [
      "\u001b[2m\u001b[36m(pid=13443, ip=192.168.8.54)\u001b[0m \u001b[6;30;42mAL_Train_6\u001b[0m Epoch: 115 / 201 || Time: 2020-12-04 15:10:06 || Accuracy: 99.61 || MAE LossNet: 0.41 || \n",
      "\u001b[2m\u001b[36m(pid=18565, ip=192.168.8.53)\u001b[0m \u001b[6;30;42mAL_Test_6\u001b[0m Test || Epoch: 110 || Accuracy: 65.08 || \n"
     ]
    },
    {
     "name": "stderr",
     "output_type": "stream",
     "text": [
      "\u001b[2m\u001b[36m(pid=18565, ip=192.168.8.53)\u001b[0m \n",
      "\u001b[2m\u001b[36m(pid=18565, ip=192.168.8.53)\u001b[0m wandb: Waiting for W&B process to finish, PID 18593\n",
      "\u001b[2m\u001b[36m(pid=18565, ip=192.168.8.53)\u001b[0m wandb: Program ended successfully.\n",
      "\u001b[2m\u001b[36m(pid=18968, ip=192.168.8.53)\u001b[0m /home/reminiz/ReminizML2/python_env/lib/python3.7/site-packages/tensorflow/python/framework/dtypes.py:526: FutureWarning: Passing (type, 1) or '1type' as a synonym of type is deprecated; in a future version of numpy, it will be understood as (type, (1,)) / '(1,)type'.\n",
      "\u001b[2m\u001b[36m(pid=18968, ip=192.168.8.53)\u001b[0m   _np_qint8 = np.dtype([(\"qint8\", np.int8, 1)])\n",
      "\u001b[2m\u001b[36m(pid=18968, ip=192.168.8.53)\u001b[0m /home/reminiz/ReminizML2/python_env/lib/python3.7/site-packages/tensorflow/python/framework/dtypes.py:527: FutureWarning: Passing (type, 1) or '1type' as a synonym of type is deprecated; in a future version of numpy, it will be understood as (type, (1,)) / '(1,)type'.\n",
      "\u001b[2m\u001b[36m(pid=18968, ip=192.168.8.53)\u001b[0m   _np_quint8 = np.dtype([(\"quint8\", np.uint8, 1)])\n",
      "\u001b[2m\u001b[36m(pid=18968, ip=192.168.8.53)\u001b[0m /home/reminiz/ReminizML2/python_env/lib/python3.7/site-packages/tensorflow/python/framework/dtypes.py:528: FutureWarning: Passing (type, 1) or '1type' as a synonym of type is deprecated; in a future version of numpy, it will be understood as (type, (1,)) / '(1,)type'.\n",
      "\u001b[2m\u001b[36m(pid=18968, ip=192.168.8.53)\u001b[0m   _np_qint16 = np.dtype([(\"qint16\", np.int16, 1)])\n",
      "\u001b[2m\u001b[36m(pid=18968, ip=192.168.8.53)\u001b[0m /home/reminiz/ReminizML2/python_env/lib/python3.7/site-packages/tensorflow/python/framework/dtypes.py:529: FutureWarning: Passing (type, 1) or '1type' as a synonym of type is deprecated; in a future version of numpy, it will be understood as (type, (1,)) / '(1,)type'.\n",
      "\u001b[2m\u001b[36m(pid=18968, ip=192.168.8.53)\u001b[0m   _np_quint16 = np.dtype([(\"quint16\", np.uint16, 1)])\n",
      "\u001b[2m\u001b[36m(pid=18968, ip=192.168.8.53)\u001b[0m /home/reminiz/ReminizML2/python_env/lib/python3.7/site-packages/tensorflow/python/framework/dtypes.py:530: FutureWarning: Passing (type, 1) or '1type' as a synonym of type is deprecated; in a future version of numpy, it will be understood as (type, (1,)) / '(1,)type'.\n",
      "\u001b[2m\u001b[36m(pid=18968, ip=192.168.8.53)\u001b[0m   _np_qint32 = np.dtype([(\"qint32\", np.int32, 1)])\n",
      "\u001b[2m\u001b[36m(pid=18968, ip=192.168.8.53)\u001b[0m /home/reminiz/ReminizML2/python_env/lib/python3.7/site-packages/tensorflow/python/framework/dtypes.py:535: FutureWarning: Passing (type, 1) or '1type' as a synonym of type is deprecated; in a future version of numpy, it will be understood as (type, (1,)) / '(1,)type'.\n",
      "\u001b[2m\u001b[36m(pid=18968, ip=192.168.8.53)\u001b[0m   np_resource = np.dtype([(\"resource\", np.ubyte, 1)])\n",
      "\u001b[2m\u001b[36m(pid=18565, ip=192.168.8.53)\u001b[0m wandb: Run summary:\n",
      "\u001b[2m\u001b[36m(pid=18565, ip=192.168.8.53)\u001b[0m wandb:                                     _step 110\n",
      "\u001b[2m\u001b[36m(pid=18565, ip=192.168.8.53)\u001b[0m wandb:                                  F1 score 0.6523721584723517\n",
      "\u001b[2m\u001b[36m(pid=18565, ip=192.168.8.53)\u001b[0m wandb:                                  _runtime 184.84403109550476\n",
      "\u001b[2m\u001b[36m(pid=18565, ip=192.168.8.53)\u001b[0m wandb:                                _timestamp 1607091009.9677556\n",
      "\u001b[2m\u001b[36m(pid=18565, ip=192.168.8.53)\u001b[0m wandb:                     Explained variance v1 -0.04158902168273926\n",
      "\u001b[2m\u001b[36m(pid=18565, ip=192.168.8.53)\u001b[0m wandb:                     Explained variance v2 -0.027539849281311035\n",
      "\u001b[2m\u001b[36m(pid=18565, ip=192.168.8.53)\u001b[0m wandb:                     Mean squared error v1 16.747835159301758\n",
      "\u001b[2m\u001b[36m(pid=18565, ip=192.168.8.53)\u001b[0m wandb:                     Mean squared error v2 27.678077697753906\n",
      "\u001b[2m\u001b[36m(pid=18565, ip=192.168.8.53)\u001b[0m wandb:                    Mean absolute error v1 2.5156538486480713\n",
      "\u001b[2m\u001b[36m(pid=18565, ip=192.168.8.53)\u001b[0m wandb:                    Mean absolute error v2 3.5857949256896973\n",
      "\u001b[2m\u001b[36m(pid=18565, ip=192.168.8.53)\u001b[0m wandb:                Area Under the Curve (AUC) 0.780052447564756\n",
      "\u001b[2m\u001b[36m(pid=18565, ip=192.168.8.53)\u001b[0m wandb:             Test: Classification Accuracy 0.6508\n",
      "\u001b[2m\u001b[36m(pid=18565, ip=192.168.8.53)\u001b[0m wandb: Syncing files in ../../../Trainings/wandb/wandb/run-20201204_141000-32tlp2kp:\n",
      "\u001b[2m\u001b[36m(pid=18565, ip=192.168.8.53)\u001b[0m wandb:   code/default_worker.py\n",
      "\u001b[2m\u001b[36m(pid=18565, ip=192.168.8.53)\u001b[0m wandb: plus 8 W&B file(s) and 2 media file(s)\n",
      "\u001b[2m\u001b[36m(pid=18565, ip=192.168.8.53)\u001b[0m wandb: - 0.99MB of 1.03MB uploaded\n",
      "\u001b[2m\u001b[36m(pid=18565, ip=192.168.8.53)\u001b[0m wandb: \\ 1.03MB of 1.03MB uploaded\n",
      "\u001b[2m\u001b[36m(pid=18565, ip=192.168.8.53)\u001b[0m wandb: | 1.03MB of 1.03MB uploaded\n"
     ]
    },
    {
     "name": "stdout",
     "output_type": "stream",
     "text": [
      "\u001b[2m\u001b[36m(pid=13443, ip=192.168.8.54)\u001b[0m \u001b[6;30;42mAL_Train_6\u001b[0m Epoch: 116 / 201 || Time: 2020-12-04 15:10:12 || Accuracy: 99.10 || MAE LossNet: 0.45 || \n"
     ]
    },
    {
     "name": "stderr",
     "output_type": "stream",
     "text": [
      "\u001b[2m\u001b[36m(pid=18565, ip=192.168.8.53)\u001b[0m wandb: / 1.03MB of 1.03MB uploaded\n",
      "\u001b[2m\u001b[36m(pid=18565, ip=192.168.8.53)\u001b[0m wandb: - 1.03MB of 1.03MB uploaded\n",
      "wandb:                                                                                \n",
      "\u001b[2m\u001b[36m(pid=18565, ip=192.168.8.53)\u001b[0m wandb: Synced AL_Test_6: http://192.168.8.51:8080/reminiz/Active_Learning_CIFAR/runs/32tlp2kp\n",
      "\u001b[2m\u001b[36m(pid=18968, ip=192.168.8.53)\u001b[0m wandb: Tracking run with wandb version 0.8.36\n",
      "\u001b[2m\u001b[36m(pid=18968, ip=192.168.8.53)\u001b[0m wandb: Wandb version 0.10.12 is available!  To upgrade, please run:\n",
      "\u001b[2m\u001b[36m(pid=18968, ip=192.168.8.53)\u001b[0m wandb:  $ pip install wandb --upgrade\n",
      "\u001b[2m\u001b[36m(pid=18968, ip=192.168.8.53)\u001b[0m wandb: Run data is saved locally in ../../../Trainings/wandb/wandb/run-20201204_141012-32tlp2kp\n",
      "\u001b[2m\u001b[36m(pid=18968, ip=192.168.8.53)\u001b[0m wandb: Syncing run AL_Test_6\n",
      "\u001b[2m\u001b[36m(pid=18968, ip=192.168.8.53)\u001b[0m wandb: ⭐️ View project at http://192.168.8.51:8080/reminiz/Active_Learning_CIFAR\n",
      "\u001b[2m\u001b[36m(pid=18968, ip=192.168.8.53)\u001b[0m wandb: 🚀 View run at http://192.168.8.51:8080/reminiz/Active_Learning_CIFAR/runs/32tlp2kp\n",
      "\u001b[2m\u001b[36m(pid=18968, ip=192.168.8.53)\u001b[0m wandb: Run `wandb off` to turn off syncing.\n"
     ]
    },
    {
     "name": "stdout",
     "output_type": "stream",
     "text": [
      "\u001b[2m\u001b[36m(pid=13443, ip=192.168.8.54)\u001b[0m \u001b[6;30;42mAL_Train_6\u001b[0m Epoch: 117 / 201 || Time: 2020-12-04 15:10:13 || Accuracy: 98.90 || MAE LossNet: 0.44 || \n"
     ]
    },
    {
     "name": "stderr",
     "output_type": "stream",
     "text": [
      "\u001b[2m\u001b[36m(pid=18968, ip=192.168.8.53)\u001b[0m \n"
     ]
    },
    {
     "name": "stdout",
     "output_type": "stream",
     "text": [
      "\u001b[2m\u001b[36m(pid=18968, ip=192.168.8.53)\u001b[0m CIFAR10 Training data shape: (50000, 32, 32, 3)\n",
      "\u001b[2m\u001b[36m(pid=18968, ip=192.168.8.53)\u001b[0m CIFAR10 Training label shape (50000, 1)\n",
      "\u001b[2m\u001b[36m(pid=18968, ip=192.168.8.53)\u001b[0m CIFAR10 Test data shape (10000, 32, 32, 3)\n",
      "\u001b[2m\u001b[36m(pid=18968, ip=192.168.8.53)\u001b[0m CIFAR10 Test label shape (10000, 1)\n"
     ]
    },
    {
     "name": "stderr",
     "output_type": "stream",
     "text": [
      "\u001b[2m\u001b[36m(pid=18968, ip=192.168.8.53)\u001b[0m WARNING:tensorflow:From /home/reminiz/ReminizML2/python_env/lib/python3.7/site-packages/tensorflow/python/data/ops/dataset_ops.py:429: py_func (from tensorflow.python.ops.script_ops) is deprecated and will be removed in a future version.\n",
      "\u001b[2m\u001b[36m(pid=18968, ip=192.168.8.53)\u001b[0m Instructions for updating:\n",
      "\u001b[2m\u001b[36m(pid=18968, ip=192.168.8.53)\u001b[0m tf.py_func is deprecated in TF V2. Instead, use\n",
      "\u001b[2m\u001b[36m(pid=18968, ip=192.168.8.53)\u001b[0m     tf.py_function, which takes a python function which manipulates tf eager\n",
      "\u001b[2m\u001b[36m(pid=18968, ip=192.168.8.53)\u001b[0m     tensors instead of numpy arrays. It's easy to convert a tf eager tensor to\n",
      "\u001b[2m\u001b[36m(pid=18968, ip=192.168.8.53)\u001b[0m     an ndarray (just call tensor.numpy()) but having access to eager tensors\n",
      "\u001b[2m\u001b[36m(pid=18968, ip=192.168.8.53)\u001b[0m     means `tf.py_function`s can use accelerators such as GPUs as well as\n",
      "\u001b[2m\u001b[36m(pid=18968, ip=192.168.8.53)\u001b[0m     being differentiable using a gradient tape.\n",
      "\u001b[2m\u001b[36m(pid=18968, ip=192.168.8.53)\u001b[0m     \n",
      "\u001b[2m\u001b[36m(pid=18968, ip=192.168.8.53)\u001b[0m WARNING:tensorflow:From /home/reminiz/ReminizML2/python_env/lib/python3.7/site-packages/tensorflow/python/ops/resource_variable_ops.py:435: colocate_with (from tensorflow.python.framework.ops) is deprecated and will be removed in a future version.\n",
      "\u001b[2m\u001b[36m(pid=18968, ip=192.168.8.53)\u001b[0m Instructions for updating:\n",
      "\u001b[2m\u001b[36m(pid=18968, ip=192.168.8.53)\u001b[0m Colocations handled automatically by placer.\n"
     ]
    },
    {
     "name": "stdout",
     "output_type": "stream",
     "text": [
      "\u001b[2m\u001b[36m(pid=13443, ip=192.168.8.54)\u001b[0m \u001b[6;30;42mAL_Train_6\u001b[0m Epoch: 118 / 201 || Time: 2020-12-04 15:10:15 || Accuracy: 99.10 || MAE LossNet: 0.41 || \n"
     ]
    },
    {
     "name": "stderr",
     "output_type": "stream",
     "text": [
      "\u001b[2m\u001b[36m(pid=18968, ip=192.168.8.53)\u001b[0m 2020-12-04 15:10:16.112301: I tensorflow/core/platform/cpu_feature_guard.cc:141] Your CPU supports instructions that this TensorFlow binary was not compiled to use: AVX2 FMA\n",
      "\u001b[2m\u001b[36m(pid=18968, ip=192.168.8.53)\u001b[0m 2020-12-04 15:10:16.133042: I tensorflow/core/platform/profile_utils/cpu_utils.cc:94] CPU Frequency: 3499950000 Hz\n",
      "\u001b[2m\u001b[36m(pid=18968, ip=192.168.8.53)\u001b[0m 2020-12-04 15:10:16.133735: I tensorflow/compiler/xla/service/service.cc:150] XLA service 0x556f72448e50 executing computations on platform Host. Devices:\n",
      "\u001b[2m\u001b[36m(pid=18968, ip=192.168.8.53)\u001b[0m 2020-12-04 15:10:16.133776: I tensorflow/compiler/xla/service/service.cc:158]   StreamExecutor device (0): <undefined>, <undefined>\n",
      "\u001b[2m\u001b[36m(pid=18968, ip=192.168.8.53)\u001b[0m 2020-12-04 15:10:16.251735: I tensorflow/compiler/xla/service/service.cc:150] XLA service 0x556f6f07f3a0 executing computations on platform CUDA. Devices:\n",
      "\u001b[2m\u001b[36m(pid=18968, ip=192.168.8.53)\u001b[0m 2020-12-04 15:10:16.251771: I tensorflow/compiler/xla/service/service.cc:158]   StreamExecutor device (0): GeForce GTX TITAN X, Compute Capability 5.2\n",
      "\u001b[2m\u001b[36m(pid=18968, ip=192.168.8.53)\u001b[0m 2020-12-04 15:10:16.251910: I tensorflow/core/common_runtime/gpu/gpu_device.cc:1433] Found device 0 with properties: \n",
      "\u001b[2m\u001b[36m(pid=18968, ip=192.168.8.53)\u001b[0m name: GeForce GTX TITAN X major: 5 minor: 2 memoryClockRate(GHz): 1.076\n",
      "\u001b[2m\u001b[36m(pid=18968, ip=192.168.8.53)\u001b[0m pciBusID: 0000:02:00.0\n",
      "\u001b[2m\u001b[36m(pid=18968, ip=192.168.8.53)\u001b[0m totalMemory: 11.93GiB freeMemory: 11.82GiB\n",
      "\u001b[2m\u001b[36m(pid=18968, ip=192.168.8.53)\u001b[0m 2020-12-04 15:10:16.251935: I tensorflow/core/common_runtime/gpu/gpu_device.cc:1512] Adding visible gpu devices: 0\n",
      "\u001b[2m\u001b[36m(pid=18968, ip=192.168.8.53)\u001b[0m 2020-12-04 15:10:16.253855: I tensorflow/core/common_runtime/gpu/gpu_device.cc:984] Device interconnect StreamExecutor with strength 1 edge matrix:\n",
      "\u001b[2m\u001b[36m(pid=18968, ip=192.168.8.53)\u001b[0m 2020-12-04 15:10:16.253878: I tensorflow/core/common_runtime/gpu/gpu_device.cc:990]      0 \n",
      "\u001b[2m\u001b[36m(pid=18968, ip=192.168.8.53)\u001b[0m 2020-12-04 15:10:16.253889: I tensorflow/core/common_runtime/gpu/gpu_device.cc:1003] 0:   N \n",
      "\u001b[2m\u001b[36m(pid=18968, ip=192.168.8.53)\u001b[0m 2020-12-04 15:10:16.253980: I tensorflow/core/common_runtime/gpu/gpu_device.cc:1115] Created TensorFlow device (/job:localhost/replica:0/task:0/device:GPU:0 with 11496 MB memory) -> physical GPU (device: 0, name: GeForce GTX TITAN X, pci bus id: 0000:02:00.0, compute capability: 5.2)\n"
     ]
    },
    {
     "name": "stdout",
     "output_type": "stream",
     "text": [
      "\u001b[2m\u001b[36m(pid=18968, ip=192.168.8.53)\u001b[0m \u001b[6;30;42mAL_Test_6\u001b[0m Restoring from /mnt/Ressources/Andres/Temp_active/runs/Active_Learning_v0/Stage_6/checkpoint/epoch115.ckpt-115\n"
     ]
    },
    {
     "name": "stderr",
     "output_type": "stream",
     "text": [
      "\u001b[2m\u001b[36m(pid=18968, ip=192.168.8.53)\u001b[0m WARNING:tensorflow:From /home/reminiz/ReminizML2/python_env/lib/python3.7/site-packages/tensorflow/python/training/saver.py:1266: checkpoint_exists (from tensorflow.python.training.checkpoint_management) is deprecated and will be removed in a future version.\n",
      "\u001b[2m\u001b[36m(pid=18968, ip=192.168.8.53)\u001b[0m Instructions for updating:\n",
      "\u001b[2m\u001b[36m(pid=18968, ip=192.168.8.53)\u001b[0m Use standard file APIs to check for files with this prefix.\n"
     ]
    },
    {
     "name": "stdout",
     "output_type": "stream",
     "text": [
      "\u001b[2m\u001b[36m(pid=13443, ip=192.168.8.54)\u001b[0m \u001b[6;30;42mAL_Train_6\u001b[0m Epoch: 119 / 201 || Time: 2020-12-04 15:10:16 || Accuracy: 99.61 || MAE LossNet: 0.43 || \n"
     ]
    },
    {
     "name": "stderr",
     "output_type": "stream",
     "text": [
      "\u001b[2m\u001b[36m(pid=18968, ip=192.168.8.53)\u001b[0m 2020-12-04 15:10:17.694121: I tensorflow/stream_executor/dso_loader.cc:152] successfully opened CUDA library libcublas.so.10.0 locally\n"
     ]
    },
    {
     "name": "stdout",
     "output_type": "stream",
     "text": [
      "\u001b[2m\u001b[36m(pid=13443, ip=192.168.8.54)\u001b[0m \u001b[6;30;42mAL_Train_6\u001b[0m Epoch: 120 / 201 || Time: 2020-12-04 15:10:18 || Accuracy: 99.51 || MAE LossNet: 0.40 || \n",
      "\u001b[2m\u001b[36m(pid=18968, ip=192.168.8.53)\u001b[0m \u001b[6;30;42mAL_Test_6\u001b[0m Test || Epoch: 115 || Accuracy: 64.84 || \n"
     ]
    },
    {
     "name": "stderr",
     "output_type": "stream",
     "text": [
      "\u001b[2m\u001b[36m(pid=18968, ip=192.168.8.53)\u001b[0m \n",
      "\u001b[2m\u001b[36m(pid=18968, ip=192.168.8.53)\u001b[0m wandb: Waiting for W&B process to finish, PID 18999\n",
      "\u001b[2m\u001b[36m(pid=18968, ip=192.168.8.53)\u001b[0m wandb: Program ended successfully.\n",
      "\u001b[2m\u001b[36m(pid=13584, ip=192.168.8.55)\u001b[0m /home/reminiz/ReminizML2/python_env/lib/python3.7/site-packages/tensorflow/python/framework/dtypes.py:526: FutureWarning: Passing (type, 1) or '1type' as a synonym of type is deprecated; in a future version of numpy, it will be understood as (type, (1,)) / '(1,)type'.\n",
      "\u001b[2m\u001b[36m(pid=13584, ip=192.168.8.55)\u001b[0m   _np_qint8 = np.dtype([(\"qint8\", np.int8, 1)])\n",
      "\u001b[2m\u001b[36m(pid=13584, ip=192.168.8.55)\u001b[0m /home/reminiz/ReminizML2/python_env/lib/python3.7/site-packages/tensorflow/python/framework/dtypes.py:527: FutureWarning: Passing (type, 1) or '1type' as a synonym of type is deprecated; in a future version of numpy, it will be understood as (type, (1,)) / '(1,)type'.\n",
      "\u001b[2m\u001b[36m(pid=13584, ip=192.168.8.55)\u001b[0m   _np_quint8 = np.dtype([(\"quint8\", np.uint8, 1)])\n",
      "\u001b[2m\u001b[36m(pid=13584, ip=192.168.8.55)\u001b[0m /home/reminiz/ReminizML2/python_env/lib/python3.7/site-packages/tensorflow/python/framework/dtypes.py:528: FutureWarning: Passing (type, 1) or '1type' as a synonym of type is deprecated; in a future version of numpy, it will be understood as (type, (1,)) / '(1,)type'.\n",
      "\u001b[2m\u001b[36m(pid=13584, ip=192.168.8.55)\u001b[0m   _np_qint16 = np.dtype([(\"qint16\", np.int16, 1)])\n",
      "\u001b[2m\u001b[36m(pid=13584, ip=192.168.8.55)\u001b[0m /home/reminiz/ReminizML2/python_env/lib/python3.7/site-packages/tensorflow/python/framework/dtypes.py:529: FutureWarning: Passing (type, 1) or '1type' as a synonym of type is deprecated; in a future version of numpy, it will be understood as (type, (1,)) / '(1,)type'.\n",
      "\u001b[2m\u001b[36m(pid=13584, ip=192.168.8.55)\u001b[0m   _np_quint16 = np.dtype([(\"quint16\", np.uint16, 1)])\n",
      "\u001b[2m\u001b[36m(pid=13584, ip=192.168.8.55)\u001b[0m /home/reminiz/ReminizML2/python_env/lib/python3.7/site-packages/tensorflow/python/framework/dtypes.py:530: FutureWarning: Passing (type, 1) or '1type' as a synonym of type is deprecated; in a future version of numpy, it will be understood as (type, (1,)) / '(1,)type'.\n",
      "\u001b[2m\u001b[36m(pid=13584, ip=192.168.8.55)\u001b[0m   _np_qint32 = np.dtype([(\"qint32\", np.int32, 1)])\n",
      "\u001b[2m\u001b[36m(pid=13584, ip=192.168.8.55)\u001b[0m /home/reminiz/ReminizML2/python_env/lib/python3.7/site-packages/tensorflow/python/framework/dtypes.py:535: FutureWarning: Passing (type, 1) or '1type' as a synonym of type is deprecated; in a future version of numpy, it will be understood as (type, (1,)) / '(1,)type'.\n",
      "\u001b[2m\u001b[36m(pid=13584, ip=192.168.8.55)\u001b[0m   np_resource = np.dtype([(\"resource\", np.ubyte, 1)])\n",
      "\u001b[2m\u001b[36m(pid=18968, ip=192.168.8.53)\u001b[0m wandb: Run summary:\n",
      "\u001b[2m\u001b[36m(pid=18968, ip=192.168.8.53)\u001b[0m wandb:                                     _step 115\n",
      "\u001b[2m\u001b[36m(pid=18968, ip=192.168.8.53)\u001b[0m wandb:                                  F1 score 0.6472106361110269\n",
      "\u001b[2m\u001b[36m(pid=18968, ip=192.168.8.53)\u001b[0m wandb:                                  _runtime 194.10220956802368\n",
      "\u001b[2m\u001b[36m(pid=18968, ip=192.168.8.53)\u001b[0m wandb:                                _timestamp 1607091021.9912062\n",
      "\u001b[2m\u001b[36m(pid=18968, ip=192.168.8.53)\u001b[0m wandb:                     Explained variance v1 -0.037125468254089355\n",
      "\u001b[2m\u001b[36m(pid=18968, ip=192.168.8.53)\u001b[0m wandb:                     Explained variance v2 -0.02625739574432373\n",
      "\u001b[2m\u001b[36m(pid=18968, ip=192.168.8.53)\u001b[0m wandb:                     Mean squared error v1 19.246322631835938\n",
      "\u001b[2m\u001b[36m(pid=18968, ip=192.168.8.53)\u001b[0m wandb:                     Mean squared error v2 30.80085563659668\n",
      "\u001b[2m\u001b[36m(pid=18968, ip=192.168.8.53)\u001b[0m wandb:                    Mean absolute error v1 2.70237398147583\n",
      "\u001b[2m\u001b[36m(pid=18968, ip=192.168.8.53)\u001b[0m wandb:                    Mean absolute error v2 3.793551445007324\n",
      "\u001b[2m\u001b[36m(pid=18968, ip=192.168.8.53)\u001b[0m wandb:                Area Under the Curve (AUC) 0.7791606485273279\n",
      "\u001b[2m\u001b[36m(pid=18968, ip=192.168.8.53)\u001b[0m wandb:             Test: Classification Accuracy 0.6484\n",
      "\u001b[2m\u001b[36m(pid=18968, ip=192.168.8.53)\u001b[0m wandb: Syncing files in ../../../Trainings/wandb/wandb/run-20201204_141012-32tlp2kp:\n",
      "\u001b[2m\u001b[36m(pid=18968, ip=192.168.8.53)\u001b[0m wandb:   code/default_worker.py\n",
      "\u001b[2m\u001b[36m(pid=18968, ip=192.168.8.53)\u001b[0m wandb: plus 8 W&B file(s) and 2 media file(s)\n",
      "\u001b[2m\u001b[36m(pid=18968, ip=192.168.8.53)\u001b[0m wandb: - 1.00MB of 1.00MB uploaded\n",
      "\u001b[2m\u001b[36m(pid=13584, ip=192.168.8.55)\u001b[0m wandb: Tracking run with wandb version 0.8.36\n",
      "\u001b[2m\u001b[36m(pid=18968, ip=192.168.8.53)\u001b[0m wandb: \\ 1.00MB of 1.00MB uploaded\n",
      "\u001b[2m\u001b[36m(pid=18968, ip=192.168.8.53)\u001b[0m wandb: | 1.00MB of 1.00MB uploaded\n",
      "\u001b[2m\u001b[36m(pid=13584, ip=192.168.8.55)\u001b[0m wandb: Wandb version 0.10.12 is available!  To upgrade, please run:\n",
      "\u001b[2m\u001b[36m(pid=13584, ip=192.168.8.55)\u001b[0m wandb:  $ pip install wandb --upgrade\n",
      "\u001b[2m\u001b[36m(pid=13584, ip=192.168.8.55)\u001b[0m wandb: Run data is saved locally in ../../../Trainings/wandb/wandb/run-20201204_141023-32tlp2kp\n",
      "\u001b[2m\u001b[36m(pid=18968, ip=192.168.8.53)\u001b[0m wandb: / 1.00MB of 1.00MB uploaded\n",
      "\u001b[2m\u001b[36m(pid=13584, ip=192.168.8.55)\u001b[0m wandb: Syncing run AL_Test_6\n",
      "\u001b[2m\u001b[36m(pid=13584, ip=192.168.8.55)\u001b[0m wandb: ⭐️ View project at http://192.168.8.51:8080/reminiz/Active_Learning_CIFAR\n",
      "\u001b[2m\u001b[36m(pid=13584, ip=192.168.8.55)\u001b[0m wandb: 🚀 View run at http://192.168.8.51:8080/reminiz/Active_Learning_CIFAR/runs/32tlp2kp\n",
      "\u001b[2m\u001b[36m(pid=13584, ip=192.168.8.55)\u001b[0m wandb: Run `wandb off` to turn off syncing.\n",
      "\u001b[2m\u001b[36m(pid=13584, ip=192.168.8.55)\u001b[0m \n",
      "wandb:                                                                                \n",
      "\u001b[2m\u001b[36m(pid=18968, ip=192.168.8.53)\u001b[0m wandb: Synced AL_Test_6: http://192.168.8.51:8080/reminiz/Active_Learning_CIFAR/runs/32tlp2kp\n"
     ]
    },
    {
     "name": "stdout",
     "output_type": "stream",
     "text": [
      "\u001b[2m\u001b[36m(pid=13584, ip=192.168.8.55)\u001b[0m CIFAR10 Training data shape: (50000, 32, 32, 3)\n",
      "\u001b[2m\u001b[36m(pid=13584, ip=192.168.8.55)\u001b[0m CIFAR10 Training label shape (50000, 1)\n",
      "\u001b[2m\u001b[36m(pid=13584, ip=192.168.8.55)\u001b[0m CIFAR10 Test data shape (10000, 32, 32, 3)\n",
      "\u001b[2m\u001b[36m(pid=13584, ip=192.168.8.55)\u001b[0m CIFAR10 Test label shape (10000, 1)\n",
      "\u001b[2m\u001b[36m(pid=13443, ip=192.168.8.54)\u001b[0m \u001b[6;30;42mAL_Train_6\u001b[0m Epoch: 121 / 201 || Time: 2020-12-04 15:10:25 || Accuracy: 99.71 || MAE LossNet: 0.42 || \n"
     ]
    },
    {
     "name": "stderr",
     "output_type": "stream",
     "text": [
      "\u001b[2m\u001b[36m(pid=13584, ip=192.168.8.55)\u001b[0m WARNING:tensorflow:From /home/reminiz/ReminizML2/python_env/lib/python3.7/site-packages/tensorflow/python/data/ops/dataset_ops.py:429: py_func (from tensorflow.python.ops.script_ops) is deprecated and will be removed in a future version.\n",
      "\u001b[2m\u001b[36m(pid=13584, ip=192.168.8.55)\u001b[0m Instructions for updating:\n",
      "\u001b[2m\u001b[36m(pid=13584, ip=192.168.8.55)\u001b[0m tf.py_func is deprecated in TF V2. Instead, use\n",
      "\u001b[2m\u001b[36m(pid=13584, ip=192.168.8.55)\u001b[0m     tf.py_function, which takes a python function which manipulates tf eager\n",
      "\u001b[2m\u001b[36m(pid=13584, ip=192.168.8.55)\u001b[0m     tensors instead of numpy arrays. It's easy to convert a tf eager tensor to\n",
      "\u001b[2m\u001b[36m(pid=13584, ip=192.168.8.55)\u001b[0m     an ndarray (just call tensor.numpy()) but having access to eager tensors\n",
      "\u001b[2m\u001b[36m(pid=13584, ip=192.168.8.55)\u001b[0m     means `tf.py_function`s can use accelerators such as GPUs as well as\n",
      "\u001b[2m\u001b[36m(pid=13584, ip=192.168.8.55)\u001b[0m     being differentiable using a gradient tape.\n",
      "\u001b[2m\u001b[36m(pid=13584, ip=192.168.8.55)\u001b[0m     \n",
      "\u001b[2m\u001b[36m(pid=13584, ip=192.168.8.55)\u001b[0m WARNING:tensorflow:From /home/reminiz/ReminizML2/python_env/lib/python3.7/site-packages/tensorflow/python/ops/resource_variable_ops.py:435: colocate_with (from tensorflow.python.framework.ops) is deprecated and will be removed in a future version.\n",
      "\u001b[2m\u001b[36m(pid=13584, ip=192.168.8.55)\u001b[0m Instructions for updating:\n",
      "\u001b[2m\u001b[36m(pid=13584, ip=192.168.8.55)\u001b[0m Colocations handled automatically by placer.\n"
     ]
    },
    {
     "name": "stdout",
     "output_type": "stream",
     "text": [
      "\u001b[2m\u001b[36m(pid=13443, ip=192.168.8.54)\u001b[0m \u001b[6;30;42mAL_Train_6\u001b[0m Epoch: 122 / 201 || Time: 2020-12-04 15:10:26 || Accuracy: 99.71 || MAE LossNet: 0.39 || \n"
     ]
    },
    {
     "name": "stderr",
     "output_type": "stream",
     "text": [
      "\u001b[2m\u001b[36m(pid=13584, ip=192.168.8.55)\u001b[0m 2020-12-04 15:10:26.856048: I tensorflow/core/platform/cpu_feature_guard.cc:141] Your CPU supports instructions that this TensorFlow binary was not compiled to use: AVX2 FMA\n",
      "\u001b[2m\u001b[36m(pid=13584, ip=192.168.8.55)\u001b[0m 2020-12-04 15:10:26.880358: I tensorflow/core/platform/profile_utils/cpu_utils.cc:94] CPU Frequency: 3599935000 Hz\n",
      "\u001b[2m\u001b[36m(pid=13584, ip=192.168.8.55)\u001b[0m 2020-12-04 15:10:26.881107: I tensorflow/compiler/xla/service/service.cc:150] XLA service 0x60da090 executing computations on platform Host. Devices:\n",
      "\u001b[2m\u001b[36m(pid=13584, ip=192.168.8.55)\u001b[0m 2020-12-04 15:10:26.881131: I tensorflow/compiler/xla/service/service.cc:158]   StreamExecutor device (0): <undefined>, <undefined>\n",
      "\u001b[2m\u001b[36m(pid=13584, ip=192.168.8.55)\u001b[0m 2020-12-04 15:10:26.986516: I tensorflow/compiler/xla/service/service.cc:150] XLA service 0x60df710 executing computations on platform CUDA. Devices:\n",
      "\u001b[2m\u001b[36m(pid=13584, ip=192.168.8.55)\u001b[0m 2020-12-04 15:10:26.986560: I tensorflow/compiler/xla/service/service.cc:158]   StreamExecutor device (0): GeForce GTX 1080 Ti, Compute Capability 6.1\n",
      "\u001b[2m\u001b[36m(pid=13584, ip=192.168.8.55)\u001b[0m 2020-12-04 15:10:26.986750: I tensorflow/core/common_runtime/gpu/gpu_device.cc:1433] Found device 0 with properties: \n",
      "\u001b[2m\u001b[36m(pid=13584, ip=192.168.8.55)\u001b[0m name: GeForce GTX 1080 Ti major: 6 minor: 1 memoryClockRate(GHz): 1.62\n",
      "\u001b[2m\u001b[36m(pid=13584, ip=192.168.8.55)\u001b[0m pciBusID: 0000:4c:00.0\n",
      "\u001b[2m\u001b[36m(pid=13584, ip=192.168.8.55)\u001b[0m totalMemory: 10.91GiB freeMemory: 10.77GiB\n",
      "\u001b[2m\u001b[36m(pid=13584, ip=192.168.8.55)\u001b[0m 2020-12-04 15:10:26.986786: I tensorflow/core/common_runtime/gpu/gpu_device.cc:1512] Adding visible gpu devices: 0\n",
      "\u001b[2m\u001b[36m(pid=13584, ip=192.168.8.55)\u001b[0m 2020-12-04 15:10:26.989011: I tensorflow/core/common_runtime/gpu/gpu_device.cc:984] Device interconnect StreamExecutor with strength 1 edge matrix:\n",
      "\u001b[2m\u001b[36m(pid=13584, ip=192.168.8.55)\u001b[0m 2020-12-04 15:10:26.989038: I tensorflow/core/common_runtime/gpu/gpu_device.cc:990]      0 \n",
      "\u001b[2m\u001b[36m(pid=13584, ip=192.168.8.55)\u001b[0m 2020-12-04 15:10:26.989049: I tensorflow/core/common_runtime/gpu/gpu_device.cc:1003] 0:   N \n",
      "\u001b[2m\u001b[36m(pid=13584, ip=192.168.8.55)\u001b[0m 2020-12-04 15:10:26.989146: I tensorflow/core/common_runtime/gpu/gpu_device.cc:1115] Created TensorFlow device (/job:localhost/replica:0/task:0/device:GPU:0 with 10479 MB memory) -> physical GPU (device: 0, name: GeForce GTX 1080 Ti, pci bus id: 0000:4c:00.0, compute capability: 6.1)\n"
     ]
    },
    {
     "name": "stdout",
     "output_type": "stream",
     "text": [
      "\u001b[2m\u001b[36m(pid=13584, ip=192.168.8.55)\u001b[0m \u001b[6;30;42mAL_Test_6\u001b[0m Restoring from /mnt/Ressources/Andres/Temp_active/runs/Active_Learning_v0/Stage_6/checkpoint/epoch120.ckpt-120\n"
     ]
    },
    {
     "name": "stderr",
     "output_type": "stream",
     "text": [
      "\u001b[2m\u001b[36m(pid=13584, ip=192.168.8.55)\u001b[0m WARNING:tensorflow:From /home/reminiz/ReminizML2/python_env/lib/python3.7/site-packages/tensorflow/python/training/saver.py:1266: checkpoint_exists (from tensorflow.python.training.checkpoint_management) is deprecated and will be removed in a future version.\n",
      "\u001b[2m\u001b[36m(pid=13584, ip=192.168.8.55)\u001b[0m Instructions for updating:\n",
      "\u001b[2m\u001b[36m(pid=13584, ip=192.168.8.55)\u001b[0m Use standard file APIs to check for files with this prefix.\n"
     ]
    },
    {
     "name": "stdout",
     "output_type": "stream",
     "text": [
      "\u001b[2m\u001b[36m(pid=13443, ip=192.168.8.54)\u001b[0m \u001b[6;30;42mAL_Train_6\u001b[0m Epoch: 123 / 201 || Time: 2020-12-04 15:10:28 || Accuracy: 99.51 || MAE LossNet: 0.35 || \n"
     ]
    },
    {
     "name": "stderr",
     "output_type": "stream",
     "text": [
      "\u001b[2m\u001b[36m(pid=13584, ip=192.168.8.55)\u001b[0m 2020-12-04 15:10:28.380356: I tensorflow/stream_executor/dso_loader.cc:152] successfully opened CUDA library libcublas.so.10.0 locally\n"
     ]
    },
    {
     "name": "stdout",
     "output_type": "stream",
     "text": [
      "\u001b[2m\u001b[36m(pid=13443, ip=192.168.8.54)\u001b[0m \u001b[6;30;42mAL_Train_6\u001b[0m Epoch: 124 / 201 || Time: 2020-12-04 15:10:29 || Accuracy: 99.71 || MAE LossNet: 0.39 || \n",
      "\u001b[2m\u001b[36m(pid=13443, ip=192.168.8.54)\u001b[0m \u001b[6;30;42mAL_Train_6\u001b[0m Epoch: 125 / 201 || Time: 2020-12-04 15:10:31 || Accuracy: 99.59 || MAE LossNet: 0.40 || \n",
      "\u001b[2m\u001b[36m(pid=13584, ip=192.168.8.55)\u001b[0m \u001b[6;30;42mAL_Test_6\u001b[0m Test || Epoch: 120 || Accuracy: 65.28 || \n"
     ]
    },
    {
     "name": "stderr",
     "output_type": "stream",
     "text": [
      "\u001b[2m\u001b[36m(pid=13584, ip=192.168.8.55)\u001b[0m \n",
      "\u001b[2m\u001b[36m(pid=13584, ip=192.168.8.55)\u001b[0m wandb: Waiting for W&B process to finish, PID 13607\n",
      "\u001b[2m\u001b[36m(pid=13584, ip=192.168.8.55)\u001b[0m wandb: Program ended successfully.\n",
      "\u001b[2m\u001b[36m(pid=13584, ip=192.168.8.55)\u001b[0m wandb: Run summary:\n",
      "\u001b[2m\u001b[36m(pid=13584, ip=192.168.8.55)\u001b[0m wandb:                                     _step 120\n",
      "\u001b[2m\u001b[36m(pid=13584, ip=192.168.8.55)\u001b[0m wandb:                                  F1 score 0.6511401180839339\n",
      "\u001b[2m\u001b[36m(pid=13584, ip=192.168.8.55)\u001b[0m wandb:                                  _runtime 202.4753291606903\n",
      "\u001b[2m\u001b[36m(pid=13584, ip=192.168.8.55)\u001b[0m wandb:                                _timestamp 1607091032.000766\n",
      "\u001b[2m\u001b[36m(pid=13584, ip=192.168.8.55)\u001b[0m wandb:                     Explained variance v1 -0.05720710754394531\n",
      "\u001b[2m\u001b[36m(pid=13584, ip=192.168.8.55)\u001b[0m wandb:                     Explained variance v2 -0.036728620529174805\n",
      "\u001b[2m\u001b[36m(pid=13584, ip=192.168.8.55)\u001b[0m wandb:                     Mean squared error v1 21.75394630432129\n",
      "\u001b[2m\u001b[36m(pid=13584, ip=192.168.8.55)\u001b[0m wandb:                     Mean squared error v2 33.23488235473633\n",
      "\u001b[2m\u001b[36m(pid=13584, ip=192.168.8.55)\u001b[0m wandb:                    Mean absolute error v1 2.8839833736419678\n",
      "\u001b[2m\u001b[36m(pid=13584, ip=192.168.8.55)\u001b[0m wandb:                    Mean absolute error v2 3.9512619972229004\n",
      "\u001b[2m\u001b[36m(pid=13584, ip=192.168.8.55)\u001b[0m wandb:                Area Under the Curve (AUC) 0.779492130143388\n",
      "\u001b[2m\u001b[36m(pid=13584, ip=192.168.8.55)\u001b[0m wandb:             Test: Classification Accuracy 0.6528\n",
      "\u001b[2m\u001b[36m(pid=13584, ip=192.168.8.55)\u001b[0m wandb: Syncing files in ../../../Trainings/wandb/wandb/run-20201204_141023-32tlp2kp:\n",
      "\u001b[2m\u001b[36m(pid=13584, ip=192.168.8.55)\u001b[0m wandb:   code/default_worker.py\n",
      "\u001b[2m\u001b[36m(pid=13584, ip=192.168.8.55)\u001b[0m wandb: plus 8 W&B file(s) and 2 media file(s)\n",
      "\u001b[2m\u001b[36m(pid=13584, ip=192.168.8.55)\u001b[0m wandb: - 1.01MB of 1.01MB uploaded\n",
      "\u001b[2m\u001b[36m(pid=13584, ip=192.168.8.55)\u001b[0m wandb: \\ 1.01MB of 1.01MB uploaded\n",
      "\u001b[2m\u001b[36m(pid=13584, ip=192.168.8.55)\u001b[0m wandb: | 1.01MB of 1.01MB uploaded\n",
      "\u001b[2m\u001b[36m(pid=13584, ip=192.168.8.55)\u001b[0m wandb: / 1.01MB of 1.01MB uploaded\n",
      "wandb:                                                                                \n",
      "\u001b[2m\u001b[36m(pid=13584, ip=192.168.8.55)\u001b[0m wandb: Synced AL_Test_6: http://192.168.8.51:8080/reminiz/Active_Learning_CIFAR/runs/32tlp2kp\n",
      "\u001b[2m\u001b[36m(pid=19628, ip=192.168.8.53)\u001b[0m /home/reminiz/ReminizML2/python_env/lib/python3.7/site-packages/tensorflow/python/framework/dtypes.py:526: FutureWarning: Passing (type, 1) or '1type' as a synonym of type is deprecated; in a future version of numpy, it will be understood as (type, (1,)) / '(1,)type'.\n",
      "\u001b[2m\u001b[36m(pid=19628, ip=192.168.8.53)\u001b[0m   _np_qint8 = np.dtype([(\"qint8\", np.int8, 1)])\n",
      "\u001b[2m\u001b[36m(pid=19628, ip=192.168.8.53)\u001b[0m /home/reminiz/ReminizML2/python_env/lib/python3.7/site-packages/tensorflow/python/framework/dtypes.py:527: FutureWarning: Passing (type, 1) or '1type' as a synonym of type is deprecated; in a future version of numpy, it will be understood as (type, (1,)) / '(1,)type'.\n",
      "\u001b[2m\u001b[36m(pid=19628, ip=192.168.8.53)\u001b[0m   _np_quint8 = np.dtype([(\"quint8\", np.uint8, 1)])\n",
      "\u001b[2m\u001b[36m(pid=19628, ip=192.168.8.53)\u001b[0m /home/reminiz/ReminizML2/python_env/lib/python3.7/site-packages/tensorflow/python/framework/dtypes.py:528: FutureWarning: Passing (type, 1) or '1type' as a synonym of type is deprecated; in a future version of numpy, it will be understood as (type, (1,)) / '(1,)type'.\n",
      "\u001b[2m\u001b[36m(pid=19628, ip=192.168.8.53)\u001b[0m   _np_qint16 = np.dtype([(\"qint16\", np.int16, 1)])\n",
      "\u001b[2m\u001b[36m(pid=19628, ip=192.168.8.53)\u001b[0m /home/reminiz/ReminizML2/python_env/lib/python3.7/site-packages/tensorflow/python/framework/dtypes.py:529: FutureWarning: Passing (type, 1) or '1type' as a synonym of type is deprecated; in a future version of numpy, it will be understood as (type, (1,)) / '(1,)type'.\n",
      "\u001b[2m\u001b[36m(pid=19628, ip=192.168.8.53)\u001b[0m   _np_quint16 = np.dtype([(\"quint16\", np.uint16, 1)])\n",
      "\u001b[2m\u001b[36m(pid=19628, ip=192.168.8.53)\u001b[0m /home/reminiz/ReminizML2/python_env/lib/python3.7/site-packages/tensorflow/python/framework/dtypes.py:530: FutureWarning: Passing (type, 1) or '1type' as a synonym of type is deprecated; in a future version of numpy, it will be understood as (type, (1,)) / '(1,)type'.\n",
      "\u001b[2m\u001b[36m(pid=19628, ip=192.168.8.53)\u001b[0m   _np_qint32 = np.dtype([(\"qint32\", np.int32, 1)])\n",
      "\u001b[2m\u001b[36m(pid=19628, ip=192.168.8.53)\u001b[0m /home/reminiz/ReminizML2/python_env/lib/python3.7/site-packages/tensorflow/python/framework/dtypes.py:535: FutureWarning: Passing (type, 1) or '1type' as a synonym of type is deprecated; in a future version of numpy, it will be understood as (type, (1,)) / '(1,)type'.\n",
      "\u001b[2m\u001b[36m(pid=19628, ip=192.168.8.53)\u001b[0m   np_resource = np.dtype([(\"resource\", np.ubyte, 1)])\n"
     ]
    },
    {
     "name": "stdout",
     "output_type": "stream",
     "text": [
      "\u001b[2m\u001b[36m(pid=13443, ip=192.168.8.54)\u001b[0m \u001b[6;30;42mAL_Train_6\u001b[0m Epoch: 126 / 201 || Time: 2020-12-04 15:10:36 || Accuracy: 99.61 || MAE LossNet: 0.36 || \n"
     ]
    },
    {
     "name": "stderr",
     "output_type": "stream",
     "text": [
      "\u001b[2m\u001b[36m(pid=19628, ip=192.168.8.53)\u001b[0m wandb: Tracking run with wandb version 0.8.36\n",
      "\u001b[2m\u001b[36m(pid=19628, ip=192.168.8.53)\u001b[0m wandb: Wandb version 0.10.12 is available!  To upgrade, please run:\n",
      "\u001b[2m\u001b[36m(pid=19628, ip=192.168.8.53)\u001b[0m wandb:  $ pip install wandb --upgrade\n",
      "\u001b[2m\u001b[36m(pid=19628, ip=192.168.8.53)\u001b[0m wandb: Run data is saved locally in ../../../Trainings/wandb/wandb/run-20201204_141037-32tlp2kp\n",
      "\u001b[2m\u001b[36m(pid=19628, ip=192.168.8.53)\u001b[0m wandb: Syncing run AL_Test_6\n",
      "\u001b[2m\u001b[36m(pid=19628, ip=192.168.8.53)\u001b[0m wandb: ⭐️ View project at http://192.168.8.51:8080/reminiz/Active_Learning_CIFAR\n",
      "\u001b[2m\u001b[36m(pid=19628, ip=192.168.8.53)\u001b[0m wandb: 🚀 View run at http://192.168.8.51:8080/reminiz/Active_Learning_CIFAR/runs/32tlp2kp\n",
      "\u001b[2m\u001b[36m(pid=19628, ip=192.168.8.53)\u001b[0m wandb: Run `wandb off` to turn off syncing.\n"
     ]
    },
    {
     "name": "stdout",
     "output_type": "stream",
     "text": [
      "\u001b[2m\u001b[36m(pid=13443, ip=192.168.8.54)\u001b[0m \u001b[6;30;42mAL_Train_6\u001b[0m Epoch: 127 / 201 || Time: 2020-12-04 15:10:37 || Accuracy: 100.00 || MAE LossNet: 0.35 || \n"
     ]
    },
    {
     "name": "stderr",
     "output_type": "stream",
     "text": [
      "\u001b[2m\u001b[36m(pid=19628, ip=192.168.8.53)\u001b[0m \n"
     ]
    },
    {
     "name": "stdout",
     "output_type": "stream",
     "text": [
      "\u001b[2m\u001b[36m(pid=19628, ip=192.168.8.53)\u001b[0m CIFAR10 Training data shape: (50000, 32, 32, 3)\n",
      "\u001b[2m\u001b[36m(pid=19628, ip=192.168.8.53)\u001b[0m CIFAR10 Training label shape (50000, 1)\n",
      "\u001b[2m\u001b[36m(pid=19628, ip=192.168.8.53)\u001b[0m CIFAR10 Test data shape (10000, 32, 32, 3)\n",
      "\u001b[2m\u001b[36m(pid=19628, ip=192.168.8.53)\u001b[0m CIFAR10 Test label shape (10000, 1)\n"
     ]
    },
    {
     "name": "stderr",
     "output_type": "stream",
     "text": [
      "\u001b[2m\u001b[36m(pid=19628, ip=192.168.8.53)\u001b[0m WARNING:tensorflow:From /home/reminiz/ReminizML2/python_env/lib/python3.7/site-packages/tensorflow/python/data/ops/dataset_ops.py:429: py_func (from tensorflow.python.ops.script_ops) is deprecated and will be removed in a future version.\n",
      "\u001b[2m\u001b[36m(pid=19628, ip=192.168.8.53)\u001b[0m Instructions for updating:\n",
      "\u001b[2m\u001b[36m(pid=19628, ip=192.168.8.53)\u001b[0m tf.py_func is deprecated in TF V2. Instead, use\n",
      "\u001b[2m\u001b[36m(pid=19628, ip=192.168.8.53)\u001b[0m     tf.py_function, which takes a python function which manipulates tf eager\n",
      "\u001b[2m\u001b[36m(pid=19628, ip=192.168.8.53)\u001b[0m     tensors instead of numpy arrays. It's easy to convert a tf eager tensor to\n",
      "\u001b[2m\u001b[36m(pid=19628, ip=192.168.8.53)\u001b[0m     an ndarray (just call tensor.numpy()) but having access to eager tensors\n",
      "\u001b[2m\u001b[36m(pid=19628, ip=192.168.8.53)\u001b[0m     means `tf.py_function`s can use accelerators such as GPUs as well as\n",
      "\u001b[2m\u001b[36m(pid=19628, ip=192.168.8.53)\u001b[0m     being differentiable using a gradient tape.\n",
      "\u001b[2m\u001b[36m(pid=19628, ip=192.168.8.53)\u001b[0m     \n",
      "\u001b[2m\u001b[36m(pid=19628, ip=192.168.8.53)\u001b[0m WARNING:tensorflow:From /home/reminiz/ReminizML2/python_env/lib/python3.7/site-packages/tensorflow/python/ops/resource_variable_ops.py:435: colocate_with (from tensorflow.python.framework.ops) is deprecated and will be removed in a future version.\n",
      "\u001b[2m\u001b[36m(pid=19628, ip=192.168.8.53)\u001b[0m Instructions for updating:\n",
      "\u001b[2m\u001b[36m(pid=19628, ip=192.168.8.53)\u001b[0m Colocations handled automatically by placer.\n"
     ]
    },
    {
     "name": "stdout",
     "output_type": "stream",
     "text": [
      "\u001b[2m\u001b[36m(pid=13443, ip=192.168.8.54)\u001b[0m \u001b[6;30;42mAL_Train_6\u001b[0m Epoch: 128 / 201 || Time: 2020-12-04 15:10:39 || Accuracy: 99.71 || MAE LossNet: 0.39 || \n"
     ]
    },
    {
     "name": "stderr",
     "output_type": "stream",
     "text": [
      "\u001b[2m\u001b[36m(pid=19628, ip=192.168.8.53)\u001b[0m 2020-12-04 15:10:40.290770: I tensorflow/core/platform/cpu_feature_guard.cc:141] Your CPU supports instructions that this TensorFlow binary was not compiled to use: AVX2 FMA\n",
      "\u001b[2m\u001b[36m(pid=19628, ip=192.168.8.53)\u001b[0m 2020-12-04 15:10:40.313117: I tensorflow/core/platform/profile_utils/cpu_utils.cc:94] CPU Frequency: 3499950000 Hz\n",
      "\u001b[2m\u001b[36m(pid=19628, ip=192.168.8.53)\u001b[0m 2020-12-04 15:10:40.313687: I tensorflow/compiler/xla/service/service.cc:150] XLA service 0x55e22f5480e0 executing computations on platform Host. Devices:\n",
      "\u001b[2m\u001b[36m(pid=19628, ip=192.168.8.53)\u001b[0m 2020-12-04 15:10:40.313709: I tensorflow/compiler/xla/service/service.cc:158]   StreamExecutor device (0): <undefined>, <undefined>\n",
      "\u001b[2m\u001b[36m(pid=19628, ip=192.168.8.53)\u001b[0m 2020-12-04 15:10:40.428830: I tensorflow/compiler/xla/service/service.cc:150] XLA service 0x55e22e1dacf0 executing computations on platform CUDA. Devices:\n",
      "\u001b[2m\u001b[36m(pid=19628, ip=192.168.8.53)\u001b[0m 2020-12-04 15:10:40.428867: I tensorflow/compiler/xla/service/service.cc:158]   StreamExecutor device (0): GeForce GTX TITAN X, Compute Capability 5.2\n",
      "\u001b[2m\u001b[36m(pid=19628, ip=192.168.8.53)\u001b[0m 2020-12-04 15:10:40.429040: I tensorflow/core/common_runtime/gpu/gpu_device.cc:1433] Found device 0 with properties: \n",
      "\u001b[2m\u001b[36m(pid=19628, ip=192.168.8.53)\u001b[0m name: GeForce GTX TITAN X major: 5 minor: 2 memoryClockRate(GHz): 1.076\n",
      "\u001b[2m\u001b[36m(pid=19628, ip=192.168.8.53)\u001b[0m pciBusID: 0000:02:00.0\n",
      "\u001b[2m\u001b[36m(pid=19628, ip=192.168.8.53)\u001b[0m totalMemory: 11.93GiB freeMemory: 11.82GiB\n",
      "\u001b[2m\u001b[36m(pid=19628, ip=192.168.8.53)\u001b[0m 2020-12-04 15:10:40.429064: I tensorflow/core/common_runtime/gpu/gpu_device.cc:1512] Adding visible gpu devices: 0\n",
      "\u001b[2m\u001b[36m(pid=19628, ip=192.168.8.53)\u001b[0m 2020-12-04 15:10:40.430924: I tensorflow/core/common_runtime/gpu/gpu_device.cc:984] Device interconnect StreamExecutor with strength 1 edge matrix:\n",
      "\u001b[2m\u001b[36m(pid=19628, ip=192.168.8.53)\u001b[0m 2020-12-04 15:10:40.430943: I tensorflow/core/common_runtime/gpu/gpu_device.cc:990]      0 \n",
      "\u001b[2m\u001b[36m(pid=19628, ip=192.168.8.53)\u001b[0m 2020-12-04 15:10:40.430952: I tensorflow/core/common_runtime/gpu/gpu_device.cc:1003] 0:   N \n",
      "\u001b[2m\u001b[36m(pid=19628, ip=192.168.8.53)\u001b[0m 2020-12-04 15:10:40.431034: I tensorflow/core/common_runtime/gpu/gpu_device.cc:1115] Created TensorFlow device (/job:localhost/replica:0/task:0/device:GPU:0 with 11496 MB memory) -> physical GPU (device: 0, name: GeForce GTX TITAN X, pci bus id: 0000:02:00.0, compute capability: 5.2)\n"
     ]
    },
    {
     "name": "stdout",
     "output_type": "stream",
     "text": [
      "\u001b[2m\u001b[36m(pid=19628, ip=192.168.8.53)\u001b[0m \u001b[6;30;42mAL_Test_6\u001b[0m Restoring from /mnt/Ressources/Andres/Temp_active/runs/Active_Learning_v0/Stage_6/checkpoint/epoch125.ckpt-125\n"
     ]
    },
    {
     "name": "stderr",
     "output_type": "stream",
     "text": [
      "\u001b[2m\u001b[36m(pid=19628, ip=192.168.8.53)\u001b[0m WARNING:tensorflow:From /home/reminiz/ReminizML2/python_env/lib/python3.7/site-packages/tensorflow/python/training/saver.py:1266: checkpoint_exists (from tensorflow.python.training.checkpoint_management) is deprecated and will be removed in a future version.\n",
      "\u001b[2m\u001b[36m(pid=19628, ip=192.168.8.53)\u001b[0m Instructions for updating:\n",
      "\u001b[2m\u001b[36m(pid=19628, ip=192.168.8.53)\u001b[0m Use standard file APIs to check for files with this prefix.\n"
     ]
    },
    {
     "name": "stdout",
     "output_type": "stream",
     "text": [
      "\u001b[2m\u001b[36m(pid=13443, ip=192.168.8.54)\u001b[0m \u001b[6;30;42mAL_Train_6\u001b[0m Epoch: 129 / 201 || Time: 2020-12-04 15:10:40 || Accuracy: 99.68 || MAE LossNet: 0.37 || \n"
     ]
    },
    {
     "name": "stderr",
     "output_type": "stream",
     "text": [
      "\u001b[2m\u001b[36m(pid=19628, ip=192.168.8.53)\u001b[0m 2020-12-04 15:10:41.890984: I tensorflow/stream_executor/dso_loader.cc:152] successfully opened CUDA library libcublas.so.10.0 locally\n"
     ]
    },
    {
     "name": "stdout",
     "output_type": "stream",
     "text": [
      "\u001b[2m\u001b[36m(pid=13443, ip=192.168.8.54)\u001b[0m \u001b[6;30;42mAL_Train_6\u001b[0m Epoch: 130 / 201 || Time: 2020-12-04 15:10:42 || Accuracy: 99.39 || MAE LossNet: 0.35 || \n",
      "\u001b[2m\u001b[36m(pid=19628, ip=192.168.8.53)\u001b[0m \u001b[6;30;42mAL_Test_6\u001b[0m Test || Epoch: 125 || Accuracy: 65.65 || \n"
     ]
    },
    {
     "name": "stderr",
     "output_type": "stream",
     "text": [
      "\u001b[2m\u001b[36m(pid=19628, ip=192.168.8.53)\u001b[0m \n",
      "\u001b[2m\u001b[36m(pid=19628, ip=192.168.8.53)\u001b[0m wandb: Waiting for W&B process to finish, PID 19659\n",
      "\u001b[2m\u001b[36m(pid=19628, ip=192.168.8.53)\u001b[0m wandb: Program ended successfully.\n",
      "\u001b[2m\u001b[36m(pid=13747, ip=192.168.8.55)\u001b[0m /home/reminiz/ReminizML2/python_env/lib/python3.7/site-packages/tensorflow/python/framework/dtypes.py:526: FutureWarning: Passing (type, 1) or '1type' as a synonym of type is deprecated; in a future version of numpy, it will be understood as (type, (1,)) / '(1,)type'.\n",
      "\u001b[2m\u001b[36m(pid=13747, ip=192.168.8.55)\u001b[0m   _np_qint8 = np.dtype([(\"qint8\", np.int8, 1)])\n",
      "\u001b[2m\u001b[36m(pid=13747, ip=192.168.8.55)\u001b[0m /home/reminiz/ReminizML2/python_env/lib/python3.7/site-packages/tensorflow/python/framework/dtypes.py:527: FutureWarning: Passing (type, 1) or '1type' as a synonym of type is deprecated; in a future version of numpy, it will be understood as (type, (1,)) / '(1,)type'.\n",
      "\u001b[2m\u001b[36m(pid=13747, ip=192.168.8.55)\u001b[0m   _np_quint8 = np.dtype([(\"quint8\", np.uint8, 1)])\n",
      "\u001b[2m\u001b[36m(pid=13747, ip=192.168.8.55)\u001b[0m /home/reminiz/ReminizML2/python_env/lib/python3.7/site-packages/tensorflow/python/framework/dtypes.py:528: FutureWarning: Passing (type, 1) or '1type' as a synonym of type is deprecated; in a future version of numpy, it will be understood as (type, (1,)) / '(1,)type'.\n",
      "\u001b[2m\u001b[36m(pid=13747, ip=192.168.8.55)\u001b[0m   _np_qint16 = np.dtype([(\"qint16\", np.int16, 1)])\n",
      "\u001b[2m\u001b[36m(pid=13747, ip=192.168.8.55)\u001b[0m /home/reminiz/ReminizML2/python_env/lib/python3.7/site-packages/tensorflow/python/framework/dtypes.py:529: FutureWarning: Passing (type, 1) or '1type' as a synonym of type is deprecated; in a future version of numpy, it will be understood as (type, (1,)) / '(1,)type'.\n",
      "\u001b[2m\u001b[36m(pid=13747, ip=192.168.8.55)\u001b[0m   _np_quint16 = np.dtype([(\"quint16\", np.uint16, 1)])\n",
      "\u001b[2m\u001b[36m(pid=13747, ip=192.168.8.55)\u001b[0m /home/reminiz/ReminizML2/python_env/lib/python3.7/site-packages/tensorflow/python/framework/dtypes.py:530: FutureWarning: Passing (type, 1) or '1type' as a synonym of type is deprecated; in a future version of numpy, it will be understood as (type, (1,)) / '(1,)type'.\n",
      "\u001b[2m\u001b[36m(pid=13747, ip=192.168.8.55)\u001b[0m   _np_qint32 = np.dtype([(\"qint32\", np.int32, 1)])\n",
      "\u001b[2m\u001b[36m(pid=13747, ip=192.168.8.55)\u001b[0m /home/reminiz/ReminizML2/python_env/lib/python3.7/site-packages/tensorflow/python/framework/dtypes.py:535: FutureWarning: Passing (type, 1) or '1type' as a synonym of type is deprecated; in a future version of numpy, it will be understood as (type, (1,)) / '(1,)type'.\n",
      "\u001b[2m\u001b[36m(pid=13747, ip=192.168.8.55)\u001b[0m   np_resource = np.dtype([(\"resource\", np.ubyte, 1)])\n"
     ]
    },
    {
     "name": "stdout",
     "output_type": "stream",
     "text": [
      "\u001b[2m\u001b[36m(pid=13443, ip=192.168.8.54)\u001b[0m \u001b[6;30;42mAL_Train_6\u001b[0m Epoch: 131 / 201 || Time: 2020-12-04 15:10:47 || Accuracy: 100.00 || MAE LossNet: 0.38 || \n"
     ]
    },
    {
     "name": "stderr",
     "output_type": "stream",
     "text": [
      "\u001b[2m\u001b[36m(pid=19628, ip=192.168.8.53)\u001b[0m wandb: Run summary:\n",
      "\u001b[2m\u001b[36m(pid=19628, ip=192.168.8.53)\u001b[0m wandb:                                     _step 125\n",
      "\u001b[2m\u001b[36m(pid=19628, ip=192.168.8.53)\u001b[0m wandb:                                  F1 score 0.6544213408509169\n",
      "\u001b[2m\u001b[36m(pid=19628, ip=192.168.8.53)\u001b[0m wandb:                                  _runtime 211.83792567253113\n",
      "\u001b[2m\u001b[36m(pid=19628, ip=192.168.8.53)\u001b[0m wandb:                                _timestamp 1607091046.304833\n",
      "\u001b[2m\u001b[36m(pid=19628, ip=192.168.8.53)\u001b[0m wandb:                     Explained variance v1 -0.05303609371185303\n",
      "\u001b[2m\u001b[36m(pid=19628, ip=192.168.8.53)\u001b[0m wandb:                     Explained variance v2 -0.03248631954193115\n",
      "\u001b[2m\u001b[36m(pid=19628, ip=192.168.8.53)\u001b[0m wandb:                     Mean squared error v1 22.628923416137695\n",
      "\u001b[2m\u001b[36m(pid=19628, ip=192.168.8.53)\u001b[0m wandb:                     Mean squared error v2 35.17593765258789\n",
      "\u001b[2m\u001b[36m(pid=19628, ip=192.168.8.53)\u001b[0m wandb:                    Mean absolute error v1 2.9750301837921143\n",
      "\u001b[2m\u001b[36m(pid=19628, ip=192.168.8.53)\u001b[0m wandb:                    Mean absolute error v2 4.093496322631836\n",
      "\u001b[2m\u001b[36m(pid=19628, ip=192.168.8.53)\u001b[0m wandb:                Area Under the Curve (AUC) 0.7812796455997632\n",
      "\u001b[2m\u001b[36m(pid=19628, ip=192.168.8.53)\u001b[0m wandb:             Test: Classification Accuracy 0.6565\n",
      "\u001b[2m\u001b[36m(pid=19628, ip=192.168.8.53)\u001b[0m wandb: Syncing files in ../../../Trainings/wandb/wandb/run-20201204_141037-32tlp2kp:\n",
      "\u001b[2m\u001b[36m(pid=19628, ip=192.168.8.53)\u001b[0m wandb:   code/default_worker.py\n",
      "\u001b[2m\u001b[36m(pid=19628, ip=192.168.8.53)\u001b[0m wandb: plus 8 W&B file(s) and 2 media file(s)\n",
      "\u001b[2m\u001b[36m(pid=19628, ip=192.168.8.53)\u001b[0m wandb: - 1.00MB of 1.00MB uploaded\n",
      "\u001b[2m\u001b[36m(pid=13747, ip=192.168.8.55)\u001b[0m wandb: Tracking run with wandb version 0.8.36\n",
      "\u001b[2m\u001b[36m(pid=19628, ip=192.168.8.53)\u001b[0m wandb: \\ 1.00MB of 1.00MB uploaded\n",
      "\u001b[2m\u001b[36m(pid=19628, ip=192.168.8.53)\u001b[0m wandb: | 1.00MB of 1.00MB uploaded\n",
      "\u001b[2m\u001b[36m(pid=13747, ip=192.168.8.55)\u001b[0m wandb: Wandb version 0.10.12 is available!  To upgrade, please run:\n",
      "\u001b[2m\u001b[36m(pid=13747, ip=192.168.8.55)\u001b[0m wandb:  $ pip install wandb --upgrade\n",
      "\u001b[2m\u001b[36m(pid=13747, ip=192.168.8.55)\u001b[0m wandb: Run data is saved locally in ../../../Trainings/wandb/wandb/run-20201204_141047-32tlp2kp\n",
      "\u001b[2m\u001b[36m(pid=13747, ip=192.168.8.55)\u001b[0m wandb: Syncing run AL_Test_6\n",
      "\u001b[2m\u001b[36m(pid=13747, ip=192.168.8.55)\u001b[0m wandb: ⭐️ View project at http://192.168.8.51:8080/reminiz/Active_Learning_CIFAR\n",
      "\u001b[2m\u001b[36m(pid=13747, ip=192.168.8.55)\u001b[0m wandb: 🚀 View run at http://192.168.8.51:8080/reminiz/Active_Learning_CIFAR/runs/32tlp2kp\n",
      "\u001b[2m\u001b[36m(pid=13747, ip=192.168.8.55)\u001b[0m wandb: Run `wandb off` to turn off syncing.\n",
      "\u001b[2m\u001b[36m(pid=19628, ip=192.168.8.53)\u001b[0m wandb: / 1.00MB of 1.00MB uploaded\n",
      "\u001b[2m\u001b[36m(pid=13747, ip=192.168.8.55)\u001b[0m \n",
      "wandb:                                                                                \n",
      "\u001b[2m\u001b[36m(pid=19628, ip=192.168.8.53)\u001b[0m wandb: Synced AL_Test_6: http://192.168.8.51:8080/reminiz/Active_Learning_CIFAR/runs/32tlp2kp\n"
     ]
    },
    {
     "name": "stdout",
     "output_type": "stream",
     "text": [
      "\u001b[2m\u001b[36m(pid=13443, ip=192.168.8.54)\u001b[0m \u001b[6;30;42mAL_Train_6\u001b[0m Epoch: 132 / 201 || Time: 2020-12-04 15:10:48 || Accuracy: 99.22 || MAE LossNet: 0.41 || \n",
      "\u001b[2m\u001b[36m(pid=13747, ip=192.168.8.55)\u001b[0m CIFAR10 Training data shape: (50000, 32, 32, 3)\n",
      "\u001b[2m\u001b[36m(pid=13747, ip=192.168.8.55)\u001b[0m CIFAR10 Training label shape (50000, 1)\n",
      "\u001b[2m\u001b[36m(pid=13747, ip=192.168.8.55)\u001b[0m CIFAR10 Test data shape (10000, 32, 32, 3)\n",
      "\u001b[2m\u001b[36m(pid=13747, ip=192.168.8.55)\u001b[0m CIFAR10 Test label shape (10000, 1)\n"
     ]
    },
    {
     "name": "stderr",
     "output_type": "stream",
     "text": [
      "\u001b[2m\u001b[36m(pid=13747, ip=192.168.8.55)\u001b[0m WARNING:tensorflow:From /home/reminiz/ReminizML2/python_env/lib/python3.7/site-packages/tensorflow/python/data/ops/dataset_ops.py:429: py_func (from tensorflow.python.ops.script_ops) is deprecated and will be removed in a future version.\n",
      "\u001b[2m\u001b[36m(pid=13747, ip=192.168.8.55)\u001b[0m Instructions for updating:\n",
      "\u001b[2m\u001b[36m(pid=13747, ip=192.168.8.55)\u001b[0m tf.py_func is deprecated in TF V2. Instead, use\n",
      "\u001b[2m\u001b[36m(pid=13747, ip=192.168.8.55)\u001b[0m     tf.py_function, which takes a python function which manipulates tf eager\n",
      "\u001b[2m\u001b[36m(pid=13747, ip=192.168.8.55)\u001b[0m     tensors instead of numpy arrays. It's easy to convert a tf eager tensor to\n",
      "\u001b[2m\u001b[36m(pid=13747, ip=192.168.8.55)\u001b[0m     an ndarray (just call tensor.numpy()) but having access to eager tensors\n",
      "\u001b[2m\u001b[36m(pid=13747, ip=192.168.8.55)\u001b[0m     means `tf.py_function`s can use accelerators such as GPUs as well as\n",
      "\u001b[2m\u001b[36m(pid=13747, ip=192.168.8.55)\u001b[0m     being differentiable using a gradient tape.\n",
      "\u001b[2m\u001b[36m(pid=13747, ip=192.168.8.55)\u001b[0m     \n",
      "\u001b[2m\u001b[36m(pid=13747, ip=192.168.8.55)\u001b[0m WARNING:tensorflow:From /home/reminiz/ReminizML2/python_env/lib/python3.7/site-packages/tensorflow/python/ops/resource_variable_ops.py:435: colocate_with (from tensorflow.python.framework.ops) is deprecated and will be removed in a future version.\n",
      "\u001b[2m\u001b[36m(pid=13747, ip=192.168.8.55)\u001b[0m Instructions for updating:\n",
      "\u001b[2m\u001b[36m(pid=13747, ip=192.168.8.55)\u001b[0m Colocations handled automatically by placer.\n"
     ]
    },
    {
     "name": "stdout",
     "output_type": "stream",
     "text": [
      "\u001b[2m\u001b[36m(pid=13443, ip=192.168.8.54)\u001b[0m \u001b[6;30;42mAL_Train_6\u001b[0m Epoch: 133 / 201 || Time: 2020-12-04 15:10:50 || Accuracy: 99.68 || MAE LossNet: 0.39 || \n"
     ]
    },
    {
     "name": "stderr",
     "output_type": "stream",
     "text": [
      "\u001b[2m\u001b[36m(pid=13747, ip=192.168.8.55)\u001b[0m 2020-12-04 15:10:50.888519: I tensorflow/core/platform/cpu_feature_guard.cc:141] Your CPU supports instructions that this TensorFlow binary was not compiled to use: AVX2 FMA\n",
      "\u001b[2m\u001b[36m(pid=13747, ip=192.168.8.55)\u001b[0m 2020-12-04 15:10:50.912411: I tensorflow/core/platform/profile_utils/cpu_utils.cc:94] CPU Frequency: 3599935000 Hz\n",
      "\u001b[2m\u001b[36m(pid=13747, ip=192.168.8.55)\u001b[0m 2020-12-04 15:10:50.913176: I tensorflow/compiler/xla/service/service.cc:150] XLA service 0x72177d0 executing computations on platform Host. Devices:\n",
      "\u001b[2m\u001b[36m(pid=13747, ip=192.168.8.55)\u001b[0m 2020-12-04 15:10:50.913211: I tensorflow/compiler/xla/service/service.cc:158]   StreamExecutor device (0): <undefined>, <undefined>\n",
      "\u001b[2m\u001b[36m(pid=13747, ip=192.168.8.55)\u001b[0m 2020-12-04 15:10:51.020202: I tensorflow/compiler/xla/service/service.cc:150] XLA service 0x721ce50 executing computations on platform CUDA. Devices:\n",
      "\u001b[2m\u001b[36m(pid=13747, ip=192.168.8.55)\u001b[0m 2020-12-04 15:10:51.020251: I tensorflow/compiler/xla/service/service.cc:158]   StreamExecutor device (0): GeForce GTX 1080 Ti, Compute Capability 6.1\n",
      "\u001b[2m\u001b[36m(pid=13747, ip=192.168.8.55)\u001b[0m 2020-12-04 15:10:51.020443: I tensorflow/core/common_runtime/gpu/gpu_device.cc:1433] Found device 0 with properties: \n",
      "\u001b[2m\u001b[36m(pid=13747, ip=192.168.8.55)\u001b[0m name: GeForce GTX 1080 Ti major: 6 minor: 1 memoryClockRate(GHz): 1.62\n",
      "\u001b[2m\u001b[36m(pid=13747, ip=192.168.8.55)\u001b[0m pciBusID: 0000:4c:00.0\n",
      "\u001b[2m\u001b[36m(pid=13747, ip=192.168.8.55)\u001b[0m totalMemory: 10.91GiB freeMemory: 10.77GiB\n",
      "\u001b[2m\u001b[36m(pid=13747, ip=192.168.8.55)\u001b[0m 2020-12-04 15:10:51.020474: I tensorflow/core/common_runtime/gpu/gpu_device.cc:1512] Adding visible gpu devices: 0\n",
      "\u001b[2m\u001b[36m(pid=13747, ip=192.168.8.55)\u001b[0m 2020-12-04 15:10:51.023061: I tensorflow/core/common_runtime/gpu/gpu_device.cc:984] Device interconnect StreamExecutor with strength 1 edge matrix:\n",
      "\u001b[2m\u001b[36m(pid=13747, ip=192.168.8.55)\u001b[0m 2020-12-04 15:10:51.023089: I tensorflow/core/common_runtime/gpu/gpu_device.cc:990]      0 \n",
      "\u001b[2m\u001b[36m(pid=13747, ip=192.168.8.55)\u001b[0m 2020-12-04 15:10:51.023102: I tensorflow/core/common_runtime/gpu/gpu_device.cc:1003] 0:   N \n",
      "\u001b[2m\u001b[36m(pid=13747, ip=192.168.8.55)\u001b[0m 2020-12-04 15:10:51.023212: I tensorflow/core/common_runtime/gpu/gpu_device.cc:1115] Created TensorFlow device (/job:localhost/replica:0/task:0/device:GPU:0 with 10479 MB memory) -> physical GPU (device: 0, name: GeForce GTX 1080 Ti, pci bus id: 0000:4c:00.0, compute capability: 6.1)\n",
      "\u001b[2m\u001b[36m(pid=13747, ip=192.168.8.55)\u001b[0m WARNING:tensorflow:From /home/reminiz/ReminizML2/python_env/lib/python3.7/site-packages/tensorflow/python/training/saver.py:1266: checkpoint_exists (from tensorflow.python.training.checkpoint_management) is deprecated and will be removed in a future version.\n",
      "\u001b[2m\u001b[36m(pid=13747, ip=192.168.8.55)\u001b[0m Instructions for updating:\n",
      "\u001b[2m\u001b[36m(pid=13747, ip=192.168.8.55)\u001b[0m Use standard file APIs to check for files with this prefix.\n"
     ]
    },
    {
     "name": "stdout",
     "output_type": "stream",
     "text": [
      "\u001b[2m\u001b[36m(pid=13747, ip=192.168.8.55)\u001b[0m \u001b[6;30;42mAL_Test_6\u001b[0m Restoring from /mnt/Ressources/Andres/Temp_active/runs/Active_Learning_v0/Stage_6/checkpoint/epoch130.ckpt-130\n",
      "\u001b[2m\u001b[36m(pid=13443, ip=192.168.8.54)\u001b[0m \u001b[6;30;42mAL_Train_6\u001b[0m Epoch: 134 / 201 || Time: 2020-12-04 15:10:51 || Accuracy: 99.71 || MAE LossNet: 0.39 || \n"
     ]
    },
    {
     "name": "stderr",
     "output_type": "stream",
     "text": [
      "\u001b[2m\u001b[36m(pid=13747, ip=192.168.8.55)\u001b[0m 2020-12-04 15:10:52.461960: I tensorflow/stream_executor/dso_loader.cc:152] successfully opened CUDA library libcublas.so.10.0 locally\n"
     ]
    },
    {
     "name": "stdout",
     "output_type": "stream",
     "text": [
      "\u001b[2m\u001b[36m(pid=13443, ip=192.168.8.54)\u001b[0m \u001b[6;30;42mAL_Train_6\u001b[0m Epoch: 135 / 201 || Time: 2020-12-04 15:10:53 || Accuracy: 99.90 || MAE LossNet: 0.37 || \n",
      "\u001b[2m\u001b[36m(pid=13747, ip=192.168.8.55)\u001b[0m \u001b[6;30;42mAL_Test_6\u001b[0m Test || Epoch: 130 || Accuracy: 65.00 || \n"
     ]
    },
    {
     "name": "stderr",
     "output_type": "stream",
     "text": [
      "\u001b[2m\u001b[36m(pid=13747, ip=192.168.8.55)\u001b[0m \n",
      "\u001b[2m\u001b[36m(pid=13747, ip=192.168.8.55)\u001b[0m wandb: Waiting for W&B process to finish, PID 13770\n",
      "\u001b[2m\u001b[36m(pid=13747, ip=192.168.8.55)\u001b[0m wandb: Program ended successfully.\n",
      "\u001b[2m\u001b[36m(pid=20271, ip=192.168.8.53)\u001b[0m /home/reminiz/ReminizML2/python_env/lib/python3.7/site-packages/tensorflow/python/framework/dtypes.py:526: FutureWarning: Passing (type, 1) or '1type' as a synonym of type is deprecated; in a future version of numpy, it will be understood as (type, (1,)) / '(1,)type'.\n",
      "\u001b[2m\u001b[36m(pid=20271, ip=192.168.8.53)\u001b[0m   _np_qint8 = np.dtype([(\"qint8\", np.int8, 1)])\n",
      "\u001b[2m\u001b[36m(pid=20271, ip=192.168.8.53)\u001b[0m /home/reminiz/ReminizML2/python_env/lib/python3.7/site-packages/tensorflow/python/framework/dtypes.py:527: FutureWarning: Passing (type, 1) or '1type' as a synonym of type is deprecated; in a future version of numpy, it will be understood as (type, (1,)) / '(1,)type'.\n",
      "\u001b[2m\u001b[36m(pid=20271, ip=192.168.8.53)\u001b[0m   _np_quint8 = np.dtype([(\"quint8\", np.uint8, 1)])\n",
      "\u001b[2m\u001b[36m(pid=20271, ip=192.168.8.53)\u001b[0m /home/reminiz/ReminizML2/python_env/lib/python3.7/site-packages/tensorflow/python/framework/dtypes.py:528: FutureWarning: Passing (type, 1) or '1type' as a synonym of type is deprecated; in a future version of numpy, it will be understood as (type, (1,)) / '(1,)type'.\n",
      "\u001b[2m\u001b[36m(pid=20271, ip=192.168.8.53)\u001b[0m   _np_qint16 = np.dtype([(\"qint16\", np.int16, 1)])\n",
      "\u001b[2m\u001b[36m(pid=20271, ip=192.168.8.53)\u001b[0m /home/reminiz/ReminizML2/python_env/lib/python3.7/site-packages/tensorflow/python/framework/dtypes.py:529: FutureWarning: Passing (type, 1) or '1type' as a synonym of type is deprecated; in a future version of numpy, it will be understood as (type, (1,)) / '(1,)type'.\n",
      "\u001b[2m\u001b[36m(pid=20271, ip=192.168.8.53)\u001b[0m   _np_quint16 = np.dtype([(\"quint16\", np.uint16, 1)])\n",
      "\u001b[2m\u001b[36m(pid=20271, ip=192.168.8.53)\u001b[0m /home/reminiz/ReminizML2/python_env/lib/python3.7/site-packages/tensorflow/python/framework/dtypes.py:530: FutureWarning: Passing (type, 1) or '1type' as a synonym of type is deprecated; in a future version of numpy, it will be understood as (type, (1,)) / '(1,)type'.\n",
      "\u001b[2m\u001b[36m(pid=20271, ip=192.168.8.53)\u001b[0m   _np_qint32 = np.dtype([(\"qint32\", np.int32, 1)])\n",
      "\u001b[2m\u001b[36m(pid=20271, ip=192.168.8.53)\u001b[0m /home/reminiz/ReminizML2/python_env/lib/python3.7/site-packages/tensorflow/python/framework/dtypes.py:535: FutureWarning: Passing (type, 1) or '1type' as a synonym of type is deprecated; in a future version of numpy, it will be understood as (type, (1,)) / '(1,)type'.\n",
      "\u001b[2m\u001b[36m(pid=20271, ip=192.168.8.53)\u001b[0m   np_resource = np.dtype([(\"resource\", np.ubyte, 1)])\n",
      "\u001b[2m\u001b[36m(pid=13747, ip=192.168.8.55)\u001b[0m wandb: Run summary:\n",
      "\u001b[2m\u001b[36m(pid=13747, ip=192.168.8.55)\u001b[0m wandb:                                     _step 130\n",
      "\u001b[2m\u001b[36m(pid=13747, ip=192.168.8.55)\u001b[0m wandb:                                  F1 score 0.6475766133137861\n",
      "\u001b[2m\u001b[36m(pid=13747, ip=192.168.8.55)\u001b[0m wandb:                                  _runtime 220.11585521697998\n",
      "\u001b[2m\u001b[36m(pid=13747, ip=192.168.8.55)\u001b[0m wandb:                                _timestamp 1607091056.0132313\n",
      "\u001b[2m\u001b[36m(pid=13747, ip=192.168.8.55)\u001b[0m wandb:                     Explained variance v1 -0.05710446834564209\n",
      "\u001b[2m\u001b[36m(pid=13747, ip=192.168.8.55)\u001b[0m wandb:                     Explained variance v2 -0.03410804271697998\n",
      "\u001b[2m\u001b[36m(pid=13747, ip=192.168.8.55)\u001b[0m wandb:                     Mean squared error v1 25.12941551208496\n",
      "\u001b[2m\u001b[36m(pid=13747, ip=192.168.8.55)\u001b[0m wandb:                     Mean squared error v2 37.69021987915039\n",
      "\u001b[2m\u001b[36m(pid=13747, ip=192.168.8.55)\u001b[0m wandb:                    Mean absolute error v1 3.157565116882324\n",
      "\u001b[2m\u001b[36m(pid=13747, ip=192.168.8.55)\u001b[0m wandb:                    Mean absolute error v2 4.269048690795898\n",
      "\u001b[2m\u001b[36m(pid=13747, ip=192.168.8.55)\u001b[0m wandb:                Area Under the Curve (AUC) 0.7826774285714285\n",
      "\u001b[2m\u001b[36m(pid=13747, ip=192.168.8.55)\u001b[0m wandb:             Test: Classification Accuracy 0.65\n",
      "\u001b[2m\u001b[36m(pid=13747, ip=192.168.8.55)\u001b[0m wandb: Syncing files in ../../../Trainings/wandb/wandb/run-20201204_141047-32tlp2kp:\n",
      "\u001b[2m\u001b[36m(pid=13747, ip=192.168.8.55)\u001b[0m wandb:   code/default_worker.py\n",
      "\u001b[2m\u001b[36m(pid=13747, ip=192.168.8.55)\u001b[0m wandb: plus 8 W&B file(s) and 2 media file(s)\n",
      "\u001b[2m\u001b[36m(pid=13747, ip=192.168.8.55)\u001b[0m wandb: - 1.01MB of 1.01MB uploaded\n"
     ]
    },
    {
     "name": "stdout",
     "output_type": "stream",
     "text": [
      "\u001b[2m\u001b[36m(pid=13443, ip=192.168.8.54)\u001b[0m \u001b[6;30;42mAL_Train_6\u001b[0m Epoch: 136 / 201 || Time: 2020-12-04 15:10:58 || Accuracy: 99.78 || MAE LossNet: 0.37 || \n"
     ]
    },
    {
     "name": "stderr",
     "output_type": "stream",
     "text": [
      "\u001b[2m\u001b[36m(pid=13747, ip=192.168.8.55)\u001b[0m wandb: \\ 1.01MB of 1.01MB uploaded\n",
      "\u001b[2m\u001b[36m(pid=13747, ip=192.168.8.55)\u001b[0m wandb: | 1.01MB of 1.01MB uploaded\n",
      "\u001b[2m\u001b[36m(pid=13747, ip=192.168.8.55)\u001b[0m wandb: / 1.01MB of 1.01MB uploaded\n",
      "\u001b[2m\u001b[36m(pid=20271, ip=192.168.8.53)\u001b[0m wandb: Tracking run with wandb version 0.8.36\n",
      "wandb:                                                                                \n",
      "\u001b[2m\u001b[36m(pid=13747, ip=192.168.8.55)\u001b[0m wandb: Synced AL_Test_6: http://192.168.8.51:8080/reminiz/Active_Learning_CIFAR/runs/32tlp2kp\n",
      "\u001b[2m\u001b[36m(pid=20271, ip=192.168.8.53)\u001b[0m wandb: Wandb version 0.10.12 is available!  To upgrade, please run:\n",
      "\u001b[2m\u001b[36m(pid=20271, ip=192.168.8.53)\u001b[0m wandb:  $ pip install wandb --upgrade\n",
      "\u001b[2m\u001b[36m(pid=20271, ip=192.168.8.53)\u001b[0m wandb: Run data is saved locally in ../../../Trainings/wandb/wandb/run-20201204_141059-32tlp2kp\n",
      "\u001b[2m\u001b[36m(pid=20271, ip=192.168.8.53)\u001b[0m wandb: Syncing run AL_Test_6\n",
      "\u001b[2m\u001b[36m(pid=20271, ip=192.168.8.53)\u001b[0m wandb: ⭐️ View project at http://192.168.8.51:8080/reminiz/Active_Learning_CIFAR\n",
      "\u001b[2m\u001b[36m(pid=20271, ip=192.168.8.53)\u001b[0m wandb: 🚀 View run at http://192.168.8.51:8080/reminiz/Active_Learning_CIFAR/runs/32tlp2kp\n",
      "\u001b[2m\u001b[36m(pid=20271, ip=192.168.8.53)\u001b[0m wandb: Run `wandb off` to turn off syncing.\n"
     ]
    },
    {
     "name": "stdout",
     "output_type": "stream",
     "text": [
      "\u001b[2m\u001b[36m(pid=13443, ip=192.168.8.54)\u001b[0m \u001b[6;30;42mAL_Train_6\u001b[0m Epoch: 137 / 201 || Time: 2020-12-04 15:11:00 || Accuracy: 99.68 || MAE LossNet: 0.38 || \n"
     ]
    },
    {
     "name": "stderr",
     "output_type": "stream",
     "text": [
      "\u001b[2m\u001b[36m(pid=20271, ip=192.168.8.53)\u001b[0m \n"
     ]
    },
    {
     "name": "stdout",
     "output_type": "stream",
     "text": [
      "\u001b[2m\u001b[36m(pid=20271, ip=192.168.8.53)\u001b[0m CIFAR10 Training data shape: (50000, 32, 32, 3)\n",
      "\u001b[2m\u001b[36m(pid=20271, ip=192.168.8.53)\u001b[0m CIFAR10 Training label shape (50000, 1)\n",
      "\u001b[2m\u001b[36m(pid=20271, ip=192.168.8.53)\u001b[0m CIFAR10 Test data shape (10000, 32, 32, 3)\n",
      "\u001b[2m\u001b[36m(pid=20271, ip=192.168.8.53)\u001b[0m CIFAR10 Test label shape (10000, 1)\n"
     ]
    },
    {
     "name": "stderr",
     "output_type": "stream",
     "text": [
      "\u001b[2m\u001b[36m(pid=20271, ip=192.168.8.53)\u001b[0m WARNING:tensorflow:From /home/reminiz/ReminizML2/python_env/lib/python3.7/site-packages/tensorflow/python/data/ops/dataset_ops.py:429: py_func (from tensorflow.python.ops.script_ops) is deprecated and will be removed in a future version.\n",
      "\u001b[2m\u001b[36m(pid=20271, ip=192.168.8.53)\u001b[0m Instructions for updating:\n",
      "\u001b[2m\u001b[36m(pid=20271, ip=192.168.8.53)\u001b[0m tf.py_func is deprecated in TF V2. Instead, use\n",
      "\u001b[2m\u001b[36m(pid=20271, ip=192.168.8.53)\u001b[0m     tf.py_function, which takes a python function which manipulates tf eager\n",
      "\u001b[2m\u001b[36m(pid=20271, ip=192.168.8.53)\u001b[0m     tensors instead of numpy arrays. It's easy to convert a tf eager tensor to\n",
      "\u001b[2m\u001b[36m(pid=20271, ip=192.168.8.53)\u001b[0m     an ndarray (just call tensor.numpy()) but having access to eager tensors\n",
      "\u001b[2m\u001b[36m(pid=20271, ip=192.168.8.53)\u001b[0m     means `tf.py_function`s can use accelerators such as GPUs as well as\n",
      "\u001b[2m\u001b[36m(pid=20271, ip=192.168.8.53)\u001b[0m     being differentiable using a gradient tape.\n",
      "\u001b[2m\u001b[36m(pid=20271, ip=192.168.8.53)\u001b[0m     \n",
      "\u001b[2m\u001b[36m(pid=20271, ip=192.168.8.53)\u001b[0m WARNING:tensorflow:From /home/reminiz/ReminizML2/python_env/lib/python3.7/site-packages/tensorflow/python/ops/resource_variable_ops.py:435: colocate_with (from tensorflow.python.framework.ops) is deprecated and will be removed in a future version.\n",
      "\u001b[2m\u001b[36m(pid=20271, ip=192.168.8.53)\u001b[0m Instructions for updating:\n",
      "\u001b[2m\u001b[36m(pid=20271, ip=192.168.8.53)\u001b[0m Colocations handled automatically by placer.\n"
     ]
    },
    {
     "name": "stdout",
     "output_type": "stream",
     "text": [
      "\u001b[2m\u001b[36m(pid=13443, ip=192.168.8.54)\u001b[0m \u001b[6;30;42mAL_Train_6\u001b[0m Epoch: 138 / 201 || Time: 2020-12-04 15:11:01 || Accuracy: 99.25 || MAE LossNet: 0.36 || \n"
     ]
    },
    {
     "name": "stderr",
     "output_type": "stream",
     "text": [
      "\u001b[2m\u001b[36m(pid=20271, ip=192.168.8.53)\u001b[0m 2020-12-04 15:11:02.539890: I tensorflow/core/platform/cpu_feature_guard.cc:141] Your CPU supports instructions that this TensorFlow binary was not compiled to use: AVX2 FMA\n",
      "\u001b[2m\u001b[36m(pid=20271, ip=192.168.8.53)\u001b[0m 2020-12-04 15:11:02.561147: I tensorflow/core/platform/profile_utils/cpu_utils.cc:94] CPU Frequency: 3499950000 Hz\n",
      "\u001b[2m\u001b[36m(pid=20271, ip=192.168.8.53)\u001b[0m 2020-12-04 15:11:02.561736: I tensorflow/compiler/xla/service/service.cc:150] XLA service 0x560347924dc0 executing computations on platform Host. Devices:\n",
      "\u001b[2m\u001b[36m(pid=20271, ip=192.168.8.53)\u001b[0m 2020-12-04 15:11:02.561760: I tensorflow/compiler/xla/service/service.cc:158]   StreamExecutor device (0): <undefined>, <undefined>\n",
      "\u001b[2m\u001b[36m(pid=20271, ip=192.168.8.53)\u001b[0m 2020-12-04 15:11:02.670512: I tensorflow/compiler/xla/service/service.cc:150] XLA service 0x560344494180 executing computations on platform CUDA. Devices:\n",
      "\u001b[2m\u001b[36m(pid=20271, ip=192.168.8.53)\u001b[0m 2020-12-04 15:11:02.670548: I tensorflow/compiler/xla/service/service.cc:158]   StreamExecutor device (0): GeForce GTX TITAN X, Compute Capability 5.2\n",
      "\u001b[2m\u001b[36m(pid=20271, ip=192.168.8.53)\u001b[0m 2020-12-04 15:11:02.670679: I tensorflow/core/common_runtime/gpu/gpu_device.cc:1433] Found device 0 with properties: \n",
      "\u001b[2m\u001b[36m(pid=20271, ip=192.168.8.53)\u001b[0m name: GeForce GTX TITAN X major: 5 minor: 2 memoryClockRate(GHz): 1.076\n",
      "\u001b[2m\u001b[36m(pid=20271, ip=192.168.8.53)\u001b[0m pciBusID: 0000:02:00.0\n",
      "\u001b[2m\u001b[36m(pid=20271, ip=192.168.8.53)\u001b[0m totalMemory: 11.93GiB freeMemory: 11.82GiB\n",
      "\u001b[2m\u001b[36m(pid=20271, ip=192.168.8.53)\u001b[0m 2020-12-04 15:11:02.670700: I tensorflow/core/common_runtime/gpu/gpu_device.cc:1512] Adding visible gpu devices: 0\n",
      "\u001b[2m\u001b[36m(pid=20271, ip=192.168.8.53)\u001b[0m 2020-12-04 15:11:02.672384: I tensorflow/core/common_runtime/gpu/gpu_device.cc:984] Device interconnect StreamExecutor with strength 1 edge matrix:\n",
      "\u001b[2m\u001b[36m(pid=20271, ip=192.168.8.53)\u001b[0m 2020-12-04 15:11:02.672402: I tensorflow/core/common_runtime/gpu/gpu_device.cc:990]      0 \n",
      "\u001b[2m\u001b[36m(pid=20271, ip=192.168.8.53)\u001b[0m 2020-12-04 15:11:02.672411: I tensorflow/core/common_runtime/gpu/gpu_device.cc:1003] 0:   N \n",
      "\u001b[2m\u001b[36m(pid=20271, ip=192.168.8.53)\u001b[0m 2020-12-04 15:11:02.672490: I tensorflow/core/common_runtime/gpu/gpu_device.cc:1115] Created TensorFlow device (/job:localhost/replica:0/task:0/device:GPU:0 with 11496 MB memory) -> physical GPU (device: 0, name: GeForce GTX TITAN X, pci bus id: 0000:02:00.0, compute capability: 5.2)\n",
      "\u001b[2m\u001b[36m(pid=20271, ip=192.168.8.53)\u001b[0m WARNING:tensorflow:From /home/reminiz/ReminizML2/python_env/lib/python3.7/site-packages/tensorflow/python/training/saver.py:1266: checkpoint_exists (from tensorflow.python.training.checkpoint_management) is deprecated and will be removed in a future version.\n",
      "\u001b[2m\u001b[36m(pid=20271, ip=192.168.8.53)\u001b[0m Instructions for updating:\n",
      "\u001b[2m\u001b[36m(pid=20271, ip=192.168.8.53)\u001b[0m Use standard file APIs to check for files with this prefix.\n"
     ]
    },
    {
     "name": "stdout",
     "output_type": "stream",
     "text": [
      "\u001b[2m\u001b[36m(pid=20271, ip=192.168.8.53)\u001b[0m \u001b[6;30;42mAL_Test_6\u001b[0m Restoring from /mnt/Ressources/Andres/Temp_active/runs/Active_Learning_v0/Stage_6/checkpoint/epoch135.ckpt-135\n",
      "\u001b[2m\u001b[36m(pid=13443, ip=192.168.8.54)\u001b[0m \u001b[6;30;42mAL_Train_6\u001b[0m Epoch: 139 / 201 || Time: 2020-12-04 15:11:03 || Accuracy: 99.71 || MAE LossNet: 0.36 || \n"
     ]
    },
    {
     "name": "stderr",
     "output_type": "stream",
     "text": [
      "\u001b[2m\u001b[36m(pid=20271, ip=192.168.8.53)\u001b[0m 2020-12-04 15:11:04.101883: I tensorflow/stream_executor/dso_loader.cc:152] successfully opened CUDA library libcublas.so.10.0 locally\n"
     ]
    },
    {
     "name": "stdout",
     "output_type": "stream",
     "text": [
      "\u001b[2m\u001b[36m(pid=13443, ip=192.168.8.54)\u001b[0m \u001b[6;30;42mAL_Train_6\u001b[0m Epoch: 140 / 201 || Time: 2020-12-04 15:11:04 || Accuracy: 99.61 || MAE LossNet: 0.38 || \n",
      "\u001b[2m\u001b[36m(pid=20271, ip=192.168.8.53)\u001b[0m \u001b[6;30;42mAL_Test_6\u001b[0m Test || Epoch: 135 || Accuracy: 65.15 || \n"
     ]
    },
    {
     "name": "stderr",
     "output_type": "stream",
     "text": [
      "\u001b[2m\u001b[36m(pid=20271, ip=192.168.8.53)\u001b[0m \n",
      "\u001b[2m\u001b[36m(pid=20271, ip=192.168.8.53)\u001b[0m wandb: Waiting for W&B process to finish, PID 20305\n",
      "\u001b[2m\u001b[36m(pid=20271, ip=192.168.8.53)\u001b[0m wandb: Program ended successfully.\n",
      "\u001b[2m\u001b[36m(pid=13909, ip=192.168.8.55)\u001b[0m /home/reminiz/ReminizML2/python_env/lib/python3.7/site-packages/tensorflow/python/framework/dtypes.py:526: FutureWarning: Passing (type, 1) or '1type' as a synonym of type is deprecated; in a future version of numpy, it will be understood as (type, (1,)) / '(1,)type'.\n",
      "\u001b[2m\u001b[36m(pid=13909, ip=192.168.8.55)\u001b[0m   _np_qint8 = np.dtype([(\"qint8\", np.int8, 1)])\n",
      "\u001b[2m\u001b[36m(pid=13909, ip=192.168.8.55)\u001b[0m /home/reminiz/ReminizML2/python_env/lib/python3.7/site-packages/tensorflow/python/framework/dtypes.py:527: FutureWarning: Passing (type, 1) or '1type' as a synonym of type is deprecated; in a future version of numpy, it will be understood as (type, (1,)) / '(1,)type'.\n",
      "\u001b[2m\u001b[36m(pid=13909, ip=192.168.8.55)\u001b[0m   _np_quint8 = np.dtype([(\"quint8\", np.uint8, 1)])\n",
      "\u001b[2m\u001b[36m(pid=13909, ip=192.168.8.55)\u001b[0m /home/reminiz/ReminizML2/python_env/lib/python3.7/site-packages/tensorflow/python/framework/dtypes.py:528: FutureWarning: Passing (type, 1) or '1type' as a synonym of type is deprecated; in a future version of numpy, it will be understood as (type, (1,)) / '(1,)type'.\n",
      "\u001b[2m\u001b[36m(pid=13909, ip=192.168.8.55)\u001b[0m   _np_qint16 = np.dtype([(\"qint16\", np.int16, 1)])\n",
      "\u001b[2m\u001b[36m(pid=13909, ip=192.168.8.55)\u001b[0m /home/reminiz/ReminizML2/python_env/lib/python3.7/site-packages/tensorflow/python/framework/dtypes.py:529: FutureWarning: Passing (type, 1) or '1type' as a synonym of type is deprecated; in a future version of numpy, it will be understood as (type, (1,)) / '(1,)type'.\n",
      "\u001b[2m\u001b[36m(pid=13909, ip=192.168.8.55)\u001b[0m   _np_quint16 = np.dtype([(\"quint16\", np.uint16, 1)])\n",
      "\u001b[2m\u001b[36m(pid=13909, ip=192.168.8.55)\u001b[0m /home/reminiz/ReminizML2/python_env/lib/python3.7/site-packages/tensorflow/python/framework/dtypes.py:530: FutureWarning: Passing (type, 1) or '1type' as a synonym of type is deprecated; in a future version of numpy, it will be understood as (type, (1,)) / '(1,)type'.\n",
      "\u001b[2m\u001b[36m(pid=13909, ip=192.168.8.55)\u001b[0m   _np_qint32 = np.dtype([(\"qint32\", np.int32, 1)])\n",
      "\u001b[2m\u001b[36m(pid=13909, ip=192.168.8.55)\u001b[0m /home/reminiz/ReminizML2/python_env/lib/python3.7/site-packages/tensorflow/python/framework/dtypes.py:535: FutureWarning: Passing (type, 1) or '1type' as a synonym of type is deprecated; in a future version of numpy, it will be understood as (type, (1,)) / '(1,)type'.\n",
      "\u001b[2m\u001b[36m(pid=13909, ip=192.168.8.55)\u001b[0m   np_resource = np.dtype([(\"resource\", np.ubyte, 1)])\n"
     ]
    },
    {
     "name": "stdout",
     "output_type": "stream",
     "text": [
      "\u001b[2m\u001b[36m(pid=13443, ip=192.168.8.54)\u001b[0m \u001b[6;30;42mAL_Train_6\u001b[0m Epoch: 141 / 201 || Time: 2020-12-04 15:11:09 || Accuracy: 99.61 || MAE LossNet: 0.37 || \n"
     ]
    },
    {
     "name": "stderr",
     "output_type": "stream",
     "text": [
      "\u001b[2m\u001b[36m(pid=20271, ip=192.168.8.53)\u001b[0m wandb: Run summary:\n",
      "\u001b[2m\u001b[36m(pid=20271, ip=192.168.8.53)\u001b[0m wandb:                                     _step 135\n",
      "\u001b[2m\u001b[36m(pid=20271, ip=192.168.8.53)\u001b[0m wandb:                                  F1 score 0.6483666563755559\n",
      "\u001b[2m\u001b[36m(pid=20271, ip=192.168.8.53)\u001b[0m wandb:                                  _runtime 229.34140729904175\n",
      "\u001b[2m\u001b[36m(pid=20271, ip=192.168.8.53)\u001b[0m wandb:                                _timestamp 1607091068.4759743\n",
      "\u001b[2m\u001b[36m(pid=20271, ip=192.168.8.53)\u001b[0m wandb:                     Explained variance v1 -0.046546339988708496\n",
      "\u001b[2m\u001b[36m(pid=20271, ip=192.168.8.53)\u001b[0m wandb:                     Explained variance v2 -0.03139972686767578\n",
      "\u001b[2m\u001b[36m(pid=20271, ip=192.168.8.53)\u001b[0m wandb:                     Mean squared error v1 24.6623592376709\n",
      "\u001b[2m\u001b[36m(pid=20271, ip=192.168.8.53)\u001b[0m wandb:                     Mean squared error v2 38.103919982910156\n",
      "\u001b[2m\u001b[36m(pid=20271, ip=192.168.8.53)\u001b[0m wandb:                    Mean absolute error v1 3.1223719120025635\n",
      "\u001b[2m\u001b[36m(pid=20271, ip=192.168.8.53)\u001b[0m wandb:                    Mean absolute error v2 4.2824482917785645\n",
      "\u001b[2m\u001b[36m(pid=20271, ip=192.168.8.53)\u001b[0m wandb:                Area Under the Curve (AUC) 0.7825723884072844\n",
      "\u001b[2m\u001b[36m(pid=20271, ip=192.168.8.53)\u001b[0m wandb:             Test: Classification Accuracy 0.6515\n",
      "\u001b[2m\u001b[36m(pid=20271, ip=192.168.8.53)\u001b[0m wandb: Syncing files in ../../../Trainings/wandb/wandb/run-20201204_141059-32tlp2kp:\n",
      "\u001b[2m\u001b[36m(pid=20271, ip=192.168.8.53)\u001b[0m wandb:   code/default_worker.py\n",
      "\u001b[2m\u001b[36m(pid=20271, ip=192.168.8.53)\u001b[0m wandb: plus 8 W&B file(s) and 2 media file(s)\n",
      "\u001b[2m\u001b[36m(pid=20271, ip=192.168.8.53)\u001b[0m wandb: - 1.00MB of 1.00MB uploaded\n",
      "\u001b[2m\u001b[36m(pid=20271, ip=192.168.8.53)\u001b[0m wandb: \\ 1.00MB of 1.00MB uploaded\n",
      "\u001b[2m\u001b[36m(pid=13909, ip=192.168.8.55)\u001b[0m wandb: Tracking run with wandb version 0.8.36\n",
      "\u001b[2m\u001b[36m(pid=20271, ip=192.168.8.53)\u001b[0m wandb: | 1.00MB of 1.00MB uploaded\n",
      "\u001b[2m\u001b[36m(pid=20271, ip=192.168.8.53)\u001b[0m wandb: / 1.00MB of 1.00MB uploaded\n",
      "\u001b[2m\u001b[36m(pid=13909, ip=192.168.8.55)\u001b[0m wandb: Wandb version 0.10.12 is available!  To upgrade, please run:\n",
      "\u001b[2m\u001b[36m(pid=13909, ip=192.168.8.55)\u001b[0m wandb:  $ pip install wandb --upgrade\n",
      "\u001b[2m\u001b[36m(pid=13909, ip=192.168.8.55)\u001b[0m wandb: Run data is saved locally in ../../../Trainings/wandb/wandb/run-20201204_141110-32tlp2kp\n",
      "wandb:                                                                                \n",
      "\u001b[2m\u001b[36m(pid=20271, ip=192.168.8.53)\u001b[0m wandb: Synced AL_Test_6: http://192.168.8.51:8080/reminiz/Active_Learning_CIFAR/runs/32tlp2kp\n",
      "\u001b[2m\u001b[36m(pid=13909, ip=192.168.8.55)\u001b[0m wandb: Syncing run AL_Test_6\n",
      "\u001b[2m\u001b[36m(pid=13909, ip=192.168.8.55)\u001b[0m wandb: ⭐️ View project at http://192.168.8.51:8080/reminiz/Active_Learning_CIFAR\n",
      "\u001b[2m\u001b[36m(pid=13909, ip=192.168.8.55)\u001b[0m wandb: 🚀 View run at http://192.168.8.51:8080/reminiz/Active_Learning_CIFAR/runs/32tlp2kp\n",
      "\u001b[2m\u001b[36m(pid=13909, ip=192.168.8.55)\u001b[0m wandb: Run `wandb off` to turn off syncing.\n"
     ]
    },
    {
     "name": "stdout",
     "output_type": "stream",
     "text": [
      "\u001b[2m\u001b[36m(pid=13443, ip=192.168.8.54)\u001b[0m \u001b[6;30;42mAL_Train_6\u001b[0m Epoch: 142 / 201 || Time: 2020-12-04 15:11:11 || Accuracy: 99.71 || MAE LossNet: 0.36 || \n"
     ]
    },
    {
     "name": "stderr",
     "output_type": "stream",
     "text": [
      "\u001b[2m\u001b[36m(pid=13909, ip=192.168.8.55)\u001b[0m \n"
     ]
    },
    {
     "name": "stdout",
     "output_type": "stream",
     "text": [
      "\u001b[2m\u001b[36m(pid=13909, ip=192.168.8.55)\u001b[0m CIFAR10 Training data shape: (50000, 32, 32, 3)\n",
      "\u001b[2m\u001b[36m(pid=13909, ip=192.168.8.55)\u001b[0m CIFAR10 Training label shape (50000, 1)\n",
      "\u001b[2m\u001b[36m(pid=13909, ip=192.168.8.55)\u001b[0m CIFAR10 Test data shape (10000, 32, 32, 3)\n",
      "\u001b[2m\u001b[36m(pid=13909, ip=192.168.8.55)\u001b[0m CIFAR10 Test label shape (10000, 1)\n"
     ]
    },
    {
     "name": "stderr",
     "output_type": "stream",
     "text": [
      "\u001b[2m\u001b[36m(pid=13909, ip=192.168.8.55)\u001b[0m WARNING:tensorflow:From /home/reminiz/ReminizML2/python_env/lib/python3.7/site-packages/tensorflow/python/data/ops/dataset_ops.py:429: py_func (from tensorflow.python.ops.script_ops) is deprecated and will be removed in a future version.\n",
      "\u001b[2m\u001b[36m(pid=13909, ip=192.168.8.55)\u001b[0m Instructions for updating:\n",
      "\u001b[2m\u001b[36m(pid=13909, ip=192.168.8.55)\u001b[0m tf.py_func is deprecated in TF V2. Instead, use\n",
      "\u001b[2m\u001b[36m(pid=13909, ip=192.168.8.55)\u001b[0m     tf.py_function, which takes a python function which manipulates tf eager\n",
      "\u001b[2m\u001b[36m(pid=13909, ip=192.168.8.55)\u001b[0m     tensors instead of numpy arrays. It's easy to convert a tf eager tensor to\n",
      "\u001b[2m\u001b[36m(pid=13909, ip=192.168.8.55)\u001b[0m     an ndarray (just call tensor.numpy()) but having access to eager tensors\n",
      "\u001b[2m\u001b[36m(pid=13909, ip=192.168.8.55)\u001b[0m     means `tf.py_function`s can use accelerators such as GPUs as well as\n",
      "\u001b[2m\u001b[36m(pid=13909, ip=192.168.8.55)\u001b[0m     being differentiable using a gradient tape.\n",
      "\u001b[2m\u001b[36m(pid=13909, ip=192.168.8.55)\u001b[0m     \n",
      "\u001b[2m\u001b[36m(pid=13909, ip=192.168.8.55)\u001b[0m WARNING:tensorflow:From /home/reminiz/ReminizML2/python_env/lib/python3.7/site-packages/tensorflow/python/ops/resource_variable_ops.py:435: colocate_with (from tensorflow.python.framework.ops) is deprecated and will be removed in a future version.\n",
      "\u001b[2m\u001b[36m(pid=13909, ip=192.168.8.55)\u001b[0m Instructions for updating:\n",
      "\u001b[2m\u001b[36m(pid=13909, ip=192.168.8.55)\u001b[0m Colocations handled automatically by placer.\n"
     ]
    },
    {
     "name": "stdout",
     "output_type": "stream",
     "text": [
      "\u001b[2m\u001b[36m(pid=13443, ip=192.168.8.54)\u001b[0m \u001b[6;30;42mAL_Train_6\u001b[0m Epoch: 143 / 201 || Time: 2020-12-04 15:11:12 || Accuracy: 99.90 || MAE LossNet: 0.38 || \n"
     ]
    },
    {
     "name": "stderr",
     "output_type": "stream",
     "text": [
      "\u001b[2m\u001b[36m(pid=13909, ip=192.168.8.55)\u001b[0m 2020-12-04 15:11:13.652132: I tensorflow/core/platform/cpu_feature_guard.cc:141] Your CPU supports instructions that this TensorFlow binary was not compiled to use: AVX2 FMA\n",
      "\u001b[2m\u001b[36m(pid=13909, ip=192.168.8.55)\u001b[0m 2020-12-04 15:11:13.680305: I tensorflow/core/platform/profile_utils/cpu_utils.cc:94] CPU Frequency: 3599935000 Hz\n",
      "\u001b[2m\u001b[36m(pid=13909, ip=192.168.8.55)\u001b[0m 2020-12-04 15:11:13.681047: I tensorflow/compiler/xla/service/service.cc:150] XLA service 0x782d2f0 executing computations on platform Host. Devices:\n",
      "\u001b[2m\u001b[36m(pid=13909, ip=192.168.8.55)\u001b[0m 2020-12-04 15:11:13.681087: I tensorflow/compiler/xla/service/service.cc:158]   StreamExecutor device (0): <undefined>, <undefined>\n",
      "\u001b[2m\u001b[36m(pid=13909, ip=192.168.8.55)\u001b[0m 2020-12-04 15:11:13.772918: I tensorflow/compiler/xla/service/service.cc:150] XLA service 0x7832970 executing computations on platform CUDA. Devices:\n",
      "\u001b[2m\u001b[36m(pid=13909, ip=192.168.8.55)\u001b[0m 2020-12-04 15:11:13.772969: I tensorflow/compiler/xla/service/service.cc:158]   StreamExecutor device (0): GeForce GTX 1080 Ti, Compute Capability 6.1\n",
      "\u001b[2m\u001b[36m(pid=13909, ip=192.168.8.55)\u001b[0m 2020-12-04 15:11:13.773126: I tensorflow/core/common_runtime/gpu/gpu_device.cc:1433] Found device 0 with properties: \n",
      "\u001b[2m\u001b[36m(pid=13909, ip=192.168.8.55)\u001b[0m name: GeForce GTX 1080 Ti major: 6 minor: 1 memoryClockRate(GHz): 1.62\n",
      "\u001b[2m\u001b[36m(pid=13909, ip=192.168.8.55)\u001b[0m pciBusID: 0000:4c:00.0\n",
      "\u001b[2m\u001b[36m(pid=13909, ip=192.168.8.55)\u001b[0m totalMemory: 10.91GiB freeMemory: 10.77GiB\n",
      "\u001b[2m\u001b[36m(pid=13909, ip=192.168.8.55)\u001b[0m 2020-12-04 15:11:13.773149: I tensorflow/core/common_runtime/gpu/gpu_device.cc:1512] Adding visible gpu devices: 0\n",
      "\u001b[2m\u001b[36m(pid=13909, ip=192.168.8.55)\u001b[0m 2020-12-04 15:11:13.775022: I tensorflow/core/common_runtime/gpu/gpu_device.cc:984] Device interconnect StreamExecutor with strength 1 edge matrix:\n",
      "\u001b[2m\u001b[36m(pid=13909, ip=192.168.8.55)\u001b[0m 2020-12-04 15:11:13.775043: I tensorflow/core/common_runtime/gpu/gpu_device.cc:990]      0 \n",
      "\u001b[2m\u001b[36m(pid=13909, ip=192.168.8.55)\u001b[0m 2020-12-04 15:11:13.775052: I tensorflow/core/common_runtime/gpu/gpu_device.cc:1003] 0:   N \n",
      "\u001b[2m\u001b[36m(pid=13909, ip=192.168.8.55)\u001b[0m 2020-12-04 15:11:13.775144: I tensorflow/core/common_runtime/gpu/gpu_device.cc:1115] Created TensorFlow device (/job:localhost/replica:0/task:0/device:GPU:0 with 10479 MB memory) -> physical GPU (device: 0, name: GeForce GTX 1080 Ti, pci bus id: 0000:4c:00.0, compute capability: 6.1)\n"
     ]
    },
    {
     "name": "stdout",
     "output_type": "stream",
     "text": [
      "\u001b[2m\u001b[36m(pid=13909, ip=192.168.8.55)\u001b[0m \u001b[6;30;42mAL_Test_6\u001b[0m Restoring from /mnt/Ressources/Andres/Temp_active/runs/Active_Learning_v0/Stage_6/checkpoint/epoch140.ckpt-140\n"
     ]
    },
    {
     "name": "stderr",
     "output_type": "stream",
     "text": [
      "\u001b[2m\u001b[36m(pid=13909, ip=192.168.8.55)\u001b[0m WARNING:tensorflow:From /home/reminiz/ReminizML2/python_env/lib/python3.7/site-packages/tensorflow/python/training/saver.py:1266: checkpoint_exists (from tensorflow.python.training.checkpoint_management) is deprecated and will be removed in a future version.\n",
      "\u001b[2m\u001b[36m(pid=13909, ip=192.168.8.55)\u001b[0m Instructions for updating:\n",
      "\u001b[2m\u001b[36m(pid=13909, ip=192.168.8.55)\u001b[0m Use standard file APIs to check for files with this prefix.\n"
     ]
    },
    {
     "name": "stdout",
     "output_type": "stream",
     "text": [
      "\u001b[2m\u001b[36m(pid=13443, ip=192.168.8.54)\u001b[0m \u001b[6;30;42mAL_Train_6\u001b[0m Epoch: 144 / 201 || Time: 2020-12-04 15:11:14 || Accuracy: 99.49 || MAE LossNet: 0.42 || \n"
     ]
    },
    {
     "name": "stderr",
     "output_type": "stream",
     "text": [
      "\u001b[2m\u001b[36m(pid=13909, ip=192.168.8.55)\u001b[0m 2020-12-04 15:11:15.198636: I tensorflow/stream_executor/dso_loader.cc:152] successfully opened CUDA library libcublas.so.10.0 locally\n"
     ]
    },
    {
     "name": "stdout",
     "output_type": "stream",
     "text": [
      "\u001b[2m\u001b[36m(pid=13443, ip=192.168.8.54)\u001b[0m \u001b[6;30;42mAL_Train_6\u001b[0m Epoch: 145 / 201 || Time: 2020-12-04 15:11:15 || Accuracy: 99.61 || MAE LossNet: 0.36 || \n",
      "\u001b[2m\u001b[36m(pid=13909, ip=192.168.8.55)\u001b[0m \u001b[6;30;42mAL_Test_6\u001b[0m Test || Epoch: 140 || Accuracy: 64.77 || \n"
     ]
    },
    {
     "name": "stderr",
     "output_type": "stream",
     "text": [
      "\u001b[2m\u001b[36m(pid=13909, ip=192.168.8.55)\u001b[0m \n",
      "\u001b[2m\u001b[36m(pid=13909, ip=192.168.8.55)\u001b[0m wandb: Waiting for W&B process to finish, PID 13932\n",
      "\u001b[2m\u001b[36m(pid=13909, ip=192.168.8.55)\u001b[0m wandb: Program ended successfully.\n",
      "\u001b[2m\u001b[36m(pid=20649, ip=192.168.8.53)\u001b[0m /home/reminiz/ReminizML2/python_env/lib/python3.7/site-packages/tensorflow/python/framework/dtypes.py:526: FutureWarning: Passing (type, 1) or '1type' as a synonym of type is deprecated; in a future version of numpy, it will be understood as (type, (1,)) / '(1,)type'.\n",
      "\u001b[2m\u001b[36m(pid=20649, ip=192.168.8.53)\u001b[0m   _np_qint8 = np.dtype([(\"qint8\", np.int8, 1)])\n",
      "\u001b[2m\u001b[36m(pid=20649, ip=192.168.8.53)\u001b[0m /home/reminiz/ReminizML2/python_env/lib/python3.7/site-packages/tensorflow/python/framework/dtypes.py:527: FutureWarning: Passing (type, 1) or '1type' as a synonym of type is deprecated; in a future version of numpy, it will be understood as (type, (1,)) / '(1,)type'.\n",
      "\u001b[2m\u001b[36m(pid=20649, ip=192.168.8.53)\u001b[0m   _np_quint8 = np.dtype([(\"quint8\", np.uint8, 1)])\n",
      "\u001b[2m\u001b[36m(pid=20649, ip=192.168.8.53)\u001b[0m /home/reminiz/ReminizML2/python_env/lib/python3.7/site-packages/tensorflow/python/framework/dtypes.py:528: FutureWarning: Passing (type, 1) or '1type' as a synonym of type is deprecated; in a future version of numpy, it will be understood as (type, (1,)) / '(1,)type'.\n",
      "\u001b[2m\u001b[36m(pid=20649, ip=192.168.8.53)\u001b[0m   _np_qint16 = np.dtype([(\"qint16\", np.int16, 1)])\n",
      "\u001b[2m\u001b[36m(pid=20649, ip=192.168.8.53)\u001b[0m /home/reminiz/ReminizML2/python_env/lib/python3.7/site-packages/tensorflow/python/framework/dtypes.py:529: FutureWarning: Passing (type, 1) or '1type' as a synonym of type is deprecated; in a future version of numpy, it will be understood as (type, (1,)) / '(1,)type'.\n",
      "\u001b[2m\u001b[36m(pid=20649, ip=192.168.8.53)\u001b[0m   _np_quint16 = np.dtype([(\"quint16\", np.uint16, 1)])\n",
      "\u001b[2m\u001b[36m(pid=20649, ip=192.168.8.53)\u001b[0m /home/reminiz/ReminizML2/python_env/lib/python3.7/site-packages/tensorflow/python/framework/dtypes.py:530: FutureWarning: Passing (type, 1) or '1type' as a synonym of type is deprecated; in a future version of numpy, it will be understood as (type, (1,)) / '(1,)type'.\n",
      "\u001b[2m\u001b[36m(pid=20649, ip=192.168.8.53)\u001b[0m   _np_qint32 = np.dtype([(\"qint32\", np.int32, 1)])\n",
      "\u001b[2m\u001b[36m(pid=20649, ip=192.168.8.53)\u001b[0m /home/reminiz/ReminizML2/python_env/lib/python3.7/site-packages/tensorflow/python/framework/dtypes.py:535: FutureWarning: Passing (type, 1) or '1type' as a synonym of type is deprecated; in a future version of numpy, it will be understood as (type, (1,)) / '(1,)type'.\n",
      "\u001b[2m\u001b[36m(pid=20649, ip=192.168.8.53)\u001b[0m   np_resource = np.dtype([(\"resource\", np.ubyte, 1)])\n",
      "\u001b[2m\u001b[36m(pid=13909, ip=192.168.8.55)\u001b[0m wandb: Run summary:\n",
      "\u001b[2m\u001b[36m(pid=13909, ip=192.168.8.55)\u001b[0m wandb:                                     _step 140\n",
      "\u001b[2m\u001b[36m(pid=13909, ip=192.168.8.55)\u001b[0m wandb:                                  F1 score 0.6488519837390365\n",
      "\u001b[2m\u001b[36m(pid=13909, ip=192.168.8.55)\u001b[0m wandb:                                  _runtime 237.73127961158752\n",
      "\u001b[2m\u001b[36m(pid=13909, ip=192.168.8.55)\u001b[0m wandb:                                _timestamp 1607091078.7542799\n",
      "\u001b[2m\u001b[36m(pid=13909, ip=192.168.8.55)\u001b[0m wandb:                     Explained variance v1 -0.04496455192565918\n",
      "\u001b[2m\u001b[36m(pid=13909, ip=192.168.8.55)\u001b[0m wandb:                     Explained variance v2 -0.02758622169494629\n",
      "\u001b[2m\u001b[36m(pid=13909, ip=192.168.8.55)\u001b[0m wandb:                     Mean squared error v1 26.68059730529785\n",
      "\u001b[2m\u001b[36m(pid=13909, ip=192.168.8.55)\u001b[0m wandb:                     Mean squared error v2 40.149932861328125\n",
      "\u001b[2m\u001b[36m(pid=13909, ip=192.168.8.55)\u001b[0m wandb:                    Mean absolute error v1 3.243706226348877\n",
      "\u001b[2m\u001b[36m(pid=13909, ip=192.168.8.55)\u001b[0m wandb:                    Mean absolute error v2 4.410887241363525\n",
      "\u001b[2m\u001b[36m(pid=13909, ip=192.168.8.55)\u001b[0m wandb:                Area Under the Curve (AUC) 0.7773957773069019\n",
      "\u001b[2m\u001b[36m(pid=13909, ip=192.168.8.55)\u001b[0m wandb:             Test: Classification Accuracy 0.6477\n",
      "\u001b[2m\u001b[36m(pid=13909, ip=192.168.8.55)\u001b[0m wandb: Syncing files in ../../../Trainings/wandb/wandb/run-20201204_141110-32tlp2kp:\n",
      "\u001b[2m\u001b[36m(pid=13909, ip=192.168.8.55)\u001b[0m wandb:   code/default_worker.py\n",
      "\u001b[2m\u001b[36m(pid=13909, ip=192.168.8.55)\u001b[0m wandb: plus 8 W&B file(s) and 2 media file(s)\n",
      "\u001b[2m\u001b[36m(pid=13909, ip=192.168.8.55)\u001b[0m wandb: - 1.17MB of 1.17MB uploaded\n",
      "\u001b[2m\u001b[36m(pid=13909, ip=192.168.8.55)\u001b[0m wandb: \\ 1.17MB of 1.17MB uploaded\n"
     ]
    },
    {
     "name": "stdout",
     "output_type": "stream",
     "text": [
      "\u001b[2m\u001b[36m(pid=13443, ip=192.168.8.54)\u001b[0m \u001b[6;30;42mAL_Train_6\u001b[0m Epoch: 146 / 201 || Time: 2020-12-04 15:11:21 || Accuracy: 100.00 || MAE LossNet: 0.35 || \n"
     ]
    },
    {
     "name": "stderr",
     "output_type": "stream",
     "text": [
      "\u001b[2m\u001b[36m(pid=13909, ip=192.168.8.55)\u001b[0m wandb: | 1.17MB of 1.17MB uploaded\n",
      "\u001b[2m\u001b[36m(pid=13909, ip=192.168.8.55)\u001b[0m wandb: / 1.17MB of 1.17MB uploaded\n",
      "\u001b[2m\u001b[36m(pid=20649, ip=192.168.8.53)\u001b[0m wandb: Tracking run with wandb version 0.8.36\n",
      "wandb:                                                                                \n",
      "\u001b[2m\u001b[36m(pid=13909, ip=192.168.8.55)\u001b[0m wandb: Synced AL_Test_6: http://192.168.8.51:8080/reminiz/Active_Learning_CIFAR/runs/32tlp2kp\n",
      "\u001b[2m\u001b[36m(pid=20649, ip=192.168.8.53)\u001b[0m wandb: Wandb version 0.10.12 is available!  To upgrade, please run:\n",
      "\u001b[2m\u001b[36m(pid=20649, ip=192.168.8.53)\u001b[0m wandb:  $ pip install wandb --upgrade\n",
      "\u001b[2m\u001b[36m(pid=20649, ip=192.168.8.53)\u001b[0m wandb: Run data is saved locally in ../../../Trainings/wandb/wandb/run-20201204_141122-32tlp2kp\n",
      "\u001b[2m\u001b[36m(pid=20649, ip=192.168.8.53)\u001b[0m wandb: Syncing run AL_Test_6\n",
      "\u001b[2m\u001b[36m(pid=20649, ip=192.168.8.53)\u001b[0m wandb: ⭐️ View project at http://192.168.8.51:8080/reminiz/Active_Learning_CIFAR\n",
      "\u001b[2m\u001b[36m(pid=20649, ip=192.168.8.53)\u001b[0m wandb: 🚀 View run at http://192.168.8.51:8080/reminiz/Active_Learning_CIFAR/runs/32tlp2kp\n",
      "\u001b[2m\u001b[36m(pid=20649, ip=192.168.8.53)\u001b[0m wandb: Run `wandb off` to turn off syncing.\n",
      "\u001b[2m\u001b[36m(pid=20649, ip=192.168.8.53)\u001b[0m \n"
     ]
    },
    {
     "name": "stdout",
     "output_type": "stream",
     "text": [
      "\u001b[2m\u001b[36m(pid=13443, ip=192.168.8.54)\u001b[0m \u001b[6;30;42mAL_Train_6\u001b[0m Epoch: 147 / 201 || Time: 2020-12-04 15:11:23 || Accuracy: 100.00 || MAE LossNet: 0.34 || \n",
      "\u001b[2m\u001b[36m(pid=20649, ip=192.168.8.53)\u001b[0m CIFAR10 Training data shape: (50000, 32, 32, 3)\n",
      "\u001b[2m\u001b[36m(pid=20649, ip=192.168.8.53)\u001b[0m CIFAR10 Training label shape (50000, 1)\n",
      "\u001b[2m\u001b[36m(pid=20649, ip=192.168.8.53)\u001b[0m CIFAR10 Test data shape (10000, 32, 32, 3)\n",
      "\u001b[2m\u001b[36m(pid=20649, ip=192.168.8.53)\u001b[0m CIFAR10 Test label shape (10000, 1)\n"
     ]
    },
    {
     "name": "stderr",
     "output_type": "stream",
     "text": [
      "\u001b[2m\u001b[36m(pid=20649, ip=192.168.8.53)\u001b[0m WARNING:tensorflow:From /home/reminiz/ReminizML2/python_env/lib/python3.7/site-packages/tensorflow/python/data/ops/dataset_ops.py:429: py_func (from tensorflow.python.ops.script_ops) is deprecated and will be removed in a future version.\n",
      "\u001b[2m\u001b[36m(pid=20649, ip=192.168.8.53)\u001b[0m Instructions for updating:\n",
      "\u001b[2m\u001b[36m(pid=20649, ip=192.168.8.53)\u001b[0m tf.py_func is deprecated in TF V2. Instead, use\n",
      "\u001b[2m\u001b[36m(pid=20649, ip=192.168.8.53)\u001b[0m     tf.py_function, which takes a python function which manipulates tf eager\n",
      "\u001b[2m\u001b[36m(pid=20649, ip=192.168.8.53)\u001b[0m     tensors instead of numpy arrays. It's easy to convert a tf eager tensor to\n",
      "\u001b[2m\u001b[36m(pid=20649, ip=192.168.8.53)\u001b[0m     an ndarray (just call tensor.numpy()) but having access to eager tensors\n",
      "\u001b[2m\u001b[36m(pid=20649, ip=192.168.8.53)\u001b[0m     means `tf.py_function`s can use accelerators such as GPUs as well as\n",
      "\u001b[2m\u001b[36m(pid=20649, ip=192.168.8.53)\u001b[0m     being differentiable using a gradient tape.\n",
      "\u001b[2m\u001b[36m(pid=20649, ip=192.168.8.53)\u001b[0m     \n",
      "\u001b[2m\u001b[36m(pid=20649, ip=192.168.8.53)\u001b[0m WARNING:tensorflow:From /home/reminiz/ReminizML2/python_env/lib/python3.7/site-packages/tensorflow/python/ops/resource_variable_ops.py:435: colocate_with (from tensorflow.python.framework.ops) is deprecated and will be removed in a future version.\n",
      "\u001b[2m\u001b[36m(pid=20649, ip=192.168.8.53)\u001b[0m Instructions for updating:\n",
      "\u001b[2m\u001b[36m(pid=20649, ip=192.168.8.53)\u001b[0m Colocations handled automatically by placer.\n"
     ]
    },
    {
     "name": "stdout",
     "output_type": "stream",
     "text": [
      "\u001b[2m\u001b[36m(pid=13443, ip=192.168.8.54)\u001b[0m \u001b[6;30;42mAL_Train_6\u001b[0m Epoch: 148 / 201 || Time: 2020-12-04 15:11:24 || Accuracy: 99.90 || MAE LossNet: 0.32 || \n"
     ]
    },
    {
     "name": "stderr",
     "output_type": "stream",
     "text": [
      "\u001b[2m\u001b[36m(pid=20649, ip=192.168.8.53)\u001b[0m 2020-12-04 15:11:25.387782: I tensorflow/core/platform/cpu_feature_guard.cc:141] Your CPU supports instructions that this TensorFlow binary was not compiled to use: AVX2 FMA\n",
      "\u001b[2m\u001b[36m(pid=20649, ip=192.168.8.53)\u001b[0m 2020-12-04 15:11:25.409058: I tensorflow/core/platform/profile_utils/cpu_utils.cc:94] CPU Frequency: 3499950000 Hz\n",
      "\u001b[2m\u001b[36m(pid=20649, ip=192.168.8.53)\u001b[0m 2020-12-04 15:11:25.409548: I tensorflow/compiler/xla/service/service.cc:150] XLA service 0x55bb59cae2d0 executing computations on platform Host. Devices:\n",
      "\u001b[2m\u001b[36m(pid=20649, ip=192.168.8.53)\u001b[0m 2020-12-04 15:11:25.409567: I tensorflow/compiler/xla/service/service.cc:158]   StreamExecutor device (0): <undefined>, <undefined>\n",
      "\u001b[2m\u001b[36m(pid=20649, ip=192.168.8.53)\u001b[0m 2020-12-04 15:11:25.528003: I tensorflow/compiler/xla/service/service.cc:150] XLA service 0x55bb56d7eed0 executing computations on platform CUDA. Devices:\n",
      "\u001b[2m\u001b[36m(pid=20649, ip=192.168.8.53)\u001b[0m 2020-12-04 15:11:25.528042: I tensorflow/compiler/xla/service/service.cc:158]   StreamExecutor device (0): GeForce GTX TITAN X, Compute Capability 5.2\n",
      "\u001b[2m\u001b[36m(pid=20649, ip=192.168.8.53)\u001b[0m 2020-12-04 15:11:25.528199: I tensorflow/core/common_runtime/gpu/gpu_device.cc:1433] Found device 0 with properties: \n",
      "\u001b[2m\u001b[36m(pid=20649, ip=192.168.8.53)\u001b[0m name: GeForce GTX TITAN X major: 5 minor: 2 memoryClockRate(GHz): 1.076\n",
      "\u001b[2m\u001b[36m(pid=20649, ip=192.168.8.53)\u001b[0m pciBusID: 0000:02:00.0\n",
      "\u001b[2m\u001b[36m(pid=20649, ip=192.168.8.53)\u001b[0m totalMemory: 11.93GiB freeMemory: 11.82GiB\n",
      "\u001b[2m\u001b[36m(pid=20649, ip=192.168.8.53)\u001b[0m 2020-12-04 15:11:25.528223: I tensorflow/core/common_runtime/gpu/gpu_device.cc:1512] Adding visible gpu devices: 0\n",
      "\u001b[2m\u001b[36m(pid=20649, ip=192.168.8.53)\u001b[0m 2020-12-04 15:11:25.530226: I tensorflow/core/common_runtime/gpu/gpu_device.cc:984] Device interconnect StreamExecutor with strength 1 edge matrix:\n",
      "\u001b[2m\u001b[36m(pid=20649, ip=192.168.8.53)\u001b[0m 2020-12-04 15:11:25.530250: I tensorflow/core/common_runtime/gpu/gpu_device.cc:990]      0 \n",
      "\u001b[2m\u001b[36m(pid=20649, ip=192.168.8.53)\u001b[0m 2020-12-04 15:11:25.530259: I tensorflow/core/common_runtime/gpu/gpu_device.cc:1003] 0:   N \n",
      "\u001b[2m\u001b[36m(pid=20649, ip=192.168.8.53)\u001b[0m 2020-12-04 15:11:25.530351: I tensorflow/core/common_runtime/gpu/gpu_device.cc:1115] Created TensorFlow device (/job:localhost/replica:0/task:0/device:GPU:0 with 11496 MB memory) -> physical GPU (device: 0, name: GeForce GTX TITAN X, pci bus id: 0000:02:00.0, compute capability: 5.2)\n"
     ]
    },
    {
     "name": "stdout",
     "output_type": "stream",
     "text": [
      "\u001b[2m\u001b[36m(pid=20649, ip=192.168.8.53)\u001b[0m \u001b[6;30;42mAL_Test_6\u001b[0m Restoring from /mnt/Ressources/Andres/Temp_active/runs/Active_Learning_v0/Stage_6/checkpoint/epoch145.ckpt-145\n"
     ]
    },
    {
     "name": "stderr",
     "output_type": "stream",
     "text": [
      "\u001b[2m\u001b[36m(pid=20649, ip=192.168.8.53)\u001b[0m WARNING:tensorflow:From /home/reminiz/ReminizML2/python_env/lib/python3.7/site-packages/tensorflow/python/training/saver.py:1266: checkpoint_exists (from tensorflow.python.training.checkpoint_management) is deprecated and will be removed in a future version.\n",
      "\u001b[2m\u001b[36m(pid=20649, ip=192.168.8.53)\u001b[0m Instructions for updating:\n",
      "\u001b[2m\u001b[36m(pid=20649, ip=192.168.8.53)\u001b[0m Use standard file APIs to check for files with this prefix.\n"
     ]
    },
    {
     "name": "stdout",
     "output_type": "stream",
     "text": [
      "\u001b[2m\u001b[36m(pid=13443, ip=192.168.8.54)\u001b[0m \u001b[6;30;42mAL_Train_6\u001b[0m Epoch: 149 / 201 || Time: 2020-12-04 15:11:26 || Accuracy: 99.90 || MAE LossNet: 0.34 || \n"
     ]
    },
    {
     "name": "stderr",
     "output_type": "stream",
     "text": [
      "\u001b[2m\u001b[36m(pid=20649, ip=192.168.8.53)\u001b[0m 2020-12-04 15:11:27.000141: I tensorflow/stream_executor/dso_loader.cc:152] successfully opened CUDA library libcublas.so.10.0 locally\n"
     ]
    },
    {
     "name": "stdout",
     "output_type": "stream",
     "text": [
      "\u001b[2m\u001b[36m(pid=13443, ip=192.168.8.54)\u001b[0m \u001b[6;30;42mAL_Train_6\u001b[0m Epoch: 150 / 201 || Time: 2020-12-04 15:11:27 || Accuracy: 99.51 || MAE LossNet: 0.34 || \n"
     ]
    },
    {
     "name": "stderr",
     "output_type": "stream",
     "text": [
      "2020-12-04 15:11:31,506\tWARNING worker.py:1072 -- The actor or task with ID ffffffffffffffffa86287b806000000 is pending and cannot currently be scheduled. It requires {CPU: 1.000000}, {gpu_lvl_1: 1.000000}, {GPU: 1.000000} for execution and {CPU: 1.000000}, {gpu_lvl_1: 1.000000}, {GPU: 1.000000} for placement, but this node only has remaining {GPU: 2.000000}, {gpu_lvl_1: 2.000000}, {node:192.168.8.53: 1.000000}, {accelerator_type:GTX: 1.000000}, {CPU: 11.000000}, {memory: 31.640625 GiB}, {object_store_memory: 9.326172 GiB}. In total there are 0 pending tasks and 1 pending actors on this node. This is likely due to all cluster resources being claimed by actors. To resolve the issue, consider creating fewer actors or increase the resources available to this Ray cluster. You can ignore this message if this Ray cluster is expected to auto-scale.\n"
     ]
    },
    {
     "name": "stdout",
     "output_type": "stream",
     "text": [
      "\u001b[2m\u001b[36m(pid=20649, ip=192.168.8.53)\u001b[0m \u001b[6;30;42mAL_Test_6\u001b[0m Test || Epoch: 145 || Accuracy: 64.80 || \n"
     ]
    },
    {
     "name": "stderr",
     "output_type": "stream",
     "text": [
      "\u001b[2m\u001b[36m(pid=20649, ip=192.168.8.53)\u001b[0m \n",
      "\u001b[2m\u001b[36m(pid=20649, ip=192.168.8.53)\u001b[0m wandb: Waiting for W&B process to finish, PID 20936\n",
      "\u001b[2m\u001b[36m(pid=20649, ip=192.168.8.53)\u001b[0m wandb: Program ended successfully.\n",
      "\u001b[2m\u001b[36m(pid=21304, ip=192.168.8.53)\u001b[0m /home/reminiz/ReminizML2/python_env/lib/python3.7/site-packages/tensorflow/python/framework/dtypes.py:526: FutureWarning: Passing (type, 1) or '1type' as a synonym of type is deprecated; in a future version of numpy, it will be understood as (type, (1,)) / '(1,)type'.\n",
      "\u001b[2m\u001b[36m(pid=21304, ip=192.168.8.53)\u001b[0m   _np_qint8 = np.dtype([(\"qint8\", np.int8, 1)])\n",
      "\u001b[2m\u001b[36m(pid=21304, ip=192.168.8.53)\u001b[0m /home/reminiz/ReminizML2/python_env/lib/python3.7/site-packages/tensorflow/python/framework/dtypes.py:527: FutureWarning: Passing (type, 1) or '1type' as a synonym of type is deprecated; in a future version of numpy, it will be understood as (type, (1,)) / '(1,)type'.\n",
      "\u001b[2m\u001b[36m(pid=21304, ip=192.168.8.53)\u001b[0m   _np_quint8 = np.dtype([(\"quint8\", np.uint8, 1)])\n",
      "\u001b[2m\u001b[36m(pid=21304, ip=192.168.8.53)\u001b[0m /home/reminiz/ReminizML2/python_env/lib/python3.7/site-packages/tensorflow/python/framework/dtypes.py:528: FutureWarning: Passing (type, 1) or '1type' as a synonym of type is deprecated; in a future version of numpy, it will be understood as (type, (1,)) / '(1,)type'.\n",
      "\u001b[2m\u001b[36m(pid=21304, ip=192.168.8.53)\u001b[0m   _np_qint16 = np.dtype([(\"qint16\", np.int16, 1)])\n",
      "\u001b[2m\u001b[36m(pid=21304, ip=192.168.8.53)\u001b[0m /home/reminiz/ReminizML2/python_env/lib/python3.7/site-packages/tensorflow/python/framework/dtypes.py:529: FutureWarning: Passing (type, 1) or '1type' as a synonym of type is deprecated; in a future version of numpy, it will be understood as (type, (1,)) / '(1,)type'.\n",
      "\u001b[2m\u001b[36m(pid=21304, ip=192.168.8.53)\u001b[0m   _np_quint16 = np.dtype([(\"quint16\", np.uint16, 1)])\n",
      "\u001b[2m\u001b[36m(pid=21304, ip=192.168.8.53)\u001b[0m /home/reminiz/ReminizML2/python_env/lib/python3.7/site-packages/tensorflow/python/framework/dtypes.py:530: FutureWarning: Passing (type, 1) or '1type' as a synonym of type is deprecated; in a future version of numpy, it will be understood as (type, (1,)) / '(1,)type'.\n",
      "\u001b[2m\u001b[36m(pid=21304, ip=192.168.8.53)\u001b[0m   _np_qint32 = np.dtype([(\"qint32\", np.int32, 1)])\n",
      "\u001b[2m\u001b[36m(pid=21304, ip=192.168.8.53)\u001b[0m /home/reminiz/ReminizML2/python_env/lib/python3.7/site-packages/tensorflow/python/framework/dtypes.py:535: FutureWarning: Passing (type, 1) or '1type' as a synonym of type is deprecated; in a future version of numpy, it will be understood as (type, (1,)) / '(1,)type'.\n",
      "\u001b[2m\u001b[36m(pid=21304, ip=192.168.8.53)\u001b[0m   np_resource = np.dtype([(\"resource\", np.ubyte, 1)])\n",
      "\u001b[2m\u001b[36m(pid=20649, ip=192.168.8.53)\u001b[0m wandb: Run summary:\n",
      "\u001b[2m\u001b[36m(pid=20649, ip=192.168.8.53)\u001b[0m wandb:                                     _step 145\n",
      "\u001b[2m\u001b[36m(pid=20649, ip=192.168.8.53)\u001b[0m wandb:                                  F1 score 0.6453519470227993\n",
      "\u001b[2m\u001b[36m(pid=20649, ip=192.168.8.53)\u001b[0m wandb:                                  _runtime 247.13927698135376\n",
      "\u001b[2m\u001b[36m(pid=20649, ip=192.168.8.53)\u001b[0m wandb:                                _timestamp 1607091091.3979843\n",
      "\u001b[2m\u001b[36m(pid=20649, ip=192.168.8.53)\u001b[0m wandb:                     Explained variance v1 -0.03982210159301758\n",
      "\u001b[2m\u001b[36m(pid=20649, ip=192.168.8.53)\u001b[0m wandb:                     Explained variance v2 -0.0259706974029541\n",
      "\u001b[2m\u001b[36m(pid=20649, ip=192.168.8.53)\u001b[0m wandb:                     Mean squared error v1 26.937618255615234\n",
      "\u001b[2m\u001b[36m(pid=20649, ip=192.168.8.53)\u001b[0m wandb:                     Mean squared error v2 40.16071319580078\n",
      "\u001b[2m\u001b[36m(pid=20649, ip=192.168.8.53)\u001b[0m wandb:                    Mean absolute error v1 3.2840116024017334\n",
      "\u001b[2m\u001b[36m(pid=20649, ip=192.168.8.53)\u001b[0m wandb:                    Mean absolute error v2 4.412421226501465\n",
      "\u001b[2m\u001b[36m(pid=20649, ip=192.168.8.53)\u001b[0m wandb:                Area Under the Curve (AUC) 0.7823690025252525\n",
      "\u001b[2m\u001b[36m(pid=20649, ip=192.168.8.53)\u001b[0m wandb:             Test: Classification Accuracy 0.648\n",
      "\u001b[2m\u001b[36m(pid=20649, ip=192.168.8.53)\u001b[0m wandb: Syncing files in ../../../Trainings/wandb/wandb/run-20201204_141122-32tlp2kp:\n",
      "\u001b[2m\u001b[36m(pid=20649, ip=192.168.8.53)\u001b[0m wandb:   code/default_worker.py\n",
      "\u001b[2m\u001b[36m(pid=20649, ip=192.168.8.53)\u001b[0m wandb: plus 8 W&B file(s) and 2 media file(s)\n",
      "\u001b[2m\u001b[36m(pid=20649, ip=192.168.8.53)\u001b[0m wandb: - 1.15MB of 1.15MB uploaded\n",
      "\u001b[2m\u001b[36m(pid=20649, ip=192.168.8.53)\u001b[0m wandb: \\ 1.15MB of 1.15MB uploaded\n"
     ]
    },
    {
     "name": "stdout",
     "output_type": "stream",
     "text": [
      "\u001b[2m\u001b[36m(pid=13443, ip=192.168.8.54)\u001b[0m \u001b[6;30;42mAL_Train_6\u001b[0m Epoch: 151 / 201 || Time: 2020-12-04 15:11:33 || Accuracy: 99.90 || MAE LossNet: 0.32 || \n"
     ]
    },
    {
     "name": "stderr",
     "output_type": "stream",
     "text": [
      "\u001b[2m\u001b[36m(pid=20649, ip=192.168.8.53)\u001b[0m wandb: | 1.15MB of 1.15MB uploaded\n",
      "\u001b[2m\u001b[36m(pid=20649, ip=192.168.8.53)\u001b[0m wandb: / 1.15MB of 1.15MB uploaded\n",
      "\u001b[2m\u001b[36m(pid=21304, ip=192.168.8.53)\u001b[0m wandb: Tracking run with wandb version 0.8.36\n",
      "wandb:                                                                                \n",
      "\u001b[2m\u001b[36m(pid=20649, ip=192.168.8.53)\u001b[0m wandb: Synced AL_Test_6: http://192.168.8.51:8080/reminiz/Active_Learning_CIFAR/runs/32tlp2kp\n",
      "\u001b[2m\u001b[36m(pid=21304, ip=192.168.8.53)\u001b[0m wandb: Wandb version 0.10.12 is available!  To upgrade, please run:\n",
      "\u001b[2m\u001b[36m(pid=21304, ip=192.168.8.53)\u001b[0m wandb:  $ pip install wandb --upgrade\n",
      "\u001b[2m\u001b[36m(pid=21304, ip=192.168.8.53)\u001b[0m wandb: Run data is saved locally in ../../../Trainings/wandb/wandb/run-20201204_141133-32tlp2kp\n",
      "\u001b[2m\u001b[36m(pid=21304, ip=192.168.8.53)\u001b[0m wandb: Syncing run AL_Test_6\n",
      "\u001b[2m\u001b[36m(pid=21304, ip=192.168.8.53)\u001b[0m wandb: ⭐️ View project at http://192.168.8.51:8080/reminiz/Active_Learning_CIFAR\n",
      "\u001b[2m\u001b[36m(pid=21304, ip=192.168.8.53)\u001b[0m wandb: 🚀 View run at http://192.168.8.51:8080/reminiz/Active_Learning_CIFAR/runs/32tlp2kp\n",
      "\u001b[2m\u001b[36m(pid=21304, ip=192.168.8.53)\u001b[0m wandb: Run `wandb off` to turn off syncing.\n",
      "\u001b[2m\u001b[36m(pid=21304, ip=192.168.8.53)\u001b[0m \n"
     ]
    },
    {
     "name": "stdout",
     "output_type": "stream",
     "text": [
      "\u001b[2m\u001b[36m(pid=21304, ip=192.168.8.53)\u001b[0m CIFAR10 Training data shape: (50000, 32, 32, 3)\n",
      "\u001b[2m\u001b[36m(pid=21304, ip=192.168.8.53)\u001b[0m CIFAR10 Training label shape (50000, 1)\n",
      "\u001b[2m\u001b[36m(pid=21304, ip=192.168.8.53)\u001b[0m CIFAR10 Test data shape (10000, 32, 32, 3)\n",
      "\u001b[2m\u001b[36m(pid=21304, ip=192.168.8.53)\u001b[0m CIFAR10 Test label shape (10000, 1)\n",
      "\u001b[2m\u001b[36m(pid=13443, ip=192.168.8.54)\u001b[0m \u001b[6;30;42mAL_Train_6\u001b[0m Epoch: 152 / 201 || Time: 2020-12-04 15:11:34 || Accuracy: 99.71 || MAE LossNet: 0.33 || \n"
     ]
    },
    {
     "name": "stderr",
     "output_type": "stream",
     "text": [
      "\u001b[2m\u001b[36m(pid=21304, ip=192.168.8.53)\u001b[0m WARNING:tensorflow:From /home/reminiz/ReminizML2/python_env/lib/python3.7/site-packages/tensorflow/python/data/ops/dataset_ops.py:429: py_func (from tensorflow.python.ops.script_ops) is deprecated and will be removed in a future version.\n",
      "\u001b[2m\u001b[36m(pid=21304, ip=192.168.8.53)\u001b[0m Instructions for updating:\n",
      "\u001b[2m\u001b[36m(pid=21304, ip=192.168.8.53)\u001b[0m tf.py_func is deprecated in TF V2. Instead, use\n",
      "\u001b[2m\u001b[36m(pid=21304, ip=192.168.8.53)\u001b[0m     tf.py_function, which takes a python function which manipulates tf eager\n",
      "\u001b[2m\u001b[36m(pid=21304, ip=192.168.8.53)\u001b[0m     tensors instead of numpy arrays. It's easy to convert a tf eager tensor to\n",
      "\u001b[2m\u001b[36m(pid=21304, ip=192.168.8.53)\u001b[0m     an ndarray (just call tensor.numpy()) but having access to eager tensors\n",
      "\u001b[2m\u001b[36m(pid=21304, ip=192.168.8.53)\u001b[0m     means `tf.py_function`s can use accelerators such as GPUs as well as\n",
      "\u001b[2m\u001b[36m(pid=21304, ip=192.168.8.53)\u001b[0m     being differentiable using a gradient tape.\n",
      "\u001b[2m\u001b[36m(pid=21304, ip=192.168.8.53)\u001b[0m     \n",
      "\u001b[2m\u001b[36m(pid=21304, ip=192.168.8.53)\u001b[0m WARNING:tensorflow:From /home/reminiz/ReminizML2/python_env/lib/python3.7/site-packages/tensorflow/python/ops/resource_variable_ops.py:435: colocate_with (from tensorflow.python.framework.ops) is deprecated and will be removed in a future version.\n",
      "\u001b[2m\u001b[36m(pid=21304, ip=192.168.8.53)\u001b[0m Instructions for updating:\n",
      "\u001b[2m\u001b[36m(pid=21304, ip=192.168.8.53)\u001b[0m Colocations handled automatically by placer.\n"
     ]
    },
    {
     "name": "stdout",
     "output_type": "stream",
     "text": [
      "\u001b[2m\u001b[36m(pid=13443, ip=192.168.8.54)\u001b[0m \u001b[6;30;42mAL_Train_6\u001b[0m Epoch: 153 / 201 || Time: 2020-12-04 15:11:36 || Accuracy: 99.47 || MAE LossNet: 0.36 || \n"
     ]
    },
    {
     "name": "stderr",
     "output_type": "stream",
     "text": [
      "\u001b[2m\u001b[36m(pid=21304, ip=192.168.8.53)\u001b[0m 2020-12-04 15:11:36.842500: I tensorflow/core/platform/cpu_feature_guard.cc:141] Your CPU supports instructions that this TensorFlow binary was not compiled to use: AVX2 FMA\n",
      "\u001b[2m\u001b[36m(pid=21304, ip=192.168.8.53)\u001b[0m 2020-12-04 15:11:36.869052: I tensorflow/core/platform/profile_utils/cpu_utils.cc:94] CPU Frequency: 3499950000 Hz\n",
      "\u001b[2m\u001b[36m(pid=21304, ip=192.168.8.53)\u001b[0m 2020-12-04 15:11:36.869631: I tensorflow/compiler/xla/service/service.cc:150] XLA service 0x55a2c8aa5f70 executing computations on platform Host. Devices:\n",
      "\u001b[2m\u001b[36m(pid=21304, ip=192.168.8.53)\u001b[0m 2020-12-04 15:11:36.869656: I tensorflow/compiler/xla/service/service.cc:158]   StreamExecutor device (0): <undefined>, <undefined>\n",
      "\u001b[2m\u001b[36m(pid=21304, ip=192.168.8.53)\u001b[0m 2020-12-04 15:11:36.978278: I tensorflow/compiler/xla/service/service.cc:150] XLA service 0x55a2c5cd6160 executing computations on platform CUDA. Devices:\n",
      "\u001b[2m\u001b[36m(pid=21304, ip=192.168.8.53)\u001b[0m 2020-12-04 15:11:36.978303: I tensorflow/compiler/xla/service/service.cc:158]   StreamExecutor device (0): GeForce GTX TITAN X, Compute Capability 5.2\n",
      "\u001b[2m\u001b[36m(pid=21304, ip=192.168.8.53)\u001b[0m 2020-12-04 15:11:36.978448: I tensorflow/core/common_runtime/gpu/gpu_device.cc:1433] Found device 0 with properties: \n",
      "\u001b[2m\u001b[36m(pid=21304, ip=192.168.8.53)\u001b[0m name: GeForce GTX TITAN X major: 5 minor: 2 memoryClockRate(GHz): 1.076\n",
      "\u001b[2m\u001b[36m(pid=21304, ip=192.168.8.53)\u001b[0m pciBusID: 0000:02:00.0\n",
      "\u001b[2m\u001b[36m(pid=21304, ip=192.168.8.53)\u001b[0m totalMemory: 11.93GiB freeMemory: 11.82GiB\n",
      "\u001b[2m\u001b[36m(pid=21304, ip=192.168.8.53)\u001b[0m 2020-12-04 15:11:36.978468: I tensorflow/core/common_runtime/gpu/gpu_device.cc:1512] Adding visible gpu devices: 0\n",
      "\u001b[2m\u001b[36m(pid=21304, ip=192.168.8.53)\u001b[0m 2020-12-04 15:11:36.979829: I tensorflow/core/common_runtime/gpu/gpu_device.cc:984] Device interconnect StreamExecutor with strength 1 edge matrix:\n",
      "\u001b[2m\u001b[36m(pid=21304, ip=192.168.8.53)\u001b[0m 2020-12-04 15:11:36.979845: I tensorflow/core/common_runtime/gpu/gpu_device.cc:990]      0 \n",
      "\u001b[2m\u001b[36m(pid=21304, ip=192.168.8.53)\u001b[0m 2020-12-04 15:11:36.979851: I tensorflow/core/common_runtime/gpu/gpu_device.cc:1003] 0:   N \n",
      "\u001b[2m\u001b[36m(pid=21304, ip=192.168.8.53)\u001b[0m 2020-12-04 15:11:36.979917: I tensorflow/core/common_runtime/gpu/gpu_device.cc:1115] Created TensorFlow device (/job:localhost/replica:0/task:0/device:GPU:0 with 11496 MB memory) -> physical GPU (device: 0, name: GeForce GTX TITAN X, pci bus id: 0000:02:00.0, compute capability: 5.2)\n"
     ]
    },
    {
     "name": "stdout",
     "output_type": "stream",
     "text": [
      "\u001b[2m\u001b[36m(pid=21304, ip=192.168.8.53)\u001b[0m \u001b[6;30;42mAL_Test_6\u001b[0m Restoring from /mnt/Ressources/Andres/Temp_active/runs/Active_Learning_v0/Stage_6/checkpoint/epoch150.ckpt-150\n"
     ]
    },
    {
     "name": "stderr",
     "output_type": "stream",
     "text": [
      "\u001b[2m\u001b[36m(pid=21304, ip=192.168.8.53)\u001b[0m WARNING:tensorflow:From /home/reminiz/ReminizML2/python_env/lib/python3.7/site-packages/tensorflow/python/training/saver.py:1266: checkpoint_exists (from tensorflow.python.training.checkpoint_management) is deprecated and will be removed in a future version.\n",
      "\u001b[2m\u001b[36m(pid=21304, ip=192.168.8.53)\u001b[0m Instructions for updating:\n",
      "\u001b[2m\u001b[36m(pid=21304, ip=192.168.8.53)\u001b[0m Use standard file APIs to check for files with this prefix.\n"
     ]
    },
    {
     "name": "stdout",
     "output_type": "stream",
     "text": [
      "\u001b[2m\u001b[36m(pid=13443, ip=192.168.8.54)\u001b[0m \u001b[6;30;42mAL_Train_6\u001b[0m Epoch: 154 / 201 || Time: 2020-12-04 15:11:37 || Accuracy: 99.68 || MAE LossNet: 0.34 || \n"
     ]
    },
    {
     "name": "stderr",
     "output_type": "stream",
     "text": [
      "\u001b[2m\u001b[36m(pid=21304, ip=192.168.8.53)\u001b[0m 2020-12-04 15:11:38.448540: I tensorflow/stream_executor/dso_loader.cc:152] successfully opened CUDA library libcublas.so.10.0 locally\n"
     ]
    },
    {
     "name": "stdout",
     "output_type": "stream",
     "text": [
      "\u001b[2m\u001b[36m(pid=13443, ip=192.168.8.54)\u001b[0m \u001b[6;30;42mAL_Train_6\u001b[0m Epoch: 155 / 201 || Time: 2020-12-04 15:11:39 || Accuracy: 99.71 || MAE LossNet: 0.36 || \n",
      "\u001b[2m\u001b[36m(pid=21304, ip=192.168.8.53)\u001b[0m \u001b[6;30;42mAL_Test_6\u001b[0m Test || Epoch: 150 || Accuracy: 65.32 || \n"
     ]
    },
    {
     "name": "stderr",
     "output_type": "stream",
     "text": [
      "\u001b[2m\u001b[36m(pid=21304, ip=192.168.8.53)\u001b[0m \n",
      "\u001b[2m\u001b[36m(pid=21304, ip=192.168.8.53)\u001b[0m wandb: Waiting for W&B process to finish, PID 21340\n",
      "\u001b[2m\u001b[36m(pid=21304, ip=192.168.8.53)\u001b[0m wandb: Program ended successfully.\n",
      "\u001b[2m\u001b[36m(pid=14071, ip=192.168.8.55)\u001b[0m /home/reminiz/ReminizML2/python_env/lib/python3.7/site-packages/tensorflow/python/framework/dtypes.py:526: FutureWarning: Passing (type, 1) or '1type' as a synonym of type is deprecated; in a future version of numpy, it will be understood as (type, (1,)) / '(1,)type'.\n",
      "\u001b[2m\u001b[36m(pid=14071, ip=192.168.8.55)\u001b[0m   _np_qint8 = np.dtype([(\"qint8\", np.int8, 1)])\n",
      "\u001b[2m\u001b[36m(pid=14071, ip=192.168.8.55)\u001b[0m /home/reminiz/ReminizML2/python_env/lib/python3.7/site-packages/tensorflow/python/framework/dtypes.py:527: FutureWarning: Passing (type, 1) or '1type' as a synonym of type is deprecated; in a future version of numpy, it will be understood as (type, (1,)) / '(1,)type'.\n",
      "\u001b[2m\u001b[36m(pid=14071, ip=192.168.8.55)\u001b[0m   _np_quint8 = np.dtype([(\"quint8\", np.uint8, 1)])\n",
      "\u001b[2m\u001b[36m(pid=14071, ip=192.168.8.55)\u001b[0m /home/reminiz/ReminizML2/python_env/lib/python3.7/site-packages/tensorflow/python/framework/dtypes.py:528: FutureWarning: Passing (type, 1) or '1type' as a synonym of type is deprecated; in a future version of numpy, it will be understood as (type, (1,)) / '(1,)type'.\n",
      "\u001b[2m\u001b[36m(pid=14071, ip=192.168.8.55)\u001b[0m   _np_qint16 = np.dtype([(\"qint16\", np.int16, 1)])\n",
      "\u001b[2m\u001b[36m(pid=14071, ip=192.168.8.55)\u001b[0m /home/reminiz/ReminizML2/python_env/lib/python3.7/site-packages/tensorflow/python/framework/dtypes.py:529: FutureWarning: Passing (type, 1) or '1type' as a synonym of type is deprecated; in a future version of numpy, it will be understood as (type, (1,)) / '(1,)type'.\n",
      "\u001b[2m\u001b[36m(pid=14071, ip=192.168.8.55)\u001b[0m   _np_quint16 = np.dtype([(\"quint16\", np.uint16, 1)])\n",
      "\u001b[2m\u001b[36m(pid=14071, ip=192.168.8.55)\u001b[0m /home/reminiz/ReminizML2/python_env/lib/python3.7/site-packages/tensorflow/python/framework/dtypes.py:530: FutureWarning: Passing (type, 1) or '1type' as a synonym of type is deprecated; in a future version of numpy, it will be understood as (type, (1,)) / '(1,)type'.\n",
      "\u001b[2m\u001b[36m(pid=14071, ip=192.168.8.55)\u001b[0m   _np_qint32 = np.dtype([(\"qint32\", np.int32, 1)])\n",
      "\u001b[2m\u001b[36m(pid=14071, ip=192.168.8.55)\u001b[0m /home/reminiz/ReminizML2/python_env/lib/python3.7/site-packages/tensorflow/python/framework/dtypes.py:535: FutureWarning: Passing (type, 1) or '1type' as a synonym of type is deprecated; in a future version of numpy, it will be understood as (type, (1,)) / '(1,)type'.\n",
      "\u001b[2m\u001b[36m(pid=14071, ip=192.168.8.55)\u001b[0m   np_resource = np.dtype([(\"resource\", np.ubyte, 1)])\n"
     ]
    },
    {
     "name": "stdout",
     "output_type": "stream",
     "text": [
      "\u001b[2m\u001b[36m(pid=13443, ip=192.168.8.54)\u001b[0m \u001b[6;30;42mAL_Train_6\u001b[0m Epoch: 156 / 201 || Time: 2020-12-04 15:11:44 || Accuracy: 99.90 || MAE LossNet: 0.35 || \n"
     ]
    },
    {
     "name": "stderr",
     "output_type": "stream",
     "text": [
      "\u001b[2m\u001b[36m(pid=21304, ip=192.168.8.53)\u001b[0m wandb: Run summary:\n",
      "\u001b[2m\u001b[36m(pid=21304, ip=192.168.8.53)\u001b[0m wandb:                                     _step 150\n",
      "\u001b[2m\u001b[36m(pid=21304, ip=192.168.8.53)\u001b[0m wandb:                                  F1 score 0.6531090474627448\n",
      "\u001b[2m\u001b[36m(pid=21304, ip=192.168.8.53)\u001b[0m wandb:                                  _runtime 256.52065682411194\n",
      "\u001b[2m\u001b[36m(pid=21304, ip=192.168.8.53)\u001b[0m wandb:                                _timestamp 1607091102.838562\n",
      "\u001b[2m\u001b[36m(pid=21304, ip=192.168.8.53)\u001b[0m wandb:                     Explained variance v1 -0.04615664482116699\n",
      "\u001b[2m\u001b[36m(pid=21304, ip=192.168.8.53)\u001b[0m wandb:                     Explained variance v2 -0.03261685371398926\n",
      "\u001b[2m\u001b[36m(pid=21304, ip=192.168.8.53)\u001b[0m wandb:                     Mean squared error v1 26.49090003967285\n",
      "\u001b[2m\u001b[36m(pid=21304, ip=192.168.8.53)\u001b[0m wandb:                     Mean squared error v2 41.06631088256836\n",
      "\u001b[2m\u001b[36m(pid=21304, ip=192.168.8.53)\u001b[0m wandb:                    Mean absolute error v1 3.294232130050659\n",
      "\u001b[2m\u001b[36m(pid=21304, ip=192.168.8.53)\u001b[0m wandb:                    Mean absolute error v2 4.4992146492004395\n",
      "\u001b[2m\u001b[36m(pid=21304, ip=192.168.8.53)\u001b[0m wandb:                Area Under the Curve (AUC) 0.7795851856285902\n",
      "\u001b[2m\u001b[36m(pid=21304, ip=192.168.8.53)\u001b[0m wandb:             Test: Classification Accuracy 0.6532\n",
      "\u001b[2m\u001b[36m(pid=21304, ip=192.168.8.53)\u001b[0m wandb: Syncing files in ../../../Trainings/wandb/wandb/run-20201204_141133-32tlp2kp:\n",
      "\u001b[2m\u001b[36m(pid=21304, ip=192.168.8.53)\u001b[0m wandb:   code/default_worker.py\n",
      "\u001b[2m\u001b[36m(pid=21304, ip=192.168.8.53)\u001b[0m wandb: plus 8 W&B file(s) and 2 media file(s)\n",
      "\u001b[2m\u001b[36m(pid=21304, ip=192.168.8.53)\u001b[0m wandb: - 1.15MB of 1.15MB uploaded\n",
      "\u001b[2m\u001b[36m(pid=21304, ip=192.168.8.53)\u001b[0m wandb: \\ 1.15MB of 1.15MB uploaded\n",
      "\u001b[2m\u001b[36m(pid=21304, ip=192.168.8.53)\u001b[0m wandb: | 1.15MB of 1.15MB uploaded\n",
      "\u001b[2m\u001b[36m(pid=14071, ip=192.168.8.55)\u001b[0m wandb: Tracking run with wandb version 0.8.36\n",
      "\u001b[2m\u001b[36m(pid=21304, ip=192.168.8.53)\u001b[0m wandb: / 1.15MB of 1.15MB uploaded\n",
      "wandb:                                                                                \n",
      "\u001b[2m\u001b[36m(pid=21304, ip=192.168.8.53)\u001b[0m wandb: Synced AL_Test_6: http://192.168.8.51:8080/reminiz/Active_Learning_CIFAR/runs/32tlp2kp\n",
      "\u001b[2m\u001b[36m(pid=14071, ip=192.168.8.55)\u001b[0m wandb: Wandb version 0.10.12 is available!  To upgrade, please run:\n",
      "\u001b[2m\u001b[36m(pid=14071, ip=192.168.8.55)\u001b[0m wandb:  $ pip install wandb --upgrade\n",
      "\u001b[2m\u001b[36m(pid=14071, ip=192.168.8.55)\u001b[0m wandb: Run data is saved locally in ../../../Trainings/wandb/wandb/run-20201204_141144-32tlp2kp\n",
      "\u001b[2m\u001b[36m(pid=14071, ip=192.168.8.55)\u001b[0m wandb: Syncing run AL_Test_6\n",
      "\u001b[2m\u001b[36m(pid=14071, ip=192.168.8.55)\u001b[0m wandb: ⭐️ View project at http://192.168.8.51:8080/reminiz/Active_Learning_CIFAR\n",
      "\u001b[2m\u001b[36m(pid=14071, ip=192.168.8.55)\u001b[0m wandb: 🚀 View run at http://192.168.8.51:8080/reminiz/Active_Learning_CIFAR/runs/32tlp2kp\n",
      "\u001b[2m\u001b[36m(pid=14071, ip=192.168.8.55)\u001b[0m wandb: Run `wandb off` to turn off syncing.\n",
      "\u001b[2m\u001b[36m(pid=14071, ip=192.168.8.55)\u001b[0m \n"
     ]
    },
    {
     "name": "stdout",
     "output_type": "stream",
     "text": [
      "\u001b[2m\u001b[36m(pid=13443, ip=192.168.8.54)\u001b[0m \u001b[6;30;42mAL_Train_6\u001b[0m Epoch: 157 / 201 || Time: 2020-12-04 15:11:45 || Accuracy: 99.61 || MAE LossNet: 0.34 || \n",
      "\u001b[2m\u001b[36m(pid=14071, ip=192.168.8.55)\u001b[0m CIFAR10 Training data shape: (50000, 32, 32, 3)\n",
      "\u001b[2m\u001b[36m(pid=14071, ip=192.168.8.55)\u001b[0m CIFAR10 Training label shape (50000, 1)\n",
      "\u001b[2m\u001b[36m(pid=14071, ip=192.168.8.55)\u001b[0m CIFAR10 Test data shape (10000, 32, 32, 3)\n",
      "\u001b[2m\u001b[36m(pid=14071, ip=192.168.8.55)\u001b[0m CIFAR10 Test label shape (10000, 1)\n"
     ]
    },
    {
     "name": "stderr",
     "output_type": "stream",
     "text": [
      "\u001b[2m\u001b[36m(pid=14071, ip=192.168.8.55)\u001b[0m WARNING:tensorflow:From /home/reminiz/ReminizML2/python_env/lib/python3.7/site-packages/tensorflow/python/data/ops/dataset_ops.py:429: py_func (from tensorflow.python.ops.script_ops) is deprecated and will be removed in a future version.\n",
      "\u001b[2m\u001b[36m(pid=14071, ip=192.168.8.55)\u001b[0m Instructions for updating:\n",
      "\u001b[2m\u001b[36m(pid=14071, ip=192.168.8.55)\u001b[0m tf.py_func is deprecated in TF V2. Instead, use\n",
      "\u001b[2m\u001b[36m(pid=14071, ip=192.168.8.55)\u001b[0m     tf.py_function, which takes a python function which manipulates tf eager\n",
      "\u001b[2m\u001b[36m(pid=14071, ip=192.168.8.55)\u001b[0m     tensors instead of numpy arrays. It's easy to convert a tf eager tensor to\n",
      "\u001b[2m\u001b[36m(pid=14071, ip=192.168.8.55)\u001b[0m     an ndarray (just call tensor.numpy()) but having access to eager tensors\n",
      "\u001b[2m\u001b[36m(pid=14071, ip=192.168.8.55)\u001b[0m     means `tf.py_function`s can use accelerators such as GPUs as well as\n",
      "\u001b[2m\u001b[36m(pid=14071, ip=192.168.8.55)\u001b[0m     being differentiable using a gradient tape.\n",
      "\u001b[2m\u001b[36m(pid=14071, ip=192.168.8.55)\u001b[0m     \n",
      "\u001b[2m\u001b[36m(pid=14071, ip=192.168.8.55)\u001b[0m WARNING:tensorflow:From /home/reminiz/ReminizML2/python_env/lib/python3.7/site-packages/tensorflow/python/ops/resource_variable_ops.py:435: colocate_with (from tensorflow.python.framework.ops) is deprecated and will be removed in a future version.\n",
      "\u001b[2m\u001b[36m(pid=14071, ip=192.168.8.55)\u001b[0m Instructions for updating:\n",
      "\u001b[2m\u001b[36m(pid=14071, ip=192.168.8.55)\u001b[0m Colocations handled automatically by placer.\n"
     ]
    },
    {
     "name": "stdout",
     "output_type": "stream",
     "text": [
      "\u001b[2m\u001b[36m(pid=13443, ip=192.168.8.54)\u001b[0m \u001b[6;30;42mAL_Train_6\u001b[0m Epoch: 158 / 201 || Time: 2020-12-04 15:11:47 || Accuracy: 99.90 || MAE LossNet: 0.33 || \n"
     ]
    },
    {
     "name": "stderr",
     "output_type": "stream",
     "text": [
      "\u001b[2m\u001b[36m(pid=14071, ip=192.168.8.55)\u001b[0m 2020-12-04 15:11:47.985386: I tensorflow/core/platform/cpu_feature_guard.cc:141] Your CPU supports instructions that this TensorFlow binary was not compiled to use: AVX2 FMA\n",
      "\u001b[2m\u001b[36m(pid=14071, ip=192.168.8.55)\u001b[0m 2020-12-04 15:11:48.008376: I tensorflow/core/platform/profile_utils/cpu_utils.cc:94] CPU Frequency: 3599935000 Hz\n",
      "\u001b[2m\u001b[36m(pid=14071, ip=192.168.8.55)\u001b[0m 2020-12-04 15:11:48.009143: I tensorflow/compiler/xla/service/service.cc:150] XLA service 0x72951e0 executing computations on platform Host. Devices:\n",
      "\u001b[2m\u001b[36m(pid=14071, ip=192.168.8.55)\u001b[0m 2020-12-04 15:11:48.009182: I tensorflow/compiler/xla/service/service.cc:158]   StreamExecutor device (0): <undefined>, <undefined>\n",
      "\u001b[2m\u001b[36m(pid=14071, ip=192.168.8.55)\u001b[0m 2020-12-04 15:11:48.123021: I tensorflow/compiler/xla/service/service.cc:150] XLA service 0x729a860 executing computations on platform CUDA. Devices:\n",
      "\u001b[2m\u001b[36m(pid=14071, ip=192.168.8.55)\u001b[0m 2020-12-04 15:11:48.123067: I tensorflow/compiler/xla/service/service.cc:158]   StreamExecutor device (0): GeForce GTX 1080 Ti, Compute Capability 6.1\n",
      "\u001b[2m\u001b[36m(pid=14071, ip=192.168.8.55)\u001b[0m 2020-12-04 15:11:48.123267: I tensorflow/core/common_runtime/gpu/gpu_device.cc:1433] Found device 0 with properties: \n",
      "\u001b[2m\u001b[36m(pid=14071, ip=192.168.8.55)\u001b[0m name: GeForce GTX 1080 Ti major: 6 minor: 1 memoryClockRate(GHz): 1.62\n",
      "\u001b[2m\u001b[36m(pid=14071, ip=192.168.8.55)\u001b[0m pciBusID: 0000:4c:00.0\n",
      "\u001b[2m\u001b[36m(pid=14071, ip=192.168.8.55)\u001b[0m totalMemory: 10.91GiB freeMemory: 10.77GiB\n",
      "\u001b[2m\u001b[36m(pid=14071, ip=192.168.8.55)\u001b[0m 2020-12-04 15:11:48.123298: I tensorflow/core/common_runtime/gpu/gpu_device.cc:1512] Adding visible gpu devices: 0\n",
      "\u001b[2m\u001b[36m(pid=14071, ip=192.168.8.55)\u001b[0m 2020-12-04 15:11:48.125854: I tensorflow/core/common_runtime/gpu/gpu_device.cc:984] Device interconnect StreamExecutor with strength 1 edge matrix:\n",
      "\u001b[2m\u001b[36m(pid=14071, ip=192.168.8.55)\u001b[0m 2020-12-04 15:11:48.125881: I tensorflow/core/common_runtime/gpu/gpu_device.cc:990]      0 \n",
      "\u001b[2m\u001b[36m(pid=14071, ip=192.168.8.55)\u001b[0m 2020-12-04 15:11:48.125894: I tensorflow/core/common_runtime/gpu/gpu_device.cc:1003] 0:   N \n",
      "\u001b[2m\u001b[36m(pid=14071, ip=192.168.8.55)\u001b[0m 2020-12-04 15:11:48.126004: I tensorflow/core/common_runtime/gpu/gpu_device.cc:1115] Created TensorFlow device (/job:localhost/replica:0/task:0/device:GPU:0 with 10479 MB memory) -> physical GPU (device: 0, name: GeForce GTX 1080 Ti, pci bus id: 0000:4c:00.0, compute capability: 6.1)\n",
      "\u001b[2m\u001b[36m(pid=14071, ip=192.168.8.55)\u001b[0m WARNING:tensorflow:From /home/reminiz/ReminizML2/python_env/lib/python3.7/site-packages/tensorflow/python/training/saver.py:1266: checkpoint_exists (from tensorflow.python.training.checkpoint_management) is deprecated and will be removed in a future version.\n",
      "\u001b[2m\u001b[36m(pid=14071, ip=192.168.8.55)\u001b[0m Instructions for updating:\n",
      "\u001b[2m\u001b[36m(pid=14071, ip=192.168.8.55)\u001b[0m Use standard file APIs to check for files with this prefix.\n"
     ]
    },
    {
     "name": "stdout",
     "output_type": "stream",
     "text": [
      "\u001b[2m\u001b[36m(pid=14071, ip=192.168.8.55)\u001b[0m \u001b[6;30;42mAL_Test_6\u001b[0m Restoring from /mnt/Ressources/Andres/Temp_active/runs/Active_Learning_v0/Stage_6/checkpoint/epoch155.ckpt-155\n",
      "\u001b[2m\u001b[36m(pid=13443, ip=192.168.8.54)\u001b[0m \u001b[6;30;42mAL_Train_6\u001b[0m Epoch: 159 / 201 || Time: 2020-12-04 15:11:48 || Accuracy: 100.00 || MAE LossNet: 0.34 || \n"
     ]
    },
    {
     "name": "stderr",
     "output_type": "stream",
     "text": [
      "\u001b[2m\u001b[36m(pid=14071, ip=192.168.8.55)\u001b[0m 2020-12-04 15:11:49.522863: I tensorflow/stream_executor/dso_loader.cc:152] successfully opened CUDA library libcublas.so.10.0 locally\n"
     ]
    },
    {
     "name": "stdout",
     "output_type": "stream",
     "text": [
      "\u001b[2m\u001b[36m(pid=13443, ip=192.168.8.54)\u001b[0m \u001b[6;30;42mAL_Train_6\u001b[0m Epoch: 160 / 201 || Time: 2020-12-04 15:11:50 || Accuracy: 99.90 || MAE LossNet: 0.36 || \n",
      "\u001b[2m\u001b[36m(pid=14071, ip=192.168.8.55)\u001b[0m \u001b[6;30;42mAL_Test_6\u001b[0m Test || Epoch: 155 || Accuracy: 65.40 || \n"
     ]
    },
    {
     "name": "stderr",
     "output_type": "stream",
     "text": [
      "\u001b[2m\u001b[36m(pid=14071, ip=192.168.8.55)\u001b[0m \n",
      "\u001b[2m\u001b[36m(pid=14071, ip=192.168.8.55)\u001b[0m wandb: Waiting for W&B process to finish, PID 14094\n",
      "\u001b[2m\u001b[36m(pid=14071, ip=192.168.8.55)\u001b[0m wandb: Program ended successfully.\n",
      "\u001b[2m\u001b[36m(pid=14226, ip=192.168.8.55)\u001b[0m /home/reminiz/ReminizML2/python_env/lib/python3.7/site-packages/tensorflow/python/framework/dtypes.py:526: FutureWarning: Passing (type, 1) or '1type' as a synonym of type is deprecated; in a future version of numpy, it will be understood as (type, (1,)) / '(1,)type'.\n",
      "\u001b[2m\u001b[36m(pid=14226, ip=192.168.8.55)\u001b[0m   _np_qint8 = np.dtype([(\"qint8\", np.int8, 1)])\n",
      "\u001b[2m\u001b[36m(pid=14226, ip=192.168.8.55)\u001b[0m /home/reminiz/ReminizML2/python_env/lib/python3.7/site-packages/tensorflow/python/framework/dtypes.py:527: FutureWarning: Passing (type, 1) or '1type' as a synonym of type is deprecated; in a future version of numpy, it will be understood as (type, (1,)) / '(1,)type'.\n",
      "\u001b[2m\u001b[36m(pid=14226, ip=192.168.8.55)\u001b[0m   _np_quint8 = np.dtype([(\"quint8\", np.uint8, 1)])\n",
      "\u001b[2m\u001b[36m(pid=14226, ip=192.168.8.55)\u001b[0m /home/reminiz/ReminizML2/python_env/lib/python3.7/site-packages/tensorflow/python/framework/dtypes.py:528: FutureWarning: Passing (type, 1) or '1type' as a synonym of type is deprecated; in a future version of numpy, it will be understood as (type, (1,)) / '(1,)type'.\n",
      "\u001b[2m\u001b[36m(pid=14226, ip=192.168.8.55)\u001b[0m   _np_qint16 = np.dtype([(\"qint16\", np.int16, 1)])\n",
      "\u001b[2m\u001b[36m(pid=14226, ip=192.168.8.55)\u001b[0m /home/reminiz/ReminizML2/python_env/lib/python3.7/site-packages/tensorflow/python/framework/dtypes.py:529: FutureWarning: Passing (type, 1) or '1type' as a synonym of type is deprecated; in a future version of numpy, it will be understood as (type, (1,)) / '(1,)type'.\n",
      "\u001b[2m\u001b[36m(pid=14226, ip=192.168.8.55)\u001b[0m   _np_quint16 = np.dtype([(\"quint16\", np.uint16, 1)])\n",
      "\u001b[2m\u001b[36m(pid=14226, ip=192.168.8.55)\u001b[0m /home/reminiz/ReminizML2/python_env/lib/python3.7/site-packages/tensorflow/python/framework/dtypes.py:530: FutureWarning: Passing (type, 1) or '1type' as a synonym of type is deprecated; in a future version of numpy, it will be understood as (type, (1,)) / '(1,)type'.\n",
      "\u001b[2m\u001b[36m(pid=14226, ip=192.168.8.55)\u001b[0m   _np_qint32 = np.dtype([(\"qint32\", np.int32, 1)])\n",
      "\u001b[2m\u001b[36m(pid=14226, ip=192.168.8.55)\u001b[0m /home/reminiz/ReminizML2/python_env/lib/python3.7/site-packages/tensorflow/python/framework/dtypes.py:535: FutureWarning: Passing (type, 1) or '1type' as a synonym of type is deprecated; in a future version of numpy, it will be understood as (type, (1,)) / '(1,)type'.\n",
      "\u001b[2m\u001b[36m(pid=14226, ip=192.168.8.55)\u001b[0m   np_resource = np.dtype([(\"resource\", np.ubyte, 1)])\n"
     ]
    },
    {
     "name": "stdout",
     "output_type": "stream",
     "text": [
      "\u001b[2m\u001b[36m(pid=13443, ip=192.168.8.54)\u001b[0m \u001b[6;30;42mAL_Train_6\u001b[0m Epoch: 161 / 201 || Time: 2020-12-04 15:11:55 || Accuracy: 99.78 || MAE LossNet: 0.33 || \n"
     ]
    },
    {
     "name": "stderr",
     "output_type": "stream",
     "text": [
      "\u001b[2m\u001b[36m(pid=14071, ip=192.168.8.55)\u001b[0m wandb: Run summary:\n",
      "\u001b[2m\u001b[36m(pid=14071, ip=192.168.8.55)\u001b[0m wandb:                                     _step 155\n",
      "\u001b[2m\u001b[36m(pid=14071, ip=192.168.8.55)\u001b[0m wandb:                                  F1 score 0.6537141682771938\n",
      "\u001b[2m\u001b[36m(pid=14071, ip=192.168.8.55)\u001b[0m wandb:                                  _runtime 264.8360345363617\n",
      "\u001b[2m\u001b[36m(pid=14071, ip=192.168.8.55)\u001b[0m wandb:                                _timestamp 1607091113.1103466\n",
      "\u001b[2m\u001b[36m(pid=14071, ip=192.168.8.55)\u001b[0m wandb:                     Explained variance v1 -0.07180297374725342\n",
      "\u001b[2m\u001b[36m(pid=14071, ip=192.168.8.55)\u001b[0m wandb:                     Explained variance v2 -0.04546535015106201\n",
      "\u001b[2m\u001b[36m(pid=14071, ip=192.168.8.55)\u001b[0m wandb:                     Mean squared error v1 26.481233596801758\n",
      "\u001b[2m\u001b[36m(pid=14071, ip=192.168.8.55)\u001b[0m wandb:                     Mean squared error v2 40.11993408203125\n",
      "\u001b[2m\u001b[36m(pid=14071, ip=192.168.8.55)\u001b[0m wandb:                    Mean absolute error v1 3.2874956130981445\n",
      "\u001b[2m\u001b[36m(pid=14071, ip=192.168.8.55)\u001b[0m wandb:                    Mean absolute error v2 4.437047004699707\n",
      "\u001b[2m\u001b[36m(pid=14071, ip=192.168.8.55)\u001b[0m wandb:                Area Under the Curve (AUC) 0.7787203249014513\n",
      "\u001b[2m\u001b[36m(pid=14071, ip=192.168.8.55)\u001b[0m wandb:             Test: Classification Accuracy 0.654\n",
      "\u001b[2m\u001b[36m(pid=14071, ip=192.168.8.55)\u001b[0m wandb: Syncing files in ../../../Trainings/wandb/wandb/run-20201204_141144-32tlp2kp:\n",
      "\u001b[2m\u001b[36m(pid=14071, ip=192.168.8.55)\u001b[0m wandb:   code/default_worker.py\n",
      "\u001b[2m\u001b[36m(pid=14071, ip=192.168.8.55)\u001b[0m wandb: plus 8 W&B file(s) and 2 media file(s)\n",
      "\u001b[2m\u001b[36m(pid=14071, ip=192.168.8.55)\u001b[0m wandb: - 1.16MB of 1.16MB uploaded\n",
      "\u001b[2m\u001b[36m(pid=14226, ip=192.168.8.55)\u001b[0m wandb: Tracking run with wandb version 0.8.36\n",
      "\u001b[2m\u001b[36m(pid=14071, ip=192.168.8.55)\u001b[0m wandb: \\ 1.16MB of 1.16MB uploaded\n",
      "\u001b[2m\u001b[36m(pid=14071, ip=192.168.8.55)\u001b[0m wandb: | 1.16MB of 1.16MB uploaded\n",
      "\u001b[2m\u001b[36m(pid=14226, ip=192.168.8.55)\u001b[0m wandb: Wandb version 0.10.12 is available!  To upgrade, please run:\n",
      "\u001b[2m\u001b[36m(pid=14226, ip=192.168.8.55)\u001b[0m wandb:  $ pip install wandb --upgrade\n",
      "\u001b[2m\u001b[36m(pid=14226, ip=192.168.8.55)\u001b[0m wandb: Run data is saved locally in ../../../Trainings/wandb/wandb/run-20201204_141155-32tlp2kp\n",
      "\u001b[2m\u001b[36m(pid=14071, ip=192.168.8.55)\u001b[0m wandb: / 1.16MB of 1.16MB uploaded\n",
      "\u001b[2m\u001b[36m(pid=14226, ip=192.168.8.55)\u001b[0m wandb: Syncing run AL_Test_6\n",
      "\u001b[2m\u001b[36m(pid=14226, ip=192.168.8.55)\u001b[0m wandb: ⭐️ View project at http://192.168.8.51:8080/reminiz/Active_Learning_CIFAR\n",
      "\u001b[2m\u001b[36m(pid=14226, ip=192.168.8.55)\u001b[0m wandb: 🚀 View run at http://192.168.8.51:8080/reminiz/Active_Learning_CIFAR/runs/32tlp2kp\n",
      "\u001b[2m\u001b[36m(pid=14226, ip=192.168.8.55)\u001b[0m wandb: Run `wandb off` to turn off syncing.\n",
      "\u001b[2m\u001b[36m(pid=14226, ip=192.168.8.55)\u001b[0m \n"
     ]
    },
    {
     "name": "stdout",
     "output_type": "stream",
     "text": [
      "\u001b[2m\u001b[36m(pid=13443, ip=192.168.8.54)\u001b[0m \u001b[6;30;42mAL_Train_6\u001b[0m Epoch: 162 / 201 || Time: 2020-12-04 15:11:56 || Accuracy: 100.00 || MAE LossNet: 0.33 || \n"
     ]
    },
    {
     "name": "stderr",
     "output_type": "stream",
     "text": [
      "wandb:                                                                                \n",
      "\u001b[2m\u001b[36m(pid=14071, ip=192.168.8.55)\u001b[0m wandb: Synced AL_Test_6: http://192.168.8.51:8080/reminiz/Active_Learning_CIFAR/runs/32tlp2kp\n"
     ]
    },
    {
     "name": "stdout",
     "output_type": "stream",
     "text": [
      "\u001b[2m\u001b[36m(pid=14226, ip=192.168.8.55)\u001b[0m CIFAR10 Training data shape: (50000, 32, 32, 3)\n",
      "\u001b[2m\u001b[36m(pid=14226, ip=192.168.8.55)\u001b[0m CIFAR10 Training label shape (50000, 1)\n",
      "\u001b[2m\u001b[36m(pid=14226, ip=192.168.8.55)\u001b[0m CIFAR10 Test data shape (10000, 32, 32, 3)\n",
      "\u001b[2m\u001b[36m(pid=14226, ip=192.168.8.55)\u001b[0m CIFAR10 Test label shape (10000, 1)\n"
     ]
    },
    {
     "name": "stderr",
     "output_type": "stream",
     "text": [
      "\u001b[2m\u001b[36m(pid=14226, ip=192.168.8.55)\u001b[0m WARNING:tensorflow:From /home/reminiz/ReminizML2/python_env/lib/python3.7/site-packages/tensorflow/python/data/ops/dataset_ops.py:429: py_func (from tensorflow.python.ops.script_ops) is deprecated and will be removed in a future version.\n",
      "\u001b[2m\u001b[36m(pid=14226, ip=192.168.8.55)\u001b[0m Instructions for updating:\n",
      "\u001b[2m\u001b[36m(pid=14226, ip=192.168.8.55)\u001b[0m tf.py_func is deprecated in TF V2. Instead, use\n",
      "\u001b[2m\u001b[36m(pid=14226, ip=192.168.8.55)\u001b[0m     tf.py_function, which takes a python function which manipulates tf eager\n",
      "\u001b[2m\u001b[36m(pid=14226, ip=192.168.8.55)\u001b[0m     tensors instead of numpy arrays. It's easy to convert a tf eager tensor to\n",
      "\u001b[2m\u001b[36m(pid=14226, ip=192.168.8.55)\u001b[0m     an ndarray (just call tensor.numpy()) but having access to eager tensors\n",
      "\u001b[2m\u001b[36m(pid=14226, ip=192.168.8.55)\u001b[0m     means `tf.py_function`s can use accelerators such as GPUs as well as\n",
      "\u001b[2m\u001b[36m(pid=14226, ip=192.168.8.55)\u001b[0m     being differentiable using a gradient tape.\n",
      "\u001b[2m\u001b[36m(pid=14226, ip=192.168.8.55)\u001b[0m     \n",
      "\u001b[2m\u001b[36m(pid=14226, ip=192.168.8.55)\u001b[0m WARNING:tensorflow:From /home/reminiz/ReminizML2/python_env/lib/python3.7/site-packages/tensorflow/python/ops/resource_variable_ops.py:435: colocate_with (from tensorflow.python.framework.ops) is deprecated and will be removed in a future version.\n",
      "\u001b[2m\u001b[36m(pid=14226, ip=192.168.8.55)\u001b[0m Instructions for updating:\n",
      "\u001b[2m\u001b[36m(pid=14226, ip=192.168.8.55)\u001b[0m Colocations handled automatically by placer.\n"
     ]
    },
    {
     "name": "stdout",
     "output_type": "stream",
     "text": [
      "\u001b[2m\u001b[36m(pid=13443, ip=192.168.8.54)\u001b[0m \u001b[6;30;42mAL_Train_6\u001b[0m Epoch: 163 / 201 || Time: 2020-12-04 15:11:57 || Accuracy: 99.71 || MAE LossNet: 0.36 || \n"
     ]
    },
    {
     "name": "stderr",
     "output_type": "stream",
     "text": [
      "\u001b[2m\u001b[36m(pid=14226, ip=192.168.8.55)\u001b[0m 2020-12-04 15:11:58.821390: I tensorflow/core/platform/cpu_feature_guard.cc:141] Your CPU supports instructions that this TensorFlow binary was not compiled to use: AVX2 FMA\n",
      "\u001b[2m\u001b[36m(pid=14226, ip=192.168.8.55)\u001b[0m 2020-12-04 15:11:58.844348: I tensorflow/core/platform/profile_utils/cpu_utils.cc:94] CPU Frequency: 3599935000 Hz\n",
      "\u001b[2m\u001b[36m(pid=14226, ip=192.168.8.55)\u001b[0m 2020-12-04 15:11:58.844904: I tensorflow/compiler/xla/service/service.cc:150] XLA service 0x7783160 executing computations on platform Host. Devices:\n",
      "\u001b[2m\u001b[36m(pid=14226, ip=192.168.8.55)\u001b[0m 2020-12-04 15:11:58.844923: I tensorflow/compiler/xla/service/service.cc:158]   StreamExecutor device (0): <undefined>, <undefined>\n",
      "\u001b[2m\u001b[36m(pid=14226, ip=192.168.8.55)\u001b[0m 2020-12-04 15:11:58.937362: I tensorflow/compiler/xla/service/service.cc:150] XLA service 0x77887e0 executing computations on platform CUDA. Devices:\n",
      "\u001b[2m\u001b[36m(pid=14226, ip=192.168.8.55)\u001b[0m 2020-12-04 15:11:58.937399: I tensorflow/compiler/xla/service/service.cc:158]   StreamExecutor device (0): GeForce GTX 1080 Ti, Compute Capability 6.1\n",
      "\u001b[2m\u001b[36m(pid=14226, ip=192.168.8.55)\u001b[0m 2020-12-04 15:11:58.937590: I tensorflow/core/common_runtime/gpu/gpu_device.cc:1433] Found device 0 with properties: \n",
      "\u001b[2m\u001b[36m(pid=14226, ip=192.168.8.55)\u001b[0m name: GeForce GTX 1080 Ti major: 6 minor: 1 memoryClockRate(GHz): 1.62\n",
      "\u001b[2m\u001b[36m(pid=14226, ip=192.168.8.55)\u001b[0m pciBusID: 0000:4c:00.0\n",
      "\u001b[2m\u001b[36m(pid=14226, ip=192.168.8.55)\u001b[0m totalMemory: 10.91GiB freeMemory: 10.77GiB\n",
      "\u001b[2m\u001b[36m(pid=14226, ip=192.168.8.55)\u001b[0m 2020-12-04 15:11:58.937626: I tensorflow/core/common_runtime/gpu/gpu_device.cc:1512] Adding visible gpu devices: 0\n",
      "\u001b[2m\u001b[36m(pid=14226, ip=192.168.8.55)\u001b[0m 2020-12-04 15:11:58.939548: I tensorflow/core/common_runtime/gpu/gpu_device.cc:984] Device interconnect StreamExecutor with strength 1 edge matrix:\n",
      "\u001b[2m\u001b[36m(pid=14226, ip=192.168.8.55)\u001b[0m 2020-12-04 15:11:58.939571: I tensorflow/core/common_runtime/gpu/gpu_device.cc:990]      0 \n",
      "\u001b[2m\u001b[36m(pid=14226, ip=192.168.8.55)\u001b[0m 2020-12-04 15:11:58.939580: I tensorflow/core/common_runtime/gpu/gpu_device.cc:1003] 0:   N \n",
      "\u001b[2m\u001b[36m(pid=14226, ip=192.168.8.55)\u001b[0m 2020-12-04 15:11:58.939680: I tensorflow/core/common_runtime/gpu/gpu_device.cc:1115] Created TensorFlow device (/job:localhost/replica:0/task:0/device:GPU:0 with 10479 MB memory) -> physical GPU (device: 0, name: GeForce GTX 1080 Ti, pci bus id: 0000:4c:00.0, compute capability: 6.1)\n"
     ]
    },
    {
     "name": "stdout",
     "output_type": "stream",
     "text": [
      "\u001b[2m\u001b[36m(pid=14226, ip=192.168.8.55)\u001b[0m \u001b[6;30;42mAL_Test_6\u001b[0m Restoring from /mnt/Ressources/Andres/Temp_active/runs/Active_Learning_v0/Stage_6/checkpoint/epoch160.ckpt-160\n"
     ]
    },
    {
     "name": "stderr",
     "output_type": "stream",
     "text": [
      "\u001b[2m\u001b[36m(pid=14226, ip=192.168.8.55)\u001b[0m WARNING:tensorflow:From /home/reminiz/ReminizML2/python_env/lib/python3.7/site-packages/tensorflow/python/training/saver.py:1266: checkpoint_exists (from tensorflow.python.training.checkpoint_management) is deprecated and will be removed in a future version.\n",
      "\u001b[2m\u001b[36m(pid=14226, ip=192.168.8.55)\u001b[0m Instructions for updating:\n",
      "\u001b[2m\u001b[36m(pid=14226, ip=192.168.8.55)\u001b[0m Use standard file APIs to check for files with this prefix.\n"
     ]
    },
    {
     "name": "stdout",
     "output_type": "stream",
     "text": [
      "\u001b[2m\u001b[36m(pid=13443, ip=192.168.8.54)\u001b[0m \u001b[6;30;42mAL_Train_6\u001b[0m Epoch: 164 / 201 || Time: 2020-12-04 15:11:59 || Accuracy: 99.88 || MAE LossNet: 0.35 || \n"
     ]
    },
    {
     "name": "stderr",
     "output_type": "stream",
     "text": [
      "\u001b[2m\u001b[36m(pid=14226, ip=192.168.8.55)\u001b[0m 2020-12-04 15:12:00.391768: I tensorflow/stream_executor/dso_loader.cc:152] successfully opened CUDA library libcublas.so.10.0 locally\n"
     ]
    },
    {
     "name": "stdout",
     "output_type": "stream",
     "text": [
      "\u001b[2m\u001b[36m(pid=13443, ip=192.168.8.54)\u001b[0m \u001b[6;30;42mAL_Train_6\u001b[0m Epoch: 165 / 201 || Time: 2020-12-04 15:12:01 || Accuracy: 100.00 || MAE LossNet: 0.35 || \n",
      "\u001b[2m\u001b[36m(pid=14226, ip=192.168.8.55)\u001b[0m \u001b[6;30;42mAL_Test_6\u001b[0m Test || Epoch: 160 || Accuracy: 64.72 || \n"
     ]
    },
    {
     "name": "stderr",
     "output_type": "stream",
     "text": [
      "\u001b[2m\u001b[36m(pid=14226, ip=192.168.8.55)\u001b[0m \n",
      "\u001b[2m\u001b[36m(pid=14226, ip=192.168.8.55)\u001b[0m wandb: Waiting for W&B process to finish, PID 14252\n",
      "\u001b[2m\u001b[36m(pid=14226, ip=192.168.8.55)\u001b[0m wandb: Program ended successfully.\n",
      "\u001b[2m\u001b[36m(pid=14390, ip=192.168.8.55)\u001b[0m /home/reminiz/ReminizML2/python_env/lib/python3.7/site-packages/tensorflow/python/framework/dtypes.py:526: FutureWarning: Passing (type, 1) or '1type' as a synonym of type is deprecated; in a future version of numpy, it will be understood as (type, (1,)) / '(1,)type'.\n",
      "\u001b[2m\u001b[36m(pid=14390, ip=192.168.8.55)\u001b[0m   _np_qint8 = np.dtype([(\"qint8\", np.int8, 1)])\n",
      "\u001b[2m\u001b[36m(pid=14390, ip=192.168.8.55)\u001b[0m /home/reminiz/ReminizML2/python_env/lib/python3.7/site-packages/tensorflow/python/framework/dtypes.py:527: FutureWarning: Passing (type, 1) or '1type' as a synonym of type is deprecated; in a future version of numpy, it will be understood as (type, (1,)) / '(1,)type'.\n",
      "\u001b[2m\u001b[36m(pid=14390, ip=192.168.8.55)\u001b[0m   _np_quint8 = np.dtype([(\"quint8\", np.uint8, 1)])\n",
      "\u001b[2m\u001b[36m(pid=14390, ip=192.168.8.55)\u001b[0m /home/reminiz/ReminizML2/python_env/lib/python3.7/site-packages/tensorflow/python/framework/dtypes.py:528: FutureWarning: Passing (type, 1) or '1type' as a synonym of type is deprecated; in a future version of numpy, it will be understood as (type, (1,)) / '(1,)type'.\n",
      "\u001b[2m\u001b[36m(pid=14390, ip=192.168.8.55)\u001b[0m   _np_qint16 = np.dtype([(\"qint16\", np.int16, 1)])\n",
      "\u001b[2m\u001b[36m(pid=14390, ip=192.168.8.55)\u001b[0m /home/reminiz/ReminizML2/python_env/lib/python3.7/site-packages/tensorflow/python/framework/dtypes.py:529: FutureWarning: Passing (type, 1) or '1type' as a synonym of type is deprecated; in a future version of numpy, it will be understood as (type, (1,)) / '(1,)type'.\n",
      "\u001b[2m\u001b[36m(pid=14390, ip=192.168.8.55)\u001b[0m   _np_quint16 = np.dtype([(\"quint16\", np.uint16, 1)])\n",
      "\u001b[2m\u001b[36m(pid=14390, ip=192.168.8.55)\u001b[0m /home/reminiz/ReminizML2/python_env/lib/python3.7/site-packages/tensorflow/python/framework/dtypes.py:530: FutureWarning: Passing (type, 1) or '1type' as a synonym of type is deprecated; in a future version of numpy, it will be understood as (type, (1,)) / '(1,)type'.\n",
      "\u001b[2m\u001b[36m(pid=14390, ip=192.168.8.55)\u001b[0m   _np_qint32 = np.dtype([(\"qint32\", np.int32, 1)])\n",
      "\u001b[2m\u001b[36m(pid=14390, ip=192.168.8.55)\u001b[0m /home/reminiz/ReminizML2/python_env/lib/python3.7/site-packages/tensorflow/python/framework/dtypes.py:535: FutureWarning: Passing (type, 1) or '1type' as a synonym of type is deprecated; in a future version of numpy, it will be understood as (type, (1,)) / '(1,)type'.\n",
      "\u001b[2m\u001b[36m(pid=14390, ip=192.168.8.55)\u001b[0m   np_resource = np.dtype([(\"resource\", np.ubyte, 1)])\n"
     ]
    },
    {
     "name": "stdout",
     "output_type": "stream",
     "text": [
      "\u001b[2m\u001b[36m(pid=13443, ip=192.168.8.54)\u001b[0m \u001b[6;30;42mAL_Train_6\u001b[0m Epoch: 166 / 201 || Time: 2020-12-04 15:12:06 || Accuracy: 99.88 || MAE LossNet: 0.31 || \n"
     ]
    },
    {
     "name": "stderr",
     "output_type": "stream",
     "text": [
      "\u001b[2m\u001b[36m(pid=14226, ip=192.168.8.55)\u001b[0m wandb: Run summary:\n",
      "\u001b[2m\u001b[36m(pid=14226, ip=192.168.8.55)\u001b[0m wandb:                                     _step 160\n",
      "\u001b[2m\u001b[36m(pid=14226, ip=192.168.8.55)\u001b[0m wandb:                                  F1 score 0.6452716029736297\n",
      "\u001b[2m\u001b[36m(pid=14226, ip=192.168.8.55)\u001b[0m wandb:                                  _runtime 273.15581464767456\n",
      "\u001b[2m\u001b[36m(pid=14226, ip=192.168.8.55)\u001b[0m wandb:                                _timestamp 1607091123.98114\n",
      "\u001b[2m\u001b[36m(pid=14226, ip=192.168.8.55)\u001b[0m wandb:                     Explained variance v1 -0.05133330821990967\n",
      "\u001b[2m\u001b[36m(pid=14226, ip=192.168.8.55)\u001b[0m wandb:                     Explained variance v2 -0.02855658531188965\n",
      "\u001b[2m\u001b[36m(pid=14226, ip=192.168.8.55)\u001b[0m wandb:                     Mean squared error v1 25.58346176147461\n",
      "\u001b[2m\u001b[36m(pid=14226, ip=192.168.8.55)\u001b[0m wandb:                     Mean squared error v2 39.22938919067383\n",
      "\u001b[2m\u001b[36m(pid=14226, ip=192.168.8.55)\u001b[0m wandb:                    Mean absolute error v1 3.227733612060547\n",
      "\u001b[2m\u001b[36m(pid=14226, ip=192.168.8.55)\u001b[0m wandb:                    Mean absolute error v2 4.38706111907959\n",
      "\u001b[2m\u001b[36m(pid=14226, ip=192.168.8.55)\u001b[0m wandb:                Area Under the Curve (AUC) 0.7804197402591033\n",
      "\u001b[2m\u001b[36m(pid=14226, ip=192.168.8.55)\u001b[0m wandb:             Test: Classification Accuracy 0.6472\n",
      "\u001b[2m\u001b[36m(pid=14226, ip=192.168.8.55)\u001b[0m wandb: Syncing files in ../../../Trainings/wandb/wandb/run-20201204_141155-32tlp2kp:\n",
      "\u001b[2m\u001b[36m(pid=14226, ip=192.168.8.55)\u001b[0m wandb:   code/default_worker.py\n",
      "\u001b[2m\u001b[36m(pid=14226, ip=192.168.8.55)\u001b[0m wandb: plus 8 W&B file(s) and 2 media file(s)\n",
      "\u001b[2m\u001b[36m(pid=14226, ip=192.168.8.55)\u001b[0m wandb: - 1.17MB of 1.17MB uploaded\n",
      "\u001b[2m\u001b[36m(pid=14226, ip=192.168.8.55)\u001b[0m wandb: \\ 1.17MB of 1.17MB uploaded\n",
      "\u001b[2m\u001b[36m(pid=14390, ip=192.168.8.55)\u001b[0m wandb: Tracking run with wandb version 0.8.36\n",
      "\u001b[2m\u001b[36m(pid=14226, ip=192.168.8.55)\u001b[0m wandb: | 1.17MB of 1.17MB uploaded\n",
      "\u001b[2m\u001b[36m(pid=14226, ip=192.168.8.55)\u001b[0m wandb: / 1.17MB of 1.17MB uploaded\n",
      "\u001b[2m\u001b[36m(pid=14390, ip=192.168.8.55)\u001b[0m wandb: Wandb version 0.10.12 is available!  To upgrade, please run:\n",
      "\u001b[2m\u001b[36m(pid=14390, ip=192.168.8.55)\u001b[0m wandb:  $ pip install wandb --upgrade\n",
      "\u001b[2m\u001b[36m(pid=14390, ip=192.168.8.55)\u001b[0m wandb: Run data is saved locally in ../../../Trainings/wandb/wandb/run-20201204_141206-32tlp2kp\n",
      "\u001b[2m\u001b[36m(pid=14390, ip=192.168.8.55)\u001b[0m wandb: Syncing run AL_Test_6\n",
      "\u001b[2m\u001b[36m(pid=14390, ip=192.168.8.55)\u001b[0m wandb: ⭐️ View project at http://192.168.8.51:8080/reminiz/Active_Learning_CIFAR\n",
      "\u001b[2m\u001b[36m(pid=14390, ip=192.168.8.55)\u001b[0m wandb: 🚀 View run at http://192.168.8.51:8080/reminiz/Active_Learning_CIFAR/runs/32tlp2kp\n",
      "\u001b[2m\u001b[36m(pid=14390, ip=192.168.8.55)\u001b[0m wandb: Run `wandb off` to turn off syncing.\n",
      "wandb:                                                                                \n",
      "\u001b[2m\u001b[36m(pid=14226, ip=192.168.8.55)\u001b[0m wandb: Synced AL_Test_6: http://192.168.8.51:8080/reminiz/Active_Learning_CIFAR/runs/32tlp2kp\n",
      "\u001b[2m\u001b[36m(pid=14390, ip=192.168.8.55)\u001b[0m \n"
     ]
    },
    {
     "name": "stdout",
     "output_type": "stream",
     "text": [
      "\u001b[2m\u001b[36m(pid=13443, ip=192.168.8.54)\u001b[0m \u001b[6;30;42mAL_Train_6\u001b[0m Epoch: 167 / 201 || Time: 2020-12-04 15:12:07 || Accuracy: 100.00 || MAE LossNet: 0.34 || \n",
      "\u001b[2m\u001b[36m(pid=14390, ip=192.168.8.55)\u001b[0m CIFAR10 Training data shape: (50000, 32, 32, 3)\n",
      "\u001b[2m\u001b[36m(pid=14390, ip=192.168.8.55)\u001b[0m CIFAR10 Training label shape (50000, 1)\n",
      "\u001b[2m\u001b[36m(pid=14390, ip=192.168.8.55)\u001b[0m CIFAR10 Test data shape (10000, 32, 32, 3)\n",
      "\u001b[2m\u001b[36m(pid=14390, ip=192.168.8.55)\u001b[0m CIFAR10 Test label shape (10000, 1)\n"
     ]
    },
    {
     "name": "stderr",
     "output_type": "stream",
     "text": [
      "\u001b[2m\u001b[36m(pid=14390, ip=192.168.8.55)\u001b[0m WARNING:tensorflow:From /home/reminiz/ReminizML2/python_env/lib/python3.7/site-packages/tensorflow/python/data/ops/dataset_ops.py:429: py_func (from tensorflow.python.ops.script_ops) is deprecated and will be removed in a future version.\n",
      "\u001b[2m\u001b[36m(pid=14390, ip=192.168.8.55)\u001b[0m Instructions for updating:\n",
      "\u001b[2m\u001b[36m(pid=14390, ip=192.168.8.55)\u001b[0m tf.py_func is deprecated in TF V2. Instead, use\n",
      "\u001b[2m\u001b[36m(pid=14390, ip=192.168.8.55)\u001b[0m     tf.py_function, which takes a python function which manipulates tf eager\n",
      "\u001b[2m\u001b[36m(pid=14390, ip=192.168.8.55)\u001b[0m     tensors instead of numpy arrays. It's easy to convert a tf eager tensor to\n",
      "\u001b[2m\u001b[36m(pid=14390, ip=192.168.8.55)\u001b[0m     an ndarray (just call tensor.numpy()) but having access to eager tensors\n",
      "\u001b[2m\u001b[36m(pid=14390, ip=192.168.8.55)\u001b[0m     means `tf.py_function`s can use accelerators such as GPUs as well as\n",
      "\u001b[2m\u001b[36m(pid=14390, ip=192.168.8.55)\u001b[0m     being differentiable using a gradient tape.\n",
      "\u001b[2m\u001b[36m(pid=14390, ip=192.168.8.55)\u001b[0m     \n",
      "\u001b[2m\u001b[36m(pid=14390, ip=192.168.8.55)\u001b[0m WARNING:tensorflow:From /home/reminiz/ReminizML2/python_env/lib/python3.7/site-packages/tensorflow/python/ops/resource_variable_ops.py:435: colocate_with (from tensorflow.python.framework.ops) is deprecated and will be removed in a future version.\n",
      "\u001b[2m\u001b[36m(pid=14390, ip=192.168.8.55)\u001b[0m Instructions for updating:\n",
      "\u001b[2m\u001b[36m(pid=14390, ip=192.168.8.55)\u001b[0m Colocations handled automatically by placer.\n"
     ]
    },
    {
     "name": "stdout",
     "output_type": "stream",
     "text": [
      "\u001b[2m\u001b[36m(pid=13443, ip=192.168.8.54)\u001b[0m \u001b[6;30;42mAL_Train_6\u001b[0m Epoch: 168 / 201 || Time: 2020-12-04 15:12:09 || Accuracy: 99.90 || MAE LossNet: 0.34 || \n"
     ]
    },
    {
     "name": "stderr",
     "output_type": "stream",
     "text": [
      "\u001b[2m\u001b[36m(pid=14390, ip=192.168.8.55)\u001b[0m 2020-12-04 15:12:09.734588: I tensorflow/core/platform/cpu_feature_guard.cc:141] Your CPU supports instructions that this TensorFlow binary was not compiled to use: AVX2 FMA\n",
      "\u001b[2m\u001b[36m(pid=14390, ip=192.168.8.55)\u001b[0m 2020-12-04 15:12:09.756280: I tensorflow/core/platform/profile_utils/cpu_utils.cc:94] CPU Frequency: 3599935000 Hz\n",
      "\u001b[2m\u001b[36m(pid=14390, ip=192.168.8.55)\u001b[0m 2020-12-04 15:12:09.757065: I tensorflow/compiler/xla/service/service.cc:150] XLA service 0x774ffc0 executing computations on platform Host. Devices:\n",
      "\u001b[2m\u001b[36m(pid=14390, ip=192.168.8.55)\u001b[0m 2020-12-04 15:12:09.757105: I tensorflow/compiler/xla/service/service.cc:158]   StreamExecutor device (0): <undefined>, <undefined>\n",
      "\u001b[2m\u001b[36m(pid=14390, ip=192.168.8.55)\u001b[0m 2020-12-04 15:12:09.852180: I tensorflow/compiler/xla/service/service.cc:150] XLA service 0x7755640 executing computations on platform CUDA. Devices:\n",
      "\u001b[2m\u001b[36m(pid=14390, ip=192.168.8.55)\u001b[0m 2020-12-04 15:12:09.852215: I tensorflow/compiler/xla/service/service.cc:158]   StreamExecutor device (0): GeForce GTX 1080 Ti, Compute Capability 6.1\n",
      "\u001b[2m\u001b[36m(pid=14390, ip=192.168.8.55)\u001b[0m 2020-12-04 15:12:09.852350: I tensorflow/core/common_runtime/gpu/gpu_device.cc:1433] Found device 0 with properties: \n",
      "\u001b[2m\u001b[36m(pid=14390, ip=192.168.8.55)\u001b[0m name: GeForce GTX 1080 Ti major: 6 minor: 1 memoryClockRate(GHz): 1.62\n",
      "\u001b[2m\u001b[36m(pid=14390, ip=192.168.8.55)\u001b[0m pciBusID: 0000:4c:00.0\n",
      "\u001b[2m\u001b[36m(pid=14390, ip=192.168.8.55)\u001b[0m totalMemory: 10.91GiB freeMemory: 10.77GiB\n",
      "\u001b[2m\u001b[36m(pid=14390, ip=192.168.8.55)\u001b[0m 2020-12-04 15:12:09.852369: I tensorflow/core/common_runtime/gpu/gpu_device.cc:1512] Adding visible gpu devices: 0\n",
      "\u001b[2m\u001b[36m(pid=14390, ip=192.168.8.55)\u001b[0m 2020-12-04 15:12:09.854008: I tensorflow/core/common_runtime/gpu/gpu_device.cc:984] Device interconnect StreamExecutor with strength 1 edge matrix:\n",
      "\u001b[2m\u001b[36m(pid=14390, ip=192.168.8.55)\u001b[0m 2020-12-04 15:12:09.854027: I tensorflow/core/common_runtime/gpu/gpu_device.cc:990]      0 \n",
      "\u001b[2m\u001b[36m(pid=14390, ip=192.168.8.55)\u001b[0m 2020-12-04 15:12:09.854035: I tensorflow/core/common_runtime/gpu/gpu_device.cc:1003] 0:   N \n",
      "\u001b[2m\u001b[36m(pid=14390, ip=192.168.8.55)\u001b[0m 2020-12-04 15:12:09.854111: I tensorflow/core/common_runtime/gpu/gpu_device.cc:1115] Created TensorFlow device (/job:localhost/replica:0/task:0/device:GPU:0 with 10479 MB memory) -> physical GPU (device: 0, name: GeForce GTX 1080 Ti, pci bus id: 0000:4c:00.0, compute capability: 6.1)\n",
      "\u001b[2m\u001b[36m(pid=14390, ip=192.168.8.55)\u001b[0m WARNING:tensorflow:From /home/reminiz/ReminizML2/python_env/lib/python3.7/site-packages/tensorflow/python/training/saver.py:1266: checkpoint_exists (from tensorflow.python.training.checkpoint_management) is deprecated and will be removed in a future version.\n",
      "\u001b[2m\u001b[36m(pid=14390, ip=192.168.8.55)\u001b[0m Instructions for updating:\n",
      "\u001b[2m\u001b[36m(pid=14390, ip=192.168.8.55)\u001b[0m Use standard file APIs to check for files with this prefix.\n"
     ]
    },
    {
     "name": "stdout",
     "output_type": "stream",
     "text": [
      "\u001b[2m\u001b[36m(pid=14390, ip=192.168.8.55)\u001b[0m \u001b[6;30;42mAL_Test_6\u001b[0m Restoring from /mnt/Ressources/Andres/Temp_active/runs/Active_Learning_v0/Stage_6/checkpoint/epoch165.ckpt-165\n",
      "\u001b[2m\u001b[36m(pid=13443, ip=192.168.8.54)\u001b[0m \u001b[6;30;42mAL_Train_6\u001b[0m Epoch: 169 / 201 || Time: 2020-12-04 15:12:10 || Accuracy: 100.00 || MAE LossNet: 0.34 || \n"
     ]
    },
    {
     "name": "stderr",
     "output_type": "stream",
     "text": [
      "\u001b[2m\u001b[36m(pid=14390, ip=192.168.8.55)\u001b[0m 2020-12-04 15:12:11.245994: I tensorflow/stream_executor/dso_loader.cc:152] successfully opened CUDA library libcublas.so.10.0 locally\n"
     ]
    },
    {
     "name": "stdout",
     "output_type": "stream",
     "text": [
      "\u001b[2m\u001b[36m(pid=13443, ip=192.168.8.54)\u001b[0m \u001b[6;30;42mAL_Train_6\u001b[0m Epoch: 170 / 201 || Time: 2020-12-04 15:12:12 || Accuracy: 100.00 || MAE LossNet: 0.34 || \n",
      "\u001b[2m\u001b[36m(pid=14390, ip=192.168.8.55)\u001b[0m \u001b[6;30;42mAL_Test_6\u001b[0m Test || Epoch: 165 || Accuracy: 65.36 || \n"
     ]
    },
    {
     "name": "stderr",
     "output_type": "stream",
     "text": [
      "\u001b[2m\u001b[36m(pid=14390, ip=192.168.8.55)\u001b[0m \n",
      "\u001b[2m\u001b[36m(pid=14390, ip=192.168.8.55)\u001b[0m wandb: Waiting for W&B process to finish, PID 14416\n",
      "\u001b[2m\u001b[36m(pid=14390, ip=192.168.8.55)\u001b[0m wandb: Program ended successfully.\n",
      "\u001b[2m\u001b[36m(pid=21713, ip=192.168.8.53)\u001b[0m /home/reminiz/ReminizML2/python_env/lib/python3.7/site-packages/tensorflow/python/framework/dtypes.py:526: FutureWarning: Passing (type, 1) or '1type' as a synonym of type is deprecated; in a future version of numpy, it will be understood as (type, (1,)) / '(1,)type'.\n",
      "\u001b[2m\u001b[36m(pid=21713, ip=192.168.8.53)\u001b[0m   _np_qint8 = np.dtype([(\"qint8\", np.int8, 1)])\n",
      "\u001b[2m\u001b[36m(pid=21713, ip=192.168.8.53)\u001b[0m /home/reminiz/ReminizML2/python_env/lib/python3.7/site-packages/tensorflow/python/framework/dtypes.py:527: FutureWarning: Passing (type, 1) or '1type' as a synonym of type is deprecated; in a future version of numpy, it will be understood as (type, (1,)) / '(1,)type'.\n",
      "\u001b[2m\u001b[36m(pid=21713, ip=192.168.8.53)\u001b[0m   _np_quint8 = np.dtype([(\"quint8\", np.uint8, 1)])\n",
      "\u001b[2m\u001b[36m(pid=21713, ip=192.168.8.53)\u001b[0m /home/reminiz/ReminizML2/python_env/lib/python3.7/site-packages/tensorflow/python/framework/dtypes.py:528: FutureWarning: Passing (type, 1) or '1type' as a synonym of type is deprecated; in a future version of numpy, it will be understood as (type, (1,)) / '(1,)type'.\n",
      "\u001b[2m\u001b[36m(pid=21713, ip=192.168.8.53)\u001b[0m   _np_qint16 = np.dtype([(\"qint16\", np.int16, 1)])\n",
      "\u001b[2m\u001b[36m(pid=21713, ip=192.168.8.53)\u001b[0m /home/reminiz/ReminizML2/python_env/lib/python3.7/site-packages/tensorflow/python/framework/dtypes.py:529: FutureWarning: Passing (type, 1) or '1type' as a synonym of type is deprecated; in a future version of numpy, it will be understood as (type, (1,)) / '(1,)type'.\n",
      "\u001b[2m\u001b[36m(pid=21713, ip=192.168.8.53)\u001b[0m   _np_quint16 = np.dtype([(\"quint16\", np.uint16, 1)])\n",
      "\u001b[2m\u001b[36m(pid=21713, ip=192.168.8.53)\u001b[0m /home/reminiz/ReminizML2/python_env/lib/python3.7/site-packages/tensorflow/python/framework/dtypes.py:530: FutureWarning: Passing (type, 1) or '1type' as a synonym of type is deprecated; in a future version of numpy, it will be understood as (type, (1,)) / '(1,)type'.\n",
      "\u001b[2m\u001b[36m(pid=21713, ip=192.168.8.53)\u001b[0m   _np_qint32 = np.dtype([(\"qint32\", np.int32, 1)])\n",
      "\u001b[2m\u001b[36m(pid=21713, ip=192.168.8.53)\u001b[0m /home/reminiz/ReminizML2/python_env/lib/python3.7/site-packages/tensorflow/python/framework/dtypes.py:535: FutureWarning: Passing (type, 1) or '1type' as a synonym of type is deprecated; in a future version of numpy, it will be understood as (type, (1,)) / '(1,)type'.\n",
      "\u001b[2m\u001b[36m(pid=21713, ip=192.168.8.53)\u001b[0m   np_resource = np.dtype([(\"resource\", np.ubyte, 1)])\n"
     ]
    },
    {
     "name": "stdout",
     "output_type": "stream",
     "text": [
      "\u001b[2m\u001b[36m(pid=13443, ip=192.168.8.54)\u001b[0m \u001b[6;30;42mAL_Train_6\u001b[0m Epoch: 171 / 201 || Time: 2020-12-04 15:12:17 || Accuracy: 100.00 || MAE LossNet: 0.31 || \n"
     ]
    },
    {
     "name": "stderr",
     "output_type": "stream",
     "text": [
      "\u001b[2m\u001b[36m(pid=14390, ip=192.168.8.55)\u001b[0m wandb: Run summary:\n",
      "\u001b[2m\u001b[36m(pid=14390, ip=192.168.8.55)\u001b[0m wandb:                                     _step 165\n",
      "\u001b[2m\u001b[36m(pid=14390, ip=192.168.8.55)\u001b[0m wandb:                                  F1 score 0.651866345545201\n",
      "\u001b[2m\u001b[36m(pid=14390, ip=192.168.8.55)\u001b[0m wandb:                                  _runtime 281.4026551246643\n",
      "\u001b[2m\u001b[36m(pid=14390, ip=192.168.8.55)\u001b[0m wandb:                                _timestamp 1607091134.8222861\n",
      "\u001b[2m\u001b[36m(pid=14390, ip=192.168.8.55)\u001b[0m wandb:                     Explained variance v1 -0.07406759262084961\n",
      "\u001b[2m\u001b[36m(pid=14390, ip=192.168.8.55)\u001b[0m wandb:                     Explained variance v2 -0.042035818099975586\n",
      "\u001b[2m\u001b[36m(pid=14390, ip=192.168.8.55)\u001b[0m wandb:                     Mean squared error v1 28.730697631835938\n",
      "\u001b[2m\u001b[36m(pid=14390, ip=192.168.8.55)\u001b[0m wandb:                     Mean squared error v2 41.54587936401367\n",
      "\u001b[2m\u001b[36m(pid=14390, ip=192.168.8.55)\u001b[0m wandb:                    Mean absolute error v1 3.456113338470459\n",
      "\u001b[2m\u001b[36m(pid=14390, ip=192.168.8.55)\u001b[0m wandb:                    Mean absolute error v2 4.542157173156738\n",
      "\u001b[2m\u001b[36m(pid=14390, ip=192.168.8.55)\u001b[0m wandb:                Area Under the Curve (AUC) 0.7792403230924269\n",
      "\u001b[2m\u001b[36m(pid=14390, ip=192.168.8.55)\u001b[0m wandb:             Test: Classification Accuracy 0.6536\n",
      "\u001b[2m\u001b[36m(pid=14390, ip=192.168.8.55)\u001b[0m wandb: Syncing files in ../../../Trainings/wandb/wandb/run-20201204_141206-32tlp2kp:\n",
      "\u001b[2m\u001b[36m(pid=14390, ip=192.168.8.55)\u001b[0m wandb:   code/default_worker.py\n",
      "\u001b[2m\u001b[36m(pid=14390, ip=192.168.8.55)\u001b[0m wandb: plus 8 W&B file(s) and 2 media file(s)\n",
      "\u001b[2m\u001b[36m(pid=14390, ip=192.168.8.55)\u001b[0m wandb: - 1.17MB of 1.17MB uploaded\n",
      "\u001b[2m\u001b[36m(pid=14390, ip=192.168.8.55)\u001b[0m wandb: \\ 1.17MB of 1.17MB uploaded\n",
      "\u001b[2m\u001b[36m(pid=21713, ip=192.168.8.53)\u001b[0m wandb: Tracking run with wandb version 0.8.36\n",
      "\u001b[2m\u001b[36m(pid=14390, ip=192.168.8.55)\u001b[0m wandb: | 1.17MB of 1.17MB uploaded\n",
      "\u001b[2m\u001b[36m(pid=14390, ip=192.168.8.55)\u001b[0m wandb: / 1.17MB of 1.17MB uploaded\n",
      "\u001b[2m\u001b[36m(pid=21713, ip=192.168.8.53)\u001b[0m wandb: Wandb version 0.10.12 is available!  To upgrade, please run:\n",
      "\u001b[2m\u001b[36m(pid=21713, ip=192.168.8.53)\u001b[0m wandb:  $ pip install wandb --upgrade\n",
      "\u001b[2m\u001b[36m(pid=21713, ip=192.168.8.53)\u001b[0m wandb: Run data is saved locally in ../../../Trainings/wandb/wandb/run-20201204_141217-32tlp2kp\n",
      "\u001b[2m\u001b[36m(pid=21713, ip=192.168.8.53)\u001b[0m wandb: Syncing run AL_Test_6\n",
      "\u001b[2m\u001b[36m(pid=21713, ip=192.168.8.53)\u001b[0m wandb: ⭐️ View project at http://192.168.8.51:8080/reminiz/Active_Learning_CIFAR\n",
      "\u001b[2m\u001b[36m(pid=21713, ip=192.168.8.53)\u001b[0m wandb: 🚀 View run at http://192.168.8.51:8080/reminiz/Active_Learning_CIFAR/runs/32tlp2kp\n",
      "\u001b[2m\u001b[36m(pid=21713, ip=192.168.8.53)\u001b[0m wandb: Run `wandb off` to turn off syncing.\n",
      "wandb:                                                                                \n",
      "\u001b[2m\u001b[36m(pid=14390, ip=192.168.8.55)\u001b[0m wandb: Synced AL_Test_6: http://192.168.8.51:8080/reminiz/Active_Learning_CIFAR/runs/32tlp2kp\n",
      "\u001b[2m\u001b[36m(pid=21713, ip=192.168.8.53)\u001b[0m \n"
     ]
    },
    {
     "name": "stdout",
     "output_type": "stream",
     "text": [
      "\u001b[2m\u001b[36m(pid=13443, ip=192.168.8.54)\u001b[0m \u001b[6;30;42mAL_Train_6\u001b[0m Epoch: 172 / 201 || Time: 2020-12-04 15:12:18 || Accuracy: 100.00 || MAE LossNet: 0.34 || \n",
      "\u001b[2m\u001b[36m(pid=21713, ip=192.168.8.53)\u001b[0m CIFAR10 Training data shape: (50000, 32, 32, 3)\n",
      "\u001b[2m\u001b[36m(pid=21713, ip=192.168.8.53)\u001b[0m CIFAR10 Training label shape (50000, 1)\n",
      "\u001b[2m\u001b[36m(pid=21713, ip=192.168.8.53)\u001b[0m CIFAR10 Test data shape (10000, 32, 32, 3)\n",
      "\u001b[2m\u001b[36m(pid=21713, ip=192.168.8.53)\u001b[0m CIFAR10 Test label shape (10000, 1)\n"
     ]
    },
    {
     "name": "stderr",
     "output_type": "stream",
     "text": [
      "\u001b[2m\u001b[36m(pid=21713, ip=192.168.8.53)\u001b[0m WARNING:tensorflow:From /home/reminiz/ReminizML2/python_env/lib/python3.7/site-packages/tensorflow/python/data/ops/dataset_ops.py:429: py_func (from tensorflow.python.ops.script_ops) is deprecated and will be removed in a future version.\n",
      "\u001b[2m\u001b[36m(pid=21713, ip=192.168.8.53)\u001b[0m Instructions for updating:\n",
      "\u001b[2m\u001b[36m(pid=21713, ip=192.168.8.53)\u001b[0m tf.py_func is deprecated in TF V2. Instead, use\n",
      "\u001b[2m\u001b[36m(pid=21713, ip=192.168.8.53)\u001b[0m     tf.py_function, which takes a python function which manipulates tf eager\n",
      "\u001b[2m\u001b[36m(pid=21713, ip=192.168.8.53)\u001b[0m     tensors instead of numpy arrays. It's easy to convert a tf eager tensor to\n",
      "\u001b[2m\u001b[36m(pid=21713, ip=192.168.8.53)\u001b[0m     an ndarray (just call tensor.numpy()) but having access to eager tensors\n",
      "\u001b[2m\u001b[36m(pid=21713, ip=192.168.8.53)\u001b[0m     means `tf.py_function`s can use accelerators such as GPUs as well as\n",
      "\u001b[2m\u001b[36m(pid=21713, ip=192.168.8.53)\u001b[0m     being differentiable using a gradient tape.\n",
      "\u001b[2m\u001b[36m(pid=21713, ip=192.168.8.53)\u001b[0m     \n",
      "\u001b[2m\u001b[36m(pid=21713, ip=192.168.8.53)\u001b[0m WARNING:tensorflow:From /home/reminiz/ReminizML2/python_env/lib/python3.7/site-packages/tensorflow/python/ops/resource_variable_ops.py:435: colocate_with (from tensorflow.python.framework.ops) is deprecated and will be removed in a future version.\n",
      "\u001b[2m\u001b[36m(pid=21713, ip=192.168.8.53)\u001b[0m Instructions for updating:\n",
      "\u001b[2m\u001b[36m(pid=21713, ip=192.168.8.53)\u001b[0m Colocations handled automatically by placer.\n"
     ]
    },
    {
     "name": "stdout",
     "output_type": "stream",
     "text": [
      "\u001b[2m\u001b[36m(pid=13443, ip=192.168.8.54)\u001b[0m \u001b[6;30;42mAL_Train_6\u001b[0m Epoch: 173 / 201 || Time: 2020-12-04 15:12:20 || Accuracy: 100.00 || MAE LossNet: 0.31 || \n"
     ]
    },
    {
     "name": "stderr",
     "output_type": "stream",
     "text": [
      "\u001b[2m\u001b[36m(pid=21713, ip=192.168.8.53)\u001b[0m 2020-12-04 15:12:20.903827: I tensorflow/core/platform/cpu_feature_guard.cc:141] Your CPU supports instructions that this TensorFlow binary was not compiled to use: AVX2 FMA\n",
      "\u001b[2m\u001b[36m(pid=21713, ip=192.168.8.53)\u001b[0m 2020-12-04 15:12:20.925129: I tensorflow/core/platform/profile_utils/cpu_utils.cc:94] CPU Frequency: 3499950000 Hz\n",
      "\u001b[2m\u001b[36m(pid=21713, ip=192.168.8.53)\u001b[0m 2020-12-04 15:12:20.925743: I tensorflow/compiler/xla/service/service.cc:150] XLA service 0x5570ab5adbe0 executing computations on platform Host. Devices:\n",
      "\u001b[2m\u001b[36m(pid=21713, ip=192.168.8.53)\u001b[0m 2020-12-04 15:12:20.925766: I tensorflow/compiler/xla/service/service.cc:158]   StreamExecutor device (0): <undefined>, <undefined>\n",
      "\u001b[2m\u001b[36m(pid=21713, ip=192.168.8.53)\u001b[0m 2020-12-04 15:12:21.037356: I tensorflow/compiler/xla/service/service.cc:150] XLA service 0x5570a87d6920 executing computations on platform CUDA. Devices:\n",
      "\u001b[2m\u001b[36m(pid=21713, ip=192.168.8.53)\u001b[0m 2020-12-04 15:12:21.037396: I tensorflow/compiler/xla/service/service.cc:158]   StreamExecutor device (0): GeForce GTX TITAN X, Compute Capability 5.2\n",
      "\u001b[2m\u001b[36m(pid=21713, ip=192.168.8.53)\u001b[0m 2020-12-04 15:12:21.037562: I tensorflow/core/common_runtime/gpu/gpu_device.cc:1433] Found device 0 with properties: \n",
      "\u001b[2m\u001b[36m(pid=21713, ip=192.168.8.53)\u001b[0m name: GeForce GTX TITAN X major: 5 minor: 2 memoryClockRate(GHz): 1.076\n",
      "\u001b[2m\u001b[36m(pid=21713, ip=192.168.8.53)\u001b[0m pciBusID: 0000:02:00.0\n",
      "\u001b[2m\u001b[36m(pid=21713, ip=192.168.8.53)\u001b[0m totalMemory: 11.93GiB freeMemory: 11.82GiB\n",
      "\u001b[2m\u001b[36m(pid=21713, ip=192.168.8.53)\u001b[0m 2020-12-04 15:12:21.037599: I tensorflow/core/common_runtime/gpu/gpu_device.cc:1512] Adding visible gpu devices: 0\n",
      "\u001b[2m\u001b[36m(pid=21713, ip=192.168.8.53)\u001b[0m 2020-12-04 15:12:21.039734: I tensorflow/core/common_runtime/gpu/gpu_device.cc:984] Device interconnect StreamExecutor with strength 1 edge matrix:\n",
      "\u001b[2m\u001b[36m(pid=21713, ip=192.168.8.53)\u001b[0m 2020-12-04 15:12:21.039760: I tensorflow/core/common_runtime/gpu/gpu_device.cc:990]      0 \n",
      "\u001b[2m\u001b[36m(pid=21713, ip=192.168.8.53)\u001b[0m 2020-12-04 15:12:21.039770: I tensorflow/core/common_runtime/gpu/gpu_device.cc:1003] 0:   N \n",
      "\u001b[2m\u001b[36m(pid=21713, ip=192.168.8.53)\u001b[0m 2020-12-04 15:12:21.039863: I tensorflow/core/common_runtime/gpu/gpu_device.cc:1115] Created TensorFlow device (/job:localhost/replica:0/task:0/device:GPU:0 with 11496 MB memory) -> physical GPU (device: 0, name: GeForce GTX TITAN X, pci bus id: 0000:02:00.0, compute capability: 5.2)\n",
      "\u001b[2m\u001b[36m(pid=21713, ip=192.168.8.53)\u001b[0m WARNING:tensorflow:From /home/reminiz/ReminizML2/python_env/lib/python3.7/site-packages/tensorflow/python/training/saver.py:1266: checkpoint_exists (from tensorflow.python.training.checkpoint_management) is deprecated and will be removed in a future version.\n",
      "\u001b[2m\u001b[36m(pid=21713, ip=192.168.8.53)\u001b[0m Instructions for updating:\n",
      "\u001b[2m\u001b[36m(pid=21713, ip=192.168.8.53)\u001b[0m Use standard file APIs to check for files with this prefix.\n"
     ]
    },
    {
     "name": "stdout",
     "output_type": "stream",
     "text": [
      "\u001b[2m\u001b[36m(pid=21713, ip=192.168.8.53)\u001b[0m \u001b[6;30;42mAL_Test_6\u001b[0m Restoring from /mnt/Ressources/Andres/Temp_active/runs/Active_Learning_v0/Stage_6/checkpoint/epoch170.ckpt-170\n",
      "\u001b[2m\u001b[36m(pid=13443, ip=192.168.8.54)\u001b[0m \u001b[6;30;42mAL_Train_6\u001b[0m Epoch: 174 / 201 || Time: 2020-12-04 15:12:21 || Accuracy: 99.78 || MAE LossNet: 0.31 || \n"
     ]
    },
    {
     "name": "stderr",
     "output_type": "stream",
     "text": [
      "\u001b[2m\u001b[36m(pid=21713, ip=192.168.8.53)\u001b[0m 2020-12-04 15:12:22.580396: I tensorflow/stream_executor/dso_loader.cc:152] successfully opened CUDA library libcublas.so.10.0 locally\n"
     ]
    },
    {
     "name": "stdout",
     "output_type": "stream",
     "text": [
      "\u001b[2m\u001b[36m(pid=13443, ip=192.168.8.54)\u001b[0m \u001b[6;30;42mAL_Train_6\u001b[0m Epoch: 175 / 201 || Time: 2020-12-04 15:12:23 || Accuracy: 100.00 || MAE LossNet: 0.31 || \n",
      "\u001b[2m\u001b[36m(pid=21713, ip=192.168.8.53)\u001b[0m \u001b[6;30;42mAL_Test_6\u001b[0m Test || Epoch: 170 || Accuracy: 65.06 || \n"
     ]
    },
    {
     "name": "stderr",
     "output_type": "stream",
     "text": [
      "\u001b[2m\u001b[36m(pid=21713, ip=192.168.8.53)\u001b[0m \n",
      "\u001b[2m\u001b[36m(pid=21713, ip=192.168.8.53)\u001b[0m wandb: Waiting for W&B process to finish, PID 22479\n",
      "\u001b[2m\u001b[36m(pid=21713, ip=192.168.8.53)\u001b[0m wandb: Program ended successfully.\n",
      "\u001b[2m\u001b[36m(pid=14560, ip=192.168.8.55)\u001b[0m /home/reminiz/ReminizML2/python_env/lib/python3.7/site-packages/tensorflow/python/framework/dtypes.py:526: FutureWarning: Passing (type, 1) or '1type' as a synonym of type is deprecated; in a future version of numpy, it will be understood as (type, (1,)) / '(1,)type'.\n",
      "\u001b[2m\u001b[36m(pid=14560, ip=192.168.8.55)\u001b[0m   _np_qint8 = np.dtype([(\"qint8\", np.int8, 1)])\n",
      "\u001b[2m\u001b[36m(pid=14560, ip=192.168.8.55)\u001b[0m /home/reminiz/ReminizML2/python_env/lib/python3.7/site-packages/tensorflow/python/framework/dtypes.py:527: FutureWarning: Passing (type, 1) or '1type' as a synonym of type is deprecated; in a future version of numpy, it will be understood as (type, (1,)) / '(1,)type'.\n",
      "\u001b[2m\u001b[36m(pid=14560, ip=192.168.8.55)\u001b[0m   _np_quint8 = np.dtype([(\"quint8\", np.uint8, 1)])\n",
      "\u001b[2m\u001b[36m(pid=14560, ip=192.168.8.55)\u001b[0m /home/reminiz/ReminizML2/python_env/lib/python3.7/site-packages/tensorflow/python/framework/dtypes.py:528: FutureWarning: Passing (type, 1) or '1type' as a synonym of type is deprecated; in a future version of numpy, it will be understood as (type, (1,)) / '(1,)type'.\n",
      "\u001b[2m\u001b[36m(pid=14560, ip=192.168.8.55)\u001b[0m   _np_qint16 = np.dtype([(\"qint16\", np.int16, 1)])\n",
      "\u001b[2m\u001b[36m(pid=14560, ip=192.168.8.55)\u001b[0m /home/reminiz/ReminizML2/python_env/lib/python3.7/site-packages/tensorflow/python/framework/dtypes.py:529: FutureWarning: Passing (type, 1) or '1type' as a synonym of type is deprecated; in a future version of numpy, it will be understood as (type, (1,)) / '(1,)type'.\n",
      "\u001b[2m\u001b[36m(pid=14560, ip=192.168.8.55)\u001b[0m   _np_quint16 = np.dtype([(\"quint16\", np.uint16, 1)])\n",
      "\u001b[2m\u001b[36m(pid=14560, ip=192.168.8.55)\u001b[0m /home/reminiz/ReminizML2/python_env/lib/python3.7/site-packages/tensorflow/python/framework/dtypes.py:530: FutureWarning: Passing (type, 1) or '1type' as a synonym of type is deprecated; in a future version of numpy, it will be understood as (type, (1,)) / '(1,)type'.\n",
      "\u001b[2m\u001b[36m(pid=14560, ip=192.168.8.55)\u001b[0m   _np_qint32 = np.dtype([(\"qint32\", np.int32, 1)])\n",
      "\u001b[2m\u001b[36m(pid=14560, ip=192.168.8.55)\u001b[0m /home/reminiz/ReminizML2/python_env/lib/python3.7/site-packages/tensorflow/python/framework/dtypes.py:535: FutureWarning: Passing (type, 1) or '1type' as a synonym of type is deprecated; in a future version of numpy, it will be understood as (type, (1,)) / '(1,)type'.\n",
      "\u001b[2m\u001b[36m(pid=14560, ip=192.168.8.55)\u001b[0m   np_resource = np.dtype([(\"resource\", np.ubyte, 1)])\n"
     ]
    },
    {
     "name": "stdout",
     "output_type": "stream",
     "text": [
      "\u001b[2m\u001b[36m(pid=13443, ip=192.168.8.54)\u001b[0m \u001b[6;30;42mAL_Train_6\u001b[0m Epoch: 176 / 201 || Time: 2020-12-04 15:12:28 || Accuracy: 99.90 || MAE LossNet: 0.32 || \n"
     ]
    },
    {
     "name": "stderr",
     "output_type": "stream",
     "text": [
      "\u001b[2m\u001b[36m(pid=21713, ip=192.168.8.53)\u001b[0m wandb: Run summary:\n",
      "\u001b[2m\u001b[36m(pid=21713, ip=192.168.8.53)\u001b[0m wandb:                                     _step 170\n",
      "\u001b[2m\u001b[36m(pid=21713, ip=192.168.8.53)\u001b[0m wandb:                                  F1 score 0.6509970717170089\n",
      "\u001b[2m\u001b[36m(pid=21713, ip=192.168.8.53)\u001b[0m wandb:                                  _runtime 290.77576422691345\n",
      "\u001b[2m\u001b[36m(pid=21713, ip=192.168.8.53)\u001b[0m wandb:                                _timestamp 1607091146.8922374\n",
      "\u001b[2m\u001b[36m(pid=21713, ip=192.168.8.53)\u001b[0m wandb:                     Explained variance v1 -0.07169055938720703\n",
      "\u001b[2m\u001b[36m(pid=21713, ip=192.168.8.53)\u001b[0m wandb:                     Explained variance v2 -0.042563438415527344\n",
      "\u001b[2m\u001b[36m(pid=21713, ip=192.168.8.53)\u001b[0m wandb:                     Mean squared error v1 28.009803771972656\n",
      "\u001b[2m\u001b[36m(pid=21713, ip=192.168.8.53)\u001b[0m wandb:                     Mean squared error v2 41.572959899902344\n",
      "\u001b[2m\u001b[36m(pid=21713, ip=192.168.8.53)\u001b[0m wandb:                    Mean absolute error v1 3.418321371078491\n",
      "\u001b[2m\u001b[36m(pid=21713, ip=192.168.8.53)\u001b[0m wandb:                    Mean absolute error v2 4.555074214935303\n",
      "\u001b[2m\u001b[36m(pid=21713, ip=192.168.8.53)\u001b[0m wandb:                Area Under the Curve (AUC) 0.7840024733454619\n",
      "\u001b[2m\u001b[36m(pid=21713, ip=192.168.8.53)\u001b[0m wandb:             Test: Classification Accuracy 0.6506\n",
      "\u001b[2m\u001b[36m(pid=21713, ip=192.168.8.53)\u001b[0m wandb: Syncing files in ../../../Trainings/wandb/wandb/run-20201204_141217-32tlp2kp:\n",
      "\u001b[2m\u001b[36m(pid=21713, ip=192.168.8.53)\u001b[0m wandb:   code/default_worker.py\n",
      "\u001b[2m\u001b[36m(pid=21713, ip=192.168.8.53)\u001b[0m wandb: plus 8 W&B file(s) and 2 media file(s)\n",
      "\u001b[2m\u001b[36m(pid=21713, ip=192.168.8.53)\u001b[0m wandb: - 1.15MB of 1.15MB uploaded\n",
      "\u001b[2m\u001b[36m(pid=21713, ip=192.168.8.53)\u001b[0m wandb: \\ 1.15MB of 1.15MB uploaded\n",
      "\u001b[2m\u001b[36m(pid=14560, ip=192.168.8.55)\u001b[0m wandb: Tracking run with wandb version 0.8.36\n",
      "\u001b[2m\u001b[36m(pid=21713, ip=192.168.8.53)\u001b[0m wandb: | 1.15MB of 1.15MB uploaded\n",
      "\u001b[2m\u001b[36m(pid=21713, ip=192.168.8.53)\u001b[0m wandb: / 1.15MB of 1.15MB uploaded\n",
      "\u001b[2m\u001b[36m(pid=14560, ip=192.168.8.55)\u001b[0m wandb: Wandb version 0.10.12 is available!  To upgrade, please run:\n",
      "\u001b[2m\u001b[36m(pid=14560, ip=192.168.8.55)\u001b[0m wandb:  $ pip install wandb --upgrade\n",
      "\u001b[2m\u001b[36m(pid=14560, ip=192.168.8.55)\u001b[0m wandb: Run data is saved locally in ../../../Trainings/wandb/wandb/run-20201204_141228-32tlp2kp\n",
      "wandb:                                                                                \n",
      "\u001b[2m\u001b[36m(pid=21713, ip=192.168.8.53)\u001b[0m wandb: Synced AL_Test_6: http://192.168.8.51:8080/reminiz/Active_Learning_CIFAR/runs/32tlp2kp\n",
      "\u001b[2m\u001b[36m(pid=14560, ip=192.168.8.55)\u001b[0m wandb: Syncing run AL_Test_6\n",
      "\u001b[2m\u001b[36m(pid=14560, ip=192.168.8.55)\u001b[0m wandb: ⭐️ View project at http://192.168.8.51:8080/reminiz/Active_Learning_CIFAR\n",
      "\u001b[2m\u001b[36m(pid=14560, ip=192.168.8.55)\u001b[0m wandb: 🚀 View run at http://192.168.8.51:8080/reminiz/Active_Learning_CIFAR/runs/32tlp2kp\n",
      "\u001b[2m\u001b[36m(pid=14560, ip=192.168.8.55)\u001b[0m wandb: Run `wandb off` to turn off syncing.\n",
      "\u001b[2m\u001b[36m(pid=14560, ip=192.168.8.55)\u001b[0m \n"
     ]
    },
    {
     "name": "stdout",
     "output_type": "stream",
     "text": [
      "\u001b[2m\u001b[36m(pid=13443, ip=192.168.8.54)\u001b[0m \u001b[6;30;42mAL_Train_6\u001b[0m Epoch: 177 / 201 || Time: 2020-12-04 15:12:29 || Accuracy: 99.88 || MAE LossNet: 0.33 || \n",
      "\u001b[2m\u001b[36m(pid=14560, ip=192.168.8.55)\u001b[0m CIFAR10 Training data shape: (50000, 32, 32, 3)\n",
      "\u001b[2m\u001b[36m(pid=14560, ip=192.168.8.55)\u001b[0m CIFAR10 Training label shape (50000, 1)\n",
      "\u001b[2m\u001b[36m(pid=14560, ip=192.168.8.55)\u001b[0m CIFAR10 Test data shape (10000, 32, 32, 3)\n",
      "\u001b[2m\u001b[36m(pid=14560, ip=192.168.8.55)\u001b[0m CIFAR10 Test label shape (10000, 1)\n"
     ]
    },
    {
     "name": "stderr",
     "output_type": "stream",
     "text": [
      "\u001b[2m\u001b[36m(pid=14560, ip=192.168.8.55)\u001b[0m WARNING:tensorflow:From /home/reminiz/ReminizML2/python_env/lib/python3.7/site-packages/tensorflow/python/data/ops/dataset_ops.py:429: py_func (from tensorflow.python.ops.script_ops) is deprecated and will be removed in a future version.\n",
      "\u001b[2m\u001b[36m(pid=14560, ip=192.168.8.55)\u001b[0m Instructions for updating:\n",
      "\u001b[2m\u001b[36m(pid=14560, ip=192.168.8.55)\u001b[0m tf.py_func is deprecated in TF V2. Instead, use\n",
      "\u001b[2m\u001b[36m(pid=14560, ip=192.168.8.55)\u001b[0m     tf.py_function, which takes a python function which manipulates tf eager\n",
      "\u001b[2m\u001b[36m(pid=14560, ip=192.168.8.55)\u001b[0m     tensors instead of numpy arrays. It's easy to convert a tf eager tensor to\n",
      "\u001b[2m\u001b[36m(pid=14560, ip=192.168.8.55)\u001b[0m     an ndarray (just call tensor.numpy()) but having access to eager tensors\n",
      "\u001b[2m\u001b[36m(pid=14560, ip=192.168.8.55)\u001b[0m     means `tf.py_function`s can use accelerators such as GPUs as well as\n",
      "\u001b[2m\u001b[36m(pid=14560, ip=192.168.8.55)\u001b[0m     being differentiable using a gradient tape.\n",
      "\u001b[2m\u001b[36m(pid=14560, ip=192.168.8.55)\u001b[0m     \n",
      "\u001b[2m\u001b[36m(pid=14560, ip=192.168.8.55)\u001b[0m WARNING:tensorflow:From /home/reminiz/ReminizML2/python_env/lib/python3.7/site-packages/tensorflow/python/ops/resource_variable_ops.py:435: colocate_with (from tensorflow.python.framework.ops) is deprecated and will be removed in a future version.\n",
      "\u001b[2m\u001b[36m(pid=14560, ip=192.168.8.55)\u001b[0m Instructions for updating:\n",
      "\u001b[2m\u001b[36m(pid=14560, ip=192.168.8.55)\u001b[0m Colocations handled automatically by placer.\n"
     ]
    },
    {
     "name": "stdout",
     "output_type": "stream",
     "text": [
      "\u001b[2m\u001b[36m(pid=13443, ip=192.168.8.54)\u001b[0m \u001b[6;30;42mAL_Train_6\u001b[0m Epoch: 178 / 201 || Time: 2020-12-04 15:12:31 || Accuracy: 100.00 || MAE LossNet: 0.27 || \n"
     ]
    },
    {
     "name": "stderr",
     "output_type": "stream",
     "text": [
      "\u001b[2m\u001b[36m(pid=14560, ip=192.168.8.55)\u001b[0m 2020-12-04 15:12:31.886726: I tensorflow/core/platform/cpu_feature_guard.cc:141] Your CPU supports instructions that this TensorFlow binary was not compiled to use: AVX2 FMA\n",
      "\u001b[2m\u001b[36m(pid=14560, ip=192.168.8.55)\u001b[0m 2020-12-04 15:12:31.908400: I tensorflow/core/platform/profile_utils/cpu_utils.cc:94] CPU Frequency: 3599935000 Hz\n",
      "\u001b[2m\u001b[36m(pid=14560, ip=192.168.8.55)\u001b[0m 2020-12-04 15:12:31.909238: I tensorflow/compiler/xla/service/service.cc:150] XLA service 0x71f51f0 executing computations on platform Host. Devices:\n",
      "\u001b[2m\u001b[36m(pid=14560, ip=192.168.8.55)\u001b[0m 2020-12-04 15:12:31.909274: I tensorflow/compiler/xla/service/service.cc:158]   StreamExecutor device (0): <undefined>, <undefined>\n",
      "\u001b[2m\u001b[36m(pid=14560, ip=192.168.8.55)\u001b[0m 2020-12-04 15:12:32.009182: I tensorflow/compiler/xla/service/service.cc:150] XLA service 0x71fa870 executing computations on platform CUDA. Devices:\n",
      "\u001b[2m\u001b[36m(pid=14560, ip=192.168.8.55)\u001b[0m 2020-12-04 15:12:32.009227: I tensorflow/compiler/xla/service/service.cc:158]   StreamExecutor device (0): GeForce GTX 1080 Ti, Compute Capability 6.1\n",
      "\u001b[2m\u001b[36m(pid=14560, ip=192.168.8.55)\u001b[0m 2020-12-04 15:12:32.009424: I tensorflow/core/common_runtime/gpu/gpu_device.cc:1433] Found device 0 with properties: \n",
      "\u001b[2m\u001b[36m(pid=14560, ip=192.168.8.55)\u001b[0m name: GeForce GTX 1080 Ti major: 6 minor: 1 memoryClockRate(GHz): 1.62\n",
      "\u001b[2m\u001b[36m(pid=14560, ip=192.168.8.55)\u001b[0m pciBusID: 0000:4c:00.0\n",
      "\u001b[2m\u001b[36m(pid=14560, ip=192.168.8.55)\u001b[0m totalMemory: 10.91GiB freeMemory: 10.77GiB\n",
      "\u001b[2m\u001b[36m(pid=14560, ip=192.168.8.55)\u001b[0m 2020-12-04 15:12:32.009454: I tensorflow/core/common_runtime/gpu/gpu_device.cc:1512] Adding visible gpu devices: 0\n",
      "\u001b[2m\u001b[36m(pid=14560, ip=192.168.8.55)\u001b[0m 2020-12-04 15:12:32.012027: I tensorflow/core/common_runtime/gpu/gpu_device.cc:984] Device interconnect StreamExecutor with strength 1 edge matrix:\n",
      "\u001b[2m\u001b[36m(pid=14560, ip=192.168.8.55)\u001b[0m 2020-12-04 15:12:32.012072: I tensorflow/core/common_runtime/gpu/gpu_device.cc:990]      0 \n",
      "\u001b[2m\u001b[36m(pid=14560, ip=192.168.8.55)\u001b[0m 2020-12-04 15:12:32.012091: I tensorflow/core/common_runtime/gpu/gpu_device.cc:1003] 0:   N \n",
      "\u001b[2m\u001b[36m(pid=14560, ip=192.168.8.55)\u001b[0m 2020-12-04 15:12:32.012211: I tensorflow/core/common_runtime/gpu/gpu_device.cc:1115] Created TensorFlow device (/job:localhost/replica:0/task:0/device:GPU:0 with 10479 MB memory) -> physical GPU (device: 0, name: GeForce GTX 1080 Ti, pci bus id: 0000:4c:00.0, compute capability: 6.1)\n"
     ]
    },
    {
     "name": "stdout",
     "output_type": "stream",
     "text": [
      "\u001b[2m\u001b[36m(pid=14560, ip=192.168.8.55)\u001b[0m \u001b[6;30;42mAL_Test_6\u001b[0m Restoring from /mnt/Ressources/Andres/Temp_active/runs/Active_Learning_v0/Stage_6/checkpoint/epoch175.ckpt-175\n"
     ]
    },
    {
     "name": "stderr",
     "output_type": "stream",
     "text": [
      "\u001b[2m\u001b[36m(pid=14560, ip=192.168.8.55)\u001b[0m WARNING:tensorflow:From /home/reminiz/ReminizML2/python_env/lib/python3.7/site-packages/tensorflow/python/training/saver.py:1266: checkpoint_exists (from tensorflow.python.training.checkpoint_management) is deprecated and will be removed in a future version.\n",
      "\u001b[2m\u001b[36m(pid=14560, ip=192.168.8.55)\u001b[0m Instructions for updating:\n",
      "\u001b[2m\u001b[36m(pid=14560, ip=192.168.8.55)\u001b[0m Use standard file APIs to check for files with this prefix.\n"
     ]
    },
    {
     "name": "stdout",
     "output_type": "stream",
     "text": [
      "\u001b[2m\u001b[36m(pid=13443, ip=192.168.8.54)\u001b[0m \u001b[6;30;42mAL_Train_6\u001b[0m Epoch: 179 / 201 || Time: 2020-12-04 15:12:32 || Accuracy: 99.68 || MAE LossNet: 0.33 || \n"
     ]
    },
    {
     "name": "stderr",
     "output_type": "stream",
     "text": [
      "\u001b[2m\u001b[36m(pid=14560, ip=192.168.8.55)\u001b[0m 2020-12-04 15:12:33.463490: I tensorflow/stream_executor/dso_loader.cc:152] successfully opened CUDA library libcublas.so.10.0 locally\n"
     ]
    },
    {
     "name": "stdout",
     "output_type": "stream",
     "text": [
      "\u001b[2m\u001b[36m(pid=13443, ip=192.168.8.54)\u001b[0m \u001b[6;30;42mAL_Train_6\u001b[0m Epoch: 180 / 201 || Time: 2020-12-04 15:12:34 || Accuracy: 100.00 || MAE LossNet: 0.32 || \n",
      "\u001b[2m\u001b[36m(pid=14560, ip=192.168.8.55)\u001b[0m \u001b[6;30;42mAL_Test_6\u001b[0m Test || Epoch: 175 || Accuracy: 65.32 || \n"
     ]
    },
    {
     "name": "stderr",
     "output_type": "stream",
     "text": [
      "\u001b[2m\u001b[36m(pid=14560, ip=192.168.8.55)\u001b[0m \n",
      "\u001b[2m\u001b[36m(pid=14560, ip=192.168.8.55)\u001b[0m wandb: Waiting for W&B process to finish, PID 14583\n",
      "\u001b[2m\u001b[36m(pid=14560, ip=192.168.8.55)\u001b[0m wandb: Program ended successfully.\n",
      "\u001b[2m\u001b[36m(pid=22856, ip=192.168.8.53)\u001b[0m /home/reminiz/ReminizML2/python_env/lib/python3.7/site-packages/tensorflow/python/framework/dtypes.py:526: FutureWarning: Passing (type, 1) or '1type' as a synonym of type is deprecated; in a future version of numpy, it will be understood as (type, (1,)) / '(1,)type'.\n",
      "\u001b[2m\u001b[36m(pid=22856, ip=192.168.8.53)\u001b[0m   _np_qint8 = np.dtype([(\"qint8\", np.int8, 1)])\n",
      "\u001b[2m\u001b[36m(pid=22856, ip=192.168.8.53)\u001b[0m /home/reminiz/ReminizML2/python_env/lib/python3.7/site-packages/tensorflow/python/framework/dtypes.py:527: FutureWarning: Passing (type, 1) or '1type' as a synonym of type is deprecated; in a future version of numpy, it will be understood as (type, (1,)) / '(1,)type'.\n",
      "\u001b[2m\u001b[36m(pid=22856, ip=192.168.8.53)\u001b[0m   _np_quint8 = np.dtype([(\"quint8\", np.uint8, 1)])\n",
      "\u001b[2m\u001b[36m(pid=22856, ip=192.168.8.53)\u001b[0m /home/reminiz/ReminizML2/python_env/lib/python3.7/site-packages/tensorflow/python/framework/dtypes.py:528: FutureWarning: Passing (type, 1) or '1type' as a synonym of type is deprecated; in a future version of numpy, it will be understood as (type, (1,)) / '(1,)type'.\n",
      "\u001b[2m\u001b[36m(pid=22856, ip=192.168.8.53)\u001b[0m   _np_qint16 = np.dtype([(\"qint16\", np.int16, 1)])\n",
      "\u001b[2m\u001b[36m(pid=22856, ip=192.168.8.53)\u001b[0m /home/reminiz/ReminizML2/python_env/lib/python3.7/site-packages/tensorflow/python/framework/dtypes.py:529: FutureWarning: Passing (type, 1) or '1type' as a synonym of type is deprecated; in a future version of numpy, it will be understood as (type, (1,)) / '(1,)type'.\n",
      "\u001b[2m\u001b[36m(pid=22856, ip=192.168.8.53)\u001b[0m   _np_quint16 = np.dtype([(\"quint16\", np.uint16, 1)])\n",
      "\u001b[2m\u001b[36m(pid=22856, ip=192.168.8.53)\u001b[0m /home/reminiz/ReminizML2/python_env/lib/python3.7/site-packages/tensorflow/python/framework/dtypes.py:530: FutureWarning: Passing (type, 1) or '1type' as a synonym of type is deprecated; in a future version of numpy, it will be understood as (type, (1,)) / '(1,)type'.\n",
      "\u001b[2m\u001b[36m(pid=22856, ip=192.168.8.53)\u001b[0m   _np_qint32 = np.dtype([(\"qint32\", np.int32, 1)])\n",
      "\u001b[2m\u001b[36m(pid=22856, ip=192.168.8.53)\u001b[0m /home/reminiz/ReminizML2/python_env/lib/python3.7/site-packages/tensorflow/python/framework/dtypes.py:535: FutureWarning: Passing (type, 1) or '1type' as a synonym of type is deprecated; in a future version of numpy, it will be understood as (type, (1,)) / '(1,)type'.\n",
      "\u001b[2m\u001b[36m(pid=22856, ip=192.168.8.53)\u001b[0m   np_resource = np.dtype([(\"resource\", np.ubyte, 1)])\n"
     ]
    },
    {
     "name": "stdout",
     "output_type": "stream",
     "text": [
      "\u001b[2m\u001b[36m(pid=13443, ip=192.168.8.54)\u001b[0m \u001b[6;30;42mAL_Train_6\u001b[0m Epoch: 181 / 201 || Time: 2020-12-04 15:12:39 || Accuracy: 99.68 || MAE LossNet: 0.34 || \n"
     ]
    },
    {
     "name": "stderr",
     "output_type": "stream",
     "text": [
      "\u001b[2m\u001b[36m(pid=14560, ip=192.168.8.55)\u001b[0m wandb: Run summary:\n",
      "\u001b[2m\u001b[36m(pid=14560, ip=192.168.8.55)\u001b[0m wandb:                                     _step 175\n",
      "\u001b[2m\u001b[36m(pid=14560, ip=192.168.8.55)\u001b[0m wandb:                                  F1 score 0.652558078448213\n",
      "\u001b[2m\u001b[36m(pid=14560, ip=192.168.8.55)\u001b[0m wandb:                                  _runtime 299.10194182395935\n",
      "\u001b[2m\u001b[36m(pid=14560, ip=192.168.8.55)\u001b[0m wandb:                                _timestamp 1607091157.041833\n",
      "\u001b[2m\u001b[36m(pid=14560, ip=192.168.8.55)\u001b[0m wandb:                     Explained variance v1 -0.08321559429168701\n",
      "\u001b[2m\u001b[36m(pid=14560, ip=192.168.8.55)\u001b[0m wandb:                     Explained variance v2 -0.050278306007385254\n",
      "\u001b[2m\u001b[36m(pid=14560, ip=192.168.8.55)\u001b[0m wandb:                     Mean squared error v1 29.812597274780273\n",
      "\u001b[2m\u001b[36m(pid=14560, ip=192.168.8.55)\u001b[0m wandb:                     Mean squared error v2 43.71849822998047\n",
      "\u001b[2m\u001b[36m(pid=14560, ip=192.168.8.55)\u001b[0m wandb:                    Mean absolute error v1 3.552532434463501\n",
      "\u001b[2m\u001b[36m(pid=14560, ip=192.168.8.55)\u001b[0m wandb:                    Mean absolute error v2 4.693668365478516\n",
      "\u001b[2m\u001b[36m(pid=14560, ip=192.168.8.55)\u001b[0m wandb:                Area Under the Curve (AUC) 0.7815577962030242\n",
      "\u001b[2m\u001b[36m(pid=14560, ip=192.168.8.55)\u001b[0m wandb:             Test: Classification Accuracy 0.6532\n",
      "\u001b[2m\u001b[36m(pid=14560, ip=192.168.8.55)\u001b[0m wandb: Syncing files in ../../../Trainings/wandb/wandb/run-20201204_141228-32tlp2kp:\n",
      "\u001b[2m\u001b[36m(pid=14560, ip=192.168.8.55)\u001b[0m wandb:   code/default_worker.py\n",
      "\u001b[2m\u001b[36m(pid=14560, ip=192.168.8.55)\u001b[0m wandb: plus 8 W&B file(s) and 2 media file(s)\n",
      "\u001b[2m\u001b[36m(pid=14560, ip=192.168.8.55)\u001b[0m wandb: - 1.17MB of 1.17MB uploaded\n",
      "\u001b[2m\u001b[36m(pid=22856, ip=192.168.8.53)\u001b[0m wandb: Tracking run with wandb version 0.8.36\n",
      "\u001b[2m\u001b[36m(pid=14560, ip=192.168.8.55)\u001b[0m wandb: \\ 1.17MB of 1.17MB uploaded\n",
      "\u001b[2m\u001b[36m(pid=14560, ip=192.168.8.55)\u001b[0m wandb: | 1.17MB of 1.17MB uploaded\n",
      "\u001b[2m\u001b[36m(pid=22856, ip=192.168.8.53)\u001b[0m wandb: Wandb version 0.10.12 is available!  To upgrade, please run:\n",
      "\u001b[2m\u001b[36m(pid=22856, ip=192.168.8.53)\u001b[0m wandb:  $ pip install wandb --upgrade\n",
      "\u001b[2m\u001b[36m(pid=22856, ip=192.168.8.53)\u001b[0m wandb: Run data is saved locally in ../../../Trainings/wandb/wandb/run-20201204_141239-32tlp2kp\n",
      "\u001b[2m\u001b[36m(pid=22856, ip=192.168.8.53)\u001b[0m wandb: Syncing run AL_Test_6\n",
      "\u001b[2m\u001b[36m(pid=22856, ip=192.168.8.53)\u001b[0m wandb: ⭐️ View project at http://192.168.8.51:8080/reminiz/Active_Learning_CIFAR\n",
      "\u001b[2m\u001b[36m(pid=22856, ip=192.168.8.53)\u001b[0m wandb: 🚀 View run at http://192.168.8.51:8080/reminiz/Active_Learning_CIFAR/runs/32tlp2kp\n",
      "\u001b[2m\u001b[36m(pid=22856, ip=192.168.8.53)\u001b[0m wandb: Run `wandb off` to turn off syncing.\n",
      "\u001b[2m\u001b[36m(pid=14560, ip=192.168.8.55)\u001b[0m wandb: / 1.17MB of 1.17MB uploaded\n"
     ]
    },
    {
     "name": "stdout",
     "output_type": "stream",
     "text": [
      "\u001b[2m\u001b[36m(pid=13443, ip=192.168.8.54)\u001b[0m \u001b[6;30;42mAL_Train_6\u001b[0m Epoch: 182 / 201 || Time: 2020-12-04 15:12:40 || Accuracy: 99.80 || MAE LossNet: 0.31 || \n"
     ]
    },
    {
     "name": "stderr",
     "output_type": "stream",
     "text": [
      "wandb:                                                                                \n",
      "\u001b[2m\u001b[36m(pid=14560, ip=192.168.8.55)\u001b[0m wandb: Synced AL_Test_6: http://192.168.8.51:8080/reminiz/Active_Learning_CIFAR/runs/32tlp2kp\n",
      "\u001b[2m\u001b[36m(pid=22856, ip=192.168.8.53)\u001b[0m \n"
     ]
    },
    {
     "name": "stdout",
     "output_type": "stream",
     "text": [
      "\u001b[2m\u001b[36m(pid=22856, ip=192.168.8.53)\u001b[0m CIFAR10 Training data shape: (50000, 32, 32, 3)\n",
      "\u001b[2m\u001b[36m(pid=22856, ip=192.168.8.53)\u001b[0m CIFAR10 Training label shape (50000, 1)\n",
      "\u001b[2m\u001b[36m(pid=22856, ip=192.168.8.53)\u001b[0m CIFAR10 Test data shape (10000, 32, 32, 3)\n",
      "\u001b[2m\u001b[36m(pid=22856, ip=192.168.8.53)\u001b[0m CIFAR10 Test label shape (10000, 1)\n"
     ]
    },
    {
     "name": "stderr",
     "output_type": "stream",
     "text": [
      "\u001b[2m\u001b[36m(pid=22856, ip=192.168.8.53)\u001b[0m WARNING:tensorflow:From /home/reminiz/ReminizML2/python_env/lib/python3.7/site-packages/tensorflow/python/data/ops/dataset_ops.py:429: py_func (from tensorflow.python.ops.script_ops) is deprecated and will be removed in a future version.\n",
      "\u001b[2m\u001b[36m(pid=22856, ip=192.168.8.53)\u001b[0m Instructions for updating:\n",
      "\u001b[2m\u001b[36m(pid=22856, ip=192.168.8.53)\u001b[0m tf.py_func is deprecated in TF V2. Instead, use\n",
      "\u001b[2m\u001b[36m(pid=22856, ip=192.168.8.53)\u001b[0m     tf.py_function, which takes a python function which manipulates tf eager\n",
      "\u001b[2m\u001b[36m(pid=22856, ip=192.168.8.53)\u001b[0m     tensors instead of numpy arrays. It's easy to convert a tf eager tensor to\n",
      "\u001b[2m\u001b[36m(pid=22856, ip=192.168.8.53)\u001b[0m     an ndarray (just call tensor.numpy()) but having access to eager tensors\n",
      "\u001b[2m\u001b[36m(pid=22856, ip=192.168.8.53)\u001b[0m     means `tf.py_function`s can use accelerators such as GPUs as well as\n",
      "\u001b[2m\u001b[36m(pid=22856, ip=192.168.8.53)\u001b[0m     being differentiable using a gradient tape.\n",
      "\u001b[2m\u001b[36m(pid=22856, ip=192.168.8.53)\u001b[0m     \n",
      "\u001b[2m\u001b[36m(pid=22856, ip=192.168.8.53)\u001b[0m WARNING:tensorflow:From /home/reminiz/ReminizML2/python_env/lib/python3.7/site-packages/tensorflow/python/ops/resource_variable_ops.py:435: colocate_with (from tensorflow.python.framework.ops) is deprecated and will be removed in a future version.\n",
      "\u001b[2m\u001b[36m(pid=22856, ip=192.168.8.53)\u001b[0m Instructions for updating:\n",
      "\u001b[2m\u001b[36m(pid=22856, ip=192.168.8.53)\u001b[0m Colocations handled automatically by placer.\n"
     ]
    },
    {
     "name": "stdout",
     "output_type": "stream",
     "text": [
      "\u001b[2m\u001b[36m(pid=13443, ip=192.168.8.54)\u001b[0m \u001b[6;30;42mAL_Train_6\u001b[0m Epoch: 183 / 201 || Time: 2020-12-04 15:12:42 || Accuracy: 99.90 || MAE LossNet: 0.30 || \n"
     ]
    },
    {
     "name": "stderr",
     "output_type": "stream",
     "text": [
      "\u001b[2m\u001b[36m(pid=22856, ip=192.168.8.53)\u001b[0m 2020-12-04 15:12:42.926237: I tensorflow/core/platform/cpu_feature_guard.cc:141] Your CPU supports instructions that this TensorFlow binary was not compiled to use: AVX2 FMA\n",
      "\u001b[2m\u001b[36m(pid=22856, ip=192.168.8.53)\u001b[0m 2020-12-04 15:12:42.953044: I tensorflow/core/platform/profile_utils/cpu_utils.cc:94] CPU Frequency: 3499950000 Hz\n",
      "\u001b[2m\u001b[36m(pid=22856, ip=192.168.8.53)\u001b[0m 2020-12-04 15:12:42.953762: I tensorflow/compiler/xla/service/service.cc:150] XLA service 0x56006a829100 executing computations on platform Host. Devices:\n",
      "\u001b[2m\u001b[36m(pid=22856, ip=192.168.8.53)\u001b[0m 2020-12-04 15:12:42.953788: I tensorflow/compiler/xla/service/service.cc:158]   StreamExecutor device (0): <undefined>, <undefined>\n",
      "\u001b[2m\u001b[36m(pid=22856, ip=192.168.8.53)\u001b[0m 2020-12-04 15:12:43.066070: I tensorflow/compiler/xla/service/service.cc:150] XLA service 0x5600678b3f20 executing computations on platform CUDA. Devices:\n",
      "\u001b[2m\u001b[36m(pid=22856, ip=192.168.8.53)\u001b[0m 2020-12-04 15:12:43.066106: I tensorflow/compiler/xla/service/service.cc:158]   StreamExecutor device (0): GeForce GTX TITAN X, Compute Capability 5.2\n",
      "\u001b[2m\u001b[36m(pid=22856, ip=192.168.8.53)\u001b[0m 2020-12-04 15:12:43.066237: I tensorflow/core/common_runtime/gpu/gpu_device.cc:1433] Found device 0 with properties: \n",
      "\u001b[2m\u001b[36m(pid=22856, ip=192.168.8.53)\u001b[0m name: GeForce GTX TITAN X major: 5 minor: 2 memoryClockRate(GHz): 1.076\n",
      "\u001b[2m\u001b[36m(pid=22856, ip=192.168.8.53)\u001b[0m pciBusID: 0000:02:00.0\n",
      "\u001b[2m\u001b[36m(pid=22856, ip=192.168.8.53)\u001b[0m totalMemory: 11.93GiB freeMemory: 11.82GiB\n",
      "\u001b[2m\u001b[36m(pid=22856, ip=192.168.8.53)\u001b[0m 2020-12-04 15:12:43.066258: I tensorflow/core/common_runtime/gpu/gpu_device.cc:1512] Adding visible gpu devices: 0\n",
      "\u001b[2m\u001b[36m(pid=22856, ip=192.168.8.53)\u001b[0m 2020-12-04 15:12:43.067956: I tensorflow/core/common_runtime/gpu/gpu_device.cc:984] Device interconnect StreamExecutor with strength 1 edge matrix:\n",
      "\u001b[2m\u001b[36m(pid=22856, ip=192.168.8.53)\u001b[0m 2020-12-04 15:12:43.067976: I tensorflow/core/common_runtime/gpu/gpu_device.cc:990]      0 \n",
      "\u001b[2m\u001b[36m(pid=22856, ip=192.168.8.53)\u001b[0m 2020-12-04 15:12:43.067985: I tensorflow/core/common_runtime/gpu/gpu_device.cc:1003] 0:   N \n",
      "\u001b[2m\u001b[36m(pid=22856, ip=192.168.8.53)\u001b[0m 2020-12-04 15:12:43.068067: I tensorflow/core/common_runtime/gpu/gpu_device.cc:1115] Created TensorFlow device (/job:localhost/replica:0/task:0/device:GPU:0 with 11496 MB memory) -> physical GPU (device: 0, name: GeForce GTX TITAN X, pci bus id: 0000:02:00.0, compute capability: 5.2)\n"
     ]
    },
    {
     "name": "stdout",
     "output_type": "stream",
     "text": [
      "\u001b[2m\u001b[36m(pid=22856, ip=192.168.8.53)\u001b[0m \u001b[6;30;42mAL_Test_6\u001b[0m Restoring from /mnt/Ressources/Andres/Temp_active/runs/Active_Learning_v0/Stage_6/checkpoint/epoch180.ckpt-180\n"
     ]
    },
    {
     "name": "stderr",
     "output_type": "stream",
     "text": [
      "\u001b[2m\u001b[36m(pid=22856, ip=192.168.8.53)\u001b[0m WARNING:tensorflow:From /home/reminiz/ReminizML2/python_env/lib/python3.7/site-packages/tensorflow/python/training/saver.py:1266: checkpoint_exists (from tensorflow.python.training.checkpoint_management) is deprecated and will be removed in a future version.\n",
      "\u001b[2m\u001b[36m(pid=22856, ip=192.168.8.53)\u001b[0m Instructions for updating:\n",
      "\u001b[2m\u001b[36m(pid=22856, ip=192.168.8.53)\u001b[0m Use standard file APIs to check for files with this prefix.\n"
     ]
    },
    {
     "name": "stdout",
     "output_type": "stream",
     "text": [
      "\u001b[2m\u001b[36m(pid=13443, ip=192.168.8.54)\u001b[0m \u001b[6;30;42mAL_Train_6\u001b[0m Epoch: 184 / 201 || Time: 2020-12-04 15:12:43 || Accuracy: 99.71 || MAE LossNet: 0.34 || \n"
     ]
    },
    {
     "name": "stderr",
     "output_type": "stream",
     "text": [
      "\u001b[2m\u001b[36m(pid=22856, ip=192.168.8.53)\u001b[0m 2020-12-04 15:12:44.531224: I tensorflow/stream_executor/dso_loader.cc:152] successfully opened CUDA library libcublas.so.10.0 locally\n"
     ]
    },
    {
     "name": "stdout",
     "output_type": "stream",
     "text": [
      "\u001b[2m\u001b[36m(pid=13443, ip=192.168.8.54)\u001b[0m \u001b[6;30;42mAL_Train_6\u001b[0m Epoch: 185 / 201 || Time: 2020-12-04 15:12:45 || Accuracy: 99.61 || MAE LossNet: 0.32 || \n",
      "\u001b[2m\u001b[36m(pid=22856, ip=192.168.8.53)\u001b[0m \u001b[6;30;42mAL_Test_6\u001b[0m Test || Epoch: 180 || Accuracy: 64.58 || \n"
     ]
    },
    {
     "name": "stderr",
     "output_type": "stream",
     "text": [
      "\u001b[2m\u001b[36m(pid=22856, ip=192.168.8.53)\u001b[0m \n",
      "\u001b[2m\u001b[36m(pid=22856, ip=192.168.8.53)\u001b[0m wandb: Waiting for W&B process to finish, PID 23134\n",
      "\u001b[2m\u001b[36m(pid=22856, ip=192.168.8.53)\u001b[0m wandb: Program ended successfully.\n",
      "\u001b[2m\u001b[36m(pid=14722, ip=192.168.8.55)\u001b[0m /home/reminiz/ReminizML2/python_env/lib/python3.7/site-packages/tensorflow/python/framework/dtypes.py:526: FutureWarning: Passing (type, 1) or '1type' as a synonym of type is deprecated; in a future version of numpy, it will be understood as (type, (1,)) / '(1,)type'.\n",
      "\u001b[2m\u001b[36m(pid=14722, ip=192.168.8.55)\u001b[0m   _np_qint8 = np.dtype([(\"qint8\", np.int8, 1)])\n",
      "\u001b[2m\u001b[36m(pid=14722, ip=192.168.8.55)\u001b[0m /home/reminiz/ReminizML2/python_env/lib/python3.7/site-packages/tensorflow/python/framework/dtypes.py:527: FutureWarning: Passing (type, 1) or '1type' as a synonym of type is deprecated; in a future version of numpy, it will be understood as (type, (1,)) / '(1,)type'.\n",
      "\u001b[2m\u001b[36m(pid=14722, ip=192.168.8.55)\u001b[0m   _np_quint8 = np.dtype([(\"quint8\", np.uint8, 1)])\n",
      "\u001b[2m\u001b[36m(pid=14722, ip=192.168.8.55)\u001b[0m /home/reminiz/ReminizML2/python_env/lib/python3.7/site-packages/tensorflow/python/framework/dtypes.py:528: FutureWarning: Passing (type, 1) or '1type' as a synonym of type is deprecated; in a future version of numpy, it will be understood as (type, (1,)) / '(1,)type'.\n",
      "\u001b[2m\u001b[36m(pid=14722, ip=192.168.8.55)\u001b[0m   _np_qint16 = np.dtype([(\"qint16\", np.int16, 1)])\n",
      "\u001b[2m\u001b[36m(pid=14722, ip=192.168.8.55)\u001b[0m /home/reminiz/ReminizML2/python_env/lib/python3.7/site-packages/tensorflow/python/framework/dtypes.py:529: FutureWarning: Passing (type, 1) or '1type' as a synonym of type is deprecated; in a future version of numpy, it will be understood as (type, (1,)) / '(1,)type'.\n",
      "\u001b[2m\u001b[36m(pid=14722, ip=192.168.8.55)\u001b[0m   _np_quint16 = np.dtype([(\"quint16\", np.uint16, 1)])\n",
      "\u001b[2m\u001b[36m(pid=14722, ip=192.168.8.55)\u001b[0m /home/reminiz/ReminizML2/python_env/lib/python3.7/site-packages/tensorflow/python/framework/dtypes.py:530: FutureWarning: Passing (type, 1) or '1type' as a synonym of type is deprecated; in a future version of numpy, it will be understood as (type, (1,)) / '(1,)type'.\n",
      "\u001b[2m\u001b[36m(pid=14722, ip=192.168.8.55)\u001b[0m   _np_qint32 = np.dtype([(\"qint32\", np.int32, 1)])\n",
      "\u001b[2m\u001b[36m(pid=14722, ip=192.168.8.55)\u001b[0m /home/reminiz/ReminizML2/python_env/lib/python3.7/site-packages/tensorflow/python/framework/dtypes.py:535: FutureWarning: Passing (type, 1) or '1type' as a synonym of type is deprecated; in a future version of numpy, it will be understood as (type, (1,)) / '(1,)type'.\n",
      "\u001b[2m\u001b[36m(pid=14722, ip=192.168.8.55)\u001b[0m   np_resource = np.dtype([(\"resource\", np.ubyte, 1)])\n"
     ]
    },
    {
     "name": "stdout",
     "output_type": "stream",
     "text": [
      "\u001b[2m\u001b[36m(pid=13443, ip=192.168.8.54)\u001b[0m \u001b[6;30;42mAL_Train_6\u001b[0m Epoch: 186 / 201 || Time: 2020-12-04 15:12:50 || Accuracy: 99.90 || MAE LossNet: 0.32 || \n"
     ]
    },
    {
     "name": "stderr",
     "output_type": "stream",
     "text": [
      "\u001b[2m\u001b[36m(pid=22856, ip=192.168.8.53)\u001b[0m wandb: Run summary:\n",
      "\u001b[2m\u001b[36m(pid=22856, ip=192.168.8.53)\u001b[0m wandb:                                     _step 180\n",
      "\u001b[2m\u001b[36m(pid=22856, ip=192.168.8.53)\u001b[0m wandb:                                  F1 score 0.6460799901958605\n",
      "\u001b[2m\u001b[36m(pid=22856, ip=192.168.8.53)\u001b[0m wandb:                                  _runtime 308.58439111709595\n",
      "\u001b[2m\u001b[36m(pid=22856, ip=192.168.8.53)\u001b[0m wandb:                                _timestamp 1607091168.8994315\n",
      "\u001b[2m\u001b[36m(pid=22856, ip=192.168.8.53)\u001b[0m wandb:                     Explained variance v1 -0.10197007656097412\n",
      "\u001b[2m\u001b[36m(pid=22856, ip=192.168.8.53)\u001b[0m wandb:                     Explained variance v2 -0.05625152587890625\n",
      "\u001b[2m\u001b[36m(pid=22856, ip=192.168.8.53)\u001b[0m wandb:                     Mean squared error v1 29.86991310119629\n",
      "\u001b[2m\u001b[36m(pid=22856, ip=192.168.8.53)\u001b[0m wandb:                     Mean squared error v2 44.32874298095703\n",
      "\u001b[2m\u001b[36m(pid=22856, ip=192.168.8.53)\u001b[0m wandb:                    Mean absolute error v1 3.537109851837158\n",
      "\u001b[2m\u001b[36m(pid=22856, ip=192.168.8.53)\u001b[0m wandb:                    Mean absolute error v2 4.725332736968994\n",
      "\u001b[2m\u001b[36m(pid=22856, ip=192.168.8.53)\u001b[0m wandb:                Area Under the Curve (AUC) 0.7752711172517412\n",
      "\u001b[2m\u001b[36m(pid=22856, ip=192.168.8.53)\u001b[0m wandb:             Test: Classification Accuracy 0.6458\n",
      "\u001b[2m\u001b[36m(pid=22856, ip=192.168.8.53)\u001b[0m wandb: Syncing files in ../../../Trainings/wandb/wandb/run-20201204_141239-32tlp2kp:\n",
      "\u001b[2m\u001b[36m(pid=22856, ip=192.168.8.53)\u001b[0m wandb:   code/default_worker.py\n",
      "\u001b[2m\u001b[36m(pid=22856, ip=192.168.8.53)\u001b[0m wandb: plus 8 W&B file(s) and 2 media file(s)\n",
      "\u001b[2m\u001b[36m(pid=22856, ip=192.168.8.53)\u001b[0m wandb: - 1.15MB of 1.15MB uploaded\n",
      "\u001b[2m\u001b[36m(pid=22856, ip=192.168.8.53)\u001b[0m wandb: \\ 1.15MB of 1.15MB uploaded\n",
      "\u001b[2m\u001b[36m(pid=22856, ip=192.168.8.53)\u001b[0m wandb: | 1.15MB of 1.15MB uploaded\n",
      "\u001b[2m\u001b[36m(pid=14722, ip=192.168.8.55)\u001b[0m wandb: Tracking run with wandb version 0.8.36\n",
      "\u001b[2m\u001b[36m(pid=22856, ip=192.168.8.53)\u001b[0m wandb: / 1.15MB of 1.15MB uploaded\n",
      "wandb:                                                                                \n",
      "\u001b[2m\u001b[36m(pid=22856, ip=192.168.8.53)\u001b[0m wandb: Synced AL_Test_6: http://192.168.8.51:8080/reminiz/Active_Learning_CIFAR/runs/32tlp2kp\n",
      "\u001b[2m\u001b[36m(pid=14722, ip=192.168.8.55)\u001b[0m wandb: Wandb version 0.10.12 is available!  To upgrade, please run:\n",
      "\u001b[2m\u001b[36m(pid=14722, ip=192.168.8.55)\u001b[0m wandb:  $ pip install wandb --upgrade\n",
      "\u001b[2m\u001b[36m(pid=14722, ip=192.168.8.55)\u001b[0m wandb: Run data is saved locally in ../../../Trainings/wandb/wandb/run-20201204_141250-32tlp2kp\n",
      "\u001b[2m\u001b[36m(pid=14722, ip=192.168.8.55)\u001b[0m wandb: Syncing run AL_Test_6\n",
      "\u001b[2m\u001b[36m(pid=14722, ip=192.168.8.55)\u001b[0m wandb: ⭐️ View project at http://192.168.8.51:8080/reminiz/Active_Learning_CIFAR\n",
      "\u001b[2m\u001b[36m(pid=14722, ip=192.168.8.55)\u001b[0m wandb: 🚀 View run at http://192.168.8.51:8080/reminiz/Active_Learning_CIFAR/runs/32tlp2kp\n",
      "\u001b[2m\u001b[36m(pid=14722, ip=192.168.8.55)\u001b[0m wandb: Run `wandb off` to turn off syncing.\n",
      "\u001b[2m\u001b[36m(pid=14722, ip=192.168.8.55)\u001b[0m \n"
     ]
    },
    {
     "name": "stdout",
     "output_type": "stream",
     "text": [
      "\u001b[2m\u001b[36m(pid=13443, ip=192.168.8.54)\u001b[0m \u001b[6;30;42mAL_Train_6\u001b[0m Epoch: 187 / 201 || Time: 2020-12-04 15:12:51 || Accuracy: 99.90 || MAE LossNet: 0.31 || \n",
      "\u001b[2m\u001b[36m(pid=14722, ip=192.168.8.55)\u001b[0m CIFAR10 Training data shape: (50000, 32, 32, 3)\n",
      "\u001b[2m\u001b[36m(pid=14722, ip=192.168.8.55)\u001b[0m CIFAR10 Training label shape (50000, 1)\n",
      "\u001b[2m\u001b[36m(pid=14722, ip=192.168.8.55)\u001b[0m CIFAR10 Test data shape (10000, 32, 32, 3)\n",
      "\u001b[2m\u001b[36m(pid=14722, ip=192.168.8.55)\u001b[0m CIFAR10 Test label shape (10000, 1)\n"
     ]
    },
    {
     "name": "stderr",
     "output_type": "stream",
     "text": [
      "\u001b[2m\u001b[36m(pid=23363, ip=192.168.8.53)\u001b[0m /home/reminiz/ReminizML2/python_env/lib/python3.7/site-packages/tensorflow/python/framework/dtypes.py:526: FutureWarning: Passing (type, 1) or '1type' as a synonym of type is deprecated; in a future version of numpy, it will be understood as (type, (1,)) / '(1,)type'.\n",
      "\u001b[2m\u001b[36m(pid=23363, ip=192.168.8.53)\u001b[0m   _np_qint8 = np.dtype([(\"qint8\", np.int8, 1)])\n",
      "\u001b[2m\u001b[36m(pid=23363, ip=192.168.8.53)\u001b[0m /home/reminiz/ReminizML2/python_env/lib/python3.7/site-packages/tensorflow/python/framework/dtypes.py:527: FutureWarning: Passing (type, 1) or '1type' as a synonym of type is deprecated; in a future version of numpy, it will be understood as (type, (1,)) / '(1,)type'.\n",
      "\u001b[2m\u001b[36m(pid=23363, ip=192.168.8.53)\u001b[0m   _np_quint8 = np.dtype([(\"quint8\", np.uint8, 1)])\n",
      "\u001b[2m\u001b[36m(pid=23363, ip=192.168.8.53)\u001b[0m /home/reminiz/ReminizML2/python_env/lib/python3.7/site-packages/tensorflow/python/framework/dtypes.py:528: FutureWarning: Passing (type, 1) or '1type' as a synonym of type is deprecated; in a future version of numpy, it will be understood as (type, (1,)) / '(1,)type'.\n",
      "\u001b[2m\u001b[36m(pid=23363, ip=192.168.8.53)\u001b[0m   _np_qint16 = np.dtype([(\"qint16\", np.int16, 1)])\n",
      "\u001b[2m\u001b[36m(pid=23363, ip=192.168.8.53)\u001b[0m /home/reminiz/ReminizML2/python_env/lib/python3.7/site-packages/tensorflow/python/framework/dtypes.py:529: FutureWarning: Passing (type, 1) or '1type' as a synonym of type is deprecated; in a future version of numpy, it will be understood as (type, (1,)) / '(1,)type'.\n",
      "\u001b[2m\u001b[36m(pid=23363, ip=192.168.8.53)\u001b[0m   _np_quint16 = np.dtype([(\"quint16\", np.uint16, 1)])\n",
      "\u001b[2m\u001b[36m(pid=23363, ip=192.168.8.53)\u001b[0m /home/reminiz/ReminizML2/python_env/lib/python3.7/site-packages/tensorflow/python/framework/dtypes.py:530: FutureWarning: Passing (type, 1) or '1type' as a synonym of type is deprecated; in a future version of numpy, it will be understood as (type, (1,)) / '(1,)type'.\n",
      "\u001b[2m\u001b[36m(pid=23363, ip=192.168.8.53)\u001b[0m   _np_qint32 = np.dtype([(\"qint32\", np.int32, 1)])\n",
      "\u001b[2m\u001b[36m(pid=23363, ip=192.168.8.53)\u001b[0m /home/reminiz/ReminizML2/python_env/lib/python3.7/site-packages/tensorflow/python/framework/dtypes.py:535: FutureWarning: Passing (type, 1) or '1type' as a synonym of type is deprecated; in a future version of numpy, it will be understood as (type, (1,)) / '(1,)type'.\n",
      "\u001b[2m\u001b[36m(pid=23363, ip=192.168.8.53)\u001b[0m   np_resource = np.dtype([(\"resource\", np.ubyte, 1)])\n",
      "\u001b[2m\u001b[36m(pid=14722, ip=192.168.8.55)\u001b[0m WARNING:tensorflow:From /home/reminiz/ReminizML2/python_env/lib/python3.7/site-packages/tensorflow/python/data/ops/dataset_ops.py:429: py_func (from tensorflow.python.ops.script_ops) is deprecated and will be removed in a future version.\n",
      "\u001b[2m\u001b[36m(pid=14722, ip=192.168.8.55)\u001b[0m Instructions for updating:\n",
      "\u001b[2m\u001b[36m(pid=14722, ip=192.168.8.55)\u001b[0m tf.py_func is deprecated in TF V2. Instead, use\n",
      "\u001b[2m\u001b[36m(pid=14722, ip=192.168.8.55)\u001b[0m     tf.py_function, which takes a python function which manipulates tf eager\n",
      "\u001b[2m\u001b[36m(pid=14722, ip=192.168.8.55)\u001b[0m     tensors instead of numpy arrays. It's easy to convert a tf eager tensor to\n",
      "\u001b[2m\u001b[36m(pid=14722, ip=192.168.8.55)\u001b[0m     an ndarray (just call tensor.numpy()) but having access to eager tensors\n",
      "\u001b[2m\u001b[36m(pid=14722, ip=192.168.8.55)\u001b[0m     means `tf.py_function`s can use accelerators such as GPUs as well as\n",
      "\u001b[2m\u001b[36m(pid=14722, ip=192.168.8.55)\u001b[0m     being differentiable using a gradient tape.\n",
      "\u001b[2m\u001b[36m(pid=14722, ip=192.168.8.55)\u001b[0m     \n",
      "\u001b[2m\u001b[36m(pid=14722, ip=192.168.8.55)\u001b[0m WARNING:tensorflow:From /home/reminiz/ReminizML2/python_env/lib/python3.7/site-packages/tensorflow/python/ops/resource_variable_ops.py:435: colocate_with (from tensorflow.python.framework.ops) is deprecated and will be removed in a future version.\n",
      "\u001b[2m\u001b[36m(pid=14722, ip=192.168.8.55)\u001b[0m Instructions for updating:\n",
      "\u001b[2m\u001b[36m(pid=14722, ip=192.168.8.55)\u001b[0m Colocations handled automatically by placer.\n"
     ]
    },
    {
     "name": "stdout",
     "output_type": "stream",
     "text": [
      "\u001b[2m\u001b[36m(pid=13443, ip=192.168.8.54)\u001b[0m \u001b[6;30;42mAL_Train_6\u001b[0m Epoch: 188 / 201 || Time: 2020-12-04 15:12:53 || Accuracy: 99.61 || MAE LossNet: 0.34 || \n"
     ]
    },
    {
     "name": "stderr",
     "output_type": "stream",
     "text": [
      "\u001b[2m\u001b[36m(pid=14722, ip=192.168.8.55)\u001b[0m 2020-12-04 15:12:53.998294: I tensorflow/core/platform/cpu_feature_guard.cc:141] Your CPU supports instructions that this TensorFlow binary was not compiled to use: AVX2 FMA\n",
      "\u001b[2m\u001b[36m(pid=14722, ip=192.168.8.55)\u001b[0m 2020-12-04 15:12:54.028374: I tensorflow/core/platform/profile_utils/cpu_utils.cc:94] CPU Frequency: 3599935000 Hz\n",
      "\u001b[2m\u001b[36m(pid=14722, ip=192.168.8.55)\u001b[0m 2020-12-04 15:12:54.029254: I tensorflow/compiler/xla/service/service.cc:150] XLA service 0x70dbfb0 executing computations on platform Host. Devices:\n",
      "\u001b[2m\u001b[36m(pid=14722, ip=192.168.8.55)\u001b[0m 2020-12-04 15:12:54.029277: I tensorflow/compiler/xla/service/service.cc:158]   StreamExecutor device (0): <undefined>, <undefined>\n",
      "\u001b[2m\u001b[36m(pid=14722, ip=192.168.8.55)\u001b[0m 2020-12-04 15:12:54.122766: I tensorflow/compiler/xla/service/service.cc:150] XLA service 0x70e1630 executing computations on platform CUDA. Devices:\n",
      "\u001b[2m\u001b[36m(pid=14722, ip=192.168.8.55)\u001b[0m 2020-12-04 15:12:54.122816: I tensorflow/compiler/xla/service/service.cc:158]   StreamExecutor device (0): GeForce GTX 1080 Ti, Compute Capability 6.1\n",
      "\u001b[2m\u001b[36m(pid=14722, ip=192.168.8.55)\u001b[0m 2020-12-04 15:12:54.123037: I tensorflow/core/common_runtime/gpu/gpu_device.cc:1433] Found device 0 with properties: \n",
      "\u001b[2m\u001b[36m(pid=14722, ip=192.168.8.55)\u001b[0m name: GeForce GTX 1080 Ti major: 6 minor: 1 memoryClockRate(GHz): 1.62\n",
      "\u001b[2m\u001b[36m(pid=14722, ip=192.168.8.55)\u001b[0m pciBusID: 0000:4c:00.0\n",
      "\u001b[2m\u001b[36m(pid=14722, ip=192.168.8.55)\u001b[0m totalMemory: 10.91GiB freeMemory: 10.77GiB\n",
      "\u001b[2m\u001b[36m(pid=14722, ip=192.168.8.55)\u001b[0m 2020-12-04 15:12:54.123069: I tensorflow/core/common_runtime/gpu/gpu_device.cc:1512] Adding visible gpu devices: 0\n",
      "\u001b[2m\u001b[36m(pid=14722, ip=192.168.8.55)\u001b[0m 2020-12-04 15:12:54.125699: I tensorflow/core/common_runtime/gpu/gpu_device.cc:984] Device interconnect StreamExecutor with strength 1 edge matrix:\n",
      "\u001b[2m\u001b[36m(pid=14722, ip=192.168.8.55)\u001b[0m 2020-12-04 15:12:54.125729: I tensorflow/core/common_runtime/gpu/gpu_device.cc:990]      0 \n",
      "\u001b[2m\u001b[36m(pid=14722, ip=192.168.8.55)\u001b[0m 2020-12-04 15:12:54.125741: I tensorflow/core/common_runtime/gpu/gpu_device.cc:1003] 0:   N \n",
      "\u001b[2m\u001b[36m(pid=14722, ip=192.168.8.55)\u001b[0m 2020-12-04 15:12:54.125861: I tensorflow/core/common_runtime/gpu/gpu_device.cc:1115] Created TensorFlow device (/job:localhost/replica:0/task:0/device:GPU:0 with 10479 MB memory) -> physical GPU (device: 0, name: GeForce GTX 1080 Ti, pci bus id: 0000:4c:00.0, compute capability: 6.1)\n"
     ]
    },
    {
     "name": "stdout",
     "output_type": "stream",
     "text": [
      "\u001b[2m\u001b[36m(pid=14722, ip=192.168.8.55)\u001b[0m \u001b[6;30;42mAL_Test_6\u001b[0m Restoring from /mnt/Ressources/Andres/Temp_active/runs/Active_Learning_v0/Stage_6/checkpoint/epoch185.ckpt-185\n"
     ]
    },
    {
     "name": "stderr",
     "output_type": "stream",
     "text": [
      "\u001b[2m\u001b[36m(pid=14722, ip=192.168.8.55)\u001b[0m WARNING:tensorflow:From /home/reminiz/ReminizML2/python_env/lib/python3.7/site-packages/tensorflow/python/training/saver.py:1266: checkpoint_exists (from tensorflow.python.training.checkpoint_management) is deprecated and will be removed in a future version.\n",
      "\u001b[2m\u001b[36m(pid=14722, ip=192.168.8.55)\u001b[0m Instructions for updating:\n",
      "\u001b[2m\u001b[36m(pid=14722, ip=192.168.8.55)\u001b[0m Use standard file APIs to check for files with this prefix.\n"
     ]
    },
    {
     "name": "stdout",
     "output_type": "stream",
     "text": [
      "\u001b[2m\u001b[36m(pid=13443, ip=192.168.8.54)\u001b[0m \u001b[6;30;42mAL_Train_6\u001b[0m Epoch: 189 / 201 || Time: 2020-12-04 15:12:54 || Accuracy: 99.90 || MAE LossNet: 0.31 || \n"
     ]
    },
    {
     "name": "stderr",
     "output_type": "stream",
     "text": [
      "\u001b[2m\u001b[36m(pid=14722, ip=192.168.8.55)\u001b[0m 2020-12-04 15:12:55.549594: I tensorflow/stream_executor/dso_loader.cc:152] successfully opened CUDA library libcublas.so.10.0 locally\n"
     ]
    },
    {
     "name": "stdout",
     "output_type": "stream",
     "text": [
      "\u001b[2m\u001b[36m(pid=13443, ip=192.168.8.54)\u001b[0m \u001b[6;30;42mAL_Train_6\u001b[0m Epoch: 190 / 201 || Time: 2020-12-04 15:12:56 || Accuracy: 99.78 || MAE LossNet: 0.32 || \n",
      "\u001b[2m\u001b[36m(pid=14722, ip=192.168.8.55)\u001b[0m \u001b[6;30;42mAL_Test_6\u001b[0m Test || Epoch: 185 || Accuracy: 64.05 || \n"
     ]
    },
    {
     "name": "stderr",
     "output_type": "stream",
     "text": [
      "\u001b[2m\u001b[36m(pid=14722, ip=192.168.8.55)\u001b[0m \n",
      "\u001b[2m\u001b[36m(pid=14722, ip=192.168.8.55)\u001b[0m wandb: Waiting for W&B process to finish, PID 14745\n",
      "\u001b[2m\u001b[36m(pid=14722, ip=192.168.8.55)\u001b[0m wandb: Program ended successfully.\n",
      "\u001b[2m\u001b[36m(pid=14877, ip=192.168.8.55)\u001b[0m /home/reminiz/ReminizML2/python_env/lib/python3.7/site-packages/tensorflow/python/framework/dtypes.py:526: FutureWarning: Passing (type, 1) or '1type' as a synonym of type is deprecated; in a future version of numpy, it will be understood as (type, (1,)) / '(1,)type'.\n",
      "\u001b[2m\u001b[36m(pid=14877, ip=192.168.8.55)\u001b[0m   _np_qint8 = np.dtype([(\"qint8\", np.int8, 1)])\n",
      "\u001b[2m\u001b[36m(pid=14877, ip=192.168.8.55)\u001b[0m /home/reminiz/ReminizML2/python_env/lib/python3.7/site-packages/tensorflow/python/framework/dtypes.py:527: FutureWarning: Passing (type, 1) or '1type' as a synonym of type is deprecated; in a future version of numpy, it will be understood as (type, (1,)) / '(1,)type'.\n",
      "\u001b[2m\u001b[36m(pid=14877, ip=192.168.8.55)\u001b[0m   _np_quint8 = np.dtype([(\"quint8\", np.uint8, 1)])\n",
      "\u001b[2m\u001b[36m(pid=14877, ip=192.168.8.55)\u001b[0m /home/reminiz/ReminizML2/python_env/lib/python3.7/site-packages/tensorflow/python/framework/dtypes.py:528: FutureWarning: Passing (type, 1) or '1type' as a synonym of type is deprecated; in a future version of numpy, it will be understood as (type, (1,)) / '(1,)type'.\n",
      "\u001b[2m\u001b[36m(pid=14877, ip=192.168.8.55)\u001b[0m   _np_qint16 = np.dtype([(\"qint16\", np.int16, 1)])\n",
      "\u001b[2m\u001b[36m(pid=14877, ip=192.168.8.55)\u001b[0m /home/reminiz/ReminizML2/python_env/lib/python3.7/site-packages/tensorflow/python/framework/dtypes.py:529: FutureWarning: Passing (type, 1) or '1type' as a synonym of type is deprecated; in a future version of numpy, it will be understood as (type, (1,)) / '(1,)type'.\n",
      "\u001b[2m\u001b[36m(pid=14877, ip=192.168.8.55)\u001b[0m   _np_quint16 = np.dtype([(\"quint16\", np.uint16, 1)])\n",
      "\u001b[2m\u001b[36m(pid=14877, ip=192.168.8.55)\u001b[0m /home/reminiz/ReminizML2/python_env/lib/python3.7/site-packages/tensorflow/python/framework/dtypes.py:530: FutureWarning: Passing (type, 1) or '1type' as a synonym of type is deprecated; in a future version of numpy, it will be understood as (type, (1,)) / '(1,)type'.\n",
      "\u001b[2m\u001b[36m(pid=14877, ip=192.168.8.55)\u001b[0m   _np_qint32 = np.dtype([(\"qint32\", np.int32, 1)])\n",
      "\u001b[2m\u001b[36m(pid=14877, ip=192.168.8.55)\u001b[0m /home/reminiz/ReminizML2/python_env/lib/python3.7/site-packages/tensorflow/python/framework/dtypes.py:535: FutureWarning: Passing (type, 1) or '1type' as a synonym of type is deprecated; in a future version of numpy, it will be understood as (type, (1,)) / '(1,)type'.\n",
      "\u001b[2m\u001b[36m(pid=14877, ip=192.168.8.55)\u001b[0m   np_resource = np.dtype([(\"resource\", np.ubyte, 1)])\n"
     ]
    },
    {
     "name": "stdout",
     "output_type": "stream",
     "text": [
      "\u001b[2m\u001b[36m(pid=13443, ip=192.168.8.54)\u001b[0m \u001b[6;30;42mAL_Train_6\u001b[0m Epoch: 191 / 201 || Time: 2020-12-04 15:13:01 || Accuracy: 99.80 || MAE LossNet: 0.31 || \n"
     ]
    },
    {
     "name": "stderr",
     "output_type": "stream",
     "text": [
      "\u001b[2m\u001b[36m(pid=14722, ip=192.168.8.55)\u001b[0m wandb: Run summary:\n",
      "\u001b[2m\u001b[36m(pid=14722, ip=192.168.8.55)\u001b[0m wandb:                                     _step 185\n",
      "\u001b[2m\u001b[36m(pid=14722, ip=192.168.8.55)\u001b[0m wandb:                                  F1 score 0.6442718957427394\n",
      "\u001b[2m\u001b[36m(pid=14722, ip=192.168.8.55)\u001b[0m wandb:                                  _runtime 316.8611161708832\n",
      "\u001b[2m\u001b[36m(pid=14722, ip=192.168.8.55)\u001b[0m wandb:                                _timestamp 1607091179.041415\n",
      "\u001b[2m\u001b[36m(pid=14722, ip=192.168.8.55)\u001b[0m wandb:                     Explained variance v1 -0.07708346843719482\n",
      "\u001b[2m\u001b[36m(pid=14722, ip=192.168.8.55)\u001b[0m wandb:                     Explained variance v2 -0.05031704902648926\n",
      "\u001b[2m\u001b[36m(pid=14722, ip=192.168.8.55)\u001b[0m wandb:                     Mean squared error v1 30.650527954101562\n",
      "\u001b[2m\u001b[36m(pid=14722, ip=192.168.8.55)\u001b[0m wandb:                     Mean squared error v2 45.33929443359375\n",
      "\u001b[2m\u001b[36m(pid=14722, ip=192.168.8.55)\u001b[0m wandb:                    Mean absolute error v1 3.5804967880249023\n",
      "\u001b[2m\u001b[36m(pid=14722, ip=192.168.8.55)\u001b[0m wandb:                    Mean absolute error v2 4.783838272094727\n",
      "\u001b[2m\u001b[36m(pid=14722, ip=192.168.8.55)\u001b[0m wandb:                Area Under the Curve (AUC) 0.7773317959391514\n",
      "\u001b[2m\u001b[36m(pid=14722, ip=192.168.8.55)\u001b[0m wandb:             Test: Classification Accuracy 0.6405\n",
      "\u001b[2m\u001b[36m(pid=14722, ip=192.168.8.55)\u001b[0m wandb: Syncing files in ../../../Trainings/wandb/wandb/run-20201204_141250-32tlp2kp:\n",
      "\u001b[2m\u001b[36m(pid=14722, ip=192.168.8.55)\u001b[0m wandb:   code/default_worker.py\n",
      "\u001b[2m\u001b[36m(pid=14722, ip=192.168.8.55)\u001b[0m wandb: plus 8 W&B file(s) and 2 media file(s)\n",
      "\u001b[2m\u001b[36m(pid=14722, ip=192.168.8.55)\u001b[0m wandb: - 1.16MB of 1.16MB uploaded\n",
      "\u001b[2m\u001b[36m(pid=14722, ip=192.168.8.55)\u001b[0m wandb: \\ 1.16MB of 1.16MB uploaded\n",
      "\u001b[2m\u001b[36m(pid=14877, ip=192.168.8.55)\u001b[0m wandb: Tracking run with wandb version 0.8.36\n",
      "\u001b[2m\u001b[36m(pid=14722, ip=192.168.8.55)\u001b[0m wandb: | 1.16MB of 1.16MB uploaded\n",
      "\u001b[2m\u001b[36m(pid=14722, ip=192.168.8.55)\u001b[0m wandb: / 1.16MB of 1.16MB uploaded\n",
      "\u001b[2m\u001b[36m(pid=14722, ip=192.168.8.55)\u001b[0m wandb: - 1.16MB of 1.16MB uploaded\n",
      "\u001b[2m\u001b[36m(pid=14877, ip=192.168.8.55)\u001b[0m wandb: Wandb version 0.10.12 is available!  To upgrade, please run:\n",
      "\u001b[2m\u001b[36m(pid=14877, ip=192.168.8.55)\u001b[0m wandb:  $ pip install wandb --upgrade\n",
      "\u001b[2m\u001b[36m(pid=14877, ip=192.168.8.55)\u001b[0m wandb: Run data is saved locally in ../../../Trainings/wandb/wandb/run-20201204_141301-32tlp2kp\n",
      "\u001b[2m\u001b[36m(pid=14877, ip=192.168.8.55)\u001b[0m wandb: Syncing run AL_Test_6\n",
      "\u001b[2m\u001b[36m(pid=14877, ip=192.168.8.55)\u001b[0m wandb: ⭐️ View project at http://192.168.8.51:8080/reminiz/Active_Learning_CIFAR\n",
      "\u001b[2m\u001b[36m(pid=14877, ip=192.168.8.55)\u001b[0m wandb: 🚀 View run at http://192.168.8.51:8080/reminiz/Active_Learning_CIFAR/runs/32tlp2kp\n",
      "\u001b[2m\u001b[36m(pid=14877, ip=192.168.8.55)\u001b[0m wandb: Run `wandb off` to turn off syncing.\n"
     ]
    },
    {
     "name": "stdout",
     "output_type": "stream",
     "text": [
      "\u001b[2m\u001b[36m(pid=13443, ip=192.168.8.54)\u001b[0m \u001b[6;30;42mAL_Train_6\u001b[0m Epoch: 192 / 201 || Time: 2020-12-04 15:13:02 || Accuracy: 99.90 || MAE LossNet: 0.30 || \n"
     ]
    },
    {
     "name": "stderr",
     "output_type": "stream",
     "text": [
      "wandb:                                                                                \n",
      "\u001b[2m\u001b[36m(pid=14722, ip=192.168.8.55)\u001b[0m wandb: Synced AL_Test_6: http://192.168.8.51:8080/reminiz/Active_Learning_CIFAR/runs/32tlp2kp\n",
      "\u001b[2m\u001b[36m(pid=14877, ip=192.168.8.55)\u001b[0m \n"
     ]
    },
    {
     "name": "stdout",
     "output_type": "stream",
     "text": [
      "\u001b[2m\u001b[36m(pid=14877, ip=192.168.8.55)\u001b[0m CIFAR10 Training data shape: (50000, 32, 32, 3)\n",
      "\u001b[2m\u001b[36m(pid=14877, ip=192.168.8.55)\u001b[0m CIFAR10 Training label shape (50000, 1)\n",
      "\u001b[2m\u001b[36m(pid=14877, ip=192.168.8.55)\u001b[0m CIFAR10 Test data shape (10000, 32, 32, 3)\n",
      "\u001b[2m\u001b[36m(pid=14877, ip=192.168.8.55)\u001b[0m CIFAR10 Test label shape (10000, 1)\n",
      "\u001b[2m\u001b[36m(pid=13443, ip=192.168.8.54)\u001b[0m \u001b[6;30;42mAL_Train_6\u001b[0m Epoch: 193 / 201 || Time: 2020-12-04 15:13:04 || Accuracy: 100.00 || MAE LossNet: 0.33 || \n"
     ]
    },
    {
     "name": "stderr",
     "output_type": "stream",
     "text": [
      "\u001b[2m\u001b[36m(pid=14877, ip=192.168.8.55)\u001b[0m WARNING:tensorflow:From /home/reminiz/ReminizML2/python_env/lib/python3.7/site-packages/tensorflow/python/data/ops/dataset_ops.py:429: py_func (from tensorflow.python.ops.script_ops) is deprecated and will be removed in a future version.\n",
      "\u001b[2m\u001b[36m(pid=14877, ip=192.168.8.55)\u001b[0m Instructions for updating:\n",
      "\u001b[2m\u001b[36m(pid=14877, ip=192.168.8.55)\u001b[0m tf.py_func is deprecated in TF V2. Instead, use\n",
      "\u001b[2m\u001b[36m(pid=14877, ip=192.168.8.55)\u001b[0m     tf.py_function, which takes a python function which manipulates tf eager\n",
      "\u001b[2m\u001b[36m(pid=14877, ip=192.168.8.55)\u001b[0m     tensors instead of numpy arrays. It's easy to convert a tf eager tensor to\n",
      "\u001b[2m\u001b[36m(pid=14877, ip=192.168.8.55)\u001b[0m     an ndarray (just call tensor.numpy()) but having access to eager tensors\n",
      "\u001b[2m\u001b[36m(pid=14877, ip=192.168.8.55)\u001b[0m     means `tf.py_function`s can use accelerators such as GPUs as well as\n",
      "\u001b[2m\u001b[36m(pid=14877, ip=192.168.8.55)\u001b[0m     being differentiable using a gradient tape.\n",
      "\u001b[2m\u001b[36m(pid=14877, ip=192.168.8.55)\u001b[0m     \n",
      "\u001b[2m\u001b[36m(pid=14877, ip=192.168.8.55)\u001b[0m WARNING:tensorflow:From /home/reminiz/ReminizML2/python_env/lib/python3.7/site-packages/tensorflow/python/ops/resource_variable_ops.py:435: colocate_with (from tensorflow.python.framework.ops) is deprecated and will be removed in a future version.\n",
      "\u001b[2m\u001b[36m(pid=14877, ip=192.168.8.55)\u001b[0m Instructions for updating:\n",
      "\u001b[2m\u001b[36m(pid=14877, ip=192.168.8.55)\u001b[0m Colocations handled automatically by placer.\n",
      "\u001b[2m\u001b[36m(pid=14877, ip=192.168.8.55)\u001b[0m 2020-12-04 15:13:05.544367: I tensorflow/core/platform/cpu_feature_guard.cc:141] Your CPU supports instructions that this TensorFlow binary was not compiled to use: AVX2 FMA\n",
      "\u001b[2m\u001b[36m(pid=14877, ip=192.168.8.55)\u001b[0m 2020-12-04 15:13:05.572301: I tensorflow/core/platform/profile_utils/cpu_utils.cc:94] CPU Frequency: 3599935000 Hz\n",
      "\u001b[2m\u001b[36m(pid=14877, ip=192.168.8.55)\u001b[0m 2020-12-04 15:13:05.573058: I tensorflow/compiler/xla/service/service.cc:150] XLA service 0x6602da0 executing computations on platform Host. Devices:\n",
      "\u001b[2m\u001b[36m(pid=14877, ip=192.168.8.55)\u001b[0m 2020-12-04 15:13:05.573087: I tensorflow/compiler/xla/service/service.cc:158]   StreamExecutor device (0): <undefined>, <undefined>\n",
      "\u001b[2m\u001b[36m(pid=14877, ip=192.168.8.55)\u001b[0m 2020-12-04 15:13:05.662153: I tensorflow/compiler/xla/service/service.cc:150] XLA service 0x6608420 executing computations on platform CUDA. Devices:\n",
      "\u001b[2m\u001b[36m(pid=14877, ip=192.168.8.55)\u001b[0m 2020-12-04 15:13:05.662191: I tensorflow/compiler/xla/service/service.cc:158]   StreamExecutor device (0): GeForce GTX 1080 Ti, Compute Capability 6.1\n",
      "\u001b[2m\u001b[36m(pid=14877, ip=192.168.8.55)\u001b[0m 2020-12-04 15:13:05.662347: I tensorflow/core/common_runtime/gpu/gpu_device.cc:1433] Found device 0 with properties: \n",
      "\u001b[2m\u001b[36m(pid=14877, ip=192.168.8.55)\u001b[0m name: GeForce GTX 1080 Ti major: 6 minor: 1 memoryClockRate(GHz): 1.62\n",
      "\u001b[2m\u001b[36m(pid=14877, ip=192.168.8.55)\u001b[0m pciBusID: 0000:4c:00.0\n",
      "\u001b[2m\u001b[36m(pid=14877, ip=192.168.8.55)\u001b[0m totalMemory: 10.91GiB freeMemory: 10.77GiB\n",
      "\u001b[2m\u001b[36m(pid=14877, ip=192.168.8.55)\u001b[0m 2020-12-04 15:13:05.662369: I tensorflow/core/common_runtime/gpu/gpu_device.cc:1512] Adding visible gpu devices: 0\n",
      "\u001b[2m\u001b[36m(pid=14877, ip=192.168.8.55)\u001b[0m 2020-12-04 15:13:05.664146: I tensorflow/core/common_runtime/gpu/gpu_device.cc:984] Device interconnect StreamExecutor with strength 1 edge matrix:\n",
      "\u001b[2m\u001b[36m(pid=14877, ip=192.168.8.55)\u001b[0m 2020-12-04 15:13:05.664168: I tensorflow/core/common_runtime/gpu/gpu_device.cc:990]      0 \n",
      "\u001b[2m\u001b[36m(pid=14877, ip=192.168.8.55)\u001b[0m 2020-12-04 15:13:05.664176: I tensorflow/core/common_runtime/gpu/gpu_device.cc:1003] 0:   N \n",
      "\u001b[2m\u001b[36m(pid=14877, ip=192.168.8.55)\u001b[0m 2020-12-04 15:13:05.664276: I tensorflow/core/common_runtime/gpu/gpu_device.cc:1115] Created TensorFlow device (/job:localhost/replica:0/task:0/device:GPU:0 with 10479 MB memory) -> physical GPU (device: 0, name: GeForce GTX 1080 Ti, pci bus id: 0000:4c:00.0, compute capability: 6.1)\n"
     ]
    },
    {
     "name": "stdout",
     "output_type": "stream",
     "text": [
      "\u001b[2m\u001b[36m(pid=13443, ip=192.168.8.54)\u001b[0m \u001b[6;30;42mAL_Train_6\u001b[0m Epoch: 194 / 201 || Time: 2020-12-04 15:13:05 || Accuracy: 100.00 || MAE LossNet: 0.30 || \n",
      "\u001b[2m\u001b[36m(pid=14877, ip=192.168.8.55)\u001b[0m \u001b[6;30;42mAL_Test_6\u001b[0m Restoring from /mnt/Ressources/Andres/Temp_active/runs/Active_Learning_v0/Stage_6/checkpoint/epoch190.ckpt-190\n"
     ]
    },
    {
     "name": "stderr",
     "output_type": "stream",
     "text": [
      "\u001b[2m\u001b[36m(pid=14877, ip=192.168.8.55)\u001b[0m WARNING:tensorflow:From /home/reminiz/ReminizML2/python_env/lib/python3.7/site-packages/tensorflow/python/training/saver.py:1266: checkpoint_exists (from tensorflow.python.training.checkpoint_management) is deprecated and will be removed in a future version.\n",
      "\u001b[2m\u001b[36m(pid=14877, ip=192.168.8.55)\u001b[0m Instructions for updating:\n",
      "\u001b[2m\u001b[36m(pid=14877, ip=192.168.8.55)\u001b[0m Use standard file APIs to check for files with this prefix.\n",
      "\u001b[2m\u001b[36m(pid=14877, ip=192.168.8.55)\u001b[0m 2020-12-04 15:13:07.162017: I tensorflow/stream_executor/dso_loader.cc:152] successfully opened CUDA library libcublas.so.10.0 locally\n"
     ]
    },
    {
     "name": "stdout",
     "output_type": "stream",
     "text": [
      "\u001b[2m\u001b[36m(pid=13443, ip=192.168.8.54)\u001b[0m \u001b[6;30;42mAL_Train_6\u001b[0m \n",
      "\u001b[2m\u001b[36m(pid=13443, ip=192.168.8.54)\u001b[0m Epoch: 195 / 201 || Time: 2020-12-04 15:13:07 || Accuracy: 100.00 || MAE LossNet: 0.28 || \n"
     ]
    },
    {
     "name": "stderr",
     "output_type": "stream",
     "text": [
      "\u001b[2m\u001b[36m(pid=15039, ip=192.168.8.55)\u001b[0m /home/reminiz/ReminizML2/python_env/lib/python3.7/site-packages/tensorflow/python/framework/dtypes.py:526: FutureWarning: Passing (type, 1) or '1type' as a synonym of type is deprecated; in a future version of numpy, it will be understood as (type, (1,)) / '(1,)type'.\n",
      "\u001b[2m\u001b[36m(pid=15039, ip=192.168.8.55)\u001b[0m   _np_qint8 = np.dtype([(\"qint8\", np.int8, 1)])\n",
      "\u001b[2m\u001b[36m(pid=15039, ip=192.168.8.55)\u001b[0m /home/reminiz/ReminizML2/python_env/lib/python3.7/site-packages/tensorflow/python/framework/dtypes.py:527: FutureWarning: Passing (type, 1) or '1type' as a synonym of type is deprecated; in a future version of numpy, it will be understood as (type, (1,)) / '(1,)type'.\n",
      "\u001b[2m\u001b[36m(pid=15039, ip=192.168.8.55)\u001b[0m   _np_quint8 = np.dtype([(\"quint8\", np.uint8, 1)])\n",
      "\u001b[2m\u001b[36m(pid=15039, ip=192.168.8.55)\u001b[0m /home/reminiz/ReminizML2/python_env/lib/python3.7/site-packages/tensorflow/python/framework/dtypes.py:528: FutureWarning: Passing (type, 1) or '1type' as a synonym of type is deprecated; in a future version of numpy, it will be understood as (type, (1,)) / '(1,)type'.\n",
      "\u001b[2m\u001b[36m(pid=15039, ip=192.168.8.55)\u001b[0m   _np_qint16 = np.dtype([(\"qint16\", np.int16, 1)])\n",
      "\u001b[2m\u001b[36m(pid=15039, ip=192.168.8.55)\u001b[0m /home/reminiz/ReminizML2/python_env/lib/python3.7/site-packages/tensorflow/python/framework/dtypes.py:529: FutureWarning: Passing (type, 1) or '1type' as a synonym of type is deprecated; in a future version of numpy, it will be understood as (type, (1,)) / '(1,)type'.\n",
      "\u001b[2m\u001b[36m(pid=15039, ip=192.168.8.55)\u001b[0m   _np_quint16 = np.dtype([(\"quint16\", np.uint16, 1)])\n",
      "\u001b[2m\u001b[36m(pid=15039, ip=192.168.8.55)\u001b[0m /home/reminiz/ReminizML2/python_env/lib/python3.7/site-packages/tensorflow/python/framework/dtypes.py:530: FutureWarning: Passing (type, 1) or '1type' as a synonym of type is deprecated; in a future version of numpy, it will be understood as (type, (1,)) / '(1,)type'.\n",
      "\u001b[2m\u001b[36m(pid=15039, ip=192.168.8.55)\u001b[0m   _np_qint32 = np.dtype([(\"qint32\", np.int32, 1)])\n",
      "\u001b[2m\u001b[36m(pid=15039, ip=192.168.8.55)\u001b[0m /home/reminiz/ReminizML2/python_env/lib/python3.7/site-packages/tensorflow/python/framework/dtypes.py:535: FutureWarning: Passing (type, 1) or '1type' as a synonym of type is deprecated; in a future version of numpy, it will be understood as (type, (1,)) / '(1,)type'.\n",
      "\u001b[2m\u001b[36m(pid=15039, ip=192.168.8.55)\u001b[0m   np_resource = np.dtype([(\"resource\", np.ubyte, 1)])\n"
     ]
    },
    {
     "name": "stdout",
     "output_type": "stream",
     "text": [
      "\u001b[2m\u001b[36m(pid=14877, ip=192.168.8.55)\u001b[0m \u001b[6;30;42mAL_Test_6\u001b[0m Test || Epoch: 190 || Accuracy: 64.94 || \n"
     ]
    },
    {
     "name": "stderr",
     "output_type": "stream",
     "text": [
      "\u001b[2m\u001b[36m(pid=14877, ip=192.168.8.55)\u001b[0m \n",
      "\u001b[2m\u001b[36m(pid=14877, ip=192.168.8.55)\u001b[0m wandb: Waiting for W&B process to finish, PID 14903\n",
      "\u001b[2m\u001b[36m(pid=14877, ip=192.168.8.55)\u001b[0m wandb: Program ended successfully.\n",
      "\u001b[2m\u001b[36m(pid=24168, ip=192.168.8.53)\u001b[0m /home/reminiz/ReminizML2/python_env/lib/python3.7/site-packages/tensorflow/python/framework/dtypes.py:526: FutureWarning: Passing (type, 1) or '1type' as a synonym of type is deprecated; in a future version of numpy, it will be understood as (type, (1,)) / '(1,)type'.\n",
      "\u001b[2m\u001b[36m(pid=24168, ip=192.168.8.53)\u001b[0m   _np_qint8 = np.dtype([(\"qint8\", np.int8, 1)])\n",
      "\u001b[2m\u001b[36m(pid=24168, ip=192.168.8.53)\u001b[0m /home/reminiz/ReminizML2/python_env/lib/python3.7/site-packages/tensorflow/python/framework/dtypes.py:527: FutureWarning: Passing (type, 1) or '1type' as a synonym of type is deprecated; in a future version of numpy, it will be understood as (type, (1,)) / '(1,)type'.\n",
      "\u001b[2m\u001b[36m(pid=24168, ip=192.168.8.53)\u001b[0m   _np_quint8 = np.dtype([(\"quint8\", np.uint8, 1)])\n",
      "\u001b[2m\u001b[36m(pid=24168, ip=192.168.8.53)\u001b[0m /home/reminiz/ReminizML2/python_env/lib/python3.7/site-packages/tensorflow/python/framework/dtypes.py:528: FutureWarning: Passing (type, 1) or '1type' as a synonym of type is deprecated; in a future version of numpy, it will be understood as (type, (1,)) / '(1,)type'.\n",
      "\u001b[2m\u001b[36m(pid=24168, ip=192.168.8.53)\u001b[0m   _np_qint16 = np.dtype([(\"qint16\", np.int16, 1)])\n",
      "\u001b[2m\u001b[36m(pid=24168, ip=192.168.8.53)\u001b[0m /home/reminiz/ReminizML2/python_env/lib/python3.7/site-packages/tensorflow/python/framework/dtypes.py:529: FutureWarning: Passing (type, 1) or '1type' as a synonym of type is deprecated; in a future version of numpy, it will be understood as (type, (1,)) / '(1,)type'.\n",
      "\u001b[2m\u001b[36m(pid=24168, ip=192.168.8.53)\u001b[0m   _np_quint16 = np.dtype([(\"quint16\", np.uint16, 1)])\n",
      "\u001b[2m\u001b[36m(pid=24168, ip=192.168.8.53)\u001b[0m /home/reminiz/ReminizML2/python_env/lib/python3.7/site-packages/tensorflow/python/framework/dtypes.py:530: FutureWarning: Passing (type, 1) or '1type' as a synonym of type is deprecated; in a future version of numpy, it will be understood as (type, (1,)) / '(1,)type'.\n",
      "\u001b[2m\u001b[36m(pid=24168, ip=192.168.8.53)\u001b[0m   _np_qint32 = np.dtype([(\"qint32\", np.int32, 1)])\n",
      "\u001b[2m\u001b[36m(pid=24168, ip=192.168.8.53)\u001b[0m /home/reminiz/ReminizML2/python_env/lib/python3.7/site-packages/tensorflow/python/framework/dtypes.py:535: FutureWarning: Passing (type, 1) or '1type' as a synonym of type is deprecated; in a future version of numpy, it will be understood as (type, (1,)) / '(1,)type'.\n",
      "\u001b[2m\u001b[36m(pid=24168, ip=192.168.8.53)\u001b[0m   np_resource = np.dtype([(\"resource\", np.ubyte, 1)])\n"
     ]
    },
    {
     "name": "stdout",
     "output_type": "stream",
     "text": [
      "\u001b[2m\u001b[36m(pid=13443, ip=192.168.8.54)\u001b[0m \u001b[6;30;42mAL_Train_6\u001b[0m Epoch: 196 / 201 || Time: 2020-12-04 15:13:12 || Accuracy: 100.00 || MAE LossNet: 0.31 || \n"
     ]
    },
    {
     "name": "stderr",
     "output_type": "stream",
     "text": [
      "\u001b[2m\u001b[36m(pid=14877, ip=192.168.8.55)\u001b[0m wandb: Run summary:\n",
      "\u001b[2m\u001b[36m(pid=14877, ip=192.168.8.55)\u001b[0m wandb:                                     _step 190\n",
      "\u001b[2m\u001b[36m(pid=14877, ip=192.168.8.55)\u001b[0m wandb:                                  F1 score 0.6505634778243252\n",
      "\u001b[2m\u001b[36m(pid=14877, ip=192.168.8.55)\u001b[0m wandb:                                  _runtime 325.94233536720276\n",
      "\u001b[2m\u001b[36m(pid=14877, ip=192.168.8.55)\u001b[0m wandb:                                _timestamp 1607091190.7369385\n",
      "\u001b[2m\u001b[36m(pid=14877, ip=192.168.8.55)\u001b[0m wandb:                     Explained variance v1 -0.07672059535980225\n",
      "\u001b[2m\u001b[36m(pid=14877, ip=192.168.8.55)\u001b[0m wandb:                     Explained variance v2 -0.045299649238586426\n",
      "\u001b[2m\u001b[36m(pid=14877, ip=192.168.8.55)\u001b[0m wandb:                     Mean squared error v1 31.418684005737305\n",
      "\u001b[2m\u001b[36m(pid=14877, ip=192.168.8.55)\u001b[0m wandb:                     Mean squared error v2 45.99895095825195\n",
      "\u001b[2m\u001b[36m(pid=14877, ip=192.168.8.55)\u001b[0m wandb:                    Mean absolute error v1 3.6747519969940186\n",
      "\u001b[2m\u001b[36m(pid=14877, ip=192.168.8.55)\u001b[0m wandb:                    Mean absolute error v2 4.842472553253174\n",
      "\u001b[2m\u001b[36m(pid=14877, ip=192.168.8.55)\u001b[0m wandb:                Area Under the Curve (AUC) 0.775815044331588\n",
      "\u001b[2m\u001b[36m(pid=14877, ip=192.168.8.55)\u001b[0m wandb:             Test: Classification Accuracy 0.6494\n",
      "\u001b[2m\u001b[36m(pid=14877, ip=192.168.8.55)\u001b[0m wandb: Syncing files in ../../../Trainings/wandb/wandb/run-20201204_141301-32tlp2kp:\n",
      "\u001b[2m\u001b[36m(pid=14877, ip=192.168.8.55)\u001b[0m wandb:   code/default_worker.py\n",
      "\u001b[2m\u001b[36m(pid=14877, ip=192.168.8.55)\u001b[0m wandb: plus 8 W&B file(s) and 2 media file(s)\n",
      "\u001b[2m\u001b[36m(pid=14877, ip=192.168.8.55)\u001b[0m wandb: - 1.31MB of 1.31MB uploaded\n",
      "\u001b[2m\u001b[36m(pid=24168, ip=192.168.8.53)\u001b[0m wandb: Tracking run with wandb version 0.8.36\n",
      "\u001b[2m\u001b[36m(pid=14877, ip=192.168.8.55)\u001b[0m wandb: \\ 1.31MB of 1.31MB uploaded\n",
      "\u001b[2m\u001b[36m(pid=14877, ip=192.168.8.55)\u001b[0m wandb: | 1.31MB of 1.31MB uploaded\n",
      "\u001b[2m\u001b[36m(pid=14877, ip=192.168.8.55)\u001b[0m wandb: / 1.31MB of 1.31MB uploaded\n",
      "\u001b[2m\u001b[36m(pid=24168, ip=192.168.8.53)\u001b[0m wandb: Wandb version 0.10.12 is available!  To upgrade, please run:\n",
      "\u001b[2m\u001b[36m(pid=24168, ip=192.168.8.53)\u001b[0m wandb:  $ pip install wandb --upgrade\n",
      "\u001b[2m\u001b[36m(pid=24168, ip=192.168.8.53)\u001b[0m wandb: Run data is saved locally in ../../../Trainings/wandb/wandb/run-20201204_141312-32tlp2kp\n",
      "\u001b[2m\u001b[36m(pid=24168, ip=192.168.8.53)\u001b[0m wandb: Syncing run AL_Test_6\n",
      "\u001b[2m\u001b[36m(pid=24168, ip=192.168.8.53)\u001b[0m wandb: ⭐️ View project at http://192.168.8.51:8080/reminiz/Active_Learning_CIFAR\n",
      "\u001b[2m\u001b[36m(pid=24168, ip=192.168.8.53)\u001b[0m wandb: 🚀 View run at http://192.168.8.51:8080/reminiz/Active_Learning_CIFAR/runs/32tlp2kp\n",
      "\u001b[2m\u001b[36m(pid=24168, ip=192.168.8.53)\u001b[0m wandb: Run `wandb off` to turn off syncing.\n",
      "\u001b[2m\u001b[36m(pid=14877, ip=192.168.8.55)\u001b[0m wandb: - 1.31MB of 1.31MB uploaded\n",
      "\u001b[2m\u001b[36m(pid=24168, ip=192.168.8.53)\u001b[0m \n"
     ]
    },
    {
     "name": "stdout",
     "output_type": "stream",
     "text": [
      "\u001b[2m\u001b[36m(pid=13443, ip=192.168.8.54)\u001b[0m \u001b[6;30;42mAL_Train_6\u001b[0m Epoch: 197 / 201 || Time: 2020-12-04 15:13:13 || Accuracy: 100.00 || MAE LossNet: 0.27 || \n"
     ]
    },
    {
     "name": "stderr",
     "output_type": "stream",
     "text": [
      "wandb:                                                                                \n",
      "\u001b[2m\u001b[36m(pid=14877, ip=192.168.8.55)\u001b[0m wandb: Synced AL_Test_6: http://192.168.8.51:8080/reminiz/Active_Learning_CIFAR/runs/32tlp2kp\n"
     ]
    },
    {
     "name": "stdout",
     "output_type": "stream",
     "text": [
      "\u001b[2m\u001b[36m(pid=24168, ip=192.168.8.53)\u001b[0m CIFAR10 Training data shape: (50000, 32, 32, 3)\n",
      "\u001b[2m\u001b[36m(pid=24168, ip=192.168.8.53)\u001b[0m CIFAR10 Training label shape (50000, 1)\n",
      "\u001b[2m\u001b[36m(pid=24168, ip=192.168.8.53)\u001b[0m CIFAR10 Test data shape (10000, 32, 32, 3)\n",
      "\u001b[2m\u001b[36m(pid=24168, ip=192.168.8.53)\u001b[0m CIFAR10 Test label shape (10000, 1)\n"
     ]
    },
    {
     "name": "stderr",
     "output_type": "stream",
     "text": [
      "\u001b[2m\u001b[36m(pid=24168, ip=192.168.8.53)\u001b[0m WARNING:tensorflow:From /home/reminiz/ReminizML2/python_env/lib/python3.7/site-packages/tensorflow/python/data/ops/dataset_ops.py:429: py_func (from tensorflow.python.ops.script_ops) is deprecated and will be removed in a future version.\n",
      "\u001b[2m\u001b[36m(pid=24168, ip=192.168.8.53)\u001b[0m Instructions for updating:\n",
      "\u001b[2m\u001b[36m(pid=24168, ip=192.168.8.53)\u001b[0m tf.py_func is deprecated in TF V2. Instead, use\n",
      "\u001b[2m\u001b[36m(pid=24168, ip=192.168.8.53)\u001b[0m     tf.py_function, which takes a python function which manipulates tf eager\n",
      "\u001b[2m\u001b[36m(pid=24168, ip=192.168.8.53)\u001b[0m     tensors instead of numpy arrays. It's easy to convert a tf eager tensor to\n",
      "\u001b[2m\u001b[36m(pid=24168, ip=192.168.8.53)\u001b[0m     an ndarray (just call tensor.numpy()) but having access to eager tensors\n",
      "\u001b[2m\u001b[36m(pid=24168, ip=192.168.8.53)\u001b[0m     means `tf.py_function`s can use accelerators such as GPUs as well as\n",
      "\u001b[2m\u001b[36m(pid=24168, ip=192.168.8.53)\u001b[0m     being differentiable using a gradient tape.\n",
      "\u001b[2m\u001b[36m(pid=24168, ip=192.168.8.53)\u001b[0m     \n",
      "\u001b[2m\u001b[36m(pid=24168, ip=192.168.8.53)\u001b[0m WARNING:tensorflow:From /home/reminiz/ReminizML2/python_env/lib/python3.7/site-packages/tensorflow/python/ops/resource_variable_ops.py:435: colocate_with (from tensorflow.python.framework.ops) is deprecated and will be removed in a future version.\n",
      "\u001b[2m\u001b[36m(pid=24168, ip=192.168.8.53)\u001b[0m Instructions for updating:\n",
      "\u001b[2m\u001b[36m(pid=24168, ip=192.168.8.53)\u001b[0m Colocations handled automatically by placer.\n"
     ]
    },
    {
     "name": "stdout",
     "output_type": "stream",
     "text": [
      "\u001b[2m\u001b[36m(pid=13443, ip=192.168.8.54)\u001b[0m \u001b[6;30;42mAL_Train_6\u001b[0m Epoch: 198 / 201 || Time: 2020-12-04 15:13:15 || Accuracy: 99.90 || MAE LossNet: 0.28 || \n"
     ]
    },
    {
     "name": "stderr",
     "output_type": "stream",
     "text": [
      "\u001b[2m\u001b[36m(pid=24168, ip=192.168.8.53)\u001b[0m 2020-12-04 15:13:16.487055: I tensorflow/core/platform/cpu_feature_guard.cc:141] Your CPU supports instructions that this TensorFlow binary was not compiled to use: AVX2 FMA\n",
      "\u001b[2m\u001b[36m(pid=24168, ip=192.168.8.53)\u001b[0m 2020-12-04 15:13:16.509105: I tensorflow/core/platform/profile_utils/cpu_utils.cc:94] CPU Frequency: 3499950000 Hz\n",
      "\u001b[2m\u001b[36m(pid=24168, ip=192.168.8.53)\u001b[0m 2020-12-04 15:13:16.509848: I tensorflow/compiler/xla/service/service.cc:150] XLA service 0x5653c7403fc0 executing computations on platform Host. Devices:\n",
      "\u001b[2m\u001b[36m(pid=24168, ip=192.168.8.53)\u001b[0m 2020-12-04 15:13:16.509888: I tensorflow/compiler/xla/service/service.cc:158]   StreamExecutor device (0): <undefined>, <undefined>\n",
      "\u001b[2m\u001b[36m(pid=24168, ip=192.168.8.53)\u001b[0m 2020-12-04 15:13:16.632947: I tensorflow/compiler/xla/service/service.cc:150] XLA service 0x5653c6094cf0 executing computations on platform CUDA. Devices:\n",
      "\u001b[2m\u001b[36m(pid=24168, ip=192.168.8.53)\u001b[0m 2020-12-04 15:13:16.632988: I tensorflow/compiler/xla/service/service.cc:158]   StreamExecutor device (0): GeForce GTX TITAN X, Compute Capability 5.2\n",
      "\u001b[2m\u001b[36m(pid=24168, ip=192.168.8.53)\u001b[0m 2020-12-04 15:13:16.633161: I tensorflow/core/common_runtime/gpu/gpu_device.cc:1433] Found device 0 with properties: \n",
      "\u001b[2m\u001b[36m(pid=24168, ip=192.168.8.53)\u001b[0m name: GeForce GTX TITAN X major: 5 minor: 2 memoryClockRate(GHz): 1.266\n",
      "\u001b[2m\u001b[36m(pid=24168, ip=192.168.8.53)\u001b[0m pciBusID: 0000:03:00.0\n",
      "\u001b[2m\u001b[36m(pid=24168, ip=192.168.8.53)\u001b[0m totalMemory: 11.92GiB freeMemory: 11.78GiB\n",
      "\u001b[2m\u001b[36m(pid=24168, ip=192.168.8.53)\u001b[0m 2020-12-04 15:13:16.633190: I tensorflow/core/common_runtime/gpu/gpu_device.cc:1512] Adding visible gpu devices: 0\n",
      "\u001b[2m\u001b[36m(pid=24168, ip=192.168.8.53)\u001b[0m 2020-12-04 15:13:16.636096: I tensorflow/core/common_runtime/gpu/gpu_device.cc:984] Device interconnect StreamExecutor with strength 1 edge matrix:\n",
      "\u001b[2m\u001b[36m(pid=24168, ip=192.168.8.53)\u001b[0m 2020-12-04 15:13:16.636122: I tensorflow/core/common_runtime/gpu/gpu_device.cc:990]      0 \n",
      "\u001b[2m\u001b[36m(pid=24168, ip=192.168.8.53)\u001b[0m 2020-12-04 15:13:16.636139: I tensorflow/core/common_runtime/gpu/gpu_device.cc:1003] 0:   N \n",
      "\u001b[2m\u001b[36m(pid=24168, ip=192.168.8.53)\u001b[0m 2020-12-04 15:13:16.636241: I tensorflow/core/common_runtime/gpu/gpu_device.cc:1115] Created TensorFlow device (/job:localhost/replica:0/task:0/device:GPU:0 with 11462 MB memory) -> physical GPU (device: 0, name: GeForce GTX TITAN X, pci bus id: 0000:03:00.0, compute capability: 5.2)\n",
      "\u001b[2m\u001b[36m(pid=24168, ip=192.168.8.53)\u001b[0m WARNING:tensorflow:From /home/reminiz/ReminizML2/python_env/lib/python3.7/site-packages/tensorflow/python/training/saver.py:1266: checkpoint_exists (from tensorflow.python.training.checkpoint_management) is deprecated and will be removed in a future version.\n",
      "\u001b[2m\u001b[36m(pid=24168, ip=192.168.8.53)\u001b[0m Instructions for updating:\n",
      "\u001b[2m\u001b[36m(pid=24168, ip=192.168.8.53)\u001b[0m Use standard file APIs to check for files with this prefix.\n"
     ]
    },
    {
     "name": "stdout",
     "output_type": "stream",
     "text": [
      "\u001b[2m\u001b[36m(pid=24168, ip=192.168.8.53)\u001b[0m \u001b[6;30;42mAL_Test_6\u001b[0m Restoring from /mnt/Ressources/Andres/Temp_active/runs/Active_Learning_v0/Stage_6/checkpoint/epoch195.ckpt-195\n",
      "\u001b[2m\u001b[36m(pid=13443, ip=192.168.8.54)\u001b[0m \u001b[6;30;42mAL_Train_6\u001b[0m Epoch: 199 / 201 || Time: 2020-12-04 15:13:16 || Accuracy: 99.90 || MAE LossNet: 0.27 || \n",
      "\u001b[2m\u001b[36m(pid=13443, ip=192.168.8.54)\u001b[0m \u001b[6;30;42mAL_Train_6\u001b[0m Epoch: 200 / 201 || Time: 2020-12-04 15:13:18 || Accuracy: 99.88 || MAE LossNet: 0.27 || \n"
     ]
    },
    {
     "name": "stderr",
     "output_type": "stream",
     "text": [
      "\u001b[2m\u001b[36m(pid=24168, ip=192.168.8.53)\u001b[0m 2020-12-04 15:13:18.820984: I tensorflow/stream_executor/dso_loader.cc:152] successfully opened CUDA library libcublas.so.10.0 locally\n",
      "\u001b[2m\u001b[36m(pid=13443, ip=192.168.8.54)\u001b[0m WARNING:tensorflow:From /home/reminiz/ReminizML2/python_env/lib/python3.7/site-packages/tensorflow/python/training/saver.py:966: remove_checkpoint (from tensorflow.python.training.checkpoint_management) is deprecated and will be removed in a future version.\n",
      "\u001b[2m\u001b[36m(pid=13443, ip=192.168.8.54)\u001b[0m Instructions for updating:\n",
      "\u001b[2m\u001b[36m(pid=13443, ip=192.168.8.54)\u001b[0m Use standard file APIs to delete files with this prefix.\n"
     ]
    },
    {
     "name": "stdout",
     "output_type": "stream",
     "text": [
      "\u001b[2m\u001b[36m(pid=24168, ip=192.168.8.53)\u001b[0m \u001b[6;30;42mAL_Test_6\u001b[0m Test || Epoch: 195 || Accuracy: 65.55 || \n"
     ]
    },
    {
     "name": "stderr",
     "output_type": "stream",
     "text": [
      "\u001b[2m\u001b[36m(pid=24168, ip=192.168.8.53)\u001b[0m \n",
      "\u001b[2m\u001b[36m(pid=24168, ip=192.168.8.53)\u001b[0m wandb: Waiting for W&B process to finish, PID 24428\n",
      "\u001b[2m\u001b[36m(pid=24168, ip=192.168.8.53)\u001b[0m wandb: Program ended successfully.\n",
      "\u001b[2m\u001b[36m(pid=15046, ip=192.168.8.55)\u001b[0m /home/reminiz/ReminizML2/python_env/lib/python3.7/site-packages/tensorflow/python/framework/dtypes.py:526: FutureWarning: Passing (type, 1) or '1type' as a synonym of type is deprecated; in a future version of numpy, it will be understood as (type, (1,)) / '(1,)type'.\n",
      "\u001b[2m\u001b[36m(pid=15046, ip=192.168.8.55)\u001b[0m   _np_qint8 = np.dtype([(\"qint8\", np.int8, 1)])\n",
      "\u001b[2m\u001b[36m(pid=15046, ip=192.168.8.55)\u001b[0m /home/reminiz/ReminizML2/python_env/lib/python3.7/site-packages/tensorflow/python/framework/dtypes.py:527: FutureWarning: Passing (type, 1) or '1type' as a synonym of type is deprecated; in a future version of numpy, it will be understood as (type, (1,)) / '(1,)type'.\n",
      "\u001b[2m\u001b[36m(pid=15046, ip=192.168.8.55)\u001b[0m   _np_quint8 = np.dtype([(\"quint8\", np.uint8, 1)])\n",
      "\u001b[2m\u001b[36m(pid=15046, ip=192.168.8.55)\u001b[0m /home/reminiz/ReminizML2/python_env/lib/python3.7/site-packages/tensorflow/python/framework/dtypes.py:528: FutureWarning: Passing (type, 1) or '1type' as a synonym of type is deprecated; in a future version of numpy, it will be understood as (type, (1,)) / '(1,)type'.\n",
      "\u001b[2m\u001b[36m(pid=15046, ip=192.168.8.55)\u001b[0m   _np_qint16 = np.dtype([(\"qint16\", np.int16, 1)])\n",
      "\u001b[2m\u001b[36m(pid=15046, ip=192.168.8.55)\u001b[0m /home/reminiz/ReminizML2/python_env/lib/python3.7/site-packages/tensorflow/python/framework/dtypes.py:529: FutureWarning: Passing (type, 1) or '1type' as a synonym of type is deprecated; in a future version of numpy, it will be understood as (type, (1,)) / '(1,)type'.\n",
      "\u001b[2m\u001b[36m(pid=15046, ip=192.168.8.55)\u001b[0m   _np_quint16 = np.dtype([(\"quint16\", np.uint16, 1)])\n",
      "\u001b[2m\u001b[36m(pid=15046, ip=192.168.8.55)\u001b[0m /home/reminiz/ReminizML2/python_env/lib/python3.7/site-packages/tensorflow/python/framework/dtypes.py:530: FutureWarning: Passing (type, 1) or '1type' as a synonym of type is deprecated; in a future version of numpy, it will be understood as (type, (1,)) / '(1,)type'.\n",
      "\u001b[2m\u001b[36m(pid=15046, ip=192.168.8.55)\u001b[0m   _np_qint32 = np.dtype([(\"qint32\", np.int32, 1)])\n",
      "\u001b[2m\u001b[36m(pid=15046, ip=192.168.8.55)\u001b[0m /home/reminiz/ReminizML2/python_env/lib/python3.7/site-packages/tensorflow/python/framework/dtypes.py:535: FutureWarning: Passing (type, 1) or '1type' as a synonym of type is deprecated; in a future version of numpy, it will be understood as (type, (1,)) / '(1,)type'.\n",
      "\u001b[2m\u001b[36m(pid=15046, ip=192.168.8.55)\u001b[0m   np_resource = np.dtype([(\"resource\", np.ubyte, 1)])\n",
      "\u001b[2m\u001b[36m(pid=15046, ip=192.168.8.55)\u001b[0m wandb: Tracking run with wandb version 0.8.36\n",
      "\u001b[2m\u001b[36m(pid=24168, ip=192.168.8.53)\u001b[0m wandb: Run summary:\n",
      "\u001b[2m\u001b[36m(pid=24168, ip=192.168.8.53)\u001b[0m wandb:                                     _step 195\n",
      "\u001b[2m\u001b[36m(pid=24168, ip=192.168.8.53)\u001b[0m wandb:                                  F1 score 0.6517397783593877\n",
      "\u001b[2m\u001b[36m(pid=24168, ip=192.168.8.53)\u001b[0m wandb:                                  _runtime 336.2347958087921\n",
      "\u001b[2m\u001b[36m(pid=24168, ip=192.168.8.53)\u001b[0m wandb:                                _timestamp 1607091203.0290802\n",
      "\u001b[2m\u001b[36m(pid=24168, ip=192.168.8.53)\u001b[0m wandb:                     Explained variance v1 -0.0799856185913086\n",
      "\u001b[2m\u001b[36m(pid=24168, ip=192.168.8.53)\u001b[0m wandb:                     Explained variance v2 -0.045859336853027344\n",
      "\u001b[2m\u001b[36m(pid=24168, ip=192.168.8.53)\u001b[0m wandb:                     Mean squared error v1 31.88220977783203\n",
      "\u001b[2m\u001b[36m(pid=24168, ip=192.168.8.53)\u001b[0m wandb:                     Mean squared error v2 46.630428314208984\n",
      "\u001b[2m\u001b[36m(pid=24168, ip=192.168.8.53)\u001b[0m wandb:                    Mean absolute error v1 3.726541042327881\n",
      "\u001b[2m\u001b[36m(pid=24168, ip=192.168.8.53)\u001b[0m wandb:                    Mean absolute error v2 4.881593704223633\n",
      "\u001b[2m\u001b[36m(pid=24168, ip=192.168.8.53)\u001b[0m wandb:                Area Under the Curve (AUC) 0.7779733393558357\n",
      "\u001b[2m\u001b[36m(pid=24168, ip=192.168.8.53)\u001b[0m wandb:             Test: Classification Accuracy 0.6555\n",
      "\u001b[2m\u001b[36m(pid=24168, ip=192.168.8.53)\u001b[0m wandb: Syncing files in ../../../Trainings/wandb/wandb/run-20201204_141312-32tlp2kp:\n",
      "\u001b[2m\u001b[36m(pid=24168, ip=192.168.8.53)\u001b[0m wandb:   code/default_worker.py\n",
      "\u001b[2m\u001b[36m(pid=24168, ip=192.168.8.53)\u001b[0m wandb: plus 8 W&B file(s) and 2 media file(s)\n",
      "\u001b[2m\u001b[36m(pid=24168, ip=192.168.8.53)\u001b[0m wandb: - 1.33MB of 1.33MB uploaded\n",
      "\u001b[2m\u001b[36m(pid=24168, ip=192.168.8.53)\u001b[0m wandb: \\ 1.33MB of 1.33MB uploaded\n",
      "\u001b[2m\u001b[36m(pid=15046, ip=192.168.8.55)\u001b[0m wandb: Wandb version 0.10.12 is available!  To upgrade, please run:\n",
      "\u001b[2m\u001b[36m(pid=15046, ip=192.168.8.55)\u001b[0m wandb:  $ pip install wandb --upgrade\n",
      "\u001b[2m\u001b[36m(pid=15046, ip=192.168.8.55)\u001b[0m wandb: Run data is saved locally in ../../../Trainings/wandb/wandb/run-20201204_141325-32tlp2kp\n",
      "\u001b[2m\u001b[36m(pid=15046, ip=192.168.8.55)\u001b[0m wandb: Syncing run AL_Test_6\n",
      "\u001b[2m\u001b[36m(pid=15046, ip=192.168.8.55)\u001b[0m wandb: ⭐️ View project at http://192.168.8.51:8080/reminiz/Active_Learning_CIFAR\n",
      "\u001b[2m\u001b[36m(pid=15046, ip=192.168.8.55)\u001b[0m wandb: 🚀 View run at http://192.168.8.51:8080/reminiz/Active_Learning_CIFAR/runs/32tlp2kp\n",
      "\u001b[2m\u001b[36m(pid=15046, ip=192.168.8.55)\u001b[0m wandb: Run `wandb off` to turn off syncing.\n",
      "\u001b[2m\u001b[36m(pid=15046, ip=192.168.8.55)\u001b[0m \n",
      "\u001b[2m\u001b[36m(pid=24168, ip=192.168.8.53)\u001b[0m wandb: | 1.33MB of 1.33MB uploaded\n",
      "\u001b[2m\u001b[36m(pid=24168, ip=192.168.8.53)\u001b[0m wandb: / 1.33MB of 1.33MB uploaded\n"
     ]
    },
    {
     "name": "stdout",
     "output_type": "stream",
     "text": [
      "\u001b[2m\u001b[36m(pid=15046, ip=192.168.8.55)\u001b[0m CIFAR10 Training data shape: (50000, 32, 32, 3)\n",
      "\u001b[2m\u001b[36m(pid=15046, ip=192.168.8.55)\u001b[0m CIFAR10 Training label shape (50000, 1)\n",
      "\u001b[2m\u001b[36m(pid=15046, ip=192.168.8.55)\u001b[0m CIFAR10 Test data shape (10000, 32, 32, 3)\n",
      "\u001b[2m\u001b[36m(pid=15046, ip=192.168.8.55)\u001b[0m CIFAR10 Test label shape (10000, 1)\n"
     ]
    },
    {
     "name": "stderr",
     "output_type": "stream",
     "text": [
      "wandb:                                                                                \n",
      "\u001b[2m\u001b[36m(pid=24168, ip=192.168.8.53)\u001b[0m wandb: Synced AL_Test_6: http://192.168.8.51:8080/reminiz/Active_Learning_CIFAR/runs/32tlp2kp\n",
      "\u001b[2m\u001b[36m(pid=15046, ip=192.168.8.55)\u001b[0m WARNING:tensorflow:From /home/reminiz/ReminizML2/python_env/lib/python3.7/site-packages/tensorflow/python/data/ops/dataset_ops.py:429: py_func (from tensorflow.python.ops.script_ops) is deprecated and will be removed in a future version.\n",
      "\u001b[2m\u001b[36m(pid=15046, ip=192.168.8.55)\u001b[0m Instructions for updating:\n",
      "\u001b[2m\u001b[36m(pid=15046, ip=192.168.8.55)\u001b[0m tf.py_func is deprecated in TF V2. Instead, use\n",
      "\u001b[2m\u001b[36m(pid=15046, ip=192.168.8.55)\u001b[0m     tf.py_function, which takes a python function which manipulates tf eager\n",
      "\u001b[2m\u001b[36m(pid=15046, ip=192.168.8.55)\u001b[0m     tensors instead of numpy arrays. It's easy to convert a tf eager tensor to\n",
      "\u001b[2m\u001b[36m(pid=15046, ip=192.168.8.55)\u001b[0m     an ndarray (just call tensor.numpy()) but having access to eager tensors\n",
      "\u001b[2m\u001b[36m(pid=15046, ip=192.168.8.55)\u001b[0m     means `tf.py_function`s can use accelerators such as GPUs as well as\n",
      "\u001b[2m\u001b[36m(pid=15046, ip=192.168.8.55)\u001b[0m     being differentiable using a gradient tape.\n",
      "\u001b[2m\u001b[36m(pid=15046, ip=192.168.8.55)\u001b[0m     \n",
      "\u001b[2m\u001b[36m(pid=15046, ip=192.168.8.55)\u001b[0m WARNING:tensorflow:From /home/reminiz/ReminizML2/python_env/lib/python3.7/site-packages/tensorflow/python/ops/resource_variable_ops.py:435: colocate_with (from tensorflow.python.framework.ops) is deprecated and will be removed in a future version.\n",
      "\u001b[2m\u001b[36m(pid=15046, ip=192.168.8.55)\u001b[0m Instructions for updating:\n",
      "\u001b[2m\u001b[36m(pid=15046, ip=192.168.8.55)\u001b[0m Colocations handled automatically by placer.\n",
      "\u001b[2m\u001b[36m(pid=15046, ip=192.168.8.55)\u001b[0m 2020-12-04 15:13:28.818774: I tensorflow/core/platform/cpu_feature_guard.cc:141] Your CPU supports instructions that this TensorFlow binary was not compiled to use: AVX2 FMA\n",
      "\u001b[2m\u001b[36m(pid=15046, ip=192.168.8.55)\u001b[0m 2020-12-04 15:13:28.840332: I tensorflow/core/platform/profile_utils/cpu_utils.cc:94] CPU Frequency: 3599935000 Hz\n",
      "\u001b[2m\u001b[36m(pid=15046, ip=192.168.8.55)\u001b[0m 2020-12-04 15:13:28.841208: I tensorflow/compiler/xla/service/service.cc:150] XLA service 0x66e4ed0 executing computations on platform Host. Devices:\n",
      "\u001b[2m\u001b[36m(pid=15046, ip=192.168.8.55)\u001b[0m 2020-12-04 15:13:28.841249: I tensorflow/compiler/xla/service/service.cc:158]   StreamExecutor device (0): <undefined>, <undefined>\n",
      "\u001b[2m\u001b[36m(pid=15046, ip=192.168.8.55)\u001b[0m 2020-12-04 15:13:28.923354: I tensorflow/compiler/xla/service/service.cc:150] XLA service 0x66ea550 executing computations on platform CUDA. Devices:\n",
      "\u001b[2m\u001b[36m(pid=15046, ip=192.168.8.55)\u001b[0m 2020-12-04 15:13:28.923400: I tensorflow/compiler/xla/service/service.cc:158]   StreamExecutor device (0): GeForce GTX 1080 Ti, Compute Capability 6.1\n",
      "\u001b[2m\u001b[36m(pid=15046, ip=192.168.8.55)\u001b[0m 2020-12-04 15:13:28.923614: I tensorflow/core/common_runtime/gpu/gpu_device.cc:1433] Found device 0 with properties: \n",
      "\u001b[2m\u001b[36m(pid=15046, ip=192.168.8.55)\u001b[0m name: GeForce GTX 1080 Ti major: 6 minor: 1 memoryClockRate(GHz): 1.582\n",
      "\u001b[2m\u001b[36m(pid=15046, ip=192.168.8.55)\u001b[0m pciBusID: 0000:4b:00.0\n",
      "\u001b[2m\u001b[36m(pid=15046, ip=192.168.8.55)\u001b[0m totalMemory: 10.92GiB freeMemory: 334.00MiB\n",
      "\u001b[2m\u001b[36m(pid=15046, ip=192.168.8.55)\u001b[0m 2020-12-04 15:13:28.923645: I tensorflow/core/common_runtime/gpu/gpu_device.cc:1512] Adding visible gpu devices: 0\n",
      "\u001b[2m\u001b[36m(pid=15046, ip=192.168.8.55)\u001b[0m 2020-12-04 15:13:28.925382: I tensorflow/core/common_runtime/gpu/gpu_device.cc:984] Device interconnect StreamExecutor with strength 1 edge matrix:\n",
      "\u001b[2m\u001b[36m(pid=15046, ip=192.168.8.55)\u001b[0m 2020-12-04 15:13:28.925409: I tensorflow/core/common_runtime/gpu/gpu_device.cc:990]      0 \n",
      "\u001b[2m\u001b[36m(pid=15046, ip=192.168.8.55)\u001b[0m 2020-12-04 15:13:28.925422: I tensorflow/core/common_runtime/gpu/gpu_device.cc:1003] 0:   N \n",
      "\u001b[2m\u001b[36m(pid=15046, ip=192.168.8.55)\u001b[0m 2020-12-04 15:13:28.925532: I tensorflow/core/common_runtime/gpu/gpu_device.cc:1115] Created TensorFlow device (/job:localhost/replica:0/task:0/device:GPU:0 with 109 MB memory) -> physical GPU (device: 0, name: GeForce GTX 1080 Ti, pci bus id: 0000:4b:00.0, compute capability: 6.1)\n",
      "\u001b[2m\u001b[36m(pid=15046, ip=192.168.8.55)\u001b[0m WARNING:tensorflow:From /home/reminiz/ReminizML2/python_env/lib/python3.7/site-packages/tensorflow/python/training/saver.py:1266: checkpoint_exists (from tensorflow.python.training.checkpoint_management) is deprecated and will be removed in a future version.\n",
      "\u001b[2m\u001b[36m(pid=15046, ip=192.168.8.55)\u001b[0m Instructions for updating:\n",
      "\u001b[2m\u001b[36m(pid=15046, ip=192.168.8.55)\u001b[0m Use standard file APIs to check for files with this prefix.\n"
     ]
    },
    {
     "name": "stdout",
     "output_type": "stream",
     "text": [
      "\u001b[2m\u001b[36m(pid=15046, ip=192.168.8.55)\u001b[0m \u001b[6;30;42mAL_Test_6\u001b[0m Restoring from /mnt/Ressources/Andres/Temp_active/runs/Active_Learning_v0/Stage_6/checkpoint/epoch200.ckpt-200\n"
     ]
    },
    {
     "name": "stderr",
     "output_type": "stream",
     "text": [
      "\u001b[2m\u001b[36m(pid=15046, ip=192.168.8.55)\u001b[0m 2020-12-04 15:13:30.413721: I tensorflow/stream_executor/dso_loader.cc:152] successfully opened CUDA library libcublas.so.10.0 locally\n",
      "\u001b[2m\u001b[36m(pid=13443, ip=192.168.8.54)\u001b[0m wandb: Program ended successfully.\n",
      "\u001b[2m\u001b[36m(pid=15538, ip=192.168.8.55)\u001b[0m /home/reminiz/ReminizML2/python_env/lib/python3.7/site-packages/tensorflow/python/framework/dtypes.py:526: FutureWarning: Passing (type, 1) or '1type' as a synonym of type is deprecated; in a future version of numpy, it will be understood as (type, (1,)) / '(1,)type'.\n",
      "\u001b[2m\u001b[36m(pid=15538, ip=192.168.8.55)\u001b[0m   _np_qint8 = np.dtype([(\"qint8\", np.int8, 1)])\n",
      "\u001b[2m\u001b[36m(pid=15538, ip=192.168.8.55)\u001b[0m /home/reminiz/ReminizML2/python_env/lib/python3.7/site-packages/tensorflow/python/framework/dtypes.py:527: FutureWarning: Passing (type, 1) or '1type' as a synonym of type is deprecated; in a future version of numpy, it will be understood as (type, (1,)) / '(1,)type'.\n",
      "\u001b[2m\u001b[36m(pid=15538, ip=192.168.8.55)\u001b[0m   _np_quint8 = np.dtype([(\"quint8\", np.uint8, 1)])\n",
      "\u001b[2m\u001b[36m(pid=15538, ip=192.168.8.55)\u001b[0m /home/reminiz/ReminizML2/python_env/lib/python3.7/site-packages/tensorflow/python/framework/dtypes.py:528: FutureWarning: Passing (type, 1) or '1type' as a synonym of type is deprecated; in a future version of numpy, it will be understood as (type, (1,)) / '(1,)type'.\n",
      "\u001b[2m\u001b[36m(pid=15538, ip=192.168.8.55)\u001b[0m   _np_qint16 = np.dtype([(\"qint16\", np.int16, 1)])\n",
      "\u001b[2m\u001b[36m(pid=15538, ip=192.168.8.55)\u001b[0m /home/reminiz/ReminizML2/python_env/lib/python3.7/site-packages/tensorflow/python/framework/dtypes.py:529: FutureWarning: Passing (type, 1) or '1type' as a synonym of type is deprecated; in a future version of numpy, it will be understood as (type, (1,)) / '(1,)type'.\n",
      "\u001b[2m\u001b[36m(pid=15538, ip=192.168.8.55)\u001b[0m   _np_quint16 = np.dtype([(\"quint16\", np.uint16, 1)])\n",
      "\u001b[2m\u001b[36m(pid=15538, ip=192.168.8.55)\u001b[0m /home/reminiz/ReminizML2/python_env/lib/python3.7/site-packages/tensorflow/python/framework/dtypes.py:530: FutureWarning: Passing (type, 1) or '1type' as a synonym of type is deprecated; in a future version of numpy, it will be understood as (type, (1,)) / '(1,)type'.\n",
      "\u001b[2m\u001b[36m(pid=15538, ip=192.168.8.55)\u001b[0m   _np_qint32 = np.dtype([(\"qint32\", np.int32, 1)])\n",
      "\u001b[2m\u001b[36m(pid=15538, ip=192.168.8.55)\u001b[0m /home/reminiz/ReminizML2/python_env/lib/python3.7/site-packages/tensorflow/python/framework/dtypes.py:535: FutureWarning: Passing (type, 1) or '1type' as a synonym of type is deprecated; in a future version of numpy, it will be understood as (type, (1,)) / '(1,)type'.\n",
      "\u001b[2m\u001b[36m(pid=15538, ip=192.168.8.55)\u001b[0m   np_resource = np.dtype([(\"resource\", np.ubyte, 1)])\n",
      "\u001b[2m\u001b[36m(pid=15046, ip=192.168.8.55)\u001b[0m wandb: Program ended successfully.\n",
      "\u001b[2m\u001b[36m(pid=15538, ip=192.168.8.55)\u001b[0m wandb: Tracking run with wandb version 0.8.36\n",
      "\u001b[2m\u001b[36m(pid=13443, ip=192.168.8.54)\u001b[0m wandb: Run summary:\n",
      "\u001b[2m\u001b[36m(pid=13443, ip=192.168.8.54)\u001b[0m wandb:                         _runtime 484.9568364620209\n",
      "\u001b[2m\u001b[36m(pid=13443, ip=192.168.8.54)\u001b[0m wandb:                            _step 199\n",
      "\u001b[2m\u001b[36m(pid=13443, ip=192.168.8.54)\u001b[0m wandb:                       _timestamp 1607091198.4246538\n",
      "\u001b[2m\u001b[36m(pid=13443, ip=192.168.8.54)\u001b[0m wandb:   Train: Classification Accuracy 0.9990234375\n",
      "\u001b[2m\u001b[36m(pid=13443, ip=192.168.8.54)\u001b[0m wandb:       Train: Mean Absolute Error 0.2682311050593853\n",
      "\u001b[2m\u001b[36m(pid=13443, ip=192.168.8.54)\u001b[0m wandb: Syncing files in ../../../Trainings/wandb/wandb/run-20201204_140513-3dbmtbok:\n",
      "\u001b[2m\u001b[36m(pid=13443, ip=192.168.8.54)\u001b[0m wandb:   code/default_worker.py\n",
      "\u001b[2m\u001b[36m(pid=13443, ip=192.168.8.54)\u001b[0m wandb: plus 8 W&B file(s) and 0 media file(s)\n",
      "\u001b[2m\u001b[36m(pid=13443, ip=192.168.8.54)\u001b[0m wandb: - 1.87MB of 1.87MB uploaded\n",
      "\u001b[2m\u001b[36m(pid=15046, ip=192.168.8.55)\u001b[0m wandb: Run summary:\n",
      "\u001b[2m\u001b[36m(pid=15046, ip=192.168.8.55)\u001b[0m wandb:                                     _step 195\n",
      "\u001b[2m\u001b[36m(pid=15046, ip=192.168.8.55)\u001b[0m wandb:                                  F1 score 0.6517397783593877\n",
      "\u001b[2m\u001b[36m(pid=15046, ip=192.168.8.55)\u001b[0m wandb:                                  _runtime 336.2347958087921\n",
      "\u001b[2m\u001b[36m(pid=15046, ip=192.168.8.55)\u001b[0m wandb:                                _timestamp 1607091203.0290802\n",
      "\u001b[2m\u001b[36m(pid=15046, ip=192.168.8.55)\u001b[0m wandb:                     Explained variance v1 -0.0799856185913086\n",
      "\u001b[2m\u001b[36m(pid=15046, ip=192.168.8.55)\u001b[0m wandb:                     Explained variance v2 -0.045859336853027344\n",
      "\u001b[2m\u001b[36m(pid=15046, ip=192.168.8.55)\u001b[0m wandb:                     Mean squared error v1 31.88220977783203\n",
      "\u001b[2m\u001b[36m(pid=15046, ip=192.168.8.55)\u001b[0m wandb:                     Mean squared error v2 46.630428314208984\n",
      "\u001b[2m\u001b[36m(pid=15046, ip=192.168.8.55)\u001b[0m wandb:                    Mean absolute error v1 3.726541042327881\n",
      "\u001b[2m\u001b[36m(pid=15046, ip=192.168.8.55)\u001b[0m wandb:                    Mean absolute error v2 4.881593704223633\n",
      "\u001b[2m\u001b[36m(pid=15046, ip=192.168.8.55)\u001b[0m wandb:                Area Under the Curve (AUC) 0.7779733393558357\n",
      "\u001b[2m\u001b[36m(pid=15046, ip=192.168.8.55)\u001b[0m wandb:             Test: Classification Accuracy 0.6555\n",
      "\u001b[2m\u001b[36m(pid=15046, ip=192.168.8.55)\u001b[0m wandb: Syncing files in ../../../Trainings/wandb/wandb/run-20201204_141325-32tlp2kp:\n",
      "\u001b[2m\u001b[36m(pid=15046, ip=192.168.8.55)\u001b[0m wandb:   code/default_worker.py\n",
      "\u001b[2m\u001b[36m(pid=15046, ip=192.168.8.55)\u001b[0m wandb: plus 8 W&B file(s) and 0 media file(s)\n",
      "\u001b[2m\u001b[36m(pid=15046, ip=192.168.8.55)\u001b[0m wandb: - 1.31MB of 1.31MB uploaded\n",
      "\u001b[2m\u001b[36m(pid=13443, ip=192.168.8.54)\u001b[0m wandb: \\ 1.87MB of 1.87MB uploaded\n",
      "\u001b[2m\u001b[36m(pid=15538, ip=192.168.8.55)\u001b[0m wandb: Wandb version 0.10.12 is available!  To upgrade, please run:\n",
      "\u001b[2m\u001b[36m(pid=15538, ip=192.168.8.55)\u001b[0m wandb:  $ pip install wandb --upgrade\n",
      "\u001b[2m\u001b[36m(pid=15538, ip=192.168.8.55)\u001b[0m wandb: Run data is saved locally in ../../../Trainings/wandb/wandb/run-20201204_141332-9s903n7a\n",
      "\u001b[2m\u001b[36m(pid=15046, ip=192.168.8.55)\u001b[0m wandb: \\ 1.31MB of 1.31MB uploaded\n",
      "\u001b[2m\u001b[36m(pid=13443, ip=192.168.8.54)\u001b[0m wandb: | 1.87MB of 1.87MB uploaded\n",
      "\u001b[2m\u001b[36m(pid=15538, ip=192.168.8.55)\u001b[0m wandb: Syncing run AL_Inference_6\n",
      "\u001b[2m\u001b[36m(pid=15538, ip=192.168.8.55)\u001b[0m wandb: ⭐️ View project at http://192.168.8.51:8080/reminiz/Active_Learning_CIFAR\n",
      "\u001b[2m\u001b[36m(pid=15538, ip=192.168.8.55)\u001b[0m wandb: 🚀 View run at http://192.168.8.51:8080/reminiz/Active_Learning_CIFAR/runs/9s903n7a\n",
      "\u001b[2m\u001b[36m(pid=15538, ip=192.168.8.55)\u001b[0m wandb: Run `wandb off` to turn off syncing.\n",
      "\u001b[2m\u001b[36m(pid=15046, ip=192.168.8.55)\u001b[0m wandb: | 1.31MB of 1.31MB uploaded\n",
      "\u001b[2m\u001b[36m(pid=15538, ip=192.168.8.55)\u001b[0m \n",
      "\u001b[2m\u001b[36m(pid=13443, ip=192.168.8.54)\u001b[0m wandb: / 1.87MB of 1.87MB uploaded\n",
      "\u001b[2m\u001b[36m(pid=15046, ip=192.168.8.55)\u001b[0m wandb: / 1.31MB of 1.31MB uploaded\n",
      "wandb:                                                                                \n",
      "\u001b[2m\u001b[36m(pid=13443, ip=192.168.8.54)\u001b[0m wandb: Synced AL_Train_6: http://192.168.8.51:8080/reminiz/Active_Learning_CIFAR/runs/3dbmtbok\n",
      "wandb:                                                                                \n",
      "\u001b[2m\u001b[36m(pid=15046, ip=192.168.8.55)\u001b[0m wandb: Synced AL_Test_6: http://192.168.8.51:8080/reminiz/Active_Learning_CIFAR/runs/32tlp2kp\n"
     ]
    },
    {
     "name": "stdout",
     "output_type": "stream",
     "text": [
      "\u001b[2m\u001b[36m(pid=15538, ip=192.168.8.55)\u001b[0m CIFAR10 Training data shape: (50000, 32, 32, 3)\n",
      "\u001b[2m\u001b[36m(pid=15538, ip=192.168.8.55)\u001b[0m CIFAR10 Training label shape (50000, 1)\n",
      "\u001b[2m\u001b[36m(pid=15538, ip=192.168.8.55)\u001b[0m CIFAR10 Test data shape (10000, 32, 32, 3)\n",
      "\u001b[2m\u001b[36m(pid=15538, ip=192.168.8.55)\u001b[0m CIFAR10 Test label shape (10000, 1)\n"
     ]
    },
    {
     "name": "stderr",
     "output_type": "stream",
     "text": [
      "\u001b[2m\u001b[36m(pid=15538, ip=192.168.8.55)\u001b[0m WARNING:tensorflow:From /home/reminiz/ReminizML2/python_env/lib/python3.7/site-packages/tensorflow/python/data/ops/dataset_ops.py:429: py_func (from tensorflow.python.ops.script_ops) is deprecated and will be removed in a future version.\n",
      "\u001b[2m\u001b[36m(pid=15538, ip=192.168.8.55)\u001b[0m Instructions for updating:\n",
      "\u001b[2m\u001b[36m(pid=15538, ip=192.168.8.55)\u001b[0m tf.py_func is deprecated in TF V2. Instead, use\n",
      "\u001b[2m\u001b[36m(pid=15538, ip=192.168.8.55)\u001b[0m     tf.py_function, which takes a python function which manipulates tf eager\n",
      "\u001b[2m\u001b[36m(pid=15538, ip=192.168.8.55)\u001b[0m     tensors instead of numpy arrays. It's easy to convert a tf eager tensor to\n",
      "\u001b[2m\u001b[36m(pid=15538, ip=192.168.8.55)\u001b[0m     an ndarray (just call tensor.numpy()) but having access to eager tensors\n",
      "\u001b[2m\u001b[36m(pid=15538, ip=192.168.8.55)\u001b[0m     means `tf.py_function`s can use accelerators such as GPUs as well as\n",
      "\u001b[2m\u001b[36m(pid=15538, ip=192.168.8.55)\u001b[0m     being differentiable using a gradient tape.\n",
      "\u001b[2m\u001b[36m(pid=15538, ip=192.168.8.55)\u001b[0m     \n",
      "\u001b[2m\u001b[36m(pid=15538, ip=192.168.8.55)\u001b[0m WARNING:tensorflow:From /home/reminiz/ReminizML2/python_env/lib/python3.7/site-packages/tensorflow/python/ops/resource_variable_ops.py:435: colocate_with (from tensorflow.python.framework.ops) is deprecated and will be removed in a future version.\n",
      "\u001b[2m\u001b[36m(pid=15538, ip=192.168.8.55)\u001b[0m Instructions for updating:\n",
      "\u001b[2m\u001b[36m(pid=15538, ip=192.168.8.55)\u001b[0m Colocations handled automatically by placer.\n",
      "\u001b[2m\u001b[36m(pid=15538, ip=192.168.8.55)\u001b[0m 2020-12-04 15:13:37.001122: I tensorflow/core/platform/cpu_feature_guard.cc:141] Your CPU supports instructions that this TensorFlow binary was not compiled to use: AVX2 FMA\n",
      "\u001b[2m\u001b[36m(pid=15538, ip=192.168.8.55)\u001b[0m 2020-12-04 15:13:37.024345: I tensorflow/core/platform/profile_utils/cpu_utils.cc:94] CPU Frequency: 3599935000 Hz\n",
      "\u001b[2m\u001b[36m(pid=15538, ip=192.168.8.55)\u001b[0m 2020-12-04 15:13:37.025291: I tensorflow/compiler/xla/service/service.cc:150] XLA service 0x5d31240 executing computations on platform Host. Devices:\n",
      "\u001b[2m\u001b[36m(pid=15538, ip=192.168.8.55)\u001b[0m 2020-12-04 15:13:37.025341: I tensorflow/compiler/xla/service/service.cc:158]   StreamExecutor device (0): <undefined>, <undefined>\n",
      "\u001b[2m\u001b[36m(pid=15538, ip=192.168.8.55)\u001b[0m 2020-12-04 15:13:37.128670: I tensorflow/compiler/xla/service/service.cc:150] XLA service 0x5d368c0 executing computations on platform CUDA. Devices:\n",
      "\u001b[2m\u001b[36m(pid=15538, ip=192.168.8.55)\u001b[0m 2020-12-04 15:13:37.128727: I tensorflow/compiler/xla/service/service.cc:158]   StreamExecutor device (0): GeForce GTX 1080 Ti, Compute Capability 6.1\n",
      "\u001b[2m\u001b[36m(pid=15538, ip=192.168.8.55)\u001b[0m 2020-12-04 15:13:37.128908: I tensorflow/core/common_runtime/gpu/gpu_device.cc:1433] Found device 0 with properties: \n",
      "\u001b[2m\u001b[36m(pid=15538, ip=192.168.8.55)\u001b[0m name: GeForce GTX 1080 Ti major: 6 minor: 1 memoryClockRate(GHz): 1.582\n",
      "\u001b[2m\u001b[36m(pid=15538, ip=192.168.8.55)\u001b[0m pciBusID: 0000:4b:00.0\n",
      "\u001b[2m\u001b[36m(pid=15538, ip=192.168.8.55)\u001b[0m totalMemory: 10.92GiB freeMemory: 10.77GiB\n",
      "\u001b[2m\u001b[36m(pid=15538, ip=192.168.8.55)\u001b[0m 2020-12-04 15:13:37.128932: I tensorflow/core/common_runtime/gpu/gpu_device.cc:1512] Adding visible gpu devices: 0\n",
      "\u001b[2m\u001b[36m(pid=15538, ip=192.168.8.55)\u001b[0m 2020-12-04 15:13:37.131015: I tensorflow/core/common_runtime/gpu/gpu_device.cc:984] Device interconnect StreamExecutor with strength 1 edge matrix:\n",
      "\u001b[2m\u001b[36m(pid=15538, ip=192.168.8.55)\u001b[0m 2020-12-04 15:13:37.131053: I tensorflow/core/common_runtime/gpu/gpu_device.cc:990]      0 \n",
      "\u001b[2m\u001b[36m(pid=15538, ip=192.168.8.55)\u001b[0m 2020-12-04 15:13:37.131065: I tensorflow/core/common_runtime/gpu/gpu_device.cc:1003] 0:   N \n",
      "\u001b[2m\u001b[36m(pid=15538, ip=192.168.8.55)\u001b[0m 2020-12-04 15:13:37.131173: I tensorflow/core/common_runtime/gpu/gpu_device.cc:1115] Created TensorFlow device (/job:localhost/replica:0/task:0/device:GPU:0 with 10481 MB memory) -> physical GPU (device: 0, name: GeForce GTX 1080 Ti, pci bus id: 0000:4b:00.0, compute capability: 6.1)\n"
     ]
    },
    {
     "name": "stdout",
     "output_type": "stream",
     "text": [
      "\u001b[2m\u001b[36m(pid=15538, ip=192.168.8.55)\u001b[0m Restoring from /mnt/Ressources/Andres/Temp_active/runs/Active_Learning_v0/Stage_6/checkpoint/epoch200.ckpt-200\n"
     ]
    },
    {
     "name": "stderr",
     "output_type": "stream",
     "text": [
      "\u001b[2m\u001b[36m(pid=15538, ip=192.168.8.55)\u001b[0m WARNING:tensorflow:From /home/reminiz/ReminizML2/python_env/lib/python3.7/site-packages/tensorflow/python/training/saver.py:1266: checkpoint_exists (from tensorflow.python.training.checkpoint_management) is deprecated and will be removed in a future version.\n",
      "\u001b[2m\u001b[36m(pid=15538, ip=192.168.8.55)\u001b[0m Instructions for updating:\n",
      "\u001b[2m\u001b[36m(pid=15538, ip=192.168.8.55)\u001b[0m Use standard file APIs to check for files with this prefix.\n",
      "\u001b[2m\u001b[36m(pid=15538, ip=192.168.8.55)\u001b[0m 2020-12-04 15:13:37.947927: I tensorflow/stream_executor/dso_loader.cc:152] successfully opened CUDA library libcublas.so.10.0 locally\n"
     ]
    },
    {
     "name": "stdout",
     "output_type": "stream",
     "text": [
      "\u001b[2m\u001b[36m(pid=15538, ip=192.168.8.55)\u001b[0m \u001b[6;30;42mAL_Inference_6\u001b[0m Progress:  0.0 \\%\n",
      "\u001b[2m\u001b[36m(pid=15538, ip=192.168.8.55)\u001b[0m \u001b[6;30;42mAL_Inference_6\u001b[0m Progress:  26.11 \\%\n",
      "\u001b[2m\u001b[36m(pid=15538, ip=192.168.8.55)\u001b[0m \u001b[6;30;42mAL_Inference_6\u001b[0m Progress:  52.22 \\%\n",
      "\u001b[2m\u001b[36m(pid=15538, ip=192.168.8.55)\u001b[0m \u001b[6;30;42mAL_Inference_6\u001b[0m Progress:  78.33 \\%\n"
     ]
    },
    {
     "name": "stderr",
     "output_type": "stream",
     "text": [
      "\u001b[2m\u001b[36m(pid=25583, ip=192.168.8.53)\u001b[0m /home/reminiz/ReminizML2/python_env/lib/python3.7/site-packages/tensorflow/python/framework/dtypes.py:526: FutureWarning: Passing (type, 1) or '1type' as a synonym of type is deprecated; in a future version of numpy, it will be understood as (type, (1,)) / '(1,)type'.\n",
      "\u001b[2m\u001b[36m(pid=25583, ip=192.168.8.53)\u001b[0m   _np_qint8 = np.dtype([(\"qint8\", np.int8, 1)])\n",
      "\u001b[2m\u001b[36m(pid=25583, ip=192.168.8.53)\u001b[0m /home/reminiz/ReminizML2/python_env/lib/python3.7/site-packages/tensorflow/python/framework/dtypes.py:527: FutureWarning: Passing (type, 1) or '1type' as a synonym of type is deprecated; in a future version of numpy, it will be understood as (type, (1,)) / '(1,)type'.\n",
      "\u001b[2m\u001b[36m(pid=25583, ip=192.168.8.53)\u001b[0m   _np_quint8 = np.dtype([(\"quint8\", np.uint8, 1)])\n",
      "\u001b[2m\u001b[36m(pid=25583, ip=192.168.8.53)\u001b[0m /home/reminiz/ReminizML2/python_env/lib/python3.7/site-packages/tensorflow/python/framework/dtypes.py:528: FutureWarning: Passing (type, 1) or '1type' as a synonym of type is deprecated; in a future version of numpy, it will be understood as (type, (1,)) / '(1,)type'.\n",
      "\u001b[2m\u001b[36m(pid=25583, ip=192.168.8.53)\u001b[0m   _np_qint16 = np.dtype([(\"qint16\", np.int16, 1)])\n",
      "\u001b[2m\u001b[36m(pid=25583, ip=192.168.8.53)\u001b[0m /home/reminiz/ReminizML2/python_env/lib/python3.7/site-packages/tensorflow/python/framework/dtypes.py:529: FutureWarning: Passing (type, 1) or '1type' as a synonym of type is deprecated; in a future version of numpy, it will be understood as (type, (1,)) / '(1,)type'.\n",
      "\u001b[2m\u001b[36m(pid=25583, ip=192.168.8.53)\u001b[0m   _np_quint16 = np.dtype([(\"quint16\", np.uint16, 1)])\n",
      "\u001b[2m\u001b[36m(pid=25583, ip=192.168.8.53)\u001b[0m /home/reminiz/ReminizML2/python_env/lib/python3.7/site-packages/tensorflow/python/framework/dtypes.py:530: FutureWarning: Passing (type, 1) or '1type' as a synonym of type is deprecated; in a future version of numpy, it will be understood as (type, (1,)) / '(1,)type'.\n",
      "\u001b[2m\u001b[36m(pid=25583, ip=192.168.8.53)\u001b[0m   _np_qint32 = np.dtype([(\"qint32\", np.int32, 1)])\n",
      "\u001b[2m\u001b[36m(pid=25583, ip=192.168.8.53)\u001b[0m /home/reminiz/ReminizML2/python_env/lib/python3.7/site-packages/tensorflow/python/framework/dtypes.py:535: FutureWarning: Passing (type, 1) or '1type' as a synonym of type is deprecated; in a future version of numpy, it will be understood as (type, (1,)) / '(1,)type'.\n",
      "\u001b[2m\u001b[36m(pid=25583, ip=192.168.8.53)\u001b[0m   np_resource = np.dtype([(\"resource\", np.ubyte, 1)])\n",
      "\u001b[2m\u001b[36m(pid=25583, ip=192.168.8.53)\u001b[0m /home/reminiz/ReminizML2/python_env/lib/python3.7/site-packages/tensorboard/compat/tensorflow_stub/dtypes.py:541: FutureWarning: Passing (type, 1) or '1type' as a synonym of type is deprecated; in a future version of numpy, it will be understood as (type, (1,)) / '(1,)type'.\n",
      "\u001b[2m\u001b[36m(pid=25583, ip=192.168.8.53)\u001b[0m   _np_qint8 = np.dtype([(\"qint8\", np.int8, 1)])\n",
      "\u001b[2m\u001b[36m(pid=25583, ip=192.168.8.53)\u001b[0m /home/reminiz/ReminizML2/python_env/lib/python3.7/site-packages/tensorboard/compat/tensorflow_stub/dtypes.py:542: FutureWarning: Passing (type, 1) or '1type' as a synonym of type is deprecated; in a future version of numpy, it will be understood as (type, (1,)) / '(1,)type'.\n",
      "\u001b[2m\u001b[36m(pid=25583, ip=192.168.8.53)\u001b[0m   _np_quint8 = np.dtype([(\"quint8\", np.uint8, 1)])\n",
      "\u001b[2m\u001b[36m(pid=25583, ip=192.168.8.53)\u001b[0m /home/reminiz/ReminizML2/python_env/lib/python3.7/site-packages/tensorboard/compat/tensorflow_stub/dtypes.py:543: FutureWarning: Passing (type, 1) or '1type' as a synonym of type is deprecated; in a future version of numpy, it will be understood as (type, (1,)) / '(1,)type'.\n",
      "\u001b[2m\u001b[36m(pid=25583, ip=192.168.8.53)\u001b[0m   _np_qint16 = np.dtype([(\"qint16\", np.int16, 1)])\n",
      "\u001b[2m\u001b[36m(pid=25583, ip=192.168.8.53)\u001b[0m /home/reminiz/ReminizML2/python_env/lib/python3.7/site-packages/tensorboard/compat/tensorflow_stub/dtypes.py:544: FutureWarning: Passing (type, 1) or '1type' as a synonym of type is deprecated; in a future version of numpy, it will be understood as (type, (1,)) / '(1,)type'.\n",
      "\u001b[2m\u001b[36m(pid=25583, ip=192.168.8.53)\u001b[0m   _np_quint16 = np.dtype([(\"quint16\", np.uint16, 1)])\n",
      "\u001b[2m\u001b[36m(pid=25583, ip=192.168.8.53)\u001b[0m /home/reminiz/ReminizML2/python_env/lib/python3.7/site-packages/tensorboard/compat/tensorflow_stub/dtypes.py:545: FutureWarning: Passing (type, 1) or '1type' as a synonym of type is deprecated; in a future version of numpy, it will be understood as (type, (1,)) / '(1,)type'.\n",
      "\u001b[2m\u001b[36m(pid=25583, ip=192.168.8.53)\u001b[0m   _np_qint32 = np.dtype([(\"qint32\", np.int32, 1)])\n",
      "\u001b[2m\u001b[36m(pid=25583, ip=192.168.8.53)\u001b[0m /home/reminiz/ReminizML2/python_env/lib/python3.7/site-packages/tensorboard/compat/tensorflow_stub/dtypes.py:550: FutureWarning: Passing (type, 1) or '1type' as a synonym of type is deprecated; in a future version of numpy, it will be understood as (type, (1,)) / '(1,)type'.\n",
      "\u001b[2m\u001b[36m(pid=25583, ip=192.168.8.53)\u001b[0m   np_resource = np.dtype([(\"resource\", np.ubyte, 1)])\n",
      "\u001b[2m\u001b[36m(pid=25583, ip=192.168.8.53)\u001b[0m wandb: Tracking run with wandb version 0.8.36\n",
      "\u001b[2m\u001b[36m(pid=25583, ip=192.168.8.53)\u001b[0m wandb: Wandb version 0.10.12 is available!  To upgrade, please run:\n",
      "\u001b[2m\u001b[36m(pid=25583, ip=192.168.8.53)\u001b[0m wandb:  $ pip install wandb --upgrade\n",
      "\u001b[2m\u001b[36m(pid=25583, ip=192.168.8.53)\u001b[0m wandb: Run data is saved locally in ../../../Trainings/wandb/wandb/run-20201204_141403-30icxw8t\n",
      "\u001b[2m\u001b[36m(pid=25583, ip=192.168.8.53)\u001b[0m wandb: Syncing run AL_Train_7\n",
      "\u001b[2m\u001b[36m(pid=25583, ip=192.168.8.53)\u001b[0m wandb: ⭐️ View project at http://192.168.8.51:8080/reminiz/Active_Learning_CIFAR\n",
      "\u001b[2m\u001b[36m(pid=25583, ip=192.168.8.53)\u001b[0m wandb: 🚀 View run at http://192.168.8.51:8080/reminiz/Active_Learning_CIFAR/runs/30icxw8t\n",
      "\u001b[2m\u001b[36m(pid=25583, ip=192.168.8.53)\u001b[0m wandb: Run `wandb off` to turn off syncing.\n",
      "\u001b[2m\u001b[36m(pid=25583, ip=192.168.8.53)\u001b[0m \n"
     ]
    },
    {
     "name": "stdout",
     "output_type": "stream",
     "text": [
      "\u001b[2m\u001b[36m(pid=25583, ip=192.168.8.53)\u001b[0m CIFAR10 Training data shape: (50000, 32, 32, 3)\n",
      "\u001b[2m\u001b[36m(pid=25583, ip=192.168.8.53)\u001b[0m CIFAR10 Training label shape (50000, 1)\n",
      "\u001b[2m\u001b[36m(pid=25583, ip=192.168.8.53)\u001b[0m CIFAR10 Test data shape (10000, 32, 32, 3)\n",
      "\u001b[2m\u001b[36m(pid=25583, ip=192.168.8.53)\u001b[0m CIFAR10 Test label shape (10000, 1)\n"
     ]
    },
    {
     "name": "stderr",
     "output_type": "stream",
     "text": [
      "\u001b[2m\u001b[36m(pid=25583, ip=192.168.8.53)\u001b[0m WARNING:tensorflow:From /home/reminiz/ReminizML2/python_env/lib/python3.7/site-packages/tensorflow/python/data/ops/dataset_ops.py:429: py_func (from tensorflow.python.ops.script_ops) is deprecated and will be removed in a future version.\n",
      "\u001b[2m\u001b[36m(pid=25583, ip=192.168.8.53)\u001b[0m Instructions for updating:\n",
      "\u001b[2m\u001b[36m(pid=25583, ip=192.168.8.53)\u001b[0m tf.py_func is deprecated in TF V2. Instead, use\n",
      "\u001b[2m\u001b[36m(pid=25583, ip=192.168.8.53)\u001b[0m     tf.py_function, which takes a python function which manipulates tf eager\n",
      "\u001b[2m\u001b[36m(pid=25583, ip=192.168.8.53)\u001b[0m     tensors instead of numpy arrays. It's easy to convert a tf eager tensor to\n",
      "\u001b[2m\u001b[36m(pid=25583, ip=192.168.8.53)\u001b[0m     an ndarray (just call tensor.numpy()) but having access to eager tensors\n",
      "\u001b[2m\u001b[36m(pid=25583, ip=192.168.8.53)\u001b[0m     means `tf.py_function`s can use accelerators such as GPUs as well as\n",
      "\u001b[2m\u001b[36m(pid=25583, ip=192.168.8.53)\u001b[0m     being differentiable using a gradient tape.\n",
      "\u001b[2m\u001b[36m(pid=25583, ip=192.168.8.53)\u001b[0m     \n",
      "\u001b[2m\u001b[36m(pid=25583, ip=192.168.8.53)\u001b[0m WARNING:tensorflow:From /home/reminiz/ReminizML2/python_env/lib/python3.7/site-packages/tensorflow/python/ops/resource_variable_ops.py:435: colocate_with (from tensorflow.python.framework.ops) is deprecated and will be removed in a future version.\n",
      "\u001b[2m\u001b[36m(pid=25583, ip=192.168.8.53)\u001b[0m Instructions for updating:\n",
      "\u001b[2m\u001b[36m(pid=25583, ip=192.168.8.53)\u001b[0m Colocations handled automatically by placer.\n",
      "\u001b[2m\u001b[36m(pid=25583, ip=192.168.8.53)\u001b[0m WARNING:tensorflow:From /home/reminiz/ReminizML2/python_env/lib/python3.7/site-packages/tensorflow/python/ops/math_ops.py:3066: to_int32 (from tensorflow.python.ops.math_ops) is deprecated and will be removed in a future version.\n",
      "\u001b[2m\u001b[36m(pid=25583, ip=192.168.8.53)\u001b[0m Instructions for updating:\n",
      "\u001b[2m\u001b[36m(pid=25583, ip=192.168.8.53)\u001b[0m Use tf.cast instead.\n",
      "\u001b[2m\u001b[36m(pid=25583, ip=192.168.8.53)\u001b[0m 2020-12-04 15:14:12.149841: I tensorflow/core/platform/cpu_feature_guard.cc:141] Your CPU supports instructions that this TensorFlow binary was not compiled to use: AVX2 FMA\n",
      "\u001b[2m\u001b[36m(pid=25583, ip=192.168.8.53)\u001b[0m 2020-12-04 15:14:12.173038: I tensorflow/core/platform/profile_utils/cpu_utils.cc:94] CPU Frequency: 3499950000 Hz\n",
      "\u001b[2m\u001b[36m(pid=25583, ip=192.168.8.53)\u001b[0m 2020-12-04 15:14:12.173850: I tensorflow/compiler/xla/service/service.cc:150] XLA service 0x55838496aac0 executing computations on platform Host. Devices:\n",
      "\u001b[2m\u001b[36m(pid=25583, ip=192.168.8.53)\u001b[0m 2020-12-04 15:14:12.173887: I tensorflow/compiler/xla/service/service.cc:158]   StreamExecutor device (0): <undefined>, <undefined>\n",
      "\u001b[2m\u001b[36m(pid=25583, ip=192.168.8.53)\u001b[0m 2020-12-04 15:14:12.299530: I tensorflow/compiler/xla/service/service.cc:150] XLA service 0x558389dabbb0 executing computations on platform CUDA. Devices:\n",
      "\u001b[2m\u001b[36m(pid=25583, ip=192.168.8.53)\u001b[0m 2020-12-04 15:14:12.299572: I tensorflow/compiler/xla/service/service.cc:158]   StreamExecutor device (0): GeForce GTX TITAN X, Compute Capability 5.2\n",
      "\u001b[2m\u001b[36m(pid=25583, ip=192.168.8.53)\u001b[0m 2020-12-04 15:14:12.299765: I tensorflow/core/common_runtime/gpu/gpu_device.cc:1433] Found device 0 with properties: \n",
      "\u001b[2m\u001b[36m(pid=25583, ip=192.168.8.53)\u001b[0m name: GeForce GTX TITAN X major: 5 minor: 2 memoryClockRate(GHz): 1.076\n",
      "\u001b[2m\u001b[36m(pid=25583, ip=192.168.8.53)\u001b[0m pciBusID: 0000:02:00.0\n",
      "\u001b[2m\u001b[36m(pid=25583, ip=192.168.8.53)\u001b[0m totalMemory: 11.93GiB freeMemory: 11.82GiB\n",
      "\u001b[2m\u001b[36m(pid=25583, ip=192.168.8.53)\u001b[0m 2020-12-04 15:14:12.299795: I tensorflow/core/common_runtime/gpu/gpu_device.cc:1512] Adding visible gpu devices: 0\n",
      "\u001b[2m\u001b[36m(pid=25583, ip=192.168.8.53)\u001b[0m 2020-12-04 15:14:12.301829: I tensorflow/core/common_runtime/gpu/gpu_device.cc:984] Device interconnect StreamExecutor with strength 1 edge matrix:\n",
      "\u001b[2m\u001b[36m(pid=25583, ip=192.168.8.53)\u001b[0m 2020-12-04 15:14:12.301854: I tensorflow/core/common_runtime/gpu/gpu_device.cc:990]      0 \n",
      "\u001b[2m\u001b[36m(pid=25583, ip=192.168.8.53)\u001b[0m 2020-12-04 15:14:12.301871: I tensorflow/core/common_runtime/gpu/gpu_device.cc:1003] 0:   N \n",
      "\u001b[2m\u001b[36m(pid=25583, ip=192.168.8.53)\u001b[0m 2020-12-04 15:14:12.301965: I tensorflow/core/common_runtime/gpu/gpu_device.cc:1115] Created TensorFlow device (/job:localhost/replica:0/task:0/device:GPU:0 with 11496 MB memory) -> physical GPU (device: 0, name: GeForce GTX TITAN X, pci bus id: 0000:02:00.0, compute capability: 5.2)\n"
     ]
    },
    {
     "name": "stdout",
     "output_type": "stream",
     "text": [
      "\u001b[2m\u001b[36m(pid=25583, ip=192.168.8.53)\u001b[0m \u001b[6;30;42mAL_Train_7\u001b[0m Path /mnt/Ressources/Andres/Temp_active/runs/Active_Learning_v0/Stage_6/checkpoint/epoch200.ckpt-200\n",
      "\u001b[2m\u001b[36m(pid=25583, ip=192.168.8.53)\u001b[0m \u001b[6;30;42mAL_Train_7\u001b[0m => Restoring weights from: /mnt/Ressources/Andres/Temp_active/runs/Active_Learning_v0/Stage_6/checkpoint/epoch200.ckpt-200 ... \n"
     ]
    },
    {
     "name": "stderr",
     "output_type": "stream",
     "text": [
      "\u001b[2m\u001b[36m(pid=25583, ip=192.168.8.53)\u001b[0m 2020-12-04 15:14:13,864\tINFO worker.py:634 -- Connecting to existing Ray cluster at address: 192.168.8.51:6379\n",
      "\u001b[2m\u001b[36m(pid=25583, ip=192.168.8.53)\u001b[0m 2020-12-04 15:14:13,864\tERROR worker.py:643 -- Calling ray.init() again after it has already been called.\n",
      "\u001b[2m\u001b[36m(pid=25583, ip=192.168.8.53)\u001b[0m WARNING:tensorflow:From /home/reminiz/ReminizML2/python_env/lib/python3.7/site-packages/tensorflow/python/training/saver.py:1266: checkpoint_exists (from tensorflow.python.training.checkpoint_management) is deprecated and will be removed in a future version.\n",
      "\u001b[2m\u001b[36m(pid=25583, ip=192.168.8.53)\u001b[0m Instructions for updating:\n",
      "\u001b[2m\u001b[36m(pid=25583, ip=192.168.8.53)\u001b[0m Use standard file APIs to check for files with this prefix.\n"
     ]
    },
    {
     "name": "stdout",
     "output_type": "stream",
     "text": [
      "\u001b[2m\u001b[36m(pid=25583, ip=192.168.8.53)\u001b[0m \u001b[6;30;42mAL_Train_7\u001b[0m self.steps_per_epoch 16\n"
     ]
    },
    {
     "name": "stderr",
     "output_type": "stream",
     "text": [
      "\u001b[2m\u001b[36m(pid=25583, ip=192.168.8.53)\u001b[0m 2020-12-04 15:14:18.132682: I tensorflow/stream_executor/dso_loader.cc:152] successfully opened CUDA library libcublas.so.10.0 locally\n"
     ]
    },
    {
     "name": "stdout",
     "output_type": "stream",
     "text": [
      "\u001b[2m\u001b[36m(pid=25583, ip=192.168.8.53)\u001b[0m \u001b[6;30;42mAL_Train_7\u001b[0m Epoch:  0 / 201 || Time: 2020-12-04 15:14:22 || Accuracy: 75.25 || MAE LossNet: 1.57 || \n"
     ]
    },
    {
     "name": "stderr",
     "output_type": "stream",
     "text": [
      "\u001b[2m\u001b[36m(pid=15696, ip=192.168.8.55)\u001b[0m /home/reminiz/ReminizML2/python_env/lib/python3.7/site-packages/tensorflow/python/framework/dtypes.py:526: FutureWarning: Passing (type, 1) or '1type' as a synonym of type is deprecated; in a future version of numpy, it will be understood as (type, (1,)) / '(1,)type'.\n",
      "\u001b[2m\u001b[36m(pid=15696, ip=192.168.8.55)\u001b[0m   _np_qint8 = np.dtype([(\"qint8\", np.int8, 1)])\n",
      "\u001b[2m\u001b[36m(pid=15696, ip=192.168.8.55)\u001b[0m /home/reminiz/ReminizML2/python_env/lib/python3.7/site-packages/tensorflow/python/framework/dtypes.py:527: FutureWarning: Passing (type, 1) or '1type' as a synonym of type is deprecated; in a future version of numpy, it will be understood as (type, (1,)) / '(1,)type'.\n",
      "\u001b[2m\u001b[36m(pid=15696, ip=192.168.8.55)\u001b[0m   _np_quint8 = np.dtype([(\"quint8\", np.uint8, 1)])\n",
      "\u001b[2m\u001b[36m(pid=15696, ip=192.168.8.55)\u001b[0m /home/reminiz/ReminizML2/python_env/lib/python3.7/site-packages/tensorflow/python/framework/dtypes.py:528: FutureWarning: Passing (type, 1) or '1type' as a synonym of type is deprecated; in a future version of numpy, it will be understood as (type, (1,)) / '(1,)type'.\n",
      "\u001b[2m\u001b[36m(pid=15696, ip=192.168.8.55)\u001b[0m   _np_qint16 = np.dtype([(\"qint16\", np.int16, 1)])\n",
      "\u001b[2m\u001b[36m(pid=15696, ip=192.168.8.55)\u001b[0m /home/reminiz/ReminizML2/python_env/lib/python3.7/site-packages/tensorflow/python/framework/dtypes.py:529: FutureWarning: Passing (type, 1) or '1type' as a synonym of type is deprecated; in a future version of numpy, it will be understood as (type, (1,)) / '(1,)type'.\n",
      "\u001b[2m\u001b[36m(pid=15696, ip=192.168.8.55)\u001b[0m   _np_quint16 = np.dtype([(\"quint16\", np.uint16, 1)])\n",
      "\u001b[2m\u001b[36m(pid=15696, ip=192.168.8.55)\u001b[0m /home/reminiz/ReminizML2/python_env/lib/python3.7/site-packages/tensorflow/python/framework/dtypes.py:530: FutureWarning: Passing (type, 1) or '1type' as a synonym of type is deprecated; in a future version of numpy, it will be understood as (type, (1,)) / '(1,)type'.\n",
      "\u001b[2m\u001b[36m(pid=15696, ip=192.168.8.55)\u001b[0m   _np_qint32 = np.dtype([(\"qint32\", np.int32, 1)])\n",
      "\u001b[2m\u001b[36m(pid=15696, ip=192.168.8.55)\u001b[0m /home/reminiz/ReminizML2/python_env/lib/python3.7/site-packages/tensorflow/python/framework/dtypes.py:535: FutureWarning: Passing (type, 1) or '1type' as a synonym of type is deprecated; in a future version of numpy, it will be understood as (type, (1,)) / '(1,)type'.\n",
      "\u001b[2m\u001b[36m(pid=15696, ip=192.168.8.55)\u001b[0m   np_resource = np.dtype([(\"resource\", np.ubyte, 1)])\n",
      "\u001b[2m\u001b[36m(pid=15696, ip=192.168.8.55)\u001b[0m wandb: Tracking run with wandb version 0.8.36\n",
      "\u001b[2m\u001b[36m(pid=15696, ip=192.168.8.55)\u001b[0m wandb: Wandb version 0.10.12 is available!  To upgrade, please run:\n",
      "\u001b[2m\u001b[36m(pid=15696, ip=192.168.8.55)\u001b[0m wandb:  $ pip install wandb --upgrade\n",
      "\u001b[2m\u001b[36m(pid=15696, ip=192.168.8.55)\u001b[0m wandb: Run data is saved locally in ../../../Trainings/wandb/wandb/run-20201204_141428-1alitxr7\n",
      "\u001b[2m\u001b[36m(pid=15696, ip=192.168.8.55)\u001b[0m wandb: Syncing run AL_Test_7\n",
      "\u001b[2m\u001b[36m(pid=15696, ip=192.168.8.55)\u001b[0m wandb: ⭐️ View project at http://192.168.8.51:8080/reminiz/Active_Learning_CIFAR\n",
      "\u001b[2m\u001b[36m(pid=15696, ip=192.168.8.55)\u001b[0m wandb: 🚀 View run at http://192.168.8.51:8080/reminiz/Active_Learning_CIFAR/runs/1alitxr7\n",
      "\u001b[2m\u001b[36m(pid=15696, ip=192.168.8.55)\u001b[0m wandb: Run `wandb off` to turn off syncing.\n",
      "\u001b[2m\u001b[36m(pid=15696, ip=192.168.8.55)\u001b[0m \n"
     ]
    },
    {
     "name": "stdout",
     "output_type": "stream",
     "text": [
      "\u001b[2m\u001b[36m(pid=15696, ip=192.168.8.55)\u001b[0m CIFAR10 Training data shape: (50000, 32, 32, 3)\n",
      "\u001b[2m\u001b[36m(pid=15696, ip=192.168.8.55)\u001b[0m CIFAR10 Training label shape (50000, 1)\n",
      "\u001b[2m\u001b[36m(pid=15696, ip=192.168.8.55)\u001b[0m CIFAR10 Test data shape (10000, 32, 32, 3)\n",
      "\u001b[2m\u001b[36m(pid=15696, ip=192.168.8.55)\u001b[0m CIFAR10 Test label shape (10000, 1)\n"
     ]
    },
    {
     "name": "stderr",
     "output_type": "stream",
     "text": [
      "\u001b[2m\u001b[36m(pid=15696, ip=192.168.8.55)\u001b[0m WARNING:tensorflow:From /home/reminiz/ReminizML2/python_env/lib/python3.7/site-packages/tensorflow/python/data/ops/dataset_ops.py:429: py_func (from tensorflow.python.ops.script_ops) is deprecated and will be removed in a future version.\n",
      "\u001b[2m\u001b[36m(pid=15696, ip=192.168.8.55)\u001b[0m Instructions for updating:\n",
      "\u001b[2m\u001b[36m(pid=15696, ip=192.168.8.55)\u001b[0m tf.py_func is deprecated in TF V2. Instead, use\n",
      "\u001b[2m\u001b[36m(pid=15696, ip=192.168.8.55)\u001b[0m     tf.py_function, which takes a python function which manipulates tf eager\n",
      "\u001b[2m\u001b[36m(pid=15696, ip=192.168.8.55)\u001b[0m     tensors instead of numpy arrays. It's easy to convert a tf eager tensor to\n",
      "\u001b[2m\u001b[36m(pid=15696, ip=192.168.8.55)\u001b[0m     an ndarray (just call tensor.numpy()) but having access to eager tensors\n",
      "\u001b[2m\u001b[36m(pid=15696, ip=192.168.8.55)\u001b[0m     means `tf.py_function`s can use accelerators such as GPUs as well as\n",
      "\u001b[2m\u001b[36m(pid=15696, ip=192.168.8.55)\u001b[0m     being differentiable using a gradient tape.\n",
      "\u001b[2m\u001b[36m(pid=15696, ip=192.168.8.55)\u001b[0m     \n",
      "\u001b[2m\u001b[36m(pid=15696, ip=192.168.8.55)\u001b[0m WARNING:tensorflow:From /home/reminiz/ReminizML2/python_env/lib/python3.7/site-packages/tensorflow/python/ops/resource_variable_ops.py:435: colocate_with (from tensorflow.python.framework.ops) is deprecated and will be removed in a future version.\n",
      "\u001b[2m\u001b[36m(pid=15696, ip=192.168.8.55)\u001b[0m Instructions for updating:\n",
      "\u001b[2m\u001b[36m(pid=15696, ip=192.168.8.55)\u001b[0m Colocations handled automatically by placer.\n",
      "\u001b[2m\u001b[36m(pid=15696, ip=192.168.8.55)\u001b[0m 2020-12-04 15:14:32.383502: I tensorflow/core/platform/cpu_feature_guard.cc:141] Your CPU supports instructions that this TensorFlow binary was not compiled to use: AVX2 FMA\n",
      "\u001b[2m\u001b[36m(pid=15696, ip=192.168.8.55)\u001b[0m 2020-12-04 15:14:32.404294: I tensorflow/core/platform/profile_utils/cpu_utils.cc:94] CPU Frequency: 3599935000 Hz\n",
      "\u001b[2m\u001b[36m(pid=15696, ip=192.168.8.55)\u001b[0m 2020-12-04 15:14:32.405255: I tensorflow/compiler/xla/service/service.cc:150] XLA service 0x6d89890 executing computations on platform Host. Devices:\n",
      "\u001b[2m\u001b[36m(pid=15696, ip=192.168.8.55)\u001b[0m 2020-12-04 15:14:32.405294: I tensorflow/compiler/xla/service/service.cc:158]   StreamExecutor device (0): <undefined>, <undefined>\n",
      "\u001b[2m\u001b[36m(pid=15696, ip=192.168.8.55)\u001b[0m 2020-12-04 15:14:32.516136: I tensorflow/compiler/xla/service/service.cc:150] XLA service 0x6d8ef10 executing computations on platform CUDA. Devices:\n",
      "\u001b[2m\u001b[36m(pid=15696, ip=192.168.8.55)\u001b[0m 2020-12-04 15:14:32.516183: I tensorflow/compiler/xla/service/service.cc:158]   StreamExecutor device (0): GeForce GTX 1080 Ti, Compute Capability 6.1\n",
      "\u001b[2m\u001b[36m(pid=15696, ip=192.168.8.55)\u001b[0m 2020-12-04 15:14:32.516379: I tensorflow/core/common_runtime/gpu/gpu_device.cc:1433] Found device 0 with properties: \n",
      "\u001b[2m\u001b[36m(pid=15696, ip=192.168.8.55)\u001b[0m name: GeForce GTX 1080 Ti major: 6 minor: 1 memoryClockRate(GHz): 1.62\n",
      "\u001b[2m\u001b[36m(pid=15696, ip=192.168.8.55)\u001b[0m pciBusID: 0000:4c:00.0\n",
      "\u001b[2m\u001b[36m(pid=15696, ip=192.168.8.55)\u001b[0m totalMemory: 10.91GiB freeMemory: 10.77GiB\n",
      "\u001b[2m\u001b[36m(pid=15696, ip=192.168.8.55)\u001b[0m 2020-12-04 15:14:32.516410: I tensorflow/core/common_runtime/gpu/gpu_device.cc:1512] Adding visible gpu devices: 0\n",
      "\u001b[2m\u001b[36m(pid=15696, ip=192.168.8.55)\u001b[0m 2020-12-04 15:14:32.521289: I tensorflow/core/common_runtime/gpu/gpu_device.cc:984] Device interconnect StreamExecutor with strength 1 edge matrix:\n",
      "\u001b[2m\u001b[36m(pid=15696, ip=192.168.8.55)\u001b[0m 2020-12-04 15:14:32.521326: I tensorflow/core/common_runtime/gpu/gpu_device.cc:990]      0 \n",
      "\u001b[2m\u001b[36m(pid=15696, ip=192.168.8.55)\u001b[0m 2020-12-04 15:14:32.521342: I tensorflow/core/common_runtime/gpu/gpu_device.cc:1003] 0:   N \n",
      "\u001b[2m\u001b[36m(pid=15696, ip=192.168.8.55)\u001b[0m 2020-12-04 15:14:32.521455: I tensorflow/core/common_runtime/gpu/gpu_device.cc:1115] Created TensorFlow device (/job:localhost/replica:0/task:0/device:GPU:0 with 10479 MB memory) -> physical GPU (device: 0, name: GeForce GTX 1080 Ti, pci bus id: 0000:4c:00.0, compute capability: 6.1)\n"
     ]
    },
    {
     "name": "stdout",
     "output_type": "stream",
     "text": [
      "\u001b[2m\u001b[36m(pid=15696, ip=192.168.8.55)\u001b[0m \u001b[6;30;42mAL_Test_7\u001b[0m Restoring from /mnt/Ressources/Andres/Temp_active/runs/Active_Learning_v0/Stage_7/checkpoint/epoch0.ckpt-0\n"
     ]
    },
    {
     "name": "stderr",
     "output_type": "stream",
     "text": [
      "\u001b[2m\u001b[36m(pid=15696, ip=192.168.8.55)\u001b[0m WARNING:tensorflow:From /home/reminiz/ReminizML2/python_env/lib/python3.7/site-packages/tensorflow/python/training/saver.py:1266: checkpoint_exists (from tensorflow.python.training.checkpoint_management) is deprecated and will be removed in a future version.\n",
      "\u001b[2m\u001b[36m(pid=15696, ip=192.168.8.55)\u001b[0m Instructions for updating:\n",
      "\u001b[2m\u001b[36m(pid=15696, ip=192.168.8.55)\u001b[0m Use standard file APIs to check for files with this prefix.\n",
      "\u001b[2m\u001b[36m(pid=15696, ip=192.168.8.55)\u001b[0m 2020-12-04 15:14:34.240061: I tensorflow/stream_executor/dso_loader.cc:152] successfully opened CUDA library libcublas.so.10.0 locally\n"
     ]
    },
    {
     "name": "stdout",
     "output_type": "stream",
     "text": [
      "\u001b[2m\u001b[36m(pid=25583, ip=192.168.8.53)\u001b[0m \u001b[6;30;42mAL_Train_7\u001b[0m Epoch:  1 / 201 || Time: 2020-12-04 15:14:36 || Accuracy: 80.13 || MAE LossNet: 0.97 || \n",
      "\u001b[2m\u001b[36m(pid=15696, ip=192.168.8.55)\u001b[0m \u001b[6;30;42mAL_Test_7\u001b[0m Test || Epoch:  0 || Accuracy: 65.13 || \n"
     ]
    },
    {
     "name": "stderr",
     "output_type": "stream",
     "text": [
      "\u001b[2m\u001b[36m(pid=15696, ip=192.168.8.55)\u001b[0m \n",
      "\u001b[2m\u001b[36m(pid=15696, ip=192.168.8.55)\u001b[0m wandb: Waiting for W&B process to finish, PID 15720\n"
     ]
    },
    {
     "name": "stdout",
     "output_type": "stream",
     "text": [
      "\u001b[2m\u001b[36m(pid=25583, ip=192.168.8.53)\u001b[0m \u001b[6;30;42mAL_Train_7\u001b[0m Epoch:  2 / 201 || Time: 2020-12-04 15:14:38 || Accuracy: 82.91 || MAE LossNet: 0.78 || \n"
     ]
    },
    {
     "name": "stderr",
     "output_type": "stream",
     "text": [
      "\u001b[2m\u001b[36m(pid=15696, ip=192.168.8.55)\u001b[0m wandb: Program ended successfully.\n"
     ]
    },
    {
     "name": "stdout",
     "output_type": "stream",
     "text": [
      "\u001b[2m\u001b[36m(pid=25583, ip=192.168.8.53)\u001b[0m \u001b[6;30;42mAL_Train_7\u001b[0m Epoch:  3 / 201 || Time: 2020-12-04 15:14:41 || Accuracy: 86.42 || MAE LossNet: 0.70 || \n"
     ]
    },
    {
     "name": "stderr",
     "output_type": "stream",
     "text": [
      "\u001b[2m\u001b[36m(pid=15696, ip=192.168.8.55)\u001b[0m wandb: Run summary:\n",
      "\u001b[2m\u001b[36m(pid=15696, ip=192.168.8.55)\u001b[0m wandb:                Area Under the Curve (AUC) 0.7794242975961558\n",
      "\u001b[2m\u001b[36m(pid=15696, ip=192.168.8.55)\u001b[0m wandb:                     Mean squared error v2 24.493974685668945\n",
      "\u001b[2m\u001b[36m(pid=15696, ip=192.168.8.55)\u001b[0m wandb:                                _timestamp 1607091278.0346339\n",
      "\u001b[2m\u001b[36m(pid=15696, ip=192.168.8.55)\u001b[0m wandb:                                  F1 score 0.6508908670724096\n",
      "\u001b[2m\u001b[36m(pid=15696, ip=192.168.8.55)\u001b[0m wandb:                                  _runtime 9.956326246261597\n",
      "\u001b[2m\u001b[36m(pid=15696, ip=192.168.8.55)\u001b[0m wandb:                                     _step 0\n",
      "\u001b[2m\u001b[36m(pid=15696, ip=192.168.8.55)\u001b[0m wandb:                     Mean squared error v1 17.50869369506836\n",
      "\u001b[2m\u001b[36m(pid=15696, ip=192.168.8.55)\u001b[0m wandb:                     Explained variance v2 -0.07339024543762207\n",
      "\u001b[2m\u001b[36m(pid=15696, ip=192.168.8.55)\u001b[0m wandb:             Test: Classification Accuracy 0.6513\n",
      "\u001b[2m\u001b[36m(pid=15696, ip=192.168.8.55)\u001b[0m wandb:                    Mean absolute error v2 3.3464901447296143\n",
      "\u001b[2m\u001b[36m(pid=15696, ip=192.168.8.55)\u001b[0m wandb:                    Mean absolute error v1 2.56245756149292\n",
      "\u001b[2m\u001b[36m(pid=15696, ip=192.168.8.55)\u001b[0m wandb:                     Explained variance v1 -0.13588392734527588\n",
      "\u001b[2m\u001b[36m(pid=15696, ip=192.168.8.55)\u001b[0m wandb: Syncing files in ../../../Trainings/wandb/wandb/run-20201204_141428-1alitxr7:\n",
      "\u001b[2m\u001b[36m(pid=15696, ip=192.168.8.55)\u001b[0m wandb:   code/default_worker.py\n",
      "\u001b[2m\u001b[36m(pid=15696, ip=192.168.8.55)\u001b[0m wandb: plus 8 W&B file(s) and 2 media file(s)\n",
      "\u001b[2m\u001b[36m(pid=15696, ip=192.168.8.55)\u001b[0m wandb: - 1.51MB of 1.51MB uploaded\n",
      "\u001b[2m\u001b[36m(pid=15696, ip=192.168.8.55)\u001b[0m wandb: \\ 1.51MB of 1.51MB uploaded\n",
      "\u001b[2m\u001b[36m(pid=15696, ip=192.168.8.55)\u001b[0m wandb: | 1.51MB of 1.51MB uploaded\n",
      "\u001b[2m\u001b[36m(pid=15696, ip=192.168.8.55)\u001b[0m wandb: / 1.51MB of 1.51MB uploaded\n",
      "\u001b[2m\u001b[36m(pid=15696, ip=192.168.8.55)\u001b[0m wandb: - 1.51MB of 1.51MB uploaded\n"
     ]
    },
    {
     "name": "stdout",
     "output_type": "stream",
     "text": [
      "\u001b[2m\u001b[36m(pid=25583, ip=192.168.8.53)\u001b[0m \u001b[6;30;42mAL_Train_7\u001b[0m Epoch:  4 / 201 || Time: 2020-12-04 15:14:44 || Accuracy: 87.34 || MAE LossNet: 0.69 || \n"
     ]
    },
    {
     "name": "stderr",
     "output_type": "stream",
     "text": [
      "wandb:                                                                                \n",
      "\u001b[2m\u001b[36m(pid=15696, ip=192.168.8.55)\u001b[0m wandb: Synced AL_Test_7: http://192.168.8.51:8080/reminiz/Active_Learning_CIFAR/runs/1alitxr7\n"
     ]
    },
    {
     "name": "stdout",
     "output_type": "stream",
     "text": [
      "\u001b[2m\u001b[36m(pid=25583, ip=192.168.8.53)\u001b[0m \u001b[6;30;42mAL_Train_7\u001b[0m Epoch:  5 / 201 || Time: 2020-12-04 15:14:46 || Accuracy: 88.76 || MAE LossNet: 0.65 || \n"
     ]
    },
    {
     "name": "stderr",
     "output_type": "stream",
     "text": [
      "\u001b[2m\u001b[36m(pid=13445, ip=192.168.8.54)\u001b[0m /home/reminiz/ReminizML2/python_env/lib/python3.7/site-packages/tensorflow/python/framework/dtypes.py:526: FutureWarning: Passing (type, 1) or '1type' as a synonym of type is deprecated; in a future version of numpy, it will be understood as (type, (1,)) / '(1,)type'.\n",
      "\u001b[2m\u001b[36m(pid=13445, ip=192.168.8.54)\u001b[0m   _np_qint8 = np.dtype([(\"qint8\", np.int8, 1)])\n",
      "\u001b[2m\u001b[36m(pid=13445, ip=192.168.8.54)\u001b[0m /home/reminiz/ReminizML2/python_env/lib/python3.7/site-packages/tensorflow/python/framework/dtypes.py:527: FutureWarning: Passing (type, 1) or '1type' as a synonym of type is deprecated; in a future version of numpy, it will be understood as (type, (1,)) / '(1,)type'.\n",
      "\u001b[2m\u001b[36m(pid=13445, ip=192.168.8.54)\u001b[0m   _np_quint8 = np.dtype([(\"quint8\", np.uint8, 1)])\n",
      "\u001b[2m\u001b[36m(pid=13445, ip=192.168.8.54)\u001b[0m /home/reminiz/ReminizML2/python_env/lib/python3.7/site-packages/tensorflow/python/framework/dtypes.py:528: FutureWarning: Passing (type, 1) or '1type' as a synonym of type is deprecated; in a future version of numpy, it will be understood as (type, (1,)) / '(1,)type'.\n",
      "\u001b[2m\u001b[36m(pid=13445, ip=192.168.8.54)\u001b[0m   _np_qint16 = np.dtype([(\"qint16\", np.int16, 1)])\n",
      "\u001b[2m\u001b[36m(pid=13445, ip=192.168.8.54)\u001b[0m /home/reminiz/ReminizML2/python_env/lib/python3.7/site-packages/tensorflow/python/framework/dtypes.py:529: FutureWarning: Passing (type, 1) or '1type' as a synonym of type is deprecated; in a future version of numpy, it will be understood as (type, (1,)) / '(1,)type'.\n",
      "\u001b[2m\u001b[36m(pid=13445, ip=192.168.8.54)\u001b[0m   _np_quint16 = np.dtype([(\"quint16\", np.uint16, 1)])\n",
      "\u001b[2m\u001b[36m(pid=13445, ip=192.168.8.54)\u001b[0m /home/reminiz/ReminizML2/python_env/lib/python3.7/site-packages/tensorflow/python/framework/dtypes.py:530: FutureWarning: Passing (type, 1) or '1type' as a synonym of type is deprecated; in a future version of numpy, it will be understood as (type, (1,)) / '(1,)type'.\n",
      "\u001b[2m\u001b[36m(pid=13445, ip=192.168.8.54)\u001b[0m   _np_qint32 = np.dtype([(\"qint32\", np.int32, 1)])\n",
      "\u001b[2m\u001b[36m(pid=13445, ip=192.168.8.54)\u001b[0m /home/reminiz/ReminizML2/python_env/lib/python3.7/site-packages/tensorflow/python/framework/dtypes.py:535: FutureWarning: Passing (type, 1) or '1type' as a synonym of type is deprecated; in a future version of numpy, it will be understood as (type, (1,)) / '(1,)type'.\n",
      "\u001b[2m\u001b[36m(pid=13445, ip=192.168.8.54)\u001b[0m   np_resource = np.dtype([(\"resource\", np.ubyte, 1)])\n"
     ]
    },
    {
     "name": "stdout",
     "output_type": "stream",
     "text": [
      "\u001b[2m\u001b[36m(pid=25583, ip=192.168.8.53)\u001b[0m \u001b[6;30;42mAL_Train_7\u001b[0m Epoch:  6 / 201 || Time: 2020-12-04 15:14:52 || Accuracy: 89.05 || MAE LossNet: 0.64 || \n"
     ]
    },
    {
     "name": "stderr",
     "output_type": "stream",
     "text": [
      "\u001b[2m\u001b[36m(pid=13445, ip=192.168.8.54)\u001b[0m wandb: Tracking run with wandb version 0.8.36\n",
      "\u001b[2m\u001b[36m(pid=13445, ip=192.168.8.54)\u001b[0m wandb: Wandb version 0.10.12 is available!  To upgrade, please run:\n",
      "\u001b[2m\u001b[36m(pid=13445, ip=192.168.8.54)\u001b[0m wandb:  $ pip install wandb --upgrade\n",
      "\u001b[2m\u001b[36m(pid=13445, ip=192.168.8.54)\u001b[0m wandb: Run data is saved locally in ../../../Trainings/wandb/wandb/run-20201204_141454-1alitxr7\n",
      "\u001b[2m\u001b[36m(pid=13445, ip=192.168.8.54)\u001b[0m wandb: Syncing run AL_Test_7\n",
      "\u001b[2m\u001b[36m(pid=13445, ip=192.168.8.54)\u001b[0m wandb: ⭐️ View project at http://192.168.8.51:8080/reminiz/Active_Learning_CIFAR\n",
      "\u001b[2m\u001b[36m(pid=13445, ip=192.168.8.54)\u001b[0m wandb: 🚀 View run at http://192.168.8.51:8080/reminiz/Active_Learning_CIFAR/runs/1alitxr7\n",
      "\u001b[2m\u001b[36m(pid=13445, ip=192.168.8.54)\u001b[0m wandb: Run `wandb off` to turn off syncing.\n"
     ]
    },
    {
     "name": "stdout",
     "output_type": "stream",
     "text": [
      "\u001b[2m\u001b[36m(pid=25583, ip=192.168.8.53)\u001b[0m \u001b[6;30;42mAL_Train_7\u001b[0m Epoch:  7 / 201 || Time: 2020-12-04 15:14:55 || Accuracy: 90.57 || MAE LossNet: 0.59 || \n"
     ]
    },
    {
     "name": "stderr",
     "output_type": "stream",
     "text": [
      "\u001b[2m\u001b[36m(pid=13445, ip=192.168.8.54)\u001b[0m \n"
     ]
    },
    {
     "name": "stdout",
     "output_type": "stream",
     "text": [
      "\u001b[2m\u001b[36m(pid=13445, ip=192.168.8.54)\u001b[0m CIFAR10 Training data shape: (50000, 32, 32, 3)\n",
      "\u001b[2m\u001b[36m(pid=13445, ip=192.168.8.54)\u001b[0m CIFAR10 Training label shape (50000, 1)\n",
      "\u001b[2m\u001b[36m(pid=13445, ip=192.168.8.54)\u001b[0m CIFAR10 Test data shape (10000, 32, 32, 3)\n",
      "\u001b[2m\u001b[36m(pid=13445, ip=192.168.8.54)\u001b[0m CIFAR10 Test label shape (10000, 1)\n"
     ]
    },
    {
     "name": "stderr",
     "output_type": "stream",
     "text": [
      "\u001b[2m\u001b[36m(pid=13445, ip=192.168.8.54)\u001b[0m WARNING:tensorflow:From /home/reminiz/ReminizML2/python_env/lib/python3.7/site-packages/tensorflow/python/data/ops/dataset_ops.py:429: py_func (from tensorflow.python.ops.script_ops) is deprecated and will be removed in a future version.\n",
      "\u001b[2m\u001b[36m(pid=13445, ip=192.168.8.54)\u001b[0m Instructions for updating:\n",
      "\u001b[2m\u001b[36m(pid=13445, ip=192.168.8.54)\u001b[0m tf.py_func is deprecated in TF V2. Instead, use\n",
      "\u001b[2m\u001b[36m(pid=13445, ip=192.168.8.54)\u001b[0m     tf.py_function, which takes a python function which manipulates tf eager\n",
      "\u001b[2m\u001b[36m(pid=13445, ip=192.168.8.54)\u001b[0m     tensors instead of numpy arrays. It's easy to convert a tf eager tensor to\n",
      "\u001b[2m\u001b[36m(pid=13445, ip=192.168.8.54)\u001b[0m     an ndarray (just call tensor.numpy()) but having access to eager tensors\n",
      "\u001b[2m\u001b[36m(pid=13445, ip=192.168.8.54)\u001b[0m     means `tf.py_function`s can use accelerators such as GPUs as well as\n",
      "\u001b[2m\u001b[36m(pid=13445, ip=192.168.8.54)\u001b[0m     being differentiable using a gradient tape.\n",
      "\u001b[2m\u001b[36m(pid=13445, ip=192.168.8.54)\u001b[0m     \n",
      "\u001b[2m\u001b[36m(pid=13445, ip=192.168.8.54)\u001b[0m WARNING:tensorflow:From /home/reminiz/ReminizML2/python_env/lib/python3.7/site-packages/tensorflow/python/ops/resource_variable_ops.py:435: colocate_with (from tensorflow.python.framework.ops) is deprecated and will be removed in a future version.\n",
      "\u001b[2m\u001b[36m(pid=13445, ip=192.168.8.54)\u001b[0m Instructions for updating:\n",
      "\u001b[2m\u001b[36m(pid=13445, ip=192.168.8.54)\u001b[0m Colocations handled automatically by placer.\n"
     ]
    },
    {
     "name": "stdout",
     "output_type": "stream",
     "text": [
      "\u001b[2m\u001b[36m(pid=25583, ip=192.168.8.53)\u001b[0m \u001b[6;30;42mAL_Train_7\u001b[0m Epoch:  8 / 201 || Time: 2020-12-04 15:14:58 || Accuracy: 91.12 || MAE LossNet: 0.62 || \n"
     ]
    },
    {
     "name": "stderr",
     "output_type": "stream",
     "text": [
      "\u001b[2m\u001b[36m(pid=13445, ip=192.168.8.54)\u001b[0m 2020-12-04 15:15:00.043385: I tensorflow/core/platform/cpu_feature_guard.cc:141] Your CPU supports instructions that this TensorFlow binary was not compiled to use: AVX2 FMA\n",
      "\u001b[2m\u001b[36m(pid=13445, ip=192.168.8.54)\u001b[0m 2020-12-04 15:15:00.078262: I tensorflow/core/platform/profile_utils/cpu_utils.cc:94] CPU Frequency: 3300095000 Hz\n",
      "\u001b[2m\u001b[36m(pid=13445, ip=192.168.8.54)\u001b[0m 2020-12-04 15:15:00.078825: I tensorflow/compiler/xla/service/service.cc:150] XLA service 0x69d0740 executing computations on platform Host. Devices:\n",
      "\u001b[2m\u001b[36m(pid=13445, ip=192.168.8.54)\u001b[0m 2020-12-04 15:15:00.078849: I tensorflow/compiler/xla/service/service.cc:158]   StreamExecutor device (0): <undefined>, <undefined>\n",
      "\u001b[2m\u001b[36m(pid=13445, ip=192.168.8.54)\u001b[0m 2020-12-04 15:15:00.149895: I tensorflow/compiler/xla/service/service.cc:150] XLA service 0x69d5dc0 executing computations on platform CUDA. Devices:\n",
      "\u001b[2m\u001b[36m(pid=13445, ip=192.168.8.54)\u001b[0m 2020-12-04 15:15:00.149935: I tensorflow/compiler/xla/service/service.cc:158]   StreamExecutor device (0): GeForce GTX TITAN X, Compute Capability 5.2\n",
      "\u001b[2m\u001b[36m(pid=13445, ip=192.168.8.54)\u001b[0m 2020-12-04 15:15:00.150080: I tensorflow/core/common_runtime/gpu/gpu_device.cc:1433] Found device 0 with properties: \n",
      "\u001b[2m\u001b[36m(pid=13445, ip=192.168.8.54)\u001b[0m name: GeForce GTX TITAN X major: 5 minor: 2 memoryClockRate(GHz): 1.076\n",
      "\u001b[2m\u001b[36m(pid=13445, ip=192.168.8.54)\u001b[0m pciBusID: 0000:4b:00.0\n",
      "\u001b[2m\u001b[36m(pid=13445, ip=192.168.8.54)\u001b[0m totalMemory: 11.93GiB freeMemory: 11.82GiB\n",
      "\u001b[2m\u001b[36m(pid=13445, ip=192.168.8.54)\u001b[0m 2020-12-04 15:15:00.150099: I tensorflow/core/common_runtime/gpu/gpu_device.cc:1512] Adding visible gpu devices: 0\n",
      "\u001b[2m\u001b[36m(pid=13445, ip=192.168.8.54)\u001b[0m 2020-12-04 15:15:00.151334: I tensorflow/core/common_runtime/gpu/gpu_device.cc:984] Device interconnect StreamExecutor with strength 1 edge matrix:\n",
      "\u001b[2m\u001b[36m(pid=13445, ip=192.168.8.54)\u001b[0m 2020-12-04 15:15:00.151355: I tensorflow/core/common_runtime/gpu/gpu_device.cc:990]      0 \n",
      "\u001b[2m\u001b[36m(pid=13445, ip=192.168.8.54)\u001b[0m 2020-12-04 15:15:00.151365: I tensorflow/core/common_runtime/gpu/gpu_device.cc:1003] 0:   N \n",
      "\u001b[2m\u001b[36m(pid=13445, ip=192.168.8.54)\u001b[0m 2020-12-04 15:15:00.151447: I tensorflow/core/common_runtime/gpu/gpu_device.cc:1115] Created TensorFlow device (/job:localhost/replica:0/task:0/device:GPU:0 with 11498 MB memory) -> physical GPU (device: 0, name: GeForce GTX TITAN X, pci bus id: 0000:4b:00.0, compute capability: 5.2)\n",
      "\u001b[2m\u001b[36m(pid=13445, ip=192.168.8.54)\u001b[0m WARNING:tensorflow:From /home/reminiz/ReminizML2/python_env/lib/python3.7/site-packages/tensorflow/python/training/saver.py:1266: checkpoint_exists (from tensorflow.python.training.checkpoint_management) is deprecated and will be removed in a future version.\n",
      "\u001b[2m\u001b[36m(pid=13445, ip=192.168.8.54)\u001b[0m Instructions for updating:\n",
      "\u001b[2m\u001b[36m(pid=13445, ip=192.168.8.54)\u001b[0m Use standard file APIs to check for files with this prefix.\n"
     ]
    },
    {
     "name": "stdout",
     "output_type": "stream",
     "text": [
      "\u001b[2m\u001b[36m(pid=13445, ip=192.168.8.54)\u001b[0m \u001b[6;30;42mAL_Test_7\u001b[0m Restoring from /mnt/Ressources/Andres/Temp_active/runs/Active_Learning_v0/Stage_7/checkpoint/epoch5.ckpt-5\n",
      "\u001b[2m\u001b[36m(pid=25583, ip=192.168.8.53)\u001b[0m \u001b[6;30;42mAL_Train_7\u001b[0m Epoch:  9 / 201 || Time: 2020-12-04 15:15:00 || Accuracy: 91.43 || MAE LossNet: 0.62 || \n"
     ]
    },
    {
     "name": "stderr",
     "output_type": "stream",
     "text": [
      "\u001b[2m\u001b[36m(pid=13445, ip=192.168.8.54)\u001b[0m 2020-12-04 15:15:02.403161: I tensorflow/stream_executor/dso_loader.cc:152] successfully opened CUDA library libcublas.so.10.0 locally\n"
     ]
    }
   ],
   "source": [
    "num_run = 0\n",
    "for num_run in range(6,10):\n",
    "    if num_run==0:\n",
    "        initial_weight_path = False\n",
    "    else:\n",
    "        initial_weight_path = os.path.join(config['PROJECT']['group_dir'],'Stage_'+str(num_run-1),'checkpoint','epoch200.ckpt-200')\n",
    "        \n",
    "        \n",
    "    NetworkActor =  Active_Learning_train.remote(config, labeled_set, test_set,  num_run, initial_weight_path)\n",
    "    NetworkActor.start_training.remote()\n",
    "    \n",
    "    # Wait util the model is training\n",
    "    while True:\n",
    "        time.sleep(10)\n",
    "        try:\n",
    "            progress_id = NetworkActor.isTraining.remote()\n",
    "            response = ray.get(progress_id)\n",
    "            break\n",
    "        except:\n",
    "            pass\n",
    "        \n",
    "    # wait until the model finish training\n",
    "    while True:\n",
    "        time.sleep(10)\n",
    "        progress_id = NetworkActor.isTraining.remote()\n",
    "        response = ray.get(progress_id)\n",
    "        if not response:\n",
    "            break\n",
    "    \n",
    "    NetworkActor.__ray_terminate__.remote()\n",
    "    \n",
    "    del NetworkActor\n",
    "    \n",
    "    if config[\"TRAIN\"][\"w_l_loss\"] > 0:\n",
    "        \n",
    "        weight_file = os.path.join(config['PROJECT']['group_dir'],'Stage_'+str(num_run),'checkpoint','epoch200.ckpt-200')\n",
    "        \n",
    "        AL_inference = Active_Learning_inference.remote( config, unlabeled_set, num_run, weight_file)\n",
    "        AL_inference.evaluate.remote()\n",
    "\n",
    "        run_dir   = os.path.join(config[\"PROJECT\"][\"group_dir\"],\"Stage_\"+str(num_run))\n",
    "        evaluation_folder = os.path.join(run_dir, 'evaluation')\n",
    "        ordered_indexes   = os.path.join(evaluation_folder, \"ordered_indexes.csv\")\n",
    "\n",
    "        # wait the file qith the scores is generated\n",
    "        while True:\n",
    "            time.sleep(10)\n",
    "            if os.path.isfile(ordered_indexes):\n",
    "                break\n",
    "\n",
    "        # read the scores file and create the new labeled set and unlabeled set to repeat the trainig\n",
    "        pd_ordered_indexes = pd.read_csv(ordered_indexes)\n",
    "        new_annotated_data = list(pd_ordered_indexes.iloc[:config[\"RUNS\"][\"ADDENDUM\"]]['indexes'].to_numpy())\n",
    "        labeled_set += new_annotated_data\n",
    "        unlabeled_set =  list(pd_ordered_indexes.iloc[config[\"RUNS\"][\"ADDENDUM\"]:]['indexes'].to_numpy())\n",
    "    else :\n",
    "        num_images = (num_run+2)*config[\"RUNS\"][\"ADDENDUM\"]\n",
    "        labeled_set = indices[: num_images]\n",
    "        unlabeled_set = indices[num_images :]"
   ]
  },
  {
   "cell_type": "code",
   "execution_count": null,
   "metadata": {},
   "outputs": [],
   "source": []
  }
 ],
 "metadata": {
  "kernelspec": {
   "display_name": "Python 3",
   "language": "python",
   "name": "python3"
  },
  "language_info": {
   "codemirror_mode": {
    "name": "ipython",
    "version": 3
   },
   "file_extension": ".py",
   "mimetype": "text/x-python",
   "name": "python",
   "nbconvert_exporter": "python",
   "pygments_lexer": "ipython3",
   "version": "3.7.7"
  }
 },
 "nbformat": 4,
 "nbformat_minor": 4
}
