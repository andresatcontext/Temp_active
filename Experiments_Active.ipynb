{
 "cells": [
  {
   "cell_type": "code",
   "execution_count": 1,
   "metadata": {},
   "outputs": [
    {
     "name": "stderr",
     "output_type": "stream",
     "text": [
      "/home/reminiz/ReminizML2/python_env/lib/python3.7/site-packages/tensorflow/python/framework/dtypes.py:526: FutureWarning: Passing (type, 1) or '1type' as a synonym of type is deprecated; in a future version of numpy, it will be understood as (type, (1,)) / '(1,)type'.\n",
      "  _np_qint8 = np.dtype([(\"qint8\", np.int8, 1)])\n",
      "/home/reminiz/ReminizML2/python_env/lib/python3.7/site-packages/tensorflow/python/framework/dtypes.py:527: FutureWarning: Passing (type, 1) or '1type' as a synonym of type is deprecated; in a future version of numpy, it will be understood as (type, (1,)) / '(1,)type'.\n",
      "  _np_quint8 = np.dtype([(\"quint8\", np.uint8, 1)])\n",
      "/home/reminiz/ReminizML2/python_env/lib/python3.7/site-packages/tensorflow/python/framework/dtypes.py:528: FutureWarning: Passing (type, 1) or '1type' as a synonym of type is deprecated; in a future version of numpy, it will be understood as (type, (1,)) / '(1,)type'.\n",
      "  _np_qint16 = np.dtype([(\"qint16\", np.int16, 1)])\n",
      "/home/reminiz/ReminizML2/python_env/lib/python3.7/site-packages/tensorflow/python/framework/dtypes.py:529: FutureWarning: Passing (type, 1) or '1type' as a synonym of type is deprecated; in a future version of numpy, it will be understood as (type, (1,)) / '(1,)type'.\n",
      "  _np_quint16 = np.dtype([(\"quint16\", np.uint16, 1)])\n",
      "/home/reminiz/ReminizML2/python_env/lib/python3.7/site-packages/tensorflow/python/framework/dtypes.py:530: FutureWarning: Passing (type, 1) or '1type' as a synonym of type is deprecated; in a future version of numpy, it will be understood as (type, (1,)) / '(1,)type'.\n",
      "  _np_qint32 = np.dtype([(\"qint32\", np.int32, 1)])\n",
      "/home/reminiz/ReminizML2/python_env/lib/python3.7/site-packages/tensorflow/python/framework/dtypes.py:535: FutureWarning: Passing (type, 1) or '1type' as a synonym of type is deprecated; in a future version of numpy, it will be understood as (type, (1,)) / '(1,)type'.\n",
      "  np_resource = np.dtype([(\"resource\", np.ubyte, 1)])\n",
      "2021-01-03 22:57:34,170\tINFO worker.py:634 -- Connecting to existing Ray cluster at address: 192.168.8.51:6379\n",
      "2021-01-03 22:57:34,250\tWARNING import_thread.py:132 -- The actor 'TestModel' has been exported 100 times. It's possible that this warning is accidental, but this may indicate that the same remote function is being defined repeatedly from within many tasks and exported to all of the workers. This can be a performance issue and can be resolved by defining the remote function on the driver instead. See https://github.com/ray-project/ray/issues/6240 for more discussion.\n"
     ]
    }
   ],
   "source": [
    "from AutoML import AutoML, DataNet, AutoMLDataset\n",
    "#DataNet().restart_datanodes()\n",
    "dataset = AutoMLDataset(name=\"person_classification\", semantics=[113988, 113989, 113990], crops=True) #, override=True)"
   ]
  },
  {
   "cell_type": "code",
   "execution_count": 2,
   "metadata": {},
   "outputs": [
    {
     "name": "stderr",
     "output_type": "stream",
     "text": [
      "2021-01-03 22:57:34,730\tINFO worker.py:634 -- Connecting to existing Ray cluster at address: 192.168.8.51:6379\n",
      "2021-01-03 22:57:34,731\tERROR worker.py:643 -- Calling ray.init() again after it has already been called.\n"
     ]
    }
   ],
   "source": [
    "import ray\n",
    "ray.init(address=\"auto\", ignore_reinit_error=True)"
   ]
  },
  {
   "cell_type": "code",
   "execution_count": 3,
   "metadata": {},
   "outputs": [],
   "source": [
    "add_images_stage = 5000"
   ]
  },
  {
   "cell_type": "code",
   "execution_count": 4,
   "metadata": {},
   "outputs": [],
   "source": [
    "# get the indexes to emulate the labeled set\n",
    "\n",
    "import numpy as np\n",
    "import random\n",
    "\n",
    "list_classes = list(dataset.dataset_header['train_images'].keys())\n",
    "nb_classes = len(list_classes)        \n",
    "classes={}\n",
    "files = []\n",
    "labels = []\n",
    "nb_img_per_class = np.zeros(nb_classes, dtype = np.int32)\n",
    "classes_cardinality = {}\n",
    "\n",
    "for class_name in list_classes:\n",
    "    class_index = list_classes.index(class_name)\n",
    "    classes_cardinality[class_name] = len(dataset.dataset_header['train_images'][class_name])\n",
    "    nb_img_per_class[class_index] = classes_cardinality[class_name]\n",
    "    start = len(files)\n",
    "    id_files = dataset.dataset_header[\"train_images\"][class_name]\n",
    "    files+=id_files\n",
    "    labels+=[class_index] * len(id_files)\n",
    "    end = len(files)\n",
    "    classes[class_index]=range(start, end)\n",
    "\n",
    "    \n",
    "all_files = np.array(files)\n",
    "all_labels = np.array(labels)\n",
    "indices = list(range(len(files)))\n",
    "random.seed(101)\n",
    "random.shuffle(indices)\n",
    "labeled_set_index = indices[:add_images_stage ]\n",
    "unlabeled_set_index = indices[add_images_stage :]\n",
    "\n",
    "files_labeled_set = list(all_files[labeled_set_index])\n",
    "files_unlabeled_set = list(all_files[unlabeled_set_index])\n",
    "\n",
    "labels_labeled_set = list(all_labels[labeled_set_index])\n",
    "labels_unlabeled_set = list(all_labels[unlabeled_set_index])\n"
   ]
  },
  {
   "cell_type": "code",
   "execution_count": null,
   "metadata": {},
   "outputs": [],
   "source": []
  },
  {
   "cell_type": "code",
   "execution_count": 5,
   "metadata": {},
   "outputs": [
    {
     "name": "stdout",
     "output_type": "stream",
     "text": [
      "{'DATASET': {'Data_augementation': True, 'original_size': 256, 'pad': False, 'sampling': 'log_proportional', 'random_crop': True, 'random_crop_margin': 0.1, 'random_flip': True, 'random_greyscale': False, 'random_hue': False, 'rot90': False, 'random_brightness': False, 'random_saturation': False}, 'NETWORK': {'Backbone': 'ResNet50', 'INPUT_SIZE': 256, 'MARGIN': 1.0, 'embedding_size': 128}, 'PROJECT': {'dataset_name': 'person_classification', 'group': 'AL_v1', 'group_dir': '/mnt/Ressources/Andres/runs/AL_v1', 'project': 'Active_Learning_Datanet', 'project_dir': '/mnt/Ressources/Andres/runs'}, 'TEST': {'batch_size': 16}, 'TRAIN': {'EPOCH_SLIT': 80, 'EPOCH_WARMUP': 2, 'EPOCH_WHOLE': 120, 'MILESTONES': [140, 180], 'batch_size': 16, 'lr': 0.0025, 'test_each': 1, 'transfer_weight_path': '/mnt/Ressources/Andres/runs/imagenet/resnet50_weights_tf_dim_ordering_tf_kernels_notop.h5', 'weight_lossnet_loss': 1.0, 'weight_decay': 2e-05, 'apply_weight_decay': False}}\n"
     ]
    }
   ],
   "source": [
    "# load defaulft config\n",
    "import yaml\n",
    "\n",
    "config_path = '/mnt/Ressources/Andres/Temp_active/configs/Datanet_AL.yml'\n",
    "\n",
    "with open(config_path) as file:\n",
    "    # The FullLoader parameter handles the conversion from YAML\n",
    "    # scalar values to Python the dictionary format\n",
    "    config = yaml.load(file, Loader=yaml.FullLoader)\n",
    "\n",
    "print(config)"
   ]
  },
  {
   "cell_type": "code",
   "execution_count": 6,
   "metadata": {},
   "outputs": [],
   "source": [
    "import time\n",
    "import os\n",
    "import pandas as pd"
   ]
  },
  {
   "cell_type": "code",
   "execution_count": 7,
   "metadata": {},
   "outputs": [],
   "source": [
    "from train_agent_classification_AL import Active_Learning_train\n",
    "from inference_agent_classification import Active_Learning_inference"
   ]
  },
  {
   "cell_type": "code",
   "execution_count": 8,
   "metadata": {},
   "outputs": [],
   "source": [
    "resumeat = 1\n",
    "\n",
    "for num_run in range(resumeat):\n",
    "    run_dir   = os.path.join(config[\"PROJECT\"][\"group_dir\"],\"Stage_\"+str(num_run))\n",
    "    ordered_indexes   = os.path.join(run_dir, \"ordered_indexes.csv\")\n",
    "\n",
    "    # read the scores file and create the new labeled set and unlabeled set to repeat the trainig\n",
    "    pd_ordered_indexes = pd.read_csv(ordered_indexes)\n",
    "    \n",
    "    new_files_set = pd_ordered_indexes['files'].values\n",
    "    new_files_set = [i[2:-1] for i in new_files_set]\n",
    "    new_labels_set = pd_ordered_indexes['labels'].values\n",
    "    \n",
    "    files_labeled_set    += list(new_files_set[:5000])\n",
    "    labels_labeled_set   += list(new_labels_set[:5000])\n",
    "\n",
    "    files_unlabeled_set  = list(new_files_set[5000:])\n",
    "    labels_unlabeled_set = list(new_labels_set[5000:])\n"
   ]
  },
  {
   "cell_type": "code",
   "execution_count": null,
   "metadata": {},
   "outputs": [],
   "source": []
  },
  {
   "cell_type": "code",
   "execution_count": null,
   "metadata": {},
   "outputs": [],
   "source": []
  },
  {
   "cell_type": "code",
   "execution_count": null,
   "metadata": {},
   "outputs": [],
   "source": []
  },
  {
   "cell_type": "code",
   "execution_count": null,
   "metadata": {},
   "outputs": [
    {
     "name": "stderr",
     "output_type": "stream",
     "text": [
      "\u001b[2m\u001b[36m(pid=20732, ip=192.168.8.54)\u001b[0m /home/reminiz/ReminizML2/python_env/lib/python3.7/site-packages/tensorflow/python/framework/dtypes.py:526: FutureWarning: Passing (type, 1) or '1type' as a synonym of type is deprecated; in a future version of numpy, it will be understood as (type, (1,)) / '(1,)type'.\n",
      "\u001b[2m\u001b[36m(pid=20732, ip=192.168.8.54)\u001b[0m   _np_qint8 = np.dtype([(\"qint8\", np.int8, 1)])\n",
      "\u001b[2m\u001b[36m(pid=20732, ip=192.168.8.54)\u001b[0m /home/reminiz/ReminizML2/python_env/lib/python3.7/site-packages/tensorflow/python/framework/dtypes.py:527: FutureWarning: Passing (type, 1) or '1type' as a synonym of type is deprecated; in a future version of numpy, it will be understood as (type, (1,)) / '(1,)type'.\n",
      "\u001b[2m\u001b[36m(pid=20732, ip=192.168.8.54)\u001b[0m   _np_quint8 = np.dtype([(\"quint8\", np.uint8, 1)])\n",
      "\u001b[2m\u001b[36m(pid=20732, ip=192.168.8.54)\u001b[0m /home/reminiz/ReminizML2/python_env/lib/python3.7/site-packages/tensorflow/python/framework/dtypes.py:528: FutureWarning: Passing (type, 1) or '1type' as a synonym of type is deprecated; in a future version of numpy, it will be understood as (type, (1,)) / '(1,)type'.\n",
      "\u001b[2m\u001b[36m(pid=20732, ip=192.168.8.54)\u001b[0m   _np_qint16 = np.dtype([(\"qint16\", np.int16, 1)])\n",
      "\u001b[2m\u001b[36m(pid=20732, ip=192.168.8.54)\u001b[0m /home/reminiz/ReminizML2/python_env/lib/python3.7/site-packages/tensorflow/python/framework/dtypes.py:529: FutureWarning: Passing (type, 1) or '1type' as a synonym of type is deprecated; in a future version of numpy, it will be understood as (type, (1,)) / '(1,)type'.\n",
      "\u001b[2m\u001b[36m(pid=20732, ip=192.168.8.54)\u001b[0m   _np_quint16 = np.dtype([(\"quint16\", np.uint16, 1)])\n",
      "\u001b[2m\u001b[36m(pid=20732, ip=192.168.8.54)\u001b[0m /home/reminiz/ReminizML2/python_env/lib/python3.7/site-packages/tensorflow/python/framework/dtypes.py:530: FutureWarning: Passing (type, 1) or '1type' as a synonym of type is deprecated; in a future version of numpy, it will be understood as (type, (1,)) / '(1,)type'.\n",
      "\u001b[2m\u001b[36m(pid=20732, ip=192.168.8.54)\u001b[0m   _np_qint32 = np.dtype([(\"qint32\", np.int32, 1)])\n",
      "\u001b[2m\u001b[36m(pid=20732, ip=192.168.8.54)\u001b[0m /home/reminiz/ReminizML2/python_env/lib/python3.7/site-packages/tensorflow/python/framework/dtypes.py:535: FutureWarning: Passing (type, 1) or '1type' as a synonym of type is deprecated; in a future version of numpy, it will be understood as (type, (1,)) / '(1,)type'.\n",
      "\u001b[2m\u001b[36m(pid=20732, ip=192.168.8.54)\u001b[0m   np_resource = np.dtype([(\"resource\", np.ubyte, 1)])\n",
      "\u001b[2m\u001b[36m(pid=20732, ip=192.168.8.54)\u001b[0m 2021-01-03 22:58:23.116283: I tensorflow/core/platform/cpu_feature_guard.cc:141] Your CPU supports instructions that this TensorFlow binary was not compiled to use: AVX2 FMA\n",
      "\u001b[2m\u001b[36m(pid=20732, ip=192.168.8.54)\u001b[0m 2021-01-03 22:58:23.139344: I tensorflow/core/platform/profile_utils/cpu_utils.cc:94] CPU Frequency: 3299935000 Hz\n",
      "\u001b[2m\u001b[36m(pid=20732, ip=192.168.8.54)\u001b[0m 2021-01-03 22:58:23.140323: I tensorflow/compiler/xla/service/service.cc:150] XLA service 0x544c060 executing computations on platform Host. Devices:\n",
      "\u001b[2m\u001b[36m(pid=20732, ip=192.168.8.54)\u001b[0m 2021-01-03 22:58:23.140367: I tensorflow/compiler/xla/service/service.cc:158]   StreamExecutor device (0): <undefined>, <undefined>\n",
      "\u001b[2m\u001b[36m(pid=20732, ip=192.168.8.54)\u001b[0m 2021-01-03 22:58:23.214671: I tensorflow/compiler/xla/service/service.cc:150] XLA service 0x5488320 executing computations on platform CUDA. Devices:\n",
      "\u001b[2m\u001b[36m(pid=20732, ip=192.168.8.54)\u001b[0m 2021-01-03 22:58:23.214706: I tensorflow/compiler/xla/service/service.cc:158]   StreamExecutor device (0): GeForce GTX TITAN X, Compute Capability 5.2\n",
      "\u001b[2m\u001b[36m(pid=20732, ip=192.168.8.54)\u001b[0m 2021-01-03 22:58:23.214839: I tensorflow/core/common_runtime/gpu/gpu_device.cc:1433] Found device 0 with properties: \n",
      "\u001b[2m\u001b[36m(pid=20732, ip=192.168.8.54)\u001b[0m name: GeForce GTX TITAN X major: 5 minor: 2 memoryClockRate(GHz): 1.076\n",
      "\u001b[2m\u001b[36m(pid=20732, ip=192.168.8.54)\u001b[0m pciBusID: 0000:4b:00.0\n",
      "\u001b[2m\u001b[36m(pid=20732, ip=192.168.8.54)\u001b[0m totalMemory: 11.93GiB freeMemory: 11.82GiB\n",
      "\u001b[2m\u001b[36m(pid=20732, ip=192.168.8.54)\u001b[0m 2021-01-03 22:58:23.214858: I tensorflow/core/common_runtime/gpu/gpu_device.cc:1512] Adding visible gpu devices: 0\n",
      "\u001b[2m\u001b[36m(pid=20732, ip=192.168.8.54)\u001b[0m 2021-01-03 22:58:23.216346: I tensorflow/core/common_runtime/gpu/gpu_device.cc:984] Device interconnect StreamExecutor with strength 1 edge matrix:\n",
      "\u001b[2m\u001b[36m(pid=20732, ip=192.168.8.54)\u001b[0m 2021-01-03 22:58:23.216364: I tensorflow/core/common_runtime/gpu/gpu_device.cc:990]      0 \n",
      "\u001b[2m\u001b[36m(pid=20732, ip=192.168.8.54)\u001b[0m 2021-01-03 22:58:23.216372: I tensorflow/core/common_runtime/gpu/gpu_device.cc:1003] 0:   N \n",
      "\u001b[2m\u001b[36m(pid=20732, ip=192.168.8.54)\u001b[0m 2021-01-03 22:58:23.216455: I tensorflow/core/common_runtime/gpu/gpu_device.cc:1115] Created TensorFlow device (/job:localhost/replica:0/task:0/device:GPU:0 with 11496 MB memory) -> physical GPU (device: 0, name: GeForce GTX TITAN X, pci bus id: 0000:4b:00.0, compute capability: 5.2)\n",
      "\u001b[2m\u001b[36m(pid=20732, ip=192.168.8.54)\u001b[0m /home/reminiz/ReminizML2/python_env/lib/python3.7/site-packages/tensorboard/compat/tensorflow_stub/dtypes.py:541: FutureWarning: Passing (type, 1) or '1type' as a synonym of type is deprecated; in a future version of numpy, it will be understood as (type, (1,)) / '(1,)type'.\n",
      "\u001b[2m\u001b[36m(pid=20732, ip=192.168.8.54)\u001b[0m   _np_qint8 = np.dtype([(\"qint8\", np.int8, 1)])\n",
      "\u001b[2m\u001b[36m(pid=20732, ip=192.168.8.54)\u001b[0m /home/reminiz/ReminizML2/python_env/lib/python3.7/site-packages/tensorboard/compat/tensorflow_stub/dtypes.py:542: FutureWarning: Passing (type, 1) or '1type' as a synonym of type is deprecated; in a future version of numpy, it will be understood as (type, (1,)) / '(1,)type'.\n",
      "\u001b[2m\u001b[36m(pid=20732, ip=192.168.8.54)\u001b[0m   _np_quint8 = np.dtype([(\"quint8\", np.uint8, 1)])\n",
      "\u001b[2m\u001b[36m(pid=20732, ip=192.168.8.54)\u001b[0m /home/reminiz/ReminizML2/python_env/lib/python3.7/site-packages/tensorboard/compat/tensorflow_stub/dtypes.py:543: FutureWarning: Passing (type, 1) or '1type' as a synonym of type is deprecated; in a future version of numpy, it will be understood as (type, (1,)) / '(1,)type'.\n",
      "\u001b[2m\u001b[36m(pid=20732, ip=192.168.8.54)\u001b[0m   _np_qint16 = np.dtype([(\"qint16\", np.int16, 1)])\n",
      "\u001b[2m\u001b[36m(pid=20732, ip=192.168.8.54)\u001b[0m /home/reminiz/ReminizML2/python_env/lib/python3.7/site-packages/tensorboard/compat/tensorflow_stub/dtypes.py:544: FutureWarning: Passing (type, 1) or '1type' as a synonym of type is deprecated; in a future version of numpy, it will be understood as (type, (1,)) / '(1,)type'.\n",
      "\u001b[2m\u001b[36m(pid=20732, ip=192.168.8.54)\u001b[0m   _np_quint16 = np.dtype([(\"quint16\", np.uint16, 1)])\n",
      "\u001b[2m\u001b[36m(pid=20732, ip=192.168.8.54)\u001b[0m /home/reminiz/ReminizML2/python_env/lib/python3.7/site-packages/tensorboard/compat/tensorflow_stub/dtypes.py:545: FutureWarning: Passing (type, 1) or '1type' as a synonym of type is deprecated; in a future version of numpy, it will be understood as (type, (1,)) / '(1,)type'.\n",
      "\u001b[2m\u001b[36m(pid=20732, ip=192.168.8.54)\u001b[0m   _np_qint32 = np.dtype([(\"qint32\", np.int32, 1)])\n",
      "\u001b[2m\u001b[36m(pid=20732, ip=192.168.8.54)\u001b[0m /home/reminiz/ReminizML2/python_env/lib/python3.7/site-packages/tensorboard/compat/tensorflow_stub/dtypes.py:550: FutureWarning: Passing (type, 1) or '1type' as a synonym of type is deprecated; in a future version of numpy, it will be understood as (type, (1,)) / '(1,)type'.\n",
      "\u001b[2m\u001b[36m(pid=20732, ip=192.168.8.54)\u001b[0m   np_resource = np.dtype([(\"resource\", np.ubyte, 1)])\n",
      "\u001b[2m\u001b[36m(pid=20732, ip=192.168.8.54)\u001b[0m wandb: Tracking run with wandb version 0.8.36\n",
      "\u001b[2m\u001b[36m(pid=20732, ip=192.168.8.54)\u001b[0m wandb: Wandb version 0.10.12 is available!  To upgrade, please run:\n",
      "\u001b[2m\u001b[36m(pid=20732, ip=192.168.8.54)\u001b[0m wandb:  $ pip install wandb --upgrade\n",
      "\u001b[2m\u001b[36m(pid=20732, ip=192.168.8.54)\u001b[0m wandb: Run data is saved locally in ../../../Trainings/wandb/wandb/run-20210103_215823-3twn8lw7\n",
      "\u001b[2m\u001b[36m(pid=20732, ip=192.168.8.54)\u001b[0m wandb: Syncing run Train_1\n",
      "\u001b[2m\u001b[36m(pid=20732, ip=192.168.8.54)\u001b[0m wandb: ⭐️ View project at http://192.168.8.51:8080/reminiz/Active_Learning_Datanet\n",
      "\u001b[2m\u001b[36m(pid=20732, ip=192.168.8.54)\u001b[0m wandb: 🚀 View run at http://192.168.8.51:8080/reminiz/Active_Learning_Datanet/runs/3twn8lw7\n",
      "\u001b[2m\u001b[36m(pid=20732, ip=192.168.8.54)\u001b[0m wandb: Run `wandb off` to turn off syncing.\n",
      "\u001b[2m\u001b[36m(pid=20732, ip=192.168.8.54)\u001b[0m \n",
      "\u001b[2m\u001b[36m(pid=20732, ip=192.168.8.54)\u001b[0m WARNING:tensorflow:From /home/reminiz/ReminizML2/python_env/lib/python3.7/site-packages/tensorflow/python/data/ops/dataset_ops.py:429: py_func (from tensorflow.python.ops.script_ops) is deprecated and will be removed in a future version.\n",
      "\u001b[2m\u001b[36m(pid=20732, ip=192.168.8.54)\u001b[0m Instructions for updating:\n",
      "\u001b[2m\u001b[36m(pid=20732, ip=192.168.8.54)\u001b[0m tf.py_func is deprecated in TF V2. Instead, use\n",
      "\u001b[2m\u001b[36m(pid=20732, ip=192.168.8.54)\u001b[0m     tf.py_function, which takes a python function which manipulates tf eager\n",
      "\u001b[2m\u001b[36m(pid=20732, ip=192.168.8.54)\u001b[0m     tensors instead of numpy arrays. It's easy to convert a tf eager tensor to\n",
      "\u001b[2m\u001b[36m(pid=20732, ip=192.168.8.54)\u001b[0m     an ndarray (just call tensor.numpy()) but having access to eager tensors\n",
      "\u001b[2m\u001b[36m(pid=20732, ip=192.168.8.54)\u001b[0m     means `tf.py_function`s can use accelerators such as GPUs as well as\n",
      "\u001b[2m\u001b[36m(pid=20732, ip=192.168.8.54)\u001b[0m     being differentiable using a gradient tape.\n",
      "\u001b[2m\u001b[36m(pid=20732, ip=192.168.8.54)\u001b[0m     \n",
      "\u001b[2m\u001b[36m(pid=20732, ip=192.168.8.54)\u001b[0m WARNING:tensorflow:From /home/reminiz/ReminizML2/python_env/lib/python3.7/site-packages/tensorflow/python/ops/tensor_array_ops.py:162: colocate_with (from tensorflow.python.framework.ops) is deprecated and will be removed in a future version.\n",
      "\u001b[2m\u001b[36m(pid=20732, ip=192.168.8.54)\u001b[0m Instructions for updating:\n",
      "\u001b[2m\u001b[36m(pid=20732, ip=192.168.8.54)\u001b[0m Colocations handled automatically by placer.\n",
      "\u001b[2m\u001b[36m(pid=20732, ip=192.168.8.54)\u001b[0m WARNING:tensorflow:From /home/reminiz/ReminizML2/python_env/lib/python3.7/site-packages/tensorflow/python/ops/image_ops_impl.py:1241: div (from tensorflow.python.ops.math_ops) is deprecated and will be removed in a future version.\n",
      "\u001b[2m\u001b[36m(pid=20732, ip=192.168.8.54)\u001b[0m Instructions for updating:\n",
      "\u001b[2m\u001b[36m(pid=20732, ip=192.168.8.54)\u001b[0m Deprecated in favor of operator or tf.math.divide.\n"
     ]
    },
    {
     "name": "stdout",
     "output_type": "stream",
     "text": [
      "\u001b[2m\u001b[36m(pid=20732, ip=192.168.8.54)\u001b[0m Subset set to : train\n",
      "\u001b[2m\u001b[36m(pid=20732, ip=192.168.8.54)\u001b[0m \u001b[1;36mTrain_Stage_1\u001b[0;0m The backbone is:  ResNet50\n",
      "\u001b[2m\u001b[36m(pid=20732, ip=192.168.8.54)\u001b[0m \u001b[1;36mTrain_Stage_1\u001b[0;0m Loading weigths from:  /mnt/Ressources/Andres/runs/AL_v1/Stage_0/checkpoints/checkpoint.200.hdf5\n",
      "\u001b[2m\u001b[36m(pid=20732, ip=192.168.8.54)\u001b[0m \u001b[1;36mTrain_Stage_1\u001b[0;0m The detected epoch is:  200\n"
     ]
    },
    {
     "name": "stderr",
     "output_type": "stream",
     "text": [
      "\u001b[2m\u001b[36m(pid=20732, ip=192.168.8.54)\u001b[0m 2021-01-03 22:58:32,121\tINFO worker.py:634 -- Connecting to existing Ray cluster at address: 192.168.8.51:6379\n",
      "\u001b[2m\u001b[36m(pid=20732, ip=192.168.8.54)\u001b[0m 2021-01-03 22:58:32,121\tERROR worker.py:643 -- Calling ray.init() again after it has already been called.\n",
      "\u001b[2m\u001b[36m(pid=20732, ip=192.168.8.54)\u001b[0m WARNING:tensorflow:Output \"Embedding\" missing from loss dictionary. We assume this was done on purpose. The fit and evaluate APIs will not be expecting any data to be passed to \"Embedding\".\n",
      "\u001b[2m\u001b[36m(pid=20732, ip=192.168.8.54)\u001b[0m WARNING:tensorflow:Output \"Embedding\" missing from loss dictionary. We assume this was done on purpose. The fit and evaluate APIs will not be expecting any data to be passed to \"Embedding\".\n"
     ]
    },
    {
     "name": "stdout",
     "output_type": "stream",
     "text": [
      "\u001b[2m\u001b[36m(pid=20732, ip=192.168.8.54)\u001b[0m \u001b[1;36mTrain_Stage_1\u001b[0;0m Init done\n",
      "\u001b[2m\u001b[36m(pid=20732, ip=192.168.8.54)\u001b[0m \u001b[1;36mTrain_Stage_1\u001b[0;0m Start training\n"
     ]
    },
    {
     "name": "stderr",
     "output_type": "stream",
     "text": [
      "\u001b[2m\u001b[36m(pid=20732, ip=192.168.8.54)\u001b[0m WARNING:tensorflow:From /home/reminiz/ReminizML2/python_env/lib/python3.7/site-packages/tensorflow/python/ops/math_ops.py:3066: to_int32 (from tensorflow.python.ops.math_ops) is deprecated and will be removed in a future version.\n",
      "\u001b[2m\u001b[36m(pid=20732, ip=192.168.8.54)\u001b[0m Instructions for updating:\n",
      "\u001b[2m\u001b[36m(pid=20732, ip=192.168.8.54)\u001b[0m Use tf.cast instead.\n"
     ]
    },
    {
     "name": "stdout",
     "output_type": "stream",
     "text": [
      "\u001b[2m\u001b[36m(pid=20732, ip=192.168.8.54)\u001b[0m Epoch 1/200\n"
     ]
    },
    {
     "name": "stderr",
     "output_type": "stream",
     "text": [
      "\u001b[2m\u001b[36m(pid=20732, ip=192.168.8.54)\u001b[0m 2021-01-03 22:59:18.476703: I tensorflow/stream_executor/dso_loader.cc:152] successfully opened CUDA library libcublas.so.10.0 locally\n"
     ]
    },
    {
     "name": "stdout",
     "output_type": "stream",
     "text": [
      "\u001b[2m\u001b[36m(pid=21666, ip=192.168.8.52)\u001b[0m  - 119s - loss: 0.2123 - c_pred_loss: 0.1072 - l_pred_w_loss: 0.1051 - l_pred_s_loss: 0.1051 - c_pred_sparse_categorical_accuracy: 0.9600 - l_pred_w_MAE_Lossnet: 5.3539 - l_pred_s_MAE_Lossnet: 5.3539\n",
      "\u001b[2m\u001b[36m(pid=21666, ip=192.168.8.52)\u001b[0m Epoch 91/200\n",
      "\u001b[2m\u001b[36m(pid=21666, ip=192.168.8.52)\u001b[0m  - 120s - loss: 0.1995 - c_pred_loss: 0.0968 - l_pred_w_loss: 0.1027 - l_pred_s_loss: 0.1027 - c_pred_sparse_categorical_accuracy: 0.9658 - l_pred_w_MAE_Lossnet: 5.1204 - l_pred_s_MAE_Lossnet: 5.1204\n",
      "\u001b[2m\u001b[36m(pid=21666, ip=192.168.8.52)\u001b[0m Epoch 92/200\n",
      "\u001b[2m\u001b[36m(pid=20732, ip=192.168.8.54)\u001b[0m  - 206s - loss: 0.8160 - c_pred_loss: 0.6089 - l_pred_w_loss: 0.2071 - l_pred_s_loss: 0.2071 - c_pred_sparse_categorical_accuracy: 0.7639 - l_pred_w_MAE_Lossnet: 3.3704 - l_pred_s_MAE_Lossnet: 3.3704\n",
      "\u001b[2m\u001b[36m(pid=20732, ip=192.168.8.54)\u001b[0m Epoch 2/200\n",
      "\u001b[2m\u001b[36m(pid=21666, ip=192.168.8.52)\u001b[0m  - 120s - loss: 0.1982 - c_pred_loss: 0.0946 - l_pred_w_loss: 0.1036 - l_pred_s_loss: 0.1036 - c_pred_sparse_categorical_accuracy: 0.9650 - l_pred_w_MAE_Lossnet: 5.6527 - l_pred_s_MAE_Lossnet: 5.6527\n",
      "\u001b[2m\u001b[36m(pid=21666, ip=192.168.8.52)\u001b[0m Epoch 93/200\n",
      "\u001b[2m\u001b[36m(pid=20732, ip=192.168.8.54)\u001b[0m  - 165s - loss: 0.7566 - c_pred_loss: 0.5576 - l_pred_w_loss: 0.1990 - l_pred_s_loss: 0.1990 - c_pred_sparse_categorical_accuracy: 0.7688 - l_pred_w_MAE_Lossnet: 2.9148 - l_pred_s_MAE_Lossnet: 2.9148\n",
      "\u001b[2m\u001b[36m(pid=20732, ip=192.168.8.54)\u001b[0m Epoch 3/200\n",
      "\u001b[2m\u001b[36m(pid=21666, ip=192.168.8.52)\u001b[0m  - 120s - loss: 0.1994 - c_pred_loss: 0.0978 - l_pred_w_loss: 0.1016 - l_pred_s_loss: 0.1016 - c_pred_sparse_categorical_accuracy: 0.9630 - l_pred_w_MAE_Lossnet: 5.5386 - l_pred_s_MAE_Lossnet: 5.5386\n",
      "\u001b[2m\u001b[36m(pid=21666, ip=192.168.8.52)\u001b[0m Epoch 94/200\n",
      "\u001b[2m\u001b[36m(pid=13878, ip=192.168.8.52)\u001b[0m Epoch: 14 Time: 2021-01-03 23:05:38 Train loss: 0.16 Count NaN: 0 Saving\n"
     ]
    },
    {
     "name": "stderr",
     "output_type": "stream",
     "text": [
      "\u001b[2m\u001b[36m(pid=24182, ip=192.168.8.55)\u001b[0m /home/reminiz/ReminizML2/python_env/lib/python3.7/site-packages/tensorflow/python/framework/dtypes.py:526: FutureWarning: Passing (type, 1) or '1type' as a synonym of type is deprecated; in a future version of numpy, it will be understood as (type, (1,)) / '(1,)type'.\n",
      "\u001b[2m\u001b[36m(pid=24182, ip=192.168.8.55)\u001b[0m   _np_qint8 = np.dtype([(\"qint8\", np.int8, 1)])\n",
      "\u001b[2m\u001b[36m(pid=24182, ip=192.168.8.55)\u001b[0m /home/reminiz/ReminizML2/python_env/lib/python3.7/site-packages/tensorflow/python/framework/dtypes.py:527: FutureWarning: Passing (type, 1) or '1type' as a synonym of type is deprecated; in a future version of numpy, it will be understood as (type, (1,)) / '(1,)type'.\n",
      "\u001b[2m\u001b[36m(pid=24182, ip=192.168.8.55)\u001b[0m   _np_quint8 = np.dtype([(\"quint8\", np.uint8, 1)])\n",
      "\u001b[2m\u001b[36m(pid=24182, ip=192.168.8.55)\u001b[0m /home/reminiz/ReminizML2/python_env/lib/python3.7/site-packages/tensorflow/python/framework/dtypes.py:528: FutureWarning: Passing (type, 1) or '1type' as a synonym of type is deprecated; in a future version of numpy, it will be understood as (type, (1,)) / '(1,)type'.\n",
      "\u001b[2m\u001b[36m(pid=24182, ip=192.168.8.55)\u001b[0m   _np_qint16 = np.dtype([(\"qint16\", np.int16, 1)])\n",
      "\u001b[2m\u001b[36m(pid=24182, ip=192.168.8.55)\u001b[0m /home/reminiz/ReminizML2/python_env/lib/python3.7/site-packages/tensorflow/python/framework/dtypes.py:529: FutureWarning: Passing (type, 1) or '1type' as a synonym of type is deprecated; in a future version of numpy, it will be understood as (type, (1,)) / '(1,)type'.\n",
      "\u001b[2m\u001b[36m(pid=24182, ip=192.168.8.55)\u001b[0m   _np_quint16 = np.dtype([(\"quint16\", np.uint16, 1)])\n",
      "\u001b[2m\u001b[36m(pid=24182, ip=192.168.8.55)\u001b[0m /home/reminiz/ReminizML2/python_env/lib/python3.7/site-packages/tensorflow/python/framework/dtypes.py:530: FutureWarning: Passing (type, 1) or '1type' as a synonym of type is deprecated; in a future version of numpy, it will be understood as (type, (1,)) / '(1,)type'.\n",
      "\u001b[2m\u001b[36m(pid=24182, ip=192.168.8.55)\u001b[0m   _np_qint32 = np.dtype([(\"qint32\", np.int32, 1)])\n",
      "\u001b[2m\u001b[36m(pid=24182, ip=192.168.8.55)\u001b[0m /home/reminiz/ReminizML2/python_env/lib/python3.7/site-packages/tensorflow/python/framework/dtypes.py:535: FutureWarning: Passing (type, 1) or '1type' as a synonym of type is deprecated; in a future version of numpy, it will be understood as (type, (1,)) / '(1,)type'.\n",
      "\u001b[2m\u001b[36m(pid=24182, ip=192.168.8.55)\u001b[0m   np_resource = np.dtype([(\"resource\", np.ubyte, 1)])\n"
     ]
    },
    {
     "name": "stdout",
     "output_type": "stream",
     "text": [
      "\u001b[2m\u001b[36m(pid=21666, ip=192.168.8.52)\u001b[0m  - 120s - loss: 0.1913 - c_pred_loss: 0.0942 - l_pred_w_loss: 0.0971 - l_pred_s_loss: 0.0971 - c_pred_sparse_categorical_accuracy: 0.9658 - l_pred_w_MAE_Lossnet: 5.1760 - l_pred_s_MAE_Lossnet: 5.1760\n",
      "\u001b[2m\u001b[36m(pid=21666, ip=192.168.8.52)\u001b[0m Epoch 95/200\n",
      "\u001b[2m\u001b[36m(pid=20732, ip=192.168.8.54)\u001b[0m  - 166s - loss: 0.7077 - c_pred_loss: 0.5211 - l_pred_w_loss: 0.1866 - l_pred_s_loss: 0.1866 - c_pred_sparse_categorical_accuracy: 0.7859 - l_pred_w_MAE_Lossnet: 2.9156 - l_pred_s_MAE_Lossnet: 2.9156\n",
      "\u001b[2m\u001b[36m(pid=20732, ip=192.168.8.54)\u001b[0m Epoch 4/200\n"
     ]
    },
    {
     "name": "stderr",
     "output_type": "stream",
     "text": [
      "\u001b[2m\u001b[36m(pid=24182, ip=192.168.8.55)\u001b[0m wandb: Tracking run with wandb version 0.8.36\n",
      "\u001b[2m\u001b[36m(pid=24182, ip=192.168.8.55)\u001b[0m wandb: Wandb version 0.10.12 is available!  To upgrade, please run:\n",
      "\u001b[2m\u001b[36m(pid=24182, ip=192.168.8.55)\u001b[0m wandb:  $ pip install wandb --upgrade\n",
      "\u001b[2m\u001b[36m(pid=24182, ip=192.168.8.55)\u001b[0m wandb: Run data is saved locally in ../../../Trainings/wandb/wandb/run-20210103_220813-3d9ir3ww\n",
      "\u001b[2m\u001b[36m(pid=24182, ip=192.168.8.55)\u001b[0m wandb: Syncing run 3d9ir3ww\n",
      "\u001b[2m\u001b[36m(pid=24182, ip=192.168.8.55)\u001b[0m wandb: ⭐️ View project at http://192.168.8.51:8080/reminiz/Face%20Detection\n",
      "\u001b[2m\u001b[36m(pid=24182, ip=192.168.8.55)\u001b[0m wandb: 🚀 View run at http://192.168.8.51:8080/reminiz/Face%20Detection/runs/3d9ir3ww\n",
      "\u001b[2m\u001b[36m(pid=24182, ip=192.168.8.55)\u001b[0m wandb: Run `wandb off` to turn off syncing.\n",
      "\u001b[2m\u001b[36m(pid=24182, ip=192.168.8.55)\u001b[0m \n",
      "\u001b[2m\u001b[36m(pid=24182, ip=192.168.8.55)\u001b[0m WARNING:tensorflow:From /home/reminiz/ReminizML2/python_env/lib/python3.7/site-packages/tensorflow/python/framework/op_def_library.py:263: colocate_with (from tensorflow.python.framework.ops) is deprecated and will be removed in a future version.\n",
      "\u001b[2m\u001b[36m(pid=24182, ip=192.168.8.55)\u001b[0m Instructions for updating:\n",
      "\u001b[2m\u001b[36m(pid=24182, ip=192.168.8.55)\u001b[0m Colocations handled automatically by placer.\n",
      "\u001b[2m\u001b[36m(pid=24182, ip=192.168.8.55)\u001b[0m WARNING:tensorflow:From /mnt/Ressources/Clement/Detection/core/common.py:25: batch_normalization (from tensorflow.python.layers.normalization) is deprecated and will be removed in a future version.\n",
      "\u001b[2m\u001b[36m(pid=24182, ip=192.168.8.55)\u001b[0m Instructions for updating:\n",
      "\u001b[2m\u001b[36m(pid=24182, ip=192.168.8.55)\u001b[0m Use keras.layers.batch_normalization instead.\n"
     ]
    },
    {
     "name": "stdout",
     "output_type": "stream",
     "text": [
      "\u001b[2m\u001b[36m(pid=24182, ip=192.168.8.55)\u001b[0m {0: 'Face'}\n"
     ]
    },
    {
     "name": "stderr",
     "output_type": "stream",
     "text": [
      "\u001b[2m\u001b[36m(pid=24182, ip=192.168.8.55)\u001b[0m 2021-01-03 23:08:18.421705: I tensorflow/core/platform/cpu_feature_guard.cc:141] Your CPU supports instructions that this TensorFlow binary was not compiled to use: AVX2 FMA\n",
      "\u001b[2m\u001b[36m(pid=24182, ip=192.168.8.55)\u001b[0m 2021-01-03 23:08:18.451599: I tensorflow/core/platform/profile_utils/cpu_utils.cc:94] CPU Frequency: 3600075000 Hz\n",
      "\u001b[2m\u001b[36m(pid=24182, ip=192.168.8.55)\u001b[0m 2021-01-03 23:08:18.452349: I tensorflow/compiler/xla/service/service.cc:150] XLA service 0x72addf0 executing computations on platform Host. Devices:\n",
      "\u001b[2m\u001b[36m(pid=24182, ip=192.168.8.55)\u001b[0m 2021-01-03 23:08:18.452375: I tensorflow/compiler/xla/service/service.cc:158]   StreamExecutor device (0): <undefined>, <undefined>\n",
      "\u001b[2m\u001b[36m(pid=24182, ip=192.168.8.55)\u001b[0m 2021-01-03 23:08:18.580313: I tensorflow/compiler/xla/service/service.cc:150] XLA service 0x72ea0b0 executing computations on platform CUDA. Devices:\n",
      "\u001b[2m\u001b[36m(pid=24182, ip=192.168.8.55)\u001b[0m 2021-01-03 23:08:18.580357: I tensorflow/compiler/xla/service/service.cc:158]   StreamExecutor device (0): GeForce GTX 1080 Ti, Compute Capability 6.1\n",
      "\u001b[2m\u001b[36m(pid=24182, ip=192.168.8.55)\u001b[0m 2021-01-03 23:08:18.580547: I tensorflow/core/common_runtime/gpu/gpu_device.cc:1433] Found device 0 with properties: \n",
      "\u001b[2m\u001b[36m(pid=24182, ip=192.168.8.55)\u001b[0m name: GeForce GTX 1080 Ti major: 6 minor: 1 memoryClockRate(GHz): 1.62\n",
      "\u001b[2m\u001b[36m(pid=24182, ip=192.168.8.55)\u001b[0m pciBusID: 0000:4c:00.0\n",
      "\u001b[2m\u001b[36m(pid=24182, ip=192.168.8.55)\u001b[0m totalMemory: 10.91GiB freeMemory: 10.71GiB\n",
      "\u001b[2m\u001b[36m(pid=24182, ip=192.168.8.55)\u001b[0m 2021-01-03 23:08:18.580573: I tensorflow/core/common_runtime/gpu/gpu_device.cc:1512] Adding visible gpu devices: 0\n",
      "\u001b[2m\u001b[36m(pid=24182, ip=192.168.8.55)\u001b[0m 2021-01-03 23:08:18.582714: I tensorflow/core/common_runtime/gpu/gpu_device.cc:984] Device interconnect StreamExecutor with strength 1 edge matrix:\n",
      "\u001b[2m\u001b[36m(pid=24182, ip=192.168.8.55)\u001b[0m 2021-01-03 23:08:18.582736: I tensorflow/core/common_runtime/gpu/gpu_device.cc:990]      0 \n",
      "\u001b[2m\u001b[36m(pid=24182, ip=192.168.8.55)\u001b[0m 2021-01-03 23:08:18.582746: I tensorflow/core/common_runtime/gpu/gpu_device.cc:1003] 0:   N \n",
      "\u001b[2m\u001b[36m(pid=24182, ip=192.168.8.55)\u001b[0m 2021-01-03 23:08:18.582843: I tensorflow/core/common_runtime/gpu/gpu_device.cc:1115] Created TensorFlow device (/job:localhost/replica:0/task:0/device:GPU:0 with 10419 MB memory) -> physical GPU (device: 0, name: GeForce GTX 1080 Ti, pci bus id: 0000:4c:00.0, compute capability: 6.1)\n",
      "\u001b[2m\u001b[36m(pid=24182, ip=192.168.8.55)\u001b[0m WARNING:tensorflow:From /home/reminiz/ReminizML2/python_env/lib/python3.7/site-packages/tensorflow/python/training/saver.py:1266: checkpoint_exists (from tensorflow.python.training.checkpoint_management) is deprecated and will be removed in a future version.\n",
      "\u001b[2m\u001b[36m(pid=24182, ip=192.168.8.55)\u001b[0m Instructions for updating:\n",
      "\u001b[2m\u001b[36m(pid=24182, ip=192.168.8.55)\u001b[0m Use standard file APIs to check for files with this prefix.\n"
     ]
    },
    {
     "name": "stdout",
     "output_type": "stream",
     "text": [
      "\u001b[2m\u001b[36m(pid=24182, ip=192.168.8.55)\u001b[0m Restoring from /mnt/Trainings/models/face_detection_face_1/checkpoint/epoch14.ckpt-14\n"
     ]
    }
   ],
   "source": [
    "for num_run in range(resumeat,10):\n",
    "\n",
    "    prev_num_run = num_run-1\n",
    "    if num_run==0:\n",
    "        resume_model_path = False\n",
    "    else:\n",
    "        resume_model_path = os.path.join(config['PROJECT']['group_dir'],'Stage_'+str(prev_num_run),'checkpoints','checkpoint.200.hdf5')\n",
    "        \n",
    "    Active_Learning = Active_Learning_train.remote(config, \n",
    "                                            files_labeled_set,\n",
    "                                            labels_labeled_set,\n",
    "                                            num_run=num_run,\n",
    "                                            resume_model_path=resume_model_path,\n",
    "                                            resume = False)\n",
    "    \n",
    "    Active_Learning.start_training.remote()\n",
    "    \n",
    "    # Wait util the model is training\n",
    "    while True:\n",
    "        time.sleep(10)\n",
    "        try:\n",
    "            progress_id = Active_Learning.isTraining.remote()\n",
    "            response = ray.get(progress_id)\n",
    "            break\n",
    "        except:\n",
    "            pass\n",
    "        \n",
    "    # wait until the model finish training\n",
    "    while True:\n",
    "        time.sleep(10)\n",
    "        progress_id = Active_Learning.isTraining.remote()\n",
    "        response = ray.get(progress_id)\n",
    "        if not response:\n",
    "            break\n",
    "    \n",
    "    Active_Learning.__ray_terminate__.remote()\n",
    "    \n",
    "    del Active_Learning\n",
    "\n",
    "    resume_model_path = os.path.join(config['PROJECT']['group_dir'],'Stage_'+str(num_run),'checkpoints','checkpoint.200.hdf5')\n",
    "    AL_inference = Active_Learning_inference.remote(config , files_unlabeled_set, labels_unlabeled_set, num_run, resume_model_path)\n",
    "    AL_inference.inference.remote()\n",
    "\n",
    "    run_dir   = os.path.join(config[\"PROJECT\"][\"group_dir\"],\"Stage_\"+str(num_run))\n",
    "    ordered_indexes   = os.path.join(run_dir, \"ordered_indexes.csv\")\n",
    "\n",
    "    # wait the file qith the scores is generated\n",
    "    while True:\n",
    "        time.sleep(10)\n",
    "        if os.path.isfile(ordered_indexes):\n",
    "            break\n",
    "    try:\n",
    "        AL_inference.__ray_terminate__.remote()\n",
    "    except:\n",
    "        print(\"Here\")\n",
    "        \n",
    "    del AL_inference\n",
    "\n",
    "    # read the scores file and create the new labeled set and unlabeled set to repeat the trainig\n",
    "    pd_ordered_indexes = pd.read_csv(ordered_indexes)\n",
    "    \n",
    "    new_files_set = pd_ordered_indexes['files'].values\n",
    "    new_files_set = [i[2:-1] for i in new_files_set]\n",
    "    new_labels_set = pd_ordered_indexes['labels'].values\n",
    "    \n",
    "    files_labeled_set    += list(new_files_set[:5000])\n",
    "    labels_labeled_set   += list(new_labels_set[:5000])\n",
    "\n",
    "    files_unlabeled_set  = list(new_files_set[5000:])\n",
    "    labels_unlabeled_set = list(new_labels_set[5000:])"
   ]
  },
  {
   "cell_type": "code",
   "execution_count": null,
   "metadata": {},
   "outputs": [],
   "source": []
  },
  {
   "cell_type": "code",
   "execution_count": null,
   "metadata": {},
   "outputs": [],
   "source": []
  },
  {
   "cell_type": "code",
   "execution_count": null,
   "metadata": {},
   "outputs": [],
   "source": []
  },
  {
   "cell_type": "code",
   "execution_count": null,
   "metadata": {},
   "outputs": [],
   "source": []
  },
  {
   "cell_type": "code",
   "execution_count": null,
   "metadata": {},
   "outputs": [],
   "source": []
  }
 ],
 "metadata": {
  "kernelspec": {
   "display_name": "Python 3",
   "language": "python",
   "name": "python3"
  },
  "language_info": {
   "codemirror_mode": {
    "name": "ipython",
    "version": 3
   },
   "file_extension": ".py",
   "mimetype": "text/x-python",
   "name": "python",
   "nbconvert_exporter": "python",
   "pygments_lexer": "ipython3",
   "version": "3.7.7"
  }
 },
 "nbformat": 4,
 "nbformat_minor": 4
}
