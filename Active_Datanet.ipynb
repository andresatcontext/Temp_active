{
 "cells": [
  {
   "cell_type": "code",
   "execution_count": 1,
   "metadata": {},
   "outputs": [
    {
     "name": "stderr",
     "output_type": "stream",
     "text": [
      "2020-12-25 11:45:14,478\tINFO worker.py:634 -- Connecting to existing Ray cluster at address: 192.168.8.51:6379\n"
     ]
    },
    {
     "data": {
      "text/plain": [
       "{'node_ip_address': '192.168.8.51',\n",
       " 'raylet_ip_address': '192.168.8.51',\n",
       " 'redis_address': '192.168.8.51:6379',\n",
       " 'object_store_address': '/tmp/ray/session_2020-12-22_15-20-31_118001_3694/sockets/plasma_store',\n",
       " 'raylet_socket_name': '/tmp/ray/session_2020-12-22_15-20-31_118001_3694/sockets/raylet',\n",
       " 'webui_url': '192.168.8.51:8265',\n",
       " 'session_dir': '/tmp/ray/session_2020-12-22_15-20-31_118001_3694',\n",
       " 'metrics_export_port': 60429}"
      ]
     },
     "execution_count": 1,
     "metadata": {},
     "output_type": "execute_result"
    },
    {
     "name": "stderr",
     "output_type": "stream",
     "text": [
      "2020-12-25 11:45:14,582\tWARNING import_thread.py:132 -- The actor 'TestModel' has been exported 100 times. It's possible that this warning is accidental, but this may indicate that the same remote function is being defined repeatedly from within many tasks and exported to all of the workers. This can be a performance issue and can be resolved by defining the remote function on the driver instead. See https://github.com/ray-project/ray/issues/6240 for more discussion.\n"
     ]
    }
   ],
   "source": [
    "import ray\n",
    "ray.init(address=\"auto\", ignore_reinit_error=True)"
   ]
  },
  {
   "cell_type": "code",
   "execution_count": 2,
   "metadata": {},
   "outputs": [
    {
     "name": "stderr",
     "output_type": "stream",
     "text": [
      "/home/reminiz/ReminizML2/python_env/lib/python3.7/site-packages/tensorflow/python/framework/dtypes.py:526: FutureWarning: Passing (type, 1) or '1type' as a synonym of type is deprecated; in a future version of numpy, it will be understood as (type, (1,)) / '(1,)type'.\n",
      "  _np_qint8 = np.dtype([(\"qint8\", np.int8, 1)])\n",
      "/home/reminiz/ReminizML2/python_env/lib/python3.7/site-packages/tensorflow/python/framework/dtypes.py:527: FutureWarning: Passing (type, 1) or '1type' as a synonym of type is deprecated; in a future version of numpy, it will be understood as (type, (1,)) / '(1,)type'.\n",
      "  _np_quint8 = np.dtype([(\"quint8\", np.uint8, 1)])\n",
      "/home/reminiz/ReminizML2/python_env/lib/python3.7/site-packages/tensorflow/python/framework/dtypes.py:528: FutureWarning: Passing (type, 1) or '1type' as a synonym of type is deprecated; in a future version of numpy, it will be understood as (type, (1,)) / '(1,)type'.\n",
      "  _np_qint16 = np.dtype([(\"qint16\", np.int16, 1)])\n",
      "/home/reminiz/ReminizML2/python_env/lib/python3.7/site-packages/tensorflow/python/framework/dtypes.py:529: FutureWarning: Passing (type, 1) or '1type' as a synonym of type is deprecated; in a future version of numpy, it will be understood as (type, (1,)) / '(1,)type'.\n",
      "  _np_quint16 = np.dtype([(\"quint16\", np.uint16, 1)])\n",
      "/home/reminiz/ReminizML2/python_env/lib/python3.7/site-packages/tensorflow/python/framework/dtypes.py:530: FutureWarning: Passing (type, 1) or '1type' as a synonym of type is deprecated; in a future version of numpy, it will be understood as (type, (1,)) / '(1,)type'.\n",
      "  _np_qint32 = np.dtype([(\"qint32\", np.int32, 1)])\n",
      "/home/reminiz/ReminizML2/python_env/lib/python3.7/site-packages/tensorflow/python/framework/dtypes.py:535: FutureWarning: Passing (type, 1) or '1type' as a synonym of type is deprecated; in a future version of numpy, it will be understood as (type, (1,)) / '(1,)type'.\n",
      "  np_resource = np.dtype([(\"resource\", np.ubyte, 1)])\n"
     ]
    }
   ],
   "source": [
    "from AutoML import AutoML, DataNet, AutoMLDataset\n",
    "#DataNet().restart_datanodes()\n",
    "dataset = AutoMLDataset(name=\"person_classification\", semantics=[113988, 113989, 113990], crops=True) #, override=True)"
   ]
  },
  {
   "cell_type": "code",
   "execution_count": 3,
   "metadata": {},
   "outputs": [
    {
     "name": "stdout",
     "output_type": "stream",
     "text": [
      "{'DATASET': {'Data_augementation': True}, 'NETWORK': {'Backbone': 'ResNet50', 'INPUT_SIZE': 256, 'MARGIN': 1.0, 'embedding_size': 128}, 'PROJECT': {'dataset_name': 'person_classification', 'group': 'Classification_v0', 'group_dir': '/mnt/Ressources/Andres/runs/Classification_v0', 'project': 'Active_Learning_Datanet', 'project_dir': '/mnt/Ressources/Andres/runs'}, 'TEST': {'batch_size': 16}, 'TRAIN': {'EPOCH_SLIT': 60, 'EPOCH_WARMUP': 5, 'EPOCH_WHOLE': 60, 'MILESTONES': [30, 60, 90], 'batch_size': 32, 'lr': 0.002, 'test_each': 1, 'transfer_weight_path': '/mnt/Ressources/Andres/runs/imagenet/resnet50_weights_tf_dim_ordering_tf_kernels_notop.h5', 'weight_lossnet_loss': 1.0, 'weight_decay': 2e-05}}\n"
     ]
    }
   ],
   "source": [
    "# load defaulft config\n",
    "import yaml\n",
    "\n",
    "config_path = './configs/Datanet_test.yml'\n",
    "\n",
    "with open(config_path) as file:\n",
    "    # The FullLoader parameter handles the conversion from YAML\n",
    "    # scalar values to Python the dictionary format\n",
    "    config = yaml.load(file, Loader=yaml.FullLoader)\n",
    "\n",
    "print(config)"
   ]
  },
  {
   "cell_type": "code",
   "execution_count": 4,
   "metadata": {},
   "outputs": [
    {
     "name": "stderr",
     "output_type": "stream",
     "text": [
      "\u001b[2m\u001b[36m(pid=18903, ip=192.168.8.52)\u001b[0m /home/reminiz/ReminizML2/python_env/lib/python3.7/site-packages/tensorflow/python/framework/dtypes.py:526: FutureWarning: Passing (type, 1) or '1type' as a synonym of type is deprecated; in a future version of numpy, it will be understood as (type, (1,)) / '(1,)type'.\n",
      "\u001b[2m\u001b[36m(pid=18903, ip=192.168.8.52)\u001b[0m   _np_qint8 = np.dtype([(\"qint8\", np.int8, 1)])\n",
      "\u001b[2m\u001b[36m(pid=18903, ip=192.168.8.52)\u001b[0m /home/reminiz/ReminizML2/python_env/lib/python3.7/site-packages/tensorflow/python/framework/dtypes.py:527: FutureWarning: Passing (type, 1) or '1type' as a synonym of type is deprecated; in a future version of numpy, it will be understood as (type, (1,)) / '(1,)type'.\n",
      "\u001b[2m\u001b[36m(pid=18903, ip=192.168.8.52)\u001b[0m   _np_quint8 = np.dtype([(\"quint8\", np.uint8, 1)])\n",
      "\u001b[2m\u001b[36m(pid=18903, ip=192.168.8.52)\u001b[0m /home/reminiz/ReminizML2/python_env/lib/python3.7/site-packages/tensorflow/python/framework/dtypes.py:528: FutureWarning: Passing (type, 1) or '1type' as a synonym of type is deprecated; in a future version of numpy, it will be understood as (type, (1,)) / '(1,)type'.\n",
      "\u001b[2m\u001b[36m(pid=18903, ip=192.168.8.52)\u001b[0m   _np_qint16 = np.dtype([(\"qint16\", np.int16, 1)])\n",
      "\u001b[2m\u001b[36m(pid=18903, ip=192.168.8.52)\u001b[0m /home/reminiz/ReminizML2/python_env/lib/python3.7/site-packages/tensorflow/python/framework/dtypes.py:529: FutureWarning: Passing (type, 1) or '1type' as a synonym of type is deprecated; in a future version of numpy, it will be understood as (type, (1,)) / '(1,)type'.\n",
      "\u001b[2m\u001b[36m(pid=18903, ip=192.168.8.52)\u001b[0m   _np_quint16 = np.dtype([(\"quint16\", np.uint16, 1)])\n",
      "\u001b[2m\u001b[36m(pid=18903, ip=192.168.8.52)\u001b[0m /home/reminiz/ReminizML2/python_env/lib/python3.7/site-packages/tensorflow/python/framework/dtypes.py:530: FutureWarning: Passing (type, 1) or '1type' as a synonym of type is deprecated; in a future version of numpy, it will be understood as (type, (1,)) / '(1,)type'.\n",
      "\u001b[2m\u001b[36m(pid=18903, ip=192.168.8.52)\u001b[0m   _np_qint32 = np.dtype([(\"qint32\", np.int32, 1)])\n",
      "\u001b[2m\u001b[36m(pid=18903, ip=192.168.8.52)\u001b[0m /home/reminiz/ReminizML2/python_env/lib/python3.7/site-packages/tensorflow/python/framework/dtypes.py:535: FutureWarning: Passing (type, 1) or '1type' as a synonym of type is deprecated; in a future version of numpy, it will be understood as (type, (1,)) / '(1,)type'.\n",
      "\u001b[2m\u001b[36m(pid=18903, ip=192.168.8.52)\u001b[0m   np_resource = np.dtype([(\"resource\", np.ubyte, 1)])\n",
      "\u001b[2m\u001b[36m(pid=18903, ip=192.168.8.52)\u001b[0m 2020-12-25 11:45:30.300665: I tensorflow/core/platform/cpu_feature_guard.cc:141] Your CPU supports instructions that this TensorFlow binary was not compiled to use: AVX2 FMA\n",
      "\u001b[2m\u001b[36m(pid=18903, ip=192.168.8.52)\u001b[0m 2020-12-25 11:45:30.325605: I tensorflow/core/platform/profile_utils/cpu_utils.cc:94] CPU Frequency: 3300305000 Hz\n",
      "\u001b[2m\u001b[36m(pid=18903, ip=192.168.8.52)\u001b[0m 2020-12-25 11:45:30.326346: I tensorflow/compiler/xla/service/service.cc:150] XLA service 0x5d0c1c0 executing computations on platform Host. Devices:\n",
      "\u001b[2m\u001b[36m(pid=18903, ip=192.168.8.52)\u001b[0m 2020-12-25 11:45:30.326391: I tensorflow/compiler/xla/service/service.cc:158]   StreamExecutor device (0): <undefined>, <undefined>\n",
      "\u001b[2m\u001b[36m(pid=18903, ip=192.168.8.52)\u001b[0m 2020-12-25 11:45:54.535819: I tensorflow/compiler/xla/service/service.cc:150] XLA service 0x5d4e0c0 executing computations on platform CUDA. Devices:\n",
      "\u001b[2m\u001b[36m(pid=18903, ip=192.168.8.52)\u001b[0m 2020-12-25 11:45:54.535861: I tensorflow/compiler/xla/service/service.cc:158]   StreamExecutor device (0): TITAN RTX, Compute Capability 7.5\n",
      "\u001b[2m\u001b[36m(pid=18903, ip=192.168.8.52)\u001b[0m 2020-12-25 11:45:54.535996: I tensorflow/core/common_runtime/gpu/gpu_device.cc:1433] Found device 0 with properties: \n",
      "\u001b[2m\u001b[36m(pid=18903, ip=192.168.8.52)\u001b[0m name: TITAN RTX major: 7 minor: 5 memoryClockRate(GHz): 1.77\n",
      "\u001b[2m\u001b[36m(pid=18903, ip=192.168.8.52)\u001b[0m pciBusID: 0000:03:00.0\n",
      "\u001b[2m\u001b[36m(pid=18903, ip=192.168.8.52)\u001b[0m totalMemory: 23.65GiB freeMemory: 23.48GiB\n",
      "\u001b[2m\u001b[36m(pid=18903, ip=192.168.8.52)\u001b[0m 2020-12-25 11:45:54.536015: I tensorflow/core/common_runtime/gpu/gpu_device.cc:1512] Adding visible gpu devices: 0\n",
      "\u001b[2m\u001b[36m(pid=18903, ip=192.168.8.52)\u001b[0m 2020-12-25 11:45:54.538179: I tensorflow/core/common_runtime/gpu/gpu_device.cc:984] Device interconnect StreamExecutor with strength 1 edge matrix:\n",
      "\u001b[2m\u001b[36m(pid=18903, ip=192.168.8.52)\u001b[0m 2020-12-25 11:45:54.538204: I tensorflow/core/common_runtime/gpu/gpu_device.cc:990]      0 \n",
      "\u001b[2m\u001b[36m(pid=18903, ip=192.168.8.52)\u001b[0m 2020-12-25 11:45:54.538212: I tensorflow/core/common_runtime/gpu/gpu_device.cc:1003] 0:   N \n",
      "\u001b[2m\u001b[36m(pid=18903, ip=192.168.8.52)\u001b[0m 2020-12-25 11:45:54.538298: I tensorflow/core/common_runtime/gpu/gpu_device.cc:1115] Created TensorFlow device (/job:localhost/replica:0/task:0/device:GPU:0 with 22844 MB memory) -> physical GPU (device: 0, name: TITAN RTX, pci bus id: 0000:03:00.0, compute capability: 7.5)\n",
      "\u001b[2m\u001b[36m(pid=18903, ip=192.168.8.52)\u001b[0m /home/reminiz/ReminizML2/python_env/lib/python3.7/site-packages/tensorboard/compat/tensorflow_stub/dtypes.py:541: FutureWarning: Passing (type, 1) or '1type' as a synonym of type is deprecated; in a future version of numpy, it will be understood as (type, (1,)) / '(1,)type'.\n",
      "\u001b[2m\u001b[36m(pid=18903, ip=192.168.8.52)\u001b[0m   _np_qint8 = np.dtype([(\"qint8\", np.int8, 1)])\n",
      "\u001b[2m\u001b[36m(pid=18903, ip=192.168.8.52)\u001b[0m /home/reminiz/ReminizML2/python_env/lib/python3.7/site-packages/tensorboard/compat/tensorflow_stub/dtypes.py:542: FutureWarning: Passing (type, 1) or '1type' as a synonym of type is deprecated; in a future version of numpy, it will be understood as (type, (1,)) / '(1,)type'.\n",
      "\u001b[2m\u001b[36m(pid=18903, ip=192.168.8.52)\u001b[0m   _np_quint8 = np.dtype([(\"quint8\", np.uint8, 1)])\n",
      "\u001b[2m\u001b[36m(pid=18903, ip=192.168.8.52)\u001b[0m /home/reminiz/ReminizML2/python_env/lib/python3.7/site-packages/tensorboard/compat/tensorflow_stub/dtypes.py:543: FutureWarning: Passing (type, 1) or '1type' as a synonym of type is deprecated; in a future version of numpy, it will be understood as (type, (1,)) / '(1,)type'.\n",
      "\u001b[2m\u001b[36m(pid=18903, ip=192.168.8.52)\u001b[0m   _np_qint16 = np.dtype([(\"qint16\", np.int16, 1)])\n",
      "\u001b[2m\u001b[36m(pid=18903, ip=192.168.8.52)\u001b[0m /home/reminiz/ReminizML2/python_env/lib/python3.7/site-packages/tensorboard/compat/tensorflow_stub/dtypes.py:544: FutureWarning: Passing (type, 1) or '1type' as a synonym of type is deprecated; in a future version of numpy, it will be understood as (type, (1,)) / '(1,)type'.\n",
      "\u001b[2m\u001b[36m(pid=18903, ip=192.168.8.52)\u001b[0m   _np_quint16 = np.dtype([(\"quint16\", np.uint16, 1)])\n",
      "\u001b[2m\u001b[36m(pid=18903, ip=192.168.8.52)\u001b[0m /home/reminiz/ReminizML2/python_env/lib/python3.7/site-packages/tensorboard/compat/tensorflow_stub/dtypes.py:545: FutureWarning: Passing (type, 1) or '1type' as a synonym of type is deprecated; in a future version of numpy, it will be understood as (type, (1,)) / '(1,)type'.\n",
      "\u001b[2m\u001b[36m(pid=18903, ip=192.168.8.52)\u001b[0m   _np_qint32 = np.dtype([(\"qint32\", np.int32, 1)])\n",
      "\u001b[2m\u001b[36m(pid=18903, ip=192.168.8.52)\u001b[0m /home/reminiz/ReminizML2/python_env/lib/python3.7/site-packages/tensorboard/compat/tensorflow_stub/dtypes.py:550: FutureWarning: Passing (type, 1) or '1type' as a synonym of type is deprecated; in a future version of numpy, it will be understood as (type, (1,)) / '(1,)type'.\n",
      "\u001b[2m\u001b[36m(pid=18903, ip=192.168.8.52)\u001b[0m   np_resource = np.dtype([(\"resource\", np.ubyte, 1)])\n",
      "\u001b[2m\u001b[36m(pid=18903, ip=192.168.8.52)\u001b[0m wandb: Tracking run with wandb version 0.8.36\n",
      "\u001b[2m\u001b[36m(pid=18903, ip=192.168.8.52)\u001b[0m wandb: Wandb version 0.10.12 is available!  To upgrade, please run:\n",
      "\u001b[2m\u001b[36m(pid=18903, ip=192.168.8.52)\u001b[0m wandb:  $ pip install wandb --upgrade\n",
      "\u001b[2m\u001b[36m(pid=18903, ip=192.168.8.52)\u001b[0m wandb: Run data is saved locally in ../../../Trainings/wandb/wandb/run-20201225_104554-xo3w2ut2\n",
      "\u001b[2m\u001b[36m(pid=18903, ip=192.168.8.52)\u001b[0m wandb: Syncing run Train_0\n",
      "\u001b[2m\u001b[36m(pid=18903, ip=192.168.8.52)\u001b[0m wandb: ⭐️ View project at http://192.168.8.51:8080/reminiz/Active_Learning_Datanet\n",
      "\u001b[2m\u001b[36m(pid=18903, ip=192.168.8.52)\u001b[0m wandb: 🚀 View run at http://192.168.8.51:8080/reminiz/Active_Learning_Datanet/runs/xo3w2ut2\n",
      "\u001b[2m\u001b[36m(pid=18903, ip=192.168.8.52)\u001b[0m wandb: Run `wandb off` to turn off syncing.\n"
     ]
    },
    {
     "name": "stdout",
     "output_type": "stream",
     "text": [
      "\u001b[2m\u001b[36m(pid=18903, ip=192.168.8.52)\u001b[0m Subset set to : train\n"
     ]
    },
    {
     "name": "stderr",
     "output_type": "stream",
     "text": [
      "\u001b[2m\u001b[36m(pid=18903, ip=192.168.8.52)\u001b[0m \n",
      "\u001b[2m\u001b[36m(pid=18903, ip=192.168.8.52)\u001b[0m WARNING:tensorflow:From /home/reminiz/ReminizML2/python_env/lib/python3.7/site-packages/tensorflow/python/data/ops/dataset_ops.py:429: py_func (from tensorflow.python.ops.script_ops) is deprecated and will be removed in a future version.\n",
      "\u001b[2m\u001b[36m(pid=18903, ip=192.168.8.52)\u001b[0m Instructions for updating:\n",
      "\u001b[2m\u001b[36m(pid=18903, ip=192.168.8.52)\u001b[0m tf.py_func is deprecated in TF V2. Instead, use\n",
      "\u001b[2m\u001b[36m(pid=18903, ip=192.168.8.52)\u001b[0m     tf.py_function, which takes a python function which manipulates tf eager\n",
      "\u001b[2m\u001b[36m(pid=18903, ip=192.168.8.52)\u001b[0m     tensors instead of numpy arrays. It's easy to convert a tf eager tensor to\n",
      "\u001b[2m\u001b[36m(pid=18903, ip=192.168.8.52)\u001b[0m     an ndarray (just call tensor.numpy()) but having access to eager tensors\n",
      "\u001b[2m\u001b[36m(pid=18903, ip=192.168.8.52)\u001b[0m     means `tf.py_function`s can use accelerators such as GPUs as well as\n",
      "\u001b[2m\u001b[36m(pid=18903, ip=192.168.8.52)\u001b[0m     being differentiable using a gradient tape.\n",
      "\u001b[2m\u001b[36m(pid=18903, ip=192.168.8.52)\u001b[0m     \n",
      "\u001b[2m\u001b[36m(pid=18903, ip=192.168.8.52)\u001b[0m WARNING:tensorflow:From /home/reminiz/ReminizML2/python_env/lib/python3.7/site-packages/tensorflow/python/ops/tensor_array_ops.py:162: colocate_with (from tensorflow.python.framework.ops) is deprecated and will be removed in a future version.\n",
      "\u001b[2m\u001b[36m(pid=18903, ip=192.168.8.52)\u001b[0m Instructions for updating:\n",
      "\u001b[2m\u001b[36m(pid=18903, ip=192.168.8.52)\u001b[0m Colocations handled automatically by placer.\n",
      "\u001b[2m\u001b[36m(pid=18903, ip=192.168.8.52)\u001b[0m WARNING:tensorflow:From /home/reminiz/ReminizML2/python_env/lib/python3.7/site-packages/tensorflow/python/ops/image_ops_impl.py:1241: div (from tensorflow.python.ops.math_ops) is deprecated and will be removed in a future version.\n",
      "\u001b[2m\u001b[36m(pid=18903, ip=192.168.8.52)\u001b[0m Instructions for updating:\n",
      "\u001b[2m\u001b[36m(pid=18903, ip=192.168.8.52)\u001b[0m Deprecated in favor of operator or tf.math.divide.\n",
      "\u001b[2m\u001b[36m(pid=18903, ip=192.168.8.52)\u001b[0m WARNING:tensorflow:From /mnt/Ressources/Andres/Temp_active/core/Classification_dataset_tf.py:179: ignore_errors (from tensorflow.contrib.data.python.ops.error_ops) is deprecated and will be removed in a future version.\n",
      "\u001b[2m\u001b[36m(pid=18903, ip=192.168.8.52)\u001b[0m Instructions for updating:\n",
      "\u001b[2m\u001b[36m(pid=18903, ip=192.168.8.52)\u001b[0m Use `tf.data.experimental.ignore_errors()`.\n"
     ]
    },
    {
     "name": "stdout",
     "output_type": "stream",
     "text": [
      "\u001b[2m\u001b[36m(pid=18903, ip=192.168.8.52)\u001b[0m \u001b[1;36mTrain_All\u001b[0;0m The backbone is:  ResNet50\n",
      "\u001b[2m\u001b[36m(pid=18903, ip=192.168.8.52)\u001b[0m \u001b[1;36mTrain_All\u001b[0;0m (transfer learning) Loading weigths by name from:  /mnt/Ressources/Andres/runs/imagenet/resnet50_weights_tf_dim_ordering_tf_kernels_notop.h5\n"
     ]
    },
    {
     "name": "stderr",
     "output_type": "stream",
     "text": [
      "\u001b[2m\u001b[36m(pid=18903, ip=192.168.8.52)\u001b[0m WARNING:tensorflow:Output \"Embedding\" missing from loss dictionary. We assume this was done on purpose. The fit and evaluate APIs will not be expecting any data to be passed to \"Embedding\".\n",
      "\u001b[2m\u001b[36m(pid=18903, ip=192.168.8.52)\u001b[0m WARNING:tensorflow:Output \"Embedding\" missing from loss dictionary. We assume this was done on purpose. The fit and evaluate APIs will not be expecting any data to be passed to \"Embedding\".\n"
     ]
    },
    {
     "name": "stdout",
     "output_type": "stream",
     "text": [
      "\u001b[2m\u001b[36m(pid=18903, ip=192.168.8.52)\u001b[0m \u001b[1;36mTrain_All\u001b[0;0m Init done\n"
     ]
    },
    {
     "name": "stderr",
     "output_type": "stream",
     "text": [
      "\u001b[2m\u001b[36m(pid=18903, ip=192.168.8.52)\u001b[0m 2020-12-25 11:46:08,910\tINFO worker.py:634 -- Connecting to existing Ray cluster at address: 192.168.8.51:6379\n",
      "\u001b[2m\u001b[36m(pid=18903, ip=192.168.8.52)\u001b[0m 2020-12-25 11:46:08,910\tERROR worker.py:643 -- Calling ray.init() again after it has already been called.\n"
     ]
    }
   ],
   "source": [
    "from train_agent_classification import Active_Learning_train\n",
    "\n",
    "Active_Learning = Active_Learning_train.remote(config, \n",
    "                                             dataset,\n",
    "                                             resume_model_path=False, #'/mnt/Ressources/Andres/runs/Classification_v0/All/checkpoints/checkpoint.050.hdf5',\n",
    "                                             resume = False)"
   ]
  },
  {
   "cell_type": "code",
   "execution_count": 5,
   "metadata": {},
   "outputs": [
    {
     "name": "stdout",
     "output_type": "stream",
     "text": [
      "\u001b[2m\u001b[36m(pid=18903, ip=192.168.8.52)\u001b[0m \u001b[1;36mTrain_All\u001b[0;0m Start training\n"
     ]
    },
    {
     "name": "stderr",
     "output_type": "stream",
     "text": [
      "\u001b[2m\u001b[36m(pid=18903, ip=192.168.8.52)\u001b[0m WARNING:tensorflow:From /home/reminiz/ReminizML2/python_env/lib/python3.7/site-packages/tensorflow/python/ops/math_ops.py:3066: to_int32 (from tensorflow.python.ops.math_ops) is deprecated and will be removed in a future version.\n",
      "\u001b[2m\u001b[36m(pid=18903, ip=192.168.8.52)\u001b[0m Instructions for updating:\n",
      "\u001b[2m\u001b[36m(pid=18903, ip=192.168.8.52)\u001b[0m Use tf.cast instead.\n"
     ]
    },
    {
     "name": "stdout",
     "output_type": "stream",
     "text": [
      "\u001b[2m\u001b[36m(pid=18903, ip=192.168.8.52)\u001b[0m Epoch 1/120\n"
     ]
    },
    {
     "name": "stderr",
     "output_type": "stream",
     "text": [
      "\u001b[2m\u001b[36m(pid=27885, ip=192.168.8.54)\u001b[0m /home/reminiz/ReminizML2/python_env/lib/python3.7/site-packages/tensorflow/python/framework/dtypes.py:526: FutureWarning: Passing (type, 1) or '1type' as a synonym of type is deprecated; in a future version of numpy, it will be understood as (type, (1,)) / '(1,)type'.\n",
      "\u001b[2m\u001b[36m(pid=27885, ip=192.168.8.54)\u001b[0m   _np_qint8 = np.dtype([(\"qint8\", np.int8, 1)])\n",
      "\u001b[2m\u001b[36m(pid=27885, ip=192.168.8.54)\u001b[0m /home/reminiz/ReminizML2/python_env/lib/python3.7/site-packages/tensorflow/python/framework/dtypes.py:527: FutureWarning: Passing (type, 1) or '1type' as a synonym of type is deprecated; in a future version of numpy, it will be understood as (type, (1,)) / '(1,)type'.\n",
      "\u001b[2m\u001b[36m(pid=27885, ip=192.168.8.54)\u001b[0m   _np_quint8 = np.dtype([(\"quint8\", np.uint8, 1)])\n",
      "\u001b[2m\u001b[36m(pid=27885, ip=192.168.8.54)\u001b[0m /home/reminiz/ReminizML2/python_env/lib/python3.7/site-packages/tensorflow/python/framework/dtypes.py:528: FutureWarning: Passing (type, 1) or '1type' as a synonym of type is deprecated; in a future version of numpy, it will be understood as (type, (1,)) / '(1,)type'.\n",
      "\u001b[2m\u001b[36m(pid=27885, ip=192.168.8.54)\u001b[0m   _np_qint16 = np.dtype([(\"qint16\", np.int16, 1)])\n",
      "\u001b[2m\u001b[36m(pid=27885, ip=192.168.8.54)\u001b[0m /home/reminiz/ReminizML2/python_env/lib/python3.7/site-packages/tensorflow/python/framework/dtypes.py:529: FutureWarning: Passing (type, 1) or '1type' as a synonym of type is deprecated; in a future version of numpy, it will be understood as (type, (1,)) / '(1,)type'.\n",
      "\u001b[2m\u001b[36m(pid=27885, ip=192.168.8.54)\u001b[0m   _np_quint16 = np.dtype([(\"quint16\", np.uint16, 1)])\n",
      "\u001b[2m\u001b[36m(pid=27885, ip=192.168.8.54)\u001b[0m /home/reminiz/ReminizML2/python_env/lib/python3.7/site-packages/tensorflow/python/framework/dtypes.py:530: FutureWarning: Passing (type, 1) or '1type' as a synonym of type is deprecated; in a future version of numpy, it will be understood as (type, (1,)) / '(1,)type'.\n",
      "\u001b[2m\u001b[36m(pid=27885, ip=192.168.8.54)\u001b[0m   _np_qint32 = np.dtype([(\"qint32\", np.int32, 1)])\n",
      "\u001b[2m\u001b[36m(pid=27885, ip=192.168.8.54)\u001b[0m /home/reminiz/ReminizML2/python_env/lib/python3.7/site-packages/tensorflow/python/framework/dtypes.py:535: FutureWarning: Passing (type, 1) or '1type' as a synonym of type is deprecated; in a future version of numpy, it will be understood as (type, (1,)) / '(1,)type'.\n",
      "\u001b[2m\u001b[36m(pid=27885, ip=192.168.8.54)\u001b[0m   np_resource = np.dtype([(\"resource\", np.ubyte, 1)])\n"
     ]
    },
    {
     "name": "stdout",
     "output_type": "stream",
     "text": [
      "\u001b[2m\u001b[36m(pid=27885, ip=192.168.8.54)\u001b[0m \n",
      "\u001b[2m\u001b[36m(pid=27885, ip=192.168.8.54)\u001b[0m \n",
      "\u001b[2m\u001b[36m(pid=27885, ip=192.168.8.54)\u001b[0m ---------------------------------------------------------------------------\n",
      "\u001b[2m\u001b[36m(pid=27885, ip=192.168.8.54)\u001b[0m \tRun : AudioSet_WaveResNet_103 \n",
      "\u001b[2m\u001b[36m(pid=27885, ip=192.168.8.54)\u001b[0m \tProject : AudioSet \n",
      "\u001b[2m\u001b[36m(pid=27885, ip=192.168.8.54)\u001b[0m \tUser : Arnaud\n",
      "\u001b[2m\u001b[36m(pid=27885, ip=192.168.8.54)\u001b[0m ---------------------------------------------------------------------------\n"
     ]
    },
    {
     "name": "stderr",
     "output_type": "stream",
     "text": [
      "\u001b[2m\u001b[36m(pid=27885, ip=192.168.8.54)\u001b[0m wandb: Tracking run with wandb version 0.8.36\n",
      "\u001b[2m\u001b[36m(pid=27885, ip=192.168.8.54)\u001b[0m wandb: Wandb version 0.10.12 is available!  To upgrade, please run:\n",
      "\u001b[2m\u001b[36m(pid=27885, ip=192.168.8.54)\u001b[0m wandb:  $ pip install wandb --upgrade\n",
      "\u001b[2m\u001b[36m(pid=27885, ip=192.168.8.54)\u001b[0m wandb: Run data is saved locally in ../../../Trainings/wandb/wandb/run-20201225_104703-34mdhklg\n",
      "\u001b[2m\u001b[36m(pid=27885, ip=192.168.8.54)\u001b[0m wandb: Syncing run 34mdhklg\n",
      "\u001b[2m\u001b[36m(pid=27885, ip=192.168.8.54)\u001b[0m wandb: ⭐️ View project at http://192.168.8.51:8080/reminiz/AudioSet\n",
      "\u001b[2m\u001b[36m(pid=27885, ip=192.168.8.54)\u001b[0m wandb: 🚀 View run at http://192.168.8.51:8080/reminiz/AudioSet/runs/34mdhklg\n",
      "\u001b[2m\u001b[36m(pid=27885, ip=192.168.8.54)\u001b[0m wandb: Run `wandb off` to turn off syncing.\n",
      "\u001b[2m\u001b[36m(pid=27885, ip=192.168.8.54)\u001b[0m \n",
      "\u001b[2m\u001b[36m(pid=27885, ip=192.168.8.54)\u001b[0m 2020-12-25 11:47:04.644790: I tensorflow/core/platform/cpu_feature_guard.cc:141] Your CPU supports instructions that this TensorFlow binary was not compiled to use: AVX2 FMA\n",
      "\u001b[2m\u001b[36m(pid=27885, ip=192.168.8.54)\u001b[0m 2020-12-25 11:47:04.671351: I tensorflow/core/platform/profile_utils/cpu_utils.cc:94] CPU Frequency: 3299935000 Hz\n",
      "\u001b[2m\u001b[36m(pid=27885, ip=192.168.8.54)\u001b[0m 2020-12-25 11:47:04.672439: I tensorflow/compiler/xla/service/service.cc:150] XLA service 0x10f0ce70 executing computations on platform Host. Devices:\n",
      "\u001b[2m\u001b[36m(pid=27885, ip=192.168.8.54)\u001b[0m 2020-12-25 11:47:04.672474: I tensorflow/compiler/xla/service/service.cc:158]   StreamExecutor device (0): <undefined>, <undefined>\n"
     ]
    },
    {
     "name": "stdout",
     "output_type": "stream",
     "text": [
      "\u001b[2m\u001b[36m(pid=27885, ip=192.168.8.54)\u001b[0m Subset set to : test\n"
     ]
    },
    {
     "name": "stderr",
     "output_type": "stream",
     "text": [
      "\u001b[2m\u001b[36m(pid=27885, ip=192.168.8.54)\u001b[0m 2020-12-25 11:47:04.756728: I tensorflow/compiler/xla/service/service.cc:150] XLA service 0x10f49110 executing computations on platform CUDA. Devices:\n",
      "\u001b[2m\u001b[36m(pid=27885, ip=192.168.8.54)\u001b[0m 2020-12-25 11:47:04.756774: I tensorflow/compiler/xla/service/service.cc:158]   StreamExecutor device (0): GeForce GTX TITAN X, Compute Capability 5.2\n",
      "\u001b[2m\u001b[36m(pid=27885, ip=192.168.8.54)\u001b[0m 2020-12-25 11:47:04.756942: I tensorflow/core/common_runtime/gpu/gpu_device.cc:1433] Found device 0 with properties: \n",
      "\u001b[2m\u001b[36m(pid=27885, ip=192.168.8.54)\u001b[0m name: GeForce GTX TITAN X major: 5 minor: 2 memoryClockRate(GHz): 1.076\n",
      "\u001b[2m\u001b[36m(pid=27885, ip=192.168.8.54)\u001b[0m pciBusID: 0000:4b:00.0\n",
      "\u001b[2m\u001b[36m(pid=27885, ip=192.168.8.54)\u001b[0m totalMemory: 11.93GiB freeMemory: 11.82GiB\n",
      "\u001b[2m\u001b[36m(pid=27885, ip=192.168.8.54)\u001b[0m 2020-12-25 11:47:04.756971: I tensorflow/core/common_runtime/gpu/gpu_device.cc:1512] Adding visible gpu devices: 0\n",
      "\u001b[2m\u001b[36m(pid=27885, ip=192.168.8.54)\u001b[0m 2020-12-25 11:47:04.758651: I tensorflow/core/common_runtime/gpu/gpu_device.cc:984] Device interconnect StreamExecutor with strength 1 edge matrix:\n",
      "\u001b[2m\u001b[36m(pid=27885, ip=192.168.8.54)\u001b[0m 2020-12-25 11:47:04.758676: I tensorflow/core/common_runtime/gpu/gpu_device.cc:990]      0 \n",
      "\u001b[2m\u001b[36m(pid=27885, ip=192.168.8.54)\u001b[0m 2020-12-25 11:47:04.758688: I tensorflow/core/common_runtime/gpu/gpu_device.cc:1003] 0:   N \n",
      "\u001b[2m\u001b[36m(pid=27885, ip=192.168.8.54)\u001b[0m 2020-12-25 11:47:04.758796: I tensorflow/core/common_runtime/gpu/gpu_device.cc:1115] Created TensorFlow device (/job:localhost/replica:0/task:0/device:GPU:0 with 2442 MB memory) -> physical GPU (device: 0, name: GeForce GTX TITAN X, pci bus id: 0000:4b:00.0, compute capability: 5.2)\n",
      "\u001b[2m\u001b[36m(pid=27885, ip=192.168.8.54)\u001b[0m WARNING:tensorflow:From /home/reminiz/ReminizML2/python_env/lib/python3.7/site-packages/tensorflow/python/data/ops/dataset_ops.py:429: py_func (from tensorflow.python.ops.script_ops) is deprecated and will be removed in a future version.\n",
      "\u001b[2m\u001b[36m(pid=27885, ip=192.168.8.54)\u001b[0m Instructions for updating:\n",
      "\u001b[2m\u001b[36m(pid=27885, ip=192.168.8.54)\u001b[0m tf.py_func is deprecated in TF V2. Instead, use\n",
      "\u001b[2m\u001b[36m(pid=27885, ip=192.168.8.54)\u001b[0m     tf.py_function, which takes a python function which manipulates tf eager\n",
      "\u001b[2m\u001b[36m(pid=27885, ip=192.168.8.54)\u001b[0m     tensors instead of numpy arrays. It's easy to convert a tf eager tensor to\n",
      "\u001b[2m\u001b[36m(pid=27885, ip=192.168.8.54)\u001b[0m     an ndarray (just call tensor.numpy()) but having access to eager tensors\n",
      "\u001b[2m\u001b[36m(pid=27885, ip=192.168.8.54)\u001b[0m     means `tf.py_function`s can use accelerators such as GPUs as well as\n",
      "\u001b[2m\u001b[36m(pid=27885, ip=192.168.8.54)\u001b[0m     being differentiable using a gradient tape.\n",
      "\u001b[2m\u001b[36m(pid=27885, ip=192.168.8.54)\u001b[0m     \n",
      "\u001b[2m\u001b[36m(pid=27885, ip=192.168.8.54)\u001b[0m WARNING:tensorflow:From /home/reminiz/ReminizML2/python_env/lib/python3.7/site-packages/tensorflow/python/ops/tensor_array_ops.py:162: colocate_with (from tensorflow.python.framework.ops) is deprecated and will be removed in a future version.\n",
      "\u001b[2m\u001b[36m(pid=27885, ip=192.168.8.54)\u001b[0m Instructions for updating:\n",
      "\u001b[2m\u001b[36m(pid=27885, ip=192.168.8.54)\u001b[0m Colocations handled automatically by placer.\n"
     ]
    },
    {
     "name": "stdout",
     "output_type": "stream",
     "text": [
      "\u001b[2m\u001b[36m(pid=27885, ip=192.168.8.54)\u001b[0m [320, 2, 31, 513]\n"
     ]
    },
    {
     "name": "stderr",
     "output_type": "stream",
     "text": [
      "\u001b[2m\u001b[36m(pid=27885, ip=192.168.8.54)\u001b[0m WARNING:tensorflow:From /home/reminiz/ReminizML2/python_env/lib/python3.7/site-packages/tensorflow/python/ops/image_ops_impl.py:1241: div (from tensorflow.python.ops.math_ops) is deprecated and will be removed in a future version.\n",
      "\u001b[2m\u001b[36m(pid=27885, ip=192.168.8.54)\u001b[0m Instructions for updating:\n",
      "\u001b[2m\u001b[36m(pid=27885, ip=192.168.8.54)\u001b[0m Deprecated in favor of operator or tf.math.divide.\n",
      "\u001b[2m\u001b[36m(pid=27885, ip=192.168.8.54)\u001b[0m WARNING:tensorflow:From /home/reminiz/ReminizML2/python_env/lib/python3.7/site-packages/tensorflow/python/training/saver.py:1266: checkpoint_exists (from tensorflow.python.training.checkpoint_management) is deprecated and will be removed in a future version.\n",
      "\u001b[2m\u001b[36m(pid=27885, ip=192.168.8.54)\u001b[0m Instructions for updating:\n",
      "\u001b[2m\u001b[36m(pid=27885, ip=192.168.8.54)\u001b[0m Use standard file APIs to check for files with this prefix.\n",
      "\u001b[2m\u001b[36m(pid=16473, ip=192.168.8.53)\u001b[0m /home/reminiz/ReminizML2/python_env/lib/python3.7/site-packages/tensorflow/python/framework/dtypes.py:526: FutureWarning: Passing (type, 1) or '1type' as a synonym of type is deprecated; in a future version of numpy, it will be understood as (type, (1,)) / '(1,)type'.\n",
      "\u001b[2m\u001b[36m(pid=16473, ip=192.168.8.53)\u001b[0m   _np_qint8 = np.dtype([(\"qint8\", np.int8, 1)])\n",
      "\u001b[2m\u001b[36m(pid=16473, ip=192.168.8.53)\u001b[0m /home/reminiz/ReminizML2/python_env/lib/python3.7/site-packages/tensorflow/python/framework/dtypes.py:527: FutureWarning: Passing (type, 1) or '1type' as a synonym of type is deprecated; in a future version of numpy, it will be understood as (type, (1,)) / '(1,)type'.\n",
      "\u001b[2m\u001b[36m(pid=16473, ip=192.168.8.53)\u001b[0m   _np_quint8 = np.dtype([(\"quint8\", np.uint8, 1)])\n",
      "\u001b[2m\u001b[36m(pid=16473, ip=192.168.8.53)\u001b[0m /home/reminiz/ReminizML2/python_env/lib/python3.7/site-packages/tensorflow/python/framework/dtypes.py:528: FutureWarning: Passing (type, 1) or '1type' as a synonym of type is deprecated; in a future version of numpy, it will be understood as (type, (1,)) / '(1,)type'.\n",
      "\u001b[2m\u001b[36m(pid=16473, ip=192.168.8.53)\u001b[0m   _np_qint16 = np.dtype([(\"qint16\", np.int16, 1)])\n",
      "\u001b[2m\u001b[36m(pid=16473, ip=192.168.8.53)\u001b[0m /home/reminiz/ReminizML2/python_env/lib/python3.7/site-packages/tensorflow/python/framework/dtypes.py:529: FutureWarning: Passing (type, 1) or '1type' as a synonym of type is deprecated; in a future version of numpy, it will be understood as (type, (1,)) / '(1,)type'.\n",
      "\u001b[2m\u001b[36m(pid=16473, ip=192.168.8.53)\u001b[0m   _np_quint16 = np.dtype([(\"quint16\", np.uint16, 1)])\n",
      "\u001b[2m\u001b[36m(pid=16473, ip=192.168.8.53)\u001b[0m /home/reminiz/ReminizML2/python_env/lib/python3.7/site-packages/tensorflow/python/framework/dtypes.py:530: FutureWarning: Passing (type, 1) or '1type' as a synonym of type is deprecated; in a future version of numpy, it will be understood as (type, (1,)) / '(1,)type'.\n",
      "\u001b[2m\u001b[36m(pid=16473, ip=192.168.8.53)\u001b[0m   _np_qint32 = np.dtype([(\"qint32\", np.int32, 1)])\n",
      "\u001b[2m\u001b[36m(pid=16473, ip=192.168.8.53)\u001b[0m /home/reminiz/ReminizML2/python_env/lib/python3.7/site-packages/tensorflow/python/framework/dtypes.py:535: FutureWarning: Passing (type, 1) or '1type' as a synonym of type is deprecated; in a future version of numpy, it will be understood as (type, (1,)) / '(1,)type'.\n",
      "\u001b[2m\u001b[36m(pid=16473, ip=192.168.8.53)\u001b[0m   np_resource = np.dtype([(\"resource\", np.ubyte, 1)])\n",
      "\u001b[2m\u001b[36m(pid=27885, ip=192.168.8.54)\u001b[0m 2020-12-25 11:47:08.747284: I tensorflow/stream_executor/dso_loader.cc:152] successfully opened CUDA library libcublas.so.10.0 locally\n",
      "\u001b[2m\u001b[36m(pid=27885, ip=192.168.8.54)\u001b[0m 2020-12-25 11:47:09.171244: I tensorflow/stream_executor/dso_loader.cc:152] successfully opened CUDA library libcufft.so.10.0 locally\n",
      "\u001b[2m\u001b[36m(pid=27885, ip=192.168.8.54)\u001b[0m 2020-12-25 11:47:11.474924: W tensorflow/core/common_runtime/bfc_allocator.cc:211] Allocator (GPU_0_bfc) ran out of memory trying to allocate 1.90GiB. The caller indicates that this is not a failure, but may mean that there could be performance gains if more memory were available.\n",
      "\u001b[2m\u001b[36m(pid=18903, ip=192.168.8.52)\u001b[0m 2020-12-25 11:47:28.464420: I tensorflow/stream_executor/dso_loader.cc:152] successfully opened CUDA library libcublas.so.10.0 locally\n"
     ]
    },
    {
     "name": "stdout",
     "output_type": "stream",
     "text": [
      "\u001b[2m\u001b[36m(pid=27885, ip=192.168.8.54)\u001b[0m Calculating tag metrics...\n",
      "\u001b[2m\u001b[36m(pid=27885, ip=192.168.8.54)\u001b[0m Formating results\n",
      "\u001b[2m\u001b[36m(pid=27885, ip=192.168.8.54)\u001b[0m Calculating roc curve\n"
     ]
    },
    {
     "name": "stderr",
     "output_type": "stream",
     "text": [
      "\u001b[2m\u001b[36m(pid=27885, ip=192.168.8.54)\u001b[0m /home/reminiz/ReminizML2/python_env/lib/python3.7/site-packages/sklearn/metrics/classification.py:1143: UndefinedMetricWarning:\n",
      "\u001b[2m\u001b[36m(pid=27885, ip=192.168.8.54)\u001b[0m \n",
      "\u001b[2m\u001b[36m(pid=27885, ip=192.168.8.54)\u001b[0m Precision is ill-defined and being set to 0.0 due to no predicted samples.\n",
      "\u001b[2m\u001b[36m(pid=27885, ip=192.168.8.54)\u001b[0m \n"
     ]
    },
    {
     "name": "stdout",
     "output_type": "stream",
     "text": [
      "\u001b[2m\u001b[36m(pid=27885, ip=192.168.8.54)\u001b[0m Roc curve to plotly\n",
      "\u001b[2m\u001b[36m(pid=27885, ip=192.168.8.54)\u001b[0m logging to wandb\n",
      "\u001b[2m\u001b[36m(pid=27885, ip=192.168.8.54)\u001b[0m calculating accuracy\n",
      "\u001b[2m\u001b[36m(pid=27885, ip=192.168.8.54)\u001b[0m 0.5230521463226929\n"
     ]
    },
    {
     "name": "stderr",
     "output_type": "stream",
     "text": [
      "\u001b[2m\u001b[36m(pid=27885, ip=192.168.8.54)\u001b[0m \n",
      "\u001b[2m\u001b[36m(pid=27885, ip=192.168.8.54)\u001b[0m wandb: Waiting for W&B process to finish, PID 27913\n",
      "\u001b[2m\u001b[36m(pid=27885, ip=192.168.8.54)\u001b[0m wandb: Program ended successfully.\n",
      "\u001b[2m\u001b[36m(pid=27885, ip=192.168.8.54)\u001b[0m wandb: Run summary:\n",
      "\u001b[2m\u001b[36m(pid=27885, ip=192.168.8.54)\u001b[0m wandb:                 AUC 0.9426631871452593\n",
      "\u001b[2m\u001b[36m(pid=27885, ip=192.168.8.54)\u001b[0m wandb:               _step 231001\n",
      "\u001b[2m\u001b[36m(pid=27885, ip=192.168.8.54)\u001b[0m wandb:            _runtime 48169.164052248\n",
      "\u001b[2m\u001b[36m(pid=27885, ip=192.168.8.54)\u001b[0m wandb:            accuracy 0.5230521463226929\n",
      "\u001b[2m\u001b[36m(pid=27885, ip=192.168.8.54)\u001b[0m wandb:            f1_score 0.08755112474437628\n",
      "\u001b[2m\u001b[36m(pid=27885, ip=192.168.8.54)\u001b[0m wandb:            mean_EER 0.08895503548091609\n",
      "\u001b[2m\u001b[36m(pid=27885, ip=192.168.8.54)\u001b[0m wandb:          _timestamp 1608893386.4042578\n",
      "\u001b[2m\u001b[36m(pid=27885, ip=192.168.8.54)\u001b[0m wandb:   average_precision 0.41969205474437565\n",
      "\u001b[2m\u001b[36m(pid=27885, ip=192.168.8.54)\u001b[0m wandb: Syncing files in ../../../Trainings/wandb/wandb/run-20201225_104703-34mdhklg:\n",
      "\u001b[2m\u001b[36m(pid=27885, ip=192.168.8.54)\u001b[0m wandb:   code/default_worker.py\n",
      "\u001b[2m\u001b[36m(pid=27885, ip=192.168.8.54)\u001b[0m wandb: plus 8 W&B file(s) and 5 media file(s)\n",
      "\u001b[2m\u001b[36m(pid=27885, ip=192.168.8.54)\u001b[0m wandb: - 20.12MB of 20.12MB uploaded\n",
      "\u001b[2m\u001b[36m(pid=27885, ip=192.168.8.54)\u001b[0m wandb: \\ 20.12MB of 20.12MB uploaded\n",
      "\u001b[2m\u001b[36m(pid=27885, ip=192.168.8.54)\u001b[0m wandb: | 20.12MB of 20.12MB uploaded\n",
      "wandb:                                                                                \n",
      "\u001b[2m\u001b[36m(pid=27885, ip=192.168.8.54)\u001b[0m wandb: Synced: http://192.168.8.51:8080/reminiz/AudioSet/runs/34mdhklg\n"
     ]
    },
    {
     "name": "stdout",
     "output_type": "stream",
     "text": [
      "\u001b[2m\u001b[36m(pid=27885, ip=192.168.8.54)\u001b[0m done\n",
      "\u001b[2m\u001b[36m(pid=18903, ip=192.168.8.52)\u001b[0m {'loss': 1.1768716421944123, 'Classifier_loss': 0.5923925, 'l_pred_w_loss': 0.25219694, 'l_pred_s_loss': 0.25219694, 'Classifier_sparse_categorical_accuracy': 0.81229746, 'l_pred_w_MAE_Lossnet': 2.9102929, 'l_pred_s_MAE_Lossnet': 2.9102929, 'lr': 0.002}\n",
      "\u001b[2m\u001b[36m(pid=18903, ip=192.168.8.52)\u001b[0m  - 356s - loss: 1.1769 - Classifier_loss: 0.5924 - l_pred_w_loss: 0.2522 - l_pred_s_loss: 0.2522 - Classifier_sparse_categorical_accuracy: 0.8123 - l_pred_w_MAE_Lossnet: 2.9103 - l_pred_s_MAE_Lossnet: 2.9103\n",
      "\u001b[2m\u001b[36m(pid=18903, ip=192.168.8.52)\u001b[0m Epoch 2/120\n",
      "\u001b[2m\u001b[36m(pid=18903, ip=192.168.8.52)\u001b[0m {'loss': 0.8271200115482013, 'Classifier_loss': 0.5078095, 'l_pred_w_loss': 0.18792057, 'l_pred_s_loss': 0.18792057, 'Classifier_sparse_categorical_accuracy': 0.8202836, 'l_pred_w_MAE_Lossnet': 2.8772721, 'l_pred_s_MAE_Lossnet': 2.8772721, 'lr': 0.002}\n",
      "\u001b[2m\u001b[36m(pid=18903, ip=192.168.8.52)\u001b[0m  - 299s - loss: 0.8271 - Classifier_loss: 0.5078 - l_pred_w_loss: 0.1879 - l_pred_s_loss: 0.1879 - Classifier_sparse_categorical_accuracy: 0.8203 - l_pred_w_MAE_Lossnet: 2.8773 - l_pred_s_MAE_Lossnet: 2.8773\n",
      "\u001b[2m\u001b[36m(pid=18903, ip=192.168.8.52)\u001b[0m Epoch 3/120\n"
     ]
    }
   ],
   "source": [
    "Active_Learning.start_training.remote()"
   ]
  },
  {
   "cell_type": "code",
   "execution_count": null,
   "metadata": {},
   "outputs": [],
   "source": []
  },
  {
   "cell_type": "code",
   "execution_count": null,
   "metadata": {},
   "outputs": [],
   "source": []
  },
  {
   "cell_type": "code",
   "execution_count": null,
   "metadata": {},
   "outputs": [],
   "source": []
  },
  {
   "cell_type": "code",
   "execution_count": null,
   "metadata": {},
   "outputs": [],
   "source": []
  },
  {
   "cell_type": "code",
   "execution_count": null,
   "metadata": {},
   "outputs": [],
   "source": []
  }
 ],
 "metadata": {
  "kernelspec": {
   "display_name": "Python 3",
   "language": "python",
   "name": "python3"
  },
  "language_info": {
   "codemirror_mode": {
    "name": "ipython",
    "version": 3
   },
   "file_extension": ".py",
   "mimetype": "text/x-python",
   "name": "python",
   "nbconvert_exporter": "python",
   "pygments_lexer": "ipython3",
   "version": "3.7.7"
  }
 },
 "nbformat": 4,
 "nbformat_minor": 4
}
