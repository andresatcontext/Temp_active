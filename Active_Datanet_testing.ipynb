{
 "cells": [
  {
   "cell_type": "code",
   "execution_count": null,
   "metadata": {},
   "outputs": [],
   "source": [
    "import ray\n",
    "ray.init(address=\"auto\", ignore_reinit_error=True)"
   ]
  },
  {
   "cell_type": "code",
   "execution_count": null,
   "metadata": {},
   "outputs": [],
   "source": [
    "from AutoML import AutoML, DataNet, AutoMLDataset\n",
    "import os\n",
    "#DataNet().restart_datanodes()\n",
    "#dataset = AutoMLDataset(name=\"person_classification\", semantics=[113988, 113989, 113990], crops=True)#, override=True)\n",
    "dataset = AutoMLDataset(name=\"person_classification\")#, semantics=[113988, 113989, 113990], crops=True)#, override=True)"
   ]
  },
  {
   "cell_type": "code",
   "execution_count": null,
   "metadata": {},
   "outputs": [],
   "source": [
    "saved_to_check = ['43138978_48512491',\n",
    "                 '43142767_44712676',\n",
    "                 '43141386_48311841',\n",
    "                 '43144739_48414797',\n",
    "                 '43133071_44724167',\n",
    "                 '43135734_48299637',\n",
    "                 '9832634_48481924',\n",
    "                 '43135919_48430240',\n",
    "                 '10290317_48336963',\n",
    "                 '43133380_48318079',\n",
    "                 '43137703_48476395',\n",
    "                 '43141686_48301188']\n",
    "\n",
    "to_check_order = []\n",
    "for subset in ['test_images', 'train_images']:\n",
    "    for key in dataset.dataset_header[subset].keys():\n",
    "        to_check_order.append(dataset.dataset_header[subset][key][0])\n",
    "        to_check_order.append(dataset.dataset_header[subset][key][-1])\n",
    "    \n",
    "assert to_check_order == saved_to_check"
   ]
  },
  {
   "cell_type": "code",
   "execution_count": null,
   "metadata": {},
   "outputs": [],
   "source": []
  },
  {
   "cell_type": "code",
   "execution_count": null,
   "metadata": {},
   "outputs": [],
   "source": []
  },
  {
   "cell_type": "code",
   "execution_count": null,
   "metadata": {},
   "outputs": [],
   "source": [
    "# load defaulft config\n",
    "import yaml\n",
    "\n",
    "config_path = './configs/Datanet_random.yml'\n",
    "\n",
    "with open(config_path) as file:\n",
    "    # The FullLoader parameter handles the conversion from YAML\n",
    "    # scalar values to Python the dictionary format\n",
    "    config = yaml.load(file, Loader=yaml.FullLoader)\n",
    "\n",
    "print(config)"
   ]
  },
  {
   "cell_type": "code",
   "execution_count": null,
   "metadata": {},
   "outputs": [],
   "source": [
    "from test_agent_classification_service import Active_Learning_test\n",
    "\n",
    "stages_to_eval = [int(i.split(\"_\")[-1]) for i in os.listdir(config['PROJECT']['group_dir']) if i.startswith('Stage_')]\n",
    "\n",
    "import time\n",
    "\n",
    "path_stage = os.path.join(config['PROJECT']['group_dir'], 'Stage_'+str(stage))\n",
    "path_checkpoitns =  os.path.join(path_stage, 'checkpoints')\n",
    "path_eval = os.path.join(path_stage, 'evaluation')\n",
    "\n",
    "list_epochs = [int(i.split(\".\")[1]) for i in os.listdir(path_checkpoitns) if i.startswith('checkpoint')]\n",
    "max_epoch = max(list_epochs)\n",
    "path_last_eval = os.path.join(path_eval, f'results_test_{max_epoch:03d}.csv')\n",
    "\n",
    "Active_Learning = Active_Learning_test.remote(config, \n",
    "                                             dataset,\n",
    "                                             4)\n",
    "Active_Learning.evaluate.remote()"
   ]
  },
  {
   "cell_type": "code",
   "execution_count": null,
   "metadata": {},
   "outputs": [],
   "source": []
  },
  {
   "cell_type": "code",
   "execution_count": null,
   "metadata": {},
   "outputs": [],
   "source": []
  },
  {
   "cell_type": "code",
   "execution_count": null,
   "metadata": {},
   "outputs": [],
   "source": []
  },
  {
   "cell_type": "code",
   "execution_count": null,
   "metadata": {},
   "outputs": [],
   "source": []
  },
  {
   "cell_type": "code",
   "execution_count": null,
   "metadata": {},
   "outputs": [],
   "source": []
  },
  {
   "cell_type": "code",
   "execution_count": null,
   "metadata": {},
   "outputs": [],
   "source": []
  }
 ],
 "metadata": {
  "kernelspec": {
   "display_name": "Python 3",
   "language": "python",
   "name": "python3"
  },
  "language_info": {
   "codemirror_mode": {
    "name": "ipython",
    "version": 3
   },
   "file_extension": ".py",
   "mimetype": "text/x-python",
   "name": "python",
   "nbconvert_exporter": "python",
   "pygments_lexer": "ipython3",
   "version": "3.7.7"
  }
 },
 "nbformat": 4,
 "nbformat_minor": 4
}
