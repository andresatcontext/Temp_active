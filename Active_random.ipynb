{
 "cells": [
  {
   "cell_type": "markdown",
   "metadata": {},
   "source": [
    "### Init ray"
   ]
  },
  {
   "cell_type": "code",
   "execution_count": null,
   "metadata": {},
   "outputs": [],
   "source": []
  },
  {
   "cell_type": "markdown",
   "metadata": {},
   "source": [
    "### Load default config"
   ]
  },
  {
   "cell_type": "code",
   "execution_count": 1,
   "metadata": {},
   "outputs": [
    {
     "name": "stderr",
     "output_type": "stream",
     "text": [
      "2020-12-15 14:19:13,085\tINFO worker.py:634 -- Connecting to existing Ray cluster at address: 192.168.8.51:6379\n",
      "/home/reminiz/ReminizML2/python_env/lib/python3.7/site-packages/tensorflow/python/framework/dtypes.py:526: FutureWarning: Passing (type, 1) or '1type' as a synonym of type is deprecated; in a future version of numpy, it will be understood as (type, (1,)) / '(1,)type'.\n",
      "  _np_qint8 = np.dtype([(\"qint8\", np.int8, 1)])\n",
      "/home/reminiz/ReminizML2/python_env/lib/python3.7/site-packages/tensorflow/python/framework/dtypes.py:527: FutureWarning: Passing (type, 1) or '1type' as a synonym of type is deprecated; in a future version of numpy, it will be understood as (type, (1,)) / '(1,)type'.\n",
      "  _np_quint8 = np.dtype([(\"quint8\", np.uint8, 1)])\n",
      "/home/reminiz/ReminizML2/python_env/lib/python3.7/site-packages/tensorflow/python/framework/dtypes.py:528: FutureWarning: Passing (type, 1) or '1type' as a synonym of type is deprecated; in a future version of numpy, it will be understood as (type, (1,)) / '(1,)type'.\n",
      "  _np_qint16 = np.dtype([(\"qint16\", np.int16, 1)])\n",
      "/home/reminiz/ReminizML2/python_env/lib/python3.7/site-packages/tensorflow/python/framework/dtypes.py:529: FutureWarning: Passing (type, 1) or '1type' as a synonym of type is deprecated; in a future version of numpy, it will be understood as (type, (1,)) / '(1,)type'.\n",
      "  _np_quint16 = np.dtype([(\"quint16\", np.uint16, 1)])\n",
      "/home/reminiz/ReminizML2/python_env/lib/python3.7/site-packages/tensorflow/python/framework/dtypes.py:530: FutureWarning: Passing (type, 1) or '1type' as a synonym of type is deprecated; in a future version of numpy, it will be understood as (type, (1,)) / '(1,)type'.\n",
      "  _np_qint32 = np.dtype([(\"qint32\", np.int32, 1)])\n",
      "/home/reminiz/ReminizML2/python_env/lib/python3.7/site-packages/tensorflow/python/framework/dtypes.py:535: FutureWarning: Passing (type, 1) or '1type' as a synonym of type is deprecated; in a future version of numpy, it will be understood as (type, (1,)) / '(1,)type'.\n",
      "  np_resource = np.dtype([(\"resource\", np.ubyte, 1)])\n",
      "\u001b[2m\u001b[36m(pid=2312, ip=192.168.8.55)\u001b[0m 2020-12-15 14:19:16.382834: W tensorflow/core/framework/op_kernel.cc:1401] OP_REQUIRES failed at tensor_array_ops.cc:447 : Invalid argument: TensorArray map/TensorArray_1_190: Could not write to TensorArray index 113 because the value shape is [89602,2] which is incompatible with the TensorArray's inferred element shape: [132300,2] (consider setting infer_shape=False).\n"
     ]
    }
   ],
   "source": [
    "import ray\n",
    "ray.init(address=\"auto\", ignore_reinit_error=True)\n",
    "# load defaulft config\n",
    "import yaml\n",
    "import os\n",
    "import time\n",
    "import pandas as pd\n",
    "import random\n",
    "\n",
    "config_path = './configs/Active_v0.yml'\n",
    "\n",
    "with open(config_path) as file:\n",
    "    # The FullLoader parameter handles the conversion from YAML\n",
    "    # scalar values to Python the dictionary format\n",
    "    config = yaml.load(file, Loader=yaml.FullLoader)\n",
    "\n",
    "# create base dir and gr\n",
    "if os.path.exists(config[\"PROJECT\"][\"project_dir\"]) is False:\n",
    "    os.mkdir(config[\"PROJECT\"][\"project_dir\"])\n",
    "\n",
    "if os.path.exists(config[\"PROJECT\"][\"group_dir\"]) is False:\n",
    "    os.mkdir(config[\"PROJECT\"][\"group_dir\"])\n",
    "    \n",
    "    \n",
    "# Get the data to annotate\n",
    "\n",
    "#############################################################################################\n",
    "# LOAD DATA\n",
    "#############################################################################################\n",
    "from data_utils import CIFAR10Data\n",
    "# Load data\n",
    "cifar10_data = CIFAR10Data()\n",
    "num_classes = len(cifar10_data.classes)\n",
    "x_train, y_train, x_test, y_test = cifar10_data.get_data(subtract_mean=True)\n",
    "\n",
    "indices = list(range(len(x_train)))\n",
    "random.seed(101)\n",
    "random.shuffle(indices)\n",
    "labeled_set = indices[:config[\"RUNS\"][\"ADDENDUM\"] ]\n",
    "unlabeled_set = indices[config[\"RUNS\"][\"ADDENDUM\"] :]\n",
    "\n",
    "config[\"NETWORK\"][\"INPUT_SIZE\"] =  x_train[0].shape[0]\n",
    "config[\"NETWORK\"][\"CLASSES\"] = cifar10_data.classes\n",
    "\n",
    "# test with all the images\n",
    "NUM_IMAGES_TEST = len(x_test)\n",
    "# Initialize a labeled dataset by randomly sampling K=ADDENDUM=1,000 data points from the entire dataset.\n",
    "test_set = list(range(NUM_IMAGES_TEST))"
   ]
  },
  {
   "cell_type": "code",
   "execution_count": 2,
   "metadata": {},
   "outputs": [
    {
     "data": {
      "text/plain": [
       "{'ACTIVE_ALGO': {'LOSSLEARNING': 1.0},\n",
       " 'DATASET': {'height_shift_range': 4,\n",
       "  'horizontal_flip': True,\n",
       "  'width_shift_range': 4},\n",
       " 'NETWORK': {'CLASSES': ['plane',\n",
       "   'car',\n",
       "   'bird',\n",
       "   'cat',\n",
       "   'deer',\n",
       "   'dog',\n",
       "   'frog',\n",
       "   'horse',\n",
       "   'ship',\n",
       "   'truck'],\n",
       "  'INPUT_SIZE': 32,\n",
       "  'MARGIN': 1.0,\n",
       "  'embedding_size': 128},\n",
       " 'PROJECT': {'Backbone': 'resnet18',\n",
       "  'dataset_name': 'CIFAR',\n",
       "  'group': 'Active_Learning_keras_v0',\n",
       "  'group_dir': '/mnt/Ressources/Andres/Temp_active/runs/Active_Learning_keras_v0',\n",
       "  'project': 'Active_Learning_CIFAR',\n",
       "  'project_dir': '/mnt/Ressources/Andres/Temp_active/runs',\n",
       "  'source': 'CIFAR'},\n",
       " 'RUNS': {'ADDENDUM': 1000,\n",
       "  'CYCLES': 10,\n",
       "  'SUBSET': -1,\n",
       "  'TRIALS': 1,\n",
       "  'test_each': 5},\n",
       " 'TEST': {'batch_size': 128},\n",
       " 'TRAIN': {'Data_augementation': True,\n",
       "  'EPOCH_SLIT': 80,\n",
       "  'EPOCH_WARMUP': 2,\n",
       "  'EPOCH_WHOLE': 120,\n",
       "  'MILESTONES': [160],\n",
       "  'batch_size': 128,\n",
       "  'gamma': 0.1,\n",
       "  'lr': 0.001,\n",
       "  'start_epoch': 0,\n",
       "  'transfer_weight_path': False,\n",
       "  'w_c_loss': 1.0,\n",
       "  'w_l_loss': 1.0,\n",
       "  'wdecay': 0.9995}}"
      ]
     },
     "execution_count": 2,
     "metadata": {},
     "output_type": "execute_result"
    }
   ],
   "source": [
    "config"
   ]
  },
  {
   "cell_type": "code",
   "execution_count": 3,
   "metadata": {},
   "outputs": [
    {
     "name": "stderr",
     "output_type": "stream",
     "text": [
      "\u001b[2m\u001b[36m(pid=15791)\u001b[0m /home/reminiz/ReminizML2/python_env/lib/python3.7/site-packages/tensorflow/python/framework/dtypes.py:526: FutureWarning: Passing (type, 1) or '1type' as a synonym of type is deprecated; in a future version of numpy, it will be understood as (type, (1,)) / '(1,)type'.\n",
      "\u001b[2m\u001b[36m(pid=15791)\u001b[0m   _np_qint8 = np.dtype([(\"qint8\", np.int8, 1)])\n",
      "\u001b[2m\u001b[36m(pid=15791)\u001b[0m /home/reminiz/ReminizML2/python_env/lib/python3.7/site-packages/tensorflow/python/framework/dtypes.py:527: FutureWarning: Passing (type, 1) or '1type' as a synonym of type is deprecated; in a future version of numpy, it will be understood as (type, (1,)) / '(1,)type'.\n",
      "\u001b[2m\u001b[36m(pid=15791)\u001b[0m   _np_quint8 = np.dtype([(\"quint8\", np.uint8, 1)])\n",
      "\u001b[2m\u001b[36m(pid=15791)\u001b[0m /home/reminiz/ReminizML2/python_env/lib/python3.7/site-packages/tensorflow/python/framework/dtypes.py:528: FutureWarning: Passing (type, 1) or '1type' as a synonym of type is deprecated; in a future version of numpy, it will be understood as (type, (1,)) / '(1,)type'.\n",
      "\u001b[2m\u001b[36m(pid=15791)\u001b[0m   _np_qint16 = np.dtype([(\"qint16\", np.int16, 1)])\n",
      "\u001b[2m\u001b[36m(pid=15791)\u001b[0m /home/reminiz/ReminizML2/python_env/lib/python3.7/site-packages/tensorflow/python/framework/dtypes.py:529: FutureWarning: Passing (type, 1) or '1type' as a synonym of type is deprecated; in a future version of numpy, it will be understood as (type, (1,)) / '(1,)type'.\n",
      "\u001b[2m\u001b[36m(pid=15791)\u001b[0m   _np_quint16 = np.dtype([(\"quint16\", np.uint16, 1)])\n",
      "\u001b[2m\u001b[36m(pid=15791)\u001b[0m /home/reminiz/ReminizML2/python_env/lib/python3.7/site-packages/tensorflow/python/framework/dtypes.py:530: FutureWarning: Passing (type, 1) or '1type' as a synonym of type is deprecated; in a future version of numpy, it will be understood as (type, (1,)) / '(1,)type'.\n",
      "\u001b[2m\u001b[36m(pid=15791)\u001b[0m   _np_qint32 = np.dtype([(\"qint32\", np.int32, 1)])\n",
      "\u001b[2m\u001b[36m(pid=15791)\u001b[0m /home/reminiz/ReminizML2/python_env/lib/python3.7/site-packages/tensorflow/python/framework/dtypes.py:535: FutureWarning: Passing (type, 1) or '1type' as a synonym of type is deprecated; in a future version of numpy, it will be understood as (type, (1,)) / '(1,)type'.\n",
      "\u001b[2m\u001b[36m(pid=15791)\u001b[0m   np_resource = np.dtype([(\"resource\", np.ubyte, 1)])\n",
      "\u001b[2m\u001b[36m(pid=15791)\u001b[0m 2020-12-15 14:19:22.561970: I tensorflow/core/platform/cpu_feature_guard.cc:141] Your CPU supports instructions that this TensorFlow binary was not compiled to use: AVX2 FMA\n",
      "\u001b[2m\u001b[36m(pid=15791)\u001b[0m 2020-12-15 14:19:22.584953: I tensorflow/core/platform/profile_utils/cpu_utils.cc:94] CPU Frequency: 3300280000 Hz\n",
      "\u001b[2m\u001b[36m(pid=15791)\u001b[0m 2020-12-15 14:19:22.586047: I tensorflow/compiler/xla/service/service.cc:150] XLA service 0x61367e0 executing computations on platform Host. Devices:\n",
      "\u001b[2m\u001b[36m(pid=15791)\u001b[0m 2020-12-15 14:19:22.586097: I tensorflow/compiler/xla/service/service.cc:158]   StreamExecutor device (0): <undefined>, <undefined>\n",
      "\u001b[2m\u001b[36m(pid=15791)\u001b[0m 2020-12-15 14:19:22.869868: I tensorflow/compiler/xla/service/service.cc:150] XLA service 0x613c090 executing computations on platform CUDA. Devices:\n",
      "\u001b[2m\u001b[36m(pid=15791)\u001b[0m 2020-12-15 14:19:22.869917: I tensorflow/compiler/xla/service/service.cc:158]   StreamExecutor device (0): TITAN RTX, Compute Capability 7.5\n",
      "\u001b[2m\u001b[36m(pid=15791)\u001b[0m 2020-12-15 14:19:22.870102: I tensorflow/core/common_runtime/gpu/gpu_device.cc:1433] Found device 0 with properties: \n",
      "\u001b[2m\u001b[36m(pid=15791)\u001b[0m name: TITAN RTX major: 7 minor: 5 memoryClockRate(GHz): 1.77\n",
      "\u001b[2m\u001b[36m(pid=15791)\u001b[0m pciBusID: 0000:06:00.0\n",
      "\u001b[2m\u001b[36m(pid=15791)\u001b[0m totalMemory: 23.65GiB freeMemory: 23.48GiB\n",
      "\u001b[2m\u001b[36m(pid=15791)\u001b[0m 2020-12-15 14:19:22.870130: I tensorflow/core/common_runtime/gpu/gpu_device.cc:1512] Adding visible gpu devices: 0\n",
      "\u001b[2m\u001b[36m(pid=15791)\u001b[0m 2020-12-15 14:19:22.873558: I tensorflow/core/common_runtime/gpu/gpu_device.cc:984] Device interconnect StreamExecutor with strength 1 edge matrix:\n",
      "\u001b[2m\u001b[36m(pid=15791)\u001b[0m 2020-12-15 14:19:22.873588: I tensorflow/core/common_runtime/gpu/gpu_device.cc:990]      0 \n",
      "\u001b[2m\u001b[36m(pid=15791)\u001b[0m 2020-12-15 14:19:22.873601: I tensorflow/core/common_runtime/gpu/gpu_device.cc:1003] 0:   N \n",
      "\u001b[2m\u001b[36m(pid=15791)\u001b[0m 2020-12-15 14:19:22.873701: I tensorflow/core/common_runtime/gpu/gpu_device.cc:1115] Created TensorFlow device (/job:localhost/replica:0/task:0/device:GPU:0 with 22844 MB memory) -> physical GPU (device: 0, name: TITAN RTX, pci bus id: 0000:06:00.0, compute capability: 7.5)\n",
      "\u001b[2m\u001b[36m(pid=15791)\u001b[0m /home/reminiz/ReminizML2/python_env/lib/python3.7/site-packages/tensorboard/compat/tensorflow_stub/dtypes.py:541: FutureWarning: Passing (type, 1) or '1type' as a synonym of type is deprecated; in a future version of numpy, it will be understood as (type, (1,)) / '(1,)type'.\n",
      "\u001b[2m\u001b[36m(pid=15791)\u001b[0m   _np_qint8 = np.dtype([(\"qint8\", np.int8, 1)])\n",
      "\u001b[2m\u001b[36m(pid=15791)\u001b[0m /home/reminiz/ReminizML2/python_env/lib/python3.7/site-packages/tensorboard/compat/tensorflow_stub/dtypes.py:542: FutureWarning: Passing (type, 1) or '1type' as a synonym of type is deprecated; in a future version of numpy, it will be understood as (type, (1,)) / '(1,)type'.\n",
      "\u001b[2m\u001b[36m(pid=15791)\u001b[0m   _np_quint8 = np.dtype([(\"quint8\", np.uint8, 1)])\n",
      "\u001b[2m\u001b[36m(pid=15791)\u001b[0m /home/reminiz/ReminizML2/python_env/lib/python3.7/site-packages/tensorboard/compat/tensorflow_stub/dtypes.py:543: FutureWarning: Passing (type, 1) or '1type' as a synonym of type is deprecated; in a future version of numpy, it will be understood as (type, (1,)) / '(1,)type'.\n",
      "\u001b[2m\u001b[36m(pid=15791)\u001b[0m   _np_qint16 = np.dtype([(\"qint16\", np.int16, 1)])\n",
      "\u001b[2m\u001b[36m(pid=15791)\u001b[0m /home/reminiz/ReminizML2/python_env/lib/python3.7/site-packages/tensorboard/compat/tensorflow_stub/dtypes.py:544: FutureWarning: Passing (type, 1) or '1type' as a synonym of type is deprecated; in a future version of numpy, it will be understood as (type, (1,)) / '(1,)type'.\n",
      "\u001b[2m\u001b[36m(pid=15791)\u001b[0m   _np_quint16 = np.dtype([(\"quint16\", np.uint16, 1)])\n",
      "\u001b[2m\u001b[36m(pid=15791)\u001b[0m /home/reminiz/ReminizML2/python_env/lib/python3.7/site-packages/tensorboard/compat/tensorflow_stub/dtypes.py:545: FutureWarning: Passing (type, 1) or '1type' as a synonym of type is deprecated; in a future version of numpy, it will be understood as (type, (1,)) / '(1,)type'.\n",
      "\u001b[2m\u001b[36m(pid=15791)\u001b[0m   _np_qint32 = np.dtype([(\"qint32\", np.int32, 1)])\n",
      "\u001b[2m\u001b[36m(pid=15791)\u001b[0m /home/reminiz/ReminizML2/python_env/lib/python3.7/site-packages/tensorboard/compat/tensorflow_stub/dtypes.py:550: FutureWarning: Passing (type, 1) or '1type' as a synonym of type is deprecated; in a future version of numpy, it will be understood as (type, (1,)) / '(1,)type'.\n",
      "\u001b[2m\u001b[36m(pid=15791)\u001b[0m   np_resource = np.dtype([(\"resource\", np.ubyte, 1)])\n",
      "\u001b[2m\u001b[36m(pid=15791)\u001b[0m wandb: Tracking run with wandb version 0.8.36\n",
      "\u001b[2m\u001b[36m(pid=15791)\u001b[0m wandb: Wandb version 0.10.12 is available!  To upgrade, please run:\n",
      "\u001b[2m\u001b[36m(pid=15791)\u001b[0m wandb:  $ pip install wandb --upgrade\n",
      "\u001b[2m\u001b[36m(pid=15791)\u001b[0m wandb: Run data is saved locally in ../../../Trainings/wandb/wandb/run-20201215_131922-nxnf6tg3\n",
      "\u001b[2m\u001b[36m(pid=15791)\u001b[0m wandb: Syncing run Train_0\n",
      "\u001b[2m\u001b[36m(pid=15791)\u001b[0m wandb: ⭐️ View project at http://192.168.8.51:8080/reminiz/Active_Learning_CIFAR\n",
      "\u001b[2m\u001b[36m(pid=15791)\u001b[0m wandb: 🚀 View run at http://192.168.8.51:8080/reminiz/Active_Learning_CIFAR/runs/nxnf6tg3\n",
      "\u001b[2m\u001b[36m(pid=15791)\u001b[0m wandb: Run `wandb off` to turn off syncing.\n",
      "\u001b[2m\u001b[36m(pid=15791)\u001b[0m \n",
      "\u001b[2m\u001b[36m(pid=15791)\u001b[0m WARNING:tensorflow:From /home/reminiz/ReminizML2/python_env/lib/python3.7/site-packages/tensorflow/python/ops/resource_variable_ops.py:435: colocate_with (from tensorflow.python.framework.ops) is deprecated and will be removed in a future version.\n",
      "\u001b[2m\u001b[36m(pid=15791)\u001b[0m Instructions for updating:\n",
      "\u001b[2m\u001b[36m(pid=15791)\u001b[0m Colocations handled automatically by placer.\n",
      "\u001b[2m\u001b[36m(pid=15791)\u001b[0m WARNING:tensorflow:Output \"Embedding\" missing from loss dictionary. We assume this was done on purpose. The fit and evaluate APIs will not be expecting any data to be passed to \"Embedding\".\n",
      "\u001b[2m\u001b[36m(pid=15791)\u001b[0m WARNING:tensorflow:Output \"Embedding\" missing from loss dictionary. We assume this was done on purpose. The fit and evaluate APIs will not be expecting any data to be passed to \"Embedding\".\n"
     ]
    },
    {
     "name": "stdout",
     "output_type": "stream",
     "text": [
      "\u001b[2m\u001b[36m(pid=15791)\u001b[0m \u001b[1;36mTrain_Stage_0\u001b[0;0m Init done\n",
      "\u001b[2m\u001b[36m(pid=15791)\u001b[0m \u001b[1;36mTrain_Stage_0\u001b[0;0m Start training\n"
     ]
    },
    {
     "name": "stderr",
     "output_type": "stream",
     "text": [
      "\u001b[2m\u001b[36m(pid=15791)\u001b[0m 2020-12-15 14:19:27,250\tINFO worker.py:634 -- Connecting to existing Ray cluster at address: 192.168.8.51:6379\n",
      "\u001b[2m\u001b[36m(pid=15791)\u001b[0m 2020-12-15 14:19:27,251\tERROR worker.py:643 -- Calling ray.init() again after it has already been called.\n",
      "\u001b[2m\u001b[36m(pid=15791)\u001b[0m WARNING:tensorflow:From /home/reminiz/ReminizML2/python_env/lib/python3.7/site-packages/tensorflow/python/ops/math_ops.py:3066: to_int32 (from tensorflow.python.ops.math_ops) is deprecated and will be removed in a future version.\n",
      "\u001b[2m\u001b[36m(pid=15791)\u001b[0m Instructions for updating:\n",
      "\u001b[2m\u001b[36m(pid=15791)\u001b[0m Use tf.cast instead.\n",
      "\u001b[2m\u001b[36m(pid=2312, ip=192.168.8.55)\u001b[0m 2020-12-15 14:19:32.069738: W tensorflow/core/framework/op_kernel.cc:1401] OP_REQUIRES failed at tensor_array_ops.cc:447 : Invalid argument: TensorArray map/TensorArray_1_202: Could not write to TensorArray index 67 because the value shape is [92479,2] which is incompatible with the TensorArray's inferred element shape: [132300,2] (consider setting infer_shape=False).\n",
      "\u001b[2m\u001b[36m(pid=2312, ip=192.168.8.55)\u001b[0m 2020-12-15 14:19:37.520297: W tensorflow/core/framework/op_kernel.cc:1401] OP_REQUIRES failed at tensor_array_ops.cc:447 : Invalid argument: TensorArray map/TensorArray_1_199: Could not write to TensorArray index 111 because the value shape is [132076,2] which is incompatible with the TensorArray's inferred element shape: [132300,2] (consider setting infer_shape=False).\n",
      "\u001b[2m\u001b[36m(pid=15791)\u001b[0m 2020-12-15 14:19:40.026265: I tensorflow/stream_executor/dso_loader.cc:152] successfully opened CUDA library libcublas.so.10.0 locally\n",
      "\u001b[2m\u001b[36m(pid=2312, ip=192.168.8.55)\u001b[0m 2020-12-15 14:19:40.736700: W tensorflow/core/framework/op_kernel.cc:1401] OP_REQUIRES failed at tensor_array_ops.cc:447 : Invalid argument: TensorArray map/TensorArray_1_196: Could not write to TensorArray index 216 because the value shape is [87715,2] which is incompatible with the TensorArray's inferred element shape: [132300,2] (consider setting infer_shape=False).\n",
      "\u001b[2m\u001b[36m(pid=2312, ip=192.168.8.55)\u001b[0m 2020-12-15 14:19:44.234242: W tensorflow/core/framework/op_kernel.cc:1401] OP_REQUIRES failed at tensor_array_ops.cc:447 : Invalid argument: TensorArray map/TensorArray_1_209: Could not write to TensorArray index 49 because the value shape is [90832,2] which is incompatible with the TensorArray's inferred element shape: [132300,2] (consider setting infer_shape=False).\n",
      "\u001b[2m\u001b[36m(pid=2312, ip=192.168.8.55)\u001b[0m 2020-12-15 14:19:50.493399: W tensorflow/core/framework/op_kernel.cc:1401] OP_REQUIRES failed at tensor_array_ops.cc:447 : Invalid argument: TensorArray map/TensorArray_1_212: Could not write to TensorArray index 59 because the value shape is [110027,2] which is incompatible with the TensorArray's inferred element shape: [132300,2] (consider setting infer_shape=False).\n",
      "\u001b[2m\u001b[36m(pid=2312, ip=192.168.8.55)\u001b[0m 2020-12-15 14:19:54.391379: W tensorflow/core/framework/op_kernel.cc:1401] OP_REQUIRES failed at tensor_array_ops.cc:447 : Invalid argument: TensorArray map/TensorArray_1_214: Could not write to TensorArray index 4 because the value shape is [103498,2] which is incompatible with the TensorArray's inferred element shape: [132300,2] (consider setting infer_shape=False).\n"
     ]
    },
    {
     "name": "stdout",
     "output_type": "stream",
     "text": [
      "\u001b[2m\u001b[36m(pid=15791)\u001b[0m Change to split learning\n",
      "\u001b[2m\u001b[36m(pid=15791)\u001b[0m Previus weigths 1.0 0\n",
      "\u001b[2m\u001b[36m(pid=15791)\u001b[0m Updated weigths 0 1.0\n"
     ]
    },
    {
     "name": "stderr",
     "output_type": "stream",
     "text": [
      "\u001b[2m\u001b[36m(pid=15791)\u001b[0m \n",
      "\u001b[2m\u001b[36m(pid=15791)\u001b[0m wandb: Waiting for W&B process to finish, PID 19085\n",
      "\u001b[2m\u001b[36m(pid=15791)\u001b[0m wandb: Program ended successfully.\n",
      "\u001b[2m\u001b[36m(pid=6695, ip=192.168.8.54)\u001b[0m /home/reminiz/ReminizML2/python_env/lib/python3.7/site-packages/tensorflow/python/framework/dtypes.py:526: FutureWarning: Passing (type, 1) or '1type' as a synonym of type is deprecated; in a future version of numpy, it will be understood as (type, (1,)) / '(1,)type'.\n",
      "\u001b[2m\u001b[36m(pid=6695, ip=192.168.8.54)\u001b[0m   _np_qint8 = np.dtype([(\"qint8\", np.int8, 1)])\n",
      "\u001b[2m\u001b[36m(pid=6695, ip=192.168.8.54)\u001b[0m /home/reminiz/ReminizML2/python_env/lib/python3.7/site-packages/tensorflow/python/framework/dtypes.py:527: FutureWarning: Passing (type, 1) or '1type' as a synonym of type is deprecated; in a future version of numpy, it will be understood as (type, (1,)) / '(1,)type'.\n",
      "\u001b[2m\u001b[36m(pid=6695, ip=192.168.8.54)\u001b[0m   _np_quint8 = np.dtype([(\"quint8\", np.uint8, 1)])\n",
      "\u001b[2m\u001b[36m(pid=6695, ip=192.168.8.54)\u001b[0m /home/reminiz/ReminizML2/python_env/lib/python3.7/site-packages/tensorflow/python/framework/dtypes.py:528: FutureWarning: Passing (type, 1) or '1type' as a synonym of type is deprecated; in a future version of numpy, it will be understood as (type, (1,)) / '(1,)type'.\n",
      "\u001b[2m\u001b[36m(pid=6695, ip=192.168.8.54)\u001b[0m   _np_qint16 = np.dtype([(\"qint16\", np.int16, 1)])\n",
      "\u001b[2m\u001b[36m(pid=6695, ip=192.168.8.54)\u001b[0m /home/reminiz/ReminizML2/python_env/lib/python3.7/site-packages/tensorflow/python/framework/dtypes.py:529: FutureWarning: Passing (type, 1) or '1type' as a synonym of type is deprecated; in a future version of numpy, it will be understood as (type, (1,)) / '(1,)type'.\n",
      "\u001b[2m\u001b[36m(pid=6695, ip=192.168.8.54)\u001b[0m   _np_quint16 = np.dtype([(\"quint16\", np.uint16, 1)])\n",
      "\u001b[2m\u001b[36m(pid=6695, ip=192.168.8.54)\u001b[0m /home/reminiz/ReminizML2/python_env/lib/python3.7/site-packages/tensorflow/python/framework/dtypes.py:530: FutureWarning: Passing (type, 1) or '1type' as a synonym of type is deprecated; in a future version of numpy, it will be understood as (type, (1,)) / '(1,)type'.\n",
      "\u001b[2m\u001b[36m(pid=6695, ip=192.168.8.54)\u001b[0m   _np_qint32 = np.dtype([(\"qint32\", np.int32, 1)])\n",
      "\u001b[2m\u001b[36m(pid=6695, ip=192.168.8.54)\u001b[0m /home/reminiz/ReminizML2/python_env/lib/python3.7/site-packages/tensorflow/python/framework/dtypes.py:535: FutureWarning: Passing (type, 1) or '1type' as a synonym of type is deprecated; in a future version of numpy, it will be understood as (type, (1,)) / '(1,)type'.\n",
      "\u001b[2m\u001b[36m(pid=6695, ip=192.168.8.54)\u001b[0m   np_resource = np.dtype([(\"resource\", np.ubyte, 1)])\n",
      "\u001b[2m\u001b[36m(pid=6695, ip=192.168.8.54)\u001b[0m 2020-12-15 14:22:32.481984: I tensorflow/core/platform/cpu_feature_guard.cc:141] Your CPU supports instructions that this TensorFlow binary was not compiled to use: AVX2 FMA\n",
      "\u001b[2m\u001b[36m(pid=6695, ip=192.168.8.54)\u001b[0m 2020-12-15 14:22:32.506359: I tensorflow/core/platform/profile_utils/cpu_utils.cc:94] CPU Frequency: 3300095000 Hz\n",
      "\u001b[2m\u001b[36m(pid=6695, ip=192.168.8.54)\u001b[0m 2020-12-15 14:22:32.507317: I tensorflow/compiler/xla/service/service.cc:150] XLA service 0x5f57310 executing computations on platform Host. Devices:\n",
      "\u001b[2m\u001b[36m(pid=6695, ip=192.168.8.54)\u001b[0m 2020-12-15 14:22:32.507342: I tensorflow/compiler/xla/service/service.cc:158]   StreamExecutor device (0): <undefined>, <undefined>\n",
      "\u001b[2m\u001b[36m(pid=6695, ip=192.168.8.54)\u001b[0m 2020-12-15 14:22:32.576032: I tensorflow/compiler/xla/service/service.cc:150] XLA service 0x5f935d0 executing computations on platform CUDA. Devices:\n",
      "\u001b[2m\u001b[36m(pid=6695, ip=192.168.8.54)\u001b[0m 2020-12-15 14:22:32.576061: I tensorflow/compiler/xla/service/service.cc:158]   StreamExecutor device (0): GeForce GTX TITAN X, Compute Capability 5.2\n",
      "\u001b[2m\u001b[36m(pid=6695, ip=192.168.8.54)\u001b[0m 2020-12-15 14:22:32.576167: I tensorflow/core/common_runtime/gpu/gpu_device.cc:1433] Found device 0 with properties: \n",
      "\u001b[2m\u001b[36m(pid=6695, ip=192.168.8.54)\u001b[0m name: GeForce GTX TITAN X major: 5 minor: 2 memoryClockRate(GHz): 1.076\n",
      "\u001b[2m\u001b[36m(pid=6695, ip=192.168.8.54)\u001b[0m pciBusID: 0000:4c:00.0\n",
      "\u001b[2m\u001b[36m(pid=6695, ip=192.168.8.54)\u001b[0m totalMemory: 11.92GiB freeMemory: 11.82GiB\n",
      "\u001b[2m\u001b[36m(pid=6695, ip=192.168.8.54)\u001b[0m 2020-12-15 14:22:32.576183: I tensorflow/core/common_runtime/gpu/gpu_device.cc:1512] Adding visible gpu devices: 0\n",
      "\u001b[2m\u001b[36m(pid=6695, ip=192.168.8.54)\u001b[0m 2020-12-15 14:22:32.577287: I tensorflow/core/common_runtime/gpu/gpu_device.cc:984] Device interconnect StreamExecutor with strength 1 edge matrix:\n",
      "\u001b[2m\u001b[36m(pid=6695, ip=192.168.8.54)\u001b[0m 2020-12-15 14:22:32.577302: I tensorflow/core/common_runtime/gpu/gpu_device.cc:990]      0 \n",
      "\u001b[2m\u001b[36m(pid=6695, ip=192.168.8.54)\u001b[0m 2020-12-15 14:22:32.577307: I tensorflow/core/common_runtime/gpu/gpu_device.cc:1003] 0:   N \n",
      "\u001b[2m\u001b[36m(pid=6695, ip=192.168.8.54)\u001b[0m 2020-12-15 14:22:32.577377: I tensorflow/core/common_runtime/gpu/gpu_device.cc:1115] Created TensorFlow device (/job:localhost/replica:0/task:0/device:GPU:0 with 11496 MB memory) -> physical GPU (device: 0, name: GeForce GTX TITAN X, pci bus id: 0000:4c:00.0, compute capability: 5.2)\n",
      "\u001b[2m\u001b[36m(pid=6695, ip=192.168.8.54)\u001b[0m /home/reminiz/ReminizML2/python_env/lib/python3.7/site-packages/tensorboard/compat/tensorflow_stub/dtypes.py:541: FutureWarning: Passing (type, 1) or '1type' as a synonym of type is deprecated; in a future version of numpy, it will be understood as (type, (1,)) / '(1,)type'.\n",
      "\u001b[2m\u001b[36m(pid=6695, ip=192.168.8.54)\u001b[0m   _np_qint8 = np.dtype([(\"qint8\", np.int8, 1)])\n",
      "\u001b[2m\u001b[36m(pid=6695, ip=192.168.8.54)\u001b[0m /home/reminiz/ReminizML2/python_env/lib/python3.7/site-packages/tensorboard/compat/tensorflow_stub/dtypes.py:542: FutureWarning: Passing (type, 1) or '1type' as a synonym of type is deprecated; in a future version of numpy, it will be understood as (type, (1,)) / '(1,)type'.\n",
      "\u001b[2m\u001b[36m(pid=6695, ip=192.168.8.54)\u001b[0m   _np_quint8 = np.dtype([(\"quint8\", np.uint8, 1)])\n",
      "\u001b[2m\u001b[36m(pid=6695, ip=192.168.8.54)\u001b[0m /home/reminiz/ReminizML2/python_env/lib/python3.7/site-packages/tensorboard/compat/tensorflow_stub/dtypes.py:543: FutureWarning: Passing (type, 1) or '1type' as a synonym of type is deprecated; in a future version of numpy, it will be understood as (type, (1,)) / '(1,)type'.\n",
      "\u001b[2m\u001b[36m(pid=6695, ip=192.168.8.54)\u001b[0m   _np_qint16 = np.dtype([(\"qint16\", np.int16, 1)])\n",
      "\u001b[2m\u001b[36m(pid=6695, ip=192.168.8.54)\u001b[0m /home/reminiz/ReminizML2/python_env/lib/python3.7/site-packages/tensorboard/compat/tensorflow_stub/dtypes.py:544: FutureWarning: Passing (type, 1) or '1type' as a synonym of type is deprecated; in a future version of numpy, it will be understood as (type, (1,)) / '(1,)type'.\n",
      "\u001b[2m\u001b[36m(pid=6695, ip=192.168.8.54)\u001b[0m   _np_quint16 = np.dtype([(\"quint16\", np.uint16, 1)])\n",
      "\u001b[2m\u001b[36m(pid=6695, ip=192.168.8.54)\u001b[0m /home/reminiz/ReminizML2/python_env/lib/python3.7/site-packages/tensorboard/compat/tensorflow_stub/dtypes.py:545: FutureWarning: Passing (type, 1) or '1type' as a synonym of type is deprecated; in a future version of numpy, it will be understood as (type, (1,)) / '(1,)type'.\n",
      "\u001b[2m\u001b[36m(pid=6695, ip=192.168.8.54)\u001b[0m   _np_qint32 = np.dtype([(\"qint32\", np.int32, 1)])\n",
      "\u001b[2m\u001b[36m(pid=6695, ip=192.168.8.54)\u001b[0m /home/reminiz/ReminizML2/python_env/lib/python3.7/site-packages/tensorboard/compat/tensorflow_stub/dtypes.py:550: FutureWarning: Passing (type, 1) or '1type' as a synonym of type is deprecated; in a future version of numpy, it will be understood as (type, (1,)) / '(1,)type'.\n",
      "\u001b[2m\u001b[36m(pid=6695, ip=192.168.8.54)\u001b[0m   np_resource = np.dtype([(\"resource\", np.ubyte, 1)])\n",
      "\u001b[2m\u001b[36m(pid=6695, ip=192.168.8.54)\u001b[0m wandb: Tracking run with wandb version 0.8.36\n",
      "\u001b[2m\u001b[36m(pid=6695, ip=192.168.8.54)\u001b[0m wandb: Wandb version 0.10.12 is available!  To upgrade, please run:\n",
      "\u001b[2m\u001b[36m(pid=6695, ip=192.168.8.54)\u001b[0m wandb:  $ pip install wandb --upgrade\n",
      "\u001b[2m\u001b[36m(pid=6695, ip=192.168.8.54)\u001b[0m wandb: Run data is saved locally in ../../../Trainings/wandb/wandb/run-20201215_132232-11whhpo9\n",
      "\u001b[2m\u001b[36m(pid=6695, ip=192.168.8.54)\u001b[0m wandb: Syncing run Train_1\n",
      "\u001b[2m\u001b[36m(pid=6695, ip=192.168.8.54)\u001b[0m wandb: ⭐️ View project at http://192.168.8.51:8080/reminiz/Active_Learning_CIFAR\n",
      "\u001b[2m\u001b[36m(pid=6695, ip=192.168.8.54)\u001b[0m wandb: 🚀 View run at http://192.168.8.51:8080/reminiz/Active_Learning_CIFAR/runs/11whhpo9\n",
      "\u001b[2m\u001b[36m(pid=6695, ip=192.168.8.54)\u001b[0m wandb: Run `wandb off` to turn off syncing.\n",
      "\u001b[2m\u001b[36m(pid=6695, ip=192.168.8.54)\u001b[0m \n",
      "\u001b[2m\u001b[36m(pid=15791)\u001b[0m wandb: Run summary:\n",
      "\u001b[2m\u001b[36m(pid=15791)\u001b[0m wandb:                     l_pred_w_loss 0.06360413134098053\n",
      "\u001b[2m\u001b[36m(pid=15791)\u001b[0m wandb:                        _timestamp 1608038541.649532\n",
      "\u001b[2m\u001b[36m(pid=15791)\u001b[0m wandb:              l_pred_s_MAE_Lossnet 4.918290138244629\n",
      "\u001b[2m\u001b[36m(pid=15791)\u001b[0m wandb:   Classifier_categorical_accuracy 0.9950000047683716\n",
      "\u001b[2m\u001b[36m(pid=15791)\u001b[0m wandb:              l_pred_w_MAE_Lossnet 4.918290138244629\n",
      "\u001b[2m\u001b[36m(pid=15791)\u001b[0m wandb:                     l_pred_s_loss 0.06360413134098053\n",
      "\u001b[2m\u001b[36m(pid=15791)\u001b[0m wandb:                          _runtime 179.4517045021057\n",
      "\u001b[2m\u001b[36m(pid=15791)\u001b[0m wandb:                   Classifier_loss 0.0156735647469759\n",
      "\u001b[2m\u001b[36m(pid=15791)\u001b[0m wandb:                              loss 0.07979360941052437\n",
      "\u001b[2m\u001b[36m(pid=15791)\u001b[0m wandb:                             _step 199\n",
      "\u001b[2m\u001b[36m(pid=15791)\u001b[0m wandb:                             epoch 199\n",
      "\u001b[2m\u001b[36m(pid=15791)\u001b[0m wandb: Syncing files in ../../../Trainings/wandb/wandb/run-20201215_131922-nxnf6tg3:\n",
      "\u001b[2m\u001b[36m(pid=15791)\u001b[0m wandb:   code/default_worker.py\n",
      "\u001b[2m\u001b[36m(pid=15791)\u001b[0m wandb: plus 8 W&B file(s) and 1 media file(s)\n",
      "\u001b[2m\u001b[36m(pid=15791)\u001b[0m wandb: - 0.06MB of 0.06MB uploaded\n",
      "\u001b[2m\u001b[36m(pid=15791)\u001b[0m wandb: \\ 0.06MB of 0.06MB uploaded\n",
      "\u001b[2m\u001b[36m(pid=15791)\u001b[0m wandb: | 0.06MB of 0.06MB uploaded\n",
      "\u001b[2m\u001b[36m(pid=15791)\u001b[0m wandb: / 0.06MB of 0.06MB uploaded\n",
      "\u001b[2m\u001b[36m(pid=15791)\u001b[0m wandb: - 0.06MB of 0.06MB uploaded\n",
      "\u001b[2m\u001b[36m(pid=6695, ip=192.168.8.54)\u001b[0m WARNING:tensorflow:From /home/reminiz/ReminizML2/python_env/lib/python3.7/site-packages/tensorflow/python/ops/resource_variable_ops.py:435: colocate_with (from tensorflow.python.framework.ops) is deprecated and will be removed in a future version.\n",
      "\u001b[2m\u001b[36m(pid=6695, ip=192.168.8.54)\u001b[0m Instructions for updating:\n",
      "\u001b[2m\u001b[36m(pid=6695, ip=192.168.8.54)\u001b[0m Colocations handled automatically by placer.\n",
      "wandb:                                                                                \n",
      "\u001b[2m\u001b[36m(pid=15791)\u001b[0m wandb: Synced Train_0: http://192.168.8.51:8080/reminiz/Active_Learning_CIFAR/runs/nxnf6tg3\n"
     ]
    },
    {
     "name": "stdout",
     "output_type": "stream",
     "text": [
      "\u001b[2m\u001b[36m(pid=6695, ip=192.168.8.54)\u001b[0m \u001b[1;36mTrain_Stage_1\u001b[0;0m Loading weigths from:  /mnt/Ressources/Andres/Temp_active/runs/Active_Learning_keras_v0/Stage_0/checkpoints/checkpoint.200.hdf5\n",
      "\u001b[2m\u001b[36m(pid=6695, ip=192.168.8.54)\u001b[0m \u001b[1;36mTrain_Stage_1\u001b[0;0m The detected epoch is:  200\n"
     ]
    },
    {
     "name": "stderr",
     "output_type": "stream",
     "text": [
      "\u001b[2m\u001b[36m(pid=6695, ip=192.168.8.54)\u001b[0m WARNING:tensorflow:Output \"Embedding\" missing from loss dictionary. We assume this was done on purpose. The fit and evaluate APIs will not be expecting any data to be passed to \"Embedding\".\n",
      "\u001b[2m\u001b[36m(pid=6695, ip=192.168.8.54)\u001b[0m WARNING:tensorflow:Output \"Embedding\" missing from loss dictionary. We assume this was done on purpose. The fit and evaluate APIs will not be expecting any data to be passed to \"Embedding\".\n",
      "\u001b[2m\u001b[36m(pid=6695, ip=192.168.8.54)\u001b[0m 2020-12-15 14:22:38,623\tINFO worker.py:634 -- Connecting to existing Ray cluster at address: 192.168.8.51:6379\n",
      "\u001b[2m\u001b[36m(pid=6695, ip=192.168.8.54)\u001b[0m 2020-12-15 14:22:38,624\tERROR worker.py:643 -- Calling ray.init() again after it has already been called.\n",
      "\u001b[2m\u001b[36m(pid=6695, ip=192.168.8.54)\u001b[0m WARNING:tensorflow:From /home/reminiz/ReminizML2/python_env/lib/python3.7/site-packages/tensorflow/python/ops/math_ops.py:3066: to_int32 (from tensorflow.python.ops.math_ops) is deprecated and will be removed in a future version.\n",
      "\u001b[2m\u001b[36m(pid=6695, ip=192.168.8.54)\u001b[0m Instructions for updating:\n",
      "\u001b[2m\u001b[36m(pid=6695, ip=192.168.8.54)\u001b[0m Use tf.cast instead.\n"
     ]
    },
    {
     "name": "stdout",
     "output_type": "stream",
     "text": [
      "\u001b[2m\u001b[36m(pid=6695, ip=192.168.8.54)\u001b[0m \u001b[1;36mTrain_Stage_1\u001b[0;0m Init done\n",
      "\u001b[2m\u001b[36m(pid=6695, ip=192.168.8.54)\u001b[0m \u001b[1;36mTrain_Stage_1\u001b[0;0m Start training\n"
     ]
    },
    {
     "name": "stderr",
     "output_type": "stream",
     "text": [
      "\u001b[2m\u001b[36m(pid=6695, ip=192.168.8.54)\u001b[0m 2020-12-15 14:22:49.400565: I tensorflow/stream_executor/dso_loader.cc:152] successfully opened CUDA library libcublas.so.10.0 locally\n"
     ]
    },
    {
     "name": "stdout",
     "output_type": "stream",
     "text": [
      "\u001b[2m\u001b[36m(pid=6695, ip=192.168.8.54)\u001b[0m Change to split learning\n",
      "\u001b[2m\u001b[36m(pid=6695, ip=192.168.8.54)\u001b[0m Previus weigths 1.0 0\n",
      "\u001b[2m\u001b[36m(pid=6695, ip=192.168.8.54)\u001b[0m Updated weigths 0 1.0\n"
     ]
    },
    {
     "name": "stderr",
     "output_type": "stream",
     "text": [
      "\u001b[2m\u001b[36m(pid=19862)\u001b[0m /home/reminiz/ReminizML2/python_env/lib/python3.7/site-packages/tensorflow/python/framework/dtypes.py:526: FutureWarning: Passing (type, 1) or '1type' as a synonym of type is deprecated; in a future version of numpy, it will be understood as (type, (1,)) / '(1,)type'.\n",
      "\u001b[2m\u001b[36m(pid=19862)\u001b[0m   _np_qint8 = np.dtype([(\"qint8\", np.int8, 1)])\n",
      "\u001b[2m\u001b[36m(pid=19862)\u001b[0m /home/reminiz/ReminizML2/python_env/lib/python3.7/site-packages/tensorflow/python/framework/dtypes.py:527: FutureWarning: Passing (type, 1) or '1type' as a synonym of type is deprecated; in a future version of numpy, it will be understood as (type, (1,)) / '(1,)type'.\n",
      "\u001b[2m\u001b[36m(pid=19862)\u001b[0m   _np_quint8 = np.dtype([(\"quint8\", np.uint8, 1)])\n",
      "\u001b[2m\u001b[36m(pid=19862)\u001b[0m /home/reminiz/ReminizML2/python_env/lib/python3.7/site-packages/tensorflow/python/framework/dtypes.py:528: FutureWarning: Passing (type, 1) or '1type' as a synonym of type is deprecated; in a future version of numpy, it will be understood as (type, (1,)) / '(1,)type'.\n",
      "\u001b[2m\u001b[36m(pid=19862)\u001b[0m   _np_qint16 = np.dtype([(\"qint16\", np.int16, 1)])\n",
      "\u001b[2m\u001b[36m(pid=19862)\u001b[0m /home/reminiz/ReminizML2/python_env/lib/python3.7/site-packages/tensorflow/python/framework/dtypes.py:529: FutureWarning: Passing (type, 1) or '1type' as a synonym of type is deprecated; in a future version of numpy, it will be understood as (type, (1,)) / '(1,)type'.\n",
      "\u001b[2m\u001b[36m(pid=19862)\u001b[0m   _np_quint16 = np.dtype([(\"quint16\", np.uint16, 1)])\n",
      "\u001b[2m\u001b[36m(pid=19862)\u001b[0m /home/reminiz/ReminizML2/python_env/lib/python3.7/site-packages/tensorflow/python/framework/dtypes.py:530: FutureWarning: Passing (type, 1) or '1type' as a synonym of type is deprecated; in a future version of numpy, it will be understood as (type, (1,)) / '(1,)type'.\n",
      "\u001b[2m\u001b[36m(pid=19862)\u001b[0m   _np_qint32 = np.dtype([(\"qint32\", np.int32, 1)])\n",
      "\u001b[2m\u001b[36m(pid=19862)\u001b[0m /home/reminiz/ReminizML2/python_env/lib/python3.7/site-packages/tensorflow/python/framework/dtypes.py:535: FutureWarning: Passing (type, 1) or '1type' as a synonym of type is deprecated; in a future version of numpy, it will be understood as (type, (1,)) / '(1,)type'.\n",
      "\u001b[2m\u001b[36m(pid=19862)\u001b[0m   np_resource = np.dtype([(\"resource\", np.ubyte, 1)])\n",
      "\u001b[2m\u001b[36m(pid=19862)\u001b[0m 2020-12-15 14:29:13.388166: I tensorflow/core/platform/cpu_feature_guard.cc:141] Your CPU supports instructions that this TensorFlow binary was not compiled to use: AVX2 FMA\n",
      "\u001b[2m\u001b[36m(pid=19862)\u001b[0m 2020-12-15 14:29:13.416917: I tensorflow/core/platform/profile_utils/cpu_utils.cc:94] CPU Frequency: 3300280000 Hz\n",
      "\u001b[2m\u001b[36m(pid=19862)\u001b[0m 2020-12-15 14:29:13.417983: I tensorflow/compiler/xla/service/service.cc:150] XLA service 0x5959f10 executing computations on platform Host. Devices:\n",
      "\u001b[2m\u001b[36m(pid=19862)\u001b[0m 2020-12-15 14:29:13.418031: I tensorflow/compiler/xla/service/service.cc:158]   StreamExecutor device (0): <undefined>, <undefined>\n",
      "\u001b[2m\u001b[36m(pid=19862)\u001b[0m 2020-12-15 14:29:13.707060: I tensorflow/compiler/xla/service/service.cc:150] XLA service 0x59961d0 executing computations on platform CUDA. Devices:\n",
      "\u001b[2m\u001b[36m(pid=19862)\u001b[0m 2020-12-15 14:29:13.707116: I tensorflow/compiler/xla/service/service.cc:158]   StreamExecutor device (0): TITAN RTX, Compute Capability 7.5\n",
      "\u001b[2m\u001b[36m(pid=19862)\u001b[0m 2020-12-15 14:29:13.707337: I tensorflow/core/common_runtime/gpu/gpu_device.cc:1433] Found device 0 with properties: \n",
      "\u001b[2m\u001b[36m(pid=19862)\u001b[0m name: TITAN RTX major: 7 minor: 5 memoryClockRate(GHz): 1.77\n",
      "\u001b[2m\u001b[36m(pid=19862)\u001b[0m pciBusID: 0000:06:00.0\n",
      "\u001b[2m\u001b[36m(pid=19862)\u001b[0m totalMemory: 23.65GiB freeMemory: 23.48GiB\n",
      "\u001b[2m\u001b[36m(pid=19862)\u001b[0m 2020-12-15 14:29:13.707371: I tensorflow/core/common_runtime/gpu/gpu_device.cc:1512] Adding visible gpu devices: 0\n",
      "\u001b[2m\u001b[36m(pid=19862)\u001b[0m 2020-12-15 14:29:13.711457: I tensorflow/core/common_runtime/gpu/gpu_device.cc:984] Device interconnect StreamExecutor with strength 1 edge matrix:\n",
      "\u001b[2m\u001b[36m(pid=19862)\u001b[0m 2020-12-15 14:29:13.711493: I tensorflow/core/common_runtime/gpu/gpu_device.cc:990]      0 \n",
      "\u001b[2m\u001b[36m(pid=19862)\u001b[0m 2020-12-15 14:29:13.711508: I tensorflow/core/common_runtime/gpu/gpu_device.cc:1003] 0:   N \n",
      "\u001b[2m\u001b[36m(pid=19862)\u001b[0m 2020-12-15 14:29:13.711636: I tensorflow/core/common_runtime/gpu/gpu_device.cc:1115] Created TensorFlow device (/job:localhost/replica:0/task:0/device:GPU:0 with 22844 MB memory) -> physical GPU (device: 0, name: TITAN RTX, pci bus id: 0000:06:00.0, compute capability: 7.5)\n",
      "\u001b[2m\u001b[36m(pid=19862)\u001b[0m /home/reminiz/ReminizML2/python_env/lib/python3.7/site-packages/tensorboard/compat/tensorflow_stub/dtypes.py:541: FutureWarning: Passing (type, 1) or '1type' as a synonym of type is deprecated; in a future version of numpy, it will be understood as (type, (1,)) / '(1,)type'.\n",
      "\u001b[2m\u001b[36m(pid=19862)\u001b[0m   _np_qint8 = np.dtype([(\"qint8\", np.int8, 1)])\n",
      "\u001b[2m\u001b[36m(pid=19862)\u001b[0m /home/reminiz/ReminizML2/python_env/lib/python3.7/site-packages/tensorboard/compat/tensorflow_stub/dtypes.py:542: FutureWarning: Passing (type, 1) or '1type' as a synonym of type is deprecated; in a future version of numpy, it will be understood as (type, (1,)) / '(1,)type'.\n",
      "\u001b[2m\u001b[36m(pid=19862)\u001b[0m   _np_quint8 = np.dtype([(\"quint8\", np.uint8, 1)])\n",
      "\u001b[2m\u001b[36m(pid=19862)\u001b[0m /home/reminiz/ReminizML2/python_env/lib/python3.7/site-packages/tensorboard/compat/tensorflow_stub/dtypes.py:543: FutureWarning: Passing (type, 1) or '1type' as a synonym of type is deprecated; in a future version of numpy, it will be understood as (type, (1,)) / '(1,)type'.\n",
      "\u001b[2m\u001b[36m(pid=19862)\u001b[0m   _np_qint16 = np.dtype([(\"qint16\", np.int16, 1)])\n",
      "\u001b[2m\u001b[36m(pid=19862)\u001b[0m /home/reminiz/ReminizML2/python_env/lib/python3.7/site-packages/tensorboard/compat/tensorflow_stub/dtypes.py:544: FutureWarning: Passing (type, 1) or '1type' as a synonym of type is deprecated; in a future version of numpy, it will be understood as (type, (1,)) / '(1,)type'.\n",
      "\u001b[2m\u001b[36m(pid=19862)\u001b[0m   _np_quint16 = np.dtype([(\"quint16\", np.uint16, 1)])\n",
      "\u001b[2m\u001b[36m(pid=19862)\u001b[0m /home/reminiz/ReminizML2/python_env/lib/python3.7/site-packages/tensorboard/compat/tensorflow_stub/dtypes.py:545: FutureWarning: Passing (type, 1) or '1type' as a synonym of type is deprecated; in a future version of numpy, it will be understood as (type, (1,)) / '(1,)type'.\n",
      "\u001b[2m\u001b[36m(pid=19862)\u001b[0m   _np_qint32 = np.dtype([(\"qint32\", np.int32, 1)])\n",
      "\u001b[2m\u001b[36m(pid=19862)\u001b[0m /home/reminiz/ReminizML2/python_env/lib/python3.7/site-packages/tensorboard/compat/tensorflow_stub/dtypes.py:550: FutureWarning: Passing (type, 1) or '1type' as a synonym of type is deprecated; in a future version of numpy, it will be understood as (type, (1,)) / '(1,)type'.\n",
      "\u001b[2m\u001b[36m(pid=19862)\u001b[0m   np_resource = np.dtype([(\"resource\", np.ubyte, 1)])\n",
      "\u001b[2m\u001b[36m(pid=19862)\u001b[0m wandb: Tracking run with wandb version 0.8.36\n",
      "\u001b[2m\u001b[36m(pid=19862)\u001b[0m wandb: Wandb version 0.10.12 is available!  To upgrade, please run:\n",
      "\u001b[2m\u001b[36m(pid=19862)\u001b[0m wandb:  $ pip install wandb --upgrade\n",
      "\u001b[2m\u001b[36m(pid=19862)\u001b[0m wandb: Run data is saved locally in ../../../Trainings/wandb/wandb/run-20201215_132913-36b76q2g\n",
      "\u001b[2m\u001b[36m(pid=19862)\u001b[0m wandb: Syncing run Test_0\n",
      "\u001b[2m\u001b[36m(pid=19862)\u001b[0m wandb: ⭐️ View project at http://192.168.8.51:8080/reminiz/Active_Learning_CIFAR\n",
      "\u001b[2m\u001b[36m(pid=19862)\u001b[0m wandb: 🚀 View run at http://192.168.8.51:8080/reminiz/Active_Learning_CIFAR/runs/36b76q2g\n",
      "\u001b[2m\u001b[36m(pid=19862)\u001b[0m wandb: Run `wandb off` to turn off syncing.\n",
      "\u001b[2m\u001b[36m(pid=19862)\u001b[0m \n",
      "\u001b[2m\u001b[36m(pid=19862)\u001b[0m WARNING:tensorflow:From /home/reminiz/ReminizML2/python_env/lib/python3.7/site-packages/tensorflow/python/ops/resource_variable_ops.py:435: colocate_with (from tensorflow.python.framework.ops) is deprecated and will be removed in a future version.\n",
      "\u001b[2m\u001b[36m(pid=19862)\u001b[0m Instructions for updating:\n",
      "\u001b[2m\u001b[36m(pid=19862)\u001b[0m Colocations handled automatically by placer.\n"
     ]
    },
    {
     "name": "stdout",
     "output_type": "stream",
     "text": [
      "\u001b[2m\u001b[36m(pid=19862)\u001b[0m \u001b[1;36mTest_Stage_0\u001b[0;0m Init done\n",
      "\u001b[2m\u001b[36m(pid=19862)\u001b[0m \u001b[1;36mTest_Stage_0\u001b[0;0m Restoring from /mnt/Ressources/Andres/Temp_active/runs/Active_Learning_keras_v0/Stage_0/checkpoints/checkpoint.005.hdf5\n"
     ]
    },
    {
     "name": "stderr",
     "output_type": "stream",
     "text": [
      "\u001b[2m\u001b[36m(pid=19862)\u001b[0m 2020-12-15 14:29:45.131219: I tensorflow/stream_executor/dso_loader.cc:152] successfully opened CUDA library libcublas.so.10.0 locally\n"
     ]
    },
    {
     "name": "stdout",
     "output_type": "stream",
     "text": [
      "\u001b[2m\u001b[36m(pid=19862)\u001b[0m \u001b[1;36mTest_Stage_0\u001b[0;0m Length of the test:  10000\n"
     ]
    },
    {
     "name": "stderr",
     "output_type": "stream",
     "text": [
      "\u001b[2m\u001b[36m(pid=19862)\u001b[0m /home/reminiz/ReminizML2/python_env/lib/python3.7/site-packages/sklearn/metrics/classification.py:1143: UndefinedMetricWarning: F-score is ill-defined and being set to 0.0 in labels with no predicted samples.\n",
      "\u001b[2m\u001b[36m(pid=19862)\u001b[0m   'precision', 'predicted', average, warn_for)\n"
     ]
    },
    {
     "name": "stdout",
     "output_type": "stream",
     "text": [
      "\u001b[2m\u001b[36m(pid=19862)\u001b[0m \u001b[1;36mTest_Stage_0\u001b[0;0m Test || Epoch:  5 || Accuracy: 10.87 || \n",
      "\u001b[2m\u001b[36m(pid=19862)\u001b[0m \u001b[1;36mTest_Stage_0\u001b[0;0m Restoring from /mnt/Ressources/Andres/Temp_active/runs/Active_Learning_keras_v0/Stage_0/checkpoints/checkpoint.010.hdf5\n",
      "\u001b[2m\u001b[36m(pid=19862)\u001b[0m \u001b[1;36mTest_Stage_0\u001b[0;0m Length of the test:  10000\n",
      "\u001b[2m\u001b[36m(pid=19862)\u001b[0m \u001b[1;36mTest_Stage_0\u001b[0;0m Test || Epoch: 10 || Accuracy: 29.74 || \n",
      "\u001b[2m\u001b[36m(pid=19862)\u001b[0m \u001b[1;36mTest_Stage_0\u001b[0;0m Restoring from /mnt/Ressources/Andres/Temp_active/runs/Active_Learning_keras_v0/Stage_0/checkpoints/checkpoint.015.hdf5\n",
      "\u001b[2m\u001b[36m(pid=19862)\u001b[0m \u001b[1;36mTest_Stage_0\u001b[0;0m Length of the test:  10000\n",
      "\u001b[2m\u001b[36m(pid=19862)\u001b[0m \u001b[1;36mTest_Stage_0\u001b[0;0m Test || Epoch: 15 || Accuracy: 28.67 || \n",
      "\u001b[2m\u001b[36m(pid=19862)\u001b[0m \u001b[1;36mTest_Stage_0\u001b[0;0m Restoring from /mnt/Ressources/Andres/Temp_active/runs/Active_Learning_keras_v0/Stage_0/checkpoints/checkpoint.020.hdf5\n",
      "\u001b[2m\u001b[36m(pid=19862)\u001b[0m \u001b[1;36mTest_Stage_0\u001b[0;0m Length of the test:  10000\n",
      "\u001b[2m\u001b[36m(pid=19862)\u001b[0m \u001b[1;36mTest_Stage_0\u001b[0;0m Test || Epoch: 20 || Accuracy: 37.25 || \n",
      "\u001b[2m\u001b[36m(pid=19862)\u001b[0m \u001b[1;36mTest_Stage_0\u001b[0;0m Restoring from /mnt/Ressources/Andres/Temp_active/runs/Active_Learning_keras_v0/Stage_0/checkpoints/checkpoint.025.hdf5\n",
      "\u001b[2m\u001b[36m(pid=19862)\u001b[0m \u001b[1;36mTest_Stage_0\u001b[0;0m Length of the test:  10000\n",
      "\u001b[2m\u001b[36m(pid=19862)\u001b[0m \u001b[1;36mTest_Stage_0\u001b[0;0m Test || Epoch: 25 || Accuracy: 40.14 || \n",
      "\u001b[2m\u001b[36m(pid=19862)\u001b[0m \u001b[1;36mTest_Stage_0\u001b[0;0m Restoring from /mnt/Ressources/Andres/Temp_active/runs/Active_Learning_keras_v0/Stage_0/checkpoints/checkpoint.030.hdf5\n",
      "\u001b[2m\u001b[36m(pid=19862)\u001b[0m \u001b[1;36mTest_Stage_0\u001b[0;0m Length of the test:  10000\n",
      "\u001b[2m\u001b[36m(pid=19862)\u001b[0m \u001b[1;36mTest_Stage_0\u001b[0;0m Test || Epoch: 30 || Accuracy: 26.05 || \n",
      "\u001b[2m\u001b[36m(pid=19862)\u001b[0m \u001b[1;36mTest_Stage_0\u001b[0;0m Restoring from /mnt/Ressources/Andres/Temp_active/runs/Active_Learning_keras_v0/Stage_0/checkpoints/checkpoint.035.hdf5\n",
      "\u001b[2m\u001b[36m(pid=19862)\u001b[0m \u001b[1;36mTest_Stage_0\u001b[0;0m Length of the test:  10000\n",
      "\u001b[2m\u001b[36m(pid=19862)\u001b[0m \u001b[1;36mTest_Stage_0\u001b[0;0m Test || Epoch: 35 || Accuracy: 38.33 || \n",
      "\u001b[2m\u001b[36m(pid=19862)\u001b[0m \u001b[1;36mTest_Stage_0\u001b[0;0m Restoring from /mnt/Ressources/Andres/Temp_active/runs/Active_Learning_keras_v0/Stage_0/checkpoints/checkpoint.040.hdf5\n",
      "\u001b[2m\u001b[36m(pid=19862)\u001b[0m \u001b[1;36mTest_Stage_0\u001b[0;0m Length of the test:  10000\n",
      "\u001b[2m\u001b[36m(pid=19862)\u001b[0m \u001b[1;36mTest_Stage_0\u001b[0;0m Test || Epoch: 40 || Accuracy: 43.09 || \n",
      "\u001b[2m\u001b[36m(pid=19862)\u001b[0m \u001b[1;36mTest_Stage_0\u001b[0;0m Restoring from /mnt/Ressources/Andres/Temp_active/runs/Active_Learning_keras_v0/Stage_0/checkpoints/checkpoint.045.hdf5\n",
      "\u001b[2m\u001b[36m(pid=19862)\u001b[0m \u001b[1;36mTest_Stage_0\u001b[0;0m Length of the test:  10000\n",
      "\u001b[2m\u001b[36m(pid=19862)\u001b[0m \u001b[1;36mTest_Stage_0\u001b[0;0m Test || Epoch: 45 || Accuracy: 42.13 || \n",
      "\u001b[2m\u001b[36m(pid=19862)\u001b[0m \u001b[1;36mTest_Stage_0\u001b[0;0m Restoring from /mnt/Ressources/Andres/Temp_active/runs/Active_Learning_keras_v0/Stage_0/checkpoints/checkpoint.050.hdf5\n",
      "\u001b[2m\u001b[36m(pid=19862)\u001b[0m \u001b[1;36mTest_Stage_0\u001b[0;0m Length of the test:  10000\n",
      "\u001b[2m\u001b[36m(pid=19862)\u001b[0m \u001b[1;36mTest_Stage_0\u001b[0;0m Test || Epoch: 50 || Accuracy: 42.05 || \n",
      "\u001b[2m\u001b[36m(pid=19862)\u001b[0m \u001b[1;36mTest_Stage_0\u001b[0;0m Restoring from /mnt/Ressources/Andres/Temp_active/runs/Active_Learning_keras_v0/Stage_0/checkpoints/checkpoint.055.hdf5\n",
      "\u001b[2m\u001b[36m(pid=19862)\u001b[0m \u001b[1;36mTest_Stage_0\u001b[0;0m Length of the test:  10000\n",
      "\u001b[2m\u001b[36m(pid=19862)\u001b[0m \u001b[1;36mTest_Stage_0\u001b[0;0m Test || Epoch: 55 || Accuracy: 39.26 || \n",
      "\u001b[2m\u001b[36m(pid=19862)\u001b[0m \u001b[1;36mTest_Stage_0\u001b[0;0m Restoring from /mnt/Ressources/Andres/Temp_active/runs/Active_Learning_keras_v0/Stage_0/checkpoints/checkpoint.060.hdf5\n",
      "\u001b[2m\u001b[36m(pid=19862)\u001b[0m \u001b[1;36mTest_Stage_0\u001b[0;0m Length of the test:  10000\n",
      "\u001b[2m\u001b[36m(pid=19862)\u001b[0m \u001b[1;36mTest_Stage_0\u001b[0;0m Test || Epoch: 60 || Accuracy: 35.37 || \n",
      "\u001b[2m\u001b[36m(pid=19862)\u001b[0m \u001b[1;36mTest_Stage_0\u001b[0;0m Restoring from /mnt/Ressources/Andres/Temp_active/runs/Active_Learning_keras_v0/Stage_0/checkpoints/checkpoint.065.hdf5\n",
      "\u001b[2m\u001b[36m(pid=19862)\u001b[0m \u001b[1;36mTest_Stage_0\u001b[0;0m Length of the test:  10000\n",
      "\u001b[2m\u001b[36m(pid=19862)\u001b[0m \u001b[1;36mTest_Stage_0\u001b[0;0m Test || Epoch: 65 || Accuracy: 40.26 || \n",
      "\u001b[2m\u001b[36m(pid=19862)\u001b[0m \u001b[1;36mTest_Stage_0\u001b[0;0m Restoring from /mnt/Ressources/Andres/Temp_active/runs/Active_Learning_keras_v0/Stage_0/checkpoints/checkpoint.070.hdf5\n",
      "\u001b[2m\u001b[36m(pid=19862)\u001b[0m \u001b[1;36mTest_Stage_0\u001b[0;0m Length of the test:  10000\n",
      "\u001b[2m\u001b[36m(pid=19862)\u001b[0m \u001b[1;36mTest_Stage_0\u001b[0;0m Test || Epoch: 70 || Accuracy: 44.83 || \n",
      "\u001b[2m\u001b[36m(pid=19862)\u001b[0m \u001b[1;36mTest_Stage_0\u001b[0;0m Restoring from /mnt/Ressources/Andres/Temp_active/runs/Active_Learning_keras_v0/Stage_0/checkpoints/checkpoint.075.hdf5\n",
      "\u001b[2m\u001b[36m(pid=19862)\u001b[0m \u001b[1;36mTest_Stage_0\u001b[0;0m Length of the test:  10000\n",
      "\u001b[2m\u001b[36m(pid=19862)\u001b[0m \u001b[1;36mTest_Stage_0\u001b[0;0m Test || Epoch: 75 || Accuracy: 37.46 || \n",
      "\u001b[2m\u001b[36m(pid=19862)\u001b[0m \u001b[1;36mTest_Stage_0\u001b[0;0m Restoring from /mnt/Ressources/Andres/Temp_active/runs/Active_Learning_keras_v0/Stage_0/checkpoints/checkpoint.080.hdf5\n",
      "\u001b[2m\u001b[36m(pid=19862)\u001b[0m \u001b[1;36mTest_Stage_0\u001b[0;0m Length of the test:  10000\n",
      "\u001b[2m\u001b[36m(pid=19862)\u001b[0m \u001b[1;36mTest_Stage_0\u001b[0;0m Test || Epoch: 80 || Accuracy: 42.41 || \n",
      "\u001b[2m\u001b[36m(pid=19862)\u001b[0m \u001b[1;36mTest_Stage_0\u001b[0;0m Restoring from /mnt/Ressources/Andres/Temp_active/runs/Active_Learning_keras_v0/Stage_0/checkpoints/checkpoint.085.hdf5\n",
      "\u001b[2m\u001b[36m(pid=19862)\u001b[0m \u001b[1;36mTest_Stage_0\u001b[0;0m Length of the test:  10000\n",
      "\u001b[2m\u001b[36m(pid=19862)\u001b[0m \u001b[1;36mTest_Stage_0\u001b[0;0m Test || Epoch: 85 || Accuracy: 32.60 || \n",
      "\u001b[2m\u001b[36m(pid=19862)\u001b[0m \u001b[1;36mTest_Stage_0\u001b[0;0m Restoring from /mnt/Ressources/Andres/Temp_active/runs/Active_Learning_keras_v0/Stage_0/checkpoints/checkpoint.090.hdf5\n",
      "\u001b[2m\u001b[36m(pid=19862)\u001b[0m \u001b[1;36mTest_Stage_0\u001b[0;0m Length of the test:  10000\n",
      "\u001b[2m\u001b[36m(pid=19862)\u001b[0m \u001b[1;36mTest_Stage_0\u001b[0;0m Test || Epoch: 90 || Accuracy: 40.86 || \n",
      "\u001b[2m\u001b[36m(pid=19862)\u001b[0m \u001b[1;36mTest_Stage_0\u001b[0;0m Restoring from /mnt/Ressources/Andres/Temp_active/runs/Active_Learning_keras_v0/Stage_0/checkpoints/checkpoint.095.hdf5\n",
      "\u001b[2m\u001b[36m(pid=19862)\u001b[0m \u001b[1;36mTest_Stage_0\u001b[0;0m Length of the test:  10000\n",
      "\u001b[2m\u001b[36m(pid=19862)\u001b[0m \u001b[1;36mTest_Stage_0\u001b[0;0m Test || Epoch: 95 || Accuracy: 37.28 || \n",
      "\u001b[2m\u001b[36m(pid=19862)\u001b[0m \u001b[1;36mTest_Stage_0\u001b[0;0m Restoring from /mnt/Ressources/Andres/Temp_active/runs/Active_Learning_keras_v0/Stage_0/checkpoints/checkpoint.100.hdf5\n",
      "\u001b[2m\u001b[36m(pid=19862)\u001b[0m \u001b[1;36mTest_Stage_0\u001b[0;0m Length of the test:  10000\n",
      "\u001b[2m\u001b[36m(pid=19862)\u001b[0m \u001b[1;36mTest_Stage_0\u001b[0;0m Test || Epoch: 100 || Accuracy: 40.64 || \n",
      "\u001b[2m\u001b[36m(pid=19862)\u001b[0m \u001b[1;36mTest_Stage_0\u001b[0;0m Restoring from /mnt/Ressources/Andres/Temp_active/runs/Active_Learning_keras_v0/Stage_0/checkpoints/checkpoint.105.hdf5\n",
      "\u001b[2m\u001b[36m(pid=19862)\u001b[0m \u001b[1;36mTest_Stage_0\u001b[0;0m Length of the test:  10000\n",
      "\u001b[2m\u001b[36m(pid=19862)\u001b[0m \u001b[1;36mTest_Stage_0\u001b[0;0m Test || Epoch: 105 || Accuracy: 42.26 || \n",
      "\u001b[2m\u001b[36m(pid=19862)\u001b[0m \u001b[1;36mTest_Stage_0\u001b[0;0m Restoring from /mnt/Ressources/Andres/Temp_active/runs/Active_Learning_keras_v0/Stage_0/checkpoints/checkpoint.110.hdf5\n",
      "\u001b[2m\u001b[36m(pid=19862)\u001b[0m \u001b[1;36mTest_Stage_0\u001b[0;0m Length of the test:  10000\n",
      "\u001b[2m\u001b[36m(pid=19862)\u001b[0m \u001b[1;36mTest_Stage_0\u001b[0;0m Test || Epoch: 110 || Accuracy: 41.34 || \n",
      "\u001b[2m\u001b[36m(pid=19862)\u001b[0m \u001b[1;36mTest_Stage_0\u001b[0;0m Restoring from /mnt/Ressources/Andres/Temp_active/runs/Active_Learning_keras_v0/Stage_0/checkpoints/checkpoint.115.hdf5\n",
      "\u001b[2m\u001b[36m(pid=19862)\u001b[0m \u001b[1;36mTest_Stage_0\u001b[0;0m Length of the test:  10000\n",
      "\u001b[2m\u001b[36m(pid=19862)\u001b[0m \u001b[1;36mTest_Stage_0\u001b[0;0m Test || Epoch: 115 || Accuracy: 45.46 || \n",
      "\u001b[2m\u001b[36m(pid=19862)\u001b[0m \u001b[1;36mTest_Stage_0\u001b[0;0m Restoring from /mnt/Ressources/Andres/Temp_active/runs/Active_Learning_keras_v0/Stage_0/checkpoints/checkpoint.120.hdf5\n",
      "\u001b[2m\u001b[36m(pid=19862)\u001b[0m \u001b[1;36mTest_Stage_0\u001b[0;0m Length of the test:  10000\n",
      "\u001b[2m\u001b[36m(pid=19862)\u001b[0m \u001b[1;36mTest_Stage_0\u001b[0;0m Test || Epoch: 120 || Accuracy: 44.76 || \n",
      "\u001b[2m\u001b[36m(pid=19862)\u001b[0m \u001b[1;36mTest_Stage_0\u001b[0;0m Restoring from /mnt/Ressources/Andres/Temp_active/runs/Active_Learning_keras_v0/Stage_0/checkpoints/checkpoint.125.hdf5\n",
      "\u001b[2m\u001b[36m(pid=19862)\u001b[0m \u001b[1;36mTest_Stage_0\u001b[0;0m Length of the test:  10000\n",
      "\u001b[2m\u001b[36m(pid=19862)\u001b[0m \u001b[1;36mTest_Stage_0\u001b[0;0m Test || Epoch: 125 || Accuracy: 43.33 || \n",
      "\u001b[2m\u001b[36m(pid=19862)\u001b[0m \u001b[1;36mTest_Stage_0\u001b[0;0m Restoring from /mnt/Ressources/Andres/Temp_active/runs/Active_Learning_keras_v0/Stage_0/checkpoints/checkpoint.130.hdf5\n",
      "\u001b[2m\u001b[36m(pid=19862)\u001b[0m \u001b[1;36mTest_Stage_0\u001b[0;0m Length of the test:  10000\n",
      "\u001b[2m\u001b[36m(pid=19862)\u001b[0m \u001b[1;36mTest_Stage_0\u001b[0;0m Test || Epoch: 130 || Accuracy: 42.28 || \n",
      "\u001b[2m\u001b[36m(pid=19862)\u001b[0m \u001b[1;36mTest_Stage_0\u001b[0;0m Restoring from /mnt/Ressources/Andres/Temp_active/runs/Active_Learning_keras_v0/Stage_0/checkpoints/checkpoint.135.hdf5\n",
      "\u001b[2m\u001b[36m(pid=19862)\u001b[0m \u001b[1;36mTest_Stage_0\u001b[0;0m Length of the test:  10000\n",
      "\u001b[2m\u001b[36m(pid=19862)\u001b[0m \u001b[1;36mTest_Stage_0\u001b[0;0m Test || Epoch: 135 || Accuracy: 42.71 || \n",
      "\u001b[2m\u001b[36m(pid=19862)\u001b[0m \u001b[1;36mTest_Stage_0\u001b[0;0m Restoring from /mnt/Ressources/Andres/Temp_active/runs/Active_Learning_keras_v0/Stage_0/checkpoints/checkpoint.140.hdf5\n",
      "\u001b[2m\u001b[36m(pid=19862)\u001b[0m \u001b[1;36mTest_Stage_0\u001b[0;0m Length of the test:  10000\n",
      "\u001b[2m\u001b[36m(pid=19862)\u001b[0m \u001b[1;36mTest_Stage_0\u001b[0;0m Test || Epoch: 140 || Accuracy: 47.94 || \n",
      "\u001b[2m\u001b[36m(pid=19862)\u001b[0m \u001b[1;36mTest_Stage_0\u001b[0;0m Restoring from /mnt/Ressources/Andres/Temp_active/runs/Active_Learning_keras_v0/Stage_0/checkpoints/checkpoint.145.hdf5\n",
      "\u001b[2m\u001b[36m(pid=19862)\u001b[0m \u001b[1;36mTest_Stage_0\u001b[0;0m Length of the test:  10000\n",
      "\u001b[2m\u001b[36m(pid=19862)\u001b[0m \u001b[1;36mTest_Stage_0\u001b[0;0m Test || Epoch: 145 || Accuracy: 37.28 || \n",
      "\u001b[2m\u001b[36m(pid=19862)\u001b[0m \u001b[1;36mTest_Stage_0\u001b[0;0m Restoring from /mnt/Ressources/Andres/Temp_active/runs/Active_Learning_keras_v0/Stage_0/checkpoints/checkpoint.150.hdf5\n",
      "\u001b[2m\u001b[36m(pid=19862)\u001b[0m \u001b[1;36mTest_Stage_0\u001b[0;0m Length of the test:  10000\n",
      "\u001b[2m\u001b[36m(pid=19862)\u001b[0m \u001b[1;36mTest_Stage_0\u001b[0;0m Test || Epoch: 150 || Accuracy: 46.22 || \n",
      "\u001b[2m\u001b[36m(pid=19862)\u001b[0m \u001b[1;36mTest_Stage_0\u001b[0;0m Restoring from /mnt/Ressources/Andres/Temp_active/runs/Active_Learning_keras_v0/Stage_0/checkpoints/checkpoint.155.hdf5\n",
      "\u001b[2m\u001b[36m(pid=19862)\u001b[0m \u001b[1;36mTest_Stage_0\u001b[0;0m Length of the test:  10000\n",
      "\u001b[2m\u001b[36m(pid=19862)\u001b[0m \u001b[1;36mTest_Stage_0\u001b[0;0m Test || Epoch: 155 || Accuracy: 36.42 || \n",
      "\u001b[2m\u001b[36m(pid=19862)\u001b[0m \u001b[1;36mTest_Stage_0\u001b[0;0m Restoring from /mnt/Ressources/Andres/Temp_active/runs/Active_Learning_keras_v0/Stage_0/checkpoints/checkpoint.160.hdf5\n",
      "\u001b[2m\u001b[36m(pid=19862)\u001b[0m \u001b[1;36mTest_Stage_0\u001b[0;0m Length of the test:  10000\n",
      "\u001b[2m\u001b[36m(pid=19862)\u001b[0m \u001b[1;36mTest_Stage_0\u001b[0;0m Test || Epoch: 160 || Accuracy: 40.89 || \n",
      "\u001b[2m\u001b[36m(pid=19862)\u001b[0m \u001b[1;36mTest_Stage_0\u001b[0;0m Restoring from /mnt/Ressources/Andres/Temp_active/runs/Active_Learning_keras_v0/Stage_0/checkpoints/checkpoint.165.hdf5\n",
      "\u001b[2m\u001b[36m(pid=19862)\u001b[0m \u001b[1;36mTest_Stage_0\u001b[0;0m Length of the test:  10000\n",
      "\u001b[2m\u001b[36m(pid=19862)\u001b[0m \u001b[1;36mTest_Stage_0\u001b[0;0m Test || Epoch: 165 || Accuracy: 49.32 || \n",
      "\u001b[2m\u001b[36m(pid=19862)\u001b[0m \u001b[1;36mTest_Stage_0\u001b[0;0m Restoring from /mnt/Ressources/Andres/Temp_active/runs/Active_Learning_keras_v0/Stage_0/checkpoints/checkpoint.170.hdf5\n",
      "\u001b[2m\u001b[36m(pid=19862)\u001b[0m \u001b[1;36mTest_Stage_0\u001b[0;0m Length of the test:  10000\n",
      "\u001b[2m\u001b[36m(pid=19862)\u001b[0m \u001b[1;36mTest_Stage_0\u001b[0;0m Test || Epoch: 170 || Accuracy: 50.60 || \n",
      "\u001b[2m\u001b[36m(pid=19862)\u001b[0m \u001b[1;36mTest_Stage_0\u001b[0;0m Restoring from /mnt/Ressources/Andres/Temp_active/runs/Active_Learning_keras_v0/Stage_0/checkpoints/checkpoint.175.hdf5\n",
      "\u001b[2m\u001b[36m(pid=19862)\u001b[0m \u001b[1;36mTest_Stage_0\u001b[0;0m Length of the test:  10000\n",
      "\u001b[2m\u001b[36m(pid=19862)\u001b[0m \u001b[1;36mTest_Stage_0\u001b[0;0m Test || Epoch: 175 || Accuracy: 50.89 || \n",
      "\u001b[2m\u001b[36m(pid=19862)\u001b[0m \u001b[1;36mTest_Stage_0\u001b[0;0m Restoring from /mnt/Ressources/Andres/Temp_active/runs/Active_Learning_keras_v0/Stage_0/checkpoints/checkpoint.180.hdf5\n",
      "\u001b[2m\u001b[36m(pid=19862)\u001b[0m \u001b[1;36mTest_Stage_0\u001b[0;0m Length of the test:  10000\n",
      "\u001b[2m\u001b[36m(pid=19862)\u001b[0m \u001b[1;36mTest_Stage_0\u001b[0;0m Test || Epoch: 180 || Accuracy: 50.36 || \n",
      "\u001b[2m\u001b[36m(pid=19862)\u001b[0m \u001b[1;36mTest_Stage_0\u001b[0;0m Restoring from /mnt/Ressources/Andres/Temp_active/runs/Active_Learning_keras_v0/Stage_0/checkpoints/checkpoint.185.hdf5\n",
      "\u001b[2m\u001b[36m(pid=19862)\u001b[0m \u001b[1;36mTest_Stage_0\u001b[0;0m Length of the test:  10000\n",
      "\u001b[2m\u001b[36m(pid=19862)\u001b[0m \u001b[1;36mTest_Stage_0\u001b[0;0m Test || Epoch: 185 || Accuracy: 50.51 || \n",
      "\u001b[2m\u001b[36m(pid=19862)\u001b[0m \u001b[1;36mTest_Stage_0\u001b[0;0m Restoring from /mnt/Ressources/Andres/Temp_active/runs/Active_Learning_keras_v0/Stage_0/checkpoints/checkpoint.190.hdf5\n",
      "\u001b[2m\u001b[36m(pid=19862)\u001b[0m \u001b[1;36mTest_Stage_0\u001b[0;0m Length of the test:  10000\n",
      "\u001b[2m\u001b[36m(pid=19862)\u001b[0m \u001b[1;36mTest_Stage_0\u001b[0;0m Test || Epoch: 190 || Accuracy: 50.33 || \n",
      "\u001b[2m\u001b[36m(pid=19862)\u001b[0m \u001b[1;36mTest_Stage_0\u001b[0;0m Restoring from /mnt/Ressources/Andres/Temp_active/runs/Active_Learning_keras_v0/Stage_0/checkpoints/checkpoint.195.hdf5\n",
      "\u001b[2m\u001b[36m(pid=19862)\u001b[0m \u001b[1;36mTest_Stage_0\u001b[0;0m Length of the test:  10000\n",
      "\u001b[2m\u001b[36m(pid=19862)\u001b[0m \u001b[1;36mTest_Stage_0\u001b[0;0m Test || Epoch: 195 || Accuracy: 50.24 || \n",
      "\u001b[2m\u001b[36m(pid=19862)\u001b[0m \u001b[1;36mTest_Stage_0\u001b[0;0m Restoring from /mnt/Ressources/Andres/Temp_active/runs/Active_Learning_keras_v0/Stage_0/checkpoints/checkpoint.200.hdf5\n",
      "\u001b[2m\u001b[36m(pid=19862)\u001b[0m \u001b[1;36mTest_Stage_0\u001b[0;0m Length of the test:  10000\n",
      "\u001b[2m\u001b[36m(pid=19862)\u001b[0m \u001b[1;36mTest_Stage_0\u001b[0;0m Test || Epoch: 200 || Accuracy: 49.88 || \n"
     ]
    },
    {
     "name": "stderr",
     "output_type": "stream",
     "text": [
      "\u001b[2m\u001b[36m(pid=6695, ip=192.168.8.54)\u001b[0m \n",
      "\u001b[2m\u001b[36m(pid=6695, ip=192.168.8.54)\u001b[0m wandb: Waiting for W&B process to finish, PID 7021\n",
      "\u001b[2m\u001b[36m(pid=6695, ip=192.168.8.54)\u001b[0m wandb: Program ended successfully.\n",
      "\u001b[2m\u001b[36m(pid=30611, ip=192.168.8.53)\u001b[0m /home/reminiz/ReminizML2/python_env/lib/python3.7/site-packages/tensorflow/python/framework/dtypes.py:526: FutureWarning: Passing (type, 1) or '1type' as a synonym of type is deprecated; in a future version of numpy, it will be understood as (type, (1,)) / '(1,)type'.\n",
      "\u001b[2m\u001b[36m(pid=30611, ip=192.168.8.53)\u001b[0m   _np_qint8 = np.dtype([(\"qint8\", np.int8, 1)])\n",
      "\u001b[2m\u001b[36m(pid=30611, ip=192.168.8.53)\u001b[0m /home/reminiz/ReminizML2/python_env/lib/python3.7/site-packages/tensorflow/python/framework/dtypes.py:527: FutureWarning: Passing (type, 1) or '1type' as a synonym of type is deprecated; in a future version of numpy, it will be understood as (type, (1,)) / '(1,)type'.\n",
      "\u001b[2m\u001b[36m(pid=30611, ip=192.168.8.53)\u001b[0m   _np_quint8 = np.dtype([(\"quint8\", np.uint8, 1)])\n",
      "\u001b[2m\u001b[36m(pid=30611, ip=192.168.8.53)\u001b[0m /home/reminiz/ReminizML2/python_env/lib/python3.7/site-packages/tensorflow/python/framework/dtypes.py:528: FutureWarning: Passing (type, 1) or '1type' as a synonym of type is deprecated; in a future version of numpy, it will be understood as (type, (1,)) / '(1,)type'.\n",
      "\u001b[2m\u001b[36m(pid=30611, ip=192.168.8.53)\u001b[0m   _np_qint16 = np.dtype([(\"qint16\", np.int16, 1)])\n",
      "\u001b[2m\u001b[36m(pid=30611, ip=192.168.8.53)\u001b[0m /home/reminiz/ReminizML2/python_env/lib/python3.7/site-packages/tensorflow/python/framework/dtypes.py:529: FutureWarning: Passing (type, 1) or '1type' as a synonym of type is deprecated; in a future version of numpy, it will be understood as (type, (1,)) / '(1,)type'.\n",
      "\u001b[2m\u001b[36m(pid=30611, ip=192.168.8.53)\u001b[0m   _np_quint16 = np.dtype([(\"quint16\", np.uint16, 1)])\n",
      "\u001b[2m\u001b[36m(pid=30611, ip=192.168.8.53)\u001b[0m /home/reminiz/ReminizML2/python_env/lib/python3.7/site-packages/tensorflow/python/framework/dtypes.py:530: FutureWarning: Passing (type, 1) or '1type' as a synonym of type is deprecated; in a future version of numpy, it will be understood as (type, (1,)) / '(1,)type'.\n",
      "\u001b[2m\u001b[36m(pid=30611, ip=192.168.8.53)\u001b[0m   _np_qint32 = np.dtype([(\"qint32\", np.int32, 1)])\n",
      "\u001b[2m\u001b[36m(pid=30611, ip=192.168.8.53)\u001b[0m /home/reminiz/ReminizML2/python_env/lib/python3.7/site-packages/tensorflow/python/framework/dtypes.py:535: FutureWarning: Passing (type, 1) or '1type' as a synonym of type is deprecated; in a future version of numpy, it will be understood as (type, (1,)) / '(1,)type'.\n",
      "\u001b[2m\u001b[36m(pid=30611, ip=192.168.8.53)\u001b[0m   np_resource = np.dtype([(\"resource\", np.ubyte, 1)])\n",
      "\u001b[2m\u001b[36m(pid=30611, ip=192.168.8.53)\u001b[0m 2020-12-15 14:32:23.117507: I tensorflow/core/platform/cpu_feature_guard.cc:141] Your CPU supports instructions that this TensorFlow binary was not compiled to use: AVX2 FMA\n",
      "\u001b[2m\u001b[36m(pid=30611, ip=192.168.8.53)\u001b[0m 2020-12-15 14:32:23.141098: I tensorflow/core/platform/profile_utils/cpu_utils.cc:94] CPU Frequency: 3499950000 Hz\n",
      "\u001b[2m\u001b[36m(pid=30611, ip=192.168.8.53)\u001b[0m 2020-12-15 14:32:23.141837: I tensorflow/compiler/xla/service/service.cc:150] XLA service 0x5632a3681d60 executing computations on platform Host. Devices:\n",
      "\u001b[2m\u001b[36m(pid=30611, ip=192.168.8.53)\u001b[0m 2020-12-15 14:32:23.141872: I tensorflow/compiler/xla/service/service.cc:158]   StreamExecutor device (0): <undefined>, <undefined>\n",
      "\u001b[2m\u001b[36m(pid=30611, ip=192.168.8.53)\u001b[0m 2020-12-15 14:32:23.269663: I tensorflow/compiler/xla/service/service.cc:150] XLA service 0x56329fc50a40 executing computations on platform CUDA. Devices:\n",
      "\u001b[2m\u001b[36m(pid=30611, ip=192.168.8.53)\u001b[0m 2020-12-15 14:32:23.269707: I tensorflow/compiler/xla/service/service.cc:158]   StreamExecutor device (0): GeForce GTX TITAN X, Compute Capability 5.2\n",
      "\u001b[2m\u001b[36m(pid=30611, ip=192.168.8.53)\u001b[0m 2020-12-15 14:32:23.269863: I tensorflow/core/common_runtime/gpu/gpu_device.cc:1433] Found device 0 with properties: \n",
      "\u001b[2m\u001b[36m(pid=30611, ip=192.168.8.53)\u001b[0m name: GeForce GTX TITAN X major: 5 minor: 2 memoryClockRate(GHz): 1.076\n",
      "\u001b[2m\u001b[36m(pid=30611, ip=192.168.8.53)\u001b[0m pciBusID: 0000:02:00.0\n",
      "\u001b[2m\u001b[36m(pid=30611, ip=192.168.8.53)\u001b[0m totalMemory: 11.93GiB freeMemory: 11.82GiB\n",
      "\u001b[2m\u001b[36m(pid=30611, ip=192.168.8.53)\u001b[0m 2020-12-15 14:32:23.269887: I tensorflow/core/common_runtime/gpu/gpu_device.cc:1512] Adding visible gpu devices: 0\n",
      "\u001b[2m\u001b[36m(pid=30611, ip=192.168.8.53)\u001b[0m 2020-12-15 14:32:23.272223: I tensorflow/core/common_runtime/gpu/gpu_device.cc:984] Device interconnect StreamExecutor with strength 1 edge matrix:\n",
      "\u001b[2m\u001b[36m(pid=30611, ip=192.168.8.53)\u001b[0m 2020-12-15 14:32:23.272248: I tensorflow/core/common_runtime/gpu/gpu_device.cc:990]      0 \n",
      "\u001b[2m\u001b[36m(pid=30611, ip=192.168.8.53)\u001b[0m 2020-12-15 14:32:23.272260: I tensorflow/core/common_runtime/gpu/gpu_device.cc:1003] 0:   N \n",
      "\u001b[2m\u001b[36m(pid=30611, ip=192.168.8.53)\u001b[0m 2020-12-15 14:32:23.272360: I tensorflow/core/common_runtime/gpu/gpu_device.cc:1115] Created TensorFlow device (/job:localhost/replica:0/task:0/device:GPU:0 with 11496 MB memory) -> physical GPU (device: 0, name: GeForce GTX TITAN X, pci bus id: 0000:02:00.0, compute capability: 5.2)\n",
      "\u001b[2m\u001b[36m(pid=30611, ip=192.168.8.53)\u001b[0m /home/reminiz/ReminizML2/python_env/lib/python3.7/site-packages/tensorboard/compat/tensorflow_stub/dtypes.py:541: FutureWarning: Passing (type, 1) or '1type' as a synonym of type is deprecated; in a future version of numpy, it will be understood as (type, (1,)) / '(1,)type'.\n",
      "\u001b[2m\u001b[36m(pid=30611, ip=192.168.8.53)\u001b[0m   _np_qint8 = np.dtype([(\"qint8\", np.int8, 1)])\n",
      "\u001b[2m\u001b[36m(pid=30611, ip=192.168.8.53)\u001b[0m /home/reminiz/ReminizML2/python_env/lib/python3.7/site-packages/tensorboard/compat/tensorflow_stub/dtypes.py:542: FutureWarning: Passing (type, 1) or '1type' as a synonym of type is deprecated; in a future version of numpy, it will be understood as (type, (1,)) / '(1,)type'.\n",
      "\u001b[2m\u001b[36m(pid=30611, ip=192.168.8.53)\u001b[0m   _np_quint8 = np.dtype([(\"quint8\", np.uint8, 1)])\n",
      "\u001b[2m\u001b[36m(pid=30611, ip=192.168.8.53)\u001b[0m /home/reminiz/ReminizML2/python_env/lib/python3.7/site-packages/tensorboard/compat/tensorflow_stub/dtypes.py:543: FutureWarning: Passing (type, 1) or '1type' as a synonym of type is deprecated; in a future version of numpy, it will be understood as (type, (1,)) / '(1,)type'.\n",
      "\u001b[2m\u001b[36m(pid=30611, ip=192.168.8.53)\u001b[0m   _np_qint16 = np.dtype([(\"qint16\", np.int16, 1)])\n",
      "\u001b[2m\u001b[36m(pid=30611, ip=192.168.8.53)\u001b[0m /home/reminiz/ReminizML2/python_env/lib/python3.7/site-packages/tensorboard/compat/tensorflow_stub/dtypes.py:544: FutureWarning: Passing (type, 1) or '1type' as a synonym of type is deprecated; in a future version of numpy, it will be understood as (type, (1,)) / '(1,)type'.\n",
      "\u001b[2m\u001b[36m(pid=30611, ip=192.168.8.53)\u001b[0m   _np_quint16 = np.dtype([(\"quint16\", np.uint16, 1)])\n",
      "\u001b[2m\u001b[36m(pid=30611, ip=192.168.8.53)\u001b[0m /home/reminiz/ReminizML2/python_env/lib/python3.7/site-packages/tensorboard/compat/tensorflow_stub/dtypes.py:545: FutureWarning: Passing (type, 1) or '1type' as a synonym of type is deprecated; in a future version of numpy, it will be understood as (type, (1,)) / '(1,)type'.\n",
      "\u001b[2m\u001b[36m(pid=30611, ip=192.168.8.53)\u001b[0m   _np_qint32 = np.dtype([(\"qint32\", np.int32, 1)])\n",
      "\u001b[2m\u001b[36m(pid=30611, ip=192.168.8.53)\u001b[0m /home/reminiz/ReminizML2/python_env/lib/python3.7/site-packages/tensorboard/compat/tensorflow_stub/dtypes.py:550: FutureWarning: Passing (type, 1) or '1type' as a synonym of type is deprecated; in a future version of numpy, it will be understood as (type, (1,)) / '(1,)type'.\n",
      "\u001b[2m\u001b[36m(pid=30611, ip=192.168.8.53)\u001b[0m   np_resource = np.dtype([(\"resource\", np.ubyte, 1)])\n",
      "\u001b[2m\u001b[36m(pid=30611, ip=192.168.8.53)\u001b[0m wandb: Tracking run with wandb version 0.8.36\n",
      "\u001b[2m\u001b[36m(pid=6695, ip=192.168.8.54)\u001b[0m wandb: Run summary:\n",
      "\u001b[2m\u001b[36m(pid=6695, ip=192.168.8.54)\u001b[0m wandb:                          _runtime 587.3196094036102\n",
      "\u001b[2m\u001b[36m(pid=6695, ip=192.168.8.54)\u001b[0m wandb:              l_pred_w_MAE_Lossnet 5.911882400512695\n",
      "\u001b[2m\u001b[36m(pid=6695, ip=192.168.8.54)\u001b[0m wandb:                             epoch 199\n",
      "\u001b[2m\u001b[36m(pid=6695, ip=192.168.8.54)\u001b[0m wandb:                        _timestamp 1608039139.651933\n",
      "\u001b[2m\u001b[36m(pid=6695, ip=192.168.8.54)\u001b[0m wandb:                              loss 0.060066549330949785\n",
      "\u001b[2m\u001b[36m(pid=6695, ip=192.168.8.54)\u001b[0m wandb:                             _step 199\n",
      "\u001b[2m\u001b[36m(pid=6695, ip=192.168.8.54)\u001b[0m wandb:              l_pred_s_MAE_Lossnet 5.911882400512695\n",
      "\u001b[2m\u001b[36m(pid=6695, ip=192.168.8.54)\u001b[0m wandb:                     l_pred_s_loss 0.05225669592618942\n",
      "\u001b[2m\u001b[36m(pid=6695, ip=192.168.8.54)\u001b[0m wandb:                   Classifier_loss 0.007731134537607431\n",
      "\u001b[2m\u001b[36m(pid=6695, ip=192.168.8.54)\u001b[0m wandb:                     l_pred_w_loss 0.05225669592618942\n",
      "\u001b[2m\u001b[36m(pid=6695, ip=192.168.8.54)\u001b[0m wandb:   Classifier_categorical_accuracy 0.9990000128746033\n",
      "\u001b[2m\u001b[36m(pid=6695, ip=192.168.8.54)\u001b[0m wandb: Syncing files in ../../../Trainings/wandb/wandb/run-20201215_132232-11whhpo9:\n",
      "\u001b[2m\u001b[36m(pid=6695, ip=192.168.8.54)\u001b[0m wandb:   code/default_worker.py\n",
      "\u001b[2m\u001b[36m(pid=6695, ip=192.168.8.54)\u001b[0m wandb: plus 8 W&B file(s) and 1 media file(s)\n",
      "\u001b[2m\u001b[36m(pid=6695, ip=192.168.8.54)\u001b[0m wandb: - 0.06MB of 0.06MB uploaded\n",
      "\u001b[2m\u001b[36m(pid=30611, ip=192.168.8.53)\u001b[0m wandb: Wandb version 0.10.12 is available!  To upgrade, please run:\n",
      "\u001b[2m\u001b[36m(pid=30611, ip=192.168.8.53)\u001b[0m wandb:  $ pip install wandb --upgrade\n",
      "\u001b[2m\u001b[36m(pid=30611, ip=192.168.8.53)\u001b[0m wandb: Run data is saved locally in ../../../Trainings/wandb/wandb/run-20201215_133223-3tqfev1h\n",
      "\u001b[2m\u001b[36m(pid=30611, ip=192.168.8.53)\u001b[0m wandb: Syncing run Train_2\n",
      "\u001b[2m\u001b[36m(pid=30611, ip=192.168.8.53)\u001b[0m wandb: ⭐️ View project at http://192.168.8.51:8080/reminiz/Active_Learning_CIFAR\n",
      "\u001b[2m\u001b[36m(pid=30611, ip=192.168.8.53)\u001b[0m wandb: 🚀 View run at http://192.168.8.51:8080/reminiz/Active_Learning_CIFAR/runs/3tqfev1h\n",
      "\u001b[2m\u001b[36m(pid=30611, ip=192.168.8.53)\u001b[0m wandb: Run `wandb off` to turn off syncing.\n",
      "\u001b[2m\u001b[36m(pid=6695, ip=192.168.8.54)\u001b[0m wandb: \\ 0.06MB of 0.06MB uploaded\n",
      "\u001b[2m\u001b[36m(pid=30611, ip=192.168.8.53)\u001b[0m \n",
      "\u001b[2m\u001b[36m(pid=6695, ip=192.168.8.54)\u001b[0m wandb: | 0.06MB of 0.06MB uploaded\n",
      "\u001b[2m\u001b[36m(pid=6695, ip=192.168.8.54)\u001b[0m wandb: / 0.06MB of 0.06MB uploaded\n",
      "wandb:                                                                                \n",
      "\u001b[2m\u001b[36m(pid=6695, ip=192.168.8.54)\u001b[0m wandb: Synced Train_1: http://192.168.8.51:8080/reminiz/Active_Learning_CIFAR/runs/11whhpo9\n",
      "\u001b[2m\u001b[36m(pid=30611, ip=192.168.8.53)\u001b[0m WARNING:tensorflow:From /home/reminiz/ReminizML2/python_env/lib/python3.7/site-packages/tensorflow/python/ops/resource_variable_ops.py:435: colocate_with (from tensorflow.python.framework.ops) is deprecated and will be removed in a future version.\n",
      "\u001b[2m\u001b[36m(pid=30611, ip=192.168.8.53)\u001b[0m Instructions for updating:\n",
      "\u001b[2m\u001b[36m(pid=30611, ip=192.168.8.53)\u001b[0m Colocations handled automatically by placer.\n"
     ]
    },
    {
     "name": "stdout",
     "output_type": "stream",
     "text": [
      "\u001b[2m\u001b[36m(pid=30611, ip=192.168.8.53)\u001b[0m \u001b[1;36mTrain_Stage_2\u001b[0;0m Loading weigths from:  /mnt/Ressources/Andres/Temp_active/runs/Active_Learning_keras_v0/Stage_1/checkpoints/checkpoint.200.hdf5\n",
      "\u001b[2m\u001b[36m(pid=30611, ip=192.168.8.53)\u001b[0m \u001b[1;36mTrain_Stage_2\u001b[0;0m The detected epoch is:  200\n"
     ]
    },
    {
     "name": "stderr",
     "output_type": "stream",
     "text": [
      "\u001b[2m\u001b[36m(pid=30611, ip=192.168.8.53)\u001b[0m WARNING:tensorflow:Output \"Embedding\" missing from loss dictionary. We assume this was done on purpose. The fit and evaluate APIs will not be expecting any data to be passed to \"Embedding\".\n",
      "\u001b[2m\u001b[36m(pid=30611, ip=192.168.8.53)\u001b[0m WARNING:tensorflow:Output \"Embedding\" missing from loss dictionary. We assume this was done on purpose. The fit and evaluate APIs will not be expecting any data to be passed to \"Embedding\".\n",
      "\u001b[2m\u001b[36m(pid=30611, ip=192.168.8.53)\u001b[0m 2020-12-15 14:32:29,158\tINFO worker.py:634 -- Connecting to existing Ray cluster at address: 192.168.8.51:6379\n",
      "\u001b[2m\u001b[36m(pid=30611, ip=192.168.8.53)\u001b[0m 2020-12-15 14:32:29,158\tERROR worker.py:643 -- Calling ray.init() again after it has already been called.\n",
      "\u001b[2m\u001b[36m(pid=30611, ip=192.168.8.53)\u001b[0m WARNING:tensorflow:From /home/reminiz/ReminizML2/python_env/lib/python3.7/site-packages/tensorflow/python/ops/math_ops.py:3066: to_int32 (from tensorflow.python.ops.math_ops) is deprecated and will be removed in a future version.\n",
      "\u001b[2m\u001b[36m(pid=30611, ip=192.168.8.53)\u001b[0m Instructions for updating:\n",
      "\u001b[2m\u001b[36m(pid=30611, ip=192.168.8.53)\u001b[0m Use tf.cast instead.\n"
     ]
    },
    {
     "name": "stdout",
     "output_type": "stream",
     "text": [
      "\u001b[2m\u001b[36m(pid=30611, ip=192.168.8.53)\u001b[0m \u001b[1;36mTrain_Stage_2\u001b[0;0m Init done\n",
      "\u001b[2m\u001b[36m(pid=30611, ip=192.168.8.53)\u001b[0m \u001b[1;36mTrain_Stage_2\u001b[0;0m Start training\n"
     ]
    },
    {
     "name": "stderr",
     "output_type": "stream",
     "text": [
      "\u001b[2m\u001b[36m(pid=30611, ip=192.168.8.53)\u001b[0m 2020-12-15 14:32:39.558972: I tensorflow/stream_executor/dso_loader.cc:152] successfully opened CUDA library libcublas.so.10.0 locally\n",
      "\u001b[2m\u001b[36m(pid=19862)\u001b[0m wandb: Program ended successfully.\n",
      "\u001b[2m\u001b[36m(pid=19862)\u001b[0m wandb: Run summary:\n",
      "\u001b[2m\u001b[36m(pid=19862)\u001b[0m wandb:             Test: Classification Accuracy 0.5024\n",
      "\u001b[2m\u001b[36m(pid=19862)\u001b[0m wandb:                                _timestamp 1608039109.7608721\n",
      "\u001b[2m\u001b[36m(pid=19862)\u001b[0m wandb:                                  _runtime 156.54682517051697\n",
      "\u001b[2m\u001b[36m(pid=19862)\u001b[0m wandb:                                     _step 195\n",
      "\u001b[2m\u001b[36m(pid=19862)\u001b[0m wandb:                Area Under the Curve (AUC) 0.7083687408157885\n",
      "\u001b[2m\u001b[36m(pid=19862)\u001b[0m wandb:                                  F1 score 0.49769441081653215\n",
      "\u001b[2m\u001b[36m(pid=19862)\u001b[0m wandb: Syncing files in ../../../Trainings/wandb/wandb/run-20201215_132913-36b76q2g:\n",
      "\u001b[2m\u001b[36m(pid=19862)\u001b[0m wandb:   code/default_worker.py\n",
      "\u001b[2m\u001b[36m(pid=19862)\u001b[0m wandb: plus 8 W&B file(s) and 78 media file(s)\n",
      "\u001b[2m\u001b[36m(pid=19862)\u001b[0m wandb: - 7.56MB of 7.56MB uploaded\n",
      "\u001b[2m\u001b[36m(pid=19862)\u001b[0m wandb: \\ 7.56MB of 7.56MB uploaded\n",
      "\u001b[2m\u001b[36m(pid=19862)\u001b[0m wandb: | 7.56MB of 7.56MB uploaded\n",
      "\u001b[2m\u001b[36m(pid=19862)\u001b[0m wandb: / 7.56MB of 7.56MB uploaded\n",
      "\u001b[2m\u001b[36m(pid=19862)\u001b[0m wandb: - 7.56MB of 7.56MB uploaded\n",
      "wandb:                                                                                \n",
      "\u001b[2m\u001b[36m(pid=19862)\u001b[0m wandb: Synced Test_0: http://192.168.8.51:8080/reminiz/Active_Learning_CIFAR/runs/36b76q2g\n"
     ]
    },
    {
     "name": "stdout",
     "output_type": "stream",
     "text": [
      "\u001b[2m\u001b[36m(pid=12774, ip=192.168.8.52)\u001b[0m Epoch: 44 Time: 2020-12-15 14:37:51 Train loss: 1.41 Count NaN: 0 Saving\n"
     ]
    },
    {
     "name": "stderr",
     "output_type": "stream",
     "text": [
      "\u001b[2m\u001b[36m(pid=7864, ip=192.168.8.54)\u001b[0m /home/reminiz/ReminizML2/python_env/lib/python3.7/site-packages/tensorflow/python/framework/dtypes.py:526: FutureWarning: Passing (type, 1) or '1type' as a synonym of type is deprecated; in a future version of numpy, it will be understood as (type, (1,)) / '(1,)type'.\n",
      "\u001b[2m\u001b[36m(pid=7864, ip=192.168.8.54)\u001b[0m   _np_qint8 = np.dtype([(\"qint8\", np.int8, 1)])\n",
      "\u001b[2m\u001b[36m(pid=7864, ip=192.168.8.54)\u001b[0m /home/reminiz/ReminizML2/python_env/lib/python3.7/site-packages/tensorflow/python/framework/dtypes.py:527: FutureWarning: Passing (type, 1) or '1type' as a synonym of type is deprecated; in a future version of numpy, it will be understood as (type, (1,)) / '(1,)type'.\n",
      "\u001b[2m\u001b[36m(pid=7864, ip=192.168.8.54)\u001b[0m   _np_quint8 = np.dtype([(\"quint8\", np.uint8, 1)])\n",
      "\u001b[2m\u001b[36m(pid=7864, ip=192.168.8.54)\u001b[0m /home/reminiz/ReminizML2/python_env/lib/python3.7/site-packages/tensorflow/python/framework/dtypes.py:528: FutureWarning: Passing (type, 1) or '1type' as a synonym of type is deprecated; in a future version of numpy, it will be understood as (type, (1,)) / '(1,)type'.\n",
      "\u001b[2m\u001b[36m(pid=7864, ip=192.168.8.54)\u001b[0m   _np_qint16 = np.dtype([(\"qint16\", np.int16, 1)])\n",
      "\u001b[2m\u001b[36m(pid=7864, ip=192.168.8.54)\u001b[0m /home/reminiz/ReminizML2/python_env/lib/python3.7/site-packages/tensorflow/python/framework/dtypes.py:529: FutureWarning: Passing (type, 1) or '1type' as a synonym of type is deprecated; in a future version of numpy, it will be understood as (type, (1,)) / '(1,)type'.\n",
      "\u001b[2m\u001b[36m(pid=7864, ip=192.168.8.54)\u001b[0m   _np_quint16 = np.dtype([(\"quint16\", np.uint16, 1)])\n",
      "\u001b[2m\u001b[36m(pid=7864, ip=192.168.8.54)\u001b[0m /home/reminiz/ReminizML2/python_env/lib/python3.7/site-packages/tensorflow/python/framework/dtypes.py:530: FutureWarning: Passing (type, 1) or '1type' as a synonym of type is deprecated; in a future version of numpy, it will be understood as (type, (1,)) / '(1,)type'.\n",
      "\u001b[2m\u001b[36m(pid=7864, ip=192.168.8.54)\u001b[0m   _np_qint32 = np.dtype([(\"qint32\", np.int32, 1)])\n",
      "\u001b[2m\u001b[36m(pid=7864, ip=192.168.8.54)\u001b[0m /home/reminiz/ReminizML2/python_env/lib/python3.7/site-packages/tensorflow/python/framework/dtypes.py:535: FutureWarning: Passing (type, 1) or '1type' as a synonym of type is deprecated; in a future version of numpy, it will be understood as (type, (1,)) / '(1,)type'.\n",
      "\u001b[2m\u001b[36m(pid=7864, ip=192.168.8.54)\u001b[0m   np_resource = np.dtype([(\"resource\", np.ubyte, 1)])\n",
      "\u001b[2m\u001b[36m(pid=7864, ip=192.168.8.54)\u001b[0m wandb: Tracking run with wandb version 0.8.36\n",
      "\u001b[2m\u001b[36m(pid=7864, ip=192.168.8.54)\u001b[0m wandb: Wandb version 0.10.12 is available!  To upgrade, please run:\n",
      "\u001b[2m\u001b[36m(pid=7864, ip=192.168.8.54)\u001b[0m wandb:  $ pip install wandb --upgrade\n",
      "\u001b[2m\u001b[36m(pid=7864, ip=192.168.8.54)\u001b[0m wandb: Run data is saved locally in ../../../Trainings/wandb/wandb/run-20201215_133810-2wfg5hig\n",
      "\u001b[2m\u001b[36m(pid=7864, ip=192.168.8.54)\u001b[0m wandb: Syncing run 2wfg5hig\n",
      "\u001b[2m\u001b[36m(pid=7864, ip=192.168.8.54)\u001b[0m wandb: ⭐️ View project at http://192.168.8.51:8080/reminiz/Violence%20Detection\n",
      "\u001b[2m\u001b[36m(pid=7864, ip=192.168.8.54)\u001b[0m wandb: 🚀 View run at http://192.168.8.51:8080/reminiz/Violence%20Detection/runs/2wfg5hig\n",
      "\u001b[2m\u001b[36m(pid=7864, ip=192.168.8.54)\u001b[0m wandb: Run `wandb off` to turn off syncing.\n",
      "\u001b[2m\u001b[36m(pid=7864, ip=192.168.8.54)\u001b[0m \n",
      "\u001b[2m\u001b[36m(pid=7864, ip=192.168.8.54)\u001b[0m WARNING:tensorflow:From /home/reminiz/ReminizML2/python_env/lib/python3.7/site-packages/tensorflow/python/framework/op_def_library.py:263: colocate_with (from tensorflow.python.framework.ops) is deprecated and will be removed in a future version.\n",
      "\u001b[2m\u001b[36m(pid=7864, ip=192.168.8.54)\u001b[0m Instructions for updating:\n",
      "\u001b[2m\u001b[36m(pid=7864, ip=192.168.8.54)\u001b[0m Colocations handled automatically by placer.\n",
      "\u001b[2m\u001b[36m(pid=7864, ip=192.168.8.54)\u001b[0m WARNING:tensorflow:From /mnt/Ressources/Quentin/Detection/core/common.py:25: batch_normalization (from tensorflow.python.layers.normalization) is deprecated and will be removed in a future version.\n",
      "\u001b[2m\u001b[36m(pid=7864, ip=192.168.8.54)\u001b[0m Instructions for updating:\n",
      "\u001b[2m\u001b[36m(pid=7864, ip=192.168.8.54)\u001b[0m Use keras.layers.batch_normalization instead.\n"
     ]
    },
    {
     "name": "stdout",
     "output_type": "stream",
     "text": [
      "\u001b[2m\u001b[36m(pid=7864, ip=192.168.8.54)\u001b[0m {0: 'FIREARMS', 1: 'COLDARMS'}\n"
     ]
    },
    {
     "name": "stderr",
     "output_type": "stream",
     "text": [
      "\u001b[2m\u001b[36m(pid=7864, ip=192.168.8.54)\u001b[0m 2020-12-15 14:38:14.232503: I tensorflow/core/platform/cpu_feature_guard.cc:141] Your CPU supports instructions that this TensorFlow binary was not compiled to use: AVX2 FMA\n",
      "\u001b[2m\u001b[36m(pid=7864, ip=192.168.8.54)\u001b[0m 2020-12-15 14:38:14.254369: I tensorflow/core/platform/profile_utils/cpu_utils.cc:94] CPU Frequency: 3300095000 Hz\n",
      "\u001b[2m\u001b[36m(pid=7864, ip=192.168.8.54)\u001b[0m 2020-12-15 14:38:14.255244: I tensorflow/compiler/xla/service/service.cc:150] XLA service 0x7dd8960 executing computations on platform Host. Devices:\n",
      "\u001b[2m\u001b[36m(pid=7864, ip=192.168.8.54)\u001b[0m 2020-12-15 14:38:14.255278: I tensorflow/compiler/xla/service/service.cc:158]   StreamExecutor device (0): <undefined>, <undefined>\n",
      "\u001b[2m\u001b[36m(pid=7864, ip=192.168.8.54)\u001b[0m 2020-12-15 14:38:14.329410: I tensorflow/compiler/xla/service/service.cc:150] XLA service 0x7e14c20 executing computations on platform CUDA. Devices:\n",
      "\u001b[2m\u001b[36m(pid=7864, ip=192.168.8.54)\u001b[0m 2020-12-15 14:38:14.329450: I tensorflow/compiler/xla/service/service.cc:158]   StreamExecutor device (0): GeForce GTX TITAN X, Compute Capability 5.2\n",
      "\u001b[2m\u001b[36m(pid=7864, ip=192.168.8.54)\u001b[0m 2020-12-15 14:38:14.329610: I tensorflow/core/common_runtime/gpu/gpu_device.cc:1433] Found device 0 with properties: \n",
      "\u001b[2m\u001b[36m(pid=7864, ip=192.168.8.54)\u001b[0m name: GeForce GTX TITAN X major: 5 minor: 2 memoryClockRate(GHz): 1.076\n",
      "\u001b[2m\u001b[36m(pid=7864, ip=192.168.8.54)\u001b[0m pciBusID: 0000:4c:00.0\n",
      "\u001b[2m\u001b[36m(pid=7864, ip=192.168.8.54)\u001b[0m totalMemory: 11.92GiB freeMemory: 11.82GiB\n",
      "\u001b[2m\u001b[36m(pid=7864, ip=192.168.8.54)\u001b[0m 2020-12-15 14:38:14.329637: I tensorflow/core/common_runtime/gpu/gpu_device.cc:1512] Adding visible gpu devices: 0\n",
      "\u001b[2m\u001b[36m(pid=7864, ip=192.168.8.54)\u001b[0m 2020-12-15 14:38:14.331955: I tensorflow/core/common_runtime/gpu/gpu_device.cc:984] Device interconnect StreamExecutor with strength 1 edge matrix:\n",
      "\u001b[2m\u001b[36m(pid=7864, ip=192.168.8.54)\u001b[0m 2020-12-15 14:38:14.331981: I tensorflow/core/common_runtime/gpu/gpu_device.cc:990]      0 \n",
      "\u001b[2m\u001b[36m(pid=7864, ip=192.168.8.54)\u001b[0m 2020-12-15 14:38:14.331994: I tensorflow/core/common_runtime/gpu/gpu_device.cc:1003] 0:   N \n",
      "\u001b[2m\u001b[36m(pid=7864, ip=192.168.8.54)\u001b[0m 2020-12-15 14:38:14.332105: I tensorflow/core/common_runtime/gpu/gpu_device.cc:1115] Created TensorFlow device (/job:localhost/replica:0/task:0/device:GPU:0 with 11496 MB memory) -> physical GPU (device: 0, name: GeForce GTX TITAN X, pci bus id: 0000:4c:00.0, compute capability: 5.2)\n",
      "\u001b[2m\u001b[36m(pid=7864, ip=192.168.8.54)\u001b[0m WARNING:tensorflow:From /home/reminiz/ReminizML2/python_env/lib/python3.7/site-packages/tensorflow/python/training/saver.py:1266: checkpoint_exists (from tensorflow.python.training.checkpoint_management) is deprecated and will be removed in a future version.\n",
      "\u001b[2m\u001b[36m(pid=7864, ip=192.168.8.54)\u001b[0m Instructions for updating:\n",
      "\u001b[2m\u001b[36m(pid=7864, ip=192.168.8.54)\u001b[0m Use standard file APIs to check for files with this prefix.\n"
     ]
    },
    {
     "name": "stdout",
     "output_type": "stream",
     "text": [
      "\u001b[2m\u001b[36m(pid=7864, ip=192.168.8.54)\u001b[0m Restoring from /mnt/Trainings/models/violence_detection_weapons_0/checkpoint/epoch44.ckpt-44\n"
     ]
    },
    {
     "name": "stderr",
     "output_type": "stream",
     "text": [
      "  0% 0/100 [00:00<?, ?it/s]E1215 14:38:20.195592  7864  7873 task_manager.cc:323] Task failed: IOError: cancelling all pending tasks of dead actor: Type=ACTOR_TASK, Language=PYTHON, Resources: {}, function_descriptor={type=PythonFunctionDescriptor, module_name=AutoML.datanode, class_name=DataNode, function_name=get_data, function_hash=}, task_id=2cee55587ce9144f02fe305401000000, task_name=DataNode.get_data(), job_id=01000000, num_args=8, num_returns=2, actor_task_spec={actor_id=02fe305401000000, actor_caller_id=ffffffffffffffff5a0432930c000000, actor_counter=0}\n",
      "  1% 1/100 [00:02<04:28,  2.72s/it])\u001b[0m \n",
      "  2% 2/100 [00:03<03:27,  2.12s/it])\u001b[0m \n",
      "  3% 3/100 [00:03<02:34,  1.59s/it])\u001b[0m \n",
      "  4% 4/100 [00:04<01:52,  1.18s/it])\u001b[0m \n",
      "  5% 5/100 [00:04<01:24,  1.12it/s])\u001b[0m \n",
      "  6% 6/100 [00:04<01:17,  1.22it/s])\u001b[0m \n",
      "  7% 7/100 [00:05<00:57,  1.63it/s])\u001b[0m \n",
      "  8% 8/100 [00:05<00:44,  2.06it/s])\u001b[0m \n",
      "  9% 9/100 [00:05<00:34,  2.62it/s])\u001b[0m \n",
      " 11% 11/100 [00:05<00:27,  3.27it/s]\u001b[0m \n",
      " 12% 12/100 [00:05<00:23,  3.75it/s]\u001b[0m \n",
      " 13% 13/100 [00:06<00:22,  3.91it/s]\u001b[0m \n",
      " 14% 14/100 [00:06<00:19,  4.43it/s]\u001b[0m \n",
      " 16% 16/100 [00:06<00:17,  4.69it/s]\u001b[0m \n",
      " 17% 17/100 [00:06<00:14,  5.55it/s]\u001b[0m \n",
      " 19% 19/100 [00:06<00:11,  6.78it/s]\u001b[0m \n",
      " 20% 20/100 [00:06<00:11,  6.80it/s]\u001b[0m \n",
      " 21% 21/100 [00:07<00:11,  6.79it/s]\u001b[0m \n",
      " 23% 23/100 [00:07<00:09,  8.11it/s]\u001b[0m \n",
      " 25% 25/100 [00:07<00:08,  9.00it/s]\u001b[0m \n",
      " 27% 27/100 [00:08<00:15,  4.65it/s]\u001b[0m \n",
      " 28% 28/100 [00:08<00:16,  4.36it/s]\u001b[0m \n",
      " 29% 29/100 [00:08<00:14,  4.82it/s]\u001b[0m \n",
      " 30% 30/100 [00:08<00:13,  5.28it/s]\u001b[0m \n",
      " 32% 32/100 [00:09<00:11,  6.01it/s]\u001b[0m \n",
      " 34% 34/100 [00:09<00:09,  6.72it/s]\u001b[0m \n",
      " 35% 35/100 [00:09<00:08,  7.24it/s]\u001b[0m \n",
      " 36% 36/100 [00:09<00:10,  5.89it/s]\u001b[0m \n",
      " 38% 38/100 [00:09<00:08,  7.17it/s]\u001b[0m \n",
      " 39% 39/100 [00:10<00:19,  3.20it/s]\u001b[0m \n",
      " 41% 41/100 [00:10<00:14,  3.98it/s]\u001b[0m \n",
      " 43% 43/100 [00:11<00:13,  4.30it/s]\u001b[0m \n",
      " 45% 45/100 [00:11<00:10,  5.32it/s]\u001b[0m \n",
      " 46% 46/100 [00:11<00:09,  5.54it/s]\u001b[0m \n",
      " 48% 48/100 [00:11<00:08,  6.16it/s]\u001b[0m \n",
      " 49% 49/100 [00:12<00:18,  2.80it/s]\u001b[0m \n",
      " 50% 50/100 [00:12<00:14,  3.40it/s]\u001b[0m \n",
      " 51% 51/100 [00:12<00:12,  3.91it/s]\u001b[0m \n",
      " 53% 53/100 [00:13<00:10,  4.30it/s]\u001b[0m \n",
      " 55% 55/100 [00:13<00:11,  3.77it/s]\u001b[0m \n",
      " 56% 56/100 [00:13<00:09,  4.42it/s]\u001b[0m \n",
      " 57% 57/100 [00:14<00:10,  4.06it/s]\u001b[0m \n",
      " 59% 59/100 [00:14<00:08,  5.08it/s]\u001b[0m \n",
      " 60% 60/100 [00:14<00:06,  5.77it/s]\u001b[0m \n",
      " 61% 61/100 [00:14<00:05,  6.58it/s]\u001b[0m \n",
      " 63% 63/100 [00:14<00:05,  7.02it/s]\u001b[0m \n",
      " 64% 64/100 [00:15<00:06,  5.77it/s]\u001b[0m \n",
      " 66% 66/100 [00:15<00:06,  5.57it/s]\u001b[0m \n",
      " 68% 68/100 [00:15<00:04,  6.79it/s]\u001b[0m \n",
      " 70% 70/100 [00:15<00:03,  7.84it/s]\u001b[0m \n",
      " 71% 71/100 [00:15<00:03,  7.68it/s]\u001b[0m \n",
      " 73% 73/100 [00:16<00:02,  9.03it/s]\u001b[0m \n",
      " 75% 75/100 [00:16<00:02, 10.22it/s]\u001b[0m \n",
      " 77% 77/100 [00:16<00:02, 11.41it/s]\u001b[0m \n",
      " 79% 79/100 [00:16<00:01, 11.50it/s]\u001b[0m \n",
      " 81% 81/100 [00:16<00:01,  9.65it/s]\u001b[0m \n",
      " 83% 83/100 [00:16<00:01, 10.93it/s]\u001b[0m \n",
      " 85% 85/100 [00:17<00:01, 10.17it/s]\u001b[0m \n",
      " 87% 87/100 [00:17<00:01,  9.00it/s]\u001b[0m \n",
      " 89% 89/100 [00:17<00:01, 10.34it/s]\u001b[0m \n",
      " 91% 91/100 [00:17<00:00, 10.47it/s]\u001b[0m \n",
      " 93% 93/100 [00:18<00:00,  7.99it/s]\u001b[0m \n",
      " 95% 95/100 [00:18<00:00,  9.36it/s]\u001b[0m \n",
      " 97% 97/100 [00:18<00:00,  8.28it/s]\u001b[0m \n",
      " 98% 98/100 [00:18<00:00,  7.54it/s]\u001b[0m \n",
      " 99% 99/100 [00:18<00:00,  7.69it/s]\u001b[0m \n",
      " 99% 99/100 [00:21<00:00,  4.68it/s]\u001b[0m \n",
      "\u001b[2m\u001b[36m(pid=7864, ip=192.168.8.54)\u001b[0m \n",
      "\u001b[2m\u001b[36m(pid=7864, ip=192.168.8.54)\u001b[0m wandb: Waiting for W&B process to finish, PID 8047\n",
      "\u001b[2m\u001b[36m(pid=7864, ip=192.168.8.54)\u001b[0m wandb: Program ended successfully.\n",
      "\u001b[2m\u001b[36m(pid=7864, ip=192.168.8.54)\u001b[0m wandb: Run summary:\n",
      "\u001b[2m\u001b[36m(pid=7864, ip=192.168.8.54)\u001b[0m wandb:               _step 105688\n",
      "\u001b[2m\u001b[36m(pid=7864, ip=192.168.8.54)\u001b[0m wandb:            _runtime 931.0452408790588\n",
      "\u001b[2m\u001b[36m(pid=7864, ip=192.168.8.54)\u001b[0m wandb:          _timestamp 1608039521.1340954\n",
      "\u001b[2m\u001b[36m(pid=7864, ip=192.168.8.54)\u001b[0m wandb:     mAP all classes 60.78387716396729\n",
      "\u001b[2m\u001b[36m(pid=7864, ip=192.168.8.54)\u001b[0m wandb: Syncing files in ../../../Trainings/wandb/wandb/run-20201215_133810-2wfg5hig:\n",
      "\u001b[2m\u001b[36m(pid=7864, ip=192.168.8.54)\u001b[0m wandb:   code/default_worker.py\n",
      "\u001b[2m\u001b[36m(pid=7864, ip=192.168.8.54)\u001b[0m wandb: plus 8 W&B file(s) and 6 media file(s)\n",
      "\u001b[2m\u001b[36m(pid=7864, ip=192.168.8.54)\u001b[0m wandb: - 0.07MB of 0.07MB uploaded\n",
      "\u001b[2m\u001b[36m(pid=7864, ip=192.168.8.54)\u001b[0m wandb: \\ 0.07MB of 0.07MB uploaded\n",
      "\u001b[2m\u001b[36m(pid=7864, ip=192.168.8.54)\u001b[0m wandb: | 0.07MB of 0.07MB uploaded\n",
      "\u001b[2m\u001b[36m(pid=7864, ip=192.168.8.54)\u001b[0m wandb: / 0.07MB of 0.07MB uploaded\n",
      "\u001b[2m\u001b[36m(pid=7864, ip=192.168.8.54)\u001b[0m wandb: - 0.07MB of 0.07MB uploaded\n",
      "wandb:                                                                                \n",
      "\u001b[2m\u001b[36m(pid=7864, ip=192.168.8.54)\u001b[0m wandb: Synced: http://192.168.8.51:8080/reminiz/Violence%20Detection/runs/2wfg5hig\n"
     ]
    },
    {
     "name": "stdout",
     "output_type": "stream",
     "text": [
      "\u001b[2m\u001b[36m(pid=30611, ip=192.168.8.53)\u001b[0m Change to split learning\n",
      "\u001b[2m\u001b[36m(pid=30611, ip=192.168.8.53)\u001b[0m Previus weigths 1.0 0\n",
      "\u001b[2m\u001b[36m(pid=30611, ip=192.168.8.53)\u001b[0m Updated weigths 0 1.0\n"
     ]
    },
    {
     "name": "stderr",
     "output_type": "stream",
     "text": [
      "\u001b[2m\u001b[36m(pid=30611, ip=192.168.8.53)\u001b[0m \n",
      "\u001b[2m\u001b[36m(pid=30611, ip=192.168.8.53)\u001b[0m wandb: Waiting for W&B process to finish, PID 18999\n",
      "\u001b[2m\u001b[36m(pid=30611, ip=192.168.8.53)\u001b[0m wandb: Program ended successfully.\n",
      "\u001b[2m\u001b[36m(pid=22786)\u001b[0m /home/reminiz/ReminizML2/python_env/lib/python3.7/site-packages/tensorflow/python/framework/dtypes.py:526: FutureWarning: Passing (type, 1) or '1type' as a synonym of type is deprecated; in a future version of numpy, it will be understood as (type, (1,)) / '(1,)type'.\n",
      "\u001b[2m\u001b[36m(pid=22786)\u001b[0m   _np_qint8 = np.dtype([(\"qint8\", np.int8, 1)])\n",
      "\u001b[2m\u001b[36m(pid=22786)\u001b[0m /home/reminiz/ReminizML2/python_env/lib/python3.7/site-packages/tensorflow/python/framework/dtypes.py:527: FutureWarning: Passing (type, 1) or '1type' as a synonym of type is deprecated; in a future version of numpy, it will be understood as (type, (1,)) / '(1,)type'.\n",
      "\u001b[2m\u001b[36m(pid=22786)\u001b[0m   _np_quint8 = np.dtype([(\"quint8\", np.uint8, 1)])\n",
      "\u001b[2m\u001b[36m(pid=22786)\u001b[0m /home/reminiz/ReminizML2/python_env/lib/python3.7/site-packages/tensorflow/python/framework/dtypes.py:528: FutureWarning: Passing (type, 1) or '1type' as a synonym of type is deprecated; in a future version of numpy, it will be understood as (type, (1,)) / '(1,)type'.\n",
      "\u001b[2m\u001b[36m(pid=22786)\u001b[0m   _np_qint16 = np.dtype([(\"qint16\", np.int16, 1)])\n",
      "\u001b[2m\u001b[36m(pid=22786)\u001b[0m /home/reminiz/ReminizML2/python_env/lib/python3.7/site-packages/tensorflow/python/framework/dtypes.py:529: FutureWarning: Passing (type, 1) or '1type' as a synonym of type is deprecated; in a future version of numpy, it will be understood as (type, (1,)) / '(1,)type'.\n",
      "\u001b[2m\u001b[36m(pid=22786)\u001b[0m   _np_quint16 = np.dtype([(\"quint16\", np.uint16, 1)])\n",
      "\u001b[2m\u001b[36m(pid=22786)\u001b[0m /home/reminiz/ReminizML2/python_env/lib/python3.7/site-packages/tensorflow/python/framework/dtypes.py:530: FutureWarning: Passing (type, 1) or '1type' as a synonym of type is deprecated; in a future version of numpy, it will be understood as (type, (1,)) / '(1,)type'.\n",
      "\u001b[2m\u001b[36m(pid=22786)\u001b[0m   _np_qint32 = np.dtype([(\"qint32\", np.int32, 1)])\n",
      "\u001b[2m\u001b[36m(pid=22786)\u001b[0m /home/reminiz/ReminizML2/python_env/lib/python3.7/site-packages/tensorflow/python/framework/dtypes.py:535: FutureWarning: Passing (type, 1) or '1type' as a synonym of type is deprecated; in a future version of numpy, it will be understood as (type, (1,)) / '(1,)type'.\n",
      "\u001b[2m\u001b[36m(pid=22786)\u001b[0m   np_resource = np.dtype([(\"resource\", np.ubyte, 1)])\n",
      "\u001b[2m\u001b[36m(pid=30611, ip=192.168.8.53)\u001b[0m wandb: Run summary:\n",
      "\u001b[2m\u001b[36m(pid=30611, ip=192.168.8.53)\u001b[0m wandb:                     l_pred_w_loss 0.04712137579917908\n",
      "\u001b[2m\u001b[36m(pid=30611, ip=192.168.8.53)\u001b[0m wandb:                             _step 199\n",
      "\u001b[2m\u001b[36m(pid=30611, ip=192.168.8.53)\u001b[0m wandb:              l_pred_s_MAE_Lossnet 6.871149063110352\n",
      "\u001b[2m\u001b[36m(pid=30611, ip=192.168.8.53)\u001b[0m wandb:                     l_pred_s_loss 0.04712137579917908\n",
      "\u001b[2m\u001b[36m(pid=30611, ip=192.168.8.53)\u001b[0m wandb:              l_pred_w_MAE_Lossnet 6.871149063110352\n",
      "\u001b[2m\u001b[36m(pid=30611, ip=192.168.8.53)\u001b[0m wandb:                             epoch 199\n",
      "\u001b[2m\u001b[36m(pid=30611, ip=192.168.8.53)\u001b[0m wandb:   Classifier_categorical_accuracy 0.9983333349227905\n",
      "\u001b[2m\u001b[36m(pid=30611, ip=192.168.8.53)\u001b[0m wandb:                   Classifier_loss 0.00831009540706873\n",
      "\u001b[2m\u001b[36m(pid=30611, ip=192.168.8.53)\u001b[0m wandb:                          _runtime 845.3042209148407\n",
      "\u001b[2m\u001b[36m(pid=30611, ip=192.168.8.53)\u001b[0m wandb:                        _timestamp 1608039988.2742474\n",
      "\u001b[2m\u001b[36m(pid=30611, ip=192.168.8.53)\u001b[0m wandb:                              loss 0.055458856999874115\n",
      "\u001b[2m\u001b[36m(pid=30611, ip=192.168.8.53)\u001b[0m wandb: Syncing files in ../../../Trainings/wandb/wandb/run-20201215_133223-3tqfev1h:\n",
      "\u001b[2m\u001b[36m(pid=30611, ip=192.168.8.53)\u001b[0m wandb:   code/default_worker.py\n",
      "\u001b[2m\u001b[36m(pid=30611, ip=192.168.8.53)\u001b[0m wandb: plus 8 W&B file(s) and 1 media file(s)\n",
      "\u001b[2m\u001b[36m(pid=30611, ip=192.168.8.53)\u001b[0m wandb: - 0.07MB of 0.07MB uploaded\n",
      "\u001b[2m\u001b[36m(pid=22786)\u001b[0m 2020-12-15 14:46:34.937223: I tensorflow/core/platform/cpu_feature_guard.cc:141] Your CPU supports instructions that this TensorFlow binary was not compiled to use: AVX2 FMA\n",
      "\u001b[2m\u001b[36m(pid=22786)\u001b[0m 2020-12-15 14:46:34.960831: I tensorflow/core/platform/profile_utils/cpu_utils.cc:94] CPU Frequency: 3300280000 Hz\n",
      "\u001b[2m\u001b[36m(pid=22786)\u001b[0m 2020-12-15 14:46:34.961475: I tensorflow/compiler/xla/service/service.cc:150] XLA service 0x5f55600 executing computations on platform Host. Devices:\n",
      "\u001b[2m\u001b[36m(pid=22786)\u001b[0m 2020-12-15 14:46:34.961496: I tensorflow/compiler/xla/service/service.cc:158]   StreamExecutor device (0): <undefined>, <undefined>\n",
      "\u001b[2m\u001b[36m(pid=30611, ip=192.168.8.53)\u001b[0m wandb: \\ 0.07MB of 0.07MB uploaded\n",
      "\u001b[2m\u001b[36m(pid=22786)\u001b[0m 2020-12-15 14:46:35.259628: I tensorflow/compiler/xla/service/service.cc:150] XLA service 0x5f918c0 executing computations on platform CUDA. Devices:\n",
      "\u001b[2m\u001b[36m(pid=22786)\u001b[0m 2020-12-15 14:46:35.259676: I tensorflow/compiler/xla/service/service.cc:158]   StreamExecutor device (0): TITAN RTX, Compute Capability 7.5\n",
      "\u001b[2m\u001b[36m(pid=22786)\u001b[0m 2020-12-15 14:46:35.259879: I tensorflow/core/common_runtime/gpu/gpu_device.cc:1433] Found device 0 with properties: \n",
      "\u001b[2m\u001b[36m(pid=22786)\u001b[0m name: TITAN RTX major: 7 minor: 5 memoryClockRate(GHz): 1.77\n",
      "\u001b[2m\u001b[36m(pid=22786)\u001b[0m pciBusID: 0000:06:00.0\n",
      "\u001b[2m\u001b[36m(pid=22786)\u001b[0m totalMemory: 23.65GiB freeMemory: 23.48GiB\n",
      "\u001b[2m\u001b[36m(pid=22786)\u001b[0m 2020-12-15 14:46:35.259909: I tensorflow/core/common_runtime/gpu/gpu_device.cc:1512] Adding visible gpu devices: 0\n",
      "\u001b[2m\u001b[36m(pid=22786)\u001b[0m 2020-12-15 14:46:35.263678: I tensorflow/core/common_runtime/gpu/gpu_device.cc:984] Device interconnect StreamExecutor with strength 1 edge matrix:\n",
      "\u001b[2m\u001b[36m(pid=22786)\u001b[0m 2020-12-15 14:46:35.263718: I tensorflow/core/common_runtime/gpu/gpu_device.cc:990]      0 \n",
      "\u001b[2m\u001b[36m(pid=22786)\u001b[0m 2020-12-15 14:46:35.263731: I tensorflow/core/common_runtime/gpu/gpu_device.cc:1003] 0:   N \n",
      "\u001b[2m\u001b[36m(pid=22786)\u001b[0m 2020-12-15 14:46:35.263853: I tensorflow/core/common_runtime/gpu/gpu_device.cc:1115] Created TensorFlow device (/job:localhost/replica:0/task:0/device:GPU:0 with 22844 MB memory) -> physical GPU (device: 0, name: TITAN RTX, pci bus id: 0000:06:00.0, compute capability: 7.5)\n",
      "\u001b[2m\u001b[36m(pid=22786)\u001b[0m /home/reminiz/ReminizML2/python_env/lib/python3.7/site-packages/tensorboard/compat/tensorflow_stub/dtypes.py:541: FutureWarning: Passing (type, 1) or '1type' as a synonym of type is deprecated; in a future version of numpy, it will be understood as (type, (1,)) / '(1,)type'.\n",
      "\u001b[2m\u001b[36m(pid=22786)\u001b[0m   _np_qint8 = np.dtype([(\"qint8\", np.int8, 1)])\n",
      "\u001b[2m\u001b[36m(pid=22786)\u001b[0m /home/reminiz/ReminizML2/python_env/lib/python3.7/site-packages/tensorboard/compat/tensorflow_stub/dtypes.py:542: FutureWarning: Passing (type, 1) or '1type' as a synonym of type is deprecated; in a future version of numpy, it will be understood as (type, (1,)) / '(1,)type'.\n",
      "\u001b[2m\u001b[36m(pid=22786)\u001b[0m   _np_quint8 = np.dtype([(\"quint8\", np.uint8, 1)])\n",
      "\u001b[2m\u001b[36m(pid=22786)\u001b[0m /home/reminiz/ReminizML2/python_env/lib/python3.7/site-packages/tensorboard/compat/tensorflow_stub/dtypes.py:543: FutureWarning: Passing (type, 1) or '1type' as a synonym of type is deprecated; in a future version of numpy, it will be understood as (type, (1,)) / '(1,)type'.\n",
      "\u001b[2m\u001b[36m(pid=22786)\u001b[0m   _np_qint16 = np.dtype([(\"qint16\", np.int16, 1)])\n",
      "\u001b[2m\u001b[36m(pid=22786)\u001b[0m /home/reminiz/ReminizML2/python_env/lib/python3.7/site-packages/tensorboard/compat/tensorflow_stub/dtypes.py:544: FutureWarning: Passing (type, 1) or '1type' as a synonym of type is deprecated; in a future version of numpy, it will be understood as (type, (1,)) / '(1,)type'.\n",
      "\u001b[2m\u001b[36m(pid=22786)\u001b[0m   _np_quint16 = np.dtype([(\"quint16\", np.uint16, 1)])\n",
      "\u001b[2m\u001b[36m(pid=22786)\u001b[0m /home/reminiz/ReminizML2/python_env/lib/python3.7/site-packages/tensorboard/compat/tensorflow_stub/dtypes.py:545: FutureWarning: Passing (type, 1) or '1type' as a synonym of type is deprecated; in a future version of numpy, it will be understood as (type, (1,)) / '(1,)type'.\n",
      "\u001b[2m\u001b[36m(pid=22786)\u001b[0m   _np_qint32 = np.dtype([(\"qint32\", np.int32, 1)])\n",
      "\u001b[2m\u001b[36m(pid=22786)\u001b[0m /home/reminiz/ReminizML2/python_env/lib/python3.7/site-packages/tensorboard/compat/tensorflow_stub/dtypes.py:550: FutureWarning: Passing (type, 1) or '1type' as a synonym of type is deprecated; in a future version of numpy, it will be understood as (type, (1,)) / '(1,)type'.\n",
      "\u001b[2m\u001b[36m(pid=22786)\u001b[0m   np_resource = np.dtype([(\"resource\", np.ubyte, 1)])\n",
      "\u001b[2m\u001b[36m(pid=22786)\u001b[0m wandb: Tracking run with wandb version 0.8.36\n",
      "\u001b[2m\u001b[36m(pid=30611, ip=192.168.8.53)\u001b[0m wandb: | 0.07MB of 0.07MB uploaded\n",
      "\u001b[2m\u001b[36m(pid=30611, ip=192.168.8.53)\u001b[0m wandb: / 0.07MB of 0.07MB uploaded\n",
      "wandb:                                                                                \n",
      "\u001b[2m\u001b[36m(pid=30611, ip=192.168.8.53)\u001b[0m wandb: Synced Train_2: http://192.168.8.51:8080/reminiz/Active_Learning_CIFAR/runs/3tqfev1h\n",
      "\u001b[2m\u001b[36m(pid=22786)\u001b[0m wandb: Wandb version 0.10.12 is available!  To upgrade, please run:\n",
      "\u001b[2m\u001b[36m(pid=22786)\u001b[0m wandb:  $ pip install wandb --upgrade\n",
      "\u001b[2m\u001b[36m(pid=22786)\u001b[0m wandb: Run data is saved locally in ../../../Trainings/wandb/wandb/run-20201215_134635-227hmmmz\n",
      "\u001b[2m\u001b[36m(pid=22786)\u001b[0m wandb: Syncing run Train_3\n",
      "\u001b[2m\u001b[36m(pid=22786)\u001b[0m wandb: ⭐️ View project at http://192.168.8.51:8080/reminiz/Active_Learning_CIFAR\n",
      "\u001b[2m\u001b[36m(pid=22786)\u001b[0m wandb: 🚀 View run at http://192.168.8.51:8080/reminiz/Active_Learning_CIFAR/runs/227hmmmz\n",
      "\u001b[2m\u001b[36m(pid=22786)\u001b[0m wandb: Run `wandb off` to turn off syncing.\n",
      "\u001b[2m\u001b[36m(pid=22786)\u001b[0m \n",
      "\u001b[2m\u001b[36m(pid=22786)\u001b[0m WARNING:tensorflow:From /home/reminiz/ReminizML2/python_env/lib/python3.7/site-packages/tensorflow/python/ops/resource_variable_ops.py:435: colocate_with (from tensorflow.python.framework.ops) is deprecated and will be removed in a future version.\n",
      "\u001b[2m\u001b[36m(pid=22786)\u001b[0m Instructions for updating:\n",
      "\u001b[2m\u001b[36m(pid=22786)\u001b[0m Colocations handled automatically by placer.\n"
     ]
    },
    {
     "name": "stdout",
     "output_type": "stream",
     "text": [
      "\u001b[2m\u001b[36m(pid=22786)\u001b[0m \u001b[1;36mTrain_Stage_3\u001b[0;0m Loading weigths from:  /mnt/Ressources/Andres/Temp_active/runs/Active_Learning_keras_v0/Stage_2/checkpoints/checkpoint.200.hdf5\n",
      "\u001b[2m\u001b[36m(pid=22786)\u001b[0m \u001b[1;36mTrain_Stage_3\u001b[0;0m The detected epoch is:  200\n"
     ]
    },
    {
     "name": "stderr",
     "output_type": "stream",
     "text": [
      "\u001b[2m\u001b[36m(pid=22786)\u001b[0m WARNING:tensorflow:Output \"Embedding\" missing from loss dictionary. We assume this was done on purpose. The fit and evaluate APIs will not be expecting any data to be passed to \"Embedding\".\n",
      "\u001b[2m\u001b[36m(pid=22786)\u001b[0m WARNING:tensorflow:Output \"Embedding\" missing from loss dictionary. We assume this was done on purpose. The fit and evaluate APIs will not be expecting any data to be passed to \"Embedding\".\n"
     ]
    },
    {
     "name": "stdout",
     "output_type": "stream",
     "text": [
      "\u001b[2m\u001b[36m(pid=22786)\u001b[0m \u001b[1;36mTrain_Stage_3\u001b[0;0m Init done\n",
      "\u001b[2m\u001b[36m(pid=22786)\u001b[0m \u001b[1;36mTrain_Stage_3\u001b[0;0m Start training\n"
     ]
    },
    {
     "name": "stderr",
     "output_type": "stream",
     "text": [
      "\u001b[2m\u001b[36m(pid=22786)\u001b[0m 2020-12-15 14:46:43,394\tINFO worker.py:634 -- Connecting to existing Ray cluster at address: 192.168.8.51:6379\n",
      "\u001b[2m\u001b[36m(pid=22786)\u001b[0m 2020-12-15 14:46:43,394\tERROR worker.py:643 -- Calling ray.init() again after it has already been called.\n",
      "\u001b[2m\u001b[36m(pid=22786)\u001b[0m WARNING:tensorflow:From /home/reminiz/ReminizML2/python_env/lib/python3.7/site-packages/tensorflow/python/ops/math_ops.py:3066: to_int32 (from tensorflow.python.ops.math_ops) is deprecated and will be removed in a future version.\n",
      "\u001b[2m\u001b[36m(pid=22786)\u001b[0m Instructions for updating:\n",
      "\u001b[2m\u001b[36m(pid=22786)\u001b[0m Use tf.cast instead.\n",
      "\u001b[2m\u001b[36m(pid=22786)\u001b[0m 2020-12-15 14:46:55.026388: I tensorflow/stream_executor/dso_loader.cc:152] successfully opened CUDA library libcublas.so.10.0 locally\n"
     ]
    },
    {
     "name": "stdout",
     "output_type": "stream",
     "text": [
      "\u001b[2m\u001b[36m(pid=22786)\u001b[0m Change to split learning\n",
      "\u001b[2m\u001b[36m(pid=22786)\u001b[0m Previus weigths 1.0 0\n",
      "\u001b[2m\u001b[36m(pid=22786)\u001b[0m Updated weigths 0 1.0\n"
     ]
    },
    {
     "name": "stderr",
     "output_type": "stream",
     "text": [
      "\u001b[2m\u001b[36m(pid=2312, ip=192.168.8.55)\u001b[0m wandb: Program ended successfully.\n",
      "\u001b[2m\u001b[36m(pid=2312, ip=192.168.8.55)\u001b[0m wandb: Syncing files in ../../../Trainings/wandb/wandb/run-20201215_131259-3e78ncce:\n",
      "\u001b[2m\u001b[36m(pid=2312, ip=192.168.8.55)\u001b[0m wandb:   code/default_worker.py\n",
      "\u001b[2m\u001b[36m(pid=2312, ip=192.168.8.55)\u001b[0m wandb:   events.out.tfevents.1608037995.father5\n",
      "\u001b[2m\u001b[36m(pid=2312, ip=192.168.8.55)\u001b[0m wandb: plus 7 W&B file(s) and 0 media file(s)\n",
      "\u001b[2m\u001b[36m(pid=2312, ip=192.168.8.55)\u001b[0m wandb: - 232.30MB of 232.33MB uploaded\n",
      "\u001b[2m\u001b[36m(pid=2312, ip=192.168.8.55)\u001b[0m wandb: \\ 232.31MB of 232.33MB uploaded\n",
      "\u001b[2m\u001b[36m(pid=2312, ip=192.168.8.55)\u001b[0m wandb: | 232.33MB of 232.33MB uploaded\n",
      "\u001b[2m\u001b[36m(pid=2312, ip=192.168.8.55)\u001b[0m wandb: / 232.33MB of 232.33MB uploaded\n",
      "\u001b[2m\u001b[36m(pid=2312, ip=192.168.8.55)\u001b[0m wandb: - 232.33MB of 232.33MB uploaded\n",
      "\u001b[2m\u001b[36m(pid=2312, ip=192.168.8.55)\u001b[0m wandb: \\ 9.85MB of 232.33MB uploaded\n",
      "\u001b[2m\u001b[36m(pid=2312, ip=192.168.8.55)\u001b[0m wandb: | 38.00MB of 232.33MB uploaded\n",
      "\u001b[2m\u001b[36m(pid=2312, ip=192.168.8.55)\u001b[0m wandb: / 65.83MB of 232.33MB uploaded\n",
      "\u001b[2m\u001b[36m(pid=2312, ip=192.168.8.55)\u001b[0m wandb: - 92.80MB of 232.33MB uploaded\n",
      "\u001b[2m\u001b[36m(pid=2312, ip=192.168.8.55)\u001b[0m wandb: \\ 121.15MB of 232.33MB uploaded\n",
      "\u001b[2m\u001b[36m(pid=2312, ip=192.168.8.55)\u001b[0m wandb: | 148.73MB of 232.33MB uploaded\n",
      "\u001b[2m\u001b[36m(pid=2312, ip=192.168.8.55)\u001b[0m wandb: / 176.76MB of 232.33MB uploaded\n",
      "\u001b[2m\u001b[36m(pid=2312, ip=192.168.8.55)\u001b[0m wandb: - 204.61MB of 232.33MB uploaded\n",
      "\u001b[2m\u001b[36m(pid=2312, ip=192.168.8.55)\u001b[0m wandb: \\ 231.94MB of 232.33MB uploaded\n",
      "\u001b[2m\u001b[36m(pid=2312, ip=192.168.8.55)\u001b[0m wandb: | 232.33MB of 232.33MB uploaded\n",
      "\u001b[2m\u001b[36m(pid=2312, ip=192.168.8.55)\u001b[0m wandb: / 232.33MB of 232.33MB uploaded\n",
      "\u001b[2m\u001b[36m(pid=2312, ip=192.168.8.55)\u001b[0m wandb: - 232.33MB of 232.33MB uploaded\n",
      "\u001b[2m\u001b[36m(pid=2312, ip=192.168.8.55)\u001b[0m wandb: \\ 232.33MB of 232.33MB uploaded\n",
      "wandb:                                                                                \n",
      "\u001b[2m\u001b[36m(pid=2312, ip=192.168.8.55)\u001b[0m wandb: Synced peach-thunder-226: http://192.168.8.51:8080/reminiz/AudioSet/runs/3e78ncce\n",
      "\u001b[2m\u001b[36m(pid=8544, ip=192.168.8.54)\u001b[0m /home/reminiz/ReminizML2/python_env/lib/python3.7/site-packages/tensorflow/python/framework/dtypes.py:526: FutureWarning: Passing (type, 1) or '1type' as a synonym of type is deprecated; in a future version of numpy, it will be understood as (type, (1,)) / '(1,)type'.\n",
      "\u001b[2m\u001b[36m(pid=8544, ip=192.168.8.54)\u001b[0m   _np_qint8 = np.dtype([(\"qint8\", np.int8, 1)])\n",
      "\u001b[2m\u001b[36m(pid=8544, ip=192.168.8.54)\u001b[0m /home/reminiz/ReminizML2/python_env/lib/python3.7/site-packages/tensorflow/python/framework/dtypes.py:527: FutureWarning: Passing (type, 1) or '1type' as a synonym of type is deprecated; in a future version of numpy, it will be understood as (type, (1,)) / '(1,)type'.\n",
      "\u001b[2m\u001b[36m(pid=8544, ip=192.168.8.54)\u001b[0m   _np_quint8 = np.dtype([(\"quint8\", np.uint8, 1)])\n",
      "\u001b[2m\u001b[36m(pid=8544, ip=192.168.8.54)\u001b[0m /home/reminiz/ReminizML2/python_env/lib/python3.7/site-packages/tensorflow/python/framework/dtypes.py:528: FutureWarning: Passing (type, 1) or '1type' as a synonym of type is deprecated; in a future version of numpy, it will be understood as (type, (1,)) / '(1,)type'.\n",
      "\u001b[2m\u001b[36m(pid=8544, ip=192.168.8.54)\u001b[0m   _np_qint16 = np.dtype([(\"qint16\", np.int16, 1)])\n",
      "\u001b[2m\u001b[36m(pid=8544, ip=192.168.8.54)\u001b[0m /home/reminiz/ReminizML2/python_env/lib/python3.7/site-packages/tensorflow/python/framework/dtypes.py:529: FutureWarning: Passing (type, 1) or '1type' as a synonym of type is deprecated; in a future version of numpy, it will be understood as (type, (1,)) / '(1,)type'.\n",
      "\u001b[2m\u001b[36m(pid=8544, ip=192.168.8.54)\u001b[0m   _np_quint16 = np.dtype([(\"quint16\", np.uint16, 1)])\n",
      "\u001b[2m\u001b[36m(pid=8544, ip=192.168.8.54)\u001b[0m /home/reminiz/ReminizML2/python_env/lib/python3.7/site-packages/tensorflow/python/framework/dtypes.py:530: FutureWarning: Passing (type, 1) or '1type' as a synonym of type is deprecated; in a future version of numpy, it will be understood as (type, (1,)) / '(1,)type'.\n",
      "\u001b[2m\u001b[36m(pid=8544, ip=192.168.8.54)\u001b[0m   _np_qint32 = np.dtype([(\"qint32\", np.int32, 1)])\n",
      "\u001b[2m\u001b[36m(pid=8544, ip=192.168.8.54)\u001b[0m /home/reminiz/ReminizML2/python_env/lib/python3.7/site-packages/tensorflow/python/framework/dtypes.py:535: FutureWarning: Passing (type, 1) or '1type' as a synonym of type is deprecated; in a future version of numpy, it will be understood as (type, (1,)) / '(1,)type'.\n",
      "\u001b[2m\u001b[36m(pid=8544, ip=192.168.8.54)\u001b[0m   np_resource = np.dtype([(\"resource\", np.ubyte, 1)])\n",
      "\u001b[2m\u001b[36m(pid=30502, ip=192.168.8.53)\u001b[0m /home/reminiz/ReminizML2/python_env/lib/python3.7/site-packages/tensorflow/python/framework/dtypes.py:526: FutureWarning: Passing (type, 1) or '1type' as a synonym of type is deprecated; in a future version of numpy, it will be understood as (type, (1,)) / '(1,)type'.\n",
      "\u001b[2m\u001b[36m(pid=30502, ip=192.168.8.53)\u001b[0m   _np_qint8 = np.dtype([(\"qint8\", np.int8, 1)])\n",
      "\u001b[2m\u001b[36m(pid=30502, ip=192.168.8.53)\u001b[0m /home/reminiz/ReminizML2/python_env/lib/python3.7/site-packages/tensorflow/python/framework/dtypes.py:527: FutureWarning: Passing (type, 1) or '1type' as a synonym of type is deprecated; in a future version of numpy, it will be understood as (type, (1,)) / '(1,)type'.\n",
      "\u001b[2m\u001b[36m(pid=30502, ip=192.168.8.53)\u001b[0m   _np_quint8 = np.dtype([(\"quint8\", np.uint8, 1)])\n",
      "\u001b[2m\u001b[36m(pid=30502, ip=192.168.8.53)\u001b[0m /home/reminiz/ReminizML2/python_env/lib/python3.7/site-packages/tensorflow/python/framework/dtypes.py:528: FutureWarning: Passing (type, 1) or '1type' as a synonym of type is deprecated; in a future version of numpy, it will be understood as (type, (1,)) / '(1,)type'.\n",
      "\u001b[2m\u001b[36m(pid=30502, ip=192.168.8.53)\u001b[0m   _np_qint16 = np.dtype([(\"qint16\", np.int16, 1)])\n",
      "\u001b[2m\u001b[36m(pid=30502, ip=192.168.8.53)\u001b[0m /home/reminiz/ReminizML2/python_env/lib/python3.7/site-packages/tensorflow/python/framework/dtypes.py:529: FutureWarning: Passing (type, 1) or '1type' as a synonym of type is deprecated; in a future version of numpy, it will be understood as (type, (1,)) / '(1,)type'.\n",
      "\u001b[2m\u001b[36m(pid=30502, ip=192.168.8.53)\u001b[0m   _np_quint16 = np.dtype([(\"quint16\", np.uint16, 1)])\n",
      "\u001b[2m\u001b[36m(pid=30502, ip=192.168.8.53)\u001b[0m /home/reminiz/ReminizML2/python_env/lib/python3.7/site-packages/tensorflow/python/framework/dtypes.py:530: FutureWarning: Passing (type, 1) or '1type' as a synonym of type is deprecated; in a future version of numpy, it will be understood as (type, (1,)) / '(1,)type'.\n",
      "\u001b[2m\u001b[36m(pid=30502, ip=192.168.8.53)\u001b[0m   _np_qint32 = np.dtype([(\"qint32\", np.int32, 1)])\n",
      "\u001b[2m\u001b[36m(pid=30502, ip=192.168.8.53)\u001b[0m /home/reminiz/ReminizML2/python_env/lib/python3.7/site-packages/tensorflow/python/framework/dtypes.py:535: FutureWarning: Passing (type, 1) or '1type' as a synonym of type is deprecated; in a future version of numpy, it will be understood as (type, (1,)) / '(1,)type'.\n",
      "\u001b[2m\u001b[36m(pid=30502, ip=192.168.8.53)\u001b[0m   np_resource = np.dtype([(\"resource\", np.ubyte, 1)])\n",
      "\u001b[2m\u001b[36m(pid=22786)\u001b[0m \n",
      "\u001b[2m\u001b[36m(pid=22786)\u001b[0m wandb: Waiting for W&B process to finish, PID 25734\n",
      "\u001b[2m\u001b[36m(pid=22786)\u001b[0m wandb: Program ended successfully.\n",
      "\u001b[2m\u001b[36m(pid=16048, ip=192.168.8.52)\u001b[0m /home/reminiz/ReminizML2/python_env/lib/python3.7/site-packages/tensorflow/python/framework/dtypes.py:526: FutureWarning: Passing (type, 1) or '1type' as a synonym of type is deprecated; in a future version of numpy, it will be understood as (type, (1,)) / '(1,)type'.\n",
      "\u001b[2m\u001b[36m(pid=16048, ip=192.168.8.52)\u001b[0m   _np_qint8 = np.dtype([(\"qint8\", np.int8, 1)])\n",
      "\u001b[2m\u001b[36m(pid=16048, ip=192.168.8.52)\u001b[0m /home/reminiz/ReminizML2/python_env/lib/python3.7/site-packages/tensorflow/python/framework/dtypes.py:527: FutureWarning: Passing (type, 1) or '1type' as a synonym of type is deprecated; in a future version of numpy, it will be understood as (type, (1,)) / '(1,)type'.\n",
      "\u001b[2m\u001b[36m(pid=16048, ip=192.168.8.52)\u001b[0m   _np_quint8 = np.dtype([(\"quint8\", np.uint8, 1)])\n",
      "\u001b[2m\u001b[36m(pid=16048, ip=192.168.8.52)\u001b[0m /home/reminiz/ReminizML2/python_env/lib/python3.7/site-packages/tensorflow/python/framework/dtypes.py:528: FutureWarning: Passing (type, 1) or '1type' as a synonym of type is deprecated; in a future version of numpy, it will be understood as (type, (1,)) / '(1,)type'.\n",
      "\u001b[2m\u001b[36m(pid=16048, ip=192.168.8.52)\u001b[0m   _np_qint16 = np.dtype([(\"qint16\", np.int16, 1)])\n",
      "\u001b[2m\u001b[36m(pid=16048, ip=192.168.8.52)\u001b[0m /home/reminiz/ReminizML2/python_env/lib/python3.7/site-packages/tensorflow/python/framework/dtypes.py:529: FutureWarning: Passing (type, 1) or '1type' as a synonym of type is deprecated; in a future version of numpy, it will be understood as (type, (1,)) / '(1,)type'.\n",
      "\u001b[2m\u001b[36m(pid=16048, ip=192.168.8.52)\u001b[0m   _np_quint16 = np.dtype([(\"quint16\", np.uint16, 1)])\n",
      "\u001b[2m\u001b[36m(pid=16048, ip=192.168.8.52)\u001b[0m /home/reminiz/ReminizML2/python_env/lib/python3.7/site-packages/tensorflow/python/framework/dtypes.py:530: FutureWarning: Passing (type, 1) or '1type' as a synonym of type is deprecated; in a future version of numpy, it will be understood as (type, (1,)) / '(1,)type'.\n",
      "\u001b[2m\u001b[36m(pid=16048, ip=192.168.8.52)\u001b[0m   _np_qint32 = np.dtype([(\"qint32\", np.int32, 1)])\n",
      "\u001b[2m\u001b[36m(pid=16048, ip=192.168.8.52)\u001b[0m /home/reminiz/ReminizML2/python_env/lib/python3.7/site-packages/tensorflow/python/framework/dtypes.py:535: FutureWarning: Passing (type, 1) or '1type' as a synonym of type is deprecated; in a future version of numpy, it will be understood as (type, (1,)) / '(1,)type'.\n",
      "\u001b[2m\u001b[36m(pid=16048, ip=192.168.8.52)\u001b[0m   np_resource = np.dtype([(\"resource\", np.ubyte, 1)])\n",
      "\u001b[2m\u001b[36m(pid=16048, ip=192.168.8.52)\u001b[0m 2020-12-15 14:56:36.334203: I tensorflow/core/platform/cpu_feature_guard.cc:141] Your CPU supports instructions that this TensorFlow binary was not compiled to use: AVX2 FMA\n",
      "\u001b[2m\u001b[36m(pid=16048, ip=192.168.8.52)\u001b[0m 2020-12-15 14:56:36.364338: I tensorflow/core/platform/profile_utils/cpu_utils.cc:94] CPU Frequency: 3300050000 Hz\n",
      "\u001b[2m\u001b[36m(pid=16048, ip=192.168.8.52)\u001b[0m 2020-12-15 14:56:36.365432: I tensorflow/compiler/xla/service/service.cc:150] XLA service 0x5118bb0 executing computations on platform Host. Devices:\n",
      "\u001b[2m\u001b[36m(pid=16048, ip=192.168.8.52)\u001b[0m 2020-12-15 14:56:36.365480: I tensorflow/compiler/xla/service/service.cc:158]   StreamExecutor device (0): <undefined>, <undefined>\n",
      "\u001b[2m\u001b[36m(pid=16048, ip=192.168.8.52)\u001b[0m 2020-12-15 14:56:36.642466: I tensorflow/compiler/xla/service/service.cc:150] XLA service 0x5154e70 executing computations on platform CUDA. Devices:\n",
      "\u001b[2m\u001b[36m(pid=16048, ip=192.168.8.52)\u001b[0m 2020-12-15 14:56:36.642527: I tensorflow/compiler/xla/service/service.cc:158]   StreamExecutor device (0): TITAN RTX, Compute Capability 7.5\n",
      "\u001b[2m\u001b[36m(pid=16048, ip=192.168.8.52)\u001b[0m 2020-12-15 14:56:36.642769: I tensorflow/core/common_runtime/gpu/gpu_device.cc:1433] Found device 0 with properties: \n",
      "\u001b[2m\u001b[36m(pid=16048, ip=192.168.8.52)\u001b[0m name: TITAN RTX major: 7 minor: 5 memoryClockRate(GHz): 1.77\n",
      "\u001b[2m\u001b[36m(pid=16048, ip=192.168.8.52)\u001b[0m pciBusID: 0000:04:00.0\n",
      "\u001b[2m\u001b[36m(pid=16048, ip=192.168.8.52)\u001b[0m totalMemory: 23.65GiB freeMemory: 23.48GiB\n",
      "\u001b[2m\u001b[36m(pid=16048, ip=192.168.8.52)\u001b[0m 2020-12-15 14:56:36.642802: I tensorflow/core/common_runtime/gpu/gpu_device.cc:1512] Adding visible gpu devices: 0\n",
      "\u001b[2m\u001b[36m(pid=16048, ip=192.168.8.52)\u001b[0m 2020-12-15 14:56:36.647103: I tensorflow/core/common_runtime/gpu/gpu_device.cc:984] Device interconnect StreamExecutor with strength 1 edge matrix:\n",
      "\u001b[2m\u001b[36m(pid=16048, ip=192.168.8.52)\u001b[0m 2020-12-15 14:56:36.647152: I tensorflow/core/common_runtime/gpu/gpu_device.cc:990]      0 \n",
      "\u001b[2m\u001b[36m(pid=16048, ip=192.168.8.52)\u001b[0m 2020-12-15 14:56:36.647168: I tensorflow/core/common_runtime/gpu/gpu_device.cc:1003] 0:   N \n",
      "\u001b[2m\u001b[36m(pid=16048, ip=192.168.8.52)\u001b[0m 2020-12-15 14:56:36.647341: I tensorflow/core/common_runtime/gpu/gpu_device.cc:1115] Created TensorFlow device (/job:localhost/replica:0/task:0/device:GPU:0 with 22843 MB memory) -> physical GPU (device: 0, name: TITAN RTX, pci bus id: 0000:04:00.0, compute capability: 7.5)\n",
      "\u001b[2m\u001b[36m(pid=16048, ip=192.168.8.52)\u001b[0m /home/reminiz/ReminizML2/python_env/lib/python3.7/site-packages/tensorboard/compat/tensorflow_stub/dtypes.py:541: FutureWarning: Passing (type, 1) or '1type' as a synonym of type is deprecated; in a future version of numpy, it will be understood as (type, (1,)) / '(1,)type'.\n",
      "\u001b[2m\u001b[36m(pid=16048, ip=192.168.8.52)\u001b[0m   _np_qint8 = np.dtype([(\"qint8\", np.int8, 1)])\n",
      "\u001b[2m\u001b[36m(pid=16048, ip=192.168.8.52)\u001b[0m /home/reminiz/ReminizML2/python_env/lib/python3.7/site-packages/tensorboard/compat/tensorflow_stub/dtypes.py:542: FutureWarning: Passing (type, 1) or '1type' as a synonym of type is deprecated; in a future version of numpy, it will be understood as (type, (1,)) / '(1,)type'.\n",
      "\u001b[2m\u001b[36m(pid=16048, ip=192.168.8.52)\u001b[0m   _np_quint8 = np.dtype([(\"quint8\", np.uint8, 1)])\n",
      "\u001b[2m\u001b[36m(pid=16048, ip=192.168.8.52)\u001b[0m /home/reminiz/ReminizML2/python_env/lib/python3.7/site-packages/tensorboard/compat/tensorflow_stub/dtypes.py:543: FutureWarning: Passing (type, 1) or '1type' as a synonym of type is deprecated; in a future version of numpy, it will be understood as (type, (1,)) / '(1,)type'.\n",
      "\u001b[2m\u001b[36m(pid=16048, ip=192.168.8.52)\u001b[0m   _np_qint16 = np.dtype([(\"qint16\", np.int16, 1)])\n",
      "\u001b[2m\u001b[36m(pid=16048, ip=192.168.8.52)\u001b[0m /home/reminiz/ReminizML2/python_env/lib/python3.7/site-packages/tensorboard/compat/tensorflow_stub/dtypes.py:544: FutureWarning: Passing (type, 1) or '1type' as a synonym of type is deprecated; in a future version of numpy, it will be understood as (type, (1,)) / '(1,)type'.\n",
      "\u001b[2m\u001b[36m(pid=16048, ip=192.168.8.52)\u001b[0m   _np_quint16 = np.dtype([(\"quint16\", np.uint16, 1)])\n",
      "\u001b[2m\u001b[36m(pid=16048, ip=192.168.8.52)\u001b[0m /home/reminiz/ReminizML2/python_env/lib/python3.7/site-packages/tensorboard/compat/tensorflow_stub/dtypes.py:545: FutureWarning: Passing (type, 1) or '1type' as a synonym of type is deprecated; in a future version of numpy, it will be understood as (type, (1,)) / '(1,)type'.\n",
      "\u001b[2m\u001b[36m(pid=16048, ip=192.168.8.52)\u001b[0m   _np_qint32 = np.dtype([(\"qint32\", np.int32, 1)])\n",
      "\u001b[2m\u001b[36m(pid=16048, ip=192.168.8.52)\u001b[0m /home/reminiz/ReminizML2/python_env/lib/python3.7/site-packages/tensorboard/compat/tensorflow_stub/dtypes.py:550: FutureWarning: Passing (type, 1) or '1type' as a synonym of type is deprecated; in a future version of numpy, it will be understood as (type, (1,)) / '(1,)type'.\n",
      "\u001b[2m\u001b[36m(pid=16048, ip=192.168.8.52)\u001b[0m   np_resource = np.dtype([(\"resource\", np.ubyte, 1)])\n",
      "\u001b[2m\u001b[36m(pid=16048, ip=192.168.8.52)\u001b[0m wandb: Tracking run with wandb version 0.8.36\n",
      "\u001b[2m\u001b[36m(pid=16048, ip=192.168.8.52)\u001b[0m wandb: Wandb version 0.10.12 is available!  To upgrade, please run:\n",
      "\u001b[2m\u001b[36m(pid=16048, ip=192.168.8.52)\u001b[0m wandb:  $ pip install wandb --upgrade\n",
      "\u001b[2m\u001b[36m(pid=16048, ip=192.168.8.52)\u001b[0m wandb: Run data is saved locally in ../../../Trainings/wandb/wandb/run-20201215_135636-3djtnzvn\n",
      "\u001b[2m\u001b[36m(pid=16048, ip=192.168.8.52)\u001b[0m wandb: Syncing run Train_4\n",
      "\u001b[2m\u001b[36m(pid=16048, ip=192.168.8.52)\u001b[0m wandb: ⭐️ View project at http://192.168.8.51:8080/reminiz/Active_Learning_CIFAR\n",
      "\u001b[2m\u001b[36m(pid=16048, ip=192.168.8.52)\u001b[0m wandb: 🚀 View run at http://192.168.8.51:8080/reminiz/Active_Learning_CIFAR/runs/3djtnzvn\n",
      "\u001b[2m\u001b[36m(pid=16048, ip=192.168.8.52)\u001b[0m wandb: Run `wandb off` to turn off syncing.\n",
      "\u001b[2m\u001b[36m(pid=22786)\u001b[0m wandb: Run summary:\n",
      "\u001b[2m\u001b[36m(pid=22786)\u001b[0m wandb:                             _step 199\n",
      "\u001b[2m\u001b[36m(pid=22786)\u001b[0m wandb:                             epoch 199\n",
      "\u001b[2m\u001b[36m(pid=22786)\u001b[0m wandb:              l_pred_w_MAE_Lossnet 6.986319541931152\n",
      "\u001b[2m\u001b[36m(pid=22786)\u001b[0m wandb:   Classifier_categorical_accuracy 0.9980000257492065\n",
      "\u001b[2m\u001b[36m(pid=22786)\u001b[0m wandb:                          _runtime 591.6692595481873\n",
      "\u001b[2m\u001b[36m(pid=22786)\u001b[0m wandb:                     l_pred_s_loss 0.05266568064689636\n",
      "\u001b[2m\u001b[36m(pid=22786)\u001b[0m wandb:                     l_pred_w_loss 0.05266568064689636\n",
      "\u001b[2m\u001b[36m(pid=22786)\u001b[0m wandb:              l_pred_s_MAE_Lossnet 6.986319541931152\n",
      "\u001b[2m\u001b[36m(pid=22786)\u001b[0m wandb:                              loss 0.06262018755171447\n",
      "\u001b[2m\u001b[36m(pid=22786)\u001b[0m wandb:                   Classifier_loss 0.008690538816154003\n",
      "\u001b[2m\u001b[36m(pid=22786)\u001b[0m wandb:                        _timestamp 1608040586.3836145\n",
      "\u001b[2m\u001b[36m(pid=22786)\u001b[0m wandb: Syncing files in ../../../Trainings/wandb/wandb/run-20201215_134635-227hmmmz:\n",
      "\u001b[2m\u001b[36m(pid=22786)\u001b[0m wandb:   code/default_worker.py\n",
      "\u001b[2m\u001b[36m(pid=22786)\u001b[0m wandb: plus 8 W&B file(s) and 1 media file(s)\n",
      "\u001b[2m\u001b[36m(pid=22786)\u001b[0m wandb: - 0.07MB of 0.07MB uploaded\n",
      "\u001b[2m\u001b[36m(pid=16048, ip=192.168.8.52)\u001b[0m \n",
      "\u001b[2m\u001b[36m(pid=22786)\u001b[0m wandb: \\ 0.07MB of 0.07MB uploaded\n",
      "\u001b[2m\u001b[36m(pid=22786)\u001b[0m wandb: | 0.07MB of 0.07MB uploaded\n",
      "\u001b[2m\u001b[36m(pid=22786)\u001b[0m wandb: / 0.07MB of 0.07MB uploaded\n",
      "wandb:                                                                                \n",
      "\u001b[2m\u001b[36m(pid=22786)\u001b[0m wandb: Synced Train_3: http://192.168.8.51:8080/reminiz/Active_Learning_CIFAR/runs/227hmmmz\n",
      "\u001b[2m\u001b[36m(pid=16048, ip=192.168.8.52)\u001b[0m WARNING:tensorflow:From /home/reminiz/ReminizML2/python_env/lib/python3.7/site-packages/tensorflow/python/ops/resource_variable_ops.py:435: colocate_with (from tensorflow.python.framework.ops) is deprecated and will be removed in a future version.\n",
      "\u001b[2m\u001b[36m(pid=16048, ip=192.168.8.52)\u001b[0m Instructions for updating:\n",
      "\u001b[2m\u001b[36m(pid=16048, ip=192.168.8.52)\u001b[0m Colocations handled automatically by placer.\n"
     ]
    },
    {
     "name": "stdout",
     "output_type": "stream",
     "text": [
      "\u001b[2m\u001b[36m(pid=16048, ip=192.168.8.52)\u001b[0m \u001b[1;36mTrain_Stage_4\u001b[0;0m Loading weigths from:  /mnt/Ressources/Andres/Temp_active/runs/Active_Learning_keras_v0/Stage_3/checkpoints/checkpoint.200.hdf5\n",
      "\u001b[2m\u001b[36m(pid=16048, ip=192.168.8.52)\u001b[0m \u001b[1;36mTrain_Stage_4\u001b[0;0m The detected epoch is:  200\n"
     ]
    },
    {
     "name": "stderr",
     "output_type": "stream",
     "text": [
      "\u001b[2m\u001b[36m(pid=16048, ip=192.168.8.52)\u001b[0m WARNING:tensorflow:Output \"Embedding\" missing from loss dictionary. We assume this was done on purpose. The fit and evaluate APIs will not be expecting any data to be passed to \"Embedding\".\n",
      "\u001b[2m\u001b[36m(pid=16048, ip=192.168.8.52)\u001b[0m WARNING:tensorflow:Output \"Embedding\" missing from loss dictionary. We assume this was done on purpose. The fit and evaluate APIs will not be expecting any data to be passed to \"Embedding\".\n"
     ]
    },
    {
     "name": "stdout",
     "output_type": "stream",
     "text": [
      "\u001b[2m\u001b[36m(pid=16048, ip=192.168.8.52)\u001b[0m \u001b[1;36mTrain_Stage_4\u001b[0;0m Init done\n",
      "\u001b[2m\u001b[36m(pid=16048, ip=192.168.8.52)\u001b[0m \u001b[1;36mTrain_Stage_4\u001b[0;0m Start training\n"
     ]
    },
    {
     "name": "stderr",
     "output_type": "stream",
     "text": [
      "\u001b[2m\u001b[36m(pid=16048, ip=192.168.8.52)\u001b[0m 2020-12-15 14:56:42,964\tINFO worker.py:634 -- Connecting to existing Ray cluster at address: 192.168.8.51:6379\n",
      "\u001b[2m\u001b[36m(pid=16048, ip=192.168.8.52)\u001b[0m 2020-12-15 14:56:42,964\tERROR worker.py:643 -- Calling ray.init() again after it has already been called.\n",
      "\u001b[2m\u001b[36m(pid=16048, ip=192.168.8.52)\u001b[0m WARNING:tensorflow:From /home/reminiz/ReminizML2/python_env/lib/python3.7/site-packages/tensorflow/python/ops/math_ops.py:3066: to_int32 (from tensorflow.python.ops.math_ops) is deprecated and will be removed in a future version.\n",
      "\u001b[2m\u001b[36m(pid=16048, ip=192.168.8.52)\u001b[0m Instructions for updating:\n",
      "\u001b[2m\u001b[36m(pid=16048, ip=192.168.8.52)\u001b[0m Use tf.cast instead.\n",
      "\u001b[2m\u001b[36m(pid=16048, ip=192.168.8.52)\u001b[0m 2020-12-15 14:56:55.952459: I tensorflow/stream_executor/dso_loader.cc:152] successfully opened CUDA library libcublas.so.10.0 locally\n",
      "\u001b[2m\u001b[36m(pid=12774, ip=192.168.8.52)\u001b[0m 2020-12-15 15:00:50.453365: W tensorflow/core/framework/op_kernel.cc:1389] Unknown: IndexError: index 90 is out of bounds for axis 1 with size 52\n",
      "\u001b[2m\u001b[36m(pid=12774, ip=192.168.8.52)\u001b[0m Traceback (most recent call last):\n",
      "\u001b[2m\u001b[36m(pid=12774, ip=192.168.8.52)\u001b[0m \n",
      "\u001b[2m\u001b[36m(pid=12774, ip=192.168.8.52)\u001b[0m   File \"/home/reminiz/ReminizML2/python_env/lib/python3.7/site-packages/tensorflow/python/ops/script_ops.py\", line 207, in __call__\n",
      "\u001b[2m\u001b[36m(pid=12774, ip=192.168.8.52)\u001b[0m     ret = func(*args)\n",
      "\u001b[2m\u001b[36m(pid=12774, ip=192.168.8.52)\u001b[0m \n",
      "\u001b[2m\u001b[36m(pid=12774, ip=192.168.8.52)\u001b[0m   File \"/mnt/Ressources/Quentin/Detection/core/dataset.py\", line 91, in get_image_bbox\n",
      "\u001b[2m\u001b[36m(pid=12774, ip=192.168.8.52)\u001b[0m     label_sbbox, label_mbbox, label_lbbox, sbboxes, mbboxes, lbboxes = self.preprocess_true_boxes(bboxes)\n",
      "\u001b[2m\u001b[36m(pid=12774, ip=192.168.8.52)\u001b[0m \n",
      "\u001b[2m\u001b[36m(pid=12774, ip=192.168.8.52)\u001b[0m   File \"/mnt/Ressources/Quentin/Detection/core/dataset.py\", line 370, in preprocess_true_boxes\n",
      "\u001b[2m\u001b[36m(pid=12774, ip=192.168.8.52)\u001b[0m     label[best_detect][yind, xind, best_anchor, :] = 0\n",
      "\u001b[2m\u001b[36m(pid=12774, ip=192.168.8.52)\u001b[0m \n",
      "\u001b[2m\u001b[36m(pid=12774, ip=192.168.8.52)\u001b[0m IndexError: index 90 is out of bounds for axis 1 with size 52\n",
      "\u001b[2m\u001b[36m(pid=12774, ip=192.168.8.52)\u001b[0m \n",
      "\u001b[2m\u001b[36m(pid=12774, ip=192.168.8.52)\u001b[0m \n"
     ]
    },
    {
     "name": "stdout",
     "output_type": "stream",
     "text": [
      "\u001b[2m\u001b[36m(pid=16048, ip=192.168.8.52)\u001b[0m Change to split learning\n",
      "\u001b[2m\u001b[36m(pid=16048, ip=192.168.8.52)\u001b[0m Previus weigths 1.0 0\n",
      "\u001b[2m\u001b[36m(pid=16048, ip=192.168.8.52)\u001b[0m Updated weigths 0 1.0\n",
      "\u001b[2m\u001b[36m(pid=12774, ip=192.168.8.52)\u001b[0m Epoch: 45 Time: 2020-12-15 15:08:34 Train loss: 1.43 Count NaN: 0 Saving\n"
     ]
    },
    {
     "name": "stderr",
     "output_type": "stream",
     "text": [
      "\u001b[2m\u001b[36m(pid=16048, ip=192.168.8.52)\u001b[0m \n",
      "\u001b[2m\u001b[36m(pid=16048, ip=192.168.8.52)\u001b[0m wandb: Waiting for W&B process to finish, PID 21430\n",
      "\u001b[2m\u001b[36m(pid=16048, ip=192.168.8.52)\u001b[0m wandb: Program ended successfully.\n",
      "\u001b[2m\u001b[36m(pid=8801, ip=192.168.8.54)\u001b[0m /home/reminiz/ReminizML2/python_env/lib/python3.7/site-packages/tensorflow/python/framework/dtypes.py:526: FutureWarning: Passing (type, 1) or '1type' as a synonym of type is deprecated; in a future version of numpy, it will be understood as (type, (1,)) / '(1,)type'.\n",
      "\u001b[2m\u001b[36m(pid=8801, ip=192.168.8.54)\u001b[0m   _np_qint8 = np.dtype([(\"qint8\", np.int8, 1)])\n",
      "\u001b[2m\u001b[36m(pid=8801, ip=192.168.8.54)\u001b[0m /home/reminiz/ReminizML2/python_env/lib/python3.7/site-packages/tensorflow/python/framework/dtypes.py:527: FutureWarning: Passing (type, 1) or '1type' as a synonym of type is deprecated; in a future version of numpy, it will be understood as (type, (1,)) / '(1,)type'.\n",
      "\u001b[2m\u001b[36m(pid=8801, ip=192.168.8.54)\u001b[0m   _np_quint8 = np.dtype([(\"quint8\", np.uint8, 1)])\n",
      "\u001b[2m\u001b[36m(pid=8801, ip=192.168.8.54)\u001b[0m /home/reminiz/ReminizML2/python_env/lib/python3.7/site-packages/tensorflow/python/framework/dtypes.py:528: FutureWarning: Passing (type, 1) or '1type' as a synonym of type is deprecated; in a future version of numpy, it will be understood as (type, (1,)) / '(1,)type'.\n",
      "\u001b[2m\u001b[36m(pid=8801, ip=192.168.8.54)\u001b[0m   _np_qint16 = np.dtype([(\"qint16\", np.int16, 1)])\n",
      "\u001b[2m\u001b[36m(pid=8801, ip=192.168.8.54)\u001b[0m /home/reminiz/ReminizML2/python_env/lib/python3.7/site-packages/tensorflow/python/framework/dtypes.py:529: FutureWarning: Passing (type, 1) or '1type' as a synonym of type is deprecated; in a future version of numpy, it will be understood as (type, (1,)) / '(1,)type'.\n",
      "\u001b[2m\u001b[36m(pid=8801, ip=192.168.8.54)\u001b[0m   _np_quint16 = np.dtype([(\"quint16\", np.uint16, 1)])\n",
      "\u001b[2m\u001b[36m(pid=8801, ip=192.168.8.54)\u001b[0m /home/reminiz/ReminizML2/python_env/lib/python3.7/site-packages/tensorflow/python/framework/dtypes.py:530: FutureWarning: Passing (type, 1) or '1type' as a synonym of type is deprecated; in a future version of numpy, it will be understood as (type, (1,)) / '(1,)type'.\n",
      "\u001b[2m\u001b[36m(pid=8801, ip=192.168.8.54)\u001b[0m   _np_qint32 = np.dtype([(\"qint32\", np.int32, 1)])\n",
      "\u001b[2m\u001b[36m(pid=8801, ip=192.168.8.54)\u001b[0m /home/reminiz/ReminizML2/python_env/lib/python3.7/site-packages/tensorflow/python/framework/dtypes.py:535: FutureWarning: Passing (type, 1) or '1type' as a synonym of type is deprecated; in a future version of numpy, it will be understood as (type, (1,)) / '(1,)type'.\n",
      "\u001b[2m\u001b[36m(pid=8801, ip=192.168.8.54)\u001b[0m   np_resource = np.dtype([(\"resource\", np.ubyte, 1)])\n",
      "\u001b[2m\u001b[36m(pid=16048, ip=192.168.8.52)\u001b[0m wandb: Run summary:\n",
      "\u001b[2m\u001b[36m(pid=16048, ip=192.168.8.52)\u001b[0m wandb:              l_pred_s_MAE_Lossnet 7.353528022766113\n",
      "\u001b[2m\u001b[36m(pid=16048, ip=192.168.8.52)\u001b[0m wandb:                   Classifier_loss 0.006626594346016645\n",
      "\u001b[2m\u001b[36m(pid=16048, ip=192.168.8.52)\u001b[0m wandb:                          _runtime 717.0468859672546\n",
      "\u001b[2m\u001b[36m(pid=16048, ip=192.168.8.52)\u001b[0m wandb:                              loss 0.055017085319757464\n",
      "\u001b[2m\u001b[36m(pid=16048, ip=192.168.8.52)\u001b[0m wandb:                             _step 199\n",
      "\u001b[2m\u001b[36m(pid=16048, ip=192.168.8.52)\u001b[0m wandb:              l_pred_w_MAE_Lossnet 7.353528022766113\n",
      "\u001b[2m\u001b[36m(pid=16048, ip=192.168.8.52)\u001b[0m wandb:   Classifier_categorical_accuracy 0.9980000257492065\n",
      "\u001b[2m\u001b[36m(pid=16048, ip=192.168.8.52)\u001b[0m wandb:                        _timestamp 1608041313.202887\n",
      "\u001b[2m\u001b[36m(pid=16048, ip=192.168.8.52)\u001b[0m wandb:                     l_pred_s_loss 0.04846905916929245\n",
      "\u001b[2m\u001b[36m(pid=16048, ip=192.168.8.52)\u001b[0m wandb:                     l_pred_w_loss 0.04846905916929245\n",
      "\u001b[2m\u001b[36m(pid=16048, ip=192.168.8.52)\u001b[0m wandb:                             epoch 199\n",
      "\u001b[2m\u001b[36m(pid=16048, ip=192.168.8.52)\u001b[0m wandb: Syncing files in ../../../Trainings/wandb/wandb/run-20201215_135636-3djtnzvn:\n",
      "\u001b[2m\u001b[36m(pid=16048, ip=192.168.8.52)\u001b[0m wandb:   code/default_worker.py\n",
      "\u001b[2m\u001b[36m(pid=16048, ip=192.168.8.52)\u001b[0m wandb: plus 8 W&B file(s) and 1 media file(s)\n",
      "\u001b[2m\u001b[36m(pid=16048, ip=192.168.8.52)\u001b[0m wandb: - 0.07MB of 0.07MB uploaded\n",
      "\u001b[2m\u001b[36m(pid=16048, ip=192.168.8.52)\u001b[0m wandb: \\ 0.07MB of 0.07MB uploaded\n",
      "\u001b[2m\u001b[36m(pid=16048, ip=192.168.8.52)\u001b[0m wandb: | 0.07MB of 0.07MB uploaded\n",
      "\u001b[2m\u001b[36m(pid=16048, ip=192.168.8.52)\u001b[0m wandb: / 0.07MB of 0.07MB uploaded\n",
      "\u001b[2m\u001b[36m(pid=8801, ip=192.168.8.54)\u001b[0m 2020-12-15 15:08:38.745767: I tensorflow/core/platform/cpu_feature_guard.cc:141] Your CPU supports instructions that this TensorFlow binary was not compiled to use: AVX2 FMA\n",
      "\u001b[2m\u001b[36m(pid=8801, ip=192.168.8.54)\u001b[0m 2020-12-15 15:08:38.774312: I tensorflow/core/platform/profile_utils/cpu_utils.cc:94] CPU Frequency: 3300095000 Hz\n",
      "\u001b[2m\u001b[36m(pid=8801, ip=192.168.8.54)\u001b[0m 2020-12-15 15:08:38.775296: I tensorflow/compiler/xla/service/service.cc:150] XLA service 0x5946ae0 executing computations on platform Host. Devices:\n",
      "\u001b[2m\u001b[36m(pid=8801, ip=192.168.8.54)\u001b[0m 2020-12-15 15:08:38.775341: I tensorflow/compiler/xla/service/service.cc:158]   StreamExecutor device (0): <undefined>, <undefined>\n",
      "wandb:                                                                                \n",
      "\u001b[2m\u001b[36m(pid=16048, ip=192.168.8.52)\u001b[0m wandb: Synced Train_4: http://192.168.8.51:8080/reminiz/Active_Learning_CIFAR/runs/3djtnzvn\n",
      "\u001b[2m\u001b[36m(pid=8801, ip=192.168.8.54)\u001b[0m 2020-12-15 15:08:38.862162: I tensorflow/compiler/xla/service/service.cc:150] XLA service 0x5982da0 executing computations on platform CUDA. Devices:\n",
      "\u001b[2m\u001b[36m(pid=8801, ip=192.168.8.54)\u001b[0m 2020-12-15 15:08:38.862193: I tensorflow/compiler/xla/service/service.cc:158]   StreamExecutor device (0): GeForce GTX TITAN X, Compute Capability 5.2\n",
      "\u001b[2m\u001b[36m(pid=8801, ip=192.168.8.54)\u001b[0m 2020-12-15 15:08:38.862299: I tensorflow/core/common_runtime/gpu/gpu_device.cc:1433] Found device 0 with properties: \n",
      "\u001b[2m\u001b[36m(pid=8801, ip=192.168.8.54)\u001b[0m name: GeForce GTX TITAN X major: 5 minor: 2 memoryClockRate(GHz): 1.076\n",
      "\u001b[2m\u001b[36m(pid=8801, ip=192.168.8.54)\u001b[0m pciBusID: 0000:4c:00.0\n",
      "\u001b[2m\u001b[36m(pid=8801, ip=192.168.8.54)\u001b[0m totalMemory: 11.92GiB freeMemory: 11.82GiB\n",
      "\u001b[2m\u001b[36m(pid=8801, ip=192.168.8.54)\u001b[0m 2020-12-15 15:08:38.862314: I tensorflow/core/common_runtime/gpu/gpu_device.cc:1512] Adding visible gpu devices: 0\n",
      "\u001b[2m\u001b[36m(pid=8801, ip=192.168.8.54)\u001b[0m 2020-12-15 15:08:38.863352: I tensorflow/core/common_runtime/gpu/gpu_device.cc:984] Device interconnect StreamExecutor with strength 1 edge matrix:\n",
      "\u001b[2m\u001b[36m(pid=8801, ip=192.168.8.54)\u001b[0m 2020-12-15 15:08:38.863365: I tensorflow/core/common_runtime/gpu/gpu_device.cc:990]      0 \n",
      "\u001b[2m\u001b[36m(pid=8801, ip=192.168.8.54)\u001b[0m 2020-12-15 15:08:38.863371: I tensorflow/core/common_runtime/gpu/gpu_device.cc:1003] 0:   N \n",
      "\u001b[2m\u001b[36m(pid=8801, ip=192.168.8.54)\u001b[0m 2020-12-15 15:08:38.863432: I tensorflow/core/common_runtime/gpu/gpu_device.cc:1115] Created TensorFlow device (/job:localhost/replica:0/task:0/device:GPU:0 with 11496 MB memory) -> physical GPU (device: 0, name: GeForce GTX TITAN X, pci bus id: 0000:4c:00.0, compute capability: 5.2)\n",
      "\u001b[2m\u001b[36m(pid=8801, ip=192.168.8.54)\u001b[0m /home/reminiz/ReminizML2/python_env/lib/python3.7/site-packages/tensorboard/compat/tensorflow_stub/dtypes.py:541: FutureWarning: Passing (type, 1) or '1type' as a synonym of type is deprecated; in a future version of numpy, it will be understood as (type, (1,)) / '(1,)type'.\n",
      "\u001b[2m\u001b[36m(pid=8801, ip=192.168.8.54)\u001b[0m   _np_qint8 = np.dtype([(\"qint8\", np.int8, 1)])\n",
      "\u001b[2m\u001b[36m(pid=8801, ip=192.168.8.54)\u001b[0m /home/reminiz/ReminizML2/python_env/lib/python3.7/site-packages/tensorboard/compat/tensorflow_stub/dtypes.py:542: FutureWarning: Passing (type, 1) or '1type' as a synonym of type is deprecated; in a future version of numpy, it will be understood as (type, (1,)) / '(1,)type'.\n",
      "\u001b[2m\u001b[36m(pid=8801, ip=192.168.8.54)\u001b[0m   _np_quint8 = np.dtype([(\"quint8\", np.uint8, 1)])\n",
      "\u001b[2m\u001b[36m(pid=8801, ip=192.168.8.54)\u001b[0m /home/reminiz/ReminizML2/python_env/lib/python3.7/site-packages/tensorboard/compat/tensorflow_stub/dtypes.py:543: FutureWarning: Passing (type, 1) or '1type' as a synonym of type is deprecated; in a future version of numpy, it will be understood as (type, (1,)) / '(1,)type'.\n",
      "\u001b[2m\u001b[36m(pid=8801, ip=192.168.8.54)\u001b[0m   _np_qint16 = np.dtype([(\"qint16\", np.int16, 1)])\n",
      "\u001b[2m\u001b[36m(pid=8801, ip=192.168.8.54)\u001b[0m /home/reminiz/ReminizML2/python_env/lib/python3.7/site-packages/tensorboard/compat/tensorflow_stub/dtypes.py:544: FutureWarning: Passing (type, 1) or '1type' as a synonym of type is deprecated; in a future version of numpy, it will be understood as (type, (1,)) / '(1,)type'.\n",
      "\u001b[2m\u001b[36m(pid=8801, ip=192.168.8.54)\u001b[0m   _np_quint16 = np.dtype([(\"quint16\", np.uint16, 1)])\n",
      "\u001b[2m\u001b[36m(pid=8801, ip=192.168.8.54)\u001b[0m /home/reminiz/ReminizML2/python_env/lib/python3.7/site-packages/tensorboard/compat/tensorflow_stub/dtypes.py:545: FutureWarning: Passing (type, 1) or '1type' as a synonym of type is deprecated; in a future version of numpy, it will be understood as (type, (1,)) / '(1,)type'.\n",
      "\u001b[2m\u001b[36m(pid=8801, ip=192.168.8.54)\u001b[0m   _np_qint32 = np.dtype([(\"qint32\", np.int32, 1)])\n",
      "\u001b[2m\u001b[36m(pid=8801, ip=192.168.8.54)\u001b[0m /home/reminiz/ReminizML2/python_env/lib/python3.7/site-packages/tensorboard/compat/tensorflow_stub/dtypes.py:550: FutureWarning: Passing (type, 1) or '1type' as a synonym of type is deprecated; in a future version of numpy, it will be understood as (type, (1,)) / '(1,)type'.\n",
      "\u001b[2m\u001b[36m(pid=8801, ip=192.168.8.54)\u001b[0m   np_resource = np.dtype([(\"resource\", np.ubyte, 1)])\n",
      "\u001b[2m\u001b[36m(pid=8801, ip=192.168.8.54)\u001b[0m wandb: Tracking run with wandb version 0.8.36\n",
      "\u001b[2m\u001b[36m(pid=8801, ip=192.168.8.54)\u001b[0m wandb: Wandb version 0.10.12 is available!  To upgrade, please run:\n",
      "\u001b[2m\u001b[36m(pid=8801, ip=192.168.8.54)\u001b[0m wandb:  $ pip install wandb --upgrade\n",
      "\u001b[2m\u001b[36m(pid=8801, ip=192.168.8.54)\u001b[0m wandb: Run data is saved locally in ../../../Trainings/wandb/wandb/run-20201215_140838-2r0vnu7j\n",
      "\u001b[2m\u001b[36m(pid=8801, ip=192.168.8.54)\u001b[0m wandb: Syncing run Train_5\n",
      "\u001b[2m\u001b[36m(pid=8801, ip=192.168.8.54)\u001b[0m wandb: ⭐️ View project at http://192.168.8.51:8080/reminiz/Active_Learning_CIFAR\n",
      "\u001b[2m\u001b[36m(pid=8801, ip=192.168.8.54)\u001b[0m wandb: 🚀 View run at http://192.168.8.51:8080/reminiz/Active_Learning_CIFAR/runs/2r0vnu7j\n",
      "\u001b[2m\u001b[36m(pid=8801, ip=192.168.8.54)\u001b[0m wandb: Run `wandb off` to turn off syncing.\n",
      "\u001b[2m\u001b[36m(pid=8801, ip=192.168.8.54)\u001b[0m \n",
      "\u001b[2m\u001b[36m(pid=8801, ip=192.168.8.54)\u001b[0m WARNING:tensorflow:From /home/reminiz/ReminizML2/python_env/lib/python3.7/site-packages/tensorflow/python/ops/resource_variable_ops.py:435: colocate_with (from tensorflow.python.framework.ops) is deprecated and will be removed in a future version.\n",
      "\u001b[2m\u001b[36m(pid=8801, ip=192.168.8.54)\u001b[0m Instructions for updating:\n",
      "\u001b[2m\u001b[36m(pid=8801, ip=192.168.8.54)\u001b[0m Colocations handled automatically by placer.\n",
      "\u001b[2m\u001b[36m(pid=20175, ip=192.168.8.53)\u001b[0m /home/reminiz/ReminizML2/python_env/lib/python3.7/site-packages/tensorflow/python/framework/dtypes.py:526: FutureWarning: Passing (type, 1) or '1type' as a synonym of type is deprecated; in a future version of numpy, it will be understood as (type, (1,)) / '(1,)type'.\n",
      "\u001b[2m\u001b[36m(pid=20175, ip=192.168.8.53)\u001b[0m   _np_qint8 = np.dtype([(\"qint8\", np.int8, 1)])\n",
      "\u001b[2m\u001b[36m(pid=20175, ip=192.168.8.53)\u001b[0m /home/reminiz/ReminizML2/python_env/lib/python3.7/site-packages/tensorflow/python/framework/dtypes.py:527: FutureWarning: Passing (type, 1) or '1type' as a synonym of type is deprecated; in a future version of numpy, it will be understood as (type, (1,)) / '(1,)type'.\n",
      "\u001b[2m\u001b[36m(pid=20175, ip=192.168.8.53)\u001b[0m   _np_quint8 = np.dtype([(\"quint8\", np.uint8, 1)])\n",
      "\u001b[2m\u001b[36m(pid=20175, ip=192.168.8.53)\u001b[0m /home/reminiz/ReminizML2/python_env/lib/python3.7/site-packages/tensorflow/python/framework/dtypes.py:528: FutureWarning: Passing (type, 1) or '1type' as a synonym of type is deprecated; in a future version of numpy, it will be understood as (type, (1,)) / '(1,)type'.\n",
      "\u001b[2m\u001b[36m(pid=20175, ip=192.168.8.53)\u001b[0m   _np_qint16 = np.dtype([(\"qint16\", np.int16, 1)])\n",
      "\u001b[2m\u001b[36m(pid=20175, ip=192.168.8.53)\u001b[0m /home/reminiz/ReminizML2/python_env/lib/python3.7/site-packages/tensorflow/python/framework/dtypes.py:529: FutureWarning: Passing (type, 1) or '1type' as a synonym of type is deprecated; in a future version of numpy, it will be understood as (type, (1,)) / '(1,)type'.\n",
      "\u001b[2m\u001b[36m(pid=20175, ip=192.168.8.53)\u001b[0m   _np_quint16 = np.dtype([(\"quint16\", np.uint16, 1)])\n",
      "\u001b[2m\u001b[36m(pid=20175, ip=192.168.8.53)\u001b[0m /home/reminiz/ReminizML2/python_env/lib/python3.7/site-packages/tensorflow/python/framework/dtypes.py:530: FutureWarning: Passing (type, 1) or '1type' as a synonym of type is deprecated; in a future version of numpy, it will be understood as (type, (1,)) / '(1,)type'.\n",
      "\u001b[2m\u001b[36m(pid=20175, ip=192.168.8.53)\u001b[0m   _np_qint32 = np.dtype([(\"qint32\", np.int32, 1)])\n",
      "\u001b[2m\u001b[36m(pid=20175, ip=192.168.8.53)\u001b[0m /home/reminiz/ReminizML2/python_env/lib/python3.7/site-packages/tensorflow/python/framework/dtypes.py:535: FutureWarning: Passing (type, 1) or '1type' as a synonym of type is deprecated; in a future version of numpy, it will be understood as (type, (1,)) / '(1,)type'.\n",
      "\u001b[2m\u001b[36m(pid=20175, ip=192.168.8.53)\u001b[0m   np_resource = np.dtype([(\"resource\", np.ubyte, 1)])\n"
     ]
    },
    {
     "name": "stdout",
     "output_type": "stream",
     "text": [
      "\u001b[2m\u001b[36m(pid=8801, ip=192.168.8.54)\u001b[0m \u001b[1;36mTrain_Stage_5\u001b[0;0m Loading weigths from:  /mnt/Ressources/Andres/Temp_active/runs/Active_Learning_keras_v0/Stage_4/checkpoints/checkpoint.200.hdf5\n",
      "\u001b[2m\u001b[36m(pid=8801, ip=192.168.8.54)\u001b[0m \u001b[1;36mTrain_Stage_5\u001b[0;0m The detected epoch is:  200\n"
     ]
    },
    {
     "name": "stderr",
     "output_type": "stream",
     "text": [
      "\u001b[2m\u001b[36m(pid=8801, ip=192.168.8.54)\u001b[0m WARNING:tensorflow:Output \"Embedding\" missing from loss dictionary. We assume this was done on purpose. The fit and evaluate APIs will not be expecting any data to be passed to \"Embedding\".\n",
      "\u001b[2m\u001b[36m(pid=8801, ip=192.168.8.54)\u001b[0m WARNING:tensorflow:Output \"Embedding\" missing from loss dictionary. We assume this was done on purpose. The fit and evaluate APIs will not be expecting any data to be passed to \"Embedding\".\n",
      "\u001b[2m\u001b[36m(pid=20175, ip=192.168.8.53)\u001b[0m wandb: Tracking run with wandb version 0.8.36\n",
      "\u001b[2m\u001b[36m(pid=8801, ip=192.168.8.54)\u001b[0m 2020-12-15 15:08:53,018\tINFO worker.py:634 -- Connecting to existing Ray cluster at address: 192.168.8.51:6379\n",
      "\u001b[2m\u001b[36m(pid=8801, ip=192.168.8.54)\u001b[0m 2020-12-15 15:08:53,018\tERROR worker.py:643 -- Calling ray.init() again after it has already been called.\n",
      "\u001b[2m\u001b[36m(pid=8801, ip=192.168.8.54)\u001b[0m WARNING:tensorflow:From /home/reminiz/ReminizML2/python_env/lib/python3.7/site-packages/tensorflow/python/ops/math_ops.py:3066: to_int32 (from tensorflow.python.ops.math_ops) is deprecated and will be removed in a future version.\n",
      "\u001b[2m\u001b[36m(pid=8801, ip=192.168.8.54)\u001b[0m Instructions for updating:\n",
      "\u001b[2m\u001b[36m(pid=8801, ip=192.168.8.54)\u001b[0m Use tf.cast instead.\n",
      "\u001b[2m\u001b[36m(pid=20175, ip=192.168.8.53)\u001b[0m wandb: Wandb version 0.10.12 is available!  To upgrade, please run:\n",
      "\u001b[2m\u001b[36m(pid=20175, ip=192.168.8.53)\u001b[0m wandb:  $ pip install wandb --upgrade\n",
      "\u001b[2m\u001b[36m(pid=20175, ip=192.168.8.53)\u001b[0m wandb: Run data is saved locally in ../../../Trainings/wandb/wandb/run-20201215_140852-2wfg5hig\n"
     ]
    },
    {
     "name": "stdout",
     "output_type": "stream",
     "text": [
      "\u001b[2m\u001b[36m(pid=8801, ip=192.168.8.54)\u001b[0m \u001b[1;36mTrain_Stage_5\u001b[0;0m Init done\n",
      "\u001b[2m\u001b[36m(pid=8801, ip=192.168.8.54)\u001b[0m \u001b[1;36mTrain_Stage_5\u001b[0;0m Start training\n"
     ]
    },
    {
     "name": "stderr",
     "output_type": "stream",
     "text": [
      "\u001b[2m\u001b[36m(pid=20175, ip=192.168.8.53)\u001b[0m wandb: Syncing run 2wfg5hig\n",
      "\u001b[2m\u001b[36m(pid=20175, ip=192.168.8.53)\u001b[0m wandb: ⭐️ View project at http://192.168.8.51:8080/reminiz/Violence%20Detection\n",
      "\u001b[2m\u001b[36m(pid=20175, ip=192.168.8.53)\u001b[0m wandb: 🚀 View run at http://192.168.8.51:8080/reminiz/Violence%20Detection/runs/2wfg5hig\n",
      "\u001b[2m\u001b[36m(pid=20175, ip=192.168.8.53)\u001b[0m wandb: Run `wandb off` to turn off syncing.\n",
      "\u001b[2m\u001b[36m(pid=20175, ip=192.168.8.53)\u001b[0m \n",
      "\u001b[2m\u001b[36m(pid=20175, ip=192.168.8.53)\u001b[0m WARNING:tensorflow:From /home/reminiz/ReminizML2/python_env/lib/python3.7/site-packages/tensorflow/python/framework/op_def_library.py:263: colocate_with (from tensorflow.python.framework.ops) is deprecated and will be removed in a future version.\n",
      "\u001b[2m\u001b[36m(pid=20175, ip=192.168.8.53)\u001b[0m Instructions for updating:\n",
      "\u001b[2m\u001b[36m(pid=20175, ip=192.168.8.53)\u001b[0m Colocations handled automatically by placer.\n",
      "\u001b[2m\u001b[36m(pid=20175, ip=192.168.8.53)\u001b[0m WARNING:tensorflow:From /mnt/Ressources/Quentin/Detection/core/common.py:25: batch_normalization (from tensorflow.python.layers.normalization) is deprecated and will be removed in a future version.\n",
      "\u001b[2m\u001b[36m(pid=20175, ip=192.168.8.53)\u001b[0m Instructions for updating:\n",
      "\u001b[2m\u001b[36m(pid=20175, ip=192.168.8.53)\u001b[0m Use keras.layers.batch_normalization instead.\n"
     ]
    },
    {
     "name": "stdout",
     "output_type": "stream",
     "text": [
      "\u001b[2m\u001b[36m(pid=20175, ip=192.168.8.53)\u001b[0m {0: 'FIREARMS', 1: 'COLDARMS'}\n"
     ]
    },
    {
     "name": "stderr",
     "output_type": "stream",
     "text": [
      "\u001b[2m\u001b[36m(pid=20175, ip=192.168.8.53)\u001b[0m 2020-12-15 15:08:56.690891: I tensorflow/core/platform/cpu_feature_guard.cc:141] Your CPU supports instructions that this TensorFlow binary was not compiled to use: AVX2 FMA\n",
      "\u001b[2m\u001b[36m(pid=20175, ip=192.168.8.53)\u001b[0m 2020-12-15 15:08:56.713122: I tensorflow/core/platform/profile_utils/cpu_utils.cc:94] CPU Frequency: 3499950000 Hz\n",
      "\u001b[2m\u001b[36m(pid=20175, ip=192.168.8.53)\u001b[0m 2020-12-15 15:08:56.713981: I tensorflow/compiler/xla/service/service.cc:150] XLA service 0x55d7d658d380 executing computations on platform Host. Devices:\n",
      "\u001b[2m\u001b[36m(pid=20175, ip=192.168.8.53)\u001b[0m 2020-12-15 15:08:56.714022: I tensorflow/compiler/xla/service/service.cc:158]   StreamExecutor device (0): <undefined>, <undefined>\n",
      "\u001b[2m\u001b[36m(pid=20175, ip=192.168.8.53)\u001b[0m 2020-12-15 15:08:56.843269: I tensorflow/compiler/xla/service/service.cc:150] XLA service 0x55d7d2b4ea40 executing computations on platform CUDA. Devices:\n",
      "\u001b[2m\u001b[36m(pid=20175, ip=192.168.8.53)\u001b[0m 2020-12-15 15:08:56.843298: I tensorflow/compiler/xla/service/service.cc:158]   StreamExecutor device (0): GeForce GTX TITAN X, Compute Capability 5.2\n",
      "\u001b[2m\u001b[36m(pid=20175, ip=192.168.8.53)\u001b[0m 2020-12-15 15:08:56.843417: I tensorflow/core/common_runtime/gpu/gpu_device.cc:1433] Found device 0 with properties: \n",
      "\u001b[2m\u001b[36m(pid=20175, ip=192.168.8.53)\u001b[0m name: GeForce GTX TITAN X major: 5 minor: 2 memoryClockRate(GHz): 1.076\n",
      "\u001b[2m\u001b[36m(pid=20175, ip=192.168.8.53)\u001b[0m pciBusID: 0000:02:00.0\n",
      "\u001b[2m\u001b[36m(pid=20175, ip=192.168.8.53)\u001b[0m totalMemory: 11.93GiB freeMemory: 11.82GiB\n",
      "\u001b[2m\u001b[36m(pid=20175, ip=192.168.8.53)\u001b[0m 2020-12-15 15:08:56.843434: I tensorflow/core/common_runtime/gpu/gpu_device.cc:1512] Adding visible gpu devices: 0\n",
      "\u001b[2m\u001b[36m(pid=20175, ip=192.168.8.53)\u001b[0m 2020-12-15 15:08:56.844703: I tensorflow/core/common_runtime/gpu/gpu_device.cc:984] Device interconnect StreamExecutor with strength 1 edge matrix:\n",
      "\u001b[2m\u001b[36m(pid=20175, ip=192.168.8.53)\u001b[0m 2020-12-15 15:08:56.844718: I tensorflow/core/common_runtime/gpu/gpu_device.cc:990]      0 \n",
      "\u001b[2m\u001b[36m(pid=20175, ip=192.168.8.53)\u001b[0m 2020-12-15 15:08:56.844724: I tensorflow/core/common_runtime/gpu/gpu_device.cc:1003] 0:   N \n",
      "\u001b[2m\u001b[36m(pid=20175, ip=192.168.8.53)\u001b[0m 2020-12-15 15:08:56.844788: I tensorflow/core/common_runtime/gpu/gpu_device.cc:1115] Created TensorFlow device (/job:localhost/replica:0/task:0/device:GPU:0 with 11496 MB memory) -> physical GPU (device: 0, name: GeForce GTX TITAN X, pci bus id: 0000:02:00.0, compute capability: 5.2)\n",
      "\u001b[2m\u001b[36m(pid=20175, ip=192.168.8.53)\u001b[0m WARNING:tensorflow:From /home/reminiz/ReminizML2/python_env/lib/python3.7/site-packages/tensorflow/python/training/saver.py:1266: checkpoint_exists (from tensorflow.python.training.checkpoint_management) is deprecated and will be removed in a future version.\n",
      "\u001b[2m\u001b[36m(pid=20175, ip=192.168.8.53)\u001b[0m Instructions for updating:\n",
      "\u001b[2m\u001b[36m(pid=20175, ip=192.168.8.53)\u001b[0m Use standard file APIs to check for files with this prefix.\n"
     ]
    },
    {
     "name": "stdout",
     "output_type": "stream",
     "text": [
      "\u001b[2m\u001b[36m(pid=20175, ip=192.168.8.53)\u001b[0m Restoring from /mnt/Trainings/models/violence_detection_weapons_0/checkpoint/epoch45.ckpt-45\n"
     ]
    },
    {
     "name": "stderr",
     "output_type": "stream",
     "text": [
      "  0% 0/100 [00:00<?, ?it/s]E1215 15:09:01.114003 20175 20184 task_manager.cc:323] Task failed: IOError: cancelling all pending tasks of dead actor: Type=ACTOR_TASK, Language=PYTHON, Resources: {}, function_descriptor={type=PythonFunctionDescriptor, module_name=AutoML.datanode, class_name=DataNode, function_name=get_image, function_hash=}, task_id=5bd8c3604e7a546d02fe305401000000, task_name=DataNode.get_image(), job_id=01000000, num_args=6, num_returns=2, actor_task_spec={actor_id=02fe305401000000, actor_caller_id=ffffffffffffffff24b58be90c000000, actor_counter=0}\n"
     ]
    },
    {
     "name": "stdout",
     "output_type": "stream",
     "text": [
      "\u001b[2m\u001b[36m(pid=20175, ip=192.168.8.53)\u001b[0m Cache disk full, cleaning.\n"
     ]
    },
    {
     "name": "stderr",
     "output_type": "stream",
     "text": [
      "  1% 1/100 [00:02<04:32,  2.76s/it]3)\u001b[0m \n"
     ]
    },
    {
     "name": "stdout",
     "output_type": "stream",
     "text": [
      "\u001b[2m\u001b[36m(pid=20175, ip=192.168.8.53)\u001b[0m Cache disk full, cleaning.\n",
      "\u001b[2m\u001b[36m(pid=20175, ip=192.168.8.53)\u001b[0m Cache disk full, cleaning.\n"
     ]
    },
    {
     "name": "stderr",
     "output_type": "stream",
     "text": [
      "  2% 2/100 [00:03<03:28,  2.13s/it]3)\u001b[0m \n",
      "  3% 3/100 [00:03<02:30,  1.55s/it]3)\u001b[0m \n"
     ]
    },
    {
     "name": "stdout",
     "output_type": "stream",
     "text": [
      "\u001b[2m\u001b[36m(pid=20175, ip=192.168.8.53)\u001b[0m Cache disk full, cleaning.\n",
      "\u001b[2m\u001b[36m(pid=20175, ip=192.168.8.53)\u001b[0m Cache disk full, cleaning.\n",
      "\u001b[2m\u001b[36m(pid=20175, ip=192.168.8.53)\u001b[0m Cache disk full, cleaning.\n"
     ]
    },
    {
     "name": "stderr",
     "output_type": "stream",
     "text": [
      "  4% 4/100 [00:03<01:52,  1.17s/it]3)\u001b[0m \n",
      "  6% 6/100 [00:04<01:19,  1.19it/s]3)\u001b[0m \n"
     ]
    },
    {
     "name": "stdout",
     "output_type": "stream",
     "text": [
      "\u001b[2m\u001b[36m(pid=20175, ip=192.168.8.53)\u001b[0m Cache disk full, cleaning.\n",
      "\u001b[2m\u001b[36m(pid=20175, ip=192.168.8.53)\u001b[0m Cache disk full, cleaning.\n",
      "\u001b[2m\u001b[36m(pid=20175, ip=192.168.8.53)\u001b[0m Cache disk full, cleaning.\n"
     ]
    },
    {
     "name": "stderr",
     "output_type": "stream",
     "text": [
      "  7% 7/100 [00:04<01:03,  1.47it/s]3)\u001b[0m \n",
      "  8% 8/100 [00:04<00:47,  1.95it/s]3)\u001b[0m \n"
     ]
    },
    {
     "name": "stdout",
     "output_type": "stream",
     "text": [
      "\u001b[2m\u001b[36m(pid=20175, ip=192.168.8.53)\u001b[0m Cache disk full, cleaning.\n"
     ]
    },
    {
     "name": "stderr",
     "output_type": "stream",
     "text": [
      " 10% 10/100 [00:04<00:35,  2.55it/s])\u001b[0m \n"
     ]
    },
    {
     "name": "stdout",
     "output_type": "stream",
     "text": [
      "\u001b[2m\u001b[36m(pid=20175, ip=192.168.8.53)\u001b[0m Cache disk full, cleaning.\n",
      "\u001b[2m\u001b[36m(pid=20175, ip=192.168.8.53)\u001b[0m Cache disk full, cleaning.\n"
     ]
    },
    {
     "name": "stderr",
     "output_type": "stream",
     "text": [
      " 11% 11/100 [00:04<00:29,  3.02it/s])\u001b[0m \n"
     ]
    },
    {
     "name": "stdout",
     "output_type": "stream",
     "text": [
      "\u001b[2m\u001b[36m(pid=20175, ip=192.168.8.53)\u001b[0m Cache disk full, cleaning.\n"
     ]
    },
    {
     "name": "stderr",
     "output_type": "stream",
     "text": [
      " 13% 13/100 [00:05<00:31,  2.80it/s])\u001b[0m \n"
     ]
    },
    {
     "name": "stdout",
     "output_type": "stream",
     "text": [
      "\u001b[2m\u001b[36m(pid=20175, ip=192.168.8.53)\u001b[0m Cache disk full, cleaning.\n"
     ]
    },
    {
     "name": "stderr",
     "output_type": "stream",
     "text": [
      " 14% 14/100 [00:06<00:43,  1.97it/s])\u001b[0m \n"
     ]
    },
    {
     "name": "stdout",
     "output_type": "stream",
     "text": [
      "\u001b[2m\u001b[36m(pid=20175, ip=192.168.8.53)\u001b[0m Cache disk full, cleaning.\n"
     ]
    },
    {
     "name": "stderr",
     "output_type": "stream",
     "text": [
      " 15% 15/100 [00:06<00:36,  2.32it/s])\u001b[0m \n"
     ]
    },
    {
     "name": "stdout",
     "output_type": "stream",
     "text": [
      "\u001b[2m\u001b[36m(pid=20175, ip=192.168.8.53)\u001b[0m Cache disk full, cleaning.\n",
      "\u001b[2m\u001b[36m(pid=20175, ip=192.168.8.53)\u001b[0m Cache disk full, cleaning.\n"
     ]
    },
    {
     "name": "stderr",
     "output_type": "stream",
     "text": [
      " 16% 16/100 [00:07<00:39,  2.13it/s])\u001b[0m \n",
      " 17% 17/100 [00:07<00:30,  2.70it/s])\u001b[0m \n"
     ]
    },
    {
     "name": "stdout",
     "output_type": "stream",
     "text": [
      "\u001b[2m\u001b[36m(pid=20175, ip=192.168.8.53)\u001b[0m Cache disk full, cleaning.\n",
      "\u001b[2m\u001b[36m(pid=20175, ip=192.168.8.53)\u001b[0m Cache disk full, cleaning.\n"
     ]
    },
    {
     "name": "stderr",
     "output_type": "stream",
     "text": [
      " 18% 18/100 [00:07<00:25,  3.28it/s])\u001b[0m \n",
      " 19% 19/100 [00:07<00:21,  3.81it/s])\u001b[0m \n"
     ]
    },
    {
     "name": "stdout",
     "output_type": "stream",
     "text": [
      "\u001b[2m\u001b[36m(pid=20175, ip=192.168.8.53)\u001b[0m Cache disk full, cleaning.\n",
      "\u001b[2m\u001b[36m(pid=20175, ip=192.168.8.53)\u001b[0m Cache disk full, cleaning.\n"
     ]
    },
    {
     "name": "stderr",
     "output_type": "stream",
     "text": [
      " 20% 20/100 [00:08<00:22,  3.55it/s])\u001b[0m \n",
      " 21% 21/100 [00:08<00:19,  4.02it/s])\u001b[0m \n"
     ]
    },
    {
     "name": "stdout",
     "output_type": "stream",
     "text": [
      "\u001b[2m\u001b[36m(pid=20175, ip=192.168.8.53)\u001b[0m Cache disk full, cleaning.\n"
     ]
    },
    {
     "name": "stderr",
     "output_type": "stream",
     "text": [
      " 22% 22/100 [00:08<00:16,  4.61it/s])\u001b[0m \n"
     ]
    },
    {
     "name": "stdout",
     "output_type": "stream",
     "text": [
      "\u001b[2m\u001b[36m(pid=20175, ip=192.168.8.53)\u001b[0m Cache disk full, cleaning.\n",
      "\u001b[2m\u001b[36m(pid=20175, ip=192.168.8.53)\u001b[0m Cache disk full, cleaning.\n"
     ]
    },
    {
     "name": "stderr",
     "output_type": "stream",
     "text": [
      " 23% 23/100 [00:08<00:16,  4.59it/s])\u001b[0m \n",
      "\u001b[2m\u001b[36m(pid=8801, ip=192.168.8.54)\u001b[0m 2020-12-15 15:09:10.019917: I tensorflow/stream_executor/dso_loader.cc:152] successfully opened CUDA library libcublas.so.10.0 locally\n"
     ]
    },
    {
     "name": "stdout",
     "output_type": "stream",
     "text": [
      "\u001b[2m\u001b[36m(pid=20175, ip=192.168.8.53)\u001b[0m Cache disk full, cleaning.\n"
     ]
    },
    {
     "name": "stderr",
     "output_type": "stream",
     "text": [
      " 25% 25/100 [00:09<00:15,  4.96it/s])\u001b[0m \n"
     ]
    },
    {
     "name": "stdout",
     "output_type": "stream",
     "text": [
      "\u001b[2m\u001b[36m(pid=20175, ip=192.168.8.53)\u001b[0m Cache disk full, cleaning.\n",
      "\u001b[2m\u001b[36m(pid=20175, ip=192.168.8.53)\u001b[0m Cache disk full, cleaning.\n"
     ]
    },
    {
     "name": "stderr",
     "output_type": "stream",
     "text": [
      " 26% 26/100 [00:09<00:17,  4.30it/s])\u001b[0m \n"
     ]
    },
    {
     "name": "stdout",
     "output_type": "stream",
     "text": [
      "\u001b[2m\u001b[36m(pid=20175, ip=192.168.8.53)\u001b[0m Cache disk full, cleaning.\n",
      "\u001b[2m\u001b[36m(pid=20175, ip=192.168.8.53)\u001b[0m Cache disk full, cleaning.\n"
     ]
    },
    {
     "name": "stderr",
     "output_type": "stream",
     "text": [
      " 28% 28/100 [00:09<00:14,  5.01it/s])\u001b[0m \n",
      " 29% 29/100 [00:09<00:12,  5.70it/s])\u001b[0m \n"
     ]
    },
    {
     "name": "stdout",
     "output_type": "stream",
     "text": [
      "\u001b[2m\u001b[36m(pid=20175, ip=192.168.8.53)\u001b[0m Cache disk full, cleaning.\n"
     ]
    },
    {
     "name": "stderr",
     "output_type": "stream",
     "text": [
      " 30% 30/100 [00:09<00:14,  4.92it/s])\u001b[0m \n",
      " 31% 31/100 [00:10<00:13,  5.23it/s])\u001b[0m \n"
     ]
    },
    {
     "name": "stdout",
     "output_type": "stream",
     "text": [
      "\u001b[2m\u001b[36m(pid=20175, ip=192.168.8.53)\u001b[0m Cache disk full, cleaning.\n",
      "\u001b[2m\u001b[36m(pid=20175, ip=192.168.8.53)\u001b[0m Cache disk full, cleaning.\n"
     ]
    },
    {
     "name": "stderr",
     "output_type": "stream",
     "text": [
      " 32% 32/100 [00:10<00:12,  5.36it/s])\u001b[0m \n"
     ]
    },
    {
     "name": "stdout",
     "output_type": "stream",
     "text": [
      "\u001b[2m\u001b[36m(pid=20175, ip=192.168.8.53)\u001b[0m Cache disk full, cleaning.\n",
      "\u001b[2m\u001b[36m(pid=20175, ip=192.168.8.53)\u001b[0m Cache disk full, cleaning.\n"
     ]
    },
    {
     "name": "stderr",
     "output_type": "stream",
     "text": [
      " 33% 33/100 [00:10<00:12,  5.31it/s])\u001b[0m \n"
     ]
    },
    {
     "name": "stdout",
     "output_type": "stream",
     "text": [
      "\u001b[2m\u001b[36m(pid=20175, ip=192.168.8.53)\u001b[0m Cache disk full, cleaning.\n"
     ]
    },
    {
     "name": "stderr",
     "output_type": "stream",
     "text": [
      " 35% 35/100 [00:10<00:12,  5.15it/s])\u001b[0m \n"
     ]
    },
    {
     "name": "stdout",
     "output_type": "stream",
     "text": [
      "\u001b[2m\u001b[36m(pid=20175, ip=192.168.8.53)\u001b[0m Cache disk full, cleaning.\n",
      "\u001b[2m\u001b[36m(pid=20175, ip=192.168.8.53)\u001b[0m Cache disk full, cleaning.\n"
     ]
    },
    {
     "name": "stderr",
     "output_type": "stream",
     "text": [
      " 36% 36/100 [00:11<00:12,  5.12it/s])\u001b[0m \n",
      " 37% 37/100 [00:11<00:11,  5.50it/s])\u001b[0m \n"
     ]
    },
    {
     "name": "stdout",
     "output_type": "stream",
     "text": [
      "\u001b[2m\u001b[36m(pid=20175, ip=192.168.8.53)\u001b[0m Cache disk full, cleaning.\n",
      "\u001b[2m\u001b[36m(pid=20175, ip=192.168.8.53)\u001b[0m Cache disk full, cleaning.\n"
     ]
    },
    {
     "name": "stderr",
     "output_type": "stream",
     "text": [
      " 38% 38/100 [00:11<00:11,  5.60it/s])\u001b[0m \n",
      " 39% 39/100 [00:11<00:10,  5.89it/s])\u001b[0m \n"
     ]
    },
    {
     "name": "stdout",
     "output_type": "stream",
     "text": [
      "\u001b[2m\u001b[36m(pid=20175, ip=192.168.8.53)\u001b[0m Cache disk full, cleaning.\n",
      "\u001b[2m\u001b[36m(pid=20175, ip=192.168.8.53)\u001b[0m Cache disk full, cleaning.\n",
      "\u001b[2m\u001b[36m(pid=20175, ip=192.168.8.53)\u001b[0m Cache disk full, cleaning.\n",
      "\u001b[2m\u001b[36m(pid=20175, ip=192.168.8.53)\u001b[0m Cache disk full, cleaning.\n"
     ]
    },
    {
     "name": "stderr",
     "output_type": "stream",
     "text": [
      " 41% 41/100 [00:12<00:13,  4.46it/s])\u001b[0m \n",
      " 43% 43/100 [00:12<00:10,  5.59it/s])\u001b[0m \n"
     ]
    },
    {
     "name": "stdout",
     "output_type": "stream",
     "text": [
      "\u001b[2m\u001b[36m(pid=20175, ip=192.168.8.53)\u001b[0m Cache disk full, cleaning.\n",
      "\u001b[2m\u001b[36m(pid=20175, ip=192.168.8.53)\u001b[0m Cache disk full, cleaning.\n"
     ]
    },
    {
     "name": "stderr",
     "output_type": "stream",
     "text": [
      " 44% 44/100 [00:12<00:09,  5.80it/s])\u001b[0m \n"
     ]
    },
    {
     "name": "stdout",
     "output_type": "stream",
     "text": [
      "\u001b[2m\u001b[36m(pid=20175, ip=192.168.8.53)\u001b[0m Cache disk full, cleaning.\n"
     ]
    },
    {
     "name": "stderr",
     "output_type": "stream",
     "text": [
      " 46% 46/100 [00:12<00:08,  6.48it/s])\u001b[0m \n"
     ]
    },
    {
     "name": "stdout",
     "output_type": "stream",
     "text": [
      "\u001b[2m\u001b[36m(pid=20175, ip=192.168.8.53)\u001b[0m Cache disk full, cleaning.\n",
      "\u001b[2m\u001b[36m(pid=20175, ip=192.168.8.53)\u001b[0m Cache disk full, cleaning.\n"
     ]
    },
    {
     "name": "stderr",
     "output_type": "stream",
     "text": [
      " 47% 47/100 [00:13<00:09,  5.86it/s])\u001b[0m \n",
      " 48% 48/100 [00:13<00:08,  6.34it/s])\u001b[0m \n"
     ]
    },
    {
     "name": "stdout",
     "output_type": "stream",
     "text": [
      "\u001b[2m\u001b[36m(pid=20175, ip=192.168.8.53)\u001b[0m Cache disk full, cleaning.\n",
      "\u001b[2m\u001b[36m(pid=20175, ip=192.168.8.53)\u001b[0m Cache disk full, cleaning.\n"
     ]
    },
    {
     "name": "stderr",
     "output_type": "stream",
     "text": [
      " 50% 50/100 [00:13<00:07,  6.75it/s])\u001b[0m \n",
      " 51% 51/100 [00:13<00:07,  6.82it/s])\u001b[0m \n"
     ]
    },
    {
     "name": "stdout",
     "output_type": "stream",
     "text": [
      "\u001b[2m\u001b[36m(pid=20175, ip=192.168.8.53)\u001b[0m Cache disk full, cleaning.\n",
      "\u001b[2m\u001b[36m(pid=20175, ip=192.168.8.53)\u001b[0m Cache disk full, cleaning.\n",
      "\u001b[2m\u001b[36m(pid=20175, ip=192.168.8.53)\u001b[0m Cache disk full, cleaning.\n"
     ]
    },
    {
     "name": "stderr",
     "output_type": "stream",
     "text": [
      " 52% 52/100 [00:14<00:17,  2.79it/s])\u001b[0m \n"
     ]
    },
    {
     "name": "stdout",
     "output_type": "stream",
     "text": [
      "\u001b[2m\u001b[36m(pid=20175, ip=192.168.8.53)\u001b[0m Cache disk full, cleaning.\n",
      "\u001b[2m\u001b[36m(pid=20175, ip=192.168.8.53)\u001b[0m Cache disk full, cleaning.\n"
     ]
    },
    {
     "name": "stderr",
     "output_type": "stream",
     "text": [
      " 54% 54/100 [00:14<00:12,  3.56it/s])\u001b[0m \n",
      " 55% 55/100 [00:14<00:11,  3.92it/s])\u001b[0m \n"
     ]
    },
    {
     "name": "stdout",
     "output_type": "stream",
     "text": [
      "\u001b[2m\u001b[36m(pid=20175, ip=192.168.8.53)\u001b[0m Cache disk full, cleaning.\n",
      "\u001b[2m\u001b[36m(pid=20175, ip=192.168.8.53)\u001b[0m Cache disk full, cleaning.\n"
     ]
    },
    {
     "name": "stderr",
     "output_type": "stream",
     "text": [
      " 57% 57/100 [00:15<00:09,  4.69it/s])\u001b[0m \n",
      " 59% 59/100 [00:15<00:07,  5.85it/s])\u001b[0m \n"
     ]
    },
    {
     "name": "stdout",
     "output_type": "stream",
     "text": [
      "\u001b[2m\u001b[36m(pid=20175, ip=192.168.8.53)\u001b[0m Cache disk full, cleaning.\n",
      "\u001b[2m\u001b[36m(pid=20175, ip=192.168.8.53)\u001b[0m Cache disk full, cleaning.\n",
      "\u001b[2m\u001b[36m(pid=20175, ip=192.168.8.53)\u001b[0m Cache disk full, cleaning.\n",
      "\u001b[2m\u001b[36m(pid=20175, ip=192.168.8.53)\u001b[0m Cache disk full, cleaning.\n"
     ]
    },
    {
     "name": "stderr",
     "output_type": "stream",
     "text": [
      " 60% 60/100 [00:15<00:06,  6.45it/s])\u001b[0m \n",
      " 61% 61/100 [00:15<00:05,  6.81it/s])\u001b[0m \n"
     ]
    },
    {
     "name": "stdout",
     "output_type": "stream",
     "text": [
      "\u001b[2m\u001b[36m(pid=20175, ip=192.168.8.53)\u001b[0m Cache disk full, cleaning.\n",
      "\u001b[2m\u001b[36m(pid=20175, ip=192.168.8.53)\u001b[0m Cache disk full, cleaning.\n"
     ]
    },
    {
     "name": "stderr",
     "output_type": "stream",
     "text": [
      " 63% 63/100 [00:15<00:04,  7.87it/s])\u001b[0m \n"
     ]
    },
    {
     "name": "stdout",
     "output_type": "stream",
     "text": [
      "\u001b[2m\u001b[36m(pid=20175, ip=192.168.8.53)\u001b[0m Cache disk full, cleaning.\n",
      "\u001b[2m\u001b[36m(pid=20175, ip=192.168.8.53)\u001b[0m Cache disk full, cleaning.\n"
     ]
    },
    {
     "name": "stderr",
     "output_type": "stream",
     "text": [
      " 64% 64/100 [00:15<00:05,  7.01it/s])\u001b[0m \n",
      " 65% 65/100 [00:15<00:04,  7.43it/s])\u001b[0m \n"
     ]
    },
    {
     "name": "stdout",
     "output_type": "stream",
     "text": [
      "\u001b[2m\u001b[36m(pid=20175, ip=192.168.8.53)\u001b[0m Cache disk full, cleaning.\n",
      "\u001b[2m\u001b[36m(pid=20175, ip=192.168.8.53)\u001b[0m Cache disk full, cleaning.\n"
     ]
    },
    {
     "name": "stderr",
     "output_type": "stream",
     "text": [
      " 66% 66/100 [00:16<00:04,  7.01it/s])\u001b[0m \n",
      " 67% 67/100 [00:16<00:05,  6.27it/s])\u001b[0m \n"
     ]
    },
    {
     "name": "stdout",
     "output_type": "stream",
     "text": [
      "\u001b[2m\u001b[36m(pid=20175, ip=192.168.8.53)\u001b[0m Cache disk full, cleaning.\n"
     ]
    },
    {
     "name": "stderr",
     "output_type": "stream",
     "text": [
      " 68% 68/100 [00:16<00:05,  5.56it/s])\u001b[0m \n"
     ]
    },
    {
     "name": "stdout",
     "output_type": "stream",
     "text": [
      "\u001b[2m\u001b[36m(pid=20175, ip=192.168.8.53)\u001b[0m Cache disk full, cleaning.\n",
      "\u001b[2m\u001b[36m(pid=20175, ip=192.168.8.53)\u001b[0m Cache disk full, cleaning.\n"
     ]
    },
    {
     "name": "stderr",
     "output_type": "stream",
     "text": [
      " 69% 69/100 [00:16<00:06,  4.51it/s])\u001b[0m \n",
      " 70% 70/100 [00:16<00:05,  5.16it/s])\u001b[0m \n"
     ]
    },
    {
     "name": "stdout",
     "output_type": "stream",
     "text": [
      "\u001b[2m\u001b[36m(pid=20175, ip=192.168.8.53)\u001b[0m Cache disk full, cleaning.\n",
      "\u001b[2m\u001b[36m(pid=20175, ip=192.168.8.53)\u001b[0m Cache disk full, cleaning.\n",
      "\u001b[2m\u001b[36m(pid=20175, ip=192.168.8.53)\u001b[0m Cache disk full, cleaning.\n"
     ]
    },
    {
     "name": "stderr",
     "output_type": "stream",
     "text": [
      " 72% 72/100 [00:17<00:05,  5.11it/s])\u001b[0m \n",
      " 73% 73/100 [00:17<00:04,  5.73it/s])\u001b[0m \n"
     ]
    },
    {
     "name": "stdout",
     "output_type": "stream",
     "text": [
      "\u001b[2m\u001b[36m(pid=20175, ip=192.168.8.53)\u001b[0m Cache disk full, cleaning.\n",
      "\u001b[2m\u001b[36m(pid=20175, ip=192.168.8.53)\u001b[0m Cache disk full, cleaning.\n"
     ]
    },
    {
     "name": "stderr",
     "output_type": "stream",
     "text": [
      " 75% 75/100 [00:17<00:03,  6.74it/s])\u001b[0m \n",
      " 76% 76/100 [00:17<00:03,  7.01it/s])\u001b[0m \n"
     ]
    },
    {
     "name": "stdout",
     "output_type": "stream",
     "text": [
      "\u001b[2m\u001b[36m(pid=20175, ip=192.168.8.53)\u001b[0m Cache disk full, cleaning.\n",
      "\u001b[2m\u001b[36m(pid=20175, ip=192.168.8.53)\u001b[0m Cache disk full, cleaning.\n",
      "\u001b[2m\u001b[36m(pid=20175, ip=192.168.8.53)\u001b[0m Cache disk full, cleaning.\n"
     ]
    },
    {
     "name": "stderr",
     "output_type": "stream",
     "text": [
      " 77% 77/100 [00:17<00:03,  7.27it/s])\u001b[0m \n",
      " 79% 79/100 [00:18<00:02,  8.54it/s])\u001b[0m \n"
     ]
    },
    {
     "name": "stdout",
     "output_type": "stream",
     "text": [
      "\u001b[2m\u001b[36m(pid=20175, ip=192.168.8.53)\u001b[0m Cache disk full, cleaning.\n",
      "\u001b[2m\u001b[36m(pid=20175, ip=192.168.8.53)\u001b[0m Cache disk full, cleaning.\n",
      "\u001b[2m\u001b[36m(pid=20175, ip=192.168.8.53)\u001b[0m Cache disk full, cleaning.\n",
      "\u001b[2m\u001b[36m(pid=20175, ip=192.168.8.53)\u001b[0m Cache disk full, cleaning.\n",
      "\u001b[2m\u001b[36m(pid=20175, ip=192.168.8.53)\u001b[0m Cache disk full, cleaning.\n"
     ]
    },
    {
     "name": "stderr",
     "output_type": "stream",
     "text": [
      " 81% 81/100 [00:18<00:02,  7.08it/s])\u001b[0m \n",
      " 82% 82/100 [00:18<00:02,  7.50it/s])\u001b[0m \n"
     ]
    },
    {
     "name": "stdout",
     "output_type": "stream",
     "text": [
      "\u001b[2m\u001b[36m(pid=20175, ip=192.168.8.53)\u001b[0m Cache disk full, cleaning.\n",
      "\u001b[2m\u001b[36m(pid=20175, ip=192.168.8.53)\u001b[0m Cache disk full, cleaning.\n"
     ]
    },
    {
     "name": "stderr",
     "output_type": "stream",
     "text": [
      " 84% 84/100 [00:18<00:01,  8.68it/s])\u001b[0m \n"
     ]
    },
    {
     "name": "stdout",
     "output_type": "stream",
     "text": [
      "\u001b[2m\u001b[36m(pid=20175, ip=192.168.8.53)\u001b[0m Cache disk full, cleaning.\n",
      "\u001b[2m\u001b[36m(pid=20175, ip=192.168.8.53)\u001b[0m Cache disk full, cleaning.\n"
     ]
    },
    {
     "name": "stderr",
     "output_type": "stream",
     "text": [
      " 86% 86/100 [00:18<00:01,  8.32it/s])\u001b[0m \n"
     ]
    },
    {
     "name": "stdout",
     "output_type": "stream",
     "text": [
      "\u001b[2m\u001b[36m(pid=20175, ip=192.168.8.53)\u001b[0m Cache disk full, cleaning.\n",
      "\u001b[2m\u001b[36m(pid=20175, ip=192.168.8.53)\u001b[0m Cache disk full, cleaning.\n"
     ]
    },
    {
     "name": "stderr",
     "output_type": "stream",
     "text": [
      " 88% 88/100 [00:19<00:02,  4.42it/s])\u001b[0m \n",
      " 89% 89/100 [00:20<00:02,  5.07it/s])\u001b[0m \n"
     ]
    },
    {
     "name": "stdout",
     "output_type": "stream",
     "text": [
      "\u001b[2m\u001b[36m(pid=20175, ip=192.168.8.53)\u001b[0m Cache disk full, cleaning.\n",
      "\u001b[2m\u001b[36m(pid=20175, ip=192.168.8.53)\u001b[0m Cache disk full, cleaning.\n",
      "\u001b[2m\u001b[36m(pid=20175, ip=192.168.8.53)\u001b[0m Cache disk full, cleaning.\n",
      "\u001b[2m\u001b[36m(pid=20175, ip=192.168.8.53)\u001b[0m Cache disk full, cleaning.\n"
     ]
    },
    {
     "name": "stderr",
     "output_type": "stream",
     "text": [
      " 91% 91/100 [00:20<00:01,  5.37it/s])\u001b[0m \n",
      " 93% 93/100 [00:20<00:01,  6.56it/s])\u001b[0m \n"
     ]
    },
    {
     "name": "stdout",
     "output_type": "stream",
     "text": [
      "\u001b[2m\u001b[36m(pid=20175, ip=192.168.8.53)\u001b[0m Cache disk full, cleaning.\n",
      "\u001b[2m\u001b[36m(pid=20175, ip=192.168.8.53)\u001b[0m Cache disk full, cleaning.\n"
     ]
    },
    {
     "name": "stderr",
     "output_type": "stream",
     "text": [
      " 94% 94/100 [00:20<00:00,  6.34it/s])\u001b[0m \n"
     ]
    },
    {
     "name": "stdout",
     "output_type": "stream",
     "text": [
      "\u001b[2m\u001b[36m(pid=20175, ip=192.168.8.53)\u001b[0m Cache disk full, cleaning.\n",
      "\u001b[2m\u001b[36m(pid=20175, ip=192.168.8.53)\u001b[0m Cache disk full, cleaning.\n"
     ]
    },
    {
     "name": "stderr",
     "output_type": "stream",
     "text": [
      " 96% 96/100 [00:20<00:00,  7.12it/s])\u001b[0m \n",
      " 97% 97/100 [00:20<00:00,  7.62it/s])\u001b[0m \n"
     ]
    },
    {
     "name": "stdout",
     "output_type": "stream",
     "text": [
      "\u001b[2m\u001b[36m(pid=20175, ip=192.168.8.53)\u001b[0m Cache disk full, cleaning.\n",
      "\u001b[2m\u001b[36m(pid=20175, ip=192.168.8.53)\u001b[0m Cache disk full, cleaning.\n",
      "\u001b[2m\u001b[36m(pid=20175, ip=192.168.8.53)\u001b[0m Cache disk full, cleaning.\n"
     ]
    },
    {
     "name": "stderr",
     "output_type": "stream",
     "text": [
      " 98% 98/100 [00:21<00:00,  6.92it/s])\u001b[0m \n",
      "100% 100/100 [00:21<00:00,  8.02it/s]\u001b[0m \n",
      "100% 100/100 [00:23<00:00,  4.30it/s]\u001b[0m \n",
      "\u001b[2m\u001b[36m(pid=20175, ip=192.168.8.53)\u001b[0m \n",
      "\u001b[2m\u001b[36m(pid=20175, ip=192.168.8.53)\u001b[0m wandb: Waiting for W&B process to finish, PID 4593\n",
      "\u001b[2m\u001b[36m(pid=20175, ip=192.168.8.53)\u001b[0m wandb: Program ended successfully.\n",
      "\u001b[2m\u001b[36m(pid=20175, ip=192.168.8.53)\u001b[0m wandb: Run summary:\n",
      "\u001b[2m\u001b[36m(pid=20175, ip=192.168.8.53)\u001b[0m wandb:               _step 108090\n",
      "\u001b[2m\u001b[36m(pid=20175, ip=192.168.8.53)\u001b[0m wandb:            _runtime 965.8213543891907\n",
      "\u001b[2m\u001b[36m(pid=20175, ip=192.168.8.53)\u001b[0m wandb:          _timestamp 1608041364.2782824\n",
      "\u001b[2m\u001b[36m(pid=20175, ip=192.168.8.53)\u001b[0m wandb:     mAP all classes 53.102352443271236\n",
      "\u001b[2m\u001b[36m(pid=20175, ip=192.168.8.53)\u001b[0m wandb: Syncing files in ../../../Trainings/wandb/wandb/run-20201215_140852-2wfg5hig:\n",
      "\u001b[2m\u001b[36m(pid=20175, ip=192.168.8.53)\u001b[0m wandb:   code/default_worker.py\n",
      "\u001b[2m\u001b[36m(pid=20175, ip=192.168.8.53)\u001b[0m wandb: plus 8 W&B file(s) and 6 media file(s)\n",
      "\u001b[2m\u001b[36m(pid=20175, ip=192.168.8.53)\u001b[0m wandb: - 0.14MB of 0.14MB uploaded\n",
      "\u001b[2m\u001b[36m(pid=20175, ip=192.168.8.53)\u001b[0m wandb: \\ 0.14MB of 0.14MB uploaded\n",
      "\u001b[2m\u001b[36m(pid=20175, ip=192.168.8.53)\u001b[0m wandb: | 0.14MB of 0.14MB uploaded\n",
      "\u001b[2m\u001b[36m(pid=20175, ip=192.168.8.53)\u001b[0m wandb: / 0.14MB of 0.14MB uploaded\n",
      "wandb:                                                                                \n",
      "\u001b[2m\u001b[36m(pid=20175, ip=192.168.8.53)\u001b[0m wandb: Synced: http://192.168.8.51:8080/reminiz/Violence%20Detection/runs/2wfg5hig\n"
     ]
    },
    {
     "name": "stdout",
     "output_type": "stream",
     "text": [
      "\u001b[2m\u001b[36m(pid=8801, ip=192.168.8.54)\u001b[0m Change to split learning\n",
      "\u001b[2m\u001b[36m(pid=8801, ip=192.168.8.54)\u001b[0m Previus weigths 1.0 0\n",
      "\u001b[2m\u001b[36m(pid=8801, ip=192.168.8.54)\u001b[0m Updated weigths 0 1.0\n"
     ]
    },
    {
     "name": "stderr",
     "output_type": "stream",
     "text": [
      "\u001b[2m\u001b[36m(pid=8801, ip=192.168.8.54)\u001b[0m \n",
      "\u001b[2m\u001b[36m(pid=8801, ip=192.168.8.54)\u001b[0m wandb: Waiting for W&B process to finish, PID 8896\n",
      "\u001b[2m\u001b[36m(pid=8801, ip=192.168.8.54)\u001b[0m wandb: Program ended successfully.\n",
      "\u001b[2m\u001b[36m(pid=22231, ip=192.168.8.52)\u001b[0m /home/reminiz/ReminizML2/python_env/lib/python3.7/site-packages/tensorflow/python/framework/dtypes.py:526: FutureWarning: Passing (type, 1) or '1type' as a synonym of type is deprecated; in a future version of numpy, it will be understood as (type, (1,)) / '(1,)type'.\n",
      "\u001b[2m\u001b[36m(pid=22231, ip=192.168.8.52)\u001b[0m   _np_qint8 = np.dtype([(\"qint8\", np.int8, 1)])\n",
      "\u001b[2m\u001b[36m(pid=22231, ip=192.168.8.52)\u001b[0m /home/reminiz/ReminizML2/python_env/lib/python3.7/site-packages/tensorflow/python/framework/dtypes.py:527: FutureWarning: Passing (type, 1) or '1type' as a synonym of type is deprecated; in a future version of numpy, it will be understood as (type, (1,)) / '(1,)type'.\n",
      "\u001b[2m\u001b[36m(pid=22231, ip=192.168.8.52)\u001b[0m   _np_quint8 = np.dtype([(\"quint8\", np.uint8, 1)])\n",
      "\u001b[2m\u001b[36m(pid=22231, ip=192.168.8.52)\u001b[0m /home/reminiz/ReminizML2/python_env/lib/python3.7/site-packages/tensorflow/python/framework/dtypes.py:528: FutureWarning: Passing (type, 1) or '1type' as a synonym of type is deprecated; in a future version of numpy, it will be understood as (type, (1,)) / '(1,)type'.\n",
      "\u001b[2m\u001b[36m(pid=22231, ip=192.168.8.52)\u001b[0m   _np_qint16 = np.dtype([(\"qint16\", np.int16, 1)])\n",
      "\u001b[2m\u001b[36m(pid=22231, ip=192.168.8.52)\u001b[0m /home/reminiz/ReminizML2/python_env/lib/python3.7/site-packages/tensorflow/python/framework/dtypes.py:529: FutureWarning: Passing (type, 1) or '1type' as a synonym of type is deprecated; in a future version of numpy, it will be understood as (type, (1,)) / '(1,)type'.\n",
      "\u001b[2m\u001b[36m(pid=22231, ip=192.168.8.52)\u001b[0m   _np_quint16 = np.dtype([(\"quint16\", np.uint16, 1)])\n",
      "\u001b[2m\u001b[36m(pid=22231, ip=192.168.8.52)\u001b[0m /home/reminiz/ReminizML2/python_env/lib/python3.7/site-packages/tensorflow/python/framework/dtypes.py:530: FutureWarning: Passing (type, 1) or '1type' as a synonym of type is deprecated; in a future version of numpy, it will be understood as (type, (1,)) / '(1,)type'.\n",
      "\u001b[2m\u001b[36m(pid=22231, ip=192.168.8.52)\u001b[0m   _np_qint32 = np.dtype([(\"qint32\", np.int32, 1)])\n",
      "\u001b[2m\u001b[36m(pid=22231, ip=192.168.8.52)\u001b[0m /home/reminiz/ReminizML2/python_env/lib/python3.7/site-packages/tensorflow/python/framework/dtypes.py:535: FutureWarning: Passing (type, 1) or '1type' as a synonym of type is deprecated; in a future version of numpy, it will be understood as (type, (1,)) / '(1,)type'.\n",
      "\u001b[2m\u001b[36m(pid=22231, ip=192.168.8.52)\u001b[0m   np_resource = np.dtype([(\"resource\", np.ubyte, 1)])\n",
      "\u001b[2m\u001b[36m(pid=22231, ip=192.168.8.52)\u001b[0m 2020-12-15 15:37:37.947745: I tensorflow/core/platform/cpu_feature_guard.cc:141] Your CPU supports instructions that this TensorFlow binary was not compiled to use: AVX2 FMA\n",
      "\u001b[2m\u001b[36m(pid=22231, ip=192.168.8.52)\u001b[0m 2020-12-15 15:37:37.976291: I tensorflow/core/platform/profile_utils/cpu_utils.cc:94] CPU Frequency: 3300050000 Hz\n",
      "\u001b[2m\u001b[36m(pid=22231, ip=192.168.8.52)\u001b[0m 2020-12-15 15:37:37.977050: I tensorflow/compiler/xla/service/service.cc:150] XLA service 0x5473200 executing computations on platform Host. Devices:\n",
      "\u001b[2m\u001b[36m(pid=22231, ip=192.168.8.52)\u001b[0m 2020-12-15 15:37:37.977093: I tensorflow/compiler/xla/service/service.cc:158]   StreamExecutor device (0): <undefined>, <undefined>\n",
      "\u001b[2m\u001b[36m(pid=22231, ip=192.168.8.52)\u001b[0m 2020-12-15 15:37:38.262641: I tensorflow/compiler/xla/service/service.cc:150] XLA service 0x54af4c0 executing computations on platform CUDA. Devices:\n",
      "\u001b[2m\u001b[36m(pid=22231, ip=192.168.8.52)\u001b[0m 2020-12-15 15:37:38.262953: I tensorflow/compiler/xla/service/service.cc:158]   StreamExecutor device (0): TITAN RTX, Compute Capability 7.5\n",
      "\u001b[2m\u001b[36m(pid=22231, ip=192.168.8.52)\u001b[0m 2020-12-15 15:37:38.263110: I tensorflow/core/common_runtime/gpu/gpu_device.cc:1433] Found device 0 with properties: \n",
      "\u001b[2m\u001b[36m(pid=22231, ip=192.168.8.52)\u001b[0m name: TITAN RTX major: 7 minor: 5 memoryClockRate(GHz): 1.77\n",
      "\u001b[2m\u001b[36m(pid=22231, ip=192.168.8.52)\u001b[0m pciBusID: 0000:04:00.0\n",
      "\u001b[2m\u001b[36m(pid=22231, ip=192.168.8.52)\u001b[0m totalMemory: 23.65GiB freeMemory: 23.48GiB\n",
      "\u001b[2m\u001b[36m(pid=22231, ip=192.168.8.52)\u001b[0m 2020-12-15 15:37:38.263130: I tensorflow/core/common_runtime/gpu/gpu_device.cc:1512] Adding visible gpu devices: 0\n",
      "\u001b[2m\u001b[36m(pid=22231, ip=192.168.8.52)\u001b[0m 2020-12-15 15:37:38.264985: I tensorflow/core/common_runtime/gpu/gpu_device.cc:984] Device interconnect StreamExecutor with strength 1 edge matrix:\n",
      "\u001b[2m\u001b[36m(pid=22231, ip=192.168.8.52)\u001b[0m 2020-12-15 15:37:38.265004: I tensorflow/core/common_runtime/gpu/gpu_device.cc:990]      0 \n",
      "\u001b[2m\u001b[36m(pid=22231, ip=192.168.8.52)\u001b[0m 2020-12-15 15:37:38.265013: I tensorflow/core/common_runtime/gpu/gpu_device.cc:1003] 0:   N \n",
      "\u001b[2m\u001b[36m(pid=22231, ip=192.168.8.52)\u001b[0m 2020-12-15 15:37:38.265098: I tensorflow/core/common_runtime/gpu/gpu_device.cc:1115] Created TensorFlow device (/job:localhost/replica:0/task:0/device:GPU:0 with 22843 MB memory) -> physical GPU (device: 0, name: TITAN RTX, pci bus id: 0000:04:00.0, compute capability: 7.5)\n",
      "\u001b[2m\u001b[36m(pid=22231, ip=192.168.8.52)\u001b[0m /home/reminiz/ReminizML2/python_env/lib/python3.7/site-packages/tensorboard/compat/tensorflow_stub/dtypes.py:541: FutureWarning: Passing (type, 1) or '1type' as a synonym of type is deprecated; in a future version of numpy, it will be understood as (type, (1,)) / '(1,)type'.\n",
      "\u001b[2m\u001b[36m(pid=22231, ip=192.168.8.52)\u001b[0m   _np_qint8 = np.dtype([(\"qint8\", np.int8, 1)])\n",
      "\u001b[2m\u001b[36m(pid=22231, ip=192.168.8.52)\u001b[0m /home/reminiz/ReminizML2/python_env/lib/python3.7/site-packages/tensorboard/compat/tensorflow_stub/dtypes.py:542: FutureWarning: Passing (type, 1) or '1type' as a synonym of type is deprecated; in a future version of numpy, it will be understood as (type, (1,)) / '(1,)type'.\n",
      "\u001b[2m\u001b[36m(pid=22231, ip=192.168.8.52)\u001b[0m   _np_quint8 = np.dtype([(\"quint8\", np.uint8, 1)])\n",
      "\u001b[2m\u001b[36m(pid=22231, ip=192.168.8.52)\u001b[0m /home/reminiz/ReminizML2/python_env/lib/python3.7/site-packages/tensorboard/compat/tensorflow_stub/dtypes.py:543: FutureWarning: Passing (type, 1) or '1type' as a synonym of type is deprecated; in a future version of numpy, it will be understood as (type, (1,)) / '(1,)type'.\n",
      "\u001b[2m\u001b[36m(pid=22231, ip=192.168.8.52)\u001b[0m   _np_qint16 = np.dtype([(\"qint16\", np.int16, 1)])\n",
      "\u001b[2m\u001b[36m(pid=22231, ip=192.168.8.52)\u001b[0m /home/reminiz/ReminizML2/python_env/lib/python3.7/site-packages/tensorboard/compat/tensorflow_stub/dtypes.py:544: FutureWarning: Passing (type, 1) or '1type' as a synonym of type is deprecated; in a future version of numpy, it will be understood as (type, (1,)) / '(1,)type'.\n",
      "\u001b[2m\u001b[36m(pid=22231, ip=192.168.8.52)\u001b[0m   _np_quint16 = np.dtype([(\"quint16\", np.uint16, 1)])\n",
      "\u001b[2m\u001b[36m(pid=22231, ip=192.168.8.52)\u001b[0m /home/reminiz/ReminizML2/python_env/lib/python3.7/site-packages/tensorboard/compat/tensorflow_stub/dtypes.py:545: FutureWarning: Passing (type, 1) or '1type' as a synonym of type is deprecated; in a future version of numpy, it will be understood as (type, (1,)) / '(1,)type'.\n",
      "\u001b[2m\u001b[36m(pid=22231, ip=192.168.8.52)\u001b[0m   _np_qint32 = np.dtype([(\"qint32\", np.int32, 1)])\n",
      "\u001b[2m\u001b[36m(pid=22231, ip=192.168.8.52)\u001b[0m /home/reminiz/ReminizML2/python_env/lib/python3.7/site-packages/tensorboard/compat/tensorflow_stub/dtypes.py:550: FutureWarning: Passing (type, 1) or '1type' as a synonym of type is deprecated; in a future version of numpy, it will be understood as (type, (1,)) / '(1,)type'.\n",
      "\u001b[2m\u001b[36m(pid=22231, ip=192.168.8.52)\u001b[0m   np_resource = np.dtype([(\"resource\", np.ubyte, 1)])\n",
      "\u001b[2m\u001b[36m(pid=22231, ip=192.168.8.52)\u001b[0m wandb: Tracking run with wandb version 0.8.36\n",
      "\u001b[2m\u001b[36m(pid=22231, ip=192.168.8.52)\u001b[0m wandb: Wandb version 0.10.12 is available!  To upgrade, please run:\n",
      "\u001b[2m\u001b[36m(pid=22231, ip=192.168.8.52)\u001b[0m wandb:  $ pip install wandb --upgrade\n",
      "\u001b[2m\u001b[36m(pid=22231, ip=192.168.8.52)\u001b[0m wandb: Run data is saved locally in ../../../Trainings/wandb/wandb/run-20201215_143738-3e70qg7a\n",
      "\u001b[2m\u001b[36m(pid=22231, ip=192.168.8.52)\u001b[0m wandb: Syncing run Train_6\n",
      "\u001b[2m\u001b[36m(pid=22231, ip=192.168.8.52)\u001b[0m wandb: ⭐️ View project at http://192.168.8.51:8080/reminiz/Active_Learning_CIFAR\n",
      "\u001b[2m\u001b[36m(pid=22231, ip=192.168.8.52)\u001b[0m wandb: 🚀 View run at http://192.168.8.51:8080/reminiz/Active_Learning_CIFAR/runs/3e70qg7a\n",
      "\u001b[2m\u001b[36m(pid=22231, ip=192.168.8.52)\u001b[0m wandb: Run `wandb off` to turn off syncing.\n",
      "\u001b[2m\u001b[36m(pid=8801, ip=192.168.8.54)\u001b[0m wandb: Run summary:\n",
      "\u001b[2m\u001b[36m(pid=8801, ip=192.168.8.54)\u001b[0m wandb:                          _runtime 1734.6366379261017\n",
      "\u001b[2m\u001b[36m(pid=8801, ip=192.168.8.54)\u001b[0m wandb:                             epoch 199\n",
      "\u001b[2m\u001b[36m(pid=8801, ip=192.168.8.54)\u001b[0m wandb:                        _timestamp 1608043053.1206436\n",
      "\u001b[2m\u001b[36m(pid=8801, ip=192.168.8.54)\u001b[0m wandb:                              loss 0.04855386418104172\n",
      "\u001b[2m\u001b[36m(pid=8801, ip=192.168.8.54)\u001b[0m wandb:              l_pred_w_MAE_Lossnet 8.052164077758789\n",
      "\u001b[2m\u001b[36m(pid=8801, ip=192.168.8.54)\u001b[0m wandb:                             _step 199\n",
      "\u001b[2m\u001b[36m(pid=8801, ip=192.168.8.54)\u001b[0m wandb:                     l_pred_w_loss 0.04242656007409096\n",
      "\u001b[2m\u001b[36m(pid=8801, ip=192.168.8.54)\u001b[0m wandb:                     l_pred_s_loss 0.04242656007409096\n",
      "\u001b[2m\u001b[36m(pid=8801, ip=192.168.8.54)\u001b[0m wandb:   Classifier_categorical_accuracy 0.9980000257492065\n",
      "\u001b[2m\u001b[36m(pid=8801, ip=192.168.8.54)\u001b[0m wandb:              l_pred_s_MAE_Lossnet 8.052164077758789\n",
      "\u001b[2m\u001b[36m(pid=8801, ip=192.168.8.54)\u001b[0m wandb:                   Classifier_loss 0.006250204052776098\n",
      "\u001b[2m\u001b[36m(pid=8801, ip=192.168.8.54)\u001b[0m wandb: Syncing files in ../../../Trainings/wandb/wandb/run-20201215_140838-2r0vnu7j:\n",
      "\u001b[2m\u001b[36m(pid=8801, ip=192.168.8.54)\u001b[0m wandb:   code/default_worker.py\n",
      "\u001b[2m\u001b[36m(pid=8801, ip=192.168.8.54)\u001b[0m wandb: plus 8 W&B file(s) and 1 media file(s)\n",
      "\u001b[2m\u001b[36m(pid=8801, ip=192.168.8.54)\u001b[0m wandb: - 0.07MB of 0.07MB uploaded\n",
      "\u001b[2m\u001b[36m(pid=22231, ip=192.168.8.52)\u001b[0m \n",
      "\u001b[2m\u001b[36m(pid=8801, ip=192.168.8.54)\u001b[0m wandb: \\ 0.07MB of 0.07MB uploaded\n",
      "\u001b[2m\u001b[36m(pid=8801, ip=192.168.8.54)\u001b[0m wandb: | 0.07MB of 0.07MB uploaded\n",
      "\u001b[2m\u001b[36m(pid=8801, ip=192.168.8.54)\u001b[0m wandb: / 0.07MB of 0.07MB uploaded\n",
      "\u001b[2m\u001b[36m(pid=8801, ip=192.168.8.54)\u001b[0m wandb: - 0.07MB of 0.07MB uploaded\n",
      "wandb:                                                                                \n",
      "\u001b[2m\u001b[36m(pid=8801, ip=192.168.8.54)\u001b[0m wandb: Synced Train_5: http://192.168.8.51:8080/reminiz/Active_Learning_CIFAR/runs/2r0vnu7j\n",
      "\u001b[2m\u001b[36m(pid=22231, ip=192.168.8.52)\u001b[0m WARNING:tensorflow:From /home/reminiz/ReminizML2/python_env/lib/python3.7/site-packages/tensorflow/python/ops/resource_variable_ops.py:435: colocate_with (from tensorflow.python.framework.ops) is deprecated and will be removed in a future version.\n",
      "\u001b[2m\u001b[36m(pid=22231, ip=192.168.8.52)\u001b[0m Instructions for updating:\n",
      "\u001b[2m\u001b[36m(pid=22231, ip=192.168.8.52)\u001b[0m Colocations handled automatically by placer.\n"
     ]
    },
    {
     "name": "stdout",
     "output_type": "stream",
     "text": [
      "\u001b[2m\u001b[36m(pid=22231, ip=192.168.8.52)\u001b[0m \u001b[1;36mTrain_Stage_6\u001b[0;0m Loading weigths from:  /mnt/Ressources/Andres/Temp_active/runs/Active_Learning_keras_v0/Stage_5/checkpoints/checkpoint.200.hdf5\n",
      "\u001b[2m\u001b[36m(pid=22231, ip=192.168.8.52)\u001b[0m \u001b[1;36mTrain_Stage_6\u001b[0;0m The detected epoch is:  200\n"
     ]
    },
    {
     "name": "stderr",
     "output_type": "stream",
     "text": [
      "\u001b[2m\u001b[36m(pid=22231, ip=192.168.8.52)\u001b[0m WARNING:tensorflow:Output \"Embedding\" missing from loss dictionary. We assume this was done on purpose. The fit and evaluate APIs will not be expecting any data to be passed to \"Embedding\".\n",
      "\u001b[2m\u001b[36m(pid=22231, ip=192.168.8.52)\u001b[0m WARNING:tensorflow:Output \"Embedding\" missing from loss dictionary. We assume this was done on purpose. The fit and evaluate APIs will not be expecting any data to be passed to \"Embedding\".\n",
      "\u001b[2m\u001b[36m(pid=22231, ip=192.168.8.52)\u001b[0m 2020-12-15 15:37:44,714\tINFO worker.py:634 -- Connecting to existing Ray cluster at address: 192.168.8.51:6379\n",
      "\u001b[2m\u001b[36m(pid=22231, ip=192.168.8.52)\u001b[0m 2020-12-15 15:37:44,714\tERROR worker.py:643 -- Calling ray.init() again after it has already been called.\n",
      "\u001b[2m\u001b[36m(pid=22231, ip=192.168.8.52)\u001b[0m WARNING:tensorflow:From /home/reminiz/ReminizML2/python_env/lib/python3.7/site-packages/tensorflow/python/ops/math_ops.py:3066: to_int32 (from tensorflow.python.ops.math_ops) is deprecated and will be removed in a future version.\n",
      "\u001b[2m\u001b[36m(pid=22231, ip=192.168.8.52)\u001b[0m Instructions for updating:\n",
      "\u001b[2m\u001b[36m(pid=22231, ip=192.168.8.52)\u001b[0m Use tf.cast instead.\n"
     ]
    },
    {
     "name": "stdout",
     "output_type": "stream",
     "text": [
      "\u001b[2m\u001b[36m(pid=22231, ip=192.168.8.52)\u001b[0m \u001b[1;36mTrain_Stage_6\u001b[0;0m Init done\n",
      "\u001b[2m\u001b[36m(pid=22231, ip=192.168.8.52)\u001b[0m \u001b[1;36mTrain_Stage_6\u001b[0;0m Start training\n"
     ]
    },
    {
     "name": "stderr",
     "output_type": "stream",
     "text": [
      "\u001b[2m\u001b[36m(pid=22231, ip=192.168.8.52)\u001b[0m 2020-12-15 15:37:57.882371: I tensorflow/stream_executor/dso_loader.cc:152] successfully opened CUDA library libcublas.so.10.0 locally\n"
     ]
    },
    {
     "name": "stdout",
     "output_type": "stream",
     "text": [
      "\u001b[2m\u001b[36m(pid=12774, ip=192.168.8.52)\u001b[0m Epoch: 46 Time: 2020-12-15 15:40:04 Train loss: 1.42 Count NaN: 0 Saving\n"
     ]
    },
    {
     "name": "stderr",
     "output_type": "stream",
     "text": [
      "\u001b[2m\u001b[36m(pid=7207, ip=192.168.8.53)\u001b[0m /home/reminiz/ReminizML2/python_env/lib/python3.7/site-packages/tensorflow/python/framework/dtypes.py:526: FutureWarning: Passing (type, 1) or '1type' as a synonym of type is deprecated; in a future version of numpy, it will be understood as (type, (1,)) / '(1,)type'.\n",
      "\u001b[2m\u001b[36m(pid=7207, ip=192.168.8.53)\u001b[0m   _np_qint8 = np.dtype([(\"qint8\", np.int8, 1)])\n",
      "\u001b[2m\u001b[36m(pid=7207, ip=192.168.8.53)\u001b[0m /home/reminiz/ReminizML2/python_env/lib/python3.7/site-packages/tensorflow/python/framework/dtypes.py:527: FutureWarning: Passing (type, 1) or '1type' as a synonym of type is deprecated; in a future version of numpy, it will be understood as (type, (1,)) / '(1,)type'.\n",
      "\u001b[2m\u001b[36m(pid=7207, ip=192.168.8.53)\u001b[0m   _np_quint8 = np.dtype([(\"quint8\", np.uint8, 1)])\n",
      "\u001b[2m\u001b[36m(pid=7207, ip=192.168.8.53)\u001b[0m /home/reminiz/ReminizML2/python_env/lib/python3.7/site-packages/tensorflow/python/framework/dtypes.py:528: FutureWarning: Passing (type, 1) or '1type' as a synonym of type is deprecated; in a future version of numpy, it will be understood as (type, (1,)) / '(1,)type'.\n",
      "\u001b[2m\u001b[36m(pid=7207, ip=192.168.8.53)\u001b[0m   _np_qint16 = np.dtype([(\"qint16\", np.int16, 1)])\n",
      "\u001b[2m\u001b[36m(pid=7207, ip=192.168.8.53)\u001b[0m /home/reminiz/ReminizML2/python_env/lib/python3.7/site-packages/tensorflow/python/framework/dtypes.py:529: FutureWarning: Passing (type, 1) or '1type' as a synonym of type is deprecated; in a future version of numpy, it will be understood as (type, (1,)) / '(1,)type'.\n",
      "\u001b[2m\u001b[36m(pid=7207, ip=192.168.8.53)\u001b[0m   _np_quint16 = np.dtype([(\"quint16\", np.uint16, 1)])\n",
      "\u001b[2m\u001b[36m(pid=7207, ip=192.168.8.53)\u001b[0m /home/reminiz/ReminizML2/python_env/lib/python3.7/site-packages/tensorflow/python/framework/dtypes.py:530: FutureWarning: Passing (type, 1) or '1type' as a synonym of type is deprecated; in a future version of numpy, it will be understood as (type, (1,)) / '(1,)type'.\n",
      "\u001b[2m\u001b[36m(pid=7207, ip=192.168.8.53)\u001b[0m   _np_qint32 = np.dtype([(\"qint32\", np.int32, 1)])\n",
      "\u001b[2m\u001b[36m(pid=7207, ip=192.168.8.53)\u001b[0m /home/reminiz/ReminizML2/python_env/lib/python3.7/site-packages/tensorflow/python/framework/dtypes.py:535: FutureWarning: Passing (type, 1) or '1type' as a synonym of type is deprecated; in a future version of numpy, it will be understood as (type, (1,)) / '(1,)type'.\n",
      "\u001b[2m\u001b[36m(pid=7207, ip=192.168.8.53)\u001b[0m   np_resource = np.dtype([(\"resource\", np.ubyte, 1)])\n",
      "\u001b[2m\u001b[36m(pid=7207, ip=192.168.8.53)\u001b[0m wandb: Tracking run with wandb version 0.8.36\n",
      "\u001b[2m\u001b[36m(pid=7207, ip=192.168.8.53)\u001b[0m wandb: Wandb version 0.10.12 is available!  To upgrade, please run:\n",
      "\u001b[2m\u001b[36m(pid=7207, ip=192.168.8.53)\u001b[0m wandb:  $ pip install wandb --upgrade\n",
      "\u001b[2m\u001b[36m(pid=7207, ip=192.168.8.53)\u001b[0m wandb: Run data is saved locally in ../../../Trainings/wandb/wandb/run-20201215_144022-2wfg5hig\n",
      "\u001b[2m\u001b[36m(pid=7207, ip=192.168.8.53)\u001b[0m wandb: Syncing run 2wfg5hig\n",
      "\u001b[2m\u001b[36m(pid=7207, ip=192.168.8.53)\u001b[0m wandb: ⭐️ View project at http://192.168.8.51:8080/reminiz/Violence%20Detection\n",
      "\u001b[2m\u001b[36m(pid=7207, ip=192.168.8.53)\u001b[0m wandb: 🚀 View run at http://192.168.8.51:8080/reminiz/Violence%20Detection/runs/2wfg5hig\n",
      "\u001b[2m\u001b[36m(pid=7207, ip=192.168.8.53)\u001b[0m wandb: Run `wandb off` to turn off syncing.\n"
     ]
    },
    {
     "name": "stdout",
     "output_type": "stream",
     "text": [
      "\u001b[2m\u001b[36m(pid=7207, ip=192.168.8.53)\u001b[0m {0: 'FIREARMS', 1: 'COLDARMS'}\n"
     ]
    },
    {
     "name": "stderr",
     "output_type": "stream",
     "text": [
      "\u001b[2m\u001b[36m(pid=7207, ip=192.168.8.53)\u001b[0m \n",
      "\u001b[2m\u001b[36m(pid=7207, ip=192.168.8.53)\u001b[0m WARNING:tensorflow:From /home/reminiz/ReminizML2/python_env/lib/python3.7/site-packages/tensorflow/python/framework/op_def_library.py:263: colocate_with (from tensorflow.python.framework.ops) is deprecated and will be removed in a future version.\n",
      "\u001b[2m\u001b[36m(pid=7207, ip=192.168.8.53)\u001b[0m Instructions for updating:\n",
      "\u001b[2m\u001b[36m(pid=7207, ip=192.168.8.53)\u001b[0m Colocations handled automatically by placer.\n",
      "\u001b[2m\u001b[36m(pid=7207, ip=192.168.8.53)\u001b[0m WARNING:tensorflow:From /mnt/Ressources/Quentin/Detection/core/common.py:25: batch_normalization (from tensorflow.python.layers.normalization) is deprecated and will be removed in a future version.\n",
      "\u001b[2m\u001b[36m(pid=7207, ip=192.168.8.53)\u001b[0m Instructions for updating:\n",
      "\u001b[2m\u001b[36m(pid=7207, ip=192.168.8.53)\u001b[0m Use keras.layers.batch_normalization instead.\n",
      "\u001b[2m\u001b[36m(pid=7207, ip=192.168.8.53)\u001b[0m 2020-12-15 15:40:27.103644: I tensorflow/core/platform/cpu_feature_guard.cc:141] Your CPU supports instructions that this TensorFlow binary was not compiled to use: AVX2 FMA\n",
      "\u001b[2m\u001b[36m(pid=7207, ip=192.168.8.53)\u001b[0m 2020-12-15 15:40:27.108380: I tensorflow/core/platform/profile_utils/cpu_utils.cc:94] CPU Frequency: 3499950000 Hz\n",
      "\u001b[2m\u001b[36m(pid=7207, ip=192.168.8.53)\u001b[0m 2020-12-15 15:40:27.108822: I tensorflow/compiler/xla/service/service.cc:150] XLA service 0x55bbb2419d90 executing computations on platform Host. Devices:\n",
      "\u001b[2m\u001b[36m(pid=7207, ip=192.168.8.53)\u001b[0m 2020-12-15 15:40:27.108841: I tensorflow/compiler/xla/service/service.cc:158]   StreamExecutor device (0): <undefined>, <undefined>\n",
      "\u001b[2m\u001b[36m(pid=7207, ip=192.168.8.53)\u001b[0m 2020-12-15 15:40:27.227848: I tensorflow/compiler/xla/service/service.cc:150] XLA service 0x55bbae9e0a40 executing computations on platform CUDA. Devices:\n",
      "\u001b[2m\u001b[36m(pid=7207, ip=192.168.8.53)\u001b[0m 2020-12-15 15:40:27.227877: I tensorflow/compiler/xla/service/service.cc:158]   StreamExecutor device (0): GeForce GTX TITAN X, Compute Capability 5.2\n",
      "\u001b[2m\u001b[36m(pid=7207, ip=192.168.8.53)\u001b[0m 2020-12-15 15:40:27.227981: I tensorflow/core/common_runtime/gpu/gpu_device.cc:1433] Found device 0 with properties: \n",
      "\u001b[2m\u001b[36m(pid=7207, ip=192.168.8.53)\u001b[0m name: GeForce GTX TITAN X major: 5 minor: 2 memoryClockRate(GHz): 1.076\n",
      "\u001b[2m\u001b[36m(pid=7207, ip=192.168.8.53)\u001b[0m pciBusID: 0000:02:00.0\n",
      "\u001b[2m\u001b[36m(pid=7207, ip=192.168.8.53)\u001b[0m totalMemory: 11.93GiB freeMemory: 11.82GiB\n",
      "\u001b[2m\u001b[36m(pid=7207, ip=192.168.8.53)\u001b[0m 2020-12-15 15:40:27.227995: I tensorflow/core/common_runtime/gpu/gpu_device.cc:1512] Adding visible gpu devices: 0\n",
      "\u001b[2m\u001b[36m(pid=7207, ip=192.168.8.53)\u001b[0m 2020-12-15 15:40:27.229052: I tensorflow/core/common_runtime/gpu/gpu_device.cc:984] Device interconnect StreamExecutor with strength 1 edge matrix:\n",
      "\u001b[2m\u001b[36m(pid=7207, ip=192.168.8.53)\u001b[0m 2020-12-15 15:40:27.229065: I tensorflow/core/common_runtime/gpu/gpu_device.cc:990]      0 \n",
      "\u001b[2m\u001b[36m(pid=7207, ip=192.168.8.53)\u001b[0m 2020-12-15 15:40:27.229070: I tensorflow/core/common_runtime/gpu/gpu_device.cc:1003] 0:   N \n",
      "\u001b[2m\u001b[36m(pid=7207, ip=192.168.8.53)\u001b[0m 2020-12-15 15:40:27.229132: I tensorflow/core/common_runtime/gpu/gpu_device.cc:1115] Created TensorFlow device (/job:localhost/replica:0/task:0/device:GPU:0 with 11496 MB memory) -> physical GPU (device: 0, name: GeForce GTX TITAN X, pci bus id: 0000:02:00.0, compute capability: 5.2)\n"
     ]
    },
    {
     "name": "stdout",
     "output_type": "stream",
     "text": [
      "\u001b[2m\u001b[36m(pid=7207, ip=192.168.8.53)\u001b[0m Restoring from /mnt/Trainings/models/violence_detection_weapons_0/checkpoint/epoch46.ckpt-46\n"
     ]
    },
    {
     "name": "stderr",
     "output_type": "stream",
     "text": [
      "\u001b[2m\u001b[36m(pid=7207, ip=192.168.8.53)\u001b[0m WARNING:tensorflow:From /home/reminiz/ReminizML2/python_env/lib/python3.7/site-packages/tensorflow/python/training/saver.py:1266: checkpoint_exists (from tensorflow.python.training.checkpoint_management) is deprecated and will be removed in a future version.\n",
      "\u001b[2m\u001b[36m(pid=7207, ip=192.168.8.53)\u001b[0m Instructions for updating:\n",
      "\u001b[2m\u001b[36m(pid=7207, ip=192.168.8.53)\u001b[0m Use standard file APIs to check for files with this prefix.\n",
      "  0% 0/100 [00:00<?, ?it/s]E1215 15:40:31.541566  7207  7220 task_manager.cc:323] Task failed: IOError: cancelling all pending tasks of dead actor: Type=ACTOR_TASK, Language=PYTHON, Resources: {}, function_descriptor={type=PythonFunctionDescriptor, module_name=AutoML.datanode, class_name=DataNode, function_name=get_image, function_hash=}, task_id=1659b2fbd95ebd3fd8855af501000000, task_name=DataNode.get_image(), job_id=01000000, num_args=6, num_returns=2, actor_task_spec={actor_id=d8855af501000000, actor_caller_id=ffffffffffffffffd143a5dc0c000000, actor_counter=0}\n"
     ]
    },
    {
     "name": "stdout",
     "output_type": "stream",
     "text": [
      "\u001b[2m\u001b[36m(pid=7207, ip=192.168.8.53)\u001b[0m Cache disk full, cleaning.\n",
      "\u001b[2m\u001b[36m(pid=7207, ip=192.168.8.53)\u001b[0m Cache disk full, cleaning.\n",
      "\u001b[2m\u001b[36m(pid=7207, ip=192.168.8.53)\u001b[0m Cache disk full, cleaning.\n"
     ]
    },
    {
     "name": "stderr",
     "output_type": "stream",
     "text": [
      "  1% 1/100 [00:02<03:33,  2.16s/it])\u001b[0m \n",
      "  3% 3/100 [00:02<02:29,  1.54s/it])\u001b[0m \n"
     ]
    },
    {
     "name": "stdout",
     "output_type": "stream",
     "text": [
      "\u001b[2m\u001b[36m(pid=7207, ip=192.168.8.53)\u001b[0m Cache disk full, cleaning.\n"
     ]
    },
    {
     "name": "stderr",
     "output_type": "stream",
     "text": [
      "  4% 4/100 [00:03<02:04,  1.29s/it])\u001b[0m \n"
     ]
    },
    {
     "name": "stdout",
     "output_type": "stream",
     "text": [
      "\u001b[2m\u001b[36m(pid=7207, ip=192.168.8.53)\u001b[0m Cache disk full, cleaning.\n"
     ]
    },
    {
     "name": "stderr",
     "output_type": "stream",
     "text": [
      "  5% 5/100 [00:03<01:31,  1.04it/s])\u001b[0m \n"
     ]
    },
    {
     "name": "stdout",
     "output_type": "stream",
     "text": [
      "\u001b[2m\u001b[36m(pid=7207, ip=192.168.8.53)\u001b[0m Cache disk full, cleaning.\n",
      "\u001b[2m\u001b[36m(pid=7207, ip=192.168.8.53)\u001b[0m Cache disk full, cleaning.\n"
     ]
    },
    {
     "name": "stderr",
     "output_type": "stream",
     "text": [
      "  6% 6/100 [00:03<01:10,  1.33it/s])\u001b[0m \n",
      "  7% 7/100 [00:03<00:54,  1.70it/s])\u001b[0m \n"
     ]
    },
    {
     "name": "stdout",
     "output_type": "stream",
     "text": [
      "\u001b[2m\u001b[36m(pid=7207, ip=192.168.8.53)\u001b[0m Cache disk full, cleaning.\n"
     ]
    },
    {
     "name": "stderr",
     "output_type": "stream",
     "text": [
      "  8% 8/100 [00:03<00:42,  2.17it/s])\u001b[0m \n"
     ]
    },
    {
     "name": "stdout",
     "output_type": "stream",
     "text": [
      "\u001b[2m\u001b[36m(pid=7207, ip=192.168.8.53)\u001b[0m Cache disk full, cleaning.\n",
      "\u001b[2m\u001b[36m(pid=7207, ip=192.168.8.53)\u001b[0m Cache disk full, cleaning.\n",
      "\u001b[2m\u001b[36m(pid=7207, ip=192.168.8.53)\u001b[0m Cache disk full, cleaning.\n"
     ]
    },
    {
     "name": "stderr",
     "output_type": "stream",
     "text": [
      "  9% 9/100 [00:04<00:37,  2.43it/s])\u001b[0m \n",
      " 11% 11/100 [00:04<00:27,  3.18it/s]\u001b[0m \n"
     ]
    },
    {
     "name": "stdout",
     "output_type": "stream",
     "text": [
      "\u001b[2m\u001b[36m(pid=7207, ip=192.168.8.53)\u001b[0m Cache disk full, cleaning.\n"
     ]
    },
    {
     "name": "stderr",
     "output_type": "stream",
     "text": [
      " 12% 12/100 [00:04<00:23,  3.73it/s]\u001b[0m \n"
     ]
    },
    {
     "name": "stdout",
     "output_type": "stream",
     "text": [
      "\u001b[2m\u001b[36m(pid=7207, ip=192.168.8.53)\u001b[0m Cache disk full, cleaning.\n",
      "\u001b[2m\u001b[36m(pid=7207, ip=192.168.8.53)\u001b[0m Cache disk full, cleaning.\n"
     ]
    },
    {
     "name": "stderr",
     "output_type": "stream",
     "text": [
      " 13% 13/100 [00:04<00:21,  4.01it/s]\u001b[0m \n",
      " 14% 14/100 [00:04<00:18,  4.62it/s]\u001b[0m \n"
     ]
    },
    {
     "name": "stdout",
     "output_type": "stream",
     "text": [
      "\u001b[2m\u001b[36m(pid=7207, ip=192.168.8.53)\u001b[0m Cache disk full, cleaning.\n"
     ]
    },
    {
     "name": "stderr",
     "output_type": "stream",
     "text": [
      " 15% 15/100 [00:05<00:28,  2.98it/s]\u001b[0m \n"
     ]
    },
    {
     "name": "stdout",
     "output_type": "stream",
     "text": [
      "\u001b[2m\u001b[36m(pid=7207, ip=192.168.8.53)\u001b[0m Cache disk full, cleaning.\n",
      "\u001b[2m\u001b[36m(pid=7207, ip=192.168.8.53)\u001b[0m Cache disk full, cleaning.\n"
     ]
    },
    {
     "name": "stderr",
     "output_type": "stream",
     "text": [
      " 16% 16/100 [00:05<00:25,  3.32it/s]\u001b[0m \n",
      " 17% 17/100 [00:05<00:21,  3.84it/s]\u001b[0m \n"
     ]
    },
    {
     "name": "stdout",
     "output_type": "stream",
     "text": [
      "\u001b[2m\u001b[36m(pid=7207, ip=192.168.8.53)\u001b[0m Cache disk full, cleaning.\n",
      "\u001b[2m\u001b[36m(pid=7207, ip=192.168.8.53)\u001b[0m Cache disk full, cleaning.\n"
     ]
    },
    {
     "name": "stderr",
     "output_type": "stream",
     "text": [
      " 18% 18/100 [00:06<00:19,  4.31it/s]\u001b[0m \n",
      " 19% 19/100 [00:06<00:15,  5.14it/s]\u001b[0m \n"
     ]
    },
    {
     "name": "stdout",
     "output_type": "stream",
     "text": [
      "\u001b[2m\u001b[36m(pid=7207, ip=192.168.8.53)\u001b[0m Cache disk full, cleaning.\n",
      "\u001b[2m\u001b[36m(pid=7207, ip=192.168.8.53)\u001b[0m Cache disk full, cleaning.\n"
     ]
    },
    {
     "name": "stderr",
     "output_type": "stream",
     "text": [
      " 21% 21/100 [00:06<00:13,  5.84it/s]\u001b[0m \n"
     ]
    },
    {
     "name": "stdout",
     "output_type": "stream",
     "text": [
      "\u001b[2m\u001b[36m(pid=7207, ip=192.168.8.53)\u001b[0m Cache disk full, cleaning.\n",
      "\u001b[2m\u001b[36m(pid=7207, ip=192.168.8.53)\u001b[0m Cache disk full, cleaning.\n"
     ]
    },
    {
     "name": "stderr",
     "output_type": "stream",
     "text": [
      " 22% 22/100 [00:07<00:28,  2.74it/s]\u001b[0m \n"
     ]
    },
    {
     "name": "stdout",
     "output_type": "stream",
     "text": [
      "\u001b[2m\u001b[36m(pid=7207, ip=192.168.8.53)\u001b[0m Cache disk full, cleaning.\n",
      "\u001b[2m\u001b[36m(pid=7207, ip=192.168.8.53)\u001b[0m Cache disk full, cleaning.\n"
     ]
    },
    {
     "name": "stderr",
     "output_type": "stream",
     "text": [
      " 24% 24/100 [00:07<00:24,  3.16it/s]\u001b[0m \n"
     ]
    },
    {
     "name": "stdout",
     "output_type": "stream",
     "text": [
      "\u001b[2m\u001b[36m(pid=7207, ip=192.168.8.53)\u001b[0m Cache disk full, cleaning.\n",
      "\u001b[2m\u001b[36m(pid=7207, ip=192.168.8.53)\u001b[0m Cache disk full, cleaning.\n"
     ]
    },
    {
     "name": "stderr",
     "output_type": "stream",
     "text": [
      " 26% 26/100 [00:07<00:20,  3.66it/s]\u001b[0m \n",
      " 27% 27/100 [00:08<00:18,  3.97it/s]\u001b[0m \n"
     ]
    },
    {
     "name": "stdout",
     "output_type": "stream",
     "text": [
      "\u001b[2m\u001b[36m(pid=7207, ip=192.168.8.53)\u001b[0m Cache disk full, cleaning.\n",
      "\u001b[2m\u001b[36m(pid=7207, ip=192.168.8.53)\u001b[0m Cache disk full, cleaning.\n"
     ]
    },
    {
     "name": "stderr",
     "output_type": "stream",
     "text": [
      " 28% 28/100 [00:08<00:17,  4.13it/s]\u001b[0m \n",
      " 29% 29/100 [00:08<00:16,  4.23it/s]\u001b[0m \n"
     ]
    },
    {
     "name": "stdout",
     "output_type": "stream",
     "text": [
      "\u001b[2m\u001b[36m(pid=7207, ip=192.168.8.53)\u001b[0m Cache disk full, cleaning.\n",
      "\u001b[2m\u001b[36m(pid=7207, ip=192.168.8.53)\u001b[0m Cache disk full, cleaning.\n"
     ]
    },
    {
     "name": "stderr",
     "output_type": "stream",
     "text": [
      " 30% 30/100 [00:08<00:15,  4.39it/s]\u001b[0m \n",
      " 31% 31/100 [00:08<00:14,  4.91it/s]\u001b[0m \n"
     ]
    },
    {
     "name": "stdout",
     "output_type": "stream",
     "text": [
      "\u001b[2m\u001b[36m(pid=7207, ip=192.168.8.53)\u001b[0m Cache disk full, cleaning.\n",
      "\u001b[2m\u001b[36m(pid=7207, ip=192.168.8.53)\u001b[0m Cache disk full, cleaning.\n",
      "\u001b[2m\u001b[36m(pid=7207, ip=192.168.8.53)\u001b[0m Cache disk full, cleaning.\n"
     ]
    },
    {
     "name": "stderr",
     "output_type": "stream",
     "text": [
      " 33% 33/100 [00:09<00:11,  5.65it/s]\u001b[0m \n"
     ]
    },
    {
     "name": "stdout",
     "output_type": "stream",
     "text": [
      "\u001b[2m\u001b[36m(pid=7207, ip=192.168.8.53)\u001b[0m Cache disk full, cleaning.\n",
      "\u001b[2m\u001b[36m(pid=7207, ip=192.168.8.53)\u001b[0m Cache disk full, cleaning.\n",
      "\u001b[2m\u001b[36m(pid=7207, ip=192.168.8.53)\u001b[0m Cache disk full, cleaning.\n"
     ]
    },
    {
     "name": "stderr",
     "output_type": "stream",
     "text": [
      " 35% 35/100 [00:09<00:11,  5.84it/s]\u001b[0m \n",
      " 37% 37/100 [00:09<00:09,  6.77it/s]\u001b[0m \n"
     ]
    },
    {
     "name": "stdout",
     "output_type": "stream",
     "text": [
      "\u001b[2m\u001b[36m(pid=7207, ip=192.168.8.53)\u001b[0m Cache disk full, cleaning.\n",
      "\u001b[2m\u001b[36m(pid=7207, ip=192.168.8.53)\u001b[0m Cache disk full, cleaning.\n"
     ]
    },
    {
     "name": "stderr",
     "output_type": "stream",
     "text": [
      " 38% 38/100 [00:09<00:08,  7.04it/s]\u001b[0m \n"
     ]
    },
    {
     "name": "stdout",
     "output_type": "stream",
     "text": [
      "\u001b[2m\u001b[36m(pid=7207, ip=192.168.8.53)\u001b[0m Cache disk full, cleaning.\n"
     ]
    },
    {
     "name": "stderr",
     "output_type": "stream",
     "text": [
      " 40% 40/100 [00:09<00:07,  7.84it/s]\u001b[0m \n"
     ]
    },
    {
     "name": "stdout",
     "output_type": "stream",
     "text": [
      "\u001b[2m\u001b[36m(pid=7207, ip=192.168.8.53)\u001b[0m Cache disk full, cleaning.\n",
      "\u001b[2m\u001b[36m(pid=7207, ip=192.168.8.53)\u001b[0m Cache disk full, cleaning.\n",
      "\u001b[2m\u001b[36m(pid=7207, ip=192.168.8.53)\u001b[0m Cache disk full, cleaning.\n"
     ]
    },
    {
     "name": "stderr",
     "output_type": "stream",
     "text": [
      " 41% 41/100 [00:10<00:10,  5.72it/s]\u001b[0m \n",
      " 43% 43/100 [00:10<00:08,  6.86it/s]\u001b[0m \n"
     ]
    },
    {
     "name": "stdout",
     "output_type": "stream",
     "text": [
      "\u001b[2m\u001b[36m(pid=7207, ip=192.168.8.53)\u001b[0m Cache disk full, cleaning.\n",
      "\u001b[2m\u001b[36m(pid=7207, ip=192.168.8.53)\u001b[0m Cache disk full, cleaning.\n",
      "\u001b[2m\u001b[36m(pid=7207, ip=192.168.8.53)\u001b[0m Cache disk full, cleaning.\n"
     ]
    },
    {
     "name": "stderr",
     "output_type": "stream",
     "text": [
      " 44% 44/100 [00:10<00:08,  6.53it/s]\u001b[0m \n",
      " 46% 46/100 [00:10<00:06,  7.72it/s]\u001b[0m \n"
     ]
    },
    {
     "name": "stdout",
     "output_type": "stream",
     "text": [
      "\u001b[2m\u001b[36m(pid=7207, ip=192.168.8.53)\u001b[0m Cache disk full, cleaning.\n",
      "\u001b[2m\u001b[36m(pid=7207, ip=192.168.8.53)\u001b[0m Cache disk full, cleaning.\n"
     ]
    },
    {
     "name": "stderr",
     "output_type": "stream",
     "text": [
      " 47% 47/100 [00:10<00:08,  6.34it/s]\u001b[0m \n"
     ]
    },
    {
     "name": "stdout",
     "output_type": "stream",
     "text": [
      "\u001b[2m\u001b[36m(pid=7207, ip=192.168.8.53)\u001b[0m Cache disk full, cleaning.\n",
      "\u001b[2m\u001b[36m(pid=7207, ip=192.168.8.53)\u001b[0m Cache disk full, cleaning.\n"
     ]
    },
    {
     "name": "stderr",
     "output_type": "stream",
     "text": [
      " 49% 49/100 [00:11<00:07,  7.11it/s]\u001b[0m \n",
      " 50% 50/100 [00:11<00:07,  6.96it/s]\u001b[0m \n"
     ]
    },
    {
     "name": "stdout",
     "output_type": "stream",
     "text": [
      "\u001b[2m\u001b[36m(pid=7207, ip=192.168.8.53)\u001b[0m Cache disk full, cleaning.\n"
     ]
    },
    {
     "name": "stderr",
     "output_type": "stream",
     "text": [
      " 51% 51/100 [00:11<00:12,  3.99it/s]\u001b[0m \n"
     ]
    },
    {
     "name": "stdout",
     "output_type": "stream",
     "text": [
      "\u001b[2m\u001b[36m(pid=7207, ip=192.168.8.53)\u001b[0m Cache disk full, cleaning.\n",
      "\u001b[2m\u001b[36m(pid=7207, ip=192.168.8.53)\u001b[0m Cache disk full, cleaning.\n"
     ]
    },
    {
     "name": "stderr",
     "output_type": "stream",
     "text": [
      " 52% 52/100 [00:12<00:11,  4.14it/s]\u001b[0m \n",
      " 53% 53/100 [00:12<00:10,  4.66it/s]\u001b[0m \n"
     ]
    },
    {
     "name": "stdout",
     "output_type": "stream",
     "text": [
      "\u001b[2m\u001b[36m(pid=7207, ip=192.168.8.53)\u001b[0m Cache disk full, cleaning.\n",
      "\u001b[2m\u001b[36m(pid=7207, ip=192.168.8.53)\u001b[0m Cache disk full, cleaning.\n",
      "\u001b[2m\u001b[36m(pid=7207, ip=192.168.8.53)\u001b[0m Cache disk full, cleaning.\n"
     ]
    },
    {
     "name": "stderr",
     "output_type": "stream",
     "text": [
      " 54% 54/100 [00:12<00:09,  4.74it/s]\u001b[0m \n",
      " 56% 56/100 [00:12<00:07,  5.65it/s]\u001b[0m \n"
     ]
    },
    {
     "name": "stdout",
     "output_type": "stream",
     "text": [
      "\u001b[2m\u001b[36m(pid=7207, ip=192.168.8.53)\u001b[0m Cache disk full, cleaning.\n",
      "\u001b[2m\u001b[36m(pid=7207, ip=192.168.8.53)\u001b[0m Cache disk full, cleaning.\n"
     ]
    },
    {
     "name": "stderr",
     "output_type": "stream",
     "text": [
      " 57% 57/100 [00:13<00:15,  2.74it/s]\u001b[0m \n"
     ]
    },
    {
     "name": "stdout",
     "output_type": "stream",
     "text": [
      "\u001b[2m\u001b[36m(pid=7207, ip=192.168.8.53)\u001b[0m Cache disk full, cleaning.\n"
     ]
    },
    {
     "name": "stderr",
     "output_type": "stream",
     "text": [
      " 59% 59/100 [00:13<00:12,  3.23it/s]\u001b[0m \n"
     ]
    },
    {
     "name": "stdout",
     "output_type": "stream",
     "text": [
      "\u001b[2m\u001b[36m(pid=7207, ip=192.168.8.53)\u001b[0m Cache disk full, cleaning.\n"
     ]
    },
    {
     "name": "stderr",
     "output_type": "stream",
     "text": [
      " 60% 60/100 [00:14<00:12,  3.20it/s]\u001b[0m \n"
     ]
    },
    {
     "name": "stdout",
     "output_type": "stream",
     "text": [
      "\u001b[2m\u001b[36m(pid=7207, ip=192.168.8.53)\u001b[0m Cache disk full, cleaning.\n",
      "\u001b[2m\u001b[36m(pid=7207, ip=192.168.8.53)\u001b[0m Cache disk full, cleaning.\n"
     ]
    },
    {
     "name": "stderr",
     "output_type": "stream",
     "text": [
      " 61% 61/100 [00:14<00:11,  3.33it/s]\u001b[0m \n"
     ]
    },
    {
     "name": "stdout",
     "output_type": "stream",
     "text": [
      "\u001b[2m\u001b[36m(pid=7207, ip=192.168.8.53)\u001b[0m Cache disk full, cleaning.\n",
      "\u001b[2m\u001b[36m(pid=7207, ip=192.168.8.53)\u001b[0m Cache disk full, cleaning.\n"
     ]
    },
    {
     "name": "stderr",
     "output_type": "stream",
     "text": [
      " 63% 63/100 [00:15<00:12,  2.97it/s]\u001b[0m \n",
      " 64% 64/100 [00:15<00:10,  3.58it/s]\u001b[0m \n"
     ]
    },
    {
     "name": "stdout",
     "output_type": "stream",
     "text": [
      "\u001b[2m\u001b[36m(pid=7207, ip=192.168.8.53)\u001b[0m Cache disk full, cleaning.\n",
      "\u001b[2m\u001b[36m(pid=7207, ip=192.168.8.53)\u001b[0m Cache disk full, cleaning.\n",
      "\u001b[2m\u001b[36m(pid=7207, ip=192.168.8.53)\u001b[0m Cache disk full, cleaning.\n"
     ]
    },
    {
     "name": "stderr",
     "output_type": "stream",
     "text": [
      " 66% 66/100 [00:15<00:08,  4.00it/s]\u001b[0m \n"
     ]
    },
    {
     "name": "stdout",
     "output_type": "stream",
     "text": [
      "\u001b[2m\u001b[36m(pid=7207, ip=192.168.8.53)\u001b[0m Cache disk full, cleaning.\n",
      "\u001b[2m\u001b[36m(pid=7207, ip=192.168.8.53)\u001b[0m Cache disk full, cleaning.\n"
     ]
    },
    {
     "name": "stderr",
     "output_type": "stream",
     "text": [
      " 68% 68/100 [00:15<00:06,  4.64it/s]\u001b[0m \n",
      " 69% 69/100 [00:16<00:05,  5.20it/s]\u001b[0m \n"
     ]
    },
    {
     "name": "stdout",
     "output_type": "stream",
     "text": [
      "\u001b[2m\u001b[36m(pid=7207, ip=192.168.8.53)\u001b[0m Cache disk full, cleaning.\n",
      "\u001b[2m\u001b[36m(pid=7207, ip=192.168.8.53)\u001b[0m Cache disk full, cleaning.\n"
     ]
    },
    {
     "name": "stderr",
     "output_type": "stream",
     "text": [
      " 70% 70/100 [00:16<00:04,  6.00it/s]\u001b[0m \n",
      " 71% 71/100 [00:16<00:04,  5.84it/s]\u001b[0m \n"
     ]
    },
    {
     "name": "stdout",
     "output_type": "stream",
     "text": [
      "\u001b[2m\u001b[36m(pid=7207, ip=192.168.8.53)\u001b[0m Cache disk full, cleaning.\n"
     ]
    },
    {
     "name": "stderr",
     "output_type": "stream",
     "text": [
      " 72% 72/100 [00:17<00:09,  2.91it/s]\u001b[0m \n"
     ]
    },
    {
     "name": "stdout",
     "output_type": "stream",
     "text": [
      "\u001b[2m\u001b[36m(pid=7207, ip=192.168.8.53)\u001b[0m Cache disk full, cleaning.\n",
      "\u001b[2m\u001b[36m(pid=7207, ip=192.168.8.53)\u001b[0m Cache disk full, cleaning.\n"
     ]
    },
    {
     "name": "stderr",
     "output_type": "stream",
     "text": [
      " 73% 73/100 [00:17<00:12,  2.16it/s]\u001b[0m \n",
      " 74% 74/100 [00:17<00:09,  2.79it/s]\u001b[0m \n"
     ]
    },
    {
     "name": "stdout",
     "output_type": "stream",
     "text": [
      "\u001b[2m\u001b[36m(pid=7207, ip=192.168.8.53)\u001b[0m Cache disk full, cleaning.\n",
      "\u001b[2m\u001b[36m(pid=7207, ip=192.168.8.53)\u001b[0m Cache disk full, cleaning.\n",
      "\u001b[2m\u001b[36m(pid=7207, ip=192.168.8.53)\u001b[0m Cache disk full, cleaning.\n"
     ]
    },
    {
     "name": "stderr",
     "output_type": "stream",
     "text": [
      " 75% 75/100 [00:18<00:07,  3.45it/s]\u001b[0m \n",
      " 76% 76/100 [00:18<00:05,  4.22it/s]\u001b[0m \n"
     ]
    },
    {
     "name": "stdout",
     "output_type": "stream",
     "text": [
      "\u001b[2m\u001b[36m(pid=7207, ip=192.168.8.53)\u001b[0m Cache disk full, cleaning.\n",
      "\u001b[2m\u001b[36m(pid=7207, ip=192.168.8.53)\u001b[0m Cache disk full, cleaning.\n",
      "\u001b[2m\u001b[36m(pid=7207, ip=192.168.8.53)\u001b[0m Cache disk full, cleaning.\n"
     ]
    },
    {
     "name": "stderr",
     "output_type": "stream",
     "text": [
      " 78% 78/100 [00:18<00:04,  5.03it/s]\u001b[0m \n",
      " 80% 80/100 [00:18<00:03,  6.13it/s]\u001b[0m \n"
     ]
    },
    {
     "name": "stdout",
     "output_type": "stream",
     "text": [
      "\u001b[2m\u001b[36m(pid=7207, ip=192.168.8.53)\u001b[0m Cache disk full, cleaning.\n",
      "\u001b[2m\u001b[36m(pid=7207, ip=192.168.8.53)\u001b[0m Cache disk full, cleaning.\n"
     ]
    },
    {
     "name": "stderr",
     "output_type": "stream",
     "text": [
      " 81% 81/100 [00:18<00:03,  5.77it/s]\u001b[0m \n",
      " 82% 82/100 [00:18<00:02,  6.22it/s]\u001b[0m \n"
     ]
    },
    {
     "name": "stdout",
     "output_type": "stream",
     "text": [
      "\u001b[2m\u001b[36m(pid=7207, ip=192.168.8.53)\u001b[0m Cache disk full, cleaning.\n",
      "\u001b[2m\u001b[36m(pid=7207, ip=192.168.8.53)\u001b[0m Cache disk full, cleaning.\n"
     ]
    },
    {
     "name": "stderr",
     "output_type": "stream",
     "text": [
      " 83% 83/100 [00:19<00:02,  6.54it/s]\u001b[0m \n",
      " 84% 84/100 [00:19<00:02,  6.21it/s]\u001b[0m \n"
     ]
    },
    {
     "name": "stdout",
     "output_type": "stream",
     "text": [
      "\u001b[2m\u001b[36m(pid=7207, ip=192.168.8.53)\u001b[0m Cache disk full, cleaning.\n",
      "\u001b[2m\u001b[36m(pid=7207, ip=192.168.8.53)\u001b[0m Cache disk full, cleaning.\n",
      "\u001b[2m\u001b[36m(pid=7207, ip=192.168.8.53)\u001b[0m Cache disk full, cleaning.\n"
     ]
    },
    {
     "name": "stderr",
     "output_type": "stream",
     "text": [
      " 85% 85/100 [00:19<00:02,  6.90it/s]\u001b[0m \n",
      " 86% 86/100 [00:19<00:01,  7.25it/s]\u001b[0m \n"
     ]
    },
    {
     "name": "stdout",
     "output_type": "stream",
     "text": [
      "\u001b[2m\u001b[36m(pid=7207, ip=192.168.8.53)\u001b[0m Cache disk full, cleaning.\n",
      "\u001b[2m\u001b[36m(pid=7207, ip=192.168.8.53)\u001b[0m Cache disk full, cleaning.\n"
     ]
    },
    {
     "name": "stderr",
     "output_type": "stream",
     "text": [
      " 88% 88/100 [00:19<00:01,  8.26it/s]\u001b[0m \n"
     ]
    },
    {
     "name": "stdout",
     "output_type": "stream",
     "text": [
      "\u001b[2m\u001b[36m(pid=7207, ip=192.168.8.53)\u001b[0m Cache disk full, cleaning.\n"
     ]
    },
    {
     "name": "stderr",
     "output_type": "stream",
     "text": [
      " 90% 90/100 [00:20<00:01,  6.94it/s]\u001b[0m \n"
     ]
    },
    {
     "name": "stdout",
     "output_type": "stream",
     "text": [
      "\u001b[2m\u001b[36m(pid=7207, ip=192.168.8.53)\u001b[0m Cache disk full, cleaning.\n",
      "\u001b[2m\u001b[36m(pid=7207, ip=192.168.8.53)\u001b[0m Cache disk full, cleaning.\n"
     ]
    },
    {
     "name": "stderr",
     "output_type": "stream",
     "text": [
      " 91% 91/100 [00:20<00:01,  6.37it/s]\u001b[0m \n"
     ]
    },
    {
     "name": "stdout",
     "output_type": "stream",
     "text": [
      "\u001b[2m\u001b[36m(pid=7207, ip=192.168.8.53)\u001b[0m Cache disk full, cleaning.\n",
      "\u001b[2m\u001b[36m(pid=7207, ip=192.168.8.53)\u001b[0m Cache disk full, cleaning.\n"
     ]
    },
    {
     "name": "stderr",
     "output_type": "stream",
     "text": [
      " 93% 93/100 [00:20<00:00,  7.08it/s]\u001b[0m \n",
      " 94% 94/100 [00:20<00:00,  7.48it/s]\u001b[0m \n"
     ]
    },
    {
     "name": "stdout",
     "output_type": "stream",
     "text": [
      "\u001b[2m\u001b[36m(pid=7207, ip=192.168.8.53)\u001b[0m Cache disk full, cleaning.\n",
      "\u001b[2m\u001b[36m(pid=7207, ip=192.168.8.53)\u001b[0m Cache disk full, cleaning.\n"
     ]
    },
    {
     "name": "stderr",
     "output_type": "stream",
     "text": [
      " 95% 95/100 [00:20<00:00,  7.62it/s]\u001b[0m \n",
      " 96% 96/100 [00:20<00:00,  7.92it/s]\u001b[0m \n"
     ]
    },
    {
     "name": "stdout",
     "output_type": "stream",
     "text": [
      "\u001b[2m\u001b[36m(pid=7207, ip=192.168.8.53)\u001b[0m Cache disk full, cleaning.\n",
      "\u001b[2m\u001b[36m(pid=7207, ip=192.168.8.53)\u001b[0m Cache disk full, cleaning.\n",
      "\u001b[2m\u001b[36m(pid=7207, ip=192.168.8.53)\u001b[0m Cache disk full, cleaning.\n"
     ]
    },
    {
     "name": "stderr",
     "output_type": "stream",
     "text": [
      " 98% 98/100 [00:20<00:00,  8.88it/s]\u001b[0m \n"
     ]
    },
    {
     "name": "stdout",
     "output_type": "stream",
     "text": [
      "\u001b[2m\u001b[36m(pid=7207, ip=192.168.8.53)\u001b[0m Cache disk full, cleaning.\n"
     ]
    },
    {
     "name": "stderr",
     "output_type": "stream",
     "text": [
      "100% 100/100 [00:21<00:00,  8.70it/s][0m \n",
      "100% 100/100 [00:23<00:00,  4.18it/s][0m \n",
      "\u001b[2m\u001b[36m(pid=7207, ip=192.168.8.53)\u001b[0m \n",
      "\u001b[2m\u001b[36m(pid=7207, ip=192.168.8.53)\u001b[0m wandb: Waiting for W&B process to finish, PID 14792\n",
      "\u001b[2m\u001b[36m(pid=7207, ip=192.168.8.53)\u001b[0m wandb: Program ended successfully.\n",
      "\u001b[2m\u001b[36m(pid=7207, ip=192.168.8.53)\u001b[0m wandb: Run summary:\n",
      "\u001b[2m\u001b[36m(pid=7207, ip=192.168.8.53)\u001b[0m wandb:               _step 110492\n",
      "\u001b[2m\u001b[36m(pid=7207, ip=192.168.8.53)\u001b[0m wandb:            _runtime 1001.4237859249115\n",
      "\u001b[2m\u001b[36m(pid=7207, ip=192.168.8.53)\u001b[0m wandb:          _timestamp 1608043255.2997293\n",
      "\u001b[2m\u001b[36m(pid=7207, ip=192.168.8.53)\u001b[0m wandb:     mAP all classes 47.499132754831386\n",
      "\u001b[2m\u001b[36m(pid=7207, ip=192.168.8.53)\u001b[0m wandb: Syncing files in ../../../Trainings/wandb/wandb/run-20201215_144022-2wfg5hig:\n",
      "\u001b[2m\u001b[36m(pid=7207, ip=192.168.8.53)\u001b[0m wandb:   code/default_worker.py\n",
      "\u001b[2m\u001b[36m(pid=7207, ip=192.168.8.53)\u001b[0m wandb: plus 8 W&B file(s) and 6 media file(s)\n",
      "\u001b[2m\u001b[36m(pid=7207, ip=192.168.8.53)\u001b[0m wandb: - 0.01MB of 0.01MB uploaded\n",
      "\u001b[2m\u001b[36m(pid=7207, ip=192.168.8.53)\u001b[0m wandb: \\ 0.86MB of 0.86MB uploaded\n",
      "\u001b[2m\u001b[36m(pid=7207, ip=192.168.8.53)\u001b[0m wandb: | 0.86MB of 0.86MB uploaded\n",
      "\u001b[2m\u001b[36m(pid=7207, ip=192.168.8.53)\u001b[0m wandb: / 0.86MB of 0.86MB uploaded\n",
      "\u001b[2m\u001b[36m(pid=7207, ip=192.168.8.53)\u001b[0m wandb: - 0.86MB of 0.86MB uploaded\n",
      "wandb:                                                                                \n",
      "\u001b[2m\u001b[36m(pid=7207, ip=192.168.8.53)\u001b[0m wandb: Synced: http://192.168.8.51:8080/reminiz/Violence%20Detection/runs/2wfg5hig\n"
     ]
    },
    {
     "name": "stdout",
     "output_type": "stream",
     "text": [
      "\u001b[2m\u001b[36m(pid=22231, ip=192.168.8.52)\u001b[0m Change to split learning\n",
      "\u001b[2m\u001b[36m(pid=22231, ip=192.168.8.52)\u001b[0m Previus weigths 1.0 0\n",
      "\u001b[2m\u001b[36m(pid=22231, ip=192.168.8.52)\u001b[0m Updated weigths 0 1.0\n"
     ]
    },
    {
     "name": "stderr",
     "output_type": "stream",
     "text": [
      "\u001b[2m\u001b[36m(pid=9631)\u001b[0m /home/reminiz/ReminizML2/python_env/lib/python3.7/site-packages/tensorflow/python/framework/dtypes.py:526: FutureWarning: Passing (type, 1) or '1type' as a synonym of type is deprecated; in a future version of numpy, it will be understood as (type, (1,)) / '(1,)type'.\n",
      "\u001b[2m\u001b[36m(pid=9631)\u001b[0m   _np_qint8 = np.dtype([(\"qint8\", np.int8, 1)])\n",
      "\u001b[2m\u001b[36m(pid=9631)\u001b[0m /home/reminiz/ReminizML2/python_env/lib/python3.7/site-packages/tensorflow/python/framework/dtypes.py:527: FutureWarning: Passing (type, 1) or '1type' as a synonym of type is deprecated; in a future version of numpy, it will be understood as (type, (1,)) / '(1,)type'.\n",
      "\u001b[2m\u001b[36m(pid=9631)\u001b[0m   _np_quint8 = np.dtype([(\"quint8\", np.uint8, 1)])\n",
      "\u001b[2m\u001b[36m(pid=9631)\u001b[0m /home/reminiz/ReminizML2/python_env/lib/python3.7/site-packages/tensorflow/python/framework/dtypes.py:528: FutureWarning: Passing (type, 1) or '1type' as a synonym of type is deprecated; in a future version of numpy, it will be understood as (type, (1,)) / '(1,)type'.\n",
      "\u001b[2m\u001b[36m(pid=9631)\u001b[0m   _np_qint16 = np.dtype([(\"qint16\", np.int16, 1)])\n",
      "\u001b[2m\u001b[36m(pid=9631)\u001b[0m /home/reminiz/ReminizML2/python_env/lib/python3.7/site-packages/tensorflow/python/framework/dtypes.py:529: FutureWarning: Passing (type, 1) or '1type' as a synonym of type is deprecated; in a future version of numpy, it will be understood as (type, (1,)) / '(1,)type'.\n",
      "\u001b[2m\u001b[36m(pid=9631)\u001b[0m   _np_quint16 = np.dtype([(\"quint16\", np.uint16, 1)])\n",
      "\u001b[2m\u001b[36m(pid=9631)\u001b[0m /home/reminiz/ReminizML2/python_env/lib/python3.7/site-packages/tensorflow/python/framework/dtypes.py:530: FutureWarning: Passing (type, 1) or '1type' as a synonym of type is deprecated; in a future version of numpy, it will be understood as (type, (1,)) / '(1,)type'.\n",
      "\u001b[2m\u001b[36m(pid=9631)\u001b[0m   _np_qint32 = np.dtype([(\"qint32\", np.int32, 1)])\n",
      "\u001b[2m\u001b[36m(pid=9631)\u001b[0m /home/reminiz/ReminizML2/python_env/lib/python3.7/site-packages/tensorflow/python/framework/dtypes.py:535: FutureWarning: Passing (type, 1) or '1type' as a synonym of type is deprecated; in a future version of numpy, it will be understood as (type, (1,)) / '(1,)type'.\n",
      "\u001b[2m\u001b[36m(pid=9631)\u001b[0m   np_resource = np.dtype([(\"resource\", np.ubyte, 1)])\n",
      "\u001b[2m\u001b[36m(pid=9631)\u001b[0m 2020-12-15 15:49:26.206280: I tensorflow/core/platform/cpu_feature_guard.cc:141] Your CPU supports instructions that this TensorFlow binary was not compiled to use: AVX2 FMA\n",
      "\u001b[2m\u001b[36m(pid=9631)\u001b[0m 2020-12-15 15:49:26.232967: I tensorflow/core/platform/profile_utils/cpu_utils.cc:94] CPU Frequency: 3300280000 Hz\n",
      "\u001b[2m\u001b[36m(pid=9631)\u001b[0m 2020-12-15 15:49:26.234124: I tensorflow/compiler/xla/service/service.cc:150] XLA service 0x53ce000 executing computations on platform Host. Devices:\n",
      "\u001b[2m\u001b[36m(pid=9631)\u001b[0m 2020-12-15 15:49:26.234160: I tensorflow/compiler/xla/service/service.cc:158]   StreamExecutor device (0): <undefined>, <undefined>\n",
      "\u001b[2m\u001b[36m(pid=9631)\u001b[0m 2020-12-15 15:49:26.513813: I tensorflow/compiler/xla/service/service.cc:150] XLA service 0x540a2c0 executing computations on platform CUDA. Devices:\n",
      "\u001b[2m\u001b[36m(pid=9631)\u001b[0m 2020-12-15 15:49:26.513868: I tensorflow/compiler/xla/service/service.cc:158]   StreamExecutor device (0): TITAN RTX, Compute Capability 7.5\n",
      "\u001b[2m\u001b[36m(pid=9631)\u001b[0m 2020-12-15 15:49:26.514113: I tensorflow/core/common_runtime/gpu/gpu_device.cc:1433] Found device 0 with properties: \n",
      "\u001b[2m\u001b[36m(pid=9631)\u001b[0m name: TITAN RTX major: 7 minor: 5 memoryClockRate(GHz): 1.77\n",
      "\u001b[2m\u001b[36m(pid=9631)\u001b[0m pciBusID: 0000:06:00.0\n",
      "\u001b[2m\u001b[36m(pid=9631)\u001b[0m totalMemory: 23.65GiB freeMemory: 23.48GiB\n",
      "\u001b[2m\u001b[36m(pid=9631)\u001b[0m 2020-12-15 15:49:26.514149: I tensorflow/core/common_runtime/gpu/gpu_device.cc:1512] Adding visible gpu devices: 0\n",
      "\u001b[2m\u001b[36m(pid=9631)\u001b[0m 2020-12-15 15:49:26.518331: I tensorflow/core/common_runtime/gpu/gpu_device.cc:984] Device interconnect StreamExecutor with strength 1 edge matrix:\n",
      "\u001b[2m\u001b[36m(pid=9631)\u001b[0m 2020-12-15 15:49:26.518366: I tensorflow/core/common_runtime/gpu/gpu_device.cc:990]      0 \n",
      "\u001b[2m\u001b[36m(pid=9631)\u001b[0m 2020-12-15 15:49:26.518380: I tensorflow/core/common_runtime/gpu/gpu_device.cc:1003] 0:   N \n",
      "\u001b[2m\u001b[36m(pid=9631)\u001b[0m 2020-12-15 15:49:26.518520: I tensorflow/core/common_runtime/gpu/gpu_device.cc:1115] Created TensorFlow device (/job:localhost/replica:0/task:0/device:GPU:0 with 22844 MB memory) -> physical GPU (device: 0, name: TITAN RTX, pci bus id: 0000:06:00.0, compute capability: 7.5)\n",
      "\u001b[2m\u001b[36m(pid=9631)\u001b[0m WARNING:tensorflow:From /home/reminiz/ReminizML2/python_env/lib/python3.7/site-packages/tensorflow/python/ops/resource_variable_ops.py:435: colocate_with (from tensorflow.python.framework.ops) is deprecated and will be removed in a future version.\n",
      "\u001b[2m\u001b[36m(pid=9631)\u001b[0m Instructions for updating:\n",
      "\u001b[2m\u001b[36m(pid=9631)\u001b[0m Colocations handled automatically by placer.\n"
     ]
    },
    {
     "name": "stdout",
     "output_type": "stream",
     "text": [
      "\u001b[2m\u001b[36m(pid=9631)\u001b[0m \u001b[6;30;42mAL_Inference_0\u001b[0m Init done\n",
      "\u001b[2m\u001b[36m(pid=9631)\u001b[0m \u001b[6;30;42mAL_Inference_0\u001b[0m Restoring from /mnt/Ressources/Andres/Temp_active/runs/Active_Learning_keras_v0/Stage_0/checkpoints/checkpoint.200.hdf5\n"
     ]
    },
    {
     "name": "stderr",
     "output_type": "stream",
     "text": [
      "\u001b[2m\u001b[36m(pid=9631)\u001b[0m 2020-12-15 15:49:36.722134: I tensorflow/stream_executor/dso_loader.cc:152] successfully opened CUDA library libcublas.so.10.0 locally\n",
      "\u001b[2m\u001b[36m(pid=22231, ip=192.168.8.52)\u001b[0m \n",
      "\u001b[2m\u001b[36m(pid=22231, ip=192.168.8.52)\u001b[0m wandb: Waiting for W&B process to finish, PID 26375\n",
      "\u001b[2m\u001b[36m(pid=17699, ip=192.168.8.53)\u001b[0m /home/reminiz/ReminizML2/python_env/lib/python3.7/site-packages/tensorflow/python/framework/dtypes.py:526: FutureWarning: Passing (type, 1) or '1type' as a synonym of type is deprecated; in a future version of numpy, it will be understood as (type, (1,)) / '(1,)type'.\n",
      "\u001b[2m\u001b[36m(pid=17699, ip=192.168.8.53)\u001b[0m   _np_qint8 = np.dtype([(\"qint8\", np.int8, 1)])\n",
      "\u001b[2m\u001b[36m(pid=17699, ip=192.168.8.53)\u001b[0m /home/reminiz/ReminizML2/python_env/lib/python3.7/site-packages/tensorflow/python/framework/dtypes.py:527: FutureWarning: Passing (type, 1) or '1type' as a synonym of type is deprecated; in a future version of numpy, it will be understood as (type, (1,)) / '(1,)type'.\n",
      "\u001b[2m\u001b[36m(pid=17699, ip=192.168.8.53)\u001b[0m   _np_quint8 = np.dtype([(\"quint8\", np.uint8, 1)])\n",
      "\u001b[2m\u001b[36m(pid=17699, ip=192.168.8.53)\u001b[0m /home/reminiz/ReminizML2/python_env/lib/python3.7/site-packages/tensorflow/python/framework/dtypes.py:528: FutureWarning: Passing (type, 1) or '1type' as a synonym of type is deprecated; in a future version of numpy, it will be understood as (type, (1,)) / '(1,)type'.\n",
      "\u001b[2m\u001b[36m(pid=17699, ip=192.168.8.53)\u001b[0m   _np_qint16 = np.dtype([(\"qint16\", np.int16, 1)])\n",
      "\u001b[2m\u001b[36m(pid=17699, ip=192.168.8.53)\u001b[0m /home/reminiz/ReminizML2/python_env/lib/python3.7/site-packages/tensorflow/python/framework/dtypes.py:529: FutureWarning: Passing (type, 1) or '1type' as a synonym of type is deprecated; in a future version of numpy, it will be understood as (type, (1,)) / '(1,)type'.\n",
      "\u001b[2m\u001b[36m(pid=17699, ip=192.168.8.53)\u001b[0m   _np_quint16 = np.dtype([(\"quint16\", np.uint16, 1)])\n",
      "\u001b[2m\u001b[36m(pid=17699, ip=192.168.8.53)\u001b[0m /home/reminiz/ReminizML2/python_env/lib/python3.7/site-packages/tensorflow/python/framework/dtypes.py:530: FutureWarning: Passing (type, 1) or '1type' as a synonym of type is deprecated; in a future version of numpy, it will be understood as (type, (1,)) / '(1,)type'.\n",
      "\u001b[2m\u001b[36m(pid=17699, ip=192.168.8.53)\u001b[0m   _np_qint32 = np.dtype([(\"qint32\", np.int32, 1)])\n",
      "\u001b[2m\u001b[36m(pid=17699, ip=192.168.8.53)\u001b[0m /home/reminiz/ReminizML2/python_env/lib/python3.7/site-packages/tensorflow/python/framework/dtypes.py:535: FutureWarning: Passing (type, 1) or '1type' as a synonym of type is deprecated; in a future version of numpy, it will be understood as (type, (1,)) / '(1,)type'.\n",
      "\u001b[2m\u001b[36m(pid=17699, ip=192.168.8.53)\u001b[0m   np_resource = np.dtype([(\"resource\", np.ubyte, 1)])\n",
      "\u001b[2m\u001b[36m(pid=22231, ip=192.168.8.52)\u001b[0m wandb: Program ended successfully.\n",
      "\u001b[2m\u001b[36m(pid=17699, ip=192.168.8.53)\u001b[0m 2020-12-15 15:53:59.408109: I tensorflow/core/platform/cpu_feature_guard.cc:141] Your CPU supports instructions that this TensorFlow binary was not compiled to use: AVX2 FMA\n",
      "\u001b[2m\u001b[36m(pid=17699, ip=192.168.8.53)\u001b[0m 2020-12-15 15:53:59.433022: I tensorflow/core/platform/profile_utils/cpu_utils.cc:94] CPU Frequency: 3499950000 Hz\n",
      "\u001b[2m\u001b[36m(pid=17699, ip=192.168.8.53)\u001b[0m 2020-12-15 15:53:59.433652: I tensorflow/compiler/xla/service/service.cc:150] XLA service 0x555cd3d9e8f0 executing computations on platform Host. Devices:\n",
      "\u001b[2m\u001b[36m(pid=17699, ip=192.168.8.53)\u001b[0m 2020-12-15 15:53:59.433686: I tensorflow/compiler/xla/service/service.cc:158]   StreamExecutor device (0): <undefined>, <undefined>\n",
      "\u001b[2m\u001b[36m(pid=17699, ip=192.168.8.53)\u001b[0m 2020-12-15 15:53:59.556913: I tensorflow/compiler/xla/service/service.cc:150] XLA service 0x555cd0368a40 executing computations on platform CUDA. Devices:\n",
      "\u001b[2m\u001b[36m(pid=17699, ip=192.168.8.53)\u001b[0m 2020-12-15 15:53:59.556957: I tensorflow/compiler/xla/service/service.cc:158]   StreamExecutor device (0): GeForce GTX TITAN X, Compute Capability 5.2\n",
      "\u001b[2m\u001b[36m(pid=17699, ip=192.168.8.53)\u001b[0m 2020-12-15 15:53:59.557125: I tensorflow/core/common_runtime/gpu/gpu_device.cc:1433] Found device 0 with properties: \n",
      "\u001b[2m\u001b[36m(pid=17699, ip=192.168.8.53)\u001b[0m name: GeForce GTX TITAN X major: 5 minor: 2 memoryClockRate(GHz): 1.076\n",
      "\u001b[2m\u001b[36m(pid=17699, ip=192.168.8.53)\u001b[0m pciBusID: 0000:02:00.0\n",
      "\u001b[2m\u001b[36m(pid=17699, ip=192.168.8.53)\u001b[0m totalMemory: 11.93GiB freeMemory: 11.82GiB\n",
      "\u001b[2m\u001b[36m(pid=17699, ip=192.168.8.53)\u001b[0m 2020-12-15 15:53:59.557150: I tensorflow/core/common_runtime/gpu/gpu_device.cc:1512] Adding visible gpu devices: 0\n",
      "\u001b[2m\u001b[36m(pid=17699, ip=192.168.8.53)\u001b[0m 2020-12-15 15:53:59.559239: I tensorflow/core/common_runtime/gpu/gpu_device.cc:984] Device interconnect StreamExecutor with strength 1 edge matrix:\n",
      "\u001b[2m\u001b[36m(pid=17699, ip=192.168.8.53)\u001b[0m 2020-12-15 15:53:59.559262: I tensorflow/core/common_runtime/gpu/gpu_device.cc:990]      0 \n",
      "\u001b[2m\u001b[36m(pid=17699, ip=192.168.8.53)\u001b[0m 2020-12-15 15:53:59.559273: I tensorflow/core/common_runtime/gpu/gpu_device.cc:1003] 0:   N \n",
      "\u001b[2m\u001b[36m(pid=17699, ip=192.168.8.53)\u001b[0m 2020-12-15 15:53:59.559372: I tensorflow/core/common_runtime/gpu/gpu_device.cc:1115] Created TensorFlow device (/job:localhost/replica:0/task:0/device:GPU:0 with 11496 MB memory) -> physical GPU (device: 0, name: GeForce GTX TITAN X, pci bus id: 0000:02:00.0, compute capability: 5.2)\n",
      "\u001b[2m\u001b[36m(pid=17699, ip=192.168.8.53)\u001b[0m /home/reminiz/ReminizML2/python_env/lib/python3.7/site-packages/tensorboard/compat/tensorflow_stub/dtypes.py:541: FutureWarning: Passing (type, 1) or '1type' as a synonym of type is deprecated; in a future version of numpy, it will be understood as (type, (1,)) / '(1,)type'.\n",
      "\u001b[2m\u001b[36m(pid=17699, ip=192.168.8.53)\u001b[0m   _np_qint8 = np.dtype([(\"qint8\", np.int8, 1)])\n",
      "\u001b[2m\u001b[36m(pid=17699, ip=192.168.8.53)\u001b[0m /home/reminiz/ReminizML2/python_env/lib/python3.7/site-packages/tensorboard/compat/tensorflow_stub/dtypes.py:542: FutureWarning: Passing (type, 1) or '1type' as a synonym of type is deprecated; in a future version of numpy, it will be understood as (type, (1,)) / '(1,)type'.\n",
      "\u001b[2m\u001b[36m(pid=17699, ip=192.168.8.53)\u001b[0m   _np_quint8 = np.dtype([(\"quint8\", np.uint8, 1)])\n",
      "\u001b[2m\u001b[36m(pid=17699, ip=192.168.8.53)\u001b[0m /home/reminiz/ReminizML2/python_env/lib/python3.7/site-packages/tensorboard/compat/tensorflow_stub/dtypes.py:543: FutureWarning: Passing (type, 1) or '1type' as a synonym of type is deprecated; in a future version of numpy, it will be understood as (type, (1,)) / '(1,)type'.\n",
      "\u001b[2m\u001b[36m(pid=17699, ip=192.168.8.53)\u001b[0m   _np_qint16 = np.dtype([(\"qint16\", np.int16, 1)])\n",
      "\u001b[2m\u001b[36m(pid=17699, ip=192.168.8.53)\u001b[0m /home/reminiz/ReminizML2/python_env/lib/python3.7/site-packages/tensorboard/compat/tensorflow_stub/dtypes.py:544: FutureWarning: Passing (type, 1) or '1type' as a synonym of type is deprecated; in a future version of numpy, it will be understood as (type, (1,)) / '(1,)type'.\n",
      "\u001b[2m\u001b[36m(pid=17699, ip=192.168.8.53)\u001b[0m   _np_quint16 = np.dtype([(\"quint16\", np.uint16, 1)])\n",
      "\u001b[2m\u001b[36m(pid=17699, ip=192.168.8.53)\u001b[0m /home/reminiz/ReminizML2/python_env/lib/python3.7/site-packages/tensorboard/compat/tensorflow_stub/dtypes.py:545: FutureWarning: Passing (type, 1) or '1type' as a synonym of type is deprecated; in a future version of numpy, it will be understood as (type, (1,)) / '(1,)type'.\n",
      "\u001b[2m\u001b[36m(pid=17699, ip=192.168.8.53)\u001b[0m   _np_qint32 = np.dtype([(\"qint32\", np.int32, 1)])\n",
      "\u001b[2m\u001b[36m(pid=17699, ip=192.168.8.53)\u001b[0m /home/reminiz/ReminizML2/python_env/lib/python3.7/site-packages/tensorboard/compat/tensorflow_stub/dtypes.py:550: FutureWarning: Passing (type, 1) or '1type' as a synonym of type is deprecated; in a future version of numpy, it will be understood as (type, (1,)) / '(1,)type'.\n",
      "\u001b[2m\u001b[36m(pid=17699, ip=192.168.8.53)\u001b[0m   np_resource = np.dtype([(\"resource\", np.ubyte, 1)])\n",
      "\u001b[2m\u001b[36m(pid=17699, ip=192.168.8.53)\u001b[0m wandb: Tracking run with wandb version 0.8.36\n",
      "\u001b[2m\u001b[36m(pid=17699, ip=192.168.8.53)\u001b[0m wandb: Wandb version 0.10.12 is available!  To upgrade, please run:\n",
      "\u001b[2m\u001b[36m(pid=17699, ip=192.168.8.53)\u001b[0m wandb:  $ pip install wandb --upgrade\n",
      "\u001b[2m\u001b[36m(pid=17699, ip=192.168.8.53)\u001b[0m wandb: Run data is saved locally in ../../../Trainings/wandb/wandb/run-20201215_145359-1kj7pczi\n",
      "\u001b[2m\u001b[36m(pid=17699, ip=192.168.8.53)\u001b[0m wandb: Syncing run Train_7\n",
      "\u001b[2m\u001b[36m(pid=17699, ip=192.168.8.53)\u001b[0m wandb: ⭐️ View project at http://192.168.8.51:8080/reminiz/Active_Learning_CIFAR\n",
      "\u001b[2m\u001b[36m(pid=17699, ip=192.168.8.53)\u001b[0m wandb: 🚀 View run at http://192.168.8.51:8080/reminiz/Active_Learning_CIFAR/runs/1kj7pczi\n",
      "\u001b[2m\u001b[36m(pid=17699, ip=192.168.8.53)\u001b[0m wandb: Run `wandb off` to turn off syncing.\n",
      "\u001b[2m\u001b[36m(pid=22231, ip=192.168.8.52)\u001b[0m wandb: Run summary:\n",
      "\u001b[2m\u001b[36m(pid=22231, ip=192.168.8.52)\u001b[0m wandb:              l_pred_w_MAE_Lossnet 8.157937049865723\n",
      "\u001b[2m\u001b[36m(pid=22231, ip=192.168.8.52)\u001b[0m wandb:                   Classifier_loss 0.005136823281645775\n",
      "\u001b[2m\u001b[36m(pid=22231, ip=192.168.8.52)\u001b[0m wandb:                             _step 199\n",
      "\u001b[2m\u001b[36m(pid=22231, ip=192.168.8.52)\u001b[0m wandb:   Classifier_categorical_accuracy 0.99871426820755\n",
      "\u001b[2m\u001b[36m(pid=22231, ip=192.168.8.52)\u001b[0m wandb:                          _runtime 979.4848811626434\n",
      "\u001b[2m\u001b[36m(pid=22231, ip=192.168.8.52)\u001b[0m wandb:                        _timestamp 1608044037.2642217\n",
      "\u001b[2m\u001b[36m(pid=22231, ip=192.168.8.52)\u001b[0m wandb:                     l_pred_s_loss 0.04327080026268959\n",
      "\u001b[2m\u001b[36m(pid=22231, ip=192.168.8.52)\u001b[0m wandb:                     l_pred_w_loss 0.04327080026268959\n",
      "\u001b[2m\u001b[36m(pid=22231, ip=192.168.8.52)\u001b[0m wandb:                              loss 0.048357241668871474\n",
      "\u001b[2m\u001b[36m(pid=22231, ip=192.168.8.52)\u001b[0m wandb:                             epoch 199\n",
      "\u001b[2m\u001b[36m(pid=22231, ip=192.168.8.52)\u001b[0m wandb:              l_pred_s_MAE_Lossnet 8.157937049865723\n",
      "\u001b[2m\u001b[36m(pid=22231, ip=192.168.8.52)\u001b[0m wandb: Syncing files in ../../../Trainings/wandb/wandb/run-20201215_143738-3e70qg7a:\n",
      "\u001b[2m\u001b[36m(pid=22231, ip=192.168.8.52)\u001b[0m wandb:   code/default_worker.py\n",
      "\u001b[2m\u001b[36m(pid=22231, ip=192.168.8.52)\u001b[0m wandb: plus 8 W&B file(s) and 1 media file(s)\n",
      "\u001b[2m\u001b[36m(pid=22231, ip=192.168.8.52)\u001b[0m wandb: - 0.06MB of 0.06MB uploaded\n",
      "\u001b[2m\u001b[36m(pid=17699, ip=192.168.8.53)\u001b[0m \n",
      "\u001b[2m\u001b[36m(pid=22231, ip=192.168.8.52)\u001b[0m wandb: \\ 0.06MB of 0.06MB uploaded\n",
      "\u001b[2m\u001b[36m(pid=22231, ip=192.168.8.52)\u001b[0m wandb: | 0.06MB of 0.06MB uploaded\n",
      "\u001b[2m\u001b[36m(pid=22231, ip=192.168.8.52)\u001b[0m wandb: / 0.06MB of 0.06MB uploaded\n",
      "wandb:                                                                                \n",
      "\u001b[2m\u001b[36m(pid=22231, ip=192.168.8.52)\u001b[0m wandb: Synced Train_6: http://192.168.8.51:8080/reminiz/Active_Learning_CIFAR/runs/3e70qg7a\n",
      "\u001b[2m\u001b[36m(pid=17699, ip=192.168.8.53)\u001b[0m WARNING:tensorflow:From /home/reminiz/ReminizML2/python_env/lib/python3.7/site-packages/tensorflow/python/ops/resource_variable_ops.py:435: colocate_with (from tensorflow.python.framework.ops) is deprecated and will be removed in a future version.\n",
      "\u001b[2m\u001b[36m(pid=17699, ip=192.168.8.53)\u001b[0m Instructions for updating:\n",
      "\u001b[2m\u001b[36m(pid=17699, ip=192.168.8.53)\u001b[0m Colocations handled automatically by placer.\n"
     ]
    },
    {
     "name": "stdout",
     "output_type": "stream",
     "text": [
      "\u001b[2m\u001b[36m(pid=17699, ip=192.168.8.53)\u001b[0m \u001b[1;36mTrain_Stage_7\u001b[0;0m Loading weigths from:  /mnt/Ressources/Andres/Temp_active/runs/Active_Learning_keras_v0/Stage_6/checkpoints/checkpoint.200.hdf5\n",
      "\u001b[2m\u001b[36m(pid=17699, ip=192.168.8.53)\u001b[0m \u001b[1;36mTrain_Stage_7\u001b[0;0m The detected epoch is:  200\n"
     ]
    },
    {
     "name": "stderr",
     "output_type": "stream",
     "text": [
      "\u001b[2m\u001b[36m(pid=17699, ip=192.168.8.53)\u001b[0m WARNING:tensorflow:Output \"Embedding\" missing from loss dictionary. We assume this was done on purpose. The fit and evaluate APIs will not be expecting any data to be passed to \"Embedding\".\n",
      "\u001b[2m\u001b[36m(pid=17699, ip=192.168.8.53)\u001b[0m WARNING:tensorflow:Output \"Embedding\" missing from loss dictionary. We assume this was done on purpose. The fit and evaluate APIs will not be expecting any data to be passed to \"Embedding\".\n"
     ]
    },
    {
     "name": "stdout",
     "output_type": "stream",
     "text": [
      "\u001b[2m\u001b[36m(pid=17699, ip=192.168.8.53)\u001b[0m \u001b[1;36mTrain_Stage_7\u001b[0;0m Init done\n",
      "\u001b[2m\u001b[36m(pid=17699, ip=192.168.8.53)\u001b[0m \u001b[1;36mTrain_Stage_7\u001b[0;0m Start training\n"
     ]
    },
    {
     "name": "stderr",
     "output_type": "stream",
     "text": [
      "\u001b[2m\u001b[36m(pid=17699, ip=192.168.8.53)\u001b[0m 2020-12-15 15:54:08,188\tINFO worker.py:634 -- Connecting to existing Ray cluster at address: 192.168.8.51:6379\n",
      "\u001b[2m\u001b[36m(pid=17699, ip=192.168.8.53)\u001b[0m 2020-12-15 15:54:08,188\tERROR worker.py:643 -- Calling ray.init() again after it has already been called.\n",
      "\u001b[2m\u001b[36m(pid=17699, ip=192.168.8.53)\u001b[0m WARNING:tensorflow:From /home/reminiz/ReminizML2/python_env/lib/python3.7/site-packages/tensorflow/python/ops/math_ops.py:3066: to_int32 (from tensorflow.python.ops.math_ops) is deprecated and will be removed in a future version.\n",
      "\u001b[2m\u001b[36m(pid=17699, ip=192.168.8.53)\u001b[0m Instructions for updating:\n",
      "\u001b[2m\u001b[36m(pid=17699, ip=192.168.8.53)\u001b[0m Use tf.cast instead.\n",
      "\u001b[2m\u001b[36m(pid=17699, ip=192.168.8.53)\u001b[0m 2020-12-15 15:54:18.818326: I tensorflow/stream_executor/dso_loader.cc:152] successfully opened CUDA library libcublas.so.10.0 locally\n",
      "\u001b[2m\u001b[36m(pid=3416, ip=192.168.8.55)\u001b[0m /home/reminiz/ReminizML2/python_env/lib/python3.7/site-packages/tensorflow/python/framework/dtypes.py:526: FutureWarning: Passing (type, 1) or '1type' as a synonym of type is deprecated; in a future version of numpy, it will be understood as (type, (1,)) / '(1,)type'.\n",
      "\u001b[2m\u001b[36m(pid=3416, ip=192.168.8.55)\u001b[0m   _np_qint8 = np.dtype([(\"qint8\", np.int8, 1)])\n",
      "\u001b[2m\u001b[36m(pid=3416, ip=192.168.8.55)\u001b[0m /home/reminiz/ReminizML2/python_env/lib/python3.7/site-packages/tensorflow/python/framework/dtypes.py:527: FutureWarning: Passing (type, 1) or '1type' as a synonym of type is deprecated; in a future version of numpy, it will be understood as (type, (1,)) / '(1,)type'.\n",
      "\u001b[2m\u001b[36m(pid=3416, ip=192.168.8.55)\u001b[0m   _np_quint8 = np.dtype([(\"quint8\", np.uint8, 1)])\n",
      "\u001b[2m\u001b[36m(pid=3416, ip=192.168.8.55)\u001b[0m /home/reminiz/ReminizML2/python_env/lib/python3.7/site-packages/tensorflow/python/framework/dtypes.py:528: FutureWarning: Passing (type, 1) or '1type' as a synonym of type is deprecated; in a future version of numpy, it will be understood as (type, (1,)) / '(1,)type'.\n",
      "\u001b[2m\u001b[36m(pid=3416, ip=192.168.8.55)\u001b[0m   _np_qint16 = np.dtype([(\"qint16\", np.int16, 1)])\n",
      "\u001b[2m\u001b[36m(pid=3416, ip=192.168.8.55)\u001b[0m /home/reminiz/ReminizML2/python_env/lib/python3.7/site-packages/tensorflow/python/framework/dtypes.py:529: FutureWarning: Passing (type, 1) or '1type' as a synonym of type is deprecated; in a future version of numpy, it will be understood as (type, (1,)) / '(1,)type'.\n",
      "\u001b[2m\u001b[36m(pid=3416, ip=192.168.8.55)\u001b[0m   _np_quint16 = np.dtype([(\"quint16\", np.uint16, 1)])\n",
      "\u001b[2m\u001b[36m(pid=3416, ip=192.168.8.55)\u001b[0m /home/reminiz/ReminizML2/python_env/lib/python3.7/site-packages/tensorflow/python/framework/dtypes.py:530: FutureWarning: Passing (type, 1) or '1type' as a synonym of type is deprecated; in a future version of numpy, it will be understood as (type, (1,)) / '(1,)type'.\n",
      "\u001b[2m\u001b[36m(pid=3416, ip=192.168.8.55)\u001b[0m   _np_qint32 = np.dtype([(\"qint32\", np.int32, 1)])\n",
      "\u001b[2m\u001b[36m(pid=3416, ip=192.168.8.55)\u001b[0m /home/reminiz/ReminizML2/python_env/lib/python3.7/site-packages/tensorflow/python/framework/dtypes.py:535: FutureWarning: Passing (type, 1) or '1type' as a synonym of type is deprecated; in a future version of numpy, it will be understood as (type, (1,)) / '(1,)type'.\n",
      "\u001b[2m\u001b[36m(pid=3416, ip=192.168.8.55)\u001b[0m   np_resource = np.dtype([(\"resource\", np.ubyte, 1)])\n",
      "\u001b[2m\u001b[36m(pid=3416, ip=192.168.8.55)\u001b[0m 2020-12-15 15:57:30.611064: I tensorflow/core/platform/cpu_feature_guard.cc:141] Your CPU supports instructions that this TensorFlow binary was not compiled to use: AVX2 FMA\n",
      "\u001b[2m\u001b[36m(pid=3416, ip=192.168.8.55)\u001b[0m 2020-12-15 15:57:30.640323: I tensorflow/core/platform/profile_utils/cpu_utils.cc:94] CPU Frequency: 3599935000 Hz\n",
      "\u001b[2m\u001b[36m(pid=3416, ip=192.168.8.55)\u001b[0m 2020-12-15 15:57:30.641217: I tensorflow/compiler/xla/service/service.cc:150] XLA service 0x61dcb70 executing computations on platform Host. Devices:\n",
      "\u001b[2m\u001b[36m(pid=3416, ip=192.168.8.55)\u001b[0m 2020-12-15 15:57:30.641247: I tensorflow/compiler/xla/service/service.cc:158]   StreamExecutor device (0): <undefined>, <undefined>\n",
      "\u001b[2m\u001b[36m(pid=3416, ip=192.168.8.55)\u001b[0m 2020-12-15 15:57:30.749101: I tensorflow/compiler/xla/service/service.cc:150] XLA service 0x6218e30 executing computations on platform CUDA. Devices:\n",
      "\u001b[2m\u001b[36m(pid=3416, ip=192.168.8.55)\u001b[0m 2020-12-15 15:57:30.749151: I tensorflow/compiler/xla/service/service.cc:158]   StreamExecutor device (0): GeForce GTX 1080 Ti, Compute Capability 6.1\n",
      "\u001b[2m\u001b[36m(pid=3416, ip=192.168.8.55)\u001b[0m 2020-12-15 15:57:30.749359: I tensorflow/core/common_runtime/gpu/gpu_device.cc:1433] Found device 0 with properties: \n",
      "\u001b[2m\u001b[36m(pid=3416, ip=192.168.8.55)\u001b[0m name: GeForce GTX 1080 Ti major: 6 minor: 1 memoryClockRate(GHz): 1.582\n",
      "\u001b[2m\u001b[36m(pid=3416, ip=192.168.8.55)\u001b[0m pciBusID: 0000:4b:00.0\n",
      "\u001b[2m\u001b[36m(pid=3416, ip=192.168.8.55)\u001b[0m totalMemory: 10.92GiB freeMemory: 10.77GiB\n",
      "\u001b[2m\u001b[36m(pid=3416, ip=192.168.8.55)\u001b[0m 2020-12-15 15:57:30.749386: I tensorflow/core/common_runtime/gpu/gpu_device.cc:1512] Adding visible gpu devices: 0\n",
      "\u001b[2m\u001b[36m(pid=3416, ip=192.168.8.55)\u001b[0m 2020-12-15 15:57:30.751841: I tensorflow/core/common_runtime/gpu/gpu_device.cc:984] Device interconnect StreamExecutor with strength 1 edge matrix:\n",
      "\u001b[2m\u001b[36m(pid=3416, ip=192.168.8.55)\u001b[0m 2020-12-15 15:57:30.751868: I tensorflow/core/common_runtime/gpu/gpu_device.cc:990]      0 \n",
      "\u001b[2m\u001b[36m(pid=3416, ip=192.168.8.55)\u001b[0m 2020-12-15 15:57:30.751881: I tensorflow/core/common_runtime/gpu/gpu_device.cc:1003] 0:   N \n",
      "\u001b[2m\u001b[36m(pid=3416, ip=192.168.8.55)\u001b[0m 2020-12-15 15:57:30.751994: I tensorflow/core/common_runtime/gpu/gpu_device.cc:1115] Created TensorFlow device (/job:localhost/replica:0/task:0/device:GPU:0 with 10481 MB memory) -> physical GPU (device: 0, name: GeForce GTX 1080 Ti, pci bus id: 0000:4b:00.0, compute capability: 6.1)\n",
      "\u001b[2m\u001b[36m(pid=3416, ip=192.168.8.55)\u001b[0m /home/reminiz/ReminizML2/python_env/lib/python3.7/site-packages/tensorboard/compat/tensorflow_stub/dtypes.py:541: FutureWarning: Passing (type, 1) or '1type' as a synonym of type is deprecated; in a future version of numpy, it will be understood as (type, (1,)) / '(1,)type'.\n",
      "\u001b[2m\u001b[36m(pid=3416, ip=192.168.8.55)\u001b[0m   _np_qint8 = np.dtype([(\"qint8\", np.int8, 1)])\n",
      "\u001b[2m\u001b[36m(pid=3416, ip=192.168.8.55)\u001b[0m /home/reminiz/ReminizML2/python_env/lib/python3.7/site-packages/tensorboard/compat/tensorflow_stub/dtypes.py:542: FutureWarning: Passing (type, 1) or '1type' as a synonym of type is deprecated; in a future version of numpy, it will be understood as (type, (1,)) / '(1,)type'.\n",
      "\u001b[2m\u001b[36m(pid=3416, ip=192.168.8.55)\u001b[0m   _np_quint8 = np.dtype([(\"quint8\", np.uint8, 1)])\n",
      "\u001b[2m\u001b[36m(pid=3416, ip=192.168.8.55)\u001b[0m /home/reminiz/ReminizML2/python_env/lib/python3.7/site-packages/tensorboard/compat/tensorflow_stub/dtypes.py:543: FutureWarning: Passing (type, 1) or '1type' as a synonym of type is deprecated; in a future version of numpy, it will be understood as (type, (1,)) / '(1,)type'.\n",
      "\u001b[2m\u001b[36m(pid=3416, ip=192.168.8.55)\u001b[0m   _np_qint16 = np.dtype([(\"qint16\", np.int16, 1)])\n",
      "\u001b[2m\u001b[36m(pid=3416, ip=192.168.8.55)\u001b[0m /home/reminiz/ReminizML2/python_env/lib/python3.7/site-packages/tensorboard/compat/tensorflow_stub/dtypes.py:544: FutureWarning: Passing (type, 1) or '1type' as a synonym of type is deprecated; in a future version of numpy, it will be understood as (type, (1,)) / '(1,)type'.\n",
      "\u001b[2m\u001b[36m(pid=3416, ip=192.168.8.55)\u001b[0m   _np_quint16 = np.dtype([(\"quint16\", np.uint16, 1)])\n",
      "\u001b[2m\u001b[36m(pid=3416, ip=192.168.8.55)\u001b[0m /home/reminiz/ReminizML2/python_env/lib/python3.7/site-packages/tensorboard/compat/tensorflow_stub/dtypes.py:545: FutureWarning: Passing (type, 1) or '1type' as a synonym of type is deprecated; in a future version of numpy, it will be understood as (type, (1,)) / '(1,)type'.\n",
      "\u001b[2m\u001b[36m(pid=3416, ip=192.168.8.55)\u001b[0m   _np_qint32 = np.dtype([(\"qint32\", np.int32, 1)])\n",
      "\u001b[2m\u001b[36m(pid=3416, ip=192.168.8.55)\u001b[0m /home/reminiz/ReminizML2/python_env/lib/python3.7/site-packages/tensorboard/compat/tensorflow_stub/dtypes.py:550: FutureWarning: Passing (type, 1) or '1type' as a synonym of type is deprecated; in a future version of numpy, it will be understood as (type, (1,)) / '(1,)type'.\n",
      "\u001b[2m\u001b[36m(pid=3416, ip=192.168.8.55)\u001b[0m   np_resource = np.dtype([(\"resource\", np.ubyte, 1)])\n",
      "\u001b[2m\u001b[36m(pid=3416, ip=192.168.8.55)\u001b[0m wandb: Tracking run with wandb version 0.8.36\n",
      "\u001b[2m\u001b[36m(pid=3416, ip=192.168.8.55)\u001b[0m wandb: Wandb version 0.10.12 is available!  To upgrade, please run:\n",
      "\u001b[2m\u001b[36m(pid=3416, ip=192.168.8.55)\u001b[0m wandb:  $ pip install wandb --upgrade\n",
      "\u001b[2m\u001b[36m(pid=3416, ip=192.168.8.55)\u001b[0m wandb: Run data is saved locally in ../../../Trainings/wandb/wandb/run-20201215_145730-1jxhn8mv\n",
      "\u001b[2m\u001b[36m(pid=3416, ip=192.168.8.55)\u001b[0m wandb: Syncing run Test_5\n",
      "\u001b[2m\u001b[36m(pid=3416, ip=192.168.8.55)\u001b[0m wandb: ⭐️ View project at http://192.168.8.51:8080/reminiz/Active_Learning_CIFAR\n",
      "\u001b[2m\u001b[36m(pid=3416, ip=192.168.8.55)\u001b[0m wandb: 🚀 View run at http://192.168.8.51:8080/reminiz/Active_Learning_CIFAR/runs/1jxhn8mv\n",
      "\u001b[2m\u001b[36m(pid=3416, ip=192.168.8.55)\u001b[0m wandb: Run `wandb off` to turn off syncing.\n",
      "\u001b[2m\u001b[36m(pid=3416, ip=192.168.8.55)\u001b[0m \n",
      "\u001b[2m\u001b[36m(pid=3416, ip=192.168.8.55)\u001b[0m WARNING:tensorflow:From /home/reminiz/ReminizML2/python_env/lib/python3.7/site-packages/tensorflow/python/ops/resource_variable_ops.py:435: colocate_with (from tensorflow.python.framework.ops) is deprecated and will be removed in a future version.\n",
      "\u001b[2m\u001b[36m(pid=3416, ip=192.168.8.55)\u001b[0m Instructions for updating:\n",
      "\u001b[2m\u001b[36m(pid=3416, ip=192.168.8.55)\u001b[0m Colocations handled automatically by placer.\n"
     ]
    },
    {
     "name": "stdout",
     "output_type": "stream",
     "text": [
      "\u001b[2m\u001b[36m(pid=3416, ip=192.168.8.55)\u001b[0m \u001b[1;36mTest_Stage_5\u001b[0;0m Init done\n",
      "\u001b[2m\u001b[36m(pid=3416, ip=192.168.8.55)\u001b[0m \u001b[1;36mTest_Stage_5\u001b[0;0m Restoring from /mnt/Ressources/Andres/Temp_active/runs/Active_Learning_keras_v0/Stage_5/checkpoints/checkpoint.005.hdf5\n"
     ]
    },
    {
     "name": "stderr",
     "output_type": "stream",
     "text": [
      "\u001b[2m\u001b[36m(pid=3416, ip=192.168.8.55)\u001b[0m 2020-12-15 15:57:36.945687: I tensorflow/stream_executor/dso_loader.cc:152] successfully opened CUDA library libcublas.so.10.0 locally\n"
     ]
    },
    {
     "name": "stdout",
     "output_type": "stream",
     "text": [
      "\u001b[2m\u001b[36m(pid=3416, ip=192.168.8.55)\u001b[0m \u001b[1;36mTest_Stage_5\u001b[0;0m Length of the test:  10000\n",
      "\u001b[2m\u001b[36m(pid=3416, ip=192.168.8.55)\u001b[0m \u001b[1;36mTest_Stage_5\u001b[0;0m Test || Epoch:  5 || Accuracy: 68.66 || \n",
      "\u001b[2m\u001b[36m(pid=3416, ip=192.168.8.55)\u001b[0m \u001b[1;36mTest_Stage_5\u001b[0;0m Restoring from /mnt/Ressources/Andres/Temp_active/runs/Active_Learning_keras_v0/Stage_5/checkpoints/checkpoint.010.hdf5\n",
      "\u001b[2m\u001b[36m(pid=3416, ip=192.168.8.55)\u001b[0m \u001b[1;36mTest_Stage_5\u001b[0;0m Length of the test:  10000\n",
      "\u001b[2m\u001b[36m(pid=3416, ip=192.168.8.55)\u001b[0m \u001b[1;36mTest_Stage_5\u001b[0;0m Test || Epoch: 10 || Accuracy: 66.54 || \n",
      "\u001b[2m\u001b[36m(pid=3416, ip=192.168.8.55)\u001b[0m \u001b[1;36mTest_Stage_5\u001b[0;0m Restoring from /mnt/Ressources/Andres/Temp_active/runs/Active_Learning_keras_v0/Stage_5/checkpoints/checkpoint.015.hdf5\n",
      "\u001b[2m\u001b[36m(pid=3416, ip=192.168.8.55)\u001b[0m \u001b[1;36mTest_Stage_5\u001b[0;0m Length of the test:  10000\n",
      "\u001b[2m\u001b[36m(pid=3416, ip=192.168.8.55)\u001b[0m \u001b[1;36mTest_Stage_5\u001b[0;0m Test || Epoch: 15 || Accuracy: 69.60 || \n",
      "\u001b[2m\u001b[36m(pid=3416, ip=192.168.8.55)\u001b[0m \u001b[1;36mTest_Stage_5\u001b[0;0m Restoring from /mnt/Ressources/Andres/Temp_active/runs/Active_Learning_keras_v0/Stage_5/checkpoints/checkpoint.020.hdf5\n",
      "\u001b[2m\u001b[36m(pid=3416, ip=192.168.8.55)\u001b[0m \u001b[1;36mTest_Stage_5\u001b[0;0m Length of the test:  10000\n",
      "\u001b[2m\u001b[36m(pid=3416, ip=192.168.8.55)\u001b[0m \u001b[1;36mTest_Stage_5\u001b[0;0m Test || Epoch: 20 || Accuracy: 68.80 || \n",
      "\u001b[2m\u001b[36m(pid=3416, ip=192.168.8.55)\u001b[0m \u001b[1;36mTest_Stage_5\u001b[0;0m Restoring from /mnt/Ressources/Andres/Temp_active/runs/Active_Learning_keras_v0/Stage_5/checkpoints/checkpoint.025.hdf5\n",
      "\u001b[2m\u001b[36m(pid=3416, ip=192.168.8.55)\u001b[0m \u001b[1;36mTest_Stage_5\u001b[0;0m Length of the test:  10000\n",
      "\u001b[2m\u001b[36m(pid=3416, ip=192.168.8.55)\u001b[0m \u001b[1;36mTest_Stage_5\u001b[0;0m Test || Epoch: 25 || Accuracy: 67.65 || \n",
      "\u001b[2m\u001b[36m(pid=3416, ip=192.168.8.55)\u001b[0m \u001b[1;36mTest_Stage_5\u001b[0;0m Restoring from /mnt/Ressources/Andres/Temp_active/runs/Active_Learning_keras_v0/Stage_5/checkpoints/checkpoint.030.hdf5\n",
      "\u001b[2m\u001b[36m(pid=3416, ip=192.168.8.55)\u001b[0m \u001b[1;36mTest_Stage_5\u001b[0;0m Length of the test:  10000\n",
      "\u001b[2m\u001b[36m(pid=3416, ip=192.168.8.55)\u001b[0m \u001b[1;36mTest_Stage_5\u001b[0;0m Test || Epoch: 30 || Accuracy: 68.92 || \n",
      "\u001b[2m\u001b[36m(pid=3416, ip=192.168.8.55)\u001b[0m \u001b[1;36mTest_Stage_5\u001b[0;0m Restoring from /mnt/Ressources/Andres/Temp_active/runs/Active_Learning_keras_v0/Stage_5/checkpoints/checkpoint.035.hdf5\n",
      "\u001b[2m\u001b[36m(pid=3416, ip=192.168.8.55)\u001b[0m \u001b[1;36mTest_Stage_5\u001b[0;0m Length of the test:  10000\n",
      "\u001b[2m\u001b[36m(pid=3416, ip=192.168.8.55)\u001b[0m \u001b[1;36mTest_Stage_5\u001b[0;0m Test || Epoch: 35 || Accuracy: 67.70 || \n",
      "\u001b[2m\u001b[36m(pid=3416, ip=192.168.8.55)\u001b[0m \u001b[1;36mTest_Stage_5\u001b[0;0m Restoring from /mnt/Ressources/Andres/Temp_active/runs/Active_Learning_keras_v0/Stage_5/checkpoints/checkpoint.040.hdf5\n",
      "\u001b[2m\u001b[36m(pid=3416, ip=192.168.8.55)\u001b[0m \u001b[1;36mTest_Stage_5\u001b[0;0m Length of the test:  10000\n",
      "\u001b[2m\u001b[36m(pid=3416, ip=192.168.8.55)\u001b[0m \u001b[1;36mTest_Stage_5\u001b[0;0m Test || Epoch: 40 || Accuracy: 66.74 || \n",
      "\u001b[2m\u001b[36m(pid=3416, ip=192.168.8.55)\u001b[0m \u001b[1;36mTest_Stage_5\u001b[0;0m Restoring from /mnt/Ressources/Andres/Temp_active/runs/Active_Learning_keras_v0/Stage_5/checkpoints/checkpoint.045.hdf5\n",
      "\u001b[2m\u001b[36m(pid=3416, ip=192.168.8.55)\u001b[0m \u001b[1;36mTest_Stage_5\u001b[0;0m Length of the test:  10000\n",
      "\u001b[2m\u001b[36m(pid=3416, ip=192.168.8.55)\u001b[0m \u001b[1;36mTest_Stage_5\u001b[0;0m Test || Epoch: 45 || Accuracy: 69.08 || \n",
      "\u001b[2m\u001b[36m(pid=3416, ip=192.168.8.55)\u001b[0m \u001b[1;36mTest_Stage_5\u001b[0;0m Restoring from /mnt/Ressources/Andres/Temp_active/runs/Active_Learning_keras_v0/Stage_5/checkpoints/checkpoint.050.hdf5\n",
      "\u001b[2m\u001b[36m(pid=3416, ip=192.168.8.55)\u001b[0m \u001b[1;36mTest_Stage_5\u001b[0;0m Length of the test:  10000\n",
      "\u001b[2m\u001b[36m(pid=3416, ip=192.168.8.55)\u001b[0m \u001b[1;36mTest_Stage_5\u001b[0;0m Test || Epoch: 50 || Accuracy: 67.40 || \n",
      "\u001b[2m\u001b[36m(pid=3416, ip=192.168.8.55)\u001b[0m \u001b[1;36mTest_Stage_5\u001b[0;0m Restoring from /mnt/Ressources/Andres/Temp_active/runs/Active_Learning_keras_v0/Stage_5/checkpoints/checkpoint.055.hdf5\n",
      "\u001b[2m\u001b[36m(pid=3416, ip=192.168.8.55)\u001b[0m \u001b[1;36mTest_Stage_5\u001b[0;0m Length of the test:  10000\n",
      "\u001b[2m\u001b[36m(pid=3416, ip=192.168.8.55)\u001b[0m \u001b[1;36mTest_Stage_5\u001b[0;0m Test || Epoch: 55 || Accuracy: 69.38 || \n",
      "\u001b[2m\u001b[36m(pid=3416, ip=192.168.8.55)\u001b[0m \u001b[1;36mTest_Stage_5\u001b[0;0m Restoring from /mnt/Ressources/Andres/Temp_active/runs/Active_Learning_keras_v0/Stage_5/checkpoints/checkpoint.060.hdf5\n",
      "\u001b[2m\u001b[36m(pid=3416, ip=192.168.8.55)\u001b[0m \u001b[1;36mTest_Stage_5\u001b[0;0m Length of the test:  10000\n",
      "\u001b[2m\u001b[36m(pid=3416, ip=192.168.8.55)\u001b[0m \u001b[1;36mTest_Stage_5\u001b[0;0m Test || Epoch: 60 || Accuracy: 69.40 || \n",
      "\u001b[2m\u001b[36m(pid=3416, ip=192.168.8.55)\u001b[0m \u001b[1;36mTest_Stage_5\u001b[0;0m Restoring from /mnt/Ressources/Andres/Temp_active/runs/Active_Learning_keras_v0/Stage_5/checkpoints/checkpoint.065.hdf5\n",
      "\u001b[2m\u001b[36m(pid=3416, ip=192.168.8.55)\u001b[0m \u001b[1;36mTest_Stage_5\u001b[0;0m Length of the test:  10000\n",
      "\u001b[2m\u001b[36m(pid=3416, ip=192.168.8.55)\u001b[0m \u001b[1;36mTest_Stage_5\u001b[0;0m Test || Epoch: 65 || Accuracy: 67.36 || \n",
      "\u001b[2m\u001b[36m(pid=3416, ip=192.168.8.55)\u001b[0m \u001b[1;36mTest_Stage_5\u001b[0;0m Restoring from /mnt/Ressources/Andres/Temp_active/runs/Active_Learning_keras_v0/Stage_5/checkpoints/checkpoint.070.hdf5\n",
      "\u001b[2m\u001b[36m(pid=3416, ip=192.168.8.55)\u001b[0m \u001b[1;36mTest_Stage_5\u001b[0;0m Length of the test:  10000\n",
      "\u001b[2m\u001b[36m(pid=3416, ip=192.168.8.55)\u001b[0m \u001b[1;36mTest_Stage_5\u001b[0;0m Test || Epoch: 70 || Accuracy: 69.43 || \n",
      "\u001b[2m\u001b[36m(pid=3416, ip=192.168.8.55)\u001b[0m \u001b[1;36mTest_Stage_5\u001b[0;0m Restoring from /mnt/Ressources/Andres/Temp_active/runs/Active_Learning_keras_v0/Stage_5/checkpoints/checkpoint.075.hdf5\n",
      "\u001b[2m\u001b[36m(pid=3416, ip=192.168.8.55)\u001b[0m \u001b[1;36mTest_Stage_5\u001b[0;0m Length of the test:  10000\n",
      "\u001b[2m\u001b[36m(pid=3416, ip=192.168.8.55)\u001b[0m \u001b[1;36mTest_Stage_5\u001b[0;0m Test || Epoch: 75 || Accuracy: 68.80 || \n",
      "\u001b[2m\u001b[36m(pid=3416, ip=192.168.8.55)\u001b[0m \u001b[1;36mTest_Stage_5\u001b[0;0m Restoring from /mnt/Ressources/Andres/Temp_active/runs/Active_Learning_keras_v0/Stage_5/checkpoints/checkpoint.080.hdf5\n",
      "\u001b[2m\u001b[36m(pid=3416, ip=192.168.8.55)\u001b[0m \u001b[1;36mTest_Stage_5\u001b[0;0m Length of the test:  10000\n",
      "\u001b[2m\u001b[36m(pid=3416, ip=192.168.8.55)\u001b[0m \u001b[1;36mTest_Stage_5\u001b[0;0m Test || Epoch: 80 || Accuracy: 68.36 || \n",
      "\u001b[2m\u001b[36m(pid=3416, ip=192.168.8.55)\u001b[0m \u001b[1;36mTest_Stage_5\u001b[0;0m Restoring from /mnt/Ressources/Andres/Temp_active/runs/Active_Learning_keras_v0/Stage_5/checkpoints/checkpoint.085.hdf5\n",
      "\u001b[2m\u001b[36m(pid=3416, ip=192.168.8.55)\u001b[0m \u001b[1;36mTest_Stage_5\u001b[0;0m Length of the test:  10000\n",
      "\u001b[2m\u001b[36m(pid=3416, ip=192.168.8.55)\u001b[0m \u001b[1;36mTest_Stage_5\u001b[0;0m Test || Epoch: 85 || Accuracy: 69.44 || \n",
      "\u001b[2m\u001b[36m(pid=3416, ip=192.168.8.55)\u001b[0m \u001b[1;36mTest_Stage_5\u001b[0;0m Restoring from /mnt/Ressources/Andres/Temp_active/runs/Active_Learning_keras_v0/Stage_5/checkpoints/checkpoint.090.hdf5\n",
      "\u001b[2m\u001b[36m(pid=3416, ip=192.168.8.55)\u001b[0m \u001b[1;36mTest_Stage_5\u001b[0;0m Length of the test:  10000\n",
      "\u001b[2m\u001b[36m(pid=3416, ip=192.168.8.55)\u001b[0m \u001b[1;36mTest_Stage_5\u001b[0;0m Test || Epoch: 90 || Accuracy: 68.22 || \n",
      "\u001b[2m\u001b[36m(pid=3416, ip=192.168.8.55)\u001b[0m \u001b[1;36mTest_Stage_5\u001b[0;0m Restoring from /mnt/Ressources/Andres/Temp_active/runs/Active_Learning_keras_v0/Stage_5/checkpoints/checkpoint.095.hdf5\n",
      "\u001b[2m\u001b[36m(pid=3416, ip=192.168.8.55)\u001b[0m \u001b[1;36mTest_Stage_5\u001b[0;0m Length of the test:  10000\n",
      "\u001b[2m\u001b[36m(pid=3416, ip=192.168.8.55)\u001b[0m \u001b[1;36mTest_Stage_5\u001b[0;0m Test || Epoch: 95 || Accuracy: 68.64 || \n",
      "\u001b[2m\u001b[36m(pid=3416, ip=192.168.8.55)\u001b[0m \u001b[1;36mTest_Stage_5\u001b[0;0m Restoring from /mnt/Ressources/Andres/Temp_active/runs/Active_Learning_keras_v0/Stage_5/checkpoints/checkpoint.100.hdf5\n",
      "\u001b[2m\u001b[36m(pid=3416, ip=192.168.8.55)\u001b[0m \u001b[1;36mTest_Stage_5\u001b[0;0m Length of the test:  10000\n",
      "\u001b[2m\u001b[36m(pid=3416, ip=192.168.8.55)\u001b[0m \u001b[1;36mTest_Stage_5\u001b[0;0m Test || Epoch: 100 || Accuracy: 70.05 || \n",
      "\u001b[2m\u001b[36m(pid=3416, ip=192.168.8.55)\u001b[0m \u001b[1;36mTest_Stage_5\u001b[0;0m Restoring from /mnt/Ressources/Andres/Temp_active/runs/Active_Learning_keras_v0/Stage_5/checkpoints/checkpoint.105.hdf5\n",
      "\u001b[2m\u001b[36m(pid=3416, ip=192.168.8.55)\u001b[0m \u001b[1;36mTest_Stage_5\u001b[0;0m Length of the test:  10000\n",
      "\u001b[2m\u001b[36m(pid=3416, ip=192.168.8.55)\u001b[0m \u001b[1;36mTest_Stage_5\u001b[0;0m Test || Epoch: 105 || Accuracy: 68.99 || \n",
      "\u001b[2m\u001b[36m(pid=3416, ip=192.168.8.55)\u001b[0m \u001b[1;36mTest_Stage_5\u001b[0;0m Restoring from /mnt/Ressources/Andres/Temp_active/runs/Active_Learning_keras_v0/Stage_5/checkpoints/checkpoint.110.hdf5\n",
      "\u001b[2m\u001b[36m(pid=3416, ip=192.168.8.55)\u001b[0m \u001b[1;36mTest_Stage_5\u001b[0;0m Length of the test:  10000\n",
      "\u001b[2m\u001b[36m(pid=3416, ip=192.168.8.55)\u001b[0m \u001b[1;36mTest_Stage_5\u001b[0;0m Test || Epoch: 110 || Accuracy: 68.91 || \n",
      "\u001b[2m\u001b[36m(pid=3416, ip=192.168.8.55)\u001b[0m \u001b[1;36mTest_Stage_5\u001b[0;0m Restoring from /mnt/Ressources/Andres/Temp_active/runs/Active_Learning_keras_v0/Stage_5/checkpoints/checkpoint.115.hdf5\n",
      "\u001b[2m\u001b[36m(pid=3416, ip=192.168.8.55)\u001b[0m \u001b[1;36mTest_Stage_5\u001b[0;0m Length of the test:  10000\n",
      "\u001b[2m\u001b[36m(pid=3416, ip=192.168.8.55)\u001b[0m \u001b[1;36mTest_Stage_5\u001b[0;0m Test || Epoch: 115 || Accuracy: 70.37 || \n",
      "\u001b[2m\u001b[36m(pid=3416, ip=192.168.8.55)\u001b[0m \u001b[1;36mTest_Stage_5\u001b[0;0m Restoring from /mnt/Ressources/Andres/Temp_active/runs/Active_Learning_keras_v0/Stage_5/checkpoints/checkpoint.120.hdf5\n",
      "\u001b[2m\u001b[36m(pid=3416, ip=192.168.8.55)\u001b[0m \u001b[1;36mTest_Stage_5\u001b[0;0m Length of the test:  10000\n",
      "\u001b[2m\u001b[36m(pid=3416, ip=192.168.8.55)\u001b[0m \u001b[1;36mTest_Stage_5\u001b[0;0m Test || Epoch: 120 || Accuracy: 69.63 || \n",
      "\u001b[2m\u001b[36m(pid=3416, ip=192.168.8.55)\u001b[0m \u001b[1;36mTest_Stage_5\u001b[0;0m Restoring from /mnt/Ressources/Andres/Temp_active/runs/Active_Learning_keras_v0/Stage_5/checkpoints/checkpoint.125.hdf5\n",
      "\u001b[2m\u001b[36m(pid=3416, ip=192.168.8.55)\u001b[0m \u001b[1;36mTest_Stage_5\u001b[0;0m Length of the test:  10000\n",
      "\u001b[2m\u001b[36m(pid=3416, ip=192.168.8.55)\u001b[0m \u001b[1;36mTest_Stage_5\u001b[0;0m Test || Epoch: 125 || Accuracy: 67.87 || \n",
      "\u001b[2m\u001b[36m(pid=3416, ip=192.168.8.55)\u001b[0m \u001b[1;36mTest_Stage_5\u001b[0;0m Restoring from /mnt/Ressources/Andres/Temp_active/runs/Active_Learning_keras_v0/Stage_5/checkpoints/checkpoint.130.hdf5\n",
      "\u001b[2m\u001b[36m(pid=3416, ip=192.168.8.55)\u001b[0m \u001b[1;36mTest_Stage_5\u001b[0;0m Length of the test:  10000\n",
      "\u001b[2m\u001b[36m(pid=3416, ip=192.168.8.55)\u001b[0m \u001b[1;36mTest_Stage_5\u001b[0;0m Test || Epoch: 130 || Accuracy: 68.26 || \n",
      "\u001b[2m\u001b[36m(pid=3416, ip=192.168.8.55)\u001b[0m \u001b[1;36mTest_Stage_5\u001b[0;0m Restoring from /mnt/Ressources/Andres/Temp_active/runs/Active_Learning_keras_v0/Stage_5/checkpoints/checkpoint.135.hdf5\n",
      "\u001b[2m\u001b[36m(pid=3416, ip=192.168.8.55)\u001b[0m \u001b[1;36mTest_Stage_5\u001b[0;0m Length of the test:  10000\n",
      "\u001b[2m\u001b[36m(pid=3416, ip=192.168.8.55)\u001b[0m \u001b[1;36mTest_Stage_5\u001b[0;0m Test || Epoch: 135 || Accuracy: 69.82 || \n",
      "\u001b[2m\u001b[36m(pid=3416, ip=192.168.8.55)\u001b[0m \u001b[1;36mTest_Stage_5\u001b[0;0m Restoring from /mnt/Ressources/Andres/Temp_active/runs/Active_Learning_keras_v0/Stage_5/checkpoints/checkpoint.140.hdf5\n",
      "\u001b[2m\u001b[36m(pid=3416, ip=192.168.8.55)\u001b[0m \u001b[1;36mTest_Stage_5\u001b[0;0m Length of the test:  10000\n",
      "\u001b[2m\u001b[36m(pid=3416, ip=192.168.8.55)\u001b[0m \u001b[1;36mTest_Stage_5\u001b[0;0m Test || Epoch: 140 || Accuracy: 70.66 || \n",
      "\u001b[2m\u001b[36m(pid=3416, ip=192.168.8.55)\u001b[0m \u001b[1;36mTest_Stage_5\u001b[0;0m Restoring from /mnt/Ressources/Andres/Temp_active/runs/Active_Learning_keras_v0/Stage_5/checkpoints/checkpoint.145.hdf5\n",
      "\u001b[2m\u001b[36m(pid=3416, ip=192.168.8.55)\u001b[0m \u001b[1;36mTest_Stage_5\u001b[0;0m Length of the test:  10000\n",
      "\u001b[2m\u001b[36m(pid=3416, ip=192.168.8.55)\u001b[0m \u001b[1;36mTest_Stage_5\u001b[0;0m Test || Epoch: 145 || Accuracy: 68.26 || \n",
      "\u001b[2m\u001b[36m(pid=3416, ip=192.168.8.55)\u001b[0m \u001b[1;36mTest_Stage_5\u001b[0;0m Restoring from /mnt/Ressources/Andres/Temp_active/runs/Active_Learning_keras_v0/Stage_5/checkpoints/checkpoint.150.hdf5\n",
      "\u001b[2m\u001b[36m(pid=3416, ip=192.168.8.55)\u001b[0m \u001b[1;36mTest_Stage_5\u001b[0;0m Length of the test:  10000\n",
      "\u001b[2m\u001b[36m(pid=3416, ip=192.168.8.55)\u001b[0m \u001b[1;36mTest_Stage_5\u001b[0;0m Test || Epoch: 150 || Accuracy: 68.98 || \n",
      "\u001b[2m\u001b[36m(pid=3416, ip=192.168.8.55)\u001b[0m \u001b[1;36mTest_Stage_5\u001b[0;0m Restoring from /mnt/Ressources/Andres/Temp_active/runs/Active_Learning_keras_v0/Stage_5/checkpoints/checkpoint.155.hdf5\n",
      "\u001b[2m\u001b[36m(pid=3416, ip=192.168.8.55)\u001b[0m \u001b[1;36mTest_Stage_5\u001b[0;0m Length of the test:  10000\n",
      "\u001b[2m\u001b[36m(pid=3416, ip=192.168.8.55)\u001b[0m \u001b[1;36mTest_Stage_5\u001b[0;0m Test || Epoch: 155 || Accuracy: 71.35 || \n",
      "\u001b[2m\u001b[36m(pid=3416, ip=192.168.8.55)\u001b[0m \u001b[1;36mTest_Stage_5\u001b[0;0m Restoring from /mnt/Ressources/Andres/Temp_active/runs/Active_Learning_keras_v0/Stage_5/checkpoints/checkpoint.160.hdf5\n",
      "\u001b[2m\u001b[36m(pid=3416, ip=192.168.8.55)\u001b[0m \u001b[1;36mTest_Stage_5\u001b[0;0m Length of the test:  10000\n",
      "\u001b[2m\u001b[36m(pid=3416, ip=192.168.8.55)\u001b[0m \u001b[1;36mTest_Stage_5\u001b[0;0m Test || Epoch: 160 || Accuracy: 69.95 || \n",
      "\u001b[2m\u001b[36m(pid=3416, ip=192.168.8.55)\u001b[0m \u001b[1;36mTest_Stage_5\u001b[0;0m Restoring from /mnt/Ressources/Andres/Temp_active/runs/Active_Learning_keras_v0/Stage_5/checkpoints/checkpoint.165.hdf5\n",
      "\u001b[2m\u001b[36m(pid=3416, ip=192.168.8.55)\u001b[0m \u001b[1;36mTest_Stage_5\u001b[0;0m Length of the test:  10000\n",
      "\u001b[2m\u001b[36m(pid=3416, ip=192.168.8.55)\u001b[0m \u001b[1;36mTest_Stage_5\u001b[0;0m Test || Epoch: 165 || Accuracy: 72.87 || \n",
      "\u001b[2m\u001b[36m(pid=3416, ip=192.168.8.55)\u001b[0m \u001b[1;36mTest_Stage_5\u001b[0;0m Restoring from /mnt/Ressources/Andres/Temp_active/runs/Active_Learning_keras_v0/Stage_5/checkpoints/checkpoint.170.hdf5\n",
      "\u001b[2m\u001b[36m(pid=3416, ip=192.168.8.55)\u001b[0m \u001b[1;36mTest_Stage_5\u001b[0;0m Length of the test:  10000\n",
      "\u001b[2m\u001b[36m(pid=3416, ip=192.168.8.55)\u001b[0m \u001b[1;36mTest_Stage_5\u001b[0;0m Test || Epoch: 170 || Accuracy: 72.60 || \n",
      "\u001b[2m\u001b[36m(pid=3416, ip=192.168.8.55)\u001b[0m \u001b[1;36mTest_Stage_5\u001b[0;0m Restoring from /mnt/Ressources/Andres/Temp_active/runs/Active_Learning_keras_v0/Stage_5/checkpoints/checkpoint.175.hdf5\n",
      "\u001b[2m\u001b[36m(pid=3416, ip=192.168.8.55)\u001b[0m \u001b[1;36mTest_Stage_5\u001b[0;0m Length of the test:  10000\n",
      "\u001b[2m\u001b[36m(pid=3416, ip=192.168.8.55)\u001b[0m \u001b[1;36mTest_Stage_5\u001b[0;0m Test || Epoch: 175 || Accuracy: 72.68 || \n",
      "\u001b[2m\u001b[36m(pid=3416, ip=192.168.8.55)\u001b[0m \u001b[1;36mTest_Stage_5\u001b[0;0m Restoring from /mnt/Ressources/Andres/Temp_active/runs/Active_Learning_keras_v0/Stage_5/checkpoints/checkpoint.180.hdf5\n",
      "\u001b[2m\u001b[36m(pid=3416, ip=192.168.8.55)\u001b[0m \u001b[1;36mTest_Stage_5\u001b[0;0m Length of the test:  10000\n",
      "\u001b[2m\u001b[36m(pid=3416, ip=192.168.8.55)\u001b[0m \u001b[1;36mTest_Stage_5\u001b[0;0m Test || Epoch: 180 || Accuracy: 72.57 || \n",
      "\u001b[2m\u001b[36m(pid=3416, ip=192.168.8.55)\u001b[0m \u001b[1;36mTest_Stage_5\u001b[0;0m Restoring from /mnt/Ressources/Andres/Temp_active/runs/Active_Learning_keras_v0/Stage_5/checkpoints/checkpoint.185.hdf5\n",
      "\u001b[2m\u001b[36m(pid=3416, ip=192.168.8.55)\u001b[0m \u001b[1;36mTest_Stage_5\u001b[0;0m Length of the test:  10000\n",
      "\u001b[2m\u001b[36m(pid=3416, ip=192.168.8.55)\u001b[0m \u001b[1;36mTest_Stage_5\u001b[0;0m Test || Epoch: 185 || Accuracy: 72.51 || \n",
      "\u001b[2m\u001b[36m(pid=3416, ip=192.168.8.55)\u001b[0m \u001b[1;36mTest_Stage_5\u001b[0;0m Restoring from /mnt/Ressources/Andres/Temp_active/runs/Active_Learning_keras_v0/Stage_5/checkpoints/checkpoint.190.hdf5\n",
      "\u001b[2m\u001b[36m(pid=3416, ip=192.168.8.55)\u001b[0m \u001b[1;36mTest_Stage_5\u001b[0;0m Length of the test:  10000\n",
      "\u001b[2m\u001b[36m(pid=3416, ip=192.168.8.55)\u001b[0m \u001b[1;36mTest_Stage_5\u001b[0;0m Test || Epoch: 190 || Accuracy: 72.45 || \n",
      "\u001b[2m\u001b[36m(pid=3416, ip=192.168.8.55)\u001b[0m \u001b[1;36mTest_Stage_5\u001b[0;0m Restoring from /mnt/Ressources/Andres/Temp_active/runs/Active_Learning_keras_v0/Stage_5/checkpoints/checkpoint.195.hdf5\n",
      "\u001b[2m\u001b[36m(pid=3416, ip=192.168.8.55)\u001b[0m \u001b[1;36mTest_Stage_5\u001b[0;0m Length of the test:  10000\n",
      "\u001b[2m\u001b[36m(pid=3416, ip=192.168.8.55)\u001b[0m \u001b[1;36mTest_Stage_5\u001b[0;0m Test || Epoch: 195 || Accuracy: 72.34 || \n",
      "\u001b[2m\u001b[36m(pid=3416, ip=192.168.8.55)\u001b[0m \u001b[1;36mTest_Stage_5\u001b[0;0m Restoring from /mnt/Ressources/Andres/Temp_active/runs/Active_Learning_keras_v0/Stage_5/checkpoints/checkpoint.200.hdf5\n",
      "\u001b[2m\u001b[36m(pid=3416, ip=192.168.8.55)\u001b[0m \u001b[1;36mTest_Stage_5\u001b[0;0m Length of the test:  10000\n",
      "\u001b[2m\u001b[36m(pid=3416, ip=192.168.8.55)\u001b[0m \u001b[1;36mTest_Stage_5\u001b[0;0m Test || Epoch: 200 || Accuracy: 71.95 || \n"
     ]
    },
    {
     "name": "stderr",
     "output_type": "stream",
     "text": [
      "\u001b[2m\u001b[36m(pid=3416, ip=192.168.8.55)\u001b[0m wandb: Program ended successfully.\n",
      "\u001b[2m\u001b[36m(pid=3416, ip=192.168.8.55)\u001b[0m wandb: Run summary:\n",
      "\u001b[2m\u001b[36m(pid=3416, ip=192.168.8.55)\u001b[0m wandb:                Area Under the Curve (AUC) 0.8125165548483491\n",
      "\u001b[2m\u001b[36m(pid=3416, ip=192.168.8.55)\u001b[0m wandb:                                     _step 195\n",
      "\u001b[2m\u001b[36m(pid=3416, ip=192.168.8.55)\u001b[0m wandb:             Test: Classification Accuracy 0.7234\n",
      "\u001b[2m\u001b[36m(pid=3416, ip=192.168.8.55)\u001b[0m wandb:                                _timestamp 1608044420.37088\n",
      "\u001b[2m\u001b[36m(pid=3416, ip=192.168.8.55)\u001b[0m wandb:                                  F1 score 0.7215976716927217\n",
      "\u001b[2m\u001b[36m(pid=3416, ip=192.168.8.55)\u001b[0m wandb:                                  _runtime 169.9112904071808\n",
      "\u001b[2m\u001b[36m(pid=3416, ip=192.168.8.55)\u001b[0m wandb: Syncing files in ../../../Trainings/wandb/wandb/run-20201215_145730-1jxhn8mv:\n",
      "\u001b[2m\u001b[36m(pid=3416, ip=192.168.8.55)\u001b[0m wandb:   code/default_worker.py\n",
      "\u001b[2m\u001b[36m(pid=3416, ip=192.168.8.55)\u001b[0m wandb: plus 8 W&B file(s) and 78 media file(s)\n",
      "\u001b[2m\u001b[36m(pid=3416, ip=192.168.8.55)\u001b[0m wandb: - 5.77MB of 5.77MB uploaded\n",
      "\u001b[2m\u001b[36m(pid=3416, ip=192.168.8.55)\u001b[0m wandb: \\ 5.77MB of 5.77MB uploaded\n",
      "\u001b[2m\u001b[36m(pid=3416, ip=192.168.8.55)\u001b[0m wandb: | 5.77MB of 5.77MB uploaded\n",
      "\u001b[2m\u001b[36m(pid=3416, ip=192.168.8.55)\u001b[0m wandb: / 5.77MB of 5.77MB uploaded\n",
      "wandb:                                                                                \n",
      "\u001b[2m\u001b[36m(pid=3416, ip=192.168.8.55)\u001b[0m wandb: Synced Test_5: http://192.168.8.51:8080/reminiz/Active_Learning_CIFAR/runs/1jxhn8mv\n",
      "\u001b[2m\u001b[36m(pid=3659, ip=192.168.8.55)\u001b[0m /home/reminiz/ReminizML2/python_env/lib/python3.7/site-packages/tensorflow/python/framework/dtypes.py:526: FutureWarning: Passing (type, 1) or '1type' as a synonym of type is deprecated; in a future version of numpy, it will be understood as (type, (1,)) / '(1,)type'.\n",
      "\u001b[2m\u001b[36m(pid=3659, ip=192.168.8.55)\u001b[0m   _np_qint8 = np.dtype([(\"qint8\", np.int8, 1)])\n",
      "\u001b[2m\u001b[36m(pid=3659, ip=192.168.8.55)\u001b[0m /home/reminiz/ReminizML2/python_env/lib/python3.7/site-packages/tensorflow/python/framework/dtypes.py:527: FutureWarning: Passing (type, 1) or '1type' as a synonym of type is deprecated; in a future version of numpy, it will be understood as (type, (1,)) / '(1,)type'.\n",
      "\u001b[2m\u001b[36m(pid=3659, ip=192.168.8.55)\u001b[0m   _np_quint8 = np.dtype([(\"quint8\", np.uint8, 1)])\n",
      "\u001b[2m\u001b[36m(pid=3659, ip=192.168.8.55)\u001b[0m /home/reminiz/ReminizML2/python_env/lib/python3.7/site-packages/tensorflow/python/framework/dtypes.py:528: FutureWarning: Passing (type, 1) or '1type' as a synonym of type is deprecated; in a future version of numpy, it will be understood as (type, (1,)) / '(1,)type'.\n",
      "\u001b[2m\u001b[36m(pid=3659, ip=192.168.8.55)\u001b[0m   _np_qint16 = np.dtype([(\"qint16\", np.int16, 1)])\n",
      "\u001b[2m\u001b[36m(pid=3659, ip=192.168.8.55)\u001b[0m /home/reminiz/ReminizML2/python_env/lib/python3.7/site-packages/tensorflow/python/framework/dtypes.py:529: FutureWarning: Passing (type, 1) or '1type' as a synonym of type is deprecated; in a future version of numpy, it will be understood as (type, (1,)) / '(1,)type'.\n",
      "\u001b[2m\u001b[36m(pid=3659, ip=192.168.8.55)\u001b[0m   _np_quint16 = np.dtype([(\"quint16\", np.uint16, 1)])\n",
      "\u001b[2m\u001b[36m(pid=3659, ip=192.168.8.55)\u001b[0m /home/reminiz/ReminizML2/python_env/lib/python3.7/site-packages/tensorflow/python/framework/dtypes.py:530: FutureWarning: Passing (type, 1) or '1type' as a synonym of type is deprecated; in a future version of numpy, it will be understood as (type, (1,)) / '(1,)type'.\n",
      "\u001b[2m\u001b[36m(pid=3659, ip=192.168.8.55)\u001b[0m   _np_qint32 = np.dtype([(\"qint32\", np.int32, 1)])\n",
      "\u001b[2m\u001b[36m(pid=3659, ip=192.168.8.55)\u001b[0m /home/reminiz/ReminizML2/python_env/lib/python3.7/site-packages/tensorflow/python/framework/dtypes.py:535: FutureWarning: Passing (type, 1) or '1type' as a synonym of type is deprecated; in a future version of numpy, it will be understood as (type, (1,)) / '(1,)type'.\n",
      "\u001b[2m\u001b[36m(pid=3659, ip=192.168.8.55)\u001b[0m   np_resource = np.dtype([(\"resource\", np.ubyte, 1)])\n",
      "\u001b[2m\u001b[36m(pid=3659, ip=192.168.8.55)\u001b[0m 2020-12-15 16:04:13.006286: I tensorflow/core/platform/cpu_feature_guard.cc:141] Your CPU supports instructions that this TensorFlow binary was not compiled to use: AVX2 FMA\n",
      "\u001b[2m\u001b[36m(pid=3659, ip=192.168.8.55)\u001b[0m 2020-12-15 16:04:13.032302: I tensorflow/core/platform/profile_utils/cpu_utils.cc:94] CPU Frequency: 3599935000 Hz\n",
      "\u001b[2m\u001b[36m(pid=3659, ip=192.168.8.55)\u001b[0m 2020-12-15 16:04:13.033151: I tensorflow/compiler/xla/service/service.cc:150] XLA service 0x630fbb0 executing computations on platform Host. Devices:\n",
      "\u001b[2m\u001b[36m(pid=3659, ip=192.168.8.55)\u001b[0m 2020-12-15 16:04:13.033196: I tensorflow/compiler/xla/service/service.cc:158]   StreamExecutor device (0): <undefined>, <undefined>\n",
      "\u001b[2m\u001b[36m(pid=3659, ip=192.168.8.55)\u001b[0m 2020-12-15 16:04:13.154283: I tensorflow/compiler/xla/service/service.cc:150] XLA service 0x634be70 executing computations on platform CUDA. Devices:\n",
      "\u001b[2m\u001b[36m(pid=3659, ip=192.168.8.55)\u001b[0m 2020-12-15 16:04:13.154338: I tensorflow/compiler/xla/service/service.cc:158]   StreamExecutor device (0): GeForce GTX 1080 Ti, Compute Capability 6.1\n",
      "\u001b[2m\u001b[36m(pid=3659, ip=192.168.8.55)\u001b[0m 2020-12-15 16:04:13.154543: I tensorflow/core/common_runtime/gpu/gpu_device.cc:1433] Found device 0 with properties: \n",
      "\u001b[2m\u001b[36m(pid=3659, ip=192.168.8.55)\u001b[0m name: GeForce GTX 1080 Ti major: 6 minor: 1 memoryClockRate(GHz): 1.582\n",
      "\u001b[2m\u001b[36m(pid=3659, ip=192.168.8.55)\u001b[0m pciBusID: 0000:4b:00.0\n",
      "\u001b[2m\u001b[36m(pid=3659, ip=192.168.8.55)\u001b[0m totalMemory: 10.92GiB freeMemory: 10.77GiB\n",
      "\u001b[2m\u001b[36m(pid=3659, ip=192.168.8.55)\u001b[0m 2020-12-15 16:04:13.154573: I tensorflow/core/common_runtime/gpu/gpu_device.cc:1512] Adding visible gpu devices: 0\n",
      "\u001b[2m\u001b[36m(pid=3659, ip=192.168.8.55)\u001b[0m 2020-12-15 16:04:13.157238: I tensorflow/core/common_runtime/gpu/gpu_device.cc:984] Device interconnect StreamExecutor with strength 1 edge matrix:\n",
      "\u001b[2m\u001b[36m(pid=3659, ip=192.168.8.55)\u001b[0m 2020-12-15 16:04:13.157269: I tensorflow/core/common_runtime/gpu/gpu_device.cc:990]      0 \n",
      "\u001b[2m\u001b[36m(pid=3659, ip=192.168.8.55)\u001b[0m 2020-12-15 16:04:13.157283: I tensorflow/core/common_runtime/gpu/gpu_device.cc:1003] 0:   N \n",
      "\u001b[2m\u001b[36m(pid=3659, ip=192.168.8.55)\u001b[0m 2020-12-15 16:04:13.157403: I tensorflow/core/common_runtime/gpu/gpu_device.cc:1115] Created TensorFlow device (/job:localhost/replica:0/task:0/device:GPU:0 with 10481 MB memory) -> physical GPU (device: 0, name: GeForce GTX 1080 Ti, pci bus id: 0000:4b:00.0, compute capability: 6.1)\n",
      "\u001b[2m\u001b[36m(pid=3659, ip=192.168.8.55)\u001b[0m /home/reminiz/ReminizML2/python_env/lib/python3.7/site-packages/tensorboard/compat/tensorflow_stub/dtypes.py:541: FutureWarning: Passing (type, 1) or '1type' as a synonym of type is deprecated; in a future version of numpy, it will be understood as (type, (1,)) / '(1,)type'.\n",
      "\u001b[2m\u001b[36m(pid=3659, ip=192.168.8.55)\u001b[0m   _np_qint8 = np.dtype([(\"qint8\", np.int8, 1)])\n",
      "\u001b[2m\u001b[36m(pid=3659, ip=192.168.8.55)\u001b[0m /home/reminiz/ReminizML2/python_env/lib/python3.7/site-packages/tensorboard/compat/tensorflow_stub/dtypes.py:542: FutureWarning: Passing (type, 1) or '1type' as a synonym of type is deprecated; in a future version of numpy, it will be understood as (type, (1,)) / '(1,)type'.\n",
      "\u001b[2m\u001b[36m(pid=3659, ip=192.168.8.55)\u001b[0m   _np_quint8 = np.dtype([(\"quint8\", np.uint8, 1)])\n",
      "\u001b[2m\u001b[36m(pid=3659, ip=192.168.8.55)\u001b[0m /home/reminiz/ReminizML2/python_env/lib/python3.7/site-packages/tensorboard/compat/tensorflow_stub/dtypes.py:543: FutureWarning: Passing (type, 1) or '1type' as a synonym of type is deprecated; in a future version of numpy, it will be understood as (type, (1,)) / '(1,)type'.\n",
      "\u001b[2m\u001b[36m(pid=3659, ip=192.168.8.55)\u001b[0m   _np_qint16 = np.dtype([(\"qint16\", np.int16, 1)])\n",
      "\u001b[2m\u001b[36m(pid=3659, ip=192.168.8.55)\u001b[0m /home/reminiz/ReminizML2/python_env/lib/python3.7/site-packages/tensorboard/compat/tensorflow_stub/dtypes.py:544: FutureWarning: Passing (type, 1) or '1type' as a synonym of type is deprecated; in a future version of numpy, it will be understood as (type, (1,)) / '(1,)type'.\n",
      "\u001b[2m\u001b[36m(pid=3659, ip=192.168.8.55)\u001b[0m   _np_quint16 = np.dtype([(\"quint16\", np.uint16, 1)])\n",
      "\u001b[2m\u001b[36m(pid=3659, ip=192.168.8.55)\u001b[0m /home/reminiz/ReminizML2/python_env/lib/python3.7/site-packages/tensorboard/compat/tensorflow_stub/dtypes.py:545: FutureWarning: Passing (type, 1) or '1type' as a synonym of type is deprecated; in a future version of numpy, it will be understood as (type, (1,)) / '(1,)type'.\n",
      "\u001b[2m\u001b[36m(pid=3659, ip=192.168.8.55)\u001b[0m   _np_qint32 = np.dtype([(\"qint32\", np.int32, 1)])\n",
      "\u001b[2m\u001b[36m(pid=3659, ip=192.168.8.55)\u001b[0m /home/reminiz/ReminizML2/python_env/lib/python3.7/site-packages/tensorboard/compat/tensorflow_stub/dtypes.py:550: FutureWarning: Passing (type, 1) or '1type' as a synonym of type is deprecated; in a future version of numpy, it will be understood as (type, (1,)) / '(1,)type'.\n",
      "\u001b[2m\u001b[36m(pid=3659, ip=192.168.8.55)\u001b[0m   np_resource = np.dtype([(\"resource\", np.ubyte, 1)])\n",
      "\u001b[2m\u001b[36m(pid=3659, ip=192.168.8.55)\u001b[0m wandb: Tracking run with wandb version 0.8.36\n",
      "\u001b[2m\u001b[36m(pid=3659, ip=192.168.8.55)\u001b[0m wandb: Wandb version 0.10.12 is available!  To upgrade, please run:\n",
      "\u001b[2m\u001b[36m(pid=3659, ip=192.168.8.55)\u001b[0m wandb:  $ pip install wandb --upgrade\n",
      "\u001b[2m\u001b[36m(pid=3659, ip=192.168.8.55)\u001b[0m wandb: Run data is saved locally in ../../../Trainings/wandb/wandb/run-20201215_150413-105ze9b4\n",
      "\u001b[2m\u001b[36m(pid=3659, ip=192.168.8.55)\u001b[0m wandb: Syncing run Test_6\n",
      "\u001b[2m\u001b[36m(pid=3659, ip=192.168.8.55)\u001b[0m wandb: ⭐️ View project at http://192.168.8.51:8080/reminiz/Active_Learning_CIFAR\n",
      "\u001b[2m\u001b[36m(pid=3659, ip=192.168.8.55)\u001b[0m wandb: 🚀 View run at http://192.168.8.51:8080/reminiz/Active_Learning_CIFAR/runs/105ze9b4\n",
      "\u001b[2m\u001b[36m(pid=3659, ip=192.168.8.55)\u001b[0m wandb: Run `wandb off` to turn off syncing.\n",
      "\u001b[2m\u001b[36m(pid=3659, ip=192.168.8.55)\u001b[0m \n",
      "\u001b[2m\u001b[36m(pid=3659, ip=192.168.8.55)\u001b[0m WARNING:tensorflow:From /home/reminiz/ReminizML2/python_env/lib/python3.7/site-packages/tensorflow/python/ops/resource_variable_ops.py:435: colocate_with (from tensorflow.python.framework.ops) is deprecated and will be removed in a future version.\n",
      "\u001b[2m\u001b[36m(pid=3659, ip=192.168.8.55)\u001b[0m Instructions for updating:\n",
      "\u001b[2m\u001b[36m(pid=3659, ip=192.168.8.55)\u001b[0m Colocations handled automatically by placer.\n"
     ]
    },
    {
     "name": "stdout",
     "output_type": "stream",
     "text": [
      "\u001b[2m\u001b[36m(pid=3659, ip=192.168.8.55)\u001b[0m \u001b[1;36mTest_Stage_6\u001b[0;0m Init done\n",
      "\u001b[2m\u001b[36m(pid=3659, ip=192.168.8.55)\u001b[0m \u001b[1;36mTest_Stage_6\u001b[0;0m Restoring from /mnt/Ressources/Andres/Temp_active/runs/Active_Learning_keras_v0/Stage_6/checkpoints/checkpoint.005.hdf5\n"
     ]
    },
    {
     "name": "stderr",
     "output_type": "stream",
     "text": [
      "\u001b[2m\u001b[36m(pid=3659, ip=192.168.8.55)\u001b[0m 2020-12-15 16:04:20.861142: I tensorflow/stream_executor/dso_loader.cc:152] successfully opened CUDA library libcublas.so.10.0 locally\n"
     ]
    },
    {
     "name": "stdout",
     "output_type": "stream",
     "text": [
      "\u001b[2m\u001b[36m(pid=3659, ip=192.168.8.55)\u001b[0m \u001b[1;36mTest_Stage_6\u001b[0;0m Length of the test:  10000\n",
      "\u001b[2m\u001b[36m(pid=3659, ip=192.168.8.55)\u001b[0m \u001b[1;36mTest_Stage_6\u001b[0;0m Test || Epoch:  5 || Accuracy: 70.37 || \n",
      "\u001b[2m\u001b[36m(pid=3659, ip=192.168.8.55)\u001b[0m \u001b[1;36mTest_Stage_6\u001b[0;0m Restoring from /mnt/Ressources/Andres/Temp_active/runs/Active_Learning_keras_v0/Stage_6/checkpoints/checkpoint.010.hdf5\n",
      "\u001b[2m\u001b[36m(pid=3659, ip=192.168.8.55)\u001b[0m \u001b[1;36mTest_Stage_6\u001b[0;0m Length of the test:  10000\n",
      "\u001b[2m\u001b[36m(pid=3659, ip=192.168.8.55)\u001b[0m \u001b[1;36mTest_Stage_6\u001b[0;0m Test || Epoch: 10 || Accuracy: 71.92 || \n",
      "\u001b[2m\u001b[36m(pid=3659, ip=192.168.8.55)\u001b[0m \u001b[1;36mTest_Stage_6\u001b[0;0m Restoring from /mnt/Ressources/Andres/Temp_active/runs/Active_Learning_keras_v0/Stage_6/checkpoints/checkpoint.015.hdf5\n",
      "\u001b[2m\u001b[36m(pid=3659, ip=192.168.8.55)\u001b[0m \u001b[1;36mTest_Stage_6\u001b[0;0m Length of the test:  10000\n",
      "\u001b[2m\u001b[36m(pid=3659, ip=192.168.8.55)\u001b[0m \u001b[1;36mTest_Stage_6\u001b[0;0m Test || Epoch: 15 || Accuracy: 70.94 || \n",
      "\u001b[2m\u001b[36m(pid=3659, ip=192.168.8.55)\u001b[0m \u001b[1;36mTest_Stage_6\u001b[0;0m Restoring from /mnt/Ressources/Andres/Temp_active/runs/Active_Learning_keras_v0/Stage_6/checkpoints/checkpoint.020.hdf5\n",
      "\u001b[2m\u001b[36m(pid=3659, ip=192.168.8.55)\u001b[0m \u001b[1;36mTest_Stage_6\u001b[0;0m Length of the test:  10000\n",
      "\u001b[2m\u001b[36m(pid=3659, ip=192.168.8.55)\u001b[0m \u001b[1;36mTest_Stage_6\u001b[0;0m Test || Epoch: 20 || Accuracy: 69.99 || \n",
      "\u001b[2m\u001b[36m(pid=3659, ip=192.168.8.55)\u001b[0m \u001b[1;36mTest_Stage_6\u001b[0;0m Restoring from /mnt/Ressources/Andres/Temp_active/runs/Active_Learning_keras_v0/Stage_6/checkpoints/checkpoint.025.hdf5\n",
      "\u001b[2m\u001b[36m(pid=3659, ip=192.168.8.55)\u001b[0m \u001b[1;36mTest_Stage_6\u001b[0;0m Length of the test:  10000\n",
      "\u001b[2m\u001b[36m(pid=3659, ip=192.168.8.55)\u001b[0m \u001b[1;36mTest_Stage_6\u001b[0;0m Test || Epoch: 25 || Accuracy: 72.44 || \n",
      "\u001b[2m\u001b[36m(pid=3659, ip=192.168.8.55)\u001b[0m \u001b[1;36mTest_Stage_6\u001b[0;0m Restoring from /mnt/Ressources/Andres/Temp_active/runs/Active_Learning_keras_v0/Stage_6/checkpoints/checkpoint.030.hdf5\n",
      "\u001b[2m\u001b[36m(pid=3659, ip=192.168.8.55)\u001b[0m \u001b[1;36mTest_Stage_6\u001b[0;0m Length of the test:  10000\n",
      "\u001b[2m\u001b[36m(pid=3659, ip=192.168.8.55)\u001b[0m \u001b[1;36mTest_Stage_6\u001b[0;0m Test || Epoch: 30 || Accuracy: 69.37 || \n",
      "\u001b[2m\u001b[36m(pid=3659, ip=192.168.8.55)\u001b[0m \u001b[1;36mTest_Stage_6\u001b[0;0m Restoring from /mnt/Ressources/Andres/Temp_active/runs/Active_Learning_keras_v0/Stage_6/checkpoints/checkpoint.035.hdf5\n",
      "\u001b[2m\u001b[36m(pid=3659, ip=192.168.8.55)\u001b[0m \u001b[1;36mTest_Stage_6\u001b[0;0m Length of the test:  10000\n",
      "\u001b[2m\u001b[36m(pid=3659, ip=192.168.8.55)\u001b[0m \u001b[1;36mTest_Stage_6\u001b[0;0m Test || Epoch: 35 || Accuracy: 71.05 || \n",
      "\u001b[2m\u001b[36m(pid=3659, ip=192.168.8.55)\u001b[0m \u001b[1;36mTest_Stage_6\u001b[0;0m Restoring from /mnt/Ressources/Andres/Temp_active/runs/Active_Learning_keras_v0/Stage_6/checkpoints/checkpoint.040.hdf5\n",
      "\u001b[2m\u001b[36m(pid=3659, ip=192.168.8.55)\u001b[0m \u001b[1;36mTest_Stage_6\u001b[0;0m Length of the test:  10000\n",
      "\u001b[2m\u001b[36m(pid=3659, ip=192.168.8.55)\u001b[0m \u001b[1;36mTest_Stage_6\u001b[0;0m Test || Epoch: 40 || Accuracy: 70.11 || \n",
      "\u001b[2m\u001b[36m(pid=3659, ip=192.168.8.55)\u001b[0m \u001b[1;36mTest_Stage_6\u001b[0;0m Restoring from /mnt/Ressources/Andres/Temp_active/runs/Active_Learning_keras_v0/Stage_6/checkpoints/checkpoint.045.hdf5\n",
      "\u001b[2m\u001b[36m(pid=3659, ip=192.168.8.55)\u001b[0m \u001b[1;36mTest_Stage_6\u001b[0;0m Length of the test:  10000\n",
      "\u001b[2m\u001b[36m(pid=3659, ip=192.168.8.55)\u001b[0m \u001b[1;36mTest_Stage_6\u001b[0;0m Test || Epoch: 45 || Accuracy: 67.21 || \n",
      "\u001b[2m\u001b[36m(pid=3659, ip=192.168.8.55)\u001b[0m \u001b[1;36mTest_Stage_6\u001b[0;0m Restoring from /mnt/Ressources/Andres/Temp_active/runs/Active_Learning_keras_v0/Stage_6/checkpoints/checkpoint.050.hdf5\n",
      "\u001b[2m\u001b[36m(pid=3659, ip=192.168.8.55)\u001b[0m \u001b[1;36mTest_Stage_6\u001b[0;0m Length of the test:  10000\n",
      "\u001b[2m\u001b[36m(pid=3659, ip=192.168.8.55)\u001b[0m \u001b[1;36mTest_Stage_6\u001b[0;0m Test || Epoch: 50 || Accuracy: 71.88 || \n",
      "\u001b[2m\u001b[36m(pid=3659, ip=192.168.8.55)\u001b[0m \u001b[1;36mTest_Stage_6\u001b[0;0m Restoring from /mnt/Ressources/Andres/Temp_active/runs/Active_Learning_keras_v0/Stage_6/checkpoints/checkpoint.055.hdf5\n",
      "\u001b[2m\u001b[36m(pid=3659, ip=192.168.8.55)\u001b[0m \u001b[1;36mTest_Stage_6\u001b[0;0m Length of the test:  10000\n",
      "\u001b[2m\u001b[36m(pid=3659, ip=192.168.8.55)\u001b[0m \u001b[1;36mTest_Stage_6\u001b[0;0m Test || Epoch: 55 || Accuracy: 70.97 || \n",
      "\u001b[2m\u001b[36m(pid=3659, ip=192.168.8.55)\u001b[0m \u001b[1;36mTest_Stage_6\u001b[0;0m Restoring from /mnt/Ressources/Andres/Temp_active/runs/Active_Learning_keras_v0/Stage_6/checkpoints/checkpoint.060.hdf5\n",
      "\u001b[2m\u001b[36m(pid=3659, ip=192.168.8.55)\u001b[0m \u001b[1;36mTest_Stage_6\u001b[0;0m Length of the test:  10000\n",
      "\u001b[2m\u001b[36m(pid=3659, ip=192.168.8.55)\u001b[0m \u001b[1;36mTest_Stage_6\u001b[0;0m Test || Epoch: 60 || Accuracy: 72.81 || \n",
      "\u001b[2m\u001b[36m(pid=3659, ip=192.168.8.55)\u001b[0m \u001b[1;36mTest_Stage_6\u001b[0;0m Restoring from /mnt/Ressources/Andres/Temp_active/runs/Active_Learning_keras_v0/Stage_6/checkpoints/checkpoint.065.hdf5\n",
      "\u001b[2m\u001b[36m(pid=3659, ip=192.168.8.55)\u001b[0m \u001b[1;36mTest_Stage_6\u001b[0;0m Length of the test:  10000\n",
      "\u001b[2m\u001b[36m(pid=3659, ip=192.168.8.55)\u001b[0m \u001b[1;36mTest_Stage_6\u001b[0;0m Test || Epoch: 65 || Accuracy: 70.55 || \n",
      "\u001b[2m\u001b[36m(pid=3659, ip=192.168.8.55)\u001b[0m \u001b[1;36mTest_Stage_6\u001b[0;0m Restoring from /mnt/Ressources/Andres/Temp_active/runs/Active_Learning_keras_v0/Stage_6/checkpoints/checkpoint.070.hdf5\n",
      "\u001b[2m\u001b[36m(pid=3659, ip=192.168.8.55)\u001b[0m \u001b[1;36mTest_Stage_6\u001b[0;0m Length of the test:  10000\n",
      "\u001b[2m\u001b[36m(pid=3659, ip=192.168.8.55)\u001b[0m \u001b[1;36mTest_Stage_6\u001b[0;0m Test || Epoch: 70 || Accuracy: 70.91 || \n",
      "\u001b[2m\u001b[36m(pid=3659, ip=192.168.8.55)\u001b[0m \u001b[1;36mTest_Stage_6\u001b[0;0m Restoring from /mnt/Ressources/Andres/Temp_active/runs/Active_Learning_keras_v0/Stage_6/checkpoints/checkpoint.075.hdf5\n",
      "\u001b[2m\u001b[36m(pid=3659, ip=192.168.8.55)\u001b[0m \u001b[1;36mTest_Stage_6\u001b[0;0m Length of the test:  10000\n",
      "\u001b[2m\u001b[36m(pid=3659, ip=192.168.8.55)\u001b[0m \u001b[1;36mTest_Stage_6\u001b[0;0m Test || Epoch: 75 || Accuracy: 70.55 || \n",
      "\u001b[2m\u001b[36m(pid=3659, ip=192.168.8.55)\u001b[0m \u001b[1;36mTest_Stage_6\u001b[0;0m Restoring from /mnt/Ressources/Andres/Temp_active/runs/Active_Learning_keras_v0/Stage_6/checkpoints/checkpoint.080.hdf5\n",
      "\u001b[2m\u001b[36m(pid=3659, ip=192.168.8.55)\u001b[0m \u001b[1;36mTest_Stage_6\u001b[0;0m Length of the test:  10000\n",
      "\u001b[2m\u001b[36m(pid=3659, ip=192.168.8.55)\u001b[0m \u001b[1;36mTest_Stage_6\u001b[0;0m Test || Epoch: 80 || Accuracy: 69.94 || \n",
      "\u001b[2m\u001b[36m(pid=3659, ip=192.168.8.55)\u001b[0m \u001b[1;36mTest_Stage_6\u001b[0;0m Restoring from /mnt/Ressources/Andres/Temp_active/runs/Active_Learning_keras_v0/Stage_6/checkpoints/checkpoint.085.hdf5\n",
      "\u001b[2m\u001b[36m(pid=3659, ip=192.168.8.55)\u001b[0m \u001b[1;36mTest_Stage_6\u001b[0;0m Length of the test:  10000\n",
      "\u001b[2m\u001b[36m(pid=3659, ip=192.168.8.55)\u001b[0m \u001b[1;36mTest_Stage_6\u001b[0;0m Test || Epoch: 85 || Accuracy: 71.06 || \n",
      "\u001b[2m\u001b[36m(pid=3659, ip=192.168.8.55)\u001b[0m \u001b[1;36mTest_Stage_6\u001b[0;0m Restoring from /mnt/Ressources/Andres/Temp_active/runs/Active_Learning_keras_v0/Stage_6/checkpoints/checkpoint.090.hdf5\n",
      "\u001b[2m\u001b[36m(pid=3659, ip=192.168.8.55)\u001b[0m \u001b[1;36mTest_Stage_6\u001b[0;0m Length of the test:  10000\n",
      "\u001b[2m\u001b[36m(pid=3659, ip=192.168.8.55)\u001b[0m \u001b[1;36mTest_Stage_6\u001b[0;0m Test || Epoch: 90 || Accuracy: 72.37 || \n",
      "\u001b[2m\u001b[36m(pid=3659, ip=192.168.8.55)\u001b[0m \u001b[1;36mTest_Stage_6\u001b[0;0m Restoring from /mnt/Ressources/Andres/Temp_active/runs/Active_Learning_keras_v0/Stage_6/checkpoints/checkpoint.095.hdf5\n",
      "\u001b[2m\u001b[36m(pid=3659, ip=192.168.8.55)\u001b[0m \u001b[1;36mTest_Stage_6\u001b[0;0m Length of the test:  10000\n",
      "\u001b[2m\u001b[36m(pid=3659, ip=192.168.8.55)\u001b[0m \u001b[1;36mTest_Stage_6\u001b[0;0m Test || Epoch: 95 || Accuracy: 68.90 || \n",
      "\u001b[2m\u001b[36m(pid=3659, ip=192.168.8.55)\u001b[0m \u001b[1;36mTest_Stage_6\u001b[0;0m Restoring from /mnt/Ressources/Andres/Temp_active/runs/Active_Learning_keras_v0/Stage_6/checkpoints/checkpoint.100.hdf5\n",
      "\u001b[2m\u001b[36m(pid=3659, ip=192.168.8.55)\u001b[0m \u001b[1;36mTest_Stage_6\u001b[0;0m Length of the test:  10000\n",
      "\u001b[2m\u001b[36m(pid=3659, ip=192.168.8.55)\u001b[0m \u001b[1;36mTest_Stage_6\u001b[0;0m Test || Epoch: 100 || Accuracy: 72.12 || \n",
      "\u001b[2m\u001b[36m(pid=3659, ip=192.168.8.55)\u001b[0m \u001b[1;36mTest_Stage_6\u001b[0;0m Restoring from /mnt/Ressources/Andres/Temp_active/runs/Active_Learning_keras_v0/Stage_6/checkpoints/checkpoint.105.hdf5\n",
      "\u001b[2m\u001b[36m(pid=3659, ip=192.168.8.55)\u001b[0m \u001b[1;36mTest_Stage_6\u001b[0;0m Length of the test:  10000\n",
      "\u001b[2m\u001b[36m(pid=3659, ip=192.168.8.55)\u001b[0m \u001b[1;36mTest_Stage_6\u001b[0;0m Test || Epoch: 105 || Accuracy: 70.49 || \n",
      "\u001b[2m\u001b[36m(pid=3659, ip=192.168.8.55)\u001b[0m \u001b[1;36mTest_Stage_6\u001b[0;0m Restoring from /mnt/Ressources/Andres/Temp_active/runs/Active_Learning_keras_v0/Stage_6/checkpoints/checkpoint.110.hdf5\n",
      "\u001b[2m\u001b[36m(pid=3659, ip=192.168.8.55)\u001b[0m \u001b[1;36mTest_Stage_6\u001b[0;0m Length of the test:  10000\n",
      "\u001b[2m\u001b[36m(pid=3659, ip=192.168.8.55)\u001b[0m \u001b[1;36mTest_Stage_6\u001b[0;0m Test || Epoch: 110 || Accuracy: 71.49 || \n",
      "\u001b[2m\u001b[36m(pid=3659, ip=192.168.8.55)\u001b[0m \u001b[1;36mTest_Stage_6\u001b[0;0m Restoring from /mnt/Ressources/Andres/Temp_active/runs/Active_Learning_keras_v0/Stage_6/checkpoints/checkpoint.115.hdf5\n",
      "\u001b[2m\u001b[36m(pid=3659, ip=192.168.8.55)\u001b[0m \u001b[1;36mTest_Stage_6\u001b[0;0m Length of the test:  10000\n",
      "\u001b[2m\u001b[36m(pid=3659, ip=192.168.8.55)\u001b[0m \u001b[1;36mTest_Stage_6\u001b[0;0m Test || Epoch: 115 || Accuracy: 70.72 || \n",
      "\u001b[2m\u001b[36m(pid=3659, ip=192.168.8.55)\u001b[0m \u001b[1;36mTest_Stage_6\u001b[0;0m Restoring from /mnt/Ressources/Andres/Temp_active/runs/Active_Learning_keras_v0/Stage_6/checkpoints/checkpoint.120.hdf5\n",
      "\u001b[2m\u001b[36m(pid=3659, ip=192.168.8.55)\u001b[0m \u001b[1;36mTest_Stage_6\u001b[0;0m Length of the test:  10000\n",
      "\u001b[2m\u001b[36m(pid=3659, ip=192.168.8.55)\u001b[0m \u001b[1;36mTest_Stage_6\u001b[0;0m Test || Epoch: 120 || Accuracy: 71.87 || \n",
      "\u001b[2m\u001b[36m(pid=3659, ip=192.168.8.55)\u001b[0m \u001b[1;36mTest_Stage_6\u001b[0;0m Restoring from /mnt/Ressources/Andres/Temp_active/runs/Active_Learning_keras_v0/Stage_6/checkpoints/checkpoint.125.hdf5\n",
      "\u001b[2m\u001b[36m(pid=3659, ip=192.168.8.55)\u001b[0m \u001b[1;36mTest_Stage_6\u001b[0;0m Length of the test:  10000\n",
      "\u001b[2m\u001b[36m(pid=3659, ip=192.168.8.55)\u001b[0m \u001b[1;36mTest_Stage_6\u001b[0;0m Test || Epoch: 125 || Accuracy: 70.91 || \n",
      "\u001b[2m\u001b[36m(pid=3659, ip=192.168.8.55)\u001b[0m \u001b[1;36mTest_Stage_6\u001b[0;0m Restoring from /mnt/Ressources/Andres/Temp_active/runs/Active_Learning_keras_v0/Stage_6/checkpoints/checkpoint.130.hdf5\n",
      "\u001b[2m\u001b[36m(pid=3659, ip=192.168.8.55)\u001b[0m \u001b[1;36mTest_Stage_6\u001b[0;0m Length of the test:  10000\n",
      "\u001b[2m\u001b[36m(pid=3659, ip=192.168.8.55)\u001b[0m \u001b[1;36mTest_Stage_6\u001b[0;0m Test || Epoch: 130 || Accuracy: 71.32 || \n",
      "\u001b[2m\u001b[36m(pid=3659, ip=192.168.8.55)\u001b[0m \u001b[1;36mTest_Stage_6\u001b[0;0m Restoring from /mnt/Ressources/Andres/Temp_active/runs/Active_Learning_keras_v0/Stage_6/checkpoints/checkpoint.135.hdf5\n",
      "\u001b[2m\u001b[36m(pid=3659, ip=192.168.8.55)\u001b[0m \u001b[1;36mTest_Stage_6\u001b[0;0m Length of the test:  10000\n",
      "\u001b[2m\u001b[36m(pid=3659, ip=192.168.8.55)\u001b[0m \u001b[1;36mTest_Stage_6\u001b[0;0m Test || Epoch: 135 || Accuracy: 70.62 || \n",
      "\u001b[2m\u001b[36m(pid=3659, ip=192.168.8.55)\u001b[0m \u001b[1;36mTest_Stage_6\u001b[0;0m Restoring from /mnt/Ressources/Andres/Temp_active/runs/Active_Learning_keras_v0/Stage_6/checkpoints/checkpoint.140.hdf5\n",
      "\u001b[2m\u001b[36m(pid=3659, ip=192.168.8.55)\u001b[0m \u001b[1;36mTest_Stage_6\u001b[0;0m Length of the test:  10000\n",
      "\u001b[2m\u001b[36m(pid=3659, ip=192.168.8.55)\u001b[0m \u001b[1;36mTest_Stage_6\u001b[0;0m Test || Epoch: 140 || Accuracy: 71.69 || \n",
      "\u001b[2m\u001b[36m(pid=3659, ip=192.168.8.55)\u001b[0m \u001b[1;36mTest_Stage_6\u001b[0;0m Restoring from /mnt/Ressources/Andres/Temp_active/runs/Active_Learning_keras_v0/Stage_6/checkpoints/checkpoint.145.hdf5\n",
      "\u001b[2m\u001b[36m(pid=3659, ip=192.168.8.55)\u001b[0m \u001b[1;36mTest_Stage_6\u001b[0;0m Length of the test:  10000\n",
      "\u001b[2m\u001b[36m(pid=3659, ip=192.168.8.55)\u001b[0m \u001b[1;36mTest_Stage_6\u001b[0;0m Test || Epoch: 145 || Accuracy: 71.22 || \n",
      "\u001b[2m\u001b[36m(pid=3659, ip=192.168.8.55)\u001b[0m \u001b[1;36mTest_Stage_6\u001b[0;0m Restoring from /mnt/Ressources/Andres/Temp_active/runs/Active_Learning_keras_v0/Stage_6/checkpoints/checkpoint.150.hdf5\n",
      "\u001b[2m\u001b[36m(pid=3659, ip=192.168.8.55)\u001b[0m \u001b[1;36mTest_Stage_6\u001b[0;0m Length of the test:  10000\n",
      "\u001b[2m\u001b[36m(pid=3659, ip=192.168.8.55)\u001b[0m \u001b[1;36mTest_Stage_6\u001b[0;0m Test || Epoch: 150 || Accuracy: 71.37 || \n",
      "\u001b[2m\u001b[36m(pid=3659, ip=192.168.8.55)\u001b[0m \u001b[1;36mTest_Stage_6\u001b[0;0m Restoring from /mnt/Ressources/Andres/Temp_active/runs/Active_Learning_keras_v0/Stage_6/checkpoints/checkpoint.155.hdf5\n",
      "\u001b[2m\u001b[36m(pid=3659, ip=192.168.8.55)\u001b[0m \u001b[1;36mTest_Stage_6\u001b[0;0m Length of the test:  10000\n",
      "\u001b[2m\u001b[36m(pid=3659, ip=192.168.8.55)\u001b[0m \u001b[1;36mTest_Stage_6\u001b[0;0m Test || Epoch: 155 || Accuracy: 72.67 || \n",
      "\u001b[2m\u001b[36m(pid=3659, ip=192.168.8.55)\u001b[0m \u001b[1;36mTest_Stage_6\u001b[0;0m Restoring from /mnt/Ressources/Andres/Temp_active/runs/Active_Learning_keras_v0/Stage_6/checkpoints/checkpoint.160.hdf5\n",
      "\u001b[2m\u001b[36m(pid=3659, ip=192.168.8.55)\u001b[0m \u001b[1;36mTest_Stage_6\u001b[0;0m Length of the test:  10000\n",
      "\u001b[2m\u001b[36m(pid=3659, ip=192.168.8.55)\u001b[0m \u001b[1;36mTest_Stage_6\u001b[0;0m Test || Epoch: 160 || Accuracy: 72.61 || \n",
      "\u001b[2m\u001b[36m(pid=3659, ip=192.168.8.55)\u001b[0m \u001b[1;36mTest_Stage_6\u001b[0;0m Restoring from /mnt/Ressources/Andres/Temp_active/runs/Active_Learning_keras_v0/Stage_6/checkpoints/checkpoint.165.hdf5\n",
      "\u001b[2m\u001b[36m(pid=3659, ip=192.168.8.55)\u001b[0m \u001b[1;36mTest_Stage_6\u001b[0;0m Length of the test:  10000\n",
      "\u001b[2m\u001b[36m(pid=3659, ip=192.168.8.55)\u001b[0m \u001b[1;36mTest_Stage_6\u001b[0;0m Test || Epoch: 165 || Accuracy: 74.05 || \n",
      "\u001b[2m\u001b[36m(pid=3659, ip=192.168.8.55)\u001b[0m \u001b[1;36mTest_Stage_6\u001b[0;0m Restoring from /mnt/Ressources/Andres/Temp_active/runs/Active_Learning_keras_v0/Stage_6/checkpoints/checkpoint.170.hdf5\n",
      "\u001b[2m\u001b[36m(pid=3659, ip=192.168.8.55)\u001b[0m \u001b[1;36mTest_Stage_6\u001b[0;0m Length of the test:  10000\n",
      "\u001b[2m\u001b[36m(pid=3659, ip=192.168.8.55)\u001b[0m \u001b[1;36mTest_Stage_6\u001b[0;0m Test || Epoch: 170 || Accuracy: 74.31 || \n",
      "\u001b[2m\u001b[36m(pid=3659, ip=192.168.8.55)\u001b[0m \u001b[1;36mTest_Stage_6\u001b[0;0m Restoring from /mnt/Ressources/Andres/Temp_active/runs/Active_Learning_keras_v0/Stage_6/checkpoints/checkpoint.175.hdf5\n",
      "\u001b[2m\u001b[36m(pid=3659, ip=192.168.8.55)\u001b[0m \u001b[1;36mTest_Stage_6\u001b[0;0m Length of the test:  10000\n",
      "\u001b[2m\u001b[36m(pid=3659, ip=192.168.8.55)\u001b[0m \u001b[1;36mTest_Stage_6\u001b[0;0m Test || Epoch: 175 || Accuracy: 74.40 || \n",
      "\u001b[2m\u001b[36m(pid=3659, ip=192.168.8.55)\u001b[0m \u001b[1;36mTest_Stage_6\u001b[0;0m Restoring from /mnt/Ressources/Andres/Temp_active/runs/Active_Learning_keras_v0/Stage_6/checkpoints/checkpoint.180.hdf5\n",
      "\u001b[2m\u001b[36m(pid=3659, ip=192.168.8.55)\u001b[0m \u001b[1;36mTest_Stage_6\u001b[0;0m Length of the test:  10000\n",
      "\u001b[2m\u001b[36m(pid=3659, ip=192.168.8.55)\u001b[0m \u001b[1;36mTest_Stage_6\u001b[0;0m Test || Epoch: 180 || Accuracy: 74.43 || \n",
      "\u001b[2m\u001b[36m(pid=3659, ip=192.168.8.55)\u001b[0m \u001b[1;36mTest_Stage_6\u001b[0;0m Restoring from /mnt/Ressources/Andres/Temp_active/runs/Active_Learning_keras_v0/Stage_6/checkpoints/checkpoint.185.hdf5\n",
      "\u001b[2m\u001b[36m(pid=3659, ip=192.168.8.55)\u001b[0m \u001b[1;36mTest_Stage_6\u001b[0;0m Length of the test:  10000\n",
      "\u001b[2m\u001b[36m(pid=3659, ip=192.168.8.55)\u001b[0m \u001b[1;36mTest_Stage_6\u001b[0;0m Test || Epoch: 185 || Accuracy: 74.26 || \n",
      "\u001b[2m\u001b[36m(pid=3659, ip=192.168.8.55)\u001b[0m \u001b[1;36mTest_Stage_6\u001b[0;0m Restoring from /mnt/Ressources/Andres/Temp_active/runs/Active_Learning_keras_v0/Stage_6/checkpoints/checkpoint.190.hdf5\n",
      "\u001b[2m\u001b[36m(pid=3659, ip=192.168.8.55)\u001b[0m \u001b[1;36mTest_Stage_6\u001b[0;0m Length of the test:  10000\n",
      "\u001b[2m\u001b[36m(pid=3659, ip=192.168.8.55)\u001b[0m \u001b[1;36mTest_Stage_6\u001b[0;0m Test || Epoch: 190 || Accuracy: 74.42 || \n",
      "\u001b[2m\u001b[36m(pid=3659, ip=192.168.8.55)\u001b[0m \u001b[1;36mTest_Stage_6\u001b[0;0m Restoring from /mnt/Ressources/Andres/Temp_active/runs/Active_Learning_keras_v0/Stage_6/checkpoints/checkpoint.195.hdf5\n",
      "\u001b[2m\u001b[36m(pid=3659, ip=192.168.8.55)\u001b[0m \u001b[1;36mTest_Stage_6\u001b[0;0m Length of the test:  10000\n",
      "\u001b[2m\u001b[36m(pid=3659, ip=192.168.8.55)\u001b[0m \u001b[1;36mTest_Stage_6\u001b[0;0m Test || Epoch: 195 || Accuracy: 74.43 || \n",
      "\u001b[2m\u001b[36m(pid=3659, ip=192.168.8.55)\u001b[0m \u001b[1;36mTest_Stage_6\u001b[0;0m Restoring from /mnt/Ressources/Andres/Temp_active/runs/Active_Learning_keras_v0/Stage_6/checkpoints/checkpoint.200.hdf5\n",
      "\u001b[2m\u001b[36m(pid=3659, ip=192.168.8.55)\u001b[0m \u001b[1;36mTest_Stage_6\u001b[0;0m Length of the test:  10000\n",
      "\u001b[2m\u001b[36m(pid=3659, ip=192.168.8.55)\u001b[0m \u001b[1;36mTest_Stage_6\u001b[0;0m Test || Epoch: 200 || Accuracy: 74.17 || \n",
      "\u001b[2m\u001b[36m(pid=12774, ip=192.168.8.52)\u001b[0m Epoch: 47 Time: 2020-12-15 16:10:45 Train loss: 1.38 Count NaN: 0 Saving\n"
     ]
    },
    {
     "name": "stderr",
     "output_type": "stream",
     "text": [
      "\u001b[2m\u001b[36m(pid=10022, ip=192.168.8.54)\u001b[0m /home/reminiz/ReminizML2/python_env/lib/python3.7/site-packages/tensorflow/python/framework/dtypes.py:526: FutureWarning: Passing (type, 1) or '1type' as a synonym of type is deprecated; in a future version of numpy, it will be understood as (type, (1,)) / '(1,)type'.\n",
      "\u001b[2m\u001b[36m(pid=10022, ip=192.168.8.54)\u001b[0m   _np_qint8 = np.dtype([(\"qint8\", np.int8, 1)])\n",
      "\u001b[2m\u001b[36m(pid=10022, ip=192.168.8.54)\u001b[0m /home/reminiz/ReminizML2/python_env/lib/python3.7/site-packages/tensorflow/python/framework/dtypes.py:527: FutureWarning: Passing (type, 1) or '1type' as a synonym of type is deprecated; in a future version of numpy, it will be understood as (type, (1,)) / '(1,)type'.\n",
      "\u001b[2m\u001b[36m(pid=10022, ip=192.168.8.54)\u001b[0m   _np_quint8 = np.dtype([(\"quint8\", np.uint8, 1)])\n",
      "\u001b[2m\u001b[36m(pid=10022, ip=192.168.8.54)\u001b[0m /home/reminiz/ReminizML2/python_env/lib/python3.7/site-packages/tensorflow/python/framework/dtypes.py:528: FutureWarning: Passing (type, 1) or '1type' as a synonym of type is deprecated; in a future version of numpy, it will be understood as (type, (1,)) / '(1,)type'.\n",
      "\u001b[2m\u001b[36m(pid=10022, ip=192.168.8.54)\u001b[0m   _np_qint16 = np.dtype([(\"qint16\", np.int16, 1)])\n",
      "\u001b[2m\u001b[36m(pid=10022, ip=192.168.8.54)\u001b[0m /home/reminiz/ReminizML2/python_env/lib/python3.7/site-packages/tensorflow/python/framework/dtypes.py:529: FutureWarning: Passing (type, 1) or '1type' as a synonym of type is deprecated; in a future version of numpy, it will be understood as (type, (1,)) / '(1,)type'.\n",
      "\u001b[2m\u001b[36m(pid=10022, ip=192.168.8.54)\u001b[0m   _np_quint16 = np.dtype([(\"quint16\", np.uint16, 1)])\n",
      "\u001b[2m\u001b[36m(pid=10022, ip=192.168.8.54)\u001b[0m /home/reminiz/ReminizML2/python_env/lib/python3.7/site-packages/tensorflow/python/framework/dtypes.py:530: FutureWarning: Passing (type, 1) or '1type' as a synonym of type is deprecated; in a future version of numpy, it will be understood as (type, (1,)) / '(1,)type'.\n",
      "\u001b[2m\u001b[36m(pid=10022, ip=192.168.8.54)\u001b[0m   _np_qint32 = np.dtype([(\"qint32\", np.int32, 1)])\n",
      "\u001b[2m\u001b[36m(pid=10022, ip=192.168.8.54)\u001b[0m /home/reminiz/ReminizML2/python_env/lib/python3.7/site-packages/tensorflow/python/framework/dtypes.py:535: FutureWarning: Passing (type, 1) or '1type' as a synonym of type is deprecated; in a future version of numpy, it will be understood as (type, (1,)) / '(1,)type'.\n",
      "\u001b[2m\u001b[36m(pid=10022, ip=192.168.8.54)\u001b[0m   np_resource = np.dtype([(\"resource\", np.ubyte, 1)])\n",
      "\u001b[2m\u001b[36m(pid=10022, ip=192.168.8.54)\u001b[0m wandb: Tracking run with wandb version 0.8.36\n",
      "\u001b[2m\u001b[36m(pid=10022, ip=192.168.8.54)\u001b[0m wandb: Wandb version 0.10.12 is available!  To upgrade, please run:\n",
      "\u001b[2m\u001b[36m(pid=10022, ip=192.168.8.54)\u001b[0m wandb:  $ pip install wandb --upgrade\n",
      "\u001b[2m\u001b[36m(pid=10022, ip=192.168.8.54)\u001b[0m wandb: Run data is saved locally in ../../../Trainings/wandb/wandb/run-20201215_151106-2wfg5hig\n",
      "\u001b[2m\u001b[36m(pid=10022, ip=192.168.8.54)\u001b[0m wandb: Syncing run 2wfg5hig\n",
      "\u001b[2m\u001b[36m(pid=10022, ip=192.168.8.54)\u001b[0m wandb: ⭐️ View project at http://192.168.8.51:8080/reminiz/Violence%20Detection\n",
      "\u001b[2m\u001b[36m(pid=10022, ip=192.168.8.54)\u001b[0m wandb: 🚀 View run at http://192.168.8.51:8080/reminiz/Violence%20Detection/runs/2wfg5hig\n",
      "\u001b[2m\u001b[36m(pid=10022, ip=192.168.8.54)\u001b[0m wandb: Run `wandb off` to turn off syncing.\n",
      "\u001b[2m\u001b[36m(pid=10022, ip=192.168.8.54)\u001b[0m \n",
      "\u001b[2m\u001b[36m(pid=10022, ip=192.168.8.54)\u001b[0m WARNING:tensorflow:From /home/reminiz/ReminizML2/python_env/lib/python3.7/site-packages/tensorflow/python/framework/op_def_library.py:263: colocate_with (from tensorflow.python.framework.ops) is deprecated and will be removed in a future version.\n",
      "\u001b[2m\u001b[36m(pid=10022, ip=192.168.8.54)\u001b[0m Instructions for updating:\n",
      "\u001b[2m\u001b[36m(pid=10022, ip=192.168.8.54)\u001b[0m Colocations handled automatically by placer.\n",
      "\u001b[2m\u001b[36m(pid=10022, ip=192.168.8.54)\u001b[0m WARNING:tensorflow:From /mnt/Ressources/Quentin/Detection/core/common.py:25: batch_normalization (from tensorflow.python.layers.normalization) is deprecated and will be removed in a future version.\n",
      "\u001b[2m\u001b[36m(pid=10022, ip=192.168.8.54)\u001b[0m Instructions for updating:\n",
      "\u001b[2m\u001b[36m(pid=10022, ip=192.168.8.54)\u001b[0m Use keras.layers.batch_normalization instead.\n"
     ]
    },
    {
     "name": "stdout",
     "output_type": "stream",
     "text": [
      "\u001b[2m\u001b[36m(pid=10022, ip=192.168.8.54)\u001b[0m {0: 'FIREARMS', 1: 'COLDARMS'}\n"
     ]
    },
    {
     "name": "stderr",
     "output_type": "stream",
     "text": [
      "\u001b[2m\u001b[36m(pid=10022, ip=192.168.8.54)\u001b[0m 2020-12-15 16:11:13.969738: I tensorflow/core/platform/cpu_feature_guard.cc:141] Your CPU supports instructions that this TensorFlow binary was not compiled to use: AVX2 FMA\n",
      "\u001b[2m\u001b[36m(pid=10022, ip=192.168.8.54)\u001b[0m 2020-12-15 16:11:13.994344: I tensorflow/core/platform/profile_utils/cpu_utils.cc:94] CPU Frequency: 3300095000 Hz\n",
      "\u001b[2m\u001b[36m(pid=10022, ip=192.168.8.54)\u001b[0m 2020-12-15 16:11:13.995137: I tensorflow/compiler/xla/service/service.cc:150] XLA service 0x799f680 executing computations on platform Host. Devices:\n",
      "\u001b[2m\u001b[36m(pid=10022, ip=192.168.8.54)\u001b[0m 2020-12-15 16:11:13.995160: I tensorflow/compiler/xla/service/service.cc:158]   StreamExecutor device (0): <undefined>, <undefined>\n",
      "\u001b[2m\u001b[36m(pid=10022, ip=192.168.8.54)\u001b[0m 2020-12-15 16:11:14.077638: I tensorflow/compiler/xla/service/service.cc:150] XLA service 0x79db940 executing computations on platform CUDA. Devices:\n",
      "\u001b[2m\u001b[36m(pid=10022, ip=192.168.8.54)\u001b[0m 2020-12-15 16:11:14.077681: I tensorflow/compiler/xla/service/service.cc:158]   StreamExecutor device (0): GeForce GTX TITAN X, Compute Capability 5.2\n",
      "\u001b[2m\u001b[36m(pid=10022, ip=192.168.8.54)\u001b[0m 2020-12-15 16:11:14.077830: I tensorflow/core/common_runtime/gpu/gpu_device.cc:1433] Found device 0 with properties: \n",
      "\u001b[2m\u001b[36m(pid=10022, ip=192.168.8.54)\u001b[0m name: GeForce GTX TITAN X major: 5 minor: 2 memoryClockRate(GHz): 1.076\n",
      "\u001b[2m\u001b[36m(pid=10022, ip=192.168.8.54)\u001b[0m pciBusID: 0000:4c:00.0\n",
      "\u001b[2m\u001b[36m(pid=10022, ip=192.168.8.54)\u001b[0m totalMemory: 11.92GiB freeMemory: 11.82GiB\n",
      "\u001b[2m\u001b[36m(pid=10022, ip=192.168.8.54)\u001b[0m 2020-12-15 16:11:14.077850: I tensorflow/core/common_runtime/gpu/gpu_device.cc:1512] Adding visible gpu devices: 0\n",
      "\u001b[2m\u001b[36m(pid=10022, ip=192.168.8.54)\u001b[0m 2020-12-15 16:11:14.079128: I tensorflow/core/common_runtime/gpu/gpu_device.cc:984] Device interconnect StreamExecutor with strength 1 edge matrix:\n",
      "\u001b[2m\u001b[36m(pid=10022, ip=192.168.8.54)\u001b[0m 2020-12-15 16:11:14.079151: I tensorflow/core/common_runtime/gpu/gpu_device.cc:990]      0 \n",
      "\u001b[2m\u001b[36m(pid=10022, ip=192.168.8.54)\u001b[0m 2020-12-15 16:11:14.079161: I tensorflow/core/common_runtime/gpu/gpu_device.cc:1003] 0:   N \n",
      "\u001b[2m\u001b[36m(pid=10022, ip=192.168.8.54)\u001b[0m 2020-12-15 16:11:14.079248: I tensorflow/core/common_runtime/gpu/gpu_device.cc:1115] Created TensorFlow device (/job:localhost/replica:0/task:0/device:GPU:0 with 11496 MB memory) -> physical GPU (device: 0, name: GeForce GTX TITAN X, pci bus id: 0000:4c:00.0, compute capability: 5.2)\n",
      "\u001b[2m\u001b[36m(pid=10022, ip=192.168.8.54)\u001b[0m WARNING:tensorflow:From /home/reminiz/ReminizML2/python_env/lib/python3.7/site-packages/tensorflow/python/training/saver.py:1266: checkpoint_exists (from tensorflow.python.training.checkpoint_management) is deprecated and will be removed in a future version.\n",
      "\u001b[2m\u001b[36m(pid=10022, ip=192.168.8.54)\u001b[0m Instructions for updating:\n",
      "\u001b[2m\u001b[36m(pid=10022, ip=192.168.8.54)\u001b[0m Use standard file APIs to check for files with this prefix.\n"
     ]
    },
    {
     "name": "stdout",
     "output_type": "stream",
     "text": [
      "\u001b[2m\u001b[36m(pid=10022, ip=192.168.8.54)\u001b[0m Restoring from /mnt/Trainings/models/violence_detection_weapons_0/checkpoint/epoch47.ckpt-47\n"
     ]
    },
    {
     "name": "stderr",
     "output_type": "stream",
     "text": [
      "  0% 0/100 [00:00<?, ?it/s].168.8.54)\u001b[0m \n",
      "\u001b[2m\u001b[36m(pid=10022, ip=192.168.8.54)\u001b[0m E1215 16:11:20.810875 10022 10031 task_manager.cc:323] Task failed: IOError: cancelling all pending tasks of dead actor: Type=ACTOR_TASK, Language=PYTHON, Resources: {}, function_descriptor={type=PythonFunctionDescriptor, module_name=AutoML.datanode, class_name=DataNode, function_name=get_data, function_hash=}, task_id=13f3289d047ab327f43364c501000000, task_name=DataNode.get_data(), job_id=01000000, num_args=8, num_returns=2, actor_task_spec={actor_id=f43364c501000000, actor_caller_id=ffffffffffffffff69eda7470c000000, actor_counter=0}\n",
      "  1% 1/100 [00:02<04:25,  2.68s/it]4)\u001b[0m \n",
      "  3% 3/100 [00:02<03:04,  1.90s/it]4)\u001b[0m \n",
      "  5% 5/100 [00:02<02:08,  1.35s/it]4)\u001b[0m \n",
      "  6% 6/100 [00:03<01:32,  1.01it/s]4)\u001b[0m \n",
      "  7% 7/100 [00:03<01:12,  1.29it/s]4)\u001b[0m \n",
      "  8% 8/100 [00:03<00:54,  1.70it/s]4)\u001b[0m \n",
      "  9% 9/100 [00:03<00:47,  1.91it/s]4)\u001b[0m \n",
      " 10% 10/100 [00:04<00:40,  2.20it/s])\u001b[0m \n",
      " 12% 12/100 [00:04<00:30,  2.93it/s])\u001b[0m \n",
      " 14% 14/100 [00:04<00:22,  3.77it/s])\u001b[0m \n",
      " 15% 15/100 [00:04<00:23,  3.65it/s])\u001b[0m \n",
      " 17% 17/100 [00:04<00:17,  4.70it/s])\u001b[0m \n",
      " 18% 18/100 [00:05<00:15,  5.13it/s])\u001b[0m \n",
      " 19% 19/100 [00:05<00:19,  4.11it/s])\u001b[0m \n",
      " 21% 21/100 [00:05<00:14,  5.30it/s])\u001b[0m \n",
      " 23% 23/100 [00:05<00:11,  6.49it/s])\u001b[0m \n",
      " 25% 25/100 [00:06<00:11,  6.81it/s])\u001b[0m \n",
      " 26% 26/100 [00:06<00:12,  6.02it/s])\u001b[0m \n",
      " 27% 27/100 [00:06<00:10,  6.81it/s])\u001b[0m \n",
      " 29% 29/100 [00:06<00:11,  6.29it/s])\u001b[0m \n",
      " 31% 31/100 [00:06<00:09,  7.40it/s])\u001b[0m \n",
      " 33% 33/100 [00:07<00:08,  8.29it/s])\u001b[0m \n",
      " 34% 34/100 [00:07<00:11,  5.68it/s])\u001b[0m \n",
      " 35% 35/100 [00:07<00:10,  5.95it/s])\u001b[0m \n",
      " 36% 36/100 [00:07<00:11,  5.38it/s])\u001b[0m \n",
      " 38% 38/100 [00:07<00:09,  6.54it/s])\u001b[0m \n",
      " 39% 39/100 [00:08<00:09,  6.31it/s])\u001b[0m \n",
      " 41% 41/100 [00:08<00:09,  6.06it/s])\u001b[0m \n",
      " 43% 43/100 [00:08<00:07,  7.39it/s])\u001b[0m \n",
      " 45% 45/100 [00:08<00:06,  8.60it/s])\u001b[0m \n",
      " 47% 47/100 [00:08<00:06,  8.21it/s])\u001b[0m \n",
      " 49% 49/100 [00:09<00:05,  9.00it/s])\u001b[0m \n",
      " 51% 51/100 [00:09<00:05,  8.72it/s])\u001b[0m \n",
      " 52% 52/100 [00:09<00:05,  8.29it/s])\u001b[0m \n",
      " 54% 54/100 [00:09<00:04,  9.67it/s])\u001b[0m \n",
      " 56% 56/100 [00:09<00:04, 10.31it/s])\u001b[0m \n",
      " 58% 58/100 [00:09<00:03, 10.96it/s])\u001b[0m \n",
      " 60% 60/100 [00:10<00:03, 12.07it/s])\u001b[0m \n",
      " 62% 62/100 [00:10<00:03, 12.43it/s])\u001b[0m \n",
      " 64% 64/100 [00:10<00:02, 12.98it/s])\u001b[0m \n",
      " 66% 66/100 [00:10<00:02, 11.81it/s])\u001b[0m \n",
      " 68% 68/100 [00:10<00:02, 11.72it/s])\u001b[0m \n",
      " 70% 70/100 [00:11<00:03,  9.30it/s])\u001b[0m \n",
      " 72% 72/100 [00:11<00:02, 10.43it/s])\u001b[0m \n",
      " 74% 74/100 [00:11<00:03,  7.65it/s])\u001b[0m \n",
      " 76% 76/100 [00:11<00:02,  8.78it/s])\u001b[0m \n",
      " 78% 78/100 [00:12<00:02,  7.48it/s])\u001b[0m \n",
      " 80% 80/100 [00:12<00:02,  8.50it/s])\u001b[0m \n",
      " 82% 82/100 [00:12<00:02,  8.41it/s])\u001b[0m \n",
      " 84% 84/100 [00:12<00:01,  8.49it/s])\u001b[0m \n",
      " 86% 86/100 [00:12<00:01,  9.92it/s])\u001b[0m \n",
      " 88% 88/100 [00:13<00:01,  9.52it/s])\u001b[0m \n",
      " 90% 90/100 [00:13<00:01,  9.64it/s])\u001b[0m \n",
      " 92% 92/100 [00:13<00:00,  8.73it/s])\u001b[0m \n",
      " 94% 94/100 [00:13<00:00,  9.78it/s])\u001b[0m \n",
      " 96% 96/100 [00:13<00:00, 11.10it/s])\u001b[0m \n",
      " 98% 98/100 [00:13<00:00, 12.69it/s])\u001b[0m \n",
      "100% 100/100 [00:14<00:00, 11.58it/s]\u001b[0m \n",
      "100% 100/100 [00:16<00:00,  5.98it/s]\u001b[0m \n",
      "\u001b[2m\u001b[36m(pid=10022, ip=192.168.8.54)\u001b[0m \n",
      "\u001b[2m\u001b[36m(pid=10022, ip=192.168.8.54)\u001b[0m wandb: Waiting for W&B process to finish, PID 10065\n",
      "\u001b[2m\u001b[36m(pid=10022, ip=192.168.8.54)\u001b[0m wandb: Program ended successfully.\n",
      "\u001b[2m\u001b[36m(pid=10022, ip=192.168.8.54)\u001b[0m wandb: Run summary:\n",
      "\u001b[2m\u001b[36m(pid=10022, ip=192.168.8.54)\u001b[0m wandb:               _step 112894\n",
      "\u001b[2m\u001b[36m(pid=10022, ip=192.168.8.54)\u001b[0m wandb:            _runtime 1036.407074213028\n",
      "\u001b[2m\u001b[36m(pid=10022, ip=192.168.8.54)\u001b[0m wandb:          _timestamp 1608045097.488737\n",
      "\u001b[2m\u001b[36m(pid=10022, ip=192.168.8.54)\u001b[0m wandb:     mAP all classes 55.96910365283199\n",
      "\u001b[2m\u001b[36m(pid=10022, ip=192.168.8.54)\u001b[0m wandb: Syncing files in ../../../Trainings/wandb/wandb/run-20201215_151106-2wfg5hig:\n",
      "\u001b[2m\u001b[36m(pid=10022, ip=192.168.8.54)\u001b[0m wandb:   code/default_worker.py\n",
      "\u001b[2m\u001b[36m(pid=10022, ip=192.168.8.54)\u001b[0m wandb: plus 8 W&B file(s) and 6 media file(s)\n",
      "\u001b[2m\u001b[36m(pid=10022, ip=192.168.8.54)\u001b[0m wandb: - 0.33MB of 0.33MB uploaded\n",
      "\u001b[2m\u001b[36m(pid=10022, ip=192.168.8.54)\u001b[0m wandb: \\ 0.33MB of 0.33MB uploaded\n",
      "\u001b[2m\u001b[36m(pid=10022, ip=192.168.8.54)\u001b[0m wandb: | 0.33MB of 0.33MB uploaded\n",
      "\u001b[2m\u001b[36m(pid=10022, ip=192.168.8.54)\u001b[0m wandb: / 0.33MB of 0.33MB uploaded\n",
      "\u001b[2m\u001b[36m(pid=10022, ip=192.168.8.54)\u001b[0m wandb: - 0.33MB of 0.33MB uploaded\n",
      "wandb:                                                                                \n",
      "\u001b[2m\u001b[36m(pid=10022, ip=192.168.8.54)\u001b[0m wandb: Synced: http://192.168.8.51:8080/reminiz/Violence%20Detection/runs/2wfg5hig\n"
     ]
    },
    {
     "name": "stdout",
     "output_type": "stream",
     "text": [
      "\u001b[2m\u001b[36m(pid=17699, ip=192.168.8.53)\u001b[0m Change to split learning\n",
      "\u001b[2m\u001b[36m(pid=17699, ip=192.168.8.53)\u001b[0m Previus weigths 1.0 0\n",
      "\u001b[2m\u001b[36m(pid=17699, ip=192.168.8.53)\u001b[0m Updated weigths 0 1.0\n"
     ]
    },
    {
     "name": "stderr",
     "output_type": "stream",
     "text": [
      "\u001b[2m\u001b[36m(pid=12774, ip=192.168.8.52)\u001b[0m 2020-12-15 16:21:29.133206: W tensorflow/core/framework/op_kernel.cc:1389] Unknown: IndexError: index 53 is out of bounds for axis 0 with size 52\n",
      "\u001b[2m\u001b[36m(pid=12774, ip=192.168.8.52)\u001b[0m Traceback (most recent call last):\n",
      "\u001b[2m\u001b[36m(pid=12774, ip=192.168.8.52)\u001b[0m \n",
      "\u001b[2m\u001b[36m(pid=12774, ip=192.168.8.52)\u001b[0m   File \"/home/reminiz/ReminizML2/python_env/lib/python3.7/site-packages/tensorflow/python/ops/script_ops.py\", line 207, in __call__\n",
      "\u001b[2m\u001b[36m(pid=12774, ip=192.168.8.52)\u001b[0m     ret = func(*args)\n",
      "\u001b[2m\u001b[36m(pid=12774, ip=192.168.8.52)\u001b[0m \n",
      "\u001b[2m\u001b[36m(pid=12774, ip=192.168.8.52)\u001b[0m   File \"/mnt/Ressources/Quentin/Detection/core/dataset.py\", line 91, in get_image_bbox\n",
      "\u001b[2m\u001b[36m(pid=12774, ip=192.168.8.52)\u001b[0m     label_sbbox, label_mbbox, label_lbbox, sbboxes, mbboxes, lbboxes = self.preprocess_true_boxes(bboxes)\n",
      "\u001b[2m\u001b[36m(pid=12774, ip=192.168.8.52)\u001b[0m \n",
      "\u001b[2m\u001b[36m(pid=12774, ip=192.168.8.52)\u001b[0m   File \"/mnt/Ressources/Quentin/Detection/core/dataset.py\", line 370, in preprocess_true_boxes\n",
      "\u001b[2m\u001b[36m(pid=12774, ip=192.168.8.52)\u001b[0m     label[best_detect][yind, xind, best_anchor, :] = 0\n",
      "\u001b[2m\u001b[36m(pid=12774, ip=192.168.8.52)\u001b[0m \n",
      "\u001b[2m\u001b[36m(pid=12774, ip=192.168.8.52)\u001b[0m IndexError: index 53 is out of bounds for axis 0 with size 52\n",
      "\u001b[2m\u001b[36m(pid=12774, ip=192.168.8.52)\u001b[0m \n",
      "\u001b[2m\u001b[36m(pid=12774, ip=192.168.8.52)\u001b[0m \n",
      "\u001b[2m\u001b[36m(pid=10409, ip=192.168.8.54)\u001b[0m /home/reminiz/ReminizML2/python_env/lib/python3.7/site-packages/tensorflow/python/framework/dtypes.py:526: FutureWarning: Passing (type, 1) or '1type' as a synonym of type is deprecated; in a future version of numpy, it will be understood as (type, (1,)) / '(1,)type'.\n",
      "\u001b[2m\u001b[36m(pid=10409, ip=192.168.8.54)\u001b[0m   _np_qint8 = np.dtype([(\"qint8\", np.int8, 1)])\n",
      "\u001b[2m\u001b[36m(pid=10409, ip=192.168.8.54)\u001b[0m /home/reminiz/ReminizML2/python_env/lib/python3.7/site-packages/tensorflow/python/framework/dtypes.py:527: FutureWarning: Passing (type, 1) or '1type' as a synonym of type is deprecated; in a future version of numpy, it will be understood as (type, (1,)) / '(1,)type'.\n",
      "\u001b[2m\u001b[36m(pid=10409, ip=192.168.8.54)\u001b[0m   _np_quint8 = np.dtype([(\"quint8\", np.uint8, 1)])\n",
      "\u001b[2m\u001b[36m(pid=10409, ip=192.168.8.54)\u001b[0m /home/reminiz/ReminizML2/python_env/lib/python3.7/site-packages/tensorflow/python/framework/dtypes.py:528: FutureWarning: Passing (type, 1) or '1type' as a synonym of type is deprecated; in a future version of numpy, it will be understood as (type, (1,)) / '(1,)type'.\n",
      "\u001b[2m\u001b[36m(pid=10409, ip=192.168.8.54)\u001b[0m   _np_qint16 = np.dtype([(\"qint16\", np.int16, 1)])\n",
      "\u001b[2m\u001b[36m(pid=10409, ip=192.168.8.54)\u001b[0m /home/reminiz/ReminizML2/python_env/lib/python3.7/site-packages/tensorflow/python/framework/dtypes.py:529: FutureWarning: Passing (type, 1) or '1type' as a synonym of type is deprecated; in a future version of numpy, it will be understood as (type, (1,)) / '(1,)type'.\n",
      "\u001b[2m\u001b[36m(pid=10409, ip=192.168.8.54)\u001b[0m   _np_quint16 = np.dtype([(\"quint16\", np.uint16, 1)])\n",
      "\u001b[2m\u001b[36m(pid=10409, ip=192.168.8.54)\u001b[0m /home/reminiz/ReminizML2/python_env/lib/python3.7/site-packages/tensorflow/python/framework/dtypes.py:530: FutureWarning: Passing (type, 1) or '1type' as a synonym of type is deprecated; in a future version of numpy, it will be understood as (type, (1,)) / '(1,)type'.\n",
      "\u001b[2m\u001b[36m(pid=10409, ip=192.168.8.54)\u001b[0m   _np_qint32 = np.dtype([(\"qint32\", np.int32, 1)])\n",
      "\u001b[2m\u001b[36m(pid=10409, ip=192.168.8.54)\u001b[0m /home/reminiz/ReminizML2/python_env/lib/python3.7/site-packages/tensorflow/python/framework/dtypes.py:535: FutureWarning: Passing (type, 1) or '1type' as a synonym of type is deprecated; in a future version of numpy, it will be understood as (type, (1,)) / '(1,)type'.\n",
      "\u001b[2m\u001b[36m(pid=10409, ip=192.168.8.54)\u001b[0m   np_resource = np.dtype([(\"resource\", np.ubyte, 1)])\n",
      "\u001b[2m\u001b[36m(pid=17699, ip=192.168.8.53)\u001b[0m \n",
      "\u001b[2m\u001b[36m(pid=17699, ip=192.168.8.53)\u001b[0m wandb: Waiting for W&B process to finish, PID 1090\n",
      "\u001b[2m\u001b[36m(pid=17699, ip=192.168.8.53)\u001b[0m wandb: Program ended successfully.\n",
      "\u001b[2m\u001b[36m(pid=27496, ip=192.168.8.52)\u001b[0m /home/reminiz/ReminizML2/python_env/lib/python3.7/site-packages/tensorflow/python/framework/dtypes.py:526: FutureWarning: Passing (type, 1) or '1type' as a synonym of type is deprecated; in a future version of numpy, it will be understood as (type, (1,)) / '(1,)type'.\n",
      "\u001b[2m\u001b[36m(pid=27496, ip=192.168.8.52)\u001b[0m   _np_qint8 = np.dtype([(\"qint8\", np.int8, 1)])\n",
      "\u001b[2m\u001b[36m(pid=27496, ip=192.168.8.52)\u001b[0m /home/reminiz/ReminizML2/python_env/lib/python3.7/site-packages/tensorflow/python/framework/dtypes.py:527: FutureWarning: Passing (type, 1) or '1type' as a synonym of type is deprecated; in a future version of numpy, it will be understood as (type, (1,)) / '(1,)type'.\n",
      "\u001b[2m\u001b[36m(pid=27496, ip=192.168.8.52)\u001b[0m   _np_quint8 = np.dtype([(\"quint8\", np.uint8, 1)])\n",
      "\u001b[2m\u001b[36m(pid=27496, ip=192.168.8.52)\u001b[0m /home/reminiz/ReminizML2/python_env/lib/python3.7/site-packages/tensorflow/python/framework/dtypes.py:528: FutureWarning: Passing (type, 1) or '1type' as a synonym of type is deprecated; in a future version of numpy, it will be understood as (type, (1,)) / '(1,)type'.\n",
      "\u001b[2m\u001b[36m(pid=27496, ip=192.168.8.52)\u001b[0m   _np_qint16 = np.dtype([(\"qint16\", np.int16, 1)])\n",
      "\u001b[2m\u001b[36m(pid=27496, ip=192.168.8.52)\u001b[0m /home/reminiz/ReminizML2/python_env/lib/python3.7/site-packages/tensorflow/python/framework/dtypes.py:529: FutureWarning: Passing (type, 1) or '1type' as a synonym of type is deprecated; in a future version of numpy, it will be understood as (type, (1,)) / '(1,)type'.\n",
      "\u001b[2m\u001b[36m(pid=27496, ip=192.168.8.52)\u001b[0m   _np_quint16 = np.dtype([(\"quint16\", np.uint16, 1)])\n",
      "\u001b[2m\u001b[36m(pid=27496, ip=192.168.8.52)\u001b[0m /home/reminiz/ReminizML2/python_env/lib/python3.7/site-packages/tensorflow/python/framework/dtypes.py:530: FutureWarning: Passing (type, 1) or '1type' as a synonym of type is deprecated; in a future version of numpy, it will be understood as (type, (1,)) / '(1,)type'.\n",
      "\u001b[2m\u001b[36m(pid=27496, ip=192.168.8.52)\u001b[0m   _np_qint32 = np.dtype([(\"qint32\", np.int32, 1)])\n",
      "\u001b[2m\u001b[36m(pid=27496, ip=192.168.8.52)\u001b[0m /home/reminiz/ReminizML2/python_env/lib/python3.7/site-packages/tensorflow/python/framework/dtypes.py:535: FutureWarning: Passing (type, 1) or '1type' as a synonym of type is deprecated; in a future version of numpy, it will be understood as (type, (1,)) / '(1,)type'.\n",
      "\u001b[2m\u001b[36m(pid=27496, ip=192.168.8.52)\u001b[0m   np_resource = np.dtype([(\"resource\", np.ubyte, 1)])\n",
      "\u001b[2m\u001b[36m(pid=27496, ip=192.168.8.52)\u001b[0m 2020-12-15 16:30:43.118341: I tensorflow/core/platform/cpu_feature_guard.cc:141] Your CPU supports instructions that this TensorFlow binary was not compiled to use: AVX2 FMA\n",
      "\u001b[2m\u001b[36m(pid=27496, ip=192.168.8.52)\u001b[0m 2020-12-15 16:30:43.144317: I tensorflow/core/platform/profile_utils/cpu_utils.cc:94] CPU Frequency: 3300050000 Hz\n",
      "\u001b[2m\u001b[36m(pid=27496, ip=192.168.8.52)\u001b[0m 2020-12-15 16:30:43.145126: I tensorflow/compiler/xla/service/service.cc:150] XLA service 0x5d66c00 executing computations on platform Host. Devices:\n",
      "\u001b[2m\u001b[36m(pid=27496, ip=192.168.8.52)\u001b[0m 2020-12-15 16:30:43.145165: I tensorflow/compiler/xla/service/service.cc:158]   StreamExecutor device (0): <undefined>, <undefined>\n",
      "\u001b[2m\u001b[36m(pid=17699, ip=192.168.8.53)\u001b[0m wandb: Run summary:\n",
      "\u001b[2m\u001b[36m(pid=17699, ip=192.168.8.53)\u001b[0m wandb:                        _timestamp 1608046235.8543754\n",
      "\u001b[2m\u001b[36m(pid=17699, ip=192.168.8.53)\u001b[0m wandb:                     l_pred_s_loss 0.05061380937695503\n",
      "\u001b[2m\u001b[36m(pid=17699, ip=192.168.8.53)\u001b[0m wandb:   Classifier_categorical_accuracy 0.9988750219345093\n",
      "\u001b[2m\u001b[36m(pid=17699, ip=192.168.8.53)\u001b[0m wandb:              l_pred_s_MAE_Lossnet 8.40883731842041\n",
      "\u001b[2m\u001b[36m(pid=17699, ip=192.168.8.53)\u001b[0m wandb:                              loss 0.055016889512538907\n",
      "\u001b[2m\u001b[36m(pid=17699, ip=192.168.8.53)\u001b[0m wandb:                          _runtime 2196.5974383354187\n",
      "\u001b[2m\u001b[36m(pid=17699, ip=192.168.8.53)\u001b[0m wandb:                             _step 199\n",
      "\u001b[2m\u001b[36m(pid=17699, ip=192.168.8.53)\u001b[0m wandb:              l_pred_w_MAE_Lossnet 8.40883731842041\n",
      "\u001b[2m\u001b[36m(pid=17699, ip=192.168.8.53)\u001b[0m wandb:                     l_pred_w_loss 0.05061380937695503\n",
      "\u001b[2m\u001b[36m(pid=17699, ip=192.168.8.53)\u001b[0m wandb:                   Classifier_loss 0.0043177190236747265\n",
      "\u001b[2m\u001b[36m(pid=17699, ip=192.168.8.53)\u001b[0m wandb:                             epoch 199\n",
      "\u001b[2m\u001b[36m(pid=17699, ip=192.168.8.53)\u001b[0m wandb: Syncing files in ../../../Trainings/wandb/wandb/run-20201215_145359-1kj7pczi:\n",
      "\u001b[2m\u001b[36m(pid=17699, ip=192.168.8.53)\u001b[0m wandb:   code/default_worker.py\n",
      "\u001b[2m\u001b[36m(pid=17699, ip=192.168.8.53)\u001b[0m wandb: plus 8 W&B file(s) and 1 media file(s)\n",
      "\u001b[2m\u001b[36m(pid=17699, ip=192.168.8.53)\u001b[0m wandb: - 0.06MB of 0.06MB uploaded\n",
      "\u001b[2m\u001b[36m(pid=27496, ip=192.168.8.52)\u001b[0m 2020-12-15 16:30:43.405685: I tensorflow/compiler/xla/service/service.cc:150] XLA service 0x5da8a30 executing computations on platform CUDA. Devices:\n",
      "\u001b[2m\u001b[36m(pid=27496, ip=192.168.8.52)\u001b[0m 2020-12-15 16:30:43.405739: I tensorflow/compiler/xla/service/service.cc:158]   StreamExecutor device (0): TITAN RTX, Compute Capability 7.5\n",
      "\u001b[2m\u001b[36m(pid=27496, ip=192.168.8.52)\u001b[0m 2020-12-15 16:30:43.405957: I tensorflow/core/common_runtime/gpu/gpu_device.cc:1433] Found device 0 with properties: \n",
      "\u001b[2m\u001b[36m(pid=27496, ip=192.168.8.52)\u001b[0m name: TITAN RTX major: 7 minor: 5 memoryClockRate(GHz): 1.77\n",
      "\u001b[2m\u001b[36m(pid=27496, ip=192.168.8.52)\u001b[0m pciBusID: 0000:04:00.0\n",
      "\u001b[2m\u001b[36m(pid=27496, ip=192.168.8.52)\u001b[0m totalMemory: 23.65GiB freeMemory: 23.48GiB\n",
      "\u001b[2m\u001b[36m(pid=27496, ip=192.168.8.52)\u001b[0m 2020-12-15 16:30:43.405989: I tensorflow/core/common_runtime/gpu/gpu_device.cc:1512] Adding visible gpu devices: 0\n",
      "\u001b[2m\u001b[36m(pid=27496, ip=192.168.8.52)\u001b[0m 2020-12-15 16:30:43.410448: I tensorflow/core/common_runtime/gpu/gpu_device.cc:984] Device interconnect StreamExecutor with strength 1 edge matrix:\n",
      "\u001b[2m\u001b[36m(pid=27496, ip=192.168.8.52)\u001b[0m 2020-12-15 16:30:43.410473: I tensorflow/core/common_runtime/gpu/gpu_device.cc:990]      0 \n",
      "\u001b[2m\u001b[36m(pid=27496, ip=192.168.8.52)\u001b[0m 2020-12-15 16:30:43.410483: I tensorflow/core/common_runtime/gpu/gpu_device.cc:1003] 0:   N \n",
      "\u001b[2m\u001b[36m(pid=27496, ip=192.168.8.52)\u001b[0m 2020-12-15 16:30:43.410579: I tensorflow/core/common_runtime/gpu/gpu_device.cc:1115] Created TensorFlow device (/job:localhost/replica:0/task:0/device:GPU:0 with 22843 MB memory) -> physical GPU (device: 0, name: TITAN RTX, pci bus id: 0000:04:00.0, compute capability: 7.5)\n",
      "\u001b[2m\u001b[36m(pid=27496, ip=192.168.8.52)\u001b[0m /home/reminiz/ReminizML2/python_env/lib/python3.7/site-packages/tensorboard/compat/tensorflow_stub/dtypes.py:541: FutureWarning: Passing (type, 1) or '1type' as a synonym of type is deprecated; in a future version of numpy, it will be understood as (type, (1,)) / '(1,)type'.\n",
      "\u001b[2m\u001b[36m(pid=27496, ip=192.168.8.52)\u001b[0m   _np_qint8 = np.dtype([(\"qint8\", np.int8, 1)])\n",
      "\u001b[2m\u001b[36m(pid=27496, ip=192.168.8.52)\u001b[0m /home/reminiz/ReminizML2/python_env/lib/python3.7/site-packages/tensorboard/compat/tensorflow_stub/dtypes.py:542: FutureWarning: Passing (type, 1) or '1type' as a synonym of type is deprecated; in a future version of numpy, it will be understood as (type, (1,)) / '(1,)type'.\n",
      "\u001b[2m\u001b[36m(pid=27496, ip=192.168.8.52)\u001b[0m   _np_quint8 = np.dtype([(\"quint8\", np.uint8, 1)])\n",
      "\u001b[2m\u001b[36m(pid=27496, ip=192.168.8.52)\u001b[0m /home/reminiz/ReminizML2/python_env/lib/python3.7/site-packages/tensorboard/compat/tensorflow_stub/dtypes.py:543: FutureWarning: Passing (type, 1) or '1type' as a synonym of type is deprecated; in a future version of numpy, it will be understood as (type, (1,)) / '(1,)type'.\n",
      "\u001b[2m\u001b[36m(pid=27496, ip=192.168.8.52)\u001b[0m   _np_qint16 = np.dtype([(\"qint16\", np.int16, 1)])\n",
      "\u001b[2m\u001b[36m(pid=27496, ip=192.168.8.52)\u001b[0m /home/reminiz/ReminizML2/python_env/lib/python3.7/site-packages/tensorboard/compat/tensorflow_stub/dtypes.py:544: FutureWarning: Passing (type, 1) or '1type' as a synonym of type is deprecated; in a future version of numpy, it will be understood as (type, (1,)) / '(1,)type'.\n",
      "\u001b[2m\u001b[36m(pid=27496, ip=192.168.8.52)\u001b[0m   _np_quint16 = np.dtype([(\"quint16\", np.uint16, 1)])\n",
      "\u001b[2m\u001b[36m(pid=27496, ip=192.168.8.52)\u001b[0m /home/reminiz/ReminizML2/python_env/lib/python3.7/site-packages/tensorboard/compat/tensorflow_stub/dtypes.py:545: FutureWarning: Passing (type, 1) or '1type' as a synonym of type is deprecated; in a future version of numpy, it will be understood as (type, (1,)) / '(1,)type'.\n",
      "\u001b[2m\u001b[36m(pid=27496, ip=192.168.8.52)\u001b[0m   _np_qint32 = np.dtype([(\"qint32\", np.int32, 1)])\n",
      "\u001b[2m\u001b[36m(pid=27496, ip=192.168.8.52)\u001b[0m /home/reminiz/ReminizML2/python_env/lib/python3.7/site-packages/tensorboard/compat/tensorflow_stub/dtypes.py:550: FutureWarning: Passing (type, 1) or '1type' as a synonym of type is deprecated; in a future version of numpy, it will be understood as (type, (1,)) / '(1,)type'.\n",
      "\u001b[2m\u001b[36m(pid=27496, ip=192.168.8.52)\u001b[0m   np_resource = np.dtype([(\"resource\", np.ubyte, 1)])\n",
      "\u001b[2m\u001b[36m(pid=27496, ip=192.168.8.52)\u001b[0m wandb: Tracking run with wandb version 0.8.36\n",
      "\u001b[2m\u001b[36m(pid=17699, ip=192.168.8.53)\u001b[0m wandb: \\ 0.06MB of 0.06MB uploaded\n",
      "\u001b[2m\u001b[36m(pid=17699, ip=192.168.8.53)\u001b[0m wandb: | 0.06MB of 0.06MB uploaded\n",
      "\u001b[2m\u001b[36m(pid=17699, ip=192.168.8.53)\u001b[0m wandb: / 0.06MB of 0.06MB uploaded\n",
      "\u001b[2m\u001b[36m(pid=27496, ip=192.168.8.52)\u001b[0m wandb: Wandb version 0.10.12 is available!  To upgrade, please run:\n",
      "\u001b[2m\u001b[36m(pid=27496, ip=192.168.8.52)\u001b[0m wandb:  $ pip install wandb --upgrade\n",
      "\u001b[2m\u001b[36m(pid=27496, ip=192.168.8.52)\u001b[0m wandb: Run data is saved locally in ../../../Trainings/wandb/wandb/run-20201215_153043-3kpkok0o\n",
      "\u001b[2m\u001b[36m(pid=27496, ip=192.168.8.52)\u001b[0m wandb: Syncing run Train_8\n",
      "\u001b[2m\u001b[36m(pid=27496, ip=192.168.8.52)\u001b[0m wandb: ⭐️ View project at http://192.168.8.51:8080/reminiz/Active_Learning_CIFAR\n",
      "\u001b[2m\u001b[36m(pid=27496, ip=192.168.8.52)\u001b[0m wandb: 🚀 View run at http://192.168.8.51:8080/reminiz/Active_Learning_CIFAR/runs/3kpkok0o\n",
      "\u001b[2m\u001b[36m(pid=27496, ip=192.168.8.52)\u001b[0m wandb: Run `wandb off` to turn off syncing.\n",
      "wandb:                                                                                \n",
      "\u001b[2m\u001b[36m(pid=17699, ip=192.168.8.53)\u001b[0m wandb: Synced Train_7: http://192.168.8.51:8080/reminiz/Active_Learning_CIFAR/runs/1kj7pczi\n",
      "\u001b[2m\u001b[36m(pid=27496, ip=192.168.8.52)\u001b[0m \n",
      "\u001b[2m\u001b[36m(pid=27496, ip=192.168.8.52)\u001b[0m WARNING:tensorflow:From /home/reminiz/ReminizML2/python_env/lib/python3.7/site-packages/tensorflow/python/ops/resource_variable_ops.py:435: colocate_with (from tensorflow.python.framework.ops) is deprecated and will be removed in a future version.\n",
      "\u001b[2m\u001b[36m(pid=27496, ip=192.168.8.52)\u001b[0m Instructions for updating:\n",
      "\u001b[2m\u001b[36m(pid=27496, ip=192.168.8.52)\u001b[0m Colocations handled automatically by placer.\n"
     ]
    },
    {
     "name": "stdout",
     "output_type": "stream",
     "text": [
      "\u001b[2m\u001b[36m(pid=27496, ip=192.168.8.52)\u001b[0m \u001b[1;36mTrain_Stage_8\u001b[0;0m Loading weigths from:  /mnt/Ressources/Andres/Temp_active/runs/Active_Learning_keras_v0/Stage_7/checkpoints/checkpoint.200.hdf5\n",
      "\u001b[2m\u001b[36m(pid=27496, ip=192.168.8.52)\u001b[0m \u001b[1;36mTrain_Stage_8\u001b[0;0m The detected epoch is:  200\n"
     ]
    },
    {
     "name": "stderr",
     "output_type": "stream",
     "text": [
      "\u001b[2m\u001b[36m(pid=27496, ip=192.168.8.52)\u001b[0m WARNING:tensorflow:Output \"Embedding\" missing from loss dictionary. We assume this was done on purpose. The fit and evaluate APIs will not be expecting any data to be passed to \"Embedding\".\n",
      "\u001b[2m\u001b[36m(pid=27496, ip=192.168.8.52)\u001b[0m WARNING:tensorflow:Output \"Embedding\" missing from loss dictionary. We assume this was done on purpose. The fit and evaluate APIs will not be expecting any data to be passed to \"Embedding\".\n"
     ]
    },
    {
     "name": "stdout",
     "output_type": "stream",
     "text": [
      "\u001b[2m\u001b[36m(pid=27496, ip=192.168.8.52)\u001b[0m \u001b[1;36mTrain_Stage_8\u001b[0;0m Init done\n",
      "\u001b[2m\u001b[36m(pid=27496, ip=192.168.8.52)\u001b[0m \u001b[1;36mTrain_Stage_8\u001b[0;0m Start training\n"
     ]
    },
    {
     "name": "stderr",
     "output_type": "stream",
     "text": [
      "\u001b[2m\u001b[36m(pid=27496, ip=192.168.8.52)\u001b[0m 2020-12-15 16:30:50,186\tINFO worker.py:634 -- Connecting to existing Ray cluster at address: 192.168.8.51:6379\n",
      "\u001b[2m\u001b[36m(pid=27496, ip=192.168.8.52)\u001b[0m 2020-12-15 16:30:50,186\tERROR worker.py:643 -- Calling ray.init() again after it has already been called.\n",
      "\u001b[2m\u001b[36m(pid=27496, ip=192.168.8.52)\u001b[0m WARNING:tensorflow:From /home/reminiz/ReminizML2/python_env/lib/python3.7/site-packages/tensorflow/python/ops/math_ops.py:3066: to_int32 (from tensorflow.python.ops.math_ops) is deprecated and will be removed in a future version.\n",
      "\u001b[2m\u001b[36m(pid=27496, ip=192.168.8.52)\u001b[0m Instructions for updating:\n",
      "\u001b[2m\u001b[36m(pid=27496, ip=192.168.8.52)\u001b[0m Use tf.cast instead.\n",
      "\u001b[2m\u001b[36m(pid=3894, ip=192.168.8.55)\u001b[0m /home/reminiz/ReminizML2/python_env/lib/python3.7/site-packages/tensorflow/python/framework/dtypes.py:526: FutureWarning: Passing (type, 1) or '1type' as a synonym of type is deprecated; in a future version of numpy, it will be understood as (type, (1,)) / '(1,)type'.\n",
      "\u001b[2m\u001b[36m(pid=3894, ip=192.168.8.55)\u001b[0m   _np_qint8 = np.dtype([(\"qint8\", np.int8, 1)])\n",
      "\u001b[2m\u001b[36m(pid=3894, ip=192.168.8.55)\u001b[0m /home/reminiz/ReminizML2/python_env/lib/python3.7/site-packages/tensorflow/python/framework/dtypes.py:527: FutureWarning: Passing (type, 1) or '1type' as a synonym of type is deprecated; in a future version of numpy, it will be understood as (type, (1,)) / '(1,)type'.\n",
      "\u001b[2m\u001b[36m(pid=3894, ip=192.168.8.55)\u001b[0m   _np_quint8 = np.dtype([(\"quint8\", np.uint8, 1)])\n",
      "\u001b[2m\u001b[36m(pid=3894, ip=192.168.8.55)\u001b[0m /home/reminiz/ReminizML2/python_env/lib/python3.7/site-packages/tensorflow/python/framework/dtypes.py:528: FutureWarning: Passing (type, 1) or '1type' as a synonym of type is deprecated; in a future version of numpy, it will be understood as (type, (1,)) / '(1,)type'.\n",
      "\u001b[2m\u001b[36m(pid=3894, ip=192.168.8.55)\u001b[0m   _np_qint16 = np.dtype([(\"qint16\", np.int16, 1)])\n",
      "\u001b[2m\u001b[36m(pid=3894, ip=192.168.8.55)\u001b[0m /home/reminiz/ReminizML2/python_env/lib/python3.7/site-packages/tensorflow/python/framework/dtypes.py:529: FutureWarning: Passing (type, 1) or '1type' as a synonym of type is deprecated; in a future version of numpy, it will be understood as (type, (1,)) / '(1,)type'.\n",
      "\u001b[2m\u001b[36m(pid=3894, ip=192.168.8.55)\u001b[0m   _np_quint16 = np.dtype([(\"quint16\", np.uint16, 1)])\n",
      "\u001b[2m\u001b[36m(pid=3894, ip=192.168.8.55)\u001b[0m /home/reminiz/ReminizML2/python_env/lib/python3.7/site-packages/tensorflow/python/framework/dtypes.py:530: FutureWarning: Passing (type, 1) or '1type' as a synonym of type is deprecated; in a future version of numpy, it will be understood as (type, (1,)) / '(1,)type'.\n",
      "\u001b[2m\u001b[36m(pid=3894, ip=192.168.8.55)\u001b[0m   _np_qint32 = np.dtype([(\"qint32\", np.int32, 1)])\n",
      "\u001b[2m\u001b[36m(pid=3894, ip=192.168.8.55)\u001b[0m /home/reminiz/ReminizML2/python_env/lib/python3.7/site-packages/tensorflow/python/framework/dtypes.py:535: FutureWarning: Passing (type, 1) or '1type' as a synonym of type is deprecated; in a future version of numpy, it will be understood as (type, (1,)) / '(1,)type'.\n",
      "\u001b[2m\u001b[36m(pid=3894, ip=192.168.8.55)\u001b[0m   np_resource = np.dtype([(\"resource\", np.ubyte, 1)])\n",
      "\u001b[2m\u001b[36m(pid=27496, ip=192.168.8.52)\u001b[0m 2020-12-15 16:31:03.269711: I tensorflow/stream_executor/dso_loader.cc:152] successfully opened CUDA library libcublas.so.10.0 locally\n",
      "\u001b[2m\u001b[36m(pid=3894, ip=192.168.8.55)\u001b[0m 2020-12-15 16:31:03.704518: I tensorflow/core/platform/cpu_feature_guard.cc:141] Your CPU supports instructions that this TensorFlow binary was not compiled to use: AVX2 FMA\n",
      "\u001b[2m\u001b[36m(pid=3894, ip=192.168.8.55)\u001b[0m 2020-12-15 16:31:03.728275: I tensorflow/core/platform/profile_utils/cpu_utils.cc:94] CPU Frequency: 3599935000 Hz\n",
      "\u001b[2m\u001b[36m(pid=3894, ip=192.168.8.55)\u001b[0m 2020-12-15 16:31:03.729058: I tensorflow/compiler/xla/service/service.cc:150] XLA service 0x606dd50 executing computations on platform Host. Devices:\n",
      "\u001b[2m\u001b[36m(pid=3894, ip=192.168.8.55)\u001b[0m 2020-12-15 16:31:03.729100: I tensorflow/compiler/xla/service/service.cc:158]   StreamExecutor device (0): <undefined>, <undefined>\n",
      "\u001b[2m\u001b[36m(pid=3894, ip=192.168.8.55)\u001b[0m 2020-12-15 16:31:03.859344: I tensorflow/compiler/xla/service/service.cc:150] XLA service 0x60afb80 executing computations on platform CUDA. Devices:\n",
      "\u001b[2m\u001b[36m(pid=3894, ip=192.168.8.55)\u001b[0m 2020-12-15 16:31:03.859385: I tensorflow/compiler/xla/service/service.cc:158]   StreamExecutor device (0): GeForce GTX 1080 Ti, Compute Capability 6.1\n",
      "\u001b[2m\u001b[36m(pid=3894, ip=192.168.8.55)\u001b[0m 2020-12-15 16:31:03.859565: I tensorflow/core/common_runtime/gpu/gpu_device.cc:1433] Found device 0 with properties: \n",
      "\u001b[2m\u001b[36m(pid=3894, ip=192.168.8.55)\u001b[0m name: GeForce GTX 1080 Ti major: 6 minor: 1 memoryClockRate(GHz): 1.62\n",
      "\u001b[2m\u001b[36m(pid=3894, ip=192.168.8.55)\u001b[0m pciBusID: 0000:4c:00.0\n",
      "\u001b[2m\u001b[36m(pid=3894, ip=192.168.8.55)\u001b[0m totalMemory: 10.91GiB freeMemory: 10.77GiB\n",
      "\u001b[2m\u001b[36m(pid=3894, ip=192.168.8.55)\u001b[0m 2020-12-15 16:31:03.859587: I tensorflow/core/common_runtime/gpu/gpu_device.cc:1512] Adding visible gpu devices: 0\n",
      "\u001b[2m\u001b[36m(pid=3894, ip=192.168.8.55)\u001b[0m 2020-12-15 16:31:03.861699: I tensorflow/core/common_runtime/gpu/gpu_device.cc:984] Device interconnect StreamExecutor with strength 1 edge matrix:\n",
      "\u001b[2m\u001b[36m(pid=3894, ip=192.168.8.55)\u001b[0m 2020-12-15 16:31:03.861722: I tensorflow/core/common_runtime/gpu/gpu_device.cc:990]      0 \n",
      "\u001b[2m\u001b[36m(pid=3894, ip=192.168.8.55)\u001b[0m 2020-12-15 16:31:03.861733: I tensorflow/core/common_runtime/gpu/gpu_device.cc:1003] 0:   N \n",
      "\u001b[2m\u001b[36m(pid=3894, ip=192.168.8.55)\u001b[0m 2020-12-15 16:31:03.861837: I tensorflow/core/common_runtime/gpu/gpu_device.cc:1115] Created TensorFlow device (/job:localhost/replica:0/task:0/device:GPU:0 with 10479 MB memory) -> physical GPU (device: 0, name: GeForce GTX 1080 Ti, pci bus id: 0000:4c:00.0, compute capability: 6.1)\n",
      "\u001b[2m\u001b[36m(pid=3894, ip=192.168.8.55)\u001b[0m /home/reminiz/ReminizML2/python_env/lib/python3.7/site-packages/tensorboard/compat/tensorflow_stub/dtypes.py:541: FutureWarning: Passing (type, 1) or '1type' as a synonym of type is deprecated; in a future version of numpy, it will be understood as (type, (1,)) / '(1,)type'.\n",
      "\u001b[2m\u001b[36m(pid=3894, ip=192.168.8.55)\u001b[0m   _np_qint8 = np.dtype([(\"qint8\", np.int8, 1)])\n",
      "\u001b[2m\u001b[36m(pid=3894, ip=192.168.8.55)\u001b[0m /home/reminiz/ReminizML2/python_env/lib/python3.7/site-packages/tensorboard/compat/tensorflow_stub/dtypes.py:542: FutureWarning: Passing (type, 1) or '1type' as a synonym of type is deprecated; in a future version of numpy, it will be understood as (type, (1,)) / '(1,)type'.\n",
      "\u001b[2m\u001b[36m(pid=3894, ip=192.168.8.55)\u001b[0m   _np_quint8 = np.dtype([(\"quint8\", np.uint8, 1)])\n",
      "\u001b[2m\u001b[36m(pid=3894, ip=192.168.8.55)\u001b[0m /home/reminiz/ReminizML2/python_env/lib/python3.7/site-packages/tensorboard/compat/tensorflow_stub/dtypes.py:543: FutureWarning: Passing (type, 1) or '1type' as a synonym of type is deprecated; in a future version of numpy, it will be understood as (type, (1,)) / '(1,)type'.\n",
      "\u001b[2m\u001b[36m(pid=3894, ip=192.168.8.55)\u001b[0m   _np_qint16 = np.dtype([(\"qint16\", np.int16, 1)])\n",
      "\u001b[2m\u001b[36m(pid=3894, ip=192.168.8.55)\u001b[0m /home/reminiz/ReminizML2/python_env/lib/python3.7/site-packages/tensorboard/compat/tensorflow_stub/dtypes.py:544: FutureWarning: Passing (type, 1) or '1type' as a synonym of type is deprecated; in a future version of numpy, it will be understood as (type, (1,)) / '(1,)type'.\n",
      "\u001b[2m\u001b[36m(pid=3894, ip=192.168.8.55)\u001b[0m   _np_quint16 = np.dtype([(\"quint16\", np.uint16, 1)])\n",
      "\u001b[2m\u001b[36m(pid=3894, ip=192.168.8.55)\u001b[0m /home/reminiz/ReminizML2/python_env/lib/python3.7/site-packages/tensorboard/compat/tensorflow_stub/dtypes.py:545: FutureWarning: Passing (type, 1) or '1type' as a synonym of type is deprecated; in a future version of numpy, it will be understood as (type, (1,)) / '(1,)type'.\n",
      "\u001b[2m\u001b[36m(pid=3894, ip=192.168.8.55)\u001b[0m   _np_qint32 = np.dtype([(\"qint32\", np.int32, 1)])\n",
      "\u001b[2m\u001b[36m(pid=3894, ip=192.168.8.55)\u001b[0m /home/reminiz/ReminizML2/python_env/lib/python3.7/site-packages/tensorboard/compat/tensorflow_stub/dtypes.py:550: FutureWarning: Passing (type, 1) or '1type' as a synonym of type is deprecated; in a future version of numpy, it will be understood as (type, (1,)) / '(1,)type'.\n",
      "\u001b[2m\u001b[36m(pid=3894, ip=192.168.8.55)\u001b[0m   np_resource = np.dtype([(\"resource\", np.ubyte, 1)])\n",
      "\u001b[2m\u001b[36m(pid=3894, ip=192.168.8.55)\u001b[0m wandb: Tracking run with wandb version 0.8.36\n",
      "\u001b[2m\u001b[36m(pid=3894, ip=192.168.8.55)\u001b[0m wandb: Wandb version 0.10.12 is available!  To upgrade, please run:\n",
      "\u001b[2m\u001b[36m(pid=3894, ip=192.168.8.55)\u001b[0m wandb:  $ pip install wandb --upgrade\n",
      "\u001b[2m\u001b[36m(pid=3894, ip=192.168.8.55)\u001b[0m wandb: Run data is saved locally in ../../../Trainings/wandb/wandb/run-20201215_153103-3qbj4pam\n",
      "\u001b[2m\u001b[36m(pid=3894, ip=192.168.8.55)\u001b[0m wandb: Syncing run Train_0\n",
      "\u001b[2m\u001b[36m(pid=3894, ip=192.168.8.55)\u001b[0m wandb: ⭐️ View project at http://192.168.8.51:8080/reminiz/Active_Learning_CIFAR\n",
      "\u001b[2m\u001b[36m(pid=3894, ip=192.168.8.55)\u001b[0m wandb: 🚀 View run at http://192.168.8.51:8080/reminiz/Active_Learning_CIFAR/runs/3qbj4pam\n",
      "\u001b[2m\u001b[36m(pid=3894, ip=192.168.8.55)\u001b[0m wandb: Run `wandb off` to turn off syncing.\n",
      "\u001b[2m\u001b[36m(pid=3894, ip=192.168.8.55)\u001b[0m \n",
      "\u001b[2m\u001b[36m(pid=3894, ip=192.168.8.55)\u001b[0m WARNING:tensorflow:From /home/reminiz/ReminizML2/python_env/lib/python3.7/site-packages/tensorflow/python/ops/resource_variable_ops.py:435: colocate_with (from tensorflow.python.framework.ops) is deprecated and will be removed in a future version.\n",
      "\u001b[2m\u001b[36m(pid=3894, ip=192.168.8.55)\u001b[0m Instructions for updating:\n",
      "\u001b[2m\u001b[36m(pid=3894, ip=192.168.8.55)\u001b[0m Colocations handled automatically by placer.\n",
      "\u001b[2m\u001b[36m(pid=3894, ip=192.168.8.55)\u001b[0m WARNING:tensorflow:Output \"Embedding\" missing from loss dictionary. We assume this was done on purpose. The fit and evaluate APIs will not be expecting any data to be passed to \"Embedding\".\n",
      "\u001b[2m\u001b[36m(pid=3894, ip=192.168.8.55)\u001b[0m WARNING:tensorflow:Output \"Embedding\" missing from loss dictionary. We assume this was done on purpose. The fit and evaluate APIs will not be expecting any data to be passed to \"Embedding\".\n",
      "\u001b[2m\u001b[36m(pid=3894, ip=192.168.8.55)\u001b[0m 2020-12-15 16:31:08,005\tINFO worker.py:634 -- Connecting to existing Ray cluster at address: 192.168.8.51:6379\n",
      "\u001b[2m\u001b[36m(pid=3894, ip=192.168.8.55)\u001b[0m 2020-12-15 16:31:08,005\tERROR worker.py:643 -- Calling ray.init() again after it has already been called.\n",
      "\u001b[2m\u001b[36m(pid=3894, ip=192.168.8.55)\u001b[0m WARNING:tensorflow:From /home/reminiz/ReminizML2/python_env/lib/python3.7/site-packages/tensorflow/python/ops/math_ops.py:3066: to_int32 (from tensorflow.python.ops.math_ops) is deprecated and will be removed in a future version.\n",
      "\u001b[2m\u001b[36m(pid=3894, ip=192.168.8.55)\u001b[0m Instructions for updating:\n",
      "\u001b[2m\u001b[36m(pid=3894, ip=192.168.8.55)\u001b[0m Use tf.cast instead.\n"
     ]
    },
    {
     "name": "stdout",
     "output_type": "stream",
     "text": [
      "\u001b[2m\u001b[36m(pid=3894, ip=192.168.8.55)\u001b[0m \u001b[1;36mTrain_Stage_0\u001b[0;0m Init done\n",
      "\u001b[2m\u001b[36m(pid=3894, ip=192.168.8.55)\u001b[0m \u001b[1;36mTrain_Stage_0\u001b[0;0m Start training\n"
     ]
    },
    {
     "name": "stderr",
     "output_type": "stream",
     "text": [
      "\u001b[2m\u001b[36m(pid=3894, ip=192.168.8.55)\u001b[0m 2020-12-15 16:31:18.458374: I tensorflow/stream_executor/dso_loader.cc:152] successfully opened CUDA library libcublas.so.10.0 locally\n",
      "\u001b[2m\u001b[36m(pid=3659, ip=192.168.8.55)\u001b[0m wandb: Program ended successfully.\n",
      "\u001b[2m\u001b[36m(pid=3659, ip=192.168.8.55)\u001b[0m wandb: Run summary:\n",
      "\u001b[2m\u001b[36m(pid=3659, ip=192.168.8.55)\u001b[0m wandb:                                  F1 score 0.7432900392473825\n",
      "\u001b[2m\u001b[36m(pid=3659, ip=192.168.8.55)\u001b[0m wandb:                Area Under the Curve (AUC) 0.8101120858506399\n",
      "\u001b[2m\u001b[36m(pid=3659, ip=192.168.8.55)\u001b[0m wandb:                                  _runtime 170.60675191879272\n",
      "\u001b[2m\u001b[36m(pid=3659, ip=192.168.8.55)\u001b[0m wandb:                                     _step 195\n",
      "\u001b[2m\u001b[36m(pid=3659, ip=192.168.8.55)\u001b[0m wandb:                                _timestamp 1608044823.4594877\n",
      "\u001b[2m\u001b[36m(pid=3659, ip=192.168.8.55)\u001b[0m wandb:             Test: Classification Accuracy 0.7443\n",
      "\u001b[2m\u001b[36m(pid=3659, ip=192.168.8.55)\u001b[0m wandb: Syncing files in ../../../Trainings/wandb/wandb/run-20201215_150413-105ze9b4:\n",
      "\u001b[2m\u001b[36m(pid=3659, ip=192.168.8.55)\u001b[0m wandb:   code/default_worker.py\n",
      "\u001b[2m\u001b[36m(pid=3659, ip=192.168.8.55)\u001b[0m wandb: plus 8 W&B file(s) and 78 media file(s)\n",
      "\u001b[2m\u001b[36m(pid=3659, ip=192.168.8.55)\u001b[0m wandb: - 5.40MB of 5.40MB uploaded\n",
      "\u001b[2m\u001b[36m(pid=3659, ip=192.168.8.55)\u001b[0m wandb: \\ 5.40MB of 5.40MB uploaded\n",
      "\u001b[2m\u001b[36m(pid=3659, ip=192.168.8.55)\u001b[0m wandb: | 5.40MB of 5.40MB uploaded\n",
      "\u001b[2m\u001b[36m(pid=3659, ip=192.168.8.55)\u001b[0m wandb: / 5.40MB of 5.40MB uploaded\n",
      "\u001b[2m\u001b[36m(pid=3659, ip=192.168.8.55)\u001b[0m wandb: - 5.40MB of 5.40MB uploaded\n",
      "wandb:                                                                                \n",
      "\u001b[2m\u001b[36m(pid=3659, ip=192.168.8.55)\u001b[0m wandb: Synced Test_6: http://192.168.8.51:8080/reminiz/Active_Learning_CIFAR/runs/105ze9b4\n"
     ]
    },
    {
     "name": "stdout",
     "output_type": "stream",
     "text": [
      "\u001b[2m\u001b[36m(pid=3894, ip=192.168.8.55)\u001b[0m Change to split learning\n",
      "\u001b[2m\u001b[36m(pid=3894, ip=192.168.8.55)\u001b[0m Previus weigths 1.0 0\n",
      "\u001b[2m\u001b[36m(pid=3894, ip=192.168.8.55)\u001b[0m Updated weigths 0 1.0\n"
     ]
    },
    {
     "name": "stderr",
     "output_type": "stream",
     "text": [
      "\u001b[2m\u001b[36m(pid=3894, ip=192.168.8.55)\u001b[0m \n",
      "\u001b[2m\u001b[36m(pid=3894, ip=192.168.8.55)\u001b[0m wandb: Waiting for W&B process to finish, PID 3988\n",
      "\u001b[2m\u001b[36m(pid=3894, ip=192.168.8.55)\u001b[0m wandb: Program ended successfully.\n",
      "\u001b[2m\u001b[36m(pid=10964)\u001b[0m /home/reminiz/ReminizML2/python_env/lib/python3.7/site-packages/tensorflow/python/framework/dtypes.py:526: FutureWarning: Passing (type, 1) or '1type' as a synonym of type is deprecated; in a future version of numpy, it will be understood as (type, (1,)) / '(1,)type'.\n",
      "\u001b[2m\u001b[36m(pid=10964)\u001b[0m   _np_qint8 = np.dtype([(\"qint8\", np.int8, 1)])\n",
      "\u001b[2m\u001b[36m(pid=10964)\u001b[0m /home/reminiz/ReminizML2/python_env/lib/python3.7/site-packages/tensorflow/python/framework/dtypes.py:527: FutureWarning: Passing (type, 1) or '1type' as a synonym of type is deprecated; in a future version of numpy, it will be understood as (type, (1,)) / '(1,)type'.\n",
      "\u001b[2m\u001b[36m(pid=10964)\u001b[0m   _np_quint8 = np.dtype([(\"quint8\", np.uint8, 1)])\n",
      "\u001b[2m\u001b[36m(pid=10964)\u001b[0m /home/reminiz/ReminizML2/python_env/lib/python3.7/site-packages/tensorflow/python/framework/dtypes.py:528: FutureWarning: Passing (type, 1) or '1type' as a synonym of type is deprecated; in a future version of numpy, it will be understood as (type, (1,)) / '(1,)type'.\n",
      "\u001b[2m\u001b[36m(pid=10964)\u001b[0m   _np_qint16 = np.dtype([(\"qint16\", np.int16, 1)])\n",
      "\u001b[2m\u001b[36m(pid=10964)\u001b[0m /home/reminiz/ReminizML2/python_env/lib/python3.7/site-packages/tensorflow/python/framework/dtypes.py:529: FutureWarning: Passing (type, 1) or '1type' as a synonym of type is deprecated; in a future version of numpy, it will be understood as (type, (1,)) / '(1,)type'.\n",
      "\u001b[2m\u001b[36m(pid=10964)\u001b[0m   _np_quint16 = np.dtype([(\"quint16\", np.uint16, 1)])\n",
      "\u001b[2m\u001b[36m(pid=10964)\u001b[0m /home/reminiz/ReminizML2/python_env/lib/python3.7/site-packages/tensorflow/python/framework/dtypes.py:530: FutureWarning: Passing (type, 1) or '1type' as a synonym of type is deprecated; in a future version of numpy, it will be understood as (type, (1,)) / '(1,)type'.\n",
      "\u001b[2m\u001b[36m(pid=10964)\u001b[0m   _np_qint32 = np.dtype([(\"qint32\", np.int32, 1)])\n",
      "\u001b[2m\u001b[36m(pid=10964)\u001b[0m /home/reminiz/ReminizML2/python_env/lib/python3.7/site-packages/tensorflow/python/framework/dtypes.py:535: FutureWarning: Passing (type, 1) or '1type' as a synonym of type is deprecated; in a future version of numpy, it will be understood as (type, (1,)) / '(1,)type'.\n",
      "\u001b[2m\u001b[36m(pid=10964)\u001b[0m   np_resource = np.dtype([(\"resource\", np.ubyte, 1)])\n",
      "\u001b[2m\u001b[36m(pid=3894, ip=192.168.8.55)\u001b[0m wandb: Run summary:\n",
      "\u001b[2m\u001b[36m(pid=3894, ip=192.168.8.55)\u001b[0m wandb:                              loss 0.09356149572134018\n",
      "\u001b[2m\u001b[36m(pid=3894, ip=192.168.8.55)\u001b[0m wandb:                             _step 199\n",
      "\u001b[2m\u001b[36m(pid=3894, ip=192.168.8.55)\u001b[0m wandb:                          _runtime 212.69214749336243\n",
      "\u001b[2m\u001b[36m(pid=3894, ip=192.168.8.55)\u001b[0m wandb:                     l_pred_s_loss 0.07881125062704086\n",
      "\u001b[2m\u001b[36m(pid=3894, ip=192.168.8.55)\u001b[0m wandb:   Classifier_categorical_accuracy 0.9950000047683716\n",
      "\u001b[2m\u001b[36m(pid=3894, ip=192.168.8.55)\u001b[0m wandb:              l_pred_w_MAE_Lossnet 6.135326385498047\n",
      "\u001b[2m\u001b[36m(pid=3894, ip=192.168.8.55)\u001b[0m wandb:              l_pred_s_MAE_Lossnet 6.135326385498047\n",
      "\u001b[2m\u001b[36m(pid=3894, ip=192.168.8.55)\u001b[0m wandb:                   Classifier_loss 0.014082654379308224\n",
      "\u001b[2m\u001b[36m(pid=3894, ip=192.168.8.55)\u001b[0m wandb:                        _timestamp 1608046476.2607086\n",
      "\u001b[2m\u001b[36m(pid=3894, ip=192.168.8.55)\u001b[0m wandb:                     l_pred_w_loss 0.07881125062704086\n",
      "\u001b[2m\u001b[36m(pid=3894, ip=192.168.8.55)\u001b[0m wandb:                             epoch 199\n",
      "\u001b[2m\u001b[36m(pid=3894, ip=192.168.8.55)\u001b[0m wandb: Syncing files in ../../../Trainings/wandb/wandb/run-20201215_153103-3qbj4pam:\n",
      "\u001b[2m\u001b[36m(pid=3894, ip=192.168.8.55)\u001b[0m wandb:   code/default_worker.py\n",
      "\u001b[2m\u001b[36m(pid=3894, ip=192.168.8.55)\u001b[0m wandb: plus 8 W&B file(s) and 1 media file(s)\n",
      "\u001b[2m\u001b[36m(pid=3894, ip=192.168.8.55)\u001b[0m wandb: - 0.06MB of 0.06MB uploaded\n",
      "\u001b[2m\u001b[36m(pid=3894, ip=192.168.8.55)\u001b[0m wandb: \\ 0.06MB of 0.06MB uploaded\n",
      "\u001b[2m\u001b[36m(pid=3894, ip=192.168.8.55)\u001b[0m wandb: | 0.06MB of 0.06MB uploaded\n",
      "\u001b[2m\u001b[36m(pid=3894, ip=192.168.8.55)\u001b[0m wandb: / 0.06MB of 0.06MB uploaded\n",
      "wandb:                                                                                \n",
      "\u001b[2m\u001b[36m(pid=3894, ip=192.168.8.55)\u001b[0m wandb: Synced Train_0: http://192.168.8.51:8080/reminiz/Active_Learning_CIFAR/runs/3qbj4pam\n",
      "\u001b[2m\u001b[36m(pid=10964)\u001b[0m 2020-12-15 16:34:45.247773: I tensorflow/core/platform/cpu_feature_guard.cc:141] Your CPU supports instructions that this TensorFlow binary was not compiled to use: AVX2 FMA\n",
      "\u001b[2m\u001b[36m(pid=10964)\u001b[0m 2020-12-15 16:34:45.272918: I tensorflow/core/platform/profile_utils/cpu_utils.cc:94] CPU Frequency: 3300280000 Hz\n",
      "\u001b[2m\u001b[36m(pid=10964)\u001b[0m 2020-12-15 16:34:45.273754: I tensorflow/compiler/xla/service/service.cc:150] XLA service 0x57db0d0 executing computations on platform Host. Devices:\n",
      "\u001b[2m\u001b[36m(pid=10964)\u001b[0m 2020-12-15 16:34:45.273790: I tensorflow/compiler/xla/service/service.cc:158]   StreamExecutor device (0): <undefined>, <undefined>\n",
      "\u001b[2m\u001b[36m(pid=10964)\u001b[0m 2020-12-15 16:34:45.445674: I tensorflow/compiler/xla/service/service.cc:150] XLA service 0x5817390 executing computations on platform CUDA. Devices:\n",
      "\u001b[2m\u001b[36m(pid=10964)\u001b[0m 2020-12-15 16:34:45.445707: I tensorflow/compiler/xla/service/service.cc:158]   StreamExecutor device (0): TITAN RTX, Compute Capability 7.5\n",
      "\u001b[2m\u001b[36m(pid=10964)\u001b[0m 2020-12-15 16:34:45.445821: I tensorflow/core/common_runtime/gpu/gpu_device.cc:1433] Found device 0 with properties: \n",
      "\u001b[2m\u001b[36m(pid=10964)\u001b[0m name: TITAN RTX major: 7 minor: 5 memoryClockRate(GHz): 1.77\n",
      "\u001b[2m\u001b[36m(pid=10964)\u001b[0m pciBusID: 0000:03:00.0\n",
      "\u001b[2m\u001b[36m(pid=10964)\u001b[0m totalMemory: 23.65GiB freeMemory: 23.48GiB\n",
      "\u001b[2m\u001b[36m(pid=10964)\u001b[0m 2020-12-15 16:34:45.445836: I tensorflow/core/common_runtime/gpu/gpu_device.cc:1512] Adding visible gpu devices: 0\n",
      "\u001b[2m\u001b[36m(pid=10964)\u001b[0m 2020-12-15 16:34:45.447350: I tensorflow/core/common_runtime/gpu/gpu_device.cc:984] Device interconnect StreamExecutor with strength 1 edge matrix:\n",
      "\u001b[2m\u001b[36m(pid=10964)\u001b[0m 2020-12-15 16:34:45.447364: I tensorflow/core/common_runtime/gpu/gpu_device.cc:990]      0 \n",
      "\u001b[2m\u001b[36m(pid=10964)\u001b[0m 2020-12-15 16:34:45.447370: I tensorflow/core/common_runtime/gpu/gpu_device.cc:1003] 0:   N \n",
      "\u001b[2m\u001b[36m(pid=10964)\u001b[0m 2020-12-15 16:34:45.447434: I tensorflow/core/common_runtime/gpu/gpu_device.cc:1115] Created TensorFlow device (/job:localhost/replica:0/task:0/device:GPU:0 with 22845 MB memory) -> physical GPU (device: 0, name: TITAN RTX, pci bus id: 0000:03:00.0, compute capability: 7.5)\n",
      "\u001b[2m\u001b[36m(pid=10964)\u001b[0m WARNING:tensorflow:From /home/reminiz/ReminizML2/python_env/lib/python3.7/site-packages/tensorflow/python/ops/resource_variable_ops.py:435: colocate_with (from tensorflow.python.framework.ops) is deprecated and will be removed in a future version.\n",
      "\u001b[2m\u001b[36m(pid=10964)\u001b[0m Instructions for updating:\n",
      "\u001b[2m\u001b[36m(pid=10964)\u001b[0m Colocations handled automatically by placer.\n"
     ]
    },
    {
     "name": "stdout",
     "output_type": "stream",
     "text": [
      "\u001b[2m\u001b[36m(pid=10964)\u001b[0m \u001b[6;30;42mAL_Inference_0\u001b[0m Init done\n",
      "\u001b[2m\u001b[36m(pid=10964)\u001b[0m \u001b[6;30;42mAL_Inference_0\u001b[0m Restoring from /mnt/Ressources/Andres/Temp_active/runs/Active_Learning_keras_v1/Stage_0/checkpoint/checkpoint.200.hdf5\n"
     ]
    },
    {
     "name": "stderr",
     "output_type": "stream",
     "text": [
      "\u001b[2m\u001b[36m(pid=4848, ip=192.168.8.55)\u001b[0m /home/reminiz/ReminizML2/python_env/lib/python3.7/site-packages/tensorflow/python/framework/dtypes.py:526: FutureWarning: Passing (type, 1) or '1type' as a synonym of type is deprecated; in a future version of numpy, it will be understood as (type, (1,)) / '(1,)type'.\n",
      "\u001b[2m\u001b[36m(pid=4848, ip=192.168.8.55)\u001b[0m   _np_qint8 = np.dtype([(\"qint8\", np.int8, 1)])\n",
      "\u001b[2m\u001b[36m(pid=4848, ip=192.168.8.55)\u001b[0m /home/reminiz/ReminizML2/python_env/lib/python3.7/site-packages/tensorflow/python/framework/dtypes.py:527: FutureWarning: Passing (type, 1) or '1type' as a synonym of type is deprecated; in a future version of numpy, it will be understood as (type, (1,)) / '(1,)type'.\n",
      "\u001b[2m\u001b[36m(pid=4848, ip=192.168.8.55)\u001b[0m   _np_quint8 = np.dtype([(\"quint8\", np.uint8, 1)])\n",
      "\u001b[2m\u001b[36m(pid=4848, ip=192.168.8.55)\u001b[0m /home/reminiz/ReminizML2/python_env/lib/python3.7/site-packages/tensorflow/python/framework/dtypes.py:528: FutureWarning: Passing (type, 1) or '1type' as a synonym of type is deprecated; in a future version of numpy, it will be understood as (type, (1,)) / '(1,)type'.\n",
      "\u001b[2m\u001b[36m(pid=4848, ip=192.168.8.55)\u001b[0m   _np_qint16 = np.dtype([(\"qint16\", np.int16, 1)])\n",
      "\u001b[2m\u001b[36m(pid=4848, ip=192.168.8.55)\u001b[0m /home/reminiz/ReminizML2/python_env/lib/python3.7/site-packages/tensorflow/python/framework/dtypes.py:529: FutureWarning: Passing (type, 1) or '1type' as a synonym of type is deprecated; in a future version of numpy, it will be understood as (type, (1,)) / '(1,)type'.\n",
      "\u001b[2m\u001b[36m(pid=4848, ip=192.168.8.55)\u001b[0m   _np_quint16 = np.dtype([(\"quint16\", np.uint16, 1)])\n",
      "\u001b[2m\u001b[36m(pid=4848, ip=192.168.8.55)\u001b[0m /home/reminiz/ReminizML2/python_env/lib/python3.7/site-packages/tensorflow/python/framework/dtypes.py:530: FutureWarning: Passing (type, 1) or '1type' as a synonym of type is deprecated; in a future version of numpy, it will be understood as (type, (1,)) / '(1,)type'.\n",
      "\u001b[2m\u001b[36m(pid=4848, ip=192.168.8.55)\u001b[0m   _np_qint32 = np.dtype([(\"qint32\", np.int32, 1)])\n",
      "\u001b[2m\u001b[36m(pid=4848, ip=192.168.8.55)\u001b[0m /home/reminiz/ReminizML2/python_env/lib/python3.7/site-packages/tensorflow/python/framework/dtypes.py:535: FutureWarning: Passing (type, 1) or '1type' as a synonym of type is deprecated; in a future version of numpy, it will be understood as (type, (1,)) / '(1,)type'.\n",
      "\u001b[2m\u001b[36m(pid=4848, ip=192.168.8.55)\u001b[0m   np_resource = np.dtype([(\"resource\", np.ubyte, 1)])\n",
      "\u001b[2m\u001b[36m(pid=6123, ip=192.168.8.55)\u001b[0m /home/reminiz/ReminizML2/python_env/lib/python3.7/site-packages/tensorflow/python/framework/dtypes.py:526: FutureWarning: Passing (type, 1) or '1type' as a synonym of type is deprecated; in a future version of numpy, it will be understood as (type, (1,)) / '(1,)type'.\n",
      "\u001b[2m\u001b[36m(pid=6123, ip=192.168.8.55)\u001b[0m   _np_qint8 = np.dtype([(\"qint8\", np.int8, 1)])\n",
      "\u001b[2m\u001b[36m(pid=6123, ip=192.168.8.55)\u001b[0m /home/reminiz/ReminizML2/python_env/lib/python3.7/site-packages/tensorflow/python/framework/dtypes.py:527: FutureWarning: Passing (type, 1) or '1type' as a synonym of type is deprecated; in a future version of numpy, it will be understood as (type, (1,)) / '(1,)type'.\n",
      "\u001b[2m\u001b[36m(pid=6123, ip=192.168.8.55)\u001b[0m   _np_quint8 = np.dtype([(\"quint8\", np.uint8, 1)])\n",
      "\u001b[2m\u001b[36m(pid=6123, ip=192.168.8.55)\u001b[0m /home/reminiz/ReminizML2/python_env/lib/python3.7/site-packages/tensorflow/python/framework/dtypes.py:528: FutureWarning: Passing (type, 1) or '1type' as a synonym of type is deprecated; in a future version of numpy, it will be understood as (type, (1,)) / '(1,)type'.\n",
      "\u001b[2m\u001b[36m(pid=6123, ip=192.168.8.55)\u001b[0m   _np_qint16 = np.dtype([(\"qint16\", np.int16, 1)])\n",
      "\u001b[2m\u001b[36m(pid=6123, ip=192.168.8.55)\u001b[0m /home/reminiz/ReminizML2/python_env/lib/python3.7/site-packages/tensorflow/python/framework/dtypes.py:529: FutureWarning: Passing (type, 1) or '1type' as a synonym of type is deprecated; in a future version of numpy, it will be understood as (type, (1,)) / '(1,)type'.\n",
      "\u001b[2m\u001b[36m(pid=6123, ip=192.168.8.55)\u001b[0m   _np_quint16 = np.dtype([(\"quint16\", np.uint16, 1)])\n",
      "\u001b[2m\u001b[36m(pid=6123, ip=192.168.8.55)\u001b[0m /home/reminiz/ReminizML2/python_env/lib/python3.7/site-packages/tensorflow/python/framework/dtypes.py:530: FutureWarning: Passing (type, 1) or '1type' as a synonym of type is deprecated; in a future version of numpy, it will be understood as (type, (1,)) / '(1,)type'.\n",
      "\u001b[2m\u001b[36m(pid=6123, ip=192.168.8.55)\u001b[0m   _np_qint32 = np.dtype([(\"qint32\", np.int32, 1)])\n",
      "\u001b[2m\u001b[36m(pid=6123, ip=192.168.8.55)\u001b[0m /home/reminiz/ReminizML2/python_env/lib/python3.7/site-packages/tensorflow/python/framework/dtypes.py:535: FutureWarning: Passing (type, 1) or '1type' as a synonym of type is deprecated; in a future version of numpy, it will be understood as (type, (1,)) / '(1,)type'.\n",
      "\u001b[2m\u001b[36m(pid=6123, ip=192.168.8.55)\u001b[0m   np_resource = np.dtype([(\"resource\", np.ubyte, 1)])\n"
     ]
    },
    {
     "name": "stdout",
     "output_type": "stream",
     "text": [
      "\u001b[2m\u001b[36m(pid=12774, ip=192.168.8.52)\u001b[0m Epoch: 48 Time: 2020-12-15 16:41:39 Train loss: 1.37 Count NaN: 0 Saving\n"
     ]
    },
    {
     "name": "stderr",
     "output_type": "stream",
     "text": [
      "\u001b[2m\u001b[36m(pid=23892, ip=192.168.8.53)\u001b[0m /home/reminiz/ReminizML2/python_env/lib/python3.7/site-packages/tensorflow/python/framework/dtypes.py:526: FutureWarning: Passing (type, 1) or '1type' as a synonym of type is deprecated; in a future version of numpy, it will be understood as (type, (1,)) / '(1,)type'.\n",
      "\u001b[2m\u001b[36m(pid=23892, ip=192.168.8.53)\u001b[0m   _np_qint8 = np.dtype([(\"qint8\", np.int8, 1)])\n",
      "\u001b[2m\u001b[36m(pid=23892, ip=192.168.8.53)\u001b[0m /home/reminiz/ReminizML2/python_env/lib/python3.7/site-packages/tensorflow/python/framework/dtypes.py:527: FutureWarning: Passing (type, 1) or '1type' as a synonym of type is deprecated; in a future version of numpy, it will be understood as (type, (1,)) / '(1,)type'.\n",
      "\u001b[2m\u001b[36m(pid=23892, ip=192.168.8.53)\u001b[0m   _np_quint8 = np.dtype([(\"quint8\", np.uint8, 1)])\n",
      "\u001b[2m\u001b[36m(pid=23892, ip=192.168.8.53)\u001b[0m /home/reminiz/ReminizML2/python_env/lib/python3.7/site-packages/tensorflow/python/framework/dtypes.py:528: FutureWarning: Passing (type, 1) or '1type' as a synonym of type is deprecated; in a future version of numpy, it will be understood as (type, (1,)) / '(1,)type'.\n",
      "\u001b[2m\u001b[36m(pid=23892, ip=192.168.8.53)\u001b[0m   _np_qint16 = np.dtype([(\"qint16\", np.int16, 1)])\n",
      "\u001b[2m\u001b[36m(pid=23892, ip=192.168.8.53)\u001b[0m /home/reminiz/ReminizML2/python_env/lib/python3.7/site-packages/tensorflow/python/framework/dtypes.py:529: FutureWarning: Passing (type, 1) or '1type' as a synonym of type is deprecated; in a future version of numpy, it will be understood as (type, (1,)) / '(1,)type'.\n",
      "\u001b[2m\u001b[36m(pid=23892, ip=192.168.8.53)\u001b[0m   _np_quint16 = np.dtype([(\"quint16\", np.uint16, 1)])\n",
      "\u001b[2m\u001b[36m(pid=23892, ip=192.168.8.53)\u001b[0m /home/reminiz/ReminizML2/python_env/lib/python3.7/site-packages/tensorflow/python/framework/dtypes.py:530: FutureWarning: Passing (type, 1) or '1type' as a synonym of type is deprecated; in a future version of numpy, it will be understood as (type, (1,)) / '(1,)type'.\n",
      "\u001b[2m\u001b[36m(pid=23892, ip=192.168.8.53)\u001b[0m   _np_qint32 = np.dtype([(\"qint32\", np.int32, 1)])\n",
      "\u001b[2m\u001b[36m(pid=23892, ip=192.168.8.53)\u001b[0m /home/reminiz/ReminizML2/python_env/lib/python3.7/site-packages/tensorflow/python/framework/dtypes.py:535: FutureWarning: Passing (type, 1) or '1type' as a synonym of type is deprecated; in a future version of numpy, it will be understood as (type, (1,)) / '(1,)type'.\n",
      "\u001b[2m\u001b[36m(pid=23892, ip=192.168.8.53)\u001b[0m   np_resource = np.dtype([(\"resource\", np.ubyte, 1)])\n",
      "\u001b[2m\u001b[36m(pid=23892, ip=192.168.8.53)\u001b[0m wandb: Tracking run with wandb version 0.8.36\n",
      "\u001b[2m\u001b[36m(pid=23892, ip=192.168.8.53)\u001b[0m wandb: Wandb version 0.10.12 is available!  To upgrade, please run:\n",
      "\u001b[2m\u001b[36m(pid=23892, ip=192.168.8.53)\u001b[0m wandb:  $ pip install wandb --upgrade\n",
      "\u001b[2m\u001b[36m(pid=23892, ip=192.168.8.53)\u001b[0m wandb: Run data is saved locally in ../../../Trainings/wandb/wandb/run-20201215_154158-2wfg5hig\n",
      "\u001b[2m\u001b[36m(pid=23892, ip=192.168.8.53)\u001b[0m wandb: Syncing run 2wfg5hig\n",
      "\u001b[2m\u001b[36m(pid=23892, ip=192.168.8.53)\u001b[0m wandb: ⭐️ View project at http://192.168.8.51:8080/reminiz/Violence%20Detection\n",
      "\u001b[2m\u001b[36m(pid=23892, ip=192.168.8.53)\u001b[0m wandb: 🚀 View run at http://192.168.8.51:8080/reminiz/Violence%20Detection/runs/2wfg5hig\n",
      "\u001b[2m\u001b[36m(pid=23892, ip=192.168.8.53)\u001b[0m wandb: Run `wandb off` to turn off syncing.\n",
      "\u001b[2m\u001b[36m(pid=23892, ip=192.168.8.53)\u001b[0m \n",
      "\u001b[2m\u001b[36m(pid=23892, ip=192.168.8.53)\u001b[0m WARNING:tensorflow:From /home/reminiz/ReminizML2/python_env/lib/python3.7/site-packages/tensorflow/python/framework/op_def_library.py:263: colocate_with (from tensorflow.python.framework.ops) is deprecated and will be removed in a future version.\n",
      "\u001b[2m\u001b[36m(pid=23892, ip=192.168.8.53)\u001b[0m Instructions for updating:\n",
      "\u001b[2m\u001b[36m(pid=23892, ip=192.168.8.53)\u001b[0m Colocations handled automatically by placer.\n",
      "\u001b[2m\u001b[36m(pid=23892, ip=192.168.8.53)\u001b[0m WARNING:tensorflow:From /mnt/Ressources/Quentin/Detection/core/common.py:25: batch_normalization (from tensorflow.python.layers.normalization) is deprecated and will be removed in a future version.\n",
      "\u001b[2m\u001b[36m(pid=23892, ip=192.168.8.53)\u001b[0m Instructions for updating:\n",
      "\u001b[2m\u001b[36m(pid=23892, ip=192.168.8.53)\u001b[0m Use keras.layers.batch_normalization instead.\n"
     ]
    },
    {
     "name": "stdout",
     "output_type": "stream",
     "text": [
      "\u001b[2m\u001b[36m(pid=23892, ip=192.168.8.53)\u001b[0m {0: 'FIREARMS', 1: 'COLDARMS'}\n"
     ]
    },
    {
     "name": "stderr",
     "output_type": "stream",
     "text": [
      "\u001b[2m\u001b[36m(pid=23892, ip=192.168.8.53)\u001b[0m 2020-12-15 16:42:02.930199: I tensorflow/core/platform/cpu_feature_guard.cc:141] Your CPU supports instructions that this TensorFlow binary was not compiled to use: AVX2 FMA\n",
      "\u001b[2m\u001b[36m(pid=23892, ip=192.168.8.53)\u001b[0m 2020-12-15 16:42:02.934614: I tensorflow/core/platform/profile_utils/cpu_utils.cc:94] CPU Frequency: 3499950000 Hz\n",
      "\u001b[2m\u001b[36m(pid=23892, ip=192.168.8.53)\u001b[0m 2020-12-15 16:42:02.935224: I tensorflow/compiler/xla/service/service.cc:150] XLA service 0x55adc6209eb0 executing computations on platform Host. Devices:\n",
      "\u001b[2m\u001b[36m(pid=23892, ip=192.168.8.53)\u001b[0m 2020-12-15 16:42:02.935256: I tensorflow/compiler/xla/service/service.cc:158]   StreamExecutor device (0): <undefined>, <undefined>\n",
      "\u001b[2m\u001b[36m(pid=23892, ip=192.168.8.53)\u001b[0m 2020-12-15 16:42:03.061130: I tensorflow/compiler/xla/service/service.cc:150] XLA service 0x55adc2827a40 executing computations on platform CUDA. Devices:\n",
      "\u001b[2m\u001b[36m(pid=23892, ip=192.168.8.53)\u001b[0m 2020-12-15 16:42:03.061177: I tensorflow/compiler/xla/service/service.cc:158]   StreamExecutor device (0): GeForce GTX TITAN X, Compute Capability 5.2\n",
      "\u001b[2m\u001b[36m(pid=23892, ip=192.168.8.53)\u001b[0m 2020-12-15 16:42:03.061407: I tensorflow/core/common_runtime/gpu/gpu_device.cc:1433] Found device 0 with properties: \n",
      "\u001b[2m\u001b[36m(pid=23892, ip=192.168.8.53)\u001b[0m name: GeForce GTX TITAN X major: 5 minor: 2 memoryClockRate(GHz): 1.076\n",
      "\u001b[2m\u001b[36m(pid=23892, ip=192.168.8.53)\u001b[0m pciBusID: 0000:02:00.0\n",
      "\u001b[2m\u001b[36m(pid=23892, ip=192.168.8.53)\u001b[0m totalMemory: 11.93GiB freeMemory: 11.82GiB\n",
      "\u001b[2m\u001b[36m(pid=23892, ip=192.168.8.53)\u001b[0m 2020-12-15 16:42:03.061441: I tensorflow/core/common_runtime/gpu/gpu_device.cc:1512] Adding visible gpu devices: 0\n",
      "\u001b[2m\u001b[36m(pid=23892, ip=192.168.8.53)\u001b[0m 2020-12-15 16:42:03.063891: I tensorflow/core/common_runtime/gpu/gpu_device.cc:984] Device interconnect StreamExecutor with strength 1 edge matrix:\n",
      "\u001b[2m\u001b[36m(pid=23892, ip=192.168.8.53)\u001b[0m 2020-12-15 16:42:03.063922: I tensorflow/core/common_runtime/gpu/gpu_device.cc:990]      0 \n",
      "\u001b[2m\u001b[36m(pid=23892, ip=192.168.8.53)\u001b[0m 2020-12-15 16:42:03.063937: I tensorflow/core/common_runtime/gpu/gpu_device.cc:1003] 0:   N \n",
      "\u001b[2m\u001b[36m(pid=23892, ip=192.168.8.53)\u001b[0m 2020-12-15 16:42:03.064066: I tensorflow/core/common_runtime/gpu/gpu_device.cc:1115] Created TensorFlow device (/job:localhost/replica:0/task:0/device:GPU:0 with 11496 MB memory) -> physical GPU (device: 0, name: GeForce GTX TITAN X, pci bus id: 0000:02:00.0, compute capability: 5.2)\n"
     ]
    },
    {
     "name": "stdout",
     "output_type": "stream",
     "text": [
      "\u001b[2m\u001b[36m(pid=23892, ip=192.168.8.53)\u001b[0m Restoring from /mnt/Trainings/models/violence_detection_weapons_0/checkpoint/epoch48.ckpt-48\n"
     ]
    },
    {
     "name": "stderr",
     "output_type": "stream",
     "text": [
      "\u001b[2m\u001b[36m(pid=23892, ip=192.168.8.53)\u001b[0m WARNING:tensorflow:From /home/reminiz/ReminizML2/python_env/lib/python3.7/site-packages/tensorflow/python/training/saver.py:1266: checkpoint_exists (from tensorflow.python.training.checkpoint_management) is deprecated and will be removed in a future version.\n",
      "\u001b[2m\u001b[36m(pid=23892, ip=192.168.8.53)\u001b[0m Instructions for updating:\n",
      "\u001b[2m\u001b[36m(pid=23892, ip=192.168.8.53)\u001b[0m Use standard file APIs to check for files with this prefix.\n",
      "  0% 0/100 [00:00<?, ?it/s]E1215 16:42:07.386339 23892 23901 task_manager.cc:323] Task failed: IOError: cancelling all pending tasks of dead actor: Type=ACTOR_TASK, Language=PYTHON, Resources: {}, function_descriptor={type=PythonFunctionDescriptor, module_name=AutoML.datanode, class_name=DataNode, function_name=get_image, function_hash=}, task_id=7bdb256798159981af3ac63101000000, task_name=DataNode.get_image(), job_id=01000000, num_args=6, num_returns=2, actor_task_spec={actor_id=af3ac63101000000, actor_caller_id=ffffffffffffffff9a3f072b0c000000, actor_counter=0}\n"
     ]
    },
    {
     "name": "stdout",
     "output_type": "stream",
     "text": [
      "\u001b[2m\u001b[36m(pid=23892, ip=192.168.8.53)\u001b[0m Cache disk full, cleaning.\n"
     ]
    },
    {
     "name": "stderr",
     "output_type": "stream",
     "text": [
      "  1% 1/100 [00:02<03:27,  2.10s/it]3)\u001b[0m \n",
      "  2% 2/100 [00:02<02:27,  1.51s/it]3)\u001b[0m \n"
     ]
    },
    {
     "name": "stdout",
     "output_type": "stream",
     "text": [
      "\u001b[2m\u001b[36m(pid=23892, ip=192.168.8.53)\u001b[0m Cache disk full, cleaning.\n",
      "\u001b[2m\u001b[36m(pid=23892, ip=192.168.8.53)\u001b[0m Cache disk full, cleaning.\n",
      "\u001b[2m\u001b[36m(pid=23892, ip=192.168.8.53)\u001b[0m Cache disk full, cleaning.\n"
     ]
    },
    {
     "name": "stderr",
     "output_type": "stream",
     "text": [
      "  4% 4/100 [00:02<01:44,  1.09s/it]3)\u001b[0m \n"
     ]
    },
    {
     "name": "stdout",
     "output_type": "stream",
     "text": [
      "\u001b[2m\u001b[36m(pid=23892, ip=192.168.8.53)\u001b[0m Cache disk full, cleaning.\n",
      "\u001b[2m\u001b[36m(pid=23892, ip=192.168.8.53)\u001b[0m Cache disk full, cleaning.\n"
     ]
    },
    {
     "name": "stderr",
     "output_type": "stream",
     "text": [
      "  5% 5/100 [00:03<01:29,  1.06it/s]3)\u001b[0m \n",
      "  6% 6/100 [00:03<01:06,  1.42it/s]3)\u001b[0m \n"
     ]
    },
    {
     "name": "stdout",
     "output_type": "stream",
     "text": [
      "\u001b[2m\u001b[36m(pid=23892, ip=192.168.8.53)\u001b[0m Cache disk full, cleaning.\n",
      "\u001b[2m\u001b[36m(pid=23892, ip=192.168.8.53)\u001b[0m Cache disk full, cleaning.\n"
     ]
    },
    {
     "name": "stderr",
     "output_type": "stream",
     "text": [
      "  7% 7/100 [00:03<00:49,  1.87it/s]3)\u001b[0m \n"
     ]
    },
    {
     "name": "stdout",
     "output_type": "stream",
     "text": [
      "\u001b[2m\u001b[36m(pid=23892, ip=192.168.8.53)\u001b[0m Cache disk full, cleaning.\n",
      "\u001b[2m\u001b[36m(pid=23892, ip=192.168.8.53)\u001b[0m Cache disk full, cleaning.\n"
     ]
    },
    {
     "name": "stderr",
     "output_type": "stream",
     "text": [
      "  9% 9/100 [00:03<00:38,  2.35it/s]3)\u001b[0m \n"
     ]
    },
    {
     "name": "stdout",
     "output_type": "stream",
     "text": [
      "\u001b[2m\u001b[36m(pid=23892, ip=192.168.8.53)\u001b[0m Cache disk full, cleaning.\n",
      "\u001b[2m\u001b[36m(pid=23892, ip=192.168.8.53)\u001b[0m Cache disk full, cleaning.\n"
     ]
    },
    {
     "name": "stderr",
     "output_type": "stream",
     "text": [
      " 11% 11/100 [00:03<00:29,  3.02it/s])\u001b[0m \n",
      " 12% 12/100 [00:04<00:23,  3.74it/s])\u001b[0m \n"
     ]
    },
    {
     "name": "stdout",
     "output_type": "stream",
     "text": [
      "\u001b[2m\u001b[36m(pid=23892, ip=192.168.8.53)\u001b[0m Cache disk full, cleaning.\n",
      "\u001b[2m\u001b[36m(pid=23892, ip=192.168.8.53)\u001b[0m Cache disk full, cleaning.\n"
     ]
    },
    {
     "name": "stderr",
     "output_type": "stream",
     "text": [
      " 13% 13/100 [00:04<00:22,  3.80it/s])\u001b[0m \n",
      " 14% 14/100 [00:04<00:18,  4.64it/s])\u001b[0m \n"
     ]
    },
    {
     "name": "stdout",
     "output_type": "stream",
     "text": [
      "\u001b[2m\u001b[36m(pid=23892, ip=192.168.8.53)\u001b[0m Cache disk full, cleaning.\n"
     ]
    },
    {
     "name": "stderr",
     "output_type": "stream",
     "text": [
      " 15% 15/100 [00:04<00:16,  5.04it/s])\u001b[0m \n",
      " 16% 16/100 [00:04<00:16,  5.03it/s])\u001b[0m \n"
     ]
    },
    {
     "name": "stdout",
     "output_type": "stream",
     "text": [
      "\u001b[2m\u001b[36m(pid=23892, ip=192.168.8.53)\u001b[0m Cache disk full, cleaning.\n",
      "\u001b[2m\u001b[36m(pid=23892, ip=192.168.8.53)\u001b[0m Cache disk full, cleaning.\n"
     ]
    },
    {
     "name": "stderr",
     "output_type": "stream",
     "text": [
      " 17% 17/100 [00:04<00:14,  5.82it/s])\u001b[0m \n"
     ]
    },
    {
     "name": "stdout",
     "output_type": "stream",
     "text": [
      "\u001b[2m\u001b[36m(pid=23892, ip=192.168.8.53)\u001b[0m Cache disk full, cleaning.\n",
      "\u001b[2m\u001b[36m(pid=23892, ip=192.168.8.53)\u001b[0m Cache disk full, cleaning.\n"
     ]
    },
    {
     "name": "stderr",
     "output_type": "stream",
     "text": [
      " 19% 19/100 [00:05<00:13,  5.91it/s])\u001b[0m \n"
     ]
    },
    {
     "name": "stdout",
     "output_type": "stream",
     "text": [
      "\u001b[2m\u001b[36m(pid=23892, ip=192.168.8.53)\u001b[0m Cache disk full, cleaning.\n",
      "\u001b[2m\u001b[36m(pid=23892, ip=192.168.8.53)\u001b[0m Cache disk full, cleaning.\n"
     ]
    },
    {
     "name": "stderr",
     "output_type": "stream",
     "text": [
      " 20% 20/100 [00:05<00:18,  4.33it/s])\u001b[0m \n"
     ]
    },
    {
     "name": "stdout",
     "output_type": "stream",
     "text": [
      "\u001b[2m\u001b[36m(pid=23892, ip=192.168.8.53)\u001b[0m Cache disk full, cleaning.\n"
     ]
    },
    {
     "name": "stderr",
     "output_type": "stream",
     "text": [
      " 22% 22/100 [00:05<00:14,  5.31it/s])\u001b[0m \n"
     ]
    },
    {
     "name": "stdout",
     "output_type": "stream",
     "text": [
      "\u001b[2m\u001b[36m(pid=23892, ip=192.168.8.53)\u001b[0m Cache disk full, cleaning.\n",
      "\u001b[2m\u001b[36m(pid=23892, ip=192.168.8.53)\u001b[0m Cache disk full, cleaning.\n"
     ]
    },
    {
     "name": "stderr",
     "output_type": "stream",
     "text": [
      " 23% 23/100 [00:07<00:47,  1.63it/s])\u001b[0m \n",
      " 24% 24/100 [00:07<00:34,  2.17it/s])\u001b[0m \n"
     ]
    },
    {
     "name": "stdout",
     "output_type": "stream",
     "text": [
      "\u001b[2m\u001b[36m(pid=23892, ip=192.168.8.53)\u001b[0m Cache disk full, cleaning.\n",
      "\u001b[2m\u001b[36m(pid=23892, ip=192.168.8.53)\u001b[0m Cache disk full, cleaning.\n"
     ]
    },
    {
     "name": "stderr",
     "output_type": "stream",
     "text": [
      " 25% 25/100 [00:07<00:27,  2.75it/s])\u001b[0m \n"
     ]
    },
    {
     "name": "stdout",
     "output_type": "stream",
     "text": [
      "\u001b[2m\u001b[36m(pid=23892, ip=192.168.8.53)\u001b[0m Cache disk full, cleaning.\n",
      "\u001b[2m\u001b[36m(pid=23892, ip=192.168.8.53)\u001b[0m Cache disk full, cleaning.\n",
      "\u001b[2m\u001b[36m(pid=23892, ip=192.168.8.53)\u001b[0m Cache disk full, cleaning.\n"
     ]
    },
    {
     "name": "stderr",
     "output_type": "stream",
     "text": [
      " 27% 27/100 [00:08<00:27,  2.67it/s])\u001b[0m \n",
      " 28% 28/100 [00:08<00:21,  3.40it/s])\u001b[0m \n"
     ]
    },
    {
     "name": "stdout",
     "output_type": "stream",
     "text": [
      "\u001b[2m\u001b[36m(pid=23892, ip=192.168.8.53)\u001b[0m Cache disk full, cleaning.\n",
      "\u001b[2m\u001b[36m(pid=23892, ip=192.168.8.53)\u001b[0m Cache disk full, cleaning.\n",
      "\u001b[2m\u001b[36m(pid=23892, ip=192.168.8.53)\u001b[0m Cache disk full, cleaning.\n"
     ]
    },
    {
     "name": "stderr",
     "output_type": "stream",
     "text": [
      " 30% 30/100 [00:08<00:15,  4.38it/s])\u001b[0m \n",
      " 32% 32/100 [00:08<00:12,  5.29it/s])\u001b[0m \n",
      " 33% 33/100 [00:08<00:11,  6.03it/s])\u001b[0m \n"
     ]
    },
    {
     "name": "stdout",
     "output_type": "stream",
     "text": [
      "\u001b[2m\u001b[36m(pid=23892, ip=192.168.8.53)\u001b[0m Cache disk full, cleaning.\n",
      "\u001b[2m\u001b[36m(pid=23892, ip=192.168.8.53)\u001b[0m Cache disk full, cleaning.\n",
      "\u001b[2m\u001b[36m(pid=23892, ip=192.168.8.53)\u001b[0m Cache disk full, cleaning.\n"
     ]
    },
    {
     "name": "stderr",
     "output_type": "stream",
     "text": [
      " 34% 34/100 [00:09<00:12,  5.25it/s])\u001b[0m \n",
      " 36% 36/100 [00:09<00:10,  6.17it/s])\u001b[0m \n"
     ]
    },
    {
     "name": "stdout",
     "output_type": "stream",
     "text": [
      "\u001b[2m\u001b[36m(pid=23892, ip=192.168.8.53)\u001b[0m Cache disk full, cleaning.\n",
      "\u001b[2m\u001b[36m(pid=23892, ip=192.168.8.53)\u001b[0m Cache disk full, cleaning.\n"
     ]
    },
    {
     "name": "stderr",
     "output_type": "stream",
     "text": [
      " 37% 37/100 [00:09<00:09,  6.94it/s])\u001b[0m \n"
     ]
    },
    {
     "name": "stdout",
     "output_type": "stream",
     "text": [
      "\u001b[2m\u001b[36m(pid=23892, ip=192.168.8.53)\u001b[0m Cache disk full, cleaning.\n",
      "\u001b[2m\u001b[36m(pid=23892, ip=192.168.8.53)\u001b[0m Cache disk full, cleaning.\n",
      "\u001b[2m\u001b[36m(pid=23892, ip=192.168.8.53)\u001b[0m Cache disk full, cleaning.\n"
     ]
    },
    {
     "name": "stderr",
     "output_type": "stream",
     "text": [
      " 39% 39/100 [00:09<00:09,  6.69it/s])\u001b[0m \n"
     ]
    },
    {
     "name": "stdout",
     "output_type": "stream",
     "text": [
      "\u001b[2m\u001b[36m(pid=23892, ip=192.168.8.53)\u001b[0m Cache disk full, cleaning.\n",
      "\u001b[2m\u001b[36m(pid=23892, ip=192.168.8.53)\u001b[0m Cache disk full, cleaning.\n"
     ]
    },
    {
     "name": "stderr",
     "output_type": "stream",
     "text": [
      " 41% 41/100 [00:10<00:09,  6.35it/s])\u001b[0m \n",
      " 42% 42/100 [00:10<00:09,  6.32it/s])\u001b[0m \n"
     ]
    },
    {
     "name": "stdout",
     "output_type": "stream",
     "text": [
      "\u001b[2m\u001b[36m(pid=23892, ip=192.168.8.53)\u001b[0m Cache disk full, cleaning.\n",
      "\u001b[2m\u001b[36m(pid=23892, ip=192.168.8.53)\u001b[0m Cache disk full, cleaning.\n",
      "\u001b[2m\u001b[36m(pid=23892, ip=192.168.8.53)\u001b[0m Cache disk full, cleaning.\n"
     ]
    },
    {
     "name": "stderr",
     "output_type": "stream",
     "text": [
      " 43% 43/100 [00:10<00:08,  6.63it/s])\u001b[0m \n",
      " 45% 45/100 [00:10<00:07,  7.63it/s])\u001b[0m \n"
     ]
    },
    {
     "name": "stdout",
     "output_type": "stream",
     "text": [
      "\u001b[2m\u001b[36m(pid=23892, ip=192.168.8.53)\u001b[0m Cache disk full, cleaning.\n",
      "\u001b[2m\u001b[36m(pid=23892, ip=192.168.8.53)\u001b[0m Cache disk full, cleaning.\n"
     ]
    },
    {
     "name": "stderr",
     "output_type": "stream",
     "text": [
      " 46% 46/100 [00:10<00:09,  5.41it/s])\u001b[0m \n",
      " 47% 47/100 [00:11<00:09,  5.65it/s])\u001b[0m \n"
     ]
    },
    {
     "name": "stdout",
     "output_type": "stream",
     "text": [
      "\u001b[2m\u001b[36m(pid=23892, ip=192.168.8.53)\u001b[0m Cache disk full, cleaning.\n",
      "\u001b[2m\u001b[36m(pid=23892, ip=192.168.8.53)\u001b[0m Cache disk full, cleaning.\n",
      "\u001b[2m\u001b[36m(pid=23892, ip=192.168.8.53)\u001b[0m Cache disk full, cleaning.\n"
     ]
    },
    {
     "name": "stderr",
     "output_type": "stream",
     "text": [
      " 49% 49/100 [00:11<00:07,  6.87it/s])\u001b[0m \n",
      " 50% 50/100 [00:11<00:06,  7.44it/s])\u001b[0m \n"
     ]
    },
    {
     "name": "stdout",
     "output_type": "stream",
     "text": [
      "\u001b[2m\u001b[36m(pid=23892, ip=192.168.8.53)\u001b[0m Cache disk full, cleaning.\n",
      "\u001b[2m\u001b[36m(pid=23892, ip=192.168.8.53)\u001b[0m Cache disk full, cleaning.\n"
     ]
    },
    {
     "name": "stderr",
     "output_type": "stream",
     "text": [
      " 52% 52/100 [00:11<00:06,  8.00it/s])\u001b[0m \n",
      " 53% 53/100 [00:11<00:06,  7.77it/s])\u001b[0m \n"
     ]
    },
    {
     "name": "stdout",
     "output_type": "stream",
     "text": [
      "\u001b[2m\u001b[36m(pid=23892, ip=192.168.8.53)\u001b[0m Cache disk full, cleaning.\n",
      "\u001b[2m\u001b[36m(pid=23892, ip=192.168.8.53)\u001b[0m Cache disk full, cleaning.\n"
     ]
    },
    {
     "name": "stderr",
     "output_type": "stream",
     "text": [
      " 54% 54/100 [00:11<00:06,  7.36it/s])\u001b[0m \n",
      " 55% 55/100 [00:11<00:05,  7.82it/s])\u001b[0m \n"
     ]
    },
    {
     "name": "stdout",
     "output_type": "stream",
     "text": [
      "\u001b[2m\u001b[36m(pid=23892, ip=192.168.8.53)\u001b[0m Cache disk full, cleaning.\n",
      "\u001b[2m\u001b[36m(pid=23892, ip=192.168.8.53)\u001b[0m Cache disk full, cleaning.\n",
      "\u001b[2m\u001b[36m(pid=23892, ip=192.168.8.53)\u001b[0m Cache disk full, cleaning.\n",
      "\u001b[2m\u001b[36m(pid=23892, ip=192.168.8.53)\u001b[0m Cache disk full, cleaning.\n"
     ]
    },
    {
     "name": "stderr",
     "output_type": "stream",
     "text": [
      " 57% 57/100 [00:12<00:05,  7.57it/s])\u001b[0m \n"
     ]
    },
    {
     "name": "stdout",
     "output_type": "stream",
     "text": [
      "\u001b[2m\u001b[36m(pid=23892, ip=192.168.8.53)\u001b[0m Cache disk full, cleaning.\n",
      "\u001b[2m\u001b[36m(pid=23892, ip=192.168.8.53)\u001b[0m Cache disk full, cleaning.\n"
     ]
    },
    {
     "name": "stderr",
     "output_type": "stream",
     "text": [
      " 59% 59/100 [00:12<00:05,  7.80it/s])\u001b[0m \n",
      " 60% 60/100 [00:12<00:04,  8.02it/s])\u001b[0m \n"
     ]
    },
    {
     "name": "stdout",
     "output_type": "stream",
     "text": [
      "\u001b[2m\u001b[36m(pid=23892, ip=192.168.8.53)\u001b[0m Cache disk full, cleaning.\n"
     ]
    },
    {
     "name": "stderr",
     "output_type": "stream",
     "text": [
      " 61% 61/100 [00:12<00:05,  7.10it/s])\u001b[0m \n"
     ]
    },
    {
     "name": "stdout",
     "output_type": "stream",
     "text": [
      "\u001b[2m\u001b[36m(pid=23892, ip=192.168.8.53)\u001b[0m Cache disk full, cleaning.\n",
      "\u001b[2m\u001b[36m(pid=23892, ip=192.168.8.53)\u001b[0m Cache disk full, cleaning.\n",
      "\u001b[2m\u001b[36m(pid=23892, ip=192.168.8.53)\u001b[0m Cache disk full, cleaning.\n"
     ]
    },
    {
     "name": "stderr",
     "output_type": "stream",
     "text": [
      " 62% 62/100 [00:12<00:05,  6.40it/s])\u001b[0m \n",
      " 64% 64/100 [00:13<00:04,  7.28it/s])\u001b[0m \n"
     ]
    },
    {
     "name": "stdout",
     "output_type": "stream",
     "text": [
      "\u001b[2m\u001b[36m(pid=23892, ip=192.168.8.53)\u001b[0m Cache disk full, cleaning.\n",
      "\u001b[2m\u001b[36m(pid=23892, ip=192.168.8.53)\u001b[0m Cache disk full, cleaning.\n"
     ]
    },
    {
     "name": "stderr",
     "output_type": "stream",
     "text": [
      " 66% 66/100 [00:13<00:04,  8.10it/s])\u001b[0m \n",
      " 67% 67/100 [00:13<00:04,  8.00it/s])\u001b[0m \n"
     ]
    },
    {
     "name": "stdout",
     "output_type": "stream",
     "text": [
      "\u001b[2m\u001b[36m(pid=23892, ip=192.168.8.53)\u001b[0m Cache disk full, cleaning.\n",
      "\u001b[2m\u001b[36m(pid=23892, ip=192.168.8.53)\u001b[0m Cache disk full, cleaning.\n",
      "\u001b[2m\u001b[36m(pid=23892, ip=192.168.8.53)\u001b[0m Cache disk full, cleaning.\n"
     ]
    },
    {
     "name": "stderr",
     "output_type": "stream",
     "text": [
      " 68% 68/100 [00:13<00:03,  8.40it/s])\u001b[0m \n",
      " 70% 70/100 [00:13<00:03,  9.00it/s])\u001b[0m \n"
     ]
    },
    {
     "name": "stdout",
     "output_type": "stream",
     "text": [
      "\u001b[2m\u001b[36m(pid=23892, ip=192.168.8.53)\u001b[0m Cache disk full, cleaning.\n",
      "\u001b[2m\u001b[36m(pid=23892, ip=192.168.8.53)\u001b[0m Cache disk full, cleaning.\n",
      "\u001b[2m\u001b[36m(pid=23892, ip=192.168.8.53)\u001b[0m Cache disk full, cleaning.\n",
      "\u001b[2m\u001b[36m(pid=23892, ip=192.168.8.53)\u001b[0m Cache disk full, cleaning.\n"
     ]
    },
    {
     "name": "stderr",
     "output_type": "stream",
     "text": [
      " 72% 72/100 [00:13<00:03,  9.14it/s])\u001b[0m \n",
      " 73% 73/100 [00:14<00:03,  8.95it/s])\u001b[0m \n"
     ]
    },
    {
     "name": "stdout",
     "output_type": "stream",
     "text": [
      "\u001b[2m\u001b[36m(pid=23892, ip=192.168.8.53)\u001b[0m Cache disk full, cleaning.\n",
      "\u001b[2m\u001b[36m(pid=23892, ip=192.168.8.53)\u001b[0m Cache disk full, cleaning.\n"
     ]
    },
    {
     "name": "stderr",
     "output_type": "stream",
     "text": [
      " 74% 74/100 [00:14<00:02,  8.88it/s])\u001b[0m \n",
      " 75% 75/100 [00:14<00:02,  8.90it/s])\u001b[0m \n"
     ]
    },
    {
     "name": "stdout",
     "output_type": "stream",
     "text": [
      "\u001b[2m\u001b[36m(pid=23892, ip=192.168.8.53)\u001b[0m Cache disk full, cleaning.\n",
      "\u001b[2m\u001b[36m(pid=23892, ip=192.168.8.53)\u001b[0m Cache disk full, cleaning.\n"
     ]
    },
    {
     "name": "stderr",
     "output_type": "stream",
     "text": [
      " 77% 77/100 [00:14<00:02,  9.68it/s])\u001b[0m \n",
      " 78% 78/100 [00:14<00:02,  8.79it/s])\u001b[0m \n"
     ]
    },
    {
     "name": "stdout",
     "output_type": "stream",
     "text": [
      "\u001b[2m\u001b[36m(pid=23892, ip=192.168.8.53)\u001b[0m Cache disk full, cleaning.\n",
      "\u001b[2m\u001b[36m(pid=23892, ip=192.168.8.53)\u001b[0m Cache disk full, cleaning.\n",
      "\u001b[2m\u001b[36m(pid=23892, ip=192.168.8.53)\u001b[0m Cache disk full, cleaning.\n",
      "\u001b[2m\u001b[36m(pid=23892, ip=192.168.8.53)\u001b[0m Cache disk full, cleaning.\n"
     ]
    },
    {
     "name": "stderr",
     "output_type": "stream",
     "text": [
      " 79% 79/100 [00:14<00:03,  6.96it/s])\u001b[0m \n",
      " 81% 81/100 [00:15<00:02,  7.82it/s])\u001b[0m \n",
      " 82% 82/100 [00:15<00:02,  7.95it/s])\u001b[0m \n"
     ]
    },
    {
     "name": "stdout",
     "output_type": "stream",
     "text": [
      "\u001b[2m\u001b[36m(pid=23892, ip=192.168.8.53)\u001b[0m Cache disk full, cleaning.\n",
      "\u001b[2m\u001b[36m(pid=23892, ip=192.168.8.53)\u001b[0m Cache disk full, cleaning.\n"
     ]
    },
    {
     "name": "stderr",
     "output_type": "stream",
     "text": [
      " 83% 83/100 [00:15<00:02,  6.34it/s])\u001b[0m \n"
     ]
    },
    {
     "name": "stdout",
     "output_type": "stream",
     "text": [
      "\u001b[2m\u001b[36m(pid=23892, ip=192.168.8.53)\u001b[0m Cache disk full, cleaning.\n",
      "\u001b[2m\u001b[36m(pid=23892, ip=192.168.8.53)\u001b[0m Cache disk full, cleaning.\n"
     ]
    },
    {
     "name": "stderr",
     "output_type": "stream",
     "text": [
      " 84% 84/100 [00:15<00:02,  5.70it/s])\u001b[0m \n",
      " 85% 85/100 [00:15<00:02,  6.21it/s])\u001b[0m \n"
     ]
    },
    {
     "name": "stdout",
     "output_type": "stream",
     "text": [
      "\u001b[2m\u001b[36m(pid=23892, ip=192.168.8.53)\u001b[0m Cache disk full, cleaning.\n",
      "\u001b[2m\u001b[36m(pid=23892, ip=192.168.8.53)\u001b[0m Cache disk full, cleaning.\n",
      "\u001b[2m\u001b[36m(pid=23892, ip=192.168.8.53)\u001b[0m Cache disk full, cleaning.\n"
     ]
    },
    {
     "name": "stderr",
     "output_type": "stream",
     "text": [
      " 86% 86/100 [00:15<00:02,  5.21it/s])\u001b[0m \n",
      " 88% 88/100 [00:16<00:01,  6.40it/s])\u001b[0m \n"
     ]
    },
    {
     "name": "stdout",
     "output_type": "stream",
     "text": [
      "\u001b[2m\u001b[36m(pid=23892, ip=192.168.8.53)\u001b[0m Cache disk full, cleaning.\n",
      "\u001b[2m\u001b[36m(pid=23892, ip=192.168.8.53)\u001b[0m Cache disk full, cleaning.\n"
     ]
    },
    {
     "name": "stderr",
     "output_type": "stream",
     "text": [
      " 89% 89/100 [00:16<00:01,  5.73it/s])\u001b[0m \n",
      " 90% 90/100 [00:16<00:01,  6.08it/s])\u001b[0m \n"
     ]
    },
    {
     "name": "stdout",
     "output_type": "stream",
     "text": [
      "\u001b[2m\u001b[36m(pid=23892, ip=192.168.8.53)\u001b[0m Cache disk full, cleaning.\n",
      "\u001b[2m\u001b[36m(pid=23892, ip=192.168.8.53)\u001b[0m Cache disk full, cleaning.\n"
     ]
    },
    {
     "name": "stderr",
     "output_type": "stream",
     "text": [
      " 91% 91/100 [00:16<00:01,  6.89it/s])\u001b[0m \n",
      " 92% 92/100 [00:16<00:01,  7.10it/s])\u001b[0m \n"
     ]
    },
    {
     "name": "stdout",
     "output_type": "stream",
     "text": [
      "\u001b[2m\u001b[36m(pid=23892, ip=192.168.8.53)\u001b[0m Cache disk full, cleaning.\n",
      "\u001b[2m\u001b[36m(pid=23892, ip=192.168.8.53)\u001b[0m Cache disk full, cleaning.\n",
      "\u001b[2m\u001b[36m(pid=23892, ip=192.168.8.53)\u001b[0m Cache disk full, cleaning.\n"
     ]
    },
    {
     "name": "stderr",
     "output_type": "stream",
     "text": [
      " 94% 94/100 [00:16<00:00,  8.29it/s])\u001b[0m \n",
      " 96% 96/100 [00:16<00:00,  9.42it/s])\u001b[0m \n"
     ]
    },
    {
     "name": "stdout",
     "output_type": "stream",
     "text": [
      "\u001b[2m\u001b[36m(pid=23892, ip=192.168.8.53)\u001b[0m Cache disk full, cleaning.\n",
      "\u001b[2m\u001b[36m(pid=23892, ip=192.168.8.53)\u001b[0m Cache disk full, cleaning.\n",
      "\u001b[2m\u001b[36m(pid=23892, ip=192.168.8.53)\u001b[0m Cache disk full, cleaning.\n",
      "\u001b[2m\u001b[36m(pid=23892, ip=192.168.8.53)\u001b[0m Cache disk full, cleaning.\n"
     ]
    },
    {
     "name": "stderr",
     "output_type": "stream",
     "text": [
      " 98% 98/100 [00:17<00:00,  9.34it/s])\u001b[0m \n"
     ]
    },
    {
     "name": "stdout",
     "output_type": "stream",
     "text": [
      "\u001b[2m\u001b[36m(pid=23892, ip=192.168.8.53)\u001b[0m Cache disk full, cleaning.\n"
     ]
    },
    {
     "name": "stderr",
     "output_type": "stream",
     "text": [
      "100% 100/100 [00:17<00:00,  8.74it/s]\u001b[0m \n",
      "100% 100/100 [00:19<00:00,  5.01it/s]\u001b[0m \n",
      "\u001b[2m\u001b[36m(pid=23892, ip=192.168.8.53)\u001b[0m \n",
      "\u001b[2m\u001b[36m(pid=23892, ip=192.168.8.53)\u001b[0m wandb: Waiting for W&B process to finish, PID 2453\n",
      "\u001b[2m\u001b[36m(pid=23892, ip=192.168.8.53)\u001b[0m wandb: Program ended successfully.\n",
      "\u001b[2m\u001b[36m(pid=23892, ip=192.168.8.53)\u001b[0m wandb: Run summary:\n",
      "\u001b[2m\u001b[36m(pid=23892, ip=192.168.8.53)\u001b[0m wandb:               _step 115296\n",
      "\u001b[2m\u001b[36m(pid=23892, ip=192.168.8.53)\u001b[0m wandb:            _runtime 1067.9143679141998\n",
      "\u001b[2m\u001b[36m(pid=23892, ip=192.168.8.53)\u001b[0m wandb:          _timestamp 1608046947.270101\n",
      "\u001b[2m\u001b[36m(pid=23892, ip=192.168.8.53)\u001b[0m wandb:     mAP all classes 46.44742938897802\n",
      "\u001b[2m\u001b[36m(pid=23892, ip=192.168.8.53)\u001b[0m wandb: Syncing files in ../../../Trainings/wandb/wandb/run-20201215_154158-2wfg5hig:\n",
      "\u001b[2m\u001b[36m(pid=23892, ip=192.168.8.53)\u001b[0m wandb:   code/default_worker.py\n",
      "\u001b[2m\u001b[36m(pid=23892, ip=192.168.8.53)\u001b[0m wandb: plus 8 W&B file(s) and 6 media file(s)\n",
      "\u001b[2m\u001b[36m(pid=23892, ip=192.168.8.53)\u001b[0m wandb: - 0.78MB of 0.78MB uploaded\n",
      "\u001b[2m\u001b[36m(pid=23892, ip=192.168.8.53)\u001b[0m wandb: \\ 0.78MB of 0.78MB uploaded\n",
      "\u001b[2m\u001b[36m(pid=23892, ip=192.168.8.53)\u001b[0m wandb: | 0.78MB of 0.78MB uploaded\n",
      "\u001b[2m\u001b[36m(pid=23892, ip=192.168.8.53)\u001b[0m wandb: / 0.78MB of 0.78MB uploaded\n",
      "wandb:                                                                                \n",
      "\u001b[2m\u001b[36m(pid=23892, ip=192.168.8.53)\u001b[0m wandb: Synced: http://192.168.8.51:8080/reminiz/Violence%20Detection/runs/2wfg5hig\n"
     ]
    },
    {
     "name": "stdout",
     "output_type": "stream",
     "text": [
      "\u001b[2m\u001b[36m(pid=27496, ip=192.168.8.52)\u001b[0m Change to split learning\n",
      "\u001b[2m\u001b[36m(pid=27496, ip=192.168.8.52)\u001b[0m Previus weigths 1.0 0\n",
      "\u001b[2m\u001b[36m(pid=27496, ip=192.168.8.52)\u001b[0m Updated weigths 0 1.0\n"
     ]
    },
    {
     "name": "stderr",
     "output_type": "stream",
     "text": [
      "\u001b[2m\u001b[36m(pid=5659, ip=192.168.8.53)\u001b[0m /home/reminiz/ReminizML2/python_env/lib/python3.7/site-packages/tensorflow/python/framework/dtypes.py:526: FutureWarning: Passing (type, 1) or '1type' as a synonym of type is deprecated; in a future version of numpy, it will be understood as (type, (1,)) / '(1,)type'.\n",
      "\u001b[2m\u001b[36m(pid=5659, ip=192.168.8.53)\u001b[0m   _np_qint8 = np.dtype([(\"qint8\", np.int8, 1)])\n",
      "\u001b[2m\u001b[36m(pid=5659, ip=192.168.8.53)\u001b[0m /home/reminiz/ReminizML2/python_env/lib/python3.7/site-packages/tensorflow/python/framework/dtypes.py:527: FutureWarning: Passing (type, 1) or '1type' as a synonym of type is deprecated; in a future version of numpy, it will be understood as (type, (1,)) / '(1,)type'.\n",
      "\u001b[2m\u001b[36m(pid=5659, ip=192.168.8.53)\u001b[0m   _np_quint8 = np.dtype([(\"quint8\", np.uint8, 1)])\n",
      "\u001b[2m\u001b[36m(pid=5659, ip=192.168.8.53)\u001b[0m /home/reminiz/ReminizML2/python_env/lib/python3.7/site-packages/tensorflow/python/framework/dtypes.py:528: FutureWarning: Passing (type, 1) or '1type' as a synonym of type is deprecated; in a future version of numpy, it will be understood as (type, (1,)) / '(1,)type'.\n",
      "\u001b[2m\u001b[36m(pid=5659, ip=192.168.8.53)\u001b[0m   _np_qint16 = np.dtype([(\"qint16\", np.int16, 1)])\n",
      "\u001b[2m\u001b[36m(pid=5659, ip=192.168.8.53)\u001b[0m /home/reminiz/ReminizML2/python_env/lib/python3.7/site-packages/tensorflow/python/framework/dtypes.py:529: FutureWarning: Passing (type, 1) or '1type' as a synonym of type is deprecated; in a future version of numpy, it will be understood as (type, (1,)) / '(1,)type'.\n",
      "\u001b[2m\u001b[36m(pid=5659, ip=192.168.8.53)\u001b[0m   _np_quint16 = np.dtype([(\"quint16\", np.uint16, 1)])\n",
      "\u001b[2m\u001b[36m(pid=5659, ip=192.168.8.53)\u001b[0m /home/reminiz/ReminizML2/python_env/lib/python3.7/site-packages/tensorflow/python/framework/dtypes.py:530: FutureWarning: Passing (type, 1) or '1type' as a synonym of type is deprecated; in a future version of numpy, it will be understood as (type, (1,)) / '(1,)type'.\n",
      "\u001b[2m\u001b[36m(pid=5659, ip=192.168.8.53)\u001b[0m   _np_qint32 = np.dtype([(\"qint32\", np.int32, 1)])\n",
      "\u001b[2m\u001b[36m(pid=5659, ip=192.168.8.53)\u001b[0m /home/reminiz/ReminizML2/python_env/lib/python3.7/site-packages/tensorflow/python/framework/dtypes.py:535: FutureWarning: Passing (type, 1) or '1type' as a synonym of type is deprecated; in a future version of numpy, it will be understood as (type, (1,)) / '(1,)type'.\n",
      "\u001b[2m\u001b[36m(pid=5659, ip=192.168.8.53)\u001b[0m   np_resource = np.dtype([(\"resource\", np.ubyte, 1)])\n",
      "\u001b[2m\u001b[36m(pid=27496, ip=192.168.8.52)\u001b[0m \n",
      "\u001b[2m\u001b[36m(pid=27496, ip=192.168.8.52)\u001b[0m wandb: Waiting for W&B process to finish, PID 32381\n",
      "\u001b[2m\u001b[36m(pid=27496, ip=192.168.8.52)\u001b[0m wandb: Program ended successfully.\n",
      "\u001b[2m\u001b[36m(pid=6126, ip=192.168.8.55)\u001b[0m /home/reminiz/ReminizML2/python_env/lib/python3.7/site-packages/tensorflow/python/framework/dtypes.py:526: FutureWarning: Passing (type, 1) or '1type' as a synonym of type is deprecated; in a future version of numpy, it will be understood as (type, (1,)) / '(1,)type'.\n",
      "\u001b[2m\u001b[36m(pid=6126, ip=192.168.8.55)\u001b[0m   _np_qint8 = np.dtype([(\"qint8\", np.int8, 1)])\n",
      "\u001b[2m\u001b[36m(pid=6126, ip=192.168.8.55)\u001b[0m /home/reminiz/ReminizML2/python_env/lib/python3.7/site-packages/tensorflow/python/framework/dtypes.py:527: FutureWarning: Passing (type, 1) or '1type' as a synonym of type is deprecated; in a future version of numpy, it will be understood as (type, (1,)) / '(1,)type'.\n",
      "\u001b[2m\u001b[36m(pid=6126, ip=192.168.8.55)\u001b[0m   _np_quint8 = np.dtype([(\"quint8\", np.uint8, 1)])\n",
      "\u001b[2m\u001b[36m(pid=6126, ip=192.168.8.55)\u001b[0m /home/reminiz/ReminizML2/python_env/lib/python3.7/site-packages/tensorflow/python/framework/dtypes.py:528: FutureWarning: Passing (type, 1) or '1type' as a synonym of type is deprecated; in a future version of numpy, it will be understood as (type, (1,)) / '(1,)type'.\n",
      "\u001b[2m\u001b[36m(pid=6126, ip=192.168.8.55)\u001b[0m   _np_qint16 = np.dtype([(\"qint16\", np.int16, 1)])\n",
      "\u001b[2m\u001b[36m(pid=6126, ip=192.168.8.55)\u001b[0m /home/reminiz/ReminizML2/python_env/lib/python3.7/site-packages/tensorflow/python/framework/dtypes.py:529: FutureWarning: Passing (type, 1) or '1type' as a synonym of type is deprecated; in a future version of numpy, it will be understood as (type, (1,)) / '(1,)type'.\n",
      "\u001b[2m\u001b[36m(pid=6126, ip=192.168.8.55)\u001b[0m   _np_quint16 = np.dtype([(\"quint16\", np.uint16, 1)])\n",
      "\u001b[2m\u001b[36m(pid=6126, ip=192.168.8.55)\u001b[0m /home/reminiz/ReminizML2/python_env/lib/python3.7/site-packages/tensorflow/python/framework/dtypes.py:530: FutureWarning: Passing (type, 1) or '1type' as a synonym of type is deprecated; in a future version of numpy, it will be understood as (type, (1,)) / '(1,)type'.\n",
      "\u001b[2m\u001b[36m(pid=6126, ip=192.168.8.55)\u001b[0m   _np_qint32 = np.dtype([(\"qint32\", np.int32, 1)])\n",
      "\u001b[2m\u001b[36m(pid=6126, ip=192.168.8.55)\u001b[0m /home/reminiz/ReminizML2/python_env/lib/python3.7/site-packages/tensorflow/python/framework/dtypes.py:535: FutureWarning: Passing (type, 1) or '1type' as a synonym of type is deprecated; in a future version of numpy, it will be understood as (type, (1,)) / '(1,)type'.\n",
      "\u001b[2m\u001b[36m(pid=6126, ip=192.168.8.55)\u001b[0m   np_resource = np.dtype([(\"resource\", np.ubyte, 1)])\n",
      "\u001b[2m\u001b[36m(pid=6126, ip=192.168.8.55)\u001b[0m 2020-12-15 16:51:33.768799: I tensorflow/core/platform/cpu_feature_guard.cc:141] Your CPU supports instructions that this TensorFlow binary was not compiled to use: AVX2 FMA\n",
      "\u001b[2m\u001b[36m(pid=6126, ip=192.168.8.55)\u001b[0m 2020-12-15 16:51:33.796260: I tensorflow/core/platform/profile_utils/cpu_utils.cc:94] CPU Frequency: 3599935000 Hz\n",
      "\u001b[2m\u001b[36m(pid=6126, ip=192.168.8.55)\u001b[0m 2020-12-15 16:51:33.797197: I tensorflow/compiler/xla/service/service.cc:150] XLA service 0x6276be0 executing computations on platform Host. Devices:\n",
      "\u001b[2m\u001b[36m(pid=6126, ip=192.168.8.55)\u001b[0m 2020-12-15 16:51:33.797244: I tensorflow/compiler/xla/service/service.cc:158]   StreamExecutor device (0): <undefined>, <undefined>\n",
      "\u001b[2m\u001b[36m(pid=6126, ip=192.168.8.55)\u001b[0m 2020-12-15 16:51:33.900104: I tensorflow/compiler/xla/service/service.cc:150] XLA service 0x62b8a10 executing computations on platform CUDA. Devices:\n",
      "\u001b[2m\u001b[36m(pid=6126, ip=192.168.8.55)\u001b[0m 2020-12-15 16:51:33.900155: I tensorflow/compiler/xla/service/service.cc:158]   StreamExecutor device (0): GeForce GTX 1080 Ti, Compute Capability 6.1\n",
      "\u001b[2m\u001b[36m(pid=6126, ip=192.168.8.55)\u001b[0m 2020-12-15 16:51:33.900371: I tensorflow/core/common_runtime/gpu/gpu_device.cc:1433] Found device 0 with properties: \n",
      "\u001b[2m\u001b[36m(pid=6126, ip=192.168.8.55)\u001b[0m name: GeForce GTX 1080 Ti major: 6 minor: 1 memoryClockRate(GHz): 1.582\n",
      "\u001b[2m\u001b[36m(pid=6126, ip=192.168.8.55)\u001b[0m pciBusID: 0000:4b:00.0\n",
      "\u001b[2m\u001b[36m(pid=6126, ip=192.168.8.55)\u001b[0m totalMemory: 10.92GiB freeMemory: 10.77GiB\n",
      "\u001b[2m\u001b[36m(pid=6126, ip=192.168.8.55)\u001b[0m 2020-12-15 16:51:33.900401: I tensorflow/core/common_runtime/gpu/gpu_device.cc:1512] Adding visible gpu devices: 0\n",
      "\u001b[2m\u001b[36m(pid=6126, ip=192.168.8.55)\u001b[0m 2020-12-15 16:51:33.903056: I tensorflow/core/common_runtime/gpu/gpu_device.cc:984] Device interconnect StreamExecutor with strength 1 edge matrix:\n",
      "\u001b[2m\u001b[36m(pid=6126, ip=192.168.8.55)\u001b[0m 2020-12-15 16:51:33.903083: I tensorflow/core/common_runtime/gpu/gpu_device.cc:990]      0 \n",
      "\u001b[2m\u001b[36m(pid=6126, ip=192.168.8.55)\u001b[0m 2020-12-15 16:51:33.903098: I tensorflow/core/common_runtime/gpu/gpu_device.cc:1003] 0:   N \n",
      "\u001b[2m\u001b[36m(pid=6126, ip=192.168.8.55)\u001b[0m 2020-12-15 16:51:33.903227: I tensorflow/core/common_runtime/gpu/gpu_device.cc:1115] Created TensorFlow device (/job:localhost/replica:0/task:0/device:GPU:0 with 10481 MB memory) -> physical GPU (device: 0, name: GeForce GTX 1080 Ti, pci bus id: 0000:4b:00.0, compute capability: 6.1)\n",
      "\u001b[2m\u001b[36m(pid=6126, ip=192.168.8.55)\u001b[0m /home/reminiz/ReminizML2/python_env/lib/python3.7/site-packages/tensorboard/compat/tensorflow_stub/dtypes.py:541: FutureWarning: Passing (type, 1) or '1type' as a synonym of type is deprecated; in a future version of numpy, it will be understood as (type, (1,)) / '(1,)type'.\n",
      "\u001b[2m\u001b[36m(pid=6126, ip=192.168.8.55)\u001b[0m   _np_qint8 = np.dtype([(\"qint8\", np.int8, 1)])\n",
      "\u001b[2m\u001b[36m(pid=6126, ip=192.168.8.55)\u001b[0m /home/reminiz/ReminizML2/python_env/lib/python3.7/site-packages/tensorboard/compat/tensorflow_stub/dtypes.py:542: FutureWarning: Passing (type, 1) or '1type' as a synonym of type is deprecated; in a future version of numpy, it will be understood as (type, (1,)) / '(1,)type'.\n",
      "\u001b[2m\u001b[36m(pid=6126, ip=192.168.8.55)\u001b[0m   _np_quint8 = np.dtype([(\"quint8\", np.uint8, 1)])\n",
      "\u001b[2m\u001b[36m(pid=6126, ip=192.168.8.55)\u001b[0m /home/reminiz/ReminizML2/python_env/lib/python3.7/site-packages/tensorboard/compat/tensorflow_stub/dtypes.py:543: FutureWarning: Passing (type, 1) or '1type' as a synonym of type is deprecated; in a future version of numpy, it will be understood as (type, (1,)) / '(1,)type'.\n",
      "\u001b[2m\u001b[36m(pid=6126, ip=192.168.8.55)\u001b[0m   _np_qint16 = np.dtype([(\"qint16\", np.int16, 1)])\n",
      "\u001b[2m\u001b[36m(pid=6126, ip=192.168.8.55)\u001b[0m /home/reminiz/ReminizML2/python_env/lib/python3.7/site-packages/tensorboard/compat/tensorflow_stub/dtypes.py:544: FutureWarning: Passing (type, 1) or '1type' as a synonym of type is deprecated; in a future version of numpy, it will be understood as (type, (1,)) / '(1,)type'.\n",
      "\u001b[2m\u001b[36m(pid=6126, ip=192.168.8.55)\u001b[0m   _np_quint16 = np.dtype([(\"quint16\", np.uint16, 1)])\n",
      "\u001b[2m\u001b[36m(pid=6126, ip=192.168.8.55)\u001b[0m /home/reminiz/ReminizML2/python_env/lib/python3.7/site-packages/tensorboard/compat/tensorflow_stub/dtypes.py:545: FutureWarning: Passing (type, 1) or '1type' as a synonym of type is deprecated; in a future version of numpy, it will be understood as (type, (1,)) / '(1,)type'.\n",
      "\u001b[2m\u001b[36m(pid=6126, ip=192.168.8.55)\u001b[0m   _np_qint32 = np.dtype([(\"qint32\", np.int32, 1)])\n",
      "\u001b[2m\u001b[36m(pid=6126, ip=192.168.8.55)\u001b[0m /home/reminiz/ReminizML2/python_env/lib/python3.7/site-packages/tensorboard/compat/tensorflow_stub/dtypes.py:550: FutureWarning: Passing (type, 1) or '1type' as a synonym of type is deprecated; in a future version of numpy, it will be understood as (type, (1,)) / '(1,)type'.\n",
      "\u001b[2m\u001b[36m(pid=6126, ip=192.168.8.55)\u001b[0m   np_resource = np.dtype([(\"resource\", np.ubyte, 1)])\n",
      "\u001b[2m\u001b[36m(pid=6126, ip=192.168.8.55)\u001b[0m wandb: Tracking run with wandb version 0.8.36\n",
      "\u001b[2m\u001b[36m(pid=27496, ip=192.168.8.52)\u001b[0m wandb: Run summary:\n",
      "\u001b[2m\u001b[36m(pid=27496, ip=192.168.8.52)\u001b[0m wandb:                              loss 0.04657470649682606\n",
      "\u001b[2m\u001b[36m(pid=27496, ip=192.168.8.52)\u001b[0m wandb:                   Classifier_loss 0.003156235907226801\n",
      "\u001b[2m\u001b[36m(pid=27496, ip=192.168.8.52)\u001b[0m wandb:              l_pred_s_MAE_Lossnet 8.475882530212402\n",
      "\u001b[2m\u001b[36m(pid=27496, ip=192.168.8.52)\u001b[0m wandb:                     l_pred_s_loss 0.04299803450703621\n",
      "\u001b[2m\u001b[36m(pid=27496, ip=192.168.8.52)\u001b[0m wandb:                     l_pred_w_loss 0.04299803450703621\n",
      "\u001b[2m\u001b[36m(pid=27496, ip=192.168.8.52)\u001b[0m wandb:                             epoch 199\n",
      "\u001b[2m\u001b[36m(pid=27496, ip=192.168.8.52)\u001b[0m wandb:                          _runtime 1248.0589730739594\n",
      "\u001b[2m\u001b[36m(pid=27496, ip=192.168.8.52)\u001b[0m wandb:   Classifier_categorical_accuracy 0.9993333220481873\n",
      "\u001b[2m\u001b[36m(pid=27496, ip=192.168.8.52)\u001b[0m wandb:                        _timestamp 1608047490.9618418\n",
      "\u001b[2m\u001b[36m(pid=27496, ip=192.168.8.52)\u001b[0m wandb:                             _step 199\n",
      "\u001b[2m\u001b[36m(pid=27496, ip=192.168.8.52)\u001b[0m wandb:              l_pred_w_MAE_Lossnet 8.475882530212402\n",
      "\u001b[2m\u001b[36m(pid=27496, ip=192.168.8.52)\u001b[0m wandb: Syncing files in ../../../Trainings/wandb/wandb/run-20201215_153043-3kpkok0o:\n",
      "\u001b[2m\u001b[36m(pid=27496, ip=192.168.8.52)\u001b[0m wandb:   code/default_worker.py\n",
      "\u001b[2m\u001b[36m(pid=27496, ip=192.168.8.52)\u001b[0m wandb: plus 8 W&B file(s) and 1 media file(s)\n",
      "\u001b[2m\u001b[36m(pid=27496, ip=192.168.8.52)\u001b[0m wandb: - 0.06MB of 0.06MB uploaded\n",
      "\u001b[2m\u001b[36m(pid=27496, ip=192.168.8.52)\u001b[0m wandb: \\ 0.06MB of 0.06MB uploaded\n",
      "\u001b[2m\u001b[36m(pid=6126, ip=192.168.8.55)\u001b[0m wandb: Wandb version 0.10.12 is available!  To upgrade, please run:\n",
      "\u001b[2m\u001b[36m(pid=6126, ip=192.168.8.55)\u001b[0m wandb:  $ pip install wandb --upgrade\n",
      "\u001b[2m\u001b[36m(pid=6126, ip=192.168.8.55)\u001b[0m wandb: Run data is saved locally in ../../../Trainings/wandb/wandb/run-20201215_155133-336b26br\n",
      "\u001b[2m\u001b[36m(pid=6126, ip=192.168.8.55)\u001b[0m wandb: Syncing run Train_9\n",
      "\u001b[2m\u001b[36m(pid=6126, ip=192.168.8.55)\u001b[0m wandb: ⭐️ View project at http://192.168.8.51:8080/reminiz/Active_Learning_CIFAR\n",
      "\u001b[2m\u001b[36m(pid=6126, ip=192.168.8.55)\u001b[0m wandb: 🚀 View run at http://192.168.8.51:8080/reminiz/Active_Learning_CIFAR/runs/336b26br\n",
      "\u001b[2m\u001b[36m(pid=6126, ip=192.168.8.55)\u001b[0m wandb: Run `wandb off` to turn off syncing.\n",
      "\u001b[2m\u001b[36m(pid=27496, ip=192.168.8.52)\u001b[0m wandb: | 0.06MB of 0.06MB uploaded\n",
      "\u001b[2m\u001b[36m(pid=6126, ip=192.168.8.55)\u001b[0m \n",
      "\u001b[2m\u001b[36m(pid=27496, ip=192.168.8.52)\u001b[0m wandb: / 0.06MB of 0.06MB uploaded\n",
      "wandb:                                                                                \n",
      "\u001b[2m\u001b[36m(pid=27496, ip=192.168.8.52)\u001b[0m wandb: Synced Train_8: http://192.168.8.51:8080/reminiz/Active_Learning_CIFAR/runs/3kpkok0o\n",
      "\u001b[2m\u001b[36m(pid=6126, ip=192.168.8.55)\u001b[0m WARNING:tensorflow:From /home/reminiz/ReminizML2/python_env/lib/python3.7/site-packages/tensorflow/python/ops/resource_variable_ops.py:435: colocate_with (from tensorflow.python.framework.ops) is deprecated and will be removed in a future version.\n",
      "\u001b[2m\u001b[36m(pid=6126, ip=192.168.8.55)\u001b[0m Instructions for updating:\n",
      "\u001b[2m\u001b[36m(pid=6126, ip=192.168.8.55)\u001b[0m Colocations handled automatically by placer.\n"
     ]
    },
    {
     "name": "stdout",
     "output_type": "stream",
     "text": [
      "\u001b[2m\u001b[36m(pid=6126, ip=192.168.8.55)\u001b[0m \u001b[1;36mTrain_Stage_9\u001b[0;0m Loading weigths from:  /mnt/Ressources/Andres/Temp_active/runs/Active_Learning_keras_v0/Stage_8/checkpoints/checkpoint.200.hdf5\n",
      "\u001b[2m\u001b[36m(pid=6126, ip=192.168.8.55)\u001b[0m \u001b[1;36mTrain_Stage_9\u001b[0;0m The detected epoch is:  200\n"
     ]
    },
    {
     "name": "stderr",
     "output_type": "stream",
     "text": [
      "\u001b[2m\u001b[36m(pid=6126, ip=192.168.8.55)\u001b[0m WARNING:tensorflow:Output \"Embedding\" missing from loss dictionary. We assume this was done on purpose. The fit and evaluate APIs will not be expecting any data to be passed to \"Embedding\".\n",
      "\u001b[2m\u001b[36m(pid=6126, ip=192.168.8.55)\u001b[0m WARNING:tensorflow:Output \"Embedding\" missing from loss dictionary. We assume this was done on purpose. The fit and evaluate APIs will not be expecting any data to be passed to \"Embedding\".\n",
      "\u001b[2m\u001b[36m(pid=6126, ip=192.168.8.55)\u001b[0m 2020-12-15 16:51:39,625\tINFO worker.py:634 -- Connecting to existing Ray cluster at address: 192.168.8.51:6379\n",
      "\u001b[2m\u001b[36m(pid=6126, ip=192.168.8.55)\u001b[0m 2020-12-15 16:51:39,625\tERROR worker.py:643 -- Calling ray.init() again after it has already been called.\n",
      "\u001b[2m\u001b[36m(pid=6126, ip=192.168.8.55)\u001b[0m WARNING:tensorflow:From /home/reminiz/ReminizML2/python_env/lib/python3.7/site-packages/tensorflow/python/ops/math_ops.py:3066: to_int32 (from tensorflow.python.ops.math_ops) is deprecated and will be removed in a future version.\n",
      "\u001b[2m\u001b[36m(pid=6126, ip=192.168.8.55)\u001b[0m Instructions for updating:\n",
      "\u001b[2m\u001b[36m(pid=6126, ip=192.168.8.55)\u001b[0m Use tf.cast instead.\n"
     ]
    },
    {
     "name": "stdout",
     "output_type": "stream",
     "text": [
      "\u001b[2m\u001b[36m(pid=6126, ip=192.168.8.55)\u001b[0m \u001b[1;36mTrain_Stage_9\u001b[0;0m Init done\n",
      "\u001b[2m\u001b[36m(pid=6126, ip=192.168.8.55)\u001b[0m \u001b[1;36mTrain_Stage_9\u001b[0;0m Start training\n"
     ]
    },
    {
     "name": "stderr",
     "output_type": "stream",
     "text": [
      "\u001b[2m\u001b[36m(pid=6126, ip=192.168.8.55)\u001b[0m 2020-12-15 16:51:49.575522: I tensorflow/stream_executor/dso_loader.cc:152] successfully opened CUDA library libcublas.so.10.0 locally\n",
      "\u001b[2m\u001b[36m(pid=542, ip=192.168.8.52)\u001b[0m /home/reminiz/ReminizML2/python_env/lib/python3.7/site-packages/tensorflow/python/framework/dtypes.py:526: FutureWarning: Passing (type, 1) or '1type' as a synonym of type is deprecated; in a future version of numpy, it will be understood as (type, (1,)) / '(1,)type'.\n",
      "\u001b[2m\u001b[36m(pid=542, ip=192.168.8.52)\u001b[0m   _np_qint8 = np.dtype([(\"qint8\", np.int8, 1)])\n",
      "\u001b[2m\u001b[36m(pid=542, ip=192.168.8.52)\u001b[0m /home/reminiz/ReminizML2/python_env/lib/python3.7/site-packages/tensorflow/python/framework/dtypes.py:527: FutureWarning: Passing (type, 1) or '1type' as a synonym of type is deprecated; in a future version of numpy, it will be understood as (type, (1,)) / '(1,)type'.\n",
      "\u001b[2m\u001b[36m(pid=542, ip=192.168.8.52)\u001b[0m   _np_quint8 = np.dtype([(\"quint8\", np.uint8, 1)])\n",
      "\u001b[2m\u001b[36m(pid=542, ip=192.168.8.52)\u001b[0m /home/reminiz/ReminizML2/python_env/lib/python3.7/site-packages/tensorflow/python/framework/dtypes.py:528: FutureWarning: Passing (type, 1) or '1type' as a synonym of type is deprecated; in a future version of numpy, it will be understood as (type, (1,)) / '(1,)type'.\n",
      "\u001b[2m\u001b[36m(pid=542, ip=192.168.8.52)\u001b[0m   _np_qint16 = np.dtype([(\"qint16\", np.int16, 1)])\n",
      "\u001b[2m\u001b[36m(pid=542, ip=192.168.8.52)\u001b[0m /home/reminiz/ReminizML2/python_env/lib/python3.7/site-packages/tensorflow/python/framework/dtypes.py:529: FutureWarning: Passing (type, 1) or '1type' as a synonym of type is deprecated; in a future version of numpy, it will be understood as (type, (1,)) / '(1,)type'.\n",
      "\u001b[2m\u001b[36m(pid=542, ip=192.168.8.52)\u001b[0m   _np_quint16 = np.dtype([(\"quint16\", np.uint16, 1)])\n",
      "\u001b[2m\u001b[36m(pid=542, ip=192.168.8.52)\u001b[0m /home/reminiz/ReminizML2/python_env/lib/python3.7/site-packages/tensorflow/python/framework/dtypes.py:530: FutureWarning: Passing (type, 1) or '1type' as a synonym of type is deprecated; in a future version of numpy, it will be understood as (type, (1,)) / '(1,)type'.\n",
      "\u001b[2m\u001b[36m(pid=542, ip=192.168.8.52)\u001b[0m   _np_qint32 = np.dtype([(\"qint32\", np.int32, 1)])\n",
      "\u001b[2m\u001b[36m(pid=542, ip=192.168.8.52)\u001b[0m /home/reminiz/ReminizML2/python_env/lib/python3.7/site-packages/tensorflow/python/framework/dtypes.py:535: FutureWarning: Passing (type, 1) or '1type' as a synonym of type is deprecated; in a future version of numpy, it will be understood as (type, (1,)) / '(1,)type'.\n",
      "\u001b[2m\u001b[36m(pid=542, ip=192.168.8.52)\u001b[0m   np_resource = np.dtype([(\"resource\", np.ubyte, 1)])\n"
     ]
    },
    {
     "name": "stdout",
     "output_type": "stream",
     "text": [
      "\u001b[2m\u001b[36m(pid=6126, ip=192.168.8.55)\u001b[0m Change to split learning\n",
      "\u001b[2m\u001b[36m(pid=6126, ip=192.168.8.55)\u001b[0m Previus weigths 1.0 0\n",
      "\u001b[2m\u001b[36m(pid=6126, ip=192.168.8.55)\u001b[0m Updated weigths 0 1.0\n",
      "\u001b[2m\u001b[36m(pid=12774, ip=192.168.8.52)\u001b[0m Epoch: 49 Time: 2020-12-15 17:11:59 Train loss: 1.37 Count NaN: 0 Saving\n"
     ]
    },
    {
     "name": "stderr",
     "output_type": "stream",
     "text": [
      "\u001b[2m\u001b[36m(pid=19683, ip=192.168.8.53)\u001b[0m /home/reminiz/ReminizML2/python_env/lib/python3.7/site-packages/tensorflow/python/framework/dtypes.py:526: FutureWarning: Passing (type, 1) or '1type' as a synonym of type is deprecated; in a future version of numpy, it will be understood as (type, (1,)) / '(1,)type'.\n",
      "\u001b[2m\u001b[36m(pid=19683, ip=192.168.8.53)\u001b[0m   _np_qint8 = np.dtype([(\"qint8\", np.int8, 1)])\n",
      "\u001b[2m\u001b[36m(pid=19683, ip=192.168.8.53)\u001b[0m /home/reminiz/ReminizML2/python_env/lib/python3.7/site-packages/tensorflow/python/framework/dtypes.py:527: FutureWarning: Passing (type, 1) or '1type' as a synonym of type is deprecated; in a future version of numpy, it will be understood as (type, (1,)) / '(1,)type'.\n",
      "\u001b[2m\u001b[36m(pid=19683, ip=192.168.8.53)\u001b[0m   _np_quint8 = np.dtype([(\"quint8\", np.uint8, 1)])\n",
      "\u001b[2m\u001b[36m(pid=19683, ip=192.168.8.53)\u001b[0m /home/reminiz/ReminizML2/python_env/lib/python3.7/site-packages/tensorflow/python/framework/dtypes.py:528: FutureWarning: Passing (type, 1) or '1type' as a synonym of type is deprecated; in a future version of numpy, it will be understood as (type, (1,)) / '(1,)type'.\n",
      "\u001b[2m\u001b[36m(pid=19683, ip=192.168.8.53)\u001b[0m   _np_qint16 = np.dtype([(\"qint16\", np.int16, 1)])\n",
      "\u001b[2m\u001b[36m(pid=19683, ip=192.168.8.53)\u001b[0m /home/reminiz/ReminizML2/python_env/lib/python3.7/site-packages/tensorflow/python/framework/dtypes.py:529: FutureWarning: Passing (type, 1) or '1type' as a synonym of type is deprecated; in a future version of numpy, it will be understood as (type, (1,)) / '(1,)type'.\n",
      "\u001b[2m\u001b[36m(pid=19683, ip=192.168.8.53)\u001b[0m   _np_quint16 = np.dtype([(\"quint16\", np.uint16, 1)])\n",
      "\u001b[2m\u001b[36m(pid=19683, ip=192.168.8.53)\u001b[0m /home/reminiz/ReminizML2/python_env/lib/python3.7/site-packages/tensorflow/python/framework/dtypes.py:530: FutureWarning: Passing (type, 1) or '1type' as a synonym of type is deprecated; in a future version of numpy, it will be understood as (type, (1,)) / '(1,)type'.\n",
      "\u001b[2m\u001b[36m(pid=19683, ip=192.168.8.53)\u001b[0m   _np_qint32 = np.dtype([(\"qint32\", np.int32, 1)])\n",
      "\u001b[2m\u001b[36m(pid=19683, ip=192.168.8.53)\u001b[0m /home/reminiz/ReminizML2/python_env/lib/python3.7/site-packages/tensorflow/python/framework/dtypes.py:535: FutureWarning: Passing (type, 1) or '1type' as a synonym of type is deprecated; in a future version of numpy, it will be understood as (type, (1,)) / '(1,)type'.\n",
      "\u001b[2m\u001b[36m(pid=19683, ip=192.168.8.53)\u001b[0m   np_resource = np.dtype([(\"resource\", np.ubyte, 1)])\n",
      "\u001b[2m\u001b[36m(pid=19683, ip=192.168.8.53)\u001b[0m wandb: Tracking run with wandb version 0.8.36\n",
      "\u001b[2m\u001b[36m(pid=19683, ip=192.168.8.53)\u001b[0m wandb: Wandb version 0.10.12 is available!  To upgrade, please run:\n",
      "\u001b[2m\u001b[36m(pid=19683, ip=192.168.8.53)\u001b[0m wandb:  $ pip install wandb --upgrade\n",
      "\u001b[2m\u001b[36m(pid=19683, ip=192.168.8.53)\u001b[0m wandb: Run data is saved locally in ../../../Trainings/wandb/wandb/run-20201215_161218-2wfg5hig\n",
      "\u001b[2m\u001b[36m(pid=19683, ip=192.168.8.53)\u001b[0m wandb: Syncing run 2wfg5hig\n",
      "\u001b[2m\u001b[36m(pid=19683, ip=192.168.8.53)\u001b[0m wandb: ⭐️ View project at http://192.168.8.51:8080/reminiz/Violence%20Detection\n",
      "\u001b[2m\u001b[36m(pid=19683, ip=192.168.8.53)\u001b[0m wandb: 🚀 View run at http://192.168.8.51:8080/reminiz/Violence%20Detection/runs/2wfg5hig\n",
      "\u001b[2m\u001b[36m(pid=19683, ip=192.168.8.53)\u001b[0m wandb: Run `wandb off` to turn off syncing.\n",
      "\u001b[2m\u001b[36m(pid=19683, ip=192.168.8.53)\u001b[0m \n",
      "\u001b[2m\u001b[36m(pid=19683, ip=192.168.8.53)\u001b[0m WARNING:tensorflow:From /home/reminiz/ReminizML2/python_env/lib/python3.7/site-packages/tensorflow/python/framework/op_def_library.py:263: colocate_with (from tensorflow.python.framework.ops) is deprecated and will be removed in a future version.\n",
      "\u001b[2m\u001b[36m(pid=19683, ip=192.168.8.53)\u001b[0m Instructions for updating:\n",
      "\u001b[2m\u001b[36m(pid=19683, ip=192.168.8.53)\u001b[0m Colocations handled automatically by placer.\n",
      "\u001b[2m\u001b[36m(pid=19683, ip=192.168.8.53)\u001b[0m WARNING:tensorflow:From /mnt/Ressources/Quentin/Detection/core/common.py:25: batch_normalization (from tensorflow.python.layers.normalization) is deprecated and will be removed in a future version.\n",
      "\u001b[2m\u001b[36m(pid=19683, ip=192.168.8.53)\u001b[0m Instructions for updating:\n",
      "\u001b[2m\u001b[36m(pid=19683, ip=192.168.8.53)\u001b[0m Use keras.layers.batch_normalization instead.\n"
     ]
    },
    {
     "name": "stdout",
     "output_type": "stream",
     "text": [
      "\u001b[2m\u001b[36m(pid=19683, ip=192.168.8.53)\u001b[0m {0: 'FIREARMS', 1: 'COLDARMS'}\n"
     ]
    },
    {
     "name": "stderr",
     "output_type": "stream",
     "text": [
      "\u001b[2m\u001b[36m(pid=19683, ip=192.168.8.53)\u001b[0m 2020-12-15 17:12:22.204508: I tensorflow/core/platform/cpu_feature_guard.cc:141] Your CPU supports instructions that this TensorFlow binary was not compiled to use: AVX2 FMA\n",
      "\u001b[2m\u001b[36m(pid=19683, ip=192.168.8.53)\u001b[0m 2020-12-15 17:12:22.229166: I tensorflow/core/platform/profile_utils/cpu_utils.cc:94] CPU Frequency: 3499950000 Hz\n",
      "\u001b[2m\u001b[36m(pid=19683, ip=192.168.8.53)\u001b[0m 2020-12-15 17:12:22.229787: I tensorflow/compiler/xla/service/service.cc:150] XLA service 0x56063793a2b0 executing computations on platform Host. Devices:\n",
      "\u001b[2m\u001b[36m(pid=19683, ip=192.168.8.53)\u001b[0m 2020-12-15 17:12:22.229828: I tensorflow/compiler/xla/service/service.cc:158]   StreamExecutor device (0): <undefined>, <undefined>\n",
      "\u001b[2m\u001b[36m(pid=19683, ip=192.168.8.53)\u001b[0m 2020-12-15 17:12:22.361233: I tensorflow/compiler/xla/service/service.cc:150] XLA service 0x560633ee3a40 executing computations on platform CUDA. Devices:\n",
      "\u001b[2m\u001b[36m(pid=19683, ip=192.168.8.53)\u001b[0m 2020-12-15 17:12:22.361267: I tensorflow/compiler/xla/service/service.cc:158]   StreamExecutor device (0): GeForce GTX TITAN X, Compute Capability 5.2\n",
      "\u001b[2m\u001b[36m(pid=19683, ip=192.168.8.53)\u001b[0m 2020-12-15 17:12:22.361404: I tensorflow/core/common_runtime/gpu/gpu_device.cc:1433] Found device 0 with properties: \n",
      "\u001b[2m\u001b[36m(pid=19683, ip=192.168.8.53)\u001b[0m name: GeForce GTX TITAN X major: 5 minor: 2 memoryClockRate(GHz): 1.076\n",
      "\u001b[2m\u001b[36m(pid=19683, ip=192.168.8.53)\u001b[0m pciBusID: 0000:02:00.0\n",
      "\u001b[2m\u001b[36m(pid=19683, ip=192.168.8.53)\u001b[0m totalMemory: 11.93GiB freeMemory: 11.82GiB\n",
      "\u001b[2m\u001b[36m(pid=19683, ip=192.168.8.53)\u001b[0m 2020-12-15 17:12:22.361424: I tensorflow/core/common_runtime/gpu/gpu_device.cc:1512] Adding visible gpu devices: 0\n",
      "\u001b[2m\u001b[36m(pid=19683, ip=192.168.8.53)\u001b[0m 2020-12-15 17:12:22.363389: I tensorflow/core/common_runtime/gpu/gpu_device.cc:984] Device interconnect StreamExecutor with strength 1 edge matrix:\n",
      "\u001b[2m\u001b[36m(pid=19683, ip=192.168.8.53)\u001b[0m 2020-12-15 17:12:22.363410: I tensorflow/core/common_runtime/gpu/gpu_device.cc:990]      0 \n",
      "\u001b[2m\u001b[36m(pid=19683, ip=192.168.8.53)\u001b[0m 2020-12-15 17:12:22.363419: I tensorflow/core/common_runtime/gpu/gpu_device.cc:1003] 0:   N \n",
      "\u001b[2m\u001b[36m(pid=19683, ip=192.168.8.53)\u001b[0m 2020-12-15 17:12:22.363510: I tensorflow/core/common_runtime/gpu/gpu_device.cc:1115] Created TensorFlow device (/job:localhost/replica:0/task:0/device:GPU:0 with 11496 MB memory) -> physical GPU (device: 0, name: GeForce GTX TITAN X, pci bus id: 0000:02:00.0, compute capability: 5.2)\n",
      "\u001b[2m\u001b[36m(pid=19683, ip=192.168.8.53)\u001b[0m WARNING:tensorflow:From /home/reminiz/ReminizML2/python_env/lib/python3.7/site-packages/tensorflow/python/training/saver.py:1266: checkpoint_exists (from tensorflow.python.training.checkpoint_management) is deprecated and will be removed in a future version.\n",
      "\u001b[2m\u001b[36m(pid=19683, ip=192.168.8.53)\u001b[0m Instructions for updating:\n",
      "\u001b[2m\u001b[36m(pid=19683, ip=192.168.8.53)\u001b[0m Use standard file APIs to check for files with this prefix.\n"
     ]
    },
    {
     "name": "stdout",
     "output_type": "stream",
     "text": [
      "\u001b[2m\u001b[36m(pid=19683, ip=192.168.8.53)\u001b[0m Restoring from /mnt/Trainings/models/violence_detection_weapons_0/checkpoint/epoch49.ckpt-49\n"
     ]
    },
    {
     "name": "stderr",
     "output_type": "stream",
     "text": [
      "  0% 0/100 [00:00<?, ?it/s]E1215 17:12:26.737702 19683 19692 task_manager.cc:323] Task failed: IOError: cancelling all pending tasks of dead actor: Type=ACTOR_TASK, Language=PYTHON, Resources: {}, function_descriptor={type=PythonFunctionDescriptor, module_name=AutoML.datanode, class_name=DataNode, function_name=get_image, function_hash=}, task_id=01c8643ce1f49a7c02fe305401000000, task_name=DataNode.get_image(), job_id=01000000, num_args=6, num_returns=2, actor_task_spec={actor_id=02fe305401000000, actor_caller_id=ffffffffffffffff7497a7730c000000, actor_counter=0}\n"
     ]
    },
    {
     "name": "stdout",
     "output_type": "stream",
     "text": [
      "\u001b[2m\u001b[36m(pid=19683, ip=192.168.8.53)\u001b[0m Cache disk full, cleaning.\n"
     ]
    },
    {
     "name": "stderr",
     "output_type": "stream",
     "text": [
      "  1% 1/100 [00:02<03:27,  2.09s/it]3)\u001b[0m \n"
     ]
    },
    {
     "name": "stdout",
     "output_type": "stream",
     "text": [
      "\u001b[2m\u001b[36m(pid=19683, ip=192.168.8.53)\u001b[0m Cache disk full, cleaning.\n",
      "\u001b[2m\u001b[36m(pid=19683, ip=192.168.8.53)\u001b[0m Cache disk full, cleaning.\n"
     ]
    },
    {
     "name": "stderr",
     "output_type": "stream",
     "text": [
      "  3% 3/100 [00:02<02:25,  1.50s/it]3)\u001b[0m \n"
     ]
    },
    {
     "name": "stdout",
     "output_type": "stream",
     "text": [
      "\u001b[2m\u001b[36m(pid=19683, ip=192.168.8.53)\u001b[0m Cache disk full, cleaning.\n",
      "\u001b[2m\u001b[36m(pid=19683, ip=192.168.8.53)\u001b[0m Cache disk full, cleaning.\n"
     ]
    },
    {
     "name": "stderr",
     "output_type": "stream",
     "text": [
      "  4% 4/100 [00:02<01:57,  1.23s/it]3)\u001b[0m \n",
      "  5% 5/100 [00:03<01:24,  1.12it/s]3)\u001b[0m \n"
     ]
    },
    {
     "name": "stdout",
     "output_type": "stream",
     "text": [
      "\u001b[2m\u001b[36m(pid=19683, ip=192.168.8.53)\u001b[0m Cache disk full, cleaning.\n",
      "\u001b[2m\u001b[36m(pid=19683, ip=192.168.8.53)\u001b[0m Cache disk full, cleaning.\n"
     ]
    },
    {
     "name": "stderr",
     "output_type": "stream",
     "text": [
      "  6% 6/100 [00:03<01:03,  1.48it/s]3)\u001b[0m \n"
     ]
    },
    {
     "name": "stdout",
     "output_type": "stream",
     "text": [
      "\u001b[2m\u001b[36m(pid=19683, ip=192.168.8.53)\u001b[0m Cache disk full, cleaning.\n",
      "\u001b[2m\u001b[36m(pid=19683, ip=192.168.8.53)\u001b[0m Cache disk full, cleaning.\n",
      "\u001b[2m\u001b[36m(pid=19683, ip=192.168.8.53)\u001b[0m Cache disk full, cleaning.\n"
     ]
    },
    {
     "name": "stderr",
     "output_type": "stream",
     "text": [
      "  8% 8/100 [00:04<00:55,  1.66it/s]3)\u001b[0m \n",
      "  9% 9/100 [00:04<00:41,  2.19it/s]3)\u001b[0m \n"
     ]
    },
    {
     "name": "stdout",
     "output_type": "stream",
     "text": [
      "\u001b[2m\u001b[36m(pid=19683, ip=192.168.8.53)\u001b[0m Cache disk full, cleaning.\n",
      "\u001b[2m\u001b[36m(pid=19683, ip=192.168.8.53)\u001b[0m Cache disk full, cleaning.\n"
     ]
    },
    {
     "name": "stderr",
     "output_type": "stream",
     "text": [
      " 11% 11/100 [00:04<00:31,  2.82it/s])\u001b[0m \n",
      " 12% 12/100 [00:04<00:25,  3.44it/s])\u001b[0m \n"
     ]
    },
    {
     "name": "stdout",
     "output_type": "stream",
     "text": [
      "\u001b[2m\u001b[36m(pid=19683, ip=192.168.8.53)\u001b[0m Cache disk full, cleaning.\n",
      "\u001b[2m\u001b[36m(pid=19683, ip=192.168.8.53)\u001b[0m Cache disk full, cleaning.\n"
     ]
    },
    {
     "name": "stderr",
     "output_type": "stream",
     "text": [
      " 13% 13/100 [00:04<00:21,  3.99it/s])\u001b[0m \n",
      " 14% 14/100 [00:04<00:19,  4.50it/s])\u001b[0m \n"
     ]
    },
    {
     "name": "stdout",
     "output_type": "stream",
     "text": [
      "\u001b[2m\u001b[36m(pid=19683, ip=192.168.8.53)\u001b[0m Cache disk full, cleaning.\n",
      "\u001b[2m\u001b[36m(pid=19683, ip=192.168.8.53)\u001b[0m Cache disk full, cleaning.\n"
     ]
    },
    {
     "name": "stderr",
     "output_type": "stream",
     "text": [
      " 16% 16/100 [00:05<00:15,  5.51it/s])\u001b[0m \n",
      " 17% 17/100 [00:05<00:14,  5.84it/s])\u001b[0m \n"
     ]
    },
    {
     "name": "stdout",
     "output_type": "stream",
     "text": [
      "\u001b[2m\u001b[36m(pid=19683, ip=192.168.8.53)\u001b[0m Cache disk full, cleaning.\n",
      "\u001b[2m\u001b[36m(pid=19683, ip=192.168.8.53)\u001b[0m Cache disk full, cleaning.\n"
     ]
    },
    {
     "name": "stderr",
     "output_type": "stream",
     "text": [
      " 18% 18/100 [00:05<00:12,  6.33it/s])\u001b[0m \n",
      " 19% 19/100 [00:05<00:11,  6.91it/s])\u001b[0m \n"
     ]
    },
    {
     "name": "stdout",
     "output_type": "stream",
     "text": [
      "\u001b[2m\u001b[36m(pid=19683, ip=192.168.8.53)\u001b[0m Cache disk full, cleaning.\n",
      "\u001b[2m\u001b[36m(pid=19683, ip=192.168.8.53)\u001b[0m Cache disk full, cleaning.\n"
     ]
    },
    {
     "name": "stderr",
     "output_type": "stream",
     "text": [
      " 20% 20/100 [00:05<00:12,  6.61it/s])\u001b[0m \n",
      " 21% 21/100 [00:05<00:11,  7.01it/s])\u001b[0m \n"
     ]
    },
    {
     "name": "stdout",
     "output_type": "stream",
     "text": [
      "\u001b[2m\u001b[36m(pid=19683, ip=192.168.8.53)\u001b[0m Cache disk full, cleaning.\n",
      "\u001b[2m\u001b[36m(pid=19683, ip=192.168.8.53)\u001b[0m Cache disk full, cleaning.\n"
     ]
    },
    {
     "name": "stderr",
     "output_type": "stream",
     "text": [
      " 22% 22/100 [00:05<00:10,  7.25it/s])\u001b[0m \n",
      " 23% 23/100 [00:05<00:09,  7.84it/s])\u001b[0m \n"
     ]
    },
    {
     "name": "stdout",
     "output_type": "stream",
     "text": [
      "\u001b[2m\u001b[36m(pid=19683, ip=192.168.8.53)\u001b[0m Cache disk full, cleaning.\n",
      "\u001b[2m\u001b[36m(pid=19683, ip=192.168.8.53)\u001b[0m Cache disk full, cleaning.\n",
      "\u001b[2m\u001b[36m(pid=19683, ip=192.168.8.53)\u001b[0m Cache disk full, cleaning.\n"
     ]
    },
    {
     "name": "stderr",
     "output_type": "stream",
     "text": [
      " 25% 25/100 [00:06<00:09,  8.19it/s])\u001b[0m \n"
     ]
    },
    {
     "name": "stdout",
     "output_type": "stream",
     "text": [
      "\u001b[2m\u001b[36m(pid=19683, ip=192.168.8.53)\u001b[0m Cache disk full, cleaning.\n",
      "\u001b[2m\u001b[36m(pid=19683, ip=192.168.8.53)\u001b[0m Cache disk full, cleaning.\n"
     ]
    },
    {
     "name": "stderr",
     "output_type": "stream",
     "text": [
      " 26% 26/100 [00:06<00:11,  6.67it/s])\u001b[0m \n",
      " 28% 28/100 [00:06<00:09,  7.59it/s])\u001b[0m \n"
     ]
    },
    {
     "name": "stdout",
     "output_type": "stream",
     "text": [
      "\u001b[2m\u001b[36m(pid=19683, ip=192.168.8.53)\u001b[0m Cache disk full, cleaning.\n",
      "\u001b[2m\u001b[36m(pid=19683, ip=192.168.8.53)\u001b[0m Cache disk full, cleaning.\n",
      "\u001b[2m\u001b[36m(pid=19683, ip=192.168.8.53)\u001b[0m Cache disk full, cleaning.\n"
     ]
    },
    {
     "name": "stderr",
     "output_type": "stream",
     "text": [
      " 30% 30/100 [00:06<00:08,  8.51it/s])\u001b[0m \n"
     ]
    },
    {
     "name": "stdout",
     "output_type": "stream",
     "text": [
      "\u001b[2m\u001b[36m(pid=19683, ip=192.168.8.53)\u001b[0m Cache disk full, cleaning.\n",
      "\u001b[2m\u001b[36m(pid=19683, ip=192.168.8.53)\u001b[0m Cache disk full, cleaning.\n"
     ]
    },
    {
     "name": "stderr",
     "output_type": "stream",
     "text": [
      " 32% 32/100 [00:06<00:08,  8.26it/s])\u001b[0m \n",
      " 33% 33/100 [00:07<00:08,  8.28it/s])\u001b[0m \n"
     ]
    },
    {
     "name": "stdout",
     "output_type": "stream",
     "text": [
      "\u001b[2m\u001b[36m(pid=19683, ip=192.168.8.53)\u001b[0m Cache disk full, cleaning.\n",
      "\u001b[2m\u001b[36m(pid=19683, ip=192.168.8.53)\u001b[0m Cache disk full, cleaning.\n",
      "\u001b[2m\u001b[36m(pid=19683, ip=192.168.8.53)\u001b[0m Cache disk full, cleaning.\n",
      "\u001b[2m\u001b[36m(pid=19683, ip=192.168.8.53)\u001b[0m Cache disk full, cleaning.\n"
     ]
    },
    {
     "name": "stderr",
     "output_type": "stream",
     "text": [
      " 35% 35/100 [00:07<00:08,  7.34it/s])\u001b[0m \n"
     ]
    },
    {
     "name": "stdout",
     "output_type": "stream",
     "text": [
      "\u001b[2m\u001b[36m(pid=19683, ip=192.168.8.53)\u001b[0m Cache disk full, cleaning.\n"
     ]
    },
    {
     "name": "stderr",
     "output_type": "stream",
     "text": [
      " 37% 37/100 [00:07<00:08,  7.65it/s])\u001b[0m \n"
     ]
    },
    {
     "name": "stdout",
     "output_type": "stream",
     "text": [
      "\u001b[2m\u001b[36m(pid=19683, ip=192.168.8.53)\u001b[0m Cache disk full, cleaning.\n",
      "\u001b[2m\u001b[36m(pid=19683, ip=192.168.8.53)\u001b[0m Cache disk full, cleaning.\n"
     ]
    },
    {
     "name": "stderr",
     "output_type": "stream",
     "text": [
      " 38% 38/100 [00:07<00:09,  6.71it/s])\u001b[0m \n",
      " 39% 39/100 [00:07<00:08,  7.21it/s])\u001b[0m \n",
      " 40% 40/100 [00:08<00:08,  7.18it/s])\u001b[0m \n",
      " 41% 41/100 [00:08<00:07,  7.39it/s])\u001b[0m \n"
     ]
    },
    {
     "name": "stdout",
     "output_type": "stream",
     "text": [
      "\u001b[2m\u001b[36m(pid=19683, ip=192.168.8.53)\u001b[0m Cache disk full, cleaning.\n",
      "\u001b[2m\u001b[36m(pid=19683, ip=192.168.8.53)\u001b[0m Cache disk full, cleaning.\n",
      "\u001b[2m\u001b[36m(pid=19683, ip=192.168.8.53)\u001b[0m Cache disk full, cleaning.\n",
      "\u001b[2m\u001b[36m(pid=19683, ip=192.168.8.53)\u001b[0m Cache disk full, cleaning.\n"
     ]
    },
    {
     "name": "stderr",
     "output_type": "stream",
     "text": [
      " 42% 42/100 [00:08<00:18,  3.16it/s])\u001b[0m \n",
      " 43% 43/100 [00:09<00:15,  3.76it/s])\u001b[0m \n"
     ]
    },
    {
     "name": "stdout",
     "output_type": "stream",
     "text": [
      "\u001b[2m\u001b[36m(pid=19683, ip=192.168.8.53)\u001b[0m Cache disk full, cleaning.\n",
      "\u001b[2m\u001b[36m(pid=19683, ip=192.168.8.53)\u001b[0m Cache disk full, cleaning.\n"
     ]
    },
    {
     "name": "stderr",
     "output_type": "stream",
     "text": [
      " 44% 44/100 [00:09<00:14,  3.82it/s])\u001b[0m \n",
      " 45% 45/100 [00:09<00:12,  4.52it/s])\u001b[0m \n"
     ]
    },
    {
     "name": "stdout",
     "output_type": "stream",
     "text": [
      "\u001b[2m\u001b[36m(pid=19683, ip=192.168.8.53)\u001b[0m Cache disk full, cleaning.\n",
      "\u001b[2m\u001b[36m(pid=19683, ip=192.168.8.53)\u001b[0m Cache disk full, cleaning.\n",
      "\u001b[2m\u001b[36m(pid=19683, ip=192.168.8.53)\u001b[0m Cache disk full, cleaning.\n"
     ]
    },
    {
     "name": "stderr",
     "output_type": "stream",
     "text": [
      " 46% 46/100 [00:09<00:16,  3.36it/s])\u001b[0m \n",
      " 48% 48/100 [00:10<00:12,  4.26it/s])\u001b[0m \n"
     ]
    },
    {
     "name": "stdout",
     "output_type": "stream",
     "text": [
      "\u001b[2m\u001b[36m(pid=19683, ip=192.168.8.53)\u001b[0m Cache disk full, cleaning.\n"
     ]
    },
    {
     "name": "stderr",
     "output_type": "stream",
     "text": [
      " 49% 49/100 [00:10<00:10,  4.95it/s])\u001b[0m \n"
     ]
    },
    {
     "name": "stdout",
     "output_type": "stream",
     "text": [
      "\u001b[2m\u001b[36m(pid=19683, ip=192.168.8.53)\u001b[0m Cache disk full, cleaning.\n",
      "\u001b[2m\u001b[36m(pid=19683, ip=192.168.8.53)\u001b[0m Cache disk full, cleaning.\n"
     ]
    },
    {
     "name": "stderr",
     "output_type": "stream",
     "text": [
      " 50% 50/100 [00:10<00:09,  5.03it/s])\u001b[0m \n"
     ]
    },
    {
     "name": "stdout",
     "output_type": "stream",
     "text": [
      "\u001b[2m\u001b[36m(pid=19683, ip=192.168.8.53)\u001b[0m Cache disk full, cleaning.\n",
      "\u001b[2m\u001b[36m(pid=19683, ip=192.168.8.53)\u001b[0m Cache disk full, cleaning.\n"
     ]
    },
    {
     "name": "stderr",
     "output_type": "stream",
     "text": [
      " 52% 52/100 [00:11<00:12,  3.84it/s])\u001b[0m \n"
     ]
    },
    {
     "name": "stdout",
     "output_type": "stream",
     "text": [
      "\u001b[2m\u001b[36m(pid=19683, ip=192.168.8.53)\u001b[0m Cache disk full, cleaning.\n",
      "\u001b[2m\u001b[36m(pid=19683, ip=192.168.8.53)\u001b[0m Cache disk full, cleaning.\n"
     ]
    },
    {
     "name": "stderr",
     "output_type": "stream",
     "text": [
      " 54% 54/100 [00:11<00:11,  4.01it/s])\u001b[0m \n",
      " 55% 55/100 [00:11<00:09,  4.76it/s])\u001b[0m \n"
     ]
    },
    {
     "name": "stdout",
     "output_type": "stream",
     "text": [
      "\u001b[2m\u001b[36m(pid=19683, ip=192.168.8.53)\u001b[0m Cache disk full, cleaning.\n",
      "\u001b[2m\u001b[36m(pid=19683, ip=192.168.8.53)\u001b[0m Cache disk full, cleaning.\n"
     ]
    },
    {
     "name": "stderr",
     "output_type": "stream",
     "text": [
      " 56% 56/100 [00:11<00:08,  5.37it/s])\u001b[0m \n",
      " 57% 57/100 [00:12<00:10,  3.99it/s])\u001b[0m \n",
      " 58% 58/100 [00:12<00:09,  4.41it/s])\u001b[0m \n"
     ]
    },
    {
     "name": "stdout",
     "output_type": "stream",
     "text": [
      "\u001b[2m\u001b[36m(pid=19683, ip=192.168.8.53)\u001b[0m Cache disk full, cleaning.\n",
      "\u001b[2m\u001b[36m(pid=19683, ip=192.168.8.53)\u001b[0m Cache disk full, cleaning.\n",
      "\u001b[2m\u001b[36m(pid=19683, ip=192.168.8.53)\u001b[0m Cache disk full, cleaning.\n"
     ]
    },
    {
     "name": "stderr",
     "output_type": "stream",
     "text": [
      " 59% 59/100 [00:12<00:08,  4.62it/s])\u001b[0m \n",
      " 60% 60/100 [00:12<00:07,  5.38it/s])\u001b[0m \n"
     ]
    },
    {
     "name": "stdout",
     "output_type": "stream",
     "text": [
      "\u001b[2m\u001b[36m(pid=19683, ip=192.168.8.53)\u001b[0m Cache disk full, cleaning.\n",
      "\u001b[2m\u001b[36m(pid=19683, ip=192.168.8.53)\u001b[0m Cache disk full, cleaning.\n"
     ]
    },
    {
     "name": "stderr",
     "output_type": "stream",
     "text": [
      " 62% 62/100 [00:13<00:06,  5.99it/s])\u001b[0m \n"
     ]
    },
    {
     "name": "stdout",
     "output_type": "stream",
     "text": [
      "\u001b[2m\u001b[36m(pid=19683, ip=192.168.8.53)\u001b[0m Cache disk full, cleaning.\n"
     ]
    },
    {
     "name": "stderr",
     "output_type": "stream",
     "text": [
      " 63% 63/100 [00:13<00:07,  4.74it/s])\u001b[0m \n"
     ]
    },
    {
     "name": "stdout",
     "output_type": "stream",
     "text": [
      "\u001b[2m\u001b[36m(pid=19683, ip=192.168.8.53)\u001b[0m Cache disk full, cleaning.\n",
      "\u001b[2m\u001b[36m(pid=19683, ip=192.168.8.53)\u001b[0m Cache disk full, cleaning.\n"
     ]
    },
    {
     "name": "stderr",
     "output_type": "stream",
     "text": [
      " 64% 64/100 [00:13<00:08,  4.07it/s])\u001b[0m \n",
      " 65% 65/100 [00:13<00:07,  4.85it/s])\u001b[0m \n"
     ]
    },
    {
     "name": "stdout",
     "output_type": "stream",
     "text": [
      "\u001b[2m\u001b[36m(pid=19683, ip=192.168.8.53)\u001b[0m Cache disk full, cleaning.\n",
      "\u001b[2m\u001b[36m(pid=19683, ip=192.168.8.53)\u001b[0m Cache disk full, cleaning.\n",
      "\u001b[2m\u001b[36m(pid=19683, ip=192.168.8.53)\u001b[0m Cache disk full, cleaning.\n"
     ]
    },
    {
     "name": "stderr",
     "output_type": "stream",
     "text": [
      " 66% 66/100 [00:14<00:06,  4.89it/s])\u001b[0m \n",
      " 67% 67/100 [00:14<00:06,  5.50it/s])\u001b[0m \n"
     ]
    },
    {
     "name": "stdout",
     "output_type": "stream",
     "text": [
      "\u001b[2m\u001b[36m(pid=19683, ip=192.168.8.53)\u001b[0m Cache disk full, cleaning.\n"
     ]
    },
    {
     "name": "stderr",
     "output_type": "stream",
     "text": [
      " 69% 69/100 [00:14<00:04,  6.35it/s])\u001b[0m \n",
      " 70% 70/100 [00:14<00:04,  6.24it/s])\u001b[0m \n"
     ]
    },
    {
     "name": "stdout",
     "output_type": "stream",
     "text": [
      "\u001b[2m\u001b[36m(pid=19683, ip=192.168.8.53)\u001b[0m Cache disk full, cleaning.\n",
      "\u001b[2m\u001b[36m(pid=19683, ip=192.168.8.53)\u001b[0m Cache disk full, cleaning.\n"
     ]
    },
    {
     "name": "stderr",
     "output_type": "stream",
     "text": [
      " 71% 71/100 [00:14<00:04,  5.94it/s])\u001b[0m \n",
      " 72% 72/100 [00:14<00:04,  6.64it/s])\u001b[0m \n"
     ]
    },
    {
     "name": "stdout",
     "output_type": "stream",
     "text": [
      "\u001b[2m\u001b[36m(pid=19683, ip=192.168.8.53)\u001b[0m Cache disk full, cleaning.\n",
      "\u001b[2m\u001b[36m(pid=19683, ip=192.168.8.53)\u001b[0m Cache disk full, cleaning.\n",
      "\u001b[2m\u001b[36m(pid=19683, ip=192.168.8.53)\u001b[0m Cache disk full, cleaning.\n"
     ]
    },
    {
     "name": "stderr",
     "output_type": "stream",
     "text": [
      " 73% 73/100 [00:15<00:04,  5.83it/s])\u001b[0m \n",
      " 74% 74/100 [00:15<00:04,  6.15it/s])\u001b[0m \n"
     ]
    },
    {
     "name": "stdout",
     "output_type": "stream",
     "text": [
      "\u001b[2m\u001b[36m(pid=19683, ip=192.168.8.53)\u001b[0m Cache disk full, cleaning.\n",
      "\u001b[2m\u001b[36m(pid=19683, ip=192.168.8.53)\u001b[0m Cache disk full, cleaning.\n",
      "\u001b[2m\u001b[36m(pid=19683, ip=192.168.8.53)\u001b[0m Cache disk full, cleaning.\n"
     ]
    },
    {
     "name": "stderr",
     "output_type": "stream",
     "text": [
      " 76% 76/100 [00:15<00:03,  6.45it/s])\u001b[0m \n",
      " 77% 77/100 [00:15<00:03,  6.75it/s])\u001b[0m \n"
     ]
    },
    {
     "name": "stdout",
     "output_type": "stream",
     "text": [
      "\u001b[2m\u001b[36m(pid=19683, ip=192.168.8.53)\u001b[0m Cache disk full, cleaning.\n",
      "\u001b[2m\u001b[36m(pid=19683, ip=192.168.8.53)\u001b[0m Cache disk full, cleaning.\n"
     ]
    },
    {
     "name": "stderr",
     "output_type": "stream",
     "text": [
      " 78% 78/100 [00:15<00:03,  6.96it/s])\u001b[0m \n",
      " 79% 79/100 [00:15<00:02,  7.46it/s])\u001b[0m \n"
     ]
    },
    {
     "name": "stdout",
     "output_type": "stream",
     "text": [
      "\u001b[2m\u001b[36m(pid=19683, ip=192.168.8.53)\u001b[0m Cache disk full, cleaning.\n",
      "\u001b[2m\u001b[36m(pid=19683, ip=192.168.8.53)\u001b[0m Cache disk full, cleaning.\n"
     ]
    },
    {
     "name": "stderr",
     "output_type": "stream",
     "text": [
      " 80% 80/100 [00:15<00:02,  7.56it/s])\u001b[0m \n",
      " 81% 81/100 [00:16<00:02,  7.43it/s])\u001b[0m \n"
     ]
    },
    {
     "name": "stdout",
     "output_type": "stream",
     "text": [
      "\u001b[2m\u001b[36m(pid=19683, ip=192.168.8.53)\u001b[0m Cache disk full, cleaning.\n"
     ]
    },
    {
     "name": "stderr",
     "output_type": "stream",
     "text": [
      " 82% 82/100 [00:16<00:02,  6.96it/s])\u001b[0m \n"
     ]
    },
    {
     "name": "stdout",
     "output_type": "stream",
     "text": [
      "\u001b[2m\u001b[36m(pid=19683, ip=192.168.8.53)\u001b[0m Cache disk full, cleaning.\n",
      "\u001b[2m\u001b[36m(pid=19683, ip=192.168.8.53)\u001b[0m Cache disk full, cleaning.\n"
     ]
    },
    {
     "name": "stderr",
     "output_type": "stream",
     "text": [
      " 83% 83/100 [00:16<00:03,  5.24it/s])\u001b[0m \n",
      " 84% 84/100 [00:16<00:02,  5.67it/s])\u001b[0m \n"
     ]
    },
    {
     "name": "stdout",
     "output_type": "stream",
     "text": [
      "\u001b[2m\u001b[36m(pid=19683, ip=192.168.8.53)\u001b[0m Cache disk full, cleaning.\n",
      "\u001b[2m\u001b[36m(pid=19683, ip=192.168.8.53)\u001b[0m Cache disk full, cleaning.\n"
     ]
    },
    {
     "name": "stderr",
     "output_type": "stream",
     "text": [
      " 86% 86/100 [00:16<00:02,  6.33it/s])\u001b[0m \n",
      " 87% 87/100 [00:17<00:01,  6.83it/s])\u001b[0m \n"
     ]
    },
    {
     "name": "stdout",
     "output_type": "stream",
     "text": [
      "\u001b[2m\u001b[36m(pid=19683, ip=192.168.8.53)\u001b[0m Cache disk full, cleaning.\n",
      "\u001b[2m\u001b[36m(pid=19683, ip=192.168.8.53)\u001b[0m Cache disk full, cleaning.\n",
      "\u001b[2m\u001b[36m(pid=19683, ip=192.168.8.53)\u001b[0m Cache disk full, cleaning.\n"
     ]
    },
    {
     "name": "stderr",
     "output_type": "stream",
     "text": [
      " 89% 89/100 [00:17<00:01,  7.75it/s])\u001b[0m \n"
     ]
    },
    {
     "name": "stdout",
     "output_type": "stream",
     "text": [
      "\u001b[2m\u001b[36m(pid=19683, ip=192.168.8.53)\u001b[0m Cache disk full, cleaning.\n",
      "\u001b[2m\u001b[36m(pid=19683, ip=192.168.8.53)\u001b[0m Cache disk full, cleaning.\n"
     ]
    },
    {
     "name": "stderr",
     "output_type": "stream",
     "text": [
      " 90% 90/100 [00:17<00:01,  5.49it/s])\u001b[0m \n"
     ]
    },
    {
     "name": "stdout",
     "output_type": "stream",
     "text": [
      "\u001b[2m\u001b[36m(pid=19683, ip=192.168.8.53)\u001b[0m Cache disk full, cleaning.\n"
     ]
    },
    {
     "name": "stderr",
     "output_type": "stream",
     "text": [
      " 92% 92/100 [00:17<00:01,  6.34it/s])\u001b[0m \n",
      " 93% 93/100 [00:17<00:01,  5.78it/s])\u001b[0m \n"
     ]
    },
    {
     "name": "stdout",
     "output_type": "stream",
     "text": [
      "\u001b[2m\u001b[36m(pid=19683, ip=192.168.8.53)\u001b[0m Cache disk full, cleaning.\n",
      "\u001b[2m\u001b[36m(pid=19683, ip=192.168.8.53)\u001b[0m Cache disk full, cleaning.\n"
     ]
    },
    {
     "name": "stderr",
     "output_type": "stream",
     "text": [
      " 94% 94/100 [00:18<00:00,  6.07it/s])\u001b[0m \n",
      " 95% 95/100 [00:18<00:00,  6.72it/s])\u001b[0m \n"
     ]
    },
    {
     "name": "stdout",
     "output_type": "stream",
     "text": [
      "\u001b[2m\u001b[36m(pid=19683, ip=192.168.8.53)\u001b[0m Cache disk full, cleaning.\n",
      "\u001b[2m\u001b[36m(pid=19683, ip=192.168.8.53)\u001b[0m Cache disk full, cleaning.\n",
      "\u001b[2m\u001b[36m(pid=19683, ip=192.168.8.53)\u001b[0m Cache disk full, cleaning.\n"
     ]
    },
    {
     "name": "stderr",
     "output_type": "stream",
     "text": [
      " 97% 97/100 [00:18<00:00,  7.57it/s])\u001b[0m \n",
      " 98% 98/100 [00:18<00:00,  7.90it/s])\u001b[0m \n"
     ]
    },
    {
     "name": "stdout",
     "output_type": "stream",
     "text": [
      "\u001b[2m\u001b[36m(pid=19683, ip=192.168.8.53)\u001b[0m Cache disk full, cleaning.\n",
      "\u001b[2m\u001b[36m(pid=19683, ip=192.168.8.53)\u001b[0m Cache disk full, cleaning.\n"
     ]
    },
    {
     "name": "stderr",
     "output_type": "stream",
     "text": [
      " 99% 99/100 [00:18<00:00,  8.42it/s])\u001b[0m \n",
      "100% 100/100 [00:18<00:00,  8.32it/s]\u001b[0m \n"
     ]
    },
    {
     "name": "stdout",
     "output_type": "stream",
     "text": [
      "\u001b[2m\u001b[36m(pid=19683, ip=192.168.8.53)\u001b[0m Cache disk full, cleaning.\n"
     ]
    },
    {
     "name": "stderr",
     "output_type": "stream",
     "text": [
      "100% 100/100 [00:21<00:00,  4.65it/s]\u001b[0m \n",
      "\u001b[2m\u001b[36m(pid=19683, ip=192.168.8.53)\u001b[0m \n",
      "\u001b[2m\u001b[36m(pid=19683, ip=192.168.8.53)\u001b[0m wandb: Waiting for W&B process to finish, PID 12527\n",
      "\u001b[2m\u001b[36m(pid=19683, ip=192.168.8.53)\u001b[0m wandb: Program ended successfully.\n",
      "\u001b[2m\u001b[36m(pid=19683, ip=192.168.8.53)\u001b[0m wandb: Run summary:\n",
      "\u001b[2m\u001b[36m(pid=19683, ip=192.168.8.53)\u001b[0m wandb:               _step 117698\n",
      "\u001b[2m\u001b[36m(pid=19683, ip=192.168.8.53)\u001b[0m wandb:            _runtime 1100.9819815158844\n",
      "\u001b[2m\u001b[36m(pid=19683, ip=192.168.8.53)\u001b[0m wandb:          _timestamp 1608048768.0554519\n",
      "\u001b[2m\u001b[36m(pid=19683, ip=192.168.8.53)\u001b[0m wandb:     mAP all classes 54.86707755241858\n",
      "\u001b[2m\u001b[36m(pid=19683, ip=192.168.8.53)\u001b[0m wandb: Syncing files in ../../../Trainings/wandb/wandb/run-20201215_161218-2wfg5hig:\n",
      "\u001b[2m\u001b[36m(pid=19683, ip=192.168.8.53)\u001b[0m wandb:   code/default_worker.py\n",
      "\u001b[2m\u001b[36m(pid=19683, ip=192.168.8.53)\u001b[0m wandb: plus 8 W&B file(s) and 6 media file(s)\n",
      "\u001b[2m\u001b[36m(pid=19683, ip=192.168.8.53)\u001b[0m wandb: - 0.01MB of 0.01MB uploaded\n",
      "\u001b[2m\u001b[36m(pid=19683, ip=192.168.8.53)\u001b[0m wandb: \\ 0.95MB of 0.95MB uploaded\n",
      "\u001b[2m\u001b[36m(pid=19683, ip=192.168.8.53)\u001b[0m wandb: | 0.95MB of 0.95MB uploaded\n",
      "\u001b[2m\u001b[36m(pid=19683, ip=192.168.8.53)\u001b[0m wandb: / 0.95MB of 0.95MB uploaded\n",
      "\u001b[2m\u001b[36m(pid=19683, ip=192.168.8.53)\u001b[0m wandb: - 0.95MB of 0.95MB uploaded\n",
      "wandb:                                                                                \n",
      "\u001b[2m\u001b[36m(pid=19683, ip=192.168.8.53)\u001b[0m wandb: Synced: http://192.168.8.51:8080/reminiz/Violence%20Detection/runs/2wfg5hig\n",
      "\u001b[2m\u001b[36m(pid=19481)\u001b[0m /home/reminiz/ReminizML2/python_env/lib/python3.7/site-packages/tensorflow/python/framework/dtypes.py:526: FutureWarning: Passing (type, 1) or '1type' as a synonym of type is deprecated; in a future version of numpy, it will be understood as (type, (1,)) / '(1,)type'.\n",
      "\u001b[2m\u001b[36m(pid=19481)\u001b[0m   _np_qint8 = np.dtype([(\"qint8\", np.int8, 1)])\n",
      "\u001b[2m\u001b[36m(pid=19481)\u001b[0m /home/reminiz/ReminizML2/python_env/lib/python3.7/site-packages/tensorflow/python/framework/dtypes.py:527: FutureWarning: Passing (type, 1) or '1type' as a synonym of type is deprecated; in a future version of numpy, it will be understood as (type, (1,)) / '(1,)type'.\n",
      "\u001b[2m\u001b[36m(pid=19481)\u001b[0m   _np_quint8 = np.dtype([(\"quint8\", np.uint8, 1)])\n",
      "\u001b[2m\u001b[36m(pid=19481)\u001b[0m /home/reminiz/ReminizML2/python_env/lib/python3.7/site-packages/tensorflow/python/framework/dtypes.py:528: FutureWarning: Passing (type, 1) or '1type' as a synonym of type is deprecated; in a future version of numpy, it will be understood as (type, (1,)) / '(1,)type'.\n",
      "\u001b[2m\u001b[36m(pid=19481)\u001b[0m   _np_qint16 = np.dtype([(\"qint16\", np.int16, 1)])\n",
      "\u001b[2m\u001b[36m(pid=19481)\u001b[0m /home/reminiz/ReminizML2/python_env/lib/python3.7/site-packages/tensorflow/python/framework/dtypes.py:529: FutureWarning: Passing (type, 1) or '1type' as a synonym of type is deprecated; in a future version of numpy, it will be understood as (type, (1,)) / '(1,)type'.\n",
      "\u001b[2m\u001b[36m(pid=19481)\u001b[0m   _np_quint16 = np.dtype([(\"quint16\", np.uint16, 1)])\n",
      "\u001b[2m\u001b[36m(pid=19481)\u001b[0m /home/reminiz/ReminizML2/python_env/lib/python3.7/site-packages/tensorflow/python/framework/dtypes.py:530: FutureWarning: Passing (type, 1) or '1type' as a synonym of type is deprecated; in a future version of numpy, it will be understood as (type, (1,)) / '(1,)type'.\n",
      "\u001b[2m\u001b[36m(pid=19481)\u001b[0m   _np_qint32 = np.dtype([(\"qint32\", np.int32, 1)])\n",
      "\u001b[2m\u001b[36m(pid=19481)\u001b[0m /home/reminiz/ReminizML2/python_env/lib/python3.7/site-packages/tensorflow/python/framework/dtypes.py:535: FutureWarning: Passing (type, 1) or '1type' as a synonym of type is deprecated; in a future version of numpy, it will be understood as (type, (1,)) / '(1,)type'.\n",
      "\u001b[2m\u001b[36m(pid=19481)\u001b[0m   np_resource = np.dtype([(\"resource\", np.ubyte, 1)])\n"
     ]
    }
   ],
   "source": [
    "from train_agent_cifar_keras import Active_Learning_train\n",
    "\n",
    "\n",
    "num_run =0\n",
    "initial_weight_path = os.path.join(config['PROJECT']['group_dir'],'Stage_'+str(num_run-1),'checkpoint','epoch200.ckpt-200')\n",
    "initial_weight_path = False\n",
    "\n",
    "for num_run in range(10):\n",
    "    prev_num_run = num_run-1\n",
    "    if num_run==0:\n",
    "        resume_model_path = False\n",
    "    else:\n",
    "        resume_model_path = os.path.join(config['PROJECT']['group_dir'],'Stage_'+str(num_run-1),'checkpoints','checkpoint.200.hdf5')\n",
    "        \n",
    "        \n",
    "    NetworkActor =  Active_Learning_train.remote(config, labeled_set, test_set,  num_run, resume_model_path, resume=False)\n",
    "    NetworkActor.start_training.remote()\n",
    "    \n",
    "    # Wait util the model is training\n",
    "    while True:\n",
    "        time.sleep(10)\n",
    "        try:\n",
    "            progress_id = NetworkActor.isTraining.remote()\n",
    "            response = ray.get(progress_id)\n",
    "            break\n",
    "        except:\n",
    "            pass\n",
    "        \n",
    "    # wait until the model finish training\n",
    "    while True:\n",
    "        time.sleep(10)\n",
    "        progress_id = NetworkActor.isTraining.remote()\n",
    "        response = ray.get(progress_id)\n",
    "        if not response:\n",
    "            break\n",
    "    \n",
    "    NetworkActor.__ray_terminate__.remote()\n",
    "    \n",
    "    del NetworkActor\n",
    "\n",
    "    num_images = (num_run+2)*config[\"RUNS\"][\"ADDENDUM\"]\n",
    "    labeled_set = indices[: num_images]\n",
    "    unlabeled_set = indices[num_images :]"
   ]
  },
  {
   "cell_type": "raw",
   "metadata": {},
   "source": [
    "    if config[\"TRAIN\"][\"w_l_loss\"] > 0:\n",
    "        \n",
    "        weight_file = os.path.join(config['PROJECT']['group_dir'],'Stage_'+str(num_run),'checkpoint','epoch200.ckpt-200')\n",
    "        \n",
    "        AL_inference = Active_Learning_inference.remote( config, unlabeled_set, num_run, weight_file)\n",
    "        AL_inference.evaluate.remote()\n",
    "\n",
    "        run_dir   = os.path.join(config[\"PROJECT\"][\"group_dir\"],\"Stage_\"+str(num_run))\n",
    "        ordered_indexes   = os.path.join(run_dir, \"ordered_indexes.csv\")\n",
    "\n",
    "        # wait the file qith the scores is generated\n",
    "        while True:\n",
    "            time.sleep(10)\n",
    "            if os.path.isfile(ordered_indexes):\n",
    "                break\n",
    "\n",
    "        # read the scores file and create the new labeled set and unlabeled set to repeat the trainig\n",
    "        pd_ordered_indexes = pd.read_csv(ordered_indexes)\n",
    "        new_annotated_data = list(pd_ordered_indexes.iloc[:config[\"RUNS\"][\"ADDENDUM\"]]['indexes'].to_numpy())\n",
    "        labeled_set += new_annotated_data\n",
    "        unlabeled_set =  list(pd_ordered_indexes.iloc[config[\"RUNS\"][\"ADDENDUM\"]:]['indexes'].to_numpy())\n",
    "    else :"
   ]
  }
 ],
 "metadata": {
  "kernelspec": {
   "display_name": "Python 3",
   "language": "python",
   "name": "python3"
  },
  "language_info": {
   "codemirror_mode": {
    "name": "ipython",
    "version": 3
   },
   "file_extension": ".py",
   "mimetype": "text/x-python",
   "name": "python",
   "nbconvert_exporter": "python",
   "pygments_lexer": "ipython3",
   "version": "3.7.7"
  }
 },
 "nbformat": 4,
 "nbformat_minor": 4
}
